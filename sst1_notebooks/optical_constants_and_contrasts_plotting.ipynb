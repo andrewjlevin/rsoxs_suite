{
 "cells": [
  {
   "cell_type": "markdown",
   "id": "cdf89f4f-869c-4505-aa0a-96744f9854b5",
   "metadata": {
    "tags": []
   },
   "source": [
    "## Imports and setup"
   ]
  },
  {
   "cell_type": "code",
   "execution_count": null,
   "id": "1ac2fa1e-309b-4ee9-83bc-33cac93c3a7d",
   "metadata": {},
   "outputs": [],
   "source": [
    "# Imports:\n",
    "import pathlib\n",
    "import subprocess\n",
    "import io\n",
    "import numpy as np\n",
    "import matplotlib.pyplot as plt\n",
    "import matplotlib as mpl\n",
    "import xarray as xr\n",
    "import pandas as pd\n",
    "import dask.array as da\n",
    "from tqdm.auto import tqdm"
   ]
  },
  {
   "cell_type": "code",
   "execution_count": null,
   "id": "043da1af-192f-4852-b284-6bd6403cfb86",
   "metadata": {},
   "outputs": [],
   "source": [
    "# Define paths\n",
    "\n",
    "propPath = pathlib.Path('/nsls2/data/sst/proposals/2023-3/pass-313412')\n",
    "outPath = propPath.joinpath('processed_data')\n",
    "plotsPath = outPath.joinpath('nexafs_plots', 'material_optical_constants')\n",
    "zarrsPath = outPath.joinpath('zarrs')"
   ]
  },
  {
   "cell_type": "code",
   "execution_count": null,
   "id": "2e1d8365-ed1d-4c0b-acf5-35802e04870a",
   "metadata": {},
   "outputs": [],
   "source": [
    "# Define functions\n",
    "\n",
    "def binary_contrast(n1, n2=None):\n",
    "    if n2 is None:\n",
    "        #second component is vacuum\n",
    "        n2 = xr.zeros_like(n1)\n",
    "    else:\n",
    "        #second is interpolated to match the energy array of the first component.  \n",
    "        n2 = n2.interp(energy=n1.energy)\n",
    "    return n1.energy**4 * ((n1.delta-n2.delta)**2 + (n1.beta-n2.beta)**2)"
   ]
  },
  {
   "cell_type": "markdown",
   "id": "8c1cb8de-44f0-4d91-bb80-a51602fe4041",
   "metadata": {
    "tags": []
   },
   "source": [
    "## Load optical constants dataset"
   ]
  },
  {
   "cell_type": "code",
   "execution_count": null,
   "id": "d0aa3634-b3b8-4c84-89c6-cb9c3be7c032",
   "metadata": {},
   "outputs": [],
   "source": [
    "oc_DS = xr.open_zarr(zarrsPath.joinpath(f'material_optical_constants.zarr')).sortby('theta')\n",
    "\n",
    "# Compute any dask coordiantes\n",
    "for coord_name, coord_data in oc_DS.coords.items():\n",
    "    if isinstance(coord_data.data, da.Array):\n",
    "        oc_DS.coords[coord_name] = coord_data.compute()\n",
    "        \n",
    "oc_DS"
   ]
  },
  {
   "cell_type": "markdown",
   "id": "118ba042-26fa-4612-ace2-09293a365222",
   "metadata": {},
   "source": [
    "## Orientational self contrast plots"
   ]
  },
  {
   "cell_type": "code",
   "execution_count": null,
   "id": "6b057d20-b6a7-47de-9fc6-d16b0206f6b8",
   "metadata": {},
   "outputs": [],
   "source": [
    "# PM6\n",
    "\n",
    "# DS = oc_DS.sel(sample_name='PM6_CBCN_rot')\n",
    "# binary_contrast(DS.sel(theta=0), DS.sel(theta=90)).sel(energy=slice(275,300)).plot(yscale='log')\n",
    "    \n",
    "colors = plt.cm.plasma_r(np.linspace(0.05,1,len(oc_DS.theta)))\n",
    "# pm6_oc_DS = oc_DS.sel(sample_name='PM6_CBCN_rot', drop=True)\n",
    "\n",
    "\n",
    "for sample_name in tqdm(oc_DS.sample_name.values):\n",
    "    samp_oc_DS = oc_DS.sel(sample_name=sample_name, drop=True)\n",
    "    for energy_slice in [slice(282,290)]:\n",
    "        fig, ax = plt.subplots(figsize=(6,4), dpi=120)\n",
    "        binary_contrast(samp_oc_DS.sel(theta=0), samp_oc_DS.sel(theta=90)).sel(energy=energy_slice).plot(ax=ax)\n",
    "        ax.set(title=f'Self-orientational contrasts: {sample_name}', \n",
    "               yscale='log', ylabel='Contrast [arb. units]', xlabel='Photon Energy [eV]')\n",
    "        ax.grid(axis='x')\n",
    "        # plt.subplots_adjust(bottom=0.2, left=0.2, top=0.87)\n",
    "\n",
    "\n",
    "        # fig.savefig(plotsPath.joinpath('binary', f'PM6-{sample_name}_energy{energy_slice.start}-{energy_slice.stop}.png'), dpi=120)\n",
    "\n",
    "        plt.show()\n",
    "        plt.close('all')"
   ]
  },
  {
   "cell_type": "markdown",
   "id": "62e583f7-ef0e-4b81-9dcf-ebb5ad339bb4",
   "metadata": {
    "tags": []
   },
   "source": [
    "## Material optical constants and vacuum contrast manifolds"
   ]
  },
  {
   "cell_type": "code",
   "execution_count": null,
   "id": "dc0976ac-0dd4-46f4-8ce4-2dcddda5c93d",
   "metadata": {
    "tags": []
   },
   "outputs": [],
   "source": [
    "colors = plt.cm.plasma_r(np.linspace(0.05,1,len(oc_DS.theta)))\n",
    "figsize = (6,4)\n",
    "# sample_name = str(oc_DS.sample_name.values)\n",
    "\n",
    "# for sample_name in tqdm(oc_DS.sample_name.values):\n",
    "for sample_name in tqdm(['PM6_CBCN_rot']):\n",
    "    samp_oc_DS = oc_DS.sel(sample_name=sample_name)\n",
    "    \n",
    "    for data_var in ['delta', 'beta']:\n",
    "        \n",
    "        yscale = 'log' if data_var == 'vacuum_contrast' else 'linear'\n",
    "        ylabel = 'Contrast [arb. units]' if data_var == 'vacuum_contrast' else f'$\\{data_var}$ [arb. units]'\n",
    "        \n",
    "        for energy_slice in [slice(282,290), slice(282,320), slice(None,None)]:\n",
    "            fig, ax = plt.subplots(figsize=figsize, dpi=120)\n",
    "            for i, theta_val in enumerate(oc_DS.theta.values):\n",
    "                samp_oc_DS[data_var].sel(theta=theta_val, energy=energy_slice).plot(ax=ax, color=colors[i])\n",
    "\n",
    "            samp_oc_DS[data_var].sel(theta=55, method='nearest').sel(energy=energy_slice).plot(ax=ax, color='paleturquoise', label='magic (composition)')\n",
    "            samp_oc_DS[data_var].sel(theta=90, method='nearest').sel(energy=energy_slice).plot(ax=ax, color=colors[-1], label='ordinary ($\\\\theta=90°$)')\n",
    "            samp_oc_DS[data_var].sel(theta=0, method='nearest').sel(energy=energy_slice).plot(ax=ax, color=colors[0], label='extraordinary ($\\\\theta=0°$)')\n",
    "            \n",
    "            ax.set(title=f'Face-on extrapolated {data_var}: {sample_name}', yscale=yscale, ylabel=ylabel, xlabel='Photon Energy [eV]')\n",
    "            ax.grid(axis='x')\n",
    "            ax.legend(title='Orientation', loc='lower right')\n",
    "            plt.subplots_adjust(bottom=0.2, left=0.2)\n",
    "            \n",
    "            \n",
    "            # fig.savefig(plotsPath.joinpath('single', f'{sample_name}_energy{energy_slice.start}-{energy_slice.stop}_{data_var}_size{figsize[0]}x{figsize[1]}.png'), dpi=120)\n",
    "\n",
    "            plt.show()\n",
    "            plt.close('all')"
   ]
  },
  {
   "cell_type": "markdown",
   "id": "deb3cfe2-60ce-43ff-ae1b-b90f46c99aa5",
   "metadata": {
    "tags": []
   },
   "source": [
    "## Binary Contrast Manifolds"
   ]
  },
  {
   "cell_type": "code",
   "execution_count": null,
   "id": "05f41e2a-903b-4857-8202-6d4c5d072d3d",
   "metadata": {
    "tags": []
   },
   "outputs": [],
   "source": [
    "colors = plt.cm.plasma_r(np.linspace(0.05,1,len(oc_DS.theta)))\n",
    "pm6_oc_DS = oc_DS.sel(sample_name='PM6_CBCN_rot', drop=True)\n",
    "\n",
    "sample_names = sorted((set(oc_DS.sample_name.values) - set(['PM6_CBCN_rot'])))\n",
    "for sample_name in tqdm(sample_names):\n",
    "    for samp_theta in [55]:\n",
    "        samp_oc_DS = oc_DS.sel(sample_name=sample_name, drop=True).sel(theta=samp_theta, method='nearest', drop=True)\n",
    "\n",
    "        for energy_slice in [slice(282,290), slice(282,320), slice(None,None)]:\n",
    "            fig, ax = plt.subplots(figsize=(6,4), dpi=120)\n",
    "            fig.suptitle(f'Face-on extrapolated binary contrast: PM6:{sample_name}', x=0.55)\n",
    "            for i, theta_val in enumerate(oc_DS.theta.values):\n",
    "                binary_contrast(pm6_oc_DS, samp_oc_DS).sel(theta=theta_val, energy=energy_slice).plot(ax=ax, color=colors[i])\n",
    "\n",
    "            binary_contrast(pm6_oc_DS, samp_oc_DS).sel(theta=55, method='nearest').sel(energy=energy_slice).plot(ax=ax, color='paleturquoise', label='PM6 magic ($\\\\theta=55°$)')\n",
    "            binary_contrast(pm6_oc_DS, samp_oc_DS).sel(theta=90, method='nearest').sel(energy=energy_slice).plot(ax=ax, color=colors[-1], label='PM6 ordinary ($\\\\theta=90°$)')\n",
    "            binary_contrast(pm6_oc_DS, samp_oc_DS).sel(theta=0, method='nearest').sel(energy=energy_slice).plot(ax=ax, color=colors[0], label='PM6 extraordinary ($\\\\theta=0°$)')\n",
    "            ax.set(title=f'Full PM6 orientation manifold, {sample_name} $\\\\theta$ = {samp_theta}°', \n",
    "                   yscale=yscale, ylabel=ylabel, xlabel='Photon Energy [eV]')\n",
    "            ax.set_ylim(bottom=1e1, top=7e4)\n",
    "            ax.grid(axis='x')\n",
    "            ax.legend(title='Orientation', loc='lower right')\n",
    "            plt.subplots_adjust(bottom=0.2, left=0.2, top=0.87)\n",
    "\n",
    "\n",
    "            fig.savefig(plotsPath.joinpath('binary', f'PM6-{sample_name}_energy{energy_slice.start}-{energy_slice.stop}.png'), dpi=120)\n",
    "\n",
    "            # plt.show()\n",
    "            plt.close('all')"
   ]
  },
  {
   "cell_type": "code",
   "execution_count": null,
   "id": "c8361f89-82fc-4192-9eee-75ff01e59598",
   "metadata": {},
   "outputs": [],
   "source": [
    "colors = plt.cm.plasma_r(np.linspace(0.05,1,len(oc_DS.theta)))\n",
    "pm6_oc_DS = oc_DS.sel(sample_name='PM6_CBCN_rot', drop=True)\n",
    "\n",
    "sample_names = sorted((set(oc_DS.sample_name.values) - set(['PM6_CBCN_rot'])))\n",
    "for sample_name in tqdm(sample_names):\n",
    "    for energy_slice in [slice(282,290), slice(282,320), slice(None,None)]:\n",
    "        # energy_slice = slice(282,290)\n",
    "        output_path = plotsPath.joinpath('binary', f'PM6-{sample_name}_energy{energy_slice.start}-{energy_slice.stop}.mp4')\n",
    "\n",
    "        # FFmpeg command. This is set up to accept data from the pipe and use it as input, with PNG format.\n",
    "        # It will then output an H.264 encoded MP4 video.\n",
    "        cmd = [\n",
    "            'ffmpeg',\n",
    "            '-y',  # Overwrite output file if it exists\n",
    "            '-f', 'image2pipe',\n",
    "            '-vcodec', 'png',\n",
    "            '-r', '20',  # Frame rate\n",
    "            '-i', '-',  # The input comes from a pipe\n",
    "            '-vcodec', 'libx264',\n",
    "            '-pix_fmt', 'yuv420p',\n",
    "            '-crf', '17',  # Set the quality (lower is better, 17 is often considered visually lossless)\n",
    "            str(output_path)\n",
    "        ]\n",
    "\n",
    "        # Start the subprocess\n",
    "        proc = subprocess.Popen(cmd, stdin=subprocess.PIPE, stdout=subprocess.PIPE, stderr=subprocess.PIPE)    \n",
    "\n",
    "        for samp_theta in tqdm(np.linspace(0, 90, 50), desc=f'Making movie for PM6:{sample_name}'):\n",
    "            samp_oc_DS = oc_DS.sel(sample_name=sample_name, drop=True).sel(theta=samp_theta, method='nearest', drop=True)\n",
    "\n",
    "            # Plot\n",
    "            fig, ax = plt.subplots(figsize=(6,4), dpi=120)\n",
    "            fig.suptitle(f'Face-on extrapolated binary contrast: PM6:{sample_name}', x=0.55)\n",
    "            for i, theta_val in enumerate(oc_DS.theta.values):\n",
    "                binary_contrast(pm6_oc_DS, samp_oc_DS).sel(theta=theta_val, energy=energy_slice).plot(ax=ax, color=colors[i])\n",
    "\n",
    "            binary_contrast(pm6_oc_DS, samp_oc_DS).sel(theta=55, method='nearest').sel(energy=energy_slice).plot(ax=ax, color='paleturquoise', label='PM6 magic ($\\\\theta=55°$)')\n",
    "            binary_contrast(pm6_oc_DS, samp_oc_DS).sel(theta=90, method='nearest').sel(energy=energy_slice).plot(ax=ax, color=colors[-1], label='PM6 ordinary ($\\\\theta=90°$)')\n",
    "            binary_contrast(pm6_oc_DS, samp_oc_DS).sel(theta=0, method='nearest').sel(energy=energy_slice).plot(ax=ax, color=colors[0], label='PM6 extraordinary ($\\\\theta=0°$)')\n",
    "            ax.set(title=f'Full PM6 orientation manifold, {sample_name} $\\\\theta$ = {np.round(samp_theta, 1)}°', \n",
    "                   yscale=yscale, ylabel=ylabel, xlabel='Photon Energy [eV]')\n",
    "            ax.set_ylim(bottom=1e1, top=7e4)\n",
    "            ax.grid(axis='x')\n",
    "            ax.legend(title='Orientation', loc='lower right')\n",
    "            plt.subplots_adjust(bottom=0.2, left=0.2, top=0.87)\n",
    "\n",
    "            # Save figure to a PNG buffer\n",
    "            buf = io.BytesIO()\n",
    "            ax.figure.savefig(buf, format='png')\n",
    "            buf.seek(0)\n",
    "\n",
    "            # Write the PNG buffer data to the process\n",
    "            proc.stdin.write(buf.getvalue())\n",
    "            plt.close('all')\n",
    "\n",
    "        # Finish the subprocess\n",
    "        out, err = proc.communicate()\n",
    "        if proc.returncode != 0:\n",
    "            print(f\"Error: {err}\")            "
   ]
  },
  {
   "cell_type": "code",
   "execution_count": null,
   "id": "90a8610c-9f31-418a-b71e-18479a1ad46f",
   "metadata": {
    "tags": []
   },
   "outputs": [],
   "source": [
    "for sample_name in oc_DS.sample_name.values:\n",
    "    fig, ax = plt.subplots(figsize=(5.5, 3.5), dpi=120)\n",
    "    oc_DS.sel(theta=55, method='nearest').sel(sample_name=sample_name, energy=slice(282,290))['vacuum_contrast'].plot(ax=ax, yscale='log')\n",
    "    \n",
    "    ax.set(title=f'Magic Angle Vacuum Contrast: {sample_name}', ylabel='Contrast [arb. units]', xlabel='Photon Energy [eV]')\n",
    "    ax.grid(axis='x')    \n",
    "    plt.subplots_adjust(left=0.2, bottom=0.2)\n",
    "    \n",
    "    # fig.savefig(plotsPath.joinpath(f'{sample_name}_magic_vacuum_contrast.png'), dpi=120)\n",
    "    plt.show()\n",
    "    plt.close('all')"
   ]
  },
  {
   "cell_type": "markdown",
   "id": "462ac2cb-3a5a-46f6-ba1f-caf92d2057ea",
   "metadata": {
    "jp-MarkdownHeadingCollapsed": true,
    "tags": []
   },
   "source": [
    "## Orientation manifold vacuum contrasts"
   ]
  },
  {
   "cell_type": "code",
   "execution_count": null,
   "id": "7f5a022d-91ce-4e73-9b12-c835aa8ffd9d",
   "metadata": {},
   "outputs": [],
   "source": [
    "# # Example: Assuming you want to plot for a specific 'sample_name'\n",
    "# sample = 'Y6_CF'  # Replace with the actual sample name you want to plot\n",
    "\n",
    "# # Extract the data for the lines\n",
    "# theta0_line = oc_DS['vacuum_contrast'].sel(sample_name=sample, theta=0)\n",
    "# theta55_line = oc_DS['vacuum_contrast'].sel(sample_name=sample, theta=55)\n",
    "# theta90_line = oc_DS['vacuum_contrast'].sel(sample_name=sample, theta=90)\n",
    "# energy = oc_DS['energy'].data\n",
    "\n",
    "# # Create a figure and axis\n",
    "# fig, ax = plt.subplots(figsize=(5.5,3.5), dpi=120)\n",
    "\n",
    "# # Plot the lines\n",
    "# ax.plot(energy, theta0_line, label='Theta=0')\n",
    "# ax.plot(energy, theta55_line, label='Theta=55', linewidth=2)  # Make Theta=55 line stand out\n",
    "# ax.plot(energy, theta90_line, label='Theta=90')\n",
    "\n",
    "# # Shade the area between Theta=0 and Theta=90\n",
    "# ax.fill_between(energy, theta0_line, theta90_line, color='grey', alpha=0.5)\n",
    "\n",
    "# # # Shade the area between Theta=55 and Theta=90\n",
    "# # ax.fill_between(energy, theta55_line, theta90_line, color='grey', alpha=0.5)\n",
    "\n",
    "# # Adding labels and legend\n",
    "# ax.set(xlim=(282,290), yscale='log', xlabel='Photon Energy [eV]', ylabel='Contrast [arb. units]')\n",
    "# ax.legend(loc='lower right')\n",
    "\n",
    "# # Show the plot\n",
    "# plt.show()\n"
   ]
  },
  {
   "cell_type": "code",
   "execution_count": null,
   "id": "5f24ab7f-0683-495f-b055-9020c8f08290",
   "metadata": {},
   "outputs": [],
   "source": []
  }
 ],
 "metadata": {
  "kernelspec": {
   "display_name": "Python 3 (ipykernel)",
   "language": "python",
   "name": "python3"
  },
  "language_info": {
   "codemirror_mode": {
    "name": "ipython",
    "version": 3
   },
   "file_extension": ".py",
   "mimetype": "text/x-python",
   "name": "python",
   "nbconvert_exporter": "python",
   "pygments_lexer": "ipython3",
   "version": "3.11.6"
  }
 },
 "nbformat": 4,
 "nbformat_minor": 5
}
