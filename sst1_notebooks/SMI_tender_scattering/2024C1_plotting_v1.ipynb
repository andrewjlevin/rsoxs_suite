{
 "cells": [
  {
   "cell_type": "markdown",
   "id": "e0f02f27-e0ae-4810-bf03-a00186d6a001",
   "metadata": {},
   "source": [
    "# 2024C1 SMI waxs trexs plotting notebook for SMI"
   ]
  },
  {
   "cell_type": "code",
   "execution_count": null,
   "id": "a555dd3c-baf9-448c-8c51-4f1d84231b36",
   "metadata": {
    "tags": []
   },
   "outputs": [],
   "source": [
    "import pathlib\n",
    "import numpy as np\n",
    "import matplotlib.pyplot as plt\n",
    "import xarray as xr\n",
    "from tqdm.auto import tqdm \n",
    "import subprocess\n",
    "import io"
   ]
  },
  {
   "cell_type": "code",
   "execution_count": null,
   "id": "1df0e406-f40f-46c1-885a-6a3ea70bdc3a",
   "metadata": {
    "tags": []
   },
   "outputs": [],
   "source": [
    "import zarr"
   ]
  },
  {
   "cell_type": "code",
   "execution_count": null,
   "id": "aac79faa-dfc5-4e73-a76b-1092cd55541a",
   "metadata": {
    "tags": []
   },
   "outputs": [],
   "source": [
    "# Define paths\n",
    "propPath = pathlib.Path('/nsls2/data/smi/proposals/2024-1/pass-314903')\n",
    "outPath = propPath.joinpath('AL_processed_data')\n",
    "sampleZarrsPath = outPath.joinpath('sample_zarrs')\n",
    "\n",
    "rawPaths = propPath.joinpath('raw_04')\n",
    "waxsPath = rawPaths.joinpath('900KW')"
   ]
  },
  {
   "cell_type": "code",
   "execution_count": null,
   "id": "011097a0-93e6-4ed6-8d10-b5536226b44b",
   "metadata": {
    "tags": []
   },
   "outputs": [],
   "source": [
    "unique_sample_names = sorted(set(['_'.join(f.name.split('_')[1:3]) for f in sampleZarrsPath.glob('*')]))\n",
    "unique_sample_names"
   ]
  },
  {
   "cell_type": "code",
   "execution_count": null,
   "id": "a6bdc6b2-a95c-4b14-a898-d5ec4261e18b",
   "metadata": {
    "tags": []
   },
   "outputs": [],
   "source": [
    "recip_DS_rows = []\n",
    "caked_DS_rows = []\n",
    "for sample_name in tqdm(unique_sample_names):\n",
    "    sample_zarrs = sorted(sampleZarrsPath.glob(f'*{sample_name}*'))\n",
    "    # display(sorted([f.name for f in sample_zarrs]))\n",
    "    \n",
    "    samp_recip_DS_rows = []\n",
    "    samp_caked_DS_rows = []\n",
    "    for sample_zarr in sample_zarrs:\n",
    "        if 'recip_' in sample_zarr.name:\n",
    "            recip_DS = xr.open_zarr(sample_zarr)\n",
    "            samp_recip_DS_rows.append(recip_DS)\n",
    "        elif 'caked_' in sample_zarr.name:\n",
    "            caked_DS = xr.open_zarr(sample_zarr)\n",
    "            samp_caked_DS_rows.append(caked_DS)\n",
    "            \n",
    "    recip_DS = xr.concat(samp_recip_DS_rows, 'theta')\n",
    "    recip_DS_rows.append(recip_DS)\n",
    "    \n",
    "    caked_DS = xr.concat(samp_caked_DS_rows, 'theta')\n",
    "    caked_DS_rows.append(caked_DS)\n",
    "    \n",
    "recip_DS = xr.concat(recip_DS_rows, 'sample_name')\n",
    "caked_DS = xr.concat(caked_DS_rows, 'sample_name')"
   ]
  },
  {
   "cell_type": "code",
   "execution_count": null,
   "id": "a67693f1-2ece-42f1-9d3d-a11f588692e8",
   "metadata": {
    "tags": []
   },
   "outputs": [],
   "source": [
    "recip_DS = recip_DS.chunk({'sample_name':1, 'theta':1, 'pix_y': 941, 'pix_x': 867, 'energy':63,})\n",
    "caked_DS = caked_DS.chunk({'sample_name':1, 'theta':1, 'index_y':500,'index_x':500,'energy':63})"
   ]
  },
  {
   "cell_type": "code",
   "execution_count": null,
   "id": "eabb5a37-17cc-4a16-bbf5-ae80dc6d1d60",
   "metadata": {
    "tags": []
   },
   "outputs": [],
   "source": [
    "energy = 2470\n",
    "\n",
    "for sample_name in unique_sample_names:\n",
    "    for theta in [90, 55, 35]:\n",
    "        sliced_DA = recip_DS.sel(sample_name=sample_name, theta=theta).sel(energy=2470, method='nearest')['flatfield_corr']\n",
    "\n",
    "        cmin = sliced_DA.compute().quantile(0.15)\n",
    "        cmax = sliced_DA.compute().quantile(0.995)\n",
    "        ax = sliced_DA.plot.imshow(norm=plt.Normalize(cmin, cmax), cmap=plt.cm.turbo, x='q_x', y='q_y')\n",
    "        ax.axes.set(title=f'{sample_name}: Energy = {energy}, Theta = {theta}')\n",
    "        plt.show()\n",
    "        plt.close('all')"
   ]
  },
  {
   "cell_type": "code",
   "execution_count": null,
   "id": "10b23668-0aa4-4371-b8f3-a04091567aed",
   "metadata": {},
   "outputs": [],
   "source": []
  },
  {
   "cell_type": "markdown",
   "id": "dc5f30d1-afb5-4515-839e-814eef697c22",
   "metadata": {
    "tags": []
   },
   "source": [
    "### 1. Detector movies"
   ]
  },
  {
   "cell_type": "code",
   "execution_count": null,
   "id": "c558b2e5-31ea-46ab-b5a4-4b3adb4c006d",
   "metadata": {
    "tags": []
   },
   "outputs": [],
   "source": [
    "cmap = plt.cm.turbo.copy()\n",
    "cmap.set_bad(cmap.get_under())"
   ]
  },
  {
   "cell_type": "markdown",
   "id": "b0474edb-1489-4400-afa1-0537b35866a5",
   "metadata": {},
   "source": [
    "### recip"
   ]
  },
  {
   "cell_type": "code",
   "execution_count": null,
   "id": "40941c98-ef14-47b3-8907-ba24329efb16",
   "metadata": {
    "tags": []
   },
   "outputs": [],
   "source": [
    "# Select Dataset\n",
    "DS = recip_DS\n",
    "\n",
    "\n",
    "# Select Plotting Parameters\n",
    "energy = 2470\n",
    "pix_size = 500\n",
    "# pix_x_slice = slice(bcx-(pix_size/2), bcx+(pix_size/2))\n",
    "# pix_y_slice = slice(bcy-(pix_size/2), bcy+(pix_size/2))\n",
    "\n",
    "# Select DataArray\n",
    "# sample_name = 'PM6-Y6_3000_dSiN'\n",
    "for sample_name in tqdm(unique_sample_names):\n",
    "    for theta in [90, 55, 35]:\n",
    "        DA = DS.sel(sample_name=sample_name, theta=theta)['flatfield_corr']\n",
    "\n",
    "\n",
    "        # Plot\n",
    "        sliced_DA = DA.sel(energy=energy,method='nearest')\n",
    "        cmin = float(sliced_DA.compute().quantile(0.15))\n",
    "        cmax = float(sliced_DA.compute().quantile(0.995))\n",
    "\n",
    "        ax = sliced_DA.plot.imshow(figsize=(5.5,4.5), x='q_x', y='q_y', cmap=cmap, norm=plt.Normalize(cmin,cmax))\n",
    "        ax.figure.suptitle(f'Photon Energy = {np.round(energy, 1)} eV', fontsize=14, y=0.96)\n",
    "        ax.figure.set_tight_layout(True)\n",
    "        ax.axes.set(aspect='equal', title=f'{sample_name}, $\\\\theta$ = {theta}°', xlabel='q$_x$ [$Å^{-1}$]', ylabel='q$_y$ [$Å^{-1}$]')\n",
    "        ax.colorbar.set_label('Intensity [arb. units]', rotation=270, labelpad=12)\n",
    "        # ax.figure.savefig(outPath.joinpath('waxs_detector_movies_v1', f'{sample_name}_{theta}degth.png'), dpi=120)\n",
    "        plt.show()\n",
    "        plt.close('all')"
   ]
  },
  {
   "cell_type": "code",
   "execution_count": null,
   "id": "544c1f31-c709-4216-9d98-4112819bb234",
   "metadata": {
    "scrolled": true,
    "tags": []
   },
   "outputs": [],
   "source": [
    "# Select Dataset\n",
    "DS = recip_DS\n",
    "\n",
    "# Select DataArray\n",
    "for sample_name in tqdm(unique_sample_names):\n",
    "    for theta in [90, 55, 35]:\n",
    "        DA = DS.sel(sample_name=sample_name, theta=theta)['flatfield_corr']\n",
    "        cmin = float(DA.compute().quantile(0.15))\n",
    "        cmax = float(DA.compute().quantile(0.995))\n",
    "\n",
    "        output_path = outPath.joinpath('waxs_detector_movies_v1', f'{sample_name}_{theta}degth.mp4')\n",
    "\n",
    "        # FFmpeg command. This is set up to accept data from the pipe and use it as input, with PNG format.\n",
    "        # It will then output an H.264 encoded MP4 video.\n",
    "        cmd = [\n",
    "            'ffmpeg',\n",
    "            '-y',  # Overwrite output file if it exists\n",
    "            '-f', 'image2pipe',\n",
    "            '-vcodec', 'png',\n",
    "            '-r', '15',  # Frame rate\n",
    "            '-i', '-',  # The input comes from a pipe\n",
    "            '-vcodec', 'libx264',\n",
    "            '-pix_fmt', 'yuv420p',\n",
    "            '-crf', '17',  # Set the quality (lower is better, 17 is often considered visually lossless)\n",
    "            str(output_path)\n",
    "        ]\n",
    "\n",
    "        # Start the subprocess\n",
    "        proc = subprocess.Popen(cmd, stdin=subprocess.PIPE, stdout=subprocess.PIPE, stderr=subprocess.PIPE)\n",
    "\n",
    "        # Loop through the energy dimension and send frames to FFmpeg\n",
    "        for energy in tqdm(DA.energy.values, desc=f'Making the {sample_name} movie'):\n",
    "            # Make & customize plot\n",
    "            sliced_DA = DA.sel(energy=energy, method='nearest')\n",
    "            \n",
    "            ax = sliced_DA.plot.imshow(figsize=(5.5,4.5), x='q_x', y='q_y', cmap=cmap, norm=plt.Normalize(cmin,cmax))\n",
    "            ax.figure.suptitle(f'Photon Energy = {np.round(energy, 1)} eV', fontsize=14, y=0.96)\n",
    "            ax.figure.set_tight_layout(True)   \n",
    "            ax.axes.set(aspect='equal', title=f'{sample_name}, $\\\\theta$ = {theta}°', xlabel='q$_x$ [$Å^{-1}$]', ylabel='q$_y$ [$Å^{-1}$]')\n",
    "            ax.colorbar.set_label('Intensity [arb. units]', rotation=270, labelpad=12)\n",
    "\n",
    "            # Save figure to a PNG buffer\n",
    "            # ax.figure.savefig(plotsPath.joinpath('detector_movies/frames', f'energy-{round(energy)}_frame-{i:03d}.png'), dpi=120)\n",
    "\n",
    "            buf = io.BytesIO()\n",
    "            ax.figure.savefig(buf, format='png')\n",
    "            buf.seek(0)\n",
    "\n",
    "            # Write the PNG buffer data to the process\n",
    "            proc.stdin.write(buf.getvalue())\n",
    "            plt.close('all')\n",
    "\n",
    "        # Finish the subprocess\n",
    "        out, err = proc.communicate()\n",
    "        if proc.returncode != 0:\n",
    "            print(f\"Error: {err}\")\n"
   ]
  },
  {
   "cell_type": "raw",
   "id": "a618358d-421f-4177-a9dc-0cd9ea8ea2e1",
   "metadata": {},
   "source": [
    "rclone --dry-run copy -P /nsls2/data/smi/proposals/2024-1/pass-314903/AL_processed_data/trexs_plots remote:research/data_analysis/rsoxs_suite/trexs_plots --exclude '*checkpoint*'"
   ]
  },
  {
   "cell_type": "code",
   "execution_count": null,
   "id": "def3f42f-b34e-4890-bd5e-784b42fa69b9",
   "metadata": {},
   "outputs": [],
   "source": []
  },
  {
   "cell_type": "markdown",
   "id": "d18c6234-1e34-4496-a955-321f22134509",
   "metadata": {},
   "source": [
    "### caked"
   ]
  },
  {
   "cell_type": "code",
   "execution_count": null,
   "id": "ead1381e-225f-42ea-a6c0-1d6ae7a89878",
   "metadata": {
    "tags": []
   },
   "outputs": [],
   "source": [
    "# Select Dataset\n",
    "DS = caked_DS\n",
    "\n",
    "\n",
    "# Select Plotting Parameters\n",
    "energy = 2470\n",
    "chi_slice = slice(-150,50)\n",
    "# chi_slice = slice(None,None)\n",
    "\n",
    "qr_slice = slice(None,0.7)\n",
    "# qr_slice = slice(None,None)\n",
    "\n",
    "# Select DataArray\n",
    "# sample_name = 'PM6-Y6_3000_dSiN'\n",
    "for sample_name in tqdm(unique_sample_names):\n",
    "    for theta in [90, 55, 35]:\n",
    "        DA = DS.sel(sample_name=sample_name, theta=theta)['flatfield_corr']\n",
    "\n",
    "\n",
    "        # Plot\n",
    "        sliced_DA = DA.sel(energy=energy,method='nearest').swap_dims({'index_y':'chi','index_x':'q_r'}).sel(\n",
    "            chi=chi_slice, q_r=qr_slice)\n",
    "        cmin = float(sliced_DA.compute().quantile(0.1))\n",
    "        cmax = float(sliced_DA.compute().quantile(0.99))\n",
    "\n",
    "        ax = sliced_DA.plot.imshow(figsize=(5.5,4.5), x='q_r', y='chi', cmap=cmap, norm=plt.Normalize(cmin,cmax))\n",
    "        ax.figure.suptitle(f'Photon Energy = {np.round(energy, 1)} eV', fontsize=14, y=0.96)\n",
    "        ax.figure.set_tight_layout(True)\n",
    "        ax.axes.set(title=f'{sample_name}, $\\\\theta$ = {theta}°', xlabel='q$_r$ [$Å^{-1}$]', ylabel='$\\\\chi$ [°]')\n",
    "        ax.colorbar.set_label('Intensity [arb. units]', rotation=270, labelpad=12)\n",
    "        # ax.figure.savefig(outPath.joinpath('waxs_detector_movies_v1', f'{sample_name}_{theta}degth.png'), dpi=120)\n",
    "        plt.show()\n",
    "        plt.close('all')"
   ]
  },
  {
   "cell_type": "code",
   "execution_count": null,
   "id": "1ff0b61c-12ce-4423-b8da-66b13b03c0ff",
   "metadata": {
    "tags": []
   },
   "outputs": [],
   "source": [
    "caked_DS"
   ]
  },
  {
   "cell_type": "code",
   "execution_count": null,
   "id": "53447a87-5d98-4342-8250-568f46a82a60",
   "metadata": {
    "scrolled": true,
    "tags": []
   },
   "outputs": [],
   "source": [
    "# Select Dataset\n",
    "DS = caked_DS.copy()\n",
    "\n",
    "# plotting parameters\n",
    "chi_slice = slice(-150,50)\n",
    "# chi_slice = slice(None,None)\n",
    "\n",
    "qr_slice = slice(None,0.7)\n",
    "# qr_slice = slice(None,None)\n",
    "\n",
    "# Select DataArray\n",
    "for sample_name in tqdm(unique_sample_names):\n",
    "# for sample_name in tqdm(['PM6_1CN-CB']):\n",
    "    for theta in [90, 55, 35]:\n",
    "        DA = DS.sel(sample_name=sample_name, theta=theta)['flatfield_corr']\n",
    "        cmin = float(DA.compute().quantile(0.15))\n",
    "        cmax = float(DA.compute().quantile(0.995))\n",
    "\n",
    "        output_path = outPath.joinpath('trexs_plots/caked_waxs_detector_movies_v1', f'{sample_name}_{theta}degth.mp4')\n",
    "\n",
    "        # FFmpeg command. This is set up to accept data from the pipe and use it as input, with PNG format.\n",
    "        # It will then output an H.264 encoded MP4 video.\n",
    "        cmd = [\n",
    "            'ffmpeg',\n",
    "            '-y',  # Overwrite output file if it exists\n",
    "            '-f', 'image2pipe',\n",
    "            '-vcodec', 'png',\n",
    "            '-r', '15',  # Frame rate\n",
    "            '-i', '-',  # The input comes from a pipe\n",
    "            '-vcodec', 'libx264',\n",
    "            '-pix_fmt', 'yuv420p',\n",
    "            '-crf', '17',  # Set the quality (lower is better, 17 is often considered visually lossless)\n",
    "            str(output_path)\n",
    "        ]\n",
    "\n",
    "        # Start the subprocess\n",
    "        proc = subprocess.Popen(cmd, stdin=subprocess.PIPE, stdout=subprocess.PIPE, stderr=subprocess.PIPE)\n",
    "\n",
    "        # Loop through the energy dimension and send frames to FFmpeg\n",
    "        for i, energy in enumerate(tqdm(DA.energy.values, desc=f'Making the {sample_name} {theta}° movie')):\n",
    "            # Make & customize plot\n",
    "            sliced_DA = DA.sel(energy=energy,method='nearest').swap_dims(\n",
    "                {'index_y':'chi','index_x':'q_r'}).sel(chi=chi_slice, q_r=qr_slice)\n",
    "            \n",
    "            ax = sliced_DA.plot.imshow(figsize=(5.5,4.5), cmap=cmap, norm=plt.Normalize(cmin,cmax))\n",
    "            ax.figure.suptitle(f'Photon Energy = {np.round(energy, 1)} eV', fontsize=14, y=0.96)\n",
    "            ax.figure.set_tight_layout(True)   \n",
    "            ax.axes.set(title=f'{sample_name}, $\\\\theta$ = {theta}°', xlabel='q$_r$ [$Å^{-1}$]', ylabel='$\\\\chi$ [°]')\n",
    "            ax.colorbar.set_label('Intensity [arb. units]', rotation=270, labelpad=12)\n",
    "\n",
    "            # Save figure if first frame:\n",
    "            if i==0:\n",
    "                ax.figure.savefig(outPath.joinpath('trexs_plots/caked_waxs_detector_movies_v1', f'{sample_name}_{theta}degth.png'), dpi=120)\n",
    "\n",
    "            buf = io.BytesIO()\n",
    "            ax.figure.savefig(buf, format='png')\n",
    "            buf.seek(0)\n",
    "\n",
    "            # Write the PNG buffer data to the process\n",
    "            proc.stdin.write(buf.getvalue())\n",
    "            plt.close('all')\n",
    "\n",
    "        # Finish the subprocess\n",
    "        out, err = proc.communicate()\n",
    "        if proc.returncode != 0:\n",
    "            print(f\"Error: {err}\")\n"
   ]
  },
  {
   "cell_type": "code",
   "execution_count": null,
   "id": "85c13eab-99dd-418d-9433-79a80b35dbd3",
   "metadata": {},
   "outputs": [],
   "source": []
  }
 ],
 "metadata": {
  "kernelspec": {
   "display_name": "Python 3 (ipykernel)",
   "language": "python",
   "name": "python3"
  },
  "language_info": {
   "codemirror_mode": {
    "name": "ipython",
    "version": 3
   },
   "file_extension": ".py",
   "mimetype": "text/x-python",
   "name": "python",
   "nbconvert_exporter": "python",
   "pygments_lexer": "ipython3",
   "version": "3.11.6"
  }
 },
 "nbformat": 4,
 "nbformat_minor": 5
}
