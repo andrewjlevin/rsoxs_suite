{
 "cells": [
  {
   "cell_type": "markdown",
   "id": "33f4cd6c-7a40-4218-9893-505fc5b408aa",
   "metadata": {},
   "source": [
    "# Processing SST1 RSoXS Data"
   ]
  },
  {
   "cell_type": "markdown",
   "id": "5e9f3ff3-1cdc-429b-a22e-7fb81de80b9d",
   "metadata": {},
   "source": [
    "## Pip install and restart kernel "
   ]
  },
  {
   "cell_type": "code",
   "execution_count": null,
   "id": "2d587a4f-fd51-4416-9500-db7c209b6f1e",
   "metadata": {
    "scrolled": true,
    "tags": []
   },
   "outputs": [],
   "source": [
    "# Only needs to be run once per session, restart kernel after running\n",
    "\n",
    "# %pip install pyhyperscattering==0.2.1  # to use pip published package\n",
    "!pip install -e /nsls2/users/alevin/repos/PyHyperScattering  # to use pip to install via directory"
   ]
  },
  {
   "cell_type": "code",
   "execution_count": null,
   "id": "598382d2-7566-4ae0-8254-e9574015a715",
   "metadata": {
    "scrolled": true,
    "tags": []
   },
   "outputs": [],
   "source": [
    "!pip install --pre --upgrade tiled[all] databroker  # bottleneck # needed to fix tiled/databroker error in SST1RSoXSDB"
   ]
  },
  {
   "cell_type": "markdown",
   "id": "1502b74c-ba23-41a8-9150-d69038862abf",
   "metadata": {},
   "source": [
    "## Imports"
   ]
  },
  {
   "cell_type": "code",
   "execution_count": null,
   "id": "dea31dcf-4d9e-4810-a614-33e33fc09b61",
   "metadata": {
    "tags": []
   },
   "outputs": [],
   "source": [
    "## Imports\n",
    "import PyHyperScattering as phs\n",
    "import pathlib\n",
    "import sys\n",
    "import json\n",
    "import datetime\n",
    "import dask.array as da\n",
    "import numpy as np\n",
    "import pandas as pd\n",
    "import xarray as xr\n",
    "import matplotlib.pyplot as plt\n",
    "from matplotlib.colors import LogNorm\n",
    "from tqdm.auto import tqdm\n",
    "import dask.array as da\n",
    "from dask.diagnostics import ProgressBar\n",
    "# from tiled.client import from_profile, from_uri\n",
    "# from matplotlib_inline.backend_inline import set_matplotlib_formats\n",
    "\n",
    "sys.path.append('/nsls2/users/alevin/local_lib')\n",
    "from andrew_rsoxs_fxns import *\n",
    "\n",
    "## Some setup functions\n",
    "# set_matplotlib_formats('svg')\n",
    "print(f'Using PyHyperScattering Version: {phs.__version__}')\n",
    "\n",
    "## Define masks directory path\n",
    "userPath = pathlib.Path('/nsls2/users/alevin')\n",
    "maskPath = userPath.joinpath('masks')\n",
    "jsonPath = userPath.joinpath('local_lib')\n",
    "# propPath = pathlib.Path('/nsls2/data/sst/proposals/2022-2/pass-309180')\n",
    "propPath = pathlib.Path('/nsls2/data/sst/proposals/2023-2/pass-311130')\n",
    "outPath = propPath.joinpath('processed_data')\n",
    "zarrsPath = outPath.joinpath('zarrs')\n",
    "\n",
    "## Set an RSoXS colormap for later\n",
    "cmap = plt.cm.turbo.copy()\n",
    "cmap.set_bad('black')"
   ]
  },
  {
   "cell_type": "markdown",
   "id": "703b8c8b-cd38-498a-834f-ab0f1a09ad8b",
   "metadata": {
    "jp-MarkdownHeadingCollapsed": true,
    "tags": []
   },
   "source": [
    "## Load from local file"
   ]
  },
  {
   "cell_type": "code",
   "execution_count": null,
   "id": "503634fc-be14-410c-9a90-20dcc0588cd7",
   "metadata": {},
   "outputs": [],
   "source": [
    "local_loader = phs.load.SST1RSoXSLoader(corr_mode='none')"
   ]
  },
  {
   "cell_type": "code",
   "execution_count": null,
   "id": "e36dff64-c7dc-46ee-973b-4b63b7f67665",
   "metadata": {},
   "outputs": [],
   "source": [
    "scan_id = '65817'\n",
    "filepath = propPath.joinpath('TRMSN_NEXAFS_and_RSoXS', scan_id)\n",
    "filepath"
   ]
  },
  {
   "cell_type": "code",
   "execution_count": null,
   "id": "6eae6adb-33fd-47ce-96f4-459ccf8a9a91",
   "metadata": {
    "tags": []
   },
   "outputs": [],
   "source": [
    "[f.name for f in filepath.iterdir()]"
   ]
  },
  {
   "cell_type": "code",
   "execution_count": null,
   "id": "6f53bd0b-4580-463a-bc16-7eaead58c5f6",
   "metadata": {
    "jupyter": {
     "source_hidden": true
    },
    "tags": []
   },
   "outputs": [],
   "source": [
    "from PIL import Image\n",
    "from PyHyperScattering.FileLoader import FileLoader\n",
    "import os\n",
    "import pathlib\n",
    "import xarray as xr\n",
    "import pandas as pd\n",
    "import datetime\n",
    "import warnings\n",
    "import json\n",
    "#from pyFAI import azimuthalIntegrator\n",
    "import numpy as np\n",
    "\n",
    "\n",
    "class SST1RSoXSLoader(FileLoader):\n",
    "    '''\n",
    "    Loader for TIFF files from NSLS-II SST1 RSoXS instrument\n",
    "\n",
    "    '''\n",
    "    file_ext = '(.*?)primary(.*?).tiff'\n",
    "    md_loading_is_quick = True\n",
    "    pix_size_1 = 0.06\n",
    "    pix_size_2 = 0.06\n",
    "\n",
    "    def __init__(self,corr_mode=None,user_corr_func=None,dark_pedestal=100,exposure_offset=0,constant_md={},):\n",
    "        '''\n",
    "        Args:\n",
    "            corr_mode (str): origin to use for the intensity correction.  Can be 'expt','i0','expt+i0','user_func','old',or 'none'\n",
    "            user_corr_func (callable): takes the header dictionary and returns the value of the correction.\n",
    "            dark_pedestal (numeric): value to subtract(/add, if negative) to the whole image.  this should match the instrument setting for suitcased tiffs, typically 100.\n",
    "            exposure_offset (numeric): value to add to the exposure time.  Measured at 2ms with the piezo shutter in Dec 2019 by Jacob Thelen, NIST\n",
    "            constant_md (dict): values to insert into every metadata load. \n",
    "        '''\n",
    "\n",
    "        if corr_mode == None:\n",
    "            warnings.warn(\"Correction mode was not set, not performing *any* intensity corrections.  Are you sure this is \"+\n",
    "                          \"right? Set corr_mode to 'none' to suppress this warning.\",stacklevel=2)\n",
    "            self.corr_mode = 'none'\n",
    "        else:\n",
    "            self.corr_mode = corr_mode\n",
    "\n",
    "\n",
    "        self.constant_md = constant_md\n",
    "\n",
    "        self.dark_pedestal = dark_pedestal\n",
    "        self.user_corr_func = user_corr_func\n",
    "        self.exposure_offset = exposure_offset\n",
    "        # self.darks = {}\n",
    "    # def loadFileSeries(self,basepath):\n",
    "    #     try:\n",
    "    #         flist = list(basepath.glob('*primary*.tiff'))\n",
    "    #     except AttributeError:\n",
    "    #         basepath = pathlib.Path(basepath)\n",
    "    #         flist = list(basepath.glob('*primary*.tiff'))\n",
    "    #     print(f'Found {str(len(flist))} files.')\n",
    "    #\n",
    "    #     out = xr.DataArray()\n",
    "    #     for file in flist:\n",
    "    #         single_img = self.loadSingleImage(file)\n",
    "    #         out = xr.concat(out,single_img)\n",
    "    #\n",
    "    #     return out\n",
    "\n",
    "\n",
    "\n",
    "    def loadSingleImage(self,filepath,coords=None, return_q=False,image_slice=None,use_cached_md=False,**kwargs):\n",
    "        '''\n",
    "        HELPER FUNCTION that loads a single image and returns an xarray with either pix_x / pix_y dimensions (if return_q == False) or qx / qy (if return_q == True)\n",
    "\n",
    "\n",
    "        Args:\n",
    "            filepath (Pathlib.path): path of the file to load\n",
    "            coords (dict-like): coordinate values to inject into the metadata\n",
    "            return_q (bool): return qx / qy coords.  If false, returns pixel coords.\n",
    "\n",
    "        '''\n",
    "        if len(kwargs.keys())>0:\n",
    "            warnings.warn(f'Loader does not support features for kwargs: {kwargs.keys()}',stacklevel=2)\n",
    "        \n",
    "        if image_slice != None:\n",
    "            raise NotImplementedError('Image slicing is not supported for SST1')\n",
    "        if use_cached_md != False:\n",
    "            raise NotImplementedError('Caching of metadata is not supported for SST1')\n",
    "        img = Image.open(filepath)\n",
    "\n",
    "        headerdict = self.loadMd(filepath)\n",
    "        # two steps in this pre-processing stage:\n",
    "        #     (1) get and apply the right scalar correction term to the image\n",
    "        #     (2) find and subtract the right dark\n",
    "        if coords != None:\n",
    "            headerdict.update(coords)\n",
    "\n",
    "        #step 1: correction term\n",
    "\n",
    "        if self.corr_mode == 'expt':\n",
    "            corr = headerdict['exposure'] #(headerdict['AI 3 Izero']*expt)\n",
    "        elif self.corr_mode == 'i0':\n",
    "            corr = headerdict['AI 3 Izero']\n",
    "        elif self.corr_mode == 'expt+i0':\n",
    "            corr = headerdict['exposure'] * headerdict['AI 3 Izero']\n",
    "        elif self.corr_mode == 'user_func':\n",
    "            corr = self.user_corr_func(headerdict)\n",
    "        elif self.corr_mode == 'old':\n",
    "            corr = headerdict['AI 6 BeamStop'] * 2.4e10/ headerdict['Beamline Energy'] / headerdict['AI 3 Izero']\n",
    "            #this term is a mess...  @TODO check where it comes from\n",
    "        else:\n",
    "            corr = 1\n",
    "\n",
    "        if(corr<0):\n",
    "            warnings.warn(f'Correction value is negative: {corr} with headers {headerdict}.',stacklevel=2)\n",
    "            corr = abs(corr)\n",
    "\n",
    "\n",
    "        # # step 2: dark subtraction\n",
    "        # this is already done in the suitcase, but we offer the option to add/subtract a pedestal.\n",
    "        image_data = (np.array(img)-self.dark_pedestal)/corr\n",
    "        if return_q:\n",
    "            qpx = 2*np.pi*60e-6/(headerdict['sdd']/1000)/(headerdict['wavelength']*1e10)\n",
    "            qx = (np.arange(1,img.size[0]+1)-headerdict['beamcenter_y'])*qpx\n",
    "            qy = (np.arange(1,img.size[1]+1)-headerdict['beamcenter_x'])*qpx\n",
    "            # now, match up the dims and coords\n",
    "            return xr.DataArray(image_data,dims=['qy','qx'],coords={'qy':qy,'qx':qx},attrs=headerdict)\n",
    "        else:\n",
    "            # dim order changed by ktoth17 to reflect SST1RSoXSDB.py. See Issue #34 for more details. \n",
    "            return xr.DataArray(image_data,dims=['pix_y','pix_x'],attrs=headerdict)\n",
    "\n",
    "    def read_json(self,jsonfile):\n",
    "        json_dict = {}\n",
    "        with open(jsonfile) as f:\n",
    "            data = [0, json.load(f)]\n",
    "            meas_time =datetime.datetime.fromtimestamp(data[1]['time'])\n",
    "            json_dict['sample_name'] = data[1]['sample_name']\n",
    "        if data[1]['RSoXS_Main_DET'] == 'SAXS':\n",
    "            json_dict['rsoxs_config'] = 'saxs'\n",
    "            # discrepency between what is in .json and actual\n",
    "            if (meas_time > datetime.datetime(2020,12,1)) and (meas_time < datetime.datetime(2021,1,15)):\n",
    "                json_dict['beamcenter_x'] = 489.86\n",
    "                json_dict['beamcenter_y'] = 490.75\n",
    "                json_dict['sdd'] = 521.8\n",
    "            elif (meas_time > datetime.datetime(2020,11,16)) and (meas_time < datetime.datetime(2020,12,1)):\n",
    "                json_dict['beamcenter_x'] = 371.52\n",
    "                json_dict['beamcenter_y'] = 491.17\n",
    "                json_dict['sdd'] = 512.12\n",
    "            elif (meas_time > datetime.datetime(2022,5,1)) and (meas_time < datetime.datetime(2022,7,7)):\n",
    "                # these params determined by Camille from Igor\n",
    "                json_dict['beamcenter_x'] = 498 # not the best estimate; I didn't have great data\n",
    "                json_dict['beamcenter_y'] = 498\n",
    "                json_dict['sdd'] = 512.12 # GUESS; SOMEONE SHOULD CONFIRM WITH A BCP MAYBE??\n",
    "            else:\n",
    "                json_dict['beamcenter_x'] = data[1]['RSoXS_SAXS_BCX']\n",
    "                json_dict['beamcenter_y'] = data[1]['RSoXS_SAXS_BCY']\n",
    "                json_dict['sdd'] = data[1]['RSoXS_SAXS_SDD']\n",
    "\n",
    "        elif (data[1]['RSoXS_Main_DET'] == 'WAXS') | (data[1]['RSoXS_Main_DET'] == 'waxs_det'):\n",
    "            json_dict['rsoxs_config'] = 'waxs'\n",
    "            if (meas_time > datetime.datetime(2020,11,16)) and (meas_time < datetime.datetime(2021,1,15)):\n",
    "                json_dict['beamcenter_x'] = 400.46\n",
    "                json_dict['beamcenter_y'] = 530.99\n",
    "                json_dict['sdd'] = 38.745\n",
    "            elif (meas_time > datetime.datetime(2022,5,1)) and (meas_time < datetime.datetime(2022,7,7)):\n",
    "                # these params determined by Camille from Igor\n",
    "                json_dict['beamcenter_x'] = 397.91\n",
    "                json_dict['beamcenter_y'] = 549.76\n",
    "                json_dict['sdd'] = 34.5 # GUESS; SOMEONE SHOULD CONFIRM WITH A BCP MAYBE??\n",
    "            else:\n",
    "                json_dict['beamcenter_x'] = data[1]['RSoXS_WAXS_BCX'] # 399 #\n",
    "                json_dict['beamcenter_y'] = data[1]['RSoXS_WAXS_BCY'] # 526\n",
    "                json_dict['sdd'] = data[1]['RSoXS_WAXS_SDD']\n",
    "\n",
    "        else:\n",
    "            json_dict['rsoxs_config'] = 'unknown'\n",
    "            warnings.warn('RSoXS_Config is neither SAXS or WAXS. Check json file',stacklevel=2)\n",
    "\n",
    "        if json_dict['sdd'] == None:\n",
    "            warnings.warn('sdd is None, reverting to default values. Check json file',stacklevel=2)\n",
    "            if json_dict['rsoxs_config'] == 'waxs':\n",
    "                json_dict['sdd'] = 38.745\n",
    "            elif json_dict['rsoxs_config'] == 'saxs':\n",
    "                json_dict['sdd'] = 512.12\n",
    "        if json_dict['beamcenter_x'] == None:\n",
    "            warnings.warn('beamcenter_x/y is None, reverting to default values. Check json file',stacklevel=2)\n",
    "            if json_dict['rsoxs_config'] == 'waxs':\n",
    "                json_dict['beamcenter_x'] = 400.46\n",
    "                json_dict['beamcenter_y'] = 530.99\n",
    "            elif json_dict['rsoxs_config'] == 'saxs':\n",
    "                json_dict['beamcenter_x'] = 371.52\n",
    "                json_dict['beamcenter_y'] = 491.17\n",
    "        return json_dict\n",
    "\n",
    "    def read_baseline(self,baseline_csv):\n",
    "        baseline_dict = {}\n",
    "        df_baseline = pd.read_csv(baseline_csv)\n",
    "        baseline_dict['sam_x'] = round(df_baseline['RSoXS Sample Outboard-Inboard'][0],4)\n",
    "        baseline_dict['sam_y'] = round(df_baseline['RSoXS Sample Up-Down'][0],4)\n",
    "        baseline_dict['sam_z'] = round(df_baseline['RSoXS Sample Downstream-Upstream'][0],4)\n",
    "        baseline_dict['sam_th'] = round(df_baseline['RSoXS Sample Rotation'][0],4)\n",
    "\n",
    "        return baseline_dict\n",
    "\n",
    "    def read_shutter_toggle(self, shutter_csv):\n",
    "        shutter_data = pd.read_csv(shutter_csv)\n",
    "        # when shutter opens\n",
    "        start_time = shutter_data['time'][shutter_data['RSoXS Shutter Toggle']==1]\n",
    "        # when shutter closes\n",
    "        end_time = shutter_data['time'][start_time.index + 1]\n",
    "        # average over all images and round to nearest decimal\n",
    "        shutter_exposure = np.round(np.mean(end_time.values - start_time.values),1)\n",
    "        return shutter_exposure\n",
    "\n",
    "    def read_primary(self,primary_csv,seq_num, cwd):\n",
    "        primary_dict = {}\n",
    "        df_primary = pd.read_csv(primary_csv)\n",
    "        # if json_dict['rsoxs_config'] == 'waxs':\n",
    "        try:\n",
    "            primary_dict['exposure'] = df_primary['RSoXS Shutter Opening Time (ms)'][seq_num]\n",
    "        except KeyError:\n",
    "            shutter_fname = list(cwd.glob('*Shutter Toggle*'))\n",
    "            primary_dict['exposure'] = self.read_shutter_toggle(shutter_fname[0])*1000 # keep in ms\n",
    "            warnings.warn('No exposure time found in primary csv. Calculating from Shutter Toggle csv', stacklevel=2)\n",
    "                \n",
    "        # elif json_dict['rsoxs_config'] == 'saxs':\n",
    "        #     try:\n",
    "        #         primary_dict['exposure'] = df_primary['RSoXS Shutter Opening Time (ms)'][seq_num]\n",
    "        #     except KeyError:\n",
    "        #         primary_dict['exposure'] = 1\n",
    "        #         warnings.warn('No exposure time found in primary csv. Calculating from Shutter Toggle csv', stacklevel=2)\n",
    "        # else:\n",
    "        #     warnings.warn('Check rsoxs_config in json file',stacklevel=2)\n",
    "\n",
    "        primary_dict['energy'] = round(df_primary['en_energy_setpoint'][seq_num],4)\n",
    "        primary_dict['polarization'] = df_primary['en_polarization_setpoint'][seq_num]\n",
    "\n",
    "        return primary_dict\n",
    "\n",
    "\n",
    "    def loadMd(self,filepath):\n",
    "        # get sequence number of image for primary csv\n",
    "        fname = os.path.basename(filepath)\n",
    "        split_fname = fname.split('-')\n",
    "        seq_num = int(split_fname[-1][:-5])\n",
    "        scan_id = split_fname[0]\n",
    "\n",
    "        # This allows for passing just the filename without the full path\n",
    "        dirPath = os.path.dirname(filepath)\n",
    "\n",
    "        if dirPath == '':\n",
    "            cwd = pathlib.Path('.').absolute()\n",
    "        else:\n",
    "            cwd = pathlib.Path(dirPath)\n",
    "\n",
    "        json_fname = list(cwd.glob('*.json'))\n",
    "        json_dict = self.read_json(json_fname[0])\n",
    "\n",
    "        baseline_fname = list(cwd.glob('*baseline.csv'))\n",
    "        baseline_dict = self.read_baseline(baseline_fname[0])\n",
    "\n",
    "\n",
    "        primary_path = pathlib.Path(os.path.dirname(cwd))\n",
    "        primary_fname = list(primary_path.glob(f'{scan_id}*primary.csv'))\n",
    "        primary_dict = self.read_primary(primary_fname[0],seq_num, cwd)\n",
    "\n",
    "        # else:\n",
    "        #     json_fname = list(pathlib.Path(dirPath).glob('*jsonl'))\n",
    "        #     json_dict = self.read_json(json_fname[0])\n",
    "\n",
    "        #     baseline_fname = list(pathlib.Path(dirPath).glob('*baseline.csv'))\n",
    "        #     baseline_dict = self.read_baseline(baseline_fname[0])\n",
    "\n",
    "        #     primary_path = os.path.dirname(dirPath)\n",
    "        #     primary_fname = list(pathlib.Path(primary_path).glob(f'{scan_id}*primary.csv'))\n",
    "        #     primary_dict = self.read_primary(primary_fname[0],json_dict,seq_num)\n",
    "\n",
    "        headerdict = {**primary_dict,**baseline_dict,**json_dict}\n",
    "\n",
    "        headerdict['wavelength'] = 1.239842e-6 / headerdict['energy']\n",
    "        headerdict['seq_num'] = seq_num\n",
    "        headerdict['sampleid'] = scan_id\n",
    "        try:\n",
    "            headerdict['dist'] = headerdict['sdd'] / 1000\n",
    "        except TypeError:\n",
    "            print(headerdict['sdd'])\n",
    "        \n",
    "        headerdict['pixel1'] = self.pix_size_1 / 1000\n",
    "        headerdict['pixel2'] = self.pix_size_2 / 1000\n",
    "\n",
    "        headerdict['poni1'] = headerdict['beamcenter_y'] * headerdict['pixel1']\n",
    "        headerdict['poni2'] = headerdict['beamcenter_x'] * headerdict['pixel2']\n",
    "\n",
    "        headerdict['rot1'] = 0\n",
    "        headerdict['rot2'] = 0\n",
    "        headerdict['rot3'] = 0\n",
    "\n",
    "        headerdict.update(self.constant_md)\n",
    "        return headerdict\n",
    "\n",
    "    def peekAtMd(self,filepath):\n",
    "        return self.loadMd(filepath)\n"
   ]
  },
  {
   "cell_type": "code",
   "execution_count": null,
   "id": "a39c1cac-90e9-494d-ad77-2792b1e59bb1",
   "metadata": {
    "tags": []
   },
   "outputs": [],
   "source": [
    "# local_loader = SST1RSoXSLoader(corr_mode='None')\n",
    "da = local_loader.loadFileSeries(filepath, dims=['energy', 'polarization'])\n",
    "da"
   ]
  },
  {
   "cell_type": "code",
   "execution_count": null,
   "id": "5c6d37e1-44f8-4485-b11d-5d2c68e56d33",
   "metadata": {
    "tags": []
   },
   "outputs": [],
   "source": [
    "da = da.unstack('system')\n",
    "# da = da.where(da>1e-3)\n",
    "da"
   ]
  },
  {
   "cell_type": "code",
   "execution_count": null,
   "id": "76e492e1-bc00-4147-836e-c73393102953",
   "metadata": {},
   "outputs": [],
   "source": [
    "# cmin = float(da.quantile(0.1))\n",
    "# cmax = float(da.quantile(0.9))\n",
    "\n",
    "# da.sel(polarization=0, energy=285, method='nearest').plot.imshow(norm=LogNorm(1e1, 1e4), cmap=cmap, interpolation='nearest')\n",
    "\n",
    "energies = [270, 280, 282, 283, 284, 285, 286, 290]\n",
    "\n",
    "fg = da.sel(polarization=90, method='nearest').sel(energy=energies, method='nearest').plot.imshow(figsize=(18, 6),\n",
    "                col='energy', col_wrap=4, norm=LogNorm(1, 1e4), cmap=cmap, interpolation='nearest')\n",
    "fg.cbar.set_label('Intensity [arb. units]', rotation=270, labelpad=15)\n",
    "for axes in fg.axs.flatten():\n",
    "    axes.set(aspect='equal')\n",
    "\n",
    "plt.show()"
   ]
  },
  {
   "cell_type": "markdown",
   "id": "fad9c378-aeab-4f72-8652-2319d75aea2d",
   "metadata": {
    "tags": []
   },
   "source": [
    "## Loading raw data from databroker"
   ]
  },
  {
   "cell_type": "code",
   "execution_count": null,
   "id": "aa427f2a-9586-4b9e-8eb7-8c79ca10aca5",
   "metadata": {},
   "outputs": [],
   "source": [
    "# %%time\n",
    "\n",
    "# # Define catalogs:\n",
    "# # c = from_profile(\"rsoxs\", structure_clients='dask')\n",
    "# c = from_uri('https://tiled.nsls2.bnl.gov/', structure_clients='numpy')['rsoxs']['raw']\n",
    "# print(c)"
   ]
  },
  {
   "cell_type": "code",
   "execution_count": null,
   "id": "29e4de05-b722-4a85-a6f5-fdb60dfe3452",
   "metadata": {},
   "outputs": [],
   "source": [
    "# db_loader = phs.load.SST1RSoXSDB(corr_mode='None', catalog=c, catalog_kwargs={}, dark_pedestal=40)  # initialize rsoxs databroker loader w/ Dask\n",
    "db_loader = phs.load.SST1RSoXSDB(corr_mode='None', use_chunked_loading=True, dark_pedestal=40)  # initialize rsoxs databroker loader w/ Dask"
   ]
  },
  {
   "cell_type": "code",
   "execution_count": null,
   "id": "acbfa09c-79ce-4399-b91e-2d5a6ab9bf14",
   "metadata": {
    "tags": []
   },
   "outputs": [],
   "source": [
    "## Search for and summarize runs:\n",
    "runs_sum_df = db_loader.summarize_run(institution='CUBLDER', cycle='2023-2', sample_id='TRMSN', project='TRMSN', debugWarnings=False)\n",
    "# runs_sum_df = db_loader.summarize_run(institution='CUBLDER',cycle='2022-2', sample='andrew*', plan='full*', debugWarnings=False)\n",
    "# runs_sum_df = runs_sum_df.set_index('scan_id')  # optional, set index to scan id\n",
    "print(runs_sum_df['plan'].unique())\n",
    "display(runs_sum_df)"
   ]
  },
  {
   "cell_type": "code",
   "execution_count": null,
   "id": "bf8b0be6-d91a-4637-a965-defbe6578e1d",
   "metadata": {
    "tags": []
   },
   "outputs": [],
   "source": [
    "## Slice output dataframe for samples of interest\n",
    "# runs_of_interest = runs_sum_df.loc[runs_sum_df['cycle']=='2022-2'] #.loc[runs_sum_df['sample_id']=='andrew7']\n",
    "df = runs_sum_df\n",
    "runs_of_interest = df[(df['plan']=='rsoxs_carbon') & (df['num_Images']==228)]\n",
    "# runs_of_interest = df[(df['plan']=='rsoxs_nitrogen') & (df['num_Images']==114)]\n",
    "# runs_of_interest = df[(df['plan']=='nexafs_carbon')]\n",
    "\n",
    "display(runs_of_interest)"
   ]
  },
  {
   "cell_type": "code",
   "execution_count": null,
   "id": "955ea2e6-8ac8-493f-ab89-f4f7a8ecea17",
   "metadata": {
    "scrolled": true,
    "tags": []
   },
   "outputs": [],
   "source": [
    "da_rows = []\n",
    "# for scan_id in tqdm([65808, 65810]):\n",
    "for scan_id in tqdm(runs_of_interest['scan_id']):\n",
    "    da = db_loader.loadRun(scan_id, dims=['energy', 'polarization'])\n",
    "    da = da.expand_dims({'scan_id': [da.sampleid]})\n",
    "    da = da.assign_coords(sample_id=('scan_id', [da.start['sample_id']]),\n",
    "                          sample_name=('scan_id', [da.sample_name]))\n",
    "    da_rows.append(da)\n",
    "    # print(scan_id)\n",
    "    \n",
    "DA = xr.concat(da_rows, 'scan_id')"
   ]
  },
  {
   "cell_type": "code",
   "execution_count": null,
   "id": "28399611-23b6-44ab-b847-c423d3cdc6b8",
   "metadata": {},
   "outputs": [],
   "source": [
    "DA"
   ]
  },
  {
   "cell_type": "code",
   "execution_count": null,
   "id": "d2078f8f-58c9-4e6c-868e-cc5ea5abd90a",
   "metadata": {
    "tags": []
   },
   "outputs": [],
   "source": [
    "for k, v in DA.attrs.items():\n",
    "    if isinstance(v, dask.array.core.Array):\n",
    "        DA.attrs[k] = v.compute()\n",
    "        print(f'{k:<20}  |  {type(v)}')\n",
    "    elif isinstance(v, dict) or isinstance(v, datetime.datetime):\n",
    "        DA.attrs[k] = str(v) \n",
    "        print(f'{k:<20}  |  {type(v)}')"
   ]
  },
  {
   "cell_type": "code",
   "execution_count": null,
   "id": "f3683f9f-26f2-4b4f-9d07-bcc670edb984",
   "metadata": {
    "tags": []
   },
   "outputs": [],
   "source": [
    "DS = DA.to_dataset(name='rsoxs_carbon')\n",
    "\n",
    "with ProgressBar():\n",
    "    DS.to_zarr(zarrsPath.joinpath('raw_rsoxs_carbon.zarr'), mode='w')"
   ]
  },
  {
   "cell_type": "code",
   "execution_count": null,
   "id": "72be6fc7-02da-49eb-a505-7aa065309ba2",
   "metadata": {},
   "outputs": [],
   "source": [
    "DS_loaded = xr.open_zarr(zarrsPath.joinpath('raw_rsoxs_carbon.zarr'))\n",
    "DA = DS_loaded['rsoxs_carbon']\n",
    "\n",
    "# Compute any dask coordiantes\n",
    "for coord_name, coord_data in DA.coords.items():\n",
    "    if isinstance(coord_data.data, da.Array):\n",
    "        DA.coords[coord_name] = coord_data.compute()\n",
    "        \n",
    "DA"
   ]
  },
  {
   "cell_type": "code",
   "execution_count": null,
   "id": "33383c84-b5a7-422d-9c4f-cb1f78fa2e66",
   "metadata": {},
   "outputs": [],
   "source": [
    "str(DA.sel(scan_id=65810).sample_id.data)"
   ]
  },
  {
   "cell_type": "code",
   "execution_count": null,
   "id": "6027abf9-612a-4164-8ecf-5a763a39cf4a",
   "metadata": {},
   "outputs": [],
   "source": [
    "%%time \n",
    "\n",
    "sliced_DA = DA.sel(scan_id=65808)\n",
    "\n",
    "energies = [270, 280, 282, 283, 284, 285, 286, 290]\n",
    "pol = 0\n",
    "\n",
    "fg = sliced_DA.sel(polarization=pol, method='nearest').sel(energy=energies, method='nearest').sel(\n",
    "            pix_x=slice(160, 780), pix_y=slice(240, 800)).plot.imshow(figsize=(18, 6),\n",
    "                col='energy', col_wrap=4, norm=LogNorm(3e1, 1e3), cmap=cmap)\n",
    "fg.cbar.set_label('Intensity [arb. units]', rotation=270, labelpad=15)\n",
    "fg.fig.suptitle(f'{str(sliced_DA.sample_name.data)}, {str(sliced_DA.sample_id.data)}, pol = {pol}°', y=1.02)\n",
    "for axes in fg.axs.flatten():\n",
    "    axes.set(aspect='equal')\n",
    "\n",
    "plt.show()"
   ]
  },
  {
   "cell_type": "markdown",
   "id": "9a257eec-9ea3-49fa-9422-8cdaf8fccd10",
   "metadata": {
    "tags": []
   },
   "source": [
    "## Draw/check masks & beamcenters for transforming to q-space\n",
    "### 1. Check raw images at a selected energy for all loaded scan configurations:"
   ]
  },
  {
   "cell_type": "code",
   "execution_count": null,
   "id": "cb1af7b5-1afc-4df3-b076-14177840c8c7",
   "metadata": {},
   "outputs": [],
   "source": [
    "saxs_waxs_p00_p90_plot(raw_saxs, raw_waxs)"
   ]
  },
  {
   "cell_type": "markdown",
   "id": "9e11703d-1e5c-4a01-b414-06bd19456ca6",
   "metadata": {},
   "source": [
    "### 2. Draw masks"
   ]
  },
  {
   "cell_type": "code",
   "execution_count": null,
   "id": "f7939971-b907-4ae7-9930-b50e27a464fe",
   "metadata": {
    "tags": []
   },
   "outputs": [],
   "source": [
    "# ## SAXS:\n",
    "# saxs_mask_img = raw_saxs.sel(pol=0, energy=275, method='nearest').compute()\n",
    "# draw = phs.IntegrationUtils.DrawMask(saxs_mask_img)\n",
    "# # draw.ui()"
   ]
  },
  {
   "cell_type": "code",
   "execution_count": null,
   "id": "4e3fba0e-290d-4b5e-aecb-39daa40276c6",
   "metadata": {},
   "outputs": [],
   "source": [
    "# ## Save saxs drawn mask\n",
    "# draw.save(maskPath.joinpath(f'SAXS_{raw_saxs.sample_name}.json'))"
   ]
  },
  {
   "cell_type": "code",
   "execution_count": null,
   "id": "8210e9d7-2bab-488b-a12a-faca977203ee",
   "metadata": {
    "tags": []
   },
   "outputs": [],
   "source": [
    "# ## Repeat for WAXS mask:\n",
    "# waxs_mask_img = raw_waxs.sel(pol=0, energy=275, method='nearest').compute()\n",
    "# draw = phs.IntegrationUtils.DrawMask(waxs_mask_img)\n",
    "# # draw.ui()"
   ]
  },
  {
   "cell_type": "code",
   "execution_count": null,
   "id": "48b1c9f2-b89e-45eb-97ab-4316769a0a7a",
   "metadata": {},
   "outputs": [],
   "source": [
    "# ## Save and load saxs drawn mask\n",
    "# draw.save(maskPath.joinpath(f'WAXS_{raw_saxs.sample_name}.json'))"
   ]
  },
  {
   "cell_type": "code",
   "execution_count": null,
   "id": "53088c57-b033-438c-9499-36ae9287e430",
   "metadata": {
    "tags": []
   },
   "outputs": [],
   "source": [
    "### Check masks on file\n",
    "saxs_mask_img = raw_saxs.sel(pol=0, energy=275, method='nearest').compute()\n",
    "waxs_mask_img = raw_waxs.sel(pol=0, energy=275, method='nearest').compute()\n",
    "draw = phs.IntegrationUtils.DrawMask(waxs_mask_img)\n",
    "\n",
    "\n",
    "### Load masks\n",
    "saxs_mask, waxs_mask = plot_mask_files(draw, maskPath, raw_waxs.sample_name, saxs_img=saxs_mask_img, waxs_img=waxs_mask_img)\n",
    "# plot_one_mask_file(draw, maskPath, raw_waxs.sample_name, img=raw_waxs.sel(pol=0, energy=275, method='nearest'))"
   ]
  },
  {
   "cell_type": "markdown",
   "id": "86bc6f44-4f22-464c-b93a-cb1c424f8dab",
   "metadata": {},
   "source": [
    "### 3. Check and save beamcenters before converting to q-space"
   ]
  },
  {
   "cell_type": "code",
   "execution_count": null,
   "id": "45f52279-7c85-4d3f-863a-ac2f891dab5c",
   "metadata": {
    "tags": []
   },
   "outputs": [],
   "source": [
    "## SAXS\n",
    "SAXSinteg = phs.integrate.PFEnergySeriesIntegrator(geomethod='template_xr', template_xr = raw_saxs.sel(pol=0))\n",
    "SAXSinteg.mask = saxs_mask\n",
    "SAXSinteg.ni_beamcenter_x = bcxy_2022_2['saxs_bcx']\n",
    "SAXSinteg.ni_beamcenter_y = bcxy_2022_2['saxs_bcy']\n",
    "raw_saxs.attrs['beamcenter_x'] = bcxy_2022_2['saxs_bcx']\n",
    "raw_saxs.attrs['beamcenter_y'] = bcxy_2022_2['saxs_bcy']\n",
    "raw_saxs.attrs['poni1'] = SAXSinteg.poni1\n",
    "raw_saxs.attrs['poni2'] = SAXSinteg.poni2\n",
    "print('SAXS Beamcenter: \\n'\n",
    "      f'poni1: {SAXSinteg.poni1}, poni2: {SAXSinteg.poni2} \\n'\n",
    "      f'ni_beamcenter_y: {SAXSinteg.ni_beamcenter_y}, ni_beamcenter_x: {SAXSinteg.ni_beamcenter_x}')\n",
    "\n",
    "## Plot check\n",
    "phs.IntegrationUtils.Check.checkAll(SAXSinteg, saxs_mask_img, img_max=1e3, alpha=0.4)\n",
    "plt.xlim(SAXSinteg.ni_beamcenter_x-200, SAXSinteg.ni_beamcenter_x+200)\n",
    "plt.ylim(SAXSinteg.ni_beamcenter_y-200, SAXSinteg.ni_beamcenter_y+200)\n",
    "plt.gcf().set(dpi=120)\n",
    "plt.show()\n",
    "\n",
    "## WAXS\n",
    "WAXSinteg = phs.integrate.PFEnergySeriesIntegrator(geomethod='template_xr', template_xr = raw_waxs.sel(pol=0))\n",
    "WAXSinteg.mask = waxs_mask\n",
    "WAXSinteg.ni_beamcenter_x = bcxy_2022_2['waxs_bcx']\n",
    "WAXSinteg.ni_beamcenter_y = bcxy_2022_2['waxs_bcy']\n",
    "raw_waxs.attrs['beamcenter_x'] = bcxy_2022_2['waxs_bcx']\n",
    "raw_waxs.attrs['beamcenter_y'] = bcxy_2022_2['waxs_bcy']\n",
    "raw_waxs.attrs['poni1'] = WAXSinteg.poni1\n",
    "raw_waxs.attrs['poni2'] = WAXSinteg.poni2\n",
    "print('WAXS Beamcenter: \\n'\n",
    "      f'poni1: {WAXSinteg.poni1}, poni2: {WAXSinteg.poni2} \\n'\n",
    "      f'ni_beamcenter_y: {WAXSinteg.ni_beamcenter_y}, ni_beamcenter_x: {WAXSinteg.ni_beamcenter_x}')\n",
    "\n",
    "## Plot check\n",
    "phs.IntegrationUtils.Check.checkAll(WAXSinteg, waxs_mask_img, img_max=7e3, alpha=0.4)\n",
    "plt.xlim(WAXSinteg.ni_beamcenter_x-200, WAXSinteg.ni_beamcenter_x+200)\n",
    "plt.ylim(WAXSinteg.ni_beamcenter_y-200, WAXSinteg.ni_beamcenter_y+200)\n",
    "plt.gcf().set(dpi=120)\n",
    "plt.show()"
   ]
  },
  {
   "cell_type": "code",
   "execution_count": null,
   "id": "5efc28d1-8c51-40b5-a871-685162158308",
   "metadata": {
    "tags": []
   },
   "outputs": [],
   "source": [
    "# ## Tweaking if needed:\n",
    "# ## SAXS Tweaking & Plot Check\n",
    "# saxs_new_bcx = 488\n",
    "# saxs_new_bcy = 515\n",
    "# SAXSinteg.ni_beamcenter_x = saxs_new_bcx\n",
    "# SAXSinteg.ni_beamcenter_y = saxs_new_bcy\n",
    "# raw_saxs.attrs['beamcenter_x'] = saxs_new_bcx\n",
    "# raw_saxs.attrs['beamcenter_y'] = saxs_new_bcy\n",
    "# raw_saxs.attrs['poni1'] = SAXSinteg.poni1\n",
    "# raw_saxs.attrs['poni2'] = SAXSinteg.poni2\n",
    "\n",
    "# print('SAXS Beamcenter Tweaking: \\n'\n",
    "#       f'poni1: {SAXSinteg.poni1}, poni2: {SAXSinteg.poni2} \\n'\n",
    "#       f'ni_beamcenter_y: {SAXSinteg.ni_beamcenter_y}, ni_beamcenter_x: {SAXSinteg.ni_beamcenter_x}')\n",
    "\n",
    "# phs.IntegrationUtils.Check.checkAll(SAXSinteg, saxs_mask_img, img_max=1e3, alpha=0.6)\n",
    "# plt.xlim(SAXSinteg.ni_beamcenter_x-200, SAXSinteg.ni_beamcenter_x+200)\n",
    "# plt.ylim(SAXSinteg.ni_beamcenter_y-200, SAXSinteg.ni_beamcenter_y+200)\n",
    "# plt.gcf().set(dpi=120)\n",
    "# plt.show()\n",
    "\n",
    "# ## WAXS Tweaking & Plot Check\n",
    "# waxs_new_bcx = 396.3\n",
    "# waxs_new_bcy = 553\n",
    "# WAXSinteg.ni_beamcenter_x = waxs_new_bcx\n",
    "# WAXSinteg.ni_beamcenter_y = waxs_new_bcy\n",
    "# raw_waxs.attrs['beamcenter_x'] = waxs_new_bcx\n",
    "# raw_waxs.attrs['beamcenter_x'] = waxs_new_bcx\n",
    "# raw_waxs.attrs['poni1'] = WAXSinteg.poni1\n",
    "# raw_waxs.attrs['poni2'] = WAXSinteg.poni2\n",
    "\n",
    "# print('WAXS Beamcenter Tweaking: \\n'\n",
    "#       f'poni1: {WAXSinteg.poni1}, poni2: {WAXSinteg.poni2} \\n'\n",
    "#       f'ni_beamcenter_y: {WAXSinteg.ni_beamcenter_y}, ni_beamcenter_x: {WAXSinteg.ni_beamcenter_x}')\n",
    "# phs.IntegrationUtils.Check.checkAll(WAXSinteg, waxs_mask_img, img_max=5e3, alpha=0.6, guide1=40)\n",
    "# plt.xlim(WAXSinteg.ni_beamcenter_x-200, WAXSinteg.ni_beamcenter_x+200)\n",
    "# plt.ylim(WAXSinteg.ni_beamcenter_y-200, WAXSinteg.ni_beamcenter_y+200)\n",
    "# plt.gcf().set(dpi=120)\n",
    "# plt.show()\n",
    "\n",
    "\n",
    "# ## Using Pete D.'s (very slightly modified) beamcentering script:\n",
    "# # phs.BeamCentering.CenteringAccessor.refine_geometry\n",
    "\n",
    "# ## SAXS\n",
    "# res_saxs = raw_saxs.sel(pol=0).util.refine_geometry(energy=275, q_min=0.002, q_max=0.006)\n",
    "# # res_saxs = raw_saxs.sel(pol=0).util.refine_geometry(energy=275, q_min=0.002, q_max=0.006, chi_min=-180, chi_max=60)\n",
    "# # res_saxs = raw_saxs.sel(pol=0).util.refine_geometry(energy=280, q_min=0.002, q_max=0.008, mask=saxs_mask)\n",
    "# raw_saxs.attrs['poni1'] = res_saxs.x[0]\n",
    "# raw_saxs.attrs['poni2'] = res_saxs.x[1]\n",
    "# SAXSinteg = phs.integrate.PFEnergySeriesIntegrator(geomethod='template_xr', template_xr = raw_saxs.sel(pol=0))\n",
    "# SAXSinteg.mask = saxs_mask\n",
    "\n",
    "# ## SAXS Plot check\n",
    "# print('SAXS Beamcenter Post-optimization: \\n'\n",
    "#       f'poni1: {SAXSinteg.poni1}, poni2: {SAXSinteg.poni2} \\n'\n",
    "#       f'ni_beamcenter_y: {SAXSinteg.ni_beamcenter_y}, ni_beamcenter_x: {SAXSinteg.ni_beamcenter_x}')\n",
    "# phs.IntegrationUtils.Check.checkAll(SAXSinteg, saxs_mask_img, img_max=1e3, alpha=0.6)\n",
    "# plt.xlim(SAXSinteg.ni_beamcenter_x-200, SAXSinteg.ni_beamcenter_x+200)\n",
    "# plt.ylim(SAXSinteg.ni_beamcenter_y-200, SAXSinteg.ni_beamcenter_y+200)\n",
    "# plt.gcf().set(dpi=120)\n",
    "# plt.show()\n",
    "\n",
    "# ## WAXS\n",
    "# # res_waxs = raw_waxs.sel(pol=0).util.refine_geometry(energy=275, q_min=0.02, q_max=0.06, chi_min=-10, chi_max=70)\n",
    "# res_waxs = raw_waxs.sel(pol=0).util.refine_geometry(energy=275, q_min=0.02, q_max=0.06)\n",
    "# raw_waxs.attrs['poni1'] = res_waxs.x[0]\n",
    "# raw_waxs.attrs['poni2'] = res_waxs.x[1]\n",
    "# WAXSinteg = phs.integrate.PFEnergySeriesIntegrator(geomethod='template_xr', template_xr = raw_waxs.sel(pol=0))\n",
    "# WAXSinteg.mask = waxs_mask\n",
    "\n",
    "# ## WAXS Plot check\n",
    "# print('WAXS Beamcenter Post-optimization: \\n'\n",
    "#       f'poni1: {WAXSinteg.poni1}, poni2: {WAXSinteg.poni2} \\n'\n",
    "#       f'ni_beamcenter_y: {WAXSinteg.ni_beamcenter_y}, ni_beamcenter_x: {WAXSinteg.ni_beamcenter_x}')\n",
    "# phs.IntegrationUtils.Check.checkAll(WAXSinteg, waxs_mask_img, img_max=5e3, alpha=0.6)\n",
    "# plt.xlim(WAXSinteg.ni_beamcenter_x-200, WAXSinteg.ni_beamcenter_x+200)\n",
    "# plt.ylim(WAXSinteg.ni_beamcenter_y-200, WAXSinteg.ni_beamcenter_y+200)\n",
    "# plt.gcf().set(dpi=120)\n",
    "# plt.show()"
   ]
  },
  {
   "cell_type": "code",
   "execution_count": null,
   "id": "c5c501fc-ac06-490e-a6ea-1c5ffae0dd69",
   "metadata": {},
   "outputs": [],
   "source": [
    "### Write beamcenters to saved .json file if content with them:\n",
    "\n",
    "beamcenters_dict = {\n",
    "    f'SAXS_{raw_saxs.sample_name}': {'bcx':raw_saxs.beamcenter_x, 'bcy':raw_saxs.beamcenter_y},\n",
    "    f'WAXS_{raw_waxs.sample_name}': {'bcx':raw_waxs.beamcenter_x, 'bcy':raw_waxs.beamcenter_y}\n",
    "}\n",
    "\n",
    "with open(jsonPath.joinpath('beamcenters_dict.json'), 'r') as f:\n",
    "    dic = json.load(f)\n",
    "\n",
    "dic.update(beamcenters_dict)\n",
    "\n",
    "with open(jsonPath.joinpath('beamcenters_dict.json'), 'w') as f:\n",
    "    json.dump(dic, f)"
   ]
  },
  {
   "cell_type": "markdown",
   "id": "c1cebf21-9cb7-4f74-a3eb-f62ff0d582ca",
   "metadata": {
    "tags": []
   },
   "source": [
    "## Export data\n",
    "These files are large and therefore should not be saved into the user folder, but rather the proposal folder:\n"
   ]
  },
  {
   "cell_type": "markdown",
   "id": "625cef5f-5873-44de-9eb3-519441e59ed2",
   "metadata": {},
   "source": [
    "### 1. Apply qx,qy labels, save .zarr stores"
   ]
  },
  {
   "cell_type": "code",
   "execution_count": null,
   "id": "89f4c672-6d5c-4ef7-85b0-a9a47515bc16",
   "metadata": {},
   "outputs": [],
   "source": [
    "### Now that we know our beamcenters are accurate, we can apply correct q axis labels\n",
    "raw_waxs = apply_q_labels(raw_waxs)\n",
    "raw_saxs = apply_q_labels(raw_saxs)\n",
    "\n",
    "### Load energy lists for facet plots\n",
    "energies = raw_waxs.energy.data\n",
    "resonant_energies = energies[16:96]\n",
    "\n",
    "gif_energies = np.array([])\n",
    "gif_energies = np.append(energies[0:16:3], energies[-31::2])\n",
    "gif_energies = np.sort(np.append(gif_energies, resonant_energies))\n",
    "\n",
    "### Set variables for naming purposes\n",
    "sample_name = sample_guide[raw_waxs.sample_name]\n",
    "detector = detector_guide[raw_waxs.detector]\n",
    "\n",
    "# sampPath = exportPath.joinpath(f'{detector}_{sample_name}')\n",
    "# sampPath.mkdir(parents=True, exist_ok=True)"
   ]
  },
  {
   "cell_type": "code",
   "execution_count": null,
   "id": "58002a26-ca93-4bb5-a584-710e9c1814f7",
   "metadata": {},
   "outputs": [],
   "source": [
    "# sorted([f.name for f in zarrPath.iterdir()])"
   ]
  },
  {
   "cell_type": "code",
   "execution_count": null,
   "id": "d71f960f-70ac-4ad4-a867-71e7d7acb0bc",
   "metadata": {},
   "outputs": [],
   "source": [
    "### Save zarr store/directory \n",
    "\n",
    "save_zarr((raw_saxs, raw_waxs), zarrPath)"
   ]
  },
  {
   "cell_type": "code",
   "execution_count": null,
   "id": "3e3eb552-ef64-45d4-882c-66f60bf4a10f",
   "metadata": {
    "tags": []
   },
   "outputs": [],
   "source": [
    "# ### Generate WAXS facet plots\n",
    "# sample_name = sample_guide[raw_waxs.sample_name]\n",
    "# scan_id = raw_waxs.sampleid\n",
    "# detector = detector_guide[raw_waxs.detector]\n",
    "\n",
    "# scanPath = facetPath.joinpath(f'{scan_id}_{sample_name}_{detector}')\n",
    "# scanPath.mkdir(parents=True, exist_ok=True)\n",
    "\n",
    "# for pol in (0, 90):\n",
    "#     for num in range(10):\n",
    "#         grid = raw_waxs.sel(pol=pol, energy=energy_list[8*num:8*num+8], method='nearest').plot.imshow(x='qx', y='qy',\n",
    "#                     norm=LogNorm(1e1, 5e3), cmap=cm, interpolation='antialiased', col='energy', col_wrap=4)\n",
    "#         grid.set_xlabels('qx [1/Å]')\n",
    "#         grid.set_ylabels('qy [1/Å]') \n",
    "\n",
    "#         # Create/select folder for scan to save plots:\n",
    "#         imgsPath = scanPath.joinpath(f'_qxqy_frames_{detector}_{int(pol):0>2}deg')\n",
    "#         imgsPath.mkdir(parents=True, exist_ok=True)\n",
    "\n",
    "#         plt.savefig(imgsPath.joinpath(f'{sample_name}_{detector}_{int(pol):0>2}_f{num}.svg'))"
   ]
  },
  {
   "cell_type": "markdown",
   "id": "8a072b7a-0358-4444-8e4e-a3b67d41550b",
   "metadata": {},
   "source": [
    "### 2. Convert to chi-q space & save .zarr stores"
   ]
  },
  {
   "cell_type": "code",
   "execution_count": null,
   "id": "2f861125-0d4a-460e-9d73-9b4017578341",
   "metadata": {
    "tags": []
   },
   "outputs": [],
   "source": [
    "integ_saxs = integrate_stacked_pol(SAXSinteg, raw_saxs)\n",
    "integ_waxs = integrate_stacked_pol(WAXSinteg, raw_waxs)\n",
    "display(integ_saxs, integ_waxs)"
   ]
  },
  {
   "cell_type": "code",
   "execution_count": null,
   "id": "679db88b-f0a7-40c7-a87f-1bcc21b5f62a",
   "metadata": {
    "scrolled": true,
    "tags": []
   },
   "outputs": [],
   "source": [
    "### Save zarr store/directory \n",
    "save_zarr((integ_saxs, integ_waxs), zarrPath, prefix='integ_qchi')"
   ]
  },
  {
   "cell_type": "code",
   "execution_count": null,
   "id": "a8156528-da45-42ca-9fae-453876e88bef",
   "metadata": {},
   "outputs": [],
   "source": [
    "sorted(zarrPath.glob('raw*w18*SAXS*'))"
   ]
  },
  {
   "cell_type": "code",
   "execution_count": null,
   "id": "21e4c79a-d753-4ee5-9ed4-be6e39b4499b",
   "metadata": {},
   "outputs": [],
   "source": [
    "### How you would load data:\n",
    "loaded_raw_saxs = xr.open_zarr(sorted(zarrPath.glob('raw*w11*SAXS*'))[0]).saxs\n",
    "loaded_raw_waxs = xr.open_zarr(sorted(zarrPath.glob('raw*w11*WAXS*'))[0]).waxs\n",
    "loaded_integ_saxs = xr.open_zarr(sorted(zarrPath.glob('integ*w11*SAXS*'))[0]).saxs\n",
    "loaded_integ_waxs = xr.open_zarr(sorted(zarrPath.glob('integ*w11*WAXS*'))[0]).waxs"
   ]
  },
  {
   "cell_type": "code",
   "execution_count": null,
   "id": "455bdace-9e2b-4771-be15-8b0da9fc0b9d",
   "metadata": {},
   "outputs": [],
   "source": [
    "### Load energy lists for facet plots\n",
    "energies = raw_waxs.energy.data\n",
    "resonant_energies = energies[16:96]\n",
    "\n",
    "gif_energies = np.array([])\n",
    "gif_energies = np.append(energies[0:16:3], energies[-31::2])\n",
    "gif_energies = np.sort(np.append(gif_energies, resonant_energies))\n",
    "\n",
    "pol=0\n",
    "\n",
    "# #### View facet plot to verify data:\n",
    "# loaded_integ_waxs.sel(pol=pol, energy=gif_energies[:-6:6], method='nearest').plot.imshow(xscale='log', xlim=(1e-2, 2e-1),\n",
    "#                         norm=LogNorm(1e1, 5e3), cmap=cm, interpolation='antialiased', col='energy', col_wrap=4)\n",
    "# loaded_integ_saxs.sel(pol=pol, energy=gif_energies[:-6:6], method='nearest').plot.imshow(xscale='log', xlim=(1e-3, 1e-2),\n",
    "#                         norm=LogNorm(1e1, 5e3), cmap=cm, interpolation='antialiased', col='energy', col_wrap=4)\n"
   ]
  },
  {
   "cell_type": "code",
   "execution_count": null,
   "id": "18e8a085-924c-4855-a483-fb72252c17b7",
   "metadata": {},
   "outputs": [],
   "source": []
  }
 ],
 "metadata": {
  "kernelspec": {
   "display_name": "Python 3 (ipykernel)",
   "language": "python",
   "name": "python3"
  },
  "language_info": {
   "codemirror_mode": {
    "name": "ipython",
    "version": 3
   },
   "file_extension": ".py",
   "mimetype": "text/x-python",
   "name": "python",
   "nbconvert_exporter": "python",
   "pygments_lexer": "ipython3",
   "version": "3.9.15"
  },
  "toc-showmarkdowntxt": false
 },
 "nbformat": 4,
 "nbformat_minor": 5
}
