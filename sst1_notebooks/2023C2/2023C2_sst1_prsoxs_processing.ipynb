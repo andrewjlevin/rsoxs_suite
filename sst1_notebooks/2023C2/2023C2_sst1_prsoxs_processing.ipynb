{
 "cells": [
  {
   "cell_type": "markdown",
   "id": "33f4cd6c-7a40-4218-9893-505fc5b408aa",
   "metadata": {},
   "source": [
    "# 2023C2: Processing SST1 RSoXS Data"
   ]
  },
  {
   "cell_type": "code",
   "execution_count": 1,
   "id": "2d587a4f-fd51-4416-9500-db7c209b6f1e",
   "metadata": {
    "scrolled": true,
    "tags": []
   },
   "outputs": [
    {
     "name": "stdout",
     "output_type": "stream",
     "text": [
      "Obtaining file:///nsls2/users/alevin/repos/PyHyperScattering\n",
      "  Installing build dependencies ... \u001b[?25ldone\n",
      "\u001b[?25h  Checking if build backend supports build_editable ... \u001b[?25ldone\n",
      "\u001b[?25h  Getting requirements to build editable ... \u001b[?25ldone\n",
      "\u001b[?25h  Preparing editable metadata (pyproject.toml) ... \u001b[?25ldone\n",
      "\u001b[?25hRequirement already satisfied: h5py in /srv/conda/envs/notebook/lib/python3.9/site-packages (from PyHyperScattering==0.2.1+37.gac1f562) (3.8.0)\n",
      "Requirement already satisfied: numpy in /srv/conda/envs/notebook/lib/python3.9/site-packages (from PyHyperScattering==0.2.1+37.gac1f562) (1.24.3)\n",
      "Requirement already satisfied: pandas in /srv/conda/envs/notebook/lib/python3.9/site-packages (from PyHyperScattering==0.2.1+37.gac1f562) (2.0.2)\n",
      "Requirement already satisfied: pyfai in /srv/conda/envs/notebook/lib/python3.9/site-packages (from PyHyperScattering==0.2.1+37.gac1f562) (2023.5.0)\n",
      "Requirement already satisfied: pyopencl in /srv/conda/envs/notebook/lib/python3.9/site-packages (from PyHyperScattering==0.2.1+37.gac1f562) (2023.1)\n",
      "Requirement already satisfied: scikit-image in /srv/conda/envs/notebook/lib/python3.9/site-packages (from PyHyperScattering==0.2.1+37.gac1f562) (0.19.3)\n",
      "Requirement already satisfied: scipy in /srv/conda/envs/notebook/lib/python3.9/site-packages (from PyHyperScattering==0.2.1+37.gac1f562) (1.10.1)\n",
      "Requirement already satisfied: pillow in /srv/conda/envs/notebook/lib/python3.9/site-packages (from PyHyperScattering==0.2.1+37.gac1f562) (9.4.0)\n",
      "Requirement already satisfied: xarray in /srv/conda/envs/notebook/lib/python3.9/site-packages (from PyHyperScattering==0.2.1+37.gac1f562) (2023.5.0)\n",
      "Requirement already satisfied: tqdm in /srv/conda/envs/notebook/lib/python3.9/site-packages (from PyHyperScattering==0.2.1+37.gac1f562) (4.65.0)\n",
      "Requirement already satisfied: python-dateutil>=2.8.2 in /srv/conda/envs/notebook/lib/python3.9/site-packages (from pandas->PyHyperScattering==0.2.1+37.gac1f562) (2.8.2)\n",
      "Requirement already satisfied: pytz>=2020.1 in /srv/conda/envs/notebook/lib/python3.9/site-packages (from pandas->PyHyperScattering==0.2.1+37.gac1f562) (2023.3)\n",
      "Requirement already satisfied: tzdata>=2022.1 in /srv/conda/envs/notebook/lib/python3.9/site-packages (from pandas->PyHyperScattering==0.2.1+37.gac1f562) (2023.3)\n",
      "Requirement already satisfied: fabio in /srv/conda/envs/notebook/lib/python3.9/site-packages (from pyfai->PyHyperScattering==0.2.1+37.gac1f562) (2023.4.1)\n",
      "Requirement already satisfied: silx in /srv/conda/envs/notebook/lib/python3.9/site-packages (from pyfai->PyHyperScattering==0.2.1+37.gac1f562) (1.1.2)\n",
      "Requirement already satisfied: numexpr in /srv/conda/envs/notebook/lib/python3.9/site-packages (from pyfai->PyHyperScattering==0.2.1+37.gac1f562) (2.8.4)\n",
      "Requirement already satisfied: matplotlib in /srv/conda/envs/notebook/lib/python3.9/site-packages (from pyfai->PyHyperScattering==0.2.1+37.gac1f562) (3.7.1)\n",
      "Requirement already satisfied: pytools>=2021.2.7 in /srv/conda/envs/notebook/lib/python3.9/site-packages (from pyopencl->PyHyperScattering==0.2.1+37.gac1f562) (2022.1.14)\n",
      "Requirement already satisfied: platformdirs>=2.2.0 in /srv/conda/envs/notebook/lib/python3.9/site-packages (from pyopencl->PyHyperScattering==0.2.1+37.gac1f562) (3.2.0)\n",
      "Requirement already satisfied: networkx>=2.2 in /srv/conda/envs/notebook/lib/python3.9/site-packages (from scikit-image->PyHyperScattering==0.2.1+37.gac1f562) (3.1)\n",
      "Requirement already satisfied: imageio>=2.4.1 in /srv/conda/envs/notebook/lib/python3.9/site-packages (from scikit-image->PyHyperScattering==0.2.1+37.gac1f562) (2.28.1)\n",
      "Requirement already satisfied: tifffile>=2019.7.26 in /srv/conda/envs/notebook/lib/python3.9/site-packages (from scikit-image->PyHyperScattering==0.2.1+37.gac1f562) (2023.4.12)\n",
      "Requirement already satisfied: PyWavelets>=1.1.1 in /srv/conda/envs/notebook/lib/python3.9/site-packages (from scikit-image->PyHyperScattering==0.2.1+37.gac1f562) (1.4.1)\n",
      "Requirement already satisfied: packaging>=20.0 in /srv/conda/envs/notebook/lib/python3.9/site-packages (from scikit-image->PyHyperScattering==0.2.1+37.gac1f562) (23.0)\n",
      "Requirement already satisfied: six>=1.5 in /srv/conda/envs/notebook/lib/python3.9/site-packages (from python-dateutil>=2.8.2->pandas->PyHyperScattering==0.2.1+37.gac1f562) (1.16.0)\n",
      "Requirement already satisfied: typing-extensions>=4.0 in /srv/conda/envs/notebook/lib/python3.9/site-packages (from pytools>=2021.2.7->pyopencl->PyHyperScattering==0.2.1+37.gac1f562) (4.5.0)\n",
      "Requirement already satisfied: contourpy>=1.0.1 in /srv/conda/envs/notebook/lib/python3.9/site-packages (from matplotlib->pyfai->PyHyperScattering==0.2.1+37.gac1f562) (1.0.7)\n",
      "Requirement already satisfied: cycler>=0.10 in /srv/conda/envs/notebook/lib/python3.9/site-packages (from matplotlib->pyfai->PyHyperScattering==0.2.1+37.gac1f562) (0.11.0)\n",
      "Requirement already satisfied: fonttools>=4.22.0 in /srv/conda/envs/notebook/lib/python3.9/site-packages (from matplotlib->pyfai->PyHyperScattering==0.2.1+37.gac1f562) (4.39.4)\n",
      "Requirement already satisfied: kiwisolver>=1.0.1 in /srv/conda/envs/notebook/lib/python3.9/site-packages (from matplotlib->pyfai->PyHyperScattering==0.2.1+37.gac1f562) (1.4.4)\n",
      "Requirement already satisfied: pyparsing>=2.3.1 in /srv/conda/envs/notebook/lib/python3.9/site-packages (from matplotlib->pyfai->PyHyperScattering==0.2.1+37.gac1f562) (3.0.9)\n",
      "Requirement already satisfied: importlib-resources>=3.2.0 in /srv/conda/envs/notebook/lib/python3.9/site-packages (from matplotlib->pyfai->PyHyperScattering==0.2.1+37.gac1f562) (5.12.0)\n",
      "Requirement already satisfied: setuptools in /srv/conda/envs/notebook/lib/python3.9/site-packages (from silx->pyfai->PyHyperScattering==0.2.1+37.gac1f562) (67.6.1)\n",
      "Requirement already satisfied: zipp>=3.1.0 in /srv/conda/envs/notebook/lib/python3.9/site-packages (from importlib-resources>=3.2.0->matplotlib->pyfai->PyHyperScattering==0.2.1+37.gac1f562) (3.15.0)\n",
      "Building wheels for collected packages: PyHyperScattering\n",
      "  Building editable for PyHyperScattering (pyproject.toml) ... \u001b[?25ldone\n",
      "\u001b[?25h  Created wheel for PyHyperScattering: filename=PyHyperScattering-0.2.1+37.gac1f562-0.editable-py3-none-any.whl size=5355 sha256=3bb707bc78e9ab9ed7b264b254d66ad31d7825a260205240c3a0001d92afe750\n",
      "  Stored in directory: /tmp/pip-ephem-wheel-cache-_sydk8da/wheels/7d/89/c7/db1d0cb1cf714f3a03a438abee7b78ce09921efd15259b1f5f\n",
      "Successfully built PyHyperScattering\n",
      "Installing collected packages: PyHyperScattering\n",
      "  Attempting uninstall: PyHyperScattering\n",
      "    Found existing installation: PyHyperScattering 0.2.1\n",
      "    Uninstalling PyHyperScattering-0.2.1:\n",
      "      Successfully uninstalled PyHyperScattering-0.2.1\n",
      "Successfully installed PyHyperScattering-0.2.1+37.gac1f562\n"
     ]
    }
   ],
   "source": [
    "# # Only needs to be run once per session, restart kernel after running\n",
    "\n",
    "# %pip install pyhyperscattering==0.2.1  # to use pip published package\n",
    "!pip install -e /nsls2/users/alevin/repos/PyHyperScattering  # to use pip to install via directory\n",
    "# !pip install --pre --upgrade tiled[all] databroker  # bottleneck # needed to fix tiled/databroker error in SST1RSoXSDB"
   ]
  },
  {
   "cell_type": "markdown",
   "id": "1502b74c-ba23-41a8-9150-d69038862abf",
   "metadata": {},
   "source": [
    "## Imports"
   ]
  },
  {
   "cell_type": "code",
   "execution_count": null,
   "id": "3f67a43d-7089-4647-8ba3-85bf2eab4d36",
   "metadata": {},
   "outputs": [],
   "source": [
    "%load_ext autoreload"
   ]
  },
  {
   "cell_type": "code",
   "execution_count": null,
   "id": "469f7cd6-70c0-40ba-86f5-ed66faac797e",
   "metadata": {},
   "outputs": [],
   "source": [
    "%autoreload 2"
   ]
  },
  {
   "cell_type": "code",
   "execution_count": null,
   "id": "dea31dcf-4d9e-4810-a614-33e33fc09b61",
   "metadata": {
    "tags": []
   },
   "outputs": [],
   "source": [
    "# Imports\n",
    "import PyHyperScattering as phs\n",
    "import pathlib\n",
    "import sys\n",
    "import ast\n",
    "import json\n",
    "import datetime\n",
    "import numpy as np\n",
    "import pandas as pd\n",
    "import xarray as xr\n",
    "import matplotlib.pyplot as plt\n",
    "from matplotlib.colors import LogNorm\n",
    "from tqdm.auto import tqdm\n",
    "import dask.array as da\n",
    "from tiled.client import from_profile, from_uri\n",
    "\n",
    "# sys.path.append('/nsls2/users/alevin/local_lib')\n",
    "# from andrew_rsoxs_fxns import *\n",
    "\n",
    "print(f'Using PyHyperScattering Version: {phs.__version__}')"
   ]
  },
  {
   "cell_type": "markdown",
   "id": "837e6cdb-12ef-4a61-a783-0bbd6324c28a",
   "metadata": {},
   "source": [
    "## Define paths & short functions"
   ]
  },
  {
   "cell_type": "code",
   "execution_count": null,
   "id": "bd5a132f-e19c-4659-8334-1f5dcdb1ac2d",
   "metadata": {},
   "outputs": [],
   "source": [
    "# Define directory paths\n",
    "userPath = pathlib.Path('/nsls2/users/alevin')\n",
    "# propPath = pathlib.Path('/nsls2/data/sst/proposals/2022-2/pass-309180')\n",
    "propPath = pathlib.Path('/nsls2/data/sst/proposals/2023-2/pass-311130')\n",
    "outPath = propPath.joinpath('processed_data')\n",
    "jsonPath = outPath.joinpath('local_config')\n",
    "maskPath = outPath.joinpath('masks')\n",
    "zarrsPath = outPath.joinpath('zarrs')\n",
    "calibPath = propPath.joinpath('Calibration')\n",
    "samplePath = propPath.joinpath('TRMSN_NEXAFS_and_RSoXS')\n",
    "# samplePath = pathlib.Path('/nsls2/data/sst/proposals/2022-2/pass-309180/raw_data/rsoxs/2022-08-01')\n",
    "# samplePath = pathlib.Path('/nsls2/data/sst/legacy/RSoXS/suitcased_data/users/2021-3/GU-309180-CUBLDER/auto/RSoXS/2021-11-19')"
   ]
  },
  {
   "cell_type": "code",
   "execution_count": null,
   "id": "413f5bdb-714a-4dc3-99a0-11d9558fbd9d",
   "metadata": {},
   "outputs": [],
   "source": [
    "# Some user defined functions for loading metadata\n",
    "def load_monitors(loader, run, dims=['energy', 'polarization']):\n",
    "    md = loader.loadMd(run)\n",
    "    monitors = loader.loadMonitors(run)\n",
    "    dims_to_join = []\n",
    "    dim_names_to_join = []\n",
    "    for dim in dims:\n",
    "        dims_to_join.append(md[dim].compute())\n",
    "        dim_names_to_join.append(dim)  \n",
    "    index = pd.MultiIndex.from_arrays(dims_to_join, names=dim_names_to_join)\n",
    "    monitors_remeshed = monitors.rename({'time':'system'}).reset_index('system').assign_coords(system=index).unstack('system')\n",
    "    return monitors_remeshed\n",
    "\n",
    "def load_diode(loader, run):\n",
    "    monitors = loader.loadMonitors(run)\n",
    "    energies = monitors['en_monoen_readback']\n",
    "    monitors = monitors.rename({'time':'energy'}).reset_index('energy').assign_coords(energy=energies.data)\n",
    "    polarization = float(round(run['baseline']['data']['en_polarization'][0].compute()))\n",
    "    monitors = monitors.expand_dims({'polarization': [polarization]})\n",
    "    # monitors.attrs['diode_scan_id'] = run.start['scan_id']\n",
    "    monitors = monitors.dropna(dim='energy').groupby('energy').mean()\n",
    "    \n",
    "    return monitors"
   ]
  },
  {
   "cell_type": "markdown",
   "id": "703b8c8b-cd38-498a-834f-ab0f1a09ad8b",
   "metadata": {
    "tags": []
   },
   "source": [
    "## Load from local file"
   ]
  },
  {
   "cell_type": "code",
   "execution_count": null,
   "id": "503634fc-be14-410c-9a90-20dcc0588cd7",
   "metadata": {},
   "outputs": [],
   "source": [
    "local_loader = phs.load.SST1RSoXSLoader(corr_mode='none')"
   ]
  },
  {
   "cell_type": "code",
   "execution_count": null,
   "id": "e36dff64-c7dc-46ee-973b-4b63b7f67665",
   "metadata": {},
   "outputs": [],
   "source": [
    "scan_id = '65802'\n",
    "# scan_id = '34427'\n",
    "filepath = samplePath.joinpath(scan_id)\n",
    "filepath"
   ]
  },
  {
   "cell_type": "code",
   "execution_count": null,
   "id": "6eae6adb-33fd-47ce-96f4-459ccf8a9a91",
   "metadata": {
    "scrolled": true,
    "tags": []
   },
   "outputs": [],
   "source": [
    "[f.name for f in filepath.iterdir()]"
   ]
  },
  {
   "cell_type": "code",
   "execution_count": null,
   "id": "a39c1cac-90e9-494d-ad77-2792b1e59bb1",
   "metadata": {
    "tags": []
   },
   "outputs": [],
   "source": [
    "# local_loader = SST1RSoXSLoader(corr_mode='None')\n",
    "da = local_loader.loadFileSeries(filepath, dims=['energy', 'polarization'])\n",
    "da"
   ]
  },
  {
   "cell_type": "code",
   "execution_count": null,
   "id": "5c6d37e1-44f8-4485-b11d-5d2c68e56d33",
   "metadata": {
    "tags": []
   },
   "outputs": [],
   "source": [
    "da = da.unstack('system')\n",
    "# da = da.where(da>1e-3)\n",
    "da"
   ]
  },
  {
   "cell_type": "code",
   "execution_count": null,
   "id": "76e492e1-bc00-4147-836e-c73393102953",
   "metadata": {},
   "outputs": [],
   "source": [
    "# cmin = float(da.quantile(0.1))\n",
    "# cmax = float(da.quantile(0.9))\n",
    "\n",
    "# da.sel(polarization=0, energy=285, method='nearest').plot.imshow(norm=LogNorm(1e1, 1e4), cmap=cmap, interpolation='nearest')\n",
    "\n",
    "energies = [270, 280, 282, 283, 284, 285, 286, 290]\n",
    "\n",
    "fg = da.sel(polarization=90, method='nearest').sel(energy=energies, method='nearest').plot.imshow(figsize=(18, 6),\n",
    "                col='energy', col_wrap=4, norm=LogNorm(1, 1e4), cmap=cmap, interpolation='nearest')\n",
    "fg.cbar.set_label('Intensity [arb. units]', rotation=270, labelpad=15)\n",
    "for axes in fg.axs.flatten():\n",
    "    axes.set(aspect='equal')\n",
    "\n",
    "plt.show()"
   ]
  },
  {
   "cell_type": "markdown",
   "id": "fad9c378-aeab-4f72-8652-2319d75aea2d",
   "metadata": {
    "tags": []
   },
   "source": [
    "## Load raw data from databroker & save zarrs"
   ]
  },
  {
   "cell_type": "code",
   "execution_count": null,
   "id": "aa427f2a-9586-4b9e-8eb7-8c79ca10aca5",
   "metadata": {},
   "outputs": [],
   "source": [
    "# Define catalog(s):\n",
    "c = from_profile(\"rsoxs\", structure_clients='dask')\n",
    "# c = from_uri('https://tiled.nsls2.bnl.gov/', structure_clients='numpy')['rsoxs']['raw']\n",
    "print(c)"
   ]
  },
  {
   "cell_type": "code",
   "execution_count": null,
   "id": "29e4de05-b722-4a85-a6f5-fdb60dfe3452",
   "metadata": {},
   "outputs": [],
   "source": [
    "# Define loader(s):\n",
    "# db_loader = phs.load.SST1RSoXSDB(corr_mode='None', catalog=c, catalog_kwargs={}, dark_pedestal=40)  # initialize rsoxs databroker loader w/ Dask\n",
    "db_loader = phs.load.SST1RSoXSDB(corr_mode='none', use_chunked_loading=True, dark_pedestal=40)  # initialize rsoxs databroker loader w/ Dask"
   ]
  },
  {
   "cell_type": "code",
   "execution_count": null,
   "id": "acbfa09c-79ce-4399-b91e-2d5a6ab9bf14",
   "metadata": {
    "tags": []
   },
   "outputs": [],
   "source": [
    "## Search for and summarize runs:\n",
    "# runs_sum_df = db_loader.summarize_run(institution='CUBLDER', cycle='2023-2', project='Cal', sample_id='diode', plan='oxygen')\n",
    "# runs_sum_df = db_loader.summarize_run(institution='CUBLDER', cycle='2023-2', sample_id='', project='TRMSN', plan='rsoxs_carbon')\n",
    "# runs_sum_df = db_loader.summarize_run(institution='CUBLDER',cycle='2022-2', sample='andrew*', plan='full*', debugWarnings=False)\n",
    "runs_sum_df = db_loader.summarize_run(institution='CUBLDER',cycle='2021-3', sample='', plan='full*')\n",
    "\n",
    "# runs_sum_df = runs_sum_df.set_index('scan_id')  # optional, set index to scan id\n",
    "print(runs_sum_df['plan'].unique())\n",
    "display(runs_sum_df)"
   ]
  },
  {
   "cell_type": "code",
   "execution_count": null,
   "id": "bf8b0be6-d91a-4637-a965-defbe6578e1d",
   "metadata": {
    "tags": []
   },
   "outputs": [],
   "source": [
    "## Slice output dataframe for samples of interest\n",
    "plan_of_interest = 'rsoxs_carbon'\n",
    "\n",
    "df = runs_sum_df\n",
    "# runs_of_interest = df\n",
    "runs_of_interest = df[(df['plan']==plan_of_interest) & (df['num_Images']==228)]\n",
    "# runs_of_interest = df[(df['plan']==plan_of_interest) & (df['num_Images']==114)]\n",
    "# runs_of_interest = df[(df['plan']==plan_of_interest) & (df['num_Images']==80)]\n",
    "\n",
    "display(runs_of_interest)"
   ]
  },
  {
   "cell_type": "code",
   "execution_count": null,
   "id": "b9a4435a-27ef-4103-8318-0d1911479b9d",
   "metadata": {
    "tags": []
   },
   "outputs": [],
   "source": [
    "## Cell to check polarizations of nexafs scans\n",
    "\n",
    "# scan_id = 65760 # nexafs nitrogen\n",
    "# # scan_id = 65840  # rsoxs nitrogen\n",
    "# lab_pol = round(c[scan_id]['baseline']['data']['en_polarization'][0].compute())\n",
    "# sample_pol = round(c[scan_id]['baseline']['data']['en_sample_polarization'][0].compute())\n",
    "# print(f'Lab: {lab_pol}, Sample: {sample_pol}')"
   ]
  },
  {
   "cell_type": "code",
   "execution_count": null,
   "id": "955ea2e6-8ac8-493f-ab89-f4f7a8ecea17",
   "metadata": {
    "scrolled": true,
    "tags": []
   },
   "outputs": [],
   "source": [
    "raw_int_DA_rows = []\n",
    "samp_au_DA_rows = []\n",
    "# for scan_id in tqdm([65808, 65810]):\n",
    "for scan_id in tqdm(runs_of_interest['scan_id']):\n",
    "    run = c[scan_id]\n",
    "    raw_int_DA = db_loader.loadRun(run, dims=['energy', 'polarization'])\n",
    "    sample_id = raw_int_DA.start['sample_id']\n",
    "    sample_name = raw_int_DA.sample_name\n",
    "    \n",
    "    raw_int_DA = raw_int_DA.expand_dims({'scan_id': [raw_int_DA.sampleid]})\n",
    "    raw_int_DA = raw_int_DA.assign_coords(sample_id=('scan_id', [sample_id]),\n",
    "                          sample_name=('scan_id', [sample_name]))\n",
    "    raw_int_DA_rows.append(raw_int_DA)\n",
    "    \n",
    "    monitors = load_monitors(db_loader, run, dims=['energy', 'polarization'])\n",
    "    samp_au_DA = monitors['RSoXS Au Mesh Current']\n",
    "    samp_au_DA = samp_au_DA.expand_dims({'scan_id': [raw_int_DA.sampleid]})\n",
    "    samp_au_DA = samp_au_DA.assign_coords(sample_id=('scan_id', [sample_id]),\n",
    "                                sample_name=('scan_id', [sample_name]))\n",
    "    samp_au_DA_rows.append(samp_au_DA)\n",
    "\n",
    "DS = xr.concat(raw_int_DA_rows, 'scan_id').to_dataset(name='raw_intensity')\n",
    "DS['sample_au_mesh'] = xr.concat(samp_au_DA_rows, 'scan_id')\n",
    "DS.attrs['name'] = plan_of_interest\n",
    "DS = DS.swap_dims({'scan_id':'sample_name'})"
   ]
  },
  {
   "cell_type": "code",
   "execution_count": null,
   "id": "e483f619-40c1-4b46-8fee-78c67b0f5e0c",
   "metadata": {},
   "outputs": [],
   "source": [
    "DS"
   ]
  },
  {
   "cell_type": "code",
   "execution_count": null,
   "id": "46fb7d7b-55d5-4c6c-b68a-c3a1fd5e0e30",
   "metadata": {},
   "outputs": [],
   "source": [
    "bcxy_2023C2 = {'waxs_bcx': 446.4, 'waxs_bcy': 505.5}  # previously determined to be correct using later cells, don't apply q_labels if not\n",
    "\n",
    "DS['raw_intensity'].attrs['beamcenter_x'] = bcxy_2023C2['waxs_bcx']\n",
    "DS['raw_intensity'].attrs['beamcenter_y'] = bcxy_2023C2['waxs_bcy']\n",
    "\n",
    "DS['raw_intensity'] = apply_q_labels(DS['raw_intensity'])\n",
    "\n",
    "DS"
   ]
  },
  {
   "cell_type": "code",
   "execution_count": null,
   "id": "78a2cf62-5ebb-429d-884e-e79c2c6be85c",
   "metadata": {},
   "outputs": [],
   "source": [
    "carbon_diodes = {0: 65793, 90: 65794}\n",
    "nitrogen_diodes = {0: 65696, 90: 65700}\n",
    "oxygen_diodes = {0: 65756, 90: 65760}\n",
    "\n",
    "diode_monitors_00pol = load_diode(db_loader, c[oxygen_diodes[0]])\n",
    "diode_monitors_90pol = load_diode(db_loader, c[oxygen_diodes[90]])"
   ]
  },
  {
   "cell_type": "code",
   "execution_count": null,
   "id": "2a49cc1c-a0c9-4f19-a97c-6aab27c57ef3",
   "metadata": {
    "tags": []
   },
   "outputs": [],
   "source": [
    "coords = {'energy':DS['energy'].data}\n",
    "diode_monitors_00pol = diode_monitors_00pol.interp(coords)\n",
    "diode_monitors_90pol = diode_monitors_90pol.interp(coords)"
   ]
  },
  {
   "cell_type": "code",
   "execution_count": null,
   "id": "89056e53-e230-4a7f-8c0f-b88b1242cf3d",
   "metadata": {
    "tags": []
   },
   "outputs": [],
   "source": [
    "diode_monitors = xr.concat([diode_monitors_00pol, diode_monitors_90pol], dim='polarization')\n",
    "diode_monitors"
   ]
  },
  {
   "cell_type": "code",
   "execution_count": null,
   "id": "0ec2d56e-be7b-48a2-920f-b702e59574c7",
   "metadata": {},
   "outputs": [],
   "source": [
    "DS['calib_au_mesh'] = diode_monitors['RSoXS Au Mesh Current']\n",
    "DS['calib_diode'] = diode_monitors['WAXS Beamstop']\n",
    "DS"
   ]
  },
  {
   "cell_type": "code",
   "execution_count": null,
   "id": "da550d1e-3c1d-4d36-9946-16ec8d72a78e",
   "metadata": {},
   "outputs": [],
   "source": [
    "DS['corr_intensity'] = ((DS['raw_intensity'] / DS['sample_au_mesh'])\n",
    "                        * (DS['calib_au_mesh'] / DS['calib_diode']))\n",
    "\n",
    "DS"
   ]
  },
  {
   "cell_type": "code",
   "execution_count": null,
   "id": "d2078f8f-58c9-4e6c-868e-cc5ea5abd90a",
   "metadata": {
    "tags": []
   },
   "outputs": [],
   "source": [
    "# checks for  non-serializable data types in the attributes of the raw_intensity and makes serializable\n",
    "for k, v in DS['raw_intensity'].attrs.items():\n",
    "    if isinstance(v, dask.array.core.Array):\n",
    "        DS['raw_intensity'].attrs[k] = v.compute()\n",
    "        print(f'{k:<20}  |  {type(v)}')\n",
    "    elif isinstance(v, dict) or isinstance(v, datetime.datetime):\n",
    "        DS['raw_intensity'].attrs[k] = str(v) \n",
    "        print(f'{k:<20}  |  {type(v)}')"
   ]
  },
  {
   "cell_type": "code",
   "execution_count": null,
   "id": "f3683f9f-26f2-4b4f-9d07-bcc670edb984",
   "metadata": {
    "tags": []
   },
   "outputs": [],
   "source": [
    "with ProgressBar():\n",
    "    DS.to_zarr(zarrsPath.joinpath(f'cartesian_{plan_of_interest}.zarr'))"
   ]
  },
  {
   "cell_type": "markdown",
   "id": "a832f018-03ec-4166-96a5-e2a1bd29432d",
   "metadata": {
    "tags": []
   },
   "source": [
    "## Load data from saved zarrs"
   ]
  },
  {
   "cell_type": "code",
   "execution_count": null,
   "id": "72be6fc7-02da-49eb-a505-7aa065309ba2",
   "metadata": {
    "tags": []
   },
   "outputs": [],
   "source": [
    "plan_of_interest = 'rsoxs_carbon'\n",
    "DS = xr.open_zarr(zarrsPath.joinpath(f'cartesian_{plan_of_interest}.zarr'))\n",
    "\n",
    "# Compute any dask coordiantes\n",
    "for coord_name, coord_data in DS.coords.items():\n",
    "    if isinstance(coord_data.data, da.Array):\n",
    "        DS.coords[coord_name] = coord_data.compute()\n",
    "        \n",
    "# Substract bare SiN raw and double-norm-corrected intensities\n",
    "# sin_sub_DS = DS.copy()\n",
    "# sin_sub_DS['raw_intensity'] = DS['raw_intensity'] - DS['raw_intensity'].sel(sample_name='BareSiN')\n",
    "# sin_sub_DS['raw_intensity'].attrs = DS['raw_intensity'].attrs\n",
    "# sin_sub_DS['corr_intensity'] = DS['corr_intensity'] - DS['corr_intensity'].sel(sample_name='BareSiN')\n",
    "# sin_sub_DS.attrs['name'] = 'rsoxs_carbon_SiN_subtracted'\n",
    "\n",
    "DS['sin_sub_raw_intensity'] = DS['raw_intensity'] - DS['raw_intensity'].sel(sample_name='BareSiN')\n",
    "DS['sin_sub_corr_intensity'] = DS['corr_intensity'] - DS['corr_intensity'].sel(sample_name='BareSiN')\n",
    "\n",
    "display(DS)\n",
    "\n",
    "# start_dict = ast.literal_eval(DA.start)"
   ]
  },
  {
   "cell_type": "markdown",
   "id": "9a257eec-9ea3-49fa-9422-8cdaf8fccd10",
   "metadata": {
    "tags": []
   },
   "source": [
    "## Draw/check data & beamcenters & data"
   ]
  },
  {
   "cell_type": "code",
   "execution_count": null,
   "id": "5a934ff9-1629-4597-a09b-f7203add9a26",
   "metadata": {},
   "outputs": [],
   "source": [
    "# Set colormap\n",
    "cmap = plt.cm.turbo.copy()\n",
    "cmap.set_bad(cmap.get_under())\n",
    "\n",
    "# Choose a sample dataarray:\n",
    "bare_sin_DA = DS.sel(sample_name='BareSiN')\n",
    "bare_alo_DA = DS.sel(sample_name='BareAlO')\n",
    "print(DS.sample_name.values)\n",
    "sample_name = 'PM6-Y6_3000_dSiN'"
   ]
  },
  {
   "cell_type": "markdown",
   "id": "eeb00c86-12a0-4369-b2c5-bb59c9790dd1",
   "metadata": {
    "jp-MarkdownHeadingCollapsed": true,
    "tags": []
   },
   "source": [
    "### 1. Check raw images at a selected energy for all loaded scan configurations:"
   ]
  },
  {
   "cell_type": "code",
   "execution_count": null,
   "id": "9990fef1-c6b2-426e-a851-aabc9c7a08e8",
   "metadata": {},
   "outputs": [],
   "source": [
    "sample_DA = DS['raw_intensity'].sel(sample_name=sample_name)\n",
    "\n",
    "# energies = [270, 280, 282, 283, 284, 285, 286, 290]\n",
    "energies = np.round(np.linspace(280, 290, 8), 1)  # carbon\n",
    "# energies = np.round(np.linspace(380, 440, 8), 1)  # nitrogen\n",
    "# energies = np.round(np.linspace(510, 560, 8), 1)  # oxygen\n",
    "\n",
    "pol = 0\n",
    "# pol = 90\n",
    "\n",
    "fg = sample_DA.sel(polarization=pol, method='nearest').sel(energy=energies, method='nearest').sel(\n",
    "            pix_x=slice(160, 780), pix_y=slice(240, 800)).plot.imshow(figsize=(18, 6),\n",
    "                col='energy', col_wrap=4, norm=LogNorm(3e1, 1e4), cmap=cmap)\n",
    "fg.cbar.set_label('Intensity [arb. units]', rotation=270, labelpad=15)\n",
    "fg.fig.suptitle(f'{str(sample_DA.sample_name.data)},  Polarization = {pol}°', y=1.02)\n",
    "for axes in fg.axs.flatten():\n",
    "    axes.set(aspect='equal')\n",
    "\n",
    "plt.show()"
   ]
  },
  {
   "cell_type": "code",
   "execution_count": null,
   "id": "d0960f1a-a389-4d98-857c-2feb00e52a88",
   "metadata": {},
   "outputs": [],
   "source": [
    "float(corr_sample_DA.compute().quantile(0.01))"
   ]
  },
  {
   "cell_type": "code",
   "execution_count": null,
   "id": "a48f4f25-ea5b-4a09-b280-5f64136f860a",
   "metadata": {},
   "outputs": [],
   "source": [
    "float(corr_sample_DA.compute().quantile(0.99))"
   ]
  },
  {
   "cell_type": "code",
   "execution_count": null,
   "id": "3c5b8b40-3936-4535-82b2-9da6f67b818d",
   "metadata": {},
   "outputs": [],
   "source": [
    "corr_sample_DA = DS['sin_sub_corr_intensity'].sel(sample_name=sample_name)\n",
    "\n",
    "# energies = [270, 280, 282, 283, 284, 285, 286, 290]\n",
    "# energies = np.round(np.linspace(280, 290, 8), 1)  # carbon\n",
    "# energies = np.round(np.linspace(380, 440, 8), 1)  # nitrogen\n",
    "energies = np.round(np.linspace(510, 550, 8), 1)  # oxygen\n",
    "\n",
    "pol = 0\n",
    "\n",
    "fg = corr_sample_DA.sel(polarization=pol, method='nearest').sel(energy=energies, method='nearest').sel(\n",
    "            pix_x=slice(160, 780), pix_y=slice(240, 800)).plot.imshow(figsize=(18, 6), x='qx', y='qy',\n",
    "                col='energy', col_wrap=4, norm=LogNorm(5e8, 1e11), cmap=cmap)\n",
    "fg.cbar.set_label('Intensity [arb. units]', rotation=270, labelpad=15)\n",
    "fg.fig.suptitle(f'{str(sample_name)},  Polarization = {pol}°', y=1.02)\n",
    "for axes in fg.axs.flatten():\n",
    "    axes.set(aspect='equal')\n",
    "\n",
    "plt.show()"
   ]
  },
  {
   "cell_type": "markdown",
   "id": "9e11703d-1e5c-4a01-b414-06bd19456ca6",
   "metadata": {
    "jp-MarkdownHeadingCollapsed": true,
    "tags": []
   },
   "source": [
    "### 2. Draw masks"
   ]
  },
  {
   "cell_type": "code",
   "execution_count": null,
   "id": "8210e9d7-2bab-488b-a12a-faca977203ee",
   "metadata": {
    "tags": []
   },
   "outputs": [],
   "source": [
    "## WAXS mask:\n",
    "waxs_mask_img = sample_DA.sel(polarization=0, energy=250, method='nearest').compute()\n",
    "draw = phs.IntegrationUtils.DrawMask(waxs_mask_img, clim=(90, 1e2))\n",
    "draw.ui()"
   ]
  },
  {
   "cell_type": "code",
   "execution_count": null,
   "id": "6f42fba7-d1c6-4118-b49f-989b7d7ce75f",
   "metadata": {},
   "outputs": [],
   "source": [
    "maskPath"
   ]
  },
  {
   "cell_type": "code",
   "execution_count": null,
   "id": "48b1c9f2-b89e-45eb-97ab-4316769a0a7a",
   "metadata": {},
   "outputs": [],
   "source": [
    "## Save and load saxs drawn mask\n",
    "draw.save(maskPath.joinpath('WAXS_detector_180-and-90deg-SiN-mask.json'))"
   ]
  },
  {
   "cell_type": "markdown",
   "id": "86bc6f44-4f22-464c-b93a-cb1c424f8dab",
   "metadata": {
    "tags": []
   },
   "source": [
    "### 3. Check beamcenters"
   ]
  },
  {
   "cell_type": "code",
   "execution_count": null,
   "id": "3354105f-7bea-4a4c-a650-346712b8300d",
   "metadata": {},
   "outputs": [],
   "source": [
    "DS.energy.values"
   ]
  },
  {
   "cell_type": "code",
   "execution_count": null,
   "id": "53088c57-b033-438c-9499-36ae9287e430",
   "metadata": {
    "tags": []
   },
   "outputs": [],
   "source": [
    "# Define example image for mask & initialize phs DrawMask object:\n",
    "sample_DA = DS['raw_intensity'].sel(sample_name=sample_name)\n",
    "# energy = 250\n",
    "# energy = 400\n",
    "energy = 532\n",
    "waxs_mask_img = sample_DA.sel(polarization=0, energy=energy, method='nearest').compute()\n",
    "draw = phs.IntegrationUtils.DrawMask(waxs_mask_img)\n",
    "\n",
    "# Load masks:\n",
    "draw.load(maskPath.joinpath('WAXS_detector_180-and-90deg-SiN-mask.json'))\n",
    "waxs_mask = draw.mask\n",
    "\n",
    "# Check masks:\n",
    "ax = waxs_mask_img.plot.imshow(norm=LogNorm(3e1, 1e3), cmap=cmap)\n",
    "ax.axes.imshow(waxs_mask, alpha=0.5, origin='lower')\n",
    "# ax.axes.imshow(WAXSinteg.mask, alpha=0.5, origin='lower')\n",
    "plt.show()"
   ]
  },
  {
   "cell_type": "code",
   "execution_count": null,
   "id": "f8aa7c2b-e93b-4954-960e-c8e2908019c7",
   "metadata": {
    "tags": []
   },
   "outputs": [],
   "source": [
    "# Initalize PFEnergySeriesIntegrator object & check beamcenter & masks\n",
    "# WAXS\n",
    "WAXSinteg = phs.integrate.PFEnergySeriesIntegrator(geomethod='template_xr', template_xr=sample_DA.sel(polarization=0))\n",
    "WAXSinteg.mask = waxs_mask\n",
    "WAXSinteg.ni_beamcenter_x = waxs_mask_img.beamcenter_x\n",
    "WAXSinteg.ni_beamcenter_y = waxs_mask_img.beamcenter_y\n",
    "print('WAXS Beamcenter: \\n'\n",
    "      f'poni1: {WAXSinteg.poni1}, poni2: {WAXSinteg.poni2} \\n'\n",
    "      f'ni_beamcenter_y: {WAXSinteg.ni_beamcenter_y}, ni_beamcenter_x: {WAXSinteg.ni_beamcenter_x}')\n",
    "\n",
    "# Plot check\n",
    "phs.IntegrationUtils.Check.checkAll(WAXSinteg, waxs_mask_img, img_max=1e3, alpha=0.5)\n",
    "plt.xlim(WAXSinteg.ni_beamcenter_x-250, WAXSinteg.ni_beamcenter_x+250)\n",
    "plt.ylim(WAXSinteg.ni_beamcenter_y-250, WAXSinteg.ni_beamcenter_y+250)\n",
    "plt.gcf().set(dpi=120)\n",
    "plt.show()"
   ]
  },
  {
   "cell_type": "code",
   "execution_count": null,
   "id": "5efc28d1-8c51-40b5-a871-685162158308",
   "metadata": {
    "tags": []
   },
   "outputs": [],
   "source": [
    "# ## Tweaking if needed:\n",
    "\n",
    "# ## WAXS Tweaking & Plot Check\n",
    "# waxs_new_bcx = 396.3\n",
    "# waxs_new_bcy = 553\n",
    "# WAXSinteg.ni_beamcenter_x = waxs_new_bcx\n",
    "# WAXSinteg.ni_beamcenter_y = waxs_new_bcy\n",
    "# raw_waxs.attrs['beamcenter_x'] = waxs_new_bcx\n",
    "# raw_waxs.attrs['beamcenter_x'] = waxs_new_bcx\n",
    "# raw_waxs.attrs['poni1'] = WAXSinteg.poni1\n",
    "# raw_waxs.attrs['poni2'] = WAXSinteg.poni2\n",
    "\n",
    "# print('WAXS Beamcenter Tweaking: \\n'\n",
    "#       f'poni1: {WAXSinteg.poni1}, poni2: {WAXSinteg.poni2} \\n'\n",
    "#       f'ni_beamcenter_y: {WAXSinteg.ni_beamcenter_y}, ni_beamcenter_x: {WAXSinteg.ni_beamcenter_x}')\n",
    "# phs.IntegrationUtils.Check.checkAll(WAXSinteg, waxs_mask_img, img_max=5e3, alpha=0.6, guide1=40)\n",
    "# plt.xlim(WAXSinteg.ni_beamcenter_x-200, WAXSinteg.ni_beamcenter_x+200)\n",
    "# plt.ylim(WAXSinteg.ni_beamcenter_y-200, WAXSinteg.ni_beamcenter_y+200)\n",
    "# plt.gcf().set(dpi=120)\n",
    "# plt.show()\n",
    "\n",
    "\n",
    "## Using Pete D.'s (very slightly modified) beamcentering script:\n",
    "# phs.BeamCentering.CenteringAccessor.refine_geometry\n",
    "\n",
    "# ## WAXS\n",
    "# # res_waxs = raw_waxs.sel(pol=0).util.refine_geometry(energy=275, q_min=0.02, q_max=0.06, chi_min=-10, chi_max=70)\n",
    "# res_waxs = sample_DA.sel(polarization=0).util.refine_geometry(energy=270, q_min=0.02, q_max=0.06)\n",
    "# sample_DA.attrs['poni1'] = res_waxs.x[0]\n",
    "# sample_DA.attrs['poni2'] = res_waxs.x[1]\n",
    "# WAXSinteg = phs.integrate.PFEnergySeriesIntegrator(geomethod='template_xr', template_xr = sample_DA.sel(polarization=0))\n",
    "# WAXSinteg.mask = waxs_mask\n",
    "\n",
    "# ## WAXS Plot check\n",
    "# print('WAXS Beamcenter Post-optimization: \\n'\n",
    "#       f'poni1: {WAXSinteg.poni1}, poni2: {WAXSinteg.poni2} \\n'\n",
    "#       f'ni_beamcenter_y: {WAXSinteg.ni_beamcenter_y}, ni_beamcenter_x: {WAXSinteg.ni_beamcenter_x}')\n",
    "# phs.IntegrationUtils.Check.checkAll(WAXSinteg, waxs_mask_img, img_max=1e5, alpha=0.4)\n",
    "# plt.xlim(WAXSinteg.ni_beamcenter_x-100, WAXSinteg.ni_beamcenter_x+100)\n",
    "# plt.ylim(WAXSinteg.ni_beamcenter_y-100, WAXSinteg.ni_beamcenter_y+100)\n",
    "# plt.gcf().set(dpi=120)\n",
    "# plt.show()"
   ]
  },
  {
   "cell_type": "code",
   "execution_count": null,
   "id": "c5c501fc-ac06-490e-a6ea-1c5ffae0dd69",
   "metadata": {
    "tags": []
   },
   "outputs": [],
   "source": [
    "# ### Write beamcenters to saved .json file if content with them:\n",
    "\n",
    "# beamcenters_dict = {\n",
    "#     f'WAXS_2023C2': {'bcx':sample_DA.beamcenter_x, 'bcy':sample_DA.beamcenter_y}\n",
    "# }\n",
    "\n",
    "# # Check if the file exists, if not, create an empty JSON file\n",
    "# jsonFile = jsonPath.joinpath('beamcenters_dict.json')\n",
    "# if not jsonFile.exists():\n",
    "#     with jsonFile.open('w') as f:\n",
    "#         json.dump({}, f)\n",
    "\n",
    "# # Now, read the existing or empty JSON file\n",
    "# with jsonFile.open('r') as f:\n",
    "#     dic = json.load(f)\n",
    "\n",
    "# dic.update(beamcenters_dict)\n",
    "\n",
    "# # Write the updated dictionary back to the JSON file\n",
    "# with jsonFile.open('w') as f:\n",
    "#     json.dump(dic, f)"
   ]
  },
  {
   "cell_type": "code",
   "execution_count": null,
   "id": "7010dd96-0fdf-4e88-a6ca-0ae2973a5346",
   "metadata": {},
   "outputs": [],
   "source": [
    "# Make mask DataArray:\n",
    "mask_DA = xr.DataArray(data=waxs_mask, dims=['pix_y', 'pix_x'])\n",
    "\n",
    "# Create Dataset of rsoxs_carbon and add the mask as a data variable\n",
    "DS = DA.to_dataset()\n",
    "DS['mask'] = mask_DA\n",
    "display(DS)"
   ]
  },
  {
   "cell_type": "markdown",
   "id": "8a072b7a-0358-4444-8e4e-a3b67d41550b",
   "metadata": {},
   "source": [
    "## Convert to chi-q space & save zarrs"
   ]
  },
  {
   "cell_type": "code",
   "execution_count": null,
   "id": "b3b14f12-beae-4a2e-9720-59474a3624b3",
   "metadata": {
    "scrolled": true,
    "tags": []
   },
   "outputs": [],
   "source": [
    "# Integrate whole cartesian dataset!\n",
    "polar_DS_sample_rows = []\n",
    "for sample_name in tqdm(DS.sample_name.data):\n",
    "# for sample_name in tqdm(['BareSiN', 'A3_3000_dSiN_01', 'BareAlO', 'PM6_3000_dSiN', 'PM6-Y7_3000_dSiN']):\n",
    "    polar_DS = xr.Dataset()\n",
    "    # for intensity in ['corr_intensity', 'sin_sub_corr_intensity']:\n",
    "    for intensity in ['corr_intensity']:\n",
    "        polar_DA_polarization_rows = []\n",
    "        for pol in [0, 90]:\n",
    "            cart_DA = DS[intensity].sel(polarization=pol, sample_name=sample_name)\n",
    "            polar_DA = WAXSinteg.integrateImageStack_dask(cart_DA)\n",
    "            # polar_DA = WAXSinteg.integrateImageStack(cart_DA)\n",
    "            polar_DA = polar_DA.expand_dims({'polarization': [pol]})\n",
    "            polar_DA_polarization_rows.append(polar_DA)\n",
    "        \n",
    "        polar_DS[intensity] = xr.concat(polar_DA_polarization_rows, dim='polarization')\n",
    "\n",
    "    polar_DS = polar_DS.expand_dims({'sample_name':[sample_name]})\n",
    "    polar_DS_sample_rows.append(polar_DS)\n",
    "    polar_DS.attrs['name'] = DS.name\n",
    "    \n",
    "polar_DS = xr.concat(polar_DS_sample_rows, dim='sample_name')"
   ]
  },
  {
   "cell_type": "code",
   "execution_count": null,
   "id": "b91bb8a3-2158-4d95-80df-755c89e191b0",
   "metadata": {
    "tags": []
   },
   "outputs": [],
   "source": [
    "def make_para_perp_DAs(DS, sample_name, intensity_type, pol, qlims, chi_width):\n",
    "    # select dataarray to plot\n",
    "    DA = DS.sel(sample_name=sample_name)[f'{intensity_type}_intensity']\n",
    "    sliced_DA = DA.sel(polarization=pol, q=slice(qlims[0],qlims[1]))\n",
    "\n",
    "    # calculate ISI dataarrays\n",
    "    if pol==0:\n",
    "        para_DA = sliced_DA.rsoxs.slice_chi(180, chi_width=(chi_width/2))\n",
    "        perp_DA = sliced_DA.rsoxs.slice_chi(90, chi_width=(chi_width/2))\n",
    "    elif pol==90:\n",
    "        perp_DA = sliced_DA.rsoxs.slice_chi(180, chi_width=(chi_width/2))\n",
    "        para_DA = sliced_DA.rsoxs.slice_chi(90, chi_width=(chi_width/2))   \n",
    "        \n",
    "    return para_DA, perp_DA\n",
    "\n",
    "\n",
    "# # make selection\n",
    "# sample_name = 'BareSiN'\n",
    "# edge = 'carbon'\n",
    "# intensity_type = 'corr'\n",
    "# pol = 0\n",
    "# qlims = (0.01, 0.08)\n",
    "# chi_width = 30\n",
    "\n",
    "# para_DA, perp_DA = make_para_perp_DAs(polar_DS, sample_name, intensity_type, pol, qlims, chi_width)  \n",
    "\n",
    "# # slice ISI data\n",
    "# para_ISI = para_DA.interpolate_na(dim='q').mean('chi').sum('q')\n",
    "# perp_ISI = perp_DA.interpolate_na(dim='q').mean('chi').sum('q')\n",
    "\n",
    "# # plot\n",
    "# fig, ax = plt.subplots()\n",
    "# para_ISI.sel(energy=slice(280,290)).plot.line(ax=ax, label='para', yscale='log')\n",
    "# perp_ISI.sel(energy=slice(280,290)).plot.line(ax=ax, label='perp', yscale='log')\n",
    "# fig.suptitle('Integrated Scattering Intensity (ISI)', fontsize=14)\n",
    "# ax.set(title=f'{sample_name}, Polarization = {pol}°, Chi Width = {chi_width}°', xlabel='Photon Energy [eV]', ylabel='Double-Norm-Corrected Intensity [arb. units]')\n",
    "# ax.legend()\n",
    "# plt.show()"
   ]
  },
  {
   "cell_type": "code",
   "execution_count": null,
   "id": "3842fd8c-b964-4d65-8be7-9959cea18cae",
   "metadata": {},
   "outputs": [],
   "source": [
    "polar_DS"
   ]
  },
  {
   "cell_type": "code",
   "execution_count": null,
   "id": "b8921643-e400-4de7-8dda-e8b6707efd30",
   "metadata": {
    "tags": []
   },
   "outputs": [],
   "source": [
    "# make selection\n",
    "sample_name = 'Y6_3000_dSiN'\n",
    "edge = 'oxygen'\n",
    "intensity_type = 'corr'\n",
    "pol = 90\n",
    "qlims = (0.01, 0.08)\n",
    "chi_width = 30\n",
    "\n",
    "para_DA, perp_DA = make_para_perp_DAs(polar_DS, sample_name, intensity_type, pol, qlims, chi_width)   \n",
    "\n",
    "# Select AR data\n",
    "ar_DA = (para_DA.mean('chi') - perp_DA.mean('chi')) / (para_DA.mean('chi') + perp_DA.mean('chi'))\n",
    "\n",
    "# Plot\n",
    "ax = ar_DA.sel(energy=slice(525,540)).plot(figsize=(8,5), norm=plt.Normalize(-0.6,0.6))\n",
    "ax.figure.suptitle('Anisotropy Ratio (AR) Map', fontsize=14, x=0.43)\n",
    "ax.axes.set(title=f'{sample_name}, Polarization = {pol}°, Chi Width = {chi_width}°', ylabel='Photon Energy [eV]', xlabel='q [$Å^{-1}$]')\n",
    "ax.colorbar.set_label('AR [arb. units]', rotation=270, labelpad=12)\n",
    "plt.show()"
   ]
  },
  {
   "cell_type": "code",
   "execution_count": null,
   "id": "17414a0a-8649-4ca2-8d2e-46812ec1faea",
   "metadata": {},
   "outputs": [],
   "source": [
    "display(polar_DS.sample_name.values)\n",
    "sample_name = 'PM6-Y6_3000_dSiN'"
   ]
  },
  {
   "cell_type": "code",
   "execution_count": null,
   "id": "6d269e47-8d71-4ce2-8a94-235478d22535",
   "metadata": {
    "tags": []
   },
   "outputs": [],
   "source": [
    "# energy = 285\n",
    "# energy = 400\n",
    "energy = 530\n",
    "\n",
    "polar_DS['corr_intensity'].sel(sample_name=sample_name, polarization=0, q=slice(0,0.05)).sel(\n",
    "    energy=energy, method='nearest').plot.imshow(norm=LogNorm(1e8, 1e9), cmap=cmap)"
   ]
  },
  {
   "cell_type": "code",
   "execution_count": null,
   "id": "9f0f71ca-77db-48cd-ac3a-285202b56ce8",
   "metadata": {
    "tags": []
   },
   "outputs": [],
   "source": [
    "# 1. Get energy values\n",
    "energy_values = polar_DS.energy.values\n",
    "energy_slices = [energy_values[i:i+5] for i in range(0, len(energy_values), 5)]\n",
    "energy_slices"
   ]
  },
  {
   "cell_type": "code",
   "execution_count": null,
   "id": "41034b49-88d5-449a-a871-d3fed565103f",
   "metadata": {
    "tags": []
   },
   "outputs": [],
   "source": [
    "sample_names = polar_DS.sample_name.values\n",
    "\n",
    "polar_DS.sel(sample_name=[sample_names[0]]).to_zarr(zarrsPath.joinpath(f'polar_{polar_DS.name}.zarr'), mode='w')\n",
    "\n",
    "for sample_name in tqdm(sample_names[1:], desc='Samples...'):\n",
    "    polar_DS.sel(sample_name=[sample_name]).to_zarr(zarrsPath.joinpath(f'polar_{polar_DS.name}.zarr'), mode='a', append_dim='sample_name')"
   ]
  },
  {
   "cell_type": "code",
   "execution_count": null,
   "id": "23ac4841-b6b4-43f2-83ae-10c5779f4763",
   "metadata": {
    "scrolled": true,
    "tags": []
   },
   "outputs": [],
   "source": [
    "# # import zarr\n",
    "\n",
    "# # sample_names = polar_DS.sample_name.values\n",
    "# # energy_values = polar_DS.energy.values\n",
    "# # energy_slices = [energy_values[i:i+5] for i in range(0, len(energy_values), 5)]\n",
    "\n",
    "# # root_store = zarr.open_group(zarrsPath.joinpath(f'polar_{polar_DS.name}_regions.zarr').as_posix(), mode='a')\n",
    "\n",
    "# # for sample in sample_names:\n",
    "# #     # Make sure there's a group for this sample in the Zarr store\n",
    "# #     if sample not in root_store.group_keys():\n",
    "# #         root_store.create_group(sample)\n",
    "    \n",
    "# #     subset_by_sample = polar_DS.sel(sample_name=sample)\n",
    "    \n",
    "# #     for idx, energy_slice in enumerate(energy_slices):\n",
    "# #         final_subset = subset_by_sample.sel(energy=energy_slice)\n",
    "        \n",
    "# #         # Save to the specific group and energy slice within the Zarr store\n",
    "# #         final_subset.to_zarr(root_store[sample], mode='a', append_dim='energy', consolidated=True)\n",
    "\n",
    "# sample_names = polar_DS.sample_name.values\n",
    "# energy_values = polar_DS.energy.values\n",
    "# energy_slices = [energy_values[i:i+5] for i in range(0, len(energy_values), 5)]\n",
    "\n",
    "# main_zarr_path = zarrsPath.joinpath(f'polar_{polar_DS.name}_regions.zarr')\n",
    "\n",
    "# for sample in tqdm(sample_names, desc='Samples...'):\n",
    "#     subset_by_sample = polar_DS.sel(sample_name=sample)\n",
    "    \n",
    "#     # Define path for the sample within the main Zarr store\n",
    "#     sample_path = main_zarr_path.joinpath(sample)\n",
    "    \n",
    "#     for idx, energy_slice in enumerate(energy_slices):\n",
    "#         final_subset = subset_by_sample.sel(energy=energy_slice)\n",
    "        \n",
    "#         # Save to the specific sample path and energy slice within the Zarr store\n",
    "#         if idx==0:\n",
    "#             final_subset.to_zarr(sample_path, mode='w', consolidated=True)\n",
    "#         else:\n",
    "#             final_subset.to_zarr(sample_path, mode='a', append_dim='energy', consolidated=True)\n",
    "\n"
   ]
  },
  {
   "cell_type": "code",
   "execution_count": null,
   "id": "7bc7f604-09b9-4bec-84a4-e0571d7a947a",
   "metadata": {},
   "outputs": [],
   "source": [
    "def make_para_perp_DAs(datasets, sample_name, edge, intensity_type, pol, qlims, chi_width):\n",
    "    # select dataarray to plot\n",
    "    DS = datasets[f'polar_{edge}']\n",
    "    DA = DS.sel(sample_name=sample_name)[f'{intensity_type}_intensity']\n",
    "    sliced_DA = DA.sel(polarization=pol, q=slice(qlims[0],qlims[1]))\n",
    "\n",
    "    # calculate ISI dataarrays\n",
    "    if pol==0:\n",
    "        para_DA = sliced_DA.rsoxs.slice_chi(180, chi_width=(chi_width/2))\n",
    "        perp_DA = sliced_DA.rsoxs.slice_chi(90, chi_width=(chi_width/2))\n",
    "    elif pol==90:\n",
    "        perp_DA = sliced_DA.rsoxs.slice_chi(180, chi_width=(chi_width/2))\n",
    "        para_DA = sliced_DA.rsoxs.slice_chi(90, chi_width=(chi_width/2))   \n",
    "        \n",
    "    return para_DA, perp_DA\n",
    "\n",
    "# load dictionary of rsoxs datasets\n",
    "rsoxs_datasets = {}\n",
    "key = 'polar_regions'\n",
    "key_start = key.split('_')[0]\n",
    "key_end = key.split('_')[1]        \n",
    "zarrPath = list(zarrsPath.glob(f'{key_start}*{key_end}.zarr'))[0]\n",
    "rsoxs_datasets[key] = xr.open_zarr(zarrPath)\n",
    "\n",
    "# Compute any dask coordiantes\n",
    "for coord_name, coord_data in rsoxs_datasets[key].coords.items():\n",
    "    if isinstance(coord_data.data, da.Array):\n",
    "        rsoxs_datasets[key].coords[coord_name] = coord_data.compute()\n",
    "            \n",
    "rsoxs_datasets[key]"
   ]
  },
  {
   "cell_type": "code",
   "execution_count": null,
   "id": "c50089ab-7179-4980-93e2-02825306e849",
   "metadata": {},
   "outputs": [],
   "source": [
    "# make selection\n",
    "edge = 'regions'\n",
    "intensity_type = 'corr'\n",
    "qlims = (0.01, 0.08)\n",
    "chi_width = 30\n",
    "\n",
    "for sample_name in tqdm(rsoxs_datasets[f'polar_{edge}'].sample_name.data):\n",
    "    for pol in [0, 90]:\n",
    "        ### Select para & perp DataArrays\n",
    "        para_DA, perp_DA = make_para_perp_DAs(rsoxs_datasets, sample_name, edge, intensity_type, pol, qlims, chi_width)  \n",
    "        \n",
    "#         ### ISI:\n",
    "#         # Slice ISI data\n",
    "#         para_ISI = para_DA.interpolate_na(dim='q').mean('chi').sum('q')\n",
    "#         perp_ISI = perp_DA.interpolate_na(dim='q').mean('chi').sum('q')\n",
    "\n",
    "#         # Plot\n",
    "#         fig, ax = plt.subplots()\n",
    "#         para_ISI.sel(energy=slice(280,290)).plot.line(ax=ax, label='para', yscale='log')\n",
    "#         perp_ISI.sel(energy=slice(280,290)).plot.line(ax=ax, label='perp', yscale='log')\n",
    "#         fig.suptitle('Integrated Scattering Intensity (ISI)', fontsize=14)\n",
    "#         ax.set(title=f'{sample_name}, Polarization = {pol}°, Chi Width = {chi_width}°', xlabel='Photon Energy [eV]', ylabel='Double-Norm-Corrected Intensity [arb. units]')\n",
    "#         ax.legend()\n",
    "#         fig.savefig(plotsPath.joinpath('isi', f'{sample_name}_{edge}_{intensity_type}_chiWidth-{chi_width}deg_pol{pol}deg.png'), dpi=120)\n",
    "#         plt.close('all')\n",
    "        \n",
    "#         ### Linecut Maps:\n",
    "#         fig, axs = plt.subplots(1, 2, figsize=(11,5))\n",
    "\n",
    "#         para_DA.mean('chi').sel(energy=slice(282,290)).plot(ax=axs[0], cmap=cmap, norm=LogNorm(1e9, 1e11), add_colorbar=False)\n",
    "#         perp_DA.mean('chi').sel(energy=slice(282,290)).plot(ax=axs[1], cmap=cmap, norm=LogNorm(1e9, 1e11), add_colorbar=False)\n",
    "\n",
    "#         sm = plt.cm.ScalarMappable(cmap=cmap, norm=LogNorm(2e10, 1e12)) # Create a ScalarMappable object with the colormap and normalization & add the colorbar to the figure\n",
    "#         cax = axs[1].inset_axes([1.03, 0, 0.05, 1])\n",
    "#         cbar = fig.colorbar(sm, cax=cax, orientation='vertical')\n",
    "#         cbar.set_label(label='Intensity [arb. units]', labelpad=12)\n",
    "#         fig.suptitle(f'Linecut Maps: {sample_name}, Polarization = {pol}°, Chi Width = {chi_width}°', fontsize=14)\n",
    "#         fig.set(tight_layout=True)\n",
    "#         axs[0].set(title='Parallel to $E_p$', ylabel='Photon energy [eV]', xlabel='q [$Å^{-1}$]')\n",
    "#         axs[1].set(title='Perpendicular to $E_p$ ', ylabel=None, xlabel='q [$Å^{-1}$]')\n",
    "#         fig.savefig(plotsPath.joinpath('linecut_maps', f'{sample_name}_{edge}_{intensity_type}_chiWidth-{chi_width}deg_pol{pol}deg.png'), dpi=120)\n",
    "#         plt.close('all')\n",
    "\n",
    "        ### AR Maps:\n",
    "        # Select AR data\n",
    "        ar_DA = (para_DA.mean('chi') - perp_DA.mean('chi')) / (para_DA.mean('chi') + perp_DA.mean('chi'))\n",
    "\n",
    "        # Plot\n",
    "        ax = ar_DA.sel(energy=slice(282,292)).plot(figsize=(8,5), norm=plt.Normalize(-0.6, 0.6))\n",
    "        ax.figure.suptitle('Anisotropy Ratio (AR) Map', fontsize=14, x=0.43)\n",
    "        ax.axes.set(title=f'{sample_name}, Polarization = {pol}°, Chi Width = {chi_width}°', ylabel='Photon Energy [eV]', xlabel='q [$Å^{-1}$]')\n",
    "        ax.colorbar.set_label('AR [arb. units]', rotation=270, labelpad=12)\n",
    "        # ax.figure.savefig(plotsPath.joinpath('ar_maps', f'{sample_name}_{edge}_{intensity_type}_chiWidth-{chi_width}deg_pol{pol}deg.png'), dpi=120)\n",
    "        plt.show()\n",
    "        plt.close('all')"
   ]
  },
  {
   "cell_type": "code",
   "execution_count": null,
   "id": "af3fe7cb-ebdd-4702-93f5-6339fd01eebb",
   "metadata": {},
   "outputs": [],
   "source": []
  }
 ],
 "metadata": {
  "kernelspec": {
   "display_name": "Python 3 (ipykernel)",
   "language": "python",
   "name": "python3"
  },
  "language_info": {
   "codemirror_mode": {
    "name": "ipython",
    "version": 3
   },
   "file_extension": ".py",
   "mimetype": "text/x-python",
   "name": "python",
   "nbconvert_exporter": "python",
   "pygments_lexer": "ipython3",
   "version": "3.9.15"
  },
  "toc-showmarkdowntxt": false
 },
 "nbformat": 4,
 "nbformat_minor": 5
}
