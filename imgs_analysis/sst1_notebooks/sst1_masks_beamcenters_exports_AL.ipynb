{
 "cells": [
  {
   "cell_type": "markdown",
   "id": "33f4cd6c-7a40-4218-9893-505fc5b408aa",
   "metadata": {},
   "source": [
    "# Processing SST1 RSoXS Data"
   ]
  },
  {
   "cell_type": "markdown",
   "id": "5e9f3ff3-1cdc-429b-a22e-7fb81de80b9d",
   "metadata": {},
   "source": [
    "## Pip install and restart kernel "
   ]
  },
  {
   "cell_type": "code",
   "execution_count": null,
   "id": "2d587a4f-fd51-4416-9500-db7c209b6f1e",
   "metadata": {
    "scrolled": true,
    "tags": [],
    "vscode": {
     "languageId": "python"
    }
   },
   "outputs": [],
   "source": [
    "# Only needs to be run once per session, restart kernel after running\n",
    "\n",
    "# %pip install pyhyperscattering  # to use pip published package\n",
    "!pip install -e /nsls2/users/alevin/repos/pyhyper_toneygroup_fork/PyHyperScattering  # to use pip to install via directory\n",
    "!pip install zarr  # fixed an error with xr.DataSet.to_zarr() method, though not sure if this is really needed\n",
    "# !pip install xarray==2023.4.0\n",
    "# !pip install -e /nsls2/users/alevin/repos/xarray  # install a more recent xarray, really just wanted to xr.DataArray.to_zarr method"
   ]
  },
  {
   "cell_type": "markdown",
   "id": "1502b74c-ba23-41a8-9150-d69038862abf",
   "metadata": {},
   "source": [
    "## Imports"
   ]
  },
  {
   "cell_type": "code",
   "execution_count": null,
   "id": "fd62f131-e021-496d-b694-5c033b2b6cb3",
   "metadata": {
    "tags": [],
    "vscode": {
     "languageId": "python"
    }
   },
   "outputs": [],
   "source": [
    "## The autoreload IPython magic command reloads all modules before code is ran\n",
    "%load_ext autoreload"
   ]
  },
  {
   "cell_type": "code",
   "execution_count": null,
   "id": "dea31dcf-4d9e-4810-a614-33e33fc09b61",
   "metadata": {
    "tags": [],
    "vscode": {
     "languageId": "python"
    }
   },
   "outputs": [],
   "source": [
    "## Imports\n",
    "import PyHyperScattering as phs\n",
    "import pathlib\n",
    "import sys\n",
    "import json\n",
    "import datetime\n",
    "import dask.array as da\n",
    "import numpy as np\n",
    "import pandas as pd\n",
    "import xarray as xr\n",
    "import matplotlib.pyplot as plt\n",
    "from matplotlib.colors import LogNorm\n",
    "from matplotlib_inline.backend_inline import set_matplotlib_formats\n",
    "\n",
    "sys.path.append('/nsls2/users/alevin/local_lib')\n",
    "from andrew_rsoxs_fxns import *\n",
    "\n",
    "## Some setup functions\n",
    "set_matplotlib_formats('svg')\n",
    "# c = from_profile('rsoxs')\n",
    "print(f'Using PyHyperScattering Version: {phs.__version__}')\n",
    "rsoxsload = phs.load.SST1RSoXSDB(corr_mode='None', use_chunked_loading=True)  # initialize rsoxs databroker loader w/ Dask\n",
    "\n",
    "## Define masks directory path\n",
    "userPath = pathlib.Path('/nsls2/users/alevin')\n",
    "notebookPath = pathlib.Path.cwd()\n",
    "maskPath = userPath.joinpath('masks')\n",
    "jsonPath = userPath.joinpath('local_lib')\n",
    "propPath = pathlib.Path('/nsls2/data/sst/proposals/2022-2/pass-309180')\n",
    "zarrPath = propPath.joinpath('zarr_datasets')\n",
    "exportPath = propPath.joinpath('processed_data')\n",
    "\n",
    "## Set an RSoXS colormap for later\n",
    "cm = plt.cm.terrain.copy()\n",
    "cm.set_bad('purple')"
   ]
  },
  {
   "cell_type": "markdown",
   "id": "fad9c378-aeab-4f72-8652-2319d75aea2d",
   "metadata": {},
   "source": [
    "## Loading raw data from databroker"
   ]
  },
  {
   "cell_type": "code",
   "execution_count": null,
   "id": "aba2054a-1e0f-4cfa-a046-7d889ca24abe",
   "metadata": {
    "tags": [],
    "vscode": {
     "languageId": "python"
    }
   },
   "outputs": [],
   "source": [
    "## Search for and summarize runs:\n",
    "runs_sum_df = rsoxsload.summarize_run(institution='CUBLDER', plan='full_carbon_scan_nd')\n",
    "runs_sum_df = runs_sum_df.set_index('scan_id')  # optional, set index to scan id\n",
    "display(runs_sum_df)"
   ]
  },
  {
   "cell_type": "code",
   "execution_count": null,
   "id": "bf8b0be6-d91a-4637-a965-defbe6578e1d",
   "metadata": {
    "vscode": {
     "languageId": "python"
    }
   },
   "outputs": [],
   "source": [
    "## Slice output dataframe for samples of interest\n",
    "runs_of_interest = runs_sum_df.loc[runs_sum_df['cycle']=='2022-2'].loc[runs_sum_df['sample_id']=='andrew18']\n",
    "scans = sorted(runs_of_interest.index)\n",
    "display(runs_of_interest)"
   ]
  },
  {
   "cell_type": "code",
   "execution_count": null,
   "id": "888796ff-fbbf-47e0-ae2e-65828175f170",
   "metadata": {
    "tags": [],
    "vscode": {
     "languageId": "python"
    }
   },
   "outputs": [],
   "source": [
    "### Run this for samples without error\n",
    "raw_saxs = load_stacked_pol(rsoxsload, scans[0], scans[1])\n",
    "raw_waxs = load_stacked_pol(rsoxsload, scans[2], scans[3])\n",
    "\n",
    "# ### Explicity select scan_ids:\n",
    "# raw_saxs = load_stacked_pol(rsoxsload, 43157, 43158)\n",
    "# raw_waxs = load_stacked_pol(rsoxsload, 43213, 43214)\n",
    "\n",
    "raw_saxs.attrs['blend_name'] = sample_guide[raw_saxs.sample_name]\n",
    "raw_waxs.attrs['blend_name'] = sample_guide[raw_waxs.sample_name]\n",
    "display(raw_saxs, raw_waxs)"
   ]
  },
  {
   "cell_type": "markdown",
   "id": "9a257eec-9ea3-49fa-9422-8cdaf8fccd10",
   "metadata": {},
   "source": [
    "## Draw/check masks & beamcenters for transforming to q-space\n",
    "### 1. Check raw images at a selected energy for all loaded scan configurations:"
   ]
  },
  {
   "cell_type": "code",
   "execution_count": null,
   "id": "cb1af7b5-1afc-4df3-b076-14177840c8c7",
   "metadata": {
    "vscode": {
     "languageId": "python"
    }
   },
   "outputs": [],
   "source": [
    "saxs_waxs_p00_p90_plot(raw_saxs, raw_waxs)"
   ]
  },
  {
   "cell_type": "markdown",
   "id": "9e11703d-1e5c-4a01-b414-06bd19456ca6",
   "metadata": {},
   "source": [
    "### 2. Draw masks"
   ]
  },
  {
   "cell_type": "code",
   "execution_count": null,
   "id": "f7939971-b907-4ae7-9930-b50e27a464fe",
   "metadata": {
    "tags": [],
    "vscode": {
     "languageId": "python"
    }
   },
   "outputs": [],
   "source": [
    "# ## SAXS:\n",
    "# saxs_mask_img = raw_saxs.sel(pol=0, energy=275, method='nearest').compute()\n",
    "# draw = phs.IntegrationUtils.DrawMask(saxs_mask_img)\n",
    "# # draw.ui()"
   ]
  },
  {
   "cell_type": "code",
   "execution_count": null,
   "id": "4e3fba0e-290d-4b5e-aecb-39daa40276c6",
   "metadata": {
    "vscode": {
     "languageId": "python"
    }
   },
   "outputs": [],
   "source": [
    "# ## Save saxs drawn mask\n",
    "# draw.save(maskPath.joinpath(f'SAXS_{raw_saxs.sample_name}.json'))"
   ]
  },
  {
   "cell_type": "code",
   "execution_count": null,
   "id": "8210e9d7-2bab-488b-a12a-faca977203ee",
   "metadata": {
    "tags": [],
    "vscode": {
     "languageId": "python"
    }
   },
   "outputs": [],
   "source": [
    "# ## Repeat for WAXS mask:\n",
    "# waxs_mask_img = raw_waxs.sel(pol=0, energy=275, method='nearest').compute()\n",
    "# draw = phs.IntegrationUtils.DrawMask(waxs_mask_img)\n",
    "# # draw.ui()"
   ]
  },
  {
   "cell_type": "code",
   "execution_count": null,
   "id": "48b1c9f2-b89e-45eb-97ab-4316769a0a7a",
   "metadata": {
    "vscode": {
     "languageId": "python"
    }
   },
   "outputs": [],
   "source": [
    "# ## Save and load saxs drawn mask\n",
    "# draw.save(maskPath.joinpath(f'WAXS_{raw_saxs.sample_name}.json'))"
   ]
  },
  {
   "cell_type": "code",
   "execution_count": null,
   "id": "53088c57-b033-438c-9499-36ae9287e430",
   "metadata": {
    "tags": [],
    "vscode": {
     "languageId": "python"
    }
   },
   "outputs": [],
   "source": [
    "### Check masks on file\n",
    "saxs_mask_img = raw_saxs.sel(pol=0, energy=275, method='nearest').compute()\n",
    "waxs_mask_img = raw_waxs.sel(pol=0, energy=275, method='nearest').compute()\n",
    "draw = phs.IntegrationUtils.DrawMask(waxs_mask_img)\n",
    "\n",
    "\n",
    "### Load masks\n",
    "saxs_mask, waxs_mask = plot_mask_files(draw, maskPath, raw_waxs.sample_name, saxs_img=saxs_mask_img, waxs_img=waxs_mask_img)\n",
    "# plot_one_mask_file(draw, maskPath, raw_waxs.sample_name, img=raw_waxs.sel(pol=0, energy=275, method='nearest'))"
   ]
  },
  {
   "cell_type": "markdown",
   "id": "86bc6f44-4f22-464c-b93a-cb1c424f8dab",
   "metadata": {},
   "source": [
    "### 3. Check and save beamcenters before converting to q-space"
   ]
  },
  {
   "cell_type": "code",
   "execution_count": null,
   "id": "45f52279-7c85-4d3f-863a-ac2f891dab5c",
   "metadata": {
    "tags": [],
    "vscode": {
     "languageId": "python"
    }
   },
   "outputs": [],
   "source": [
    "## SAXS\n",
    "SAXSinteg = phs.integrate.PFEnergySeriesIntegrator(geomethod='template_xr', template_xr = raw_saxs.sel(pol=0))\n",
    "SAXSinteg.mask = saxs_mask\n",
    "SAXSinteg.ni_beamcenter_x = bcxy_2022_2['saxs_bcx']\n",
    "SAXSinteg.ni_beamcenter_y = bcxy_2022_2['saxs_bcy']\n",
    "raw_saxs.attrs['beamcenter_x'] = bcxy_2022_2['saxs_bcx']\n",
    "raw_saxs.attrs['beamcenter_y'] = bcxy_2022_2['saxs_bcy']\n",
    "raw_saxs.attrs['poni1'] = SAXSinteg.poni1\n",
    "raw_saxs.attrs['poni2'] = SAXSinteg.poni2\n",
    "print('SAXS Beamcenter: \\n'\n",
    "      f'poni1: {SAXSinteg.poni1}, poni2: {SAXSinteg.poni2} \\n'\n",
    "      f'ni_beamcenter_y: {SAXSinteg.ni_beamcenter_y}, ni_beamcenter_x: {SAXSinteg.ni_beamcenter_x}')\n",
    "\n",
    "## Plot check\n",
    "phs.IntegrationUtils.Check.checkAll(SAXSinteg, saxs_mask_img, img_max=1e3, alpha=0.4)\n",
    "plt.xlim(SAXSinteg.ni_beamcenter_x-200, SAXSinteg.ni_beamcenter_x+200)\n",
    "plt.ylim(SAXSinteg.ni_beamcenter_y-200, SAXSinteg.ni_beamcenter_y+200)\n",
    "plt.gcf().set(dpi=120)\n",
    "plt.show()\n",
    "\n",
    "## WAXS\n",
    "WAXSinteg = phs.integrate.PFEnergySeriesIntegrator(geomethod='template_xr', template_xr = raw_waxs.sel(pol=0))\n",
    "WAXSinteg.mask = waxs_mask\n",
    "WAXSinteg.ni_beamcenter_x = bcxy_2022_2['waxs_bcx']\n",
    "WAXSinteg.ni_beamcenter_y = bcxy_2022_2['waxs_bcy']\n",
    "raw_waxs.attrs['beamcenter_x'] = bcxy_2022_2['waxs_bcx']\n",
    "raw_waxs.attrs['beamcenter_y'] = bcxy_2022_2['waxs_bcy']\n",
    "raw_waxs.attrs['poni1'] = WAXSinteg.poni1\n",
    "raw_waxs.attrs['poni2'] = WAXSinteg.poni2\n",
    "print('WAXS Beamcenter: \\n'\n",
    "      f'poni1: {WAXSinteg.poni1}, poni2: {WAXSinteg.poni2} \\n'\n",
    "      f'ni_beamcenter_y: {WAXSinteg.ni_beamcenter_y}, ni_beamcenter_x: {WAXSinteg.ni_beamcenter_x}')\n",
    "\n",
    "## Plot check\n",
    "phs.IntegrationUtils.Check.checkAll(WAXSinteg, waxs_mask_img, img_max=7e3, alpha=0.4)\n",
    "plt.xlim(WAXSinteg.ni_beamcenter_x-200, WAXSinteg.ni_beamcenter_x+200)\n",
    "plt.ylim(WAXSinteg.ni_beamcenter_y-200, WAXSinteg.ni_beamcenter_y+200)\n",
    "plt.gcf().set(dpi=120)\n",
    "plt.show()"
   ]
  },
  {
   "cell_type": "code",
   "execution_count": null,
   "id": "5efc28d1-8c51-40b5-a871-685162158308",
   "metadata": {
    "tags": [],
    "vscode": {
     "languageId": "python"
    }
   },
   "outputs": [],
   "source": [
    "# ## Tweaking if needed:\n",
    "# ## SAXS Tweaking & Plot Check\n",
    "# saxs_new_bcx = 488\n",
    "# saxs_new_bcy = 515\n",
    "# SAXSinteg.ni_beamcenter_x = saxs_new_bcx\n",
    "# SAXSinteg.ni_beamcenter_y = saxs_new_bcy\n",
    "# raw_saxs.attrs['beamcenter_x'] = saxs_new_bcx\n",
    "# raw_saxs.attrs['beamcenter_y'] = saxs_new_bcy\n",
    "# raw_saxs.attrs['poni1'] = SAXSinteg.poni1\n",
    "# raw_saxs.attrs['poni2'] = SAXSinteg.poni2\n",
    "\n",
    "# print('SAXS Beamcenter Tweaking: \\n'\n",
    "#       f'poni1: {SAXSinteg.poni1}, poni2: {SAXSinteg.poni2} \\n'\n",
    "#       f'ni_beamcenter_y: {SAXSinteg.ni_beamcenter_y}, ni_beamcenter_x: {SAXSinteg.ni_beamcenter_x}')\n",
    "\n",
    "# phs.IntegrationUtils.Check.checkAll(SAXSinteg, saxs_mask_img, img_max=1e3, alpha=0.6)\n",
    "# plt.xlim(SAXSinteg.ni_beamcenter_x-200, SAXSinteg.ni_beamcenter_x+200)\n",
    "# plt.ylim(SAXSinteg.ni_beamcenter_y-200, SAXSinteg.ni_beamcenter_y+200)\n",
    "# plt.gcf().set(dpi=120)\n",
    "# plt.show()\n",
    "\n",
    "# ## WAXS Tweaking & Plot Check\n",
    "# waxs_new_bcx = 396.3\n",
    "# waxs_new_bcy = 553\n",
    "# WAXSinteg.ni_beamcenter_x = waxs_new_bcx\n",
    "# WAXSinteg.ni_beamcenter_y = waxs_new_bcy\n",
    "# raw_waxs.attrs['beamcenter_x'] = waxs_new_bcx\n",
    "# raw_waxs.attrs['beamcenter_x'] = waxs_new_bcx\n",
    "# raw_waxs.attrs['poni1'] = WAXSinteg.poni1\n",
    "# raw_waxs.attrs['poni2'] = WAXSinteg.poni2\n",
    "\n",
    "# print('WAXS Beamcenter Tweaking: \\n'\n",
    "#       f'poni1: {WAXSinteg.poni1}, poni2: {WAXSinteg.poni2} \\n'\n",
    "#       f'ni_beamcenter_y: {WAXSinteg.ni_beamcenter_y}, ni_beamcenter_x: {WAXSinteg.ni_beamcenter_x}')\n",
    "# phs.IntegrationUtils.Check.checkAll(WAXSinteg, waxs_mask_img, img_max=5e3, alpha=0.6, guide1=40)\n",
    "# plt.xlim(WAXSinteg.ni_beamcenter_x-200, WAXSinteg.ni_beamcenter_x+200)\n",
    "# plt.ylim(WAXSinteg.ni_beamcenter_y-200, WAXSinteg.ni_beamcenter_y+200)\n",
    "# plt.gcf().set(dpi=120)\n",
    "# plt.show()\n",
    "\n",
    "\n",
    "# ## Using Pete D.'s (very slightly modified) beamcentering script:\n",
    "# # phs.BeamCentering.CenteringAccessor.refine_geometry\n",
    "\n",
    "# ## SAXS\n",
    "# res_saxs = raw_saxs.sel(pol=0).util.refine_geometry(energy=275, q_min=0.002, q_max=0.006)\n",
    "# # res_saxs = raw_saxs.sel(pol=0).util.refine_geometry(energy=275, q_min=0.002, q_max=0.006, chi_min=-180, chi_max=60)\n",
    "# # res_saxs = raw_saxs.sel(pol=0).util.refine_geometry(energy=280, q_min=0.002, q_max=0.008, mask=saxs_mask)\n",
    "# raw_saxs.attrs['poni1'] = res_saxs.x[0]\n",
    "# raw_saxs.attrs['poni2'] = res_saxs.x[1]\n",
    "# SAXSinteg = phs.integrate.PFEnergySeriesIntegrator(geomethod='template_xr', template_xr = raw_saxs.sel(pol=0))\n",
    "# SAXSinteg.mask = saxs_mask\n",
    "\n",
    "# ## SAXS Plot check\n",
    "# print('SAXS Beamcenter Post-optimization: \\n'\n",
    "#       f'poni1: {SAXSinteg.poni1}, poni2: {SAXSinteg.poni2} \\n'\n",
    "#       f'ni_beamcenter_y: {SAXSinteg.ni_beamcenter_y}, ni_beamcenter_x: {SAXSinteg.ni_beamcenter_x}')\n",
    "# phs.IntegrationUtils.Check.checkAll(SAXSinteg, saxs_mask_img, img_max=1e3, alpha=0.6)\n",
    "# plt.xlim(SAXSinteg.ni_beamcenter_x-200, SAXSinteg.ni_beamcenter_x+200)\n",
    "# plt.ylim(SAXSinteg.ni_beamcenter_y-200, SAXSinteg.ni_beamcenter_y+200)\n",
    "# plt.gcf().set(dpi=120)\n",
    "# plt.show()\n",
    "\n",
    "# ## WAXS\n",
    "# # res_waxs = raw_waxs.sel(pol=0).util.refine_geometry(energy=275, q_min=0.02, q_max=0.06, chi_min=-10, chi_max=70)\n",
    "# res_waxs = raw_waxs.sel(pol=0).util.refine_geometry(energy=275, q_min=0.02, q_max=0.06)\n",
    "# raw_waxs.attrs['poni1'] = res_waxs.x[0]\n",
    "# raw_waxs.attrs['poni2'] = res_waxs.x[1]\n",
    "# WAXSinteg = phs.integrate.PFEnergySeriesIntegrator(geomethod='template_xr', template_xr = raw_waxs.sel(pol=0))\n",
    "# WAXSinteg.mask = waxs_mask\n",
    "\n",
    "# ## WAXS Plot check\n",
    "# print('WAXS Beamcenter Post-optimization: \\n'\n",
    "#       f'poni1: {WAXSinteg.poni1}, poni2: {WAXSinteg.poni2} \\n'\n",
    "#       f'ni_beamcenter_y: {WAXSinteg.ni_beamcenter_y}, ni_beamcenter_x: {WAXSinteg.ni_beamcenter_x}')\n",
    "# phs.IntegrationUtils.Check.checkAll(WAXSinteg, waxs_mask_img, img_max=5e3, alpha=0.6)\n",
    "# plt.xlim(WAXSinteg.ni_beamcenter_x-200, WAXSinteg.ni_beamcenter_x+200)\n",
    "# plt.ylim(WAXSinteg.ni_beamcenter_y-200, WAXSinteg.ni_beamcenter_y+200)\n",
    "# plt.gcf().set(dpi=120)\n",
    "# plt.show()"
   ]
  },
  {
   "cell_type": "code",
   "execution_count": null,
   "id": "c5c501fc-ac06-490e-a6ea-1c5ffae0dd69",
   "metadata": {
    "vscode": {
     "languageId": "python"
    }
   },
   "outputs": [],
   "source": [
    "### Write beamcenters to saved .json file if content with them:\n",
    "\n",
    "beamcenters_dict = {\n",
    "    f'SAXS_{raw_saxs.sample_name}': {'bcx':raw_saxs.beamcenter_x, 'bcy':raw_saxs.beamcenter_y},\n",
    "    f'WAXS_{raw_waxs.sample_name}': {'bcx':raw_waxs.beamcenter_x, 'bcy':raw_waxs.beamcenter_y}\n",
    "}\n",
    "\n",
    "with open(jsonPath.joinpath('beamcenters_dict.json'), 'r') as f:\n",
    "    dic = json.load(f)\n",
    "\n",
    "dic.update(beamcenters_dict)\n",
    "\n",
    "with open(jsonPath.joinpath('beamcenters_dict.json'), 'w') as f:\n",
    "    json.dump(dic, f)"
   ]
  },
  {
   "cell_type": "markdown",
   "id": "c1cebf21-9cb7-4f74-a3eb-f62ff0d582ca",
   "metadata": {},
   "source": [
    "## Export data\n",
    "These files are large and therefore should not be saved into the user folder, but rather the proposal folder:\n"
   ]
  },
  {
   "cell_type": "markdown",
   "id": "625cef5f-5873-44de-9eb3-519441e59ed2",
   "metadata": {},
   "source": [
    "### 1. Apply qx,qy labels, save .zarr stores"
   ]
  },
  {
   "cell_type": "code",
   "execution_count": null,
   "id": "89f4c672-6d5c-4ef7-85b0-a9a47515bc16",
   "metadata": {
    "vscode": {
     "languageId": "python"
    }
   },
   "outputs": [],
   "source": [
    "### Now that we know our beamcenters are accurate, we can apply correct q axis labels\n",
    "raw_waxs = apply_q_labels(raw_waxs)\n",
    "raw_saxs = apply_q_labels(raw_saxs)\n",
    "\n",
    "### Load energy lists for facet plots\n",
    "energies = raw_waxs.energy.data\n",
    "resonant_energies = energies[16:96]\n",
    "\n",
    "gif_energies = np.array([])\n",
    "gif_energies = np.append(energies[0:16:3], energies[-31::2])\n",
    "gif_energies = np.sort(np.append(gif_energies, resonant_energies))\n",
    "\n",
    "### Set variables for naming purposes\n",
    "sample_name = sample_guide[raw_waxs.sample_name]\n",
    "detector = detector_guide[raw_waxs.detector]\n",
    "\n",
    "sampPath = exportPath.joinpath(f'{detector}_{sample_name}')\n",
    "sampPath.mkdir(parents=True, exist_ok=True)"
   ]
  },
  {
   "cell_type": "code",
   "execution_count": null,
   "id": "d71f960f-70ac-4ad4-a867-71e7d7acb0bc",
   "metadata": {
    "vscode": {
     "languageId": "python"
    }
   },
   "outputs": [],
   "source": [
    "### Save zarr store/directory \n",
    "\n",
    "save_zarr(raw_saxs, raw_waxs, zarrPath)"
   ]
  },
  {
   "cell_type": "code",
   "execution_count": null,
   "id": "3e3eb552-ef64-45d4-882c-66f60bf4a10f",
   "metadata": {
    "tags": [],
    "vscode": {
     "languageId": "python"
    }
   },
   "outputs": [],
   "source": [
    "# ### Generate WAXS facet plots\n",
    "# sample_name = sample_guide[raw_waxs.sample_name]\n",
    "# scan_id = raw_waxs.sampleid\n",
    "# detector = detector_guide[raw_waxs.detector]\n",
    "\n",
    "# scanPath = facetPath.joinpath(f'{scan_id}_{sample_name}_{detector}')\n",
    "# scanPath.mkdir(parents=True, exist_ok=True)\n",
    "\n",
    "# for pol in (0, 90):\n",
    "#     for num in range(10):\n",
    "#         grid = raw_waxs.sel(pol=pol, energy=energy_list[8*num:8*num+8], method='nearest').plot.imshow(x='qx', y='qy',\n",
    "#                     norm=LogNorm(1e1, 5e3), cmap=cm, interpolation='antialiased', col='energy', col_wrap=4)\n",
    "#         grid.set_xlabels('qx [1/Å]')\n",
    "#         grid.set_ylabels('qy [1/Å]') \n",
    "\n",
    "#         # Create/select folder for scan to save plots:\n",
    "#         imgsPath = scanPath.joinpath(f'_qxqy_frames_{detector}_{int(pol):0>2}deg')\n",
    "#         imgsPath.mkdir(parents=True, exist_ok=True)\n",
    "\n",
    "#         plt.savefig(imgsPath.joinpath(f'{sample_name}_{detector}_{int(pol):0>2}_f{num}.svg'))"
   ]
  },
  {
   "cell_type": "markdown",
   "id": "8a072b7a-0358-4444-8e4e-a3b67d41550b",
   "metadata": {},
   "source": [
    "### 2. Convert to chi-q space & save .zarr stores"
   ]
  },
  {
   "cell_type": "code",
   "execution_count": null,
   "id": "2f861125-0d4a-460e-9d73-9b4017578341",
   "metadata": {
    "tags": [],
    "vscode": {
     "languageId": "python"
    }
   },
   "outputs": [],
   "source": [
    "integ_saxs = integrate_stacked_pol(SAXSinteg, raw_saxs)\n",
    "integ_waxs = integrate_stacked_pol(WAXSinteg, raw_waxs)\n",
    "display(integ_saxs, integ_waxs)"
   ]
  },
  {
   "cell_type": "code",
   "execution_count": null,
   "id": "679db88b-f0a7-40c7-a87f-1bcc21b5f62a",
   "metadata": {
    "scrolled": true,
    "tags": [],
    "vscode": {
     "languageId": "python"
    }
   },
   "outputs": [],
   "source": [
    "### Save zarr store/directory \n",
    "save_zarr(integ_saxs, integ_waxs, zarrPath, prefix='integ_qchi')"
   ]
  },
  {
   "cell_type": "code",
   "execution_count": null,
   "id": "a8156528-da45-42ca-9fae-453876e88bef",
   "metadata": {
    "vscode": {
     "languageId": "python"
    }
   },
   "outputs": [],
   "source": [
    "sorted(zarrPath.glob('raw*w18*SAXS*'))"
   ]
  },
  {
   "cell_type": "code",
   "execution_count": null,
   "id": "21e4c79a-d753-4ee5-9ed4-be6e39b4499b",
   "metadata": {
    "vscode": {
     "languageId": "python"
    }
   },
   "outputs": [],
   "source": [
    "### How you would load data:\n",
    "loaded_raw_saxs = xr.open_zarr(sorted(zarrPath.glob('raw*w11*SAXS*'))[0]).saxs\n",
    "loaded_raw_waxs = xr.open_zarr(sorted(zarrPath.glob('raw*w11*WAXS*'))[0]).waxs\n",
    "loaded_integ_saxs = xr.open_zarr(sorted(zarrPath.glob('integ*w11*SAXS*'))[0]).saxs\n",
    "loaded_integ_waxs = xr.open_zarr(sorted(zarrPath.glob('integ*w11*WAXS*'))[0]).waxs"
   ]
  },
  {
   "cell_type": "code",
   "execution_count": null,
   "id": "455bdace-9e2b-4771-be15-8b0da9fc0b9d",
   "metadata": {
    "vscode": {
     "languageId": "python"
    }
   },
   "outputs": [],
   "source": [
    "### Load energy lists for facet plots\n",
    "energies = raw_waxs.energy.data\n",
    "resonant_energies = energies[16:96]\n",
    "\n",
    "gif_energies = np.array([])\n",
    "gif_energies = np.append(energies[0:16:3], energies[-31::2])\n",
    "gif_energies = np.sort(np.append(gif_energies, resonant_energies))\n",
    "\n",
    "pol=0\n",
    "\n",
    "# #### View facet plot to verify data:\n",
    "# loaded_integ_waxs.sel(pol=pol, energy=gif_energies[:-6:6], method='nearest').plot.imshow(xscale='log', xlim=(1e-2, 2e-1),\n",
    "#                         norm=LogNorm(1e1, 5e3), cmap=cm, interpolation='antialiased', col='energy', col_wrap=4)\n",
    "# loaded_integ_saxs.sel(pol=pol, energy=gif_energies[:-6:6], method='nearest').plot.imshow(xscale='log', xlim=(1e-3, 1e-2),\n",
    "#                         norm=LogNorm(1e1, 5e3), cmap=cm, interpolation='antialiased', col='energy', col_wrap=4)\n"
   ]
  },
  {
   "cell_type": "code",
   "execution_count": null,
   "id": "18e8a085-924c-4855-a483-fb72252c17b7",
   "metadata": {
    "vscode": {
     "languageId": "python"
    }
   },
   "outputs": [],
   "source": []
  }
 ],
 "metadata": {
  "kernelspec": {
   "display_name": "nrss",
   "language": "python",
   "name": "nrss"
  },
  "toc-showmarkdowntxt": false
 },
 "nbformat": 4,
 "nbformat_minor": 5
}
