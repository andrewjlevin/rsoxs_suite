{
 "cells": [
  {
   "cell_type": "markdown",
   "id": "33f4cd6c-7a40-4218-9893-505fc5b408aa",
   "metadata": {},
   "source": [
    "# Slicing SST1 RSoXS Data"
   ]
  },
  {
   "cell_type": "markdown",
   "id": "5e9f3ff3-1cdc-429b-a22e-7fb81de80b9d",
   "metadata": {},
   "source": [
    "## Pip install and restart kernel "
   ]
  },
  {
   "cell_type": "markdown",
   "id": "1502b74c-ba23-41a8-9150-d69038862abf",
   "metadata": {},
   "source": [
    "## Imports"
   ]
  },
  {
   "cell_type": "code",
   "execution_count": 6,
   "id": "fd62f131-e021-496d-b694-5c033b2b6cb3",
   "metadata": {
    "tags": [],
    "vscode": {
     "languageId": "python"
    }
   },
   "outputs": [],
   "source": [
    "## The autoreload IPython magic command reloads all modules before code is ran\n",
    "%load_ext autoreload"
   ]
  },
  {
   "cell_type": "code",
   "execution_count": 9,
   "id": "0d809935",
   "metadata": {
    "vscode": {
     "languageId": "python"
    }
   },
   "outputs": [],
   "source": [
    "###!pip install -e /nsls2/users/alevin/repos/pyhyper_toneygroup_fork/PyHyperScattering  # to use pip to install via directory\n",
    "### !pip install zarr  # fixed an error with xr.DataSet.to_zarr() method, though not sure if this is really needed"
   ]
  },
  {
   "cell_type": "code",
   "execution_count": 10,
   "id": "dea31dcf-4d9e-4810-a614-33e33fc09b61",
   "metadata": {
    "tags": [],
    "vscode": {
     "languageId": "python"
    }
   },
   "outputs": [
    {
     "name": "stdout",
     "output_type": "stream",
     "text": [
      "Using PyHyperScattering Version: 0+untagged.470.gf7651d5.dirty\n"
     ]
    }
   ],
   "source": [
    "## Imports\n",
    "import PyHyperScattering as phs\n",
    "import pathlib\n",
    "# import pickle\n",
    "import sys\n",
    "# import json\n",
    "# import zarr\n",
    "import numpy as np\n",
    "import pandas as pd\n",
    "import xarray as xr\n",
    "import matplotlib.pyplot as plt\n",
    "from matplotlib.colors import LogNorm\n",
    "# from matplotlib_inline.backend_inline import set_matplotlib_formats\n",
    "\n",
    "sys.path.append('/nsls2/users/alevin/local_lib')\n",
    "from andrew_rsoxs_fxns import *\n",
    "\n",
    "## Some setup functions\n",
    "# set_matplotlib_formats('svg')\n",
    "# c = from_profile('rsoxs')\n",
    "print(f'Using PyHyperScattering Version: {phs.__version__}')\n",
    "# rsoxsload = phs.load.SST1RSoXSDB(corr_mode='None', use_chunked_loading=True)  # initialize rsoxs databroker loader w/ Dask\n",
    "\n",
    "## Define masks directory path\n",
    "userPath = pathlib.Path('/nsls2/users/alevin')\n",
    "# notebookPath = pathlib.Path.cwd()\n",
    "maskPath = userPath.joinpath('masks')\n",
    "jsonPath = userPath.joinpath('local_lib')\n",
    "propPath = pathlib.Path('/nsls2/data/sst/proposals/2022-2/pass-309180')\n",
    "zarrPath = propPath.joinpath('zarr_datasets')\n",
    "exportPath = propPath.joinpath('processed_data')\n",
    "\n",
    "## Set an RSoXS colormap for later\n",
    "cm = plt.cm.terrain.copy()\n",
    "cm.set_bad('purple')"
   ]
  },
  {
   "cell_type": "markdown",
   "id": "856d8e5b-09e1-4fb5-970c-b2389575509f",
   "metadata": {},
   "source": [
    "## Load DataArrays "
   ]
  },
  {
   "cell_type": "code",
   "execution_count": 11,
   "id": "3a15967d-9639-4b70-8491-51ed2377d47d",
   "metadata": {
    "vscode": {
     "languageId": "python"
    }
   },
   "outputs": [
    {
     "data": {
      "text/plain": [
       "[PosixPath('/nsls2/data/sst/proposals/2022-2/pass-309180/zarr_datasets/raw_qxqy_andrew1_PM6-Y6-CF_SAXS.zarr')]"
      ]
     },
     "execution_count": 11,
     "metadata": {},
     "output_type": "execute_result"
    }
   ],
   "source": [
    "sorted(zarrPath.glob('raw*w1_*SAXS*'))"
   ]
  },
  {
   "cell_type": "code",
   "execution_count": 12,
   "id": "08631af3",
   "metadata": {
    "vscode": {
     "languageId": "python"
    }
   },
   "outputs": [
    {
     "ename": "NameError",
     "evalue": "name 'segment' is not defined",
     "output_type": "error",
     "traceback": [
      "\u001b[0;31m---------------------------------------------------------------------------\u001b[0m",
      "\u001b[0;31mNameError\u001b[0m                                 Traceback (most recent call last)",
      "Cell \u001b[0;32mIn[12], line 2\u001b[0m\n\u001b[1;32m      1\u001b[0m \u001b[39m# xr.open_zarr\u001b[39;00m\n\u001b[0;32m----> 2\u001b[0m \u001b[39msorted\u001b[39m(zarrPath\u001b[39m.\u001b[39mglob(\u001b[39mf\u001b[39m\u001b[39m'\u001b[39m\u001b[39mraw*\u001b[39m\u001b[39m{\u001b[39;00msegment\u001b[39m}\u001b[39;00m\u001b[39m*SAXS*\u001b[39m\u001b[39m'\u001b[39m))[\u001b[39m0\u001b[39m]\n",
      "\u001b[0;31mNameError\u001b[0m: name 'segment' is not defined"
     ]
    }
   ],
   "source": [
    "# xr.open_zarr\n",
    "sorted(zarrPath.glob(f'raw*{segment}*SAXS*'))[0]"
   ]
  },
  {
   "cell_type": "code",
   "execution_count": 14,
   "id": "2ebd4317",
   "metadata": {
    "vscode": {
     "languageId": "python"
    }
   },
   "outputs": [
    {
     "name": "stdout",
     "output_type": "stream",
     "text": [
      "# packages in environment at /nsls2/users/alevin/.conda/envs/nrss:\n",
      "#\n",
      "# Name                    Version                   Build  Channel\n",
      "_libgcc_mutex             0.1                 conda_forge    conda-forge\n",
      "_openmp_mutex             4.5                       2_gnu    conda-forge\n",
      "accessible-pygments       0.0.4              pyhd8ed1ab_0    conda-forge\n",
      "aiofiles                  22.1.0             pyhd8ed1ab_0    conda-forge\n",
      "aiosqlite                 0.18.0             pyhd8ed1ab_0    conda-forge\n",
      "alabaster                 0.7.13             pyhd8ed1ab_0    conda-forge\n",
      "alsa-lib                  1.2.3.2              h166bdaf_0    conda-forge\n",
      "anyio                     3.6.2              pyhd8ed1ab_0    conda-forge\n",
      "aom                       3.5.0                h27087fc_0    conda-forge\n",
      "argon2-cffi               21.3.0             pyhd8ed1ab_0    conda-forge\n",
      "argon2-cffi-bindings      21.2.0           py39hb9d737c_3    conda-forge\n",
      "asttokens                 2.2.1              pyhd8ed1ab_0    conda-forge\n",
      "attrs                     22.2.0             pyh71513ae_0    conda-forge\n",
      "babel                     2.12.1             pyhd8ed1ab_1    conda-forge\n",
      "backcall                  0.2.0              pyh9f0ad1d_0    conda-forge\n",
      "backports                 1.0                pyhd8ed1ab_3    conda-forge\n",
      "backports.functools_lru_cache 1.6.4              pyhd8ed1ab_0    conda-forge\n",
      "beautifulsoup4            4.12.1             pyha770c72_0    conda-forge\n",
      "bleach                    6.0.0              pyhd8ed1ab_0    conda-forge\n",
      "blosc                     1.21.3               hafa529b_0    conda-forge\n",
      "brotli                    1.0.9                h166bdaf_8    conda-forge\n",
      "brotli-bin                1.0.9                h166bdaf_8    conda-forge\n",
      "brotlipy                  0.7.0           py39hb9d737c_1005    conda-forge\n",
      "brunsli                   0.1                  h9c3ff4c_0    conda-forge\n",
      "bzip2                     1.0.8                h7f98852_4    conda-forge\n",
      "c-ares                    1.18.1               h7f98852_0    conda-forge\n",
      "c-blosc2                  2.8.0                hf91038e_1    conda-forge\n",
      "ca-certificates           2022.12.7            ha878542_0    conda-forge\n",
      "cached-property           1.5.2                hd8ed1ab_1    conda-forge\n",
      "cached_property           1.5.2              pyha770c72_1    conda-forge\n",
      "certifi                   2022.12.7          pyhd8ed1ab_0    conda-forge\n",
      "cffi                      1.14.6           py39he32792d_0    conda-forge\n",
      "cfitsio                   4.2.0                hd9d235c_0    conda-forge\n",
      "charls                    2.4.1                hcb278e6_0    conda-forge\n",
      "charset-normalizer        3.1.0              pyhd8ed1ab_0    conda-forge\n",
      "click                     8.1.3           unix_pyhd8ed1ab_2    conda-forge\n",
      "cloudpickle               2.2.1              pyhd8ed1ab_0    conda-forge\n",
      "colorama                  0.4.6              pyhd8ed1ab_0    conda-forge\n",
      "comm                      0.1.3              pyhd8ed1ab_0    conda-forge\n",
      "contourpy                 1.0.7            py39h4b4f3f3_0    conda-forge\n",
      "cryptography              39.0.0           py39hd598818_0    conda-forge\n",
      "cudatoolkit               11.8.0              h37601d7_11    conda-forge\n",
      "cycler                    0.11.0             pyhd8ed1ab_0    conda-forge\n",
      "cyrsoxs                   1.1.6.0          py39h0d19f31_0    conda-forge\n",
      "cytoolz                   0.12.0           py39hb9d737c_1    conda-forge\n",
      "dask-core                 2023.3.2           pyhd8ed1ab_0    conda-forge\n",
      "dav1d                     1.0.0                h166bdaf_1    conda-forge\n",
      "dbus                      1.13.6               h48d8840_2    conda-forge\n",
      "debugpy                   1.6.7            py39h227be39_0    conda-forge\n",
      "decorator                 5.1.1              pyhd8ed1ab_0    conda-forge\n",
      "defusedxml                0.7.1              pyhd8ed1ab_0    conda-forge\n",
      "docutils                  0.19             py39hf3d152e_1    conda-forge\n",
      "entrypoints               0.4                pyhd8ed1ab_0    conda-forge\n",
      "executing                 1.2.0              pyhd8ed1ab_0    conda-forge\n",
      "expat                     2.5.0                hcb278e6_1    conda-forge\n",
      "fabio                     2023.4.0                 pypi_0    pypi\n",
      "flit-core                 3.8.0              pyhd8ed1ab_0    conda-forge\n",
      "fontconfig                2.14.2               h14ed4e7_0    conda-forge\n",
      "fonttools                 4.39.3           py39h72bdee0_0    conda-forge\n",
      "freetype                  2.12.1               hca18f0e_1    conda-forge\n",
      "fsspec                    2023.3.0           pyhd8ed1ab_1    conda-forge\n",
      "gettext                   0.21.1               h27087fc_0    conda-forge\n",
      "giflib                    5.2.1                h0b41bf4_3    conda-forge\n",
      "glib                      2.68.4               h9c3ff4c_0    conda-forge\n",
      "glib-tools                2.68.4               h9c3ff4c_0    conda-forge\n",
      "gst-plugins-base          1.18.5               hf529b03_0    conda-forge\n",
      "gstreamer                 1.18.5               h76c114f_0    conda-forge\n",
      "h5py                      3.8.0           nompi_py39h89bf01e_101    conda-forge\n",
      "hdf5                      1.14.0          nompi_h5231ba7_103    conda-forge\n",
      "icu                       68.2                 h9c3ff4c_0    conda-forge\n",
      "idna                      3.4                pyhd8ed1ab_0    conda-forge\n",
      "imagecodecs               2023.1.23        py39hd061359_0    conda-forge\n",
      "imageio                   2.27.0             pyh24c5eb1_0    conda-forge\n",
      "imagesize                 1.4.1              pyhd8ed1ab_0    conda-forge\n",
      "importlib-metadata        6.1.0              pyha770c72_0    conda-forge\n",
      "importlib-resources       5.12.0             pyhd8ed1ab_0    conda-forge\n",
      "importlib_metadata        6.1.0                hd8ed1ab_0    conda-forge\n",
      "importlib_resources       5.12.0             pyhd8ed1ab_0    conda-forge\n",
      "ipykernel                 6.22.0             pyh210e3f2_0    conda-forge\n",
      "ipython                   8.12.0             pyh41d4057_0    conda-forge\n",
      "ipython_genutils          0.2.0                      py_1    conda-forge\n",
      "jedi                      0.18.2             pyhd8ed1ab_0    conda-forge\n",
      "jinja2                    3.1.2              pyhd8ed1ab_1    conda-forge\n",
      "jpeg                      9e                   h0b41bf4_3    conda-forge\n",
      "json5                     0.9.5              pyh9f0ad1d_0    conda-forge\n",
      "jsonschema                4.17.3             pyhd8ed1ab_0    conda-forge\n",
      "jupyter_client            8.1.0              pyhd8ed1ab_0    conda-forge\n",
      "jupyter_core              5.3.0            py39hf3d152e_0    conda-forge\n",
      "jupyter_events            0.6.3              pyhd8ed1ab_0    conda-forge\n",
      "jupyter_server            2.5.0              pyhd8ed1ab_0    conda-forge\n",
      "jupyter_server_fileid     0.8.0              pyhd8ed1ab_0    conda-forge\n",
      "jupyter_server_terminals  0.4.4              pyhd8ed1ab_1    conda-forge\n",
      "jupyter_server_ydoc       0.8.0              pyhd8ed1ab_0    conda-forge\n",
      "jupyter_ydoc              0.2.3              pyhd8ed1ab_0    conda-forge\n",
      "jupyterlab                3.6.3              pyhd8ed1ab_0    conda-forge\n",
      "jupyterlab_pygments       0.2.2              pyhd8ed1ab_0    conda-forge\n",
      "jupyterlab_server         2.22.0             pyhd8ed1ab_0    conda-forge\n",
      "jxrlib                    1.1                  h7f98852_2    conda-forge\n",
      "keyutils                  1.6.1                h166bdaf_0    conda-forge\n",
      "kiwisolver                1.4.4            py39hf939315_1    conda-forge\n",
      "krb5                      1.19.3               h3790be6_0    conda-forge\n",
      "lazy_loader               0.2                pyhd8ed1ab_0    conda-forge\n",
      "lcms2                     2.15                 hfd0df8a_0    conda-forge\n",
      "ld_impl_linux-64          2.40                 h41732ed_0    conda-forge\n",
      "lerc                      4.0.0                h27087fc_0    conda-forge\n",
      "libaec                    1.0.6                hcb278e6_1    conda-forge\n",
      "libavif                   0.11.1               h5cdd6b5_0    conda-forge\n",
      "libblas                   3.9.0           16_linux64_openblas    conda-forge\n",
      "libbrotlicommon           1.0.9                h166bdaf_8    conda-forge\n",
      "libbrotlidec              1.0.9                h166bdaf_8    conda-forge\n",
      "libbrotlienc              1.0.9                h166bdaf_8    conda-forge\n",
      "libcblas                  3.9.0           16_linux64_openblas    conda-forge\n",
      "libclang                  11.1.0          default_ha53f305_1    conda-forge\n",
      "libconfig                 1.7.2                he870fd5_1    conda-forge\n",
      "libcurl                   7.87.0               h91b91d3_0    defaults\n",
      "libdeflate                1.17                 h0b41bf4_0    conda-forge\n",
      "libedit                   3.1.20191231         he28a2e2_2    conda-forge\n",
      "libev                     4.33                 h516909a_1    conda-forge\n",
      "libevent                  2.1.10               h9b69904_4    conda-forge\n",
      "libexpat                  2.5.0                hcb278e6_1    conda-forge\n",
      "libffi                    3.3                  h58526e2_2    conda-forge\n",
      "libgcc-ng                 12.2.0              h65d4601_19    conda-forge\n",
      "libgfortran-ng            12.2.0              h69a702a_19    conda-forge\n",
      "libgfortran5              12.2.0              h337968e_19    conda-forge\n",
      "libglib                   2.68.4               h3e27bee_0    conda-forge\n",
      "libgomp                   12.2.0              h65d4601_19    conda-forge\n",
      "libiconv                  1.17                 h166bdaf_0    conda-forge\n",
      "liblapack                 3.9.0           16_linux64_openblas    conda-forge\n",
      "libllvm11                 11.1.0               he0ac6c6_5    conda-forge\n",
      "libnghttp2                1.51.0               hdcd2b5c_0    conda-forge\n",
      "libogg                    1.3.4                h7f98852_1    conda-forge\n",
      "libopenblas               0.3.21          pthreads_h78a6416_3    conda-forge\n",
      "libopus                   1.3.1                h7f98852_1    conda-forge\n",
      "libpng                    1.6.39               h753d276_0    conda-forge\n",
      "libpq                     13.8                 hd77ab85_0    conda-forge\n",
      "libsodium                 1.0.18               h36c2ea0_1    conda-forge\n",
      "libsqlite                 3.40.0               h753d276_0    conda-forge\n",
      "libssh2                   1.10.0               haa6b8db_3    conda-forge\n",
      "libstdcxx-ng              12.2.0              h46fd767_19    conda-forge\n",
      "libtiff                   4.5.0                h6adf6a1_2    conda-forge\n",
      "libuuid                   2.38.1               h0b41bf4_0    conda-forge\n",
      "libvorbis                 1.3.7                h9c3ff4c_0    conda-forge\n",
      "libwebp-base              1.3.0                h0b41bf4_0    conda-forge\n",
      "libxcb                    1.13              h7f98852_1004    conda-forge\n",
      "libxkbcommon              1.0.3                he3ba5ed_0    conda-forge\n",
      "libxml2                   2.9.12               h72842e0_0    conda-forge\n",
      "libzlib                   1.2.13               h166bdaf_4    conda-forge\n",
      "libzopfli                 1.0.3                h9c3ff4c_0    conda-forge\n",
      "locket                    1.0.0              pyhd8ed1ab_0    conda-forge\n",
      "lz4-c                     1.9.4                hcb278e6_0    conda-forge\n",
      "markupsafe                2.1.2            py39h72bdee0_0    conda-forge\n",
      "matplotlib                3.7.1            py39hf3d152e_0    conda-forge\n",
      "matplotlib-base           3.7.1            py39he190548_0    conda-forge\n",
      "matplotlib-inline         0.1.6              pyhd8ed1ab_0    conda-forge\n",
      "mistune                   2.0.5              pyhd8ed1ab_0    conda-forge\n",
      "munkres                   1.1.4              pyh9f0ad1d_0    conda-forge\n",
      "mysql-common              8.0.32               h14678bc_0    conda-forge\n",
      "mysql-libs                8.0.32               h54cf53e_0    conda-forge\n",
      "nbclassic                 0.5.5              pyh8b2e9e2_0    conda-forge\n",
      "nbclient                  0.7.3              pyhd8ed1ab_0    conda-forge\n",
      "nbconvert-core            7.3.0              pyhd8ed1ab_2    conda-forge\n",
      "nbformat                  5.8.0              pyhd8ed1ab_0    conda-forge\n",
      "ncurses                   6.3                  h27087fc_1    conda-forge\n",
      "nest-asyncio              1.5.6              pyhd8ed1ab_0    conda-forge\n",
      "networkx                  3.1                pyhd8ed1ab_0    conda-forge\n",
      "notebook                  6.5.3              pyha770c72_0    conda-forge\n",
      "notebook-shim             0.2.2              pyhd8ed1ab_0    conda-forge\n",
      "nspr                      4.35                 h27087fc_0    conda-forge\n",
      "nss                       3.89                 he45b914_0    conda-forge\n",
      "numexpr                   2.8.4                    pypi_0    pypi\n",
      "numpy                     1.24.2           py39h7360e5f_0    conda-forge\n",
      "openjpeg                  2.5.0                hfec8fc6_2    conda-forge\n",
      "openssl                   1.1.1t               h0b41bf4_0    conda-forge\n",
      "packaging                 23.0               pyhd8ed1ab_0    conda-forge\n",
      "pandas                    1.5.3            py39h2ad29b5_1    conda-forge\n",
      "pandocfilters             1.5.0              pyhd8ed1ab_0    conda-forge\n",
      "parso                     0.8.3              pyhd8ed1ab_0    conda-forge\n",
      "partd                     1.3.0              pyhd8ed1ab_0    conda-forge\n",
      "pcre                      8.45                 h9c3ff4c_0    conda-forge\n",
      "pexpect                   4.8.0              pyh1a96a4e_2    conda-forge\n",
      "pickleshare               0.7.5                   py_1003    conda-forge\n",
      "pillow                    9.4.0            py39h2320bf1_1    conda-forge\n",
      "pip                       23.0.1             pyhd8ed1ab_0    conda-forge\n",
      "pkgutil-resolve-name      1.3.10             pyhd8ed1ab_0    conda-forge\n",
      "platformdirs              3.2.0              pyhd8ed1ab_0    conda-forge\n",
      "pooch                     1.7.0              pyha770c72_3    conda-forge\n",
      "prometheus_client         0.16.0             pyhd8ed1ab_0    conda-forge\n",
      "prompt-toolkit            3.0.38             pyha770c72_0    conda-forge\n",
      "prompt_toolkit            3.0.38               hd8ed1ab_0    conda-forge\n",
      "psutil                    5.9.4            py39hb9d737c_0    conda-forge\n",
      "pthread-stubs             0.4               h36c2ea0_1001    conda-forge\n",
      "ptyprocess                0.7.0              pyhd3deb0d_0    conda-forge\n",
      "pure_eval                 0.2.2              pyhd8ed1ab_0    conda-forge\n",
      "pybind11-abi              4                    hd8ed1ab_3    conda-forge\n",
      "pycparser                 2.21               pyhd8ed1ab_0    conda-forge\n",
      "pydata-sphinx-theme       0.13.3             pyhd8ed1ab_0    conda-forge\n",
      "pyfai                     2023.3.0                 pypi_0    pypi\n",
      "pygments                  2.14.0             pyhd8ed1ab_0    conda-forge\n",
      "pyhyperscattering         0+untagged.436.ga456360          pypi_0    pypi\n",
      "pyopencl                  2022.3.1                 pypi_0    pypi\n",
      "pyopenssl                 23.1.1             pyhd8ed1ab_0    conda-forge\n",
      "pyparsing                 3.0.9              pyhd8ed1ab_0    conda-forge\n",
      "pyqt                      5.12.3           py39h03dd644_4    conda-forge\n",
      "pyqt5-sip                 4.19.18                  pypi_0    pypi\n",
      "pyqtchart                 5.12                     pypi_0    pypi\n",
      "pyqtwebengine             5.12.1                   pypi_0    pypi\n",
      "pyrsistent                0.19.3           py39h72bdee0_0    conda-forge\n",
      "pysocks                   1.7.1              pyha2e5f31_6    conda-forge\n",
      "python                    3.9.0           hffdb5ce_5_cpython    conda-forge\n",
      "python-dateutil           2.8.2              pyhd8ed1ab_0    conda-forge\n",
      "python-fastjsonschema     2.16.3             pyhd8ed1ab_0    conda-forge\n",
      "python-json-logger        2.0.7              pyhd8ed1ab_0    conda-forge\n",
      "python_abi                3.9                      3_cp39    conda-forge\n",
      "pytools                   2022.1.14                pypi_0    pypi\n",
      "pytz                      2023.3             pyhd8ed1ab_0    conda-forge\n",
      "pywavelets                1.4.1            py39h389d5f1_0    conda-forge\n",
      "pyyaml                    6.0              py39hb9d737c_5    conda-forge\n",
      "pyzmq                     25.0.2           py39h0be026e_0    conda-forge\n",
      "qt                        5.12.9               hda022c4_4    conda-forge\n",
      "readline                  8.2                  h8228510_1    conda-forge\n",
      "requests                  2.28.2             pyhd8ed1ab_1    conda-forge\n",
      "rfc3339-validator         0.1.4              pyhd8ed1ab_0    conda-forge\n",
      "rfc3986-validator         0.1.1              pyh9f0ad1d_0    conda-forge\n",
      "scikit-image              0.20.0           py39h7c7b5a8_0    conda-forge\n",
      "scipy                     1.9.1                    pypi_0    pypi\n",
      "send2trash                1.8.0              pyhd8ed1ab_0    conda-forge\n",
      "setuptools                67.6.1             pyhd8ed1ab_0    conda-forge\n",
      "silx                      1.1.2                    pypi_0    pypi\n",
      "six                       1.16.0             pyh6c4a22f_0    conda-forge\n",
      "snappy                    1.1.10               h9fff704_0    conda-forge\n",
      "sniffio                   1.3.0              pyhd8ed1ab_0    conda-forge\n",
      "snowballstemmer           2.2.0              pyhd8ed1ab_0    conda-forge\n",
      "soupsieve                 2.3.2.post1        pyhd8ed1ab_0    conda-forge\n",
      "sphinx                    6.1.3              pyhd8ed1ab_0    conda-forge\n",
      "sphinxcontrib-applehelp   1.0.4              pyhd8ed1ab_0    conda-forge\n",
      "sphinxcontrib-devhelp     1.0.2                      py_0    conda-forge\n",
      "sphinxcontrib-htmlhelp    2.0.1              pyhd8ed1ab_0    conda-forge\n",
      "sphinxcontrib-jsmath      1.0.1                      py_0    conda-forge\n",
      "sphinxcontrib-qthelp      1.0.3                      py_0    conda-forge\n",
      "sphinxcontrib-serializinghtml 1.1.5              pyhd8ed1ab_2    conda-forge\n",
      "sqlite                    3.40.0               h4ff8645_0    conda-forge\n",
      "stack_data                0.6.2              pyhd8ed1ab_0    conda-forge\n",
      "terminado                 0.17.1             pyh41d4057_0    conda-forge\n",
      "tifffile                  2023.3.21          pyhd8ed1ab_0    conda-forge\n",
      "tinycss2                  1.2.1              pyhd8ed1ab_0    conda-forge\n",
      "tk                        8.6.12               h27826a3_0    conda-forge\n",
      "tomli                     2.0.1              pyhd8ed1ab_0    conda-forge\n",
      "toolz                     0.12.0             pyhd8ed1ab_0    conda-forge\n",
      "tornado                   6.2              py39hb9d737c_1    conda-forge\n",
      "tqdm                      4.65.0                   pypi_0    pypi\n",
      "traitlets                 5.9.0              pyhd8ed1ab_0    conda-forge\n",
      "typing-extensions         4.5.0                hd8ed1ab_0    conda-forge\n",
      "typing_extensions         4.5.0              pyha770c72_0    conda-forge\n",
      "tzdata                    2023c                h71feb2d_0    conda-forge\n",
      "unicodedata2              15.0.0           py39hb9d737c_0    conda-forge\n",
      "urllib3                   1.26.15            pyhd8ed1ab_0    conda-forge\n",
      "wcwidth                   0.2.6              pyhd8ed1ab_0    conda-forge\n",
      "webencodings              0.5.1                      py_1    conda-forge\n",
      "websocket-client          1.5.1              pyhd8ed1ab_0    conda-forge\n",
      "wheel                     0.40.0             pyhd8ed1ab_0    conda-forge\n",
      "xarray                    2023.3.0           pyhd8ed1ab_0    conda-forge\n",
      "xorg-libxau               1.0.9                h7f98852_0    conda-forge\n",
      "xorg-libxdmcp             1.1.3                h7f98852_0    conda-forge\n",
      "xz                        5.2.6                h166bdaf_0    conda-forge\n",
      "y-py                      0.5.9            py39h50f1755_0    conda-forge\n",
      "yaml                      0.2.5                h7f98852_2    conda-forge\n",
      "ypy-websocket             0.8.2              pyhd8ed1ab_0    conda-forge\n",
      "zeromq                    4.3.4                h9c3ff4c_1    conda-forge\n",
      "zfp                       1.0.0                h27087fc_3    conda-forge\n",
      "zipp                      3.15.0             pyhd8ed1ab_0    conda-forge\n",
      "zlib                      1.2.13               h166bdaf_4    conda-forge\n",
      "zlib-ng                   2.0.7                h0b41bf4_0    conda-forge\n",
      "zstd                      1.5.2                h3eb15da_6    conda-forge\n",
      "\n",
      "Note: you may need to restart the kernel to use updated packages.\n"
     ]
    }
   ],
   "source": [
    "conda list"
   ]
  },
  {
   "cell_type": "code",
   "execution_count": 13,
   "id": "4bce5b1f-88ce-4fcc-9322-13de18327239",
   "metadata": {
    "vscode": {
     "languageId": "python"
    }
   },
   "outputs": [
    {
     "ename": "ValueError",
     "evalue": "unrecognized engine zarr must be one of: ['scipy', 'store']",
     "output_type": "error",
     "traceback": [
      "\u001b[0;31m---------------------------------------------------------------------------\u001b[0m",
      "\u001b[0;31mValueError\u001b[0m                                Traceback (most recent call last)",
      "Cell \u001b[0;32mIn[13], line 4\u001b[0m\n\u001b[1;32m      1\u001b[0m \u001b[39m### How you would load data:\u001b[39;00m\n\u001b[1;32m      2\u001b[0m segment \u001b[39m=\u001b[39m \u001b[39m'\u001b[39m\u001b[39mw1_\u001b[39m\u001b[39m'\u001b[39m  \u001b[39m#identifying segment of .zarr string\u001b[39;00m\n\u001b[0;32m----> 4\u001b[0m raw_saxs \u001b[39m=\u001b[39m xr\u001b[39m.\u001b[39;49mopen_zarr(\u001b[39msorted\u001b[39;49m(zarrPath\u001b[39m.\u001b[39;49mglob(\u001b[39mf\u001b[39;49m\u001b[39m'\u001b[39;49m\u001b[39mraw*\u001b[39;49m\u001b[39m{\u001b[39;49;00msegment\u001b[39m}\u001b[39;49;00m\u001b[39m*SAXS*\u001b[39;49m\u001b[39m'\u001b[39;49m))[\u001b[39m0\u001b[39;49m])\u001b[39m.\u001b[39msaxs\n\u001b[1;32m      5\u001b[0m raw_waxs \u001b[39m=\u001b[39m xr\u001b[39m.\u001b[39mopen_zarr(\u001b[39msorted\u001b[39m(zarrPath\u001b[39m.\u001b[39mglob(\u001b[39mf\u001b[39m\u001b[39m'\u001b[39m\u001b[39mraw*\u001b[39m\u001b[39m{\u001b[39;00msegment\u001b[39m}\u001b[39;00m\u001b[39m*WAXS*\u001b[39m\u001b[39m'\u001b[39m))[\u001b[39m0\u001b[39m])\u001b[39m.\u001b[39mwaxs\n\u001b[1;32m      6\u001b[0m integ_saxs \u001b[39m=\u001b[39m xr\u001b[39m.\u001b[39mopen_zarr(\u001b[39msorted\u001b[39m(zarrPath\u001b[39m.\u001b[39mglob(\u001b[39mf\u001b[39m\u001b[39m'\u001b[39m\u001b[39minteg*\u001b[39m\u001b[39m{\u001b[39;00msegment\u001b[39m}\u001b[39;00m\u001b[39m*SAXS*\u001b[39m\u001b[39m'\u001b[39m))[\u001b[39m0\u001b[39m])\u001b[39m.\u001b[39msaxs\n",
      "File \u001b[0;32m~/.conda/envs/nrss/lib/python3.9/site-packages/xarray/backends/zarr.py:829\u001b[0m, in \u001b[0;36mopen_zarr\u001b[0;34m(store, group, synchronizer, chunks, decode_cf, mask_and_scale, decode_times, concat_characters, decode_coords, drop_variables, consolidated, overwrite_encoded_chunks, chunk_store, storage_options, decode_timedelta, use_cftime, zarr_version, **kwargs)\u001b[0m\n\u001b[1;32m    815\u001b[0m     \u001b[39mraise\u001b[39;00m \u001b[39mTypeError\u001b[39;00m(\n\u001b[1;32m    816\u001b[0m         \u001b[39m\"\u001b[39m\u001b[39mopen_zarr() got unexpected keyword arguments \u001b[39m\u001b[39m\"\u001b[39m \u001b[39m+\u001b[39m \u001b[39m\"\u001b[39m\u001b[39m,\u001b[39m\u001b[39m\"\u001b[39m\u001b[39m.\u001b[39mjoin(kwargs\u001b[39m.\u001b[39mkeys())\n\u001b[1;32m    817\u001b[0m     )\n\u001b[1;32m    819\u001b[0m backend_kwargs \u001b[39m=\u001b[39m {\n\u001b[1;32m    820\u001b[0m     \u001b[39m\"\u001b[39m\u001b[39msynchronizer\u001b[39m\u001b[39m\"\u001b[39m: synchronizer,\n\u001b[1;32m    821\u001b[0m     \u001b[39m\"\u001b[39m\u001b[39mconsolidated\u001b[39m\u001b[39m\"\u001b[39m: consolidated,\n\u001b[0;32m   (...)\u001b[0m\n\u001b[1;32m    826\u001b[0m     \u001b[39m\"\u001b[39m\u001b[39mzarr_version\u001b[39m\u001b[39m\"\u001b[39m: zarr_version,\n\u001b[1;32m    827\u001b[0m }\n\u001b[0;32m--> 829\u001b[0m ds \u001b[39m=\u001b[39m open_dataset(\n\u001b[1;32m    830\u001b[0m     filename_or_obj\u001b[39m=\u001b[39;49mstore,\n\u001b[1;32m    831\u001b[0m     group\u001b[39m=\u001b[39;49mgroup,\n\u001b[1;32m    832\u001b[0m     decode_cf\u001b[39m=\u001b[39;49mdecode_cf,\n\u001b[1;32m    833\u001b[0m     mask_and_scale\u001b[39m=\u001b[39;49mmask_and_scale,\n\u001b[1;32m    834\u001b[0m     decode_times\u001b[39m=\u001b[39;49mdecode_times,\n\u001b[1;32m    835\u001b[0m     concat_characters\u001b[39m=\u001b[39;49mconcat_characters,\n\u001b[1;32m    836\u001b[0m     decode_coords\u001b[39m=\u001b[39;49mdecode_coords,\n\u001b[1;32m    837\u001b[0m     engine\u001b[39m=\u001b[39;49m\u001b[39m\"\u001b[39;49m\u001b[39mzarr\u001b[39;49m\u001b[39m\"\u001b[39;49m,\n\u001b[1;32m    838\u001b[0m     chunks\u001b[39m=\u001b[39;49mchunks,\n\u001b[1;32m    839\u001b[0m     drop_variables\u001b[39m=\u001b[39;49mdrop_variables,\n\u001b[1;32m    840\u001b[0m     backend_kwargs\u001b[39m=\u001b[39;49mbackend_kwargs,\n\u001b[1;32m    841\u001b[0m     decode_timedelta\u001b[39m=\u001b[39;49mdecode_timedelta,\n\u001b[1;32m    842\u001b[0m     use_cftime\u001b[39m=\u001b[39;49muse_cftime,\n\u001b[1;32m    843\u001b[0m     zarr_version\u001b[39m=\u001b[39;49mzarr_version,\n\u001b[1;32m    844\u001b[0m )\n\u001b[1;32m    845\u001b[0m \u001b[39mreturn\u001b[39;00m ds\n",
      "File \u001b[0;32m~/.conda/envs/nrss/lib/python3.9/site-packages/xarray/backends/api.py:512\u001b[0m, in \u001b[0;36mopen_dataset\u001b[0;34m(filename_or_obj, engine, chunks, cache, decode_cf, mask_and_scale, decode_times, decode_timedelta, use_cftime, concat_characters, decode_coords, drop_variables, inline_array, backend_kwargs, **kwargs)\u001b[0m\n\u001b[1;32m    509\u001b[0m \u001b[39mif\u001b[39;00m engine \u001b[39mis\u001b[39;00m \u001b[39mNone\u001b[39;00m:\n\u001b[1;32m    510\u001b[0m     engine \u001b[39m=\u001b[39m plugins\u001b[39m.\u001b[39mguess_engine(filename_or_obj)\n\u001b[0;32m--> 512\u001b[0m backend \u001b[39m=\u001b[39m plugins\u001b[39m.\u001b[39;49mget_backend(engine)\n\u001b[1;32m    514\u001b[0m decoders \u001b[39m=\u001b[39m _resolve_decoders_kwargs(\n\u001b[1;32m    515\u001b[0m     decode_cf,\n\u001b[1;32m    516\u001b[0m     open_backend_dataset_parameters\u001b[39m=\u001b[39mbackend\u001b[39m.\u001b[39mopen_dataset_parameters,\n\u001b[0;32m   (...)\u001b[0m\n\u001b[1;32m    522\u001b[0m     decode_coords\u001b[39m=\u001b[39mdecode_coords,\n\u001b[1;32m    523\u001b[0m )\n\u001b[1;32m    525\u001b[0m overwrite_encoded_chunks \u001b[39m=\u001b[39m kwargs\u001b[39m.\u001b[39mpop(\u001b[39m\"\u001b[39m\u001b[39moverwrite_encoded_chunks\u001b[39m\u001b[39m\"\u001b[39m, \u001b[39mNone\u001b[39;00m)\n",
      "File \u001b[0;32m~/.conda/envs/nrss/lib/python3.9/site-packages/xarray/backends/plugins.py:185\u001b[0m, in \u001b[0;36mget_backend\u001b[0;34m(engine)\u001b[0m\n\u001b[1;32m    183\u001b[0m     engines \u001b[39m=\u001b[39m list_engines()\n\u001b[1;32m    184\u001b[0m     \u001b[39mif\u001b[39;00m engine \u001b[39mnot\u001b[39;00m \u001b[39min\u001b[39;00m engines:\n\u001b[0;32m--> 185\u001b[0m         \u001b[39mraise\u001b[39;00m \u001b[39mValueError\u001b[39;00m(\n\u001b[1;32m    186\u001b[0m             \u001b[39mf\u001b[39m\u001b[39m\"\u001b[39m\u001b[39munrecognized engine \u001b[39m\u001b[39m{\u001b[39;00mengine\u001b[39m}\u001b[39;00m\u001b[39m must be one of: \u001b[39m\u001b[39m{\u001b[39;00m\u001b[39mlist\u001b[39m(engines)\u001b[39m}\u001b[39;00m\u001b[39m\"\u001b[39m\n\u001b[1;32m    187\u001b[0m         )\n\u001b[1;32m    188\u001b[0m     backend \u001b[39m=\u001b[39m engines[engine]\n\u001b[1;32m    189\u001b[0m \u001b[39melif\u001b[39;00m \u001b[39misinstance\u001b[39m(engine, \u001b[39mtype\u001b[39m) \u001b[39mand\u001b[39;00m \u001b[39missubclass\u001b[39m(engine, BackendEntrypoint):\n",
      "\u001b[0;31mValueError\u001b[0m: unrecognized engine zarr must be one of: ['scipy', 'store']"
     ]
    }
   ],
   "source": [
    "### How you would load data:\n",
    "segment = 'w1_'  #identifying segment of .zarr string\n",
    "\n",
    "raw_saxs = xr.open_zarr(sorted(zarrPath.glob(f'raw*{segment}*SAXS*'))[0]).saxs\n",
    "raw_waxs = xr.open_zarr(sorted(zarrPath.glob(f'raw*{segment}*WAXS*'))[0]).waxs\n",
    "integ_saxs = xr.open_zarr(sorted(zarrPath.glob(f'integ*{segment}*SAXS*'))[0]).saxs\n",
    "integ_waxs = xr.open_zarr(sorted(zarrPath.glob(f'integ*{segment}*WAXS*'))[0]).waxs"
   ]
  },
  {
   "cell_type": "code",
   "execution_count": 6,
   "id": "073dd791-dbb9-48a6-9ac3-af58859f9a91",
   "metadata": {
    "tags": [],
    "vscode": {
     "languageId": "python"
    }
   },
   "outputs": [],
   "source": [
    "### Load energy lists for facet plots\n",
    "energies = raw_waxs.energy.data\n",
    "resonant_energies = energies[16:96]\n",
    "\n",
    "gif_energies = np.array([])\n",
    "gif_energies = np.append(energies[0:16:3], energies[-31::2])\n",
    "gif_energies = np.sort(np.append(gif_energies, resonant_energies))\n",
    "\n",
    "pol=0\n",
    "\n",
    "# #### View facet plot to verify data:\n",
    "# integ_waxs.sel(pol=pol, energy=gif_energies[:-6:6], method='nearest').plot.imshow(xscale='log', xlim=(1e-2, 2e-1),\n",
    "#                 norm=LogNorm(1e1, 5e3), cmap=cm, interpolation='antialiased', col='energy', col_wrap=4)\n",
    "# integ_saxs.sel(pol=pol, energy=gif_energies[:-6:6], method='nearest').plot.imshow(xscale='log', xlim=(1e-3, 1e-2),\n",
    "#                 norm=LogNorm(1e1, 5e3), cmap=cm, interpolation='antialiased', col='energy', col_wrap=4)\n",
    "\n",
    "# raw_waxs.sel(pol=pol, energy=gif_energies[:-6:6], method='nearest').plot.imshow(x='qx', y='qy',\n",
    "#                 norm=LogNorm(1e1, 5e3), cmap=cm, interpolation='antialiased', col='energy', col_wrap=4)\n",
    "# raw_saxs.sel(pol=pol, energy=gif_energies[:-6:6], method='nearest').plot.imshow(x='qx', y='qy',\n",
    "#                 norm=LogNorm(1e1, 5e3), cmap=cm, interpolation='antialiased', col='energy', col_wrap=4)\n"
   ]
  },
  {
   "cell_type": "markdown",
   "id": "eaa29bde-1623-4394-a232-7a3ad39ccd3b",
   "metadata": {},
   "source": [
    "## Analysis / related"
   ]
  },
  {
   "cell_type": "code",
   "execution_count": 12,
   "id": "53aae8c8-f422-4910-bf0f-b9b1229b71ec",
   "metadata": {
    "vscode": {
     "languageId": "python"
    }
   },
   "outputs": [],
   "source": [
    "# ### Misc settings:\n",
    "\n",
    "# plt.rcParams['savefig.facecolor'] = 'white'\n",
    "\n",
    "# sample_name = sample_guide[raw_waxs.sample_name]\n",
    "# detector = detector_guide[raw_waxs.detector]\n",
    "\n",
    "# lineplot_cmap = plt.cm.viridis(np.linspace(0,0.9, len(energy_list)))"
   ]
  },
  {
   "cell_type": "markdown",
   "id": "af6788c9-902c-4110-9a3a-3146a7e3dc7d",
   "metadata": {},
   "source": [
    "### Intensity exports:"
   ]
  },
  {
   "cell_type": "markdown",
   "id": "9ed8058e-ad8c-432c-adf1-df202f9583e7",
   "metadata": {},
   "source": [
    "#### 1. Tiff stacks of qxqy detector images & qchi converted images"
   ]
  },
  {
   "cell_type": "code",
   "execution_count": null,
   "id": "0e929697-037c-482a-9964-8f83f40b380f",
   "metadata": {
    "vscode": {
     "languageId": "python"
    }
   },
   "outputs": [],
   "source": []
  },
  {
   "cell_type": "markdown",
   "id": "c8c47330-3db4-4b35-afdb-b338b44280ef",
   "metadata": {},
   "source": [
    "#### 2. Meaned 2D intensity plots:\n",
    "    1. Chi-meaned: 360, para/perp wedges, E vs Q \n",
    "    2. Q-meaned: Full q, high/low q regions, E vs Chi\n",
    "    3. Combinations: Chi & Q-meaned\n"
   ]
  },
  {
   "cell_type": "code",
   "execution_count": null,
   "id": "b050a198-4431-4767-8f90-4457f95780c1",
   "metadata": {
    "vscode": {
     "languageId": "python"
    }
   },
   "outputs": [],
   "source": []
  },
  {
   "cell_type": "markdown",
   "id": "89afca6c-7d8f-42ef-9aef-27ac924e2c81",
   "metadata": {},
   "source": [
    "#### 3. Meaned 1D intensity lineplots, selected energies\n",
    "    1. Chi-meaned: 360, para/perp wedges (20 deg, 30 deg, 40 deg, 50 deg wedges), I vs Q\n",
    "    2. Q-meaned: Full q, high/low q regions, I vs Q\n",
    "    3. Combinations: Chi & Q-meaned"
   ]
  },
  {
   "cell_type": "code",
   "execution_count": null,
   "id": "c634aa49-e4d4-470b-9032-8ba4b9f36c08",
   "metadata": {
    "vscode": {
     "languageId": "python"
    }
   },
   "outputs": [],
   "source": [
    "integ_waxs.sel(pol=0, energy=285, method='nearest').plot.imshow(\n",
    "    norm=LogNorm(1e1, 5e3), cmap=cm, interpolation='antialiased', xlim=(0.01, 0.1))"
   ]
  },
  {
   "cell_type": "markdown",
   "id": "fb5e8ead-81bb-48cd-94d8-8f99444f0ae2",
   "metadata": {},
   "source": [
    "### Facet plots"
   ]
  },
  {
   "cell_type": "code",
   "execution_count": null,
   "id": "afefe559-6384-4002-814e-02b09db7fa96",
   "metadata": {
    "tags": [],
    "vscode": {
     "languageId": "python"
    }
   },
   "outputs": [],
   "source": [
    "### Facet plots:\n",
    "\n",
    "# energy_list =\n",
    "\n",
    "# integ_saxs.sel(pol=0, energy=energy_list).sel(q=slice(0.0008, 0.0101)).plot.imshow(\n",
    "#     norm=LogNorm(1e1, 1e3), cmap=cm, interpolation='antialiased', col='energy', col_wrap=4)\n",
    "\n",
    "# integ_waxs.sel(pol=0, energy=energy_list).sel(q=slice(0.01, 0.1)).plot.imshow(\n",
    "#     norm=LogNorm(1e1, 5e3), cmap=cm, interpolation='antialiased', col='energy', col_wrap=4)\n",
    "\n",
    "# raw_waxs.sel(pol=0, energy=np.linspace(280, 298, 20), method='nearest').plot.imshow(\n",
    "#     norm=LogNorm(1e1, 5e3), cmap=cm, interpolation='antialiased', col='energy', col_wrap=4)\n",
    "\n",
    "\n",
    "\n",
    "for num in range(10):\n",
    "    pol = 90\n",
    "    grid = raw_waxs.sel(pol=pol, energy=energy_list[8*num:8*num+8], method='nearest').plot.imshow(x='qx', y='qy',\n",
    "                norm=LogNorm(1e1, 5e3), cmap=cm, interpolation='antialiased', col='energy', col_wrap=4)\n",
    "    grid.set_xlabels('qx [1/Å]')\n",
    "    grid.set_ylabels('qy [1/Å]') \n",
    "   \n",
    "    sample_name = sample_guide[raw_waxs.sample_name]\n",
    "    scan_id = raw_waxs.sampleid\n",
    "    detector = detector_guide[raw_waxs.detector]\n",
    "\n",
    "    # Create/select folder for scan to save plots:\n",
    "    tiffsPath = scanPath.joinpath(f'facet_qxqy_frames_{detector}_{int(pol):0>2}deg')\n",
    "    tiffsPath.mkdir(parents=True, exist_ok=True)\n",
    "    \n",
    "    plt.savefig(tiffsPath.joinpath(f'{sample_name}_{detector}_{int(pol):0>2}_f{num}.svg'))"
   ]
  },
  {
   "cell_type": "markdown",
   "id": "5782608a-bd9a-42f5-b209-94db1cb7e024",
   "metadata": {
    "tags": []
   },
   "source": [
    "### 1D Intensity Plots"
   ]
  },
  {
   "cell_type": "code",
   "execution_count": null,
   "id": "e91cc0cc-d1b2-438b-a1ea-ad9765119deb",
   "metadata": {
    "tags": [],
    "vscode": {
     "languageId": "python"
    }
   },
   "outputs": [],
   "source": [
    "# 360 chi mean\n",
    "pol=0\n",
    "for i, energy in enumerate(energy_list):\n",
    "    integ_waxs.sel(pol=pol, energy=energy, method='nearest').mean('chi').plot.line(label=round(energy,1), color=lineplot_cmap[i])\n",
    "\n",
    "plt.title(f'I vs Q, 360 chi avg: {sample_guide[integ_waxs.sample_name]}, {detector_guide[integ_waxs.detector]}, pol={pol}')\n",
    "plt.xscale('log')\n",
    "plt.xlabel('Q [1/nm]')\n",
    "plt.xlim((0.01, 0.1))\n",
    "plt.yscale('log')\n",
    "plt.ylabel('Intensity [arb. units]')\n",
    "plt.ylim((1, 1e4))\n",
    "plt.legend(loc='center left', bbox_to_anchor=(1, 0.5))"
   ]
  },
  {
   "cell_type": "code",
   "execution_count": null,
   "id": "858f0343-e378-4ef3-ae94-f4aae42bb479",
   "metadata": {
    "tags": [],
    "vscode": {
     "languageId": "python"
    }
   },
   "outputs": [],
   "source": [
    "# Para chi mean\n",
    "pol=0\n",
    "for i, energy in enumerate(energy_list):\n",
    "    integ_waxs.sel(pol=pol, energy=energy, method='nearest').sel(chi=slice(-10, 10)).mean('chi').plot.line(label=round(energy,1), color=lineplot_cmap[i])\n",
    "\n",
    "plt.title(f'I vs Q, para chi avg: {sample_guide[integ_waxs.sample_name]}, {detector_guide[integ_waxs.detector]}, pol={pol}')\n",
    "plt.xscale('log')\n",
    "plt.xlabel('Q [1/nm]')\n",
    "plt.xlim((0.01, 0.1))\n",
    "plt.yscale('log')\n",
    "plt.ylabel('Intensity [arb. units]')\n",
    "plt.ylim((1, 1e4))\n",
    "plt.legend(loc='center left', bbox_to_anchor=(1, 0.5))"
   ]
  },
  {
   "cell_type": "code",
   "execution_count": null,
   "id": "28e561b8-91be-4802-90d2-c5239ea39b41",
   "metadata": {
    "tags": [],
    "vscode": {
     "languageId": "python"
    }
   },
   "outputs": [],
   "source": [
    "# Perp chi mean\n",
    "pol=0\n",
    "for i, energy in enumerate(energy_list):\n",
    "    integ_waxs.sel(pol=pol, energy=energy, method='nearest').sel(chi=slice(80, 100)).mean('chi').plot.line(label=round(energy,1), color=lineplot_cmap[i])\n",
    "\n",
    "plt.title(f'I vs Q, perp chi avg: {sample_guide[integ_waxs.sample_name]}, {detector_guide[integ_waxs.detector]}, pol={pol}')\n",
    "plt.xscale('log')\n",
    "plt.xlabel('Q [1/nm]')\n",
    "plt.xlim((0.01, 0.1))\n",
    "plt.yscale('log')\n",
    "plt.ylabel('Intensity [arb. units]')\n",
    "plt.ylim((1, 1e4))\n",
    "plt.legend(loc='center left', bbox_to_anchor=(1, 0.5))"
   ]
  },
  {
   "cell_type": "code",
   "execution_count": null,
   "id": "ab863d55-d37f-4661-936d-f3104446e903",
   "metadata": {
    "vscode": {
     "languageId": "python"
    }
   },
   "outputs": [],
   "source": [
    "# Perp chi mean\n",
    "pol=0\n",
    "for i, energy in enumerate(energy_list):\n",
    "    integ_saxs.sel(pol=pol, energy=energy, method='nearest').sel(chi=slice(50, 130)).mean('chi').plot.line(label=round(energy,1), color=lineplot_cmap[i])\n",
    "\n",
    "plt.title(f'I vs Q, perp chi avg: {sample_guide[integ_saxs.sample_name]}, {detector_guide[integ_saxs.detector]}, pol={pol}')\n",
    "plt.xscale('log')\n",
    "plt.xlabel('Q [1/nm]')\n",
    "plt.xlim((0.002, 0.01))\n",
    "plt.yscale('log')\n",
    "plt.ylabel('Intensity [arb. units]')\n",
    "plt.ylim((1, 2e2))\n",
    "plt.legend(loc='center left', bbox_to_anchor=(1, 0.5))"
   ]
  },
  {
   "cell_type": "code",
   "execution_count": null,
   "id": "75e8ea53-d37d-42b4-96d4-e15b4a6a37b6",
   "metadata": {
    "vscode": {
     "languageId": "python"
    }
   },
   "outputs": [],
   "source": [
    "# integ_waxs.sel(pol=0, energy=energy_list).mean('chi').plot.line(hue='energy', xscale='log', yscale='log', \n",
    "#     xlim=(0.01, 0.1), add_legend=False)\n",
    "# plt.legend(labels=np.round(energy_list, 1))"
   ]
  },
  {
   "cell_type": "markdown",
   "id": "5e22a430-6a4f-4229-9d0a-0d955a48fec4",
   "metadata": {},
   "source": [
    "### Anisotropy Ratios"
   ]
  },
  {
   "cell_type": "code",
   "execution_count": null,
   "id": "513a21d2-4c67-4572-999f-fcbf2e01dc90",
   "metadata": {
    "vscode": {
     "languageId": "python"
    }
   },
   "outputs": [],
   "source": [
    "integ_saxs.rsoxs.AR()"
   ]
  },
  {
   "cell_type": "code",
   "execution_count": null,
   "id": "0c89912d-a79d-47dc-b38e-2709fd323953",
   "metadata": {
    "tags": [],
    "vscode": {
     "languageId": "python"
    }
   },
   "outputs": [],
   "source": [
    "pol=0\n",
    "AR_saxs_p0 = integ_saxs.sel(pol=pol).rsoxs.AR(pol=pol, chi_width=40)\n",
    "AR_saxs_p0.plot.imshow(x='q', xscale='log', xlim=(0.002, 0.009), xticks=[0.002, 0.01], y='energy', \n",
    "                       ylim=(280, 290), cmap=plt.cm.seismic, vmin=-1, vmax=1, interpolation='antialiased', size=6, \n",
    "                       aspect=0.6)\n",
    "\n",
    "plt.xlabel(\"q [1/Å]\")\n",
    "plt.title(f'AR map, E vs Q: {sample_guide[integ_saxs.sample_name]}, {detector_guide[integ_saxs.detector]}, pol={pol}')"
   ]
  },
  {
   "cell_type": "code",
   "execution_count": null,
   "id": "0442b8a3-783c-4972-a306-3a6ce812ae4a",
   "metadata": {
    "vscode": {
     "languageId": "python"
    }
   },
   "outputs": [],
   "source": [
    "### Using pcolormesh instead of imshow:\n",
    "\n",
    "pol=0\n",
    "AR_waxs_p0 = integ_waxs.sel(pol=pol).rsoxs.AR(pol=pol, chi_width=40)\n",
    "AR_waxs_p0.plot.pcolormesh(cmap=plt.cm.seismic, size=6, aspect=1, x='q', xscale='log', xlim=(0.01, 0.1),\n",
    "                          vmin=-1, vmax=1, y='energy', ylim=(282, 290), infer_intervals=True)\n",
    "\n",
    "plt.xlabel(\"q [1/Å]\")\n",
    "plt.title(f'AR map, E vs Q: {sample_guide[integ_waxs.sample_name]}, {detector_guide[integ_waxs.detector]}, pol={pol}')\n",
    "plt.savefig(scanPath.joinpath(f'AR_map_{sample_name}_{detector}_pol{int(pol)}.svg'))"
   ]
  },
  {
   "cell_type": "code",
   "execution_count": null,
   "id": "381b7163-5b6f-4cde-ac34-cc053894d520",
   "metadata": {
    "vscode": {
     "languageId": "python"
    }
   },
   "outputs": [],
   "source": [
    "pol=0\n",
    "AR_waxs_p0 = integ_waxs.sel(pol=pol).rsoxs.AR(pol=pol, chi_width=40)\n",
    "AR_waxs_p0.plot.imshow(x='q', xscale='log', xlim=(0.01, 0.09), xticks=[0.01, 0.1], y='energy', ylim=(280, 290),\n",
    "                       cmap=plt.cm.seismic, vmin=-1, vmax=1, size=6, aspect=0.6)\n",
    "\n",
    "plt.xlabel(\"q [1/Å]\")\n",
    "plt.title(f'AR map, E vs Q: {sample_guide[integ_waxs.sample_name]}, {detector_guide[integ_waxs.detector]}, pol={pol}')"
   ]
  },
  {
   "cell_type": "code",
   "execution_count": null,
   "id": "cddf7e18-a8b4-4af8-ac0b-d38dc06c70ce",
   "metadata": {
    "vscode": {
     "languageId": "python"
    }
   },
   "outputs": [],
   "source": [
    "pol=90\n",
    "AR_saxs_p90 = integ_saxs.sel(pol=pol).rsoxs.AR(pol=pol, chi_width=40)\n",
    "AR_saxs_p90.plot.imshow(x='q', xscale='log', xlim=(0.002, 0.009), xticks=[0.01, 0.1], y='energy', ylim=(280, 290),\n",
    "                       cmap=plt.cm.seismic, vmin=-1, vmax=1, interpolation='antialiased', size=6, aspect=0.6)\n",
    "\n",
    "plt.xlabel(\"q [1/Å]\")\n",
    "plt.title(f'AR map, E vs Q: {sample_guide[integ_saxs.sample_name]}, {detector_guide[integ_saxs.detector]}, pol={pol}')"
   ]
  },
  {
   "cell_type": "code",
   "execution_count": null,
   "id": "4a744bd8-2194-451e-a9c1-97b43438ea89",
   "metadata": {
    "vscode": {
     "languageId": "python"
    }
   },
   "outputs": [],
   "source": [
    "pol=90\n",
    "AR_waxs_p90 = integ_waxs.sel(pol=pol).rsoxs.AR(pol=pol, chi_width=40)\n",
    "AR_waxs_p90.plot.imshow(x='q', xscale='log', xlim=(0.01, 0.09), xticks=[0.01, 0.1], y='energy', ylim=(280, 290),\n",
    "                       cmap=plt.cm.seismic, vmin=-1, vmax=1, interpolation='antialiased', size=6, aspect=0.6)\n",
    "\n",
    "plt.xlabel(\"q [1/Å]\")\n",
    "plt.title(f'AR map, E vs Q: {sample_guide[integ_waxs.sample_name]}, {detector_guide[integ_waxs.detector]}, pol={pol}')"
   ]
  },
  {
   "cell_type": "code",
   "execution_count": null,
   "id": "8cfaa306-e42a-449e-b4dd-a86a5d3d4e29",
   "metadata": {
    "vscode": {
     "languageId": "python"
    }
   },
   "outputs": [],
   "source": [
    "para_waxs_p0 = integ_waxs.sel(chi=slice(-10, 10)).mean('chi').sel(pol=0)\n",
    "perp_waxs_p0 = integ_waxs.sel(chi=slice(80, 100)).mean('chi').sel(pol=0)\n",
    "AR_waxs_p90 = (para_waxs_p0-perp_waxs_p0) / (para_waxs_p0+para_waxs_p0)\n",
    "AR_waxs_p90"
   ]
  },
  {
   "cell_type": "code",
   "execution_count": null,
   "id": "1b2ce347-6dce-4523-a4c1-f88cd5443f96",
   "metadata": {
    "vscode": {
     "languageId": "python"
    }
   },
   "outputs": [],
   "source": [
    "plt.imshow(AR_waxs_p90.data, cmap=plt.cm.seismic, vmin=-1, vmax=1, interpolation='antialiased', origin='lower')\n",
    "# plt.xscale('log')\n",
    "# plt.gcf().set(dpi=300)"
   ]
  },
  {
   "cell_type": "code",
   "execution_count": null,
   "id": "1dd98698-65c2-4dc3-abae-cf32709e4be6",
   "metadata": {
    "tags": [],
    "vscode": {
     "languageId": "python"
    }
   },
   "outputs": [],
   "source": [
    "AR_waxs_p90.plot(x='q', vmin=-0.8, vmax=0.8, cmap=plt.cm.seismic)\n",
    "# AR_waxs_p90.plot.imshow(x='q', xlim=(0.01, 0.1), xscale='log',cmap=plt.cm.seismic, vmin=-1, \n",
    "#                 vmax=1, interpolation='none')\n",
    "plt.ylim(275, 300)"
   ]
  },
  {
   "cell_type": "code",
   "execution_count": null,
   "id": "84b802ad-f082-4b59-9fb8-69f47b49868b",
   "metadata": {
    "tags": [],
    "vscode": {
     "languageId": "python"
    }
   },
   "outputs": [],
   "source": [
    "out90 = integ_waxs.sel(pol=90).rsoxs.AR(pol=90)\n",
    "out90.plot.imshow(x='q', xlim=(0.01, 0.1), xscale='log', y='energy', ylim=(275, 290),cmap=plt.cm.seismic, vmin=-1, \n",
    "                vmax=1, interpolation='antialiased')"
   ]
  },
  {
   "cell_type": "code",
   "execution_count": null,
   "id": "07c13ffc-8759-4dc7-acaf-9d20a1e57e76",
   "metadata": {
    "vscode": {
     "languageId": "python"
    }
   },
   "outputs": [],
   "source": []
  }
 ],
 "metadata": {
  "kernelspec": {
   "display_name": "nrss",
   "language": "python",
   "name": "nrss"
  }
 },
 "nbformat": 4,
 "nbformat_minor": 5
}
