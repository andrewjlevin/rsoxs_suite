{
 "cells": [
  {
   "cell_type": "markdown",
   "id": "ec168949-2441-4681-ac53-cc53c5a1e714",
   "metadata": {},
   "source": [
    "# SST1 NEXAFS Processing Notebook\n",
    "\n",
    "Takes raw SST1 output (folders & primary.csv's) and can plot/export:\n",
    "* Normalized NEXAFS data for each measured angle\n",
    "* Extrapolated NEXAFS to total isotropy anisotropy (applicable only to uniaxial samples)\n",
    "* Binary contrasts in a variety of data formats (animated gif)\n",
    "* CyRSoXS materials.txt files"
   ]
  },
  {
   "cell_type": "code",
   "execution_count": null,
   "id": "b6d35a8b-1165-4549-bd92-369d85dcd7e2",
   "metadata": {},
   "outputs": [],
   "source": [
    "### Imports:\n",
    "import kkcalc, pathlib, json, os\n",
    "from kkcalc import data\n",
    "from kkcalc import kk\n",
    "import numpy as np\n",
    "import matplotlib.pyplot as plt\n",
    "import xarray as xr\n",
    "import pandas as pd\n",
    "from scipy import optimize\n",
    "\n",
    "from matplotlib_inline.backend_inline import set_matplotlib_formats\n",
    "set_matplotlib_formats('svg')"
   ]
  },
  {
   "cell_type": "code",
   "execution_count": null,
   "id": "26a8f9dc-5864-45f4-9d43-0407c7c5f9ba",
   "metadata": {},
   "outputs": [],
   "source": [
    "### Functions: \n",
    "\n",
    "# These use timestamps in the various files to interpolate/bin signals onto energy\n",
    "def read_NEXAFS(scan_num,base,detector='WAXS'):\n",
    "    mesh = pd.read_csv(list(pathlib.Path(base,scan_num).glob('*Au Mesh*.csv'))[0])\n",
    "    sample_current = pd.read_csv(list(pathlib.Path(base,scan_num).glob('*Sample Current*.csv'))[0])\n",
    "    primary = pd.read_csv(list(base.glob(scan_num + '*primary.csv'))[0])\n",
    "    beamstop = pd.read_csv(list(pathlib.Path(base,scan_num).glob(f'*{detector}*monitor.csv'))[0])\n",
    "    return primary, mesh, sample_current, beamstop\n",
    "\n",
    "def interp_NEXAFS(primary, mesh, sample, beamstop,detector='WAXS'):\n",
    "    mesh_interp = np.interp(primary['time'],mesh['time'],mesh['RSoXS Au Mesh Current'])\n",
    "    sample_interp = np.interp(primary['time'],sample['time'],sample['RSoXS Sample Current'])\n",
    "    beamstop_interp = np.interp(primary['time'],beamstop['time'],beamstop[f'{detector} Beamstop'])\n",
    "    return mesh_interp, sample_interp, beamstop_interp\n",
    "\n",
    "def read_interp(scan_num, base, detector='WAXS'):\n",
    "    # print(f'{detector} detector selected')\n",
    "    primary, mesh, sample_current, beamstop = read_NEXAFS(scan_num, base, detector=detector)\n",
    "    energy = primary['en_monoen_readback']\n",
    "    mesh_interp, sample_interp, beamstop_interp = interp_NEXAFS(primary, mesh, sample_current, beamstop, detector=detector)\n",
    "    return energy, mesh_interp, sample_interp, beamstop_interp\n",
    "\n",
    "def get_pol(scan_num, base):\n",
    "    \"\"\"\n",
    "    Returns polarization and sample polarization for selected scan number in specificed path. \n",
    "    \"\"\"\n",
    "    abs_pol = round(pd.read_csv(list(base.joinpath(scan_num).glob('*baseline*'))[0])['en_polarization'][0], 0)\n",
    "    sample_pol = round(pd.read_csv(list(base.joinpath(scan_num).glob('*baseline*'))[0])['en_sample_polarization'][0], 0) \n",
    "    return abs_pol, sample_pol\n",
    "\n",
    "def get_name(scan_num, base):\n",
    "    loaded_json = json.load(open((list(pathlib.Path(base, scan_num).glob('*json*')))[0], 'r'))\n",
    "    name = loaded_json[1]['sample_name']\n",
    "    return name\n",
    "\n",
    "def list_files(path, out='names', glob='*'):\n",
    "    \"\"\"\n",
    "    Input: pathlib filepath object\n",
    "           type of output (out = 'names' or out = 'files')\n",
    "           glob str selector (default is '*')\n",
    "    Output: returns list of either filenames of filepaths depending on output selected\n",
    "    \"\"\"\n",
    "    files = sorted(path.glob(glob))\n",
    "    filenames = [file.name for file in files]\n",
    "    if out=='names':\n",
    "        return filenames\n",
    "    elif out=='files':\n",
    "        return files\n",
    "    else:\n",
    "        print('No output selected, choose \"names\" or \"files\"')"
   ]
  },
  {
   "cell_type": "code",
   "execution_count": null,
   "id": "4b8c794d-dd6f-4315-9098-d2d567953f4b",
   "metadata": {},
   "outputs": [],
   "source": [
    "### Define relevant directories here:\n",
    "# Recommended to check you did this right by using the \"exists()\" path method, (e.g. notebookPath.exists())\n",
    "\n",
    "notebookPath = pathlib.Path.cwd()\n",
    "exportPath = notebookPath.joinpath('normed_nexafs')\n",
    "rootPath = notebookPath.parent.parent\n",
    "samplePath = rootPath.joinpath('beamline_data', 'BNL-RSoXS-Jul2022', 'rsoxs', 'nexafs_raw')\n",
    "calibPath = samplePath.parent.joinpath('calibration_2022-08-01')"
   ]
  },
  {
   "cell_type": "code",
   "execution_count": null,
   "id": "4f1b4c49-c221-455b-855c-d211a57427b5",
   "metadata": {},
   "outputs": [],
   "source": [
    "# Define a dictionary for names if necessary\n",
    "namesdict = {\n",
    "    'nexafs1':'PM6',\n",
    "    'nexafs2':'PM7D5',\n",
    "    'nexafs3':'Y6',\n",
    "    'nexafs4':'Y12',\n",
    "    'nexafs5':'Y7',\n",
    "    'nexafs6':'Y7BO',\n",
    "    'nexafs7':'Y247'\n",
    "}"
   ]
  },
  {
   "cell_type": "markdown",
   "id": "f63a93af-33d5-44a9-af94-f6642213b148",
   "metadata": {},
   "source": [
    "## Normalize raw data & output txt file for next steps"
   ]
  },
  {
   "cell_type": "code",
   "execution_count": null,
   "id": "48398075-818e-4cc8-af84-d7f635530d52",
   "metadata": {},
   "outputs": [],
   "source": [
    "sample_name = 'nexafs3' # Select which sample you want to plot first\n",
    "\n",
    "scan_nums = [name[:5] for name in list_files(samplePath, glob=f'*{sample_name}*')]  # List scan numbers for selected sample\n",
    "diode_nums = [name[:5] for name in list_files(calibPath, glob='*313*diode*.csv')]  # Select appropriate diode scans"
   ]
  },
  {
   "cell_type": "code",
   "execution_count": null,
   "id": "7fe9e49d-527e-409f-843f-77cf3b943756",
   "metadata": {},
   "outputs": [],
   "source": [
    "energy = np.linspace(281, 340, 400)\n",
    "\n",
    "sample_data = {'energy':energy}\n",
    "diode_data = {'energy':energy}\n",
    "pols = []\n",
    "spols = []\n",
    "dpols = []\n",
    "\n",
    "for i in range(len(scan_nums)):\n",
    "    # Name the scan numbers\n",
    "    scan_num = scan_nums[i]\n",
    "    diode_num = diode_nums[i]\n",
    "    \n",
    "    # Get polarizations for sample + diode\n",
    "    pol, s_pol = get_pol(scan_num, samplePath)\n",
    "    diode_pol, diode_s_pol = get_pol(diode_num, calibPath)\n",
    "    \n",
    "    # Readout measurement data\n",
    "    sample_energy, mesh, sample, beamstop = read_interp(scan_num, samplePath, detector='SAXS')\n",
    "    diode_energy, diode_mesh, diode_sample, diode_beamstop = read_interp(diode_num, calibPath, detector='SAXS')\n",
    "    \n",
    "    # Interp measured data onto selected energy range outside of this loop \n",
    "    mesh = np.interp(energy, sample_energy, mesh)\n",
    "    sample = np.interp(energy, sample_energy, sample)\n",
    "    beamstop = np.interp(energy, sample_energy, beamstop)\n",
    "    \n",
    "    diode_mesh = np.interp(energy, diode_energy, diode_mesh)\n",
    "    diode_sample = np.interp(energy, diode_energy, diode_sample)\n",
    "    diode_beamstop = np.interp(energy, diode_energy, diode_beamstop)\n",
    "    \n",
    "    # Write into appropriate dict, also record all polarizations\n",
    "    pols.append(round(pol))\n",
    "    spols.append(round(s_pol))\n",
    "    dpols.append(round(diode_s_pol))\n",
    "    sample_data[round(s_pol)] = [mesh, sample, beamstop]\n",
    "    diode_data[round(diode_s_pol)] = [diode_mesh, diode_sample, diode_beamstop]\n"
   ]
  },
  {
   "cell_type": "code",
   "execution_count": null,
   "id": "ca737de6-3b4c-437a-9ee8-1956d0c58a86",
   "metadata": {},
   "outputs": [],
   "source": [
    "for i in range(len(scan_nums)):\n",
    "    spol = spols[i]\n",
    "    dpol = dpols[i]\n",
    "    pol = pols[i]\n",
    "    diode_num = diode_nums[i]\n",
    "    \n",
    "    fig, (sample_ax1, diode_ax1, mesh_ax) = plt.subplots(1,3)\n",
    "    fig.set(size_inches=(12,2), dpi=50)\n",
    "    fig.tight_layout()\n",
    "    \n",
    "    sample_ax1.set(title=f'{namesdict[sample_name]}, pol={spol}°', xlabel='Energy [eV]')\n",
    "    sample_ax1.plot(sample_data['energy'], sample_data[spol][1], label='Sample Current')\n",
    "    sample_ax1.legend()\n",
    "    \n",
    "    diode_ax1.set(title=f'Diode {diode_num}, pol={dpol}°', xlabel='Energy [eV]')\n",
    "    diode_ax1.plot(diode_data['energy'], diode_data[dpol][0], label='Au Mesh Current')\n",
    "    diode_ax1.plot(diode_data['energy'], diode_data[dpol][1], label='Sample Current')\n",
    "    diode_ax1.legend(loc='lower right')\n",
    "    diode_ax2 = diode_ax1.twinx()\n",
    "    diode_ax2.plot(diode_data['energy'], diode_data[dpol][2], color='tab:green', label='Photodiode')\n",
    "    diode_ax2.legend(loc='upper left')\n",
    "    \n",
    "    mesh_ax.set(title=f'Au Meshes', xlim=(281, 310), xlabel='Energy [eV]')\n",
    "    mesh_ax.plot(sample_data['energy'], sample_data[spol][0], label='Sample Mesh Current')\n",
    "    mesh_ax.plot(diode_data['energy'], diode_data[dpol][0], label=\"Calib. Mesh Current\")\n",
    "    mesh_ax.legend()\n",
    "    "
   ]
  },
  {
   "cell_type": "code",
   "execution_count": null,
   "id": "9535bc35-5690-4f26-9071-d54dd1020d06",
   "metadata": {
    "tags": []
   },
   "outputs": [],
   "source": [
    "# Normalization cell\n",
    "\n",
    "sample_data_normed = {'energy':energy}\n",
    "\n",
    "for i in range(len(scan_nums)):\n",
    "    spol = spols[i]\n",
    "    dpol = dpols[i]\n",
    "    scan_num = scan_nums[i]\n",
    "    diode_num = diode_nums[i]\n",
    "    \n",
    "    diode_mesh = diode_data[dpol][0]\n",
    "    diode_beamstop = diode_data[dpol][2]\n",
    "    sample = sample_data[spol][1]\n",
    "    mesh = sample_data[spol][0]\n",
    "    \n",
    "    # Calculate double normalization factor from diode scan\n",
    "    double_norm = diode_mesh/diode_beamstop\n",
    "    dnormed_data = (sample/mesh)*double_norm\n",
    "    \n",
    "    # Pre and post edge normalizations:\n",
    "    pre_energy = energy[energy<284]\n",
    "    pre_intensity = dnormed_data[energy<284]\n",
    "    pre_mean = np.mean(pre_intensity)\n",
    "    dnormed_data_pre = dnormed_data-pre_mean\n",
    "\n",
    "    post_energy = energy[energy>330]\n",
    "    post_intensity = dnormed_data_pre[energy>330]\n",
    "    post_mean = np.mean(post_intensity)\n",
    "    dnormed_data_pre_post = dnormed_data_pre/post_mean\n",
    "    \n",
    "    # Write data to above dictionary:\n",
    "    sample_data_normed[spol] = dnormed_data_pre_post\n",
    "    \n",
    "    # Plotting\n",
    "    fig, (ax1, ax2) = plt.subplots(1,2)\n",
    "    fig.suptitle(f'{namesdict[sample_name]}, pol={spol}°, (Scan {scan_num})')\n",
    "    ax1.plot(energy, dnormed_data_pre_post, label='Double, pre-edge, and post-edge normalized')\n",
    "    ax1.legend(loc='lower right')\n",
    "    ax1.set_title('Normalized Data')\n",
    "    # ax1.set(xlim=(280,284))\n",
    "    ax2.plot(energy, sample)\n",
    "    ax2.set_title('Raw Data')\n",
    "    fig.set(size_inches=(12,3), dpi=100)\n",
    "    fig.tight_layout()\n",
    "    plt.show()"
   ]
  },
  {
   "cell_type": "code",
   "execution_count": null,
   "id": "d0762489-3309-408b-bf0a-dc00bf84cbd1",
   "metadata": {},
   "outputs": [],
   "source": [
    "# Save normed data as txt file \n",
    "\n",
    "df = pd.DataFrame(sample_data_normed)\n",
    "display(df)\n",
    "# np.savetxt(exportPath.joinpath(f'{namesdict[sample_name]}_normed_nexafs.txt'), df)"
   ]
  },
  {
   "cell_type": "markdown",
   "id": "1d28406a-965b-4dbf-942d-b65fcfdd4e86",
   "metadata": {},
   "source": [
    "## Next steps"
   ]
  },
  {
   "cell_type": "code",
   "execution_count": null,
   "id": "618f3e46-2c67-4476-98c1-1b9cee82bccd",
   "metadata": {
    "tags": []
   },
   "outputs": [],
   "source": [
    "### Functions:\n",
    "\n",
    "def load_nexafs(fpath, angles, samplename):\n",
    "    \"\"\"\n",
    "    Returns xarray dataset of loaded nexafs data formatted properly for rest of workflow. \n",
    "    \n",
    "    Inputs: filepath to *.txt file with columns of energy, angle1, angle2, etc. \n",
    "            angles (np array of angles in column order)\n",
    "    Outputs: properly formatted xarray dataset of data\n",
    "    \"\"\"\n",
    "    tey= np.loadtxt(fpath).T\n",
    "\n",
    "    #wrap in an xarray\n",
    "    θ_val = angles\n",
    "\n",
    "    nexafs = xr.Dataset(\n",
    "        data_vars=dict(electron_yield=(['cos_sq_θ', 'energy'], tey[1:])),\n",
    "        coords={'cos_sq_θ': np.cos(θ_val*np.pi/180)**2, 'θ': ('cos_sq_θ', θ_val), 'energy' : tey[0]},\n",
    "        attrs=dict(description=f'{samplename} Normalized NEXAFS', name=samplename),\n",
    "    )\n",
    "    nexafs.energy.attrs['unit'] = 'eV'\n",
    "    nexafs['electron_yield'].attrs['unit'] = 'a.u.'\n",
    "    nexafs['θ'].attrs['unit'] = '°'\n",
    "    \n",
    "    return nexafs\n",
    "\n",
    "def show_nexafs(xmin, xmax, nexafs, save=False, savename=None, exportPath=exportPath, sample=sample):\n",
    "    \"\"\"\n",
    "    Plots loaded nexafs xarray dataset over specificed energy. \n",
    "    Option to save figure:\n",
    "        Default savename is: '{sample}_normed_nexafs_{xmin}-{xmax}.svg')\n",
    "        Can be chosen by setting savename. \n",
    "        Default to save into path called \"exportPath\", also can be chosen differently.\n",
    "    \"\"\"\n",
    "    fig, ax1 = plt.subplots()\n",
    "    #the xarray way of plotting\n",
    "    colors = plt.cm.viridis(np.linspace(0,0.8,nexafs.θ.size))\n",
    "\n",
    "    for i, cos_sq_θ in enumerate(nexafs.cos_sq_θ): \n",
    "        nexafs.electron_yield.sel(cos_sq_θ=cos_sq_θ).plot(color=colors[i], label = f'{nexafs.θ.values[i]}°', ax=ax1)\n",
    "    plt.title(nexafs.description)\n",
    "    ax1.set_xlim(xmin,xmax)\n",
    "    ax1.legend()\n",
    "    if save==True:\n",
    "        if savename==None:\n",
    "            plt.savefig(exportPath.joinpath(f'{sample}_normed_nexafs_{xmin}-{xmax}.svg'))\n",
    "        elif savename:\n",
    "            plt.savefig(exportPath.joinpath(savename))\n",
    "    plt.show()\n",
    "    \n",
    "def i_nexafs(α, θ):\n",
    "    \"\"\"\n",
    "    Stöhr equation 9.16a:\n",
    "    \n",
    "    Inputs: α and θ\n",
    "    Outputs: Calculated intensity value (arbitrary units)\n",
    "    \"\"\"\n",
    "    return (1/3)*(1+0.5*(3*(np.cos(θ*np.pi/180))**2-1)*(3*(np.cos(α*np.pi/180))**2-1))\n",
    "\n",
    "def int_area(e_min, e_max, nexafs):\n",
    "    \"\"\"\n",
    "    Integrates selected regions in nexafs data\n",
    "    \"\"\"\n",
    "    #make only positive:\n",
    "    return nexafs.sel(energy = slice(e_min,e_max)).integrate('energy').electron_yield.values"
   ]
  },
  {
   "cell_type": "code",
   "execution_count": null,
   "id": "e458d995-ae76-4515-bf0d-103f34e1d834",
   "metadata": {},
   "outputs": [],
   "source": [
    "sample='Y6'\n",
    "nexafs = load_nexafs(exportPath.joinpath(f'{sample}_normed_nexafs.txt'), np.array([30,40,55,70,90]), sample)"
   ]
  },
  {
   "cell_type": "code",
   "execution_count": null,
   "id": "f64353b5-9edb-4db8-a5cb-d022e7a89ad5",
   "metadata": {
    "tags": []
   },
   "outputs": [],
   "source": [
    "show_nexafs(280, 315, nexafs, save=False)\n",
    "show_nexafs(284, 286, nexafs, save=False)"
   ]
  },
  {
   "cell_type": "code",
   "execution_count": null,
   "id": "0ebe620d-3d26-4ced-98ed-614d9a2dd866",
   "metadata": {},
   "outputs": [],
   "source": [
    "res = run_tilt_fit(283.5, 285.3, nexafs)\n",
    "res"
   ]
  },
  {
   "cell_type": "markdown",
   "id": "fe6a4a71-ae02-4881-a2e9-ffc37e962eb2",
   "metadata": {},
   "source": [
    "A hasty line fit shown below. Note rather than fitting peaks, I'm cheating by integrating the whole asorbance at the lower-energy side of the pi* manifold. This is a common trick when evaluating and manipulating pi* resonances because there are few other contributors to absorbance in this energy range. Best practice in NEXAFS analysis is to fit a system of peaks to the data and evaluate the orientation of the peaks separately."
   ]
  },
  {
   "cell_type": "code",
   "execution_count": null,
   "id": "a4195e3c-f060-4e4e-b3e7-0df49295917b",
   "metadata": {
    "jupyter": {
     "source_hidden": true
    },
    "tags": []
   },
   "outputs": [],
   "source": [
    "# results_dict = {}"
   ]
  },
  {
   "cell_type": "code",
   "execution_count": null,
   "id": "ed307305-daff-4b46-b199-1c631f15deff",
   "metadata": {
    "jupyter": {
     "source_hidden": true
    },
    "tags": []
   },
   "outputs": [],
   "source": [
    "e_min = 284\n",
    "e_max = 286\n",
    "pi_peak_areas =  int_area(e_min, e_max, nexafs)\n",
    "θ_list = nexafs['θ'].values\n",
    "\n",
    "def mse_line(my_vars, pi_peak_areas, θ_list):\n",
    "    α = my_vars[0]\n",
    "    const = my_vars[1]\n",
    "    return ((const*i_nexafs(α, θ_list)-pi_peak_areas)**2).sum()\n",
    "\n",
    "bnds= [(0,90),(0,10)]\n",
    "res = optimize.differential_evolution(mse_line, bounds=bnds, args = (pi_peak_areas, θ_list), tol=1e-6)\n",
    "print(res)\n",
    "\n",
    "results_dict[sample] = np.round(res.x, 2)"
   ]
  },
  {
   "cell_type": "code",
   "execution_count": null,
   "id": "31b1dd99-bb89-4d1d-b9da-80685326c572",
   "metadata": {
    "jupyter": {
     "source_hidden": true
    },
    "tags": []
   },
   "outputs": [],
   "source": [
    "alpha, const = res.x"
   ]
  },
  {
   "cell_type": "code",
   "execution_count": null,
   "id": "c714cd28-946d-4e3b-a832-efd08bac96a3",
   "metadata": {
    "jupyter": {
     "source_hidden": true
    },
    "tags": []
   },
   "outputs": [],
   "source": [
    "fig, ax = plt.subplots()\n",
    "ax.plot(nexafs.cos_sq_θ.values[:], const*i_nexafs(alpha, nexafs.θ.values[:]), marker='o', label=f'Stöhr 9.16a: (α={np.round(alpha,2)}, const={np.round(const,2)})', clip_on=False, zorder=3)\n",
    "ax.plot(nexafs.cos_sq_θ.values[:], pi_peak_areas[:], marker='o', label=f'{sample} NEXAFS Pi* Peak Areas', clip_on=False, zorder=4)\n",
    "ax.set(xlabel=r'$cos^2(\\theta)$', ylabel='Intensity [arb. units]')\n",
    "ax.set_xticks(nexafs.cos_sq_θ.values, minor=True)\n",
    "ax.set_xlim(left=0)\n",
    "ax.legend()\n",
    "\n",
    "def forward(x):\n",
    "    # print(x)\n",
    "    return np.arccos(np.sqrt(x))*180/np.pi\n",
    "\n",
    "def inverse(x):\n",
    "    return np.cos(x*np.pi/180)**2\n",
    "\n",
    "ax2 = ax.secondary_xaxis(-0.2, functions=(forward, inverse))\n",
    "ax2.set(xlabel=r'$\\theta$ '+'$[\\degree]$')\n",
    "ax2.set_xticks(nexafs.θ.values)\n",
    "\n",
    "plt.show()"
   ]
  },
  {
   "cell_type": "code",
   "execution_count": null,
   "id": "60f6a395-aed7-4c2e-bb42-63687baffbcb",
   "metadata": {},
   "outputs": [],
   "source": [
    "# df = pd.DataFrame.from_dict(results_dict, orient='index', columns=('α', 'constant'))\n",
    "# df.index.name = 'Sample'\n",
    "# # df.to_csv('tilt_angle_fit_results.csv')\n",
    "# df"
   ]
  },
  {
   "cell_type": "code",
   "execution_count": null,
   "id": "7d2d504f-41a4-4f32-8b0a-58c70e902d75",
   "metadata": {},
   "outputs": [],
   "source": [
    "# pd.read_csv('tilt_angle_fit_results.csv').set_index('Sample')"
   ]
  },
  {
   "cell_type": "markdown",
   "id": "ee351006-fb72-4849-86fc-1d7a8d149c3d",
   "metadata": {},
   "source": [
    "## Dielectric function of the measured Y6 NEXAFS"
   ]
  },
  {
   "cell_type": "markdown",
   "id": "98431991-8359-42ce-8088-41b0a28b24f8",
   "metadata": {},
   "source": [
    "Below is a wrapped kkcalc function similar to what we used in Part 1. This wrapped function accepts an xarray of nexafs labeled as above, and creates a temporary *.txt file from it. This is a workaround to kkcalc's need to have a text file on disk as the input. Future versions of kkcalc may accept array arguments directly. "
   ]
  },
  {
   "cell_type": "code",
   "execution_count": null,
   "id": "5cc152db-b47f-4e36-8cdf-a2bc7aa0d194",
   "metadata": {
    "jupyter": {
     "source_hidden": true
    },
    "tags": []
   },
   "outputs": [],
   "source": [
    "def run_kkcalc(nexafs_xr, x_min = 280, x_max = 340, chemical_formula = 'C82H86F4N8O2S5', density = 1.1):\n",
    "\n",
    "    #save xarray as disposable text file 'scratch_nexafs.txt'\n",
    "    np.savetxt('scratch_nexafs.txt',  np.c_[nexafs_xr.energy.values, nexafs_xr.electron_yield.values])\n",
    "\n",
    "    # The output of kk.kk_calculate_real is f1 and f2 terms since they are calculated using Kramers-Kronig transform\n",
    "    \n",
    "    output = kk.kk_calculate_real('scratch_nexafs.txt',\n",
    "                                  chemical_formula,\n",
    "                                  load_options=None,\n",
    "                                  input_data_type='Beta',\n",
    "                                  merge_points=[x_min, x_max],\n",
    "                                  add_background=False,\n",
    "                                  fix_distortions=False,\n",
    "                                  curve_tolerance=None,\n",
    "                                  curve_recursion=100)\n",
    "\n",
    "    # Fitting to the Henke atomic scattering factors using the given stoichiometry and formula\n",
    "    stoichiometry = kk.data.ParseChemicalFormula(chemical_formula)\n",
    "    formula_mass = data.calculate_FormulaMass(stoichiometry)\n",
    "    ASF_E, ASF_Data = kk.data.calculate_asf(stoichiometry)\n",
    "    ASF_Data2 = kk.data.coeffs_to_ASF(ASF_E, np.vstack((ASF_Data, ASF_Data[-1])))\n",
    "    # Conversion to delta and beta and making an xarray\n",
    "    n = xr.Dataset({\n",
    "        'δ':(['energy'],data.convert_data(output[:,[0,1]],'ASF','refractive_index', Density=density, Formula_Mass=formula_mass)[:,1]), \n",
    "        'β':(['energy'],data.convert_data(output[:,[0,2]],'ASF','refractive_index', Density=density, Formula_Mass=formula_mass)[:,1])},\n",
    "        coords={'energy': data.convert_data(output[:,[0,1]],'ASF','refractive_index', Density=density, Formula_Mass=formula_mass)[:,0]})\n",
    "\n",
    "    n.energy.attrs['unit'] = 'eV'\n",
    "    n.δ.attrs['unit'] = 'a.u.'\n",
    "    n.β.attrs['unit'] = 'a.u.'\n",
    "    \n",
    "    os.remove('scratch_nexafs.txt')\n",
    "    return n #return an xarray"
   ]
  },
  {
   "cell_type": "markdown",
   "id": "733327df-5bf8-457e-8cef-1260441aaba2",
   "metadata": {},
   "source": [
    "A version of the wrapped function that accepts and handles xarray with a 'cos_sq_θ' axis:"
   ]
  },
  {
   "cell_type": "code",
   "execution_count": null,
   "id": "2f0e9c82-8150-4593-8d00-1a36e7e58e7c",
   "metadata": {
    "jupyter": {
     "source_hidden": true
    },
    "tags": []
   },
   "outputs": [],
   "source": [
    "#wrap a function to run kkcalc on an xarray containing a cos_sq_θ dimension\n",
    "def run_kkcalc_a(nexafs_xr, x_min = 280, x_max = 340, chemical_formula = 'C82H86F4N8O2S5', density = 1.1):\n",
    "    n = []\n",
    "    for cos_sq_θ in nexafs_xr.cos_sq_θ:\n",
    "        n.append(run_kkcalc(nexafs_xr.sel(cos_sq_θ=cos_sq_θ), x_min = x_min, x_max = x_max, chemical_formula = chemical_formula, density = density))\n",
    "    n = xr.concat(n, dim=nexafs_xr.cos_sq_θ)\n",
    "    n.assign_coords(θ=('cos_sq_θ', nexafs_xr.θ.values))\n",
    "    n.attrs['name'] = nexafs_xr.name\n",
    "    return n"
   ]
  },
  {
   "cell_type": "code",
   "execution_count": null,
   "id": "48fa1321-1032-4401-a38f-b3815819788b",
   "metadata": {},
   "outputs": [],
   "source": [
    "#formula should be correct for Y6. density is a guess.\n",
    "n = run_kkcalc_a(nexafs, x_min = 280, x_max = 315, chemical_formula = 'C82H86F4N8O2S5', density = 1.1)"
   ]
  },
  {
   "cell_type": "code",
   "execution_count": null,
   "id": "756eee45-a36f-4b0c-b3e1-20039d830da2",
   "metadata": {
    "jupyter": {
     "source_hidden": true
    },
    "tags": []
   },
   "outputs": [],
   "source": [
    "#wrap a function to plot δ and β for an angle collection series\n",
    "def show_diel(xmin, xmax, n, save=False, savename=None):\n",
    "    fig, (ax1, ax2) = plt.subplots(2, 1)\n",
    "    fig.set(size_inches=(8,8))\n",
    "    fig.suptitle(f'{n.name} dielectric functions')\n",
    "    \n",
    "    colors = plt.cm.viridis(np.linspace(0,0.8,n.cos_sq_θ.size))\n",
    "    colors2 = plt.cm.plasma(np.linspace(0,0.8,n.cos_sq_θ.size))\n",
    "\n",
    "    for i, cos_sq_θ in enumerate(n.cos_sq_θ): \n",
    "        n.δ.sel(cos_sq_θ=cos_sq_θ).plot(ax =ax1, color = colors[i], lw = 2, label = f'{n.θ[i].values}°')\n",
    "        n.β.sel(cos_sq_θ=cos_sq_θ).plot(ax =ax2, color = colors2[i], lw = 2, label = f'{n.θ[i].values}°')\n",
    "\n",
    "    #note it is also possible to plot without an iterator using xarray's multidimensional \"hue\" argument as shown below, but the above allows me more control over the colors & labels. \n",
    "    #n.δ.plot(ax=ax1, hue='angle')\n",
    "\n",
    "    ymin1 =n.δ.sel(energy=slice(xmin,xmax)).min()\n",
    "    ymax1 = n.δ.sel(energy=slice(xmin,xmax)).max()\n",
    "    ax1.set_xlim(xmin, xmax)\n",
    "    ax1.set_xlabel('')\n",
    "    ax1.set_ylim(ymin1 - (ymax1-ymin1)*0.03, ymax1 + (ymax1-ymin1)*0.03)\n",
    "    ax1.legend(loc ='lower right')\n",
    "    ax1.set_title('δ')\n",
    "\n",
    "    ymax2 = n.β.sel(energy=slice(xmin,xmax)).max()\n",
    "\n",
    "    ax2.legend(loc='upper right')\n",
    "    ax2.set_xlim(xmin, xmax)\n",
    "    ax2.set_ylim(0, ymax2 + (ymax2)*0.03)\n",
    "    ax2.set_title('β')\n",
    "    plt.setp(ax1.get_xticklabels(), visible=False)\n",
    "    \n",
    "    if save==True:\n",
    "        if savename==None:\n",
    "            plt.savefig(f'{sample}_difxns.svg')\n",
    "        elif savename:\n",
    "            plt.savefig(savename)\n",
    "    \n",
    "    plt.show()"
   ]
  },
  {
   "cell_type": "code",
   "execution_count": null,
   "id": "9809cd10-ee2a-4200-97ff-ff762e68d26a",
   "metadata": {},
   "outputs": [],
   "source": [
    "show_diel(280, 315, n)"
   ]
  },
  {
   "cell_type": "markdown",
   "id": "f06376e3-a954-4243-aa7c-55c18bd3f802",
   "metadata": {},
   "source": [
    "This dielectric function, pretty though it is, still isn't sufficient even to describe the unaxial function of the measured NEXAFS. That is because the extraordinary part of the dielectric function could only be measured by the NEXAFS measurement at $\\theta=0$°. There is no experimental geometry that allows $\\theta=0$°, so it must be extrapolated.\n",
    "\n",
    "Intensity should be linear with $cos^2\\theta$, so we will fit the nexafs xarray to it. The below xr.polyfit function creates a linear fit function <em>at every energy</em> in the nexafs curve."
   ]
  },
  {
   "cell_type": "code",
   "execution_count": null,
   "id": "f06fea75-a084-46f1-bd13-f5fa032304b1",
   "metadata": {},
   "outputs": [],
   "source": [
    "nexafs_fit = nexafs.electron_yield.polyfit('cos_sq_θ', 1)\n",
    "# new_θ = np.array([0, 30, 40, 55, 70, 90])\n",
    "# new_cos_sq_θ = (np.cos(new_θ*np.pi/180))**2\n",
    "# nexafs_ep = evaluate_nexafs_fit(nexafs, nexafs_fit, new_cos_sq_θ, new_θ)"
   ]
  },
  {
   "cell_type": "markdown",
   "id": "7733fb84-194e-42f3-a2ae-daf8c1e00635",
   "metadata": {},
   "source": [
    "Now that we have a fit at every energy, we'd like to evaluate it. The current xarray implementation of xr.polyval is 'clunky,' to put it mildly.<br>\n",
    "This function wraps the polyval evaluation and returns a clean nexafs dataset with appropriate metadata. This may be updated or replaced for future versions of xarray.<br>\n",
    "<ul>nexafs is the original nexafs dataset<br>\n",
    "nexafs_fit is returned from the polyfit as above<br>\n",
    "new_cos_sq_θ is an array-like argument of cos_sq_θ values where you want the fit to be evaluated<br>\n",
    "new_θ is an array-like argument of θ values to assign to those results<br></ul>"
   ]
  },
  {
   "cell_type": "code",
   "execution_count": null,
   "id": "2218f1d8-34b3-434f-ae38-8076564498a6",
   "metadata": {},
   "outputs": [],
   "source": [
    "def evaluate_nexafs_fit(nexafs, nexafs_fit, new_cos_sq_θ, new_θ):\n",
    "    nexafs_dummy = xr.Dataset(\n",
    "        data_vars=dict(electron_yield=(['cos_sq_θ'], new_cos_sq_θ)),\n",
    "        coords={'cos_sq_θ': new_cos_sq_θ},\n",
    "        attrs=dict(description='Y6 NEXAFS', name=nexafs.name),\n",
    "    )\n",
    "    \n",
    "    #nexafs_dummy = xr.DataArray(data=new_cos_sq_θ, dims = ['cos_sq_θ'], coords = {'cos_sq_θ':new_cos_sq_θ})\n",
    "\n",
    "    #this returns an xarray but it is unlabeled and has little of the structure, labels of the original one that was fit.\n",
    "    nexafs_ep =  xr.polyval(nexafs_dummy.cos_sq_θ, nexafs_fit.polyfit_coefficients)\n",
    "\n",
    "    \n",
    "    # I re-form it into a good dataset here by resorting to .values\n",
    "    nexafs_ep = xr.Dataset(\n",
    "        data_vars=dict(\n",
    "        electron_yield=(['cos_sq_θ', 'energy'], nexafs_ep.values)),\n",
    "        coords={'cos_sq_θ': new_cos_sq_θ, 'θ': ('cos_sq_θ', new_θ), 'energy' : nexafs_ep.energy},\n",
    "        attrs=dict(description=nexafs.description, name=nexafs.name),\n",
    "    )\n",
    "    nexafs_ep.energy.attrs['unit'] = 'eV'\n",
    "    nexafs_ep['electron_yield'].attrs['unit'] = 'a.u.'\n",
    "    nexafs_ep['θ'].attrs['unit'] = '°'\n",
    "    return nexafs_ep"
   ]
  },
  {
   "cell_type": "code",
   "execution_count": null,
   "id": "ff526ef3-4889-4eae-92ad-2ec0247ba465",
   "metadata": {},
   "outputs": [],
   "source": [
    "new_θ = np.array([0, 30, 40, 55, 70, 90])\n",
    "new_cos_sq_θ = (np.cos(new_θ*np.pi/180))**2\n",
    "nexafs_ep = evaluate_nexafs_fit(nexafs, nexafs_fit, new_cos_sq_θ, new_θ)"
   ]
  },
  {
   "cell_type": "code",
   "execution_count": null,
   "id": "fb48f6b5-c2d1-40da-b249-6a45912bb47c",
   "metadata": {},
   "outputs": [],
   "source": [
    "fig, ax1 = plt.subplots(figsize=(8,4))\n",
    "#the xarray way of plotting\n",
    "colors = plt.cm.plasma(np.linspace(0,1,nexafs_ep.θ.size))\n",
    "colors2 = plt.cm.winter(np.linspace(0,1,nexafs.θ.size))\n",
    "for i, cos_sq_θ in enumerate(nexafs_ep.cos_sq_θ): \n",
    "    nexafs_ep.electron_yield.sel(cos_sq_θ=cos_sq_θ).plot(color = colors[i], lw = 2, label = f'extrapolated {nexafs_ep.θ[i].values}°')\n",
    "for i, cos_sq_θ in enumerate(nexafs.cos_sq_θ): \n",
    "    nexafs.electron_yield.sel(cos_sq_θ=cos_sq_θ).plot(color = colors2[i], lw = 1, label = f'original {nexafs.θ[i].values}°')\n",
    "plt.title(nexafs.description)\n",
    "ax1.set_xlim(280,315)\n",
    "ax1.legend(loc='lower right')\n",
    "plt.savefig(exportPath.joinpath(f'{nexafs_ep.name}_nexafs_theta_extrap.svg'))\n",
    "plt.show()"
   ]
  },
  {
   "cell_type": "markdown",
   "id": "21b7e193-10ed-4142-b058-58522740127d",
   "metadata": {},
   "source": [
    "Note that the extrapolated 90° is very close by the original 90° (this is good. it should be identical), and the extrapolated 0° has a somewhat higher pi* than the original 20°\n",
    "\n",
    "The extrapolated NEXAFS can be the basis of a uniaxial dielectric function that represents material at the voxel level that is oriented the same as the material in the film.\n",
    "\n",
    "Note that extrapolation in this manner is mathematically identical to applying a weighted difference spectrum to calculate the expectation at θ=0°. In fact it is superior because difference spectra are typically between two different θ, whereas this linear extrapolation uses all the θ information. We will exploit this sameness more later when extrapolating to the molecular frame. "
   ]
  },
  {
   "cell_type": "code",
   "execution_count": null,
   "id": "e5053b62-2bf9-4a6d-8b08-fbd1f7b927df",
   "metadata": {},
   "outputs": [],
   "source": [
    "#formula should be correct for Y6. density is a guess.\n",
    "n_ep = run_kkcalc_a(nexafs_ep, x_min = 280, x_max = 340, chemical_formula = 'C82H86F4N8O2S5', density = 1.1)"
   ]
  },
  {
   "cell_type": "code",
   "execution_count": null,
   "id": "90e7219f-3a5a-44b7-948e-95bd8d40b4e7",
   "metadata": {},
   "outputs": [],
   "source": [
    "show_diel(280, 315, n_ep)"
   ]
  },
  {
   "cell_type": "code",
   "execution_count": null,
   "id": "204cd947-86ab-473b-802b-78dfa3ea7830",
   "metadata": {},
   "outputs": [],
   "source": [
    "#save data to a txt file in a format that could be imported into CyRSoXS\n",
    "#note that 0° is extraordinary and 90° is ordinary as those are the θ values where the measurement only perceives one or the other.\n",
    "# the order of the columns is thus the order described below\n",
    "np.savetxt('y6_extrap.txt',  np.c_[\n",
    "    n_ep.energy, \n",
    "    n_ep.δ.sel(cos_sq_θ=1, method = 'nearest').values, #extraordinary, para\n",
    "    n_ep.β.sel(cos_sq_θ=1, method = 'nearest').values, #extraordinary, para\n",
    "    n_ep.δ.sel(cos_sq_θ=0, method = 'nearest').values, #ordinary, perp\n",
    "    n_ep.β.sel(cos_sq_θ=0, method = 'nearest').values]) #ordinary, perp"
   ]
  },
  {
   "cell_type": "markdown",
   "id": "32faa019-9183-4f30-9fcb-114893ad0bad",
   "metadata": {},
   "source": [
    "## Extrapolating to a \"molecular\" dielectric function.\n",
    "But there is more we can do. The molecules at the voxel level may not be limited to the orientation extremes measured on a whole-film basis. The whole film represents an ensemble and is likely never similar to what an individual molecule or voxel is capable of unless it is sigle crystal like highly oriented pyrolytic graphite (HOPG). To develop a \"molecular\" dielectric function, we must manipulate the NEXAFS beyond what was measured. \n",
    "\n",
    "This manipulation requires making an assumption about how one or more resonances should behave with energy; implicit in this assumption is typically an assumption about the conformation of the molecule.\n",
    "\n",
    "For this exercise we will assume that the molecule Y6 has a rigid and planar conjugated structure, such that the pi* resonances should follow Stohr 9.16a for $\\alpha=0$°\n"
   ]
  },
  {
   "cell_type": "markdown",
   "id": "7db7753b-8d23-4cc3-9e46-352a4d7db0a1",
   "metadata": {},
   "source": [
    "The function below develops a mean squared error for the area between e_min and e_max for a specific extrapolation of the nexafs curves, and a target area. The target area will be developed from our knowledge of how I should vary with $\\alpha$ and $\\theta$ described above.<br>\n",
    "Note there is an additional contributor to mse below: if the extrapolation produces negative values for absorbance it imposes a stiff penalty because such values are unphysical."
   ]
  },
  {
   "cell_type": "code",
   "execution_count": null,
   "id": "79c259fa-6990-4f3a-b7a8-809b2b81fb09",
   "metadata": {},
   "outputs": [],
   "source": [
    "def mse(cos_sq_θ, e_min, e_max, nexafs, nexafs_fit, targ):\n",
    "    #compose new extrapolated nexafs based on proposed cos_sq_θ \n",
    "    nexafs_new = evaluate_nexafs_fit(nexafs, nexafs_fit, [cos_sq_θ[0]], [0])\n",
    "    #evaluate the difference in area between the extrapolated nexafs and the taget targ\n",
    "    mse = (int_area(e_min, e_max, nexafs_new)-targ)**2\n",
    "    minval = nexafs_new.sel(energy = slice(e_min,e_max)).electron_yield.min().values\n",
    "    if minval < 0: #impose penalty for negative absorbance values\n",
    "        mse = 1E10*mse*(-minval)\n",
    "    return mse"
   ]
  },
  {
   "cell_type": "markdown",
   "id": "8f4431f1-ad69-436f-a812-15456e39dc4d",
   "metadata": {},
   "source": [
    "For our first fit, we will attempt to make the pi* manifold absorbance zero; this would correspond to $\\alpha=0, \\theta=90$°"
   ]
  },
  {
   "cell_type": "code",
   "execution_count": null,
   "id": "4606c6be-a842-4463-8372-40cbfc771eea",
   "metadata": {},
   "outputs": [],
   "source": [
    "#these are integration bounds; we will extrapolate to \"perfect\" values of integrated intensity within these bounds\n",
    "#which bound you choose will adjust the result slightly.\n",
    "e_min = 283\n",
    "e_max = 285.3\n",
    "res = optimize.differential_evolution(mse, [(-1, 1)], args = (e_min, e_max, nexafs, nexafs_fit, 0), tol=1e-6)\n",
    "cos_sq_θ_mol_o = float(res.x)"
   ]
  },
  {
   "cell_type": "markdown",
   "id": "b9d46766-d042-4004-b29c-d633ec50bc2a",
   "metadata": {},
   "source": [
    "For the next fit, we will attempt to make the pi* manifold maximized to correspond to $\\alpha=0, \\theta=0$°.<br> For a perfectly oriented $\\alpha = 0$° molecule, the target would be exactly 3x the magic intensity. But our fit prefers some small amount of intensity so that absorbance doesn't go below zero. We will instead determine our target using the math above:<br><br>\n",
    "$\\displaystyle\\frac{I(90) - I(54.7)}{I(0) - I(54.7)} = \\frac{\\frac{1}{3}[1+(3cos^2\\alpha-1)]-\\frac{1}{3}}{\\frac{1}{3}[1-\\frac{1}{2}(3cos^2\\alpha-1)] - \\frac{1}{3}} =-2$\n"
   ]
  },
  {
   "cell_type": "code",
   "execution_count": null,
   "id": "9adfe361-b3d3-40e8-9b9e-6277e82e1a5d",
   "metadata": {},
   "outputs": [],
   "source": [
    "magic_int = int_area(e_min, e_max, evaluate_nexafs_fit(nexafs, nexafs_fit, [0.329], [0]))\n",
    "ord_int = int_area(e_min, e_max, evaluate_nexafs_fit(nexafs, nexafs_fit, [cos_sq_θ_mol_o], [0]))\n",
    "e_targ = magic_int + 2*(magic_int-ord_int)\n",
    "#For perfectly face on, the extraordinary intensity should be exactly 3x magic intensity\n",
    "res = optimize.minimize(mse, 1, method='Nelder-Mead', args = (e_min, e_max, nexafs, nexafs_fit, e_targ), tol=1e-6)\n",
    "cos_sq_θ_mol_e = float(res.x)"
   ]
  },
  {
   "cell_type": "code",
   "execution_count": null,
   "id": "63e9f274-dda2-4b64-bfc9-5e26b36cb52d",
   "metadata": {},
   "outputs": [],
   "source": [
    "mol_fits = [cos_sq_θ_mol_e, cos_sq_θ_mol_o]"
   ]
  },
  {
   "cell_type": "code",
   "execution_count": null,
   "id": "302da856-4d04-4d6a-9940-9cbc8d0eee70",
   "metadata": {},
   "outputs": [],
   "source": [
    "def forward(x):\n",
    "    return np.arccos(np.sqrt(x)) * 180 / np.pi"
   ]
  },
  {
   "cell_type": "code",
   "execution_count": null,
   "id": "7470be18-4c70-415d-ac86-704c14ac7548",
   "metadata": {},
   "outputs": [],
   "source": [
    "mol_fits"
   ]
  },
  {
   "cell_type": "code",
   "execution_count": null,
   "id": "d01a7aaa-c2a9-42ec-a4fe-91a9456f1f19",
   "metadata": {},
   "outputs": [],
   "source": [
    "forward(mol_fits)"
   ]
  },
  {
   "cell_type": "code",
   "execution_count": null,
   "id": "a02482b9-6604-4062-af5c-988551eed568",
   "metadata": {},
   "outputs": [],
   "source": [
    "forward(nexafs.cos_sq_θ.values)"
   ]
  },
  {
   "cell_type": "code",
   "execution_count": null,
   "id": "e895b248-6796-4ac0-923b-bdb69f39ba74",
   "metadata": {},
   "outputs": [],
   "source": [
    "nexafs_mol = evaluate_nexafs_fit(nexafs, nexafs_fit, mol_fits, [0, 90])"
   ]
  },
  {
   "cell_type": "code",
   "execution_count": null,
   "id": "19fa35e1-9608-485c-8e81-84837df5d422",
   "metadata": {},
   "outputs": [],
   "source": [
    "show_nexafs(280,315, nexafs_mol, save=True, savename=f'{sample}_nexafs_alpha_theta_extrap.svg')"
   ]
  },
  {
   "cell_type": "markdown",
   "id": "1a87519b-67b0-495c-b393-a4a70d1dca14",
   "metadata": {},
   "source": [
    "The NEXAFS looks fairly reasonable with this extrapolation.<br><br>Calculate dielectric functions next:"
   ]
  },
  {
   "cell_type": "code",
   "execution_count": null,
   "id": "82ab4020-dd8d-49db-9a41-f4855e2f3e60",
   "metadata": {},
   "outputs": [],
   "source": [
    "n_mol = run_kkcalc_a(nexafs_mol, x_min = 280, x_max = 315, chemical_formula = 'C82H86F4N8O2S5', density = 1.1)"
   ]
  },
  {
   "cell_type": "code",
   "execution_count": null,
   "id": "d16a9d30-e4ea-4dae-b4d4-83d0750cfd09",
   "metadata": {},
   "outputs": [],
   "source": [
    "show_diel(280, 315, n_mol, save=True)"
   ]
  },
  {
   "cell_type": "markdown",
   "id": "e9e76623-2c23-4166-90b1-0b5353854c6f",
   "metadata": {},
   "source": [
    "This is the dielectric function extrapolated to \"perfect\" molecular orientation."
   ]
  },
  {
   "cell_type": "code",
   "execution_count": null,
   "id": "547504c2-2af6-499f-9049-12efcf082113",
   "metadata": {
    "tags": []
   },
   "outputs": [],
   "source": [
    "#save data to a txt file in a format that could be imported into CyRSoXS\n",
    "#note that 0° is extraordinary and 90° is ordinary as those are the θ values where the measurement only perceives one or the other.\n",
    "# the order of the columns is thus the order described below\n",
    "np.savetxt('y6_molecular.txt',  np.c_[\n",
    "    n_mol.energy, \n",
    "    n_mol.δ.sel(cos_sq_θ=cos_sq_θ_mol_e, method = 'nearest').values, #extraordinary, para\n",
    "    n_mol.β.sel(cos_sq_θ=cos_sq_θ_mol_e, method = 'nearest').values, #extraordinary, para\n",
    "    n_mol.δ.sel(cos_sq_θ=cos_sq_θ_mol_o, method = 'nearest').values, #ordinary, perp\n",
    "    n_mol.β.sel(cos_sq_θ=cos_sq_θ_mol_o, method = 'nearest').values]) #ordinary, perp"
   ]
  },
  {
   "cell_type": "markdown",
   "id": "afb63d9b-dee7-45ae-8c7c-03a288110f72",
   "metadata": {},
   "source": [
    "## Contrast: vacuum contrast vs. oriented manifold\n",
    "\n",
    "Because the Y6 dielectric function is anisotropic, there is not a single vacuum contrast but rather a series of contrasts depending on the mixing of the ordinary and extraordinary dielectric function elements. Otherwise the calculation is identical to the calculation discussed in Part 1."
   ]
  },
  {
   "cell_type": "code",
   "execution_count": null,
   "id": "42fcb75a-e29f-4326-8536-78a8102fa3a4",
   "metadata": {},
   "outputs": [],
   "source": [
    "#this wrapper function is the same as described in Part 1\n",
    "#this will accept and return xarrays\n",
    "def binary_contrast(n1, n2=None):\n",
    "    if n2 is None:\n",
    "        #second component is vacuum\n",
    "        n2 = xr.zeros_like(n1)\n",
    "    else:\n",
    "        #second is interpolated to match the energy array of the first component.  \n",
    "        n2 = n2.interp(energy=n1.energy)\n",
    "    return n1.energy**4 * ((n1.δ-n2.δ)**2 + (n1.β-n2.β)**2)"
   ]
  },
  {
   "cell_type": "code",
   "execution_count": null,
   "id": "d6e8fd3b-c8b7-4c1a-a526-4ad61d514f37",
   "metadata": {},
   "outputs": [],
   "source": [
    "#develop a finely-divided list of extrapolation values between the limits we fitted to above\n",
    "cos_sq_0_spread = np.linspace(cos_sq_θ_mol_e, cos_sq_θ_mol_o, 50)\n",
    "#extrapolate across this finely-divided list of extrapolation values\n",
    "nexafs_mol_spread = evaluate_nexafs_fit(nexafs, nexafs_fit, cos_sq_0_spread, cos_sq_0_spread)\n",
    "#run kkcalc on each of the extrapolated functions\n",
    "y6_mol_spread = run_kkcalc_a(nexafs_mol_spread, x_min = 280, x_max = 315, chemical_formula = 'C82H86F4N8O2S5', density = 1.1)\n",
    "#calculate binary contrast for the ensemble. Note that xarray will automatically broadcast across cos_sq_0 without prompting\n",
    "n_mol_vac_c = binary_contrast(y6_mol_spread)"
   ]
  },
  {
   "cell_type": "code",
   "execution_count": null,
   "id": "a4988c55-0d9d-4f5f-9867-3a00761cb7ce",
   "metadata": {
    "tags": []
   },
   "outputs": [],
   "source": [
    "#plot the contrasts\n",
    "xmin = 270\n",
    "xmax = 320\n",
    "fig, ax1 = plt.subplots(figsize=(8,4))\n",
    "#xarray way of adding to a plot\n",
    "colors = plt.cm.plasma(np.linspace(0,0.9,n_mol_vac_c.θ.size))\n",
    "for i, cos_sq_θ in enumerate(n_mol_vac_c.cos_sq_θ): \n",
    "    n_mol_vac_c.sel(cos_sq_θ=cos_sq_θ).plot(color = colors[i], lw = 3)\n",
    "ax1.set_xlim(xmin, xmax)\n",
    "ymin = n_mol_vac_c.sel(energy=slice(xmin,xmax)).min()\n",
    "ymax = n_mol_vac_c.sel(energy=slice(xmin,xmax)).max()\n",
    "ax1.set_ylim(ymin*0.75,ymax*1.2)\n",
    "ax1.set_yscale('log')\n",
    "ax1.set_ylabel('contrast')\n",
    "plt.title(f'{sample} contrast with vacuum')\n",
    "plt.savefig(f'{sample}_vacuum_contrast.svg')\n",
    "plt.show()\n",
    "plt.close()"
   ]
  },
  {
   "cell_type": "markdown",
   "id": "fc037806-4c9d-4a55-a50f-436ed9334b8e",
   "metadata": {},
   "source": [
    "This envelope properly describes the possibilities for vacuum contrast with Y6.\n",
    "# NEXAFS and anisotropic dielectric function for PM6\n",
    "Repeat the process for PM6:"
   ]
  },
  {
   "cell_type": "code",
   "execution_count": null,
   "id": "1522accb-9a47-49bc-8979-2dce7b0e8fd9",
   "metadata": {},
   "outputs": [],
   "source": [
    "# pey= np.loadtxt(exportPath.joinpath('PM6_normed_nexafs.txt')).T\n",
    "\n",
    "# # wrap in an xarray\n",
    "# # we have a different array of angles here than for Y6\n",
    "\n",
    "# θ_val = np.array([30, 40, 55, 70, 90])\n",
    "\n",
    "# nexafs = xr.Dataset(\n",
    "#     data_vars=dict(\n",
    "#     electron_yield=(['cos_sq_θ', 'energy'], pey[1:])),\n",
    "#     coords={'cos_sq_θ': np.cos(θ_val*np.pi/180)**2, 'θ': ('cos_sq_θ', θ_val), 'energy' : pey[0]},\n",
    "#     attrs=dict(description='PM6 NEXAFS'),\n",
    "# )\n",
    "# nexafs.energy.attrs['unit'] = 'eV'\n",
    "# nexafs['electron_yield'].attrs['unit'] = 'a.u.'\n",
    "# nexafs['θ'].attrs['unit'] = '°'"
   ]
  },
  {
   "cell_type": "code",
   "execution_count": null,
   "id": "215e9eea-2e9c-4729-90d8-66baf13e7115",
   "metadata": {},
   "outputs": [],
   "source": [
    "sample = 'PM6'\n",
    "nexafs = load_nexafs(exportPath.joinpath(f'{sample}_normed_nexafs.txt'), np.array([30,40,55,70,90]))"
   ]
  },
  {
   "cell_type": "code",
   "execution_count": null,
   "id": "fa063d5f-f42d-443b-9a2f-8b16e6be4e28",
   "metadata": {},
   "outputs": [],
   "source": [
    "show_nexafs(280, 315, nexafs)"
   ]
  },
  {
   "cell_type": "markdown",
   "id": "0e0863a1-a42f-466e-b90e-13a8abeb2bec",
   "metadata": {},
   "source": [
    "It is only subtly oriented. We can fit as before:"
   ]
  },
  {
   "cell_type": "code",
   "execution_count": null,
   "id": "469f816d-7b49-4e2b-9577-0b36129bcba5",
   "metadata": {},
   "outputs": [],
   "source": [
    "show_nexafs(284, 286, nexafs)"
   ]
  },
  {
   "cell_type": "code",
   "execution_count": null,
   "id": "7d9194e3-d592-484c-8386-9d1a74b11e18",
   "metadata": {},
   "outputs": [],
   "source": [
    "e_min = 284\n",
    "e_max = 286\n",
    "pi_peak_areas =  int_area(e_min, e_max, nexafs)\n",
    "θ_list = θ_val\n",
    "\n",
    "bnds= [(0,90),(0,10)]\n",
    "res = optimize.differential_evolution(mse_line, bounds=bnds, args = (pi_peak_areas,θ_list) ,tol=1e-6)\n",
    "print(res.x)"
   ]
  },
  {
   "cell_type": "markdown",
   "id": "42a96c38-177f-4eeb-a2b6-8a99c2e2c111",
   "metadata": {},
   "source": [
    "We find that there is a subtle \"edge on\" orientation with $\\alpha=58.1$°<br>\n",
    "We can run the same linear fit at each energy:"
   ]
  },
  {
   "cell_type": "code",
   "execution_count": null,
   "id": "93879fd6-9280-4308-bfb1-1f2817923a46",
   "metadata": {},
   "outputs": [],
   "source": [
    "nexafs_fit = nexafs.electron_yield.polyfit('cos_sq_θ', 1)"
   ]
  },
  {
   "cell_type": "markdown",
   "id": "f20ef74e-3e23-4387-a683-14cf9ce8e4d3",
   "metadata": {},
   "source": [
    "We now must choose extrapolation targets. The consideration is different this time because this PM6 is preferentially edge on. It is not correct to \"flip\" a measured NEXAFS from edge to face because it is not possible to separate the 2 contributors to the ordinary axis. So we will extrapolate this NEXAFS to \"perfect\" edge on behavior. Thus for the extraordinary axis, we would expect zero pi* intensity:  "
   ]
  },
  {
   "cell_type": "code",
   "execution_count": null,
   "id": "f76cdc94-cbe7-4693-ad55-43496589efd4",
   "metadata": {},
   "outputs": [],
   "source": [
    "#these are integration bounds; we will extrapolate to \"perfect\" values of integrated intensity within these bounds\n",
    "#which bound you choose will adjust the result slightly.\n",
    "e_min = 284\n",
    "e_max = 286\n",
    "res = optimize.differential_evolution(mse, [(-5, 5)], args = (e_min, e_max, nexafs, nexafs_fit, 0), tol=1e-6)\n",
    "cos_sq_θ_mol_e = float(res.x)"
   ]
  },
  {
   "cell_type": "markdown",
   "id": "45d7b51f-beb7-4b59-9786-d9e9b50db791",
   "metadata": {},
   "source": [
    "The ordinary axis intensity is once again guided by our distance relationship between magic and the extremes. In this case the difference is halved rather than doubled because we started with extraordinary rather than ordinary."
   ]
  },
  {
   "cell_type": "code",
   "execution_count": null,
   "id": "3ce6fa0c-8693-4eb3-8d92-2f255b10e420",
   "metadata": {},
   "outputs": [],
   "source": [
    "#For perfectly face on, the extraordinary intensity should be exactly 3x magic intensity\n",
    "magic_int = int_area(e_min, e_max, evaluate_nexafs_fit(nexafs, nexafs_fit, [0.329], [0]))\n",
    "extra_int = int_area(e_min, e_max, evaluate_nexafs_fit(nexafs, nexafs_fit, [cos_sq_θ_mol_e], [0]))\n",
    "\n",
    "e_targ = magic_int + 0.5*(magic_int-ord_int)\n",
    "res = optimize.minimize(mse, 1, method='Nelder-Mead', args = (e_min, e_max, nexafs, nexafs_fit, e_targ), tol=1e-6)\n",
    "cos_sq_θ_mol_o = float(res.x)"
   ]
  },
  {
   "cell_type": "code",
   "execution_count": null,
   "id": "fd722ac6-598e-4130-955c-f5f102a79719",
   "metadata": {},
   "outputs": [],
   "source": [
    "mol_fits = [cos_sq_θ_mol_e, cos_sq_θ_mol_o]"
   ]
  },
  {
   "cell_type": "code",
   "execution_count": null,
   "id": "77c0c998-956d-4d19-8eba-ff6e9062fbb9",
   "metadata": {},
   "outputs": [],
   "source": [
    "nexafs_mol = evaluate_nexafs_fit(nexafs, nexafs_fit, mol_fits, [0, 90])"
   ]
  },
  {
   "cell_type": "code",
   "execution_count": null,
   "id": "3c8c8d84-4759-4121-b570-36245e54fbdc",
   "metadata": {},
   "outputs": [],
   "source": [
    "show_nexafs(280,315, nexafs_mol, save=True, savename=f'{sample}_alpha_theta_extrap.svg')"
   ]
  },
  {
   "cell_type": "markdown",
   "id": "5ca197d9-6c74-4efa-93db-a3b3f9810c0e",
   "metadata": {},
   "source": [
    "This also looks fairly reasonable! If we want a face-on dielectic function for PM6, it would be best to attempt to cast a film having this orientation and measure it.<br><br>\n",
    "We can evaluate and save the PM6 edge-on dielectric function as follows:"
   ]
  },
  {
   "cell_type": "code",
   "execution_count": null,
   "id": "f661183c-2a8c-4ffd-bdb4-013d3039aea4",
   "metadata": {},
   "outputs": [],
   "source": [
    "#formula should be correct for Y6. density is a guess.\n",
    "n_mol = run_kkcalc_a(nexafs_mol, x_min = 280, x_max = 315, chemical_formula = 'C68H76F2O2S8', density = 1.1)"
   ]
  },
  {
   "cell_type": "code",
   "execution_count": null,
   "id": "9c68acd0-b252-4d59-b666-e55dd913e783",
   "metadata": {},
   "outputs": [],
   "source": [
    "show_diel(280, 315, n_mol, save=True)"
   ]
  },
  {
   "cell_type": "code",
   "execution_count": null,
   "id": "9ab423ec-6741-47b1-9140-a583908a875e",
   "metadata": {},
   "outputs": [],
   "source": [
    "#save data to a txt file in a format that could be imported into CyRSoXS\n",
    "#note that 0° is extraordinary and 90° is ordinary as those are the θ values where the measurement only perceives one or the other.\n",
    "# the order of the columns is thus the order described below\n",
    "np.savetxt('pm6_molecular.txt',  np.c_[\n",
    "    n_ep.energy, \n",
    "    n_ep.δ.sel(cos_sq_θ=cos_sq_θ_mol_e, method = 'nearest').values, #extraordinary, para\n",
    "    n_ep.β.sel(cos_sq_θ=cos_sq_θ_mol_e, method = 'nearest').values, #extraordinary, para\n",
    "    n_ep.δ.sel(cos_sq_θ=cos_sq_θ_mol_o, method = 'nearest').values, #ordinary, perp\n",
    "    n_ep.β.sel(cos_sq_θ=cos_sq_θ_mol_o, method = 'nearest').values]) #ordinary, perp"
   ]
  },
  {
   "cell_type": "markdown",
   "id": "be87dad9-63a0-44f9-911f-4391208c34b0",
   "metadata": {},
   "source": [
    "Just as before, run extrapolation finely divided within fit extremes. "
   ]
  },
  {
   "cell_type": "code",
   "execution_count": null,
   "id": "2c9bcd2b-ddbb-4adb-9f97-9b50035c728c",
   "metadata": {},
   "outputs": [],
   "source": [
    "cos_sq_0_spread = np.linspace(cos_sq_θ_mol_e, cos_sq_θ_mol_o, 50)\n",
    "pm6_mol_spread = evaluate_nexafs_fit(nexafs, nexafs_fit, cos_sq_0_spread, cos_sq_0_spread)\n",
    "#guessing on PM6 density\n",
    "pm6_mol_spread = run_kkcalc_a(pm6_mol_spread, x_min = 280, x_max = 315, chemical_formula = 'C68H76F2O2S8', density = 1.1)\n",
    "#calculate binary contrast for the ensemble. Note that xarray will automatically broadcast across cos_sq_0 without prompting\n",
    "n_mol_vac_c = binary_contrast(pm6_mol_spread)"
   ]
  },
  {
   "cell_type": "markdown",
   "id": "826adb67-f5e7-4d6c-8c5e-452a865584c4",
   "metadata": {},
   "source": [
    "This time, the contrast is <em>combinatorial</em> across the extrapolated values. In other words, any orientation of Y6 may scatter versus any orientation of PM6. We calculate the combintorial contrast below: "
   ]
  },
  {
   "cell_type": "code",
   "execution_count": null,
   "id": "ce7ec2ae-1b2c-46a7-94bd-25672644cb34",
   "metadata": {
    "tags": []
   },
   "outputs": [],
   "source": [
    "#plot the contrasts\n",
    "xmin = 270\n",
    "xmax = 320\n",
    "fig, ax1 = plt.subplots(figsize=(8,4))\n",
    "#xarray way of adding to a plot\n",
    "colors = plt.cm.plasma(np.linspace(0,0.9,n_mol_vac_c.θ.size))\n",
    "for i, cos_sq_θ in enumerate(n_mol_vac_c.cos_sq_θ): \n",
    "    n_mol_vac_c.sel(cos_sq_θ=cos_sq_θ).plot(color = colors[i], lw = 3)\n",
    "ax1.set_xlim(xmin, xmax)\n",
    "ymin = n_mol_vac_c.sel(energy=slice(xmin,xmax)).min()\n",
    "ymax = n_mol_vac_c.sel(energy=slice(xmin,xmax)).max()\n",
    "ax1.set_ylim(ymin*0.75,ymax*1.2)\n",
    "ax1.set_yscale('log')\n",
    "ax1.set_ylabel('contrast')\n",
    "plt.title(f'{sample} contrast with vacuum')\n",
    "plt.savefig(f'{sample}_vacuum_contrast.svg')\n",
    "plt.show()\n",
    "plt.close()"
   ]
  },
  {
   "cell_type": "code",
   "execution_count": null,
   "id": "b91f057f-0b11-47dc-a529-44dac9a415b6",
   "metadata": {
    "tags": []
   },
   "outputs": [],
   "source": [
    "n_mol_c = []\n",
    "for cos_sq_θ in y6_mol_spread.cos_sq_θ:\n",
    "    n_mol_c.append(binary_contrast(y6_mol_spread.sel(cos_sq_θ=cos_sq_θ, method = 'nearest').drop('cos_sq_θ'), pm6_mol_spread))\n",
    "n_mol_c = xr.concat(n_mol_c, 'cos_sq_θ_y6')"
   ]
  },
  {
   "cell_type": "code",
   "execution_count": null,
   "id": "ac110e9e-d18c-41f2-8e22-4cc535564f55",
   "metadata": {},
   "outputs": [],
   "source": [
    "#this code finds the max and min of the combinatorial contrast at each energy.\n",
    "c_max = n_mol_c.max('cos_sq_θ_y6')\n",
    "c_max = c_max.max('cos_sq_θ')\n",
    "c_min = n_mol_c.min('cos_sq_θ_y6')\n",
    "c_min = c_min.min('cos_sq_θ')\n",
    "c_magic = n_mol_c.sel(cos_sq_θ_y6=33).sel(cos_sq_θ=0.3333, method = 'nearest')"
   ]
  },
  {
   "cell_type": "code",
   "execution_count": null,
   "id": "26de86f9-ef46-4e4a-91ff-7d7194a5b24c",
   "metadata": {},
   "outputs": [],
   "source": [
    "fig, ax1 = plt.subplots()\n",
    "#xarray way of adding to a plot\n",
    "# colors = plt.cm.plasma(np.linspace(0,1,n_mol_vac_c.θ.size))\n",
    "c_max.plot(color = 'xkcd:pale aqua', lw = 3,label = 'max contrast in orientation envelope')\n",
    "c_min.plot(color = 'navy', lw = 3, label = 'min contrast in orientation envelope')\n",
    "c_magic.plot(color='yellow', lw = 3, label = 'magic angle (composition) contrast')\n",
    "ax1.fill_between(c_max.energy.values, c_max.values, c_min.values, color = 'xkcd:royal')\n",
    "ax1.set_xlim(xmin, xmax)\n",
    "ymax = c_max.max()\n",
    "ax1.set_ylim(10,ymax*1.2)\n",
    "ax1.set_yscale('log')\n",
    "ax1.set_ylabel('contrast')\n",
    "plt.title('Y6 contrast with PM6')\n",
    "plt.legend()\n",
    "plt.show()"
   ]
  },
  {
   "cell_type": "markdown",
   "id": "fbffe8d8-d51a-4e2c-84b0-58a1e7970330",
   "metadata": {},
   "source": [
    "The combinatorial contrast is a function of both Y6 orientation and PM6 orientation. The variation with PM6 orientation is shown on the figure below. The variation with Y6 orientation is handled via slider."
   ]
  },
  {
   "cell_type": "code",
   "execution_count": null,
   "id": "51132a35-dc30-4f11-85ce-ce476bf202b2",
   "metadata": {
    "tags": []
   },
   "outputs": [],
   "source": [
    "from ipywidgets import interact, widgets, Layout\n",
    "\n",
    "def f(y6_diel):\n",
    "    fig, ax1 = plt.subplots()\n",
    "    #xarray way of adding to a plot\n",
    "    colors = plt.cm.plasma(np.linspace(0,1,n_mol_vac_c.θ.size))\n",
    "    for j, cos_sq_θ in enumerate(n_mol_c.cos_sq_θ):\n",
    "        n_mol_c.sel(cos_sq_θ_y6=y6_diel).sel(cos_sq_θ=cos_sq_θ).plot(color = colors[j], lw = 3)\n",
    "    ax1.set_xlim(xmin, xmax)\n",
    "    ymin = n_mol_c.sel(energy=slice(xmin,xmax)).min()\n",
    "    ymax = n_mol_c.sel(energy=slice(xmin,xmax)).max()\n",
    "    ax1.set_ylim(10,ymax*1.2)\n",
    "    ax1.set_yscale('log')\n",
    "    ax1.set_ylabel('contrast')\n",
    "    plt.title('Y6 contrast with PM6')\n",
    "    fig.canvas.draw()\n",
    "\n",
    "interact(f, y6_diel=widgets.SelectionSlider(options=n_mol_c.cos_sq_θ_y6,value=n_mol_c.cos_sq_θ_y6.values[0],  layout=Layout(width='40%')))"
   ]
  },
  {
   "cell_type": "markdown",
   "id": "9ac7ee87-b696-4726-b5e7-2829cbca0bed",
   "metadata": {},
   "source": [
    "What does this mean?\n",
    "\n",
    "The two different representations above define the binary scattering contrasts that are <em>possible</em> in this PM6:Y6 blend, if we don't consider vacuum scattering. It's even broader if we do consider vacuum scattering! Any number of these traces, in any weighted combination, could contribute to the total scattering intensity (TSI) or \"scattering invariant\" that you measure in a PM6:Y6 system experimentally. \n",
    "\n",
    "A key takeaway is that it is essentially impossible to choose an energy at which the TSI will be dominated by <em>composition</em> with no orientation effects. This conclusion tends to be ignored in the analysis that is routinely done in OPV systems as measure of \"relative phase purity.\" Going forward, it is important for the community to understand that orientation effects are likely present in these measurements, and there very likely scenarios where they <em>dominate</em> the response. Rather than being a \"bad thing\" for the technique, this conclusion emphasizes its unique sensitivity to molecular orientation. \n",
    "\n",
    "Frameworks to disentangle orientation effects from composition effects are under development. One demonstrated approach is to model data using the NIST RSoXS Simulation Suite:\n",
    "https://github.com/usnistgov/nrss\n",
    "\n",
    "...creating models that have both composition and orientation fluctuations and fitting those models to RSoXS data at several energies.\n"
   ]
  }
 ],
 "metadata": {
  "kernelspec": {
   "display_name": "Python 3 (ipykernel)",
   "language": "python",
   "name": "python3"
  },
  "language_info": {
   "codemirror_mode": {
    "name": "ipython",
    "version": 3
   },
   "file_extension": ".py",
   "mimetype": "text/x-python",
   "name": "python",
   "nbconvert_exporter": "python",
   "pygments_lexer": "ipython3",
   "version": "3.11.6"
  }
 },
 "nbformat": 4,
 "nbformat_minor": 5
}
