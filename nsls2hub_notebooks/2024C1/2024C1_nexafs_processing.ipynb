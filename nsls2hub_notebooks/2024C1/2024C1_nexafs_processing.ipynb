{
 "cells": [
  {
   "cell_type": "markdown",
   "id": "ec168949-2441-4681-ac53-cc53c5a1e714",
   "metadata": {},
   "source": [
    "# SST1 NEXAFS Processing Notebook\n",
    "\n",
    "Takes raw SST1 output and can plot/export:\n",
    "* Normalized NEXAFS data for each measured angle\n",
    "* Extrapolated NEXAFS to total isotropy anisotropy (applicable only to uniaxial samples)\n",
    "* Binary contrasts in a variety of data formats (animated gif)\n",
    "* CyRSoXS materials.txt files"
   ]
  },
  {
   "cell_type": "raw",
   "id": "b702e408-676d-472f-bdb8-6c10e53574b1",
   "metadata": {},
   "source": [
    "rclone --dry-run copy -P /nsls2/data/sst/proposals/2024-1/pass-313412/processed_data/nexafs_plots remote:research/data_analysis/rsoxs_suite/nexafs_plots/2024C1 --exclude '*checkpoint*'"
   ]
  },
  {
   "cell_type": "code",
   "execution_count": null,
   "id": "c26392b3-b50c-4eb4-88e3-e905558104b1",
   "metadata": {
    "scrolled": true,
    "tags": []
   },
   "outputs": [],
   "source": [
    "# # # # Only needs to be run once per session, restart kernel after running\n",
    "\n",
    "# # # %pip install pyhyperscattering==0.2.1  # to use pip published package\n",
    "# !pip install -e /nsls2/users/alevin/repos/PyHyperScattering  # to use pip to install via directory\n",
    "# !pip install --pre --upgrade tiled[all] databroker  # bottleneck # needed to fix tiled/databroker error in SST1RSoXSDB"
   ]
  },
  {
   "cell_type": "code",
   "execution_count": null,
   "id": "6b58d3ce-b8e2-4be1-b699-3a7fb68fa2b3",
   "metadata": {
    "scrolled": true,
    "tags": []
   },
   "outputs": [],
   "source": [
    "# !pip install -e /nsls2/users/alevin/repos/kkcalc"
   ]
  },
  {
   "cell_type": "code",
   "execution_count": null,
   "id": "c83bd739-5a98-4d85-b188-2260366d81aa",
   "metadata": {
    "scrolled": true,
    "tags": []
   },
   "outputs": [],
   "source": [
    "# !pip install -e /nsls2/users/alevin/repos/xarray"
   ]
  },
  {
   "cell_type": "markdown",
   "id": "73115549-a134-4c4c-8d0d-e5296eb66536",
   "metadata": {
    "tags": []
   },
   "source": [
    "## Imports"
   ]
  },
  {
   "cell_type": "code",
   "execution_count": null,
   "id": "b6d35a8b-1165-4549-bd92-369d85dcd7e2",
   "metadata": {
    "tags": []
   },
   "outputs": [],
   "source": [
    "# Imports:\n",
    "# import kkcalc\n",
    "# from kkcalc import data\n",
    "# from kkcalc import kk\n",
    "import pathlib\n",
    "import json \n",
    "import os\n",
    "import numpy as np\n",
    "import matplotlib.pyplot as plt\n",
    "import matplotlib as mpl\n",
    "import xarray as xr\n",
    "import pandas as pd\n",
    "import dask.array as da\n",
    "from scipy import optimize\n",
    "import sys\n",
    "from tqdm.auto import tqdm\n",
    "\n",
    "from tiled.client import from_profile\n",
    "import PyHyperScattering as phs\n",
    "print(f'Using PyHyperScattering Version: {phs.__version__}')\n",
    "\n",
    "sys.path.append('/nsls2/users/alevin/rsoxs_suite/misc_older_work/nexafs_analysis')\n",
    "import nexafs_fxns as nf  # custom nexafs functions used throughout this notebook"
   ]
  },
  {
   "cell_type": "code",
   "execution_count": null,
   "id": "b4467a92-5aad-47b0-a064-5d19fc1a1f3f",
   "metadata": {
    "tags": []
   },
   "outputs": [],
   "source": [
    "# # Imports:\n",
    "# import sys\n",
    "# import pathlib\n",
    "# import numpy as np\n",
    "# import matplotlib.pyplot as plt\n",
    "# import xarray as xr\n",
    "# import pandas as pd\n",
    "# from scipy import optimize\n",
    "# import dask.array as da\n",
    "# from tqdm.auto import tqdm\n",
    "\n",
    "# sys.path.append('/nsls2/users/alevin/rsoxs_suite/misc_older_work/nexafs_analysis')\n",
    "# import nexafs_fxns as nf  # custom nexafs functions used throughout this notebook"
   ]
  },
  {
   "cell_type": "markdown",
   "id": "add83214-5699-442d-bcb8-7afe801d60eb",
   "metadata": {
    "tags": []
   },
   "source": [
    "## Define paths & short functions"
   ]
  },
  {
   "cell_type": "code",
   "execution_count": null,
   "id": "4b8c794d-dd6f-4315-9098-d2d567953f4b",
   "metadata": {
    "tags": []
   },
   "outputs": [],
   "source": [
    "# Define directory paths\n",
    "propPath = pathlib.Path('/nsls2/data/sst/proposals/2024-1/pass-313412')\n",
    "outPath = propPath.joinpath('processed_data')\n",
    "zarrsPath = outPath.joinpath('nexafs_zarrs')"
   ]
  },
  {
   "cell_type": "code",
   "execution_count": null,
   "id": "43c40abe-20f8-4c82-8834-11ff5cfa1ec3",
   "metadata": {
    "tags": []
   },
   "outputs": [],
   "source": [
    "# Some user defined functions for loading metadata\n",
    "def select_largest_by_energy(dataarrays):\n",
    "    \"\"\"\n",
    "    Given a list of DataArrays, return a list with one DataArray per angle\n",
    "    and choose the one with the most 'energy' points if there are duplicates.\n",
    "    \"\"\"\n",
    "    # Group by angle\n",
    "    grouped = {}\n",
    "    for da in dataarrays:\n",
    "        angle = int(da.theta)\n",
    "        if angle not in grouped:\n",
    "            grouped[angle] = []\n",
    "        grouped[angle].append(da)\n",
    "\n",
    "    # Select the DataArray with the most 'energy' points\n",
    "    selected = []\n",
    "    for angle, das in grouped.items():\n",
    "        largest_da = max(das, key=lambda x: x.sizes['energy'])\n",
    "        selected.append(largest_da)\n",
    "\n",
    "    return selected"
   ]
  },
  {
   "cell_type": "markdown",
   "id": "c0e230da-fe9c-42ab-ad6b-78776540f990",
   "metadata": {
    "tags": []
   },
   "source": [
    "## Load nexafs data from tiled databroker"
   ]
  },
  {
   "cell_type": "markdown",
   "id": "41093a08-7b9f-4cff-a70f-ac394c04546b",
   "metadata": {
    "tags": []
   },
   "source": [
    "### Loading functions:"
   ]
  },
  {
   "cell_type": "code",
   "execution_count": null,
   "id": "e4e57ad2-5cf9-4a96-abb8-af42f9c41bf1",
   "metadata": {
    "tags": []
   },
   "outputs": [],
   "source": [
    "def load_diode(loader, lab_pol, run):\n",
    "    monitors = loader.loadMonitors(run)\n",
    "    energies = monitors['energy_readback']\n",
    "    # monitors = monitors.rename({'time':'energy'}).reset_index('energy').assign_coords(energy=energies.data)\n",
    "    monitors = monitors.rename_vars({'time_bins':'time'}).rename({'time':'energy'}).reset_index('energy').assign_coords(energy=energies.data)\n",
    "        \n",
    "    monitors = monitors.expand_dims({'pol': [lab_pol]})\n",
    "    monitors = monitors.assign_coords({'uid': ('pol', [run.start['uid']])})\n",
    "    monitors = monitors.dropna(dim='energy').groupby('energy').mean()\n",
    "    \n",
    "    return monitors \n",
    "\n",
    "\n",
    "def load_nexafs(loader, run):\n",
    "    monitors = loader.loadMonitors(run)\n",
    "    energies = monitors['energy_readback']\n",
    "    # monitors = monitors.rename({'time':'energy'}).reset_index('energy').assign_coords(energy=energies.data)\n",
    "    monitors = monitors.rename_vars({'time_bins':'time'}).rename({'time':'energy'}).reset_index('energy').assign_coords(energy=energies.data)\n",
    "    theta = int(np.round(run['baseline']['data']['en_sample_polarization'][0], 0))\n",
    "    \n",
    "    if theta > 90:\n",
    "        theta = 180 - theta\n",
    "        \n",
    "    monitors = monitors.expand_dims({'theta': [theta],\n",
    "                                     'sample_name': [run.start['sample_name']]})\n",
    "    monitors = monitors.assign_coords({'scan_id': ('theta', [run.start['scan_id']]),\n",
    "                                       'sample_id': ('sample_name', [run.start['sample_id']])})\n",
    "    monitors = monitors.dropna(dim='energy').groupby('energy').mean()\n",
    "    \n",
    "    return monitors "
   ]
  },
  {
   "cell_type": "markdown",
   "id": "4535c911-cbd5-4102-aa26-ed238b5ae1dd",
   "metadata": {
    "tags": []
   },
   "source": [
    "### Summarize catalog runs"
   ]
  },
  {
   "cell_type": "code",
   "execution_count": null,
   "id": "227e9500-bc2c-4c5e-9cf8-50f066fb13f8",
   "metadata": {
    "scrolled": true,
    "tags": []
   },
   "outputs": [],
   "source": [
    "c = from_profile(\"rsoxs\", structure_clients='numpy')  # create tiled catalog needed for later loaders\n",
    "loader = phs.load.SST1RSoXSDB(corr_mode='none', catalog=c)\n",
    "\n",
    "plan_of_interest = 'nexafs_carbon'\n",
    "# df = loader.summarize_run(outputType='nexafs', institution='CUBLDER', cycle='2024-1', sample_id='', project='TEY', plan=plan_of_interest)\n",
    "df = loader.summarize_run(outputType='nexafs', institution='CUBLDER', cycle='2024-1', sample_id='', project='TRMSN', plan=plan_of_interest)\n",
    "\n",
    "# display(diode_df)\n",
    "# display(df)"
   ]
  },
  {
   "cell_type": "code",
   "execution_count": null,
   "id": "767e5be1-3c9a-4398-8218-2134a8d343e7",
   "metadata": {
    "tags": []
   },
   "outputs": [],
   "source": [
    "with pd.option_context('display.max_rows', None):\n",
    "    display(df[59:])"
   ]
  },
  {
   "cell_type": "code",
   "execution_count": null,
   "id": "12a922d8-cfa9-4b84-aa6a-0187e5f0cbda",
   "metadata": {
    "tags": []
   },
   "outputs": [],
   "source": [
    "# TEY Carbon\n",
    "\n",
    "sliced_df = df[3:]\n",
    "carbon_diode_scan_indices = [36, 37, 38, 39, 40, 41]\n",
    "sliced_df = sliced_df[:].drop(carbon_diode_scan_indices)\n",
    "sliced_df = sliced_df[(sliced_df['num_Images']>350)]\n",
    "\n",
    "sliced_df"
   ]
  },
  {
   "cell_type": "code",
   "execution_count": null,
   "id": "bfbd2522-7067-4524-b539-82970fe24f6f",
   "metadata": {
    "tags": []
   },
   "outputs": [],
   "source": [
    "# TRMSN Carbon\n",
    "\n",
    "sliced_df = df[59:]\n",
    "# carbon_diode_scan_indices = [36, 37, 38, 39, 40, 41]\n",
    "# sliced_df = sliced_df[:].drop(carbon_diode_scan_indices)\n",
    "# sliced_df = sliced_df[(sliced_df['num_Images']>350)]\n",
    "\n",
    "sliced_df"
   ]
  },
  {
   "cell_type": "markdown",
   "id": "a7942217-9cd2-408d-a10b-d8cf2761fd49",
   "metadata": {
    "tags": []
   },
   "source": [
    "### Load diode datasets"
   ]
  },
  {
   "cell_type": "code",
   "execution_count": null,
   "id": "56026be9-2755-428a-8d1b-0ccb36571811",
   "metadata": {
    "tags": []
   },
   "outputs": [],
   "source": [
    "# the diode scans are named the same as some sample names...:\n",
    "# carbon diode scans have the scan ID, sample ID, and name as the last sample run before them: 79878, TEY11, PM6_p5CN-2CF-3CB\n",
    "# so the first 3 TEY11 scans are actualy TEY measurements, at 12:40, 12:45, 12:50 (12:50 has scan id 79878)\n",
    "# the next 6 are the carbon diode (time range: 13:04 - 13:27)\n",
    "# carbon_df_scan_indices = [36, 37, 38, 39, 40, 41]\n",
    "# carbon_diode_scan_id = 79878  # for all samples, but the time stamps should correspond to the pols order\n",
    "\n",
    "# carbon_diode_scan_pols = [        20,         55,         90,      52.38,          0,      45.56]\n",
    "# carbon_diode_uids =      ['cbb1dae5', '00accfe3', 'af3255b3', '25042aca', '7e026642', '153238eb'] \n",
    "\n",
    "\n",
    "# the next 4 are the nitrogen diode:\n",
    "# which does have an updated scan id (79884), and another additional scan id (79884) because I forgot to include 90 at first (instead of 52.38)\n",
    "# nitrogen_df_scan_indices = [42, 43, 44, 45]\n",
    "# nitrogen_diode_scan_pols_1 = [52.38, 0, 45.56]\n",
    "# nitrogen_diode_scan_id_1 = 79884\n",
    "# nitrogen_diode_scan_pols_2 = [90]\n",
    "# nitrogen_diode_scan_id_2 = 79887\n",
    "\n",
    "# nitrogen_diode_scan_pols = [     52.38,          0,      45.56,         90]\n",
    "# nitrogen_diode_uids =      ['95407dc5', '27245caa', 'bc41e5c6', 'd8520b97']"
   ]
  },
  {
   "cell_type": "code",
   "execution_count": null,
   "id": "6c382762-341b-4f9c-a36f-7ca11a882032",
   "metadata": {
    "scrolled": true,
    "tags": []
   },
   "outputs": [],
   "source": [
    "# Load carbon diode dataset via tiled databroker:\n",
    "carbon_diode_scan_pols = [      20.0,       55.0,       90.0,      52.38,        0.0,      45.56]\n",
    "carbon_diode_uids =      ['cbb1dae5', '00accfe3', 'af3255b3', '25042aca', '7e026642', '153238eb'] \n",
    "\n",
    "diode_monitors_list = []\n",
    "for lab_pol, scan_uid in zip(carbon_diode_scan_pols, carbon_diode_uids):\n",
    "    run = c[scan_uid]\n",
    "    diode_monitors = load_diode(loader, lab_pol, run)\n",
    "    diode_monitors_list.append(diode_monitors)\n",
    "\n",
    "energies = np.linspace(250, 350, 3000)  # carbon\n",
    "\n",
    "interp_diode_monitors_list = []\n",
    "for DS in diode_monitors_list:\n",
    "    DS = DS.interp({'energy':energies})\n",
    "    interp_diode_monitors_list.append(DS)\n",
    "    \n",
    "carbon_diode_DS = xr.concat(interp_diode_monitors_list, dim='pol')"
   ]
  },
  {
   "cell_type": "code",
   "execution_count": null,
   "id": "891ec0f8-50af-4b73-ad84-aac7ab58311f",
   "metadata": {
    "scrolled": true,
    "tags": []
   },
   "outputs": [],
   "source": [
    "# Load nitrogen diode dataset via tiled databroker:\n",
    "nitrogen_diode_scan_pols = [     52.38,          0,      45.56,         90]\n",
    "nitrogen_diode_uids =      ['95407dc5', '27245caa', 'bc41e5c6', 'd8520b97']\n",
    "\n",
    "diode_monitors_list = []\n",
    "for lab_pol, scan_uid in zip(nitrogen_diode_scan_pols, nitrogen_diode_uids):\n",
    "    run = c[scan_uid]\n",
    "    diode_monitors = load_diode(loader, lab_pol, run)\n",
    "    diode_monitors_list.append(diode_monitors)\n",
    "\n",
    "energies = np.linspace(370, 440, 2000)  # nitrogen\n",
    "\n",
    "interp_diode_monitors_list = []\n",
    "for DS in diode_monitors_list:\n",
    "    DS = DS.interp({'energy':energies})\n",
    "    interp_diode_monitors_list.append(DS)\n",
    "    \n",
    "nitrogen_diode_DS = xr.concat(interp_diode_monitors_list, dim='pol')"
   ]
  },
  {
   "cell_type": "code",
   "execution_count": null,
   "id": "5f0bd8cb-71eb-47ec-b7b1-ec36f8e85a59",
   "metadata": {
    "tags": []
   },
   "outputs": [],
   "source": [
    "display(carbon_diode_DS)\n",
    "display(nitrogen_diode_DS)"
   ]
  },
  {
   "cell_type": "markdown",
   "id": "c0578c51-f1cc-4381-85ba-2e8fd65a9e5e",
   "metadata": {
    "tags": []
   },
   "source": [
    "### Load NEXAFS data"
   ]
  },
  {
   "cell_type": "code",
   "execution_count": null,
   "id": "e7db77b0-ac43-46f3-a62b-3100f1447977",
   "metadata": {
    "scrolled": true,
    "tags": []
   },
   "outputs": [],
   "source": [
    "# TEY Carbon:\n",
    "energies = np.linspace(250,350,3000)  # carbon\n",
    "\n",
    "# Load full nexafs dataset via tiled databroker:\n",
    "sample_names = sliced_df['sample_name'].unique()\n",
    "\n",
    "nf_monitors_full_list = []\n",
    "for sample_name in tqdm(sample_names[:]):\n",
    "    runs_of_interest = sliced_df[sliced_df['sample_name']==sample_name]              \n",
    "    nf_monitors_list = []\n",
    "    for scan_id in tqdm(runs_of_interest['scan_id']):\n",
    "        if scan_id == 79878:\n",
    "            # this is the one with multiple diode scans, and by default it would load the last of the identical scan ids\n",
    "            # so lets select by its uid instead:\n",
    "            run = c['335a5cc1']\n",
    "        else:\n",
    "            run = c[scan_id]\n",
    "        nf_monitors = load_nexafs(loader, run)\n",
    "        nf_monitors_list.append(nf_monitors)\n",
    "\n",
    "    interp_nf_monitors_list = []\n",
    "    for DS in select_largest_by_energy(nf_monitors_list):\n",
    "        DS = DS.interp({'energy':energies})\n",
    "        interp_nf_monitors_list.append(DS)\n",
    "\n",
    "    nf_monitors_full = xr.concat(interp_nf_monitors_list, dim='theta')\n",
    "    nf_monitors_full_list.append(nf_monitors_full)\n",
    "    \n",
    "nf_DS = xr.concat(nf_monitors_full_list, dim='sample_name')"
   ]
  },
  {
   "cell_type": "code",
   "execution_count": null,
   "id": "dbb512e3-8713-45ff-8694-c800d456e3b0",
   "metadata": {
    "tags": []
   },
   "outputs": [],
   "source": [
    "nf_DS = nf_DS.sortby('theta')"
   ]
  },
  {
   "cell_type": "code",
   "execution_count": null,
   "id": "bac7a1a5-6339-450e-aefc-c45a39d417ef",
   "metadata": {
    "tags": []
   },
   "outputs": [],
   "source": [
    "colors = plt.cm.plasma_r(np.linspace(0.15,1,len(nf_DS.theta)))\n",
    "\n",
    "for sample in tqdm(nf_DS.sample_name.values):\n",
    "    fig, ax = plt.subplots(figsize=(7,3.5), dpi=120, tight_layout=True)\n",
    "    for i, theta_val in enumerate(nf_DS.theta.values):\n",
    "        nf_DS['RSoXS Sample Current'].sel(sample_name=sample, theta=theta_val, \n",
    "              energy=slice(260,350)).plot.line(ax=ax, color=colors[i], label=f'{int(theta_val)}°')\n",
    "    ax.set(title=sample, ylabel='Raw Sample Current', xlabel='Photon Energy [eV]')\n",
    "    ax.legend()\n",
    "    plt.show()"
   ]
  },
  {
   "cell_type": "code",
   "execution_count": null,
   "id": "dac0a26e-2879-42e2-94a1-353379054910",
   "metadata": {
    "scrolled": true,
    "tags": []
   },
   "outputs": [],
   "source": [
    "# TRMSN Carbon:\n",
    "energies = np.linspace(250,350,3000)  # carbon\n",
    "\n",
    "# Load full nexafs dataset via tiled databroker:\n",
    "sample_names = sliced_df['sample_name'].unique()\n",
    "\n",
    "nf_monitors_full_list = []\n",
    "for sample_name in tqdm(sample_names[:]):\n",
    "    runs_of_interest = sliced_df[sliced_df['sample_name']==sample_name]              \n",
    "    nf_monitors_list = []\n",
    "    for scan_id in tqdm(runs_of_interest['scan_id']):\n",
    "        run = c[scan_id]\n",
    "        nf_monitors = load_nexafs(loader, run)\n",
    "        nf_monitors_list.append(nf_monitors)\n",
    "\n",
    "    interp_nf_monitors_list = []\n",
    "    for DS in select_largest_by_energy(nf_monitors_list):\n",
    "        DS = DS.interp({'energy':energies})\n",
    "        interp_nf_monitors_list.append(DS)\n",
    "\n",
    "    nf_monitors_full = xr.concat(interp_nf_monitors_list, dim='theta')\n",
    "    nf_monitors_full_list.append(nf_monitors_full)\n",
    "    \n",
    "nf_DS = xr.concat(nf_monitors_full_list, dim='sample_name')"
   ]
  },
  {
   "cell_type": "code",
   "execution_count": null,
   "id": "a192e49c-707e-4967-a660-255f19342687",
   "metadata": {
    "tags": []
   },
   "outputs": [],
   "source": [
    "nf_DS"
   ]
  },
  {
   "cell_type": "code",
   "execution_count": null,
   "id": "aa1dc724-a6c0-4364-a24a-85fd7752aeeb",
   "metadata": {
    "tags": []
   },
   "outputs": [],
   "source": [
    "colors = plt.cm.plasma_r(np.linspace(0.15,1,len(nf_DS.theta)))\n",
    "\n",
    "for sample in tqdm(nf_DS.sample_name.values):\n",
    "    fig, ax = plt.subplots(figsize=(7,3.5), dpi=120, tight_layout=True)\n",
    "    for i, theta_val in enumerate(nf_DS.theta.values):\n",
    "        nf_DS['WAXS Beamstop'].sel(sample_name=sample, theta=theta_val, \n",
    "              energy=slice(260,350)).plot.line(ax=ax, color=colors[i], label=f'{int(theta_val)}°')\n",
    "    ax.set(title=sample, ylabel='Raw Sample Current', xlabel='Photon Energy [eV]')\n",
    "    ax.legend()\n",
    "    plt.show()"
   ]
  },
  {
   "cell_type": "markdown",
   "id": "244056ff-1c39-4939-b365-071bb3cac995",
   "metadata": {
    "tags": []
   },
   "source": [
    "### Create full nexafs dataset"
   ]
  },
  {
   "cell_type": "code",
   "execution_count": null,
   "id": "ed46e1c9-a970-4888-967e-84859149dd14",
   "metadata": {
    "tags": []
   },
   "outputs": [],
   "source": [
    "# # TEY Carbon Diode\n",
    "\n",
    "# TEY_C_diode_DS = carbon_diode_DS.sel(pol=[20, 55, 90, 52.38]).sortby('pol')\n",
    "# TEY_C_diode_DS = TEY_C_diode_DS.assign_coords({'theta':('pol', nf_DS.theta.values)}).swap_dims({'pol':'theta'})\n",
    "# TEY_C_diode_DS"
   ]
  },
  {
   "cell_type": "code",
   "execution_count": null,
   "id": "edefe608-1aeb-48bc-814e-03aca74343da",
   "metadata": {
    "tags": []
   },
   "outputs": [],
   "source": [
    "# # TEY Carbon\n",
    "# # Create nexafs dataset to export & apply/add double-norm-corrected data variable\n",
    "\n",
    "# DS = xr.Dataset(attrs={'name': plan_of_interest})\n",
    "# DS['raw_tey'] = nf_DS['RSoXS Sample Current']\n",
    "# DS['sample_au_mesh'] = nf_DS['RSoXS Au Mesh Current']\n",
    "# DS['calib_au_mesh'] = TEY_C_diode_DS['RSoXS Au Mesh Current']\n",
    "# DS['calib_diode'] = TEY_C_diode_DS['WAXS Beamstop']\n",
    "# DS['dnorm_tey'] = (DS['raw_tey'] / DS['sample_au_mesh']) * (DS['calib_au_mesh'] / DS['calib_diode'])\n",
    "\n",
    "# DS = DS.drop_vars('uid')\n",
    "# DS"
   ]
  },
  {
   "cell_type": "code",
   "execution_count": null,
   "id": "b68a2784-fa76-4023-a92c-04cee41e7bae",
   "metadata": {
    "tags": []
   },
   "outputs": [],
   "source": [
    "carbon_diode_DS"
   ]
  },
  {
   "cell_type": "code",
   "execution_count": null,
   "id": "33edef93-fd7a-481d-89fd-71784cbe9d51",
   "metadata": {
    "tags": []
   },
   "outputs": [],
   "source": [
    "# TEY Carbon Diode\n",
    "\n",
    "TRMSN_C_diode_DS = carbon_diode_DS.sel(pol=[0, 45.56, 90]).sortby('pol')\n",
    "TRMSN_C_diode_DS = TRMSN_C_diode_DS.assign_coords({'theta':('pol', nf_DS.theta.values)}).swap_dims({'pol':'theta'})\n",
    "TRMSN_C_diode_DS"
   ]
  },
  {
   "cell_type": "code",
   "execution_count": null,
   "id": "32d00b7f-c53b-4949-9e94-fcad72240156",
   "metadata": {
    "tags": []
   },
   "outputs": [],
   "source": [
    "# TRMSN\n",
    "# Create nexafs dataset to export & apply/add double-norm-corrected data variable\n",
    "\n",
    "DS = xr.Dataset(attrs={'name': plan_of_interest})\n",
    "DS['raw_trmsn'] = nf_DS['WAXS Beamstop']\n",
    "DS['sample_au_mesh'] = nf_DS['RSoXS Au Mesh Current']\n",
    "DS['calib_au_mesh'] = nf_DS['RSoXS Au Mesh Current'].sel(sample_name='BareSiN_01_rot')  # Use a bare SiN for normalization\n",
    "DS['calib_diode'] = nf_DS['WAXS Beamstop'].sel(sample_name='BareSiN_01_rot')\n",
    "# DS['calib_au_mesh'] = TRMSN_C_diode_DS['RSoXS Au Mesh Current'].drop_vars('uid')  # Use a diode scan for normalization\n",
    "# DS['calib_diode'] = TRMSN_C_diode_DS['WAXS Beamstop'].drop_vars('uid')\n",
    "DS['dnorm_trmsn'] = (DS['raw_trmsn'] / DS['sample_au_mesh']) * (DS['calib_au_mesh'] / DS['calib_diode'])\n",
    "\n",
    "DS"
   ]
  },
  {
   "cell_type": "code",
   "execution_count": null,
   "id": "fdabb4db-c0f4-431e-ad10-a285018b5758",
   "metadata": {
    "tags": []
   },
   "outputs": [],
   "source": [
    "# Plot check\n",
    "\n",
    "colors = plt.cm.plasma_r(np.linspace(0.15,1,len(nf_DS.theta)))\n",
    "\n",
    "for sample in DS.sample_name.values:\n",
    "    fig, ax = plt.subplots(figsize=(7,3.5), dpi=120, tight_layout=True)\n",
    "    for i, theta_val in enumerate(DS.theta.values):\n",
    "        DS['dnorm_trmsn'].sel(sample_name=sample, theta=theta_val, energy=slice(None,None)\n",
    "                ).plot.line(ax=ax, color=colors[i], label=f'{int(theta_val)}°')\n",
    "    ax.set(title=sample)\n",
    "    ax.legend()\n",
    "    plt.show()"
   ]
  },
  {
   "cell_type": "markdown",
   "id": "245f76de-57d4-4f9a-a0e9-acabd892ac9a",
   "metadata": {},
   "source": [
    "### Pre / post edge corrections"
   ]
  },
  {
   "cell_type": "code",
   "execution_count": null,
   "id": "e49000f7-e008-447c-9a02-7b85aa9c495f",
   "metadata": {
    "tags": []
   },
   "outputs": [],
   "source": [
    "# Apply pre and post-edge normalizations (more involved right now...):\n",
    "\n",
    "# data_var = 'dnorm_tey'\n",
    "data_var = 'dnorm_trmsn'\n",
    "\n",
    "\n",
    "# Set where to do pre/post edge corrections\n",
    "\n",
    "\n",
    "# # Good for TEY Carbon\n",
    "# pre_edge_energy_slice = slice(270, 280)  # carbon\n",
    "# post_edge_energy_slice = slice(320, 340)  # carbon\n",
    "\n",
    "# Good for TRMSN Carbon\n",
    "pre_edge_energy_slice = slice(258, 278)  # carbon\n",
    "post_edge_energy_slice = slice(320, 340)  # carbon\n",
    "\n",
    "\n",
    "# pre_edge_energy_slice = slice(392, 397.4)  # nitrogen\n",
    "# post_edge_energy_slice = slice(403, 404)  # nitrogen\n",
    "\n",
    "# pre_edge_energy, post_edge_energy = [283, 310] # carbon\n",
    "# pre_edge_energy, post_edge_energy = [395, 430] # nitrogen\n",
    "\n",
    "\n",
    "# First generate list of corrected spectra\n",
    "pre_corr_list = []\n",
    "full_corr_list = []\n",
    "for sample_name in DS.sample_name.values:\n",
    "    for theta in DS.theta.values:\n",
    "        # Linear fit for pre-edge region  \n",
    "        mean_value = DS[data_var].sel(energy=pre_edge_energy_slice).mean()\n",
    "        coefficients = np.polyfit(DS.energy.sel(energy=pre_edge_energy_slice), \n",
    "                                  DS[data_var].sel(energy=pre_edge_energy_slice, sample_name=sample_name, theta=theta), \n",
    "                                  1)\n",
    "        y_fit = np.polyval(coefficients, DS.energy)\n",
    "        \n",
    "        # Subtract DA by either the y_fit or by the mean (horizontal line)\n",
    "        pre_corr_DA = (DS[data_var].sel(sample_name=sample_name, theta=theta)) - y_fit  # use slope y_fit\n",
    "        # pre_corr_DA = (DS[data_var].sel(sample_name=sample_name, theta=theta)) - mean_value  # use slope y_fit\n",
    "\n",
    "        pre_corr_DA = pre_corr_DA.expand_dims({'sample_name': [pre_corr_DA.sample_name.data],\n",
    "                                               'theta': [pre_corr_DA.theta.data]})\n",
    "        pre_corr_DA = pre_corr_DA.assign_coords({'scan_id': ('theta', [pre_corr_DA.scan_id.data]),\n",
    "                                                 'sample_id': ('sample_name', [pre_corr_DA.sample_id.data])})     \n",
    "        \n",
    "        pre_corr_list.append(pre_corr_DA)\n",
    "\n",
    "        # Post edge\n",
    "        post_edge_mean = pre_corr_DA.sel(energy=post_edge_energy_slice).mean(dim=\"energy\")\n",
    "        full_corr_DA = pre_corr_DA / -np.abs(float(post_edge_mean))        \n",
    "        \n",
    "        full_corr_list.append(full_corr_DA)\n",
    "\n",
    "# Now reconstruct full dataarray and add to dataset created in prior cell\n",
    "corr_names = ['pre_corr_trmsn', 'full_corr_trmsn']\n",
    "# corr_names = ['pre_corr_tey', 'full_corr_tey']\n",
    "\n",
    "for i, corr_list in enumerate([pre_corr_list, full_corr_list]):\n",
    "# corr_names = ['pre_corr_trmsn']\n",
    "# for i, corr_list in enumerate([pre_corr_list]):\n",
    "    # First group by sample_name\n",
    "    grouped_by_sample = {}\n",
    "    for corr_DA in corr_list:\n",
    "        sample_name = corr_DA.sample_name.values[0]\n",
    "        if sample_name not in grouped_by_sample:\n",
    "            grouped_by_sample[sample_name] = []\n",
    "        grouped_by_sample[sample_name].append(corr_DA)\n",
    "\n",
    "    # Concatenate by theta for each sample_name\n",
    "    concat_by_theta = {}\n",
    "    for sample_name, group in grouped_by_sample.items():\n",
    "        concat_by_theta[sample_name] = xr.concat(group, dim=\"theta\")\n",
    "\n",
    "    # Finally, concatenate the result along the sample_name dimension\n",
    "    DS[corr_names[i]] = xr.concat(list(concat_by_theta.values()), dim=\"sample_name\")\n",
    "\n",
    "# DS['full_corr_trmsn'] = DS['full_corr_trmsn'] - DS.sel(sample_name='BareSiN_1p5mm_rot')['full_corr_trmsn']\n",
    "# DS['full_corr_trmsn'] = DS['full_corr_trmsn'] - DS.sel(sample_name='BareSiN_1mm_rot')['full_corr_trmsn']\n",
    "\n",
    "DS"
   ]
  },
  {
   "cell_type": "code",
   "execution_count": null,
   "id": "ed8e9d53-fb36-4feb-bbf4-ba5f5f4322c6",
   "metadata": {
    "tags": []
   },
   "outputs": [],
   "source": [
    "# nexafs_type = 'tey'\n",
    "nexafs_type = 'trmsn'\n",
    "edge = 'carbon'\n",
    "\n",
    "# energy_min = 387  # nitrogen\n",
    "# energy_max = 419.5  # nitrogen\n",
    "\n",
    "# energy_slice = slice(268, 340)\n",
    "energy_slice = slice(None, None)\n",
    "\n",
    "# energy_slice = slice(250,350) # carbon\n",
    "# energy_slice = slice(370, 440) # nitrogen\n",
    "# energy_slice = slice(396, 405) # nitrogen\n",
    "\n",
    "# Create the colormap\n",
    "colors = plt.cm.plasma_r(np.linspace(0.15, 1, len(DS.theta)))\n",
    "# colors = plt.cm.plasma(np.linspace(0, 0.85, len(DS.theta)))\n",
    "\n",
    "\n",
    "for sample_name in tqdm(DS.sample_name.values):\n",
    "    fig, axs = plt.subplots(2, 2)\n",
    "    fig.set(size_inches=(9, 6), dpi=120, tight_layout=True)\n",
    "    fig.suptitle(f'{nexafs_type} {edge}-edge NEXAFS: {sample_name}', fontsize=14)\n",
    "    # fig.suptitle(f'Transmission {edge}-edge NEXAFS: {sample_name}', fontsize=14)\n",
    "    # fig.suptitle(f'TEY {edge}-edge NEXAFS: {sample_name}', fontsize=14)\n",
    "\n",
    "    for i, theta_val in enumerate(DS.theta.values):\n",
    "        sliced_DS = DS.sel(energy=energy_slice, sample_name=sample_name, theta=theta_val)\n",
    "        sliced_DS[f'raw_{nexafs_type}'].plot.line(ax=axs[0,0], color=colors[i], label=f'{int(theta_val)}°')\n",
    "        sliced_DS[f'dnorm_{nexafs_type}'].plot.line(ax=axs[0,1], color=colors[i], label=f'{int(theta_val)}°')\n",
    "        sliced_DS[f'pre_corr_{nexafs_type}'].plot.line(ax=axs[1,0], color=colors[i], label=f'{int(theta_val)}°')\n",
    "        sliced_DS[f'full_corr_{nexafs_type}'].plot.line(ax=axs[1,1], color=colors[i], label=f'{int(theta_val)}°')\n",
    "        # ((sliced_DS[f'full_corr_{nexafs_type}'] / float(DS[f'full_corr_{nexafs_type}'].sel(\n",
    "        #                                           sample_name=sample_name, theta=theta_val, energy=slice(402,404)).mean('energy')))\n",
    "        #  .plot.line(ax=axs[1,1], color=colors[i], label=f'{int(theta_val)}°'))\n",
    "\n",
    "    axs[0,0].set(title='Raw beamstop diode current')\n",
    "    axs[0,1].set(title='Double-norm correction')\n",
    "    axs[1,0].set(title='Subtract pre-edge linear fit')\n",
    "    axs[1,1].set(title='Divide post-edge mean')\n",
    "    # axs[1,1].set(title='Divide post-edge mean & subtract SiN spectra')\n",
    "\n",
    "    # Optionally, add legends\n",
    "    axs[0,0].legend(title=r\"$\\theta$\", loc='upper right')\n",
    "    axs[0,1].legend(title=r\"$\\theta$\", loc='upper right')\n",
    "    axs[1,0].legend(title=r\"$\\theta$\", loc='upper right')\n",
    "    axs[1,1].legend(title=r\"$\\theta$\", loc='upper right')\n",
    "\n",
    "    savePath = outPath.joinpath(f'nexafs_plots/{nexafs_type}_{edge}_nexafs_all')\n",
    "    savePath.mkdir(exist_ok=True)\n",
    "    fig.savefig(savePath.joinpath(f'{sample_name}_energy{energy_slice.start}-{energy_slice.stop}.png'), dpi=120)\n",
    "\n",
    "    # plt.show()\n",
    "    plt.close('all')"
   ]
  },
  {
   "cell_type": "code",
   "execution_count": null,
   "id": "d1a655a7-7666-4299-9bf8-5f95b058decb",
   "metadata": {
    "tags": []
   },
   "outputs": [],
   "source": [
    "savePath"
   ]
  },
  {
   "cell_type": "markdown",
   "id": "034416f2-f8b1-4aa0-adf4-513c9de2f581",
   "metadata": {
    "tags": []
   },
   "source": [
    "### Save zarr"
   ]
  },
  {
   "cell_type": "code",
   "execution_count": null,
   "id": "169cd3ab-9a16-4810-b784-d915b7efb414",
   "metadata": {},
   "outputs": [],
   "source": [
    "# DS.to_zarr(zarrsPath.joinpath(f'TEY_{DS.name}.zarr'), mode='w')\n",
    "DS.to_zarr(zarrsPath.joinpath(f'TRMSN_{DS.name}.zarr'), mode='w')"
   ]
  },
  {
   "cell_type": "markdown",
   "id": "11cd5ff4-979c-4a24-ac27-616809080dc9",
   "metadata": {},
   "source": [
    "## Load nexafs zarr"
   ]
  },
  {
   "cell_type": "code",
   "execution_count": null,
   "id": "af6d45da-77a6-4b38-8519-2f408476a21d",
   "metadata": {
    "tags": []
   },
   "outputs": [],
   "source": [
    "plan_of_interest = 'nexafs_carbon'\n",
    "# loaded_DS = xr.open_zarr(zarrsPath.joinpath(f'TEY_{plan_of_interest}.zarr'))\n",
    "loaded_DS = xr.open_zarr(zarrsPath.joinpath(f'TRMSN_{plan_of_interest}.zarr'))\n",
    "# loaded_DS = xr.open_zarr(zarrsPath.joinpath(f'PEY_{plan_of_interest}.zarr'))\n",
    "\n",
    "# Compute any dask coordiantes\n",
    "for coord_name, coord_data in loaded_DS.coords.items():\n",
    "    if isinstance(coord_data.data, da.Array):\n",
    "        loaded_DS.coords[coord_name] = coord_data.compute()\n",
    "\n",
    "DS = loaded_DS.copy().assign_coords({'cos_sq_theta': ('theta', ((np.cos(np.deg2rad(loaded_DS.theta)))**2).data)})\n",
    "DS"
   ]
  },
  {
   "cell_type": "code",
   "execution_count": null,
   "id": "6e122239-26f0-4657-a251-5581c8de6114",
   "metadata": {},
   "outputs": [],
   "source": [
    "# DS.sel(sample_name='Y6_CFCN_rot')['full_corr_trmsn'].plot(hue='theta')\n",
    "# plt.show()"
   ]
  },
  {
   "cell_type": "markdown",
   "id": "89221c90-aeb6-4cf0-907c-3b0564fa5e9c",
   "metadata": {
    "tags": []
   },
   "source": [
    "### Plot normalized NEXAFS"
   ]
  },
  {
   "cell_type": "code",
   "execution_count": null,
   "id": "e458d995-ae76-4515-bf0d-103f34e1d834",
   "metadata": {
    "tags": []
   },
   "outputs": [],
   "source": [
    "nexafs_type = 'trmsn'\n",
    "# nexafs_type = 'tey'\n",
    "\n",
    "edge = 'carbon'\n",
    "\n",
    "# energy_min = 396  # nitrogen\n",
    "# energy_max = 405  # nitrogen\n",
    "energy_slice = slice(270, 330)  # carbon\n",
    "\n",
    "colors = plt.cm.plasma_r(np.linspace(0.15,1,len(DS.theta)))\n",
    "# colors = plt.cm.plasma(np.linspace(0,0.85,len(DS.theta)))\n",
    "\n",
    "for sample_name in tqdm(DS.sample_name.values):\n",
    "    fig, ax = plt.subplots(figsize=(7,3.5), dpi=120, tight_layout=True)\n",
    "    for i, theta_val in enumerate(DS.theta.values):\n",
    "        (DS[f'full_corr_{nexafs_type}'].sel(sample_name=sample_name, theta=theta_val, energy=energy_slice)\n",
    "                                       .plot.line(ax=ax, color=colors[i], label=f'{int(theta_val)}°'))\n",
    "\n",
    "    # fig.suptitle(f'Double normalized TEY NEXAFS: {sample_name}', x=0.53)\n",
    "    # fig.suptitle(f'Double normalized transmission NEXAFS: {sample_name}', x=0.53)\n",
    "    fig.suptitle(f'Double normalized {nexafs_type} NEXAFS: {sample_name}', x=0.53)\n",
    "    ax.set(title='Pre-edge linear fit subtracted & post-edge mean normalized', xlabel='X-ray Energy [eV]', ylabel='Normalized NEXAFS [arb. units]')\n",
    "    ax.legend(title=r'$\\theta$')\n",
    "\n",
    "    savePath = outPath.joinpath(f'nexafs_plots/{nexafs_type}_{edge}_nexafs_full_corr')\n",
    "    savePath.mkdir(exist_ok=True)\n",
    "    fig.savefig(savePath.joinpath(f'{sample_name}_energy{energy_slice.start}-{energy_slice.stop}.png'), dpi=120)\n",
    "    \n",
    "    # plt.show()\n",
    "    plt.close('all')"
   ]
  },
  {
   "cell_type": "markdown",
   "id": "29566ddf-00d5-426c-8f9f-33b7b41b8e63",
   "metadata": {
    "tags": []
   },
   "source": [
    "#### Optionally run molecular tilt fit"
   ]
  },
  {
   "cell_type": "code",
   "execution_count": null,
   "id": "79d82402-9396-4191-b9b3-ae8234ae4da4",
   "metadata": {
    "tags": []
   },
   "outputs": [],
   "source": [
    "# Run Stöhr 9.16a tilt fit on energy region of NEXAFS\n",
    "edge = 'carbon'\n",
    "# nexafs_type = 'tey'\n",
    "nexafs_type = 'trmsn'\n",
    "\n",
    "for e_min, e_max in [(283.5, 285.3), (283.5, 285.5), (284, 286)]:  # carbon peak area bounds\n",
    "    for sample_name in tqdm(DS.sample_name.values, desc=f'{e_min}to{e_max} bounds'):\n",
    "        nf_DA = DS[f'full_corr_{nexafs_type}'].sel(sample_name=sample_name)\n",
    "\n",
    "        pi_peak_areas = nf.int_area(e_min, e_max, nf_DA)\n",
    "\n",
    "        bnds = [(0, 90), (0, 20)]\n",
    "        res = optimize.differential_evolution(\n",
    "            nf.mse_line_tilt, bounds=bnds, args=(pi_peak_areas, nf_DA.theta.values), tol=1e-6)\n",
    "\n",
    "        alpha, const = res.x\n",
    "\n",
    "        # Plot intensities from Stöhr 9.16a (scaled with fitted constant) as line\n",
    "        # along with measured pi_peak_areas, x-axis is cos_sq_theta:\n",
    "        fig, axs = plt.subplots(ncols=2, figsize=(10,4.5), dpi=120, tight_layout=True)\n",
    "        fig.suptitle(str(nf_DA.sample_name.values), y=1.03, fontsize=14)\n",
    "        axs[0].plot(nf_DA.cos_sq_theta.values[:], const * nf.i_nexafs(alpha, nf_DA.theta.values[:]),\n",
    "                marker='o', label=f'Stöhr 9.16a: ($\\\\alpha$={np.round(alpha,2)}, const={np.round(const,2)})',\n",
    "                clip_on=False, zorder=3)\n",
    "        axs[0].plot(nf_DA.cos_sq_theta.values[:], pi_peak_areas[:], marker='o',\n",
    "                label=f'NEXAFS integrated areas', clip_on=False, zorder=4)\n",
    "        axs[0].set(title='Peak fit', xlabel=r'$cos^2(\\theta)$', ylabel='Intensity [arb. units]')\n",
    "        axs[0].set_xticks(nf_DA.cos_sq_theta.values, minor=True)\n",
    "        axs[0].set_xlim(left=0)\n",
    "        axs[0].legend()\n",
    "\n",
    "        # Add secondary axis showing theta values:\n",
    "        def forward(x):\n",
    "            return np.arccos(np.sqrt(x)) * 180 / np.pi\n",
    "\n",
    "        def inverse(x):\n",
    "            return np.cos(x * np.pi / 180)**2\n",
    "\n",
    "        ax2 = axs[0].secondary_xaxis(-0.23, functions=(forward, inverse))\n",
    "        ax2.set(xlabel=r'$\\theta$ [$\\degree$]')\n",
    "        ax2.set_xticks(nf_DA.theta.values)\n",
    "\n",
    "\n",
    "        colors = plt.cm.plasma_r(np.linspace(0.15,1,len(nf_DA.theta)))\n",
    "        for i, theta_val in enumerate(nf_DA.theta.values):\n",
    "            (nf_DA.sel(theta=theta_val, energy=slice(282, 292))\n",
    "            # (nf_DA.sel(theta=theta_val, energy=slice(396, 405))\n",
    "                   .plot.line(ax=axs[1], color=colors[i], label=f'{int(theta_val)}°'))\n",
    "\n",
    "        axs[1].axvline(e_min, color='grey')\n",
    "        axs[1].axvline(e_max, color='grey')\n",
    "        axs[1].set(title=f'{nexafs_type} NEXAFS, peak area bounds {e_min} to {e_max}', xlabel='X-ray Energy [eV]', ylabel='Normalized NEXAFS [arb. units]')\n",
    "        axs[1].legend(title=r'$\\theta$ [$\\degree$]', loc='upper left')\n",
    "        \n",
    "        savePath = outPath.joinpath(f'nexafs_plots/{nexafs_type}_{edge}_tilt_fit')\n",
    "        savePath.mkdir(exist_ok=True)\n",
    "        fig.savefig(savePath.joinpath(f'{sample_name}_energy{e_min}-{e_max}.png'), dpi=120)\n",
    "\n",
    "        # plt.show()\n",
    "        plt.close('all')"
   ]
  },
  {
   "cell_type": "markdown",
   "id": "ee351006-fb72-4849-86fc-1d7a8d149c3d",
   "metadata": {
    "tags": []
   },
   "source": [
    "### Calculate optical constants & binary contrasts"
   ]
  },
  {
   "cell_type": "markdown",
   "id": "b75321ac-869b-44c4-9065-41db587eef0e",
   "metadata": {},
   "source": [
    "#### Define functions & chemical formulas "
   ]
  },
  {
   "cell_type": "code",
   "execution_count": null,
   "id": "fb7be0cf-49cf-4763-bbc4-e0fa9c4cb71c",
   "metadata": {
    "tags": []
   },
   "outputs": [],
   "source": [
    "# Define function to calculate binary contrast\n",
    "def binary_contrast(n1, n2=None):\n",
    "    if n2 is None:\n",
    "        #second component is vacuum\n",
    "        n2 = xr.zeros_like(n1)\n",
    "    else:\n",
    "        #second is interpolated to match the energy array of the first component.  \n",
    "        n2 = n2.interp(energy=n1.energy)\n",
    "    return n1.energy**4 * ((n1.delta-n2.delta)**2 + (n1.beta-n2.beta)**2)\n",
    "\n",
    "# Add chemical formulas as coordinate along 'sample_name' dimension\n",
    "# Define necessary formula stoichiometries\n",
    "Y6_formula = 'C82H86F4N8O2S5'\n",
    "Y7_formula = 'C82H86Cl4N8O2S5'\n",
    "PM6_formula = 'C68H76F2O2S8'\n",
    "PM7_formula = 'C68H76Cl2O2S8'\n",
    "\n",
    "# Make dictionary of sample_name keys and formula values\n",
    "chemical_formulas = {}\n",
    "for sample_name in DS.sample_name.values:\n",
    "    if 'Y6_' in sample_name or 'A1_' in sample_name or 'A2_' in sample_name or 'A3_' in sample_name:\n",
    "        chemical_formulas[sample_name] = Y6_formula\n",
    "    elif 'Y7_' in sample_name:\n",
    "        chemical_formulas[sample_name] = Y7_formula\n",
    "    elif 'PM6_' in sample_name:\n",
    "        chemical_formulas[sample_name] = PM6_formula\n",
    "    elif 'PM7_' in sample_name:\n",
    "        chemical_formulas[sample_name] = PM7_formula\n",
    "    elif 'PM6-Y6_' in sample_name:\n",
    "        chemical_formulas[sample_name] = Y6_formula+PM6_formula\n",
    "    elif 'PM6-Y7_' in sample_name:\n",
    "        chemical_formulas[sample_name] = PM6_formula+Y7_formula\n",
    "    elif 'PM7-Y6_' in sample_name:\n",
    "        chemical_formulas[sample_name] = PM7_formula+Y6_formula\n",
    "    elif 'PM7-Y7_' in sample_name:\n",
    "        chemical_formulas[sample_name] = PM7_formula+Y7_formula\n",
    "    elif 'BareS' in sample_name:\n",
    "        chemical_formulas[sample_name] = 'SiN'\n",
    "    else: \n",
    "        chemical_formulas[sample_name] = 'AlO'\n",
    "\n",
    "# Assign coordinate\n",
    "# DS = DS.assign_coords({'chemical_formula': ('sample_name', names2formula(DS.sample_name.values))})\n",
    "DS = DS.assign_coords({'chemical_formula': ('sample_name', list(map(lambda x: chemical_formulas[x], DS.sample_name.values)))})\n",
    "\n",
    "DS"
   ]
  },
  {
   "cell_type": "markdown",
   "id": "1d56717c-ba5e-44bc-b35e-bcace8b555a1",
   "metadata": {
    "tags": []
   },
   "source": [
    "#### Generate optical constants dataset"
   ]
  },
  {
   "cell_type": "code",
   "execution_count": null,
   "id": "48fa1321-1032-4401-a38f-b3815819788b",
   "metadata": {
    "tags": []
   },
   "outputs": [],
   "source": [
    "# Calculate optical constants via kkcalc\n",
    "# Also calculate vacuum contrast\n",
    "nexafs_type = 'tey'\n",
    "\n",
    "x_min = 525\n",
    "x_max = 555\n",
    "\n",
    "n_list = []\n",
    "for sample_name in tqdm(DS.sample_name.values):\n",
    "    nf_DA = DS[f'full_corr_{nexafs_type}'].sel(sample_name=sample_name)\n",
    "    chemical_formula = str(nf_DA.chemical_formula.values)\n",
    "    n = nf.run_kkcalc_a(nf_DA, x_min=x_min, x_max=x_max, chemical_formula=chemical_formula, density=1.1)\n",
    "    n = n.expand_dims({'sample_name':[sample_name]})\n",
    "    n_list.append(n)\n",
    "    \n",
    "n_DS = xr.concat(n_list, dim='sample_name')\n",
    "n_DS = n_DS.swap_dims({'cos_sq_theta':'theta'})\n",
    "n_DS['vacuum_contrast'] = binary_contrast(n_DS)\n",
    "n_DS"
   ]
  },
  {
   "cell_type": "markdown",
   "id": "84c895a7-2a43-4e02-8002-6454d1b7a987",
   "metadata": {},
   "source": [
    "#### Plot optical constants and vacuum contrasts"
   ]
  },
  {
   "cell_type": "code",
   "execution_count": null,
   "id": "6b9c3595-34fd-41e1-a14d-dec747f08c29",
   "metadata": {
    "tags": []
   },
   "outputs": [],
   "source": [
    "# Plot optical constants and vacuum contrast for each sample \n",
    "\n",
    "# Set energy bounds and theta\n",
    "nexafs_type = 'tey'\n",
    "energy_min = 520\n",
    "energy_max = 560\n",
    "energy_slice = slice(energy_min, energy_max) # carbon\n",
    "theta = 55\n",
    "# theta = 90\n",
    "\n",
    "# Plotting loop\n",
    "for sample_name in tqdm(n_DS.sample_name.values):\n",
    "    fig, axs = plt.subplots(ncols=2, figsize=(12,4), tight_layout=True)\n",
    "    fig.suptitle(f'{sample_name}: magic angle optical constants & vacuum contrast from transmission NEXAFS', fontsize=14, x=0.53)\n",
    "    n_DS['delta'].sel(sample_name=sample_name, theta=theta, energy=energy_slice).plot.line(ax=axs[0], label=r'$\\delta$')\n",
    "    n_DS['beta'].sel(sample_name=sample_name, theta=theta, energy=energy_slice).plot.line(ax=axs[0], label=r'$\\beta$')\n",
    "    n_DS['vacuum_contrast'].sel(sample_name=sample_name, theta=theta, energy=energy_slice).plot.line(ax=axs[1], yscale='log')\n",
    "    axs[0].legend()\n",
    "    axs[0].set(title=r'Optical Constants, $\\theta = 55°$', xlabel='X-ray energy [eV]', ylabel='Optical Constants Value [arb. units]')\n",
    "    axs[1].set(title=r'Vacuum Binary Contrast, $\\theta = 55°$', xlabel='X-ray energy [eV]', ylabel='Contrast [arb. units]')\n",
    "    fig.savefig(outPath.joinpath(f'nexafs_plots/{nexafs_type}_oxygen_magic_constants', f'{sample_name}_energy{energy_min}-{energy_max}.png'), dpi=120)\n",
    "    plt.show()\n",
    "    plt.close('all')"
   ]
  },
  {
   "cell_type": "markdown",
   "id": "7c87f76c-f75a-455f-b7b8-9e11373bcd54",
   "metadata": {},
   "source": [
    "#### Plot binary contrasts"
   ]
  },
  {
   "cell_type": "code",
   "execution_count": null,
   "id": "72113fc3-f6e9-4283-9923-6cdbb961cf37",
   "metadata": {
    "tags": []
   },
   "outputs": [],
   "source": [
    "# Define sample_name pairs to plot binary contrast for\n",
    "# pairs = [\n",
    "#     ('PM6_3000_dSiN_R', 'Y6_3000_dSiN_R'),\n",
    "#     ('PM6_3000_dSiN_R', 'Y6_2000_dSiN_R'),    \n",
    "#     ('PM6_3000_dSiN_R', 'Y7_3000_dSiN_R'),    \n",
    "#     ('PM6_3000_dSiN_R', 'Y7_2000_dSiN_R'),    \n",
    "#     ('PM7_3000_dSiN_R', 'Y6_3000_dSiN_R'),\n",
    "#     ('PM7_3000_dSiN_R', 'Y6_2000_dSiN_R'),    \n",
    "#     ('PM7_3000_dSiN_R', 'Y7_3000_dSiN_R'),    \n",
    "#     ('PM7_3000_dSiN_R', 'Y7_2000_dSiN_R') \n",
    "# ]\n",
    "\n",
    "pairs = [\n",
    "    ('PM6_Si', 'Y6_Si'),\n",
    "    ('PM6_Si', 'Y7_Si'),    \n",
    "    ('PM7_Si', 'Y6_Si'),\n",
    "    ('PM7_Si', 'Y7_Si'),    \n",
    "]\n",
    "\n",
    "# Set energy bounds and select theta\n",
    "nexafs_type = 'tey_oxygen'\n",
    "energy_min = 525\n",
    "energy_max = 555\n",
    "energy_slice = slice(energy_min, energy_max)\n",
    "theta = 55\n",
    "\n",
    "# Plotting loop\n",
    "for pair in tqdm(pairs):\n",
    "    fig, ax = plt.subplots(figsize=(7,4), dpi=120, tight_layout=True)\n",
    "    (binary_contrast(n_DS.sel(sample_name=pair[0]), n_DS.sel(sample_name=pair[1]))\n",
    "     .sel(theta=theta, energy=energy_slice)\n",
    "     .plot.line(ax=ax, yscale='log'))\n",
    "    ax.set(title=f'Magic angle binary contrast: {pair[0]}:{pair[1]}', ylabel='Contrast [arb. units]', xlabel='X-ray energy [eV]')\n",
    "    plt.show()\n",
    "    fig.savefig(outPath.joinpath(f'nexafs_plots/{nexafs_type}_magic_binary_contrasts', f'{pair[0]}-{pair[1]}_energy{energy_min}-{energy_max}.png'), dpi=120)\n",
    "    plt.close('all')"
   ]
  },
  {
   "cell_type": "markdown",
   "id": "f06376e3-a954-4243-aa7c-55c18bd3f802",
   "metadata": {},
   "source": [
    "This dielectric function, pretty though it is, still isn't sufficient even to describe the unaxial function of the measured NEXAFS. That is because the extraordinary part of the dielectric function could only be measured by the NEXAFS measurement at $\\theta=0$°. There is no experimental geometry that allows $\\theta=0$°, so it must be extrapolated.\n",
    "\n",
    "Intensity should be linear with $cos^2\\theta$, so we will fit the nexafs xarray to it. The below xr.polyfit function creates a linear fit function <em>at every energy</em> in the nexafs curve."
   ]
  },
  {
   "cell_type": "markdown",
   "id": "2c566cbd-e09e-4c6d-933c-542db0ed1daa",
   "metadata": {
    "tags": []
   },
   "source": [
    "# Other code:"
   ]
  },
  {
   "cell_type": "code",
   "execution_count": null,
   "id": "c319dfaa-5de0-4a25-9cc7-06810f6a6970",
   "metadata": {},
   "outputs": [],
   "source": [
    "# # Peter D's kkcalc function for numpy arrays:\n",
    "# from kkcalc import data\n",
    "# from kkcalc import kk\n",
    "# import numpy as np\n",
    "\n",
    "# def calculate_deltabeta(spectra_e, spectra_abs, chemform, density):\n",
    "#     # Parse chemical formula and calculate formula mass\n",
    "#     stoichiometry = kk.data.ParseChemicalFormula(chemform)\n",
    "#     formula_mass = data.calculate_FormulaMass(stoichiometry)\n",
    "\n",
    "#     # Calculate Atomic Scattering Factors from Henke Database\n",
    "#     ASF_E, ASF_Data = kk.data.calculate_asf(stoichiometry)\n",
    "#     ASF_Data2 = kk.data.coeffs_to_ASF(ASF_E, np.vstack((ASF_Data, ASF_Data[-1])))\n",
    "\n",
    "#     # Merge Henke data with NEXAFS\n",
    "#     merged = data.merge_spectra(np.column_stack((spectra_e, spectra_abs)), ASF_E, ASF_Data, merge_points=(270,340), add_background=False, fix_distortions=False, plotting_extras=True)\n",
    "\n",
    "#     # Calculate relativistic correction\n",
    "#     correction = kk.calc_relativistic_correction(stoichiometry)\n",
    "\n",
    "#     # Calculate real component of ASF from merged data\n",
    "#     real = kk.KK_PP(merged[2][:,0], merged[0], merged[1], correction)\n",
    "\n",
    "    \n",
    "#     # Conversion to delta and beta\n",
    "#     delta = data.convert_data(np.column_stack((merged[2][:,0],real)),'ASF','refractive_index', Density=density, Formula_Mass=formula_mass)\n",
    "#     beta = data.convert_data(merged[2],'ASF','refractive_index', Density=density, Formula_Mass=formula_mass)\n",
    "    \n",
    "#     return delta, beta"
   ]
  },
  {
   "cell_type": "code",
   "execution_count": null,
   "id": "f06fea75-a084-46f1-bd13-f5fa032304b1",
   "metadata": {
    "tags": []
   },
   "outputs": [],
   "source": [
    "# nexafs_fit = nexafs.electron_yield.polyfit('cos_sq_θ', 1)\n",
    "# new_θ = np.array([0, 30, 40, 55, 70, 90])\n",
    "# new_cos_sq_θ = (np.cos(new_θ*np.pi/180))**2\n",
    "# nexafs_ep = nf.evaluate_nexafs_fit(nexafs, nexafs_fit, new_cos_sq_θ, new_θ)"
   ]
  },
  {
   "cell_type": "markdown",
   "id": "7733fb84-194e-42f3-a2ae-daf8c1e00635",
   "metadata": {},
   "source": [
    "Now that we have a fit at every energy, we'd like to evaluate it. The current xarray implementation of xr.polyval is 'clunky,' to put it mildly.<br>\n",
    "This function wraps the polyval evaluation and returns a clean nexafs dataset with appropriate metadata. This may be updated or replaced for future versions of xarray.<br>\n",
    "<ul>nexafs is the original nexafs dataset<br>\n",
    "nexafs_fit is returned from the polyfit as above<br>\n",
    "new_cos_sq_θ is an array-like argument of cos_sq_θ values where you want the fit to be evaluated<br>\n",
    "new_θ is an array-like argument of θ values to assign to those results<br></ul>"
   ]
  },
  {
   "cell_type": "code",
   "execution_count": null,
   "id": "fb48f6b5-c2d1-40da-b249-6a45912bb47c",
   "metadata": {
    "tags": []
   },
   "outputs": [],
   "source": [
    "# fig, ax1 = plt.subplots(figsize=(8,4))\n",
    "# #the xarray way of plotting\n",
    "# colors = plt.cm.plasma(np.linspace(0,1,nexafs_ep.θ.size))\n",
    "# colors2 = plt.cm.winter(np.linspace(0,1,nexafs.θ.size))\n",
    "# for i, cos_sq_θ in enumerate(nexafs_ep.cos_sq_θ): \n",
    "#     nexafs_ep.electron_yield.sel(cos_sq_θ=cos_sq_θ).plot(color = colors[i], lw = 2, label = f'extrapolated {nexafs_ep.θ[i].values}°')\n",
    "# for i, cos_sq_θ in enumerate(nexafs.cos_sq_θ): \n",
    "#     nexafs.electron_yield.sel(cos_sq_θ=cos_sq_θ).plot(color = colors2[i], lw = 1, label = f'original {nexafs.θ[i].values}°')\n",
    "# plt.title(nexafs.description)\n",
    "# ax1.set_xlim(280,315)\n",
    "# ax1.legend(loc='lower right')\n",
    "# # plt.savefig(exportPath.joinpath(f'{nexafs_ep.name}_nexafs_theta_extrap.svg'))\n",
    "# plt.show()"
   ]
  },
  {
   "cell_type": "markdown",
   "id": "21b7e193-10ed-4142-b058-58522740127d",
   "metadata": {},
   "source": [
    "Note that the extrapolated 90° is very close by the original 90° (this is good. it should be identical), and the extrapolated 0° has a somewhat higher pi* than the original 20°\n",
    "\n",
    "The extrapolated NEXAFS can be the basis of a uniaxial dielectric function that represents material at the voxel level that is oriented the same as the material in the film.\n",
    "\n",
    "Note that extrapolation in this manner is mathematically identical to applying a weighted difference spectrum to calculate the expectation at θ=0°. In fact it is superior because difference spectra are typically between two different θ, whereas this linear extrapolation uses all the θ information. We will exploit this sameness more later when extrapolating to the molecular frame. "
   ]
  },
  {
   "cell_type": "code",
   "execution_count": null,
   "id": "e5053b62-2bf9-4a6d-8b08-fbd1f7b927df",
   "metadata": {
    "tags": []
   },
   "outputs": [],
   "source": [
    "# #formula should be correct for Y6. density is a guess.\n",
    "# n_ep = nf.run_kkcalc_a(nexafs_ep, x_min = 280, x_max = 340, chemical_formula = 'C82H86F4N8O2S5', density = 1.1)\n",
    "# nf.show_diel(280, 315, n_ep)"
   ]
  },
  {
   "cell_type": "code",
   "execution_count": null,
   "id": "204cd947-86ab-473b-802b-78dfa3ea7830",
   "metadata": {
    "tags": []
   },
   "outputs": [],
   "source": [
    "# #save data to a txt file in a format that could be imported into CyRSoXS\n",
    "# #note that 0° is extraordinary and 90° is ordinary as those are the θ values where the measurement only perceives one or the other.\n",
    "# # the order of the columns is thus the order described below\n",
    "# np.savetxt('y6_extrap.txt',  np.c_[\n",
    "#     n_ep.energy, \n",
    "#     n_ep.δ.sel(cos_sq_θ=1, method = 'nearest').values, #extraordinary, para\n",
    "#     n_ep.β.sel(cos_sq_θ=1, method = 'nearest').values, #extraordinary, para\n",
    "#     n_ep.δ.sel(cos_sq_θ=0, method = 'nearest').values, #ordinary, perp\n",
    "#     n_ep.β.sel(cos_sq_θ=0, method = 'nearest').values]) #ordinary, perp"
   ]
  },
  {
   "cell_type": "markdown",
   "id": "32faa019-9183-4f30-9fcb-114893ad0bad",
   "metadata": {
    "jp-MarkdownHeadingCollapsed": true,
    "tags": []
   },
   "source": [
    "## Extrapolating to a \"molecular\" dielectric function.\n",
    "But there is more we can do. The molecules at the voxel level may not be limited to the orientation extremes measured on a whole-film basis. The whole film represents an ensemble and is likely never similar to what an individual molecule or voxel is capable of unless it is sigle crystal like highly oriented pyrolytic graphite (HOPG). To develop a \"molecular\" dielectric function, we must manipulate the NEXAFS beyond what was measured. \n",
    "\n",
    "This manipulation requires making an assumption about how one or more resonances should behave with energy; implicit in this assumption is typically an assumption about the conformation of the molecule.\n",
    "\n",
    "For this exercise we will assume that the molecule Y6 has a rigid and planar conjugated structure, such that the pi* resonances should follow Stohr 9.16a for $\\alpha=0$°\n"
   ]
  },
  {
   "cell_type": "markdown",
   "id": "7db7753b-8d23-4cc3-9e46-352a4d7db0a1",
   "metadata": {},
   "source": [
    "The function below develops a mean squared error for the area between e_min and e_max for a specific extrapolation of the nexafs curves, and a target area. The target area will be developed from our knowledge of how I should vary with $\\alpha$ and $\\theta$ described above.<br>\n",
    "Note there is an additional contributor to mse below: if the extrapolation produces negative values for absorbance it imposes a stiff penalty because such values are unphysical."
   ]
  },
  {
   "cell_type": "code",
   "execution_count": null,
   "id": "79c259fa-6990-4f3a-b7a8-809b2b81fb09",
   "metadata": {
    "tags": []
   },
   "outputs": [],
   "source": [
    "def mse(cos_sq_θ, e_min, e_max, nexafs, nexafs_fit, targ):\n",
    "    #compose new extrapolated nexafs based on proposed cos_sq_θ \n",
    "    nexafs_new = nf.evaluate_nexafs_fit(nexafs, nexafs_fit, [cos_sq_θ[0]], [0])\n",
    "    #evaluate the difference in area between the extrapolated nexafs and the taget targ\n",
    "    mse = (nf.int_area(e_min, e_max, nexafs_new)-targ)**2\n",
    "    minval = nexafs_new.sel(energy = slice(e_min,e_max)).electron_yield.min().values\n",
    "    if minval < 0: #impose penalty for negative absorbance values\n",
    "        mse = 1E10*mse*(-minval)\n",
    "    return mse"
   ]
  },
  {
   "cell_type": "markdown",
   "id": "8f4431f1-ad69-436f-a812-15456e39dc4d",
   "metadata": {},
   "source": [
    "For our first fit, we will attempt to make the pi* manifold absorbance zero; this would correspond to $\\alpha=0, \\theta=90$°"
   ]
  },
  {
   "cell_type": "code",
   "execution_count": null,
   "id": "4606c6be-a842-4463-8372-40cbfc771eea",
   "metadata": {
    "tags": []
   },
   "outputs": [],
   "source": [
    "#these are integration bounds; we will extrapolate to \"perfect\" values of integrated intensity within these bounds\n",
    "#which bound you choose will adjust the result slightly.\n",
    "e_min = 283\n",
    "e_max = 287\n",
    "res = optimize.differential_evolution(mse, [(-1, 1)], args = (e_min, e_max, nexafs, nexafs_fit, 0), tol=1e-6)\n",
    "cos_sq_θ_mol_o = float(res.x)"
   ]
  },
  {
   "cell_type": "markdown",
   "id": "b9d46766-d042-4004-b29c-d633ec50bc2a",
   "metadata": {},
   "source": [
    "For the next fit, we will attempt to make the pi* manifold maximized to correspond to $\\alpha=0, \\theta=0$°.<br> For a perfectly oriented $\\alpha = 0$° molecule, the target would be exactly 3x the magic intensity. But our fit prefers some small amount of intensity so that absorbance doesn't go below zero. We will instead determine our target using the math above:<br><br>\n",
    "$\\displaystyle\\frac{I(90) - I(54.7)}{I(0) - I(54.7)} = \\frac{\\frac{1}{3}[1+(3cos^2\\alpha-1)]-\\frac{1}{3}}{\\frac{1}{3}[1-\\frac{1}{2}(3cos^2\\alpha-1)] - \\frac{1}{3}} =-2$\n"
   ]
  },
  {
   "cell_type": "code",
   "execution_count": null,
   "id": "9adfe361-b3d3-40e8-9b9e-6277e82e1a5d",
   "metadata": {
    "tags": []
   },
   "outputs": [],
   "source": [
    "magic_int = nf.int_area(e_min, e_max, nf.evaluate_nexafs_fit(nexafs, nexafs_fit, [0.329], [0]))\n",
    "ord_int = nf.int_area(e_min, e_max, nf.evaluate_nexafs_fit(nexafs, nexafs_fit, [cos_sq_θ_mol_o], [0]))\n",
    "e_targ = magic_int + 2*(magic_int-ord_int)\n",
    "#For perfectly face on, the extraordinary intensity should be exactly 3x magic intensity\n",
    "res = optimize.minimize(mse, 1, method='Nelder-Mead', args = (e_min, e_max, nexafs, nexafs_fit, e_targ), tol=1e-6)\n",
    "cos_sq_θ_mol_e = float(res.x)"
   ]
  },
  {
   "cell_type": "code",
   "execution_count": null,
   "id": "63e9f274-dda2-4b64-bfc9-5e26b36cb52d",
   "metadata": {
    "tags": []
   },
   "outputs": [],
   "source": [
    "mol_fits = [cos_sq_θ_mol_e, cos_sq_θ_mol_o]"
   ]
  },
  {
   "cell_type": "code",
   "execution_count": null,
   "id": "e895b248-6796-4ac0-923b-bdb69f39ba74",
   "metadata": {
    "tags": []
   },
   "outputs": [],
   "source": [
    "nexafs_mol = nf.evaluate_nexafs_fit(nexafs, nexafs_fit, mol_fits, [0, 90])"
   ]
  },
  {
   "cell_type": "code",
   "execution_count": null,
   "id": "19fa35e1-9608-485c-8e81-84837df5d422",
   "metadata": {
    "tags": []
   },
   "outputs": [],
   "source": [
    "nf.show_nexafs(280,315, nexafs_mol, exportPath, save=False, savename=f'{sample}_nexafs_alpha_theta_extrap.svg')"
   ]
  },
  {
   "cell_type": "markdown",
   "id": "1a87519b-67b0-495c-b393-a4a70d1dca14",
   "metadata": {},
   "source": [
    "The NEXAFS looks fairly reasonable with this extrapolation.<br><br>Calculate dielectric functions next:"
   ]
  },
  {
   "cell_type": "code",
   "execution_count": null,
   "id": "82ab4020-dd8d-49db-9a41-f4855e2f3e60",
   "metadata": {
    "tags": []
   },
   "outputs": [],
   "source": [
    "n_mol = nf.run_kkcalc_a(nexafs_mol, x_min = 281, x_max = 340, chemical_formula = PM6_formula, density = 1.1)"
   ]
  },
  {
   "cell_type": "code",
   "execution_count": null,
   "id": "d16a9d30-e4ea-4dae-b4d4-83d0750cfd09",
   "metadata": {
    "tags": []
   },
   "outputs": [],
   "source": [
    "nf.show_diel(280, 315, n_mol, save=True, savepath=optsPath)"
   ]
  },
  {
   "cell_type": "markdown",
   "id": "e9e76623-2c23-4166-90b1-0b5353854c6f",
   "metadata": {},
   "source": [
    "This is the dielectric function extrapolated to \"perfect\" molecular orientation."
   ]
  },
  {
   "cell_type": "code",
   "execution_count": null,
   "id": "547504c2-2af6-499f-9049-12efcf082113",
   "metadata": {
    "tags": []
   },
   "outputs": [],
   "source": [
    "#save data to a txt file in a format that could be imported into CyRSoXS\n",
    "#note that 0° is extraordinary and 90° is ordinary as those are the θ values where the measurement only perceives one or the other.\n",
    "# the order of the columns is thus the order described below\n",
    "np.savetxt(optsPath.joinpath(f'{sample}_molecular.txt'),  np.c_[\n",
    "    n_mol.energy, \n",
    "    n_mol.δ.sel(cos_sq_θ=cos_sq_θ_mol_e, method = 'nearest').values, #extraordinary, para\n",
    "    n_mol.β.sel(cos_sq_θ=cos_sq_θ_mol_e, method = 'nearest').values, #extraordinary, para\n",
    "    n_mol.δ.sel(cos_sq_θ=cos_sq_θ_mol_o, method = 'nearest').values, #ordinary, perp\n",
    "    n_mol.β.sel(cos_sq_θ=cos_sq_θ_mol_o, method = 'nearest').values]) #ordinary, perp"
   ]
  },
  {
   "cell_type": "markdown",
   "id": "afb63d9b-dee7-45ae-8c7c-03a288110f72",
   "metadata": {},
   "source": [
    "## Contrast: vacuum contrast vs. oriented manifold\n",
    "\n",
    "Because the Y6 dielectric function is anisotropic, there is not a single vacuum contrast but rather a series of contrasts depending on the mixing of the ordinary and extraordinary dielectric function elements. Otherwise the calculation is identical to the calculation discussed in Part 1."
   ]
  },
  {
   "cell_type": "code",
   "execution_count": null,
   "id": "b60cef32-dbd2-45b3-aaf2-3d4b7430d6f8",
   "metadata": {},
   "outputs": [],
   "source": [
    "n_DS.sel(theta=55, energy=slice(280,295))['delta'].plot.line(label=r'$\\delta$')\n",
    "n_DS.sel(theta=55, energy=slice(280,295))['beta'].plot.line(label=r'$\\beta$')\n",
    "plt.legend()\n",
    "plt.show()"
   ]
  },
  {
   "cell_type": "code",
   "execution_count": null,
   "id": "faee9b30-efa1-4e52-b619-069277628f6e",
   "metadata": {},
   "outputs": [],
   "source": [
    "binary_contrast(n_DS).sel(theta=55, energy=slice(280,295)).plot.line(yscale='log')"
   ]
  },
  {
   "cell_type": "code",
   "execution_count": null,
   "id": "42fcb75a-e29f-4326-8536-78a8102fa3a4",
   "metadata": {
    "tags": []
   },
   "outputs": [],
   "source": [
    "#this wrapper function is the same as described in Part 1\n",
    "#this will accept and return xarrays\n",
    "def binary_contrast(n1, n2=None):\n",
    "    if n2 is None:\n",
    "        #second component is vacuum\n",
    "        n2 = xr.zeros_like(n1)\n",
    "    else:\n",
    "        #second is interpolated to match the energy array of the first component.  \n",
    "        n2 = n2.interp(energy=n1.energy)\n",
    "    return n1.energy**4 * ((n1.delta-n2.delta)**2 + (n1.beta-n2.beta)**2)"
   ]
  },
  {
   "cell_type": "code",
   "execution_count": null,
   "id": "d6e8fd3b-c8b7-4c1a-a526-4ad61d514f37",
   "metadata": {
    "tags": []
   },
   "outputs": [],
   "source": [
    "#develop a finely-divided list of extrapolation values between the limits we fitted to above\n",
    "cos_sq_0_spread = np.linspace(cos_sq_θ_mol_e, cos_sq_θ_mol_o, 50)\n",
    "#extrapolate across this finely-divided list of extrapolation values\n",
    "nexafs_mol_spread = nf.evaluate_nexafs_fit(nexafs, nexafs_fit, cos_sq_0_spread, cos_sq_0_spread)\n",
    "#run kkcalc on each of the extrapolated functions\n",
    "y6_mol_spread = nf.run_kkcalc_a(nexafs_mol_spread, x_min = 280, x_max = 315, chemical_formula = 'C82H86F4N8O2S5', density = 1.1)\n",
    "#calculate binary contrast for the ensemble. Note that xarray will automatically broadcast across cos_sq_0 without prompting\n",
    "n_mol_vac_c = binary_contrast(y6_mol_spread)"
   ]
  },
  {
   "cell_type": "code",
   "execution_count": null,
   "id": "a4988c55-0d9d-4f5f-9867-3a00761cb7ce",
   "metadata": {
    "tags": []
   },
   "outputs": [],
   "source": [
    "#plot the contrasts\n",
    "xmin = 270\n",
    "xmax = 320\n",
    "fig, (ax1, ax2) = plt.subplots(nrows=2, ncols=1, figsize=(8,8))\n",
    "#xarray way of adding to a plot\n",
    "colors = plt.cm.plasma(np.linspace(0,0.9,n_mol_vac_c.θ.size))\n",
    "for i, cos_sq_θ in enumerate(n_mol_vac_c.cos_sq_θ): \n",
    "    n_mol_vac_c.sel(cos_sq_θ=cos_sq_θ).plot(color = colors[i], lw = 3, ax=ax1)\n",
    "ax1.set_xlim(xmin, xmax)\n",
    "ax1.set_title(f'{sample} contrast with vacuum')\n",
    "ymin = n_mol_vac_c.sel(energy=slice(xmin,xmax)).min()\n",
    "ymax = n_mol_vac_c.sel(energy=slice(xmin,xmax)).max()\n",
    "ax1.set_ylim(ymin*0.75,ymax*1.2)\n",
    "ax1.set_yscale('log')\n",
    "ax1.set_ylabel('contrast')\n",
    "\n",
    "# plt.title(f'{sample} contrast with vacuum')\n",
    "\n",
    "# plt.savefig(f'{sample}_vacuum_contrast.svg')\n",
    "\n",
    "\n",
    "# cb = mpl.colorbar.ColorbarBase(ax2, cmap=plt.cm.plasma)\n",
    "\n",
    "\n",
    "\n",
    "plt.show()\n",
    "# plt.close()"
   ]
  },
  {
   "cell_type": "markdown",
   "id": "fc037806-4c9d-4a55-a50f-436ed9334b8e",
   "metadata": {},
   "source": [
    "This envelope properly describes the possibilities for vacuum contrast with Y6.\n",
    "## NEXAFS and anisotropic dielectric function for PM6\n",
    "Repeat the process for PM6:"
   ]
  },
  {
   "cell_type": "code",
   "execution_count": null,
   "id": "1522accb-9a47-49bc-8979-2dce7b0e8fd9",
   "metadata": {},
   "outputs": [],
   "source": [
    "# pey= np.loadtxt(exportPath.joinpath('PM6_normed_nexafs.txt')).T\n",
    "\n",
    "# # wrap in an xarray\n",
    "# # we have a different array of angles here than for Y6\n",
    "\n",
    "# θ_val = np.array([30, 40, 55, 70, 90])\n",
    "\n",
    "# nexafs = xr.Dataset(\n",
    "#     data_vars=dict(\n",
    "#     electron_yield=(['cos_sq_θ', 'energy'], pey[1:])),\n",
    "#     coords={'cos_sq_θ': np.cos(θ_val*np.pi/180)**2, 'θ': ('cos_sq_θ', θ_val), 'energy' : pey[0]},\n",
    "#     attrs=dict(description='PM6 NEXAFS'),\n",
    "# )\n",
    "# nexafs.energy.attrs['unit'] = 'eV'\n",
    "# nexafs['electron_yield'].attrs['unit'] = 'a.u.'\n",
    "# nexafs['θ'].attrs['unit'] = '°'"
   ]
  },
  {
   "cell_type": "code",
   "execution_count": null,
   "id": "215e9eea-2e9c-4729-90d8-66baf13e7115",
   "metadata": {},
   "outputs": [],
   "source": [
    "sample = 'PM6'\n",
    "nexafs = load_nexafs(exportPath.joinpath(f'{sample}_normed_nexafs.txt'), np.array([30,40,55,70,90]))"
   ]
  },
  {
   "cell_type": "code",
   "execution_count": null,
   "id": "fa063d5f-f42d-443b-9a2f-8b16e6be4e28",
   "metadata": {},
   "outputs": [],
   "source": [
    "show_nexafs(280, 315, nexafs)"
   ]
  },
  {
   "cell_type": "markdown",
   "id": "0e0863a1-a42f-466e-b90e-13a8abeb2bec",
   "metadata": {},
   "source": [
    "It is only subtly oriented. We can fit as before:"
   ]
  },
  {
   "cell_type": "code",
   "execution_count": null,
   "id": "469f816d-7b49-4e2b-9577-0b36129bcba5",
   "metadata": {},
   "outputs": [],
   "source": [
    "show_nexafs(284, 286, nexafs)"
   ]
  },
  {
   "cell_type": "code",
   "execution_count": null,
   "id": "7d9194e3-d592-484c-8386-9d1a74b11e18",
   "metadata": {},
   "outputs": [],
   "source": [
    "e_min = 284\n",
    "e_max = 286\n",
    "pi_peak_areas =  int_area(e_min, e_max, nexafs)\n",
    "θ_list = θ_val\n",
    "\n",
    "bnds= [(0,90),(0,10)]\n",
    "res = optimize.differential_evolution(mse_line, bounds=bnds, args = (pi_peak_areas,θ_list) ,tol=1e-6)\n",
    "print(res.x)"
   ]
  },
  {
   "cell_type": "markdown",
   "id": "42a96c38-177f-4eeb-a2b6-8a99c2e2c111",
   "metadata": {},
   "source": [
    "We find that there is a subtle \"edge on\" orientation with $\\alpha=58.1$°<br>\n",
    "We can run the same linear fit at each energy:"
   ]
  },
  {
   "cell_type": "code",
   "execution_count": null,
   "id": "93879fd6-9280-4308-bfb1-1f2817923a46",
   "metadata": {},
   "outputs": [],
   "source": [
    "nexafs_fit = nexafs.electron_yield.polyfit('cos_sq_θ', 1)"
   ]
  },
  {
   "cell_type": "markdown",
   "id": "f20ef74e-3e23-4387-a683-14cf9ce8e4d3",
   "metadata": {},
   "source": [
    "We now must choose extrapolation targets. The consideration is different this time because this PM6 is preferentially edge on. It is not correct to \"flip\" a measured NEXAFS from edge to face because it is not possible to separate the 2 contributors to the ordinary axis. So we will extrapolate this NEXAFS to \"perfect\" edge on behavior. Thus for the extraordinary axis, we would expect zero pi* intensity:  "
   ]
  },
  {
   "cell_type": "code",
   "execution_count": null,
   "id": "f76cdc94-cbe7-4693-ad55-43496589efd4",
   "metadata": {},
   "outputs": [],
   "source": [
    "#these are integration bounds; we will extrapolate to \"perfect\" values of integrated intensity within these bounds\n",
    "#which bound you choose will adjust the result slightly.\n",
    "e_min = 284\n",
    "e_max = 286\n",
    "res = optimize.differential_evolution(mse, [(-5, 5)], args = (e_min, e_max, nexafs, nexafs_fit, 0), tol=1e-6)\n",
    "cos_sq_θ_mol_e = float(res.x)"
   ]
  },
  {
   "cell_type": "markdown",
   "id": "45d7b51f-beb7-4b59-9786-d9e9b50db791",
   "metadata": {},
   "source": [
    "The ordinary axis intensity is once again guided by our distance relationship between magic and the extremes. In this case the difference is halved rather than doubled because we started with extraordinary rather than ordinary."
   ]
  },
  {
   "cell_type": "code",
   "execution_count": null,
   "id": "3ce6fa0c-8693-4eb3-8d92-2f255b10e420",
   "metadata": {},
   "outputs": [],
   "source": [
    "#For perfectly face on, the extraordinary intensity should be exactly 3x magic intensity\n",
    "magic_int = int_area(e_min, e_max, evaluate_nexafs_fit(nexafs, nexafs_fit, [0.329], [0]))\n",
    "extra_int = int_area(e_min, e_max, evaluate_nexafs_fit(nexafs, nexafs_fit, [cos_sq_θ_mol_e], [0]))\n",
    "\n",
    "e_targ = magic_int + 0.5*(magic_int-ord_int)\n",
    "res = optimize.minimize(mse, 1, method='Nelder-Mead', args = (e_min, e_max, nexafs, nexafs_fit, e_targ), tol=1e-6)\n",
    "cos_sq_θ_mol_o = float(res.x)"
   ]
  },
  {
   "cell_type": "code",
   "execution_count": null,
   "id": "fd722ac6-598e-4130-955c-f5f102a79719",
   "metadata": {},
   "outputs": [],
   "source": [
    "mol_fits = [cos_sq_θ_mol_e, cos_sq_θ_mol_o]"
   ]
  },
  {
   "cell_type": "code",
   "execution_count": null,
   "id": "77c0c998-956d-4d19-8eba-ff6e9062fbb9",
   "metadata": {},
   "outputs": [],
   "source": [
    "nexafs_mol = evaluate_nexafs_fit(nexafs, nexafs_fit, mol_fits, [0, 90])"
   ]
  },
  {
   "cell_type": "code",
   "execution_count": null,
   "id": "3c8c8d84-4759-4121-b570-36245e54fbdc",
   "metadata": {},
   "outputs": [],
   "source": [
    "show_nexafs(280,315, nexafs_mol, save=True, savename=f'{sample}_alpha_theta_extrap.svg')"
   ]
  },
  {
   "cell_type": "markdown",
   "id": "5ca197d9-6c74-4efa-93db-a3b3f9810c0e",
   "metadata": {},
   "source": [
    "This also looks fairly reasonable! If we want a face-on dielectic function for PM6, it would be best to attempt to cast a film having this orientation and measure it.<br><br>\n",
    "We can evaluate and save the PM6 edge-on dielectric function as follows:"
   ]
  },
  {
   "cell_type": "code",
   "execution_count": null,
   "id": "f661183c-2a8c-4ffd-bdb4-013d3039aea4",
   "metadata": {},
   "outputs": [],
   "source": [
    "#formula should be correct for Y6. density is a guess.\n",
    "n_mol = run_kkcalc_a(nexafs_mol, x_min = 280, x_max = 315, chemical_formula = 'C68H76F2O2S8', density = 1.1)"
   ]
  },
  {
   "cell_type": "code",
   "execution_count": null,
   "id": "9c68acd0-b252-4d59-b666-e55dd913e783",
   "metadata": {},
   "outputs": [],
   "source": [
    "show_diel(280, 315, n_mol, save=True)"
   ]
  },
  {
   "cell_type": "code",
   "execution_count": null,
   "id": "9ab423ec-6741-47b1-9140-a583908a875e",
   "metadata": {},
   "outputs": [],
   "source": [
    "#save data to a txt file in a format that could be imported into CyRSoXS\n",
    "#note that 0° is extraordinary and 90° is ordinary as those are the θ values where the measurement only perceives one or the other.\n",
    "# the order of the columns is thus the order described below\n",
    "np.savetxt('pm6_molecular.txt',  np.c_[\n",
    "    n_ep.energy, \n",
    "    n_ep.δ.sel(cos_sq_θ=cos_sq_θ_mol_e, method = 'nearest').values, #extraordinary, para\n",
    "    n_ep.β.sel(cos_sq_θ=cos_sq_θ_mol_e, method = 'nearest').values, #extraordinary, para\n",
    "    n_ep.δ.sel(cos_sq_θ=cos_sq_θ_mol_o, method = 'nearest').values, #ordinary, perp\n",
    "    n_ep.β.sel(cos_sq_θ=cos_sq_θ_mol_o, method = 'nearest').values]) #ordinary, perp"
   ]
  },
  {
   "cell_type": "markdown",
   "id": "be87dad9-63a0-44f9-911f-4391208c34b0",
   "metadata": {},
   "source": [
    "Just as before, run extrapolation finely divided within fit extremes. "
   ]
  },
  {
   "cell_type": "code",
   "execution_count": null,
   "id": "2c9bcd2b-ddbb-4adb-9f97-9b50035c728c",
   "metadata": {},
   "outputs": [],
   "source": [
    "cos_sq_0_spread = np.linspace(cos_sq_θ_mol_e, cos_sq_θ_mol_o, 50)\n",
    "pm6_mol_spread = evaluate_nexafs_fit(nexafs, nexafs_fit, cos_sq_0_spread, cos_sq_0_spread)\n",
    "#guessing on PM6 density\n",
    "pm6_mol_spread = run_kkcalc_a(pm6_mol_spread, x_min = 280, x_max = 315, chemical_formula = 'C68H76F2O2S8', density = 1.1)\n",
    "#calculate binary contrast for the ensemble. Note that xarray will automatically broadcast across cos_sq_0 without prompting\n",
    "n_mol_vac_c = binary_contrast(pm6_mol_spread)"
   ]
  },
  {
   "cell_type": "markdown",
   "id": "826adb67-f5e7-4d6c-8c5e-452a865584c4",
   "metadata": {},
   "source": [
    "This time, the contrast is <em>combinatorial</em> across the extrapolated values. In other words, any orientation of Y6 may scatter versus any orientation of PM6. We calculate the combintorial contrast below: "
   ]
  },
  {
   "cell_type": "code",
   "execution_count": null,
   "id": "ce7ec2ae-1b2c-46a7-94bd-25672644cb34",
   "metadata": {
    "tags": []
   },
   "outputs": [],
   "source": [
    "#plot the contrasts\n",
    "xmin = 270\n",
    "xmax = 320\n",
    "fig, ax1 = plt.subplots(figsize=(8,4))\n",
    "#xarray way of adding to a plot\n",
    "colors = plt.cm.plasma(np.linspace(0,0.9,n_mol_vac_c.θ.size))\n",
    "for i, cos_sq_θ in enumerate(n_mol_vac_c.cos_sq_θ): \n",
    "    n_mol_vac_c.sel(cos_sq_θ=cos_sq_θ).plot(color = colors[i], lw = 3)\n",
    "ax1.set_xlim(xmin, xmax)\n",
    "ymin = n_mol_vac_c.sel(energy=slice(xmin,xmax)).min()\n",
    "ymax = n_mol_vac_c.sel(energy=slice(xmin,xmax)).max()\n",
    "ax1.set_ylim(ymin*0.75,ymax*1.2)\n",
    "ax1.set_yscale('log')\n",
    "ax1.set_ylabel('contrast')\n",
    "plt.title(f'{sample} contrast with vacuum')\n",
    "plt.savefig(f'{sample}_vacuum_contrast.svg')\n",
    "plt.show()\n",
    "plt.close()"
   ]
  },
  {
   "cell_type": "code",
   "execution_count": null,
   "id": "b91f057f-0b11-47dc-a529-44dac9a415b6",
   "metadata": {
    "tags": []
   },
   "outputs": [],
   "source": [
    "n_mol_c = []\n",
    "for cos_sq_θ in y6_mol_spread.cos_sq_θ:\n",
    "    n_mol_c.append(binary_contrast(y6_mol_spread.sel(cos_sq_θ=cos_sq_θ, method = 'nearest').drop('cos_sq_θ'), pm6_mol_spread))\n",
    "n_mol_c = xr.concat(n_mol_c, 'cos_sq_θ_y6')"
   ]
  },
  {
   "cell_type": "code",
   "execution_count": null,
   "id": "ac110e9e-d18c-41f2-8e22-4cc535564f55",
   "metadata": {},
   "outputs": [],
   "source": [
    "#this code finds the max and min of the combinatorial contrast at each energy.\n",
    "c_max = n_mol_c.max('cos_sq_θ_y6')\n",
    "c_max = c_max.max('cos_sq_θ')\n",
    "c_min = n_mol_c.min('cos_sq_θ_y6')\n",
    "c_min = c_min.min('cos_sq_θ')\n",
    "c_magic = n_mol_c.sel(cos_sq_θ_y6=33).sel(cos_sq_θ=0.3333, method = 'nearest')"
   ]
  },
  {
   "cell_type": "code",
   "execution_count": null,
   "id": "26de86f9-ef46-4e4a-91ff-7d7194a5b24c",
   "metadata": {},
   "outputs": [],
   "source": [
    "fig, ax1 = plt.subplots()\n",
    "#xarray way of adding to a plot\n",
    "# colors = plt.cm.plasma(np.linspace(0,1,n_mol_vac_c.θ.size))\n",
    "c_max.plot(color = 'xkcd:pale aqua', lw = 3,label = 'max contrast in orientation envelope')\n",
    "c_min.plot(color = 'navy', lw = 3, label = 'min contrast in orientation envelope')\n",
    "c_magic.plot(color='yellow', lw = 3, label = 'magic angle (composition) contrast')\n",
    "ax1.fill_between(c_max.energy.values, c_max.values, c_min.values, color = 'xkcd:royal')\n",
    "ax1.set_xlim(xmin, xmax)\n",
    "ymax = c_max.max()\n",
    "ax1.set_ylim(10,ymax*1.2)\n",
    "ax1.set_yscale('log')\n",
    "ax1.set_ylabel('contrast')\n",
    "plt.title('Y6 contrast with PM6')\n",
    "plt.legend()\n",
    "plt.show()"
   ]
  },
  {
   "cell_type": "markdown",
   "id": "fbffe8d8-d51a-4e2c-84b0-58a1e7970330",
   "metadata": {},
   "source": [
    "The combinatorial contrast is a function of both Y6 orientation and PM6 orientation. The variation with PM6 orientation is shown on the figure below. The variation with Y6 orientation is handled via slider."
   ]
  },
  {
   "cell_type": "code",
   "execution_count": null,
   "id": "51132a35-dc30-4f11-85ce-ce476bf202b2",
   "metadata": {
    "tags": []
   },
   "outputs": [],
   "source": [
    "from ipywidgets import interact, widgets, Layout\n",
    "\n",
    "def f(y6_diel):\n",
    "    fig, ax1 = plt.subplots()\n",
    "    #xarray way of adding to a plot\n",
    "    colors = plt.cm.plasma(np.linspace(0,1,n_mol_vac_c.θ.size))\n",
    "    for j, cos_sq_θ in enumerate(n_mol_c.cos_sq_θ):\n",
    "        n_mol_c.sel(cos_sq_θ_y6=y6_diel).sel(cos_sq_θ=cos_sq_θ).plot(color = colors[j], lw = 3)\n",
    "    ax1.set_xlim(xmin, xmax)\n",
    "    ymin = n_mol_c.sel(energy=slice(xmin,xmax)).min()\n",
    "    ymax = n_mol_c.sel(energy=slice(xmin,xmax)).max()\n",
    "    ax1.set_ylim(10,ymax*1.2)\n",
    "    ax1.set_yscale('log')\n",
    "    ax1.set_ylabel('contrast')\n",
    "    plt.title('Y6 contrast with PM6')\n",
    "    fig.canvas.draw()\n",
    "\n",
    "interact(f, y6_diel=widgets.SelectionSlider(options=n_mol_c.cos_sq_θ_y6,value=n_mol_c.cos_sq_θ_y6.values[0],  layout=Layout(width='40%')))"
   ]
  },
  {
   "cell_type": "markdown",
   "id": "9ac7ee87-b696-4726-b5e7-2829cbca0bed",
   "metadata": {},
   "source": [
    "What does this mean?\n",
    "\n",
    "The two different representations above define the binary scattering contrasts that are <em>possible</em> in this PM6:Y6 blend, if we don't consider vacuum scattering. It's even broader if we do consider vacuum scattering! Any number of these traces, in any weighted combination, could contribute to the total scattering intensity (TSI) or \"scattering invariant\" that you measure in a PM6:Y6 system experimentally. \n",
    "\n",
    "A key takeaway is that it is essentially impossible to choose an energy at which the TSI will be dominated by <em>composition</em> with no orientation effects. This conclusion tends to be ignored in the analysis that is routinely done in OPV systems as measure of \"relative phase purity.\" Going forward, it is important for the community to understand that orientation effects are likely present in these measurements, and there very likely scenarios where they <em>dominate</em> the response. Rather than being a \"bad thing\" for the technique, this conclusion emphasizes its unique sensitivity to molecular orientation. \n",
    "\n",
    "Frameworks to disentangle orientation effects from composition effects are under development. One demonstrated approach is to model data using the NIST RSoXS Simulation Suite:\n",
    "https://github.com/usnistgov/nrss\n",
    "\n",
    "...creating models that have both composition and orientation fluctuations and fitting those models to RSoXS data at several energies.\n"
   ]
  }
 ],
 "metadata": {
  "kernelspec": {
   "display_name": "Python 3 (ipykernel)",
   "language": "python",
   "name": "python3"
  },
  "language_info": {
   "codemirror_mode": {
    "name": "ipython",
    "version": 3
   },
   "file_extension": ".py",
   "mimetype": "text/x-python",
   "name": "python",
   "nbconvert_exporter": "python",
   "pygments_lexer": "ipython3",
   "version": "3.11.6"
  }
 },
 "nbformat": 4,
 "nbformat_minor": 5
}
