{
 "cells": [
  {
   "cell_type": "markdown",
   "id": "0",
   "metadata": {},
   "source": [
    "# 2024C1: Plotting SST1 RSoXS Data"
   ]
  },
  {
   "cell_type": "markdown",
   "id": "1",
   "metadata": {
    "tags": []
   },
   "source": [
    "## Imports"
   ]
  },
  {
   "cell_type": "code",
   "execution_count": null,
   "id": "2",
   "metadata": {
    "tags": []
   },
   "outputs": [],
   "source": [
    "# !pip install -e /nsls2/users/alevin/repos/PyHyperScattering  # to use pip to install via directory"
   ]
  },
  {
   "cell_type": "code",
   "execution_count": null,
   "id": "3",
   "metadata": {
    "tags": []
   },
   "outputs": [],
   "source": [
    "## Imports\n",
    "import PyHyperScattering as phs\n",
    "import pathlib\n",
    "import sys\n",
    "import io\n",
    "import ast\n",
    "import json\n",
    "import datetime\n",
    "import dask.array as da\n",
    "import numpy as np\n",
    "import pandas as pd\n",
    "import xarray as xr\n",
    "import matplotlib.pyplot as plt\n",
    "from matplotlib.colors import LogNorm\n",
    "from tqdm.auto import tqdm\n",
    "import dask.array as da\n",
    "# from tiled.client import from_profile, from_uri\n",
    "import subprocess\n",
    "\n",
    "\n",
    "print(f'Using PyHyperScattering Version: {phs.__version__}')"
   ]
  },
  {
   "cell_type": "code",
   "execution_count": null,
   "id": "4",
   "metadata": {
    "tags": []
   },
   "outputs": [],
   "source": [
    "from matplotlib.ticker import (MultipleLocator, AutoMinorLocator)"
   ]
  },
  {
   "cell_type": "markdown",
   "id": "5",
   "metadata": {
    "tags": []
   },
   "source": [
    "## Define paths and functions"
   ]
  },
  {
   "cell_type": "code",
   "execution_count": null,
   "id": "6",
   "metadata": {
    "tags": []
   },
   "outputs": [],
   "source": [
    "def make_para_perp_DAs(DS, sample_name, intensity_type, pol, qlims, chi_width):\n",
    "    # select dataarray to plot\n",
    "    DA = DS.sel(sample_name=sample_name)[f'{intensity_type}_intensity']\n",
    "    sliced_DA = DA.sel(polarization=pol, q=slice(qlims[0],qlims[1]))\n",
    "\n",
    "    # calculate ISI dataarrays\n",
    "    if pol==0:\n",
    "        para_DA = sliced_DA.rsoxs.slice_chi(180, chi_width=(chi_width/2))\n",
    "        perp_DA = sliced_DA.rsoxs.slice_chi(90, chi_width=(chi_width/2))\n",
    "    elif pol==45:\n",
    "        para_DA = sliced_DA.rsoxs.slice_chi(-135, chi_width=(chi_width/2))\n",
    "        perp_DA = sliced_DA.rsoxs.slice_chi(135, chi_width=(chi_width/2))        \n",
    "    elif pol==90:\n",
    "        perp_DA = sliced_DA.rsoxs.slice_chi(180, chi_width=(chi_width/2))\n",
    "        para_DA = sliced_DA.rsoxs.slice_chi(90, chi_width=(chi_width/2))   \n",
    "        \n",
    "    return para_DA, perp_DA"
   ]
  },
  {
   "cell_type": "code",
   "execution_count": null,
   "id": "7",
   "metadata": {
    "tags": []
   },
   "outputs": [],
   "source": [
    "## Define directory paths\n",
    "# userPath = pathlib.Path('/nsls2/users/alevin')\n",
    "propPath = pathlib.Path('/nsls2/data/sst/proposals/2024-1/pass-313412')\n",
    "\n",
    "outPath = propPath.joinpath('processed_data')\n",
    "plotsPath = outPath.joinpath('rsoxs_plots')\n",
    "# jsonPath = outPath.joinpath('local_config')\n",
    "maskPath = outPath.joinpath('masks')\n",
    "zarrsPath = outPath.joinpath('rsoxs_zarrs')\n",
    "\n",
    "\n",
    "# propPath = pathlib.Path('/nsls2/data/sst/proposals/2022-2/pass-309180')\n",
    "# zarrsPath = propPath.joinpath('zarr_datasets_jul2022')\n",
    "# outPath = propPath.joinpath('processed_data')\n",
    "# plotsPath = outPath.joinpath('prsoxs_plots')"
   ]
  },
  {
   "cell_type": "raw",
   "id": "0db7af53-d1f3-4017-8317-e82e66d236a2",
   "metadata": {},
   "source": [
    "rclone --dry-run copy -P /nsls2/data/sst/proposals/2024-1/pass-313412/processed_data/rsoxs_plots/rsoxs_carbon remote:research/data_analysis/rsoxs_suite/prsoxs_plots/2024C1/rsoxs_carbon --exclude '*checkpoint*'"
   ]
  },
  {
   "cell_type": "markdown",
   "id": "8",
   "metadata": {
    "tags": []
   },
   "source": [
    "## Load DataArrays "
   ]
  },
  {
   "cell_type": "code",
   "execution_count": null,
   "id": "9",
   "metadata": {
    "tags": []
   },
   "outputs": [],
   "source": [
    "[f.name for f in zarrsPath.glob('*')]"
   ]
  },
  {
   "cell_type": "code",
   "execution_count": null,
   "id": "10",
   "metadata": {
    "tags": []
   },
   "outputs": [],
   "source": [
    "# load dictionary of rsoxs datasets\n",
    "rsoxs_datasets = {}\n",
    "for key in ['cartesian_1180', 'polar_1180']:\n",
    "# for key in ['polar_carbon']:\n",
    "    key_start = key.split('_')[0]\n",
    "    key_end = key.split('_')[1]        \n",
    "    zarrPath = list(zarrsPath.glob(f'{key_start}*{key_end}.zarr'))[0]\n",
    "    rsoxs_datasets[key] = xr.open_zarr(zarrPath).sortby('sample_name')\n",
    "    \n",
    "    # Compute any dask coordiantes\n",
    "    for coord_name, coord_data in rsoxs_datasets[key].coords.items():\n",
    "        if isinstance(coord_data.data, da.Array):\n",
    "            rsoxs_datasets[key].coords[coord_name] = coord_data.compute()"
   ]
  },
  {
   "cell_type": "code",
   "execution_count": null,
   "id": "11",
   "metadata": {
    "tags": []
   },
   "outputs": [],
   "source": [
    "rsoxs_datasets = {}\n",
    "rsoxs_datasets['polar_carbon'] = xr.open_zarr(zarrsPath.joinpath('polar_rsoxs_carbon_v2.zarr'))\n",
    "rsoxs_datasets['cartesian_carbon'] = xr.open_zarr(zarrsPath.joinpath('cartesian_rsoxs_carbon_v1.zarr'))\n",
    "rsoxs_datasets['polar_carbon_reverse'] = xr.open_zarr(zarrsPath.joinpath('polar_rsoxs_carbon_reverse_v1.zarr'))\n",
    "rsoxs_datasets['cartesian_carbon_reverse'] = xr.open_zarr(zarrsPath.joinpath('cartesian_rsoxs_carbon_reverse_v1.zarr'))\n",
    "rsoxs_datasets['polar_carbon_tilted'] = xr.open_zarr(zarrsPath.joinpath('polar_rsoxs_carbon_tilted_v1.zarr'))\n",
    "rsoxs_datasets['cartesian_carbon_tilted'] = xr.open_zarr(zarrsPath.joinpath('cartesian_rsoxs_carbon_tilted_v1.zarr'))\n",
    "\n",
    "# Compute any dask coordiantes\n",
    "for key in rsoxs_datasets.keys():\n",
    "    for coord_name, coord_data in rsoxs_datasets[key].coords.items():\n",
    "        if isinstance(coord_data.data, da.Array):\n",
    "            rsoxs_datasets[key].coords[coord_name] = coord_data.compute()"
   ]
  },
  {
   "cell_type": "code",
   "execution_count": null,
   "id": "13",
   "metadata": {
    "tags": []
   },
   "outputs": [],
   "source": [
    "DS = rsoxs_datasets['cartesian_carbon_reverse']"
   ]
  },
  {
   "cell_type": "code",
   "execution_count": null,
   "id": "14",
   "metadata": {
    "tags": []
   },
   "outputs": [],
   "source": [
    "DS"
   ]
  },
  {
   "cell_type": "code",
   "execution_count": null,
   "id": "15",
   "metadata": {
    "tags": []
   },
   "outputs": [],
   "source": [
    "# sorted([f.name for f in zarrsPath.glob('TRMSN*nexafs*')])"
   ]
  },
  {
   "cell_type": "code",
   "execution_count": null,
   "id": "16",
   "metadata": {
    "tags": []
   },
   "outputs": [],
   "source": [
    "# trmsn_4angle = xr.open_zarr(zarrsPath.joinpath('TRMSN_nexafs_carbon_day1.zarr'))\n",
    "# trmsn_3angle = xr.open_zarr(zarrsPath.joinpath('TRMSN_nexafs_carbon_3angle.zarr'))\n",
    "\n",
    "# trmsn_90_part1 = trmsn_4angle.sel(theta=90)\n",
    "# trmsn_90_part2 = trmsn_3angle.sel(theta=90)\n",
    "\n",
    "# trmsn90 = xr.concat([trmsn_90_part1, trmsn_90_part2], dim='sample_name')\n",
    "# trmsn90"
   ]
  },
  {
   "cell_type": "code",
   "execution_count": null,
   "id": "17",
   "metadata": {},
   "outputs": [],
   "source": [
    "# polar_netcdf_paths = str(zarrsPath.joinpath('polar_rsoxs_carbon_ncs')) + '/*.nc'\n",
    "# polar_netcdf_paths"
   ]
  },
  {
   "cell_type": "code",
   "execution_count": null,
   "id": "18",
   "metadata": {
    "tags": []
   },
   "outputs": [],
   "source": [
    "# # rsoxs_datasets = {}\n",
    "# # rsoxs_datasets['polar_carbon'] = xr.open_mfdataset(polar_netcdf_paths, parallel=True)\n",
    "# rsoxs_datasets['polar_carbon'] = xr.open_mfdataset(polar_netcdf_paths)\n",
    "# rsoxs_datasets['polar_carbon']"
   ]
  },
  {
   "cell_type": "code",
   "execution_count": null,
   "id": "19",
   "metadata": {
    "tags": []
   },
   "outputs": [],
   "source": [
    "trmsn90_sample_names = []\n",
    "for sample_name in trmsn90.sample_name.values:\n",
    "    trmsn90_sample_names.append(sample_name.replace('_rot', ''))\n",
    "    \n",
    "display(trmsn90_sample_names)"
   ]
  },
  {
   "cell_type": "code",
   "execution_count": null,
   "id": "20",
   "metadata": {},
   "outputs": [],
   "source": [
    "bad_trmsn_samples = ['Y6_CBCN', 'Y6BO_CBCN', 'Y6BO_CFCN','Y7_CB_2000', 'Y7_CB_2000_1', 'Y7_CBCN', 'Y7_CFCN', \n",
    "                     'Y7BO_CFCN', 'BareSiN_1p5mm', 'BareSiN_1mm', 'BareSiN_1mm_1', 'BareSiN_1mm_2']"
   ]
  },
  {
   "cell_type": "code",
   "execution_count": null,
   "id": "21",
   "metadata": {
    "tags": []
   },
   "outputs": [],
   "source": [
    "selected_samples = [sample_name for sample_name in rsoxs_datasets['polar_carbon'].sample_name.values if sample_name not in bad_trmsn_samples]\n",
    "selected_samples"
   ]
  },
  {
   "cell_type": "code",
   "execution_count": null,
   "id": "22",
   "metadata": {
    "tags": []
   },
   "outputs": [],
   "source": [
    "for sample_name in selected_samples:\n",
    "    print(sample_name)\n",
    "    sample_name = sample_name.replace('_1', '')\n",
    "    print(sample_name in trmsn90_sample_names)\n",
    "    print('\\n')"
   ]
  },
  {
   "cell_type": "code",
   "execution_count": null,
   "id": "23",
   "metadata": {},
   "outputs": [],
   "source": [
    "trmsn90_DA = trmsn90['full_corr_trmsn']\n",
    "# pre_edge_mean = trmsn90_DA.sel(energy=slice(270,280)).mean('energy')\n",
    "# trmsn90_DA = (trmsn90_DA - pre_edge_mean) * -1\n",
    "\n",
    "trmsn90_DA"
   ]
  },
  {
   "cell_type": "code",
   "execution_count": null,
   "id": "24",
   "metadata": {
    "tags": []
   },
   "outputs": [],
   "source": [
    "for sample_name in trmsn90_DA.sample_name.values:\n",
    "    trmsn90_DA.sel(sample_name=sample_name).plot()\n",
    "    plt.show()"
   ]
  },
  {
   "cell_type": "code",
   "execution_count": null,
   "id": "25",
   "metadata": {},
   "outputs": [],
   "source": [
    "polar_DS = rsoxs_datasets['polar_carbon']\n",
    "trmsn90_DA = trmsn90_DA.interp({'energy': polar_DS.energy.values})\n",
    "# polar_DS"
   ]
  },
  {
   "cell_type": "code",
   "execution_count": null,
   "id": "26",
   "metadata": {},
   "outputs": [],
   "source": [
    "polar_DS['corr_intensity']"
   ]
  },
  {
   "cell_type": "code",
   "execution_count": null,
   "id": "27",
   "metadata": {
    "tags": []
   },
   "outputs": [],
   "source": [
    "trmsn90_samp_DA.drop_vars(['sample_id', 'sample_name', 'theta', 'scan_id'])"
   ]
  },
  {
   "cell_type": "code",
   "execution_count": null,
   "id": "28",
   "metadata": {
    "tags": []
   },
   "outputs": [],
   "source": [
    "fl_bkg_DA"
   ]
  },
  {
   "cell_type": "code",
   "execution_count": null,
   "id": "29",
   "metadata": {
    "tags": []
   },
   "outputs": [],
   "source": [
    "fl_bkgs = []\n",
    "trmsn90_bkgs = []\n",
    "\n",
    "for sample_name in tqdm(selected_samples):\n",
    "    polar_samp_DA = polar_DS['corr_intensity'].sel(sample_name=sample_name)\n",
    "    fl_bkg_DA = 1 * polar_samp_DA.sel(polarization=0,q=slice(0.02, 0.06)).mean('chi').integrate('q')\n",
    "    fl_bkgs.append(fl_bkg_DA)\n",
    "    # fl_bkg_DA.plot()\n",
    "    # plt.show()\n",
    "    \n",
    "    trmsn90_samp_DA = trmsn90_DA.sel(sample_name=(sample_name.replace('_1','')+'_rot')).drop_vars(['sample_id', 'sample_name', 'theta', 'scan_id'])\n",
    "    trmsn90_samp_DA = trmsn90_samp_DA.expand_dims({'sample_name':[sample_name]})\n",
    "    trmsn90_bkgs.append(trmsn90_samp_DA)\n",
    "#     trmsn90_samp_DA.plot()\n",
    "#     plt.show()\n",
    "    \n",
    "#     plt.close('all')\n",
    "        "
   ]
  },
  {
   "cell_type": "code",
   "execution_count": null,
   "id": "30",
   "metadata": {},
   "outputs": [],
   "source": [
    "# DS['alo_sub_raw_intensity'] = DS['raw_intensity'] - DS['raw_intensity'].sel(sample_name='BareAlO')\n",
    "# DS['alo_sub_corr_intensity'] = DS['corr_intensity'] - DS['corr_intensity'].sel(sample_name='BareAlO')\n",
    "\n",
    "cmap = plt.cm.turbo.copy()\n",
    "cmap.set_bad(cmap.get_under())"
   ]
  },
  {
   "cell_type": "markdown",
   "id": "31",
   "metadata": {
    "tags": []
   },
   "source": [
    "## 1180 eV non-resonant single images"
   ]
  },
  {
   "cell_type": "markdown",
   "id": "32",
   "metadata": {},
   "source": [
    "### Cart 2D"
   ]
  },
  {
   "cell_type": "code",
   "execution_count": null,
   "id": "33",
   "metadata": {
    "tags": []
   },
   "outputs": [],
   "source": [
    "# Select cartesian dataset, 1180\n",
    "edge = '1180'\n",
    "DS = rsoxs_datasets[f'cartesian_{edge}'].copy()\n",
    "bcx = DS['raw_intensity'].beamcenter_x\n",
    "bcy = DS['raw_intensity'].beamcenter_y\n",
    "\n",
    "\n",
    "# Select Plotting Parameters\n",
    "# energy = 285\n",
    "pix_size = 500\n",
    "pix_x_slice = slice(bcx-(pix_size/2), bcx+(pix_size/2))\n",
    "pix_y_slice = slice(bcy-(pix_size/2), bcy+(pix_size/2))\n",
    "\n",
    "# Select DataArray\n",
    "# sample_name = 'PM6-Y6_3000_dSiN'\n",
    "for pol in [0, 90]:\n",
    "    for sample_name in tqdm(DS.sample_name.values, desc=f'Pol = {pol}°'):\n",
    "        intensity_type = 'raw'\n",
    "        DA = DS.sel(sample_name=sample_name)[f'{intensity_type}_intensity']\n",
    "        energy = int(DA.energy.values)\n",
    "        cmin = float(DA.compute().quantile(0.0001))  # good for 1180\n",
    "        cmax = float(DA.compute().quantile(0.995))  # good for 1180\n",
    "\n",
    "        # Plot\n",
    "        # sliced_DA = DA.sel(polarization=pol, pix_x=pix_x_slice, pix_y=pix_y_slice).sel(energy=energy,method='nearest')\n",
    "        sliced_DA = DA.sel(polarization=pol).sel(energy=energy,method='nearest')\n",
    "        # print(f'cmin={cmin}, cmax={cmax}')\n",
    "        ax = sliced_DA.plot.imshow(figsize=(5.5,4.5), x='qx', y='qy', cmap=cmap, norm=plt.Normalize(cmin,cmax))\n",
    "        ax.figure.suptitle(f'Photon Energy = {np.round(energy, 1)} eV', fontsize=14, y=0.96)\n",
    "        ax.figure.set_tight_layout(True)\n",
    "        ax.axes.set(aspect='equal', title=f'{sample_name}, Polarization = {pol}°', xlabel='q$_x$ [$Å^{-1}$]', ylabel='q$_y$ [$Å^{-1}$]')\n",
    "        ax.colorbar.set_label('Raw Detector Intensity [arb. units]', rotation=270, labelpad=12)\n",
    "        \n",
    "        # savePath = plotsPath.joinpath('rsoxs_1180/cart_2D')\n",
    "        # ax.figure.savefig(savePath.joinpath(f'{sample_name}_{edge}_pol{pol}deg.png'), dpi=120)\n",
    "        plt.show()\n",
    "        plt.close('all')"
   ]
  },
  {
   "cell_type": "markdown",
   "id": "34",
   "metadata": {},
   "source": [
    "### Polar 2D"
   ]
  },
  {
   "cell_type": "code",
   "execution_count": null,
   "id": "35",
   "metadata": {
    "tags": []
   },
   "outputs": [],
   "source": [
    "# Select polar dataset\n",
    "edge = '1180'\n",
    "DS = rsoxs_datasets[f'polar_{edge}'].copy()\n",
    "\n",
    "# Select DataArray\n",
    "for pol in [0, 90]:\n",
    "    for sample_name in tqdm(DS.sample_name.values, desc=f'Pol = {pol}°'):\n",
    "        intensity_type = 'raw'\n",
    "        DA = DS.sel(sample_name=sample_name)[f'{intensity_type}_intensity']\n",
    "        energy = int(DA.energy.values)\n",
    "        cmin = float(DA.compute().quantile(0.0001))  # good for 1180\n",
    "        cmax = float(DA.compute().quantile(0.995))  # good for 1180\n",
    "\n",
    "        # Plot\n",
    "        # sliced_DA = DA.sel(polarization=pol, pix_x=pix_x_slice, pix_y=pix_y_slice).sel(energy=energy,method='nearest')\n",
    "        sliced_DA = DA.sel(polarization=pol).sel(energy=energy,method='nearest')\n",
    "        # print(f'cmin={cmin}, cmax={cmax}')\n",
    "        ax = sliced_DA.plot.imshow(figsize=(5.5,4.5), cmap=cmap, norm=plt.Normalize(cmin,cmax))\n",
    "        ax.figure.suptitle(f'Photon Energy = {np.round(energy, 1)} eV', fontsize=14, y=0.96)\n",
    "        ax.figure.set_tight_layout(True)\n",
    "        ax.axes.set(title=f'{sample_name}, Polarization = {pol}°', xlabel='q$_r$ [$Å^{-1}$]', ylabel='$\\chi$ [°]')\n",
    "        ax.colorbar.set_label('Raw Detector Intensity [arb. units]', rotation=270, labelpad=12)\n",
    "        \n",
    "        # savePath = plotsPath.joinpath('rsoxs_1180/polar_2D')\n",
    "        # ax.figure.savefig(savePath.joinpath(f'{sample_name}_{edge}_pol{pol}deg.png'), dpi=120)\n",
    "        plt.show()\n",
    "        plt.close('all')"
   ]
  },
  {
   "cell_type": "markdown",
   "id": "36",
   "metadata": {},
   "source": [
    "### Qr linecut"
   ]
  },
  {
   "cell_type": "code",
   "execution_count": null,
   "id": "37",
   "metadata": {
    "tags": []
   },
   "outputs": [],
   "source": [
    "# Select polar dataset, to qr linecuts: para, perp, and full\n",
    "edge = '1180'\n",
    "chi_width = 90\n",
    "q_slice = slice(0.1,0.4)\n",
    "DS = rsoxs_datasets[f'polar_{edge}'].copy()\n",
    "\n",
    "# Select DataArray\n",
    "for sample_name in tqdm(DS.sample_name.values):\n",
    "    pol_paras = []\n",
    "    pol_perps = []\n",
    "    for pol in [0, 90]:\n",
    "        para_DA, perp_DA = make_para_perp_DAs(DS, sample_name, 'raw', pol, (None,None), chi_width) \n",
    "        para_DA = para_DA.compute()\n",
    "        perp_DA = perp_DA.compute()\n",
    "        pol_paras.append(para_DA)\n",
    "        pol_perps.append(perp_DA)\n",
    "\n",
    "\n",
    "    pol_paras[0] = pol_paras[0].assign_coords({'chi': np.linspace(0, chi_width, len(pol_paras[0].chi.values))})  # .assign_coords({'chi': np.linspace(0, 90,len(pol_paras[1].chi.values))})\n",
    "    pol_paras[1] = pol_paras[1].assign_coords({'chi': np.linspace(0, chi_width, len(pol_paras[1].chi.values))})  # .assign_coords({'chi': np.linspace(0, 90,len(pol_paras[1].chi.values))})\n",
    "    pol_perps[0] = pol_perps[0].assign_coords({'chi': np.linspace(0, chi_width, len(pol_perps[0].chi.values))})  # .assign_coords({'chi': np.linspace(0, 90,len(pol_perps[1].chi.values))})\n",
    "    pol_perps[1] = pol_perps[1].assign_coords({'chi': np.linspace(0, chi_width, len(pol_perps[1].chi.values))})  # .assign_coords({'chi': np.linspace(0, 90,len(pol_perps[1].chi.values))})\n",
    "\n",
    "    pol_paras[0] = pol_paras[0].interp({'chi': pol_paras[1].chi.values})  # .assign_coords({'chi': np.linspace(0, 90,len(pol_paras[1].chi.values))})\n",
    "    pol_perps[0] = pol_perps[0].interp({'chi': pol_perps[1].chi.values})  # .assign_coords({'chi': np.linspace(0, 90,len(pol_perps[1].chi.values))})\n",
    "\n",
    "    para_DA = (pol_paras[0] + pol_paras[1])/2\n",
    "    perp_DA = (pol_perps[0] + pol_perps[1])/2\n",
    "\n",
    "    para_DA = para_DA.assign_coords({'polarization':'avg'})\n",
    "    perp_DA = perp_DA.assign_coords({'polarization':'avg'})\n",
    "\n",
    "    para_DA = para_DA.interpolate_na(dim='q')\n",
    "    perp_DA = perp_DA.interpolate_na(dim='q')\n",
    "\n",
    "    pol = str(para_DA.polarization.values) \n",
    "    \n",
    "    \n",
    "    energy = int(DA.energy.values)\n",
    "    # cmin = float(DA.compute().quantile(0.0001))  # good for 1180\n",
    "    # cmax = float(DA.compute().quantile(0.995))  # good for 1180\n",
    "\n",
    "    # Plot\n",
    "    regions = ['para', 'perp', 'full']\n",
    "    colors = plt.cm.Dark2(np.linspace(0, 1, 8))\n",
    "\n",
    "    fig, ax1 = plt.subplots(figsize=(6,3.5), tight_layout=True, dpi=120)\n",
    "    ax2 = ax1.twinx()\n",
    "    ax3 = ax1.twinx()\n",
    "    \n",
    "\n",
    "    # for j, energy in enumerate(energies):\n",
    "    p2, = (para_DA.sel(q=q_slice, energy=energy).mean('chi')\n",
    "     .plot.line(ax=ax2, color=colors[1], yscale='linear', xscale='linear', label='Para'))\n",
    "    p3, = (perp_DA.sel(q=q_slice, energy=energy).mean('chi')\n",
    "     .plot.line(ax=ax3, color=colors[2], yscale='linear', xscale='linear', label='Perp'))\n",
    "    p1, = (((para_DA.mean('chi') + perp_DA.mean('chi')).sel(q=q_slice, energy=energy)/2)\n",
    "     .plot.line(ax=ax1, color=colors[0], yscale='linear', xscale='linear', label='Full'))\n",
    "\n",
    "    fig.suptitle(f'I vs Q linecuts: {sample_name}', y=0.93, x=0.43)\n",
    "\n",
    "    ax1.set_title('$\\chi_{width}$ =' + f' {chi_width}°, averaged polarizations')\n",
    "    ax1.set(ylabel='Full $\\chi$ intensity [arb. units]', xlabel='Q [$Å^{-1}$]')\n",
    "    ax2.set(ylabel='Para $\\chi$ intensity [arb. units]', title=None)\n",
    "    ax3.set(ylabel='Perp $\\chi$ intensity [arb. units]', title=None)\n",
    "\n",
    "    # fig.legend(title='$\\chi$ region',borderaxespad=4.5)\n",
    "    \n",
    "    ax1.tick_params(axis='y', colors=p1.get_color())\n",
    "    ax1.yaxis.label.set_color(p1.get_color())\n",
    "    ax2.yaxis.label.set_color(p2.get_color())\n",
    "    ax3.yaxis.label.set_color(p3.get_color())\n",
    "    \n",
    "    ax2.tick_params(axis='y', colors=p2.get_color())\n",
    "    ax2.spines['right'].set_position(('outward', 0))\n",
    "    ax3.spines['right'].set_edgecolor(p2.get_color())\n",
    "    \n",
    "    ax3.tick_params(axis='y', colors=p3.get_color())\n",
    "    ax3.spines['right'].set_position(('outward', 60))\n",
    "    ax3.spines['right'].set_edgecolor(p3.get_color())\n",
    "    \n",
    "    lines= [p1,p2,p3]\n",
    "    ax1.legend(title='$\\chi$ regions', handles=lines, labels=[l.get_label() for l in lines])\n",
    "\n",
    "    # savePath = plotsPath.joinpath('rsoxs_1180/qr_linecuts_v1')\n",
    "    # fig.savefig(savePath.joinpath(f'{sample_name}_{edge}.png'), dpi=120)\n",
    "\n",
    "    plt.show()\n",
    "    plt.close('all')"
   ]
  },
  {
   "cell_type": "markdown",
   "id": "38",
   "metadata": {},
   "source": [
    "### Chi linecut"
   ]
  },
  {
   "cell_type": "code",
   "execution_count": null,
   "id": "39",
   "metadata": {
    "tags": []
   },
   "outputs": [],
   "source": [
    "# Select polar dataset, to chi linecuts: \n",
    "edge = '1180'\n",
    "chi_slice = slice(None,None)\n",
    "q_slice_1 = slice(0.15, 0.22)\n",
    "q_slice_2 = slice(0.23, 0.38)\n",
    "DS = rsoxs_datasets[f'polar_{edge}'].copy()\n",
    "\n",
    "# Select DataArray\n",
    "for sample_name in tqdm(DS.sample_name.values):\n",
    "    pol_DAs = []\n",
    "    for pol in [0, 90]:\n",
    "        pol_DAs.append(DS['raw_intensity'].sel(sample_name=sample_name, polarization=pol).squeeze())\n",
    "\n",
    "    # energy = int(DA.energy.values)\n",
    "    # cmin = float(DA.compute().quantile(0.0001))  # good for 1180\n",
    "    # cmax = float(DA.compute().quantile(0.995))  # good for 1180\n",
    "\n",
    "    # Plot\n",
    "    colors = plt.cm.Dark2(np.linspace(0, 1, 8))\n",
    "    fig, (left_ax1, right_ax1) = plt.subplots(ncols=2, figsize=(7.5,3.5), tight_layout=True, dpi=120)\n",
    "    left_ax2 = left_ax1.twinx()\n",
    "    right_ax2 = right_ax1.twinx()\n",
    "\n",
    "    p1, = (pol_DAs[0].sel(q=q_slice_1, chi=chi_slice).integrate('q')\n",
    "     .plot.line(ax=left_ax1, color='#1054E1', yscale='linear', xscale='linear', label='0'))\n",
    "    p2, = (pol_DAs[1].sel(q=q_slice_1, chi=chi_slice).integrate('q')\n",
    "     .plot.line(ax=left_ax2, color='#E19C10', yscale='linear', xscale='linear', label='90'))\n",
    "    \n",
    "    p3, = (pol_DAs[0].sel(q=q_slice_2, chi=chi_slice).integrate('q')\n",
    "     .plot.line(ax=right_ax1, color='#1054E1', yscale='linear', xscale='linear', label='0'))\n",
    "    p4, = (pol_DAs[1].sel(q=q_slice_2, chi=chi_slice).integrate('q')\n",
    "     .plot.line(ax=right_ax2, color='#E19C10', yscale='linear', xscale='linear', label='90'))\n",
    "\n",
    "    fig.suptitle(f'I vs Chi linecuts: {sample_name}', y=0.93, x=0.5)\n",
    "\n",
    "    left_ax1.xaxis.set_major_locator(MultipleLocator(90))\n",
    "    left_ax1.xaxis.set_minor_locator(MultipleLocator(45))\n",
    "    left_ax1.xaxis.grid(True, which='both')\n",
    "                                     \n",
    "    right_ax1.xaxis.set_major_locator(MultipleLocator(90))\n",
    "    right_ax1.xaxis.set_minor_locator(MultipleLocator(45))\n",
    "    right_ax1.xaxis.grid(True, which='both')    \n",
    "\n",
    "    left_ax1.set_title(f'Q slice = ({q_slice_1.start}, {q_slice_1.stop})' + ' Å$^{-1}$')\n",
    "    left_ax1.set(ylabel='Pol = 0° Intensity [arb. units]', xlabel='$\\chi$ [°]')\n",
    "    left_ax2.set(ylabel='Pol = 90° Intensity [arb. units]', title=None)\n",
    "\n",
    "    right_ax1.set_title(f'Q slice = ({q_slice_2.start}, {q_slice_2.stop})' + ' Å$^{-1}$')\n",
    "    right_ax1.set(ylabel='Pol = 0° Intensity [arb. units]', xlabel='$\\chi$ [°]')\n",
    "    right_ax2.set(ylabel='Pol = 90° Intensity [arb. units]', title=None)\n",
    "    \n",
    "#     # fig.legend(title='$\\chi$ region',borderaxespad=4.5)\n",
    "\n",
    "    left_ax1.tick_params(axis='y', colors=p1.get_color())\n",
    "    left_ax2.tick_params(axis='y', colors=p2.get_color())\n",
    "    left_ax1.yaxis.label.set_color(p1.get_color())\n",
    "    left_ax2.yaxis.label.set_color(p2.get_color())\n",
    "\n",
    "    right_ax1.tick_params(axis='y', colors=p3.get_color())\n",
    "    right_ax2.tick_params(axis='y', colors=p4.get_color())\n",
    "    right_ax1.yaxis.label.set_color(p3.get_color())\n",
    "    right_ax2.yaxis.label.set_color(p4.get_color())\n",
    "\n",
    "    # lines= [p1,p2]\n",
    "    # # left_ax1.legend(title='$\\chi$ regions', handles=lines, labels=[l.get_label() for l in lines])\n",
    "    # right_ax1.legend(title='$\\chi$ regions', handles=lines, labels=[l.get_label() for l in lines])\n",
    "\n",
    "    # savePath = plotsPath.joinpath('rsoxs_1180/chi_linecuts_v1')\n",
    "    # fig.savefig(savePath.joinpath(f'{sample_name}_{edge}.png'), dpi=120)\n",
    "\n",
    "    plt.show()\n",
    "    plt.close('all')"
   ]
  },
  {
   "cell_type": "markdown",
   "id": "40",
   "metadata": {
    "tags": []
   },
   "source": [
    "## Intensity Plots"
   ]
  },
  {
   "cell_type": "markdown",
   "id": "41",
   "metadata": {
    "tags": []
   },
   "source": [
    "### 1. Detector movies"
   ]
  },
  {
   "cell_type": "code",
   "execution_count": null,
   "id": "94886aac-3f8a-48b3-9dcc-a34362d024f4",
   "metadata": {
    "tags": []
   },
   "outputs": [],
   "source": [
    "%matplotlib inline"
   ]
  },
  {
   "cell_type": "code",
   "execution_count": null,
   "id": "a50812e6-8c8a-4fc6-bb36-cf2f42731c2f",
   "metadata": {
    "tags": []
   },
   "outputs": [],
   "source": [
    "plt.close('all')"
   ]
  },
  {
   "cell_type": "code",
   "execution_count": null,
   "id": "42",
   "metadata": {
    "tags": []
   },
   "outputs": [],
   "source": [
    "# Parameters\n",
    "edge = 'carbon'\n",
    "# DS = rsoxs_datasets[f'cartesian_{edge}']\n",
    "DS = rsoxs_datasets[f'cartesian_{edge}_reverse']\n",
    "intensity_type = 'corr'\n",
    "pol = 0\n",
    "energy = 285.2\n",
    "\n",
    "# selected_samples = ['PM6_CB', 'PM6_p5CN-CB', 'PM6_1CN-CB', 'PM6_5CN-CB', \n",
    "#                     'PM6_CF', 'PM6_p5CN-CF', 'PM6_1CN-CF', 'PM6_5CN-CF', \n",
    "#                     'PM6_4CF-1CB', 'PM6_2CF-3CB', 'PM6_p5CN-2CF-3CB'] \n",
    "# selected_samples = ['PM6_5CN-CB']\n",
    "\n",
    "for sample_name in DS.sample_name.values:\n",
    "# for sample_name in selected_samples:\n",
    "    DA = DS.sel(sample_name=sample_name)[f'{intensity_type}_intensity']\n",
    "    DA = DA.where(DA>0, 10)\n",
    "    # Make & customize plot\n",
    "    sliced_DA = DA.sel(polarization=pol).sel(energy=energy, method='nearest').swap_dims({'pix_x':'qx','pix_y':'qy'})\n",
    "\n",
    "    cmin = float(sliced_DA.sel(qx=slice(0.01,0.05),qy=slice(0.01,0.05)).compute().quantile(0.03))\n",
    "    cmax = float(sliced_DA.sel(qx=slice(0.01,0.05),qy=slice(0.01,0.05)).compute().quantile(0.999))\n",
    "    \n",
    "    # cmin = cmin if cmin > 1e8 else 1e8\n",
    "\n",
    "    ax = sliced_DA.plot.imshow(figsize=(5.5,4.5), cmap=cmap, norm=LogNorm(cmin,cmax))\n",
    "    ax.figure.suptitle(f'Photon Energy = {np.round(energy, 1)} eV', fontsize=14, y=0.96)\n",
    "    ax.figure.set_tight_layout(True)   \n",
    "    ax.axes.set(aspect='equal', title=f'{sample_name}, Polarization = {pol}°', xlabel='q$_x$ [$Å^{-1}$]', ylabel='q$_y$ [$Å^{-1}$]')\n",
    "    ax.colorbar.set_label('Double-Norm-Corrected Intensity [arb. units]', rotation=270, labelpad=12)\n",
    "\n",
    "    plt.show()\n",
    "    plt.close('all')"
   ]
  },
  {
   "cell_type": "code",
   "execution_count": null,
   "id": "afdddc28-b109-4f13-8483-545de4465bf4",
   "metadata": {
    "tags": []
   },
   "outputs": [],
   "source": [
    "cmin"
   ]
  },
  {
   "cell_type": "code",
   "execution_count": null,
   "id": "43",
   "metadata": {
    "tags": []
   },
   "outputs": [],
   "source": [
    "plotsPath"
   ]
  },
  {
   "cell_type": "code",
   "execution_count": null,
   "id": "44",
   "metadata": {
    "tags": []
   },
   "outputs": [],
   "source": [
    "# Select Dataset\n",
    "edge = 'carbon'\n",
    "DS = rsoxs_datasets[f'cartesian_{edge}_reverse']\n",
    "# DS = rsoxs_datasets[f'cartesian_{edge}_tilted']\n",
    "\n",
    "# bcx = DS['raw_intensity'].beamcenter_x\n",
    "# bcy = DS['raw_intensity'].beamcenter_y\n",
    "\n",
    "# Select Plotting Parameters\n",
    "# pol = 90\n",
    "# pix_size = 500\n",
    "# pix_x_slice = slice(bcx-(pix_size/2), bcx+(pix_size/2))\n",
    "# pix_y_slice = slice(bcy-(pix_size/2), bcy+(pix_size/2))\n",
    "intensity_type = 'corr'\n",
    "\n",
    "# Select DataArray\n",
    "# sample_name = 'PM6-Y6_3000_dSiN'\n",
    "# selected_samples = ['PM6_5CN-CB']\n",
    "for pol in [0, 90]:\n",
    "    for sample_name in tqdm(DS.sample_name.values, desc=f'Polarization {pol}°'):\n",
    "    # for sample_name in tqdm(selected_samples, desc=f'Polarization {pol}°'):\n",
    "        DA = DS.sel(sample_name=sample_name)[f'{intensity_type}_intensity']\n",
    "\n",
    "        savePath = plotsPath.joinpath('rsoxs_carbon_reverse/detector_movies_v1')\n",
    "        savePath.mkdir(exist_ok=True)\n",
    "        output_path = savePath.joinpath(f'{sample_name}_{intensity_type}_pol{pol}deg.mp4')\n",
    "\n",
    "        # FFmpeg command. This is set up to accept data from the pipe and use it as input, with PNG format.\n",
    "        # It will then output an H.264 encoded MP4 video.\n",
    "        cmd = [\n",
    "            'ffmpeg',\n",
    "            '-y',  # Overwrite output file if it exists\n",
    "            '-f', 'image2pipe',\n",
    "            '-vcodec', 'png',\n",
    "            '-r', '16',  # Frame rate\n",
    "            '-i', '-',  # The input comes from a pipe\n",
    "            '-vcodec', 'libx264',\n",
    "            '-pix_fmt', 'yuv420p',\n",
    "            '-crf', '22',  # Set the quality (lower is better, 17 is often considered visually lossless)\n",
    "            str(output_path)\n",
    "        ]\n",
    "\n",
    "        # Start the subprocess\n",
    "        proc = subprocess.Popen(cmd, stdin=subprocess.PIPE, stdout=subprocess.PIPE, stderr=subprocess.PIPE)\n",
    "\n",
    "        # Loop through the energy dimension and send frames to FFmpeg\n",
    "        for i, energy in enumerate(tqdm(DA.energy.values, desc=f'Making the {sample_name} movie')):\n",
    "            # Make & customize plot\n",
    "            sliced_DA = DA.sel(polarization=pol).sel(energy=energy, method='nearest').swap_dims({'pix_x':'qx','pix_y':'qy'})\n",
    "            \n",
    "#             cmin = float(sliced_DA.sel(qx=slice(0.01,0.05),qy=slice(0.01,0.05)).compute().quantile(0.05))\n",
    "#             cmax = float(sliced_DA.sel(qx=slice(0.01,0.05),qy=slice(0.01,0.05)).compute().quantile(0.999))\n",
    "\n",
    "#             cmin = cmin if cmin > 1e8 else 1e8\n",
    "            \n",
    "            ax = sliced_DA.plot.imshow(figsize=(5.5,4.5), cmap=cmap, norm=LogNorm(cmin,cmax))\n",
    "            ax.figure.suptitle(f'Photon Energy = {np.round(energy, 1)} eV', fontsize=14, y=0.96)\n",
    "            ax.figure.set_tight_layout(True)   \n",
    "            ax.axes.set(aspect='equal', title=f'{sample_name}, Polarization = {pol}°', xlabel='q$_x$ [$Å^{-1}$]', ylabel='q$_y$ [$Å^{-1}$]')\n",
    "            ax.colorbar.set_label('Double-Norm-Corrected Intensity [arb. units]', rotation=270, labelpad=12)\n",
    "\n",
    "            # Save first frame (or specific energy value)\n",
    "            if energy == 285.2:\n",
    "                ax.figure.savefig(savePath.joinpath(f'{sample_name}_{intensity_type}_pol{pol}deg.png'), dpi=120)\n",
    "\n",
    "            buf = io.BytesIO()\n",
    "            ax.figure.savefig(buf, format='png')\n",
    "            buf.seek(0)\n",
    "\n",
    "            # Write the PNG buffer data to the process\n",
    "            proc.stdin.write(buf.getvalue())\n",
    "            plt.close('all')\n",
    "\n",
    "        # Finish the subprocess\n",
    "        out, err = proc.communicate()\n",
    "        if proc.returncode != 0:\n",
    "            print(f\"Error: {err}\")\n"
   ]
  },
  {
   "cell_type": "code",
   "execution_count": null,
   "id": "2efd81dc-060a-4f17-941e-d885379fc85e",
   "metadata": {
    "tags": []
   },
   "outputs": [],
   "source": [
    "plotsPath"
   ]
  },
  {
   "cell_type": "markdown",
   "id": "45",
   "metadata": {
    "tags": []
   },
   "source": [
    "### 2. ISI Plots"
   ]
  },
  {
   "cell_type": "code",
   "execution_count": null,
   "id": "46",
   "metadata": {
    "tags": []
   },
   "outputs": [],
   "source": [
    "# Select polar dataset, to ISI plots, polarizations 0 & 90 averaged\n",
    "edge = 'carbon'\n",
    "DS = rsoxs_datasets[f'polar_{edge}_reverse'].copy()\n",
    "# DS = rsoxs_datasets[f'polar_{edge}_tilted'].copy()\n",
    "\n",
    "# DS = DS.rename_vars({'raw_intensity':'corr_intensity'})\n",
    "\n",
    "chi_width = 90\n",
    "q_slice = slice(0.009,0.08)\n",
    "e_slice = slice(282, 295)\n",
    "\n",
    "# make selection\n",
    "intensity_type = 'corr'\n",
    "\n",
    "# for sample_name in tqdm(filtered_selected_samples):\n",
    "for sample_name in tqdm(DS.sample_name.values[:]):\n",
    "    pol_paras = []\n",
    "    pol_perps = []\n",
    "    for pol in [0, 90]:\n",
    "        para_DA, perp_DA = make_para_perp_DAs(DS, sample_name, intensity_type, pol, (q_slice.start,q_slice.stop), chi_width) \n",
    "        pol_paras.append(para_DA)\n",
    "        pol_perps.append(perp_DA)\n",
    "\n",
    "\n",
    "    pol_paras[0] = pol_paras[0].assign_coords({'chi': np.linspace(0, chi_width, len(pol_paras[0].chi.values))})  # .assign_coords({'chi': np.linspace(0, 90,len(pol_paras[1].chi.values))})\n",
    "    pol_paras[1] = pol_paras[1].assign_coords({'chi': np.linspace(0, chi_width, len(pol_paras[1].chi.values))})  # .assign_coords({'chi': np.linspace(0, 90,len(pol_paras[1].chi.values))})\n",
    "    pol_perps[0] = pol_perps[0].assign_coords({'chi': np.linspace(0, chi_width, len(pol_perps[0].chi.values))})  # .assign_coords({'chi': np.linspace(0, 90,len(pol_perps[1].chi.values))})\n",
    "    pol_perps[1] = pol_perps[1].assign_coords({'chi': np.linspace(0, chi_width, len(pol_perps[1].chi.values))})  # .assign_coords({'chi': np.linspace(0, 90,len(pol_perps[1].chi.values))})\n",
    "\n",
    "    pol_paras[0] = pol_paras[0].interp({'chi': pol_paras[1].chi.values})  # .assign_coords({'chi': np.linspace(0, 90,len(pol_paras[1].chi.values))})\n",
    "    pol_perps[0] = pol_perps[0].interp({'chi': pol_perps[1].chi.values})  # .assign_coords({'chi': np.linspace(0, 90,len(pol_perps[1].chi.values))})\n",
    "\n",
    "    para_DA = (pol_paras[0] + pol_paras[1])/2\n",
    "    perp_DA = (pol_perps[0] + pol_perps[1])/2\n",
    "\n",
    "    para_DA = para_DA.assign_coords({'polarization':'avg'})\n",
    "    perp_DA = perp_DA.assign_coords({'polarization':'avg'})\n",
    "\n",
    "    para_DA = para_DA.interpolate_na(dim='q')\n",
    "    perp_DA = perp_DA.interpolate_na(dim='q')\n",
    "\n",
    "    pol = str(para_DA.polarization.values) \n",
    "    \n",
    "#     # Fl correction?\n",
    "#     scale_factor = float(para_DA.sel(energy=slice(285,305), q=slice(2e-2,6e-2)).mean('chi').mean('energy').integrate('q'))\n",
    "#     manual_scale_factor = manual_scale_factors_v4[sample_name]\n",
    "#     trmsn90_corr = (manual_scale_factor * scale_factor * trmsn90_bkgs_DA.sel(sample_name=sample_name))\n",
    "    \n",
    "#     para_DA = para_DA - trmsn90_corr\n",
    "#     perp_DA = perp_DA - trmsn90_corr\n",
    "\n",
    "    # slice ISI data\n",
    "    para_ISI = para_DA.interpolate_na(dim='q').sel(q=q_slice).mean('chi').mean('q')\n",
    "    perp_ISI = perp_DA.interpolate_na(dim='q').sel(q=q_slice).mean('chi').mean('q')\n",
    "\n",
    "    # plot\n",
    "    fig, ax = plt.subplots(figsize=(6,4), dpi=120)\n",
    "    ax.xaxis.set_minor_locator(MultipleLocator(1))\n",
    "\n",
    "    para_ISI.sel(energy=e_slice).plot.line(ax=ax, label='$\\parallel$', yscale='log')\n",
    "    perp_ISI.sel(energy=e_slice).plot.line(ax=ax, label='$\\perp$', yscale='log')\n",
    "    fig.suptitle(f'ISI: {sample_name}', fontsize=14, x=0.55)\n",
    "    ax.set(title=f'Pol = {pol}°, chi width = {chi_width}°, Q = ({q_slice.start}, {q_slice.stop}) ' + 'Å$^{-1}$', \n",
    "           xlabel='X-ray energy [eV]', ylabel='Intensity [arb. units]')\n",
    "    ax.legend(loc='upper right', fontsize=14)\n",
    "    ax.grid(axis='x', which='both')\n",
    "    plt.subplots_adjust(top=0.86, bottom=0.2, left=0.2)\n",
    "        \n",
    "    savePath = plotsPath.joinpath('rsoxs_carbon_reverse/ISIs_v1')\n",
    "    savePath.mkdir(exist_ok=True)\n",
    "    fig.savefig(savePath.joinpath( \n",
    "        f'{sample_name}_{intensity_type}_chi{chi_width}deg_q{q_slice.start}-{q_slice.stop}_pol{pol}deg.png'), dpi=120)\n",
    "\n",
    "    # plt.show()\n",
    "    plt.close('all')"
   ]
  },
  {
   "cell_type": "code",
   "execution_count": null,
   "id": "cbff014e-bd96-497c-a0d7-54bba0fcf826",
   "metadata": {
    "tags": []
   },
   "outputs": [],
   "source": [
    "plotsPath"
   ]
  },
  {
   "cell_type": "code",
   "execution_count": null,
   "id": "47",
   "metadata": {
    "tags": []
   },
   "outputs": [],
   "source": [
    "# Select polar dataset, to ISI plots, individual polarizations\n",
    "edge = 'carbon'\n",
    "# DS = rsoxs_datasets[f'polar_{edge}'].copy()\n",
    "DS = rsoxs_datasets[f'polar_{edge}_tilted'].copy()\n",
    "\n",
    "# DS = DS.rename_vars({'raw_intensity':'corr_intensity'})\n",
    "\n",
    "chi_width = 90\n",
    "q_slice = slice(0.009,0.08)\n",
    "e_slice = slice(282, 295)\n",
    "\n",
    "# make selection\n",
    "intensity_type = 'corr'\n",
    "\n",
    "# for sample_name in tqdm(filtered_selected_samples):\n",
    "for sample_name in tqdm(DS.sample_name.values[:]):\n",
    "    for pol in [0, 45, 90]:\n",
    "        para_DA, perp_DA = make_para_perp_DAs(DS, sample_name, intensity_type, pol, (q_slice.start,q_slice.stop), chi_width) \n",
    "\n",
    "        # slice ISI data\n",
    "        para_ISI = para_DA.interpolate_na(dim='q').sel(q=q_slice).mean('chi').mean('q')\n",
    "        perp_ISI = perp_DA.interpolate_na(dim='q').sel(q=q_slice).mean('chi').mean('q')\n",
    "\n",
    "        # plot\n",
    "        fig, ax = plt.subplots(figsize=(6,4), dpi=120)\n",
    "        ax.xaxis.set_minor_locator(MultipleLocator(1))\n",
    "\n",
    "        para_ISI.sel(energy=e_slice).plot.line(ax=ax, label='$\\parallel$', yscale='log')\n",
    "        perp_ISI.sel(energy=e_slice).plot.line(ax=ax, label='$\\perp$', yscale='log')\n",
    "        fig.suptitle(f'ISI: {sample_name}', fontsize=14, x=0.55)\n",
    "        ax.set(title=f'Pol = {pol}°, chi width = {chi_width}°, Q = ({q_slice.start}, {q_slice.stop}) ' + 'Å$^{-1}$', \n",
    "               xlabel='X-ray energy [eV]', ylabel='Intensity [arb. units]')\n",
    "        ax.legend(loc='upper right', fontsize=14)\n",
    "        ax.grid(axis='x', which='both')\n",
    "        plt.subplots_adjust(top=0.86, bottom=0.2, left=0.2)\n",
    "\n",
    "        savePath = plotsPath.joinpath('rsoxs_carbon_tilted/ISIs_v1')\n",
    "        savePath.mkdir(exist_ok=True)\n",
    "        fig.savefig(savePath.joinpath( \n",
    "            f'{sample_name}_{intensity_type}_chi{chi_width}deg_q{q_slice.start}-{q_slice.stop}_pol{pol}deg.png'), dpi=120)\n",
    "\n",
    "        # plt.show()\n",
    "        plt.close('all')"
   ]
  },
  {
   "cell_type": "code",
   "execution_count": null,
   "id": "48",
   "metadata": {},
   "outputs": [],
   "source": [
    "selected_samples = ['Y6_3000_dSiN', 'PM6_3000_dSiN', 'PM6-Y6_3000_dSiN', 'PM7-Y6_3000_dSiN', 'Y7_3000_dSiN', 'PM7_3000_dSiN', 'PM7-Y7_3000_dSiN']\n",
    "# selected_samples = ['Y6_3000_dSiN', 'PM6_3000_dSiN', 'PM6-Y6_3000_dSiN', 'PM7-Y6_3000_dSiN', 'Y7_3000_dSiN', 'PM7_3000_dSiN', 'PM7-Y7_3000_dSiN']"
   ]
  },
  {
   "cell_type": "markdown",
   "id": "49",
   "metadata": {
    "tags": []
   },
   "source": [
    "### 3. 2D Linecut Maps"
   ]
  },
  {
   "cell_type": "code",
   "execution_count": null,
   "id": "50",
   "metadata": {
    "tags": []
   },
   "outputs": [],
   "source": [
    "# Select polar dataset, to I cuts, averaged 0 & 90 deg polarization\n",
    "edge = 'carbon'\n",
    "# DS = rsoxs_datasets[f'polar_{edge}'].copy()\n",
    "# DS = rsoxs_datasets[f'polar_{edge}_tilted'].copy()\n",
    "DS = rsoxs_datasets[f'polar_{edge}_reverse'].copy()\n",
    "\n",
    "chi_width = 90\n",
    "q_slice = slice(0.009, 0.08)\n",
    "e_slice = slice(282, 292)\n",
    "\n",
    "# make selection\n",
    "# sample_name = 'PM6-Y6_3000_dSiN'\n",
    "intensity_type = 'corr'\n",
    "pol = 0\n",
    "\n",
    "# for sample_name in tqdm(filtered_selected_samples):\n",
    "for sample_name in tqdm(DS.sample_name.values[:]):\n",
    "    # for pol in [0]:\n",
    "    #     para_DA, perp_DA = make_para_perp_DAs(rsoxs_datasets, sample_name, edge, intensity_type, pol, qlims, chi_width) \n",
    "   \n",
    "    pol_paras = []\n",
    "    pol_perps = []\n",
    "    for pol in [0, 90]:\n",
    "        para_DA, perp_DA = make_para_perp_DAs(DS, sample_name, intensity_type, pol, (q_slice.start,q_slice.stop), chi_width) \n",
    "        pol_paras.append(para_DA)\n",
    "        pol_perps.append(perp_DA)\n",
    "\n",
    "\n",
    "    pol_paras[0] = pol_paras[0].assign_coords({'chi': np.linspace(0, chi_width, len(pol_paras[0].chi.values))})  # .assign_coords({'chi': np.linspace(0, 90,len(pol_paras[1].chi.values))})\n",
    "    pol_paras[1] = pol_paras[1].assign_coords({'chi': np.linspace(0, chi_width, len(pol_paras[1].chi.values))})  # .assign_coords({'chi': np.linspace(0, 90,len(pol_paras[1].chi.values))})\n",
    "    pol_perps[0] = pol_perps[0].assign_coords({'chi': np.linspace(0, chi_width, len(pol_perps[0].chi.values))})  # .assign_coords({'chi': np.linspace(0, 90,len(pol_perps[1].chi.values))})\n",
    "    pol_perps[1] = pol_perps[1].assign_coords({'chi': np.linspace(0, chi_width, len(pol_perps[1].chi.values))})  # .assign_coords({'chi': np.linspace(0, 90,len(pol_perps[1].chi.values))})\n",
    "\n",
    "    pol_paras[0] = pol_paras[0].interp({'chi': pol_paras[1].chi.values})  # .assign_coords({'chi': np.linspace(0, 90,len(pol_paras[1].chi.values))})\n",
    "    pol_perps[0] = pol_perps[0].interp({'chi': pol_perps[1].chi.values})  # .assign_coords({'chi': np.linspace(0, 90,len(pol_perps[1].chi.values))})\n",
    "\n",
    "    para_DA = (pol_paras[0] + pol_paras[1])/2\n",
    "    perp_DA = (pol_perps[0] + pol_perps[1])/2\n",
    "\n",
    "    para_DA = para_DA.assign_coords({'polarization':'avg'})\n",
    "    perp_DA = perp_DA.assign_coords({'polarization':'avg'})\n",
    "\n",
    "    para_DA = para_DA.interpolate_na(dim='q')\n",
    "    perp_DA = perp_DA.interpolate_na(dim='q')\n",
    "\n",
    "    pol = str(para_DA.polarization.values) \n",
    "    \n",
    "#     # Fl correction?\n",
    "#     scale_factor = float(para_DA.sel(energy=slice(285,305), q=slice(2e-2,6e-2)).mean('chi').mean('energy').integrate('q'))\n",
    "#     manual_scale_factor = manual_scale_factors_v4[sample_name]\n",
    "#     trmsn90_corr = (manual_scale_factor * scale_factor * trmsn90_bkgs_DA.sel(sample_name=sample_name))\n",
    "    \n",
    "#     para_DA = para_DA - trmsn90_corr\n",
    "#     perp_DA = perp_DA - trmsn90_corr\n",
    "                \n",
    "    # Plot\n",
    "    fig, axs = plt.subplots(1, 2, figsize=(11,5))\n",
    "    # cmin = 1e8\n",
    "    # cmax = 1e11\n",
    "\n",
    "    para_slice = para_DA.mean('chi').sel(q=q_slice, energy=e_slice)  # .plot(ax=axs[0], cmap=cmap, norm=LogNorm(cmin, cmax), add_colorbar=False)\n",
    "    perp_slice = perp_DA.mean('chi').sel(q=q_slice, energy=e_slice)  # .plot(ax=axs[1], cmap=cmap, norm=LogNorm(cmin, cmax), add_colorbar=False)\n",
    "\n",
    "    cmin = perp_slice.compute().quantile(0.01)\n",
    "    cmax = para_slice.compute().quantile(0.995)\n",
    "\n",
    "    para_slice.plot(ax=axs[0], cmap=cmap, norm=LogNorm(cmin, cmax), add_colorbar=False)\n",
    "    perp_slice.plot(ax=axs[1], cmap=cmap, norm=LogNorm(cmin, cmax), add_colorbar=False)\n",
    "\n",
    "    # Add colorbar\n",
    "    sm = plt.cm.ScalarMappable(cmap=cmap, norm=LogNorm(cmin, cmax)) # Create a ScalarMappable object with the colormap and normalization & add the colorbar to the figure\n",
    "    cax = axs[1].inset_axes([1.03, 0, 0.05, 1])\n",
    "    cbar = fig.colorbar(sm, cax=cax, orientation='vertical')\n",
    "    cbar.set_label(label='Double-Norm-Corrected Intensity [arb. units]', labelpad=12, rotation=270)\n",
    "\n",
    "    fig.suptitle(f'Linecut Maps: {sample_name}, Polarization = {pol}°, Chi Width = {chi_width}°', fontsize=14)\n",
    "    # fig.suptitle(f'Linecut Maps: {sample_name} Bare SiN Subtracted, Polarization = {pol}°, Chi Width = {chi_width}°', fontsize=14)\n",
    "    # fig.suptitle(f'Linecut Maps: {sample_name} Bare SiN & Fluorescence Subtracted, Polarization = {pol}°, Chi Width = {chi_width}°', fontsize=14)\n",
    "\n",
    "    fig.set(tight_layout=True)\n",
    "\n",
    "    axs[0].set(xscale='log', title='Parallel to $E_p$', ylabel='Photon energy [eV]', xlabel='q [$Å^{-1}$]')\n",
    "    axs[1].set(xscale='log', title='Perpendicular to $E_p$ ', ylabel=None, xlabel='q [$Å^{-1}$]')\n",
    "\n",
    "    savePath = plotsPath.joinpath('rsoxs_carbon_reverse/I_maps_v1')\n",
    "    savePath.mkdir(exist_ok=True)\n",
    "    fig.savefig(savePath.joinpath( \n",
    "        f'{sample_name}_{e_slice.start}-{e_slice.stop}_{intensity_type}_chiWidth-{chi_width}deg_pol{pol}deg.png'), dpi=120)\n",
    "\n",
    "    # plt.show()\n",
    "    plt.close('all')"
   ]
  },
  {
   "cell_type": "code",
   "execution_count": null,
   "id": "51",
   "metadata": {
    "tags": []
   },
   "outputs": [],
   "source": [
    "# Select polar dataset, to I cuts, individual polarizations\n",
    "edge = 'carbon'\n",
    "# DS = rsoxs_datasets[f'polar_{edge}'].copy()\n",
    "DS = rsoxs_datasets[f'polar_{edge}_tilted'].copy()\n",
    "\n",
    "chi_width = 90\n",
    "q_slice = slice(0.009, 0.08)\n",
    "e_slice = slice(282, 292)\n",
    "\n",
    "# make selection\n",
    "# sample_name = 'PM6-Y6_3000_dSiN'\n",
    "intensity_type = 'corr'\n",
    "pol = 0\n",
    "\n",
    "# for sample_name in tqdm(filtered_selected_samples):\n",
    "for sample_name in tqdm(DS.sample_name.values[:]):\n",
    "    for pol in [0, 45, 90]:\n",
    "        para_DA, perp_DA = make_para_perp_DAs(DS, sample_name, intensity_type, pol, (q_slice.start,q_slice.stop), chi_width) \n",
    "\n",
    "        # Plot\n",
    "        fig, axs = plt.subplots(1, 2, figsize=(11,5))\n",
    "\n",
    "        para_slice = para_DA.mean('chi').sel(q=q_slice, energy=e_slice)  # .plot(ax=axs[0], cmap=cmap, norm=LogNorm(cmin, cmax), add_colorbar=False)\n",
    "        perp_slice = perp_DA.mean('chi').sel(q=q_slice, energy=e_slice)  # .plot(ax=axs[1], cmap=cmap, norm=LogNorm(cmin, cmax), add_colorbar=False)\n",
    "\n",
    "        cmin = perp_slice.compute().quantile(0.01)\n",
    "        cmax = para_slice.compute().quantile(0.995)\n",
    "\n",
    "        para_slice.plot(ax=axs[0], cmap=cmap, norm=LogNorm(cmin, cmax), add_colorbar=False)\n",
    "        perp_slice.plot(ax=axs[1], cmap=cmap, norm=LogNorm(cmin, cmax), add_colorbar=False)\n",
    "\n",
    "        # Add colorbar\n",
    "        sm = plt.cm.ScalarMappable(cmap=cmap, norm=LogNorm(cmin, cmax)) # Create a ScalarMappable object with the colormap and normalization & add the colorbar to the figure\n",
    "        cax = axs[1].inset_axes([1.03, 0, 0.05, 1])\n",
    "        cbar = fig.colorbar(sm, cax=cax, orientation='vertical')\n",
    "        cbar.set_label(label='Double-Norm-Corrected Intensity [arb. units]', labelpad=12, rotation=270)\n",
    "\n",
    "        fig.suptitle(f'Linecut Maps: {sample_name}, Polarization = {pol}°, Chi Width = {chi_width}°', fontsize=14)\n",
    "        # fig.suptitle(f'Linecut Maps: {sample_name} Bare SiN Subtracted, Polarization = {pol}°, Chi Width = {chi_width}°', fontsize=14)\n",
    "        # fig.suptitle(f'Linecut Maps: {sample_name} Bare SiN & Fluorescence Subtracted, Polarization = {pol}°, Chi Width = {chi_width}°', fontsize=14)\n",
    "\n",
    "        fig.set(tight_layout=True)\n",
    "\n",
    "        axs[0].set(xscale='log', title='Parallel to $E_p$', ylabel='Photon energy [eV]', xlabel='q [$Å^{-1}$]')\n",
    "        axs[1].set(xscale='log', title='Perpendicular to $E_p$ ', ylabel=None, xlabel='q [$Å^{-1}$]')\n",
    "\n",
    "        savePath = plotsPath.joinpath('rsoxs_carbon_tilted/I_maps_v1')\n",
    "        savePath.mkdir(exist_ok=True)\n",
    "        fig.savefig(savePath.joinpath( \n",
    "            f'{sample_name}_{e_slice.start}-{e_slice.stop}_{intensity_type}_chiWidth-{chi_width}deg_pol{pol}deg.png'), dpi=120)\n",
    "\n",
    "        # plt.show()\n",
    "        plt.close('all')"
   ]
  },
  {
   "cell_type": "code",
   "execution_count": null,
   "id": "52",
   "metadata": {},
   "outputs": [],
   "source": [
    "# a = para_EvsQ_avg.hvplot.line(groupby=\"energy\", loglog=True)\n",
    "# a * perp_EvsQ_avg.hvplot.line(groupby=\"energy\")"
   ]
  },
  {
   "cell_type": "markdown",
   "id": "53",
   "metadata": {
    "tags": []
   },
   "source": [
    "### 4. Meaned 1D intensity lineplots, selected energies"
   ]
  },
  {
   "cell_type": "code",
   "execution_count": null,
   "id": "54",
   "metadata": {
    "tags": []
   },
   "outputs": [],
   "source": [
    "# trmsn90_bkgs_DA = xr.concat(trmsn90_bkgs, dim='sample_name')\n",
    "# trmsn90_bkgs_DA"
   ]
  },
  {
   "cell_type": "code",
   "execution_count": null,
   "id": "55",
   "metadata": {
    "tags": []
   },
   "outputs": [],
   "source": [
    "# for sample_name in trmsn90_bkgs_DA.sample_name.values:\n",
    "#     trmsn90_bkgs_DA.sel(sample_name=sample_name).plot()\n",
    "#     plt.show()"
   ]
  },
  {
   "cell_type": "code",
   "execution_count": null,
   "id": "56",
   "metadata": {
    "tags": []
   },
   "outputs": [],
   "source": [
    "# fl_bkgs_DA = xr.concat(fl_bkgs, dim='sample_name')\n",
    "# fl_bkgs_DA"
   ]
  },
  {
   "cell_type": "code",
   "execution_count": null,
   "id": "57",
   "metadata": {
    "tags": []
   },
   "outputs": [],
   "source": [
    "# trmsn90_corr.plot()"
   ]
  },
  {
   "cell_type": "code",
   "execution_count": null,
   "id": "58",
   "metadata": {
    "tags": []
   },
   "outputs": [],
   "source": [
    "# manual_scale_factors_v4 = {\n",
    "#     'PM6_CB_3000': 8.4,\n",
    "#     'PM6_CBCN': 11,\n",
    "#     'PM6_CF_3000': 6,\n",
    "#     'PM6_CFCN': 10.5,\n",
    "#     'PM6-Y6_CB': 6.3,\n",
    "#     'PM6-Y6_CBCN': 4.5,\n",
    "#     'PM6-Y6_CF': 6,\n",
    "#     'PM6-Y6_CFCN': 11.5,\n",
    "#     'PM6-Y6BO_CB': 7.5,\n",
    "#     'PM6-Y6BO_CF': 5,\n",
    "#     'PM6-Y6BO_CFCN': 12.8,\n",
    "#     'PM6-Y7_CB': 6.5,\n",
    "#     'PM6-Y7_CBCN': 8.5,\n",
    "#     'PM6-Y7_CF': 4.5,\n",
    "#     'PM6-Y7_CFCN': 12.8,\n",
    "#     'PM6-Y7BO_CB': 5,\n",
    "#     'PM6-Y7BO_CBCN': 8.2,\n",
    "#     'PM6-Y7BO_CF': 5,\n",
    "#     'PM6-Y7BO_CFCN': 10,\n",
    "#     'Y6_CB_2000_1': 5,\n",
    "#     'Y6_CB_2000': 6,\n",
    "#     'Y6_CB_2500': 6,\n",
    "#     'Y6_CB_3000': 6,\n",
    "#     'Y6_CF_2000': 18,\n",
    "#     'Y6_CF_2500': 20,\n",
    "# }\n",
    "\n",
    "# len(manual_scale_factors_v4)"
   ]
  },
  {
   "cell_type": "code",
   "execution_count": null,
   "id": "59",
   "metadata": {
    "tags": []
   },
   "outputs": [],
   "source": [
    "# make selection, averaged polarizations\n",
    "edge = 'carbon'\n",
    "# DS = rsoxs_datasets[f'polar_{edge}']\n",
    "DS = rsoxs_datasets[f'polar_{edge}_reverse']\n",
    "\n",
    "intensity_type = 'corr'\n",
    "qlims = (0.009, 0.08)\n",
    "chi_width = 90\n",
    "\n",
    "# for sample_name in tqdm(filtered_selected_samples):\n",
    "for sample_name in tqdm(DS.sample_name.values[:]):\n",
    "    pol_paras = []\n",
    "    pol_perps = []\n",
    "    for pol in [0, 90]:\n",
    "        para_DA, perp_DA = make_para_perp_DAs(DS, sample_name, intensity_type, pol, qlims, chi_width) \n",
    "        pol_paras.append(para_DA)\n",
    "        pol_perps.append(perp_DA)\n",
    "\n",
    "\n",
    "    pol_paras[0] = pol_paras[0].assign_coords({'chi': np.linspace(0, chi_width, len(pol_paras[0].chi.values))})  # .assign_coords({'chi': np.linspace(0, 90,len(pol_paras[1].chi.values))})\n",
    "    pol_paras[1] = pol_paras[1].assign_coords({'chi': np.linspace(0, chi_width, len(pol_paras[1].chi.values))})  # .assign_coords({'chi': np.linspace(0, 90,len(pol_paras[1].chi.values))})\n",
    "    pol_perps[0] = pol_perps[0].assign_coords({'chi': np.linspace(0, chi_width, len(pol_perps[0].chi.values))})  # .assign_coords({'chi': np.linspace(0, 90,len(pol_perps[1].chi.values))})\n",
    "    pol_perps[1] = pol_perps[1].assign_coords({'chi': np.linspace(0, chi_width, len(pol_perps[1].chi.values))})  # .assign_coords({'chi': np.linspace(0, 90,len(pol_perps[1].chi.values))})\n",
    "\n",
    "    pol_paras[0] = pol_paras[0].interp({'chi': pol_paras[1].chi.values})  # .assign_coords({'chi': np.linspace(0, 90,len(pol_paras[1].chi.values))})\n",
    "    pol_perps[0] = pol_perps[0].interp({'chi': pol_perps[1].chi.values})  # .assign_coords({'chi': np.linspace(0, 90,len(pol_perps[1].chi.values))})\n",
    "\n",
    "    para_DA = (pol_paras[0] + pol_paras[1])/2\n",
    "    perp_DA = (pol_perps[0] + pol_perps[1])/2\n",
    "\n",
    "    para_DA = para_DA.assign_coords({'polarization':'avg'})\n",
    "    perp_DA = perp_DA.assign_coords({'polarization':'avg'})\n",
    "\n",
    "    para_DA = para_DA.interpolate_na(dim='q')\n",
    "    perp_DA = perp_DA.interpolate_na(dim='q')\n",
    "\n",
    "    pol = str(para_DA.polarization.values) \n",
    "    \n",
    "#     # Fl correction?\n",
    "#     scale_factor = float(para_DA.sel(energy=slice(285,305), q=slice(2e-2,6e-2)).mean('chi').mean('energy').integrate('q'))\n",
    "#     manual_scale_factor = manual_scale_factors_v4[sample_name]\n",
    "#     trmsn90_corr = (manual_scale_factor * scale_factor * trmsn90_bkgs_DA.sel(sample_name=sample_name))\n",
    "    \n",
    "#     para_DA = para_DA - trmsn90_corr\n",
    "#     perp_DA = perp_DA - trmsn90_corr\n",
    "        \n",
    "    # Plot\n",
    "    energies = para_DA.energy.sel(energy=[260, 275, 283, 284, 284.4, 284.8, 285.2, 285.6, 286.2, 287, 300, 338.75], method='nearest').data\n",
    "\n",
    "    cmap = plt.cm.turbo.copy()\n",
    "    colors = cmap(np.linspace(0, 1, len(energies)))\n",
    "\n",
    "    fig, axs = plt.subplots(ncols=2,figsize=(8,5), tight_layout=True)\n",
    "\n",
    "    qmin = qlims[0]\n",
    "    qmax = qlims[1]\n",
    "\n",
    "    for j, energy in enumerate(energies):\n",
    "        (para_DA.sel(q=slice(qmin, qmax), energy=energy).mean('chi')\n",
    "         .plot.line(ax=axs[0], color=colors[j], yscale='log', xscale='log', label=energy))\n",
    "        (perp_DA.sel(q=slice(qmin, qmax), energy=energy).mean('chi')\n",
    "         .plot.line(ax=axs[1], color=colors[j], yscale='log', xscale='log', label=energy))\n",
    "\n",
    "    fig.suptitle(f'IvsQ, {pol}° pol, 90° chi width: {sample_name}', x=0.47)\n",
    "    # fig.suptitle(f'IvsQ ($Fl$ Corr (C={manual_scale_factor})), {pol}° pol, 90° chi width: {sample_name}', x=0.47)\n",
    "\n",
    "    axs[0].set(title=f'Parallel to E$_p$', ylabel='Intensity [arb. units]', xlabel='Q [$Å^{-1}$]')\n",
    "    axs[0].set_ylim(bottom=1e8)\n",
    "    axs[1].set(title=f'Perpendicular to E$_p$', ylabel='Intensity [arb. units]', xlabel='Q [$Å^{-1}$]')\n",
    "    axs[1].set_ylim(bottom=1e8)\n",
    "    axs[1].legend(title='Energy [eV]', loc=(1.05,0.1))\n",
    "\n",
    "    savePath = plotsPath.joinpath('rsoxs_carbon_reverse/I_cuts_v1')\n",
    "    savePath.mkdir(exist_ok=True)\n",
    "    fig.savefig(savePath.joinpath(\n",
    "        f'{sample_name}_chiWidth-{chi_width}deg_q{qmin}-{qmax}_pol{pol}deg.png'), dpi=120)\n",
    "\n",
    "    # plt.show()\n",
    "    plt.close('all')"
   ]
  },
  {
   "cell_type": "code",
   "execution_count": null,
   "id": "60",
   "metadata": {
    "tags": []
   },
   "outputs": [],
   "source": [
    "# make selection, individual polarizations\n",
    "edge = 'carbon'\n",
    "# Drsoxs_datasets rsoxs_datasets[f'polar_{edge}']\n",
    "DS = rsoxs_datasets[f'polar_{edge}_tilted']\n",
    "\n",
    "intensity_type = 'corr'\n",
    "qlims = (0.009, 0.08)\n",
    "chi_width = 90\n",
    "\n",
    "# for sample_name in tqdm(filtered_selected_samples):\n",
    "for sample_name in tqdm(DS.sample_name.values[:]):\n",
    "    for pol in [0, 45, 90]:\n",
    "        para_DA, perp_DA = make_para_perp_DAs(DS, sample_name, intensity_type, pol, qlims, chi_width) \n",
    "\n",
    "        # Plot\n",
    "        energies = para_DA.energy.sel(energy=[260, 275, 283, 284, 284.4, 284.8, 285.2, 285.6, 286.2, 287, 300, 338.75], method='nearest').data\n",
    "\n",
    "        cmap = plt.cm.turbo.copy()\n",
    "        colors = cmap(np.linspace(0, 1, len(energies)))\n",
    "\n",
    "        fig, axs = plt.subplots(ncols=2,figsize=(8,5), tight_layout=True)\n",
    "\n",
    "        qmin = qlims[0]\n",
    "        qmax = qlims[1]\n",
    "\n",
    "        for j, energy in enumerate(energies):\n",
    "            (para_DA.sel(q=slice(qmin, qmax), energy=energy).mean('chi')\n",
    "             .plot.line(ax=axs[0], color=colors[j], yscale='log', xscale='log', label=energy))\n",
    "            (perp_DA.sel(q=slice(qmin, qmax), energy=energy).mean('chi')\n",
    "             .plot.line(ax=axs[1], color=colors[j], yscale='log', xscale='log', label=energy))\n",
    "\n",
    "        fig.suptitle(f'IvsQ, {pol}° pol, 90° chi width: {sample_name}', x=0.47)\n",
    "        # fig.suptitle(f'IvsQ ($Fl$ Corr (C={manual_scale_factor})), {pol}° pol, 90° chi width: {sample_name}', x=0.47)\n",
    "\n",
    "        axs[0].set(title=f'Parallel to E$_p$', ylabel='Intensity [arb. units]', xlabel='Q [$Å^{-1}$]')\n",
    "        axs[0].set_ylim(bottom=1e8)\n",
    "        axs[1].set(title=f'Perpendicular to E$_p$', ylabel='Intensity [arb. units]', xlabel='Q [$Å^{-1}$]')\n",
    "        axs[1].set_ylim(bottom=1e8)\n",
    "        axs[1].legend(title='Energy [eV]', loc=(1.05,0.1))\n",
    "\n",
    "        savePath = plotsPath.joinpath('rsoxs_carbon_tilted/I_cuts_v1')\n",
    "        savePath.mkdir(exist_ok=True)\n",
    "        fig.savefig(savePath.joinpath(\n",
    "            f'{sample_name}_chiWidth-{chi_width}deg_q{qmin}-{qmax}_pol{pol}deg.png'), dpi=120)\n",
    "\n",
    "        # plt.show()\n",
    "        plt.close('all')"
   ]
  },
  {
   "cell_type": "markdown",
   "id": "61",
   "metadata": {
    "tags": []
   },
   "source": [
    "## Anisotropy Ratio Plots"
   ]
  },
  {
   "cell_type": "markdown",
   "id": "62",
   "metadata": {
    "tags": []
   },
   "source": [
    "### 1. 2D AR Maps"
   ]
  },
  {
   "cell_type": "code",
   "execution_count": null,
   "id": "63",
   "metadata": {
    "tags": []
   },
   "outputs": [],
   "source": [
    "# make selection, averaged polarizations\n",
    "edge = 'carbon'\n",
    "# DS = rsoxs_datasets[f'polar_{edge}']\n",
    "DS = rsoxs_datasets[f'polar_{edge}_reverse']\n",
    "\n",
    "intensity_type = 'corr'\n",
    "chi_width = 90\n",
    "q_slice = slice(0.009, 0.08)\n",
    "e_slice = slice(282, 292)\n",
    "\n",
    "for sample_name in tqdm(DS.sample_name.values[:]):  \n",
    "    pol_paras = []\n",
    "    pol_perps = []\n",
    "    for pol in [0, 90]:\n",
    "        para_DA, perp_DA = make_para_perp_DAs(DS, sample_name, intensity_type, pol, (q_slice.start,q_slice.stop), chi_width) \n",
    "        pol_paras.append(para_DA)\n",
    "        pol_perps.append(perp_DA)\n",
    "\n",
    "\n",
    "    pol_paras[0] = pol_paras[0].assign_coords({'chi': np.linspace(0, chi_width, len(pol_paras[0].chi.values))})  # .assign_coords({'chi': np.linspace(0, 90,len(pol_paras[1].chi.values))})\n",
    "    pol_paras[1] = pol_paras[1].assign_coords({'chi': np.linspace(0, chi_width, len(pol_paras[1].chi.values))})  # .assign_coords({'chi': np.linspace(0, 90,len(pol_paras[1].chi.values))})\n",
    "    pol_perps[0] = pol_perps[0].assign_coords({'chi': np.linspace(0, chi_width, len(pol_perps[0].chi.values))})  # .assign_coords({'chi': np.linspace(0, 90,len(pol_perps[1].chi.values))})\n",
    "    pol_perps[1] = pol_perps[1].assign_coords({'chi': np.linspace(0, chi_width, len(pol_perps[1].chi.values))})  # .assign_coords({'chi': np.linspace(0, 90,len(pol_perps[1].chi.values))})\n",
    "\n",
    "    pol_paras[0] = pol_paras[0].interp({'chi': pol_paras[1].chi.values})  # .assign_coords({'chi': np.linspace(0, 90,len(pol_paras[1].chi.values))})\n",
    "    pol_perps[0] = pol_perps[0].interp({'chi': pol_perps[1].chi.values})  # .assign_coords({'chi': np.linspace(0, 90,len(pol_perps[1].chi.values))})\n",
    "\n",
    "    para_DA = (pol_paras[0] + pol_paras[1])/2\n",
    "    perp_DA = (pol_perps[0] + pol_perps[1])/2\n",
    "\n",
    "    para_DA = para_DA.assign_coords({'polarization':'avg'})\n",
    "    perp_DA = perp_DA.assign_coords({'polarization':'avg'})\n",
    "\n",
    "    para_DA = para_DA.interpolate_na(dim='q')\n",
    "    perp_DA = perp_DA.interpolate_na(dim='q')\n",
    "\n",
    "    pol = str(para_DA.polarization.values) \n",
    "\n",
    "    # Select AR data\n",
    "    ar_DA = (para_DA.mean('chi') - perp_DA.mean('chi')) / (para_DA.mean('chi') + perp_DA.mean('chi'))\n",
    "\n",
    "    # Plot\n",
    "    vlim = 0.4\n",
    "    ax = ar_DA.sel(energy=e_slice).plot.pcolormesh(figsize=(8,5), norm=plt.Normalize(-vlim, vlim))\n",
    "    # ax = ar_DA.sel(energy=slice(energy_min,energy_max)).plot(figsize=(8,5))\n",
    "\n",
    "    ax.figure.suptitle('Anisotropy Ratio (AR) Map', fontsize=14, x=0.43)\n",
    "    ax.axes.set(title=f'{sample_name}, Polarization = {pol}°, Chi Width = {chi_width}°', ylabel='Photon Energy [eV]', xlabel='q [$Å^{-1}$]', xscale='log')\n",
    "    ax.colorbar.set_label('AR [arb. units]', rotation=270, labelpad=12)\n",
    "\n",
    "    savePath = plotsPath.joinpath('rsoxs_carbon_reverse/ar_maps_v1')\n",
    "    savePath.mkdir(exist_ok=True)\n",
    "    ax.figure.savefig(savePath.joinpath( \n",
    "        f'vset_{sample_name}_{intensity_type}_chiWidth-{chi_width}deg_q-{q_slice.start}-{q_slice.stop}_energy{e_slice.start}-{e_slice.stop}_pol{pol}deg.png'), \n",
    "                      dpi=120)\n",
    "\n",
    "    # plt.show()\n",
    "    plt.close('all')"
   ]
  },
  {
   "cell_type": "code",
   "execution_count": null,
   "id": "64",
   "metadata": {
    "tags": []
   },
   "outputs": [],
   "source": [
    "# make selection, individual polarizations\n",
    "edge = 'carbon'\n",
    "# DS = rsoxs_datasets[f'polar_{edge}']\n",
    "DS = rsoxs_datasets[f'polar_{edge}_tilted']\n",
    "\n",
    "intensity_type = 'corr'\n",
    "chi_width = 90\n",
    "q_slice = slice(0.009, 0.08)\n",
    "e_slice = slice(282, 292)\n",
    "\n",
    "for sample_name in tqdm(DS.sample_name.values[:]):  \n",
    "    for pol in [0, 45, 90]:\n",
    "        para_DA, perp_DA = make_para_perp_DAs(DS, sample_name, intensity_type, pol, (q_slice.start,q_slice.stop), chi_width) \n",
    "\n",
    "\n",
    "        # Select AR data\n",
    "        ar_DA = (para_DA.mean('chi') - perp_DA.mean('chi')) / (para_DA.mean('chi') + perp_DA.mean('chi'))\n",
    "\n",
    "        # Plot\n",
    "        vlim = 0.5\n",
    "        ax = ar_DA.sel(energy=e_slice).plot.pcolormesh(figsize=(8,5), norm=plt.Normalize(-vlim, vlim))\n",
    "        # ax = ar_DA.sel(energy=slice(energy_min,energy_max)).plot(figsize=(8,5))\n",
    "\n",
    "        ax.figure.suptitle('Anisotropy Ratio (AR) Map', fontsize=14, x=0.43)\n",
    "        ax.axes.set(title=f'{sample_name}, Polarization = {pol}°, Chi Width = {chi_width}°', ylabel='Photon Energy [eV]', xlabel='q [$Å^{-1}$]', xscale='log')\n",
    "        ax.colorbar.set_label('AR [arb. units]', rotation=270, labelpad=12)\n",
    "\n",
    "        savePath = plotsPath.joinpath('rsoxs_carbon_tilted/ar_maps_v1')\n",
    "        savePath.mkdir(exist_ok=True)\n",
    "        ax.figure.savefig(savePath.joinpath( \n",
    "            f'vset_{sample_name}_{intensity_type}_chiWidth-{chi_width}deg_q-{q_slice.start}-{q_slice.stop}_energy{e_slice.start}-{e_slice.stop}_pol{pol}deg.png'), \n",
    "                          dpi=120)\n",
    "\n",
    "        # plt.show()\n",
    "        plt.close('all')"
   ]
  },
  {
   "cell_type": "markdown",
   "id": "65",
   "metadata": {
    "tags": []
   },
   "source": [
    "### 2. 1D meaned AR linecuts"
   ]
  },
  {
   "cell_type": "code",
   "execution_count": null,
   "id": "66",
   "metadata": {
    "tags": []
   },
   "outputs": [],
   "source": [
    "# make selection\n",
    "edge = 'carbon'\n",
    "# DS = rsoxs_datasets[f'polar_{edge}']\n",
    "DS = rsoxs_datasets[f'polar_{edge}_reverse']\n",
    "\n",
    "intensity_type = 'corr'\n",
    "chi_width = 90\n",
    "q_slice = slice(0.008, None)\n",
    "e_slice = slice(282, 292)\n",
    "\n",
    "selected_samples = ['PM6_CB', 'PM6_p5CN-CB', 'PM6_1CN-CB', 'PM6_5CN-CB', \n",
    "                    'PM6_CF', 'PM6_p5CN-CF', 'PM6_1CN-CF', 'PM6_5CN-CF', \n",
    "                    'PM6_4CF-1CB', 'PM6_2CF-3CB', 'PM6_p5CN-2CF-3CB'] \n",
    "\n",
    "for sample_name in tqdm(DS.sample_name.values[:]):\n",
    "# for sample_name in tqdm(selected_samples):\n",
    "    pol_paras = []\n",
    "    pol_perps = []\n",
    "    for pol in [0, 90]:\n",
    "        para_DA, perp_DA = make_para_perp_DAs(DS, sample_name, intensity_type, pol, (q_slice.start,q_slice.stop), chi_width) \n",
    "        pol_paras.append(para_DA)\n",
    "        pol_perps.append(perp_DA)\n",
    "\n",
    "\n",
    "    pol_paras[0] = pol_paras[0].assign_coords({'chi': np.linspace(0, chi_width, len(pol_paras[0].chi.values))})  # .assign_coords({'chi': np.linspace(0, 90,len(pol_paras[1].chi.values))})\n",
    "    pol_paras[1] = pol_paras[1].assign_coords({'chi': np.linspace(0, chi_width, len(pol_paras[1].chi.values))})  # .assign_coords({'chi': np.linspace(0, 90,len(pol_paras[1].chi.values))})\n",
    "    pol_perps[0] = pol_perps[0].assign_coords({'chi': np.linspace(0, chi_width, len(pol_perps[0].chi.values))})  # .assign_coords({'chi': np.linspace(0, 90,len(pol_perps[1].chi.values))})\n",
    "    pol_perps[1] = pol_perps[1].assign_coords({'chi': np.linspace(0, chi_width, len(pol_perps[1].chi.values))})  # .assign_coords({'chi': np.linspace(0, 90,len(pol_perps[1].chi.values))})\n",
    "\n",
    "    pol_paras[0] = pol_paras[0].interp({'chi': pol_paras[1].chi.values})  # .assign_coords({'chi': np.linspace(0, 90,len(pol_paras[1].chi.values))})\n",
    "    pol_perps[0] = pol_perps[0].interp({'chi': pol_perps[1].chi.values})  # .assign_coords({'chi': np.linspace(0, 90,len(pol_perps[1].chi.values))})\n",
    "\n",
    "    para_DA = (pol_paras[0] + pol_paras[1])/2\n",
    "    perp_DA = (pol_perps[0] + pol_perps[1])/2\n",
    "\n",
    "    para_DA = para_DA.assign_coords({'polarization':'avg'})\n",
    "    perp_DA = perp_DA.assign_coords({'polarization':'avg'})\n",
    "\n",
    "    para_DA = para_DA.interpolate_na(dim='q')\n",
    "    perp_DA = perp_DA.interpolate_na(dim='q')\n",
    "\n",
    "    pol = str(para_DA.polarization.values) \n",
    "\n",
    "    # Select AR data\n",
    "    ar_DA = (para_DA.mean('chi') - perp_DA.mean('chi')) / (para_DA.mean('chi') + perp_DA.mean('chi'))\n",
    "\n",
    "    # Plot   \n",
    "    energies = para_DA.energy.sel(energy=[260, 275, 283, 284, 284.4, 284.8, 285.2, 285.6, 286.2, 287, 300, 338.75], method='nearest').data\n",
    "    cmap = plt.cm.turbo.copy()\n",
    "    colors = cmap(np.linspace(0, 1, len(energies)))        \n",
    "\n",
    "    # # Create a ScalarMappable object with the colormap and normalization & add the colorbar to the figure\n",
    "    # sm = plt.cm.ScalarMappable(cmap=cmap, norm=plt.Normalize(vmin=energies[0], vmax=energies[-1]))\n",
    "    # cax = ax.inset_axes([1.03, 0, 0.03, 1])\n",
    "    # cbar = fig.colorbar(sm, cax=cax, orientation='vertical')\n",
    "    # cbar.set_label(label=f'Time [seconds]', labelpad=14)\n",
    "    # cbar.set_ticks(np.round(np.linspace(energies[0], energies[-1], len(energies)), 2))\n",
    "\n",
    "    fig, ax = plt.subplots(tight_layout=True, figsize=(6,4), dpi=120)\n",
    "\n",
    "    for j, energy in enumerate(energies):\n",
    "        (ar_DA.sel(energy=energy).plot.line(ax=ax, color=colors[j], label=energy, xscale='log'))\n",
    "\n",
    "    fig.suptitle(f'Anisotropy Ratio Linecuts: {sample_name}', x=0.46, y=0.95)\n",
    "\n",
    "    ax.set(title=f'Chi width = {chi_width}°, Pol = {pol}°', ylim=(-0.5, 0.5), ylabel='AR [arb. units]', xlabel='Q [$Å^{-1}$]')\n",
    "    ax.legend(title='Energy [eV]', loc=(1.03,0.02))\n",
    "\n",
    "    savePath = plotsPath.joinpath('rsoxs_carbon_reverse/ar_cuts_v1')\n",
    "    savePath.mkdir(exist_ok=True)\n",
    "    fig.savefig(savePath.joinpath( \n",
    "        f'{sample_name}_{intensity_type}_chiWidth-{chi_width}deg_q-{q_slice.start}-{q_slice.stop}_pol{pol}deg.png'), dpi=120)\n",
    "\n",
    "    # plt.show()\n",
    "    plt.close('all')"
   ]
  },
  {
   "cell_type": "code",
   "execution_count": null,
   "id": "67",
   "metadata": {
    "tags": []
   },
   "outputs": [],
   "source": [
    "# make selection, individual polarizations\n",
    "edge = 'carbon'\n",
    "# DS = rsoxs_datasets[f'polar_{edge}']\n",
    "DS = rsoxs_datasets[f'polar_{edge}_tilted']\n",
    "\n",
    "intensity_type = 'corr'\n",
    "chi_width = 90\n",
    "q_slice = slice(0.009, 0.08)\n",
    "e_slice = slice(282, 292)\n",
    "\n",
    "for sample_name in tqdm(DS.sample_name.values[:]):\n",
    "    for pol in [0, 45, 90]:\n",
    "        para_DA, perp_DA = make_para_perp_DAs(DS, sample_name, intensity_type, pol, (q_slice.start,q_slice.stop), chi_width) \n",
    "\n",
    "        # Select AR data\n",
    "        ar_DA = (para_DA.mean('chi') - perp_DA.mean('chi')) / (para_DA.mean('chi') + perp_DA.mean('chi'))\n",
    "\n",
    "        # Plot   \n",
    "        energies = para_DA.energy.sel(energy=[260, 275, 283, 284, 284.4, 284.8, 285.2, 285.6, 286.2, 287, 300, 338.75], method='nearest').data\n",
    "        cmap = plt.cm.turbo.copy()\n",
    "        colors = cmap(np.linspace(0, 1, len(energies)))        \n",
    "\n",
    "        # # Create a ScalarMappable object with the colormap and normalization & add the colorbar to the figure\n",
    "        # sm = plt.cm.ScalarMappable(cmap=cmap, norm=plt.Normalize(vmin=energies[0], vmax=energies[-1]))\n",
    "        # cax = ax.inset_axes([1.03, 0, 0.03, 1])\n",
    "        # cbar = fig.colorbar(sm, cax=cax, orientation='vertical')\n",
    "        # cbar.set_label(label=f'Time [seconds]', labelpad=14)\n",
    "        # cbar.set_ticks(np.round(np.linspace(energies[0], energies[-1], len(energies)), 2))\n",
    "\n",
    "        fig, ax = plt.subplots(tight_layout=True, figsize=(6,4), dpi=120)\n",
    "\n",
    "        for j, energy in enumerate(energies):\n",
    "            (ar_DA.sel(energy=energy).plot.line(ax=ax, color=colors[j], label=energy, xscale='log'))\n",
    "\n",
    "        fig.suptitle(f'Anisotropy Ratio Linecuts: {sample_name}', x=0.46, y=0.95)\n",
    "\n",
    "        # ax.set(title=f'Chi width = {chi_width}°, Pol = {pol}°', ylim=(-0.5, 0.5), ylabel='AR [arb. units]', xlabel='Q [$Å^{-1}$]')\n",
    "        ax.set(title=f'Chi width = {chi_width}°, Pol = {pol}°', ylabel='AR [arb. units]', xlabel='Q [$Å^{-1}$]')\n",
    "\n",
    "        ax.legend(title='Energy [eV]', loc=(1.03,0.02))\n",
    "\n",
    "        savePath = plotsPath.joinpath('rsoxs_carbon_tilted/ar_cuts_v1')\n",
    "        savePath.mkdir(exist_ok=True)\n",
    "        fig.savefig(savePath.joinpath( \n",
    "            f'{sample_name}_{intensity_type}_chiWidth-{chi_width}deg_q-{q_slice.start}-{q_slice.stop}_pol{pol}deg.png'), dpi=120)\n",
    "\n",
    "        # plt.show()\n",
    "        plt.close('all')"
   ]
  },
  {
   "cell_type": "markdown",
   "id": "0e9b442a-445c-44bb-a33a-32fc22d96ebc",
   "metadata": {
    "tags": []
   },
   "source": [
    "### Para - perp log scale intensity"
   ]
  },
  {
   "cell_type": "code",
   "execution_count": null,
   "id": "86f843a0-31a6-4a7c-8f17-2cf913023ecc",
   "metadata": {
    "tags": []
   },
   "outputs": [],
   "source": [
    "%matplotlib inline"
   ]
  },
  {
   "cell_type": "code",
   "execution_count": null,
   "id": "31d4f831-1c2a-4caf-b0bf-ba15d10fdd75",
   "metadata": {
    "tags": []
   },
   "outputs": [],
   "source": [
    "plotsPath"
   ]
  },
  {
   "cell_type": "code",
   "execution_count": null,
   "id": "db1d2486-0162-4a03-aff0-622b98785baa",
   "metadata": {
    "tags": []
   },
   "outputs": [],
   "source": [
    "porod_slice"
   ]
  },
  {
   "cell_type": "code",
   "execution_count": null,
   "id": "33ad047b-fae3-41d2-80f4-8ae6bc42fd6b",
   "metadata": {
    "tags": []
   },
   "outputs": [],
   "source": [
    "# make selection\n",
    "edge = 'carbon'\n",
    "DS = rsoxs_datasets[f'polar_{edge}']\n",
    "# DS = rsoxs_datasets[f'polar_{edge}_tilted']\n",
    "\n",
    "intensity_type = 'corr'\n",
    "chi_width = 90\n",
    "q_slice = slice(0.01, None)\n",
    "e_slice = slice(282, 292)\n",
    "porod_slices = []\n",
    "# porod_slices = [slice(0.0107, 0.0138), # Calculate 1 degree polynomial (straigh line) through these regions\n",
    "#                 slice(0.0107, 0.0240),\n",
    "#                 slice(0.0250, 0.0500),\n",
    "#                 slice(0.0500, 0.0800)]\n",
    "\n",
    "# selected_samples = ['PM6_CB', 'PM6_p5CN-CB', 'PM6_1CN-CB', 'PM6_5CN-CB', \n",
    "#                     'PM6_CF', 'PM6_p5CN-CF', 'PM6_1CN-CF', 'PM6_5CN-CF', \n",
    "#                     'PM6_4CF-1CB', 'PM6_2CF-3CB', 'PM6_p5CN-2CF-3CB'] \n",
    "selected_samples = ['PM6_5CN-CB', 'PM6_CF']\n",
    "\n",
    "plt.close('all')\n",
    "\n",
    "all_slopes = {}\n",
    "# for sample_name in tqdm(DS.sample_name.values[:]):\n",
    "for sample_name in tqdm(selected_samples):\n",
    "    pol_paras = []\n",
    "    pol_perps = []\n",
    "    slopes = {}\n",
    "    for pol in [0, 90]:\n",
    "        para_DA, perp_DA = make_para_perp_DAs(DS, sample_name, intensity_type, pol, (q_slice.start,q_slice.stop), chi_width) \n",
    "        pol_paras.append(para_DA)\n",
    "        pol_perps.append(perp_DA)\n",
    "\n",
    "\n",
    "    pol_paras[0] = pol_paras[0].assign_coords({'chi': np.linspace(0, chi_width, len(pol_paras[0].chi.values))})  # .assign_coords({'chi': np.linspace(0, 90,len(pol_paras[1].chi.values))})\n",
    "    pol_paras[1] = pol_paras[1].assign_coords({'chi': np.linspace(0, chi_width, len(pol_paras[1].chi.values))})  # .assign_coords({'chi': np.linspace(0, 90,len(pol_paras[1].chi.values))})\n",
    "    pol_perps[0] = pol_perps[0].assign_coords({'chi': np.linspace(0, chi_width, len(pol_perps[0].chi.values))})  # .assign_coords({'chi': np.linspace(0, 90,len(pol_perps[1].chi.values))})\n",
    "    pol_perps[1] = pol_perps[1].assign_coords({'chi': np.linspace(0, chi_width, len(pol_perps[1].chi.values))})  # .assign_coords({'chi': np.linspace(0, 90,len(pol_perps[1].chi.values))})\n",
    "\n",
    "    pol_paras[0] = pol_paras[0].interp({'chi': pol_paras[1].chi.values})  # .assign_coords({'chi': np.linspace(0, 90,len(pol_paras[1].chi.values))})\n",
    "    pol_perps[0] = pol_perps[0].interp({'chi': pol_perps[1].chi.values})  # .assign_coords({'chi': np.linspace(0, 90,len(pol_perps[1].chi.values))})\n",
    "\n",
    "    para_DA = (pol_paras[0] + pol_paras[1])/2\n",
    "    perp_DA = (pol_perps[0] + pol_perps[1])/2\n",
    "\n",
    "    para_DA = para_DA.assign_coords({'polarization':'avg'})\n",
    "    perp_DA = perp_DA.assign_coords({'polarization':'avg'})\n",
    "\n",
    "    para_DA = para_DA.interpolate_na(dim='q')\n",
    "    perp_DA = perp_DA.interpolate_na(dim='q')\n",
    "\n",
    "    pol = str(para_DA.polarization.values) \n",
    "\n",
    "    # Select AR data\n",
    "    # ar_DA = (para_DA.mean('chi') - perp_DA.mean('chi'))  # / (para_DA.mean('chi') + perp_DA.mean('chi'))\n",
    "    ar_DA = np.abs(para_DA.mean('chi') - perp_DA.mean('chi'))  # / (para_DA.mean('chi') + perp_DA.mean('chi'))\n",
    "\n",
    "    # Plot   \n",
    "    energies = para_DA.energy.sel(energy=[260, 283, 284.4, 284.8, 285.2, 286.2, 338.75], method='nearest').data\n",
    "    cmap = plt.cm.turbo.copy()\n",
    "    colors = cmap(np.linspace(0, 1, len(energies)))        \n",
    "\n",
    "    # # Create a ScalarMappable object with the colormap and normalization & add the colorbar to the figure\n",
    "    # sm = plt.cm.ScalarMappable(cmap=cmap, norm=plt.Normalize(vmin=energies[0], vmax=energies[-1]))\n",
    "    # cax = ax.inset_axes([1.03, 0, 0.03, 1])\n",
    "    # cbar = fig.colorbar(sm, cax=cax, orientation='vertical')\n",
    "    # cbar.set_label(label=f'Time [seconds]', labelpad=14)\n",
    "    # cbar.set_ticks(np.round(np.linspace(energies[0], energies[-1], len(energies)), 2))\n",
    "\n",
    "    fig, ax = plt.subplots(tight_layout=True, figsize=(6,4), dpi=120)\n",
    "\n",
    "    for j, energy in enumerate(tqdm(energies, desc='Plotting & fitting slopes per energy')):\n",
    "        sel_DA = ar_DA.sel(energy=energy)\n",
    "        sel_DA.plot.line(ax=ax, color=colors[j], label=energy, xscale='log', yscale='log',\n",
    "                         linestyle='None', marker='.', markersize=3)\n",
    "        \n",
    "        porod_slopes = {}\n",
    "        for porod_slice in porod_slices:\n",
    "            m, b = np.polyfit(np.log(sel_DA.sel(q=porod_slice).q.data), np.log(sel_DA.sel(q=porod_slice).data.compute()), deg=1)\n",
    "            # display(porod_slice, m)       \n",
    "            porod_slopes[f'{porod_slice.start}-{porod_slice.stop}'] = np.round(m, 2)\n",
    "            \n",
    "        slopes[energy] = porod_slopes\n",
    "        \n",
    "    all_slopes[sample_name] = slopes\n",
    "    fig.suptitle(f'$\\parallel$ - $\\perp$ Intensity Absolute Difference: {sample_name}', x=0.46, y=0.95)\n",
    "\n",
    "    ax.set(title=f'Chi width = {chi_width}°, Pol = {pol}°', ylim=(1e8, None), ylabel='Intensity [arb. units]', xlabel='Q [$Å^{-1}$]')\n",
    "    # ax.set(title=f'Chi width = {chi_width}°, Pol = {pol}°', ylim=(None, None), ylabel='AR [arb. units]', xlabel='Q [$Å^{-1}$]')\n",
    "    ax.axes.grid(visible=True, which='both', axis='x')\n",
    "    legend = ax.legend(title='Energy [eV]', loc=(1.03,0.23))\n",
    "    for handle in legend.legend_handles:\n",
    "        handle.set_markersize(15)\n",
    "    \n",
    "    # savePath = plotsPath.joinpath('rsoxs_carbon/para-perp_cuts_v3')\n",
    "    # savePath.mkdir(exist_ok=True)\n",
    "    # fig.savefig(savePath.joinpath( \n",
    "    #     f'{sample_name}_{intensity_type}_chiWidth-{chi_width}deg_q-{q_slice.start}-{q_slice.stop}_pol{pol}deg.png'), dpi=120)\n",
    "\n",
    "    plt.show()\n",
    "    plt.close('all')\n",
    "    \n",
    "# # Save all_slopes.json in same save folder\n",
    "# json_data = json.dumps(all_slopes)\n",
    "# with open(str(savePath.joinpath('all_slopes.json')), 'w') as f:\n",
    "#     f.write(json_data)"
   ]
  },
  {
   "cell_type": "code",
   "execution_count": null,
   "id": "0a408645-83f1-47e3-9adc-a361361d8668",
   "metadata": {
    "tags": []
   },
   "outputs": [],
   "source": [
    "all_slopes"
   ]
  },
  {
   "cell_type": "markdown",
   "id": "5d5f6bb9-902c-41b8-ad22-fcc43ff6fbbf",
   "metadata": {
    "tags": []
   },
   "source": [
    "### Load solution SAXS PM6 data text files"
   ]
  },
  {
   "cell_type": "code",
   "execution_count": null,
   "id": "70d77d1e-9af4-4ebd-b9cc-bfacb358c4db",
   "metadata": {
    "tags": []
   },
   "outputs": [],
   "source": [
    "from scipy.ndimage import gaussian_filter1d"
   ]
  },
  {
   "cell_type": "code",
   "execution_count": null,
   "id": "0636b9fd-ca0b-4415-bec3-7c4b248742cc",
   "metadata": {
    "tags": []
   },
   "outputs": [],
   "source": [
    "# Check files\n",
    "saxsPath = pathlib.Path('/nsls2/data/sst/proposals/2023-3/pass-313412/processed_data/prsoxs_plots/carbon/PM6_solution_saxs_txts')\n",
    "# saxsPath = outPath.joinpath('prsoxs_plots/carbon/PM6_solution_saxs_txts')\n",
    "display([f.name for f in sorted(saxsPath.glob('*'))[:3]])\n",
    "display([f.name for f in sorted(saxsPath.glob('*'))[3:]])"
   ]
  },
  {
   "cell_type": "code",
   "execution_count": null,
   "id": "5979c72b-821c-458c-b732-b1aadd7f9656",
   "metadata": {
    "tags": []
   },
   "outputs": [],
   "source": [
    "# plt.close('all')\n",
    "# sigmas = [1, 2, 3, 4]\n",
    "# colors = plt.cm.viridis(np.linspace(0,0.85,len(sigmas)))\n",
    "# for arr in [pm6_cb, pm6_cf, pm6_cn]:\n",
    "#     fig, ax = plt.subplots()\n",
    "#     for i, sigma in enumerate(sigmas[::1]):\n",
    "#         ax.plot(gaussian_filter1d(arr[:,1], sigma), color=colors[i], label=sigma)\n",
    "#         ax.set(xscale='log', yscale='log')\n",
    "#         ax.legend(title='sigma')\n",
    "\n",
    "#     # plt.show()\n",
    "#     # plt.close('all')"
   ]
  },
  {
   "cell_type": "code",
   "execution_count": null,
   "id": "afa1cb23-a5b6-4c0f-a1d6-5ed7daeef01c",
   "metadata": {
    "tags": []
   },
   "outputs": [],
   "source": [
    "# Load data into numpy arrays\n",
    "pm6_cb, pm6_cf, pm6_cn = [np.loadtxt(f) for f in sorted(saxsPath.glob('*'))[:3]]\n",
    "y6_cn, y6_to, y7_cb, y7_cn = [np.loadtxt(f) for f in sorted(saxsPath.glob('*'))[3:]]\n",
    "\n",
    "# Smooth saxs with gaussian filter:\n",
    "sigma = 3  # In pixels\n",
    "pm6_cb[:,1], pm6_cf[:,1], pm6_cn[:,1] = [gaussian_filter1d(arr[:,1], sigma) for arr in [pm6_cb, pm6_cf, pm6_cn]]\n",
    "y6_cn[:,1], y6_to[:,1], y7_cb[:,1], y7_cn[:,1] = [gaussian_filter1d(arr[:,1], sigma) for arr in [y6_cn, y6_to, y7_cb, y7_cn]]\n",
    "\n",
    "# Below should really just be a loop... made sense for 3 samples\n",
    "# Put numpy arrays into DataArrays\n",
    "pm6_cb_DA = xr.DataArray(data=pm6_cb[:,1], dims=['q'], coords={'q':pm6_cb[:,0], 'err':('q', pm6_cb[:,2])})\n",
    "pm6_cf_DA = xr.DataArray(data=pm6_cf[:,1], dims=['q'], coords={'q':pm6_cf[:,0], 'err':('q', pm6_cf[:,2])})\n",
    "pm6_cn_DA = xr.DataArray(data=pm6_cn[:,1], dims=['q'], coords={'q':pm6_cn[:,0], 'err':('q', pm6_cn[:,2])})                                              \n",
    "y6_cn_DA = xr.DataArray(data=y6_cn[:,1], dims=['q'], coords={'q':y6_cn[:,0], 'err':('q', y6_cn[:,2])})\n",
    "y6_to_DA = xr.DataArray(data=y6_to[:,1], dims=['q'], coords={'q':y6_to[:,0], 'err':('q', y6_to[:,2])})\n",
    "y7_cb_DA = xr.DataArray(data=y7_cb[:,1], dims=['q'], coords={'q':y7_cb[:,0], 'err':('q', y7_cb[:,2])})\n",
    "y7_cn_DA = xr.DataArray(data=y7_cn[:,1], dims=['q'], coords={'q':y7_cn[:,0], 'err':('q', y7_cn[:,2])})\n",
    "                                                  \n",
    "# Move DataArrays into Dataset\n",
    "saxs_DS = xr.Dataset(attrs={'name':'PM6_Solution_SAXS'})\n",
    "saxs_DS['PM6_CB'] = pm6_cb_DA\n",
    "saxs_DS['PM6_CF'] = pm6_cf_DA\n",
    "saxs_DS['PM6_CN'] = pm6_cn_DA                                            \n",
    "saxs_DS['Y6_CN'] = y6_cn_DA\n",
    "saxs_DS['Y6_TO'] = y6_to_DA\n",
    "saxs_DS['Y7_CB'] = y7_cb_DA\n",
    "saxs_DS['Y7_CN'] = y7_cn_DA\n",
    "\n",
    "saxs_DS"
   ]
  },
  {
   "cell_type": "code",
   "execution_count": null,
   "id": "e19cd7ba-a46e-4940-b8a5-eee9a0ddd124",
   "metadata": {
    "tags": []
   },
   "outputs": [],
   "source": [
    "# # Ensure q values are equal between datasets, else interpolation needed\n",
    "# print(np.array_equal(pm6_cb[:,0], pm6_cf[:,0]))\n",
    "# print(np.array_equal(pm6_cf[:,0], pm6_cn[:,0]))"
   ]
  },
  {
   "cell_type": "code",
   "execution_count": null,
   "id": "0e32d76a-bfa6-45ec-bcac-8407a67aefee",
   "metadata": {
    "tags": []
   },
   "outputs": [],
   "source": [
    "# qmin = 0.008\n",
    "qmin = None\n",
    "# qmax = float(full_DS.q.max())\n",
    "qmax = None\n",
    "\n",
    "plt.close('all')\n",
    "fig, ax = plt.subplots()\n",
    "for sample in ['PM6_CB', 'PM6_CF', 'PM6_CN']:\n",
    "    saxs_DS[sample].sel(q=slice(qmin,qmax)).plot.line(ax=ax, xscale='log',yscale='log', label=sample)\n",
    "\n",
    "ax.set_ybound(lower=1e-5)\n",
    "ax.legend()\n",
    "plt.show()"
   ]
  },
  {
   "cell_type": "code",
   "execution_count": null,
   "id": "872a7441-d6fa-4bbb-9b07-343c9ecc38ce",
   "metadata": {
    "tags": []
   },
   "outputs": [],
   "source": [
    "%matplotlib widget"
   ]
  },
  {
   "cell_type": "code",
   "execution_count": null,
   "id": "13675f77-1532-4ba9-8d23-96ab75f6da69",
   "metadata": {
    "tags": []
   },
   "outputs": [],
   "source": [
    "# qmin = 0.008\n",
    "qmin = None\n",
    "# qmax = float(full_DS.q.max())\n",
    "qmax = None\n",
    "\n",
    "plt.close('all')\n",
    "fig, ax = plt.subplots()\n",
    "for sample in ['Y6_CN', 'Y7_CB', 'Y7_CN']:\n",
    "# for sample in ['Y7_CB', 'Y7_CN']:\n",
    "    saxs_DS[sample].sel(q=slice(qmin,qmax)).plot.line(ax=ax, xscale='log',yscale='log', label=sample)\n",
    "\n",
    "ax.set_ybound(lower=1e-5)\n",
    "ax.legend()\n",
    "plt.show()"
   ]
  },
  {
   "cell_type": "markdown",
   "id": "5efe12b9-9fe0-46a6-8016-17e1c3a5b487",
   "metadata": {
    "tags": []
   },
   "source": [
    "### Plot para-perp P-RSoXS + solution SAXS overlays"
   ]
  },
  {
   "cell_type": "code",
   "execution_count": null,
   "id": "9fcc3eca-810a-4e78-aaf1-b56a5a3446f8",
   "metadata": {
    "tags": []
   },
   "outputs": [],
   "source": [
    "%matplotlib widget"
   ]
  },
  {
   "cell_type": "code",
   "execution_count": null,
   "id": "a3618e55-f0af-40fd-8248-a2cd5bff3d3a",
   "metadata": {
    "tags": []
   },
   "outputs": [],
   "source": [
    "sn = {\n",
    "    'PM6_CF': 'PM6, CF',\n",
    "    'PM6_5CN-CF': 'PM6, CF 5%CN',\n",
    "    'PM6_5CN-CB': 'PM6, CB 5%CN'\n",
    "}"
   ]
  },
  {
   "cell_type": "code",
   "execution_count": null,
   "id": "4ab82cd2-17b1-4bfe-9c10-522853cf3bf6",
   "metadata": {
    "tags": []
   },
   "outputs": [],
   "source": [
    "# make selection\n",
    "edge = 'carbon'\n",
    "DS = rsoxs_datasets[f'polar_{edge}']\n",
    "\n",
    "intensity_type = 'corr'\n",
    "chi_width = 90\n",
    "q_slice = slice(0.01, None)\n",
    "# e_slice = slice(282, 292)\n",
    "energy = 285.2\n",
    "# energy = 284.8\n",
    "# energies = [260, 283, 284.4, 284.8, 285.2, 286.2, 338.75]\n",
    "# shift_qval = 0.0104  # value by which to look to shift data, divide rsoxs by this value\n",
    "shift_qval = 0.02  # value by which to look to shift data, divide rsoxs by this value\n",
    "\n",
    "# selected_samples = ['PM6_CB', 'PM6_p5CN-CB', 'PM6_1CN-CB', 'PM6_5CN-CB', \n",
    "#                     'PM6_CF', 'PM6_p5CN-CF', 'PM6_1CN-CF', 'PM6_5CN-CF', \n",
    "#                     'PM6_4CF-1CB', 'PM6_2CF-3CB', 'PM6_p5CN-2CF-3CB'] \n",
    "selected_samples = ['PM6_CF', 'PM6_5CN-CB']\n",
    "# selected_samples = ['PM6_5CN-CF']\n",
    "# selected_samples = ['PM6_CB', 'PM6_p5CN-CB', 'PM6_1CN-CB', 'PM6_5CN-CB']\n",
    "# selected_samples = ['PM6_CF', 'PM6_p5CN-CF', 'PM6_1CN-CF', 'PM6_5CN-CF']\n",
    "# selected_samples = ['PM6_4CF-1CB', 'PM6_2CF-3CB', 'PM6_p5CN-2CF-3CB']\n",
    "\n",
    "# selected_samples = ['Y6_CF', 'Y6_p5CN-CF', \n",
    "#                     'Y6_4CF-1CB', 'Y6_2CF-3CB', 'Y6_p5CN-2CF-3CB', \n",
    "#                     'Y6_CB', 'Y6_p5CN-CB',\n",
    "#                     'Y6BO_CF', 'Y6BO_p5CN-CF', 'Y6BO_CB', 'Y6BO_p5CN-CB']\n",
    "# selected_samples = ['Y6_4CF-1CB', 'Y6_2CF-3CB', 'Y6_p5CN-2CF-3CB']\n",
    "# selected_samples = ['Y6_CB', 'Y6_p5CN-CB']\n",
    "\n",
    "# saxs_samples = ['PM6_CF', 'PM6_CB', 'PM6_CN']\n",
    "saxs_samples = ['PM6_CF', 'PM6_CN']\n",
    "# saxs_samples = ['Y6_CN', 'Y7_CN', 'Y7_CB']\n",
    "saxs_sample_to_align = 'PM6_CN'\n",
    "selected_qval = float(saxs_DS[saxs_sample_to_align].sel(q=shift_qval, method='nearest'))\n",
    "\n",
    "# Shift all saxs to line up with selected sample qval\n",
    "factor1 = selected_qval / float(saxs_DS['PM6_CB'].sel(q=shift_qval, method='nearest'))\n",
    "factor2 = selected_qval / float(saxs_DS['PM6_CF'].sel(q=shift_qval, method='nearest'))\n",
    "pm6_cb_shifted = saxs_DS['PM6_CB'] * factor1\n",
    "pm6_cf_shifted = saxs_DS['PM6_CF'] * factor2\n",
    "\n",
    "# factor1 = selected_qval / float(saxs_DS['Y7_CN'].sel(q=shift_qval, method='nearest'))\n",
    "# factor2 = selected_qval / float(saxs_DS['Y7_CB'].sel(q=shift_qval, method='nearest'))\n",
    "# y7_cn_shifted = saxs_DS['Y7_CN'] * factor1\n",
    "# y7_cb_shifted = saxs_DS['Y7_CB'] * factor2\n",
    "\n",
    "# saxs_colors = plt.cm.RdPu(np.linspace(0.4,1,len(saxs_samples)))\n",
    "saxs_colors = plt.cm.Blues(np.linspace(0.5,1,len(saxs_samples)))\n",
    "plt.close('all')\n",
    "\n",
    "# for selected_samples in (['Y6_CF', 'Y6_p5CN-CF'],\n",
    "#                          ['Y6_4CF-1CB', 'Y6_2CF-3CB', 'Y6_p5CN-2CF-3CB'], \n",
    "#                          ['Y6_CB', 'Y6_p5CN-CB']):\n",
    "# for selected_samples in (['PM6_CB', 'PM6_p5CN-CB', 'PM6_1CN-CB', 'PM6_5CN-CB'],\n",
    "#                          ['PM6_CF', 'PM6_p5CN-CF', 'PM6_1CN-CF', 'PM6_5CN-CF'],\n",
    "#                          ['PM6_4CF-1CB', 'PM6_2CF-3CB', 'PM6_p5CN-2CF-3CB']):\n",
    "rsoxs_colors = plt.cm.Blues(np.linspace(0.3,0.8,len(selected_samples)))\n",
    "fig, ax = plt.subplots(tight_layout=True, figsize=(4.8,4.3), dpi=130)\n",
    "for i, sample_name in enumerate(tqdm(selected_samples)):\n",
    "    pol_paras = []\n",
    "    pol_perps = []\n",
    "    for pol in [0, 90]:\n",
    "        para_DA, perp_DA = make_para_perp_DAs(DS, sample_name, intensity_type, pol, (q_slice.start,q_slice.stop), chi_width) \n",
    "        pol_paras.append(para_DA)\n",
    "        pol_perps.append(perp_DA)\n",
    "\n",
    "\n",
    "    pol_paras[0] = pol_paras[0].assign_coords({'chi': np.linspace(0, chi_width, len(pol_paras[0].chi.values))})  # .assign_coords({'chi': np.linspace(0, 90,len(pol_paras[1].chi.values))})\n",
    "    pol_paras[1] = pol_paras[1].assign_coords({'chi': np.linspace(0, chi_width, len(pol_paras[1].chi.values))})  # .assign_coords({'chi': np.linspace(0, 90,len(pol_paras[1].chi.values))})\n",
    "    pol_perps[0] = pol_perps[0].assign_coords({'chi': np.linspace(0, chi_width, len(pol_perps[0].chi.values))})  # .assign_coords({'chi': np.linspace(0, 90,len(pol_perps[1].chi.values))})\n",
    "    pol_perps[1] = pol_perps[1].assign_coords({'chi': np.linspace(0, chi_width, len(pol_perps[1].chi.values))})  # .assign_coords({'chi': np.linspace(0, 90,len(pol_perps[1].chi.values))})\n",
    "\n",
    "    pol_paras[0] = pol_paras[0].interp({'chi': pol_paras[1].chi.values})  # .assign_coords({'chi': np.linspace(0, 90,len(pol_paras[1].chi.values))})\n",
    "    pol_perps[0] = pol_perps[0].interp({'chi': pol_perps[1].chi.values})  # .assign_coords({'chi': np.linspace(0, 90,len(pol_perps[1].chi.values))})\n",
    "\n",
    "    para_DA = (pol_paras[0] + pol_paras[1])/2\n",
    "    perp_DA = (pol_perps[0] + pol_perps[1])/2\n",
    "\n",
    "    para_DA = para_DA.assign_coords({'polarization':'avg'})\n",
    "    perp_DA = perp_DA.assign_coords({'polarization':'avg'})\n",
    "\n",
    "    para_DA = para_DA.interpolate_na(dim='q')\n",
    "    perp_DA = perp_DA.interpolate_na(dim='q')\n",
    "\n",
    "    pol = str(para_DA.polarization.values) \n",
    "\n",
    "    # Select AR data\n",
    "    ar_DA = (para_DA.mean('chi') - perp_DA.mean('chi'))  # / (para_DA.mean('chi') + perp_DA.mean('chi'))\n",
    "    DA = ar_DA.sel(energy=energy, method='nearest')\n",
    "\n",
    "    # Shift RSoXS to line up with SAXS\n",
    "    rsoxs_qval = float(DA.sel(q=shift_qval, method='nearest'))\n",
    "    rsoxs_shift_factor = selected_qval / rsoxs_qval\n",
    "    DA = DA * rsoxs_shift_factor\n",
    "\n",
    "    # Plot rsoxs diff profile:\n",
    "    DA.plot.line(ax=ax, color=rsoxs_colors[i], label=f'Film RSoXS: {sn[sample_name]}', \n",
    "                 linestyle='None', marker='.', markersize=3)\n",
    "\n",
    "pm6_cf_shifted.plot.line(ax=ax, color=saxs_colors[0], label='Solution SAXS: PM6 in CF')    \n",
    "# pm6_cb_shifted.plot.line(ax=ax, color=saxs_colors[1], label='Solution: PM6 in CB')\n",
    "# y7_cn_shifted.plot.line(ax=ax, color=saxs_colors[1], label='Solution: Y7 in CN') \n",
    "# y7_cb_shifted.plot.line(ax=ax, color=saxs_colors[0], label='Solution: Y7 in CB') \n",
    "saxs_DS[saxs_sample_to_align].plot.line(ax=ax, color=saxs_colors[-1], label='Solution SAXS: PM6 in CN') \n",
    "\n",
    "ax.set(xscale='log', yscale='log', ylabel='Intensity [arb. units]', xlabel='Q [$Å^{-1}$]')\n",
    "ax.set(title=f'PM6 film P-RSoXS and solution SAXS overlays \\n RSoXS profile: $I_\\parallel(Q, E) - I_\\perp(Q, E)$, $E={energy}$ eV', ylim=(None, None), xlim=(None, 0.4))\n",
    "ax.grid(visible=True, which='both', axis='x')\n",
    "# ax.legend(title='Sample', loc=(1.02,0.2))\n",
    "AA_str = '$Å^{-1}$'\n",
    "legend = ax.legend(title=f'Data plotted:')\n",
    "for handle in legend.legend_handles:\n",
    "    handle.set_markersize(18)\n",
    "\n",
    "plt.show()\n",
    "# plt.close('all')"
   ]
  },
  {
   "cell_type": "markdown",
   "id": "70",
   "metadata": {
    "jp-MarkdownHeadingCollapsed": true,
    "tags": []
   },
   "source": [
    "## Loop for saving many plots"
   ]
  },
  {
   "cell_type": "code",
   "execution_count": null,
   "id": "71",
   "metadata": {},
   "outputs": [],
   "source": [
    "rsoxs_datasets['polar_oxygen']"
   ]
  },
  {
   "cell_type": "code",
   "execution_count": null,
   "id": "72",
   "metadata": {
    "tags": []
   },
   "outputs": [],
   "source": [
    "# make selection\n",
    "edge = 'oxygen'\n",
    "intensity_type = 'corr'\n",
    "qlims = (0.01, 0.08)\n",
    "chi_width = 30\n",
    "energy_min = 525\n",
    "energy_max = 545\n",
    "cmin = 5e8\n",
    "cmax = 5e10\n",
    "\n",
    "for sample_name in tqdm(rsoxs_datasets[f'polar_{edge}'].sample_name.data):\n",
    "    for pol in [0, 90]:\n",
    "        ### Select para & perp DataArrays\n",
    "        para_DA, perp_DA = make_para_perp_DAs(rsoxs_datasets, sample_name, edge, intensity_type, pol, qlims, chi_width)  \n",
    "        \n",
    "        ### ISI:\n",
    "        # Slice ISI data\n",
    "        para_ISI = para_DA.interpolate_na(dim='q').mean('chi').sum('q')\n",
    "        perp_ISI = perp_DA.interpolate_na(dim='q').mean('chi').sum('q')\n",
    "        \n",
    "        # Plot\n",
    "        fig, ax = plt.subplots()\n",
    "        para_ISI.sel(energy=slice(energy_min,energy_max)).plot.line(ax=ax, label='para', yscale='log')\n",
    "        perp_ISI.sel(energy=slice(energy_min,energy_max)).plot.line(ax=ax, label='perp', yscale='log')\n",
    "        # para_ISI.plot.line(ax=ax, label='para', yscale='log')\n",
    "        # perp_ISI.plot.line(ax=ax, label='perp', yscale='log')        \n",
    "        fig.suptitle('Integrated Scattering Intensity (ISI)', fontsize=14)\n",
    "        ax.set(title=f'{sample_name}, Polarization = {pol}°, Chi Width = {chi_width}°', xlabel='Photon Energy [eV]', ylabel='Double-Norm-Corrected Intensity [arb. units]')\n",
    "        ax.legend()\n",
    "        fig.savefig(plotsPath.joinpath('isi_oxygen_v1', f'{sample_name}_{edge}_{intensity_type}_chiWidth-{chi_width}deg_pol{pol}deg.png'), dpi=120)\n",
    "        # plt.show()\n",
    "        plt.close('all')\n",
    "        \n",
    "        ### Linecut Maps:\n",
    "        fig, axs = plt.subplots(1, 2, figsize=(11,5))\n",
    "\n",
    "        para_DA.mean('chi').sel(energy=slice(energy_min,energy_max)).plot(ax=axs[0], cmap=cmap, norm=LogNorm(cmin, cmax), add_colorbar=False)\n",
    "        perp_DA.mean('chi').sel(energy=slice(energy_min,energy_max)).plot(ax=axs[1], cmap=cmap, norm=LogNorm(cmin, cmax), add_colorbar=False)\n",
    "\n",
    "        sm = plt.cm.ScalarMappable(cmap=cmap, norm=LogNorm(cmin, cmax)) # Create a ScalarMappable object with the colormap and normalization & add the colorbar to the figure\n",
    "        cax = axs[1].inset_axes([1.03, 0, 0.05, 1])\n",
    "        cbar = fig.colorbar(sm, cax=cax, orientation='vertical')\n",
    "        cbar.set_label(label='Intensity [arb. units]', labelpad=12)\n",
    "        fig.suptitle(f'Linecut Maps: {sample_name}, Polarization = {pol}°, Chi Width = {chi_width}°', fontsize=14)\n",
    "        fig.set(tight_layout=True)\n",
    "        axs[0].set(title='Parallel to $E_p$', ylabel='Photon energy [eV]', xlabel='q [$Å^{-1}$]')\n",
    "        axs[1].set(title='Perpendicular to $E_p$ ', ylabel=None, xlabel='q [$Å^{-1}$]')\n",
    "        fig.savefig(plotsPath.joinpath('linecut_maps_oxygen_v1', f'{sample_name}_{edge}_{intensity_type}_chiWidth-{chi_width}deg_pol{pol}deg.png'), dpi=120)\n",
    "        # plt.show()\n",
    "        plt.close('all')\n",
    "\n",
    "        ### AR Maps:\n",
    "        # Select AR data\n",
    "        ar_DA = (para_DA.mean('chi') - perp_DA.mean('chi')) / (para_DA.mean('chi') + perp_DA.mean('chi'))\n",
    "\n",
    "        if para_DA.sample_name=='BareSiN':\n",
    "            bareSiN_ar_DA = ar_DA.copy()\n",
    "            \n",
    "        # # Subtract AR from SiN:\n",
    "        # ar_DA = ar_DA - bareSiN_ar_DA\n",
    "\n",
    "        # Plot\n",
    "        ax = ar_DA.sel(energy=slice(energy_min,energy_max)).plot(figsize=(8,5), norm=plt.Normalize(-0.6, 0.6))\n",
    "        ax.figure.suptitle('Anisotropy Ratio (AR) Map', fontsize=14, x=0.43)\n",
    "        ax.axes.set(title=f'{sample_name}, Polarization = {pol}°, Chi Width = {chi_width}°', ylabel='Photon Energy [eV]', xlabel='q [$Å^{-1}$]')\n",
    "        ax.colorbar.set_label('AR [arb. units]', rotation=270, labelpad=12)\n",
    "        ax.figure.savefig(plotsPath.joinpath('ar_maps_oxygen_v1', f'{sample_name}_{edge}_{intensity_type}_chiWidth-{chi_width}deg_pol{pol}deg.png'), dpi=120)\n",
    "        # plt.show()\n",
    "        plt.close('all')"
   ]
  },
  {
   "cell_type": "markdown",
   "id": "73",
   "metadata": {
    "jp-MarkdownHeadingCollapsed": true,
    "tags": []
   },
   "source": [
    "## Incorporating simulation output\n",
    "old and incomplete"
   ]
  },
  {
   "cell_type": "code",
   "execution_count": null,
   "id": "74",
   "metadata": {},
   "outputs": [],
   "source": [
    "import h5py"
   ]
  },
  {
   "cell_type": "code",
   "execution_count": null,
   "id": "75",
   "metadata": {},
   "outputs": [],
   "source": [
    "whos PosixPath"
   ]
  },
  {
   "cell_type": "code",
   "execution_count": null,
   "id": "76",
   "metadata": {},
   "outputs": [],
   "source": [
    "simsPath = rootPath.joinpath('imgs_analysis/sim_runs')"
   ]
  },
  {
   "cell_type": "code",
   "execution_count": null,
   "id": "77",
   "metadata": {},
   "outputs": [],
   "source": [
    "[f.name for f in simPath.iterdir()]"
   ]
  },
  {
   "cell_type": "code",
   "execution_count": null,
   "id": "78",
   "metadata": {},
   "outputs": [],
   "source": [
    "simPath = simsPath.joinpath('D1.0_a1.0_eps1.0_250pix_375size_0.5m_600steps_1')\n",
    "h5path = simPath.joinpath('HDF5')\n",
    "h5list = sorted(h5path.glob('E*h5'))"
   ]
  },
  {
   "cell_type": "code",
   "execution_count": null,
   "id": "79",
   "metadata": {},
   "outputs": [],
   "source": [
    "def print_key(f, key):\n",
    "    try:\n",
    "        keys2 = f[key].keys()\n",
    "        for key2 in keys2:\n",
    "            new_key = key + '/' + key2\n",
    "            print_key(f, new_key)\n",
    "    except AttributeError:\n",
    "        print(key)\n",
    "\n",
    "with h5py.File(h5list[0],'r') as f:\n",
    "    for key in f.keys():\n",
    "        print_key(f, key)"
   ]
  },
  {
   "cell_type": "markdown",
   "id": "80",
   "metadata": {},
   "source": [
    "#### The scattering pattern is contained within 'K0/projection.' If you simulated multiple incident angles there would be additional 'K#' keys. KIDList contains the vector values for each of the incident angles (propagation direction)."
   ]
  },
  {
   "cell_type": "markdown",
   "id": "81",
   "metadata": {},
   "source": [
    "#### Instantiate the PyHyperScattering loader and integrator"
   ]
  },
  {
   "cell_type": "code",
   "execution_count": null,
   "id": "82",
   "metadata": {},
   "outputs": [],
   "source": [
    "load = phs.load.cyrsoxsLoader(use_chunked_loading=True)\n",
    "integ = phs.integrate.WPIntegrator(force_np_backend=True) # avoiding gpu backend for this tutorial"
   ]
  },
  {
   "cell_type": "code",
   "execution_count": null,
   "id": "83",
   "metadata": {
    "tags": []
   },
   "outputs": [],
   "source": [
    "raw = load.loadDirectory(simPath)"
   ]
  },
  {
   "cell_type": "code",
   "execution_count": null,
   "id": "84",
   "metadata": {},
   "outputs": [],
   "source": [
    "raw"
   ]
  },
  {
   "cell_type": "code",
   "execution_count": null,
   "id": "85",
   "metadata": {},
   "outputs": [],
   "source": [
    "remeshed = integ.integrateImageStack(raw)"
   ]
  },
  {
   "cell_type": "code",
   "execution_count": null,
   "id": "86",
   "metadata": {},
   "outputs": [],
   "source": [
    "remeshed"
   ]
  },
  {
   "cell_type": "code",
   "execution_count": null,
   "id": "87",
   "metadata": {},
   "outputs": [],
   "source": [
    "remeshed.sel(energy=285.1).plot()"
   ]
  },
  {
   "cell_type": "code",
   "execution_count": null,
   "id": "88",
   "metadata": {},
   "outputs": [],
   "source": [
    "# c = cm.jet(np.linspace(0,1,len(remeshed)))"
   ]
  },
  {
   "cell_type": "code",
   "execution_count": null,
   "id": "89",
   "metadata": {},
   "outputs": [],
   "source": [
    "fig, ax = plt.subplots(1,3,figsize=(10,3),dpi=140,constrained_layout=True)\n",
    "raw.sel(energy=275).plot(norm=LogNorm(1e-7,1),cmap='terrain',ax=ax[0],add_colorbar=False)\n",
    "raw.sel(energy=285).plot(norm=LogNorm(1e-7,1),cmap='terrain',ax=ax[1],add_colorbar=False)\n",
    "raw.sel(energy=295).plot(norm=LogNorm(1e-7,1),cmap='terrain',ax=ax[2])\n",
    "\n",
    "[{axes.set_xlim(-0.1,0.1),axes.set_ylim(-0.1,0.1)} for axes in ax]\n",
    "plt.show()"
   ]
  },
  {
   "cell_type": "code",
   "execution_count": null,
   "id": "90",
   "metadata": {
    "tags": []
   },
   "outputs": [],
   "source": [
    "loaded_rsoxs.build_tiff_stack??"
   ]
  },
  {
   "cell_type": "code",
   "execution_count": null,
   "id": "91",
   "metadata": {},
   "outputs": [],
   "source": []
  }
 ],
 "metadata": {
  "kernelspec": {
   "display_name": "nrss",
   "language": "python",
   "name": "nrss"
  },
  "language_info": {
   "codemirror_mode": {
    "name": "ipython",
    "version": 3
   },
   "file_extension": ".py",
   "mimetype": "text/x-python",
   "name": "python",
   "nbconvert_exporter": "python",
   "pygments_lexer": "ipython3",
   "version": "3.9.0"
  }
 },
 "nbformat": 4,
 "nbformat_minor": 5
}
