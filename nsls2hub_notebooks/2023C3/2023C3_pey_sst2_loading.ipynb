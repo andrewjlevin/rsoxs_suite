{
 "cells": [
  {
   "cell_type": "markdown",
   "id": "33f4cd6c-7a40-4218-9893-505fc5b408aa",
   "metadata": {},
   "source": [
    "# Processing SST2 NEXAFS"
   ]
  },
  {
   "cell_type": "markdown",
   "id": "1502b74c-ba23-41a8-9150-d69038862abf",
   "metadata": {},
   "source": [
    "## Imports"
   ]
  },
  {
   "cell_type": "code",
   "execution_count": null,
   "id": "32e55476-0237-4b59-b842-5b0a7c33e510",
   "metadata": {
    "scrolled": true,
    "tags": []
   },
   "outputs": [],
   "source": [
    "pip install --upgrade xarray zarr numcodecs"
   ]
  },
  {
   "cell_type": "code",
   "execution_count": null,
   "id": "dea31dcf-4d9e-4810-a614-33e33fc09b61",
   "metadata": {
    "tags": []
   },
   "outputs": [],
   "source": [
    "## Imports\n",
    "import pathlib\n",
    "import sys\n",
    "import numpy as np\n",
    "import pandas as pd\n",
    "import xarray as xr\n",
    "import matplotlib.pyplot as plt\n",
    "from matplotlib.colors import LogNorm\n",
    "from tqdm.auto import tqdm\n",
    "from scipy import optimize\n",
    "\n",
    "sys.path.append('/nsls2/users/alevin/rsoxs_suite/misc_older_work/nexafs_analysis')\n",
    "import nexafs_fxns as nf  # custom nexafs functions used in this notebook"
   ]
  },
  {
   "cell_type": "markdown",
   "id": "d172f705-9d21-4f56-a63b-2e85e93779ae",
   "metadata": {},
   "source": [
    "## Define paths & sample name dictionary"
   ]
  },
  {
   "cell_type": "code",
   "execution_count": null,
   "id": "f3ff68af-bfe0-4484-8c51-983b09a399ce",
   "metadata": {},
   "outputs": [],
   "source": [
    "# Define paths\n",
    "propPath = pathlib.Path('/nsls2/data/sst/proposals/2023-2/pass-311130')\n",
    "propPath = pathlib.Path('/nsls2/data/sst/proposals/2023-3/pass-313412')\n",
    "peyPath = propPath.joinpath('SST1-NEXAFS-202310')\n",
    "outPath = propPath.joinpath('processed_data')\n",
    "zarrsPath = outPath.joinpath('zarrs')\n",
    "\n",
    "sample_name_dict = {\n",
    "    'PEY5': 'Y7_CB',\n",
    "    'PEY11': 'Y7_CBCN',\n",
    "    'PEY13': 'PM6-Y6_CBCN',\n",
    "    'PEY14': 'PM6-Y6BO_CB',\n",
    "    'PEY15': 'PM6-Y6BO_CBCN',\n",
    "    'PEY16': 'PM6-Y7_CB',\n",
    "    'PEY17': 'PM6-Y7_CBCN',\n",
    "    'PEY18': 'PM6-Y7BO_CB',\n",
    "    'PEY19': 'PM6-Y7BO_CBCN',\n",
    "    'PEY24': 'PM6-Y6_CF',\n",
    "    'PEY25': 'PM6-Y6_CFCN',\n",
    "    'PEY26': 'PM6-Y6BO_CF',\n",
    "    'PEY27': 'PM6-Y6BO_CFCN',\n",
    "    'PEY28': 'PM6-Y7_CF',\n",
    "    'PEY29': 'PM6-Y7_CFCN',\n",
    "    'PEY30': 'PM6-Y7BO_CF',\n",
    "    'PEY31': 'PM6-Y7BO_CFCN'\n",
    "}"
   ]
  },
  {
   "cell_type": "markdown",
   "id": "bff6f37d-50a9-4794-bcd9-060b1d9e4744",
   "metadata": {
    "tags": []
   },
   "source": [
    "## Load raw nexafs chamber data files"
   ]
  },
  {
   "cell_type": "markdown",
   "id": "b0e4b02e-41d4-4f5b-bfd5-646919a77577",
   "metadata": {},
   "source": [
    "### Specify paths / filenames / sample id's"
   ]
  },
  {
   "cell_type": "code",
   "execution_count": null,
   "id": "959ce2bc-5bee-434c-ab4e-4f1cd842a595",
   "metadata": {
    "tags": []
   },
   "outputs": [],
   "source": [
    "# Specify paths, filenames, and unique sample id's\n",
    "pey_list = sorted(peyPath.glob('PEY*_N*1'))\n",
    "# pey_list = sorted(peyPath.glob('PEY*_C*'))\n",
    "pey_fnames =  [f.name for f in pey_list]\n",
    "sample_ids = sorted(set([fname.split('_')[0] for fname in pey_fnames]), key=lambda x: int(x[3:]))\n",
    "\n",
    "# Specify diode paths\n",
    "carbon_diode_path = peyPath.joinpath('DM8Diode_CNorm.9000')\n",
    "nitrogen_diode_path = peyPath.joinpath('DM8Diode_NNorm.9000')\n",
    "\n",
    "# For creating datasets:\n",
    "column_names = ['energy', 'tey', 'i_ref', 'pey', 'i_0', 'm4c', 'dm8_diode', 'fy_csi']"
   ]
  },
  {
   "cell_type": "code",
   "execution_count": null,
   "id": "1bcda4b3-3ad2-4beb-960f-a7905c612630",
   "metadata": {
    "tags": []
   },
   "outputs": [],
   "source": [
    "pey_list"
   ]
  },
  {
   "cell_type": "markdown",
   "id": "b7affad5-ab14-44ed-aad4-1b3e87e915a2",
   "metadata": {
    "tags": []
   },
   "source": [
    "### Load diode(s)"
   ]
  },
  {
   "cell_type": "code",
   "execution_count": null,
   "id": "52f786e6-e42e-4db4-8a4d-d0fdc1bbcca3",
   "metadata": {},
   "outputs": [],
   "source": [
    "# Load first sample into DataArray -> Dataset\n",
    "# diode_path = carbon_diode_path  # carbon\n",
    "# didoe_name = 'carbon_didoe'  # carbon \n",
    "\n",
    "diode_path = nitrogen_diode_path  # nitrogen\n",
    "didoe_name = 'nitrogen_didoe'  # nitrogen \n",
    "    \n",
    "d = np.loadtxt(diode_path, skiprows=18)\n",
    "energy = d[:,0]\n",
    "\n",
    "diode_DS = xr.Dataset(data_vars = {\n",
    "                    'tey': ('energy', d[:,1]),\n",
    "                    'i_ref': ('energy', d[:,2]),\n",
    "                    'pey': ('energy', d[:,3]),\n",
    "                    'i_0': ('energy', d[:,4]),\n",
    "                    'm4c': ('energy', d[:,5]),\n",
    "                    'diode': ('energy', d[:,6]),\n",
    "                    'fy_csi': ('energy', d[:,7])\n",
    "                },\n",
    "                coords = {'energy':energy})\n",
    "\n",
    "# diode_DS.attrs['name'] = 'carbon_diode'  # carbon\n",
    "# energies = np.linspace(275, 320, 6000)  # carbon\n",
    "\n",
    "diode_DS.attrs['name'] = 'nitrogen_diode'  # nitrogen\n",
    "energies = np.linspace(385, 419.5, 3000)  # nitrogen\n",
    "\n",
    "diode_DS = diode_DS.interp({'energy':energies})\n",
    "\n",
    "diode_DS"
   ]
  },
  {
   "cell_type": "markdown",
   "id": "34a90977-5a16-4951-8bea-879d2ae8b70e",
   "metadata": {
    "tags": []
   },
   "source": [
    "### Load samples"
   ]
  },
  {
   "cell_type": "code",
   "execution_count": null,
   "id": "9a1447c2-081c-4307-b020-568881b70b89",
   "metadata": {},
   "outputs": [],
   "source": [
    "# Load first sample into DataArray -> Dataset\n",
    "nf_DS_sample_concat = []\n",
    "for sample_id in tqdm(sample_ids):\n",
    "    nf_DS_theta_concat = []\n",
    "    for f in sorted(list(peyPath.glob(f'{sample_id}*_N*1'))):\n",
    "        with f.open(mode='r') as file:\n",
    "            lines = file.readlines()\n",
    "\n",
    "        theta = int(lines[13].split('/')[1][-2:])\n",
    "        sample_id = f.name.split('_')[0]\n",
    "        # columns = lines[17].split()\n",
    "\n",
    "        d = np.loadtxt(f, skiprows=18)\n",
    "        energy = d[:,0]\n",
    "\n",
    "        nf_DS = xr.Dataset(data_vars = {\n",
    "                            'tey': ('energy', d[:,1]),\n",
    "                            'i_ref': ('energy', d[:,2]),\n",
    "                            'pey': ('energy', d[:,3]),\n",
    "                            'i_0': ('energy', d[:,4]),\n",
    "                            'm4c': ('energy', d[:,5]),\n",
    "                            'diode': ('energy', d[:,6]),\n",
    "                            'fy_csi': ('energy', d[:,7])\n",
    "                        },\n",
    "                        coords = {'energy':energy})\n",
    "\n",
    "        nf_DS = nf_DS.expand_dims({'theta': [theta], 'sample_id': [sample_id]})\n",
    "\n",
    "        # energies = np.linspace(275, 320, 6000)  # carbon\n",
    "        energies = np.linspace(385, 419.5, 3000)  # nitrogen\n",
    "        nf_DS = nf_DS.interp({'energy':energies})\n",
    "\n",
    "        nf_DS_theta_concat.append(nf_DS)\n",
    "\n",
    "    nf_DS = xr.concat(nf_DS_theta_concat, dim='theta')\n",
    "    nf_DS_sample_concat.append(nf_DS)\n",
    "    \n",
    "nf_DS = xr.concat(nf_DS_sample_concat, dim='sample_id')\n",
    "nf_DS = (nf_DS.assign_coords({'sample_name':('sample_id', [sample_name_dict[sample_id] for sample_id in nf_DS.sample_id.values]),\n",
    "                        'cos_sq_theta': ('theta', ((np.cos(np.deg2rad(nf_DS.theta)))**2).data)})\n",
    "        .swap_dims({'sample_id':'sample_name'}))\n",
    "nf_DS"
   ]
  },
  {
   "cell_type": "markdown",
   "id": "1dde42f5-5ba1-4d47-88d8-086b49a7791b",
   "metadata": {
    "tags": []
   },
   "source": [
    "### Consruct full dataset & apply double-norm correction"
   ]
  },
  {
   "cell_type": "code",
   "execution_count": null,
   "id": "b9c30bad-76c7-428c-8c1c-d43db7938e25",
   "metadata": {},
   "outputs": [],
   "source": [
    "for data_var in nf_DS.data_vars:\n",
    "    nf_DS.sel(theta=20, sample_name='Y7_CB')[data_var].plot(figsize=(6,3))\n",
    "    plt.show()"
   ]
  },
  {
   "cell_type": "code",
   "execution_count": null,
   "id": "8f51d0fd-75f0-4bad-be02-028b7ff50e88",
   "metadata": {},
   "outputs": [],
   "source": [
    "for data_var in diode_DS.data_vars:\n",
    "    diode_DS[data_var].plot(figsize=(6,3))\n",
    "    plt.show()"
   ]
  },
  {
   "cell_type": "code",
   "execution_count": null,
   "id": "8383200f-f1d1-4bcc-aa1f-256c574d4d88",
   "metadata": {},
   "outputs": [],
   "source": [
    "# Create nexafs dataset to export & apply/add double-norm-corrected data variable\n",
    "\n",
    "plan_of_interest = 'nexafs_nitrogen'\n",
    "DS = xr.Dataset(attrs={'name': plan_of_interest})\n",
    "\n",
    "for nexafs_type in ['pey', 'tey', 'fy_csi']:\n",
    "    DS[f'raw_{nexafs_type}'] = nf_DS[f'{nexafs_type}']\n",
    "    DS['sample_i_ref'] = nf_DS['i_ref']\n",
    "    DS['calib_i_ref'] = diode_DS['i_ref']\n",
    "    # DS['calib_diode'] = diode_DS['m4c']\n",
    "    DS['calib_diode'] = diode_DS['diode']\n",
    "    DS[f'dnorm_{nexafs_type}'] = (DS[f'raw_{nexafs_type}'] / DS['sample_i_ref']) * (DS['calib_i_ref'] / DS['calib_diode'])\n",
    "\n",
    "DS"
   ]
  },
  {
   "cell_type": "markdown",
   "id": "e7d4efe7-f208-4612-8b61-1c8a0e2a7716",
   "metadata": {
    "tags": []
   },
   "source": [
    "## Apply pre and post edge correction"
   ]
  },
  {
   "cell_type": "code",
   "execution_count": null,
   "id": "f3d72a93-ba77-425c-8afb-0699b9b9dd2e",
   "metadata": {
    "tags": []
   },
   "outputs": [],
   "source": [
    "# Apply pre and post-edge normalizations (more involved right now...):\n",
    "\n",
    "for nexafs_type in ['pey', 'tey', 'fy_csi']:\n",
    "    data_var = f'dnorm_{nexafs_type}'\n",
    "\n",
    "    # Carbon\n",
    "    # pre_edge_energy_slice = slice(276, 283)  # carbon  \n",
    "    # post_edge_energy_slice = slice(305, 320)\n",
    "\n",
    "    # Nitrogen\n",
    "    pre_edge_energy_slice = slice(392, 397.4)  # nitrogen\n",
    "    post_edge_energy_slice = slice(403, 404)  # nitrogen\n",
    "    \n",
    "    # pre_edge_energy, post_edge_energy = [395, 430] # nitrogen\n",
    "    # pre_edge_energy, post_edge_energy = [525, 555] # oxygen\n",
    "    # pre_edge_energy, post_edge_energy = [680, 720] # oxygen\n",
    "\n",
    "\n",
    "    # First generate list of corrected spectra\n",
    "    pre_corr_list = []\n",
    "    full_corr_list = []\n",
    "    for sample_name in DS.sample_name.values:\n",
    "        for theta in DS.theta.values:\n",
    "            # Linear fit for pre-edge region\n",
    "            if nexafs_type == 'fy_csi':\n",
    "                pre_edge_mean = float(DS[data_var].sel(sample_name=sample_name, theta=theta, \n",
    "                                                       energy=pre_edge_energy_slice).mean(dim=\"energy\"))\n",
    "                # display(pre_edge_mean)\n",
    "                pre_corr_DA = (DS[data_var].sel(sample_name=sample_name, theta=theta)) - pre_edge_mean\n",
    "            else:\n",
    "                # coefficients = np.polyfit(DS.energy.where(DS.energy<pre_edge_energy, drop=True), \n",
    "                #                           (DS['dnorm_trmsn']).where(DS.energy<pre_edge_energy, drop=True).sel(sample_name=sample_name, theta=theta), 1)   \n",
    "                coefficients = np.polyfit(DS.energy.sel(energy=pre_edge_energy_slice), \n",
    "                                          DS[data_var].sel(energy=pre_edge_energy_slice, sample_name=sample_name, theta=theta), \n",
    "                                          1)\n",
    "                y_fit = np.polyval(coefficients, DS.energy)\n",
    "                pre_corr_DA = (DS[data_var].sel(sample_name=sample_name, theta=theta)) - y_fit\n",
    "                \n",
    "            pre_corr_DA = pre_corr_DA.expand_dims({'sample_name': [pre_corr_DA.sample_name.data],\n",
    "                                                   'theta': [pre_corr_DA.theta.data]})\n",
    "            pre_corr_DA = pre_corr_DA.assign_coords({'sample_id': ('sample_name', [pre_corr_DA.sample_id.data])})     \n",
    "\n",
    "            pre_corr_list.append(pre_corr_DA)\n",
    "\n",
    "            # Post edge\n",
    "            # post_edge_mean = corr_DA.where(DS.energy>post_edge_energy, drop=True).mean(dim=\"energy\")\n",
    "            post_edge_mean = pre_corr_DA.sel(energy=post_edge_energy_slice).mean(dim=\"energy\")\n",
    "            full_corr_DA = pre_corr_DA / np.abs(float(post_edge_mean))        \n",
    "\n",
    "            full_corr_list.append(full_corr_DA)\n",
    "\n",
    "    # Now reconstruct full dataarray and add to dataset created in prior cell\n",
    "    corr_names = [f'pre_corr_{nexafs_type}', f'full_corr_{nexafs_type}']\n",
    "\n",
    "    for i, corr_list in enumerate([pre_corr_list, full_corr_list]):\n",
    "    # corr_names = ['pre_corr_trmsn']\n",
    "    # for i, corr_list in enumerate([pre_corr_list]):\n",
    "        # First group by sample_name\n",
    "        grouped_by_sample = {}\n",
    "        for corr_DA in corr_list:\n",
    "            sample_name = corr_DA.sample_name.values[0]\n",
    "            if sample_name not in grouped_by_sample:\n",
    "                grouped_by_sample[sample_name] = []\n",
    "            grouped_by_sample[sample_name].append(corr_DA)\n",
    "\n",
    "        # Concatenate by theta for each sample_name\n",
    "        concat_by_theta = {}\n",
    "        for sample_name, group in grouped_by_sample.items():\n",
    "            concat_by_theta[sample_name] = xr.concat(group, dim=\"theta\")\n",
    "\n",
    "        # Finally, concatenate the result along the sample_name dimension\n",
    "        DS[corr_names[i]] = xr.concat(list(concat_by_theta.values()), dim=\"sample_name\")\n",
    "    \n",
    "DS"
   ]
  },
  {
   "cell_type": "code",
   "execution_count": null,
   "id": "91fd19d3-5699-4c82-9ea4-6a15f414768e",
   "metadata": {
    "tags": []
   },
   "outputs": [],
   "source": [
    "# DS = loaded_DS.copy()\n",
    "edge = 'nitrogen'\n",
    "nexafs_type = 'fy_csi'\n",
    "\n",
    "energy_min = 387  # nitrogen\n",
    "energy_max = 419.5  # nitrogen\n",
    "\n",
    "# energy_min = 275\n",
    "# energy_max = 320\n",
    "\n",
    "energy_slice = slice(energy_min, energy_max)\n",
    "# energy_slice = slice(None, None)\n",
    "\n",
    "# energy_slice = slice(250,350) # carbon\n",
    "# energy_slice = slice(370, 440) # nitrogen\n",
    "# energy_slice = slice(396, 405) # nitrogen\n",
    "\n",
    "# Create the colormap\n",
    "colors = plt.cm.plasma_r(np.linspace(0.15, 1, len(DS.theta)))\n",
    "# colors = plt.cm.plasma(np.linspace(0, 0.85, len(DS.theta)))\n",
    "\n",
    "\n",
    "for sample_name in tqdm(DS.sample_name.values):\n",
    "    fig, axs = plt.subplots(2, 2)\n",
    "    fig.set(size_inches=(9, 6), dpi=120, tight_layout=True)\n",
    "    fig.suptitle(f'{nexafs_type} {edge}-edge NEXAFS: {sample_name}', fontsize=14)\n",
    "    # fig.suptitle(f'Transmission {edge}-edge NEXAFS: {sample_name}', fontsize=14)\n",
    "    # fig.suptitle(f'TEY {edge}-edge NEXAFS: {sample_name}', fontsize=14)\n",
    "\n",
    "    for i, theta_val in enumerate(DS.theta.values):\n",
    "        sliced_DS = DS.sel(energy=energy_slice, sample_name=sample_name, theta=theta_val)\n",
    "        sliced_DS[f'raw_{nexafs_type}'].plot.line(ax=axs[0,0], color=colors[i], label=f'{int(theta_val)}°')\n",
    "        sliced_DS[f'dnorm_{nexafs_type}'].plot.line(ax=axs[0,1], color=colors[i], label=f'{int(theta_val)}°')\n",
    "        sliced_DS[f'pre_corr_{nexafs_type}'].plot.line(ax=axs[1,0], color=colors[i], label=f'{int(theta_val)}°')\n",
    "        sliced_DS[f'full_corr_{nexafs_type}'].plot.line(ax=axs[1,1], color=colors[i], label=f'{int(theta_val)}°')\n",
    "        # ((sliced_DS[f'full_corr_{nexafs_type}'] / float(DS[f'full_corr_{nexafs_type}'].sel(\n",
    "        #                                           sample_name=sample_name, theta=theta_val, energy=slice(402,404)).mean('energy')))\n",
    "        #  .plot.line(ax=axs[1,1], color=colors[i], label=f'{int(theta_val)}°'))\n",
    "    \n",
    "    axs[0,0].set(title='Raw beamstop diode current')\n",
    "    axs[0,1].set(title='Double-norm correction')\n",
    "    axs[1,0].set(title='Subtract pre-edge linear fit')\n",
    "    axs[1,1].set(title='Divide post-edge mean')\n",
    "    # axs[1,1].set(title='Divide post-edge mean & subtract SiN spectra')\n",
    "\n",
    "    # Optionally, add legends\n",
    "    axs[0,0].legend(title=r\"$\\theta$\", loc='upper right')\n",
    "    axs[0,1].legend(title=r\"$\\theta$\", loc='upper right')\n",
    "    axs[1,0].legend(title=r\"$\\theta$\", loc='upper right')\n",
    "    axs[1,1].legend(title=r\"$\\theta$\", loc='upper right')\n",
    "    \n",
    "    plt.show()\n",
    "    # fig.savefig(outPath.joinpath(f'nexafs_plots/{nexafs_type}_{edge}_nexafs_all', f'{sample_name}_energy{energy_min}-{energy_max}.png'), dpi=120)\n",
    "    # fig.savefig(outPath.joinpath(f'nexafs_plots/nf_chamber_{nexafs_type}_{edge}_nexafs_all', f'{sample_name}_energy{energy_min}-{energy_max}.png'), dpi=120)\n",
    "    plt.close('all')"
   ]
  },
  {
   "cell_type": "markdown",
   "id": "bbf94c0a-92a9-4923-a8dd-60a605026bba",
   "metadata": {},
   "source": [
    "### Optionally save & load zarr"
   ]
  },
  {
   "cell_type": "code",
   "execution_count": null,
   "id": "20dc8ba0-78cd-4bca-96f6-7b11ce968647",
   "metadata": {},
   "outputs": [],
   "source": [
    "# Define chunk sizes as the full shape of each variable\n",
    "# Need to do this if zarr/xarray is bugging out(?)\n",
    "encoding = {var: {'chunks': DS[var].shape} for var in DS.variables}\n",
    "\n",
    "plan_of_interest = f'nexafs_{edge}'\n",
    "DS.to_zarr(zarrsPath.joinpath(f'PEY_{plan_of_interest}.zarr'), mode='w', encoding=encoding)"
   ]
  },
  {
   "cell_type": "code",
   "execution_count": null,
   "id": "91d9c0af-2b9e-4750-b4ca-3589e2799f8a",
   "metadata": {
    "tags": []
   },
   "outputs": [],
   "source": [
    "# loaded_DS = xr.open_zarr(zarrsPath.joinpath('PEY_nexafs_carbon.zarr'))\n",
    "loaded_DS = xr.open_zarr(zarrsPath.joinpath('PEY_nexafs_nitrogen.zarr'))\n",
    "# loaded_DS = xr.open_zarr(zarrsPath.joinpath('testing123.zarr'))\n",
    "\n",
    "\n",
    "DS = loaded_DS.compute()\n",
    "DS"
   ]
  },
  {
   "cell_type": "markdown",
   "id": "4a2bd3e0-9f76-4457-8929-4d74740e69fb",
   "metadata": {},
   "source": [
    "## Plotting"
   ]
  },
  {
   "cell_type": "markdown",
   "id": "dd1521a2-8965-43c3-807a-c7b46eb4678b",
   "metadata": {
    "jp-MarkdownHeadingCollapsed": true,
    "tags": []
   },
   "source": [
    "### NEXAFS all"
   ]
  },
  {
   "cell_type": "code",
   "execution_count": null,
   "id": "477bd203-ed30-440f-8434-09c6d070623e",
   "metadata": {},
   "outputs": [],
   "source": [
    "DS"
   ]
  },
  {
   "cell_type": "code",
   "execution_count": null,
   "id": "78d2d6d8-ae6d-4a4d-92fd-d9c335ebebc7",
   "metadata": {
    "tags": []
   },
   "outputs": [],
   "source": [
    "energy_min = 275\n",
    "energy_max = 310\n",
    "energy_slice = slice(energy_min, energy_max) \n",
    "\n",
    "# Create the colormap\n",
    "colors = plt.cm.plasma_r(np.linspace(0.15, 1, len(DS.theta)))\n",
    "\n",
    "for sample_name in tqdm(DS.sample_name.values):\n",
    "    fig, axs = plt.subplots(2, 2)\n",
    "    fig.set(size_inches=(9, 6), dpi=120, tight_layout=True)\n",
    "    fig.suptitle(f'PEY carbon-edge NEXAFS: {sample_name}', fontsize=14)\n",
    "\n",
    "    for i, theta_val in enumerate(DS.theta.values):\n",
    "        if sample_name=='PM6-Y6_Si' and theta_val==90:\n",
    "            sliced_DS = DS.sel(energy=energy_slice, sample_name=sample_name, theta=theta_val)\n",
    "            sliced_DS['pey'].plot.line(ax=axs[0,0], color=colors[i], label=f'{int(theta_val)}°')\n",
    "            sliced_DS['i_0'].plot.line(ax=axs[0,1], color=colors[i], label=f'{int(theta_val)}°')\n",
    "            sliced_DS['pre_corr_pey'].plot.line(ax=axs[1,0], color=colors[i], label=f'{int(theta_val)}°') \n",
    "            # sliced_DS['full_corr_pey'].plot.line(ax=axs[1,1], color=colors[i], label=f'{int(theta_val)}°')\n",
    "        elif sample_name=='PM7-Y7_Si' and theta_val==55:\n",
    "            sliced_DS = DS.sel(energy=energy_slice, sample_name=sample_name, theta=theta_val)\n",
    "            sliced_DS['pey'].plot.line(ax=axs[0,0], color=colors[i], label=f'{int(theta_val)}°')\n",
    "            # sliced_DS['i_0'].plot.line(ax=axs[0,1], color=colors[i], label=f'{int(theta_val)}°')\n",
    "            sliced_DS['pre_corr_pey'].plot.line(ax=axs[1,0], color=colors[i], label=f'{int(theta_val)}°')   \n",
    "            sliced_DS['full_corr_pey'].plot.line(ax=axs[1,1], color=colors[i], label=f'{int(theta_val)}°')\n",
    "        else:\n",
    "            sliced_DS = DS.sel(energy=energy_slice, sample_name=sample_name, theta=theta_val)\n",
    "            sliced_DS['pey'].plot.line(ax=axs[0,0], color=colors[i], label=f'{int(theta_val)}°')\n",
    "            sliced_DS['i_0'].plot.line(ax=axs[0,1], color=colors[i], label=f'{int(theta_val)}°')\n",
    "            sliced_DS['pre_corr_pey'].plot.line(ax=axs[1,0], color=colors[i], label=f'{int(theta_val)}°')\n",
    "            sliced_DS['full_corr_pey'].plot.line(ax=axs[1,1], color=colors[i], label=f'{int(theta_val)}°')\n",
    "    \n",
    "    axs[0,0].set(title='Raw beamstop diode current')\n",
    "    axs[0,1].set(title='I0 (gold mesh); missing calibration diode')\n",
    "    axs[1,0].set(title='Subtract pre-edge linear fit')\n",
    "    axs[1,1].set(title='Divide by post-edge mean')\n",
    "\n",
    "    # Optionally, add legends\n",
    "    axs[0,0].legend(title=r\"$\\theta$\")\n",
    "    axs[0,1].legend(title=r\"$\\theta$\")\n",
    "    axs[1,0].legend(title=r\"$\\theta$\")\n",
    "    axs[1,1].legend(title=r\"$\\theta$\")\n",
    "    \n",
    "    plt.show()\n",
    "    # fig.savefig(outPath.joinpath('nexafs_plots/pey_nexafs_all', f'{sample_name}_energy{energy_min}-{energy_max}.png'), dpi=120)\n",
    "    plt.close('all')"
   ]
  },
  {
   "cell_type": "markdown",
   "id": "6eb50433-0572-48de-8b84-3e1a7effe2d5",
   "metadata": {
    "jp-MarkdownHeadingCollapsed": true,
    "tags": []
   },
   "source": [
    "### NEXAFS single data variable"
   ]
  },
  {
   "cell_type": "code",
   "execution_count": null,
   "id": "001e2ee7-3c51-4025-aa8a-7a76a4191290",
   "metadata": {
    "tags": []
   },
   "outputs": [],
   "source": [
    "energy_min = 282\n",
    "energy_max = 292\n",
    "energy_slice = slice(energy_min, energy_max)\n",
    "\n",
    "for sample_name in tqdm(DS.sample_name.values):\n",
    "    colors = plt.cm.plasma_r(np.linspace(0.15,1,len(DS.theta)))\n",
    "    fig, ax = plt.subplots(figsize=(7,3.5), dpi=120, tight_layout=True)\n",
    "    for i, theta_val in enumerate(DS.theta.values):\n",
    "        if sample_name=='PM6-Y6_Si' and theta_val==90:\n",
    "            pass\n",
    "        else:\n",
    "            (DS['full_corr_pey'].sel(sample_name=sample_name, theta=theta_val, energy=energy_slice)\n",
    "                      .plot.line(ax=ax, color=colors[i], label=f'{int(theta_val)}°'))\n",
    "\n",
    "    fig.suptitle(f'Raw PEY NEXAFS: {sample_name}', x=0.53)\n",
    "    ax.set(title='Pre-edge linear fit subtracted & post-edge mean normalized', xlabel='X-ray Energy [eV]', ylabel='Normalized NEXAFS [arb. units]')\n",
    "    ax.legend(title=r'$\\theta$')\n",
    "    # fig.savefig(outPath.joinpath(f'nexafs_plots/pey_nexafs_full_corr', f'{sample_name}_energy{energy_min}-{energy_max}.png'), dpi=120)\n",
    "    plt.show()\n",
    "    plt.close('all')"
   ]
  },
  {
   "cell_type": "markdown",
   "id": "4d6ef713-d7bc-4da4-b5f7-b73497bca002",
   "metadata": {
    "jp-MarkdownHeadingCollapsed": true,
    "tags": []
   },
   "source": [
    "### Molecular tilt fit"
   ]
  },
  {
   "cell_type": "code",
   "execution_count": null,
   "id": "a6fc3385-8736-461c-b10d-aa2973895637",
   "metadata": {
    "tags": []
   },
   "outputs": [],
   "source": [
    "# Run Stöhr 9.16a tilt fit on energy region of NEXAFS\n",
    "energy_min = 284\n",
    "energy_max = 286\n",
    "\n",
    "# sample_name = 'PM6_3000_dSiN_R'\n",
    "for sample_name in DS.sample_name.values:\n",
    "    nf_DA = DS['full_corr_pey'].sel(sample_name=sample_name)\n",
    "\n",
    "    pi_peak_areas = nf.int_area(energy_min, energy_max, nf_DA)\n",
    "\n",
    "    bnds = [(0, 90), (0, 20)]\n",
    "    res = optimize.differential_evolution(\n",
    "        nf.mse_line_tilt, bounds=bnds, args=(pi_peak_areas, nf_DA.theta.values), tol=1e-6)\n",
    "\n",
    "    alpha, const = res.x\n",
    "\n",
    "    # Plot intensities from Stöhr 9.16a (scaled with fitted constant) as line\n",
    "    # along with measured pi_peak_areas, x-axis is cos_sq_theta:\n",
    "    fig, axs = plt.subplots(ncols=2, figsize=(10,4.5), dpi=120, tight_layout=True)\n",
    "    fig.suptitle(str(nf_DA.sample_name.values), y=1.03, fontsize=14)\n",
    "    axs[0].plot(nf_DA.cos_sq_theta.values[:], const * nf.i_nexafs(alpha, nf_DA.theta.values[:]),\n",
    "            marker='o', label=f'Stöhr 9.16a: ($\\\\alpha$={np.round(alpha,2)}, const={np.round(const,2)})',\n",
    "            clip_on=False, zorder=3)\n",
    "    axs[0].plot(nf_DA.cos_sq_theta.values[:], pi_peak_areas[:], marker='o',\n",
    "            label=f'NEXAFS integrated areas', clip_on=False, zorder=4)\n",
    "    axs[0].set(title='Peak fit', xlabel=r'$cos^2(\\theta)$', ylabel='Intensity [arb. units]')\n",
    "    axs[0].set_xticks(nf_DA.cos_sq_theta.values, minor=True)\n",
    "    axs[0].set_xlim(left=0)\n",
    "    axs[0].legend()\n",
    "\n",
    "    # Add secondary axis showing theta values:\n",
    "    def forward(x):\n",
    "        return np.arccos(np.sqrt(x)) * 180 / np.pi\n",
    "\n",
    "    def inverse(x):\n",
    "        return np.cos(x * np.pi / 180)**2\n",
    "\n",
    "    ax2 = axs[0].secondary_xaxis(-0.23, functions=(forward, inverse))\n",
    "    ax2.set(xlabel=r'$\\theta$ [$\\degree$]')\n",
    "    ax2.set_xticks(nf_DA.theta.values)\n",
    "\n",
    "\n",
    "    colors = plt.cm.plasma_r(np.linspace(0.15,1,len(nf_DA.theta)))\n",
    "    for i, theta_val in enumerate(nf_DA.theta.values):\n",
    "        (nf_DA.sel(theta=theta_val, energy=slice(282, 292))\n",
    "               .plot.line(ax=axs[1], color=colors[i], label=f'{int(theta_val)}°'))\n",
    "\n",
    "    axs[1].axvline(energy_min, color='grey')\n",
    "    axs[1].axvline(energy_max, color='grey')\n",
    "    axs[1].set(title='NEXAFS', xlabel='X-ray Energy [eV]', ylabel='Normalized NEXAFS [arb. units]')\n",
    "    axs[1].legend(title=r'$\\theta$ [$\\degree$]', loc='upper left')\n",
    "\n",
    "    fig.savefig(outPath.joinpath('nexafs_plots/pey_tilt_fit', f'{sample_name}_energy{energy_min}-{energy_max}.png'), dpi=120)\n",
    "\n",
    "    plt.show()\n",
    "    plt.close('all')"
   ]
  },
  {
   "cell_type": "markdown",
   "id": "6b657367-bb33-4c7b-8893-64677b03c7c3",
   "metadata": {
    "tags": []
   },
   "source": [
    "### Calculate optical constants & binary contrasts"
   ]
  },
  {
   "cell_type": "markdown",
   "id": "3ce2e9d9-738e-4696-bcf2-e9acc47db432",
   "metadata": {},
   "source": [
    "#### Define functions & chemical formulas "
   ]
  },
  {
   "cell_type": "code",
   "execution_count": null,
   "id": "095bcf28-e17e-4669-935f-84d1f99a70ce",
   "metadata": {
    "tags": []
   },
   "outputs": [],
   "source": [
    "# Define function to calculate binary contrast\n",
    "def binary_contrast(n1, n2=None):\n",
    "    if n2 is None:\n",
    "        #second component is vacuum\n",
    "        n2 = xr.zeros_like(n1)\n",
    "    else:\n",
    "        #second is interpolated to match the energy array of the first component.  \n",
    "        n2 = n2.interp(energy=n1.energy)\n",
    "    return n1.energy**4 * ((n1.delta-n2.delta)**2 + (n1.beta-n2.beta)**2)\n",
    "\n",
    "# Add chemical formulas as coordinate along 'sample_name' dimension\n",
    "# Define necessary formula stoichiometries\n",
    "Y6_formula = 'C82H86F4N8O2S5'\n",
    "Y7_formula = 'C82H86Cl4N8O2S5'\n",
    "PM6_formula = 'C68H76F2O2S8'\n",
    "PM7_formula = 'C68H76Cl2O2S8'\n",
    "\n",
    "# Make dictionary of sample_name keys and formula values\n",
    "# chemical_formulas = {\n",
    "#     'BareSiN_R': 'SiN',\n",
    "#     'PM6_3000_dSiN_R': PM6_formula,\n",
    "#     'PM7-Y6_3000_dSiN_R': PM7_formula+Y6_formula,\n",
    "#     'Y6_3000_dSiN_R': Y6_formula,\n",
    "#     'Y7_3000_dSiN_R': Y7_formula,\n",
    "#     'PM7_3000_dSiN_R': PM7_formula,\n",
    "#     'PM6-Y6_3000_dSiN_R': PM6_formula+Y6_formula,\n",
    "#     'PM6-Y7_3000_dSiN_R': PM6_formula+Y7_formula,\n",
    "#     'PM7-Y7_3000_dSiN_R': PM7_formula+Y7_formula,\n",
    "#     'Y6_2000_dSiN_R': Y6_formula,\n",
    "#     'Y7_2000_dSiN_R': Y7_formula\n",
    "# }\n",
    "\n",
    "chemical_formulas = {\n",
    "    'PM6_Si': PM6_formula,\n",
    "    'PM7-Y6_Si': PM7_formula+Y6_formula,\n",
    "    'Y6_Si': Y6_formula,\n",
    "    'Y7_Si': Y7_formula,\n",
    "    'PM7_Si': PM7_formula,\n",
    "    'PM6-Y6_Si': PM6_formula+Y6_formula,\n",
    "    'PM6-Y7_Si': PM6_formula+Y7_formula,\n",
    "    'PM7-Y7_Si': PM7_formula+Y7_formula,\n",
    "    'A1_Si': Y6_formula,\n",
    "    'A2_Si': Y6_formula,\n",
    "    'A3_Si': Y6_formula,\n",
    "}\n",
    "\n",
    "# Define function to take iterable of names and return list corresponding of formulas\n",
    "def names2formula(names):\n",
    "    formulas = []\n",
    "    for name in names:\n",
    "        formula = chemical_formulas[name]\n",
    "        formulas.append(formula)\n",
    "    return formulas\n",
    "\n",
    "# Assign coordinate\n",
    "DS = DS.assign_coords({'chemical_formula': ('sample_name', names2formula(DS.sample_name.values))})\n",
    "DS"
   ]
  },
  {
   "cell_type": "markdown",
   "id": "c16f4d0b-2f87-496b-aad5-bb329a957f08",
   "metadata": {
    "tags": []
   },
   "source": [
    "#### Generate optical constants dataset"
   ]
  },
  {
   "cell_type": "code",
   "execution_count": null,
   "id": "974fa3fe-a3fa-41dd-a2b0-ffbf3485623c",
   "metadata": {
    "tags": []
   },
   "outputs": [],
   "source": [
    "# Calculate optical constants via kkcalc\n",
    "# Also calculate vacuum contrast\n",
    "nexafs_type = 'pey'\n",
    "\n",
    "n_list = []\n",
    "for sample_name in tqdm(DS.sample_name.values):\n",
    "    nf_DA = DS[f'full_corr_{nexafs_type}'].sel(sample_name=sample_name)\n",
    "    chemical_formula = str(nf_DA.chemical_formula.values)\n",
    "    n = nf.run_kkcalc_a(nf_DA, x_min=280, x_max=305, chemical_formula=chemical_formula, density=1.1)\n",
    "    n = n.expand_dims({'sample_name':[sample_name]})\n",
    "    n_list.append(n)\n",
    "    \n",
    "n_DS = xr.concat(n_list, dim='sample_name')\n",
    "n_DS = n_DS.swap_dims({'cos_sq_theta':'theta'})\n",
    "n_DS['vacuum_contrast'] = binary_contrast(n_DS)\n",
    "n_DS"
   ]
  },
  {
   "cell_type": "markdown",
   "id": "8495b919-f470-4238-97a6-73fc1f44edbc",
   "metadata": {},
   "source": [
    "#### Plot optical constants and vacuum contrasts"
   ]
  },
  {
   "cell_type": "code",
   "execution_count": null,
   "id": "7dfcbd4d-a971-45b5-aa59-436d5f35e21c",
   "metadata": {},
   "outputs": [],
   "source": [
    "outPath"
   ]
  },
  {
   "cell_type": "code",
   "execution_count": null,
   "id": "579920c1-74c0-4c2a-b3a7-8ef414b9674b",
   "metadata": {
    "tags": []
   },
   "outputs": [],
   "source": [
    "# Plot optical constants and vacuum contrast for each sample \n",
    "\n",
    "# Set energy bounds and theta\n",
    "nexafs_type = 'pey'\n",
    "energy_min = 280\n",
    "energy_max = 310\n",
    "energy_slice = slice(energy_min, energy_max) # carbon\n",
    "theta = 55\n",
    "\n",
    "# Plotting loop\n",
    "for sample_name in tqdm(n_DS.sample_name.values):\n",
    "    fig, axs = plt.subplots(ncols=2, figsize=(12,4), tight_layout=True)\n",
    "    fig.suptitle(f'{sample_name}: magic angle optical constants & vacuum contrast from PEY NEXAFS', fontsize=14, x=0.53)\n",
    "    n_DS['delta'].sel(sample_name=sample_name, theta=theta, energy=energy_slice).plot.line(ax=axs[0], label=r'$\\delta$')\n",
    "    n_DS['beta'].sel(sample_name=sample_name, theta=theta, energy=energy_slice).plot.line(ax=axs[0], label=r'$\\beta$')\n",
    "    n_DS['vacuum_contrast'].sel(sample_name=sample_name, theta=theta, energy=energy_slice).plot.line(ax=axs[1], yscale='log')\n",
    "    axs[0].legend()\n",
    "    axs[0].set(title=r'Optical Constants, $\\theta = 55°$', xlabel='X-ray energy [eV]', ylabel='Optical Constants Value [arb. units]')\n",
    "    axs[1].set(title=r'Vacuum Binary Contrast, $\\theta = 55°$', xlabel='X-ray energy [eV]', ylabel='Contrast [arb. units]')\n",
    "    fig.savefig(outPath.joinpath(f'nexafs_plots/{nexafs_type}_carbon_magic_constants', f'{sample_name}_energy{energy_min}-{energy_max}.png'), dpi=120)\n",
    "    plt.show()\n",
    "    plt.close('all')"
   ]
  },
  {
   "cell_type": "markdown",
   "id": "ae3d0ebe-0754-49b7-beae-43f3a473d62e",
   "metadata": {},
   "source": [
    "#### Plot binary contrasts"
   ]
  },
  {
   "cell_type": "code",
   "execution_count": null,
   "id": "1f40a16c-f663-46e5-8a93-27f3dc3dfef8",
   "metadata": {
    "tags": []
   },
   "outputs": [],
   "source": [
    "# Define sample_name pairs to plot binary contrast for\n",
    "# pairs = [\n",
    "#     ('PM6_3000_dSiN_R', 'Y6_3000_dSiN_R'),\n",
    "#     ('PM6_3000_dSiN_R', 'Y6_2000_dSiN_R'),    \n",
    "#     ('PM6_3000_dSiN_R', 'Y7_3000_dSiN_R'),    \n",
    "#     ('PM6_3000_dSiN_R', 'Y7_2000_dSiN_R'),    \n",
    "#     ('PM7_3000_dSiN_R', 'Y6_3000_dSiN_R'),\n",
    "#     ('PM7_3000_dSiN_R', 'Y6_2000_dSiN_R'),    \n",
    "#     ('PM7_3000_dSiN_R', 'Y7_3000_dSiN_R'),    \n",
    "#     ('PM7_3000_dSiN_R', 'Y7_2000_dSiN_R') \n",
    "# ]\n",
    "\n",
    "pairs = [\n",
    "    ('PM6_Si', 'Y6_Si'),\n",
    "    ('PM6_Si', 'Y7_Si'),    \n",
    "    ('PM7_Si', 'Y6_Si'),\n",
    "    ('PM7_Si', 'Y7_Si'),    \n",
    "]\n",
    "\n",
    "# Set energy bounds and select theta\n",
    "nexafs_type = 'pey'\n",
    "energy_min = 282\n",
    "energy_max = 292\n",
    "energy_slice = slice(energy_min, energy_max)\n",
    "theta = 55\n",
    "\n",
    "# Plotting loop\n",
    "for pair in tqdm(pairs):\n",
    "    fig, ax = plt.subplots(figsize=(7,4), dpi=120, tight_layout=True)\n",
    "    (binary_contrast(n_DS.sel(sample_name=pair[0]), n_DS.sel(sample_name=pair[1]))\n",
    "     .sel(theta=theta, energy=energy_slice)\n",
    "     .plot.line(ax=ax, yscale='log'))\n",
    "    ax.set(title=f'Magic angle ($\\\\theta = 55°$) binary contrast: {pair[0]}:{pair[1]}', ylabel='Contrast [arb. units]', xlabel='X-ray energy [eV]')\n",
    "    plt.show()\n",
    "    fig.savefig(outPath.joinpath(f'nexafs_plots/{nexafs_type}_magic_binary_contrasts', f'{pair[0]}-{pair[1]}_energy{energy_min}-{energy_max}.png'), dpi=120)\n",
    "    plt.close('all')"
   ]
  },
  {
   "cell_type": "code",
   "execution_count": null,
   "id": "870a97c3-0245-43aa-be5f-35949feef63a",
   "metadata": {},
   "outputs": [],
   "source": []
  }
 ],
 "metadata": {
  "kernelspec": {
   "display_name": "Python 3 (ipykernel)",
   "language": "python",
   "name": "python3"
  },
  "language_info": {
   "codemirror_mode": {
    "name": "ipython",
    "version": 3
   },
   "file_extension": ".py",
   "mimetype": "text/x-python",
   "name": "python",
   "nbconvert_exporter": "python",
   "pygments_lexer": "ipython3",
   "version": "3.11.6"
  },
  "toc-showmarkdowntxt": false
 },
 "nbformat": 4,
 "nbformat_minor": 5
}
