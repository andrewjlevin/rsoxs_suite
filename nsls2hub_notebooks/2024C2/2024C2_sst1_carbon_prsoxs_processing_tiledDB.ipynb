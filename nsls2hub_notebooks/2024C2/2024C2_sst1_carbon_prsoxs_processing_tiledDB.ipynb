{
 "cells": [
  {
   "cell_type": "markdown",
   "id": "0",
   "metadata": {},
   "source": [
    "# 2024C2: Processing SST1 RSoXS Data, loaded from tiled DB\n",
    "Use the default NSLSII JupyterHub python environment!"
   ]
  },
  {
   "cell_type": "markdown",
   "id": "2",
   "metadata": {},
   "source": [
    "## Imports"
   ]
  },
  {
   "cell_type": "code",
   "execution_count": null,
   "id": "3",
   "metadata": {
    "tags": []
   },
   "outputs": [],
   "source": [
    "# Imports\n",
    "import PyHyperScattering as phs\n",
    "import pathlib\n",
    "import sys\n",
    "import ast\n",
    "import json\n",
    "import datetime\n",
    "import numpy as np\n",
    "import pandas as pd\n",
    "import xarray as xr\n",
    "import matplotlib.pyplot as plt\n",
    "from matplotlib.colors import LogNorm\n",
    "from tqdm.auto import tqdm\n",
    "import dask.array as da\n",
    "from tiled.client import from_profile, from_uri\n",
    "\n",
    "sys.path.append('/nsls2/users/alevin/local_lib')\n",
    "from andrew_rsoxs_fxns import *\n",
    "\n",
    "print(f'Using PyHyperScattering Version: {phs.__version__}')\n",
    "\n",
    "# Set colormap\n",
    "cmap = plt.cm.turbo.copy()\n",
    "cmap.set_bad(cmap.get_under())"
   ]
  },
  {
   "cell_type": "markdown",
   "id": "4",
   "metadata": {},
   "source": [
    "## Define paths & short functions"
   ]
  },
  {
   "cell_type": "raw",
   "id": "5",
   "metadata": {},
   "source": [
    "rclone --dry-run copy -P /nsls2/data/sst/proposals/2024-2/pass-313412/processed_data/rsoxs_plots remote:research/data_analysis/rsoxs_suite/prsoxs_plots/2024C2 --exclude '*checkpoint*'"
   ]
  },
  {
   "cell_type": "code",
   "execution_count": null,
   "id": "6",
   "metadata": {},
   "outputs": [],
   "source": [
    "# Define directory paths\n",
    "userPath = pathlib.Path('/nsls2/users/alevin')\n",
    "propPath = pathlib.Path('/nsls2/data/sst/proposals/2024-2/pass-313412')\n",
    "\n",
    "outPath = propPath.joinpath('processed_data')\n",
    "maskPath = outPath.joinpath('masks')\n",
    "zarrsPath = outPath.joinpath('rsoxs_zarrs')"
   ]
  },
  {
   "cell_type": "code",
   "execution_count": null,
   "id": "7",
   "metadata": {},
   "outputs": [],
   "source": [
    "# # Some user defined functions for loading metadata\n",
    "# def load_monitors(loader, run, dims=['energy', 'polarization']):\n",
    "#     md = loader.loadMd(run)\n",
    "#     monitors = loader.loadMonitors(run)\n",
    "#     dims_to_join = []\n",
    "#     dim_names_to_join = []\n",
    "#     for dim in dims:\n",
    "#         dims_to_join.append(md[dim].compute())\n",
    "#         dim_names_to_join.append(dim)  \n",
    "#     index = pd.MultiIndex.from_arrays(dims_to_join, names=dim_names_to_join)\n",
    "#     monitors_remeshed = monitors.rename({'time':'system'}).reset_index('system').assign_coords(system=index).unstack('system')\n",
    "#     # monitors_remeshed = monitors.rename_vars({'time_bins':'time'}).rename({'time':'system'}).reset_index('system').assign_coords(system=index).unstack('system')\n",
    "#     return monitors_remeshed\n",
    "\n",
    "# def load_diode(loader, run):\n",
    "#     monitors = loader.loadMonitors(run)\n",
    "#     energies = monitors['energy_readback']\n",
    "    \n",
    "#     monitors = monitors.swap_dims({'time':'energy_readback'}).rename({'energy_readback':'energy'})  #.drop_vars('time_bins')\n",
    "\n",
    "#     # monitors = monitors.rename_vars({'time_bins':'energy'}).reset_index('energy').assign_coords(energy=energies.data)\n",
    "#     # monitors = monitors.rename_vars({'time_bins':'time'}).rename({'time':'energy'}).reset_index('energy').assign_coords(energy=energies.data)\n",
    "#     # monitors = monitors.rename({'time':'energy'}).reset_index('energy').assign_coords(energy=energies.data)\n",
    "    \n",
    "#     polarization = float(round(run['baseline']['data']['en_polarization'][0].compute()))\n",
    "#     monitors = monitors.expand_dims({'polarization': [polarization]})\n",
    "#     # monitors.attrs['diode_scan_id'] = run.start['scan_id']\n",
    "#     monitors = monitors.dropna(dim='energy').groupby('energy').mean()\n",
    "    \n",
    "#     return monitors"
   ]
  },
  {
   "cell_type": "code",
   "execution_count": null,
   "id": "8",
   "metadata": {},
   "outputs": [],
   "source": [
    "# Some user defined functions for loading metadata\n",
    "def load_monitors_dask(loader, run, dims=['energy', 'polarization']):\n",
    "    md = loader.loadMd(run)\n",
    "    monitors = loader.loadMonitors(run)\n",
    "    dims_to_join = []\n",
    "    dim_names_to_join = []\n",
    "    for dim in dims:\n",
    "        dims_to_join.append(md[dim].compute())\n",
    "        dim_names_to_join.append(dim)  \n",
    "    index = pd.MultiIndex.from_arrays(dims_to_join, names=dim_names_to_join)\n",
    "    # monitors_remeshed = monitors.rename({'time':'system'}).reset_index('system').assign_coords(system=index).unstack('system')\n",
    "    # monitors_remeshed = monitors.rename_vars({'time_bins':'time'}).rename({'time':'system'}).reset_index('system').assign_coords(system=index).unstack('system')\n",
    "    return monitors\n",
    "\n",
    "def load_diode_dask(loader, lab_pol, run):\n",
    "    monitors = loader.loadMonitors(run)\n",
    "    energies = monitors['energy_readback']\n",
    "    monitors = monitors.rename({'time':'energy'}).reset_index('energy').assign_coords(energy=energies.data)\n",
    "    # monitors = monitors.rename_vars({'time_bins':'time'}).rename({'time':'energy'}).reset_index('energy').assign_coords(energy=energies.data)\n",
    "        \n",
    "    monitors = monitors.expand_dims({'pol': [lab_pol]})\n",
    "    monitors = monitors.assign_coords({'uid': ('pol', [run.start['uid']])})\n",
    "    monitors = monitors.dropna(dim='energy').groupby('energy').mean()\n",
    "    \n",
    "    return monitors \n",
    "\n",
    "\n",
    "def load_monitors_np(loader, run, dims=['energy', 'polarization']):\n",
    "    md = loader.loadMd(run)\n",
    "    monitors = loader.loadMonitors(run)\n",
    "    dims_to_join = []\n",
    "    dim_names_to_join = []\n",
    "    for dim in dims:\n",
    "        dims_to_join.append(md[dim])\n",
    "        dim_names_to_join.append(dim)  \n",
    "    index = pd.MultiIndex.from_arrays(dims_to_join, names=dim_names_to_join)\n",
    "    # monitors_remeshed = monitors.rename({'time':'system'}).reset_index('system').assign_coords(system=index).unstack('system')\n",
    "    # monitors_remeshed = monitors.rename_vars({'time_bins':'time'}).rename({'time':'system'}).reset_index('system').assign_coords(system=index).unstack('system')\n",
    "    return monitors\n",
    "\n",
    "def load_diode_np(loader, lab_pol, run):\n",
    "    monitors = loader.loadMonitors(run)\n",
    "    energies = monitors['energy_readback']\n",
    "    monitors = monitors.rename({'time':'energy'}).reset_index('energy').assign_coords(energy=energies.data)\n",
    "    # monitors = monitors.rename_vars({'time_bins':'time'}).rename({'time':'energy'}).reset_index('energy').assign_coords(energy=energies.data)\n",
    "        \n",
    "    monitors = monitors.expand_dims({'pol': [lab_pol]})\n",
    "    monitors = monitors.assign_coords({'uid': ('pol', [run.start['uid']])})\n",
    "    monitors = monitors.dropna(dim='energy').groupby('energy').mean()\n",
    "    \n",
    "    return monitors "
   ]
  },
  {
   "cell_type": "markdown",
   "id": "9",
   "metadata": {
    "jp-MarkdownHeadingCollapsed": true,
    "tags": []
   },
   "source": [
    "## Load from local file"
   ]
  },
  {
   "cell_type": "code",
   "execution_count": null,
   "id": "10",
   "metadata": {},
   "outputs": [],
   "source": [
    "local_loader = phs.load.SST1RSoXSLoader(corr_mode='none')"
   ]
  },
  {
   "cell_type": "code",
   "execution_count": null,
   "id": "11",
   "metadata": {},
   "outputs": [],
   "source": [
    "# scan_id = '65802'\n",
    "# # scan_id = '34427'\n",
    "# filepath = samplePath.joinpath(scan_id)\n",
    "# filepath"
   ]
  },
  {
   "cell_type": "code",
   "execution_count": null,
   "id": "12",
   "metadata": {
    "tags": []
   },
   "outputs": [],
   "source": [
    "[f.name for f in filepath.iterdir()]"
   ]
  },
  {
   "cell_type": "code",
   "execution_count": null,
   "id": "13",
   "metadata": {
    "tags": []
   },
   "outputs": [],
   "source": [
    "# local_loader = SST1RSoXSLoader(corr_mode='None')\n",
    "da = local_loader.loadFileSeries(filepath, dims=['energy', 'polarization'])\n",
    "da"
   ]
  },
  {
   "cell_type": "code",
   "execution_count": null,
   "id": "14",
   "metadata": {
    "tags": []
   },
   "outputs": [],
   "source": [
    "da = da.unstack('system')\n",
    "# da = da.where(da>1e-3)\n",
    "da"
   ]
  },
  {
   "cell_type": "code",
   "execution_count": null,
   "id": "15",
   "metadata": {},
   "outputs": [],
   "source": [
    "# cmin = float(da.quantile(0.1))\n",
    "# cmax = float(da.quantile(0.9))\n",
    "\n",
    "# da.sel(polarization=0, energy=285, method='nearest').plot.imshow(norm=LogNorm(1e1, 1e4), cmap=cmap, interpolation='nearest')\n",
    "\n",
    "energies = [270, 280, 282, 283, 284, 285, 286, 290]\n",
    "\n",
    "fg = da.sel(polarization=90, method='nearest').sel(energy=energies, method='nearest').plot.imshow(figsize=(18, 6),\n",
    "                col='energy', col_wrap=4, norm=LogNorm(1, 1e4), cmap=cmap, interpolation='nearest')\n",
    "fg.cbar.set_label('Intensity [arb. units]', rotation=270, labelpad=15)\n",
    "for axes in fg.axs.flatten():\n",
    "    axes.set(aspect='equal')\n",
    "\n",
    "plt.show()"
   ]
  },
  {
   "cell_type": "markdown",
   "id": "16",
   "metadata": {
    "tags": []
   },
   "source": [
    "## Load raw data from databroker & save zarrs"
   ]
  },
  {
   "cell_type": "code",
   "execution_count": null,
   "id": "17",
   "metadata": {},
   "outputs": [],
   "source": [
    "# # Define catalog(s):\n",
    "# c = from_profile(\"rsoxs\", structure_clients='dask')\n",
    "# # c = from_uri('https://tiled.nsls2.bnl.gov/', structure_clients='numpy')['rsoxs']['raw']\n",
    "# # print(c)"
   ]
  },
  {
   "cell_type": "code",
   "execution_count": null,
   "id": "18",
   "metadata": {},
   "outputs": [],
   "source": [
    "# # Define loader(s):\n",
    "# db_loader = phs.load.SST1RSoXSDB(corr_mode='None', catalog=c, catalog_kwargs={}, dark_pedestal=40)  # initialize rsoxs databroker loader w/ Dask\n",
    "# # db_loader = phs.load.SST1RSoXSDB(corr_mode='none', use_chunked_loading=True, dark_pedestal=40)  # initialize rsoxs databroker loader w/ Dask"
   ]
  },
  {
   "cell_type": "code",
   "execution_count": null,
   "id": "19",
   "metadata": {
    "tags": []
   },
   "outputs": [],
   "source": [
    "## Search for and summarize runs:\n",
    "# Define catalog(s):\n",
    "c = from_profile(\"rsoxs\", structure_clients='dask')\n",
    "db_loader = phs.load.SST1RSoXSDB(corr_mode='None', catalog=c, catalog_kwargs={}, dark_pedestal=0)  # initialize rsoxs databroker loader w/ Dask\n",
    "# db_loader = phs.load.SST1RSoXSDB(corr_mode='None', catalog=c, catalog_kwargs={}, dark_pedestal=80)  # used for 1180 eV images\n",
    "\n",
    "\n",
    "# runs_sum_df = db_loader.summarize_run(institution='CUBLDER', cycle='2024-2', sample_id='', project='TRMSN', plan='rsoxs')\n",
    "runs_sum_df = db_loader.searchCatalog(institution='CUBLDER', cycle='2024-2', sample_id='', project='TRMSN', plan='rsoxs')\n",
    "\n",
    "# # runs_sum_df = runs_sum_df.set_index('scan_id')  # optional, set index to scan id\n",
    "# print(runs_sum_df['plan'].unique())\n",
    "# display(runs_sum_df)"
   ]
  },
  {
   "cell_type": "code",
   "execution_count": null,
   "id": "20",
   "metadata": {
    "tags": []
   },
   "outputs": [],
   "source": [
    "with pd.option_context('display.max_rows', None):\n",
    "    display(runs_sum_df)"
   ]
  },
  {
   "cell_type": "code",
   "execution_count": null,
   "id": "e4525953-62ce-4c7f-8ac2-8bd02232fce5",
   "metadata": {
    "tags": []
   },
   "outputs": [],
   "source": [
    "db_loader.searchCatalog??"
   ]
  },
  {
   "cell_type": "code",
   "execution_count": null,
   "id": "21",
   "metadata": {
    "tags": []
   },
   "outputs": [],
   "source": [
    "## Slice output dataframe for samples of interest\n",
    "# plan_of_interest = 'rsoxs_carbon'\n",
    "plan_of_interest = 'rsoxs_1180'\n",
    "# plan_of_interest = 'rsoxs_[350, 305, 292, 287, 282, 270, 250]'\n",
    "\n",
    "df = runs_sum_df\n",
    "runs_of_interest = df[(df['plan']==plan_of_interest)]\n",
    "# runs_of_interest = df[(df['plan']==plan_of_interest) & ((df['scan_id']<80033) | (df['scan_id']>80046))]  # 80033 - 80046 are bad scans for rsoxs_1180 (beam not transmitting through)\n",
    "# runs_of_interest = df[(df['plan']==plan_of_interest) & ((df['scan_id']<80033) | (df['scan_id']>80092)) & (df['num_Images']==112)]  # normal incidence rsoxs_carbon\n",
    "# runs_of_interest = df[((df['scan_id']==80332) | (df['scan_id']==80333))]  # repeat normal rsoxs_carbn\n",
    "# runs_of_interest = df[(df['plan']==plan_of_interest) & ((df['scan_id']<80033) | (df['scan_id']>80092)) & (df['num_Images']==168)]  # tilted incidence rsoxs_carbon\n",
    "\n",
    "# runs_of_interest = df[(df['plan']==plan_of_interest) & (df['num_Images']==228)]\n",
    "# runs_of_interest = runs_of_interest.drop(index=31)\n",
    "# runs_of_interest = df[(df['plan']==plan_of_interest) & (df['num_Images']==80)]\n",
    "\n",
    "with pd.option_context('display.max_rows', None):\n",
    "    display(runs_of_interest)"
   ]
  },
  {
   "cell_type": "code",
   "execution_count": null,
   "id": "6a566ddd-80be-4f64-8d0e-e63014b7807c",
   "metadata": {},
   "outputs": [],
   "source": [
    "raw_int_DA_rows[0].squeeze()"
   ]
  },
  {
   "cell_type": "code",
   "execution_count": null,
   "id": "befc19ac-8c77-43fc-acad-454910831a9e",
   "metadata": {
    "tags": []
   },
   "outputs": [],
   "source": [
    "[DA.squeeze().swap_dims({'polarization':'datetime'}) for DA in raw_int_DA_rows][0]"
   ]
  },
  {
   "cell_type": "code",
   "execution_count": null,
   "id": "fdf09216-d9fb-49c8-af7e-c22fc4674244",
   "metadata": {
    "tags": []
   },
   "outputs": [],
   "source": [
    "full_DA = xr.concat([DA.squeeze().swap_dims({'polarization':'datetime'}) for DA in raw_int_DA_rows], dim='datetime')\n",
    "full_DA"
   ]
  },
  {
   "cell_type": "code",
   "execution_count": null,
   "id": "c85662b5-51fe-4320-8624-7cc18ca3a1b0",
   "metadata": {
    "tags": []
   },
   "outputs": [],
   "source": [
    "full_DA"
   ]
  },
  {
   "cell_type": "code",
   "execution_count": null,
   "id": "17920a18-4ac1-4a41-b7c7-92d1b4a42422",
   "metadata": {
    "tags": []
   },
   "outputs": [],
   "source": [
    "def sel_coords(DA, dim, coord, val):\n",
    "    return DA.swap_dims({dim:coord}).sel(polarization=val).swap_dims({coord:dim})\n",
    "    \n",
    "sel_DA = sel_coords(full_DA, 'datetime', 'polarization', 0)"
   ]
  },
  {
   "cell_type": "code",
   "execution_count": null,
   "id": "12e27cf6-554f-4e8b-8648-27933cade08e",
   "metadata": {
    "tags": []
   },
   "outputs": [],
   "source": [
    "sel_DAs = sel_coords(full_DA, 'datetime', 'polarization', 0)\n",
    "for datetime in sel_DAs.datetime.values:\n",
    "    sel_DA = sel_DAs.sel(datetime=datetime)\n",
    "    sliced_DA = sel_DA.squeeze().compute() #.sel(polarization=0).compute()\n",
    "    cmin, cmax = sliced_DA.quantile([0.1,1-1e-5])\n",
    "    ax = sliced_DA.plot.imshow(cmap=cmap, norm=LogNorm(30,cmax), interpolation='antialiased')\n",
    "    ax.axes.set(aspect='equal', title=f'{sliced_DA.datetime.values} | {sliced_DA.polarization.values.round()}° lab pol')\n",
    "    ax.figure.set(dpi=120)\n",
    "    plt.show()\n",
    "    plt.close('all')"
   ]
  },
  {
   "cell_type": "code",
   "execution_count": null,
   "id": "37a6a87d-39e8-4b90-bfc2-14544f93fafb",
   "metadata": {
    "tags": []
   },
   "outputs": [],
   "source": [
    "db_loader.loadRun??"
   ]
  },
  {
   "cell_type": "code",
   "execution_count": null,
   "id": "f7bb07ce-1318-4bb2-956a-6a2176a4b50d",
   "metadata": {
    "tags": []
   },
   "outputs": [],
   "source": [
    "data = run[\"primary\"][\"data\"].read()[md[\"detector\"] + \"_image\"]\n",
    "timestamps = data.time.values.round()\n",
    "datetimes = np.array(list(map(lambda x: str(datetime.datetime.fromtimestamp(x)), timestamps)))\n",
    "datetimes"
   ]
  },
  {
   "cell_type": "code",
   "execution_count": null,
   "id": "a03c10b7-308d-47b9-a2c8-4d614f2fb678",
   "metadata": {
    "tags": []
   },
   "outputs": [],
   "source": [
    "print(timestamps)\n",
    "print(datetimes)"
   ]
  },
  {
   "cell_type": "code",
   "execution_count": null,
   "id": "96b80716-64d2-47f0-aebd-4614f9e77bf6",
   "metadata": {
    "tags": []
   },
   "outputs": [],
   "source": [
    "dt_value = datetime.datetime.fromtimestamp(1.72120908e+09)\n",
    "dt_value"
   ]
  },
  {
   "cell_type": "code",
   "execution_count": null,
   "id": "373fd1e7-0fd3-417e-b73a-0943857008db",
   "metadata": {
    "tags": []
   },
   "outputs": [],
   "source": [
    "dt_value.timestamp()"
   ]
  },
  {
   "cell_type": "code",
   "execution_count": null,
   "id": "6fb08a21-7a03-4219-bf80-7d2c279a48c6",
   "metadata": {
    "tags": []
   },
   "outputs": [],
   "source": [
    "str(dt_value)"
   ]
  },
  {
   "cell_type": "code",
   "execution_count": null,
   "id": "0658c9f3-a4fb-44de-be81-9d1c6150bcf9",
   "metadata": {
    "jupyter": {
     "outputs_hidden": true
    },
    "tags": []
   },
   "outputs": [],
   "source": [
    "db_loader.loadRun??"
   ]
  },
  {
   "cell_type": "code",
   "execution_count": null,
   "id": "22",
   "metadata": {
    "tags": []
   },
   "outputs": [],
   "source": [
    "raw_int_DA_rows = []\n",
    "# samp_au_DA_rows = []\n",
    "# monitors_rows = []\n",
    "\n",
    "for scan_id in tqdm(runs_of_interest['scan_id'][:]):\n",
    "    run = c[scan_id]\n",
    "    \n",
    "    # Get the timestamps & times to add as coordinates\n",
    "    data = run[\"primary\"][\"data\"].read()[md[\"detector\"] + \"_image\"]\n",
    "    timestamps = data.time.values.round()\n",
    "    datetimes = np.array(list(map(lambda x: str(datetime.datetime.fromtimestamp(x)), timestamps)))\n",
    "    \n",
    "    raw_int_DA = db_loader.loadRun(run, dims=['energy', 'polarization'])\n",
    "\n",
    "#     # New addition needed for 2023C3 unstacking system into energy & polarization\n",
    "#     # Convert 'system' MultiIndex to DataFrame\n",
    "#     index = pd.DataFrame(raw_int_DA['system'].values.tolist(), columns=['energy', 'polarization'])\n",
    "\n",
    "#     # Add the energy and polarization as new coordinates\n",
    "#     raw_int_DA = raw_int_DA.assign_coords(energy=('system', index['energy']))\n",
    "#     raw_int_DA = raw_int_DA.assign_coords(polarization=('system', index['polarization']))\n",
    "\n",
    "    # Unstack data\n",
    "    raw_int_DA = raw_int_DA.unstack('system')    \n",
    "\n",
    "    # Back to 2022C2 code  \n",
    "    sample_id = raw_int_DA.start['sample_id']\n",
    "    sample_name = raw_int_DA.sample_name\n",
    "\n",
    "    raw_int_DA = raw_int_DA.expand_dims({'scan_id': [raw_int_DA.sampleid]})\n",
    "    raw_int_DA = raw_int_DA.assign_coords(sample_id=('scan_id', [sample_id]),\n",
    "                                          sample_name=('scan_id', [sample_name]),\n",
    "                                          timestamp=('polarization', timestamps),\n",
    "                                          datetime=('polarization', datetimes))\n",
    "    raw_int_DA_rows.append(raw_int_DA)\n",
    "\n",
    "#    # return to proper normalizations later on...\n",
    "#     monitors = load_monitors_dask(db_loader, run, dims=['energy', 'polarization'])\n",
    "    \n",
    "#     monitors = monitors.expand_dims({'scan_id': [raw_int_DA.sampleid]})\n",
    "#     monitors = monitors.assign_coords(sample_id=('scan_id', [sample_id]),\n",
    "#                                 sample_name=('scan_id', [sample_name]))\n",
    "    \n",
    "#     monitors_rows.append(monitors)\n",
    "    \n",
    "#     samp_au_DA = monitors['RSoXS Au Mesh Current']\n",
    "#     samp_au_DA = samp_au_DA.compute().interpolate_na(dim='energy')\n",
    "#     samp_au_DA_rows.append(samp_au_DA)\n",
    "    \n",
    "#     # samp_au_DA = monitors['RSoXS Au Mesh Current']\n",
    "#     # samp_au_DA = samp_au_DA.expand_dims({'scan_id': [raw_int_DA.sampleid]})\n",
    "#     # samp_au_DA = samp_au_DA.assign_coords(sample_id=('scan_id', [sample_id]),\n",
    "#     #                             sample_name=('scan_id', [sample_name]))\n",
    "#     # samp_au_DA = samp_au_DA.compute().interpolate_na(dim='energy')\n",
    "#     # samp_au_DA_rows.append(samp_au_DA)\n",
    "\n",
    "# DS = xr.concat(raw_int_DA_rows, 'scan_id').to_dataset(name='raw_intensity')\n",
    "# # DS['sample_au_mesh'] = xr.concat(samp_au_DA_rows, 'scan_id')\n",
    "\n",
    "# DS.attrs['name'] = plan_of_interest\n",
    "# DS = DS.swap_dims({'scan_id':'sample_name'})"
   ]
  },
  {
   "cell_type": "code",
   "execution_count": null,
   "id": "3eb7086b-e673-4aad-b4fa-04c015cffcfb",
   "metadata": {
    "tags": []
   },
   "outputs": [],
   "source": [
    "# sliced_DA = raw_int_DA.squeeze().sel(polarization=0).compute()\n",
    "# cmin, cmax = sliced_DA.quantile([0.1,1-1e-5])\n",
    "# ax = sliced_DA.plot.imshow(cmap=cmap, norm=LogNorm(50,cmax), interpolation='antialiased')\n",
    "# ax.axes.set(aspect='equal')\n",
    "# ax.figure.set(dpi=120)\n",
    "# plt.show()"
   ]
  },
  {
   "cell_type": "code",
   "execution_count": null,
   "id": "87d48ed6-06c4-442b-ac00-5dcf853abc66",
   "metadata": {
    "tags": []
   },
   "outputs": [],
   "source": [
    "full_DA = xr.concat([DA.squeeze().swap_dims({'polarization':'datetime'}) for DA in raw_int_DA_rows], dim='datetime')\n",
    "full_DA"
   ]
  },
  {
   "cell_type": "code",
   "execution_count": null,
   "id": "da895b31-a332-4872-ab54-ccaf1eac6bbc",
   "metadata": {
    "tags": []
   },
   "outputs": [],
   "source": [
    "import datetime"
   ]
  },
  {
   "cell_type": "code",
   "execution_count": null,
   "id": "f591c6c1-994b-4e8b-ba85-39e94a16fc8f",
   "metadata": {
    "tags": []
   },
   "outputs": [],
   "source": [
    "full_DA.attrs"
   ]
  },
  {
   "cell_type": "code",
   "execution_count": null,
   "id": "59c01db4-e17c-4b85-a773-2c2e1bfb0eef",
   "metadata": {
    "tags": []
   },
   "outputs": [],
   "source": [
    "# checks for non-serializable data types in the attributes of the raw_intensity and makes serializable\n",
    "for k, v in full_DA.attrs.items():\n",
    "    if isinstance(v, da.core.Array):\n",
    "        full_DA.attrs[k] = v.compute()\n",
    "        print(f'{k:<20}  |  {type(v)}')\n",
    "    elif isinstance(v, dict) or isinstance(v, datetime.datetime):\n",
    "        full_DA.attrs[k] = str(v) \n",
    "        print(f'{k:<20}  |  {type(v)}')"
   ]
  },
  {
   "cell_type": "code",
   "execution_count": null,
   "id": "59ceb993-a161-4fe4-b683-eb509ddf25d7",
   "metadata": {
    "tags": []
   },
   "outputs": [],
   "source": [
    "def sel_coords(DA, dim, coord, val):\n",
    "    return DA.swap_dims({dim:coord}).sel(polarization=val).swap_dims({coord:dim})\n",
    "    \n",
    "sel_DA = sel_coords(full_DA, 'datetime', 'polarization', 0)"
   ]
  },
  {
   "cell_type": "code",
   "execution_count": null,
   "id": "71c9b0dd-e824-40d0-a01d-88ae195182ce",
   "metadata": {
    "tags": []
   },
   "outputs": [],
   "source": [
    "sel_DAs = sel_coords(full_DA, 'datetime', 'polarization', 0)\n",
    "for dt_val in sel_DAs.datetime.values:\n",
    "    sel_DA = sel_DAs.sel(datetime=dt_val)\n",
    "    sliced_DA = sel_DA.squeeze().compute() #.sel(polarization=0).compute()\n",
    "    cmin, cmax = sliced_DA.quantile([0.1,1-1e-5])\n",
    "    ax = sliced_DA.plot.imshow(cmap=cmap, norm=LogNorm(30,cmax), interpolation='antialiased')\n",
    "    ax.axes.set(aspect='equal', title=f'{sliced_DA.datetime.values} | {sliced_DA.polarization.values.round()}° lab pol')\n",
    "    ax.figure.set(dpi=120)\n",
    "    plt.show()\n",
    "    plt.close('all')"
   ]
  },
  {
   "cell_type": "code",
   "execution_count": null,
   "id": "a4ed0ac7-ddea-4717-8a75-b2cedceae077",
   "metadata": {
    "tags": []
   },
   "outputs": [],
   "source": [
    "zarrsPath"
   ]
  },
  {
   "cell_type": "code",
   "execution_count": null,
   "id": "b7c32e4d-20ac-4a68-b847-1b276efb1a63",
   "metadata": {
    "tags": []
   },
   "outputs": [],
   "source": [
    "plan_of_interest"
   ]
  },
  {
   "cell_type": "code",
   "execution_count": null,
   "id": "8cb38b3d-15ac-447b-95c7-a345e12581c3",
   "metadata": {
    "tags": []
   },
   "outputs": [],
   "source": [
    "full_DA.to_dataset(name='raw_intensity').to_zarr(zarrsPath.joinpath(f'cartesian_raw_timestamped_{plan_of_interest}_v1.zarr'), mode='w')"
   ]
  },
  {
   "cell_type": "code",
   "execution_count": null,
   "id": "23",
   "metadata": {
    "tags": []
   },
   "outputs": [],
   "source": [
    "DS = DS.sortby('sample_name')\n",
    "DS"
   ]
  },
  {
   "cell_type": "code",
   "execution_count": null,
   "id": "24",
   "metadata": {
    "tags": []
   },
   "outputs": [],
   "source": [
    "bcxy_2024C1 = {'waxs_bcx': 456.25, 'waxs_bcy': 506.19}  # confident for 2024C1, by refining around Y6BO p5CN-CF diffraction peaks\n",
    "\n",
    "DS['raw_intensity'].attrs['beamcenter_x'] = bcxy_2024C1['waxs_bcx']\n",
    "DS['raw_intensity'].attrs['beamcenter_y'] = bcxy_2024C1['waxs_bcy']\n",
    "\n",
    "DS['raw_intensity'] = apply_q_labels(DS['raw_intensity'])\n",
    "\n",
    "# DS = DS.chunk({'sample_name':1, 'energy':56, 'polarization':2, 'pix_x':1026, 'pix_y':1024})\n",
    "DS"
   ]
  },
  {
   "cell_type": "code",
   "execution_count": null,
   "id": "25",
   "metadata": {
    "tags": []
   },
   "outputs": [],
   "source": [
    "# # Load carbon diode dataset via tiled databroker:\n",
    "# carbon_diode_scan_pols = [      20.0,       55.0,       90.0,      52.38,        0.0,      45.56]\n",
    "# carbon_diode_uids =      ['cbb1dae5', '00accfe3', 'af3255b3', '25042aca', '7e026642', '153238eb'] \n",
    "\n",
    "# diode_monitors_list = []\n",
    "# for lab_pol, scan_uid in zip(carbon_diode_scan_pols, carbon_diode_uids):\n",
    "#     run = c[scan_uid]\n",
    "#     diode_monitors = load_diode_np(db_loader, lab_pol, run)\n",
    "#     diode_monitors_list.append(diode_monitors)\n",
    "\n",
    "# energies = DS.energy.values  # carbon\n",
    "\n",
    "# # interp_diode_monitors_list = [diode_DS.interp({'energy':energies}) for diode_DS in diode_monitors_list] \n",
    "# interp_diode_monitors_list = []\n",
    "# for diode_DS in tqdm(diode_monitors_list):\n",
    "#     diode_DS = diode_DS.interp({'energy':energies})\n",
    "#     interp_diode_monitors_list.append(diode_DS)\n",
    "    \n",
    "# carbon_diode_DS = xr.concat(interp_diode_monitors_list, dim='pol')"
   ]
  },
  {
   "cell_type": "code",
   "execution_count": null,
   "id": "27",
   "metadata": {
    "tags": []
   },
   "outputs": [],
   "source": [
    "# carbon_diode_DS.sel(pol=[0, 45.56,90]).rename({'pol':'polarization'}).assign_coords({'polarization': ('polarization', [0, 45, 90])})"
   ]
  },
  {
   "cell_type": "code",
   "execution_count": null,
   "id": "28",
   "metadata": {
    "tags": []
   },
   "outputs": [],
   "source": [
    "# For tilted incidence / 3 polarizations\n",
    "DS['calib_au_mesh'] = carbon_diode_DS.sel(pol=[0, 45.56,90]).rename({'pol':'polarization'}).assign_coords({'polarization': ('polarization', [0, 45, 90])})['RSoXS Au Mesh Current']\n",
    "DS['calib_diode'] = carbon_diode_DS.sel(pol=[0, 45.56,90]).rename({'pol':'polarization'}).assign_coords({'polarization': ('polarization', [0, 45, 90])})['WAXS Beamstop']\n",
    "DS"
   ]
  },
  {
   "cell_type": "code",
   "execution_count": null,
   "id": "29",
   "metadata": {
    "tags": []
   },
   "outputs": [],
   "source": [
    "# For 2 polarizations\n",
    "DS['calib_au_mesh'] = carbon_diode_DS.sel(pol=[0,90]).rename({'pol':'polarization'})['RSoXS Au Mesh Current']\n",
    "DS['calib_diode'] = carbon_diode_DS.sel(pol=[0,90]).rename({'pol':'polarization'})['WAXS Beamstop']\n",
    "DS"
   ]
  },
  {
   "cell_type": "code",
   "execution_count": null,
   "id": "30",
   "metadata": {
    "tags": []
   },
   "outputs": [],
   "source": [
    "# # for rsoxs_1180\n",
    "\n",
    "# for sample_name in DS.sample_name.values:\n",
    "#     DA = DS['raw_intensity'].sel(sample_name=sample_name, polarization=90).squeeze()\n",
    "#     DA = DA.where(DA>0)\n",
    "#     # cmin = DA.compute().min()\n",
    "#     cmin = DA.compute().quantile(0.0001)\n",
    "#     cmax = DA.compute().quantile(0.995)\n",
    "#     ax = DA.plot.imshow(norm=plt.Normalize(cmin, cmax), cmap=cmap, x='qx', y='qy')\n",
    "#     # ax = DA.plot.imshow(norm=plt.Normalize(cmin, cmax), cmap=cmap)\n",
    "#     ax.axes.set(title=f'{str(DA.sample_name.values)}, Energy = {int(DA.energy.values)} eV')\n",
    "#     plt.show()\n",
    "#     plt.close('all')"
   ]
  },
  {
   "cell_type": "code",
   "execution_count": null,
   "id": "31",
   "metadata": {
    "tags": []
   },
   "outputs": [],
   "source": [
    "# Select Dataset\n",
    "edge = 'carbon'\n",
    "# bcx = DS['raw_intensity'].beamcenter_x\n",
    "# bcy = DS['raw_intensity'].beamcenter_y\n",
    "\n",
    "\n",
    "# Select Plotting Parameters\n",
    "pol = 90\n",
    "energy = 285\n",
    "# energy=400\n",
    "# pix_size = 500\n",
    "# pix_x_slice = slice(bcx-(pix_size/2), bcx+(pix_size/2))\n",
    "# pix_y_slice = slice(bcy-(pix_size/2), bcy+(pix_size/2))\n",
    "\n",
    "# Select DataArray\n",
    "# sample_name = 'PM6-Y6_3000_dSiN'\n",
    "for pol in [0, 90]:\n",
    "    # for DS in tqdm(DS_sample_rows, desc=f'Pol = {pol}°'):\n",
    "    for sample_name in tqdm(DS.sample_name.values, desc=f'Pol = {pol}°'):\n",
    "        intensity_type = 'raw'\n",
    "        DA = DS.sel(sample_name=sample_name)[f'{intensity_type}_intensity'].squeeze()\n",
    "\n",
    "        # Plot\n",
    "        sliced_DA = DA.sel(polarization=pol).sel(energy=energy,method='nearest').swap_dims({'pix_x':'qx', 'pix_y':'qy'})\n",
    "        cmin = float(sliced_DA.sel(qx=slice(0.009,0.08), qy=slice(0.009,0.08)).where(sliced_DA>0).compute().quantile(0.01))\n",
    "        cmax = float(sliced_DA.sel(qx=slice(0.009,0.08), qy=slice(0.009,0.08)).where(sliced_DA>0).compute().quantile(0.995))\n",
    "        \n",
    "        ax = sliced_DA.plot.imshow(figsize=(5.5,4.5), cmap=cmap, norm=LogNorm(cmin,cmax))\n",
    "        ax.figure.suptitle(f'Photon Energy = {np.round(energy, 1)} eV', fontsize=14, y=0.96)\n",
    "        ax.figure.set_tight_layout(True)\n",
    "        ax.axes.set(aspect='equal', title=f'{sample_name}, Polarization = {pol}°', xlabel='q$_x$ [$Å^{-1}$]', ylabel='q$_y$ [$Å^{-1}$]')\n",
    "        ax.colorbar.set_label('Raw Intensity [arb. units]', rotation=270, labelpad=12)\n",
    "        # ax.figure.savefig(plotsPath.joinpath('detector_movies_carbon_v2', f'{sample_name}_{edge}_{intensity_type}_pol{pol}deg.jpeg'), dpi=120)\n",
    "        plt.show()\n",
    "        plt.close('all')"
   ]
  },
  {
   "cell_type": "code",
   "execution_count": null,
   "id": "32",
   "metadata": {
    "tags": []
   },
   "outputs": [],
   "source": [
    "for sample_name in DS.sample_name.values:\n",
    "    DS['sample_au_mesh'].sel(sample_name=sample_name).plot(hue='polarization')\n",
    "    # (DS['calib_au_mesh']/(DS['sample_au_mesh'].sel(sample_name=sample_name))).plot(hue='polarization')\n",
    "    plt.show()\n",
    "    \n",
    "# # DS['calib_au_mesh'].plot(hue='polarization')\n",
    "# # plt.show"
   ]
  },
  {
   "cell_type": "code",
   "execution_count": null,
   "id": "33",
   "metadata": {},
   "outputs": [],
   "source": [
    "averaged_beamstop_rows = []\n",
    "\n",
    "for ds in tqdm(monitors_rows):\n",
    "    # Compute the derivative of each polarization curve with respect to energy\n",
    "    deriv_p1 = ds['WAXS Beamstop'].sel(polarization=0).compute().differentiate('energy')\n",
    "    deriv_p2 = ds['WAXS Beamstop'].sel(polarization=90).compute().differentiate('energy')\n",
    "\n",
    "    # Compute the absolute value of the derivatives\n",
    "    abs_deriv_p1 = abs(deriv_p1)\n",
    "    abs_deriv_p2 = abs(deriv_p2)\n",
    "\n",
    "    # Create a condition array where True indicates that p1 has a smaller absolute derivative than p2\n",
    "    condition = (abs_deriv_p1 < abs_deriv_p2) & ~np.isnan(abs_deriv_p1)\n",
    "\n",
    "    # Use where to create the new DataArray, selecting values from p1 or p2 based on the condition\n",
    "    averaged_beamstop = xr.where(condition, ds['WAXS Beamstop'].sel(polarization=0), ds['WAXS Beamstop'].sel(polarization=90))\n",
    "    averaged_beamstop = averaged_beamstop.rename('averaged_beamstop')\n",
    "    \n",
    "    averaged_beamstop_rows.append(averaged_beamstop)\n",
    "\n",
    "    # Now 'averaged_beamstop' is the new data variable with values from the curve that has the least instantaneous change at each energy point\n"
   ]
  },
  {
   "cell_type": "code",
   "execution_count": null,
   "id": "34",
   "metadata": {
    "tags": []
   },
   "outputs": [],
   "source": [
    "for averaged_beamstop in averaged_beamstop_rows:\n",
    "    averaged_beamstop.plot()\n",
    "    plt.show()\n",
    "    plt.close('all')"
   ]
  },
  {
   "cell_type": "code",
   "execution_count": null,
   "id": "35",
   "metadata": {},
   "outputs": [],
   "source": [
    "window_size = 3  # This is the window size for the smoothing - you'll need to adjust it for your data\n",
    "\n",
    "smoothed_beamstop_rows = []\n",
    "\n",
    "for averaged_beamstop in tqdm(averaged_beamstop_rows):\n",
    "    # Apply a rolling mean on the energy dimension\n",
    "    smoothed_beamstop = averaged_beamstop.rolling(energy=window_size, center=True).mean()\n",
    "\n",
    "    # Note that 'mean()' will introduce NaNs at the start and the end of the DataArray \n",
    "    # where the window does not have enough data points.\n",
    "    # To deal with NaNs, you might want to use 'min_periods=1' which will calculate the mean\n",
    "    # even with a single value, but this could affect the smoothing at the edges of your data.\n",
    "    smoothed_beamstop = averaged_beamstop.rolling(energy=window_size, center=True, min_periods=1).mean()\n",
    "    smoothed_beamstop_rows.append(smoothed_beamstop)\n"
   ]
  },
  {
   "cell_type": "code",
   "execution_count": null,
   "id": "36",
   "metadata": {
    "tags": []
   },
   "outputs": [],
   "source": [
    "for smoothed_beamstop in DS['smoothed_beamstop']:\n",
    "    smoothed_beamstop.plot()\n",
    "    plt.show()\n",
    "    plt.close('all')"
   ]
  },
  {
   "cell_type": "code",
   "execution_count": null,
   "id": "37",
   "metadata": {
    "tags": []
   },
   "outputs": [],
   "source": [
    "DS['corr_intensity'] = ((DS['raw_intensity'] / DS['sample_au_mesh'])\n",
    "                        * (DS['calib_au_mesh'] / DS['calib_diode']))\n",
    "\n",
    "DS"
   ]
  },
  {
   "cell_type": "code",
   "execution_count": null,
   "id": "38",
   "metadata": {
    "tags": []
   },
   "outputs": [],
   "source": [
    "# checks for non-serializable data types in the attributes of the raw_intensity and makes serializable\n",
    "for k, v in DS['raw_intensity'].attrs.items():\n",
    "    if isinstance(v, da.core.Array):\n",
    "        DS['raw_intensity'].attrs[k] = v.compute()\n",
    "        print(f'{k:<20}  |  {type(v)}')\n",
    "    elif isinstance(v, dict) or isinstance(v, datetime.datetime):\n",
    "        DS['raw_intensity'].attrs[k] = str(v) \n",
    "        print(f'{k:<20}  |  {type(v)}')"
   ]
  },
  {
   "cell_type": "code",
   "execution_count": null,
   "id": "39",
   "metadata": {
    "tags": []
   },
   "outputs": [],
   "source": [
    "# # NetCDFs\n",
    "\n",
    "# # cartesian_sample_DS = cartesian_DS_sample_rows[0]\n",
    "# # for cartesian_sample_DS in tqdm(cartesian_DS_sample_rows):\n",
    "# sample_names = DS.sample_name.values\n",
    "\n",
    "# for sample_name in tqdm(sample_names):\n",
    "#     cartesian_sample_DS = DS.sel(sample_name=[sample_name])\n",
    "#     cartesian_sample_DS.to_netcdf(zarrsPath.joinpath('cartesian_rsoxs_carbon_ncs', f'{sample_name}.nc'), format='netCDF4', engine='h5netcdf')"
   ]
  },
  {
   "cell_type": "code",
   "execution_count": null,
   "id": "40",
   "metadata": {},
   "outputs": [],
   "source": [
    "# netcdf_paths = str(zarrsPath.joinpath('cartesian_rsoxs_carbon_ncs')) + '/*.nc'\n",
    "# netcdf_paths"
   ]
  },
  {
   "cell_type": "code",
   "execution_count": null,
   "id": "41",
   "metadata": {},
   "outputs": [],
   "source": [
    "# DS = xr.open_mfdataset(netcdf_paths)\n",
    "# DS"
   ]
  },
  {
   "cell_type": "code",
   "execution_count": null,
   "id": "42",
   "metadata": {
    "tags": []
   },
   "outputs": [],
   "source": [
    "DS"
   ]
  },
  {
   "cell_type": "code",
   "execution_count": null,
   "id": "43",
   "metadata": {
    "tags": []
   },
   "outputs": [],
   "source": [
    "zarrsPath.exists()"
   ]
  },
  {
   "cell_type": "code",
   "execution_count": null,
   "id": "44",
   "metadata": {
    "tags": []
   },
   "outputs": [],
   "source": [
    "zarrsPath"
   ]
  },
  {
   "cell_type": "code",
   "execution_count": null,
   "id": "45",
   "metadata": {
    "tags": []
   },
   "outputs": [],
   "source": [
    "# encoding = {var: {'chunks': DS[var].shape} for var in DS.variables}"
   ]
  },
  {
   "cell_type": "code",
   "execution_count": null,
   "id": "46",
   "metadata": {
    "tags": []
   },
   "outputs": [],
   "source": [
    "encoding"
   ]
  },
  {
   "cell_type": "code",
   "execution_count": null,
   "id": "47",
   "metadata": {
    "tags": []
   },
   "outputs": [],
   "source": [
    "# DS.to_zarr(zarrsPath.joinpath('cartesian_rsoxs_carbon_v1.zarr'), mode='w')  # too big for carbon?"
   ]
  },
  {
   "cell_type": "code",
   "execution_count": null,
   "id": "48",
   "metadata": {
    "tags": []
   },
   "outputs": [],
   "source": [
    "zarrsPath"
   ]
  },
  {
   "cell_type": "code",
   "execution_count": null,
   "id": "49",
   "metadata": {
    "tags": []
   },
   "outputs": [],
   "source": [
    "plan_of_interest = f'rsoxs_carbon'\n",
    "sample_names = DS.sample_name.values\n",
    "\n",
    "DS.sel(sample_name=[sample_names[0]]).to_zarr(zarrsPath.joinpath(f'cartesian_raw_{plan_of_interest}_v2.zarr'), mode='w')\n",
    "for sample_name in tqdm(sample_names[1:], desc='Samples...'):\n",
    "    DS.sel(sample_name=[sample_name]).to_zarr(zarrsPath.joinpath(f'cartesian_raw_{plan_of_interest}_v2.zarr'), mode='a', append_dim='sample_name')\n",
    "\n",
    "# DS.to_zarr(zarrsPath.joinpath(f'cartesian_{plan_of_interest}.zarr'), mode='w')"
   ]
  },
  {
   "cell_type": "code",
   "execution_count": null,
   "id": "50",
   "metadata": {
    "tags": []
   },
   "outputs": [],
   "source": [
    "# with ProgressBar():\n",
    "#     DS.to_zarr(zarrsPath.joinpath(f'cartesian_{plan_of_interest}.zarr'))"
   ]
  }
 ],
 "metadata": {
  "kernelspec": {
   "display_name": "Python 3 (current)",
   "language": "python",
   "name": "python3"
  },
  "language_info": {
   "codemirror_mode": {
    "name": "ipython",
    "version": 3
   },
   "file_extension": ".py",
   "mimetype": "text/x-python",
   "name": "python",
   "nbconvert_exporter": "python",
   "pygments_lexer": "ipython3",
   "version": "3.11.6"
  },
  "toc-showmarkdowntxt": false
 },
 "nbformat": 4,
 "nbformat_minor": 5
}
