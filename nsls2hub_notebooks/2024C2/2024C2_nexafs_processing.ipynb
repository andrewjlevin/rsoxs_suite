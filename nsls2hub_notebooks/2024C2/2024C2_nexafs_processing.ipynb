{
 "cells": [
  {
   "cell_type": "markdown",
   "id": "0",
   "metadata": {},
   "source": [
    "# 2024C2 SST1 NEXAFS Processing Notebook\n",
    "\n",
    "Takes raw SST1 output and can plot/export:\n",
    "* Normalized NEXAFS data for each measured angle\n",
    "* Extrapolated NEXAFS to total isotropy anisotropy (applicable only to uniaxial samples)\n",
    "* Binary contrasts in a variety of data formats (animated gif)\n",
    "* CyRSoXS materials.txt files"
   ]
  },
  {
   "cell_type": "raw",
   "id": "1",
   "metadata": {},
   "source": [
    "rclone --dry-run copy -P /nsls2/data/sst/proposals/2024-2/pass-313412/processed_data/nexafs_plots remote:research/data_analysis/rsoxs_suite/nexafs_plots/2024C2 --exclude '*checkpoint*'\n",
    "\n",
    "rclone --dry-run copy -P /nsls2/data/sst/proposals/2024-2/pass-313412/processed_data/reference_data/plots remote:research/data_analysis/rsoxs_suite/references_plots/2024C2 --exclude '*checkpoint*'"
   ]
  },
  {
   "cell_type": "code",
   "execution_count": null,
   "id": "2",
   "metadata": {
    "tags": []
   },
   "outputs": [],
   "source": [
    "# # # # Only needs to be run once per session, restart kernel after running\n",
    "\n",
    "# # # %pip install pyhyperscattering==0.2.1  # to use pip published package\n",
    "# !pip install -e /nsls2/users/alevin/repos/PyHyperScattering  # to use pip to install via directory\n",
    "# !pip install --pre --upgrade tiled[all] databroker  # bottleneck # needed to fix tiled/databroker error in SST1RSoXSDB"
   ]
  },
  {
   "cell_type": "code",
   "execution_count": null,
   "id": "3",
   "metadata": {
    "tags": []
   },
   "outputs": [],
   "source": [
    "# !pip install -e /nsls2/users/alevin/repos/kkcalc"
   ]
  },
  {
   "cell_type": "code",
   "execution_count": null,
   "id": "4",
   "metadata": {
    "tags": []
   },
   "outputs": [],
   "source": [
    "# !pip install -e /nsls2/users/alevin/repos/xarray"
   ]
  },
  {
   "cell_type": "markdown",
   "id": "5",
   "metadata": {
    "tags": []
   },
   "source": [
    "## Imports"
   ]
  },
  {
   "cell_type": "code",
   "execution_count": null,
   "id": "6",
   "metadata": {
    "tags": []
   },
   "outputs": [],
   "source": [
    "# Imports:\n",
    "# import kkcalc\n",
    "# from kkcalc import data\n",
    "# from kkcalc import kk\n",
    "import pathlib\n",
    "import json \n",
    "import os\n",
    "import numpy as np\n",
    "import matplotlib.pyplot as plt\n",
    "import matplotlib as mpl\n",
    "import xarray as xr\n",
    "import pandas as pd\n",
    "import dask.array as da\n",
    "from scipy import optimize\n",
    "import sys\n",
    "from tqdm.auto import tqdm\n",
    "\n",
    "from tiled.client import from_profile\n",
    "import PyHyperScattering as phs\n",
    "print(f'Using PyHyperScattering Version: {phs.__version__}')\n",
    "\n",
    "sys.path.append('/nsls2/users/alevin/rsoxs_suite/misc_older_work/nexafs_analysis')\n",
    "import nexafs_fxns as nf  # custom nexafs functions used throughout this notebook"
   ]
  },
  {
   "cell_type": "code",
   "execution_count": null,
   "id": "7",
   "metadata": {
    "tags": []
   },
   "outputs": [],
   "source": [
    "# # Imports:\n",
    "# import sys\n",
    "# import pathlib\n",
    "# import numpy as np\n",
    "# import matplotlib.pyplot as plt\n",
    "# import xarray as xr\n",
    "# import pandas as pd\n",
    "# from scipy import optimize\n",
    "# import dask.array as da\n",
    "# from tqdm.auto import tqdm\n",
    "\n",
    "# sys.path.append('/nsls2/users/alevin/rsoxs_suite/misc_older_work/nexafs_analysis')\n",
    "# import nexafs_fxns as nf  # custom nexafs functions used throughout this notebook"
   ]
  },
  {
   "cell_type": "markdown",
   "id": "8",
   "metadata": {
    "tags": []
   },
   "source": [
    "## Define paths & short functions"
   ]
  },
  {
   "cell_type": "code",
   "execution_count": null,
   "id": "a641cd31-6870-4ac1-9d90-27aef8ee14bc",
   "metadata": {
    "tags": []
   },
   "outputs": [],
   "source": [
    "zarrsPath"
   ]
  },
  {
   "cell_type": "code",
   "execution_count": null,
   "id": "9",
   "metadata": {
    "tags": []
   },
   "outputs": [],
   "source": [
    "# Define directory paths\n",
    "propPath = pathlib.Path('/nsls2/data/sst/proposals/2024-2/pass-313412')\n",
    "outPath = propPath.joinpath('processed_data')\n",
    "zarrsPath = outPath.joinpath('nexafs_zarrs')"
   ]
  },
  {
   "cell_type": "code",
   "execution_count": null,
   "id": "10",
   "metadata": {
    "tags": []
   },
   "outputs": [],
   "source": [
    "# user defined functions for loading metadata\n",
    "def select_largest_by_energy(dataarrays):\n",
    "    \"\"\"\n",
    "    Given a list of DataArrays, return a list with one DataArray per angle\n",
    "    and choose the one with the most 'energy' points if there are duplicates.\n",
    "    \"\"\"\n",
    "    # Group by angle\n",
    "    grouped = {}\n",
    "    for da in dataarrays:\n",
    "        angle = int(da.theta)\n",
    "        if angle not in grouped:\n",
    "            grouped[angle] = []\n",
    "        grouped[angle].append(da)\n",
    "\n",
    "    # Select the DataArray with the most 'energy' points\n",
    "    selected = []\n",
    "    for angle, das in grouped.items():\n",
    "        largest_da = max(das, key=lambda x: x.sizes['energy'])\n",
    "        selected.append(largest_da)\n",
    "\n",
    "    return selected"
   ]
  },
  {
   "cell_type": "markdown",
   "id": "11",
   "metadata": {
    "tags": []
   },
   "source": [
    "## Load nexafs data from tiled databroker"
   ]
  },
  {
   "cell_type": "markdown",
   "id": "12",
   "metadata": {
    "tags": []
   },
   "source": [
    "### Loading functions:"
   ]
  },
  {
   "cell_type": "code",
   "execution_count": null,
   "id": "13",
   "metadata": {
    "tags": []
   },
   "outputs": [],
   "source": [
    "# def load_diode(loader, lab_pol, run):\n",
    "#     monitors = loader.loadMonitors(run)\n",
    "#     energies = monitors['energy_readback']\n",
    "#     # monitors = monitors.rename({'time':'energy'}).reset_index('energy').assign_coords(energy=energies.data)\n",
    "#     monitors = monitors.rename_vars({'time_bins':'time'}).rename({'time':'energy'}).reset_index('energy').assign_coords(energy=energies.data)\n",
    "        \n",
    "#     monitors = monitors.expand_dims({'pol': [lab_pol]})\n",
    "#     monitors = monitors.assign_coords({'uid': ('pol', [run.start['uid']])})\n",
    "#     monitors = monitors.dropna(dim='energy').groupby('energy').mean()\n",
    "    \n",
    "#     return monitors \n",
    "\n",
    "\n",
    "# def load_nexafs(loader, run):\n",
    "#     monitors = loader.loadMonitors(run)\n",
    "#     energies = monitors['energy_readback']\n",
    "#     # monitors = monitors.rename({'time':'energy'}).reset_index('energy').assign_coords(energy=energies.data)\n",
    "#     monitors = monitors.rename_vars({'time_bins':'time'}).rename({'time':'energy'}).reset_index('energy').assign_coords(energy=energies.data)\n",
    "#     theta = int(np.round(run['baseline']['data']['en_sample_polarization'][0], 0))\n",
    "    \n",
    "#     if theta > 90:\n",
    "#         theta = 180 - theta\n",
    "        \n",
    "#     monitors = monitors.expand_dims({'theta': [theta],\n",
    "#                                      'sample_name': [run.start['sample_name']]})\n",
    "#     monitors = monitors.assign_coords({'scan_id': ('theta', [run.start['scan_id']]),\n",
    "#                                        'sample_id': ('sample_name', [run.start['sample_id']])})\n",
    "#     monitors = monitors.dropna(dim='energy').groupby('energy').mean()\n",
    "    \n",
    "#     return monitors "
   ]
  },
  {
   "cell_type": "code",
   "execution_count": null,
   "id": "0fc05085-4424-4c37-aa66-b5bb3cb2f7af",
   "metadata": {},
   "outputs": [],
   "source": [
    "def GatherDataStreams_SingleRun_Primaries(Catalog, ScanID):\n",
    "    Catalog_String = str(Catalog)\n",
    "    if \"Catalog\" in Catalog_String: Scan_Raw = Catalog[int(ScanID)] ## Get scan from tiled.\n",
    "    if \"Container\" in Catalog_String:\n",
    "        ScanUID = np.array(Catalog.search(Key(\"scan_id\") == int(ScanID)))[0]\n",
    "        Scan_Raw = Catalog[ScanUID]\n",
    "    Scan_Xarray = Scan_Raw[\"primary\"][\"data\"].read()\n",
    "    Scan_Xarray = Scan_Xarray.rename_vars({\"en_energy\": \"Energy\"})\n",
    "    Scan_Xarray = Scan_Xarray.rename_vars({\"RSoXS Au Mesh Current\": \"I0\"})\n",
    "    Scan_Xarray = Scan_Xarray.rename_vars({\"WAXS Beamstop\": \"Photodiode\"})\n",
    "    Scan = Scan_Xarray\n",
    "    return Scan_Xarray"
   ]
  },
  {
   "cell_type": "markdown",
   "id": "14",
   "metadata": {
    "tags": []
   },
   "source": [
    "### Summarize catalog runs"
   ]
  },
  {
   "cell_type": "code",
   "execution_count": null,
   "id": "15",
   "metadata": {
    "tags": []
   },
   "outputs": [],
   "source": [
    "c = from_profile(\"rsoxs\", structure_clients='numpy')  # create tiled catalog needed for later loaders\n",
    "loader = phs.load.SST1RSoXSDB(corr_mode='none', catalog=c)\n",
    "\n",
    "plan_of_interest = 'nexafs_carbon'\n",
    "# df = loader.summarize_run(outputType='nexafs', institution='CUBLDER', cycle='2024-2', sample_id='', project='', plan=plan_of_interest)\n",
    "# df = loader.summarize_run(outputType='nexafs', institution='CUBLDER', cycle='2024-2', sample_id='diode', project='', plan=plan_of_interest)\n",
    "df = loader.summarize_run(outputType='nexafs', institution='CUBLDER', cycle='2024-2', sample_id='', project='TEY', plan=plan_of_interest)\n",
    "\n",
    "# display(diode_df)\n",
    "# display(df)"
   ]
  },
  {
   "cell_type": "code",
   "execution_count": null,
   "id": "17",
   "metadata": {
    "tags": []
   },
   "outputs": [],
   "source": [
    "# TEY Carbon\n",
    "\n",
    "# sliced_df = df[3:]\n",
    "# carbon_diode_scan_indices = [36, 37, 38, 39, 40, 41]\n",
    "# sliced_df = sliced_df[:].drop(carbon_diode_scan_indices)\n",
    "# sliced_df = sliced_df[(sliced_df['num_Images']>350)]\n",
    "# sliced_df = df[(df['project']=='TEY_NEXAFS')]\n",
    "# sliced_df = df[(df['project']=='TRMSN_RSoXS_NEXAFS')]\n",
    "sliced_df = df[df['num_Images']>400]\n",
    "\n",
    "sliced_df"
   ]
  },
  {
   "cell_type": "code",
   "execution_count": null,
   "id": "16",
   "metadata": {
    "tags": []
   },
   "outputs": [],
   "source": [
    "with pd.option_context('display.max_rows', None):\n",
    "    display(sliced_df[:])"
   ]
  },
  {
   "cell_type": "code",
   "execution_count": null,
   "id": "86f783db-f557-46a3-833f-a3cf3e5edbad",
   "metadata": {
    "tags": []
   },
   "outputs": [],
   "source": [
    "with pd.option_context('display.max_rows', None):\n",
    "    display(sliced_df[sliced_df['sample_name']=='BareSiN_01_rot'])"
   ]
  },
  {
   "cell_type": "markdown",
   "id": "19",
   "metadata": {
    "jp-MarkdownHeadingCollapsed": true,
    "tags": []
   },
   "source": [
    "### Load diode datasets"
   ]
  },
  {
   "cell_type": "code",
   "execution_count": null,
   "id": "20",
   "metadata": {
    "tags": []
   },
   "outputs": [],
   "source": [
    "# the diode scans are named the same as some sample names...:\n",
    "# carbon diode scans have the scan ID, sample ID, and name as the last sample run before them: 79878, TEY11, PM6_p5CN-2CF-3CB\n",
    "# so the first 3 TEY11 scans are actualy TEY measurements, at 12:40, 12:45, 12:50 (12:50 has scan id 79878)\n",
    "# the next 6 are the carbon diode (time range: 13:04 - 13:27)\n",
    "# carbon_df_scan_indices = [36, 37, 38, 39, 40, 41]\n",
    "# carbon_diode_scan_id = 79878  # for all samples, but the time stamps should correspond to the pols order\n",
    "\n",
    "# carbon_diode_scan_pols = [        20,         55,         90,      52.38,          0,      45.56]\n",
    "# carbon_diode_uids =      ['cbb1dae5', '00accfe3', 'af3255b3', '25042aca', '7e026642', '153238eb'] \n",
    "\n",
    "\n",
    "# the next 4 are the nitrogen diode:\n",
    "# which does have an updated scan id (79884), and another additional scan id (79884) because I forgot to include 90 at first (instead of 52.38)\n",
    "# nitrogen_df_scan_indices = [42, 43, 44, 45]\n",
    "# nitrogen_diode_scan_pols_1 = [52.38, 0, 45.56]\n",
    "# nitrogen_diode_scan_id_1 = 79884\n",
    "# nitrogen_diode_scan_pols_2 = [90]\n",
    "# nitrogen_diode_scan_id_2 = 79887\n",
    "\n",
    "# nitrogen_diode_scan_pols = [     52.38,          0,      45.56,         90]\n",
    "# nitrogen_diode_uids =      ['95407dc5', '27245caa', 'bc41e5c6', 'd8520b97']"
   ]
  },
  {
   "cell_type": "code",
   "execution_count": null,
   "id": "b5093c01-6ca0-433a-8c7a-b4bd97ce1670",
   "metadata": {
    "tags": []
   },
   "outputs": [],
   "source": [
    "# # def load_diode(loader, lab_pol, run):\n",
    "# #     monitors = loader.loadMonitors(run)\n",
    "# #     energies = monitors['energy_readback']\n",
    "# #     # monitors = monitors.rename({'time':'energy'}).reset_index('energy').assign_coords(energy=energies.data)\n",
    "# #     monitors = monitors.rename_vars({'time_bins':'time'}).rename({'time':'energy'}).reset_index('energy').assign_coords(energy=energies.data)\n",
    "        \n",
    "# #     monitors = monitors.expand_dims({'pol': [lab_pol]})\n",
    "# #     monitors = monitors.assign_coords({'uid': ('pol', [run.start['uid']])})\n",
    "# #     monitors = monitors.dropna(dim='energy').groupby('energy').mean()\n",
    "    \n",
    "# #     return monitors \n",
    "\n",
    "\n",
    "# def load_nexafs(loader, run):\n",
    "#     monitors = loader.loadMonitors(run)\n",
    "#     energies = monitors['energy_readback']\n",
    "#     # monitors = monitors.rename({'time':'energy'}).reset_index('energy').assign_coords(energy=energies.data)\n",
    "#     monitors = monitors.rename_vars({'time_bins':'time'}).rename({'time':'energy'}).reset_index('energy').assign_coords(energy=energies.data)\n",
    "#     theta = int(np.round(run['baseline']['data']['en_sample_polarization'][0], 0))\n",
    "    \n",
    "#     if theta > 90:\n",
    "#         theta = 180 - theta\n",
    "        \n",
    "#     monitors = monitors.expand_dims({'theta': [theta],\n",
    "#                                      'sample_name': [run.start['sample_name']]})\n",
    "#     monitors = monitors.assign_coords({'scan_id': ('theta', [run.start['scan_id']]),\n",
    "#                                        'sample_id': ('sample_name', [run.start['sample_id']])})\n",
    "#     monitors = monitors.dropna(dim='energy').groupby('energy').mean()\n",
    "    \n",
    "#     return monitors "
   ]
  },
  {
   "cell_type": "code",
   "execution_count": null,
   "id": "ef67e7f2-20f3-4fd3-9c9d-903704036df6",
   "metadata": {
    "tags": []
   },
   "outputs": [],
   "source": [
    "# scan_id = 86578  # a 0 lab polarization diode scan\n",
    "\n",
    "# monitors = GatherDataStreams_SingleRun_Primaries(c, scan_id)\n",
    "# display(monitors)\n",
    "# monitors = monitors.assign_coords({'energy': ('time', monitors['Energy'].data)}) #.swap_dims({'time':'energy'})\n",
    "# monitors = monitors.swap_dims({'time':'energy'})\n",
    "# monitors"
   ]
  },
  {
   "cell_type": "code",
   "execution_count": null,
   "id": "4cdedeb9-f35c-46d9-8d1b-f5c555098019",
   "metadata": {
    "tags": []
   },
   "outputs": [],
   "source": [
    "# theta_dict = {0: 20,  # TEY dict to go from lab pol to sample pol\n",
    "#               52: 55,\n",
    "#               69: 70,\n",
    "#               90: 90}\n",
    "\n",
    "theta_dict = {0: 35,  # TRMSN dict to go from lab pol to sample pol\n",
    "              45: 55,\n",
    "              90: 90}"
   ]
  },
  {
   "cell_type": "code",
   "execution_count": null,
   "id": "21",
   "metadata": {
    "scrolled": true,
    "tags": []
   },
   "outputs": [],
   "source": [
    "# # Load carbon diode dataset via tiled databroker:\n",
    "# carbon_diode_scan_pols = [ 20.0,  55.0,  70.0,  90.0]\n",
    "# carbon_diode_ids =       [86578, 86579, 86580, 86581]\n",
    "# # carbon_diode_uids =      ['cbb1dae5', '00accfe3', 'af3255b3', '25042aca', '7e026642', '153238eb'] \n",
    "\n",
    "# diode_monitors_list = []\n",
    "# for lab_pol, scan_id in zip(carbon_diode_scan_pols, carbon_diode_ids):\n",
    "#     run = c[scan_id]\n",
    "#     diode_monitors = GatherDataStreams_SingleRun_Primaries(c, scan_id)\n",
    "#     diode_monitors = diode_monitors.assign_coords({'energy': ('time', diode_monitors['Energy'].data)})\n",
    "#     diode_monitors = diode_monitors.swap_dims({'time':'energy'})\n",
    "    \n",
    "#     theta = theta_dict[round(float(diode_monitors.en_polarization_setpoint[0]))]\n",
    "#     diode_monitors = diode_monitors.expand_dims({'theta': [theta],\n",
    "#                                                  'sample_name': [run.start['sample_name']]})\n",
    "#     diode_monitors = diode_monitors.assign_coords({'scan_id': ('theta', [run.start['scan_id']]),\n",
    "#                                                    'sample_id': ('sample_name', [run.start['sample_id']])})    \n",
    "    \n",
    "#     diode_monitors_list.append(diode_monitors)\n",
    "#     # print(scan_id)\n",
    "\n",
    "# energies = np.linspace(250, 350, 3000)  # carbon\n",
    "\n",
    "# interp_diode_monitors_list = []\n",
    "# for DS in diode_monitors_list:\n",
    "#     DS = DS.interp({'energy':energies})\n",
    "#     interp_diode_monitors_list.append(DS)\n",
    "    \n",
    "# carbon_diode_DS = xr.concat(interp_diode_monitors_list, dim='theta')"
   ]
  },
  {
   "cell_type": "code",
   "execution_count": null,
   "id": "22",
   "metadata": {
    "tags": []
   },
   "outputs": [],
   "source": [
    "# # Load nitrogen diode dataset via tiled databroker:\n",
    "# nitrogen_diode_scan_pols = [ 20.0,  55.0,  70.0,  90.0]\n",
    "# nitrogen_diode_ids =       [86839, 86840, 86841, 86842]\n",
    "# # nitrogen_diode_uids =      ['95407dc5', '27245caa', 'bc41e5c6', 'd8520b97']\n",
    "\n",
    "# diode_monitors_list = []\n",
    "# for lab_pol, scan_id in zip(nitrogen_diode_scan_pols, nitrogen_diode_ids):\n",
    "#     run = c[scan_id]\n",
    "#     # diode_monitors = load_diode(loader, lab_pol, run)\n",
    "    \n",
    "#     diode_monitors = GatherDataStreams_SingleRun_Primaries(c, scan_id)\n",
    "#     diode_monitors = diode_monitors.assign_coords({'energy': ('time', diode_monitors['Energy'].data)})\n",
    "#     diode_monitors = diode_monitors.swap_dims({'time':'energy'})\n",
    "    \n",
    "#     theta = theta_dict[round(float(diode_monitors.en_polarization_setpoint[0]))]\n",
    "#     diode_monitors = diode_monitors.expand_dims({'theta': [theta],\n",
    "#                                                  'sample_name': [run.start['sample_name']]})\n",
    "#     diode_monitors = diode_monitors.assign_coords({'scan_id': ('theta', [run.start['scan_id']]),\n",
    "#                                                    'sample_id': ('sample_name', [run.start['sample_id']])}) \n",
    "    \n",
    "#     diode_monitors_list.append(diode_monitors)\n",
    "\n",
    "# energies = np.linspace(370, 440, 2000)  # nitrogen\n",
    "\n",
    "# interp_diode_monitors_list = []\n",
    "# for DS in diode_monitors_list:\n",
    "#     DS = DS.interp({'energy':energies})\n",
    "#     interp_diode_monitors_list.append(DS)\n",
    "    \n",
    "# nitrogen_diode_DS = xr.concat(interp_diode_monitors_list, dim='theta')"
   ]
  },
  {
   "cell_type": "code",
   "execution_count": null,
   "id": "23",
   "metadata": {
    "tags": []
   },
   "outputs": [],
   "source": [
    "# # display(carbon_diode_DS)\n",
    "# display(nitrogen_diode_DS)"
   ]
  },
  {
   "cell_type": "markdown",
   "id": "24",
   "metadata": {
    "tags": []
   },
   "source": [
    "### Load carbon diode data 2.0"
   ]
  },
  {
   "cell_type": "code",
   "execution_count": null,
   "id": "9bb078c0-ac22-41de-bf9d-96786aafd926",
   "metadata": {
    "tags": []
   },
   "outputs": [],
   "source": [
    "theta_dict = {0: 20,  # TEY dict to go from lab pol to sample pol for TEY NF\n",
    "              52: 55,\n",
    "              69: 70,\n",
    "              90: 90}\n",
    "\n",
    "# theta_dict = {0: 35,  # TRMSN dict to go from lab pol to sample pol for TEY NF\n",
    "#               46: 55,\n",
    "#               90: 90}"
   ]
  },
  {
   "cell_type": "code",
   "execution_count": null,
   "id": "cd1dbc1b-de5a-44bc-9173-f96bb56faa65",
   "metadata": {
    "tags": []
   },
   "outputs": [],
   "source": [
    "# display(sliced_df[sliced_df['sample_name']=='BareSiN_01_rot'][:3])\n",
    "# sliced_df[sliced_df['sample_name']=='Y6_CF_rot'][:3]"
   ]
  },
  {
   "cell_type": "code",
   "execution_count": null,
   "id": "dd8f6697-33d7-4973-9928-52a25609f986",
   "metadata": {
    "tags": []
   },
   "outputs": [],
   "source": [
    "sliced_df"
   ]
  },
  {
   "cell_type": "markdown",
   "id": "a7c2d3c4-ea47-4c70-ad4b-48dd7f30b9b5",
   "metadata": {},
   "source": [
    "#### Load diodes into dataset"
   ]
  },
  {
   "cell_type": "code",
   "execution_count": null,
   "id": "0c38294f-9c3d-4d6f-896e-dff611a3e3f0",
   "metadata": {
    "scrolled": true,
    "tags": []
   },
   "outputs": [],
   "source": [
    "# Load NEXAFS\n",
    "energies = np.linspace(250,350,3000)  # carbon\n",
    "# energies = np.linspace(370,440,2000)  # nitrogen\n",
    "\n",
    "# Load full nexafs dataset via tiled databroker:\n",
    "scan_ids = sliced_df['scan_id'].unique()\n",
    "\n",
    "interp_nf_monitors_list = []\n",
    "for scan_id in tqdm(scan_ids[:]):\n",
    "    # runs_of_interest = sliced_df[sliced_df['sample_name']==sample_name]             \n",
    "    # nf_monitors_list = []\n",
    "    # for scan_id in tqdm(runs_of_interest['scan_id']):\n",
    "    run = c[scan_id]\n",
    "    nf_monitors = GatherDataStreams_SingleRun_Primaries(c, scan_id)\n",
    "    # print(len(diode_monitors.time))\n",
    "    nf_monitors = nf_monitors.assign_coords({'energy': ('time', nf_monitors['Energy'].data)})\n",
    "    nf_monitors = nf_monitors.swap_dims({'time':'energy'})\n",
    "    nf_monitors = nf_monitors.drop_duplicates(dim='energy')  # in case there are any duplicate energies\n",
    "\n",
    "    pol = round(float(nf_monitors.en_polarization_setpoint[0]))\n",
    "    # nf_monitors = nf_monitors.expand_dims({'pol': [pol],\n",
    "    nf_monitors = nf_monitors.expand_dims({'scan_id': [run.start['scan_id']]})\n",
    "    nf_monitors = nf_monitors.assign_coords({'sample_id': ('scan_id', [run.start['sample_id']]),\n",
    "                                             'pol': ('scan_id', [pol])})\n",
    "    \n",
    "    nf_monitors = nf_monitors.drop_vars('time')\n",
    "    # nf_monitors_list.append(nf_monitors)\n",
    "    \n",
    "    interp_nf_monitors = nf_monitors.interp({'energy':energies})\n",
    "    \n",
    "    interp_nf_monitors_list.append(interp_nf_monitors)\n",
    "    \n",
    "diodes_DS = xr.concat(interp_nf_monitors_list, dim='scan_id')\n",
    "diodes_DS"
   ]
  },
  {
   "cell_type": "code",
   "execution_count": null,
   "id": "f1e2524d-7cc5-4bd6-9301-2344682257af",
   "metadata": {
    "tags": []
   },
   "outputs": [],
   "source": [
    "start_timestamps = []\n",
    "stop_timestamps = []\n",
    "for scan_id in tqdm(diodes_DS.scan_id.values[:]):\n",
    "    run = c[scan_id]\n",
    "    start_timestamp = run.start['time']\n",
    "    start_timestamps.append(start_timestamp)\n",
    "    stop_timestamp = run.stop['time']\n",
    "    stop_timestamps.append(stop_timestamp)\n",
    "    \n",
    "diodes_DS = diodes_DS.assign_coords({'start_timestamp': ('scan_id', start_timestamps),\n",
    "                                     'stop_timestamp': ('scan_id', stop_timestamps)}).swap_dims({'scan_id':'start_timestamp'})\n",
    "diodes_DS"
   ]
  },
  {
   "cell_type": "markdown",
   "id": "5cf63e31-0f2b-4bb7-a9bd-8efcbe450676",
   "metadata": {},
   "source": [
    "#### Save dataset zarr"
   ]
  },
  {
   "cell_type": "code",
   "execution_count": null,
   "id": "a579c883-6a84-4e9e-a99c-a519164c55c3",
   "metadata": {
    "tags": []
   },
   "outputs": [],
   "source": [
    "outPath.joinpath('reference_data/zarrs').exists()"
   ]
  },
  {
   "cell_type": "code",
   "execution_count": null,
   "id": "8e765905-637a-4958-8ea2-551d27d02a22",
   "metadata": {
    "tags": []
   },
   "outputs": [],
   "source": [
    "diodes_DS.to_zarr(outPath.joinpath('reference_data/zarrs', 'carbon_diodes_DS.zarr'), mode='w')"
   ]
  },
  {
   "cell_type": "markdown",
   "id": "7930d97d-7cee-461e-8f4e-4d29434a6c84",
   "metadata": {},
   "source": [
    "#### Load dataset zarr"
   ]
  },
  {
   "cell_type": "code",
   "execution_count": null,
   "id": "bf18e09e-b71f-4462-9cf2-390e5789cf1b",
   "metadata": {
    "tags": []
   },
   "outputs": [],
   "source": [
    "loaded_diodes_DS = xr.open_zarr(outPath.joinpath('reference_data/zarrs', 'carbon_diodes_DS.zarr'))\n",
    "loaded_diodes_DS"
   ]
  },
  {
   "cell_type": "code",
   "execution_count": null,
   "id": "6bd06633-7afa-4945-ace2-9ec507ddcf5e",
   "metadata": {
    "tags": []
   },
   "outputs": [],
   "source": [
    "for pol in tqdm(np.unique(diodes_DS.pol.values)):\n",
    "    sel_diodes_DS = diodes_DS.isel(start_timestamp = diodes_DS.pol==pol)\n",
    "    print(pol)\n",
    "    print(sel_diodes_DS.pol.shape)"
   ]
  },
  {
   "cell_type": "code",
   "execution_count": null,
   "id": "8f2b7dc2-54d5-4077-bece-1599295f2fb8",
   "metadata": {
    "tags": []
   },
   "outputs": [],
   "source": [
    "48+12+7"
   ]
  },
  {
   "cell_type": "markdown",
   "id": "6599d435-77d2-4c35-a6e4-f3979653389e",
   "metadata": {},
   "source": [
    "#### Linecut overlays with time"
   ]
  },
  {
   "cell_type": "code",
   "execution_count": null,
   "id": "67f8ad27-80d1-4f9f-9f3a-a8b7006e6262",
   "metadata": {
    "tags": []
   },
   "outputs": [],
   "source": [
    "import matplotlib.dates as mdates"
   ]
  },
  {
   "cell_type": "code",
   "execution_count": null,
   "id": "6bacc439-0919-481d-8b12-ed38e32808f7",
   "metadata": {
    "tags": []
   },
   "outputs": [],
   "source": [
    "# Photodiode\n",
    "# Select parameters:\n",
    "for pol in tqdm(np.unique(diodes_DS.pol.values)):\n",
    "    # Neat way to select by coordinat value!\n",
    "    sel_diodes_DS = diodes_DS.isel(start_timestamp = diodes_DS.pol==pol)\n",
    "    \n",
    "    # Convert timestamps to datetime objects\n",
    "    start_timestamps = sel_diodes_DS.start_timestamp.values\n",
    "    datetimes = [datetime.datetime.fromtimestamp(ts) for ts in start_timestamps]\n",
    "    \n",
    "    # Generate colors for each timestamp\n",
    "    colors = plt.cm.viridis(np.linspace(0, 1, len(start_timestamps)))\n",
    "\n",
    "    # plt.close('all')\n",
    "    fig, ax = plt.subplots(figsize=(6, 4), dpi=120, tight_layout=True)\n",
    "\n",
    "    # Plot each line with the corresponding color\n",
    "    for i, start_timestamp in enumerate(start_timestamps):\n",
    "        diode_DS = sel_diodes_DS.sel(start_timestamp=start_timestamp)\n",
    "        diode_DS['Photodiode'].plot.line(ax=ax, color=colors[i])\n",
    "\n",
    "    # Add colorbar with datetime values\n",
    "    initial_time = datetimes[0]\n",
    "    final_time = datetimes[-1]\n",
    "\n",
    "    sm = plt.cm.ScalarMappable(cmap=plt.cm.viridis, norm=plt.Normalize(mdates.date2num(initial_time), mdates.date2num(final_time)))\n",
    "\n",
    "    cax = ax.inset_axes([1.03, 0, 0.05, 1])\n",
    "    cbar = fig.colorbar(sm, cax=cax, orientation='vertical')\n",
    "    cbar.set_label(label='Scan start time', labelpad=12, rotation=270)\n",
    "\n",
    "    # Set colorbar ticks to show datetime values\n",
    "    num_ticks = len(start_timestamps) if len(start_timestamps)<=10 else 10  # Set the number of ticks you want on the colorbar\n",
    "    tick_locs = np.linspace(mdates.date2num(initial_time), mdates.date2num(final_time), num_ticks)\n",
    "    cbar.set_ticks(tick_locs)\n",
    "    cbar.set_ticklabels([datetime.datetime.fromtimestamp(ts).strftime('%Y-%m-%d %H:%M') for ts in np.linspace(start_timestamps[0], start_timestamps[-1], num_ticks)])\n",
    "    \n",
    "    fig.suptitle(f'Carbon diode scans, lab-frame polarization = {pol}°', y=0.95)\n",
    "    ax.set_title(None)\n",
    "    ax.set(xlabel='Energy [eV]', ylabel='Photodiode intensity [arb. units]')\n",
    "\n",
    "    # # Save\n",
    "    # savePath = outPath.joinpath('reference_data/plots', 'carbon_diode_overlayed_lineplots')\n",
    "    # savePath.mkdir(exist_ok=True)\n",
    "    # fig.savefig(savePath.joinpath(f'polarization_{pol}.png'), dpi=150)\n",
    "    \n",
    "    plt.show()\n",
    "    plt.close('all')"
   ]
  },
  {
   "cell_type": "code",
   "execution_count": null,
   "id": "5d1b7d07-c3e4-4098-91b5-4373c38c469c",
   "metadata": {
    "tags": []
   },
   "outputs": [],
   "source": [
    "# I0\n",
    "# Select parameters:\n",
    "for pol in tqdm(np.unique(diodes_DS.pol.values)):\n",
    "    # Neat way to select by coordinat value!\n",
    "    sel_diodes_DS = diodes_DS.isel(start_timestamp = diodes_DS.pol==pol)\n",
    "    \n",
    "    # Convert timestamps to datetime objects\n",
    "    start_timestamps = sel_diodes_DS.start_timestamp.values\n",
    "    datetimes = [datetime.datetime.fromtimestamp(ts) for ts in start_timestamps]\n",
    "    \n",
    "    # Generate colors for each timestamp\n",
    "    colors = plt.cm.viridis(np.linspace(0, 1, len(start_timestamps)))\n",
    "\n",
    "    # plt.close('all')\n",
    "    fig, ax = plt.subplots(figsize=(6, 4), dpi=120, tight_layout=True)\n",
    "\n",
    "    # Plot each line with the corresponding color\n",
    "    for i, start_timestamp in enumerate(start_timestamps):\n",
    "        diode_DS = sel_diodes_DS.sel(start_timestamp=start_timestamp)\n",
    "        diode_DS['I0'].plot.line(ax=ax, color=colors[i])\n",
    "\n",
    "    # Add colorbar with datetime values\n",
    "    initial_time = datetimes[0]\n",
    "    final_time = datetimes[-1]\n",
    "\n",
    "    sm = plt.cm.ScalarMappable(cmap=plt.cm.viridis, norm=plt.Normalize(mdates.date2num(initial_time), mdates.date2num(final_time)))\n",
    "\n",
    "    cax = ax.inset_axes([1.03, 0, 0.05, 1])\n",
    "    cbar = fig.colorbar(sm, cax=cax, orientation='vertical')\n",
    "    cbar.set_label(label='Scan start time', labelpad=12, rotation=270)\n",
    "\n",
    "    # Set colorbar ticks to show datetime values\n",
    "    num_ticks = len(start_timestamps) if len(start_timestamps)<=10 else 10  # Set the number of ticks you want on the colorbar\n",
    "    tick_locs = np.linspace(mdates.date2num(initial_time), mdates.date2num(final_time), num_ticks)\n",
    "    cbar.set_ticks(tick_locs)\n",
    "    cbar.set_ticklabels([datetime.datetime.fromtimestamp(ts).strftime('%Y-%m-%d %H:%M') for ts in np.linspace(start_timestamps[0], start_timestamps[-1], num_ticks)])\n",
    "    \n",
    "    fig.suptitle(f'Carbon I0 scans, lab-frame polarization = {pol}°', y=0.95)\n",
    "    ax.set_title(None)\n",
    "    ax.set(xlabel='Energy [eV]', ylabel='Au-mesh signal [arb. units]')\n",
    "\n",
    "    # Save\n",
    "    savePath = outPath.joinpath('reference_data/plots', 'carbon_I0_overlayed_lineplots')\n",
    "    savePath.mkdir(exist_ok=True)\n",
    "    fig.savefig(savePath.joinpath(f'polarization_{pol}.png'), dpi=150)\n",
    "    \n",
    "    # plt.show()\n",
    "    plt.close('all')"
   ]
  },
  {
   "cell_type": "markdown",
   "id": "9aa3d62d-2265-4d42-b234-ffd80e65dacb",
   "metadata": {},
   "source": [
    "#### Linecut heatmaps with time"
   ]
  },
  {
   "cell_type": "code",
   "execution_count": null,
   "id": "65ef1221-c89c-4940-adaa-0b3b2fc2be2f",
   "metadata": {
    "tags": []
   },
   "outputs": [],
   "source": [
    "# Photodiode\n",
    "# Select parameters:\n",
    "for pol in tqdm(np.unique(diodes_DS.pol.values)):\n",
    "    # Neat way to select by coordinat value!\n",
    "    sel_diodes_DS = diodes_DS.isel(start_timestamp = diodes_DS.pol==pol)\n",
    "\n",
    "    # Plot \n",
    "    cmin, cmax = sel_diodes_DS['Photodiode'].sel(energy=slice(260, None)).quantile([0.001,0.99])\n",
    "    \n",
    "    # Pcolormesh uses each y and x value for the boundary of each row/column, and it requires all edges (first and last)\n",
    "    final_ts = sel_diodes_DS['Photodiode'].start_timestamp.values[-1]\n",
    "    shifted_final_ts = (datetime.datetime.fromtimestamp(final_ts)+datetime.timedelta(hours=2)).timestamp()\n",
    "    timestamps_with_end = np.append(sel_diodes_DS['Photodiode'].start_timestamp.values, shifted_final_ts)\n",
    "    \n",
    "    X, Y = np.meshgrid(sel_diodes_DS['Photodiode'].energy.values, \n",
    "                       timestamps_with_end)\n",
    "    fig, ax = plt.subplots(figsize=(7,5), dpi=120, tight_layout=True)\n",
    "    im = ax.pcolormesh(X, Y, sel_diodes_DS['Photodiode'].isel(energy=slice(1,None)).data, shading='auto', cmap=plt.cm.turbo,\n",
    "                       norm=plt.Normalize(cmin,cmax))\n",
    "    \n",
    "    \n",
    "#     # Convert timestamp values to datetime objects\n",
    "#     ticks = sel_diodes_DS.start_timestamp.values\n",
    "#     ticks_dt = [datetime.datetime.fromtimestamp(ts) for ts in ticks]\n",
    "#     tick_labels = [tick.strftime('%Y-%m-%d %H:%M') for tick in ticks_dt]\n",
    "    \n",
    "#     ax.set_yticks(ticks)\n",
    "#     ax.set_yticklabels(tick_labels)\n",
    "    \n",
    "    # Convert timestamp values to datetime objects\n",
    "    ticks = sel_diodes_DS.start_timestamp.values\n",
    "    ticks_dt = [datetime.datetime.fromtimestamp(ts) for ts in ticks]\n",
    "    \n",
    "    # Downselect ticks to ensure at least ~1 hour between each stamp\n",
    "    h=2\n",
    "    selected_ticks = [ticks_dt[0]]\n",
    "    for tick in ticks_dt[1:]:\n",
    "        if (tick - selected_ticks[-1]).total_seconds() >= h * 60 * 60:\n",
    "            selected_ticks.append(tick)\n",
    "    \n",
    "    tick_labels = [tick.strftime('%Y-%m-%d %H:%M') for tick in selected_ticks]\n",
    "    # tick_labels = [tick.strftime('%Y-%m-%d %H:%M') for tick in ticks_dt]\n",
    "    \n",
    "    ax.set_yticks([tick.timestamp() for tick in selected_ticks])\n",
    "    # ax.set_yticks([tick.timestamp() for tick in ticks_dt])\n",
    "    ax.set_yticklabels(tick_labels)\n",
    "\n",
    "    # Colorbar\n",
    "    sm = plt.cm.ScalarMappable(cmap=plt.cm.turbo, norm=plt.Normalize(cmin, cmax))\n",
    "    cax = ax.inset_axes([1.03, 0, 0.05, 1])\n",
    "    cbar = fig.colorbar(sm, cax=cax, orientation='vertical')\n",
    "    cbar.set_label(label='Photodiode intensity [arb. units]', labelpad=12, rotation=270)\n",
    "\n",
    "    fig.suptitle(f'Carbon diode scans, lab-frame polarization = {pol}°', y=0.95, x=0.54)\n",
    "    ax.set_title(None)\n",
    "    ax.set(xlabel='Energy [eV]', ylabel='Scan start time')\n",
    "\n",
    "    # # Save\n",
    "    # savePath = outPath.joinpath('reference_data/plots', 'carbon_diode_heatmaps')\n",
    "    # savePath.mkdir(exist_ok=True)\n",
    "    # fig.savefig(savePath.joinpath(f'polarization_{pol}.png'), dpi=150)\n",
    "    \n",
    "    plt.show()\n",
    "    plt.close('all')"
   ]
  },
  {
   "cell_type": "code",
   "execution_count": null,
   "id": "0663c320-c756-404d-afd0-42797fc6aa88",
   "metadata": {
    "tags": []
   },
   "outputs": [],
   "source": [
    "# I0\n",
    "# Select parameters:\n",
    "for pol in tqdm(np.unique(diodes_DS.pol.values)):\n",
    "    # Neat way to select by coordinat value!\n",
    "    sel_diodes_DS = diodes_DS.isel(start_timestamp = diodes_DS.pol==pol)\n",
    "\n",
    "    # Plot \n",
    "    cmin, cmax = sel_diodes_DS['I0'].sel(energy=slice(260, None)).quantile([0.001,0.99])\n",
    "    \n",
    "    # Pcolormesh uses each y and x value for the boundary of each row/column, and it requires all edges (first and last)\n",
    "    final_ts = sel_diodes_DS['I0'].start_timestamp.values[-1]\n",
    "    shifted_final_ts = (datetime.datetime.fromtimestamp(final_ts)+datetime.timedelta(hours=2)).timestamp()\n",
    "    timestamps_with_end = np.append(sel_diodes_DS['I0'].start_timestamp.values, shifted_final_ts)\n",
    "    \n",
    "    X, Y = np.meshgrid(sel_diodes_DS['I0'].energy.values, \n",
    "                       timestamps_with_end)\n",
    "    fig, ax = plt.subplots(figsize=(7,5), dpi=120, tight_layout=True)\n",
    "    im = ax.pcolormesh(X, Y, sel_diodes_DS['I0'].isel(energy=slice(1,None)).data, shading='auto', cmap=plt.cm.turbo,\n",
    "                       norm=plt.Normalize(cmin,cmax))\n",
    "    \n",
    "    \n",
    "#     # Convert timestamp values to datetime objects\n",
    "#     ticks = sel_diodes_DS.start_timestamp.values\n",
    "#     ticks_dt = [datetime.datetime.fromtimestamp(ts) for ts in ticks]\n",
    "#     tick_labels = [tick.strftime('%Y-%m-%d %H:%M') for tick in ticks_dt]\n",
    "    \n",
    "#     ax.set_yticks(ticks)\n",
    "#     ax.set_yticklabels(tick_labels)\n",
    "    \n",
    "    # Convert timestamp values to datetime objects\n",
    "    ticks = sel_diodes_DS.start_timestamp.values\n",
    "    ticks_dt = [datetime.datetime.fromtimestamp(ts) for ts in ticks]\n",
    "    \n",
    "    # Downselect ticks to ensure at least ~1 hour between each stamp\n",
    "    h=2\n",
    "    selected_ticks = [ticks_dt[0]]\n",
    "    for tick in ticks_dt[1:]:\n",
    "        if (tick - selected_ticks[-1]).total_seconds() >= h * 60 * 60:\n",
    "            selected_ticks.append(tick)\n",
    "    \n",
    "    tick_labels = [tick.strftime('%Y-%m-%d %H:%M') for tick in selected_ticks]\n",
    "    # tick_labels = [tick.strftime('%Y-%m-%d %H:%M') for tick in ticks_dt]\n",
    "    \n",
    "    ax.set_yticks([tick.timestamp() for tick in selected_ticks])\n",
    "    # ax.set_yticks([tick.timestamp() for tick in ticks_dt])\n",
    "    ax.set_yticklabels(tick_labels)\n",
    "\n",
    "    # Colorbar\n",
    "    sm = plt.cm.ScalarMappable(cmap=plt.cm.turbo, norm=plt.Normalize(cmin, cmax))\n",
    "    cax = ax.inset_axes([1.03, 0, 0.05, 1])\n",
    "    cbar = fig.colorbar(sm, cax=cax, orientation='vertical')\n",
    "    cbar.set_label(label='I0 intensity [arb. units]', labelpad=12, rotation=270)\n",
    "\n",
    "    fig.suptitle(f'Carbon I0 scans, lab-frame polarization = {pol}°', y=0.95, x=0.54)\n",
    "    ax.set_title(None)\n",
    "    ax.set(xlabel='Energy [eV]', ylabel='Scan start time')\n",
    "\n",
    "    # Save\n",
    "    savePath = outPath.joinpath('reference_data/plots', 'carbon_I0_heatmaps')\n",
    "    savePath.mkdir(exist_ok=True)\n",
    "    fig.savefig(savePath.joinpath(f'polarization_{pol}.png'), dpi=150)\n",
    "    \n",
    "    # plt.show()\n",
    "    plt.close('all')"
   ]
  },
  {
   "cell_type": "markdown",
   "id": "6c0f5289-c62a-4db8-a412-74553f93db37",
   "metadata": {},
   "source": [
    "#### Integrated intensity vs time"
   ]
  },
  {
   "cell_type": "code",
   "execution_count": null,
   "id": "6b83fcaf-8dff-418a-ba26-4b17b1dbe7a4",
   "metadata": {
    "tags": []
   },
   "outputs": [],
   "source": [
    "# Photodiode\n",
    "for pol in tqdm(np.unique(diodes_DS.pol.values)):\n",
    "    # energy_slice = slice(260,280)\n",
    "    energy_slices = [slice(260,280), slice(283, 295), slice(300,320), slice(320, 340)]\n",
    "    colors = plt.cm.viridis(np.linspace(0,0.9,len(energy_slices)))\n",
    "\n",
    "    sel_diodes_DS = diodes_DS.isel(start_timestamp = diodes_DS.pol==pol)\n",
    "\n",
    "    fig, ax = plt.subplots(figsize=(8,4), dpi=125, tight_layout=True)\n",
    "\n",
    "    for i, energy_slice in enumerate(energy_slices):\n",
    "        energy_slice_str = f'{energy_slice.start}-{energy_slice.stop} eV'\n",
    "        sel_diodes_DS['Photodiode'].sel(energy=energy_slice).integrate(\n",
    "            'energy').plot.line(ax=ax, color=colors[i], linestyle='', marker='o', markersize=10, label=energy_slice_str)\n",
    "\n",
    "    # Convert timestamp values to datetime objects\n",
    "    # ticks = diodes_DS.isel(start_timestamp = diodes_DS.pol==0).start_timestamp.values\n",
    "    # # ticks = sel_diodes_DS.start_timestamp.values\n",
    "    # ticks_dt = [datetime.datetime.fromtimestamp(ts) for ts in ticks]\n",
    "    \n",
    "    ticks = np.linspace(diodes_DS.start_timestamp.values[0], diodes_DS.start_timestamp.values[-1], 12)\n",
    "    ticks_dt = [datetime.datetime.fromtimestamp(ts) for ts in ticks]\n",
    "\n",
    "    # # Downselect ticks to ensure at least ~1 hour between each stamp\n",
    "    # h=2\n",
    "    # selected_ticks = [ticks_dt[0]]\n",
    "    # for tick in ticks_dt[1:]:\n",
    "    #     if (tick - selected_ticks[-1]).total_seconds() >= h * 60 * 60:\n",
    "    #         selected_ticks.append(tick)\n",
    "\n",
    "    tick_labels = [tick.strftime('%Y-%m-%d %H:%M') for tick in ticks_dt]\n",
    "\n",
    "    ax.set_xticks([tick.timestamp() for tick in ticks_dt])\n",
    "    ax.set_xticklabels(tick_labels, rotation=45, ha='right', rotation_mode='anchor')\n",
    "\n",
    "    ax.set_title(f'Integrated photodiode intensity vs scan start time; lab-frame pol = {pol}°')\n",
    "    ax.set(ylabel='Integrated photodiode [arb. units]', xlabel='Scan start time')\n",
    "    ax.grid(visible=True, axis='x')\n",
    "    ax.legend(title='Energy range', loc=(1.01,0.25))\n",
    "    \n",
    "    # Save\n",
    "    savePath = outPath.joinpath('reference_data/plots', 'carbon_diode_integrated_scatterplots')\n",
    "    savePath.mkdir(exist_ok=True)\n",
    "    fig.savefig(savePath.joinpath(f'polarization_{pol}.png'), dpi=150)\n",
    "\n",
    "    # plt.show()\n",
    "    plt.close('all')"
   ]
  },
  {
   "cell_type": "code",
   "execution_count": null,
   "id": "a31829ba-069a-43a4-91bd-d1352ba388ef",
   "metadata": {
    "tags": []
   },
   "outputs": [],
   "source": [
    "# I0\n",
    "for pol in tqdm(np.unique(diodes_DS.pol.values)):\n",
    "    # energy_slice = slice(260,280)\n",
    "    energy_slices = [slice(260,280), slice(283, 295), slice(300,320), slice(320, 340)]\n",
    "    colors = plt.cm.viridis(np.linspace(0,0.9,len(energy_slices)))\n",
    "\n",
    "    sel_diodes_DS = diodes_DS.isel(start_timestamp = diodes_DS.pol==pol)\n",
    "\n",
    "    fig, ax = plt.subplots(figsize=(8,4), dpi=125, tight_layout=True)\n",
    "\n",
    "    for i, energy_slice in enumerate(energy_slices):\n",
    "        energy_slice_str = f'{energy_slice.start}-{energy_slice.stop} eV'\n",
    "        sel_diodes_DS['I0'].sel(energy=energy_slice).integrate(\n",
    "            'energy').plot.line(ax=ax, color=colors[i], linestyle='', marker='o', markersize=10, label=energy_slice_str)\n",
    "\n",
    "    # Convert timestamp values to datetime objects\n",
    "    # ticks = diodes_DS.isel(start_timestamp = diodes_DS.pol==0).start_timestamp.values\n",
    "    # # ticks = sel_diodes_DS.start_timestamp.values\n",
    "    # ticks_dt = [datetime.datetime.fromtimestamp(ts) for ts in ticks]\n",
    "    \n",
    "    ticks = np.linspace(diodes_DS.start_timestamp.values[0], diodes_DS.start_timestamp.values[-1], 12)\n",
    "    ticks_dt = [datetime.datetime.fromtimestamp(ts) for ts in ticks]\n",
    "\n",
    "    # # Downselect ticks to ensure at least ~1 hour between each stamp\n",
    "    # h=2\n",
    "    # selected_ticks = [ticks_dt[0]]\n",
    "    # for tick in ticks_dt[1:]:\n",
    "    #     if (tick - selected_ticks[-1]).total_seconds() >= h * 60 * 60:\n",
    "    #         selected_ticks.append(tick)\n",
    "\n",
    "    tick_labels = [tick.strftime('%Y-%m-%d %H:%M') for tick in ticks_dt]\n",
    "\n",
    "    ax.set_xticks([tick.timestamp() for tick in ticks_dt])\n",
    "    ax.set_xticklabels(tick_labels, rotation=45, ha='right', rotation_mode='anchor')\n",
    "\n",
    "    ax.set_title(f'Integrated I0 intensity vs scan start time; lab-frame pol = {pol}°')\n",
    "    ax.set(ylabel='Integrated I0 [arb. units]', xlabel='Scan start time')\n",
    "    ax.grid(visible=True, axis='x')\n",
    "    ax.legend(title='Energy range', loc=(1.01,0.25))\n",
    "    \n",
    "    # Save\n",
    "    savePath = outPath.joinpath('reference_data/plots', 'carbon_I0_integrated_scatterplots')\n",
    "    savePath.mkdir(exist_ok=True)\n",
    "    fig.savefig(savePath.joinpath(f'polarization_{pol}.png'), dpi=150)\n",
    "\n",
    "    # plt.show()\n",
    "    plt.close('all')"
   ]
  },
  {
   "cell_type": "markdown",
   "id": "090afdd6-c7b1-4120-8c5a-d14208e97eab",
   "metadata": {
    "jp-MarkdownHeadingCollapsed": true,
    "tags": []
   },
   "source": [
    "### Load nitrogen diode data 2.0"
   ]
  },
  {
   "cell_type": "code",
   "execution_count": null,
   "id": "c6476a21-eef9-4f60-9752-aee0de6c031f",
   "metadata": {
    "tags": []
   },
   "outputs": [],
   "source": [
    "# theta_dict = {0: 20,  # TEY dict to go from lab pol to sample pol for TEY NF\n",
    "#               52: 55,\n",
    "#               69: 70,\n",
    "#               90: 90}\n",
    "\n",
    "theta_dict = {0: 35,  # TRMSN dict to go from lab pol to sample pol for TEY NF\n",
    "              46: 55,\n",
    "              90: 90}"
   ]
  },
  {
   "cell_type": "code",
   "execution_count": null,
   "id": "57f20529-12d2-44f8-ac86-1463d2940939",
   "metadata": {
    "tags": []
   },
   "outputs": [],
   "source": [
    "# display(sliced_df[sliced_df['sample_name']=='BareSiN_01_rot'][:3])\n",
    "# sliced_df[sliced_df['sample_name']=='Y6_CF_rot'][:3]"
   ]
  },
  {
   "cell_type": "code",
   "execution_count": null,
   "id": "862522d1-11f9-49db-ab75-ae7649ac1744",
   "metadata": {
    "tags": []
   },
   "outputs": [],
   "source": [
    "sliced_df"
   ]
  },
  {
   "cell_type": "markdown",
   "id": "d71b352f-e0fa-463f-b7e9-1fb710b9229d",
   "metadata": {},
   "source": [
    "#### Load diodes into dataset"
   ]
  },
  {
   "cell_type": "code",
   "execution_count": null,
   "id": "4243f73a-5130-4d7a-954c-9109806d54ce",
   "metadata": {
    "tags": []
   },
   "outputs": [],
   "source": [
    "# Load NEXAFS\n",
    "# energies = np.linspace(250,350,3000)  # carbon\n",
    "energies = np.linspace(370,440,3000)  # nitrogen\n",
    "\n",
    "# Load full nexafs dataset via tiled databroker:\n",
    "scan_ids = sliced_df['scan_id'].unique()\n",
    "\n",
    "interp_nf_monitors_list = []\n",
    "for scan_id in tqdm(scan_ids[:]):\n",
    "    # runs_of_interest = sliced_df[sliced_df['sample_name']==sample_name]             \n",
    "    # nf_monitors_list = []\n",
    "    # for scan_id in tqdm(runs_of_interest['scan_id']):\n",
    "    run = c[scan_id]\n",
    "    nf_monitors = GatherDataStreams_SingleRun_Primaries(c, scan_id)\n",
    "    # print(len(diode_monitors.time))\n",
    "    nf_monitors = nf_monitors.assign_coords({'energy': ('time', nf_monitors['Energy'].data)})\n",
    "    nf_monitors = nf_monitors.swap_dims({'time':'energy'})\n",
    "    nf_monitors = nf_monitors.drop_duplicates(dim='energy')  # in case there are any duplicate energies\n",
    "\n",
    "    pol = round(float(nf_monitors.en_polarization_setpoint[0]))\n",
    "    # nf_monitors = nf_monitors.expand_dims({'pol': [pol],\n",
    "    nf_monitors = nf_monitors.expand_dims({'scan_id': [run.start['scan_id']]})\n",
    "    nf_monitors = nf_monitors.assign_coords({'sample_id': ('scan_id', [run.start['sample_id']]),\n",
    "                                             'pol': ('scan_id', [pol])})\n",
    "    \n",
    "    nf_monitors = nf_monitors.drop_vars('time')\n",
    "    # nf_monitors_list.append(nf_monitors)\n",
    "    \n",
    "    interp_nf_monitors = nf_monitors.interp({'energy':energies})\n",
    "    \n",
    "    interp_nf_monitors_list.append(interp_nf_monitors)\n",
    "    \n",
    "diodes_DS = xr.concat(interp_nf_monitors_list, dim='scan_id')\n",
    "diodes_DS"
   ]
  },
  {
   "cell_type": "code",
   "execution_count": null,
   "id": "8b536c0b-2c45-4760-bd77-010bfd310961",
   "metadata": {
    "tags": []
   },
   "outputs": [],
   "source": [
    "start_timestamps = []\n",
    "stop_timestamps = []\n",
    "for scan_id in tqdm(diodes_DS.scan_id.values[:]):\n",
    "    run = c[scan_id]\n",
    "    start_timestamp = run.start['time']\n",
    "    start_timestamps.append(start_timestamp)\n",
    "    stop_timestamp = run.stop['time']\n",
    "    stop_timestamps.append(stop_timestamp)\n",
    "    \n",
    "diodes_DS = diodes_DS.assign_coords({'start_timestamp': ('scan_id', start_timestamps),\n",
    "                                     'stop_timestamp': ('scan_id', stop_timestamps)}).swap_dims({'scan_id':'start_timestamp'})\n",
    "diodes_DS"
   ]
  },
  {
   "cell_type": "markdown",
   "id": "d0039cab-719e-43f9-8089-5507019db793",
   "metadata": {},
   "source": [
    "#### Save dataset zarr"
   ]
  },
  {
   "cell_type": "code",
   "execution_count": null,
   "id": "5c44a852-f58e-49af-8907-f5f6acba402b",
   "metadata": {
    "tags": []
   },
   "outputs": [],
   "source": [
    "outPath.joinpath('reference_data/zarrs').exists()"
   ]
  },
  {
   "cell_type": "code",
   "execution_count": null,
   "id": "753e8a8d-5e58-4da9-ae0b-f6fad27655e8",
   "metadata": {
    "tags": []
   },
   "outputs": [],
   "source": [
    "diodes_DS.to_zarr(outPath.joinpath('reference_data/zarrs', 'nitrogen_diodes_DS.zarr'), mode='w')"
   ]
  },
  {
   "cell_type": "markdown",
   "id": "071b78b2-7ff1-4213-93ea-423f3510f81e",
   "metadata": {},
   "source": [
    "#### Load dataset zarr"
   ]
  },
  {
   "cell_type": "code",
   "execution_count": null,
   "id": "d9a4a25c-1038-4f29-83b8-9440ad1dbf6f",
   "metadata": {
    "tags": []
   },
   "outputs": [],
   "source": [
    "loaded_diodes_DS = xr.open_zarr(outPath.joinpath('reference_data/zarrs', 'nitrogen_diodes_DS.zarr')).compute()\n",
    "loaded_diodes_DS"
   ]
  },
  {
   "cell_type": "code",
   "execution_count": null,
   "id": "c6dc47e1-c787-43da-9c78-556a6e2d433c",
   "metadata": {
    "tags": []
   },
   "outputs": [],
   "source": [
    "for pol in tqdm(np.unique(loaded_diodes_DS.pol.values)):\n",
    "    sel_diodes_DS = loaded_diodes_DS.isel(start_timestamp = loaded_diodes_DS.pol==pol)\n",
    "    print(pol)\n",
    "    print(sel_diodes_DS.pol.shape)"
   ]
  },
  {
   "cell_type": "markdown",
   "id": "d4c79999-edcb-4376-89e6-6aeabecebe2c",
   "metadata": {},
   "source": [
    "#### Linecut overlays with time"
   ]
  },
  {
   "cell_type": "code",
   "execution_count": null,
   "id": "4e1ff26c-aacb-4d54-94e4-9e8177e06114",
   "metadata": {
    "tags": []
   },
   "outputs": [],
   "source": [
    "import matplotlib.dates as mdates"
   ]
  },
  {
   "cell_type": "code",
   "execution_count": null,
   "id": "12e1f0a1-0d41-4d17-b358-2bda515100e5",
   "metadata": {
    "tags": []
   },
   "outputs": [],
   "source": [
    "# Photodiode\n",
    "# Select parameters:\n",
    "for pol in tqdm(np.unique(diodes_DS.pol.values)):\n",
    "    # Neat way to select by coordinat value!\n",
    "    sel_diodes_DS = diodes_DS.isel(start_timestamp = diodes_DS.pol==pol)\n",
    "    \n",
    "    # Convert timestamps to datetime objects\n",
    "    start_timestamps = sel_diodes_DS.start_timestamp.values\n",
    "    datetimes = [datetime.datetime.fromtimestamp(ts) for ts in start_timestamps]\n",
    "    \n",
    "    # Generate colors for each timestamp\n",
    "    colors = plt.cm.viridis(np.linspace(0, 1, len(start_timestamps)))\n",
    "\n",
    "    # plt.close('all')\n",
    "    fig, ax = plt.subplots(figsize=(6, 4), dpi=120, tight_layout=True)\n",
    "\n",
    "    # Plot each line with the corresponding color\n",
    "    for i, start_timestamp in enumerate(start_timestamps):\n",
    "        diode_DS = sel_diodes_DS.sel(start_timestamp=start_timestamp)\n",
    "        diode_DS['Photodiode'].plot.line(ax=ax, color=colors[i])\n",
    "\n",
    "    # Add colorbar with datetime values\n",
    "    initial_time = datetimes[0]\n",
    "    final_time = datetimes[-1]\n",
    "\n",
    "    sm = plt.cm.ScalarMappable(cmap=plt.cm.viridis, norm=plt.Normalize(mdates.date2num(initial_time), mdates.date2num(final_time)))\n",
    "\n",
    "    cax = ax.inset_axes([1.03, 0, 0.05, 1])\n",
    "    cbar = fig.colorbar(sm, cax=cax, orientation='vertical')\n",
    "    cbar.set_label(label='Scan start time', labelpad=12, rotation=270)\n",
    "\n",
    "    # Set colorbar ticks to show datetime values\n",
    "    num_ticks = len(start_timestamps) if len(start_timestamps)<=10 else 10  # Set the number of ticks you want on the colorbar\n",
    "    tick_locs = np.linspace(mdates.date2num(initial_time), mdates.date2num(final_time), num_ticks)\n",
    "    cbar.set_ticks(tick_locs)\n",
    "    cbar.set_ticklabels([datetime.datetime.fromtimestamp(ts).strftime('%Y-%m-%d %H:%M') for ts in np.linspace(start_timestamps[0], start_timestamps[-1], num_ticks)])\n",
    "    \n",
    "    fig.suptitle(f'Nitrogen diode scans, lab-frame polarization = {pol}°', y=0.95)\n",
    "    ax.set_title(None)\n",
    "    ax.set(xlabel='Energy [eV]', ylabel='Photodiode intensity [arb. units]')\n",
    "\n",
    "    # Save\n",
    "    savePath = outPath.joinpath('reference_data/plots', 'nitrogen_diode_overlayed_lineplots')\n",
    "    savePath.mkdir(exist_ok=True)\n",
    "    fig.savefig(savePath.joinpath(f'polarization_{pol}.png'), dpi=150)\n",
    "    \n",
    "    # plt.show()\n",
    "    plt.close('all')"
   ]
  },
  {
   "cell_type": "code",
   "execution_count": null,
   "id": "76dd9f05-838b-4ef3-be6a-eef7aed79dc4",
   "metadata": {
    "tags": []
   },
   "outputs": [],
   "source": [
    "# I0\n",
    "# Select parameters:\n",
    "for pol in tqdm(np.unique(diodes_DS.pol.values)):\n",
    "    # Neat way to select by coordinat value!\n",
    "    sel_diodes_DS = diodes_DS.isel(start_timestamp = diodes_DS.pol==pol)\n",
    "    \n",
    "    # Convert timestamps to datetime objects\n",
    "    start_timestamps = sel_diodes_DS.start_timestamp.values\n",
    "    datetimes = [datetime.datetime.fromtimestamp(ts) for ts in start_timestamps]\n",
    "    \n",
    "    # Generate colors for each timestamp\n",
    "    colors = plt.cm.viridis(np.linspace(0, 1, len(start_timestamps)))\n",
    "\n",
    "    # plt.close('all')\n",
    "    fig, ax = plt.subplots(figsize=(6, 4), dpi=120, tight_layout=True)\n",
    "\n",
    "    # Plot each line with the corresponding color\n",
    "    for i, start_timestamp in enumerate(start_timestamps):\n",
    "        diode_DS = sel_diodes_DS.sel(start_timestamp=start_timestamp)\n",
    "        diode_DS['I0'].plot.line(ax=ax, color=colors[i])\n",
    "\n",
    "    # Add colorbar with datetime values\n",
    "    initial_time = datetimes[0]\n",
    "    final_time = datetimes[-1]\n",
    "\n",
    "    sm = plt.cm.ScalarMappable(cmap=plt.cm.viridis, norm=plt.Normalize(mdates.date2num(initial_time), mdates.date2num(final_time)))\n",
    "\n",
    "    cax = ax.inset_axes([1.03, 0, 0.05, 1])\n",
    "    cbar = fig.colorbar(sm, cax=cax, orientation='vertical')\n",
    "    cbar.set_label(label='Scan start time', labelpad=12, rotation=270)\n",
    "\n",
    "    # Set colorbar ticks to show datetime values\n",
    "    num_ticks = len(start_timestamps) if len(start_timestamps)<=10 else 10  # Set the number of ticks you want on the colorbar\n",
    "    tick_locs = np.linspace(mdates.date2num(initial_time), mdates.date2num(final_time), num_ticks)\n",
    "    cbar.set_ticks(tick_locs)\n",
    "    cbar.set_ticklabels([datetime.datetime.fromtimestamp(ts).strftime('%Y-%m-%d %H:%M') for ts in np.linspace(start_timestamps[0], start_timestamps[-1], num_ticks)])\n",
    "    \n",
    "    fig.suptitle(f'Nitrogen I0 scans, lab-frame polarization = {pol}°', y=0.95)\n",
    "    ax.set_title(None)\n",
    "    ax.set(xlabel='Energy [eV]', ylabel='Au-mesh signal [arb. units]')\n",
    "\n",
    "    # Save\n",
    "    savePath = outPath.joinpath('reference_data/plots', 'nitrogen_I0_overlayed_lineplots')\n",
    "    savePath.mkdir(exist_ok=True)\n",
    "    fig.savefig(savePath.joinpath(f'polarization_{pol}.png'), dpi=150)\n",
    "    \n",
    "    # plt.show()\n",
    "    plt.close('all')"
   ]
  },
  {
   "cell_type": "markdown",
   "id": "1c6aabe8-a768-43fd-bf87-031fa2b6f2fa",
   "metadata": {},
   "source": [
    "#### Linecut heatmaps with time"
   ]
  },
  {
   "cell_type": "code",
   "execution_count": null,
   "id": "44360e60-3bcc-49f1-b38f-0f2582f87783",
   "metadata": {
    "tags": []
   },
   "outputs": [],
   "source": [
    "# Photodiode\n",
    "# Select parameters:\n",
    "for pol in tqdm(np.unique(diodes_DS.pol.values)):\n",
    "    # Neat way to select by coordinat value!\n",
    "    sel_diodes_DS = diodes_DS.isel(start_timestamp = diodes_DS.pol==pol)\n",
    "\n",
    "    # Plot \n",
    "    cmin, cmax = sel_diodes_DS['Photodiode'].sel(energy=slice(375, None)).quantile([0.001,0.99])\n",
    "    \n",
    "    # Pcolormesh uses each y and x value for the boundary of each row/column, and it requires all edges (first and last)\n",
    "    final_ts = sel_diodes_DS['Photodiode'].start_timestamp.values[-1]\n",
    "    shifted_final_ts = (datetime.datetime.fromtimestamp(final_ts)+datetime.timedelta(hours=2)).timestamp()\n",
    "    timestamps_with_end = np.append(sel_diodes_DS['Photodiode'].start_timestamp.values, shifted_final_ts)\n",
    "    \n",
    "    X, Y = np.meshgrid(sel_diodes_DS['Photodiode'].energy.values, \n",
    "                       timestamps_with_end)\n",
    "    fig, ax = plt.subplots(figsize=(7,5), dpi=120, tight_layout=True)\n",
    "    im = ax.pcolormesh(X, Y, sel_diodes_DS['Photodiode'].isel(energy=slice(1,None)).data, shading='auto', cmap=plt.cm.turbo,\n",
    "                       norm=plt.Normalize(cmin,cmax))\n",
    "    \n",
    "    \n",
    "#     # Convert timestamp values to datetime objects\n",
    "#     ticks = sel_diodes_DS.start_timestamp.values\n",
    "#     ticks_dt = [datetime.datetime.fromtimestamp(ts) for ts in ticks]\n",
    "#     tick_labels = [tick.strftime('%Y-%m-%d %H:%M') for tick in ticks_dt]\n",
    "    \n",
    "#     ax.set_yticks(ticks)\n",
    "#     ax.set_yticklabels(tick_labels)\n",
    "    \n",
    "    # Convert timestamp values to datetime objects\n",
    "    ticks = sel_diodes_DS.start_timestamp.values\n",
    "    ticks_dt = [datetime.datetime.fromtimestamp(ts) for ts in ticks]\n",
    "    \n",
    "    # Downselect ticks to ensure at least ~1 hour between each stamp\n",
    "    h=1\n",
    "    selected_ticks = [ticks_dt[0]]\n",
    "    for tick in ticks_dt[1:]:\n",
    "        if (tick - selected_ticks[-1]).total_seconds() >= h * 60 * 60:\n",
    "            selected_ticks.append(tick)\n",
    "    \n",
    "    tick_labels = [tick.strftime('%Y-%m-%d %H:%M') for tick in selected_ticks]\n",
    "    # tick_labels = [tick.strftime('%Y-%m-%d %H:%M') for tick in ticks_dt]\n",
    "    \n",
    "    ax.set_yticks([tick.timestamp() for tick in selected_ticks])\n",
    "    # ax.set_yticks([tick.timestamp() for tick in ticks_dt])\n",
    "    ax.set_yticklabels(tick_labels)\n",
    "\n",
    "    # Colorbar\n",
    "    sm = plt.cm.ScalarMappable(cmap=plt.cm.turbo, norm=plt.Normalize(cmin, cmax))\n",
    "    cax = ax.inset_axes([1.03, 0, 0.05, 1])\n",
    "    cbar = fig.colorbar(sm, cax=cax, orientation='vertical')\n",
    "    cbar.set_label(label='Photodiode intensity [arb. units]', labelpad=12, rotation=270)\n",
    "\n",
    "    fig.suptitle(f'Nitrogen diode scans, lab-frame polarization = {pol}°', y=0.95, x=0.54)\n",
    "    ax.set_title(None)\n",
    "    ax.set(xlabel='Energy [eV]', ylabel='Scan start time')\n",
    "\n",
    "    # Save\n",
    "    savePath = outPath.joinpath('reference_data/plots', 'nitrogen_diode_heatmaps')\n",
    "    savePath.mkdir(exist_ok=True)\n",
    "    fig.savefig(savePath.joinpath(f'polarization_{pol}.png'), dpi=150)\n",
    "    \n",
    "    # plt.show()\n",
    "    plt.close('all')"
   ]
  },
  {
   "cell_type": "code",
   "execution_count": null,
   "id": "90887b5e-7928-4fdd-8623-967ab22ca5c0",
   "metadata": {
    "tags": []
   },
   "outputs": [],
   "source": [
    "# I0\n",
    "# Select parameters:\n",
    "for pol in tqdm(np.unique(diodes_DS.pol.values)):\n",
    "    # Neat way to select by coordinate value!\n",
    "    sel_diodes_DS = diodes_DS.isel(start_timestamp = diodes_DS.pol==pol)\n",
    "\n",
    "    # Plot \n",
    "    cmin, cmax = sel_diodes_DS['I0'].sel(energy=slice(260, None)).quantile([0.001,0.99])\n",
    "    \n",
    "    # Pcolormesh uses each y and x value for the boundary of each row/column, and it requires all edges (first and last)\n",
    "    final_ts = sel_diodes_DS['I0'].start_timestamp.values[-1]\n",
    "    shifted_final_ts = (datetime.datetime.fromtimestamp(final_ts)+datetime.timedelta(hours=2)).timestamp()\n",
    "    timestamps_with_end = np.append(sel_diodes_DS['I0'].start_timestamp.values, shifted_final_ts)\n",
    "    \n",
    "    X, Y = np.meshgrid(sel_diodes_DS['I0'].energy.values, \n",
    "                       timestamps_with_end)\n",
    "    fig, ax = plt.subplots(figsize=(7,5), dpi=120, tight_layout=True)\n",
    "    im = ax.pcolormesh(X, Y, sel_diodes_DS['I0'].isel(energy=slice(1,None)).data, shading='auto', cmap=plt.cm.turbo,\n",
    "                       norm=plt.Normalize(cmin,cmax))\n",
    "    \n",
    "    \n",
    "#     # Convert timestamp values to datetime objects\n",
    "#     ticks = sel_diodes_DS.start_timestamp.values\n",
    "#     ticks_dt = [datetime.datetime.fromtimestamp(ts) for ts in ticks]\n",
    "#     tick_labels = [tick.strftime('%Y-%m-%d %H:%M') for tick in ticks_dt]\n",
    "    \n",
    "#     ax.set_yticks(ticks)\n",
    "#     ax.set_yticklabels(tick_labels)\n",
    "    \n",
    "    # Convert timestamp values to datetime objects\n",
    "    ticks = sel_diodes_DS.start_timestamp.values\n",
    "    ticks_dt = [datetime.datetime.fromtimestamp(ts) for ts in ticks]\n",
    "    \n",
    "    # Downselect ticks to ensure at least ~1 hour between each stamp\n",
    "    h=1\n",
    "    selected_ticks = [ticks_dt[0]]\n",
    "    for tick in ticks_dt[1:]:\n",
    "        if (tick - selected_ticks[-1]).total_seconds() >= h * 60 * 60:\n",
    "            selected_ticks.append(tick)\n",
    "    \n",
    "    tick_labels = [tick.strftime('%Y-%m-%d %H:%M') for tick in selected_ticks]\n",
    "    # tick_labels = [tick.strftime('%Y-%m-%d %H:%M') for tick in ticks_dt]\n",
    "    \n",
    "    ax.set_yticks([tick.timestamp() for tick in selected_ticks])\n",
    "    # ax.set_yticks([tick.timestamp() for tick in ticks_dt])\n",
    "    ax.set_yticklabels(tick_labels)\n",
    "\n",
    "    # Colorbar\n",
    "    sm = plt.cm.ScalarMappable(cmap=plt.cm.turbo, norm=plt.Normalize(cmin, cmax))\n",
    "    cax = ax.inset_axes([1.03, 0, 0.05, 1])\n",
    "    cbar = fig.colorbar(sm, cax=cax, orientation='vertical')\n",
    "    cbar.set_label(label='I0 intensity [arb. units]', labelpad=12, rotation=270)\n",
    "\n",
    "    fig.suptitle(f'Nitrogen I0 scans, lab-frame polarization = {pol}°', y=0.95, x=0.54)\n",
    "    ax.set_title(None)\n",
    "    ax.set(xlabel='Energy [eV]', ylabel='Scan start time')\n",
    "\n",
    "    # Save\n",
    "    savePath = outPath.joinpath('reference_data/plots', 'nitrogen_I0_heatmaps')\n",
    "    savePath.mkdir(exist_ok=True)\n",
    "    fig.savefig(savePath.joinpath(f'polarization_{pol}.png'), dpi=150)\n",
    "    \n",
    "    # plt.show()\n",
    "    plt.close('all')"
   ]
  },
  {
   "cell_type": "markdown",
   "id": "c2c21c4e-6da4-4595-9d3b-f27ed54089bd",
   "metadata": {},
   "source": [
    "#### Integrated intensity vs time"
   ]
  },
  {
   "cell_type": "code",
   "execution_count": null,
   "id": "29b0d584-aea6-4c33-9230-3d1d968841f8",
   "metadata": {
    "tags": []
   },
   "outputs": [],
   "source": [
    "# Photodiode\n",
    "for pol in tqdm(np.unique(diodes_DS.pol.values)):\n",
    "    energy_slices = [slice(380, 395), slice(398, 410), slice(420, 438)]\n",
    "    colors = plt.cm.viridis(np.linspace(0,0.9,len(energy_slices)))\n",
    "\n",
    "    sel_diodes_DS = diodes_DS.isel(start_timestamp = diodes_DS.pol==pol)\n",
    "\n",
    "    fig, ax = plt.subplots(figsize=(8,4), dpi=125, tight_layout=True)\n",
    "\n",
    "    for i, energy_slice in enumerate(energy_slices):\n",
    "        energy_slice_str = f'{energy_slice.start}-{energy_slice.stop} eV'\n",
    "        sel_diodes_DS['Photodiode'].sel(energy=energy_slice).integrate(\n",
    "            'energy').plot.line(ax=ax, color=colors[i], linestyle='', marker='o', markersize=10, label=energy_slice_str)\n",
    "\n",
    "    # Convert timestamp values to datetime objects\n",
    "    # ticks = diodes_DS.isel(start_timestamp = diodes_DS.pol==0).start_timestamp.values\n",
    "    # # ticks = sel_diodes_DS.start_timestamp.values\n",
    "    # ticks_dt = [datetime.datetime.fromtimestamp(ts) for ts in ticks]\n",
    "    \n",
    "    ticks = np.linspace(diodes_DS.start_timestamp.values[0], diodes_DS.start_timestamp.values[-1], 12)\n",
    "    ticks_dt = [datetime.datetime.fromtimestamp(ts) for ts in ticks]\n",
    "\n",
    "    # # Downselect ticks to ensure at least ~1 hour between each stamp\n",
    "    # h=2\n",
    "    # selected_ticks = [ticks_dt[0]]\n",
    "    # for tick in ticks_dt[1:]:\n",
    "    #     if (tick - selected_ticks[-1]).total_seconds() >= h * 60 * 60:\n",
    "    #         selected_ticks.append(tick)\n",
    "\n",
    "    tick_labels = [tick.strftime('%Y-%m-%d %H:%M') for tick in ticks_dt]\n",
    "\n",
    "    ax.set_xticks([tick.timestamp() for tick in ticks_dt])\n",
    "    ax.set_xticklabels(tick_labels, rotation=45, ha='right', rotation_mode='anchor')\n",
    "\n",
    "    ax.set_title(f'Integrated photodiode intensity vs scan start time; lab-frame pol = {pol}°')\n",
    "    ax.set(ylabel='Integrated photodiode [arb. units]', xlabel='Scan start time')\n",
    "    ax.grid(visible=True, axis='x')\n",
    "    ax.legend(title='Energy range', loc=(1.01,0.3))\n",
    "    \n",
    "    # Save\n",
    "    savePath = outPath.joinpath('reference_data/plots', 'nitrogen_diode_integrated_scatterplots')\n",
    "    savePath.mkdir(exist_ok=True)\n",
    "    fig.savefig(savePath.joinpath(f'polarization_{pol}.png'), dpi=150)\n",
    "\n",
    "    # plt.show()\n",
    "    plt.close('all')"
   ]
  },
  {
   "cell_type": "code",
   "execution_count": null,
   "id": "7bb5c5fc-c9de-43ad-afec-c2dcd9e7310f",
   "metadata": {
    "tags": []
   },
   "outputs": [],
   "source": [
    "# I0\n",
    "for pol in tqdm(np.unique(diodes_DS.pol.values)):\n",
    "    energy_slices = [slice(380, 395), slice(398, 410), slice(420, 438)]\n",
    "    colors = plt.cm.viridis(np.linspace(0,0.9,len(energy_slices)))\n",
    "\n",
    "    sel_diodes_DS = diodes_DS.isel(start_timestamp = diodes_DS.pol==pol)\n",
    "\n",
    "    fig, ax = plt.subplots(figsize=(8,4), dpi=125, tight_layout=True)\n",
    "\n",
    "    for i, energy_slice in enumerate(energy_slices):\n",
    "        energy_slice_str = f'{energy_slice.start}-{energy_slice.stop} eV'\n",
    "        sel_diodes_DS['I0'].sel(energy=energy_slice).integrate(\n",
    "            'energy').plot.line(ax=ax, color=colors[i], linestyle='', marker='o', markersize=10, label=energy_slice_str)\n",
    "\n",
    "    # Convert timestamp values to datetime objects\n",
    "    # ticks = diodes_DS.isel(start_timestamp = diodes_DS.pol==0).start_timestamp.values\n",
    "    # # ticks = sel_diodes_DS.start_timestamp.values\n",
    "    # ticks_dt = [datetime.datetime.fromtimestamp(ts) for ts in ticks]\n",
    "    \n",
    "    ticks = np.linspace(diodes_DS.start_timestamp.values[0], diodes_DS.start_timestamp.values[-1], 12)\n",
    "    ticks_dt = [datetime.datetime.fromtimestamp(ts) for ts in ticks]\n",
    "\n",
    "    # # Downselect ticks to ensure at least ~1 hour between each stamp\n",
    "    # h=2\n",
    "    # selected_ticks = [ticks_dt[0]]\n",
    "    # for tick in ticks_dt[1:]:\n",
    "    #     if (tick - selected_ticks[-1]).total_seconds() >= h * 60 * 60:\n",
    "    #         selected_ticks.append(tick)\n",
    "\n",
    "    tick_labels = [tick.strftime('%Y-%m-%d %H:%M') for tick in ticks_dt]\n",
    "\n",
    "    ax.set_xticks([tick.timestamp() for tick in ticks_dt])\n",
    "    ax.set_xticklabels(tick_labels, rotation=45, ha='right', rotation_mode='anchor')\n",
    "\n",
    "    ax.set_title(f'Integrated I0 intensity vs scan start time; lab-frame pol = {pol}°')\n",
    "    ax.set(ylabel='Integrated I0 [arb. units]', xlabel='Scan start time')\n",
    "    ax.grid(visible=True, axis='x')\n",
    "    ax.legend(title='Energy range', loc=(1.01,0.3))\n",
    "    \n",
    "    # Save\n",
    "    savePath = outPath.joinpath('reference_data/plots', 'nitrogen_I0_integrated_scatterplots')\n",
    "    savePath.mkdir(exist_ok=True)\n",
    "    fig.savefig(savePath.joinpath(f'polarization_{pol}.png'), dpi=150)\n",
    "\n",
    "    # plt.show()\n",
    "    plt.close('all')"
   ]
  },
  {
   "cell_type": "markdown",
   "id": "10a159a2-ff56-4123-ac35-ec03a6ac627c",
   "metadata": {
    "tags": []
   },
   "source": [
    "### Load NEXAFS"
   ]
  },
  {
   "cell_type": "code",
   "execution_count": null,
   "id": "7580508e-4396-40e5-b6dd-af5dad679407",
   "metadata": {
    "tags": []
   },
   "outputs": [],
   "source": [
    "theta_dict = {0: 20,  # TEY dict to go from lab pol to sample pol for TEY NF\n",
    "              52: 55,\n",
    "              69: 70,\n",
    "              90: 90}\n",
    "\n",
    "# theta_dict = {0: 35,  # TRMSN dict to go from lab pol to sample pol for TEY NF\n",
    "#               46: 55,\n",
    "#               90: 90}"
   ]
  },
  {
   "cell_type": "code",
   "execution_count": null,
   "id": "25",
   "metadata": {
    "scrolled": true,
    "tags": []
   },
   "outputs": [],
   "source": [
    "# Load NEXAFS\n",
    "energies = np.linspace(250,350,3000)  # carbon\n",
    "# energies = np.linspace(370,440,2000)  # nitrogen\n",
    "\n",
    "# Load full nexafs dataset via tiled databroker:\n",
    "sample_names = sliced_df['sample_name'].unique()\n",
    "\n",
    "nf_monitors_full_list = []\n",
    "for sample_name in tqdm(sample_names[:]):\n",
    "    runs_of_interest = sliced_df[sliced_df['sample_name']==sample_name][:4]              \n",
    "    nf_monitors_list = []\n",
    "    for scan_id in tqdm(runs_of_interest['scan_id']):\n",
    "        run = c[scan_id]\n",
    "        nf_monitors = GatherDataStreams_SingleRun_Primaries(c, scan_id)\n",
    "        # print(len(diode_monitors.time))\n",
    "        nf_monitors = nf_monitors.assign_coords({'energy': ('time', nf_monitors['Energy'].data)})\n",
    "        nf_monitors = nf_monitors.swap_dims({'time':'energy'})\n",
    "        \n",
    "        theta = theta_dict[round(float(nf_monitors.en_polarization_setpoint[0]))]\n",
    "        nf_monitors = nf_monitors.expand_dims({'theta': [theta],\n",
    "                                               'sample_name': [run.start['sample_name']]})\n",
    "        nf_monitors = nf_monitors.assign_coords({'scan_id': ('theta', [run.start['scan_id']]),\n",
    "                                                 'sample_id': ('sample_name', [run.start['sample_id']])})\n",
    "        \n",
    "        nf_monitors_list.append(nf_monitors)\n",
    "\n",
    "    interp_nf_monitors_list = []\n",
    "    for DS in select_largest_by_energy(nf_monitors_list):\n",
    "        DS = DS.interp({'energy':energies})\n",
    "        interp_nf_monitors_list.append(DS)\n",
    "\n",
    "    nf_monitors_full = xr.concat(interp_nf_monitors_list, dim='theta')\n",
    "    nf_monitors_full_list.append(nf_monitors_full)\n",
    "    \n",
    "nf_DS = xr.concat(nf_monitors_full_list, dim='sample_name')"
   ]
  },
  {
   "cell_type": "code",
   "execution_count": null,
   "id": "479ba954-d1bf-48b9-88df-b2feda81cedc",
   "metadata": {
    "tags": []
   },
   "outputs": [],
   "source": [
    "nf_DS"
   ]
  },
  {
   "cell_type": "code",
   "execution_count": null,
   "id": "07f0d0de-517f-467b-bcc2-38fd359b223a",
   "metadata": {
    "scrolled": true,
    "tags": []
   },
   "outputs": [],
   "source": [
    "# bare SIN nexafs \n",
    "energies = np.linspace(250,350,3000)  # carbon\n",
    "# energies = np.linspace(370,440,2000)  # nitrogen\n",
    "\n",
    "# Load full nexafs dataset via tiled databroker:\n",
    "runs_of_interest = sliced_df[sliced_df['sample_name']=='BareSiN_01_rot']\n",
    "scan_ids = runs_of_interest['scan_id'].unique()\n",
    "\n",
    "interp_nf_monitors_list = []\n",
    "for scan_id in tqdm(scan_ids[:]):\n",
    "    # runs_of_interest = sliced_df[sliced_df['sample_name']==sample_name]             \n",
    "    # nf_monitors_list = []\n",
    "    # for scan_id in tqdm(runs_of_interest['scan_id']):\n",
    "    run = c[scan_id]\n",
    "    nf_monitors = GatherDataStreams_SingleRun_Primaries(c, scan_id)\n",
    "    # print(len(diode_monitors.time))\n",
    "    nf_monitors = nf_monitors.assign_coords({'energy': ('time', nf_monitors['Energy'].data)})\n",
    "    nf_monitors = nf_monitors.swap_dims({'time':'energy'})\n",
    "    nf_monitors = nf_monitors.drop_duplicates(dim='energy')  # in case there are any duplicate energies\n",
    "\n",
    "    pol = round(float(nf_monitors.en_polarization_setpoint[0]))\n",
    "    # nf_monitors = nf_monitors.expand_dims({'pol': [pol],\n",
    "    nf_monitors = nf_monitors.expand_dims({'scan_id': [run.start['scan_id']]})\n",
    "    nf_monitors = nf_monitors.assign_coords({'sample_id': ('scan_id', [run.start['sample_id']]),\n",
    "                                             'pol': ('scan_id', [pol])})\n",
    "    \n",
    "    nf_monitors = nf_monitors.drop_vars('time')\n",
    "    # nf_monitors_list.append(nf_monitors)\n",
    "    \n",
    "    interp_nf_monitors = nf_monitors.interp({'energy':energies})\n",
    "    \n",
    "    interp_nf_monitors_list.append(interp_nf_monitors)\n",
    "    \n",
    "bareSiN_DS = xr.concat(interp_nf_monitors_list, dim='scan_id')\n",
    "bareSiN_DS"
   ]
  },
  {
   "cell_type": "code",
   "execution_count": null,
   "id": "27",
   "metadata": {
    "tags": []
   },
   "outputs": [],
   "source": [
    "colors = plt.cm.plasma_r(np.linspace(0.15,1,len(nf_DS.theta)))\n",
    "e_slice = slice(280,315)\n",
    "\n",
    "for sample in tqdm(nf_DS.sample_name.values):\n",
    "    fig, ax = plt.subplots(figsize=(7,3.5), dpi=120, tight_layout=True)\n",
    "    for i, theta_val in enumerate(nf_DS.theta.values):\n",
    "        (1*nf_DS['Photodiode']).sel(sample_name=sample, theta=theta_val, \n",
    "              energy=e_slice).plot.line(ax=ax, color=colors[i], label=f'{int(theta_val)}°')\n",
    "    ax.set(title=sample, ylabel='Raw Sample Current', xlabel='Photon Energy [eV]')\n",
    "    ax.grid(visible=True, which='both', axis='x')\n",
    "    # ax.xaxis.set_major_locator(plt.MultipleLocator(1))\n",
    "    ax.legend()\n",
    "    plt.show()"
   ]
  },
  {
   "cell_type": "code",
   "execution_count": null,
   "id": "c7b95900-4762-460a-9b42-ae312fa21f6b",
   "metadata": {
    "tags": []
   },
   "outputs": [],
   "source": [
    "colors = plt.cm.plasma_r(np.linspace(0.15,1,len(nf_DS.theta)))\n",
    "e_slice = slice(280,315)\n",
    "\n",
    "for sample in tqdm(nf_DS.sample_name.values):\n",
    "    fig, ax = plt.subplots(figsize=(7,3.5), dpi=120, tight_layout=True)\n",
    "    for i, theta_val in enumerate(nf_DS.theta.values):\n",
    "        nf_DS['RSoXS Sample Current'].sel(sample_name=sample, theta=theta_val, \n",
    "              energy=e_slice).plot.line(ax=ax, color=colors[i], label=f'{int(theta_val)}°')\n",
    "    ax.set(title=sample, ylabel='Raw Sample Current', xlabel='Photon Energy [eV]')\n",
    "    ax.grid(visible=True, which='both', axis='x')\n",
    "    # ax.xaxis.set_major_locator(plt.MultipleLocator(1))\n",
    "    ax.legend()\n",
    "    plt.show()"
   ]
  },
  {
   "cell_type": "code",
   "execution_count": null,
   "id": "28",
   "metadata": {
    "tags": []
   },
   "outputs": [],
   "source": [
    "# # TRMSN Carbon:\n",
    "# energies = np.linspace(250,350,3000)  # carbon\n",
    "\n",
    "# # Load full nexafs dataset via tiled databroker:\n",
    "# sample_names = sliced_df['sample_name'].unique()\n",
    "\n",
    "# nf_monitors_full_list = []\n",
    "# for sample_name in tqdm(sample_names[:]):\n",
    "#     runs_of_interest = sliced_df[sliced_df['sample_name']==sample_name]              \n",
    "#     nf_monitors_list = []\n",
    "#     for scan_id in tqdm(runs_of_interest['scan_id']):\n",
    "#         run = c[scan_id]\n",
    "#         nf_monitors = load_nexafs(loader, run)\n",
    "#         nf_monitors_list.append(nf_monitors)\n",
    "\n",
    "#     interp_nf_monitors_list = []\n",
    "#     for DS in select_largest_by_energy(nf_monitors_list):\n",
    "#         DS = DS.interp({'energy':energies})\n",
    "#         interp_nf_monitors_list.append(DS)\n",
    "\n",
    "#     nf_monitors_full = xr.concat(interp_nf_monitors_list, dim='theta')\n",
    "#     nf_monitors_full_list.append(nf_monitors_full)\n",
    "    \n",
    "# nf_DS = xr.concat(nf_monitors_full_list, dim='sample_name')"
   ]
  },
  {
   "cell_type": "code",
   "execution_count": null,
   "id": "29b01840-2e9b-4857-ab10-e507186b5867",
   "metadata": {
    "tags": []
   },
   "outputs": [],
   "source": [
    "# nf_DS"
   ]
  },
  {
   "cell_type": "code",
   "execution_count": null,
   "id": "30",
   "metadata": {
    "tags": []
   },
   "outputs": [],
   "source": [
    "# colors = plt.cm.plasma_r(np.linspace(0.15,1,len(nf_DS.theta)))\n",
    "\n",
    "# for sample in tqdm(nf_DS.sample_name.values):\n",
    "#     fig, ax = plt.subplots(figsize=(7,3.5), dpi=120, tight_layout=True)\n",
    "#     for i, theta_val in enumerate(nf_DS.theta.values):\n",
    "#         nf_DS['WAXS Beamstop'].sel(sample_name=sample, theta=theta_val, \n",
    "#               energy=slice(260,350)).plot.line(ax=ax, color=colors[i], label=f'{int(theta_val)}°')\n",
    "#     ax.set(title=sample, ylabel='Raw Sample Current', xlabel='Photon Energy [eV]')\n",
    "#     ax.legend()\n",
    "#     plt.show()"
   ]
  },
  {
   "cell_type": "markdown",
   "id": "9b4848a7-fcec-47c3-86cb-084b02d22c6b",
   "metadata": {},
   "source": [
    "## NEXAFS Corrections 2.0"
   ]
  },
  {
   "cell_type": "markdown",
   "id": "b1a8821e-f6b9-4ac3-9530-f71ac1734778",
   "metadata": {},
   "source": [
    "### Choose which diode scan to use for each NEXAFS scan:\n",
    "Choose diodes that match pre + post edge well"
   ]
  },
  {
   "cell_type": "code",
   "execution_count": null,
   "id": "38a6afdb-7557-4c96-8cbb-9ac490cccf96",
   "metadata": {
    "tags": []
   },
   "outputs": [],
   "source": [
    "nf_DS"
   ]
  },
  {
   "cell_type": "code",
   "execution_count": null,
   "id": "7e13fa21-bbc9-4a1b-a2f3-65b97c7fc122",
   "metadata": {
    "tags": []
   },
   "outputs": [],
   "source": [
    "diodes_DS = loaded_diodes_DS.swap_dims({'start_timestamp':'scan_id'})\n",
    "diodes_DS"
   ]
  },
  {
   "cell_type": "code",
   "execution_count": null,
   "id": "bfefcca1-549f-4a04-abf0-7cc252a2eb2b",
   "metadata": {
    "tags": []
   },
   "outputs": [],
   "source": [
    "# Pick best diode to use from diode reference scans\n",
    "\n",
    "TRMSN_diodes_rows = []\n",
    "for sample_name in tqdm(nf_DS.sample_name.values):\n",
    "    TRMSN_diode_rows = []\n",
    "    for theta in nf_DS.theta.values:\n",
    "        # diodes_DS.isel(scan_id=diodes_DS.pol==0)['I0'].plot.line(hue='scan_id')\n",
    "        # differences = np.abs(diodes_DS.isel(scan_id=diodes_DS.pol==0)['I0'] - nf_DS.sel(sample_name=sample_name, theta=theta)['I0'])\n",
    "        differences = np.abs(diodes_DS['I0'] - nf_DS.sel(sample_name=sample_name, theta=theta)['I0'])\n",
    "\n",
    "        mean_differences = differences.mean('energy').data\n",
    "        best_scan_index = (mean_differences == mean_differences.min()).nonzero()[0][0]\n",
    "\n",
    "        # diode = diodes_DS.isel(scan_id=diodes_DS.pol==0).isel(scan_id=best_scan_index)\n",
    "        diode = diodes_DS.isel(scan_id=best_scan_index)\n",
    "        diode['I0'].plot.line(hue='scan_id')\n",
    "        ax = plt.gca()\n",
    "        fig = plt.gcf()\n",
    "        fig.set(size_inches=(6,6), dpi=120)\n",
    "        # ax.legend_.set_loc([1.1,-0.02])\n",
    "        nf_DS.sel(sample_name=sample_name, theta=theta)['I0'].plot.line(ax=ax, color='g')\n",
    "\n",
    "        ax.set(title=f'{diode.scan_id.values}, theta={theta}°')\n",
    "        \n",
    "        \n",
    "        # Add selected diodes for corrections/normalizations later\n",
    "        single_TRMSN_diode_DS = xr.Dataset()\n",
    "        single_TRMSN_diode_DS['I0'] = nf_DS['I0'].sel(sample_name=sample_name, theta=theta).copy()\n",
    "        single_TRMSN_diode_DS['I0'].data = diode['I0'].data\n",
    "        single_TRMSN_diode_DS['Photodiode'] = nf_DS['Photodiode'].sel(sample_name=sample_name, theta=theta).copy()\n",
    "        single_TRMSN_diode_DS['Photodiode'].data = diode['Photodiode'].data\n",
    "        \n",
    "        TRMSN_diode_rows.append(single_TRMSN_diode_DS)\n",
    "        \n",
    "        plt.show()\n",
    "        plt.close()\n",
    "        \n",
    "    TRMSN_diode_DS = xr.concat(TRMSN_diode_rows, dim='theta')\n",
    "    TRMSN_diodes_rows.append(TRMSN_diode_DS)\n",
    "    \n",
    "TRMSN_diodes_DS = xr.concat(TRMSN_diodes_rows, dim='sample_name')"
   ]
  },
  {
   "cell_type": "code",
   "execution_count": null,
   "id": "5bae030a-352c-4c9e-acd9-e685ea778c1c",
   "metadata": {
    "tags": []
   },
   "outputs": [],
   "source": [
    "bareSiN_DS"
   ]
  },
  {
   "cell_type": "code",
   "execution_count": null,
   "id": "98ef0f34-049f-4414-a835-f0d58815bc20",
   "metadata": {
    "tags": []
   },
   "outputs": [],
   "source": [
    "# Pick best diode to use from bare SiN reference scans\n",
    "\n",
    "TRMSN_diodes_rows = []\n",
    "for sample_name in tqdm(nf_DS.sample_name.values):\n",
    "    TRMSN_diode_rows = []\n",
    "    for theta in nf_DS.theta.values:\n",
    "        # diodes_DS.isel(scan_id=diodes_DS.pol==0)['I0'].plot.line(hue='scan_id')\n",
    "        # differences = np.abs(diodes_DS.isel(scan_id=diodes_DS.pol==0)['I0'] - nf_DS.sel(sample_name=sample_name, theta=theta)['I0'])\n",
    "        differences = np.abs(bareSiN_DS['I0'] - nf_DS.sel(sample_name=sample_name, theta=theta)['I0'])\n",
    "\n",
    "        mean_differences = differences.mean('energy').data\n",
    "        best_scan_index = (mean_differences == mean_differences.min()).nonzero()[0][0]\n",
    "\n",
    "        # diode = diodes_DS.isel(scan_id=diodes_DS.pol==0).isel(scan_id=best_scan_index)\n",
    "        diode = bareSiN_DS.isel(scan_id=best_scan_index)\n",
    "        diode['I0'].plot.line(hue='scan_id')\n",
    "        ax = plt.gca()\n",
    "        fig = plt.gcf()\n",
    "        fig.set(size_inches=(6,6), dpi=120)\n",
    "        # ax.legend_.set_loc([1.1,-0.02])\n",
    "        nf_DS.sel(sample_name=sample_name, theta=theta)['I0'].plot.line(ax=ax, color='g')\n",
    "\n",
    "        ax.set(title=f'{diode.scan_id.values}, theta={theta}°')\n",
    "        \n",
    "        \n",
    "        # Add selected diodes for corrections/normalizations later\n",
    "        single_TRMSN_diode_DS = xr.Dataset()\n",
    "        single_TRMSN_diode_DS['I0'] = nf_DS['I0'].sel(sample_name=sample_name, theta=theta).copy()\n",
    "        single_TRMSN_diode_DS['I0'].data = diode['I0'].data\n",
    "        single_TRMSN_diode_DS['Photodiode'] = nf_DS['Photodiode'].sel(sample_name=sample_name, theta=theta).copy()\n",
    "        single_TRMSN_diode_DS['Photodiode'].data = diode['Photodiode'].data\n",
    "        \n",
    "        TRMSN_diode_rows.append(single_TRMSN_diode_DS)\n",
    "        \n",
    "        plt.show()\n",
    "        plt.close()\n",
    "        \n",
    "    TRMSN_diode_DS = xr.concat(TRMSN_diode_rows, dim='theta')\n",
    "    TRMSN_diodes_rows.append(TRMSN_diode_DS)\n",
    "    \n",
    "TRMSN_diodes_DS = xr.concat(TRMSN_diodes_rows, dim='sample_name')"
   ]
  },
  {
   "cell_type": "code",
   "execution_count": null,
   "id": "76fecfab-a3dd-4571-8c36-3419eba12c2f",
   "metadata": {
    "tags": []
   },
   "outputs": [],
   "source": [
    "DS = xr.Dataset(attrs={'name': plan_of_interest})\n",
    "# DS['raw_trmsn'] = nf_DS['Photodiode']\n",
    "# DS['sample_au_mesh'] = nf_DS['I0']\n",
    "# DS['calib_au_mesh'] = TRMSN_diodes_DS['I0']\n",
    "# DS['calib_diode'] = TRMSN_diodes_DS['Photodiode']\n",
    "# DS['dnorm_trmsn'] = (DS['raw_trmsn'] / DS['sample_au_mesh']) * (DS['calib_au_mesh'] / DS['calib_diode'])\n",
    "\n",
    "DS['raw_tey'] = nf_DS['RSoXS Sample Current']\n",
    "DS['sample_au_mesh'] = nf_DS['I0']\n",
    "DS['calib_au_mesh'] = TRMSN_diodes_DS['I0']\n",
    "DS['calib_diode'] = TRMSN_diodes_DS['Photodiode']\n",
    "DS['dnorm_tey'] = (DS['raw_tey'] / DS['sample_au_mesh']) * (DS['calib_au_mesh'] / DS['calib_diode'])\n",
    "\n",
    "DS"
   ]
  },
  {
   "cell_type": "code",
   "execution_count": null,
   "id": "2825ffaa-d6a1-4553-9119-7f5755606014",
   "metadata": {
    "tags": []
   },
   "outputs": [],
   "source": [
    "for sample_name in nf_DS.sample_name.values:\n",
    "    for theta in nf_DS.theta.values:\n",
    "        # DS['dnorm_trmsn'].sel(sample_name=sample_name, theta=theta).plot.line()\n",
    "        DS['dnorm_tey'].sel(sample_name=sample_name, theta=theta).plot.line()\n",
    "\n",
    "        plt.show()\n",
    "        plt.close()"
   ]
  },
  {
   "cell_type": "code",
   "execution_count": null,
   "id": "1f3a808b-6fb8-4ef9-b44e-a1489b9d559a",
   "metadata": {
    "tags": []
   },
   "outputs": [],
   "source": [
    "for sample_name in nf_DS.sample_name.values:\n",
    "    for theta in nf_DS.theta.values:\n",
    "        DS['sample_au_mesh'].sel(sample_name=sample_name, theta=theta).plot.line()\n",
    "        DS['calib_au_mesh'].sel(sample_name=sample_name, theta=theta).plot.line()\n",
    "\n",
    "        plt.show()\n",
    "        plt.close()"
   ]
  },
  {
   "cell_type": "markdown",
   "id": "669d57f2-21fa-4391-8917-088706e2a482",
   "metadata": {},
   "source": [
    "## Prior NEXAFS corrections code"
   ]
  },
  {
   "cell_type": "markdown",
   "id": "31",
   "metadata": {
    "tags": []
   },
   "source": [
    "### Create full nexafs dataset"
   ]
  },
  {
   "cell_type": "code",
   "execution_count": null,
   "id": "32",
   "metadata": {
    "tags": []
   },
   "outputs": [],
   "source": [
    "# # TEY Carbon Diode\n",
    "\n",
    "# TEY_C_diode_DS = carbon_diode_DS.copy().squeeze()\n",
    "# TEY_C_diode_DS"
   ]
  },
  {
   "cell_type": "code",
   "execution_count": null,
   "id": "33",
   "metadata": {
    "tags": []
   },
   "outputs": [],
   "source": [
    "# # TEY Carbon\n",
    "# # Create nexafs dataset to export & apply/add double-norm-corrected data variable\n",
    "\n",
    "# DS = xr.Dataset(attrs={'name': plan_of_interest})\n",
    "# DS['raw_tey'] = nf_DS['RSoXS Sample Current']\n",
    "# DS['sample_au_mesh'] = nf_DS['I0']\n",
    "# DS['calib_au_mesh'] = TEY_C_diode_DS['I0']\n",
    "# DS['calib_diode'] = TEY_C_diode_DS['Photodiode']\n",
    "# DS['dnorm_tey'] = (DS['raw_tey'] / DS['sample_au_mesh']) * (DS['calib_au_mesh'] / DS['calib_diode'])\n",
    "\n",
    "# # DS = DS.drop_vars('uid')\n",
    "# DS"
   ]
  },
  {
   "cell_type": "code",
   "execution_count": null,
   "id": "c673c918-1f16-4f5e-8361-f32a79718bbc",
   "metadata": {
    "tags": []
   },
   "outputs": [],
   "source": [
    "# TEY Nitrogen Diode\n",
    "\n",
    "TEY_N_diode_DS = nitrogen_diode_DS.copy().squeeze()\n",
    "TEY_N_diode_DS"
   ]
  },
  {
   "cell_type": "code",
   "execution_count": null,
   "id": "659c944a-1c34-4ea5-bc88-a43f8e1c1f97",
   "metadata": {
    "tags": []
   },
   "outputs": [],
   "source": [
    "# TEY Nitrogen\n",
    "# Create nexafs dataset to export & apply/add double-norm-corrected data variable\n",
    "\n",
    "DS = xr.Dataset(attrs={'name': plan_of_interest})\n",
    "DS['raw_tey'] = nf_DS['RSoXS Sample Current']\n",
    "DS['sample_au_mesh'] = nf_DS['I0']\n",
    "DS['calib_au_mesh'] = TEY_N_diode_DS['I0']\n",
    "DS['calib_diode'] = TEY_N_diode_DS['Photodiode']\n",
    "DS['dnorm_tey'] = (DS['raw_tey'] / DS['sample_au_mesh']) * (DS['calib_au_mesh'] / DS['calib_diode'])\n",
    "\n",
    "# DS = DS.drop_vars('uid')\n",
    "DS"
   ]
  },
  {
   "cell_type": "code",
   "execution_count": null,
   "id": "35",
   "metadata": {
    "tags": []
   },
   "outputs": [],
   "source": [
    "# # TEY Carbon Diode\n",
    "\n",
    "# TRMSN_C_diode_DS = carbon_diode_DS.sel(pol=[0, 45.56, 90]).sortby('pol')\n",
    "# TRMSN_C_diode_DS = TRMSN_C_diode_DS.assign_coords({'theta':('pol', nf_DS.theta.values)}).swap_dims({'pol':'theta'})\n",
    "# TRMSN_C_diode_DS"
   ]
  },
  {
   "cell_type": "code",
   "execution_count": null,
   "id": "3deeb5c0-8f98-42aa-b45a-7636da95fb95",
   "metadata": {
    "tags": []
   },
   "outputs": [],
   "source": [
    "nf_DS"
   ]
  },
  {
   "cell_type": "code",
   "execution_count": null,
   "id": "36",
   "metadata": {
    "tags": []
   },
   "outputs": [],
   "source": [
    "# TRMSN\n",
    "# Create nexafs dataset to export & apply/add double-norm-corrected data variable\n",
    "\n",
    "DS = xr.Dataset(attrs={'name': plan_of_interest})\n",
    "DS['raw_trmsn'] = nf_DS['Photodiode']\n",
    "DS['sample_au_mesh'] = nf_DS['I0']\n",
    "DS['calib_au_mesh'] = nf_DS['I0'].sel(sample_name='BareSiN_01_rot')  # Use a bare SiN for normalization\n",
    "DS['calib_diode'] = nf_DS['Photodiode'].sel(sample_name='BareSiN_01_rot')\n",
    "# DS['calib_au_mesh'] = TRMSN_C_diode_DS['RSoXS Au Mesh Current'].drop_vars('uid')  # Use a diode scan for normalization\n",
    "# DS['calib_diode'] = TRMSN_C_diode_DS['WAXS Beamstop'].drop_vars('uid')\n",
    "DS['dnorm_trmsn'] = (DS['raw_trmsn'] / DS['sample_au_mesh']) * (DS['calib_au_mesh'] / DS['calib_diode'])\n",
    "\n",
    "DS"
   ]
  },
  {
   "cell_type": "code",
   "execution_count": null,
   "id": "3b94db0f-f5b9-4ab4-8781-df142572f6a3",
   "metadata": {
    "tags": []
   },
   "outputs": [],
   "source": [
    "DS"
   ]
  },
  {
   "cell_type": "code",
   "execution_count": null,
   "id": "37",
   "metadata": {
    "tags": []
   },
   "outputs": [],
   "source": [
    "# Plot check\n",
    "\n",
    "colors = plt.cm.plasma_r(np.linspace(0.15,1,len(nf_DS.theta)))\n",
    "e_slice = slice(280, 315)\n",
    "\n",
    "for sample in DS.sample_name.values:\n",
    "    fig, ax = plt.subplots(figsize=(7,3.5), dpi=120, tight_layout=True)\n",
    "    for i, theta_val in enumerate(DS.theta.values):\n",
    "        DS['dnorm_trmsn'].sel(sample_name=sample, theta=theta_val, energy=e_slice\n",
    "                ).plot.line(ax=ax, color=colors[i], label=f'{int(theta_val)}°')\n",
    "    ax.set(title=sample)\n",
    "    ax.grid(visible=True, which='both', axis='x')\n",
    "    # ax.xaxis.set_major_locator(plt.MultipleLocator(4))\n",
    "    ax.legend()\n",
    "    plt.show()"
   ]
  },
  {
   "cell_type": "markdown",
   "id": "38",
   "metadata": {},
   "source": [
    "### Pre / post edge corrections"
   ]
  },
  {
   "cell_type": "code",
   "execution_count": null,
   "id": "39",
   "metadata": {
    "tags": []
   },
   "outputs": [],
   "source": [
    "# Apply pre and post-edge normalizations (more involved right now...):\n",
    "\n",
    "data_var = 'dnorm_tey'\n",
    "# data_var = 'dnorm_trmsn'\n",
    "\n",
    "\n",
    "# Set where to do pre/post edge corrections\n",
    "\n",
    "# Carbon\n",
    "pre_edge_energy_slice = slice(275, 280)  # carbon\n",
    "post_edge_energy_slice = slice(335, None)  # carbon\n",
    "\n",
    "# # Nitrogen\n",
    "# pre_edge_energy_slice = slice(392, 397.4)  # nitrogen\n",
    "# post_edge_energy_slice = slice(403, 404)  # nitrogen\n",
    "\n",
    "\n",
    "# First generate list of corrected spectra\n",
    "pre_corr_list = []\n",
    "full_corr_list = []\n",
    "for sample_name in DS.sample_name.values:\n",
    "    for theta in DS.theta.values:\n",
    "        # Linear fit for pre-edge region  \n",
    "        mean_value = DS[data_var].sel(energy=pre_edge_energy_slice).mean()\n",
    "        coefficients = np.polyfit(DS.energy.sel(energy=pre_edge_energy_slice), \n",
    "                                  DS[data_var].sel(energy=pre_edge_energy_slice, sample_name=sample_name, theta=theta), \n",
    "                                  1)\n",
    "        y_fit = np.polyval(coefficients, DS.energy)\n",
    "        \n",
    "        # Subtract DA by either the y_fit or by the mean (horizontal line)\n",
    "        pre_corr_DA = (DS[data_var].sel(sample_name=sample_name, theta=theta)) - y_fit  # use slope y_fit\n",
    "        # pre_corr_DA = (DS[data_var].sel(sample_name=sample_name, theta=theta)) - mean_value  # use slope y_fit\n",
    "\n",
    "        pre_corr_DA = pre_corr_DA.expand_dims({'sample_name': [pre_corr_DA.sample_name.data],\n",
    "                                               'theta': [pre_corr_DA.theta.data]})\n",
    "        pre_corr_DA = pre_corr_DA.assign_coords({'scan_id': ('theta', [pre_corr_DA.scan_id.data]),\n",
    "                                                 'sample_id': ('sample_name', [pre_corr_DA.sample_id.data])})     \n",
    "        \n",
    "        pre_corr_list.append(pre_corr_DA)\n",
    "\n",
    "        # Post edge\n",
    "        post_edge_mean = pre_corr_DA.sel(energy=post_edge_energy_slice).mean(dim=\"energy\")\n",
    "        full_corr_DA = pre_corr_DA / np.abs(float(post_edge_mean))  # TEY     \n",
    "        # full_corr_DA = pre_corr_DA / -np.abs(float(post_edge_mean))  # TRMSN    \n",
    "        \n",
    "        full_corr_list.append(full_corr_DA)\n",
    "\n",
    "# Now reconstruct full dataarray and add to dataset created in prior cell\n",
    "# corr_names = ['pre_corr_trmsn', 'full_corr_trmsn']\n",
    "corr_names = ['pre_corr_tey', 'full_corr_tey']\n",
    "\n",
    "for i, corr_list in enumerate([pre_corr_list, full_corr_list]):\n",
    "# corr_names = ['pre_corr_trmsn']\n",
    "# for i, corr_list in enumerate([pre_corr_list]):\n",
    "    # First group by sample_name\n",
    "    grouped_by_sample = {}\n",
    "    for corr_DA in corr_list:\n",
    "        sample_name = corr_DA.sample_name.values[0]\n",
    "        if sample_name not in grouped_by_sample:\n",
    "            grouped_by_sample[sample_name] = []\n",
    "        grouped_by_sample[sample_name].append(corr_DA)\n",
    "\n",
    "    # Concatenate by theta for each sample_name\n",
    "    concat_by_theta = {}\n",
    "    for sample_name, group in grouped_by_sample.items():\n",
    "        concat_by_theta[sample_name] = xr.concat(group, dim=\"theta\")\n",
    "\n",
    "    # Finally, concatenate the result along the sample_name dimension\n",
    "    DS[corr_names[i]] = xr.concat(list(concat_by_theta.values()), dim=\"sample_name\")\n",
    "\n",
    "# DS['full_corr_trmsn'] = DS['full_corr_trmsn'] - DS.sel(sample_name='BareSiN_1p5mm_rot')['full_corr_trmsn']\n",
    "# DS['full_corr_trmsn'] = DS['full_corr_trmsn'] - DS.sel(sample_name='BareSiN_1mm_rot')['full_corr_trmsn']\n",
    "\n",
    "DS"
   ]
  },
  {
   "cell_type": "code",
   "execution_count": null,
   "id": "40",
   "metadata": {
    "tags": []
   },
   "outputs": [],
   "source": [
    "nexafs_type = 'tey'\n",
    "# nexafs_type = 'trmsn'\n",
    "edge = 'carbon'\n",
    "# edge = 'nitrogen'\n",
    "\n",
    "# energy_slice = slice(268, 340)\n",
    "# energy_slice = slice(None, None)\n",
    "\n",
    "energy_slice = slice(260,350) # carbon\n",
    "# energy_slice = slice(370, 440) # nitrogen\n",
    "# energy_slice = slice(396, 405) # nitrogen\n",
    "\n",
    "# Create the colormap\n",
    "colors = plt.cm.plasma_r(np.linspace(0.15, 1, len(DS.theta)))\n",
    "# colors = plt.cm.plasma(np.linspace(0, 0.85, len(DS.theta)))\n",
    "\n",
    "\n",
    "for sample_name in tqdm(DS.sample_name.values):\n",
    "    fig, axs = plt.subplots(2, 2)\n",
    "    fig.set(size_inches=(9, 6), dpi=120, tight_layout=True)\n",
    "    fig.suptitle(f'{nexafs_type} {edge}-edge NEXAFS: {sample_name}', fontsize=14)\n",
    "    # fig.suptitle(f'Transmission {edge}-edge NEXAFS: {sample_name}', fontsize=14)\n",
    "    # fig.suptitle(f'TEY {edge}-edge NEXAFS: {sample_name}', fontsize=14)\n",
    "\n",
    "    for i, theta_val in enumerate(DS.theta.values):\n",
    "        sliced_DS = DS.sel(energy=energy_slice, sample_name=sample_name, theta=theta_val)\n",
    "        sliced_DS[f'raw_{nexafs_type}'].plot.line(ax=axs[0,0], color=colors[i], label=f'{int(theta_val)}°')\n",
    "        sliced_DS[f'dnorm_{nexafs_type}'].plot.line(ax=axs[0,1], color=colors[i], label=f'{int(theta_val)}°')\n",
    "        sliced_DS[f'pre_corr_{nexafs_type}'].plot.line(ax=axs[1,0], color=colors[i], label=f'{int(theta_val)}°')\n",
    "        sliced_DS[f'full_corr_{nexafs_type}'].plot.line(ax=axs[1,1], color=colors[i], label=f'{int(theta_val)}°')\n",
    "        # ((sliced_DS[f'full_corr_{nexafs_type}'] / float(DS[f'full_corr_{nexafs_type}'].sel(\n",
    "        #                                           sample_name=sample_name, theta=theta_val, energy=slice(402,404)).mean('energy')))\n",
    "        #  .plot.line(ax=axs[1,1], color=colors[i], label=f'{int(theta_val)}°'))\n",
    "\n",
    "    # axs[0,0].set(title='Raw beamstop diode current')\n",
    "    axs[0,0].set(title='Raw TEY')\n",
    "    axs[0,1].set(title='Double-norm correction')\n",
    "    axs[1,0].set(title='Subtract pre-edge linear fit')\n",
    "    axs[1,1].set(title='Divide post-edge mean')\n",
    "    # axs[1,1].set(title='Divide post-edge mean & subtract SiN spectra')\n",
    "\n",
    "    # Optionally, add legends\n",
    "    axs[0,0].legend(title=r\"$\\theta$\")\n",
    "    axs[0,1].legend(title=r\"$\\theta$\")\n",
    "    axs[1,0].legend(title=r\"$\\theta$\")\n",
    "    axs[1,1].legend(title=r\"$\\theta$\")\n",
    "\n",
    "    savePath = outPath.joinpath(f'nexafs_plots/{nexafs_type}_{edge}_nexafs_all')\n",
    "    savePath.mkdir(exist_ok=True)\n",
    "    fig.savefig(savePath.joinpath(f'{sample_name}_energy{energy_slice.start}-{energy_slice.stop}.png'), dpi=120)\n",
    "\n",
    "    plt.show()\n",
    "    plt.close('all')"
   ]
  },
  {
   "cell_type": "code",
   "execution_count": null,
   "id": "7259376e-fb41-46cd-942f-278ae2333d13",
   "metadata": {},
   "outputs": [],
   "source": [
    "outPath"
   ]
  },
  {
   "cell_type": "code",
   "execution_count": null,
   "id": "41",
   "metadata": {
    "tags": []
   },
   "outputs": [],
   "source": [
    "zarrsPath"
   ]
  },
  {
   "cell_type": "markdown",
   "id": "42",
   "metadata": {
    "tags": []
   },
   "source": [
    "### Save zarr"
   ]
  },
  {
   "cell_type": "code",
   "execution_count": null,
   "id": "d318dbe4-8e84-4ee8-bf2d-c874a2561915",
   "metadata": {
    "tags": []
   },
   "outputs": [],
   "source": [
    "DS.name"
   ]
  },
  {
   "cell_type": "code",
   "execution_count": null,
   "id": "3ca78c11-f465-47bc-af9c-2a56a4da959a",
   "metadata": {
    "tags": []
   },
   "outputs": [],
   "source": [
    "zarrsPath"
   ]
  },
  {
   "cell_type": "code",
   "execution_count": null,
   "id": "43",
   "metadata": {},
   "outputs": [],
   "source": [
    "DS.to_zarr(zarrsPath.joinpath(f'TEY_{DS.name}_v2.zarr'), mode='w')\n",
    "# DS.to_zarr(zarrsPath.joinpath(f'TRMSN_{DS.name}_v2.zarr'), mode='w')"
   ]
  },
  {
   "cell_type": "markdown",
   "id": "44",
   "metadata": {},
   "source": [
    "## Load nexafs zarr"
   ]
  },
  {
   "cell_type": "code",
   "execution_count": null,
   "id": "45",
   "metadata": {
    "tags": []
   },
   "outputs": [],
   "source": [
    "plan_of_interest = 'nexafs_carbon'\n",
    "loaded_DS = xr.open_zarr(zarrsPath.joinpath(f'TEY_{plan_of_interest}_v2.zarr'))\n",
    "# loaded_DS = xr.open_zarr(zarrsPath.joinpath(f'TRMSN_{plan_of_interest}_v2.zarr'))\n",
    "\n",
    "# Compute any dask coordiantes\n",
    "for coord_name, coord_data in loaded_DS.coords.items():\n",
    "    if isinstance(coord_data.data, da.Array):\n",
    "        loaded_DS.coords[coord_name] = coord_data.compute()\n",
    "\n",
    "DS = loaded_DS.copy().assign_coords({'cos_sq_theta': ('theta', ((np.cos(np.deg2rad(loaded_DS.theta)))**2).data)})\n",
    "DS"
   ]
  },
  {
   "cell_type": "code",
   "execution_count": null,
   "id": "46",
   "metadata": {},
   "outputs": [],
   "source": [
    "# DS.sel(sample_name='Y6_CFCN_rot')['full_corr_trmsn'].plot(hue='theta')\n",
    "# plt.show()"
   ]
  },
  {
   "cell_type": "markdown",
   "id": "47",
   "metadata": {
    "tags": []
   },
   "source": [
    "### Plot normalized NEXAFS"
   ]
  },
  {
   "cell_type": "code",
   "execution_count": null,
   "id": "0af211e9-9d59-48cc-bc6e-f8402adb4d02",
   "metadata": {
    "tags": []
   },
   "outputs": [],
   "source": [
    "from matplotlib.ticker import StrMethodFormatter"
   ]
  },
  {
   "cell_type": "code",
   "execution_count": null,
   "id": "48",
   "metadata": {
    "tags": []
   },
   "outputs": [],
   "source": [
    "# nexafs_type = 'trmsn'\n",
    "nexafs_type = 'tey'\n",
    "\n",
    "edge = 'carbon'\n",
    "# edge = 'nitrogen'\n",
    "\n",
    "# energy_slice = slice(270, 330)  # carbon\n",
    "energy_slice = slice(280, 315)  # carbon\n",
    "# energy_slice = slice(396, 405)  # nitrogen\n",
    "\n",
    "colors = plt.cm.plasma_r(np.linspace(0.15,1,len(DS.theta)))\n",
    "# colors = plt.cm.plasma(np.linspace(0,0.85,len(DS.theta)))\n",
    "\n",
    "for sample_name in tqdm(DS.sample_name.values):\n",
    "    fig, ax = plt.subplots(figsize=(7,3.5), dpi=120, tight_layout=True)\n",
    "    # fig, ax = plt.subplots(figsize=(25,3.5), dpi=80, tight_layout=True)\n",
    "\n",
    "    for i, theta_val in enumerate(DS.theta.values):\n",
    "        (DS[f'full_corr_{nexafs_type}'].sel(sample_name=sample_name, theta=theta_val, energy=energy_slice)\n",
    "                                       .plot.line(ax=ax, color=colors[i], label=f'{int(theta_val)}°'))\n",
    "\n",
    "    # fig.suptitle(f'Double normalized TEY NEXAFS: {sample_name}', x=0.53)\n",
    "    # fig.suptitle(f'Double normalized transmission NEXAFS: {sample_name}', x=0.53)\n",
    "    fig.suptitle(f'Double normalized {nexafs_type} NEXAFS: {sample_name}', x=0.53)\n",
    "    ax.set(title='Pre-edge linear fit subtracted & post-edge mean normalized', xlabel='X-ray Energy [eV]', ylabel='Normalized NEXAFS [arb. units]')\n",
    "    ax.legend(title=r'$\\theta$')\n",
    "    ax.grid(visible=True, which='both', axis='x')\n",
    "    ax.xaxis.set_major_locator(plt.MultipleLocator(2))\n",
    "    # ax.xaxis.set_major_formatter(StrMethodFormatter('{x:,.1f}'))\n",
    "    \n",
    "    savePath = outPath.joinpath(f'nexafs_plots/{nexafs_type}_{edge}_nexafs_full_corr')\n",
    "    savePath.mkdir(exist_ok=True)\n",
    "    fig.savefig(savePath.joinpath(f'{sample_name}_energy{energy_slice.start}-{energy_slice.stop}.png'), dpi=120)\n",
    "    \n",
    "    # plt.show()\n",
    "    plt.close('all')"
   ]
  },
  {
   "cell_type": "markdown",
   "id": "49",
   "metadata": {
    "tags": []
   },
   "source": [
    "#### Optionally run molecular tilt fit"
   ]
  },
  {
   "cell_type": "code",
   "execution_count": null,
   "id": "7e36422f-4bd6-4576-93b3-98aa9a8f164c",
   "metadata": {
    "tags": []
   },
   "outputs": [],
   "source": [
    "DS"
   ]
  },
  {
   "cell_type": "code",
   "execution_count": null,
   "id": "50",
   "metadata": {
    "tags": []
   },
   "outputs": [],
   "source": [
    "# Run Stöhr 9.16a tilt fit on energy region of NEXAFS\n",
    "edge = 'carbon'\n",
    "# edge = 'nitrogen'\n",
    "nexafs_type = 'tey'\n",
    "# nexafs_type = 'trmsn'\n",
    "\n",
    "for e_min, e_max in [(283.5, 285.3), (283.5, 285.5), (284, 286)]:  # carbon peak area bounds\n",
    "# for e_min, e_max in [(397.8, 399.3), (399.4, 400.5), (400.6, 402.5)]:  # nitrogen peak area bounds\n",
    "    for sample_name in tqdm(DS.sample_name.values, desc=f'{e_min}to{e_max} bounds'):\n",
    "        nf_DA = DS[f'full_corr_{nexafs_type}'].sel(sample_name=sample_name)\n",
    "\n",
    "        pi_peak_areas = nf.int_area(e_min, e_max, nf_DA)\n",
    "\n",
    "        bnds = [(0, 90), (0, 20)]\n",
    "        res = optimize.differential_evolution(\n",
    "            nf.mse_line_tilt, bounds=bnds, args=(pi_peak_areas, nf_DA.theta.values), tol=1e-6)\n",
    "\n",
    "        alpha, const = res.x\n",
    "\n",
    "        # Plot intensities from Stöhr 9.16a (scaled with fitted constant) as line\n",
    "        # along with measured pi_peak_areas, x-axis is cos_sq_theta:\n",
    "        fig, axs = plt.subplots(ncols=2, figsize=(10,4.5), dpi=120, tight_layout=True)\n",
    "        fig.suptitle(str(nf_DA.sample_name.values), y=1.03, fontsize=14)\n",
    "        axs[0].plot(nf_DA.cos_sq_theta.values[:], const * nf.i_nexafs(alpha, nf_DA.theta.values[:]),\n",
    "                marker='o', label=f'Stöhr 9.16a: ($\\\\alpha$={np.round(alpha,2)}, const={np.round(const,2)})',\n",
    "                clip_on=False, zorder=3)\n",
    "        axs[0].plot(nf_DA.cos_sq_theta.values[:], pi_peak_areas[:], marker='o',\n",
    "                label=f'NEXAFS integrated areas', clip_on=False, zorder=4)\n",
    "        axs[0].set(title='Peak fit', xlabel=r'$cos^2(\\theta)$', ylabel='Intensity [arb. units]')\n",
    "        axs[0].set_xticks(nf_DA.cos_sq_theta.values, minor=True)\n",
    "        axs[0].set_xlim(left=0)\n",
    "        axs[0].legend()\n",
    "\n",
    "        # Add secondary axis showing theta values:\n",
    "        def forward(x):\n",
    "            return np.arccos(np.sqrt(x)) * 180 / np.pi\n",
    "\n",
    "        def inverse(x):\n",
    "            return np.cos(x * np.pi / 180)**2\n",
    "\n",
    "        ax2 = axs[0].secondary_xaxis(-0.23, functions=(forward, inverse))\n",
    "        ax2.set(xlabel=r'$\\theta$ [$\\degree$]')\n",
    "        ax2.set_xticks(nf_DA.theta.values)\n",
    "\n",
    "\n",
    "        colors = plt.cm.plasma_r(np.linspace(0.15,1,len(nf_DA.theta)))\n",
    "        for i, theta_val in enumerate(nf_DA.theta.values):\n",
    "            (nf_DA.sel(theta=theta_val, energy=slice(282, 292))\n",
    "            # (nf_DA.sel(theta=theta_val, energy=slice(396, 405))\n",
    "                   .plot.line(ax=axs[1], color=colors[i], label=f'{int(theta_val)}°'))\n",
    "\n",
    "        axs[1].axvline(e_min, color='grey')\n",
    "        axs[1].axvline(e_max, color='grey')\n",
    "        axs[1].set(title=f'{nexafs_type} NEXAFS, peak area bounds {e_min} to {e_max}', xlabel='X-ray Energy [eV]', ylabel='Normalized NEXAFS [arb. units]')\n",
    "        axs[1].legend(title=r'$\\theta$ [$\\degree$]', loc='upper left')\n",
    "        \n",
    "        savePath = outPath.joinpath(f'nexafs_plots/{nexafs_type}_{edge}_tilt_fit')\n",
    "        savePath.mkdir(exist_ok=True)\n",
    "        fig.savefig(savePath.joinpath(f'{sample_name}_energy{e_min}-{e_max}.png'), dpi=120)\n",
    "\n",
    "        # plt.show()\n",
    "        plt.close('all')"
   ]
  },
  {
   "cell_type": "markdown",
   "id": "51",
   "metadata": {
    "tags": []
   },
   "source": [
    "### Calculate optical constants & binary contrasts"
   ]
  },
  {
   "cell_type": "markdown",
   "id": "52",
   "metadata": {},
   "source": [
    "#### Define functions & chemical formulas "
   ]
  },
  {
   "cell_type": "code",
   "execution_count": null,
   "id": "53",
   "metadata": {
    "tags": []
   },
   "outputs": [],
   "source": [
    "# Define function to calculate binary contrast\n",
    "def binary_contrast(n1, n2=None):\n",
    "    if n2 is None:\n",
    "        #second component is vacuum\n",
    "        n2 = xr.zeros_like(n1)\n",
    "    else:\n",
    "        #second is interpolated to match the energy array of the first component.  \n",
    "        n2 = n2.interp(energy=n1.energy)\n",
    "    return n1.energy**4 * ((n1.delta-n2.delta)**2 + (n1.beta-n2.beta)**2)\n",
    "\n",
    "# Add chemical formulas as coordinate along 'sample_name' dimension\n",
    "# Define necessary formula stoichiometries\n",
    "Y6_formula = 'C82H86F4N8O2S5'\n",
    "Y7_formula = 'C82H86Cl4N8O2S5'\n",
    "PM6_formula = 'C68H76F2O2S8'\n",
    "PM7_formula = 'C68H76Cl2O2S8'\n",
    "\n",
    "# Make dictionary of sample_name keys and formula values\n",
    "chemical_formulas = {}\n",
    "for sample_name in DS.sample_name.values:\n",
    "    if 'Y6_' in sample_name or 'A1_' in sample_name or 'A2_' in sample_name or 'A3_' in sample_name:\n",
    "        chemical_formulas[sample_name] = Y6_formula\n",
    "    elif 'Y7_' in sample_name:\n",
    "        chemical_formulas[sample_name] = Y7_formula\n",
    "    elif 'PM6_' in sample_name:\n",
    "        chemical_formulas[sample_name] = PM6_formula\n",
    "    elif 'PM7_' in sample_name:\n",
    "        chemical_formulas[sample_name] = PM7_formula\n",
    "    elif 'PM6-Y6_' in sample_name:\n",
    "        chemical_formulas[sample_name] = Y6_formula+PM6_formula\n",
    "    elif 'PM6-Y7_' in sample_name:\n",
    "        chemical_formulas[sample_name] = PM6_formula+Y7_formula\n",
    "    elif 'PM7-Y6_' in sample_name:\n",
    "        chemical_formulas[sample_name] = PM7_formula+Y6_formula\n",
    "    elif 'PM7-Y7_' in sample_name:\n",
    "        chemical_formulas[sample_name] = PM7_formula+Y7_formula\n",
    "    elif 'BareS' in sample_name:\n",
    "        chemical_formulas[sample_name] = 'SiN'\n",
    "    else: \n",
    "        chemical_formulas[sample_name] = 'AlO'\n",
    "\n",
    "# Assign coordinate\n",
    "# DS = DS.assign_coords({'chemical_formula': ('sample_name', names2formula(DS.sample_name.values))})\n",
    "DS = DS.assign_coords({'chemical_formula': ('sample_name', list(map(lambda x: chemical_formulas[x], DS.sample_name.values)))})\n",
    "\n",
    "DS"
   ]
  },
  {
   "cell_type": "markdown",
   "id": "54",
   "metadata": {
    "tags": []
   },
   "source": [
    "#### Generate optical constants dataset"
   ]
  },
  {
   "cell_type": "code",
   "execution_count": null,
   "id": "55",
   "metadata": {
    "tags": []
   },
   "outputs": [],
   "source": [
    "# Calculate optical constants via kkcalc\n",
    "# Also calculate vacuum contrast\n",
    "nexafs_type = 'tey'\n",
    "\n",
    "x_min = 525\n",
    "x_max = 555\n",
    "\n",
    "n_list = []\n",
    "for sample_name in tqdm(DS.sample_name.values):\n",
    "    nf_DA = DS[f'full_corr_{nexafs_type}'].sel(sample_name=sample_name)\n",
    "    chemical_formula = str(nf_DA.chemical_formula.values)\n",
    "    n = nf.run_kkcalc_a(nf_DA, x_min=x_min, x_max=x_max, chemical_formula=chemical_formula, density=1.1)\n",
    "    n = n.expand_dims({'sample_name':[sample_name]})\n",
    "    n_list.append(n)\n",
    "    \n",
    "n_DS = xr.concat(n_list, dim='sample_name')\n",
    "n_DS = n_DS.swap_dims({'cos_sq_theta':'theta'})\n",
    "n_DS['vacuum_contrast'] = binary_contrast(n_DS)\n",
    "n_DS"
   ]
  },
  {
   "cell_type": "markdown",
   "id": "56",
   "metadata": {},
   "source": [
    "#### Plot optical constants and vacuum contrasts"
   ]
  },
  {
   "cell_type": "code",
   "execution_count": null,
   "id": "57",
   "metadata": {
    "tags": []
   },
   "outputs": [],
   "source": [
    "# Plot optical constants and vacuum contrast for each sample \n",
    "\n",
    "# Set energy bounds and theta\n",
    "nexafs_type = 'tey'\n",
    "energy_min = 520\n",
    "energy_max = 560\n",
    "energy_slice = slice(energy_min, energy_max) # carbon\n",
    "theta = 55\n",
    "# theta = 90\n",
    "\n",
    "# Plotting loop\n",
    "for sample_name in tqdm(n_DS.sample_name.values):\n",
    "    fig, axs = plt.subplots(ncols=2, figsize=(12,4), tight_layout=True)\n",
    "    fig.suptitle(f'{sample_name}: magic angle optical constants & vacuum contrast from transmission NEXAFS', fontsize=14, x=0.53)\n",
    "    n_DS['delta'].sel(sample_name=sample_name, theta=theta, energy=energy_slice).plot.line(ax=axs[0], label=r'$\\delta$')\n",
    "    n_DS['beta'].sel(sample_name=sample_name, theta=theta, energy=energy_slice).plot.line(ax=axs[0], label=r'$\\beta$')\n",
    "    n_DS['vacuum_contrast'].sel(sample_name=sample_name, theta=theta, energy=energy_slice).plot.line(ax=axs[1], yscale='log')\n",
    "    axs[0].legend()\n",
    "    axs[0].set(title=r'Optical Constants, $\\theta = 55°$', xlabel='X-ray energy [eV]', ylabel='Optical Constants Value [arb. units]')\n",
    "    axs[1].set(title=r'Vacuum Binary Contrast, $\\theta = 55°$', xlabel='X-ray energy [eV]', ylabel='Contrast [arb. units]')\n",
    "    fig.savefig(outPath.joinpath(f'nexafs_plots/{nexafs_type}_oxygen_magic_constants', f'{sample_name}_energy{energy_min}-{energy_max}.png'), dpi=120)\n",
    "    plt.show()\n",
    "    plt.close('all')"
   ]
  },
  {
   "cell_type": "markdown",
   "id": "58",
   "metadata": {},
   "source": [
    "#### Plot binary contrasts"
   ]
  },
  {
   "cell_type": "code",
   "execution_count": null,
   "id": "59",
   "metadata": {
    "tags": []
   },
   "outputs": [],
   "source": [
    "# Define sample_name pairs to plot binary contrast for\n",
    "# pairs = [\n",
    "#     ('PM6_3000_dSiN_R', 'Y6_3000_dSiN_R'),\n",
    "#     ('PM6_3000_dSiN_R', 'Y6_2000_dSiN_R'),    \n",
    "#     ('PM6_3000_dSiN_R', 'Y7_3000_dSiN_R'),    \n",
    "#     ('PM6_3000_dSiN_R', 'Y7_2000_dSiN_R'),    \n",
    "#     ('PM7_3000_dSiN_R', 'Y6_3000_dSiN_R'),\n",
    "#     ('PM7_3000_dSiN_R', 'Y6_2000_dSiN_R'),    \n",
    "#     ('PM7_3000_dSiN_R', 'Y7_3000_dSiN_R'),    \n",
    "#     ('PM7_3000_dSiN_R', 'Y7_2000_dSiN_R') \n",
    "# ]\n",
    "\n",
    "pairs = [\n",
    "    ('PM6_Si', 'Y6_Si'),\n",
    "    ('PM6_Si', 'Y7_Si'),    \n",
    "    ('PM7_Si', 'Y6_Si'),\n",
    "    ('PM7_Si', 'Y7_Si'),    \n",
    "]\n",
    "\n",
    "# Set energy bounds and select theta\n",
    "nexafs_type = 'tey_oxygen'\n",
    "energy_min = 525\n",
    "energy_max = 555\n",
    "energy_slice = slice(energy_min, energy_max)\n",
    "theta = 55\n",
    "\n",
    "# Plotting loop\n",
    "for pair in tqdm(pairs):\n",
    "    fig, ax = plt.subplots(figsize=(7,4), dpi=120, tight_layout=True)\n",
    "    (binary_contrast(n_DS.sel(sample_name=pair[0]), n_DS.sel(sample_name=pair[1]))\n",
    "     .sel(theta=theta, energy=energy_slice)\n",
    "     .plot.line(ax=ax, yscale='log'))\n",
    "    ax.set(title=f'Magic angle binary contrast: {pair[0]}:{pair[1]}', ylabel='Contrast [arb. units]', xlabel='X-ray energy [eV]')\n",
    "    plt.show()\n",
    "    fig.savefig(outPath.joinpath(f'nexafs_plots/{nexafs_type}_magic_binary_contrasts', f'{pair[0]}-{pair[1]}_energy{energy_min}-{energy_max}.png'), dpi=120)\n",
    "    plt.close('all')"
   ]
  },
  {
   "cell_type": "markdown",
   "id": "60",
   "metadata": {},
   "source": [
    "This dielectric function, pretty though it is, still isn't sufficient even to describe the unaxial function of the measured NEXAFS. That is because the extraordinary part of the dielectric function could only be measured by the NEXAFS measurement at $\\theta=0$°. There is no experimental geometry that allows $\\theta=0$°, so it must be extrapolated.\n",
    "\n",
    "Intensity should be linear with $cos^2\\theta$, so we will fit the nexafs xarray to it. The below xr.polyfit function creates a linear fit function <em>at every energy</em> in the nexafs curve."
   ]
  },
  {
   "cell_type": "markdown",
   "id": "61",
   "metadata": {
    "tags": []
   },
   "source": [
    "# Other code:"
   ]
  },
  {
   "cell_type": "code",
   "execution_count": null,
   "id": "62",
   "metadata": {},
   "outputs": [],
   "source": [
    "# # Peter D's kkcalc function for numpy arrays:\n",
    "# from kkcalc import data\n",
    "# from kkcalc import kk\n",
    "# import numpy as np\n",
    "\n",
    "# def calculate_deltabeta(spectra_e, spectra_abs, chemform, density):\n",
    "#     # Parse chemical formula and calculate formula mass\n",
    "#     stoichiometry = kk.data.ParseChemicalFormula(chemform)\n",
    "#     formula_mass = data.calculate_FormulaMass(stoichiometry)\n",
    "\n",
    "#     # Calculate Atomic Scattering Factors from Henke Database\n",
    "#     ASF_E, ASF_Data = kk.data.calculate_asf(stoichiometry)\n",
    "#     ASF_Data2 = kk.data.coeffs_to_ASF(ASF_E, np.vstack((ASF_Data, ASF_Data[-1])))\n",
    "\n",
    "#     # Merge Henke data with NEXAFS\n",
    "#     merged = data.merge_spectra(np.column_stack((spectra_e, spectra_abs)), ASF_E, ASF_Data, merge_points=(270,340), add_background=False, fix_distortions=False, plotting_extras=True)\n",
    "\n",
    "#     # Calculate relativistic correction\n",
    "#     correction = kk.calc_relativistic_correction(stoichiometry)\n",
    "\n",
    "#     # Calculate real component of ASF from merged data\n",
    "#     real = kk.KK_PP(merged[2][:,0], merged[0], merged[1], correction)\n",
    "\n",
    "    \n",
    "#     # Conversion to delta and beta\n",
    "#     delta = data.convert_data(np.column_stack((merged[2][:,0],real)),'ASF','refractive_index', Density=density, Formula_Mass=formula_mass)\n",
    "#     beta = data.convert_data(merged[2],'ASF','refractive_index', Density=density, Formula_Mass=formula_mass)\n",
    "    \n",
    "#     return delta, beta"
   ]
  },
  {
   "cell_type": "code",
   "execution_count": null,
   "id": "63",
   "metadata": {
    "tags": []
   },
   "outputs": [],
   "source": [
    "# nexafs_fit = nexafs.electron_yield.polyfit('cos_sq_θ', 1)\n",
    "# new_θ = np.array([0, 30, 40, 55, 70, 90])\n",
    "# new_cos_sq_θ = (np.cos(new_θ*np.pi/180))**2\n",
    "# nexafs_ep = nf.evaluate_nexafs_fit(nexafs, nexafs_fit, new_cos_sq_θ, new_θ)"
   ]
  },
  {
   "cell_type": "markdown",
   "id": "64",
   "metadata": {},
   "source": [
    "Now that we have a fit at every energy, we'd like to evaluate it. The current xarray implementation of xr.polyval is 'clunky,' to put it mildly.<br>\n",
    "This function wraps the polyval evaluation and returns a clean nexafs dataset with appropriate metadata. This may be updated or replaced for future versions of xarray.<br>\n",
    "<ul>nexafs is the original nexafs dataset<br>\n",
    "nexafs_fit is returned from the polyfit as above<br>\n",
    "new_cos_sq_θ is an array-like argument of cos_sq_θ values where you want the fit to be evaluated<br>\n",
    "new_θ is an array-like argument of θ values to assign to those results<br></ul>"
   ]
  },
  {
   "cell_type": "code",
   "execution_count": null,
   "id": "65",
   "metadata": {
    "tags": []
   },
   "outputs": [],
   "source": [
    "# fig, ax1 = plt.subplots(figsize=(8,4))\n",
    "# #the xarray way of plotting\n",
    "# colors = plt.cm.plasma(np.linspace(0,1,nexafs_ep.θ.size))\n",
    "# colors2 = plt.cm.winter(np.linspace(0,1,nexafs.θ.size))\n",
    "# for i, cos_sq_θ in enumerate(nexafs_ep.cos_sq_θ): \n",
    "#     nexafs_ep.electron_yield.sel(cos_sq_θ=cos_sq_θ).plot(color = colors[i], lw = 2, label = f'extrapolated {nexafs_ep.θ[i].values}°')\n",
    "# for i, cos_sq_θ in enumerate(nexafs.cos_sq_θ): \n",
    "#     nexafs.electron_yield.sel(cos_sq_θ=cos_sq_θ).plot(color = colors2[i], lw = 1, label = f'original {nexafs.θ[i].values}°')\n",
    "# plt.title(nexafs.description)\n",
    "# ax1.set_xlim(280,315)\n",
    "# ax1.legend(loc='lower right')\n",
    "# # plt.savefig(exportPath.joinpath(f'{nexafs_ep.name}_nexafs_theta_extrap.svg'))\n",
    "# plt.show()"
   ]
  },
  {
   "cell_type": "markdown",
   "id": "66",
   "metadata": {},
   "source": [
    "Note that the extrapolated 90° is very close by the original 90° (this is good. it should be identical), and the extrapolated 0° has a somewhat higher pi* than the original 20°\n",
    "\n",
    "The extrapolated NEXAFS can be the basis of a uniaxial dielectric function that represents material at the voxel level that is oriented the same as the material in the film.\n",
    "\n",
    "Note that extrapolation in this manner is mathematically identical to applying a weighted difference spectrum to calculate the expectation at θ=0°. In fact it is superior because difference spectra are typically between two different θ, whereas this linear extrapolation uses all the θ information. We will exploit this sameness more later when extrapolating to the molecular frame. "
   ]
  },
  {
   "cell_type": "code",
   "execution_count": null,
   "id": "67",
   "metadata": {
    "tags": []
   },
   "outputs": [],
   "source": [
    "# #formula should be correct for Y6. density is a guess.\n",
    "# n_ep = nf.run_kkcalc_a(nexafs_ep, x_min = 280, x_max = 340, chemical_formula = 'C82H86F4N8O2S5', density = 1.1)\n",
    "# nf.show_diel(280, 315, n_ep)"
   ]
  },
  {
   "cell_type": "code",
   "execution_count": null,
   "id": "68",
   "metadata": {
    "tags": []
   },
   "outputs": [],
   "source": [
    "# #save data to a txt file in a format that could be imported into CyRSoXS\n",
    "# #note that 0° is extraordinary and 90° is ordinary as those are the θ values where the measurement only perceives one or the other.\n",
    "# # the order of the columns is thus the order described below\n",
    "# np.savetxt('y6_extrap.txt',  np.c_[\n",
    "#     n_ep.energy, \n",
    "#     n_ep.δ.sel(cos_sq_θ=1, method = 'nearest').values, #extraordinary, para\n",
    "#     n_ep.β.sel(cos_sq_θ=1, method = 'nearest').values, #extraordinary, para\n",
    "#     n_ep.δ.sel(cos_sq_θ=0, method = 'nearest').values, #ordinary, perp\n",
    "#     n_ep.β.sel(cos_sq_θ=0, method = 'nearest').values]) #ordinary, perp"
   ]
  },
  {
   "cell_type": "markdown",
   "id": "69",
   "metadata": {
    "jp-MarkdownHeadingCollapsed": true,
    "tags": []
   },
   "source": [
    "## Extrapolating to a \"molecular\" dielectric function.\n",
    "But there is more we can do. The molecules at the voxel level may not be limited to the orientation extremes measured on a whole-film basis. The whole film represents an ensemble and is likely never similar to what an individual molecule or voxel is capable of unless it is sigle crystal like highly oriented pyrolytic graphite (HOPG). To develop a \"molecular\" dielectric function, we must manipulate the NEXAFS beyond what was measured. \n",
    "\n",
    "This manipulation requires making an assumption about how one or more resonances should behave with energy; implicit in this assumption is typically an assumption about the conformation of the molecule.\n",
    "\n",
    "For this exercise we will assume that the molecule Y6 has a rigid and planar conjugated structure, such that the pi* resonances should follow Stohr 9.16a for $\\alpha=0$°\n"
   ]
  },
  {
   "cell_type": "markdown",
   "id": "70",
   "metadata": {},
   "source": [
    "The function below develops a mean squared error for the area between e_min and e_max for a specific extrapolation of the nexafs curves, and a target area. The target area will be developed from our knowledge of how I should vary with $\\alpha$ and $\\theta$ described above.<br>\n",
    "Note there is an additional contributor to mse below: if the extrapolation produces negative values for absorbance it imposes a stiff penalty because such values are unphysical."
   ]
  },
  {
   "cell_type": "code",
   "execution_count": null,
   "id": "71",
   "metadata": {
    "tags": []
   },
   "outputs": [],
   "source": [
    "def mse(cos_sq_θ, e_min, e_max, nexafs, nexafs_fit, targ):\n",
    "    #compose new extrapolated nexafs based on proposed cos_sq_θ \n",
    "    nexafs_new = nf.evaluate_nexafs_fit(nexafs, nexafs_fit, [cos_sq_θ[0]], [0])\n",
    "    #evaluate the difference in area between the extrapolated nexafs and the taget targ\n",
    "    mse = (nf.int_area(e_min, e_max, nexafs_new)-targ)**2\n",
    "    minval = nexafs_new.sel(energy = slice(e_min,e_max)).electron_yield.min().values\n",
    "    if minval < 0: #impose penalty for negative absorbance values\n",
    "        mse = 1E10*mse*(-minval)\n",
    "    return mse"
   ]
  },
  {
   "cell_type": "markdown",
   "id": "72",
   "metadata": {},
   "source": [
    "For our first fit, we will attempt to make the pi* manifold absorbance zero; this would correspond to $\\alpha=0, \\theta=90$°"
   ]
  },
  {
   "cell_type": "code",
   "execution_count": null,
   "id": "73",
   "metadata": {
    "tags": []
   },
   "outputs": [],
   "source": [
    "#these are integration bounds; we will extrapolate to \"perfect\" values of integrated intensity within these bounds\n",
    "#which bound you choose will adjust the result slightly.\n",
    "e_min = 283\n",
    "e_max = 287\n",
    "res = optimize.differential_evolution(mse, [(-1, 1)], args = (e_min, e_max, nexafs, nexafs_fit, 0), tol=1e-6)\n",
    "cos_sq_θ_mol_o = float(res.x)"
   ]
  },
  {
   "cell_type": "markdown",
   "id": "74",
   "metadata": {},
   "source": [
    "For the next fit, we will attempt to make the pi* manifold maximized to correspond to $\\alpha=0, \\theta=0$°.<br> For a perfectly oriented $\\alpha = 0$° molecule, the target would be exactly 3x the magic intensity. But our fit prefers some small amount of intensity so that absorbance doesn't go below zero. We will instead determine our target using the math above:<br><br>\n",
    "$\\displaystyle\\frac{I(90) - I(54.7)}{I(0) - I(54.7)} = \\frac{\\frac{1}{3}[1+(3cos^2\\alpha-1)]-\\frac{1}{3}}{\\frac{1}{3}[1-\\frac{1}{2}(3cos^2\\alpha-1)] - \\frac{1}{3}} =-2$\n"
   ]
  },
  {
   "cell_type": "code",
   "execution_count": null,
   "id": "75",
   "metadata": {
    "tags": []
   },
   "outputs": [],
   "source": [
    "magic_int = nf.int_area(e_min, e_max, nf.evaluate_nexafs_fit(nexafs, nexafs_fit, [0.329], [0]))\n",
    "ord_int = nf.int_area(e_min, e_max, nf.evaluate_nexafs_fit(nexafs, nexafs_fit, [cos_sq_θ_mol_o], [0]))\n",
    "e_targ = magic_int + 2*(magic_int-ord_int)\n",
    "#For perfectly face on, the extraordinary intensity should be exactly 3x magic intensity\n",
    "res = optimize.minimize(mse, 1, method='Nelder-Mead', args = (e_min, e_max, nexafs, nexafs_fit, e_targ), tol=1e-6)\n",
    "cos_sq_θ_mol_e = float(res.x)"
   ]
  },
  {
   "cell_type": "code",
   "execution_count": null,
   "id": "76",
   "metadata": {
    "tags": []
   },
   "outputs": [],
   "source": [
    "mol_fits = [cos_sq_θ_mol_e, cos_sq_θ_mol_o]"
   ]
  },
  {
   "cell_type": "code",
   "execution_count": null,
   "id": "77",
   "metadata": {
    "tags": []
   },
   "outputs": [],
   "source": [
    "nexafs_mol = nf.evaluate_nexafs_fit(nexafs, nexafs_fit, mol_fits, [0, 90])"
   ]
  },
  {
   "cell_type": "code",
   "execution_count": null,
   "id": "78",
   "metadata": {
    "tags": []
   },
   "outputs": [],
   "source": [
    "nf.show_nexafs(280,315, nexafs_mol, exportPath, save=False, savename=f'{sample}_nexafs_alpha_theta_extrap.svg')"
   ]
  },
  {
   "cell_type": "markdown",
   "id": "79",
   "metadata": {},
   "source": [
    "The NEXAFS looks fairly reasonable with this extrapolation.<br><br>Calculate dielectric functions next:"
   ]
  },
  {
   "cell_type": "code",
   "execution_count": null,
   "id": "80",
   "metadata": {
    "tags": []
   },
   "outputs": [],
   "source": [
    "n_mol = nf.run_kkcalc_a(nexafs_mol, x_min = 281, x_max = 340, chemical_formula = PM6_formula, density = 1.1)"
   ]
  },
  {
   "cell_type": "code",
   "execution_count": null,
   "id": "81",
   "metadata": {
    "tags": []
   },
   "outputs": [],
   "source": [
    "nf.show_diel(280, 315, n_mol, save=True, savepath=optsPath)"
   ]
  },
  {
   "cell_type": "markdown",
   "id": "82",
   "metadata": {},
   "source": [
    "This is the dielectric function extrapolated to \"perfect\" molecular orientation."
   ]
  },
  {
   "cell_type": "code",
   "execution_count": null,
   "id": "83",
   "metadata": {
    "tags": []
   },
   "outputs": [],
   "source": [
    "#save data to a txt file in a format that could be imported into CyRSoXS\n",
    "#note that 0° is extraordinary and 90° is ordinary as those are the θ values where the measurement only perceives one or the other.\n",
    "# the order of the columns is thus the order described below\n",
    "np.savetxt(optsPath.joinpath(f'{sample}_molecular.txt'),  np.c_[\n",
    "    n_mol.energy, \n",
    "    n_mol.δ.sel(cos_sq_θ=cos_sq_θ_mol_e, method = 'nearest').values, #extraordinary, para\n",
    "    n_mol.β.sel(cos_sq_θ=cos_sq_θ_mol_e, method = 'nearest').values, #extraordinary, para\n",
    "    n_mol.δ.sel(cos_sq_θ=cos_sq_θ_mol_o, method = 'nearest').values, #ordinary, perp\n",
    "    n_mol.β.sel(cos_sq_θ=cos_sq_θ_mol_o, method = 'nearest').values]) #ordinary, perp"
   ]
  },
  {
   "cell_type": "markdown",
   "id": "84",
   "metadata": {},
   "source": [
    "## Contrast: vacuum contrast vs. oriented manifold\n",
    "\n",
    "Because the Y6 dielectric function is anisotropic, there is not a single vacuum contrast but rather a series of contrasts depending on the mixing of the ordinary and extraordinary dielectric function elements. Otherwise the calculation is identical to the calculation discussed in Part 1."
   ]
  },
  {
   "cell_type": "code",
   "execution_count": null,
   "id": "85",
   "metadata": {},
   "outputs": [],
   "source": [
    "n_DS.sel(theta=55, energy=slice(280,295))['delta'].plot.line(label=r'$\\delta$')\n",
    "n_DS.sel(theta=55, energy=slice(280,295))['beta'].plot.line(label=r'$\\beta$')\n",
    "plt.legend()\n",
    "plt.show()"
   ]
  },
  {
   "cell_type": "code",
   "execution_count": null,
   "id": "86",
   "metadata": {},
   "outputs": [],
   "source": [
    "binary_contrast(n_DS).sel(theta=55, energy=slice(280,295)).plot.line(yscale='log')"
   ]
  },
  {
   "cell_type": "code",
   "execution_count": null,
   "id": "87",
   "metadata": {
    "tags": []
   },
   "outputs": [],
   "source": [
    "#this wrapper function is the same as described in Part 1\n",
    "#this will accept and return xarrays\n",
    "def binary_contrast(n1, n2=None):\n",
    "    if n2 is None:\n",
    "        #second component is vacuum\n",
    "        n2 = xr.zeros_like(n1)\n",
    "    else:\n",
    "        #second is interpolated to match the energy array of the first component.  \n",
    "        n2 = n2.interp(energy=n1.energy)\n",
    "    return n1.energy**4 * ((n1.delta-n2.delta)**2 + (n1.beta-n2.beta)**2)"
   ]
  },
  {
   "cell_type": "code",
   "execution_count": null,
   "id": "88",
   "metadata": {
    "tags": []
   },
   "outputs": [],
   "source": [
    "#develop a finely-divided list of extrapolation values between the limits we fitted to above\n",
    "cos_sq_0_spread = np.linspace(cos_sq_θ_mol_e, cos_sq_θ_mol_o, 50)\n",
    "#extrapolate across this finely-divided list of extrapolation values\n",
    "nexafs_mol_spread = nf.evaluate_nexafs_fit(nexafs, nexafs_fit, cos_sq_0_spread, cos_sq_0_spread)\n",
    "#run kkcalc on each of the extrapolated functions\n",
    "y6_mol_spread = nf.run_kkcalc_a(nexafs_mol_spread, x_min = 280, x_max = 315, chemical_formula = 'C82H86F4N8O2S5', density = 1.1)\n",
    "#calculate binary contrast for the ensemble. Note that xarray will automatically broadcast across cos_sq_0 without prompting\n",
    "n_mol_vac_c = binary_contrast(y6_mol_spread)"
   ]
  },
  {
   "cell_type": "code",
   "execution_count": null,
   "id": "89",
   "metadata": {
    "tags": []
   },
   "outputs": [],
   "source": [
    "#plot the contrasts\n",
    "xmin = 270\n",
    "xmax = 320\n",
    "fig, (ax1, ax2) = plt.subplots(nrows=2, ncols=1, figsize=(8,8))\n",
    "#xarray way of adding to a plot\n",
    "colors = plt.cm.plasma(np.linspace(0,0.9,n_mol_vac_c.θ.size))\n",
    "for i, cos_sq_θ in enumerate(n_mol_vac_c.cos_sq_θ): \n",
    "    n_mol_vac_c.sel(cos_sq_θ=cos_sq_θ).plot(color = colors[i], lw = 3, ax=ax1)\n",
    "ax1.set_xlim(xmin, xmax)\n",
    "ax1.set_title(f'{sample} contrast with vacuum')\n",
    "ymin = n_mol_vac_c.sel(energy=slice(xmin,xmax)).min()\n",
    "ymax = n_mol_vac_c.sel(energy=slice(xmin,xmax)).max()\n",
    "ax1.set_ylim(ymin*0.75,ymax*1.2)\n",
    "ax1.set_yscale('log')\n",
    "ax1.set_ylabel('contrast')\n",
    "\n",
    "# plt.title(f'{sample} contrast with vacuum')\n",
    "\n",
    "# plt.savefig(f'{sample}_vacuum_contrast.svg')\n",
    "\n",
    "\n",
    "# cb = mpl.colorbar.ColorbarBase(ax2, cmap=plt.cm.plasma)\n",
    "\n",
    "\n",
    "\n",
    "plt.show()\n",
    "# plt.close()"
   ]
  },
  {
   "cell_type": "markdown",
   "id": "90",
   "metadata": {},
   "source": [
    "This envelope properly describes the possibilities for vacuum contrast with Y6.\n",
    "## NEXAFS and anisotropic dielectric function for PM6\n",
    "Repeat the process for PM6:"
   ]
  },
  {
   "cell_type": "code",
   "execution_count": null,
   "id": "91",
   "metadata": {},
   "outputs": [],
   "source": [
    "# pey= np.loadtxt(exportPath.joinpath('PM6_normed_nexafs.txt')).T\n",
    "\n",
    "# # wrap in an xarray\n",
    "# # we have a different array of angles here than for Y6\n",
    "\n",
    "# θ_val = np.array([30, 40, 55, 70, 90])\n",
    "\n",
    "# nexafs = xr.Dataset(\n",
    "#     data_vars=dict(\n",
    "#     electron_yield=(['cos_sq_θ', 'energy'], pey[1:])),\n",
    "#     coords={'cos_sq_θ': np.cos(θ_val*np.pi/180)**2, 'θ': ('cos_sq_θ', θ_val), 'energy' : pey[0]},\n",
    "#     attrs=dict(description='PM6 NEXAFS'),\n",
    "# )\n",
    "# nexafs.energy.attrs['unit'] = 'eV'\n",
    "# nexafs['electron_yield'].attrs['unit'] = 'a.u.'\n",
    "# nexafs['θ'].attrs['unit'] = '°'"
   ]
  },
  {
   "cell_type": "code",
   "execution_count": null,
   "id": "92",
   "metadata": {},
   "outputs": [],
   "source": [
    "sample = 'PM6'\n",
    "nexafs = load_nexafs(exportPath.joinpath(f'{sample}_normed_nexafs.txt'), np.array([30,40,55,70,90]))"
   ]
  },
  {
   "cell_type": "code",
   "execution_count": null,
   "id": "93",
   "metadata": {},
   "outputs": [],
   "source": [
    "show_nexafs(280, 315, nexafs)"
   ]
  },
  {
   "cell_type": "markdown",
   "id": "94",
   "metadata": {},
   "source": [
    "It is only subtly oriented. We can fit as before:"
   ]
  },
  {
   "cell_type": "code",
   "execution_count": null,
   "id": "95",
   "metadata": {},
   "outputs": [],
   "source": [
    "show_nexafs(284, 286, nexafs)"
   ]
  },
  {
   "cell_type": "code",
   "execution_count": null,
   "id": "96",
   "metadata": {},
   "outputs": [],
   "source": [
    "e_min = 284\n",
    "e_max = 286\n",
    "pi_peak_areas =  int_area(e_min, e_max, nexafs)\n",
    "θ_list = θ_val\n",
    "\n",
    "bnds= [(0,90),(0,10)]\n",
    "res = optimize.differential_evolution(mse_line, bounds=bnds, args = (pi_peak_areas,θ_list) ,tol=1e-6)\n",
    "print(res.x)"
   ]
  },
  {
   "cell_type": "markdown",
   "id": "97",
   "metadata": {},
   "source": [
    "We find that there is a subtle \"edge on\" orientation with $\\alpha=58.1$°<br>\n",
    "We can run the same linear fit at each energy:"
   ]
  },
  {
   "cell_type": "code",
   "execution_count": null,
   "id": "98",
   "metadata": {},
   "outputs": [],
   "source": [
    "nexafs_fit = nexafs.electron_yield.polyfit('cos_sq_θ', 1)"
   ]
  },
  {
   "cell_type": "markdown",
   "id": "99",
   "metadata": {},
   "source": [
    "We now must choose extrapolation targets. The consideration is different this time because this PM6 is preferentially edge on. It is not correct to \"flip\" a measured NEXAFS from edge to face because it is not possible to separate the 2 contributors to the ordinary axis. So we will extrapolate this NEXAFS to \"perfect\" edge on behavior. Thus for the extraordinary axis, we would expect zero pi* intensity:  "
   ]
  },
  {
   "cell_type": "code",
   "execution_count": null,
   "id": "100",
   "metadata": {},
   "outputs": [],
   "source": [
    "#these are integration bounds; we will extrapolate to \"perfect\" values of integrated intensity within these bounds\n",
    "#which bound you choose will adjust the result slightly.\n",
    "e_min = 284\n",
    "e_max = 286\n",
    "res = optimize.differential_evolution(mse, [(-5, 5)], args = (e_min, e_max, nexafs, nexafs_fit, 0), tol=1e-6)\n",
    "cos_sq_θ_mol_e = float(res.x)"
   ]
  },
  {
   "cell_type": "markdown",
   "id": "101",
   "metadata": {},
   "source": [
    "The ordinary axis intensity is once again guided by our distance relationship between magic and the extremes. In this case the difference is halved rather than doubled because we started with extraordinary rather than ordinary."
   ]
  },
  {
   "cell_type": "code",
   "execution_count": null,
   "id": "102",
   "metadata": {},
   "outputs": [],
   "source": [
    "#For perfectly face on, the extraordinary intensity should be exactly 3x magic intensity\n",
    "magic_int = int_area(e_min, e_max, evaluate_nexafs_fit(nexafs, nexafs_fit, [0.329], [0]))\n",
    "extra_int = int_area(e_min, e_max, evaluate_nexafs_fit(nexafs, nexafs_fit, [cos_sq_θ_mol_e], [0]))\n",
    "\n",
    "e_targ = magic_int + 0.5*(magic_int-ord_int)\n",
    "res = optimize.minimize(mse, 1, method='Nelder-Mead', args = (e_min, e_max, nexafs, nexafs_fit, e_targ), tol=1e-6)\n",
    "cos_sq_θ_mol_o = float(res.x)"
   ]
  },
  {
   "cell_type": "code",
   "execution_count": null,
   "id": "103",
   "metadata": {},
   "outputs": [],
   "source": [
    "mol_fits = [cos_sq_θ_mol_e, cos_sq_θ_mol_o]"
   ]
  },
  {
   "cell_type": "code",
   "execution_count": null,
   "id": "104",
   "metadata": {},
   "outputs": [],
   "source": [
    "nexafs_mol = evaluate_nexafs_fit(nexafs, nexafs_fit, mol_fits, [0, 90])"
   ]
  },
  {
   "cell_type": "code",
   "execution_count": null,
   "id": "105",
   "metadata": {},
   "outputs": [],
   "source": [
    "show_nexafs(280,315, nexafs_mol, save=True, savename=f'{sample}_alpha_theta_extrap.svg')"
   ]
  },
  {
   "cell_type": "markdown",
   "id": "106",
   "metadata": {},
   "source": [
    "This also looks fairly reasonable! If we want a face-on dielectic function for PM6, it would be best to attempt to cast a film having this orientation and measure it.<br><br>\n",
    "We can evaluate and save the PM6 edge-on dielectric function as follows:"
   ]
  },
  {
   "cell_type": "code",
   "execution_count": null,
   "id": "107",
   "metadata": {},
   "outputs": [],
   "source": [
    "#formula should be correct for Y6. density is a guess.\n",
    "n_mol = run_kkcalc_a(nexafs_mol, x_min = 280, x_max = 315, chemical_formula = 'C68H76F2O2S8', density = 1.1)"
   ]
  },
  {
   "cell_type": "code",
   "execution_count": null,
   "id": "108",
   "metadata": {},
   "outputs": [],
   "source": [
    "show_diel(280, 315, n_mol, save=True)"
   ]
  },
  {
   "cell_type": "code",
   "execution_count": null,
   "id": "109",
   "metadata": {},
   "outputs": [],
   "source": [
    "#save data to a txt file in a format that could be imported into CyRSoXS\n",
    "#note that 0° is extraordinary and 90° is ordinary as those are the θ values where the measurement only perceives one or the other.\n",
    "# the order of the columns is thus the order described below\n",
    "np.savetxt('pm6_molecular.txt',  np.c_[\n",
    "    n_ep.energy, \n",
    "    n_ep.δ.sel(cos_sq_θ=cos_sq_θ_mol_e, method = 'nearest').values, #extraordinary, para\n",
    "    n_ep.β.sel(cos_sq_θ=cos_sq_θ_mol_e, method = 'nearest').values, #extraordinary, para\n",
    "    n_ep.δ.sel(cos_sq_θ=cos_sq_θ_mol_o, method = 'nearest').values, #ordinary, perp\n",
    "    n_ep.β.sel(cos_sq_θ=cos_sq_θ_mol_o, method = 'nearest').values]) #ordinary, perp"
   ]
  },
  {
   "cell_type": "markdown",
   "id": "110",
   "metadata": {},
   "source": [
    "Just as before, run extrapolation finely divided within fit extremes. "
   ]
  },
  {
   "cell_type": "code",
   "execution_count": null,
   "id": "111",
   "metadata": {},
   "outputs": [],
   "source": [
    "cos_sq_0_spread = np.linspace(cos_sq_θ_mol_e, cos_sq_θ_mol_o, 50)\n",
    "pm6_mol_spread = evaluate_nexafs_fit(nexafs, nexafs_fit, cos_sq_0_spread, cos_sq_0_spread)\n",
    "#guessing on PM6 density\n",
    "pm6_mol_spread = run_kkcalc_a(pm6_mol_spread, x_min = 280, x_max = 315, chemical_formula = 'C68H76F2O2S8', density = 1.1)\n",
    "#calculate binary contrast for the ensemble. Note that xarray will automatically broadcast across cos_sq_0 without prompting\n",
    "n_mol_vac_c = binary_contrast(pm6_mol_spread)"
   ]
  },
  {
   "cell_type": "markdown",
   "id": "112",
   "metadata": {},
   "source": [
    "This time, the contrast is <em>combinatorial</em> across the extrapolated values. In other words, any orientation of Y6 may scatter versus any orientation of PM6. We calculate the combintorial contrast below: "
   ]
  },
  {
   "cell_type": "code",
   "execution_count": null,
   "id": "113",
   "metadata": {
    "tags": []
   },
   "outputs": [],
   "source": [
    "#plot the contrasts\n",
    "xmin = 270\n",
    "xmax = 320\n",
    "fig, ax1 = plt.subplots(figsize=(8,4))\n",
    "#xarray way of adding to a plot\n",
    "colors = plt.cm.plasma(np.linspace(0,0.9,n_mol_vac_c.θ.size))\n",
    "for i, cos_sq_θ in enumerate(n_mol_vac_c.cos_sq_θ): \n",
    "    n_mol_vac_c.sel(cos_sq_θ=cos_sq_θ).plot(color = colors[i], lw = 3)\n",
    "ax1.set_xlim(xmin, xmax)\n",
    "ymin = n_mol_vac_c.sel(energy=slice(xmin,xmax)).min()\n",
    "ymax = n_mol_vac_c.sel(energy=slice(xmin,xmax)).max()\n",
    "ax1.set_ylim(ymin*0.75,ymax*1.2)\n",
    "ax1.set_yscale('log')\n",
    "ax1.set_ylabel('contrast')\n",
    "plt.title(f'{sample} contrast with vacuum')\n",
    "plt.savefig(f'{sample}_vacuum_contrast.svg')\n",
    "plt.show()\n",
    "plt.close()"
   ]
  },
  {
   "cell_type": "code",
   "execution_count": null,
   "id": "114",
   "metadata": {
    "tags": []
   },
   "outputs": [],
   "source": [
    "n_mol_c = []\n",
    "for cos_sq_θ in y6_mol_spread.cos_sq_θ:\n",
    "    n_mol_c.append(binary_contrast(y6_mol_spread.sel(cos_sq_θ=cos_sq_θ, method = 'nearest').drop('cos_sq_θ'), pm6_mol_spread))\n",
    "n_mol_c = xr.concat(n_mol_c, 'cos_sq_θ_y6')"
   ]
  },
  {
   "cell_type": "code",
   "execution_count": null,
   "id": "115",
   "metadata": {},
   "outputs": [],
   "source": [
    "#this code finds the max and min of the combinatorial contrast at each energy.\n",
    "c_max = n_mol_c.max('cos_sq_θ_y6')\n",
    "c_max = c_max.max('cos_sq_θ')\n",
    "c_min = n_mol_c.min('cos_sq_θ_y6')\n",
    "c_min = c_min.min('cos_sq_θ')\n",
    "c_magic = n_mol_c.sel(cos_sq_θ_y6=33).sel(cos_sq_θ=0.3333, method = 'nearest')"
   ]
  },
  {
   "cell_type": "code",
   "execution_count": null,
   "id": "116",
   "metadata": {},
   "outputs": [],
   "source": [
    "fig, ax1 = plt.subplots()\n",
    "#xarray way of adding to a plot\n",
    "# colors = plt.cm.plasma(np.linspace(0,1,n_mol_vac_c.θ.size))\n",
    "c_max.plot(color = 'xkcd:pale aqua', lw = 3,label = 'max contrast in orientation envelope')\n",
    "c_min.plot(color = 'navy', lw = 3, label = 'min contrast in orientation envelope')\n",
    "c_magic.plot(color='yellow', lw = 3, label = 'magic angle (composition) contrast')\n",
    "ax1.fill_between(c_max.energy.values, c_max.values, c_min.values, color = 'xkcd:royal')\n",
    "ax1.set_xlim(xmin, xmax)\n",
    "ymax = c_max.max()\n",
    "ax1.set_ylim(10,ymax*1.2)\n",
    "ax1.set_yscale('log')\n",
    "ax1.set_ylabel('contrast')\n",
    "plt.title('Y6 contrast with PM6')\n",
    "plt.legend()\n",
    "plt.show()"
   ]
  },
  {
   "cell_type": "markdown",
   "id": "117",
   "metadata": {},
   "source": [
    "The combinatorial contrast is a function of both Y6 orientation and PM6 orientation. The variation with PM6 orientation is shown on the figure below. The variation with Y6 orientation is handled via slider."
   ]
  },
  {
   "cell_type": "code",
   "execution_count": null,
   "id": "118",
   "metadata": {
    "tags": []
   },
   "outputs": [],
   "source": [
    "from ipywidgets import interact, widgets, Layout\n",
    "\n",
    "def f(y6_diel):\n",
    "    fig, ax1 = plt.subplots()\n",
    "    #xarray way of adding to a plot\n",
    "    colors = plt.cm.plasma(np.linspace(0,1,n_mol_vac_c.θ.size))\n",
    "    for j, cos_sq_θ in enumerate(n_mol_c.cos_sq_θ):\n",
    "        n_mol_c.sel(cos_sq_θ_y6=y6_diel).sel(cos_sq_θ=cos_sq_θ).plot(color = colors[j], lw = 3)\n",
    "    ax1.set_xlim(xmin, xmax)\n",
    "    ymin = n_mol_c.sel(energy=slice(xmin,xmax)).min()\n",
    "    ymax = n_mol_c.sel(energy=slice(xmin,xmax)).max()\n",
    "    ax1.set_ylim(10,ymax*1.2)\n",
    "    ax1.set_yscale('log')\n",
    "    ax1.set_ylabel('contrast')\n",
    "    plt.title('Y6 contrast with PM6')\n",
    "    fig.canvas.draw()\n",
    "\n",
    "interact(f, y6_diel=widgets.SelectionSlider(options=n_mol_c.cos_sq_θ_y6,value=n_mol_c.cos_sq_θ_y6.values[0],  layout=Layout(width='40%')))"
   ]
  },
  {
   "cell_type": "markdown",
   "id": "119",
   "metadata": {},
   "source": [
    "What does this mean?\n",
    "\n",
    "The two different representations above define the binary scattering contrasts that are <em>possible</em> in this PM6:Y6 blend, if we don't consider vacuum scattering. It's even broader if we do consider vacuum scattering! Any number of these traces, in any weighted combination, could contribute to the total scattering intensity (TSI) or \"scattering invariant\" that you measure in a PM6:Y6 system experimentally. \n",
    "\n",
    "A key takeaway is that it is essentially impossible to choose an energy at which the TSI will be dominated by <em>composition</em> with no orientation effects. This conclusion tends to be ignored in the analysis that is routinely done in OPV systems as measure of \"relative phase purity.\" Going forward, it is important for the community to understand that orientation effects are likely present in these measurements, and there very likely scenarios where they <em>dominate</em> the response. Rather than being a \"bad thing\" for the technique, this conclusion emphasizes its unique sensitivity to molecular orientation. \n",
    "\n",
    "Frameworks to disentangle orientation effects from composition effects are under development. One demonstrated approach is to model data using the NIST RSoXS Simulation Suite:\n",
    "https://github.com/usnistgov/nrss\n",
    "\n",
    "...creating models that have both composition and orientation fluctuations and fitting those models to RSoXS data at several energies.\n"
   ]
  }
 ],
 "metadata": {
  "kernelspec": {
   "display_name": "Python 3 (current)",
   "language": "python",
   "name": "python3"
  },
  "language_info": {
   "codemirror_mode": {
    "name": "ipython",
    "version": 3
   },
   "file_extension": ".py",
   "mimetype": "text/x-python",
   "name": "python",
   "nbconvert_exporter": "python",
   "pygments_lexer": "ipython3",
   "version": "3.11.6"
  }
 },
 "nbformat": 4,
 "nbformat_minor": 5
}
