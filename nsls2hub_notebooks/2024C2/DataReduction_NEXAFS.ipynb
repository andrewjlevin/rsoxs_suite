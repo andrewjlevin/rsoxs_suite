{
 "cells": [
  {
   "cell_type": "markdown",
   "id": "a945becc-c3ee-4ec5-ab4c-19f2f59b9a65",
   "metadata": {
    "id": "a945becc-c3ee-4ec5-ab4c-19f2f59b9a65"
   },
   "source": [
    "Run standard imports"
   ]
  },
  {
   "cell_type": "code",
   "execution_count": null,
   "id": "f4c752ab-b27a-4afd-a5dc-dbfe7d645952",
   "metadata": {
    "colab": {
     "base_uri": "https://localhost:8080/"
    },
    "id": "f4c752ab-b27a-4afd-a5dc-dbfe7d645952",
    "outputId": "d2d321c5-edd3-4387-9342-727d6a03fd3d"
   },
   "outputs": [],
   "source": [
    "%reload_ext autoreload\n",
    "%autoreload 2\n",
    "\n",
    "## Data storage and manipulation\n",
    "import numpy as np\n",
    "import pandas as pd\n",
    "import xarray as xr ## !pip install xarray==2022.3\n",
    "import math\n",
    "import copy\n",
    "import datetime\n",
    "!pip install Bottleneck\n",
    "import bottleneck\n",
    "\n",
    "## Plotting\n",
    "import matplotlib.pyplot as plt\n",
    "import matplotlib\n",
    "from matplotlib.colors import LogNorm\n",
    "from matplotlib.pyplot import cm\n",
    "\n",
    "import os"
   ]
  },
  {
   "cell_type": "markdown",
   "id": "8f5bbdf9-c52f-4295-ba25-935f73c4939c",
   "metadata": {
    "id": "8f5bbdf9-c52f-4295-ba25-935f73c4939c"
   },
   "source": [
    "Import PyHyperScattering"
   ]
  },
  {
   "cell_type": "code",
   "execution_count": null,
   "id": "360d3a08-963d-4b27-9b60-17a609f945a0",
   "metadata": {
    "colab": {
     "base_uri": "https://localhost:8080/"
    },
    "id": "360d3a08-963d-4b27-9b60-17a609f945a0",
    "outputId": "22a0da5c-e134-453f-cd81-5aa7152ffa3e",
    "tags": []
   },
   "outputs": [],
   "source": [
    "!pip install PyHyperScattering\n",
    "!pip install --upgrade pyhyperscattering[bluesky]\n",
    "import PyHyperScattering as phs\n",
    "from PyHyperScattering import __version__\n",
    "print(f'USING PYHYPER VERSION: {__version__}')"
   ]
  },
  {
   "cell_type": "markdown",
   "id": "272c0da9-8e82-4f64-8d5e-2d6b222f747b",
   "metadata": {
    "id": "272c0da9-8e82-4f64-8d5e-2d6b222f747b"
   },
   "source": [
    "Run this if accessing BNL data. If accessing from local machine, enter BNL credentials and 2-factor authentication when prompted."
   ]
  },
  {
   "cell_type": "code",
   "execution_count": null,
   "id": "3d7ce4ed-11bc-45a6-8f3a-14e4f2f88472",
   "metadata": {
    "colab": {
     "base_uri": "https://localhost:8080/"
    },
    "id": "3d7ce4ed-11bc-45a6-8f3a-14e4f2f88472",
    "outputId": "f5ba1fd3-1d73-441b-c831-0218918b3fd8"
   },
   "outputs": [],
   "source": [
    "!pip install \"tiled[client]\"\n",
    "!pip install --pre --upgrade tiled databroker\n",
    "!pip install starlette ## Needed for tiled client\n",
    "import tiled\n",
    "from tiled.client import from_uri, from_profile\n",
    "\n",
    "#Catalog = tiled.client.from_profile(\"rsoxs\") ## From NSLS II Jupyterhub\n",
    "Catalog = from_uri(\"https://tiled.nsls2.bnl.gov\", username=\"pketkar\")[\"rsoxs\"][\"raw\"] ## From local machine\n",
    "#Catalog = phs.load.SST1RSoXSDB(corr_mode='none').c ## Using PyHyperScattering locally or on jupyterhyb\n",
    "Catalog"
   ]
  },
  {
   "cell_type": "markdown",
   "id": "ae5f02d4-286a-4848-aed1-9c358bcf68fb",
   "metadata": {
    "id": "ae5f02d4-286a-4848-aed1-9c358bcf68fb",
    "tags": []
   },
   "source": [
    "## NEXAFS analysis"
   ]
  },
  {
   "cell_type": "markdown",
   "id": "025cdf62-0ded-40c0-8461-5b1cf8826a87",
   "metadata": {
    "id": "025cdf62-0ded-40c0-8461-5b1cf8826a87"
   },
   "source": [
    "### Load summary of scans\n",
    "\n",
    "Narrow down search parameters as needed to find the desired scan from RSoXS chamber."
   ]
  },
  {
   "cell_type": "code",
   "execution_count": null,
   "id": "bc893f17-954a-4dcb-b6de-cef36c337415",
   "metadata": {
    "colab": {
     "base_uri": "https://localhost:8080/",
     "height": 1000,
     "referenced_widgets": [
      "ad701c2bd1b94bf999c1033fb4433b0b",
      "053f45eb72d047b0895a6d6142127efe",
      "c9e8e6325e3d437c91fbe09d33be8c5a",
      "1fac964c5df64dc4a35468af4ef7de5d",
      "4116aa1c05d54f2cbaa46c678ae795f7",
      "dd83ea29da4044c29c312087bfdce103",
      "2b13a4c21030438da5a809dbaa809b77",
      "8dc80940ae7b47209709682fd2d907b6",
      "9aefa531c5e04998ba590a6df1fc6ab9",
      "eaecbc58a9864d99952072237e477718",
      "9861ab9dc0bf493dac01cfb744b4995d",
      "144b62ff196040558ba68de922a574b5",
      "4498d9df40b1436b8c2d24cb174e2c3b",
      "46792591aea24b9082e40be4495c6a3d",
      "2b4dc7f1dc26429cbe3f538086f87036",
      "76274bf4fdb145b186cdf89be5c1b138",
      "f2a1d8e8eddb4671b5f99e5b56307cfe",
      "2a10848cc641472b96ad8e6c3854f403",
      "ba5de7755d2248d3b697b40be3aca0cc",
      "dfef4bf9f4dd44ffab3b69153dc60f10",
      "2c47638174364a5cb1323ba2184267e1",
      "ae7923cbb5a043e58e5737e8f56757cd"
     ]
    },
    "id": "bc893f17-954a-4dcb-b6de-cef36c337415",
    "outputId": "c3113674-dc69-4934-94d5-630c4d25d6b4"
   },
   "outputs": [],
   "source": [
    "Loader = phs.load.SST1RSoXSDB(corr_mode='none')\n",
    "FilteredList = Loader.searchCatalog(cycle=\"2024-1\", proposal_id =\"314142\", sample_id=\"PK_B61\", plan=\"nexafs_carbon\")\n",
    "FilteredList"
   ]
  },
  {
   "cell_type": "markdown",
   "id": "4d5346d7-a8ef-41e2-b5df-d25af540da2a",
   "metadata": {
    "id": "4d5346d7-a8ef-41e2-b5df-d25af540da2a",
    "tags": []
   },
   "source": [
    "### Choose the scan to analyze\n",
    "\n",
    "Can look at what datastreams are available for the scan and what the values are in each datastream."
   ]
  },
  {
   "cell_type": "code",
   "execution_count": null,
   "id": "3ba68997-1173-49bb-af16-b49498b5596a",
   "metadata": {
    "colab": {
     "base_uri": "https://localhost:8080/",
     "height": 283
    },
    "id": "3ba68997-1173-49bb-af16-b49498b5596a",
    "outputId": "4a7f7fe9-89fe-4957-ff01-cf5ac98a7797",
    "tags": []
   },
   "outputs": [],
   "source": [
    "#Manual\n",
    "ScanID = 83545\n",
    "\n",
    "\n",
    "## Automated\n",
    "Scan_Raw = Catalog[ScanID]\n",
    "print(list(Scan_Raw.keys())) ## Prints out datastreams available in this scan\n",
    "Scan_Raw[\"WAXS Beamstop_monitor\"].data.read() ## Expands what is in a particular datastream"
   ]
  },
  {
   "cell_type": "markdown",
   "id": "07e3fc44-a97b-4552-b7f2-bd429223053d",
   "metadata": {
    "id": "07e3fc44-a97b-4552-b7f2-bd429223053d"
   },
   "source": [
    "### Gather the desired datastreams into a single xarray\n",
    "\n",
    "- Datastreams with \"monitor\" will be gathered and used for further calculations.\n",
    "    - Monitors constantly collect data throughout the scans\n",
    "    - Different datastreams are asynchronous, so interpolation is needed to perform calculations across multiple different datastreams.\n",
    "- The \"primary\" stream is intended to be synchronous, but there is some delay between when a command to collect signal is sent and when the nearest signal is recorded.  The density of data is less than what is available in the \"monitor\" streams.\n",
    "- The \"baseline\" stream gives the positions of slits, mirrors, etc.\n",
    "- Running Scan_Raw.start would give a large list of metadata for this sample and scan."
   ]
  },
  {
   "cell_type": "code",
   "execution_count": null,
   "id": "172916b6-f5b1-47a4-b861-a901c2790c67",
   "metadata": {
    "colab": {
     "base_uri": "https://localhost:8080/",
     "height": 414
    },
    "id": "172916b6-f5b1-47a4-b861-a901c2790c67",
    "outputId": "48a4cdee-219d-407d-c773-8156bb487dfd",
    "tags": []
   },
   "outputs": [],
   "source": [
    "def GatherDataStreams_SingleRun(ScanID):\n",
    "    Scan_Raw = Catalog[int(ScanID)] ## Get scan from tiled\n",
    "    Scan_Xarray = None\n",
    "    for StreamName in list(Scan_Raw.keys()): ## Loop through all datastreams and get the appropriate ones into the xarray\n",
    "        if \"monitor\" in StreamName:\n",
    "            if Scan_Xarray is None:  ## This is the first datastream in the scan that has \"monitor\" in the name\n",
    "                Scan_Xarray = Scan_Raw[StreamName].data.read() ## This is the first bit of data that establishes the Xarray\n",
    "            else:  ## This is for the remaining datastreams that contain \"monitor\" in the name\n",
    "                Scan_Xarray = xr.merge((Scan_Xarray, Scan_Raw[StreamName].data.read())) ## The remaining streams get merged into a single Xarray\n",
    "    for VariableName in (list(Scan_Xarray.data_vars.keys()) + list(Scan_Xarray.coords.keys())): ## Renames datastreams to a common set of names so that data across differnet beam times can be compared (if monitor names changed over time)\n",
    "        if (\"energy\" or \"en_monoen_readback\") in VariableName: Scan_Xarray = Scan_Xarray.rename_vars({VariableName: \"Energy\"})\n",
    "        if \"Au Mesh\" in VariableName: Scan_Xarray = Scan_Xarray.rename_vars({VariableName: \"I0\"})\n",
    "        if \"Sample Current\" in VariableName: Scan_Xarray = Scan_Xarray.rename_vars({VariableName: \"SampleCurrent\"})\n",
    "        if \"WAXS Beamstop\" in VariableName: Scan_Xarray = Scan_Xarray.rename_vars({VariableName: \"Diode\"})\n",
    "    Scan_Xarray = Scan_Xarray.interpolate_na(\"time\").ffill(\"time\").bfill(\"time\") ## The above xarray had a lot of nans, so first, we interpolate to fill in any missing values.  This is linear interpolation by default, but we could specify something else if needed.  Then if any values at the end are missing and there's nothing after to interpolate, ffill forward fills the closed preceeding non-nan value.  Same deal with bfill for any nans near the beginning.\n",
    "    ## Can append metadata if desired\n",
    "    Scan_Xarray = Scan_Xarray.swap_dims({\"time\": \"Energy\"})  ## Necessary for merging multiple scans into single xarray, but not for just plotting single scan.\n",
    "    Scan_Xarray = Scan_Xarray.groupby(\"Energy\").first() ## Removes time coordinate.  Helpful for merging data from different scans, but omit if I want to plot data vs. time.\n",
    "    return Scan_Xarray\n",
    "Scan = GatherDataStreams_SingleRun(ScanID)\n",
    "\n",
    "Scan"
   ]
  },
  {
   "cell_type": "markdown",
   "id": "349dbfe4-c557-4102-901e-dcf494bbaade",
   "metadata": {
    "id": "349dbfe4-c557-4102-901e-dcf494bbaade"
   },
   "source": [
    "### Double-normalize the data using a good calibration scan\n",
    "\n",
    "Tips for choosing a good calibration scan:\n",
    "- Close in time to the sample scan\n",
    "- Use blank SiN scan (same substrate, thickness, etc. as what is used for the sample) to calibrate transmission NEXAFS and open beam scan to calibrate TEY NEXAFS\n",
    "- I0 and pre-edge Diode signals should be close in magnitude to the corresponding datastreams in the sample scan\n",
    "- Resonant and post-edge Diode signal in the calibration scan should be larger than the diode signal in the sample scan.  Also, post-edge calibration signal should be roughly parallel to the post-edge sample signal."
   ]
  },
  {
   "cell_type": "code",
   "execution_count": null,
   "id": "4ab92e42-4a79-461d-884c-1d3e0a21033d",
   "metadata": {
    "colab": {
     "base_uri": "https://localhost:8080/",
     "height": 332
    },
    "id": "4ab92e42-4a79-461d-884c-1d3e0a21033d",
    "outputId": "e459431c-1ef9-4ce9-ed7e-8fd78ab05e55",
    "tags": []
   },
   "outputs": [],
   "source": [
    "## Manual\n",
    "ScanID_Calibration = 83544\n",
    "\n",
    "\n",
    "\n",
    "## Automated\n",
    "Calibration = GatherDataStreams_SingleRun(ScanID_Calibration)\n",
    "Calibration_ToMerge = xr.Dataset(data_vars={\"I0_Calibration\": (\"Energy\", np.interp(np.array(Scan[\"Energy\"]), np.array(Calibration[\"Energy\"]), np.array(Calibration[\"I0\"]))),\n",
    "                                           \"Diode_Calibration\": (\"Energy\", np.interp(np.array(Scan[\"Energy\"]), np.array(Calibration[\"Energy\"]), np.array(Calibration[\"Diode\"])))},\n",
    "                                 coords={\"Energy\": np.array(Scan[\"Energy\"])})\n",
    "Scan = xr.merge((Scan, Calibration_ToMerge))\n",
    "Scan = Scan.update({\"Diode_DoubleNormalized\": (Scan[\"Diode\"]/Scan[\"I0\"])*(Scan[\"I0_Calibration\"]/Scan[\"Diode_Calibration\"])})\n",
    "\n",
    "\n",
    "## Plotting\n",
    "NumRows, NumColumns = 1, 3;\n",
    "fig, axs = plt.subplots(NumRows, NumColumns, figsize=(NumColumns*3.25, NumRows*3.25), edgecolor=(0, 0, 0, 0), linewidth=3)\n",
    "PlotColor = (0, 0, 0, 1)\n",
    "PlotColor_Calibration = (0.5, 0.5, 0.5, 1)\n",
    "axs[0].errorbar(Scan[\"Energy\"], Scan[\"I0_Calibration\"], yerr=0, label=\"Calibration\", capsize=0, marker=\".\", markersize=0, color=PlotColor_Calibration, linestyle=\"solid\")\n",
    "axs[0].errorbar(Scan[\"Energy\"], Scan[\"I0\"], yerr=0, label=\"Sample\", capsize=0, marker=\".\", markersize=0, color=PlotColor, linestyle=\"solid\", linewidth=2)\n",
    "axs[0].set_ylabel(\"RSoXS Au Mesh Current\", color=(0, 0, 0, 1), size=12)\n",
    "axs[1].errorbar(Scan[\"Energy\"], Scan[\"Diode_Calibration\"], yerr=0, label=\"Calibration\", capsize=0, marker=\".\", markersize=0, color=PlotColor_Calibration, linestyle=\"solid\")\n",
    "axs[1].errorbar(Scan[\"Energy\"], Scan[\"Diode\"], yerr=0, label=\"Sample\", capsize=0, marker=\".\", markersize=0, color=PlotColor, linestyle=\"solid\", linewidth=2)\n",
    "axs[1].set_ylabel(\"WAXS Beamstop\", color=(0, 0, 0, 1), size=12)\n",
    "axs[2].errorbar(Scan[\"Energy\"], Scan[\"Diode_DoubleNormalized\"], yerr=0, label=\"Sample\", capsize=0, marker=\".\", markersize=0, color=PlotColor, linestyle=\"solid\", linewidth=2)\n",
    "axs[2].set_ylabel(\"Double-normalized sample diode\", color=(0, 0, 0, 1), size=12)\n",
    "\n",
    "## Plot Formatting\n",
    "for Index_PlotRows in np.arange(0, NumRows, 1):\n",
    "    for Index_Plotcolumns in np.arange(0, NumColumns, 1):\n",
    "        if NumRows==1: PlotRow = axs;\n",
    "        if NumRows>1: PlotRow = axs[Index_PlotRows];\n",
    "        ax = PlotRow[Index_Plotcolumns]\n",
    "        ax.set_xlabel(\"Energy (eV)\", color=(0, 0, 0, 1), size=12)\n",
    "        ax.set_xscale(\"linear\")\n",
    "        ax.set_yscale(\"linear\")\n",
    "        ax.set_ylim(bottom=0, top=None, auto=True)\n",
    "        ax.spines['top'].set_linewidth(2) ## axes/border linewidths\n",
    "        ax.spines['bottom'].set_linewidth(2)\n",
    "        ax.spines['left'].set_linewidth(2)\n",
    "        ax.spines['right'].set_linewidth(2)\n",
    "        ax.spines['top'].set_color((0, 0, 0, 1)) ## axes/border colors\n",
    "        ax.spines['bottom'].set_color((0, 0, 0, 1))\n",
    "        ax.spines['left'].set_color((0, 0, 0, 1))\n",
    "        ax.spines['right'].set_color((0, 0, 0, 1))\n",
    "        ax.tick_params(axis=\"x\",colors=(0, 0, 0, 1), width=2)\n",
    "        ax.tick_params(axis=\"y\",colors=(0, 0, 0, 1), width=2)\n",
    "        ax.legend(edgecolor=(1, 1, 1, 1))\n",
    "plt.tight_layout() ## This ensures that subplots don't overlap\n"
   ]
  },
  {
   "cell_type": "markdown",
   "id": "2b1fd466-e590-42a9-a98f-112078a33801",
   "metadata": {
    "id": "2b1fd466-e590-42a9-a98f-112078a33801",
    "tags": []
   },
   "source": [
    "### Perform pre- and post-edge normalization"
   ]
  },
  {
   "cell_type": "code",
   "execution_count": null,
   "id": "f6ac57f1-6d53-488c-a249-f7f3bd0bcaeb",
   "metadata": {
    "colab": {
     "base_uri": "https://localhost:8080/",
     "height": 378
    },
    "id": "f6ac57f1-6d53-488c-a249-f7f3bd0bcaeb",
    "outputId": "3760eb19-ccb0-4a0e-dedf-f6618e4c1d41",
    "tags": []
   },
   "outputs": [],
   "source": [
    "## Manual\n",
    "EnergyStart_PreEdge = 270\n",
    "EnergyEnd_PreEdge = 280\n",
    "EnergyStart_PostEdge = 340\n",
    "EnergyEnd_PostEdge = 350\n",
    "FilmThickness = 33.0\n",
    "\n",
    "\n",
    "\n",
    "\n",
    "## Automated\n",
    "Scan = Scan.update({\"Absorbance\": np.log(1/Scan[\"Diode_DoubleNormalized\"])})\n",
    "PreEdge = Scan[\"Absorbance\"].sel(Energy=slice(EnergyStart_PreEdge, EnergyEnd_PreEdge))\n",
    "SlopeIntercept = np.polyfit(PreEdge[\"Energy\"], PreEdge, 1) ## Linear regression, ## TODO: have option for bare atom exponential baseline\n",
    "Scan = Scan.update({\"Baseline_PreEdge\": SlopeIntercept[0]*Scan[\"Energy\"] + SlopeIntercept[1]})\n",
    "Scan = Scan.update({\"Signal_PreEdgeNormalized\": Scan[\"Absorbance\"] - Scan[\"Baseline_PreEdge\"]})\n",
    "PostEdge = Scan[\"Signal_PreEdgeNormalized\"].sel(Energy=slice(EnergyStart_PostEdge, EnergyEnd_PostEdge))\n",
    "Scan = Scan.update({\"Signal_PostEdgeNormalized\": Scan[\"Signal_PreEdgeNormalized\"]/PostEdge.mean()})\n",
    "Scan = Scan.update({\"MuRho\": Scan[\"Signal_PreEdgeNormalized\"]/((1e-9)*FilmThickness)}) ## Pre-edge-normalized reference spectrum for compositional (volume fraction) fitting\n",
    "\n",
    "## Plotting\n",
    "PlotLabel = \"\"\n",
    "NumRows, NumColumns = 1, 3;\n",
    "fig, axs = plt.subplots(NumRows, NumColumns, figsize=(NumColumns*3.25, NumRows*3.25), edgecolor=(0, 0, 0, 0), linewidth=3)\n",
    "axs[0].errorbar(Scan[\"Energy\"], Scan[\"Absorbance\"], yerr=0, label=PlotLabel, capsize=0, marker=\".\", markersize=0, color=PlotColor, linestyle=\"solid\", linewidth=2)\n",
    "axs[0].errorbar(Scan[\"Energy\"], Scan[\"Baseline_PreEdge\"], yerr=0, label=PlotLabel, capsize=0, marker=\".\", markersize=0, color=PlotColor, linestyle=\"dotted\", linewidth=2)\n",
    "axs[0].axvline(PreEdge[\"Energy\"].isel(Energy=0), color=PlotColor, linestyle=\"dashed\")\n",
    "axs[0].axvline(PreEdge[\"Energy\"].isel(Energy=-1), color=PlotColor, linestyle=\"dashed\")\n",
    "axs[0].set_ylabel(\"Absorbance\", color=(0, 0, 0, 1), size=12)\n",
    "axs[1].errorbar(Scan[\"Energy\"], Scan[\"Signal_PreEdgeNormalized\"], yerr=0, label=PlotLabel, capsize=0, marker=\".\", markersize=0, color=PlotColor, linestyle=\"solid\", linewidth=2)\n",
    "axs[1].axvline(PostEdge[\"Energy\"].isel(Energy=0), color=PlotColor, linestyle=\"dashed\")\n",
    "axs[1].axvline(PostEdge[\"Energy\"].isel(Energy=-1), color=PlotColor, linestyle=\"dashed\")\n",
    "axs[1].set_ylabel(\"Pre-edge-normalized signal\", color=(0, 0, 0, 1), size=12)\n",
    "axs[2].errorbar(Scan[\"Energy\"], Scan[\"Signal_PostEdgeNormalized\"], yerr=0, label=PlotLabel, capsize=0, marker=\".\", markersize=0, color=PlotColor, linestyle=\"solid\", linewidth=2)\n",
    "axs[2].set_ylabel(\"Post-edge-normalized signal\", color=(0, 0, 0, 1), size=12)\n",
    "\n",
    "## Plot Formatting\n",
    "for Index_PlotRows in np.arange(0, NumRows, 1):\n",
    "    for Index_Plotcolumns in np.arange(0, NumColumns, 1):\n",
    "        if NumRows==1: PlotRow = axs;\n",
    "        if NumRows>1: PlotRow = axs[Index_PlotRows];\n",
    "        ax = PlotRow[Index_Plotcolumns]\n",
    "        ax.set_xlabel(\"Energy (eV)\", color=(0, 0, 0, 1), size=12)\n",
    "        ax.set_xscale(\"linear\")\n",
    "        ax.set_yscale(\"linear\")\n",
    "        #ax.set_ylim(bottom=0, top=None, auto=True)\n",
    "        ax.spines['top'].set_linewidth(2) ## axes/border linewidths\n",
    "        ax.spines['bottom'].set_linewidth(2)\n",
    "        ax.spines['left'].set_linewidth(2)\n",
    "        ax.spines['right'].set_linewidth(2)\n",
    "        ax.spines['top'].set_color((0, 0, 0, 1)) ## axes/border colors\n",
    "        ax.spines['bottom'].set_color((0, 0, 0, 1))\n",
    "        ax.spines['left'].set_color((0, 0, 0, 1))\n",
    "        ax.spines['right'].set_color((0, 0, 0, 1))\n",
    "        ax.tick_params(axis=\"x\",colors=(0, 0, 0, 1), width=2)\n",
    "        ax.tick_params(axis=\"y\",colors=(0, 0, 0, 1), width=2)\n",
    "        ax.legend(edgecolor=(1, 1, 1, 1))\n",
    "plt.tight_layout() ## This ensures that subplots don't overlap\n",
    "\n"
   ]
  },
  {
   "cell_type": "markdown",
   "id": "b76cb6bc-6b5d-4b02-995c-d55f1ffecdf4",
   "metadata": {
    "id": "b76cb6bc-6b5d-4b02-995c-d55f1ffecdf4",
    "tags": []
   },
   "source": [
    "### Export to Excel, if desired"
   ]
  },
  {
   "cell_type": "code",
   "execution_count": null,
   "id": "e055d41c-7f7d-4842-bc1c-f3aa993ebcf8",
   "metadata": {
    "id": "e055d41c-7f7d-4842-bc1c-f3aa993ebcf8"
   },
   "outputs": [],
   "source": [
    "FilePath = r\"/content/drive/Shareddrives/NISTPostdoc/CharacterizationData/BeamTime/20240326_SST1_MurphyBeaucage/DataAnalysis\"\n",
    "\n",
    "Scan_df = Scan.to_dataframe() ## Convert to pandas dataframe\n",
    "TimeStamp = datetime.datetime.now().strftime(\"%Y-%m-%d_%H-%M-%S\") ## Can add timestamp to avoid overwriting different versions of data reduction for the same sample\n",
    "SampleName = Catalog[int(ScanID)].start[\"sample_id\"]\n",
    "FileName = f\"{TimeStamp}_Scan{int(ScanID)}_{SampleName}.xlsx\"\n",
    "Scan_df.to_excel(os.path.join(FilePath, FileName)) ## Can add on other information from metadata as well, if desired"
   ]
  },
  {
   "cell_type": "markdown",
   "id": "966af044-e42b-40ae-bd37-a262282b36f5",
   "metadata": {
    "id": "966af044-e42b-40ae-bd37-a262282b36f5"
   },
   "source": [
    "### Plot summary of several datasets if needed"
   ]
  },
  {
   "cell_type": "code",
   "execution_count": null,
   "id": "9f9aee18-1244-4966-bb35-06c5826e6028",
   "metadata": {
    "colab": {
     "base_uri": "https://localhost:8080/",
     "height": 266
    },
    "id": "9f9aee18-1244-4966-bb35-06c5826e6028",
    "outputId": "52754db0-578e-4537-dfef-7dac31cffabf",
    "tags": []
   },
   "outputs": [],
   "source": [
    "## Manual\n",
    "FilePath = r\"/content/drive/Shareddrives/NISTPostdoc/CharacterizationData/BeamTime/20240326_SST1_MurphyBeaucage/DataAnalysis\"\n",
    "## Load reduced files\n",
    "FileNames = np.array([\"2024-04-18_16-40-26_Scan83545_PK_B61.xlsx\",\n",
    "                      \"2024-04-18_16-40-40_Scan83546_PK_B61_1.xlsx\",\n",
    "                      \"2024-04-18_16-40-55_Scan83547_PK_B61_2.xlsx\",\n",
    "                      \"2024-04-18_16-41-09_Scan83548_PK_B61_3.xlsx\",\n",
    "                      \"2024-04-18_16-41-25_Scan83549_PK_B61_4.xlsx\",\n",
    "                      \"2024-04-18_16-41-39_Scan83550_PK_B61_5.xlsx\",\n",
    "                      \"2024-04-18_16-41-52_Scan83551_PK_B61_6.xlsx\",\n",
    "                      \"2024-04-18_16-42-08_Scan83552_PK_B61_7.xlsx\",\n",
    "                      \"2024-04-18_16-42-21_Scan83553_PK_B61_8.xlsx\",\n",
    "                      \"2024-04-18_16-42-37_Scan83554_PK_B61_9.xlsx\",\n",
    "                      \"2024-04-18_16-42-50_Scan83555_PK_B61_10.xlsx\",\n",
    "                      \"2024-04-18_16-43-04_Scan83556_PK_B61_11.xlsx\",\n",
    "                      \"2024-04-18_16-43-19_Scan83557_PK_B61_12.xlsx\",\n",
    "                      \"2024-04-18_16-43-33_Scan83558_PK_B61_13.xlsx\",\n",
    "                      \"2024-04-18_16-43-46_Scan83559_PK_B61_14.xlsx\",\n",
    "                      \"2024-04-18_16-44-00_Scan83560_PK_B61_15.xlsx\",\n",
    "                      \"2024-04-18_16-45-25_Scan83566_PK_B61_21.xlsx\",\n",
    "                      \"2024-04-18_16-45-41_Scan83567_PK_B61_22.xlsx\",\n",
    "                      \"2024-04-18_16-45-54_Scan83568_PK_B61_23.xlsx\",\n",
    "                      \"2024-04-18_16-46-08_Scan83569_PK_B61_24.xlsx\",\n",
    "                      \"2024-04-18_16-46-21_Scan83570_PK_B61_25.xlsx\",\n",
    "                      \"2024-04-18_16-46-37_Scan83571_PK_B61_26.xlsx\",\n",
    "                      \"2024-04-18_16-46-51_Scan83572_PK_B61_27.xlsx\",\n",
    "                      \"2024-04-18_16-47-04_Scan83573_PK_B61_28.xlsx\",\n",
    "                      \"2024-04-18_16-47-17_Scan83574_PK_B61_29.xlsx\"])\n",
    "\n",
    "\n",
    "\n",
    "NumRows, NumColumns = 1, 6;\n",
    "fig, axs = plt.subplots(NumRows, NumColumns, figsize=(NumColumns*3.25, NumRows*3.25), edgecolor=(0, 0, 0, 0), linewidth=3)\n",
    "fig.suptitle((\"$w_{IL}$ = 0.61 transmission NEXAFS\"), color=(0, 0, 0, 1), size=12)\n",
    "PlotColors = cm.rainbow(np.linspace(1, 0, FileNames.size))\n",
    "for Index_PlotRows in np.arange(0, NumRows, 1):\n",
    "    for Index_FileNames in np.arange(0, FileNames.size, 1):\n",
    "        Scan_df = pd.read_excel(os.path.join(FilePath, FileNames[Index_FileNames]))\n",
    "        Scan = xr.Dataset.from_dataframe(Scan_df)\n",
    "\n",
    "        ## Plotting\n",
    "        PlotLabel = \"\"\n",
    "        PlotColor = PlotColors[Index_FileNames]\n",
    "        PlotColor_Calibration = (0, 0, 0, 1)\n",
    "        if NumRows==1: PlotRow = axs;\n",
    "        if NumRows>1: PlotRow = axs[Index_PlotRows];\n",
    "        ax = PlotRow[0]\n",
    "        ax.errorbar(Scan[\"Energy\"], Scan[\"I0_Calibration\"], yerr=0, label=PlotLabel, capsize=0, marker=\".\", markersize=0, color=PlotColor_Calibration, linestyle=\"solid\")\n",
    "        ax.errorbar(Scan[\"Energy\"], Scan[\"I0\"], yerr=0, label=PlotLabel, capsize=0, marker=\".\", markersize=0, color=PlotColor, linestyle=\"solid\", linewidth=2)\n",
    "        ax.set_ylabel(\"RSoXS Au Mesh Current\", color=(0, 0, 0, 1), size=12)\n",
    "        ax = PlotRow[1]\n",
    "        ax.errorbar(Scan[\"Energy\"], Scan[\"Diode_Calibration\"], yerr=0, label=PlotLabel, capsize=0, marker=\".\", markersize=0, color=PlotColor_Calibration, linestyle=\"solid\")\n",
    "        ax.errorbar(Scan[\"Energy\"], Scan[\"Diode\"], yerr=0, label=PlotLabel, capsize=0, marker=\".\", markersize=0, color=PlotColor, linestyle=\"solid\", linewidth=2)\n",
    "        ax.set_ylabel(\"WAXS Beamstop\", color=(0, 0, 0, 1), size=12)\n",
    "        ax = PlotRow[2]\n",
    "        ax.errorbar(Scan[\"Energy\"], Scan[\"Diode_DoubleNormalized\"], yerr=0, label=PlotLabel, capsize=0, marker=\".\", markersize=0, color=PlotColor, linestyle=\"solid\", linewidth=2)\n",
    "        ax.set_ylabel(\"Double-normalized sample diode\", color=(0, 0, 0, 1), size=12)\n",
    "        ax = PlotRow[3]\n",
    "        ax.errorbar(Scan[\"Energy\"], Scan[\"Absorbance\"], yerr=0, label=PlotLabel, capsize=0, marker=\".\", markersize=0, color=PlotColor, linestyle=\"solid\", linewidth=2)\n",
    "        ax.set_ylabel(\"Absorbance\", color=(0, 0, 0, 1), size=12)\n",
    "        ax = PlotRow[4]\n",
    "        ax.errorbar(Scan[\"Energy\"], Scan[\"Signal_PreEdgeNormalized\"], yerr=0, label=PlotLabel, capsize=0, marker=\".\", markersize=0, color=PlotColor, linestyle=\"solid\", linewidth=2)\n",
    "        ax.set_ylabel(\"Pre-edge-normalized signal\", color=(0, 0, 0, 1), size=12)\n",
    "        ax = PlotRow[5]\n",
    "        ax.errorbar(Scan[\"Energy\"], Scan[\"Signal_PostEdgeNormalized\"], yerr=0, label=PlotLabel, capsize=0, marker=\".\", markersize=0, color=PlotColor, linestyle=\"solid\", linewidth=2)\n",
    "        ax.set_ylabel(\"Post-edge-normalized signal\", color=(0, 0, 0, 1), size=12)\n",
    "\n",
    "\n",
    "## Plot Formatting\n",
    "for Index_PlotRows in np.arange(0, NumRows, 1):\n",
    "    for Index_Plotcolumns in np.arange(0, NumColumns, 1):\n",
    "        if NumRows==1: PlotRow = axs;\n",
    "        if NumRows>1: PlotRow = axs[Index_PlotRows];\n",
    "        ax = PlotRow[Index_Plotcolumns]\n",
    "        ax.set_xlabel(\"Energy (eV)\", color=(0, 0, 0, 1), size=12)\n",
    "        ax.set_xscale(\"linear\")\n",
    "        ax.set_yscale(\"linear\")\n",
    "        ax.set_ylim(bottom=0, top=None, auto=True)\n",
    "        ax.spines['top'].set_linewidth(2) ## axes/border linewidths\n",
    "        ax.spines['bottom'].set_linewidth(2)\n",
    "        ax.spines['left'].set_linewidth(2)\n",
    "        ax.spines['right'].set_linewidth(2)\n",
    "        ax.spines['top'].set_color((0, 0, 0, 1)) ## axes/border colors\n",
    "        ax.spines['bottom'].set_color((0, 0, 0, 1))\n",
    "        ax.spines['left'].set_color((0, 0, 0, 1))\n",
    "        ax.spines['right'].set_color((0, 0, 0, 1))\n",
    "        ax.tick_params(axis=\"x\",colors=(0, 0, 0, 1), width=2)\n",
    "        ax.tick_params(axis=\"y\",colors=(0, 0, 0, 1), width=2)\n",
    "plt.tight_layout() ## This ensures that subplots don't overlap\n",
    "\n",
    "\n",
    "\n"
   ]
  },
  {
   "cell_type": "markdown",
   "id": "beba4092-5ec7-47f8-8f59-6fe3533b1e0c",
   "metadata": {
    "id": "beba4092-5ec7-47f8-8f59-6fe3533b1e0c"
   },
   "source": [
    "### Peak fitting"
   ]
  },
  {
   "cell_type": "code",
   "execution_count": null,
   "id": "d65b21ac-71d2-447f-b63c-13b23c79ae45",
   "metadata": {
    "id": "d65b21ac-71d2-447f-b63c-13b23c79ae45"
   },
   "outputs": [],
   "source": [
    "## TODO: clean up older code and add here\n",
    "\n"
   ]
  },
  {
   "cell_type": "markdown",
   "id": "35620392-63c6-413e-a17c-bb9e9c090b11",
   "metadata": {
    "id": "35620392-63c6-413e-a17c-bb9e9c090b11"
   },
   "source": [
    "### Compositional fitting"
   ]
  },
  {
   "cell_type": "code",
   "execution_count": null,
   "id": "287a0219-d0f6-421b-bf1b-06fdc65a7d68",
   "metadata": {
    "id": "287a0219-d0f6-421b-bf1b-06fdc65a7d68"
   },
   "outputs": [],
   "source": [
    "## TODO: clean up older code and add here"
   ]
  },
  {
   "cell_type": "markdown",
   "id": "a3ed43cc-ccba-431b-8f9d-ec752a6f19d3",
   "metadata": {
    "id": "a3ed43cc-ccba-431b-8f9d-ec752a6f19d3"
   },
   "source": [
    "### kkcalc"
   ]
  },
  {
   "cell_type": "code",
   "execution_count": null,
   "id": "cae78798-99f5-4fa9-a70f-0d8c91f4629c",
   "metadata": {
    "id": "cae78798-99f5-4fa9-a70f-0d8c91f4629c"
   },
   "outputs": [],
   "source": [
    "## Use Dean's kkcalc notebook"
   ]
  },
  {
   "cell_type": "markdown",
   "id": "32f92ced-6697-419a-ba69-7c26b4a277bc",
   "metadata": {
    "id": "32f92ced-6697-419a-ba69-7c26b4a277bc"
   },
   "source": [
    "### Loop through multiple scans\n",
    "\n",
    "If multiple scans require similar processing, can loop through the interpolation of streams, double normalization, and pre-/post-edge normalization here."
   ]
  },
  {
   "cell_type": "code",
   "execution_count": null,
   "id": "c04ec01e-a26f-4b0a-a7fc-8d5ff45b3562",
   "metadata": {
    "colab": {
     "base_uri": "https://localhost:8080/",
     "height": 512
    },
    "id": "c04ec01e-a26f-4b0a-a7fc-8d5ff45b3562",
    "outputId": "e9bc2e6d-c80e-4629-d7d5-cead11b7c9cf"
   },
   "outputs": [],
   "source": [
    "## Manual\n",
    "Scans_ToAnalyze = xr.Dataset(data_vars = {\"ScanIDs\": ([\"Edges\", \"SpotNumbers\"], np.array([[83545, 83546], [83582, 83583]]))},\n",
    "                             coords = {\"Edges\": np.array([\"C\", \"O\"]),\n",
    "                                       \"SpotNumbers\": np.array([0, 1])},\n",
    "                             attrs = {\"FilmThickness\": 33.0})\n",
    "Scans_ToAnalyze = Scans_ToAnalyze.update({\"ScanIDs_Calibration\": ([\"Edges\", \"SpotNumbers\"], np.array([[83544, 83544], [83617, 83617]]))})\n",
    "Scans_ToAnalyze = Scans_ToAnalyze.update({\"EnergyStart_PreEdge\": ([\"Edges\", \"SpotNumbers\"], np.array([[270, 270], [505, 505]]))})\n",
    "Scans_ToAnalyze = Scans_ToAnalyze.update({\"EnergyEnd_PreEdge\": ([\"Edges\", \"SpotNumbers\"], np.array([[280, 280], [515, 515]]))})\n",
    "Scans_ToAnalyze = Scans_ToAnalyze.update({\"EnergyStart_PostEdge\": ([\"Edges\", \"SpotNumbers\"], np.array([[340, 340], [550, 550]]))})\n",
    "Scans_ToAnalyze = Scans_ToAnalyze.update({\"EnergyEnd_PostEdge\": ([\"Edges\", \"SpotNumbers\"], np.array([[350, 350], [560, 560]]))})\n",
    "\n",
    "SaveExcel = False ## Whether or not I want to save as an excel file\n",
    "\n",
    "\n",
    "## Automated\n",
    "def GatherDataStreams_SingleRun(ScanID):\n",
    "    Scan_Raw = Catalog[int(ScanID)]\n",
    "    Scan_Xarray = None\n",
    "    for StreamName in list(Scan_Raw.keys()):\n",
    "        if \"monitor\" in StreamName:\n",
    "            if Scan_Xarray is None:\n",
    "                Scan_Xarray = Scan_Raw[StreamName].data.read()\n",
    "            else:\n",
    "                Scan_Xarray = xr.merge((Scan_Xarray, Scan_Raw[StreamName].data.read()))\n",
    "    for VariableName in (list(Scan_Xarray.data_vars.keys()) + list(Scan_Xarray.coords.keys())):\n",
    "        if (\"energy\" or \"en_monoen_readback\") in VariableName: Scan_Xarray = Scan_Xarray.rename_vars({VariableName: \"Energy\"})\n",
    "        if \"Au Mesh\" in VariableName: Scan_Xarray = Scan_Xarray.rename_vars({VariableName: \"I0\"})\n",
    "        if \"Sample Current\" in VariableName: Scan_Xarray = Scan_Xarray.rename_vars({VariableName: \"SampleCurrent\"})\n",
    "        if \"WAXS Beamstop\" in VariableName: Scan_Xarray = Scan_Xarray.rename_vars({VariableName: \"Diode\"})\n",
    "    Scan_Xarray = Scan_Xarray.interpolate_na(\"time\").ffill(\"time\").bfill(\"time\")\n",
    "    Scan_Xarray = Scan_Xarray.swap_dims({\"time\": \"Energy\"})\n",
    "    Scan_Xarray = Scan_Xarray.groupby(\"Energy\").first()\n",
    "    return Scan_Xarray\n",
    "\n",
    "NumRows, NumColumns = Scans_ToAnalyze.coords[\"Edges\"].size, 6;\n",
    "fig, axs = plt.subplots(NumRows, NumColumns, figsize=(NumColumns*3.25, NumRows*3.25), edgecolor=(0, 0, 0, 0), linewidth=3)\n",
    "fig.suptitle((\"$w_{IL}$ = 0.61 transmission NEXAFS\"), color=(0, 0, 0, 1), size=12)\n",
    "for Index_PlotRows in np.arange(0, NumRows, 1):\n",
    "    PlotColors = cm.rainbow(np.linspace(1, 0, Scans_ToAnalyze.coords[\"SpotNumbers\"].size))\n",
    "    for Index_ScanIDs in np.arange(0, Scans_ToAnalyze.coords[\"SpotNumbers\"].size, 1):\n",
    "        ScanID = int(Scans_ToAnalyze[\"ScanIDs\"].isel(Edges=Index_PlotRows).isel(SpotNumbers=Index_ScanIDs).values)\n",
    "        ScanID_Calibration = int(Scans_ToAnalyze[\"ScanIDs_Calibration\"].isel(Edges=Index_PlotRows).isel(SpotNumbers=Index_ScanIDs).values)\n",
    "        EnergyStart_PreEdge = Scans_ToAnalyze[\"EnergyStart_PreEdge\"].isel(Edges=Index_PlotRows).isel(SpotNumbers=Index_ScanIDs).values\n",
    "        EnergyEnd_PreEdge = Scans_ToAnalyze[\"EnergyEnd_PreEdge\"].isel(Edges=Index_PlotRows).isel(SpotNumbers=Index_ScanIDs).values\n",
    "        EnergyStart_PostEdge = Scans_ToAnalyze[\"EnergyStart_PostEdge\"].isel(Edges=Index_PlotRows).isel(SpotNumbers=Index_ScanIDs).values\n",
    "        EnergyEnd_PostEdge = Scans_ToAnalyze[\"EnergyEnd_PostEdge\"].isel(Edges=Index_PlotRows).isel(SpotNumbers=Index_ScanIDs).values\n",
    "        FilmThickness = Scans_ToAnalyze.attrs[\"FilmThickness\"]\n",
    "\n",
    "        ## Calculations: open the scan, get desired datastreams into one xarray, and gather new calculations into this xarray\n",
    "        Scan = GatherDataStreams_SingleRun(ScanID)\n",
    "        Calibration = GatherDataStreams_SingleRun(ScanID_Calibration) ## Make separate xarray for calibrations\n",
    "        ## Rename calibration xarray variables and then merge them into scan.\n",
    "        Calibration_ToMerge = xr.Dataset(data_vars={\"I0_Calibration\": (\"Energy\", np.interp(np.array(Scan[\"Energy\"]), np.array(Calibration[\"Energy\"]), np.array(Calibration[\"I0\"]))),\n",
    "                                                   \"Diode_Calibration\": (\"Energy\", np.interp(np.array(Scan[\"Energy\"]), np.array(Calibration[\"Energy\"]), np.array(Calibration[\"Diode\"])))},\n",
    "                                         coords={\"Energy\": np.array(Scan[\"Energy\"])})\n",
    "        Scan = xr.merge((Scan, Calibration_ToMerge))\n",
    "        Scan = Scan.update({\"Diode_DoubleNormalized\": (Scan[\"Diode\"]/Scan[\"I0\"])*(Scan[\"I0_Calibration\"]/Scan[\"Diode_Calibration\"])})\n",
    "        Scan = Scan.update({\"Absorbance\": np.log(1/Scan[\"Diode_DoubleNormalized\"])})\n",
    "        PreEdge = Scan[\"Absorbance\"].sel(Energy=slice(EnergyStart_PreEdge, EnergyEnd_PreEdge))\n",
    "        SlopeIntercept = np.polyfit(PreEdge[\"Energy\"], PreEdge, 1)\n",
    "        Scan = Scan.update({\"Baseline_PreEdge\": SlopeIntercept[0]*Scan[\"Energy\"] + SlopeIntercept[1]})\n",
    "        Scan = Scan.update({\"Signal_PreEdgeNormalized\": Scan[\"Absorbance\"] - Scan[\"Baseline_PreEdge\"]})\n",
    "        PostEdge = Scan[\"Signal_PreEdgeNormalized\"].sel(Energy=slice(EnergyStart_PostEdge, EnergyEnd_PostEdge))\n",
    "        Scan = Scan.update({\"Signal_PostEdgeNormalized\": Scan[\"Signal_PreEdgeNormalized\"]/PostEdge.mean()})\n",
    "        Scan = Scan.update({\"MuRho\": Scan[\"Signal_PreEdgeNormalized\"]/((1e-9)*FilmThickness)}) ## Pre-edge-normalized reference spectrum for compositional (volume fraction) fitting\n",
    "\n",
    "        ## Plotting\n",
    "        PlotLabel = \"\"\n",
    "        PlotColor = PlotColors[Index_ScanIDs]\n",
    "        PlotColor_Calibration = (0, 0, 0, 1)\n",
    "        if NumRows==1: PlotRow = axs;\n",
    "        if NumRows>1: PlotRow = axs[Index_PlotRows];\n",
    "        ax = PlotRow[0]\n",
    "        ax.errorbar(Scan[\"Energy\"], Scan[\"I0_Calibration\"], yerr=0, label=PlotLabel, capsize=0, marker=\".\", markersize=0, color=PlotColor_Calibration, linestyle=\"solid\")\n",
    "        ax.errorbar(Scan[\"Energy\"], Scan[\"I0\"], yerr=0, label=PlotLabel, capsize=0, marker=\".\", markersize=0, color=PlotColor, linestyle=\"solid\", linewidth=2)\n",
    "        ax.set_ylabel(\"RSoXS Au Mesh Current\", color=(0, 0, 0, 1), size=12)\n",
    "        ax = PlotRow[1]\n",
    "        ax.errorbar(Scan[\"Energy\"], Scan[\"Diode_Calibration\"], yerr=0, label=PlotLabel, capsize=0, marker=\".\", markersize=0, color=PlotColor_Calibration, linestyle=\"solid\")\n",
    "        ax.errorbar(Scan[\"Energy\"], Scan[\"Diode\"], yerr=0, label=PlotLabel, capsize=0, marker=\".\", markersize=0, color=PlotColor, linestyle=\"solid\", linewidth=2)\n",
    "        ax.set_ylabel(\"WAXS Beamstop\", color=(0, 0, 0, 1), size=12)\n",
    "        ax = PlotRow[2]\n",
    "        ax.errorbar(Scan[\"Energy\"], Scan[\"Diode_DoubleNormalized\"], yerr=0, label=PlotLabel, capsize=0, marker=\".\", markersize=0, color=PlotColor, linestyle=\"solid\", linewidth=2)\n",
    "        ax.set_ylabel(\"Double-normalized sample diode\", color=(0, 0, 0, 1), size=12)\n",
    "        ax = PlotRow[3]\n",
    "        ax.errorbar(Scan[\"Energy\"], Scan[\"Absorbance\"], yerr=0, label=PlotLabel, capsize=0, marker=\".\", markersize=0, color=PlotColor, linestyle=\"solid\", linewidth=2)\n",
    "        ax.axvline(PreEdge[\"Energy\"].isel(Energy=0), color=PlotColor, linestyle=\"dashed\")\n",
    "        ax.axvline(PreEdge[\"Energy\"].isel(Energy=-1), color=PlotColor, linestyle=\"dashed\")\n",
    "        ax.set_ylabel(\"Absorbance\", color=(0, 0, 0, 1), size=12)\n",
    "        ax = PlotRow[4]\n",
    "        ax.errorbar(Scan[\"Energy\"], Scan[\"Signal_PreEdgeNormalized\"], yerr=0, label=PlotLabel, capsize=0, marker=\".\", markersize=0, color=PlotColor, linestyle=\"solid\", linewidth=2)\n",
    "        ax.axvline(PostEdge[\"Energy\"].isel(Energy=0), color=PlotColor, linestyle=\"dashed\")\n",
    "        ax.axvline(PostEdge[\"Energy\"].isel(Energy=-1), color=PlotColor, linestyle=\"dashed\")\n",
    "        ax.set_ylabel(\"Pre-edge-normalized signal\", color=(0, 0, 0, 1), size=12)\n",
    "        ax = PlotRow[5]\n",
    "        ax.errorbar(Scan[\"Energy\"], Scan[\"Signal_PostEdgeNormalized\"], yerr=0, label=PlotLabel, capsize=0, marker=\".\", markersize=0, color=PlotColor, linestyle=\"solid\", linewidth=2)\n",
    "        ax.set_ylabel(\"Post-edge-normalized signal\", color=(0, 0, 0, 1), size=12)\n",
    "\n",
    "        ## Exporting to excel\n",
    "        if SaveExcel == True:\n",
    "            FilePath = r\"/content/drive/Shareddrives/NISTPostdoc/CharacterizationData/BeamTime/20240326_SST1_MurphyBeaucage/DataAnalysis\"\n",
    "\n",
    "            Scan_df = Scan.to_dataframe() ## Convert to pandas dataframe\n",
    "            TimeStamp = datetime.datetime.now().strftime(\"%Y-%m-%d_%H-%M-%S\") ## Can add timestamp to avoid overwriting different versions of data reduction for the same sample\n",
    "            SampleName = Catalog[int(ScanID)].start[\"sample_id\"]\n",
    "            FileName = f\"{TimeStamp}_Scan{int(ScanID)}_{SampleName}.xlsx\"\n",
    "            Scan_df.to_excel(os.path.join(FilePath, FileName))\n",
    "\n",
    "\n",
    "## Plot Formatting\n",
    "for Index_PlotRows in np.arange(0, NumRows, 1):\n",
    "    for Index_Plotcolumns in np.arange(0, NumColumns, 1):\n",
    "        if NumRows==1: PlotRow = axs;\n",
    "        if NumRows>1: PlotRow = axs[Index_PlotRows];\n",
    "        ax = PlotRow[Index_Plotcolumns]\n",
    "        ax.set_xlabel(\"Energy (eV)\", color=(0, 0, 0, 1), size=12)\n",
    "        ax.set_xscale(\"linear\")\n",
    "        ax.set_yscale(\"linear\")\n",
    "        ax.set_ylim(bottom=0, top=None, auto=True)\n",
    "        ax.spines['top'].set_linewidth(2) ## axes/border linewidths\n",
    "        ax.spines['bottom'].set_linewidth(2)\n",
    "        ax.spines['left'].set_linewidth(2)\n",
    "        ax.spines['right'].set_linewidth(2)\n",
    "        ax.spines['top'].set_color((0, 0, 0, 1)) ## axes/border colors\n",
    "        ax.spines['bottom'].set_color((0, 0, 0, 1))\n",
    "        ax.spines['left'].set_color((0, 0, 0, 1))\n",
    "        ax.spines['right'].set_color((0, 0, 0, 1))\n",
    "        ax.tick_params(axis=\"x\",colors=(0, 0, 0, 1), width=2)\n",
    "        ax.tick_params(axis=\"y\",colors=(0, 0, 0, 1), width=2)\n",
    "plt.tight_layout() ## This ensures that subplots don't overlap\n",
    "\n",
    "\n",
    "\n"
   ]
  }
 ],
 "metadata": {
  "colab": {
   "provenance": [],
   "toc_visible": true
  },
  "kernelspec": {
   "display_name": "Python 3 (current)",
   "language": "python",
   "name": "python3"
  },
  "language_info": {
   "codemirror_mode": {
    "name": "ipython",
    "version": 3
   },
   "file_extension": ".py",
   "mimetype": "text/x-python",
   "name": "python",
   "nbconvert_exporter": "python",
   "pygments_lexer": "ipython3",
   "version": "3.11.6"
  },
  "widgets": {
   "application/vnd.jupyter.widget-state+json": {
    "053f45eb72d047b0895a6d6142127efe": {
     "model_module": "@jupyter-widgets/controls",
     "model_module_version": "1.5.0",
     "model_name": "HTMLModel",
     "state": {
      "_dom_classes": [],
      "_model_module": "@jupyter-widgets/controls",
      "_model_module_version": "1.5.0",
      "_model_name": "HTMLModel",
      "_view_count": null,
      "_view_module": "@jupyter-widgets/controls",
      "_view_module_version": "1.5.0",
      "_view_name": "HTMLView",
      "description": "",
      "description_tooltip": null,
      "layout": "IPY_MODEL_dd83ea29da4044c29c312087bfdce103",
      "placeholder": "​",
      "style": "IPY_MODEL_2b13a4c21030438da5a809dbaa809b77",
      "value": "Running catalog search...: 100%"
     }
    },
    "144b62ff196040558ba68de922a574b5": {
     "model_module": "@jupyter-widgets/controls",
     "model_module_version": "1.5.0",
     "model_name": "HBoxModel",
     "state": {
      "_dom_classes": [],
      "_model_module": "@jupyter-widgets/controls",
      "_model_module_version": "1.5.0",
      "_model_name": "HBoxModel",
      "_view_count": null,
      "_view_module": "@jupyter-widgets/controls",
      "_view_module_version": "1.5.0",
      "_view_name": "HBoxView",
      "box_style": "",
      "children": [
       "IPY_MODEL_4498d9df40b1436b8c2d24cb174e2c3b",
       "IPY_MODEL_46792591aea24b9082e40be4495c6a3d",
       "IPY_MODEL_2b4dc7f1dc26429cbe3f538086f87036"
      ],
      "layout": "IPY_MODEL_76274bf4fdb145b186cdf89be5c1b138"
     }
    },
    "1fac964c5df64dc4a35468af4ef7de5d": {
     "model_module": "@jupyter-widgets/controls",
     "model_module_version": "1.5.0",
     "model_name": "HTMLModel",
     "state": {
      "_dom_classes": [],
      "_model_module": "@jupyter-widgets/controls",
      "_model_module_version": "1.5.0",
      "_model_name": "HTMLModel",
      "_view_count": null,
      "_view_module": "@jupyter-widgets/controls",
      "_view_module_version": "1.5.0",
      "_view_name": "HTMLView",
      "description": "",
      "description_tooltip": null,
      "layout": "IPY_MODEL_eaecbc58a9864d99952072237e477718",
      "placeholder": "​",
      "style": "IPY_MODEL_9861ab9dc0bf493dac01cfb744b4995d",
      "value": " 11/11 [00:01&lt;00:00,  6.92it/s]"
     }
    },
    "2a10848cc641472b96ad8e6c3854f403": {
     "model_module": "@jupyter-widgets/controls",
     "model_module_version": "1.5.0",
     "model_name": "DescriptionStyleModel",
     "state": {
      "_model_module": "@jupyter-widgets/controls",
      "_model_module_version": "1.5.0",
      "_model_name": "DescriptionStyleModel",
      "_view_count": null,
      "_view_module": "@jupyter-widgets/base",
      "_view_module_version": "1.2.0",
      "_view_name": "StyleView",
      "description_width": ""
     }
    },
    "2b13a4c21030438da5a809dbaa809b77": {
     "model_module": "@jupyter-widgets/controls",
     "model_module_version": "1.5.0",
     "model_name": "DescriptionStyleModel",
     "state": {
      "_model_module": "@jupyter-widgets/controls",
      "_model_module_version": "1.5.0",
      "_model_name": "DescriptionStyleModel",
      "_view_count": null,
      "_view_module": "@jupyter-widgets/base",
      "_view_module_version": "1.2.0",
      "_view_name": "StyleView",
      "description_width": ""
     }
    },
    "2b4dc7f1dc26429cbe3f538086f87036": {
     "model_module": "@jupyter-widgets/controls",
     "model_module_version": "1.5.0",
     "model_name": "HTMLModel",
     "state": {
      "_dom_classes": [],
      "_model_module": "@jupyter-widgets/controls",
      "_model_module_version": "1.5.0",
      "_model_name": "HTMLModel",
      "_view_count": null,
      "_view_module": "@jupyter-widgets/controls",
      "_view_module_version": "1.5.0",
      "_view_name": "HTMLView",
      "description": "",
      "description_tooltip": null,
      "layout": "IPY_MODEL_2c47638174364a5cb1323ba2184267e1",
      "placeholder": "​",
      "style": "IPY_MODEL_ae7923cbb5a043e58e5737e8f56757cd",
      "value": " 43/43 [00:00&lt;00:00,  1.97it/s]"
     }
    },
    "2c47638174364a5cb1323ba2184267e1": {
     "model_module": "@jupyter-widgets/base",
     "model_module_version": "1.2.0",
     "model_name": "LayoutModel",
     "state": {
      "_model_module": "@jupyter-widgets/base",
      "_model_module_version": "1.2.0",
      "_model_name": "LayoutModel",
      "_view_count": null,
      "_view_module": "@jupyter-widgets/base",
      "_view_module_version": "1.2.0",
      "_view_name": "LayoutView",
      "align_content": null,
      "align_items": null,
      "align_self": null,
      "border": null,
      "bottom": null,
      "display": null,
      "flex": null,
      "flex_flow": null,
      "grid_area": null,
      "grid_auto_columns": null,
      "grid_auto_flow": null,
      "grid_auto_rows": null,
      "grid_column": null,
      "grid_gap": null,
      "grid_row": null,
      "grid_template_areas": null,
      "grid_template_columns": null,
      "grid_template_rows": null,
      "height": null,
      "justify_content": null,
      "justify_items": null,
      "left": null,
      "margin": null,
      "max_height": null,
      "max_width": null,
      "min_height": null,
      "min_width": null,
      "object_fit": null,
      "object_position": null,
      "order": null,
      "overflow": null,
      "overflow_x": null,
      "overflow_y": null,
      "padding": null,
      "right": null,
      "top": null,
      "visibility": null,
      "width": null
     }
    },
    "4116aa1c05d54f2cbaa46c678ae795f7": {
     "model_module": "@jupyter-widgets/base",
     "model_module_version": "1.2.0",
     "model_name": "LayoutModel",
     "state": {
      "_model_module": "@jupyter-widgets/base",
      "_model_module_version": "1.2.0",
      "_model_name": "LayoutModel",
      "_view_count": null,
      "_view_module": "@jupyter-widgets/base",
      "_view_module_version": "1.2.0",
      "_view_name": "LayoutView",
      "align_content": null,
      "align_items": null,
      "align_self": null,
      "border": null,
      "bottom": null,
      "display": null,
      "flex": null,
      "flex_flow": null,
      "grid_area": null,
      "grid_auto_columns": null,
      "grid_auto_flow": null,
      "grid_auto_rows": null,
      "grid_column": null,
      "grid_gap": null,
      "grid_row": null,
      "grid_template_areas": null,
      "grid_template_columns": null,
      "grid_template_rows": null,
      "height": null,
      "justify_content": null,
      "justify_items": null,
      "left": null,
      "margin": null,
      "max_height": null,
      "max_width": null,
      "min_height": null,
      "min_width": null,
      "object_fit": null,
      "object_position": null,
      "order": null,
      "overflow": null,
      "overflow_x": null,
      "overflow_y": null,
      "padding": null,
      "right": null,
      "top": null,
      "visibility": null,
      "width": null
     }
    },
    "4498d9df40b1436b8c2d24cb174e2c3b": {
     "model_module": "@jupyter-widgets/controls",
     "model_module_version": "1.5.0",
     "model_name": "HTMLModel",
     "state": {
      "_dom_classes": [],
      "_model_module": "@jupyter-widgets/controls",
      "_model_module_version": "1.5.0",
      "_model_name": "HTMLModel",
      "_view_count": null,
      "_view_module": "@jupyter-widgets/controls",
      "_view_module_version": "1.5.0",
      "_view_name": "HTMLView",
      "description": "",
      "description_tooltip": null,
      "layout": "IPY_MODEL_f2a1d8e8eddb4671b5f99e5b56307cfe",
      "placeholder": "​",
      "style": "IPY_MODEL_2a10848cc641472b96ad8e6c3854f403",
      "value": "Retrieving results...: 100%"
     }
    },
    "46792591aea24b9082e40be4495c6a3d": {
     "model_module": "@jupyter-widgets/controls",
     "model_module_version": "1.5.0",
     "model_name": "FloatProgressModel",
     "state": {
      "_dom_classes": [],
      "_model_module": "@jupyter-widgets/controls",
      "_model_module_version": "1.5.0",
      "_model_name": "FloatProgressModel",
      "_view_count": null,
      "_view_module": "@jupyter-widgets/controls",
      "_view_module_version": "1.5.0",
      "_view_name": "ProgressView",
      "bar_style": "success",
      "description": "",
      "description_tooltip": null,
      "layout": "IPY_MODEL_ba5de7755d2248d3b697b40be3aca0cc",
      "max": 43,
      "min": 0,
      "orientation": "horizontal",
      "style": "IPY_MODEL_dfef4bf9f4dd44ffab3b69153dc60f10",
      "value": 43
     }
    },
    "76274bf4fdb145b186cdf89be5c1b138": {
     "model_module": "@jupyter-widgets/base",
     "model_module_version": "1.2.0",
     "model_name": "LayoutModel",
     "state": {
      "_model_module": "@jupyter-widgets/base",
      "_model_module_version": "1.2.0",
      "_model_name": "LayoutModel",
      "_view_count": null,
      "_view_module": "@jupyter-widgets/base",
      "_view_module_version": "1.2.0",
      "_view_name": "LayoutView",
      "align_content": null,
      "align_items": null,
      "align_self": null,
      "border": null,
      "bottom": null,
      "display": null,
      "flex": null,
      "flex_flow": null,
      "grid_area": null,
      "grid_auto_columns": null,
      "grid_auto_flow": null,
      "grid_auto_rows": null,
      "grid_column": null,
      "grid_gap": null,
      "grid_row": null,
      "grid_template_areas": null,
      "grid_template_columns": null,
      "grid_template_rows": null,
      "height": null,
      "justify_content": null,
      "justify_items": null,
      "left": null,
      "margin": null,
      "max_height": null,
      "max_width": null,
      "min_height": null,
      "min_width": null,
      "object_fit": null,
      "object_position": null,
      "order": null,
      "overflow": null,
      "overflow_x": null,
      "overflow_y": null,
      "padding": null,
      "right": null,
      "top": null,
      "visibility": null,
      "width": null
     }
    },
    "8dc80940ae7b47209709682fd2d907b6": {
     "model_module": "@jupyter-widgets/base",
     "model_module_version": "1.2.0",
     "model_name": "LayoutModel",
     "state": {
      "_model_module": "@jupyter-widgets/base",
      "_model_module_version": "1.2.0",
      "_model_name": "LayoutModel",
      "_view_count": null,
      "_view_module": "@jupyter-widgets/base",
      "_view_module_version": "1.2.0",
      "_view_name": "LayoutView",
      "align_content": null,
      "align_items": null,
      "align_self": null,
      "border": null,
      "bottom": null,
      "display": null,
      "flex": null,
      "flex_flow": null,
      "grid_area": null,
      "grid_auto_columns": null,
      "grid_auto_flow": null,
      "grid_auto_rows": null,
      "grid_column": null,
      "grid_gap": null,
      "grid_row": null,
      "grid_template_areas": null,
      "grid_template_columns": null,
      "grid_template_rows": null,
      "height": null,
      "justify_content": null,
      "justify_items": null,
      "left": null,
      "margin": null,
      "max_height": null,
      "max_width": null,
      "min_height": null,
      "min_width": null,
      "object_fit": null,
      "object_position": null,
      "order": null,
      "overflow": null,
      "overflow_x": null,
      "overflow_y": null,
      "padding": null,
      "right": null,
      "top": null,
      "visibility": null,
      "width": null
     }
    },
    "9861ab9dc0bf493dac01cfb744b4995d": {
     "model_module": "@jupyter-widgets/controls",
     "model_module_version": "1.5.0",
     "model_name": "DescriptionStyleModel",
     "state": {
      "_model_module": "@jupyter-widgets/controls",
      "_model_module_version": "1.5.0",
      "_model_name": "DescriptionStyleModel",
      "_view_count": null,
      "_view_module": "@jupyter-widgets/base",
      "_view_module_version": "1.2.0",
      "_view_name": "StyleView",
      "description_width": ""
     }
    },
    "9aefa531c5e04998ba590a6df1fc6ab9": {
     "model_module": "@jupyter-widgets/controls",
     "model_module_version": "1.5.0",
     "model_name": "ProgressStyleModel",
     "state": {
      "_model_module": "@jupyter-widgets/controls",
      "_model_module_version": "1.5.0",
      "_model_name": "ProgressStyleModel",
      "_view_count": null,
      "_view_module": "@jupyter-widgets/base",
      "_view_module_version": "1.2.0",
      "_view_name": "StyleView",
      "bar_color": null,
      "description_width": ""
     }
    },
    "ad701c2bd1b94bf999c1033fb4433b0b": {
     "model_module": "@jupyter-widgets/controls",
     "model_module_version": "1.5.0",
     "model_name": "HBoxModel",
     "state": {
      "_dom_classes": [],
      "_model_module": "@jupyter-widgets/controls",
      "_model_module_version": "1.5.0",
      "_model_name": "HBoxModel",
      "_view_count": null,
      "_view_module": "@jupyter-widgets/controls",
      "_view_module_version": "1.5.0",
      "_view_name": "HBoxView",
      "box_style": "",
      "children": [
       "IPY_MODEL_053f45eb72d047b0895a6d6142127efe",
       "IPY_MODEL_c9e8e6325e3d437c91fbe09d33be8c5a",
       "IPY_MODEL_1fac964c5df64dc4a35468af4ef7de5d"
      ],
      "layout": "IPY_MODEL_4116aa1c05d54f2cbaa46c678ae795f7"
     }
    },
    "ae7923cbb5a043e58e5737e8f56757cd": {
     "model_module": "@jupyter-widgets/controls",
     "model_module_version": "1.5.0",
     "model_name": "DescriptionStyleModel",
     "state": {
      "_model_module": "@jupyter-widgets/controls",
      "_model_module_version": "1.5.0",
      "_model_name": "DescriptionStyleModel",
      "_view_count": null,
      "_view_module": "@jupyter-widgets/base",
      "_view_module_version": "1.2.0",
      "_view_name": "StyleView",
      "description_width": ""
     }
    },
    "ba5de7755d2248d3b697b40be3aca0cc": {
     "model_module": "@jupyter-widgets/base",
     "model_module_version": "1.2.0",
     "model_name": "LayoutModel",
     "state": {
      "_model_module": "@jupyter-widgets/base",
      "_model_module_version": "1.2.0",
      "_model_name": "LayoutModel",
      "_view_count": null,
      "_view_module": "@jupyter-widgets/base",
      "_view_module_version": "1.2.0",
      "_view_name": "LayoutView",
      "align_content": null,
      "align_items": null,
      "align_self": null,
      "border": null,
      "bottom": null,
      "display": null,
      "flex": null,
      "flex_flow": null,
      "grid_area": null,
      "grid_auto_columns": null,
      "grid_auto_flow": null,
      "grid_auto_rows": null,
      "grid_column": null,
      "grid_gap": null,
      "grid_row": null,
      "grid_template_areas": null,
      "grid_template_columns": null,
      "grid_template_rows": null,
      "height": null,
      "justify_content": null,
      "justify_items": null,
      "left": null,
      "margin": null,
      "max_height": null,
      "max_width": null,
      "min_height": null,
      "min_width": null,
      "object_fit": null,
      "object_position": null,
      "order": null,
      "overflow": null,
      "overflow_x": null,
      "overflow_y": null,
      "padding": null,
      "right": null,
      "top": null,
      "visibility": null,
      "width": null
     }
    },
    "c9e8e6325e3d437c91fbe09d33be8c5a": {
     "model_module": "@jupyter-widgets/controls",
     "model_module_version": "1.5.0",
     "model_name": "FloatProgressModel",
     "state": {
      "_dom_classes": [],
      "_model_module": "@jupyter-widgets/controls",
      "_model_module_version": "1.5.0",
      "_model_name": "FloatProgressModel",
      "_view_count": null,
      "_view_module": "@jupyter-widgets/controls",
      "_view_module_version": "1.5.0",
      "_view_name": "ProgressView",
      "bar_style": "success",
      "description": "",
      "description_tooltip": null,
      "layout": "IPY_MODEL_8dc80940ae7b47209709682fd2d907b6",
      "max": 11,
      "min": 0,
      "orientation": "horizontal",
      "style": "IPY_MODEL_9aefa531c5e04998ba590a6df1fc6ab9",
      "value": 11
     }
    },
    "dd83ea29da4044c29c312087bfdce103": {
     "model_module": "@jupyter-widgets/base",
     "model_module_version": "1.2.0",
     "model_name": "LayoutModel",
     "state": {
      "_model_module": "@jupyter-widgets/base",
      "_model_module_version": "1.2.0",
      "_model_name": "LayoutModel",
      "_view_count": null,
      "_view_module": "@jupyter-widgets/base",
      "_view_module_version": "1.2.0",
      "_view_name": "LayoutView",
      "align_content": null,
      "align_items": null,
      "align_self": null,
      "border": null,
      "bottom": null,
      "display": null,
      "flex": null,
      "flex_flow": null,
      "grid_area": null,
      "grid_auto_columns": null,
      "grid_auto_flow": null,
      "grid_auto_rows": null,
      "grid_column": null,
      "grid_gap": null,
      "grid_row": null,
      "grid_template_areas": null,
      "grid_template_columns": null,
      "grid_template_rows": null,
      "height": null,
      "justify_content": null,
      "justify_items": null,
      "left": null,
      "margin": null,
      "max_height": null,
      "max_width": null,
      "min_height": null,
      "min_width": null,
      "object_fit": null,
      "object_position": null,
      "order": null,
      "overflow": null,
      "overflow_x": null,
      "overflow_y": null,
      "padding": null,
      "right": null,
      "top": null,
      "visibility": null,
      "width": null
     }
    },
    "dfef4bf9f4dd44ffab3b69153dc60f10": {
     "model_module": "@jupyter-widgets/controls",
     "model_module_version": "1.5.0",
     "model_name": "ProgressStyleModel",
     "state": {
      "_model_module": "@jupyter-widgets/controls",
      "_model_module_version": "1.5.0",
      "_model_name": "ProgressStyleModel",
      "_view_count": null,
      "_view_module": "@jupyter-widgets/base",
      "_view_module_version": "1.2.0",
      "_view_name": "StyleView",
      "bar_color": null,
      "description_width": ""
     }
    },
    "eaecbc58a9864d99952072237e477718": {
     "model_module": "@jupyter-widgets/base",
     "model_module_version": "1.2.0",
     "model_name": "LayoutModel",
     "state": {
      "_model_module": "@jupyter-widgets/base",
      "_model_module_version": "1.2.0",
      "_model_name": "LayoutModel",
      "_view_count": null,
      "_view_module": "@jupyter-widgets/base",
      "_view_module_version": "1.2.0",
      "_view_name": "LayoutView",
      "align_content": null,
      "align_items": null,
      "align_self": null,
      "border": null,
      "bottom": null,
      "display": null,
      "flex": null,
      "flex_flow": null,
      "grid_area": null,
      "grid_auto_columns": null,
      "grid_auto_flow": null,
      "grid_auto_rows": null,
      "grid_column": null,
      "grid_gap": null,
      "grid_row": null,
      "grid_template_areas": null,
      "grid_template_columns": null,
      "grid_template_rows": null,
      "height": null,
      "justify_content": null,
      "justify_items": null,
      "left": null,
      "margin": null,
      "max_height": null,
      "max_width": null,
      "min_height": null,
      "min_width": null,
      "object_fit": null,
      "object_position": null,
      "order": null,
      "overflow": null,
      "overflow_x": null,
      "overflow_y": null,
      "padding": null,
      "right": null,
      "top": null,
      "visibility": null,
      "width": null
     }
    },
    "f2a1d8e8eddb4671b5f99e5b56307cfe": {
     "model_module": "@jupyter-widgets/base",
     "model_module_version": "1.2.0",
     "model_name": "LayoutModel",
     "state": {
      "_model_module": "@jupyter-widgets/base",
      "_model_module_version": "1.2.0",
      "_model_name": "LayoutModel",
      "_view_count": null,
      "_view_module": "@jupyter-widgets/base",
      "_view_module_version": "1.2.0",
      "_view_name": "LayoutView",
      "align_content": null,
      "align_items": null,
      "align_self": null,
      "border": null,
      "bottom": null,
      "display": null,
      "flex": null,
      "flex_flow": null,
      "grid_area": null,
      "grid_auto_columns": null,
      "grid_auto_flow": null,
      "grid_auto_rows": null,
      "grid_column": null,
      "grid_gap": null,
      "grid_row": null,
      "grid_template_areas": null,
      "grid_template_columns": null,
      "grid_template_rows": null,
      "height": null,
      "justify_content": null,
      "justify_items": null,
      "left": null,
      "margin": null,
      "max_height": null,
      "max_width": null,
      "min_height": null,
      "min_width": null,
      "object_fit": null,
      "object_position": null,
      "order": null,
      "overflow": null,
      "overflow_x": null,
      "overflow_y": null,
      "padding": null,
      "right": null,
      "top": null,
      "visibility": null,
      "width": null
     }
    }
   }
  }
 },
 "nbformat": 4,
 "nbformat_minor": 5
}
