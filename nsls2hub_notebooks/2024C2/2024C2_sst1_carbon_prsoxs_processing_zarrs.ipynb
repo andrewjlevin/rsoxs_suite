{
 "cells": [
  {
   "cell_type": "markdown",
   "id": "0",
   "metadata": {},
   "source": [
    "# 2024C2: Continued Processing SST1 RSoXS Data\n",
    "Use custom PyhyperScattering conda environment"
   ]
  },
  {
   "cell_type": "markdown",
   "id": "2",
   "metadata": {
    "tags": []
   },
   "source": [
    "## Imports"
   ]
  },
  {
   "cell_type": "code",
   "execution_count": null,
   "id": "3",
   "metadata": {
    "tags": []
   },
   "outputs": [],
   "source": [
    "# Imports\n",
    "import PyHyperScattering as phs\n",
    "import pathlib\n",
    "import sys\n",
    "import ast\n",
    "import json\n",
    "import datetime\n",
    "import numpy as np\n",
    "import pandas as pd\n",
    "import xarray as xr\n",
    "import matplotlib.pyplot as plt\n",
    "from matplotlib.colors import LogNorm\n",
    "from tqdm.auto import tqdm\n",
    "import dask.array as da\n",
    "import hvplot.xarray\n",
    "# from tiled.client import from_profile, from_uri\n",
    "\n",
    "sys.path.append('/nsls2/users/alevin/local_lib')\n",
    "from andrew_rsoxs_fxns import *\n",
    "\n",
    "print(f'Using PyHyperScattering Version: {phs.__version__}')\n",
    "\n",
    "# Set colormap\n",
    "cmap = plt.cm.turbo.copy()\n",
    "cmap.set_bad(cmap.get_under())"
   ]
  },
  {
   "cell_type": "markdown",
   "id": "4",
   "metadata": {},
   "source": [
    "## Define paths & short functions"
   ]
  },
  {
   "cell_type": "code",
   "execution_count": null,
   "id": "6",
   "metadata": {},
   "outputs": [],
   "source": [
    "# Define directory paths\n",
    "userPath = pathlib.Path('/nsls2/users/alevin')\n",
    "propPath = pathlib.Path('/nsls2/data/sst/proposals/2024-2/pass-313412')\n",
    "\n",
    "outPath = propPath.joinpath('processed_data')\n",
    "# jsonPath = outPath.joinpath('local_config')\n",
    "maskPath = outPath.joinpath('masks')\n",
    "zarrsPath = outPath.joinpath('rsoxs_zarrs')"
   ]
  },
  {
   "cell_type": "code",
   "execution_count": null,
   "id": "e4f2d957-ea58-45d9-b134-ef403c5b3b5b",
   "metadata": {
    "tags": []
   },
   "outputs": [],
   "source": [
    "[f.name for f in zarrsPath.glob('*')]"
   ]
  },
  {
   "cell_type": "markdown",
   "id": "51",
   "metadata": {
    "tags": []
   },
   "source": [
    "## Load data from saved zarrs"
   ]
  },
  {
   "cell_type": "code",
   "execution_count": null,
   "id": "52",
   "metadata": {
    "tags": []
   },
   "outputs": [],
   "source": [
    "plan_of_interest = 'raw_rsoxs_carbon'\n",
    "# plan_of_interest = 'raw_timestamped_rsoxs_1180'\n",
    "loaded_DS = xr.open_zarr(zarrsPath.joinpath(f'cartesian_{plan_of_interest}_v1.zarr'))  #.compute()\n",
    "loaded_DS = loaded_DS.where(loaded_DS>0)\n",
    "\n",
    "# Compute any dask coordiantes\n",
    "for coord_name, coord_data in loaded_DS.coords.items():\n",
    "    if isinstance(coord_data.data, da.Array):\n",
    "        loaded_DS.coords[coord_name] = coord_data.compute()\n",
    "        \n",
    "# Assign beam centers if known\n",
    "loaded_DS['raw_intensity'].attrs['beamcenter_y'] = 508  # Good for 2024C2\n",
    "loaded_DS['raw_intensity'].attrs['beamcenter_x'] = 477  # Good for 2024C2\n",
    "\n",
    "display(loaded_DS)\n",
    "\n",
    "# start_dict = ast.literal_eval(DA.start)"
   ]
  },
  {
   "cell_type": "code",
   "execution_count": null,
   "id": "53",
   "metadata": {
    "tags": []
   },
   "outputs": [],
   "source": [
    "# # Used for rsoxs 1180 eV\n",
    "\n",
    "# for sample_name in loaded_DS.sample_name.values:\n",
    "#     DA = loaded_DS['raw_intensity'].sel(sample_name=sample_name, polarization=90).squeeze()\n",
    "#     cmin = float(DA.compute().quantile(0.0001))\n",
    "#     cmax = float(DA.compute().quantile(0.995))\n",
    "#     ax = DA.plot.imshow(norm=plt.Normalize(cmin, cmax), cmap=cmap, x='qx', y='qy')\n",
    "#     ax.axes.set(title=f'{str(DA.sample_name.values)}, Energy = {int(DA.energy.values)} eV')\n",
    "#     plt.show()\n",
    "#     plt.close('all')"
   ]
  },
  {
   "cell_type": "markdown",
   "id": "54",
   "metadata": {
    "tags": []
   },
   "source": [
    "## Draw/check data & beamcenters & data"
   ]
  },
  {
   "cell_type": "code",
   "execution_count": null,
   "id": "55",
   "metadata": {},
   "outputs": [],
   "source": [
    "# Set colormap\n",
    "cmap = plt.cm.turbo.copy()\n",
    "cmap.set_bad(cmap.get_under())\n",
    "\n",
    "# # Choose a sample dataarray:\n",
    "# bare_sin_DA = DS.sel(sample_name='BareSiN_1mm')\n",
    "# print(DS.sample_name.values)\n",
    "# sample_name = 'Y6_CB_2500'"
   ]
  },
  {
   "cell_type": "markdown",
   "id": "56",
   "metadata": {
    "jp-MarkdownHeadingCollapsed": true,
    "tags": []
   },
   "source": [
    "### 1. Check raw images at a selected energy for all loaded scan configurations:"
   ]
  },
  {
   "cell_type": "code",
   "execution_count": null,
   "id": "9b5bf8d5-f6b1-41d3-9d4c-538954d4122f",
   "metadata": {
    "tags": []
   },
   "outputs": [],
   "source": [
    "loaded_DS"
   ]
  },
  {
   "cell_type": "code",
   "execution_count": null,
   "id": "57",
   "metadata": {},
   "outputs": [],
   "source": [
    "# # sample_name = 'PM6-Y6_p5CN-2CF-3CB'\n",
    "# sample_name = 'PM6_5CN-CF'\n",
    "# # sample_DA = DS['raw_intensity'].sel(sample_name=sample_name)\n",
    "# sample_DA = loaded_DS['raw_intensity'].sel(sample_name=sample_name)\n",
    "\n",
    "# # energies = [270, 280, 282, 283, 284, 285, 286, 290]\n",
    "# energies = np.round(np.linspace(280, 290, 8), 1)  # carbon\n",
    "# # energies = np.round(np.linspace(380, 440, 8), 1)  # nitrogen\n",
    "\n",
    "# pol = 0\n",
    "# # pol = 90\n",
    "\n",
    "# fg = sample_DA.sel(polarization=pol, method='nearest').sel(energy=energies, method='nearest').sel(\n",
    "#             pix_x=slice(160, 780), pix_y=slice(240, 800)).plot.imshow(figsize=(18, 6),\n",
    "#                 col='energy', col_wrap=4, norm=LogNorm(3e1, 1e4), cmap=cmap, x='qx', y='qy')\n",
    "# fg.cbar.set_label('Intensity [arb. units]', rotation=270, labelpad=15)\n",
    "# fg.fig.suptitle(f'{str(sample_DA.sample_name.data)},  Polarization = {pol}°', y=1.02)\n",
    "# for axes in fg.axs.flatten():\n",
    "#     axes.set(aspect='equal')\n",
    "\n",
    "# plt.show()"
   ]
  },
  {
   "cell_type": "code",
   "execution_count": null,
   "id": "58",
   "metadata": {
    "tags": []
   },
   "outputs": [],
   "source": [
    "# # sample_name = 'PM6-Y6_p5CN-2CF-3CB'\n",
    "# sample_name = 'PM6-Y6BO_p5CN-CB_rot'\n",
    "# corr_sample_DA = loaded_DS['corr_intensity'].sel(sample_name=sample_name)\n",
    "\n",
    "# # energies = [270, 280, 282, 283, 284, 285, 286, 290]\n",
    "# energies = np.round(np.linspace(280, 290, 8), 1)  # carbon\n",
    "# # energies = np.round(np.linspace(380, 440, 8), 1)  # nitrogen\n",
    "\n",
    "# pol = 45\n",
    "\n",
    "# fg = corr_sample_DA.sel(polarization=pol, method='nearest').sel(energy=energies, method='nearest').sel(\n",
    "#             pix_x=slice(160, 780), pix_y=slice(240, 800)).plot.imshow(figsize=(18, 6), x='qx', y='qy',\n",
    "#                 col='energy', col_wrap=4, norm=LogNorm(5e8, 1e11), cmap=cmap)\n",
    "# fg.cbar.set_label('Intensity [arb. units]', rotation=270, labelpad=15)\n",
    "# fg.fig.suptitle(f'{str(sample_name)},  Polarization = {pol}°', y=1.02)\n",
    "# for axes in fg.axs.flatten():\n",
    "#     axes.set(aspect='equal')\n",
    "\n",
    "# plt.show()"
   ]
  },
  {
   "cell_type": "markdown",
   "id": "59",
   "metadata": {
    "tags": []
   },
   "source": [
    "### 2. Draw masks"
   ]
  },
  {
   "cell_type": "code",
   "execution_count": null,
   "id": "aefccadd-cf1b-4121-80d5-c3729ea5fa79",
   "metadata": {
    "tags": []
   },
   "outputs": [],
   "source": [
    "# loaded_DS.isel(datetime=0)"
   ]
  },
  {
   "cell_type": "code",
   "execution_count": null,
   "id": "60",
   "metadata": {},
   "outputs": [],
   "source": [
    "# Define example image for mask & initialize phs DrawMask object:\n",
    "# sample_name = 'PM6_5CN-CF'\n",
    "# sample_DA = loaded_DS['raw_intensity'].sel(sample_name=sample_name)\n",
    "sample_DA = loaded_DS['raw_intensity'].isel(datetime=0)"
   ]
  },
  {
   "cell_type": "code",
   "execution_count": null,
   "id": "81c0059b-310a-4488-9dc0-182aeb439f48",
   "metadata": {
    "tags": []
   },
   "outputs": [],
   "source": [
    "%matplotlib widget"
   ]
  },
  {
   "cell_type": "code",
   "execution_count": null,
   "id": "61",
   "metadata": {
    "tags": []
   },
   "outputs": [],
   "source": [
    "## WAXS mask:\n",
    "# waxs_mask_img = sample_DA.sel(polarization=0, energy=270, method='nearest').compute()\n",
    "waxs_mask_img = sample_DA.compute()\n",
    "# draw = phs.IntegrationUtils.DrawMask(waxs_mask_img, clim=(30, 1e3))\n",
    "# draw = phs.IntegrationUtils.DrawMask(waxs_mask_img)\n",
    "# draw.ui()"
   ]
  },
  {
   "cell_type": "code",
   "execution_count": null,
   "id": "62",
   "metadata": {},
   "outputs": [],
   "source": [
    "# ## Save and load saxs drawn mask\n",
    "# draw.save(maskPath.joinpath('2023C3_full_length_masks.json'))"
   ]
  },
  {
   "cell_type": "markdown",
   "id": "63",
   "metadata": {
    "tags": []
   },
   "source": [
    "### 3. Check beamcenters"
   ]
  },
  {
   "cell_type": "code",
   "execution_count": null,
   "id": "d5cee190-c842-470c-abd8-85be133dde25",
   "metadata": {
    "tags": []
   },
   "outputs": [],
   "source": []
  },
  {
   "cell_type": "code",
   "execution_count": null,
   "id": "64",
   "metadata": {},
   "outputs": [],
   "source": [
    "# # Define example image for mask & initialize phs DrawMask object:\n",
    "# sample_name = 'PM6_5CN-CF'\n",
    "# sample_DA = loaded_DS['raw_intensity'].sel(sample_name=sample_name)\n",
    "# # sample_DA = sample_DA.where(sample_DA>0)"
   ]
  },
  {
   "cell_type": "code",
   "execution_count": null,
   "id": "beb95e33-1584-4aaa-a162-4507662a3f78",
   "metadata": {
    "tags": []
   },
   "outputs": [],
   "source": [
    "waxs_mask_img = loaded_DS['raw_intensity'].sel(sample_name='PM6-Y6_CF', polarization=90).sel(energy=285, method='nearest')\n",
    "waxs_mask_img"
   ]
  },
  {
   "cell_type": "code",
   "execution_count": null,
   "id": "65",
   "metadata": {
    "tags": []
   },
   "outputs": [],
   "source": [
    "plt.close('all')\n",
    "# sample_DA.attrs['beamcenter_x'] = 450\n",
    "# sample_DA.attrs['beamcenter_y'] = 510\n",
    "\n",
    "# energy = 250\n",
    "# energy = 400\n",
    "# energy = 532\n",
    "pix_x_slice = slice(None,None)\n",
    "pix_y_slice = slice(None,None)\n",
    "# pix_x_slice = slice(350,600)\n",
    "# pix_y_slice = slice(350,650)\n",
    "\n",
    "# waxs_mask_img = sample_DA.sel(polarization=0, energy=energy, method='nearest').compute()\n",
    "# draw = phs.IntegrationUtils.DrawMask(waxs_mask_img)\n",
    "\n",
    "# Load masks:\n",
    "# draw.load(maskPath.joinpath('WAXS_detector.json'))\n",
    "# waxs_mask = draw.mask\n",
    "waxs_mask = np.load(maskPath.joinpath('2024C2_beamstop_only.npy'))\n",
    "\n",
    "# Check masks:\n",
    "cmin = float(waxs_mask_img.quantile(0.1))\n",
    "cmax = float(waxs_mask_img.quantile(0.99999))\n",
    "\n",
    "sliced_DA = waxs_mask_img.sel(pix_x=pix_x_slice, pix_y=pix_y_slice)\n",
    "ax = sliced_DA.plot.imshow(norm=LogNorm(cmin,cmax), cmap=cmap, interpolation='antialiased')\n",
    "ax.axes.imshow(waxs_mask, alpha=0.4, origin='lower')\n",
    "ax.axes.set(xlim=(300,650), ylim=(300,700), aspect='equal')\n",
    "ax.figure.set(dpi=150)\n",
    "# ax.axes.imshow(WAXSinteg.mask, alpha=0.5, origin='lower')\n",
    "plt.show()\n",
    "# plt.close('all')"
   ]
  },
  {
   "cell_type": "code",
   "execution_count": null,
   "id": "e0760385-e67e-4c06-b61b-4aa45f734d0e",
   "metadata": {},
   "outputs": [],
   "source": []
  },
  {
   "cell_type": "code",
   "execution_count": null,
   "id": "e6c6e7f1-5f69-469b-ad2d-46ad3faf5502",
   "metadata": {
    "tags": []
   },
   "outputs": [],
   "source": [
    "# Initalize PFEnergySeriesIntegrator object & check beamcenter & masks\n",
    "# WAXS\n",
    "# WAXSinteg = phs.integrate.PFGeneralIntegrator(geomethod='template_xr', template_xr=sample_DA.sel(polarization=0))\n",
    "\n",
    "for energy in loaded_DS.energy.values:\n",
    "    sample_DA = loaded_DS['raw_intensity'].sel(energy=energy, method='nearest').sel(sample_name='PM7_CF', polarization=90)\n",
    "    waxs_mask_img = sample_DA.compute()\n",
    "    WAXSinteg = phs.integrate.PFEnergySeriesIntegrator(geomethod='template_xr', template_xr=sample_DA.drop_vars('energy'))\n",
    "    WAXSinteg.mask = waxs_mask\n",
    "    WAXSinteg.ni_beamcenter_x = waxs_mask_img.beamcenter_x\n",
    "    WAXSinteg.ni_beamcenter_y = waxs_mask_img.beamcenter_y\n",
    "    print('WAXS Beamcenter: \\n'\n",
    "          f'poni1: {WAXSinteg.poni1}, poni2: {WAXSinteg.poni2} \\n'\n",
    "          f'ni_beamcenter_y: {WAXSinteg.ni_beamcenter_y}, ni_beamcenter_x: {WAXSinteg.ni_beamcenter_x}')\n",
    "\n",
    "    phs.IntegrationUtils.Check.checkAll(WAXSinteg, \n",
    "                                        waxs_mask_img, \n",
    "                                        img_scaling='linear', \n",
    "                                        img_min=waxs_mask_img.quantile(0.0001), \n",
    "                                        img_max=waxs_mask_img.quantile(0.995), \n",
    "                                        d_inner=115,\n",
    "                                        d_outer=310,\n",
    "                                        alpha=0.4)\n",
    "\n",
    "    plt.gcf().set(dpi=150)\n",
    "    plt.show()\n",
    "    plt.close('all')"
   ]
  },
  {
   "cell_type": "code",
   "execution_count": null,
   "id": "66",
   "metadata": {
    "tags": []
   },
   "outputs": [],
   "source": [
    "# # Initalize PFEnergySeriesIntegrator object & check beamcenter & masks\n",
    "# # WAXS\n",
    "# # WAXSinteg = phs.integrate.PFGeneralIntegrator(geomethod='template_xr', template_xr=sample_DA.sel(polarization=0))\n",
    "\n",
    "# for dt_val in loaded_DS.datetime.values:\n",
    "#     sample_DA = loaded_DS['raw_intensity'].sel(datetime=dt_val)\n",
    "#     waxs_mask_img = sample_DA.compute()\n",
    "#     WAXSinteg = phs.integrate.PFEnergySeriesIntegrator(geomethod='template_xr', template_xr=sample_DA.drop_vars('energy'))\n",
    "#     WAXSinteg.mask = waxs_mask\n",
    "#     WAXSinteg.ni_beamcenter_x = waxs_mask_img.beamcenter_x\n",
    "#     WAXSinteg.ni_beamcenter_y = waxs_mask_img.beamcenter_y\n",
    "#     print('WAXS Beamcenter: \\n'\n",
    "#           f'poni1: {WAXSinteg.poni1}, poni2: {WAXSinteg.poni2} \\n'\n",
    "#           f'ni_beamcenter_y: {WAXSinteg.ni_beamcenter_y}, ni_beamcenter_x: {WAXSinteg.ni_beamcenter_x}')\n",
    "\n",
    "#     phs.IntegrationUtils.Check.checkAll(WAXSinteg, \n",
    "#                                         waxs_mask_img, \n",
    "#                                         img_scaling='linear', \n",
    "#                                         img_min=waxs_mask_img.quantile(0.0001), \n",
    "#                                         img_max=waxs_mask_img.quantile(0.995), \n",
    "#                                         d_inner=115,\n",
    "#                                         d_outer=310,\n",
    "#                                         alpha=0.4)\n",
    "\n",
    "#     plt.gcf().set(dpi=150)\n",
    "#     plt.show()\n",
    "#     plt.close('all')"
   ]
  },
  {
   "cell_type": "code",
   "execution_count": null,
   "id": "67",
   "metadata": {
    "tags": []
   },
   "outputs": [],
   "source": [
    "# # Tweaking if needed:\n",
    "\n",
    "# ## WAXS Tweaking & Plot Check\n",
    "# waxs_new_bcx = 477\n",
    "# waxs_new_bcy = 508\n",
    "# WAXSinteg.ni_beamcenter_x = waxs_new_bcx\n",
    "# WAXSinteg.ni_beamcenter_y = waxs_new_bcy\n",
    "# WAXSinteg.mask = waxs_mask\n",
    "# raw_waxs = waxs_mask_img.copy()\n",
    "# raw_waxs.attrs['beamcenter_x'] = waxs_new_bcx\n",
    "# raw_waxs.attrs['beamcenter_x'] = waxs_new_bcx\n",
    "# raw_waxs.attrs['poni1'] = WAXSinteg.poni1\n",
    "# raw_waxs.attrs['poni2'] = WAXSinteg.poni2\n",
    "\n",
    "# print('WAXS Beamcenter Tweaking: \\n'\n",
    "#       f'poni1: {WAXSinteg.poni1}, poni2: {WAXSinteg.poni2} \\n'\n",
    "#       f'ni_beamcenter_y: {WAXSinteg.ni_beamcenter_y}, ni_beamcenter_x: {WAXSinteg.ni_beamcenter_x}')\n",
    "# phs.IntegrationUtils.Check.checkAll(WAXSinteg, \n",
    "#                                     waxs_mask_img, \n",
    "#                                     img_min=waxs_mask_img.quantile(0.2), \n",
    "#                                     img_max=waxs_mask_img.quantile(0.999), \n",
    "#                                     d_inner=115,\n",
    "#                                     d_outer=300,\n",
    "#                                     alpha=0)\n",
    "# # plt.xlim(WAXSinteg.ni_beamcenter_x-500, WAXSinteg.ni_beamcenter_x+500)\n",
    "# # plt.ylim(WAXSinteg.ni_beamcenter_y-500, WAXSinteg.ni_beamcenter_y+500)\n",
    "# plt.gcf().set(dpi=150)\n",
    "# plt.show()\n",
    "# plt.close('all')\n",
    "\n",
    "\n",
    "# # # Using Pete D.'s (very slightly modified) beamcentering script:\n",
    "# # phs.BeamCentering.CenteringAccessor.refine_geometry\n",
    "\n",
    "# # ## WAXS\n",
    "# # # res_waxs = raw_waxs.sel(pol=0).util.refine_geometry(energy=275, q_min=0.02, q_max=0.06, chi_min=-10, chi_max=70)\n",
    "# # res_waxs = sample_DA.expand_dims({'energy':[sample_DA.energy]}).util.refine_geometry(energy=1180, q_min=0.28, q_max=0.35)\n",
    "# # sample_DA.attrs['poni1'] = res_waxs.x[0]\n",
    "# # sample_DA.attrs['poni2'] = res_waxs.x[1]\n",
    "# # WAXSinteg = phs.integrate.PFEnergySeriesIntegrator(geomethod='template_xr', template_xr = sample_DA.drop_vars('energy'))\n",
    "# # WAXSinteg.mask = waxs_mask\n",
    "\n",
    "# # ## WAXS Plot check\n",
    "# # print('WAXS Beamcenter Post-optimization: \\n'\n",
    "# #       f'poni1: {WAXSinteg.poni1}, poni2: {WAXSinteg.poni2} \\n'\n",
    "# #       f'ni_beamcenter_y: {WAXSinteg.ni_beamcenter_y}, ni_beamcenter_x: {WAXSinteg.ni_beamcenter_x}')\n",
    "# # phs.IntegrationUtils.Check.checkAll(WAXSinteg, \n",
    "# #                                     waxs_mask_img, \n",
    "# #                                     img_scaling='linear', \n",
    "# #                                     img_min=waxs_mask_img.quantile(0.01), \n",
    "# #                                     img_max=waxs_mask_img.quantile(0.99), \n",
    "# #                                     d_inner=215,\n",
    "# #                                     d_outer=310,\n",
    "# #                                     alpha=0.4)\n",
    "# # plt.xlim(WAXSinteg.ni_beamcenter_x-250, WAXSinteg.ni_beamcenter_x+250)\n",
    "# # plt.ylim(WAXSinteg.ni_beamcenter_y-250, WAXSinteg.ni_beamcenter_y+250)\n",
    "# # plt.gcf().set(dpi=120)\n",
    "# # plt.show()\n",
    "# # plt.close('all')"
   ]
  },
  {
   "cell_type": "code",
   "execution_count": null,
   "id": "d09662a3-1c9d-4f52-9169-a23855648bc0",
   "metadata": {
    "tags": []
   },
   "outputs": [],
   "source": [
    "# ## WAXS Plot check\n",
    "# print('WAXS Beamcenter Post-optimization: \\n'\n",
    "#       f'poni1: {WAXSinteg.poni1}, poni2: {WAXSinteg.poni2} \\n'\n",
    "#       f'ni_beamcenter_y: {WAXSinteg.ni_beamcenter_y}, ni_beamcenter_x: {WAXSinteg.ni_beamcenter_x}')\n",
    "# phs.IntegrationUtils.Check.checkAll(WAXSinteg, \n",
    "#                                     waxs_mask_img, \n",
    "#                                     img_scaling='linear', \n",
    "#                                     img_min=waxs_mask_img.quantile(0.01), \n",
    "#                                     img_max=waxs_mask_img.quantile(0.99), \n",
    "#                                     d_inner=215,\n",
    "#                                     d_outer=310,\n",
    "#                                     alpha=0.4)\n",
    "# plt.xlim(WAXSinteg.ni_beamcenter_x-500, WAXSinteg.ni_beamcenter_x+500)\n",
    "# plt.ylim(WAXSinteg.ni_beamcenter_y-500, WAXSinteg.ni_beamcenter_y+500)\n",
    "# plt.gcf().set(dpi=120)\n",
    "# plt.show()\n",
    "# plt.close('all')"
   ]
  },
  {
   "cell_type": "code",
   "execution_count": null,
   "id": "68",
   "metadata": {
    "tags": []
   },
   "outputs": [],
   "source": [
    "# ### Write beamcenters to saved .json file if content with them:\n",
    "\n",
    "# beamcenters_dict = {\n",
    "#     f'WAXS_2023C2': {'bcx':sample_DA.beamcenter_x, 'bcy':sample_DA.beamcenter_y}\n",
    "# }\n",
    "\n",
    "# # Check if the file exists, if not, create an empty JSON file\n",
    "# jsonFile = jsonPath.joinpath('beamcenters_dict.json')\n",
    "# if not jsonFile.exists():\n",
    "#     with jsonFile.open('w') as f:\n",
    "#         json.dump({}, f)\n",
    "\n",
    "# # Now, read the existing or empty JSON file\n",
    "# with jsonFile.open('r') as f:\n",
    "#     dic = json.load(f)\n",
    "\n",
    "# dic.update(beamcenters_dict)\n",
    "\n",
    "# # Write the updated dictionary back to the JSON file\n",
    "# with jsonFile.open('w') as f:\n",
    "#     json.dump(dic, f)"
   ]
  },
  {
   "cell_type": "markdown",
   "id": "69",
   "metadata": {},
   "source": [
    "## Convert to chi-q space & save zarrs"
   ]
  },
  {
   "cell_type": "code",
   "execution_count": null,
   "id": "199ea119-9137-452b-bb56-c8e44399eee6",
   "metadata": {
    "tags": []
   },
   "outputs": [],
   "source": [
    "polar_DA\n",
    "for dt_val in loaded_DS.datetime.values:\n",
    "    sample_DA = loaded_DS['raw_intensity'].sel(datetime=dt_val)\n",
    "    polar_DA = WAXSinteg.integrateImageStack_dask(sample_DA, chunksize=1)\n",
    "    "
   ]
  },
  {
   "cell_type": "code",
   "execution_count": null,
   "id": "a81b1117-0cd3-45ff-ba18-260d0b373104",
   "metadata": {
    "tags": []
   },
   "outputs": [],
   "source": [
    "loaded_DS"
   ]
  },
  {
   "cell_type": "code",
   "execution_count": null,
   "id": "71",
   "metadata": {
    "scrolled": true,
    "tags": []
   },
   "outputs": [],
   "source": [
    "# Integrate whole cartesian dataset!\n",
    "polar_DS_sample_rows = []\n",
    "for sample_name in tqdm(loaded_DS.sample_name.data[:]):\n",
    "    polar_DS = xr.Dataset()\n",
    "    polar_DA_polarization_rows = []\n",
    "    for pol in [0, 90]:\n",
    "        cart_DA = loaded_DS['raw_intensity'].sel(polarization=pol, sample_name=sample_name)  #.compute()\n",
    "        polar_DA = WAXSinteg.integrateImageStack_dask(cart_DA, chunksize=1)\n",
    "        # polar_DA = WAXSinteg.integrateImageStack(cart_DA)\n",
    "        # polar_DA = WAXSinteg.integrateSingleImage(cart_DA)\n",
    "        # polar_DA = WAXSinteg.integrateImageStack_legacy(cart_DA)\n",
    "\n",
    "        polar_DA = polar_DA.expand_dims({'polarization': [pol]})\n",
    "        polar_DA_polarization_rows.append(polar_DA)\n",
    "\n",
    "    polar_DS['raw_intensity'] = xr.concat(polar_DA_polarization_rows, dim='polarization')\n",
    "\n",
    "    polar_DS = polar_DS.expand_dims({'sample_name':[sample_name]})\n",
    "    polar_DS_sample_rows.append(polar_DS)\n",
    "    polar_DS.attrs['name'] = loaded_DS.name\n",
    "    \n",
    "    # polar_DS.to_netcdf(zarrsPath.joinpath('polar_rsoxs_carbon_ncs', f'{sample_name}.nc'), format='netCDF4', engine='h5netcdf')\n",
    "    \n",
    "polar_DS = xr.concat(polar_DS_sample_rows, dim='sample_name')"
   ]
  },
  {
   "cell_type": "code",
   "execution_count": null,
   "id": "72",
   "metadata": {
    "tags": []
   },
   "outputs": [],
   "source": [
    "polar_DS"
   ]
  },
  {
   "cell_type": "code",
   "execution_count": null,
   "id": "1f68c971-7aab-4e7a-b2ec-963789988e96",
   "metadata": {
    "tags": []
   },
   "outputs": [],
   "source": [
    "polar_DS['raw_intensity'].sel(sample_name='PM6-Y6_CF',polarization=90).sel(energy=285,method='nearest').plot.imshow(cmap=cmap)\n",
    "plt.show()"
   ]
  },
  {
   "cell_type": "code",
   "execution_count": null,
   "id": "73",
   "metadata": {
    "tags": []
   },
   "outputs": [],
   "source": [
    "def make_para_perp_DAs(DS, sample_name, intensity_type, pol, qlims, chi_width):\n",
    "    # select dataarray to plot\n",
    "    DA = DS.sel(sample_name=sample_name)[f'{intensity_type}_intensity']\n",
    "    sliced_DA = DA.sel(polarization=pol, q=slice(qlims[0],qlims[1]))\n",
    "\n",
    "    # calculate ISI dataarrays\n",
    "    if pol==0:\n",
    "        para_DA = sliced_DA.rsoxs.slice_chi(180, chi_width=(chi_width/2))\n",
    "        perp_DA = sliced_DA.rsoxs.slice_chi(90, chi_width=(chi_width/2))\n",
    "    elif pol==90:\n",
    "        perp_DA = sliced_DA.rsoxs.slice_chi(180, chi_width=(chi_width/2))\n",
    "        para_DA = sliced_DA.rsoxs.slice_chi(90, chi_width=(chi_width/2))   \n",
    "        \n",
    "    return para_DA, perp_DA"
   ]
  },
  {
   "cell_type": "code",
   "execution_count": null,
   "id": "68eae614-a1aa-4285-8b05-6c57515de344",
   "metadata": {
    "tags": []
   },
   "outputs": [],
   "source": [
    "DS"
   ]
  },
  {
   "cell_type": "code",
   "execution_count": null,
   "id": "5e45802a-1523-4abe-92e3-8ae8879e0caa",
   "metadata": {
    "tags": []
   },
   "outputs": [],
   "source": [
    "whos"
   ]
  },
  {
   "cell_type": "code",
   "execution_count": null,
   "id": "4a57f44e-ec80-4fce-b390-e370fa3b95a2",
   "metadata": {
    "tags": []
   },
   "outputs": [],
   "source": [
    "polar_DS"
   ]
  },
  {
   "cell_type": "code",
   "execution_count": null,
   "id": "fe626656-aa0f-42fe-b709-66a30c8a7dca",
   "metadata": {
    "tags": []
   },
   "outputs": [],
   "source": [
    "para_DA.sel(energy=285,method='nearest').plot.imshow()\n",
    "plt.show()"
   ]
  },
  {
   "cell_type": "code",
   "execution_count": null,
   "id": "74",
   "metadata": {
    "tags": []
   },
   "outputs": [],
   "source": [
    "# Select polar dataset, to qr linecuts: para, perp, and full\n",
    "edge = 'carbon'\n",
    "DS = polar_DS.copy()\n",
    "\n",
    "chi_width = 90\n",
    "q_slice = slice(0.009,0.08)\n",
    "e_slice = slice(282, 292)\n",
    "\n",
    "# make selection\n",
    "# sample_name = 'PM6-Y6_3000_dSiN'\n",
    "intensity_type = 'raw'\n",
    "pol = 0\n",
    "\n",
    "# for sample_name in tqdm(filtered_selected_samples):\n",
    "for sample_name in DS.sample_name.values[:1]:\n",
    "    print('next')\n",
    "    # for pol in [0]:\n",
    "    #     para_DA, perp_DA = make_para_perp_DAs(rsoxs_datasets, sample_name, edge, intensity_type, pol, qlims, chi_width) \n",
    "   \n",
    "    pol_paras = []\n",
    "    pol_perps = []\n",
    "    for pol in [0, 90]:\n",
    "        para_DA, perp_DA = make_para_perp_DAs(DS, sample_name, intensity_type, pol, (q_slice.start,q_slice.stop), chi_width) \n",
    "        pol_paras.append(para_DA)\n",
    "        pol_perps.append(perp_DA)\n",
    "\n",
    "\n",
    "    pol_paras[0] = pol_paras[0].assign_coords({'chi': np.linspace(0, chi_width, len(pol_paras[0].chi.values))})  # .assign_coords({'chi': np.linspace(0, 90,len(pol_paras[1].chi.values))})\n",
    "    pol_paras[1] = pol_paras[1].assign_coords({'chi': np.linspace(0, chi_width, len(pol_paras[1].chi.values))})  # .assign_coords({'chi': np.linspace(0, 90,len(pol_paras[1].chi.values))})\n",
    "    pol_perps[0] = pol_perps[0].assign_coords({'chi': np.linspace(0, chi_width, len(pol_perps[0].chi.values))})  # .assign_coords({'chi': np.linspace(0, 90,len(pol_perps[1].chi.values))})\n",
    "    pol_perps[1] = pol_perps[1].assign_coords({'chi': np.linspace(0, chi_width, len(pol_perps[1].chi.values))})  # .assign_coords({'chi': np.linspace(0, 90,len(pol_perps[1].chi.values))})\n",
    "\n",
    "    pol_paras[0] = pol_paras[0].interp({'chi': pol_paras[1].chi.values})  # .assign_coords({'chi': np.linspace(0, 90,len(pol_paras[1].chi.values))})\n",
    "    pol_perps[0] = pol_perps[0].interp({'chi': pol_perps[1].chi.values})  # .assign_coords({'chi': np.linspace(0, 90,len(pol_perps[1].chi.values))})\n",
    "\n",
    "    para_DA = (pol_paras[0] + pol_paras[1])/2\n",
    "    perp_DA = (pol_perps[0] + pol_perps[1])/2\n",
    "\n",
    "    para_DA = para_DA.assign_coords({'polarization':'avg'})\n",
    "    perp_DA = perp_DA.assign_coords({'polarization':'avg'})\n",
    "\n",
    "    para_DA = para_DA.interpolate_na(dim='q')\n",
    "    perp_DA = perp_DA.interpolate_na(dim='q')\n",
    "\n",
    "    pol = str(para_DA.polarization.values) \n",
    "    \n",
    "#     # Fl correction?\n",
    "#     scale_factor = float(para_DA.sel(energy=slice(285,305), q=slice(2e-2,6e-2)).mean('chi').mean('energy').integrate('q'))\n",
    "#     manual_scale_factor = manual_scale_factors_v4[sample_name]\n",
    "#     trmsn90_corr = (manual_scale_factor * scale_factor * trmsn90_bkgs_DA.sel(sample_name=sample_name))\n",
    "    \n",
    "#     para_DA = para_DA - trmsn90_corr\n",
    "#     perp_DA = perp_DA - trmsn90_corr\n",
    "                \n",
    "    # Plot\n",
    "    fig, axs = plt.subplots(1, 2, figsize=(11,5))\n",
    "    cmin = 3e8\n",
    "    cmax = 1e11\n",
    "\n",
    "    para_slice = para_DA.mean('chi').sel(q=q_slice, energy=e_slice)  # .plot(ax=axs[0], cmap=cmap, norm=LogNorm(cmin, cmax), add_colorbar=False)\n",
    "    perp_slice = perp_DA.mean('chi').sel(q=q_slice, energy=e_slice)  # .plot(ax=axs[1], cmap=cmap, norm=LogNorm(cmin, cmax), add_colorbar=False)\n",
    "\n",
    "    # cmin = para_slice.compute().quantile(0.01)\n",
    "    # cmax = para_slice.compute().quantile(0.995)\n",
    "\n",
    "    para_slice.plot(ax=axs[0], cmap=cmap, norm=LogNorm(cmin, cmax), add_colorbar=False)\n",
    "    perp_slice.plot(ax=axs[1], cmap=cmap, norm=LogNorm(cmin, cmax), add_colorbar=False)\n",
    "\n",
    "    # Add colorbar\n",
    "    sm = plt.cm.ScalarMappable(cmap=cmap, norm=LogNorm(cmin, cmax)) # Create a ScalarMappable object with the colormap and normalization & add the colorbar to the figure\n",
    "    cax = axs[1].inset_axes([1.03, 0, 0.05, 1])\n",
    "    cbar = fig.colorbar(sm, cax=cax, orientation='vertical')\n",
    "    cbar.set_label(label='Double-Norm-Corrected Intensity [arb. units]', labelpad=12, rotation=270)\n",
    "\n",
    "    fig.suptitle(f'Linecut Maps: {sample_name}, Polarization = {pol}°, Chi Width = {chi_width}°', fontsize=14)\n",
    "    # fig.suptitle(f'Linecut Maps: {sample_name} Bare SiN Subtracted, Polarization = {pol}°, Chi Width = {chi_width}°', fontsize=14)\n",
    "    # fig.suptitle(f'Linecut Maps: {sample_name} Bare SiN & Fluorescence Subtracted, Polarization = {pol}°, Chi Width = {chi_width}°', fontsize=14)\n",
    "\n",
    "    fig.set(tight_layout=True)\n",
    "\n",
    "    axs[0].set(xscale='log', title='Parallel to $E_p$', ylabel='Photon energy [eV]', xlabel='q [$Å^{-1}$]')\n",
    "    axs[1].set(xscale='log', title='Perpendicular to $E_p$ ', ylabel=None, xlabel='q [$Å^{-1}$]')\n",
    "\n",
    "    # fig.savefig(plotsPath.joinpath('linecut_maps_carbon_v2', f'{sample_name}_{edge}_{energy_min}-{energy_max}_{intensity_type}_chiWidth-{chi_width}deg_pol{pol}deg.png'), dpi=120)\n",
    "\n",
    "    plt.show()\n",
    "    plt.close('all')"
   ]
  },
  {
   "cell_type": "code",
   "execution_count": null,
   "id": "75",
   "metadata": {
    "tags": []
   },
   "outputs": [],
   "source": [
    "for sample_name in loaded_DS.sample_name.values:\n",
    "# for sample_name in ['PM6_5CN-CB', 'PM6_5CN-CB_rot']:\n",
    "    DA = loaded_DS['raw_intensity'].sel(sample_name=sample_name, polarization=90).squeeze()\n",
    "    cmin = float(DA.compute().quantile(0.0001))\n",
    "    cmax = float(DA.compute().quantile(0.995))\n",
    "    ax = DA.plot.imshow(norm=plt.Normalize(cmin, cmax), cmap=cmap, x='qx', y='qy')\n",
    "    ax.axes.set(title=f'{str(DA.sample_name.values)}, Energy = {int(DA.energy.values)} eV')\n",
    "    plt.show()\n",
    "    plt.close('all')"
   ]
  },
  {
   "cell_type": "code",
   "execution_count": null,
   "id": "76",
   "metadata": {
    "tags": []
   },
   "outputs": [],
   "source": [
    "energy = 284.4\n",
    "# energy = 400\n",
    "# energy = 530\n",
    "for sample_name in polar_DS.sample_name.values:\n",
    "# for sample_name in ['PM6_5CN-CB', 'PM6-Y6_p5CN-2CF-3CB']:\n",
    "    sliced_DA = polar_DS['corr_intensity'].sel(sample_name=sample_name, polarization=0).sel(energy=energy, method='nearest')\n",
    "    cmin = sliced_DA.compute().quantile(0.0001)\n",
    "    cmax = sliced_DA.compute().quantile(0.995)\n",
    "    ax = sliced_DA.plot.imshow(norm=plt.Normalize(cmin, cmax), cmap=cmap)\n",
    "    ax.axes.set(title=f'{sample_name}, {int(sliced_DA.energy.values)} eV')\n",
    "    plt.show()\n",
    "    plt.close('all')"
   ]
  },
  {
   "cell_type": "code",
   "execution_count": null,
   "id": "77",
   "metadata": {
    "tags": []
   },
   "outputs": [],
   "source": [
    "energy = 284.4\n",
    "# energy = 400\n",
    "# energy = 530\n",
    "# for sample_name in polar_DS.sample_name.values:\n",
    "for sample_name in ['PM6_5CN-CB', 'PM6-Y6_p5CN-2CF-3CB']:\n",
    "    sliced_DA = polar_DS['raw_intensity'].sel(sample_name=sample_name, polarization=0).sel(energy=energy, method='nearest')\n",
    "    cmin = sliced_DA.compute().quantile(0.0001)\n",
    "    cmax = sliced_DA.compute().quantile(0.995)\n",
    "    ax = sliced_DA.plot.imshow(norm=plt.Normalize(cmin, cmax), cmap=cmap)\n",
    "    ax.axes.set(title=f'{sample_name}, {int(sliced_DA.energy.values)} eV')\n",
    "    plt.show()\n",
    "    plt.close('all')"
   ]
  },
  {
   "cell_type": "code",
   "execution_count": null,
   "id": "78",
   "metadata": {
    "tags": []
   },
   "outputs": [],
   "source": [
    "loaded_polar_DS = xr.open_zarr(zarrsPath.joinpath('polar_rsoxs_carbon_tilted_v1.zarr'))"
   ]
  },
  {
   "cell_type": "code",
   "execution_count": null,
   "id": "79",
   "metadata": {
    "tags": []
   },
   "outputs": [],
   "source": [
    "loaded_polar_DS"
   ]
  },
  {
   "cell_type": "code",
   "execution_count": null,
   "id": "80",
   "metadata": {
    "tags": []
   },
   "outputs": [],
   "source": [
    "energy = 285\n",
    "# energy = 400\n",
    "# energy = 530\n",
    "for sample_name in loaded_polar_DS.sample_name.values:\n",
    "    for pol in [0,45,90]:\n",
    "        sliced_DA = loaded_polar_DS['corr_intensity'].sel(sample_name=sample_name, polarization=pol).sel(energy=energy, method='nearest')\n",
    "        cmin = sliced_DA.compute().quantile(0.0001)\n",
    "        cmax = sliced_DA.compute().quantile(0.995)\n",
    "        ax = sliced_DA.plot.imshow(norm=plt.Normalize(cmin, cmax), cmap=cmap)\n",
    "        ax.axes.set(title=f'{sample_name}, pol={pol}°, {int(sliced_DA.energy.values)} eV')\n",
    "        plt.show()\n",
    "        plt.close('all')"
   ]
  },
  {
   "cell_type": "code",
   "execution_count": null,
   "id": "81",
   "metadata": {
    "scrolled": true,
    "tags": []
   },
   "outputs": [],
   "source": [
    "def make_para_perp_DAs(DS, sample_name, intensity_type, pol, qlims, chi_width):\n",
    "    # select dataarray to plot\n",
    "    DA = DS.sel(sample_name=sample_name)[f'{intensity_type}_intensity']\n",
    "    sliced_DA = DA.sel(polarization=pol, q=slice(qlims[0],qlims[1]))\n",
    "\n",
    "    # calculate ISI dataarrays\n",
    "    if pol==0:\n",
    "        para_DA = sliced_DA.rsoxs.slice_chi(180, chi_width=(chi_width/2))\n",
    "        perp_DA = sliced_DA.rsoxs.slice_chi(90, chi_width=(chi_width/2))\n",
    "    elif pol==90:\n",
    "        perp_DA = sliced_DA.rsoxs.slice_chi(180, chi_width=(chi_width/2))\n",
    "        para_DA = sliced_DA.rsoxs.slice_chi(90, chi_width=(chi_width/2))   \n",
    "        \n",
    "    return para_DA, perp_DA\n",
    "\n",
    "\n",
    "# make selection\n",
    "sample_name = 'PM7_CF'\n",
    "edge = 'carbon'\n",
    "intensity_type = 'raw'\n",
    "pol = 0\n",
    "qlims = (0.01, 0.08)\n",
    "chi_width = 30\n",
    "\n",
    "para_DA, perp_DA = make_para_perp_DAs(polar_DS, sample_name, intensity_type, pol, qlims, chi_width)  \n",
    "\n",
    "# slice ISI data\n",
    "para_ISI = para_DA.interpolate_na(dim='q').mean('chi').sum('q')\n",
    "perp_ISI = perp_DA.interpolate_na(dim='q').mean('chi').sum('q')\n",
    "\n",
    "# plot\n",
    "fig, ax = plt.subplots()\n",
    "para_ISI.sel(energy=slice(280,290)).plot.line(ax=ax, label='para', yscale='log')\n",
    "perp_ISI.sel(energy=slice(280,290)).plot.line(ax=ax, label='perp', yscale='log')\n",
    "fig.suptitle('Integrated Scattering Intensity (ISI)', fontsize=14)\n",
    "ax.set(title=f'{sample_name}, Polarization = {pol}°, Chi Width = {chi_width}°', xlabel='Photon Energy [eV]', ylabel='Double-Norm-Corrected Intensity [arb. units]')\n",
    "ax.legend()\n",
    "plt.show()"
   ]
  },
  {
   "cell_type": "code",
   "execution_count": null,
   "id": "82",
   "metadata": {
    "tags": []
   },
   "outputs": [],
   "source": [
    "# # polar_sample_DS = polar_DS_sample_rows[0]\n",
    "# for polar_sample_DS in tqdm(polar_DS_sample_rows):\n",
    "#     # display(polar_sample_DS)\n",
    "#     sample_name = polar_sample_DS.sample_name.values[0]\n",
    "#     print(sample_name)\n",
    "#     polar_sample_DS.to_netcdf(zarrsPath.joinpath('polar_rsoxs_carbon_ncs', f'{sample_name}.nc'), format='netCDF4', engine='h5netcdf')"
   ]
  },
  {
   "cell_type": "code",
   "execution_count": null,
   "id": "83",
   "metadata": {
    "tags": []
   },
   "outputs": [],
   "source": [
    "polar_DS"
   ]
  },
  {
   "cell_type": "code",
   "execution_count": null,
   "id": "850fff99-c4fa-4bc1-a9ec-212ff2dc3dba",
   "metadata": {
    "tags": []
   },
   "outputs": [],
   "source": [
    "polar_DS"
   ]
  },
  {
   "cell_type": "code",
   "execution_count": null,
   "id": "84",
   "metadata": {},
   "outputs": [],
   "source": [
    "polar_DS = polar_DS.chunk({'sample_name':1, 'energy':114, 'polarization':1})\n",
    "\n",
    "# polar_DS['samp_diode'] = DS['samp_diode']\n",
    "# polar_DS['smoothed_diode'] = DS['smoothed_diode']\n",
    "\n",
    "\n",
    "polar_DS"
   ]
  },
  {
   "cell_type": "code",
   "execution_count": null,
   "id": "85",
   "metadata": {
    "tags": []
   },
   "outputs": [],
   "source": [
    "zarrsPath"
   ]
  },
  {
   "cell_type": "code",
   "execution_count": null,
   "id": "ca494534-cfe4-4448-863c-32fad13a4dfd",
   "metadata": {
    "tags": []
   },
   "outputs": [],
   "source": [
    "[f.name for f in zarrsPath.glob('*')]"
   ]
  },
  {
   "cell_type": "code",
   "execution_count": null,
   "id": "7ac422c3-d1ea-4d46-8355-236acdb33519",
   "metadata": {
    "tags": []
   },
   "outputs": [],
   "source": [
    "polar_DS"
   ]
  },
  {
   "cell_type": "code",
   "execution_count": null,
   "id": "86",
   "metadata": {
    "scrolled": true,
    "tags": []
   },
   "outputs": [],
   "source": [
    "# # rsoxs_1180\n",
    "# polar_DS.to_zarr(zarrsPath.joinpath('polar_rsoxs_1180.zarr'), mode='w')\n",
    "\n",
    "# rsoxs_carbon\n",
    "polar_DS.to_zarr(zarrsPath.joinpath('polar_rsoxs_carbon_v2.zarr'), mode='w')\n",
    "\n",
    "# # rsoxs_carbon_reverse\n",
    "# polar_DS.to_zarr(zarrsPath.joinpath('polar_rsoxs_carbon_reverse_v1.zarr'), mode='w')\n",
    "\n",
    "# # rsoxs_carbon_tilted\n",
    "# polar_DS.to_zarr(zarrsPath.joinpath('polar_rsoxs_carbon_tilted_v1.zarr'), mode='w')"
   ]
  },
  {
   "cell_type": "code",
   "execution_count": null,
   "id": "85ff6e95-8a08-42ea-887e-8131d73ccd95",
   "metadata": {
    "tags": []
   },
   "outputs": [],
   "source": [
    "polar_DS.sample_name.values"
   ]
  },
  {
   "cell_type": "code",
   "execution_count": null,
   "id": "87",
   "metadata": {
    "scrolled": true,
    "tags": []
   },
   "outputs": [],
   "source": [
    "sample_names = polar_DS.sample_name.values\n",
    "\n",
    "polar_DS.sel(sample_name=[sample_names[0]]).to_zarr(zarrsPath.joinpath(f'polar_{polar_DS.name}_raw_v2.zarr'), mode='w')\n",
    "\n",
    "for sample_name in tqdm(sample_names[1:], desc='Samples...'):\n",
    "    polar_DS.sel(sample_name=[sample_name]).to_zarr(zarrsPath.joinpath(f'polar_{polar_DS.name}_raw_v2.zarr'), mode='a', append_dim='sample_name')"
   ]
  },
  {
   "cell_type": "code",
   "execution_count": null,
   "id": "88",
   "metadata": {},
   "outputs": [],
   "source": [
    "netcdf_paths = str(zarrsPath.joinpath('polar_rsoxs_carbon_ncs')) + '/*.nc'\n",
    "netcdf_paths"
   ]
  },
  {
   "cell_type": "code",
   "execution_count": null,
   "id": "89",
   "metadata": {},
   "outputs": [],
   "source": [
    "polar_DS = xr.open_mfdataset(netcdf_paths)\n",
    "polar_DS"
   ]
  },
  {
   "cell_type": "code",
   "execution_count": null,
   "id": "90",
   "metadata": {},
   "outputs": [],
   "source": [
    "polar_DS"
   ]
  },
  {
   "cell_type": "code",
   "execution_count": null,
   "id": "91",
   "metadata": {},
   "outputs": [],
   "source": [
    "polar_DS.sample_name.values"
   ]
  },
  {
   "cell_type": "code",
   "execution_count": null,
   "id": "92",
   "metadata": {
    "tags": []
   },
   "outputs": [],
   "source": [
    "# make selection\n",
    "sample_name = 'Y6BO_p5CN-CF'\n",
    "\n",
    "para_DA, perp_DA = make_para_perp_DAs(polar_DS, sample_name, intensity_type, pol, qlims, chi_width)   \n",
    "\n",
    "# Select AR data\n",
    "ar_DA = (para_DA.mean('chi') - perp_DA.mean('chi')) / (para_DA.mean('chi') + perp_DA.mean('chi'))\n",
    "\n",
    "# Plot\n",
    "ax = ar_DA.sel(energy=slice(282,292)).plot(figsize=(8,5), norm=plt.Normalize(-0.6,0.6))\n",
    "ax.figure.suptitle('Anisotropy Ratio (AR) Map', fontsize=14, x=0.43)\n",
    "ax.axes.set(title=f'{sample_name}, Polarization = {pol}°, Chi Width = {chi_width}°', ylabel='Photon Energy [eV]', xlabel='q [$Å^{-1}$]')\n",
    "ax.colorbar.set_label('AR [arb. units]', rotation=270, labelpad=12)\n",
    "plt.show()"
   ]
  },
  {
   "cell_type": "code",
   "execution_count": null,
   "id": "93",
   "metadata": {
    "tags": []
   },
   "outputs": [],
   "source": [
    "# make selection\n",
    "sample_name = 'Y6BO_p5CN-CF'\n",
    "edge = 'carbon'\n",
    "intensity_type = 'corr'\n",
    "pol = 0\n",
    "qlims = (0.01, 0.08)\n",
    "chi_width = 90\n",
    "\n",
    "para_DA, perp_DA = make_para_perp_DAs(polar_DS, sample_name, intensity_type, pol, qlims, chi_width)   \n",
    "\n",
    "# Select AR data\n",
    "ar_DA = (para_DA.mean('chi') - perp_DA.mean('chi')) / (para_DA.mean('chi') + perp_DA.mean('chi'))\n",
    "\n",
    "# Plot\n",
    "ax = ar_DA.sel(energy=slice(282,292)).plot(figsize=(8,5), norm=plt.Normalize(-0.6,0.6))\n",
    "ax.figure.suptitle('Anisotropy Ratio (AR) Map', fontsize=14, x=0.43)\n",
    "ax.axes.set(title=f'{sample_name}, Polarization = {pol}°, Chi Width = {chi_width}°', ylabel='Photon Energy [eV]', xlabel='q [$Å^{-1}$]')\n",
    "ax.colorbar.set_label('AR [arb. units]', rotation=270, labelpad=12)\n",
    "plt.show()"
   ]
  },
  {
   "cell_type": "code",
   "execution_count": null,
   "id": "94",
   "metadata": {},
   "outputs": [],
   "source": [
    "# display(polar_DS.sample_name.values)\n",
    "# sample_name = 'PM6-Y6_3000_dSiN'"
   ]
  },
  {
   "cell_type": "code",
   "execution_count": null,
   "id": "95",
   "metadata": {
    "tags": []
   },
   "outputs": [],
   "source": [
    "energy = 285\n",
    "# energy = 400\n",
    "# energy = 530\n",
    "for sample_name in polar_DS.sample_name.values:\n",
    "    sliced_DA = polar_DS['raw_intensity'].sel(sample_name=sample_name, polarization=90).sel(energy=energy, method='nearest')\n",
    "    cmin = sliced_DA.compute().quantile(0.0001)\n",
    "    cmax = sliced_DA.compute().quantile(0.995)\n",
    "    sliced_DA.plot.imshow(norm=plt.Normalize(cmin, cmax), cmap=cmap)\n",
    "    plt.show()\n",
    "    plt.close('all')"
   ]
  },
  {
   "cell_type": "code",
   "execution_count": null,
   "id": "96",
   "metadata": {
    "tags": []
   },
   "outputs": [],
   "source": [
    "# 1. Get energy values\n",
    "energy_values = polar_DS.energy.values\n",
    "energy_slices = [energy_values[i:i+5] for i in range(0, len(energy_values), 5)]\n",
    "energy_slices"
   ]
  },
  {
   "cell_type": "code",
   "execution_count": null,
   "id": "97",
   "metadata": {},
   "outputs": [],
   "source": [
    "polar_DS"
   ]
  },
  {
   "cell_type": "code",
   "execution_count": null,
   "id": "98",
   "metadata": {
    "tags": []
   },
   "outputs": [],
   "source": [
    "stacked_polar_DS = polar_DS.stack(system=('sample_name', 'polarization')).reset_index('system')\n",
    "stacked_polar_DS"
   ]
  },
  {
   "cell_type": "code",
   "execution_count": null,
   "id": "99",
   "metadata": {
    "tags": []
   },
   "outputs": [],
   "source": [
    "# Save the first part of the dataset to initialize the Zarr store\n",
    "first_system = stacked_polar_DS.isel(system=slice(0, 1))\n",
    "first_system.to_zarr(zarrsPath.joinpath(f'polar_{polar_DS.name}.zarr'), mode='w')\n",
    "\n",
    "# Iterate over the rest of the systems and append to the Zarr store\n",
    "for i in tqdm(range(1, len(stacked_polar_DS.system)), desc='Samples...'):\n",
    "    subset = stacked_polar_DS.isel(system=slice(i, i+1))\n",
    "    subset.to_zarr(zarrsPath.joinpath(f'polar_{polar_DS.name}.zarr'), mode='a', append_dim='system')"
   ]
  },
  {
   "cell_type": "code",
   "execution_count": null,
   "id": "100",
   "metadata": {
    "tags": []
   },
   "outputs": [],
   "source": [
    "sample_names = polar_DS.sample_name.values\n",
    "\n",
    "polar_DS.sel(sample_name=[sample_names[0]], polarization=[0]).to_zarr(zarrsPath.joinpath(f'polar_{polar_DS.name}.zarr'), mode='w')\n",
    "\n",
    "for sample_name in tqdm(sample_names[1:], desc='Samples...'):\n",
    "    # polar_DS.sel(sample_name=[sample_name], polarization=[0]).to_zarr(zarrsPath.joinpath(f'polar_{polar_DS.name}.zarr'), mode='a', append_dim='sample_name')\n",
    "    polar_DS.sel(sample_name=[sample_name], polarization=[90]).to_zarr(zarrsPath.joinpath(f'polar_{polar_DS.name}.zarr'), mode='a', append_dim='polarization')"
   ]
  },
  {
   "cell_type": "code",
   "execution_count": null,
   "id": "101",
   "metadata": {
    "tags": []
   },
   "outputs": [],
   "source": [
    "# # import zarr\n",
    "\n",
    "# # sample_names = polar_DS.sample_name.values\n",
    "# # energy_values = polar_DS.energy.values\n",
    "# # energy_slices = [energy_values[i:i+5] for i in range(0, len(energy_values), 5)]\n",
    "\n",
    "# # root_store = zarr.open_group(zarrsPath.joinpath(f'polar_{polar_DS.name}_regions.zarr').as_posix(), mode='a')\n",
    "\n",
    "# # for sample in sample_names:\n",
    "# #     # Make sure there's a group for this sample in the Zarr store\n",
    "# #     if sample not in root_store.group_keys():\n",
    "# #         root_store.create_group(sample)\n",
    "    \n",
    "# #     subset_by_sample = polar_DS.sel(sample_name=sample)\n",
    "    \n",
    "# #     for idx, energy_slice in enumerate(energy_slices):\n",
    "# #         final_subset = subset_by_sample.sel(energy=energy_slice)\n",
    "        \n",
    "# #         # Save to the specific group and energy slice within the Zarr store\n",
    "# #         final_subset.to_zarr(root_store[sample], mode='a', append_dim='energy', consolidated=True)\n",
    "\n",
    "# sample_names = polar_DS.sample_name.values\n",
    "# energy_values = polar_DS.energy.values\n",
    "# energy_slices = [energy_values[i:i+5] for i in range(0, len(energy_values), 5)]\n",
    "\n",
    "# main_zarr_path = zarrsPath.joinpath(f'polar_{polar_DS.name}_regions.zarr')\n",
    "\n",
    "# for sample in tqdm(sample_names, desc='Samples...'):\n",
    "#     subset_by_sample = polar_DS.sel(sample_name=sample)\n",
    "    \n",
    "#     # Define path for the sample within the main Zarr store\n",
    "#     sample_path = main_zarr_path.joinpath(sample)\n",
    "    \n",
    "#     for idx, energy_slice in enumerate(energy_slices):\n",
    "#         final_subset = subset_by_sample.sel(energy=energy_slice)\n",
    "        \n",
    "#         # Save to the specific sample path and energy slice within the Zarr store\n",
    "#         if idx==0:\n",
    "#             final_subset.to_zarr(sample_path, mode='w', consolidated=True)\n",
    "#         else:\n",
    "#             final_subset.to_zarr(sample_path, mode='a', append_dim='energy', consolidated=True)\n",
    "\n"
   ]
  },
  {
   "cell_type": "code",
   "execution_count": null,
   "id": "102",
   "metadata": {},
   "outputs": [],
   "source": [
    "def make_para_perp_DAs(datasets, sample_name, edge, intensity_type, pol, qlims, chi_width):\n",
    "    # select dataarray to plot\n",
    "    DS = datasets[f'polar_{edge}']\n",
    "    DA = DS.sel(sample_name=sample_name)[f'{intensity_type}_intensity']\n",
    "    sliced_DA = DA.sel(polarization=pol, q=slice(qlims[0],qlims[1]))\n",
    "\n",
    "    # calculate ISI dataarrays\n",
    "    if pol==0:\n",
    "        para_DA = sliced_DA.rsoxs.slice_chi(180, chi_width=(chi_width/2))\n",
    "        perp_DA = sliced_DA.rsoxs.slice_chi(90, chi_width=(chi_width/2))\n",
    "    elif pol==90:\n",
    "        perp_DA = sliced_DA.rsoxs.slice_chi(180, chi_width=(chi_width/2))\n",
    "        para_DA = sliced_DA.rsoxs.slice_chi(90, chi_width=(chi_width/2))   \n",
    "        \n",
    "    return para_DA, perp_DA\n",
    "\n",
    "# load dictionary of rsoxs datasets\n",
    "rsoxs_datasets = {}\n",
    "key = 'polar_regions'\n",
    "key_start = key.split('_')[0]\n",
    "key_end = key.split('_')[1]        \n",
    "zarrPath = list(zarrsPath.glob(f'{key_start}*{key_end}.zarr'))[0]\n",
    "rsoxs_datasets[key] = xr.open_zarr(zarrPath)\n",
    "\n",
    "# Compute any dask coordiantes\n",
    "for coord_name, coord_data in rsoxs_datasets[key].coords.items():\n",
    "    if isinstance(coord_data.data, da.Array):\n",
    "        rsoxs_datasets[key].coords[coord_name] = coord_data.compute()\n",
    "            \n",
    "rsoxs_datasets[key]"
   ]
  },
  {
   "cell_type": "code",
   "execution_count": null,
   "id": "103",
   "metadata": {},
   "outputs": [],
   "source": [
    "# make selection\n",
    "edge = 'regions'\n",
    "intensity_type = 'corr'\n",
    "qlims = (0.01, 0.08)\n",
    "chi_width = 30\n",
    "\n",
    "for sample_name in tqdm(rsoxs_datasets[f'polar_{edge}'].sample_name.data):\n",
    "    for pol in [0, 90]:\n",
    "        ### Select para & perp DataArrays\n",
    "        para_DA, perp_DA = make_para_perp_DAs(rsoxs_datasets, sample_name, edge, intensity_type, pol, qlims, chi_width)  \n",
    "        \n",
    "#         ### ISI:\n",
    "#         # Slice ISI data\n",
    "#         para_ISI = para_DA.interpolate_na(dim='q').mean('chi').sum('q')\n",
    "#         perp_ISI = perp_DA.interpolate_na(dim='q').mean('chi').sum('q')\n",
    "\n",
    "#         # Plot\n",
    "#         fig, ax = plt.subplots()\n",
    "#         para_ISI.sel(energy=slice(280,290)).plot.line(ax=ax, label='para', yscale='log')\n",
    "#         perp_ISI.sel(energy=slice(280,290)).plot.line(ax=ax, label='perp', yscale='log')\n",
    "#         fig.suptitle('Integrated Scattering Intensity (ISI)', fontsize=14)\n",
    "#         ax.set(title=f'{sample_name}, Polarization = {pol}°, Chi Width = {chi_width}°', xlabel='Photon Energy [eV]', ylabel='Double-Norm-Corrected Intensity [arb. units]')\n",
    "#         ax.legend()\n",
    "#         fig.savefig(plotsPath.joinpath('isi', f'{sample_name}_{edge}_{intensity_type}_chiWidth-{chi_width}deg_pol{pol}deg.png'), dpi=120)\n",
    "#         plt.close('all')\n",
    "        \n",
    "#         ### Linecut Maps:\n",
    "#         fig, axs = plt.subplots(1, 2, figsize=(11,5))\n",
    "\n",
    "#         para_DA.mean('chi').sel(energy=slice(282,290)).plot(ax=axs[0], cmap=cmap, norm=LogNorm(1e9, 1e11), add_colorbar=False)\n",
    "#         perp_DA.mean('chi').sel(energy=slice(282,290)).plot(ax=axs[1], cmap=cmap, norm=LogNorm(1e9, 1e11), add_colorbar=False)\n",
    "\n",
    "#         sm = plt.cm.ScalarMappable(cmap=cmap, norm=LogNorm(2e10, 1e12)) # Create a ScalarMappable object with the colormap and normalization & add the colorbar to the figure\n",
    "#         cax = axs[1].inset_axes([1.03, 0, 0.05, 1])\n",
    "#         cbar = fig.colorbar(sm, cax=cax, orientation='vertical')\n",
    "#         cbar.set_label(label='Intensity [arb. units]', labelpad=12)\n",
    "#         fig.suptitle(f'Linecut Maps: {sample_name}, Polarization = {pol}°, Chi Width = {chi_width}°', fontsize=14)\n",
    "#         fig.set(tight_layout=True)\n",
    "#         axs[0].set(title='Parallel to $E_p$', ylabel='Photon energy [eV]', xlabel='q [$Å^{-1}$]')\n",
    "#         axs[1].set(title='Perpendicular to $E_p$ ', ylabel=None, xlabel='q [$Å^{-1}$]')\n",
    "#         fig.savefig(plotsPath.joinpath('linecut_maps', f'{sample_name}_{edge}_{intensity_type}_chiWidth-{chi_width}deg_pol{pol}deg.png'), dpi=120)\n",
    "#         plt.close('all')\n",
    "\n",
    "        ### AR Maps:\n",
    "        # Select AR data\n",
    "        ar_DA = (para_DA.mean('chi') - perp_DA.mean('chi')) / (para_DA.mean('chi') + perp_DA.mean('chi'))\n",
    "\n",
    "        # Plot\n",
    "        ax = ar_DA.sel(energy=slice(282,292)).plot(figsize=(8,5), norm=plt.Normalize(-0.6, 0.6))\n",
    "        ax.figure.suptitle('Anisotropy Ratio (AR) Map', fontsize=14, x=0.43)\n",
    "        ax.axes.set(title=f'{sample_name}, Polarization = {pol}°, Chi Width = {chi_width}°', ylabel='Photon Energy [eV]', xlabel='q [$Å^{-1}$]')\n",
    "        ax.colorbar.set_label('AR [arb. units]', rotation=270, labelpad=12)\n",
    "        # ax.figure.savefig(plotsPath.joinpath('ar_maps', f'{sample_name}_{edge}_{intensity_type}_chiWidth-{chi_width}deg_pol{pol}deg.png'), dpi=120)\n",
    "        plt.show()\n",
    "        plt.close('all')"
   ]
  },
  {
   "cell_type": "code",
   "execution_count": null,
   "id": "104",
   "metadata": {},
   "outputs": [],
   "source": []
  }
 ],
 "metadata": {
  "kernelspec": {
   "display_name": "nrss",
   "language": "python",
   "name": "nrss"
  },
  "language_info": {
   "codemirror_mode": {
    "name": "ipython",
    "version": 3
   },
   "file_extension": ".py",
   "mimetype": "text/x-python",
   "name": "python",
   "nbconvert_exporter": "python",
   "pygments_lexer": "ipython3",
   "version": "3.9.0"
  },
  "toc-showmarkdowntxt": false
 },
 "nbformat": 4,
 "nbformat_minor": 5
}
