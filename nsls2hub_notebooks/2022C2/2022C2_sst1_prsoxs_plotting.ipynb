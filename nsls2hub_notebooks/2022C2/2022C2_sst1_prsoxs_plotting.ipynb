{
 "cells": [
  {
   "cell_type": "markdown",
   "id": "0",
   "metadata": {},
   "source": [
    "# 2022C2: Plotting SST1 RSoXS Data"
   ]
  },
  {
   "cell_type": "markdown",
   "id": "1",
   "metadata": {},
   "source": [
    "## Imports"
   ]
  },
  {
   "cell_type": "code",
   "execution_count": null,
   "id": "2",
   "metadata": {
    "tags": []
   },
   "outputs": [],
   "source": [
    "## Imports\n",
    "import PyHyperScattering as phs\n",
    "import pathlib\n",
    "import sys\n",
    "import io\n",
    "import ast\n",
    "import json\n",
    "import datetime\n",
    "import dask.array as da\n",
    "import numpy as np\n",
    "import pandas as pd\n",
    "import xarray as xr\n",
    "import matplotlib.pyplot as plt\n",
    "from matplotlib.colors import LogNorm\n",
    "from tqdm.auto import tqdm\n",
    "import dask.array as da\n",
    "from tiled.client import from_profile, from_uri\n",
    "import subprocess\n",
    "\n",
    "\n",
    "print(f'Using PyHyperScattering Version: {phs.__version__}')"
   ]
  },
  {
   "cell_type": "markdown",
   "id": "3",
   "metadata": {},
   "source": [
    "## Define Paths"
   ]
  },
  {
   "cell_type": "code",
   "execution_count": null,
   "id": "4",
   "metadata": {},
   "outputs": [],
   "source": [
    "def make_para_perp_DAs(datasets, sample_name, edge, intensity_type, pol, qlims, chi_width):\n",
    "    # select dataarray to plot\n",
    "    DS = datasets[f'polar_{edge}']\n",
    "    DA = DS.sel(sample_name=sample_name)[f'{intensity_type}_intensity']\n",
    "    sliced_DA = DA.sel(polarization=pol, q=slice(qlims[0],qlims[1]))\n",
    "\n",
    "    # calculate ISI dataarrays\n",
    "    if pol==0:\n",
    "        para_DA = sliced_DA.rsoxs.slice_chi(180, chi_width=(chi_width/2))\n",
    "        perp_DA = sliced_DA.rsoxs.slice_chi(90, chi_width=(chi_width/2))\n",
    "    elif pol==90:\n",
    "        perp_DA = sliced_DA.rsoxs.slice_chi(180, chi_width=(chi_width/2))\n",
    "        para_DA = sliced_DA.rsoxs.slice_chi(90, chi_width=(chi_width/2))   \n",
    "        \n",
    "    return para_DA, perp_DA\n",
    "\n",
    "def make_para_perp_DAs_saxs(datasets, sample_name, edge, intensity_type, pol, qlims, chi_width):\n",
    "    # select dataarray to plot\n",
    "    DS = datasets[f'polar_{edge}']\n",
    "    DA = DS.sel(sample_name=sample_name)[f'{intensity_type}_intensity']\n",
    "    sliced_DA = DA.sel(polarization=pol, q=slice(qlims[0],qlims[1]))\n",
    "\n",
    "    # calculate ISI dataarrays\n",
    "    if pol==0:\n",
    "        para_DA = sliced_DA.rsoxs.slice_chi(180, chi_width=(chi_width/2))\n",
    "        perp_DA = sliced_DA.rsoxs.slice_chi(-90, chi_width=(chi_width/2))\n",
    "    elif pol==90:\n",
    "        perp_DA = sliced_DA.rsoxs.slice_chi(180, chi_width=(chi_width/2))\n",
    "        para_DA = sliced_DA.rsoxs.slice_chi(-90, chi_width=(chi_width/2))   \n",
    "        \n",
    "    return para_DA, perp_DA"
   ]
  },
  {
   "cell_type": "code",
   "execution_count": null,
   "id": "5",
   "metadata": {},
   "outputs": [],
   "source": [
    "## Define directory paths\n",
    "# Define directory paths\n",
    "\n",
    "userPath = pathlib.Path('/nsls2/users/alevin')\n",
    "# propPath = pathlib.Path('/nsls2/data/sst/proposals/2023-2/pass-311130')\n",
    "# outPath = propPath.joinpath('processed_data')\n",
    "# zarrsPath = outPath.joinpath('zarrs')\n",
    "\n",
    "\n",
    "propPath = pathlib.Path('/nsls2/data/sst/proposals/2022-2/pass-309180')\n",
    "outPath = propPath.joinpath('processed_data')\n",
    "zarrsPath = outPath.joinpath('zarrs')\n",
    "plotsPath = outPath.joinpath('prsoxs_plots')"
   ]
  },
  {
   "cell_type": "markdown",
   "id": "6",
   "metadata": {},
   "source": [
    "## Load DataArrays "
   ]
  },
  {
   "cell_type": "code",
   "execution_count": null,
   "id": "7",
   "metadata": {},
   "outputs": [],
   "source": [
    "sorted([f.name for f in zarrsPath.glob('*')])"
   ]
  },
  {
   "cell_type": "code",
   "execution_count": null,
   "id": "8",
   "metadata": {},
   "outputs": [],
   "source": [
    "# load dictionary of rsoxs datasets\n",
    "rsoxs_datasets = {}\n",
    "# for key in ['cartesian_carbon', 'cartesian_nitrogen', 'cartesian_oxygen', \n",
    "#             'polar_carbon', 'polar_nitrogen', 'polar_oxygen']:\n",
    "for key in ['cartesian_carbon', 'polar_carbon']:\n",
    "    key_start = key.split('_')[0]\n",
    "    key_end = key.split('_')[1]       \n",
    "    # zarrPath = list(zarrsPath.glob(f'{key_start}*{key_end}*-waxs.zarr'))[0]\n",
    "    zarrPath = list(zarrsPath.glob(f'{key_start}*{key_end}*-saxs.zarr'))[0]\n",
    "    rsoxs_datasets[key] = xr.open_zarr(zarrPath)\n",
    "    \n",
    "    # Compute any dask coordiantes\n",
    "    for coord_name, coord_data in rsoxs_datasets[key].coords.items():\n",
    "        if isinstance(coord_data.data, da.Array):\n",
    "            rsoxs_datasets[key].coords[coord_name] = coord_data.compute()\n",
    "    \n",
    "    # # Add bare SiN substrate subtracted data variables if necessary\n",
    "    # if key_start == 'cartesian':\n",
    "    #     DS = rsoxs_datasets[key]\n",
    "    #     DS['sin_sub_raw_intensity'] = DS['raw_intensity'] - DS['raw_intensity'].sel(sample_name='BareSiN')\n",
    "    #     DS['sin_sub_corr_intensity'] = DS['corr_intensity'] - DS['corr_intensity'].sel(sample_name='BareSiN')\n",
    "    #     rsoxs_datasets[key] = DS"
   ]
  },
  {
   "cell_type": "code",
   "execution_count": null,
   "id": "9",
   "metadata": {},
   "outputs": [],
   "source": [
    "# DS['alo_sub_raw_intensity'] = DS['raw_intensity'] - DS['raw_intensity'].sel(sample_name='BareAlO')\n",
    "# DS['alo_sub_corr_intensity'] = DS['corr_intensity'] - DS['corr_intensity'].sel(sample_name='BareAlO')\n",
    "\n",
    "cmap = plt.cm.turbo.copy()\n",
    "cmap.set_bad(cmap.get_under())"
   ]
  },
  {
   "cell_type": "markdown",
   "id": "10",
   "metadata": {},
   "source": [
    "## Intensity Plots"
   ]
  },
  {
   "cell_type": "markdown",
   "id": "11",
   "metadata": {
    "tags": []
   },
   "source": [
    "### 1. Detector movies"
   ]
  },
  {
   "cell_type": "code",
   "execution_count": null,
   "id": "12",
   "metadata": {
    "tags": []
   },
   "outputs": [],
   "source": [
    "sample_guide = {\n",
    "    'andrew1': 'PM6-Y6-CF',\n",
    "    'andrew2': 'PM6-Y6-CFCN',\n",
    "    'andrew3': 'PM6-Y6-Tol',\n",
    "    'andrew4': 'PM6-Y7-CF',\n",
    "    'andrew5': 'PM6-Y7-CFCN',\n",
    "    'andrew6': 'PM6-Y7-Tol',\n",
    "    'andrew7': 'PM6-Y7BO-CF',\n",
    "    'andrew8': 'PM6-Y7BO-CFCN',\n",
    "    'andrew9': 'PM6-Y7BO-Tol',\n",
    "    'andrew10': 'PM6-Y12-CF',\n",
    "    'andrew11': 'PM6-Y12-CFCN',\n",
    "    'andrew12': 'PM6-Y12-Tol',\n",
    "    'andrew13': 'PM7D5-Y6-CF',\n",
    "    'andrew14': 'PM7D5-Y6-Tol',\n",
    "    'andrew15': 'PM7D5-Y247-CF',\n",
    "    'andrew16': 'PM7D5-Y247-Tol',\n",
    "    'andrew17': 'PM7D5-Y12-CF',\n",
    "    'andrew18': 'PM7D5-Y12-CF_2',\n",
    "    'andrew19': 'PM7D5-Y12-Tol',\n",
    "    'andrew20': 'PM7D5-Y12-Tol_2'\n",
    "}"
   ]
  },
  {
   "cell_type": "code",
   "execution_count": null,
   "id": "13",
   "metadata": {
    "tags": []
   },
   "outputs": [],
   "source": [
    "# Select Dataset\n",
    "edge = 'carbon'\n",
    "DS = rsoxs_datasets[f'cartesian_{edge}']\n",
    "# DS = DS.assign_coords({'sample_name': [sample_guide[sample_name] for sample_name in DS.sample_name.values]})\n",
    "bcx = DS['raw_intensity'].beamcenter_x\n",
    "bcy = DS['raw_intensity'].beamcenter_y\n",
    "\n",
    "\n",
    "# Select Plotting Parameters\n",
    "# pol = 90\n",
    "energy = 285\n",
    "# energy=400\n",
    "pix_size = 500\n",
    "pix_x_slice = slice(bcx-(pix_size/2), bcx+(pix_size/2))\n",
    "pix_y_slice = slice(bcy-(pix_size/2), bcy+(pix_size/2))\n",
    "cmin = 5e8\n",
    "cmax = 1e11\n",
    "\n",
    "# Select DataArray\n",
    "# sample_name = 'PM6-Y6_3000_dSiN'\n",
    "for pol in [0, 90]:\n",
    "    for sample_name in tqdm(DS.sample_name.values, desc=f'Pol = {pol}°'):\n",
    "        intensity_type = 'corr'\n",
    "        DA = DS.sel(sample_name=sample_name)[f'{intensity_type}_intensity']\n",
    "        # cmin = float(DA.where(sliced_DA>0).compute().quantile(0.35))\n",
    "        # cmax = float(DA.where(sliced_DA>0).compute().quantile(0.9999))\n",
    "\n",
    "        # Plot\n",
    "        sliced_DA = DA.sel(polarization=pol, pix_x=pix_x_slice, pix_y=pix_y_slice).sel(energy=energy,method='nearest')\n",
    "        # print(f'cmin={cmin}, cmax={cmax}')\n",
    "        ax = sliced_DA.plot.imshow(figsize=(5.5,4.5), x='qx', y='qy', cmap=cmap, norm=LogNorm(cmin,cmax))\n",
    "        ax.figure.suptitle(f'Photon Energy = {np.round(energy, 1)} eV', fontsize=14, y=0.96)\n",
    "        ax.figure.set_tight_layout(True)\n",
    "        ax.axes.set(aspect='equal', title=f'{sample_name}, Polarization = {pol}°', xlabel='q$_x$ [$Å^{-1}$]', ylabel='q$_y$ [$Å^{-1}$]')\n",
    "        ax.colorbar.set_label('Double-Norm-Corrected Intensity [arb. units]', rotation=270, labelpad=12)\n",
    "        ax.figure.savefig(plotsPath.joinpath('detector_movies_carbon_saxs', f'{sample_name}_{edge}_{intensity_type}_pol{pol}deg.jpeg'), dpi=120)\n",
    "        # plt.show()\n",
    "        plt.close('all')"
   ]
  },
  {
   "cell_type": "raw",
   "id": "14",
   "metadata": {},
   "source": [
    "rclone copy -P detector_movies_oxygen_v1 remote:research/data_analysis/rsoxs_suite/prsoxs_plots/2023C2/detector_movies_oxygen_v1 --exclude \"*checkpoint*\"\n",
    "rclone --dry-run copy -P detector_movies_carbon_v2 remote:research/data_analysis/rsoxs_suite/prsoxs_plots/2023C2/detector_movies_carbon_v2 --exclude \"*checkpoint*\"\n",
    "\n",
    "rclone copy -P isi_oxygen_v1 remote:research/data_analysis/rsoxs_suite/prsoxs_plots/2023C2/isi_oxygen_v1 --exclude \"*checkpoint*\"\n",
    "rclone copy -P linecut_maps_oxygen_v1 remote:research/data_analysis/rsoxs_suite/prsoxs_plots/2023C2/linecut_maps_oxygen_v1 --exclude \"*checkpoint*\"\n",
    "rclone copy -P ar_maps_oxygen_v1 remote:research/data_analysis/rsoxs_suite/prsoxs_plots/2023C2/ar_maps_oxygen_v1 --exclude \"*checkpoint*\"\n",
    "\n",
    "rclone --dry-run sync -P . remote:research/data_analysis/rsoxs_suite/prsoxs_plots/2022C2/ --exclude \"*checkpoint*\""
   ]
  },
  {
   "cell_type": "code",
   "execution_count": null,
   "id": "15",
   "metadata": {
    "tags": []
   },
   "outputs": [],
   "source": [
    "# Select Dataset\n",
    "edge = 'carbon'\n",
    "DS = rsoxs_datasets[f'cartesian_{edge}']\n",
    "\n",
    "bcx = DS['raw_intensity'].beamcenter_x\n",
    "bcy = DS['raw_intensity'].beamcenter_y\n",
    "\n",
    "# Select Plotting Parameters\n",
    "# pol = 90\n",
    "pix_size = 500\n",
    "pix_x_slice = slice(bcx-(pix_size/2), bcx+(pix_size/2))\n",
    "pix_y_slice = slice(bcy-(pix_size/2), bcy+(pix_size/2))\n",
    "intensity_type = 'corr'\n",
    "\n",
    "# Select DataArray\n",
    "# sample_name = 'PM6-Y6_3000_dSiN'\n",
    "for pol in [0, 90]:\n",
    "    for sample_name in tqdm(DS.sample_name.values, desc=f'Polarization {pol}°'):\n",
    "        DA = DS.sel(sample_name=sample_name)[f'{intensity_type}_intensity']\n",
    "\n",
    "        output_path = plotsPath.joinpath('detector_movies_carbon_saxs', f'{sample_name}_{edge}_{intensity_type}_pol{pol}deg.mp4')\n",
    "\n",
    "        # FFmpeg command. This is set up to accept data from the pipe and use it as input, with PNG format.\n",
    "        # It will then output an H.264 encoded MP4 video.\n",
    "        cmd = [\n",
    "            'ffmpeg',\n",
    "            '-y',  # Overwrite output file if it exists\n",
    "            '-f', 'image2pipe',\n",
    "            '-vcodec', 'png',\n",
    "            '-r', '23',  # Frame rate\n",
    "            '-i', '-',  # The input comes from a pipe\n",
    "            '-vcodec', 'libx264',\n",
    "            '-pix_fmt', 'yuv420p',\n",
    "            '-crf', '27',  # Set the quality (lower is better, 17 is often considered visually lossless)\n",
    "            str(output_path)\n",
    "        ]\n",
    "\n",
    "        # Start the subprocess\n",
    "        proc = subprocess.Popen(cmd, stdin=subprocess.PIPE, stdout=subprocess.PIPE, stderr=subprocess.PIPE)\n",
    "\n",
    "        # Loop through the energy dimension and send frames to FFmpeg\n",
    "        for energy in tqdm(DA.energy.values, desc=f'Making the {sample_name} movie'):\n",
    "            # Make & customize plot\n",
    "            sliced_DA = DA.sel(polarization=pol, pix_x=pix_x_slice, pix_y=pix_y_slice).sel(energy=energy, method='nearest')\n",
    "            ax = sliced_DA.plot.imshow(figsize=(5.5,4.5), x='qx', y='qy', cmap=cmap, norm=LogNorm(cmin,cmax))\n",
    "            ax.figure.suptitle(f'Photon Energy = {np.round(energy, 1)} eV', fontsize=14, y=0.96)\n",
    "            ax.figure.set_tight_layout(True)   \n",
    "            ax.axes.set(aspect='equal', title=f'{sample_name}, Polarization = {pol}°', xlabel='q$_x$ [$Å^{-1}$]', ylabel='q$_y$ [$Å^{-1}$]')\n",
    "            ax.colorbar.set_label('Double-Norm-Corrected Intensity [arb. units]', rotation=270, labelpad=12)\n",
    "\n",
    "            # Save figure to a PNG buffer\n",
    "            # ax.figure.savefig(plotsPath.joinpath('detector_movies/frames', f'energy-{round(energy)}_frame-{i:03d}.png'), dpi=120)\n",
    "\n",
    "            buf = io.BytesIO()\n",
    "            ax.figure.savefig(buf, format='png')\n",
    "            buf.seek(0)\n",
    "\n",
    "            # Write the PNG buffer data to the process\n",
    "            proc.stdin.write(buf.getvalue())\n",
    "            plt.close('all')\n",
    "\n",
    "        # Finish the subprocess\n",
    "        out, err = proc.communicate()\n",
    "        if proc.returncode != 0:\n",
    "            print(f\"Error: {err}\")\n"
   ]
  },
  {
   "cell_type": "markdown",
   "id": "16",
   "metadata": {},
   "source": [
    "### 2. ISI Plots"
   ]
  },
  {
   "cell_type": "code",
   "execution_count": null,
   "id": "17",
   "metadata": {},
   "outputs": [],
   "source": [
    "# DA.sel(sample_name='PM6-Y6_3000_dSiN', polarization=0, q=slice(0.001, 0.03)).sel(energy=398.8, method='nearest').plot(norm=LogNorm(1e9, 1e11), cmap=plt.cm.turbo)\n",
    "# plt.show()"
   ]
  },
  {
   "cell_type": "code",
   "execution_count": null,
   "id": "18",
   "metadata": {},
   "outputs": [],
   "source": [
    "rsoxs_datasets['polar_carbon']"
   ]
  },
  {
   "cell_type": "code",
   "execution_count": null,
   "id": "19",
   "metadata": {},
   "outputs": [],
   "source": [
    "perp_DA"
   ]
  },
  {
   "cell_type": "code",
   "execution_count": null,
   "id": "20",
   "metadata": {},
   "outputs": [],
   "source": [
    "perp_DA.sel(energy=285.1,method='nearest').compute().interpolate_na(dim='chi').plot(cmap=cmap, norm=LogNorm(5e8,1e11))\n",
    "# perp_DA.sel(energy=285.1,method='nearest').compute().plot(cmap=cmap, norm=LogNorm(5e8,1e11))"
   ]
  },
  {
   "cell_type": "code",
   "execution_count": null,
   "id": "21",
   "metadata": {
    "tags": []
   },
   "outputs": [],
   "source": [
    "# make selection\n",
    "# sample_name = 'PM6-Y6_3000_dSiN'\n",
    "edge = 'carbon'\n",
    "intensity_type = 'corr'\n",
    "pol = 90\n",
    "qlims = (0.0015, 0.008)\n",
    "chi_width = 30\n",
    "\n",
    "energy_min = 283.5\n",
    "energy_max = 289\n",
    "\n",
    "for sample_name in tqdm(rsoxs_datasets[f'polar_{edge}'][f'{intensity_type}_intensity'].sortby('sample_name').sample_name.values):\n",
    "    # para_DA, perp_DA = make_para_perp_DAs(rsoxs_datasets, sample_name, edge, intensity_type, pol, qlims, chi_width)  \n",
    "    para_DA, perp_DA = make_para_perp_DAs_saxs(rsoxs_datasets, sample_name, edge, intensity_type, pol, qlims, chi_width)  \n",
    "\n",
    "#     pol_paras = []\n",
    "#     pol_perps = []\n",
    "#     for pol in [0, 90]:\n",
    "#         para_DA, perp_DA = make_para_perp_DAs(rsoxs_datasets, sample_name, edge, intensity_type, pol, qlims, chi_width) \n",
    "#         pol_paras.append(para_DA)\n",
    "#         pol_perps.append(perp_DA)\n",
    "\n",
    "#     pol_paras[0] = pol_paras[0].assign_coords({'chi': np.linspace(0, 30,len(pol_paras[1].chi.values))})\n",
    "#     pol_paras[1] = pol_paras[1].assign_coords({'chi': np.linspace(0, 30,len(pol_paras[1].chi.values))})\n",
    "#     pol_perps[0] = pol_perps[0].assign_coords({'chi': np.linspace(0, 30,len(pol_perps[1].chi.values))})\n",
    "#     pol_perps[1] = pol_perps[1].assign_coords({'chi': np.linspace(0, 30,len(pol_perps[1].chi.values))})\n",
    "\n",
    "#     para_DA = (pol_paras[0] + pol_paras[1])/2\n",
    "#     perp_DA = (pol_perps[0] + pol_perps[1])/2\n",
    "    \n",
    "#     para_DA = para_DA.assign_coords({'polarization':'avg'})\n",
    "#     perp_DA = perp_DA.assign_coords({'polarization':'avg'})\n",
    "    \n",
    "#     pol = str(para_DA.polarization.values)\n",
    "\n",
    "    # slice ISI data\n",
    "    para_ISI = para_DA.compute().interpolate_na(dim='chi').mean('chi').mean('q')\n",
    "    perp_ISI = perp_DA.compute().interpolate_na(dim='chi').mean('chi').mean('q')\n",
    "\n",
    "    # plot\n",
    "    fig, ax = plt.subplots()\n",
    "    # fig, ax = plt.subplots(figsize=(7,3.5), dpi=120, tight_layout=True)\n",
    "\n",
    "    para_ISI.sel(energy=slice(energy_min,energy_max)).plot.line(ax=ax, label='para', yscale='log')\n",
    "    perp_ISI.sel(energy=slice(energy_min,energy_max)).plot.line(ax=ax, label='perp', yscale='log')\n",
    "    # fig.suptitle(f'Integrated scattering intensity (ISI): {sample_name}', fontsize=14, x=0.55)\n",
    "    fig.suptitle(f'Integrated scattering intensity (ISI): {sample_name}', fontsize=14)\n",
    "    ax.set(title=f'Polarization = {pol}°, Chi Width = {chi_width}°, Q range = ({qlims[0]}, {qlims[1]}) ' + 'Å$^{-1}$', \n",
    "           xlabel='X-ray energy [eV]', ylabel='Intensity [arb. units]')\n",
    "    ax.legend()\n",
    "    plt.show()\n",
    "\n",
    "    fig.savefig(outPath.joinpath('prsoxs_plots/isi_carbon_square', \n",
    "        f'{sample_name}_{edge}_{intensity_type}_chiWidth-{chi_width}deg_qrange-{qlims[0]}-{qlims[1]}_pol{pol}deg.png'), dpi=120)\n",
    "\n",
    "    plt.close('all')"
   ]
  },
  {
   "cell_type": "markdown",
   "id": "22",
   "metadata": {},
   "source": [
    "### 3. 2D Linecut Maps"
   ]
  },
  {
   "cell_type": "code",
   "execution_count": null,
   "id": "23",
   "metadata": {},
   "outputs": [],
   "source": [
    "display(DS.sample_name.values)"
   ]
  },
  {
   "cell_type": "code",
   "execution_count": null,
   "id": "24",
   "metadata": {
    "tags": []
   },
   "outputs": [],
   "source": [
    "# make selection\n",
    "# sample_name = 'PM7D5-Y6-Tol'\n",
    "edge = 'carbon'\n",
    "intensity_type = 'corr'\n",
    "pol = 90\n",
    "qlims = (0.0015, 0.008)\n",
    "chi_width = 30\n",
    "energy_min = 282\n",
    "energy_max = 290\n",
    "\n",
    "cmap = plt.cm.turbo.copy()\n",
    "\n",
    "for sample_name in tqdm(rsoxs_datasets[f'polar_{edge}'][f'{intensity_type}_intensity'].sortby('sample_name').sample_name.values):\n",
    "    para_DA, perp_DA = make_para_perp_DAs(rsoxs_datasets, sample_name, edge, intensity_type, pol, qlims, chi_width)  \n",
    "\n",
    "#     pol_paras = []\n",
    "#     pol_perps = []\n",
    "#     for pol in [0, 90]:\n",
    "#         para_DA, perp_DA = make_para_perp_DAs(rsoxs_datasets, sample_name, edge, intensity_type, pol, qlims, chi_width) \n",
    "#         pol_paras.append(para_DA)\n",
    "#         pol_perps.append(perp_DA)\n",
    "\n",
    "#     pol_paras[0] = pol_paras[0].assign_coords({'chi': np.linspace(0, 30,len(pol_paras[1].chi.values))})\n",
    "#     pol_paras[1] = pol_paras[1].assign_coords({'chi': np.linspace(0, 30,len(pol_paras[1].chi.values))})\n",
    "#     pol_perps[0] = pol_perps[0].assign_coords({'chi': np.linspace(0, 30,len(pol_perps[1].chi.values))})\n",
    "#     pol_perps[1] = pol_perps[1].assign_coords({'chi': np.linspace(0, 30,len(pol_perps[1].chi.values))})\n",
    "\n",
    "#     para_DA = (pol_paras[0] + pol_paras[1])/2\n",
    "#     perp_DA = (pol_perps[0] + pol_perps[1])/2\n",
    "    \n",
    "#     para_DA = para_DA.assign_coords({'polarization':'avg'})\n",
    "#     perp_DA = perp_DA.assign_coords({'polarization':'avg'})\n",
    "    \n",
    "#     pol = str(para_DA.polarization.values) \n",
    "\n",
    "    # Plot\n",
    "    fig, axs = plt.subplots(1, 2, figsize=(11,5))\n",
    "    cmin = 2e8\n",
    "    cmax = 5e9\n",
    "\n",
    "    para_DA.mean('chi').sel(energy=slice(energy_min,energy_max)).plot(ax=axs[0], cmap=cmap, norm=LogNorm(cmin, cmax), add_colorbar=False)\n",
    "    perp_DA.mean('chi').sel(energy=slice(energy_min,energy_max)).plot(ax=axs[1], cmap=cmap, norm=LogNorm(cmin, cmax), add_colorbar=False)\n",
    "\n",
    "    # Colorbar stuff\n",
    "    sm = plt.cm.ScalarMappable(cmap=cmap, norm=LogNorm(cmin, cmax)) # Create a ScalarMappable object with the colormap and normalization & add the colorbar to the figure\n",
    "    cax = axs[1].inset_axes([1.03, 0, 0.05, 1])\n",
    "    cbar = fig.colorbar(sm, cax=cax, orientation='vertical')\n",
    "    cbar.set_label(label='Double-Norm-Corrected Intensity [arb. units]', labelpad=12, rotation=270)\n",
    "\n",
    "    fig.suptitle(f'Linecut Maps: {sample_name}, Polarization = {pol}°, Chi Width = {chi_width}°', fontsize=14)\n",
    "    fig.set(tight_layout=True)\n",
    "\n",
    "    axs[0].set(title='Parallel to $E_p$', ylabel='Photon energy [eV]', xlabel='q [$Å^{-1}$]')\n",
    "    axs[1].set(title='Perpendicular to $E_p$ ', ylabel=None, xlabel='q [$Å^{-1}$]')\n",
    "\n",
    "    plt.show()\n",
    "    \n",
    "    fig.savefig(plotsPath.joinpath('linecut_maps_carbon', \n",
    "            f'{sample_name}_{edge}_{intensity_type}_chiWidth-{chi_width}deg_pol{pol}deg_q{qlims[0]}-{qlims[1]}_energy{energy_min}-{energy_max}.png'), dpi=120)\n",
    "    \n",
    "    plt.close('all')"
   ]
  },
  {
   "cell_type": "code",
   "execution_count": null,
   "id": "25",
   "metadata": {},
   "outputs": [],
   "source": [
    "a = para_EvsQ_avg.hvplot.line(groupby=\"energy\", loglog=True)\n",
    "a * perp_EvsQ_avg.hvplot.line(groupby=\"energy\")"
   ]
  },
  {
   "cell_type": "markdown",
   "id": "26",
   "metadata": {
    "tags": []
   },
   "source": [
    "### 4. Meaned 1D intensity lineplots, selected energies"
   ]
  },
  {
   "cell_type": "code",
   "execution_count": null,
   "id": "27",
   "metadata": {
    "tags": []
   },
   "outputs": [],
   "source": [
    "# make selection\n",
    "edge = 'carbon'\n",
    "intensity_type = 'corr'\n",
    "pol = 0\n",
    "qlims = (0.0015, 0.008)\n",
    "chi_width = 30\n",
    "\n",
    "\n",
    "for sample_name in tqdm(rsoxs_datasets[f'polar_{edge}'][f'{intensity_type}_intensity'].sample_name.values):\n",
    "    para_DA, perp_DA = make_para_perp_DAs(rsoxs_datasets, sample_name, edge, intensity_type, pol, qlims, chi_width)  \n",
    "\n",
    "#     pol_paras = []\n",
    "#     pol_perps = []\n",
    "#     for pol in [0, 90]:\n",
    "#         para_DA, perp_DA = make_para_perp_DAs(rsoxs_datasets, sample_name, edge, intensity_type, pol, qlims, chi_width) \n",
    "#         pol_paras.append(para_DA)\n",
    "#         pol_perps.append(perp_DA)\n",
    "\n",
    "#     pol_paras[0] = pol_paras[0].assign_coords({'chi': np.linspace(0, 30,len(pol_paras[1].chi.values))})\n",
    "#     pol_paras[1] = pol_paras[1].assign_coords({'chi': np.linspace(0, 30,len(pol_paras[1].chi.values))})\n",
    "#     pol_perps[0] = pol_perps[0].assign_coords({'chi': np.linspace(0, 30,len(pol_perps[1].chi.values))})\n",
    "#     pol_perps[1] = pol_perps[1].assign_coords({'chi': np.linspace(0, 30,len(pol_perps[1].chi.values))})\n",
    "\n",
    "#     para_DA = (pol_paras[0] + pol_paras[1])/2\n",
    "#     perp_DA = (pol_perps[0] + pol_perps[1])/2\n",
    "    \n",
    "#     para_DA = para_DA.assign_coords({'polarization':'avg'})\n",
    "#     perp_DA = perp_DA.assign_coords({'polarization':'avg'})\n",
    "    \n",
    "#     pol = str(para_DA.polarization.values) \n",
    "\n",
    "    # energies = para_DA.energy.sel(energy=slice(398.4, 401.5)).data\n",
    "    # energies = para_DA.energy.sel(energy=slice(390, 404)).data\n",
    "    # energies = para_DA.energy.sel(energy=[390, 398.8, 399.8, 401.1, 410], method='nearest').data\n",
    "    # energies = para_DA.energy.sel(energy=[283, 284.2, 284.4, 284.8, 285.1, 285.8, 286.2, 287, 288, 300], method='nearest').data\n",
    "    energies = para_DA.energy.sel(energy=[283, 284.2, 284.8, 285.1, 286.2, 287, 288, 300], method='nearest').data\n",
    "    # energies = para_DA.energy.sel(energy=[283, 284.2, 284.4, 284.8, 285.1, 285.8, 286.2, 287, 288, 300], method='nearest').data\n",
    "\n",
    "\n",
    "    cmap = plt.cm.turbo.copy()\n",
    "    colors = cmap(np.linspace(0, 0.9, len(energies)))\n",
    "\n",
    "    # # Create a ScalarMappable object with the colormap and normalization & add the colorbar to the figure\n",
    "    # sm = plt.cm.ScalarMappable(cmap=cmap, norm=plt.Normalize(vmin=energies[0], vmax=energies[-1]))\n",
    "    # cax = ax.inset_axes([1.03, 0, 0.03, 1])\n",
    "    # cbar = fig.colorbar(sm, cax=cax, orientation='vertical')\n",
    "    # cbar.set_label(label=f'Time [seconds]', labelpad=14)\n",
    "    # cbar.set_ticks(np.round(np.linspace(energies[0], energies[-1], len(energies)), 2))\n",
    "\n",
    "    fig, axs = plt.subplots(ncols=2,figsize=(8,5), tight_layout=True)\n",
    "\n",
    "    for j, energy in enumerate(energies):\n",
    "        (para_DA.sel(energy=energy).compute().interpolate_na(dim='q').mean('chi')\n",
    "         .plot.line(ax=axs[0], color=colors[j], yscale='log', xscale='log', label=np.round(energy,1)))\n",
    "        (perp_DA.sel(energy=energy).compute().interpolate_na(dim='q').mean('chi')\n",
    "         .plot.line(ax=axs[1], color=colors[j], yscale='log', xscale='log', label=np.round(energy,1)))\n",
    "\n",
    "    fig.suptitle(f'Linecuts: {sample_name}')\n",
    "    axs[0].set(title=f'Para, Polarization = {str(para_DA.polarization.values)}°, chi width = {chi_width}', ylabel='Intensity [arb. units]', xlabel='Q [$Å^{-1}$]')\n",
    "    axs[1].set(title=f'Perp, Polarization = {str(perp_DA.polarization.values)}°, chi width = {chi_width}', ylabel='Intensity [arb. units]', xlabel='Q [$Å^{-1}$]')\n",
    "\n",
    "    axs[0].legend(title='Energy [eV]')\n",
    "    axs[1].legend(title='Energy [eV]')\n",
    "\n",
    "    try: \n",
    "        fig.savefig(plotsPath.joinpath('linecut_plots_carbon', \n",
    "            f'{sample_name}_{edge}_{intensity_type}_chiWidth-{chi_width}deg_q{qlims[0]}-{qlims[1]}_pol{pol}deg.png'), dpi=120)\n",
    "\n",
    "        plt.show()\n",
    "    except ValueError:\n",
    "        print(f'value error for log log plot for: {sample_name}')\n",
    "        \n",
    "    plt.close('all')"
   ]
  },
  {
   "cell_type": "markdown",
   "id": "28",
   "metadata": {},
   "source": [
    "## Anisotropy Ratio Plots"
   ]
  },
  {
   "cell_type": "markdown",
   "id": "29",
   "metadata": {},
   "source": [
    "### 1. 2D AR Maps"
   ]
  },
  {
   "cell_type": "code",
   "execution_count": null,
   "id": "30",
   "metadata": {},
   "outputs": [],
   "source": [
    "rsoxs_datasets['polar_carbon']"
   ]
  },
  {
   "cell_type": "code",
   "execution_count": null,
   "id": "31",
   "metadata": {},
   "outputs": [],
   "source": [
    "str(pol_paras[0].polarization.values)"
   ]
  },
  {
   "cell_type": "code",
   "execution_count": null,
   "id": "32",
   "metadata": {},
   "outputs": [],
   "source": [
    "# make selection\n",
    "# sample_name = 'PM6-Y6-CF'\n",
    "edge = 'carbon'\n",
    "intensity_type = 'corr'\n",
    "pol = 0\n",
    "qlims = (0.0015, 0.008)\n",
    "chi_width = 30\n",
    "energy_min = 282\n",
    "energy_max = 290\n",
    "\n",
    "sample_names = rsoxs_datasets['polar_carbon'].sample_name.values\n",
    "for sample_name in tqdm(sample_names):\n",
    "    para_DA, perp_DA = make_para_perp_DAs(rsoxs_datasets, sample_name, edge, intensity_type, pol, qlims, chi_width)  \n",
    "\n",
    "#     pol_paras = []\n",
    "#     pol_perps = []\n",
    "#     for pol in [0, 90]:\n",
    "#         para_DA, perp_DA = make_para_perp_DAs(rsoxs_datasets, sample_name, edge, intensity_type, pol, qlims, chi_width) \n",
    "#         pol_paras.append(para_DA)\n",
    "#         pol_perps.append(perp_DA)\n",
    "\n",
    "#     pol_paras[0] = pol_paras[0].assign_coords({'chi': np.linspace(0, 30,len(pol_paras[1].chi.values))})\n",
    "#     pol_paras[1] = pol_paras[1].assign_coords({'chi': np.linspace(0, 30,len(pol_paras[1].chi.values))})\n",
    "#     pol_perps[0] = pol_perps[0].assign_coords({'chi': np.linspace(0, 30,len(pol_perps[1].chi.values))})\n",
    "#     pol_perps[1] = pol_perps[1].assign_coords({'chi': np.linspace(0, 30,len(pol_perps[1].chi.values))})\n",
    "\n",
    "#     para_DA = (pol_paras[0] + pol_paras[1])/2\n",
    "#     perp_DA = (pol_perps[0] + pol_perps[1])/2\n",
    "    \n",
    "#     para_DA = para_DA.assign_coords({'polarization':'avg'})\n",
    "#     perp_DA = perp_DA.assign_coords({'polarization':'avg'})\n",
    "    \n",
    "#     pol = str(para_DA.polarization.values) \n",
    "\n",
    "    # Select AR data\n",
    "    pol_choice = 0\n",
    "    # ar_DA = (pol_paras[pol_choice].mean('chi') - pol_perps[pol_choice].mean('chi')) / (pol_paras[pol_choice].mean('chi') + pol_perps[pol_choice].mean('chi'))\n",
    "    ar_DA = (para_DA.mean('chi') - perp_DA.mean('chi')) / (para_DA.mean('chi') + perp_DA.mean('chi'))\n",
    "\n",
    "    # Plot\n",
    "    # ax = ar_DA.sel(energy=slice(energy_min,energy_max)).plot(figsize=(8,5), norm=plt.Normalize(-0.6, 0.6))\n",
    "    ax = ar_DA.sel(energy=slice(energy_min,energy_max)).plot(figsize=(8,5))\n",
    "\n",
    "    ax.figure.suptitle('Anisotropy Ratio (AR) Map', fontsize=14, x=0.43)\n",
    "    ax.axes.set(title=f'{sample_name}, Polarization = {str(ar_DA.polarization.values)}, Chi Width = {chi_width}°', ylabel='Photon Energy [eV]', xlabel='q [$Å^{-1}$]')\n",
    "    # ax.axes.set(title=f'{sample_name}, Polarization = Averaged, Chi Width = {chi_width}°', ylabel='Photon Energy [eV]', xlabel='q [$Å^{-1}$]')\n",
    "    ax.colorbar.set_label('AR [arb. units]', rotation=270, labelpad=12)\n",
    "\n",
    "\n",
    "    ax.figure.savefig(plotsPath.joinpath('ar_maps_carbon', \n",
    "        f'vauto_{sample_name}_{edge}_{intensity_type}_chiWidth-{chi_width}deg_pol{pol}deg_q-{qlims[0]}-{qlims[1]}_energy{energy_min}-{energy_max}.png'), \n",
    "                      dpi=120)\n",
    "\n",
    "    plt.show()\n",
    "    plt.close('all')"
   ]
  },
  {
   "cell_type": "code",
   "execution_count": null,
   "id": "33",
   "metadata": {},
   "outputs": [],
   "source": [
    "pol_paras[1].assign_coords({'chi': np.linspace(0, 30,len(pol_paras[1].chi.values))})"
   ]
  },
  {
   "cell_type": "code",
   "execution_count": null,
   "id": "34",
   "metadata": {},
   "outputs": [],
   "source": [
    "pol_paras[0] = pol_paras[0].assign_coords({'chi': np.linspace(0, 30,len(pol_paras[1].chi.values))})\n",
    "pol_paras[1] = pol_paras[1].assign_coords({'chi': np.linspace(0, 30,len(pol_paras[1].chi.values))})\n",
    "\n",
    "avg_para_DA = (pol_paras[0] + pol_paras[1])/2\n",
    "avg_para_DA"
   ]
  },
  {
   "cell_type": "code",
   "execution_count": null,
   "id": "35",
   "metadata": {},
   "outputs": [],
   "source": [
    "ARvsQ_avg.hvplot.line(groupby=\"energy\")"
   ]
  },
  {
   "cell_type": "markdown",
   "id": "36",
   "metadata": {},
   "source": [
    "### 2. 1D AR Maps"
   ]
  },
  {
   "cell_type": "code",
   "execution_count": null,
   "id": "37",
   "metadata": {},
   "outputs": [],
   "source": []
  },
  {
   "cell_type": "markdown",
   "id": "38",
   "metadata": {},
   "source": [
    "## Loop for saving many plots"
   ]
  },
  {
   "cell_type": "code",
   "execution_count": null,
   "id": "39",
   "metadata": {},
   "outputs": [],
   "source": [
    "rsoxs_datasets['polar_oxygen']"
   ]
  },
  {
   "cell_type": "code",
   "execution_count": null,
   "id": "40",
   "metadata": {
    "tags": []
   },
   "outputs": [],
   "source": [
    "# make selection\n",
    "edge = 'oxygen'\n",
    "intensity_type = 'corr'\n",
    "qlims = (0.01, 0.08)\n",
    "chi_width = 30\n",
    "energy_min = 525\n",
    "energy_max = 545\n",
    "cmin = 5e8\n",
    "cmax = 5e10\n",
    "\n",
    "for sample_name in tqdm(rsoxs_datasets[f'polar_{edge}'].sample_name.data):\n",
    "    for pol in [0, 90]:\n",
    "        ### Select para & perp DataArrays\n",
    "        para_DA, perp_DA = make_para_perp_DAs(rsoxs_datasets, sample_name, edge, intensity_type, pol, qlims, chi_width)  \n",
    "        \n",
    "        ### ISI:\n",
    "        # Slice ISI data\n",
    "        para_ISI = para_DA.interpolate_na(dim='q').mean('chi').sum('q')\n",
    "        perp_ISI = perp_DA.interpolate_na(dim='q').mean('chi').sum('q')\n",
    "        \n",
    "        # Plot\n",
    "        fig, ax = plt.subplots()\n",
    "        para_ISI.sel(energy=slice(energy_min,energy_max)).plot.line(ax=ax, label='para', yscale='log')\n",
    "        perp_ISI.sel(energy=slice(energy_min,energy_max)).plot.line(ax=ax, label='perp', yscale='log')\n",
    "        # para_ISI.plot.line(ax=ax, label='para', yscale='log')\n",
    "        # perp_ISI.plot.line(ax=ax, label='perp', yscale='log')        \n",
    "        fig.suptitle('Integrated Scattering Intensity (ISI)', fontsize=14)\n",
    "        ax.set(title=f'{sample_name}, Polarization = {pol}°, Chi Width = {chi_width}°', xlabel='Photon Energy [eV]', ylabel='Double-Norm-Corrected Intensity [arb. units]')\n",
    "        ax.legend()\n",
    "        fig.savefig(plotsPath.joinpath('isi_oxygen_v1', f'{sample_name}_{edge}_{intensity_type}_chiWidth-{chi_width}deg_pol{pol}deg.png'), dpi=120)\n",
    "        # plt.show()\n",
    "        plt.close('all')\n",
    "        \n",
    "        ### Linecut Maps:\n",
    "        fig, axs = plt.subplots(1, 2, figsize=(11,5))\n",
    "\n",
    "        para_DA.mean('chi').sel(energy=slice(energy_min,energy_max)).plot(ax=axs[0], cmap=cmap, norm=LogNorm(cmin, cmax), add_colorbar=False)\n",
    "        perp_DA.mean('chi').sel(energy=slice(energy_min,energy_max)).plot(ax=axs[1], cmap=cmap, norm=LogNorm(cmin, cmax), add_colorbar=False)\n",
    "\n",
    "        sm = plt.cm.ScalarMappable(cmap=cmap, norm=LogNorm(cmin, cmax)) # Create a ScalarMappable object with the colormap and normalization & add the colorbar to the figure\n",
    "        cax = axs[1].inset_axes([1.03, 0, 0.05, 1])\n",
    "        cbar = fig.colorbar(sm, cax=cax, orientation='vertical')\n",
    "        cbar.set_label(label='Intensity [arb. units]', labelpad=12)\n",
    "        fig.suptitle(f'Linecut Maps: {sample_name}, Polarization = {pol}°, Chi Width = {chi_width}°', fontsize=14)\n",
    "        fig.set(tight_layout=True)\n",
    "        axs[0].set(title='Parallel to $E_p$', ylabel='Photon energy [eV]', xlabel='q [$Å^{-1}$]')\n",
    "        axs[1].set(title='Perpendicular to $E_p$ ', ylabel=None, xlabel='q [$Å^{-1}$]')\n",
    "        fig.savefig(plotsPath.joinpath('linecut_maps_oxygen_v1', f'{sample_name}_{edge}_{intensity_type}_chiWidth-{chi_width}deg_pol{pol}deg.png'), dpi=120)\n",
    "        # plt.show()\n",
    "        plt.close('all')\n",
    "\n",
    "        ### AR Maps:\n",
    "        # Select AR data\n",
    "        ar_DA = (para_DA.mean('chi') - perp_DA.mean('chi')) / (para_DA.mean('chi') + perp_DA.mean('chi'))\n",
    "\n",
    "        if para_DA.sample_name=='BareSiN':\n",
    "            bareSiN_ar_DA = ar_DA.copy()\n",
    "            \n",
    "        # # Subtract AR from SiN:\n",
    "        # ar_DA = ar_DA - bareSiN_ar_DA\n",
    "\n",
    "        # Plot\n",
    "        ax = ar_DA.sel(energy=slice(energy_min,energy_max)).plot(figsize=(8,5), norm=plt.Normalize(-0.6, 0.6))\n",
    "        ax.figure.suptitle('Anisotropy Ratio (AR) Map', fontsize=14, x=0.43)\n",
    "        ax.axes.set(title=f'{sample_name}, Polarization = {pol}°, Chi Width = {chi_width}°', ylabel='Photon Energy [eV]', xlabel='q [$Å^{-1}$]')\n",
    "        ax.colorbar.set_label('AR [arb. units]', rotation=270, labelpad=12)\n",
    "        ax.figure.savefig(plotsPath.joinpath('ar_maps_oxygen_v1', f'{sample_name}_{edge}_{intensity_type}_chiWidth-{chi_width}deg_pol{pol}deg.png'), dpi=120)\n",
    "        # plt.show()\n",
    "        plt.close('all')"
   ]
  },
  {
   "cell_type": "markdown",
   "id": "41",
   "metadata": {
    "jp-MarkdownHeadingCollapsed": true,
    "tags": []
   },
   "source": [
    "## Incorporating simulation output\n",
    "old and incomplete"
   ]
  },
  {
   "cell_type": "code",
   "execution_count": null,
   "id": "42",
   "metadata": {},
   "outputs": [],
   "source": [
    "import h5py"
   ]
  },
  {
   "cell_type": "code",
   "execution_count": null,
   "id": "43",
   "metadata": {},
   "outputs": [],
   "source": [
    "whos PosixPath"
   ]
  },
  {
   "cell_type": "code",
   "execution_count": null,
   "id": "44",
   "metadata": {},
   "outputs": [],
   "source": [
    "simsPath = rootPath.joinpath('imgs_analysis/sim_runs')"
   ]
  },
  {
   "cell_type": "code",
   "execution_count": null,
   "id": "45",
   "metadata": {},
   "outputs": [],
   "source": [
    "[f.name for f in simPath.iterdir()]"
   ]
  },
  {
   "cell_type": "code",
   "execution_count": null,
   "id": "46",
   "metadata": {},
   "outputs": [],
   "source": [
    "simPath = simsPath.joinpath('D1.0_a1.0_eps1.0_250pix_375size_0.5m_600steps_1')\n",
    "h5path = simPath.joinpath('HDF5')\n",
    "h5list = sorted(h5path.glob('E*h5'))"
   ]
  },
  {
   "cell_type": "code",
   "execution_count": null,
   "id": "47",
   "metadata": {},
   "outputs": [],
   "source": [
    "def print_key(f, key):\n",
    "    try:\n",
    "        keys2 = f[key].keys()\n",
    "        for key2 in keys2:\n",
    "            new_key = key + '/' + key2\n",
    "            print_key(f, new_key)\n",
    "    except AttributeError:\n",
    "        print(key)\n",
    "\n",
    "with h5py.File(h5list[0],'r') as f:\n",
    "    for key in f.keys():\n",
    "        print_key(f, key)"
   ]
  },
  {
   "cell_type": "markdown",
   "id": "48",
   "metadata": {},
   "source": [
    "#### The scattering pattern is contained within 'K0/projection.' If you simulated multiple incident angles there would be additional 'K#' keys. KIDList contains the vector values for each of the incident angles (propagation direction)."
   ]
  },
  {
   "cell_type": "markdown",
   "id": "49",
   "metadata": {},
   "source": [
    "#### Instantiate the PyHyperScattering loader and integrator"
   ]
  },
  {
   "cell_type": "code",
   "execution_count": null,
   "id": "50",
   "metadata": {},
   "outputs": [],
   "source": [
    "load = phs.load.cyrsoxsLoader(use_chunked_loading=True)\n",
    "integ = phs.integrate.WPIntegrator(force_np_backend=True) # avoiding gpu backend for this tutorial"
   ]
  },
  {
   "cell_type": "code",
   "execution_count": null,
   "id": "51",
   "metadata": {
    "tags": []
   },
   "outputs": [],
   "source": [
    "raw = load.loadDirectory(simPath)"
   ]
  },
  {
   "cell_type": "code",
   "execution_count": null,
   "id": "52",
   "metadata": {},
   "outputs": [],
   "source": [
    "raw"
   ]
  },
  {
   "cell_type": "code",
   "execution_count": null,
   "id": "53",
   "metadata": {},
   "outputs": [],
   "source": [
    "remeshed = integ.integrateImageStack(raw)"
   ]
  },
  {
   "cell_type": "code",
   "execution_count": null,
   "id": "54",
   "metadata": {},
   "outputs": [],
   "source": [
    "remeshed"
   ]
  },
  {
   "cell_type": "code",
   "execution_count": null,
   "id": "55",
   "metadata": {},
   "outputs": [],
   "source": [
    "remeshed.sel(energy=285.1).plot()"
   ]
  },
  {
   "cell_type": "code",
   "execution_count": null,
   "id": "56",
   "metadata": {},
   "outputs": [],
   "source": [
    "# c = cm.jet(np.linspace(0,1,len(remeshed)))"
   ]
  },
  {
   "cell_type": "code",
   "execution_count": null,
   "id": "57",
   "metadata": {},
   "outputs": [],
   "source": [
    "fig, ax = plt.subplots(1,3,figsize=(10,3),dpi=140,constrained_layout=True)\n",
    "raw.sel(energy=275).plot(norm=LogNorm(1e-7,1),cmap='terrain',ax=ax[0],add_colorbar=False)\n",
    "raw.sel(energy=285).plot(norm=LogNorm(1e-7,1),cmap='terrain',ax=ax[1],add_colorbar=False)\n",
    "raw.sel(energy=295).plot(norm=LogNorm(1e-7,1),cmap='terrain',ax=ax[2])\n",
    "\n",
    "[{axes.set_xlim(-0.1,0.1),axes.set_ylim(-0.1,0.1)} for axes in ax]\n",
    "plt.show()"
   ]
  },
  {
   "cell_type": "code",
   "execution_count": null,
   "id": "58",
   "metadata": {
    "tags": []
   },
   "outputs": [],
   "source": [
    "loaded_rsoxs.build_tiff_stack??"
   ]
  },
  {
   "cell_type": "code",
   "execution_count": null,
   "id": "59",
   "metadata": {},
   "outputs": [],
   "source": []
  }
 ],
 "metadata": {
  "kernelspec": {
   "display_name": "nrss",
   "language": "python",
   "name": "nrss"
  },
  "language_info": {
   "codemirror_mode": {
    "name": "ipython",
    "version": 3
   },
   "file_extension": ".py",
   "mimetype": "text/x-python",
   "name": "python",
   "nbconvert_exporter": "python",
   "pygments_lexer": "ipython3",
   "version": "3.9.0"
  }
 },
 "nbformat": 4,
 "nbformat_minor": 5
}
