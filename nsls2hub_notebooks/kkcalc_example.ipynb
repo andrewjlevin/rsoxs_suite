{
 "cells": [
  {
   "cell_type": "code",
   "execution_count": null,
   "id": "0",
   "metadata": {},
   "outputs": [],
   "source": [
    "#!/usr/bin/env python\n",
    "# -*- coding: utf-8 -*-\n",
    "\n",
    "# This file is part of the Kramers-Kronig Calculator software package.\n",
    "#\n",
    "# Copyright (c) 2023 Benjamin Watts, Daniel Schick\n",
    "#\n",
    "# The software is licensed under the terms of the zlib/libpng license.\n",
    "# For details see LICENSE.txt"
   ]
  },
  {
   "cell_type": "code",
   "execution_count": null,
   "id": "1",
   "metadata": {},
   "outputs": [],
   "source": []
  },
  {
   "cell_type": "code",
   "execution_count": null,
   "id": "2",
   "metadata": {},
   "outputs": [],
   "source": [
    "import sys, os, pathlib\n",
    "try:\n",
    "    ## This should work if you properly installed the kkcalc module\n",
    "    import kkcalc as kk\n",
    "except ModuleNotFoundError:\n",
    "    ## This could happen if you simply downloaded the code from the repository.\n",
    "    ## We will assume that the module is in the parent directory of this file.\n",
    "    sys.path.append(os.path.split(os.path.split(__file__)[0])[0]) ## Append to PYTHONPATH\n",
    "    import kkcalc as kk\n",
    "import numpy as np\n",
    "import matplotlib.pyplot as plt"
   ]
  },
  {
   "cell_type": "code",
   "execution_count": null,
   "id": "3",
   "metadata": {},
   "outputs": [],
   "source": [
    "str(pathlib.Path.cwd().joinpath('PS_004_-dc.txt'))"
   ]
  },
  {
   "cell_type": "code",
   "execution_count": null,
   "id": "4",
   "metadata": {},
   "outputs": [],
   "source": [
    "## Calculate Henke atomic scattering factors for comparison\n",
    "Stoichiometry = kk.data.ParseChemicalFormula(chemical_formula)\n",
    "ASF_E, ASF_Data = kk.data.calculate_asf(Stoichiometry)\n",
    "ASF_Data2 = kk.data.coeffs_to_ASF(ASF_E, np.vstack((ASF_Data, ASF_Data[-1])))"
   ]
  },
  {
   "cell_type": "code",
   "execution_count": null,
   "id": "5",
   "metadata": {},
   "outputs": [],
   "source": [
    "kk.kk_calculate_real??"
   ]
  },
  {
   "cell_type": "code",
   "execution_count": null,
   "id": "6",
   "metadata": {},
   "outputs": [],
   "source": [
    "from kkcalc import data"
   ]
  },
  {
   "cell_type": "code",
   "execution_count": null,
   "id": "7",
   "metadata": {},
   "outputs": [],
   "source": [
    "NearEdgeDataFile = filename\n",
    "\n",
    "if NearEdgeDataFile is not None:\n",
    "        NearEdge_Data = data.convert_data(data.load_data(NearEdgeDataFile, None),FromType='NEXAFS',ToType='asf')"
   ]
  },
  {
   "cell_type": "code",
   "execution_count": null,
   "id": "8",
   "metadata": {},
   "outputs": [],
   "source": [
    "plt.plot(NearEdge_Data[:,0][:-100], NearEdge_Data[:,1][:-100])"
   ]
  },
  {
   "cell_type": "code",
   "execution_count": null,
   "id": "9",
   "metadata": {},
   "outputs": [],
   "source": [
    "## Data inputs\n",
    "# filename = os.path.join(os.path.split(__file__)[0],'PS_004_-dc.txt')  # full path and filename for experimental data\n",
    "filename = str(pathlib.Path.cwd().joinpath('PS_004_-dc.txt'))\n",
    "material_name = 'Polystyrene'\n",
    "chemical_formula = 'CH'\n",
    "x_min = 280\n",
    "x_max = 320\n",
    "\n",
    "## Calculate the full scattering factor spectra\n",
    "output = kk.kk_calculate_real(filename,\n",
    "                              chemical_formula,\n",
    "                              load_options=None,\n",
    "                              input_data_type='NEXAFS',\n",
    "                              merge_points=[x_min, x_max],\n",
    "                              add_background=False,\n",
    "                              fix_distortions=False,\n",
    "                              curve_tolerance=None,\n",
    "                              curve_recursion=50)\n",
    "\n",
    "## Calculate Henke atomic scattering factors for comparison\n",
    "Stoichiometry = kk.data.ParseChemicalFormula(chemical_formula)\n",
    "ASF_E, ASF_Data = kk.data.calculate_asf(Stoichiometry)\n",
    "ASF_Data2 = kk.data.coeffs_to_ASF(ASF_E, np.vstack((ASF_Data, ASF_Data[-1])))"
   ]
  },
  {
   "cell_type": "code",
   "execution_count": null,
   "id": "10",
   "metadata": {},
   "outputs": [],
   "source": [
    "## Plot spectra\n",
    "plt.figure()\n",
    "plt.plot(output[:, 0], output[:, 1], label='f1 kkcalc')\n",
    "plt.plot(output[:, 0], output[:, 2], label='f2 kkcalc')\n",
    "plt.plot(ASF_E, ASF_Data2, label='Henke f2')\n",
    "plt.legend()\n",
    "plt.xlim(x_min, x_max)\n",
    "plt.title(material_name)\n",
    "plt.xlabel('Energy [eV]')\n",
    "plt.ylabel('f1, f2')\n",
    "plt.show()"
   ]
  },
  {
   "cell_type": "code",
   "execution_count": null,
   "id": "11",
   "metadata": {},
   "outputs": [],
   "source": []
  }
 ],
 "metadata": {
  "kernelspec": {
   "display_name": "Python 3 (ipykernel)",
   "language": "python",
   "name": "python3"
  },
  "language_info": {
   "codemirror_mode": {
    "name": "ipython",
    "version": 3
   },
   "file_extension": ".py",
   "mimetype": "text/x-python",
   "name": "python",
   "nbconvert_exporter": "python",
   "pygments_lexer": "ipython3",
   "version": "3.9.15"
  }
 },
 "nbformat": 4,
 "nbformat_minor": 5
}
