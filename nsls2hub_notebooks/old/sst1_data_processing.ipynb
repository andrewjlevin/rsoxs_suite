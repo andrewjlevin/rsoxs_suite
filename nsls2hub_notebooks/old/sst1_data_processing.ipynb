{
 "cells": [
  {
   "cell_type": "markdown",
   "id": "0",
   "metadata": {},
   "source": [
    "# Slicing SST1 RSoXS Data"
   ]
  },
  {
   "cell_type": "markdown",
   "id": "1",
   "metadata": {},
   "source": [
    "## Imports"
   ]
  },
  {
   "cell_type": "code",
   "execution_count": null,
   "id": "2",
   "metadata": {
    "tags": []
   },
   "outputs": [],
   "source": [
    "## The autoreload IPython magic command reloads all modules before code is ran\n",
    "%load_ext autoreload\n",
    "%autoreload"
   ]
  },
  {
   "cell_type": "code",
   "execution_count": null,
   "id": "3",
   "metadata": {
    "tags": []
   },
   "outputs": [],
   "source": [
    "## Imports\n",
    "import PyHyperScattering as phs\n",
    "import pathlib\n",
    "import sys\n",
    "# import tifftools\n",
    "import numpy as np\n",
    "import pandas as pd\n",
    "import xarray as xr\n",
    "import matplotlib.pyplot as plt\n",
    "from matplotlib.colors import LogNorm\n",
    "from matplotlib_inline.backend_inline import set_matplotlib_formats\n",
    "\n",
    "sys.path.append('/nsls2/users/alevin/local_lib')\n",
    "from andrew_rsoxs_fxns import *\n",
    "from andrew_loaded_rsoxs import *\n",
    "\n",
    "## Some setup functions\n",
    "# set_matplotlib_formats('svg')\n",
    "# c = from_profile('rsoxs')\n",
    "print(f'Using PyHyperScattering Version: {phs.__version__}')\n",
    "# rsoxsload = phs.load.SST1RSoXSDB(corr_mode='None', use_chunked_loading=True)  # initialize rsoxs databroker loader w/ Dask\n",
    "\n",
    "## Define masks directory path\n",
    "userPath = pathlib.Path('/nsls2/users/alevin')\n",
    "notebookPath = pathlib.Path.cwd()\n",
    "maskPath = userPath.joinpath('masks')\n",
    "jsonPath = userPath.joinpath('local_lib')\n",
    "propPath = pathlib.Path('/nsls2/data/sst/proposals/2022-2/pass-309180')\n",
    "# zarrPath = propPath.joinpath('zarr_datasets_nov2021')\n",
    "zarrPath = propPath.joinpath('zarr_datasets_jul2022')\n",
    "exportPath = propPath.joinpath('processed_data')\n",
    "\n",
    "## Set an RSoXS colormap for later\n",
    "cm = plt.cm.terrain.copy()\n",
    "cm.set_bad('purple')"
   ]
  },
  {
   "cell_type": "markdown",
   "id": "4",
   "metadata": {},
   "source": [
    "## Load DataArrays "
   ]
  },
  {
   "cell_type": "code",
   "execution_count": null,
   "id": "5",
   "metadata": {},
   "outputs": [],
   "source": [
    "### Instantiate loaded_rsoxs objects\n",
    "andrew1 = loaded_rsoxs('andrew1', zarrPath)\n",
    "andrew4 = loaded_rsoxs('andrew4', zarrPath)\n",
    "andrew7 = loaded_rsoxs('andrew7', zarrPath)\n",
    "andrew10 = loaded_rsoxs('andrew10', zarrPath)\n",
    "andrew11 = loaded_rsoxs('andrew11', zarrPath)"
   ]
  },
  {
   "cell_type": "markdown",
   "id": "6",
   "metadata": {},
   "source": [
    "## Intensity Plots"
   ]
  },
  {
   "cell_type": "markdown",
   "id": "7",
   "metadata": {},
   "source": [
    "### 1. Tiff stacks of qxqy detector images & qchi converted images"
   ]
  },
  {
   "cell_type": "code",
   "execution_count": null,
   "id": "8",
   "metadata": {
    "jupyter": {
     "source_hidden": true
    },
    "tags": []
   },
   "outputs": [],
   "source": [
    "### Load energy lists for facet plots\n",
    "energies = andrew1.raw_waxs.energy.data\n",
    "resonant_energies = energies[16:96]\n",
    "\n",
    "gif_energies = np.array([])\n",
    "gif_energies = np.append(energies[0:16:3], energies[-31::2])\n",
    "gif_energies = np.sort(np.append(gif_energies, resonant_energies))\n",
    "\n",
    "# #### View facet plot to verify data:\n",
    "# pol=90\n",
    "# facet_energies = gif_energies[:-6:6]  # should select 16 energies ranging from 270 to 303 eV\n",
    "\n",
    "# andrew1.integ_waxs.sel(pol=pol, energy=gif_energies[:-6:6], method='nearest').plot.imshow(xscale='log', xlim=(1e-2, 2e-1),\n",
    "#                 norm=LogNorm(1e1, 5e3), cmap=cm, interpolation='antialiased', col='energy', col_wrap=4)\n",
    "# integ_saxs.sel(pol=pol, energy=gif_energies[:-6:6], method='nearest').plot.imshow(xscale='log', xlim=(1e-3, 1e-2),\n",
    "#                 norm=LogNorm(1e1, 5e3), cmap=cm, interpolation='antialiased', col='energy', col_wrap=4)\n",
    "\n",
    "# raw_waxs.sel(pol=pol, energy=gif_energies[:-6:6], method='nearest').plot.imshow(x='qx', y='qy',\n",
    "#                 norm=LogNorm(1e1, 5e3), cmap=cm, interpolation='antialiased', col='energy', col_wrap=4)\n",
    "# raw_saxs.sel(pol=pol, energy=gif_energies[:-6:6], method='nearest').plot.imshow(x='qx', y='qy',\n",
    "#                 norm=LogNorm(1e1, 5e3), cmap=cm, interpolation='antialiased', col='energy', col_wrap=4)\n"
   ]
  },
  {
   "cell_type": "code",
   "execution_count": null,
   "id": "9",
   "metadata": {
    "jupyter": {
     "source_hidden": true
    },
    "tags": []
   },
   "outputs": [],
   "source": [
    "# andrew1.build_tiff_stack(gif_energies, exportPath)"
   ]
  },
  {
   "cell_type": "code",
   "execution_count": null,
   "id": "10",
   "metadata": {
    "jupyter": {
     "source_hidden": true
    },
    "tags": []
   },
   "outputs": [],
   "source": [
    "# ### Cell used to batch process Jul2022 tiffs:\n",
    "# zarrPath = propPath.joinpath('rsoxs_full/rsoxs_analysis/zarr_datasets')\n",
    "\n",
    "# ### Loop over all sample ids:\n",
    "# for sample_name in sample_guide:\n",
    "#     if len([f.name for f in list(exportPath.joinpath('tiff_stacks').glob(f'*_{sample_name}_*'))])==8:\n",
    "#         print(f'Already made 8 tiff stacks for {sample_name}! Moving on...')\n",
    "#     else:\n",
    "#         try:\n",
    "#             raw_saxs = xr.open_zarr(sorted(zarrPath.glob(f'raw*_{sample_name}_*SAXS*'))[0]).saxs\n",
    "#             raw_waxs = xr.open_zarr(sorted(zarrPath.glob(f'raw*_{sample_name}_*WAXS*'))[0]).waxs\n",
    "#             integ_saxs = xr.open_zarr(sorted(zarrPath.glob(f'integ*_{sample_name}_*SAXS*'))[0]).saxs\n",
    "#             integ_waxs = xr.open_zarr(sorted(zarrPath.glob(f'integ*_{sample_name}_*WAXS*'))[0]).waxs\n",
    "\n",
    "#             print(f'Moving onto sample {sample_name}: {raw_saxs.blend_name}...')\n",
    "\n",
    "#             ### Load energy lists for facet plots\n",
    "#             energies = raw_waxs.energy.data\n",
    "#             resonant_energies = energies[16:96]\n",
    "\n",
    "#             gif_energies = np.array([])\n",
    "#             gif_energies = np.append(energies[0:16:3], energies[-31::2])\n",
    "#             gif_energies = np.sort(np.append(gif_energies, resonant_energies))\n",
    "\n",
    "#             ### Build tiff stack\n",
    "#             build_tiff_stack([raw_saxs, raw_waxs, integ_saxs, integ_waxs], gif_energies, exportPath)\n",
    "#             print(f'Done making the *8* tiff stacks for {sample_name}: {raw_saxs.blend_name}!')\n",
    "#         except IndexError:\n",
    "#             print(f'Oops! There is no zarr file for {sample_name} yet! Moving on...')"
   ]
  },
  {
   "cell_type": "markdown",
   "id": "11",
   "metadata": {},
   "source": [
    "### 2. ISI Plots"
   ]
  },
  {
   "cell_type": "code",
   "execution_count": null,
   "id": "12",
   "metadata": {
    "tags": []
   },
   "outputs": [],
   "source": [
    "### Checking functionality of chi_vals method\n",
    "# para_chis, perp_chis = andrew1.chi_vals(chi_width=30, saxswaxs='saxs')\n",
    "\n",
    "# para90 = andrew1.integ_saxs.sel(pol=90, chi=para_chis[90])  #.mean('chi')  #.integrate('q').sel(energy=285.1, method='nearest').compute().data\n",
    "# para00 = andrew1.integ_saxs.sel(pol=0, chi=para_chis[0])  #.mean('chi').integrate('q').sel(energy=285.1, method='nearest').compute().data\n",
    "# perp90 = andrew1.integ_saxs.sel(pol=90, chi=perp_chis[90])  #.mean('chi').integrate('q').sel(energy=285.1, method='nearest').compute().data\n",
    "# perp00 = andrew1.integ_saxs.sel(pol=0, chi=perp_chis[0])  #.mean('chi').integrate('q').sel(energy=285.1, method='nearest').compute().data\n",
    "\n",
    "# # para90\n",
    "# print(f'para 90 deg: {para90.chi}, \\npara 00 deg: {para00.chi}, \\n\\nperp 90 deg: {perp90.chi}, \\nperp 00 deg: {perp00.chi}')"
   ]
  },
  {
   "cell_type": "code",
   "execution_count": null,
   "id": "13",
   "metadata": {
    "tags": []
   },
   "outputs": [],
   "source": [
    "### Generate data\n",
    "obj = andrew1\n",
    "chi_width = 20\n",
    "qrange=(1.5e-2, 8e-2)\n",
    "# qrange=(2e-3, 8e-3)\n",
    "\n",
    "para_isi_pol, perp_isi_pol, para_isi_avg, perp_isi_avg = obj.isi(chi_width=chi_width, saxswaxs='waxs', qrange=qrange)\n",
    "\n",
    "\n",
    "### Plot data\n",
    "fig, (ax00, ax90, axavg) = plt.subplots(1, 3)\n",
    "fig.set(size_inches=(9,3), dpi=150)\n",
    "angstring = '$Å^{-1}$'\n",
    "fig.suptitle(f'ISI: {obj.blend_name}, Q: {qrange[0]} to {qrange[1]} {angstring}, chi wedge width = {chi_width}°', fontsize=15, y=1.08)\n",
    "\n",
    "para_isi_pol[0].plot.line(ax=ax00, yscale='log', xlim=(275, 300), label=f'para')\n",
    "perp_isi_pol[0].plot.line(ax=ax00, yscale='log', xlim=(275, 300), label=f'perp')\n",
    "ax00.set(ylabel='ISI [arb. units]', xlabel='Photon Energy [eV]', title='Polarization = 0°')\n",
    "\n",
    "para_isi_pol[90].plot.line(ax=ax90, yscale='log', xlim=(275, 300), label=f'para')\n",
    "perp_isi_pol[90].plot.line(ax=ax90, yscale='log', xlim=(275, 300), label=f'perp')\n",
    "ax90.set(xlabel='Photon Energy [eV]', title='Polarization = 90°')\n",
    "\n",
    "para_isi_avg.plot.line(ax=axavg, yscale='log', xlim=(275, 300), label=f'para')\n",
    "perp_isi_avg.plot.line(ax=axavg, yscale='log', xlim=(275, 300), label=f'perp')\n",
    "axavg.set(xlabel='Photon Energy [eV]', title='Averaged Polarizations')\n",
    "# axavg.set_xticks([278, 285.1, 292, 300])\n",
    "plt.legend()\n",
    "plt.show()"
   ]
  },
  {
   "cell_type": "code",
   "execution_count": null,
   "id": "14",
   "metadata": {
    "tags": []
   },
   "outputs": [],
   "source": [
    "### Generate data\n",
    "obj = andrew1\n",
    "chi_width = 30\n",
    "saxswaxs='waxs'\n",
    "qrange=(1.5e-2, 8e-2)\n",
    "# qrange=(2e-3, 8e-3)\n",
    "\n",
    "para_isi_pol, perp_isi_pol, para_isi_avg, perp_isi_avg = obj.isi(chi_width=chi_width, saxswaxs=saxswaxs, qrange=qrange)\n",
    "\n",
    "\n",
    "### Plot data\n",
    "fig, (ax00, ax90, axavg) = plt.subplots(1, 3)\n",
    "fig.set(size_inches=(9,3), dpi=150)\n",
    "angstring = '$Å^{-1}$'\n",
    "fig.suptitle(f'ISI: {obj.blend_name}, Q: {qrange[0]} to {qrange[1]} {angstring}, chi wedge width = {chi_width}°', fontsize=15, y=1.08)\n",
    "\n",
    "para_isi_pol[0].plot.line(ax=ax00, yscale='log', xlim=(275, 300), label=f'para')\n",
    "perp_isi_pol[0].plot.line(ax=ax00, yscale='log', xlim=(275, 300), label=f'perp')\n",
    "ax00.set(ylabel='ISI [arb. units]', xlabel='Photon Energy [eV]', title='Polarization = 0°')\n",
    "\n",
    "para_isi_pol[90].plot.line(ax=ax90, yscale='log', xlim=(275, 300), label=f'para')\n",
    "perp_isi_pol[90].plot.line(ax=ax90, yscale='log', xlim=(275, 300), label=f'perp')\n",
    "ax90.set(xlabel='Photon Energy [eV]', title='Polarization = 90°')\n",
    "\n",
    "para_isi_avg.plot.line(ax=axavg, yscale='log', xlim=(275, 300), label=f'para')\n",
    "perp_isi_avg.plot.line(ax=axavg, yscale='log', xlim=(275, 300), label=f'perp')\n",
    "axavg.set(xlabel='Photon Energy [eV]', title='Averaged Polarizations')\n",
    "# axavg.set_xticks([278, 285.1, 292, 300])\n",
    "plt.legend()\n",
    "plt.show()"
   ]
  },
  {
   "cell_type": "markdown",
   "id": "15",
   "metadata": {},
   "source": [
    "### 3. 2D Intensity Maps\n",
    "    - Chi-meaned and Q-meaned"
   ]
  },
  {
   "cell_type": "code",
   "execution_count": null,
   "id": "16",
   "metadata": {
    "tags": []
   },
   "outputs": [],
   "source": [
    "### Generate chi-meaned EvsQ Data\n",
    "obj = andrew1\n",
    "chi_width = 30\n",
    "saxswaxs = 'waxs'\n",
    "qrange=(1.5e-2, 8e-2)  # WAXS good full range\n",
    "# qrange=(2e-3, 8e-3)  # SAXS good full range\n",
    "\n",
    "para_EvsQ_pol, perp_EvsQ_pol, para_EvsQ_avg, perp_EvsQ_avg = obj.e_map(saxswaxs=saxswaxs, chi_width=chi_width, qrange=qrange)\n",
    "\n",
    "### Plotting, xarray way using facetgrids\n",
    "\n",
    "# First reassign polarization coordinate value to a unique name for the pol/orientation pair\n",
    "para_EvsQ_pol[0] = para_EvsQ_pol[0].assign_coords({'pol': '0°, para'})\n",
    "para_EvsQ_pol[90] = para_EvsQ_pol[90].assign_coords({'pol': '90°, para'})\n",
    "perp_EvsQ_pol[0] = perp_EvsQ_pol[0].assign_coords({'pol': '0°, perp'})\n",
    "perp_EvsQ_pol[90] = perp_EvsQ_pol[90].assign_coords({'pol': '90°, perp'})\n",
    "para_EvsQ_avg = para_EvsQ_avg.assign_coords({'pol': 'avg, para'})\n",
    "perp_EvsQ_avg = perp_EvsQ_avg.assign_coords({'pol': 'avg, perp'})\n",
    "\n",
    "# Combine all dataarrays into one \"stacked\" dataarray along the reassigned pol dimension\n",
    "stacked = xr.concat((para_EvsQ_pol[0], para_EvsQ_pol[90], para_EvsQ_avg, perp_EvsQ_pol[0], perp_EvsQ_pol[90], perp_EvsQ_avg), dim='pol')\n",
    "\n",
    "# Generate and customize facetgrid plot\n",
    "fg = stacked.plot(y='energy', ylim=(282, 288), norm=LogNorm(1e1, 4e3), cmap=cm, col='pol', col_wrap=3, size=4)\n",
    "fg.fig.suptitle(f'E vs. Q Map: {obj.blend_name}, Q: {qrange[0]} to {qrange[1]} {angstring}, chi wedge width = {chi_width}°', fontsize=15, y=1.03, x=0.42)\n",
    "fg.set_xlabels('Q [$Å^{-1}$]')\n",
    "fg.set_ylabels('Photon Energy [eV]')\n",
    "fg.set_ticks(max_xticks=4, max_yticks=6)"
   ]
  },
  {
   "cell_type": "code",
   "execution_count": null,
   "id": "17",
   "metadata": {},
   "outputs": [],
   "source": [
    "from andrew_loaded_rsoxs import *\n",
    "%autoreload"
   ]
  },
  {
   "cell_type": "code",
   "execution_count": null,
   "id": "18",
   "metadata": {
    "tags": []
   },
   "outputs": [],
   "source": [
    "### Generate EvsChi Data\n",
    "obj = andrew1\n",
    "saxswaxs = 'waxs'\n",
    "qrange=(1.5e-2, 8e-2)  # WAXS good full range\n",
    "# qrange=(2e-3, 8e-3)  # SAXS good full range\n",
    "\n",
    "qmeaned_EvsQ_pol = obj.e_map(axis_meaned='q', qrange=qrange, saxswaxs=saxswaxs)\n",
    "\n",
    "\n",
    "### Plot data\n",
    "stack = xr.concat((qmeaned_EvsQ_pol[0], qmeaned_EvsQ_pol[90]), dim='pol')\n",
    "fg = stack.plot(ylim=(282, 288), norm=LogNorm(1e1, 1e3), cmap=cm, col='pol', size=4.2)\n",
    "fg.fig.suptitle(f'E vs. Chi Map: {obj.blend_name}, Q-mean range: {qrange[0]} to {qrange[1]} {angstring}', y=1.04, x=0.45, fontsize=15)\n",
    "fg.fig.set(dpi=100)\n",
    "fg.set_xlabels('Chi [°]')\n",
    "fg.set_ylabels('Photon Energy [eV]')\n",
    "fg.set_ticks(max_xticks=10, max_yticks=6)"
   ]
  },
  {
   "cell_type": "markdown",
   "id": "19",
   "metadata": {},
   "source": [
    "### 4. Meaned 1D intensity lineplots, selected energies"
   ]
  },
  {
   "cell_type": "code",
   "execution_count": null,
   "id": "20",
   "metadata": {},
   "outputs": [],
   "source": [
    "### Generate chi-meaned EvsQ Data\n",
    "obj = andrew1\n",
    "chi_width = 90\n",
    "saxswaxs = 'waxs'\n",
    "qrange=(1.5e-2, 8e-2)  # WAXS good full range\n",
    "# qrange=(2e-3, 8e-3)  # SAXS good full range\n",
    "\n",
    "para_EvsQ_pol, perp_EvsQ_pol, para_EvsQ_avg, perp_EvsQ_avg = obj.e_map(chi_width=chi_width, saxswaxs=saxswaxs, qrange=qrange)\n",
    "\n",
    "\n",
    "### Plotting\n",
    "# energies = [275, 280, 283, 285.1, 286.3, 300, 340]\n",
    "energies = [285.1, 285.4, 286.3, 287, 288, 289, 290, 295]\n",
    "fig, (ax_para, ax_perp) = plt.subplots(1,2)\n",
    "fig.set(size_inches=(10,4))\n",
    "fig.suptitle(f'Intensity vs. Q for selected energies, chi widths = {chi_width}°')\n",
    "hue = plt.cm.viridis_r(np.linspace(0, 1, len(energies)))\n",
    "for i, energy in enumerate(energies):\n",
    "    para_EvsQ_avg.sel(energy=energy, method='nearest').plot.line(\n",
    "        ax=ax_para, xscale='log', yscale='log', color=hue[i], label=f'{energy} eV')\n",
    "    perp_EvsQ_avg.sel(energy=energy, method='nearest').plot.line(\n",
    "        ax=ax_perp, xscale='log', yscale='log', color=hue[i], label=f'{energy} eV')\n",
    "\n",
    "    \n",
    "ax_perp.legend()\n",
    "ax_para.set(title='Para', ylabel='Intensity [arb. units]', xlabel='Q $Å^{-1}$')\n",
    "ax_perp.set(title='Perp', ylabel=None, xlabel='Q $Å^{-1}$')\n",
    "\n",
    "plt.show()"
   ]
  },
  {
   "cell_type": "code",
   "execution_count": null,
   "id": "21",
   "metadata": {},
   "outputs": [],
   "source": [
    "remeshed.sel(energy=285.1).mean('chi').plot.line(\n",
    "    yscale='log', xscale='log', xlim=qrange)"
   ]
  },
  {
   "cell_type": "code",
   "execution_count": null,
   "id": "22",
   "metadata": {},
   "outputs": [],
   "source": [
    "plt.close('all')"
   ]
  },
  {
   "cell_type": "markdown",
   "id": "23",
   "metadata": {},
   "source": [
    "## Anisotropy Ratio Plots"
   ]
  },
  {
   "cell_type": "code",
   "execution_count": null,
   "id": "24",
   "metadata": {},
   "outputs": [],
   "source": [
    "from andrew_loaded_rsoxs import *\n",
    "%autoreload"
   ]
  },
  {
   "cell_type": "markdown",
   "id": "25",
   "metadata": {},
   "source": [
    "### 1. 2D AR Maps"
   ]
  },
  {
   "cell_type": "code",
   "execution_count": null,
   "id": "26",
   "metadata": {},
   "outputs": [],
   "source": [
    "### Generate AR data:\n",
    "obj = andrew1\n",
    "chi_width = 30\n",
    "saxswaxs='saxs'\n",
    "# qrange=(1.5e-2, 8e-2)  # WAXS good full range\n",
    "qrange=(2e-3, 8e-3)  # SAXS good full range\n",
    "\n",
    "ARvsQ_pol, ARvsQ_avg = obj.ar_map(chi_width=30, saxswaxs=saxswaxs, qrange=qrange)\n",
    "\n",
    "### Plotting\n",
    "ar_cm = plt.cm.RdBu_r\n",
    "\n",
    "ARvsQ_pol[0] = ARvsQ_pol[0].assign_coords({'pol': '0°'})\n",
    "ARvsQ_pol[90] = ARvsQ_pol[90].assign_coords({'pol': '90°'})\n",
    "ARvsQ_avg = ARvsQ_avg.assign_coords({'pol':'avg'})\n",
    "\n",
    "stack = xr.concat((ARvsQ_pol[0], ARvsQ_pol[90], ARvsQ_avg), dim='pol')\n",
    "stack.plot(y='energy', ylim=(281, 290), xlim=qrange, cmap=ar_cm, vmin=-1, vmax=1, col='pol', col_wrap=3, size=4)"
   ]
  },
  {
   "cell_type": "code",
   "execution_count": null,
   "id": "27",
   "metadata": {},
   "outputs": [],
   "source": [
    "### Generate AR data:\n",
    "obj = andrew1\n",
    "chi_width = 30\n",
    "saxswaxs='waxs'\n",
    "qrange=(1.5e-2, 8e-2)  # WAXS good full range\n",
    "# qrange=(2e-3, 8e-3)  # SAXS good full range\n",
    "\n",
    "ARvsQ_pol, ARvsQ_avg = obj.ar_map(chi_width=30, saxswaxs=saxswaxs, qrange=qrange)\n",
    "\n",
    "### Plotting\n",
    "ar_cm = plt.cm.RdBu_r\n",
    "\n",
    "ARvsQ_pol[0] = ARvsQ_pol[0].assign_coords({'pol': '0°'})\n",
    "ARvsQ_pol[90] = ARvsQ_pol[90].assign_coords({'pol': '90°'})\n",
    "ARvsQ_avg = ARvsQ_avg.assign_coords({'pol':'avg'})\n",
    "\n",
    "stack = xr.concat((ARvsQ_pol[0], ARvsQ_pol[90], ARvsQ_avg), dim='pol')\n",
    "stack.plot(y='energy', ylim=(281, 290), xlim=qrange, cmap=ar_cm, vmin=-1, vmax=1, col='pol', col_wrap=3, size=4)"
   ]
  },
  {
   "cell_type": "markdown",
   "id": "28",
   "metadata": {},
   "source": [
    "### 2. 1D AR Maps"
   ]
  },
  {
   "cell_type": "code",
   "execution_count": null,
   "id": "29",
   "metadata": {},
   "outputs": [],
   "source": [
    "### Generate AR data:\n",
    "obj = andrew1\n",
    "chi_width = 30\n",
    "saxswaxs='saxs'\n",
    "# qrange=(1.5e-2, 8e-2)  # WAXS good full range\n",
    "qrange=(2e-3, 8e-3)  # SAXS good full range\n",
    "\n",
    "ARvsQ_pol, ARvsQ_avg = obj.ar_map(chi_width=chi_width, saxswaxs=saxswaxs, qrange=qrange)\n",
    "\n",
    "### Plotting\n",
    "ARvsQ_avg.sel(q=slice(6e-3, 8e-3)).mean('q').plot.line(xlim=(275, 290))\n",
    "# ARvsQ_avg.mean('q').plot.line(xlim=(275, 290))"
   ]
  },
  {
   "cell_type": "code",
   "execution_count": null,
   "id": "30",
   "metadata": {},
   "outputs": [],
   "source": [
    "### Generate AR data:\n",
    "obj = andrew1\n",
    "chi_width = 30\n",
    "saxswaxs='waxs'\n",
    "qrange=(1.5e-2, 8e-2)  # WAXS good full range\n",
    "# qrange=(2e-3, 8e-3)  # SAXS good full range\n",
    "\n",
    "ARvsQ_pol, ARvsQ_avg = obj.ar_map(chi_width=chi_width, saxswaxs=saxswaxs, qrange=qrange)\n",
    "\n",
    "### Plotting\n",
    "ARvsQ_avg.sel(q=slice(2e-2, 3e-2)).mean('q').plot.line(xlim=(275, 290))\n",
    "# ARvsQ_avg.mean('q').plot.line(xlim=(275, 290))"
   ]
  },
  {
   "cell_type": "markdown",
   "id": "31",
   "metadata": {},
   "source": [
    "## Incorporating simulation output"
   ]
  },
  {
   "cell_type": "code",
   "execution_count": null,
   "id": "32",
   "metadata": {},
   "outputs": [],
   "source": [
    "import h5py"
   ]
  },
  {
   "cell_type": "code",
   "execution_count": null,
   "id": "33",
   "metadata": {},
   "outputs": [],
   "source": [
    "simsPath = propPath.joinpath('sim_datasets')"
   ]
  },
  {
   "cell_type": "code",
   "execution_count": null,
   "id": "34",
   "metadata": {},
   "outputs": [],
   "source": [
    "simPath = simsPath.joinpath('350x350pix_500x500size_500steps_D1_a1_epsilon1')\n",
    "h5path = simPath.joinpath('HDF5')\n",
    "h5list = sorted(h5path.glob('E*h5'))"
   ]
  },
  {
   "cell_type": "code",
   "execution_count": null,
   "id": "35",
   "metadata": {},
   "outputs": [],
   "source": [
    "def print_key(f, key):\n",
    "    try:\n",
    "        keys2 = f[key].keys()\n",
    "        for key2 in keys2:\n",
    "            new_key = key + '/' + key2\n",
    "            print_key(f, new_key)\n",
    "    except AttributeError:\n",
    "        print(key)\n",
    "\n",
    "with h5py.File(h5list[0],'r') as f:\n",
    "    for key in f.keys():\n",
    "        print_key(f, key)"
   ]
  },
  {
   "cell_type": "markdown",
   "id": "36",
   "metadata": {},
   "source": [
    "#### The scattering pattern is contained within 'K0/projection.' If you simulated multiple incident angles there would be additional 'K#' keys. KIDList contains the vector values for each of the incident angles (propagation direction)."
   ]
  },
  {
   "cell_type": "markdown",
   "id": "37",
   "metadata": {},
   "source": [
    "#### Instantiate the PyHyperScattering loader and integrator"
   ]
  },
  {
   "cell_type": "code",
   "execution_count": null,
   "id": "38",
   "metadata": {},
   "outputs": [],
   "source": [
    "load = phs.load.cyrsoxsLoader(use_chunked_loading=True)\n",
    "integ = phs.integrate.WPIntegrator(force_np_backend=True) # avoiding gpu backend for this tutorial"
   ]
  },
  {
   "cell_type": "code",
   "execution_count": null,
   "id": "39",
   "metadata": {
    "tags": []
   },
   "outputs": [],
   "source": [
    "raw = load.loadDirectory(simPath)"
   ]
  },
  {
   "cell_type": "code",
   "execution_count": null,
   "id": "40",
   "metadata": {},
   "outputs": [],
   "source": [
    "raw"
   ]
  },
  {
   "cell_type": "code",
   "execution_count": null,
   "id": "41",
   "metadata": {},
   "outputs": [],
   "source": [
    "remeshed = integ.integrateImageStack(raw)"
   ]
  },
  {
   "cell_type": "code",
   "execution_count": null,
   "id": "42",
   "metadata": {},
   "outputs": [],
   "source": [
    "c = cm.jet(np.linspace(0,1,len(remeshed)))"
   ]
  },
  {
   "cell_type": "code",
   "execution_count": null,
   "id": "43",
   "metadata": {},
   "outputs": [],
   "source": [
    "fig, ax = plt.subplots(1,3,figsize=(10,3),dpi=140,constrained_layout=True)\n",
    "raw.sel(energy=275).plot(norm=LogNorm(1e-7,1),cmap='terrain',ax=ax[0],add_colorbar=False)\n",
    "raw.sel(energy=285).plot(norm=LogNorm(1e-7,1),cmap='terrain',ax=ax[1],add_colorbar=False)\n",
    "raw.sel(energy=295).plot(norm=LogNorm(1e-7,1),cmap='terrain',ax=ax[2])\n",
    "\n",
    "[{axes.set_xlim(-0.1,0.1),axes.set_ylim(-0.1,0.1)} for axes in ax]\n",
    "plt.show()"
   ]
  },
  {
   "cell_type": "code",
   "execution_count": null,
   "id": "44",
   "metadata": {},
   "outputs": [],
   "source": []
  }
 ],
 "metadata": {
  "kernelspec": {
   "display_name": "nrss",
   "language": "python",
   "name": "nrss"
  },
  "language_info": {
   "codemirror_mode": {
    "name": "ipython",
    "version": 3
   },
   "file_extension": ".py",
   "mimetype": "text/x-python",
   "name": "python",
   "nbconvert_exporter": "python",
   "pygments_lexer": "ipython3",
   "version": "3.9.0"
  }
 },
 "nbformat": 4,
 "nbformat_minor": 5
}
