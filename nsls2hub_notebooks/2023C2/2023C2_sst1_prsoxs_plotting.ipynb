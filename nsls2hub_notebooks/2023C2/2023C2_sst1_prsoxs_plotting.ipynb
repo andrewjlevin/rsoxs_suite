{
 "cells": [
  {
   "cell_type": "markdown",
   "id": "0",
   "metadata": {},
   "source": [
    "# 2023C2: Plotting SST1 RSoXS Data"
   ]
  },
  {
   "cell_type": "markdown",
   "id": "1",
   "metadata": {},
   "source": [
    "## Imports"
   ]
  },
  {
   "cell_type": "code",
   "execution_count": null,
   "id": "2",
   "metadata": {
    "tags": []
   },
   "outputs": [],
   "source": [
    "## Imports\n",
    "import PyHyperScattering as phs\n",
    "import pathlib\n",
    "import sys\n",
    "import io\n",
    "import ast\n",
    "import json\n",
    "import datetime\n",
    "import dask.array as da\n",
    "import numpy as np\n",
    "import pandas as pd\n",
    "import xarray as xr\n",
    "import matplotlib.pyplot as plt\n",
    "from matplotlib.colors import LogNorm\n",
    "from tqdm.auto import tqdm\n",
    "import dask.array as da\n",
    "from tiled.client import from_profile, from_uri\n",
    "import subprocess\n",
    "\n",
    "\n",
    "print(f'Using PyHyperScattering Version: {phs.__version__}')"
   ]
  },
  {
   "cell_type": "markdown",
   "id": "3",
   "metadata": {},
   "source": [
    "## Define Paths"
   ]
  },
  {
   "cell_type": "code",
   "execution_count": null,
   "id": "4",
   "metadata": {
    "tags": []
   },
   "outputs": [],
   "source": [
    "def make_para_perp_DAs(datasets, sample_name, edge, intensity_type, pol, qlims, chi_width):\n",
    "    # select dataarray to plot\n",
    "    DS = datasets[f'polar_{edge}']\n",
    "    DA = DS.sel(sample_name=sample_name)[f'{intensity_type}_intensity']\n",
    "    sliced_DA = DA.sel(polarization=pol, q=slice(qlims[0],qlims[1]))\n",
    "\n",
    "    # calculate ISI dataarrays\n",
    "    if pol==0:\n",
    "        para_DA = sliced_DA.rsoxs.slice_chi(180, chi_width=(chi_width/2))\n",
    "        perp_DA = sliced_DA.rsoxs.slice_chi(90, chi_width=(chi_width/2))\n",
    "    elif pol==90:\n",
    "        perp_DA = sliced_DA.rsoxs.slice_chi(180, chi_width=(chi_width/2))\n",
    "        para_DA = sliced_DA.rsoxs.slice_chi(90, chi_width=(chi_width/2))   \n",
    "        \n",
    "    return para_DA, perp_DA"
   ]
  },
  {
   "cell_type": "code",
   "execution_count": null,
   "id": "5",
   "metadata": {
    "tags": []
   },
   "outputs": [],
   "source": [
    "## Define directory paths\n",
    "userPath = pathlib.Path('/nsls2/users/alevin')\n",
    "propPath = pathlib.Path('/nsls2/data/sst/proposals/2023-2/pass-311130')\n",
    "outPath = propPath.joinpath('processed_data')\n",
    "plotsPath = outPath.joinpath('prsoxs_plots')\n",
    "jsonPath = outPath.joinpath('local_config')\n",
    "maskPath = outPath.joinpath('masks')\n",
    "zarrsPath = outPath.joinpath('zarrs')\n",
    "\n",
    "\n",
    "# propPath = pathlib.Path('/nsls2/data/sst/proposals/2022-2/pass-309180')\n",
    "# zarrsPath = propPath.joinpath('zarr_datasets_jul2022')\n",
    "# outPath = propPath.joinpath('processed_data')\n",
    "# plotsPath = outPath.joinpath('prsoxs_plots')"
   ]
  },
  {
   "cell_type": "markdown",
   "id": "6",
   "metadata": {},
   "source": [
    "## Load DataArrays "
   ]
  },
  {
   "cell_type": "code",
   "execution_count": null,
   "id": "7",
   "metadata": {
    "tags": []
   },
   "outputs": [],
   "source": [
    "sorted([f.name for f in zarrsPath.glob('*')])"
   ]
  },
  {
   "cell_type": "code",
   "execution_count": null,
   "id": "8",
   "metadata": {},
   "outputs": [],
   "source": [
    "# # load dictionary of rsoxs datasets\n",
    "# rsoxs_datasets = {}\n",
    "# for key in ['cartesian_carbon', 'cartesian_nitrogen', 'cartesian_oxygen', \n",
    "#             'polar_carbon', 'polar_nitrogen', 'polar_oxygen']:\n",
    "# # for key in ['cartesian_nitrogen', 'polar_nitrogen']:\n",
    "#     key_start = key.split('_')[0]\n",
    "#     key_end = key.split('_')[1]        \n",
    "#     zarrPath = list(zarrsPath.glob(f'{key_start}*{key_end}.zarr'))[0]\n",
    "#     rsoxs_datasets[key] = xr.open_zarr(zarrPath)\n",
    "    \n",
    "#     # Compute any dask coordiantes\n",
    "#     for coord_name, coord_data in rsoxs_datasets[key].coords.items():\n",
    "#         if isinstance(coord_data.data, da.Array):\n",
    "#             rsoxs_datasets[key].coords[coord_name] = coord_data.compute()\n",
    "    \n",
    "#     # # Add bare SiN substrate subtracted data variables if necessary\n",
    "#     # if key_start == 'cartesian':\n",
    "#     #     DS = rsoxs_datasets[key]\n",
    "#     #     DS['sin_sub_raw_intensity'] = DS['raw_intensity'] - DS['raw_intensity'].sel(sample_name='BareSiN')\n",
    "#     #     DS['sin_sub_corr_intensity'] = DS['corr_intensity'] - DS['corr_intensity'].sel(sample_name='BareSiN')\n",
    "#     #     rsoxs_datasets[key] = DS"
   ]
  },
  {
   "cell_type": "code",
   "execution_count": null,
   "id": "9",
   "metadata": {
    "tags": []
   },
   "outputs": [],
   "source": [
    "rsoxs_datasets = {}\n",
    "rsoxs_datasets['polar_carbon'] = xr.open_zarr(zarrsPath.joinpath('polar_rsoxs_carbon.zarr'))\n",
    "rsoxs_datasets['polar_carbon']"
   ]
  },
  {
   "cell_type": "code",
   "execution_count": null,
   "id": "10",
   "metadata": {},
   "outputs": [],
   "source": [
    "# make selection\n",
    "\n",
    "edge = 'carbon'\n",
    "intensity_type = 'corr'\n",
    "qlims = (None, None)\n",
    "chi_width = 90\n",
    "\n",
    "# sin_para_DA, sin_perp_DA = make_para_perp_DAs(rsoxs_datasets, 'BareSiN_1mm', edge, intensity_type, pol, qlims, chi_width)  \n",
    "\n",
    "for sample_name in tqdm(rsoxs_datasets['polar_carbon'].sample_name.values[:]):\n",
    "    for pol in [0]:\n",
    "        para_DA, perp_DA = make_para_perp_DAs(rsoxs_datasets, sample_name, edge, intensity_type, pol, qlims, chi_width)  \n",
    "\n",
    "        # para_DA = para_DA - (0.5 * sin_para_DA)\n",
    "        # perp_DA = perp_DA - (0.5 * sin_perp_DA)   \n",
    "        \n",
    "#         para_fl_bkg_DA = 0.7 * para_DA.sel(q=slice(0.07, None)).mean('chi').mean('q')\n",
    "#         perp_fl_bkg_DA = 0.7 * perp_DA.sel(q=slice(0.07, None)).mean('chi').mean('q')\n",
    "        \n",
    "#         para_DA = para_DA - para_fl_bkg_DA\n",
    "#         perp_DA = perp_DA - perp_fl_bkg_DA\n",
    "        \n",
    "        # energies = para_DA.energy.sel(energy=slice(398.4, 401.5)).data\n",
    "        # energies = para_DA.energy.sel(energy=slice(390, 404)).data\n",
    "        # energies = para_DA.energy.sel(energy=[390, 398.8, 399.8, 401.1, 410], method='nearest').data\n",
    "        # energies = para_DA.energy.sel(energy=[283, 284.2, 284.4, 284.8, 285.1, 285.8, 286.2, 287, 288, 300], method='nearest').data\n",
    "        energies = para_DA.energy.sel(energy=[270, 283, 284.2, 284.4, 284.8, 285.1, 288, 300, 305, 350], method='nearest').data\n",
    "        # energies = para_DA.energy.sel(energy=[283, 284.2, 284.8, 285.1, 286.2, 287, 288, 300], method='nearest').data\n",
    "        # energies = para_DA.energy.sel(energy=[283, 284.2, 284.4, 284.8, 285.1, 285.8, 286.2, 287, 288, 300], method='nearest').data\n",
    "\n",
    "        \n",
    "        cmap = plt.cm.turbo.copy()\n",
    "        colors = cmap(np.linspace(0, 0.9, len(energies)))\n",
    "\n",
    "        # # Create a ScalarMappable object with the colormap and normalization & add the colorbar to the figure\n",
    "        # sm = plt.cm.ScalarMappable(cmap=cmap, norm=plt.Normalize(vmin=energies[0], vmax=energies[-1]))\n",
    "        # cax = ax.inset_axes([1.03, 0, 0.03, 1])\n",
    "        # cbar = fig.colorbar(sm, cax=cax, orientation='vertical')\n",
    "        # cbar.set_label(label=f'Time [seconds]', labelpad=14)\n",
    "        # cbar.set_ticks(np.round(np.linspace(energies[0], energies[-1], len(energies)), 2))\n",
    "\n",
    "        fig, axs = plt.subplots(ncols=2,figsize=(8,5), tight_layout=True)\n",
    "        \n",
    "\n",
    "        for j, energy in enumerate(energies):\n",
    "            (para_DA.sel(q=slice(7.5e-3, None), energy=energy).mean('chi')\n",
    "             .plot.line(ax=axs[0], color=colors[j], yscale='log', xscale='log', label=energy))\n",
    "            (perp_DA.sel(q=slice(7.5e-3, None), energy=energy).mean('chi')\n",
    "             .plot.line(ax=axs[1], color=colors[j], yscale='log', xscale='log', label=energy))\n",
    "\n",
    "        fig.suptitle(f'Linecuts: {sample_name}')\n",
    "        axs[0].set(title=f'Para, Polarization = {pol}°, chi width = {chi_width}', ylabel='Intensity [arb. units]', xlabel='Q [$Å^{-1}$]')\n",
    "        axs[1].set(title=f'Perp, Polarization = {pol}°, chi width = {chi_width}', ylabel='Intensity [arb. units]', xlabel='Q [$Å^{-1}$]')\n",
    "\n",
    "        axs[0].legend(title='Energy [eV]')\n",
    "        axs[1].legend(title='Energy [eV]')\n",
    "        \n",
    "        # fig.savefig(plotsPath.joinpath('selected_linecuts_xylog', \n",
    "        #     f'{sample_name}_{edge}_{intensity_type}_chiWidth-{chi_width}deg_q{qlims[0]}-{qlims[1]}_pol{pol}deg.png'), dpi=120)\n",
    "\n",
    "        plt.show()\n",
    "        plt.close('all')"
   ]
  },
  {
   "cell_type": "code",
   "execution_count": null,
   "id": "11",
   "metadata": {},
   "outputs": [],
   "source": [
    "# DS['alo_sub_raw_intensity'] = DS['raw_intensity'] - DS['raw_intensity'].sel(sample_name='BareAlO')\n",
    "# DS['alo_sub_corr_intensity'] = DS['corr_intensity'] - DS['corr_intensity'].sel(sample_name='BareAlO')\n",
    "\n",
    "cmap = plt.cm.turbo.copy()\n",
    "cmap.set_bad(cmap.get_under())"
   ]
  },
  {
   "cell_type": "markdown",
   "id": "12",
   "metadata": {},
   "source": [
    "## Intensity Plots"
   ]
  },
  {
   "cell_type": "markdown",
   "id": "13",
   "metadata": {
    "tags": []
   },
   "source": [
    "### 1. Detector movies"
   ]
  },
  {
   "cell_type": "code",
   "execution_count": null,
   "id": "14",
   "metadata": {
    "tags": []
   },
   "outputs": [],
   "source": [
    "# Select Dataset\n",
    "edge = 'nitrogen'\n",
    "DS = rsoxs_datasets[f'cartesian_{edge}']\n",
    "bcx = DS['raw_intensity'].beamcenter_x\n",
    "bcy = DS['raw_intensity'].beamcenter_y\n",
    "\n",
    "\n",
    "# Select Plotting Parameters\n",
    "# pol = 90\n",
    "# energy = 285\n",
    "energy=400\n",
    "pix_size = 500\n",
    "pix_x_slice = slice(bcx-(pix_size/2), bcx+(pix_size/2))\n",
    "pix_y_slice = slice(bcy-(pix_size/2), bcy+(pix_size/2))\n",
    "cmin = 1e9\n",
    "cmax = 1e11\n",
    "\n",
    "# Select DataArray\n",
    "# sample_name = 'PM6-Y6_3000_dSiN'\n",
    "for pol in [0, 90]:\n",
    "    for sample_name in tqdm(DS.sample_name.values[0:1], desc=f'Pol = {pol}°'):\n",
    "        intensity_type = 'corr'\n",
    "        DA = DS.sel(sample_name=sample_name)[f'{intensity_type}_intensity']\n",
    "        # cmin = float(DA.where(sliced_DA>0).compute().quantile(0.35))\n",
    "        # cmax = float(DA.where(sliced_DA>0).compute().quantile(0.9999))\n",
    "\n",
    "        # Plot\n",
    "        sliced_DA = DA.sel(polarization=pol, pix_x=pix_x_slice, pix_y=pix_y_slice).sel(energy=energy,method='nearest')\n",
    "        # print(f'cmin={cmin}, cmax={cmax}')\n",
    "        ax = sliced_DA.plot.imshow(figsize=(5.5,4.5), x='qx', y='qy', cmap=cmap, norm=LogNorm(cmin,cmax))\n",
    "        ax.figure.suptitle(f'Photon Energy = {np.round(energy, 1)} eV', fontsize=14, y=0.96)\n",
    "        ax.figure.set_tight_layout(True)\n",
    "        ax.axes.set(aspect='equal', title=f'{sample_name}, Polarization = {pol}°', xlabel='q$_x$ [$Å^{-1}$]', ylabel='q$_y$ [$Å^{-1}$]')\n",
    "        ax.colorbar.set_label('Double-Norm-Corrected Intensity [arb. units]', rotation=270, labelpad=12)\n",
    "        # ax.figure.savefig(plotsPath.joinpath('detector_movies_carbon_v2', f'{sample_name}_{edge}_{intensity_type}_pol{pol}deg.jpeg'), dpi=120)\n",
    "        plt.show()\n",
    "        plt.close('all')"
   ]
  },
  {
   "cell_type": "raw",
   "id": "15",
   "metadata": {},
   "source": [
    "rclone copy -P detector_movies_oxygen_v1 remote:research/data_analysis/rsoxs_suite/prsoxs_plots/2023C2/detector_movies_oxygen_v1 --exclude \"*checkpoint*\"\n",
    "rclone --dry-run copy -P detector_movies_carbon_v2 remote:research/data_analysis/rsoxs_suite/prsoxs_plots/2023C2/detector_movies_carbon_v2 --exclude \"*checkpoint*\"\n",
    "\n",
    "rclone copy -P isi_oxygen_v1 remote:research/data_analysis/rsoxs_suite/prsoxs_plots/2023C2/isi_oxygen_v1 --exclude \"*checkpoint*\"\n",
    "rclone copy -P linecut_maps_oxygen_v1 remote:research/data_analysis/rsoxs_suite/prsoxs_plots/2023C2/linecut_maps_oxygen_v1 --exclude \"*checkpoint*\"\n",
    "rclone copy -P ar_maps_oxygen_v1 remote:research/data_analysis/rsoxs_suite/prsoxs_plots/2023C2/ar_maps_oxygen_v1 --exclude \"*checkpoint*\"\n",
    "\n",
    "rclone --dry-run sync -P . remote:research/data_analysis/rsoxs_suite/prsoxs_plots/2023C2/ --exclude \"*checkpoint*\""
   ]
  },
  {
   "cell_type": "code",
   "execution_count": null,
   "id": "16",
   "metadata": {},
   "outputs": [],
   "source": [
    "plotsPath"
   ]
  },
  {
   "cell_type": "code",
   "execution_count": null,
   "id": "17",
   "metadata": {
    "tags": []
   },
   "outputs": [],
   "source": [
    "# Select Dataset\n",
    "edge = 'carbon'\n",
    "DS = rsoxs_datasets[f'cartesian_{edge}']\n",
    "bcx = DS['raw_intensity'].beamcenter_x\n",
    "bcy = DS['raw_intensity'].beamcenter_y\n",
    "\n",
    "# Select Plotting Parameters\n",
    "# pol = 90\n",
    "pix_size = 500\n",
    "pix_x_slice = slice(bcx-(pix_size/2), bcx+(pix_size/2))\n",
    "pix_y_slice = slice(bcy-(pix_size/2), bcy+(pix_size/2))\n",
    "intensity_type = 'corr'\n",
    "\n",
    "# Select DataArray\n",
    "# sample_name = 'PM6-Y6_3000_dSiN'\n",
    "for pol in [0, 90]:\n",
    "    for sample_name in tqdm(DS.sample_name.values[:1], desc=f'Polarization {pol}°'):\n",
    "        DA = DS.sel(sample_name=sample_name)[f'{intensity_type}_intensity']\n",
    "\n",
    "        output_path = plotsPath.joinpath('detector_movies_carbon_v2', f'{sample_name}_{edge}_{intensity_type}_pol{pol}deg.mp4')\n",
    "\n",
    "        # FFmpeg command. This is set up to accept data from the pipe and use it as input, with PNG format.\n",
    "        # It will then output an H.264 encoded MP4 video.\n",
    "        cmd = [\n",
    "            'ffmpeg',\n",
    "            '-y',  # Overwrite output file if it exists\n",
    "            '-f', 'image2pipe',\n",
    "            '-vcodec', 'png',\n",
    "            '-r', '23',  # Frame rate\n",
    "            '-i', '-',  # The input comes from a pipe\n",
    "            '-vcodec', 'libx264',\n",
    "            '-pix_fmt', 'yuv420p',\n",
    "            '-crf', '27',  # Set the quality (lower is better, 17 is often considered visually lossless)\n",
    "            str(output_path)\n",
    "        ]\n",
    "\n",
    "        # Start the subprocess\n",
    "        proc = subprocess.Popen(cmd, stdin=subprocess.PIPE, stdout=subprocess.PIPE, stderr=subprocess.PIPE)\n",
    "\n",
    "        # Loop through the energy dimension and send frames to FFmpeg\n",
    "        for energy in tqdm(DA.energy.values, desc=f'Making the {sample_name} movie'):\n",
    "            # Make & customize plot\n",
    "            sliced_DA = DA.sel(polarization=pol, pix_x=pix_x_slice, pix_y=pix_y_slice).sel(energy=energy, method='nearest')\n",
    "            ax = sliced_DA.plot.imshow(figsize=(5.5,4.5), x='qx', y='qy', cmap=cmap, norm=LogNorm(cmin,cmax))\n",
    "            ax.figure.suptitle(f'Photon Energy = {np.round(energy, 1)} eV', fontsize=14, y=0.96)\n",
    "            ax.figure.set_tight_layout(True)   \n",
    "            ax.axes.set(aspect='equal', title=f'{sample_name}, Polarization = {pol}°', xlabel='q$_x$ [$Å^{-1}$]', ylabel='q$_y$ [$Å^{-1}$]')\n",
    "            ax.colorbar.set_label('Double-Norm-Corrected Intensity [arb. units]', rotation=270, labelpad=12)\n",
    "\n",
    "            # Save figure to a PNG buffer\n",
    "            # ax.figure.savefig(plotsPath.joinpath('detector_movies/frames', f'energy-{round(energy)}_frame-{i:03d}.png'), dpi=120)\n",
    "\n",
    "            buf = io.BytesIO()\n",
    "            ax.figure.savefig(buf, format='png')\n",
    "            buf.seek(0)\n",
    "\n",
    "            # Write the PNG buffer data to the process\n",
    "            proc.stdin.write(buf.getvalue())\n",
    "            plt.close('all')\n",
    "\n",
    "        # Finish the subprocess\n",
    "        out, err = proc.communicate()\n",
    "        if proc.returncode != 0:\n",
    "            print(f\"Error: {err}\")\n"
   ]
  },
  {
   "cell_type": "markdown",
   "id": "18",
   "metadata": {},
   "source": [
    "### 2. ISI Plots"
   ]
  },
  {
   "cell_type": "code",
   "execution_count": null,
   "id": "19",
   "metadata": {},
   "outputs": [],
   "source": [
    "DA = rsoxs_datasets['polar_nitrogen']['corr_intensity']"
   ]
  },
  {
   "cell_type": "code",
   "execution_count": null,
   "id": "20",
   "metadata": {},
   "outputs": [],
   "source": [
    "DA.sel(sample_name='PM6-Y6_3000_dSiN', polarization=0, q=slice(0.001, 0.03)).sel(energy=398.8, method='nearest').plot(norm=LogNorm(1e9, 1e11), cmap=plt.cm.turbo)\n",
    "plt.show()"
   ]
  },
  {
   "cell_type": "code",
   "execution_count": null,
   "id": "21",
   "metadata": {},
   "outputs": [],
   "source": [
    "%matplotlib inline"
   ]
  },
  {
   "cell_type": "code",
   "execution_count": null,
   "id": "22",
   "metadata": {
    "tags": []
   },
   "outputs": [],
   "source": [
    "# make selection\n",
    "# sample_name = 'PM6-Y6_3000_dSiN'\n",
    "edge = 'carbon'\n",
    "intensity_type = 'corr'\n",
    "pol = 0\n",
    "qlims = (0.01, 0.05)\n",
    "chi_width = 30\n",
    "\n",
    "energy_min = 283.5\n",
    "energy_max = 289\n",
    "\n",
    "for sample_name in tqdm(rsoxs_datasets[f'polar_{edge}'][f'{intensity_type}_intensity'].sortby('sample_name').sample_name.values):\n",
    "    para_DA, perp_DA = make_para_perp_DAs(rsoxs_datasets, sample_name, edge, intensity_type, pol, qlims, chi_width)  \n",
    "    sin_para_DA, sin_perp_DA = make_para_perp_DAs(rsoxs_datasets, 'BareSiN', edge, intensity_type, pol, qlims, chi_width)  \n",
    "\n",
    "    para_DA = para_DA - sin_para_DA\n",
    "    perp_DA = perp_DA - sin_perp_DA\n",
    "\n",
    "    # slice ISI data\n",
    "    para_ISI = para_DA.interpolate_na(dim='q').mean('chi').mean('q')\n",
    "    perp_ISI = perp_DA.interpolate_na(dim='q').mean('chi').mean('q')\n",
    "\n",
    "    # plot\n",
    "    # fig, ax = plt.subplots()\n",
    "    fig, ax = plt.subplots(figsize=(7,3.5), dpi=120, tight_layout=True)\n",
    "\n",
    "    para_ISI.sel(energy=slice(energy_min,energy_max)).plot.line(ax=ax, label='para', yscale='log')\n",
    "    perp_ISI.sel(energy=slice(energy_min,energy_max)).plot.line(ax=ax, label='perp', yscale='log')\n",
    "    fig.suptitle(f'Integrated scattering intensity (ISI): {sample_name}', fontsize=14, x=0.55)\n",
    "    ax.set(title=f'Polarization = {pol}°, Chi Width = {chi_width}°, Q range = ({qlims[0]}, {qlims[1]}) ' + 'Å$^{-1}$', \n",
    "           xlabel='X-ray energy [eV]', ylabel='Intensity [arb. units]')\n",
    "    ax.legend()\n",
    "    plt.show()\n",
    "\n",
    "    # fig.savefig(outPath.joinpath('prsoxs_plots/isi_nitrogen_more_styles', \n",
    "    #     f'{sample_name}_{edge}_{intensity_type}_chiWidth-{chi_width}deg_qrange-{qlims[0]}-{qlims[1]}_pol{pol}deg.png'), dpi=120)\n",
    "\n",
    "    # plt.close('all')"
   ]
  },
  {
   "cell_type": "code",
   "execution_count": null,
   "id": "23",
   "metadata": {},
   "outputs": [],
   "source": [
    "rsoxs_datasets[f'polar_{edge}'][f'{intensity_type}_intensity'].sample_name.values"
   ]
  },
  {
   "cell_type": "code",
   "execution_count": null,
   "id": "24",
   "metadata": {},
   "outputs": [],
   "source": [
    "selected_samples = ['Y6_3000_dSiN', 'PM6_3000_dSiN', 'PM6-Y6_3000_dSiN', 'PM7-Y6_3000_dSiN', 'Y7_3000_dSiN', 'PM7_3000_dSiN', 'PM7-Y7_3000_dSiN']\n",
    "# selected_samples = ['Y6_3000_dSiN', 'PM6_3000_dSiN', 'PM6-Y6_3000_dSiN', 'PM7-Y6_3000_dSiN', 'Y7_3000_dSiN', 'PM7_3000_dSiN', 'PM7-Y7_3000_dSiN']"
   ]
  },
  {
   "cell_type": "code",
   "execution_count": null,
   "id": "25",
   "metadata": {
    "tags": []
   },
   "outputs": [],
   "source": [
    "rsoxs_datasets['polar_nitrogen']['corr_intensity'].sel(sample_name=selected_samples)"
   ]
  },
  {
   "cell_type": "code",
   "execution_count": null,
   "id": "26",
   "metadata": {
    "tags": []
   },
   "outputs": [],
   "source": [
    "# make selection\n",
    "# sample_name = 'PM6-Y7_3000_dSiN'\n",
    "edge = 'nitrogen'\n",
    "intensity_type = 'corr'\n",
    "# pol = 0\n",
    "qlims = (0.01, 0.05)\n",
    "chi_width = 30\n",
    "\n",
    "\n",
    "# for sample_name in tqdm(rsoxs_datasets[f'polar_{edge}'][f'{intensity_type}_intensity'].sample_name.values):\n",
    "for sample_name in tqdm(selected_samples):\n",
    "    for pol in [0]:\n",
    "        para_DA, perp_DA = make_para_perp_DAs(rsoxs_datasets, sample_name, edge, intensity_type, pol, qlims, chi_width)  \n",
    "        sin_para_DA, sin_perp_DA = make_para_perp_DAs(rsoxs_datasets, 'BareSiN', edge, intensity_type, pol, qlims, chi_width)  \n",
    "\n",
    "        para_DA = para_DA - sin_para_DA  # use for nitrogen\n",
    "        perp_DA = perp_DA - sin_perp_DA  # use for nitrogen\n",
    "\n",
    "        # energies = para_DA.energy.sel(energy=slice(398.4, 401.5)).data\n",
    "        # energies = para_DA.energy.sel(energy=slice(390, 404)).data\n",
    "        energies = para_DA.energy.sel(energy=[390, 398.8, 399.8, 401.1, 410], method='nearest').data\n",
    "        # energies = para_DA.energy.sel(energy=[283, 284.2, 284.4, 284.8, 285.1, 285.8, 286.2, 287, 288, 300], method='nearest').data\n",
    "        # energies = para_DA.energy.sel(energy=[283, 284.2, 284.8, 285.1, 286.2, 287, 288, 300], method='nearest').data\n",
    "        # energies = para_DA.energy.sel(energy=[283, 284.2, 284.4, 284.8, 285.1, 285.8, 286.2, 287, 288, 300], method='nearest').data\n",
    "\n",
    "        \n",
    "        cmap = plt.cm.turbo.copy()\n",
    "        colors = cmap(np.linspace(0, 0.9, len(energies)))\n",
    "\n",
    "        # # Create a ScalarMappable object with the colormap and normalization & add the colorbar to the figure\n",
    "        # sm = plt.cm.ScalarMappable(cmap=cmap, norm=plt.Normalize(vmin=energies[0], vmax=energies[-1]))\n",
    "        # cax = ax.inset_axes([1.03, 0, 0.03, 1])\n",
    "        # cbar = fig.colorbar(sm, cax=cax, orientation='vertical')\n",
    "        # cbar.set_label(label=f'Time [seconds]', labelpad=14)\n",
    "        # cbar.set_ticks(np.round(np.linspace(energies[0], energies[-1], len(energies)), 2))\n",
    "\n",
    "        fig, axs = plt.subplots(ncols=2,figsize=(8,5), tight_layout=True)\n",
    "\n",
    "        for j, energy in enumerate(energies):\n",
    "            (para_DA.sel(q=slice(None, 5e-2), energy=energy).interpolate_na(dim='q').mean('chi')\n",
    "             .plot.line(ax=axs[0], color=colors[j], yscale='log', xscale='log', label=energy))\n",
    "            (perp_DA.sel(q=slice(None, 5e-2), energy=energy).interpolate_na(dim='q').mean('chi')\n",
    "             .plot.line(ax=axs[1], color=colors[j], yscale='log', xscale='log', label=energy))\n",
    "\n",
    "        fig.suptitle(f'Linecuts: {sample_name}')\n",
    "        axs[0].set(title=f'Para, Polarization = {pol}°, chi width = {chi_width}', ylabel='Intensity [arb. units]', xlabel='Q [$Å^{-1}$]')\n",
    "        axs[1].set(title=f'Perp, Polarization = {pol}°, chi width = {chi_width}', ylabel='Intensity [arb. units]', xlabel='Q [$Å^{-1}$]')\n",
    "\n",
    "        axs[0].legend(title='Energy [eV]')\n",
    "        axs[1].legend(title='Energy [eV]')\n",
    "        \n",
    "        fig.savefig(plotsPath.joinpath('selected_linecuts_xylog', \n",
    "            f'{sample_name}_{edge}_{intensity_type}_chiWidth-{chi_width}deg_q{qlims[0]}-{qlims[1]}_pol{pol}deg.png'), dpi=120)\n",
    "\n",
    "        plt.show()\n",
    "        plt.close('all')"
   ]
  },
  {
   "cell_type": "code",
   "execution_count": null,
   "id": "27",
   "metadata": {},
   "outputs": [],
   "source": [
    "(2*np.pi)/0.08"
   ]
  },
  {
   "cell_type": "code",
   "execution_count": null,
   "id": "28",
   "metadata": {},
   "outputs": [],
   "source": [
    "# energies = para_DA.energy.sel(energy=slice(398.4, 401.5)).data\n",
    "# energies = para_DA.energy.sel(energy=slice(390, 404)).data\n",
    "energies = para_DA.energy.sel(energy=[390, 398.8, 399.8, 401.1, 410], method='nearest').data\n",
    "\n",
    "\n",
    "\n",
    "cmap = plt.cm.plasma_r.copy()\n",
    "colors = cmap(np.linspace(0.15, 1, len(energies)))\n",
    "\n",
    "fig, ax = plt.subplots()\n",
    "\n",
    "# # Create a ScalarMappable object with the colormap and normalization & add the colorbar to the figure\n",
    "# sm = plt.cm.ScalarMappable(cmap=cmap, norm=plt.Normalize(vmin=energies[0], vmax=energies[-1]))\n",
    "# cax = ax.inset_axes([1.03, 0, 0.03, 1])\n",
    "# cbar = fig.colorbar(sm, cax=cax, orientation='vertical')\n",
    "# cbar.set_label(label=f'Time [seconds]', labelpad=14)\n",
    "# cbar.set_ticks(np.round(np.linspace(energies[0], energies[-1], len(energies)), 2))\n",
    "\n",
    "\n",
    "for i, energy in enumerate(energies):\n",
    "    (perp_DA.sel(q=slice(None, 5e-2), energy=energy).interpolate_na(dim='q').mean('chi')\n",
    "     .plot.line(ax=ax, color=colors[i], yscale='log', xscale='log', label=energy))\n",
    "\n",
    "plt.legend()\n",
    "plt.show()"
   ]
  },
  {
   "cell_type": "markdown",
   "id": "29",
   "metadata": {},
   "source": [
    "### 3. 2D Linecut Maps"
   ]
  },
  {
   "cell_type": "code",
   "execution_count": null,
   "id": "30",
   "metadata": {},
   "outputs": [],
   "source": [
    "display(DS.sample_name.values)"
   ]
  },
  {
   "cell_type": "code",
   "execution_count": null,
   "id": "31",
   "metadata": {},
   "outputs": [],
   "source": [
    "# make selection\n",
    "sample_name = 'PM7-Y6_3000_dSiN'\n",
    "edge = 'nitrogen'\n",
    "intensity_type = 'corr'\n",
    "pol = 90\n",
    "qlims = (0.01, 0.04)\n",
    "chi_width = 30\n",
    "energy_min = 396\n",
    "energy_max = 404\n",
    "\n",
    "cmap = plt.cm.turbo.copy()\n",
    "\n",
    "para_DA, perp_DA = make_para_perp_DAs(rsoxs_datasets, sample_name, edge, intensity_type, pol, qlims, chi_width)  \n",
    "\n",
    "# Plot\n",
    "fig, axs = plt.subplots(1, 2, figsize=(11,5))\n",
    "cmin = 5e8\n",
    "cmax = 2e10\n",
    "\n",
    "# para_DA.sum('chi').sel(energy=slice(282,290)).plot(ax=axs[0], cmap=cmap, norm=LogNorm(2e10, 1e12), add_colorbar=False)\n",
    "# perp_DA.sum('chi').sel(energy=slice(282,290)).plot(ax=axs[1], cmap=cmap, norm=LogNorm(2e10, 1e12), add_colorbar=False)\n",
    "para_DA.mean('chi').sel(energy=slice(energy_min,energy_max)).plot(ax=axs[0], cmap=cmap, norm=LogNorm(cmin, cmax), add_colorbar=False)\n",
    "perp_DA.mean('chi').sel(energy=slice(energy_min,energy_max)).plot(ax=axs[1], cmap=cmap, norm=LogNorm(cmin, cmax), add_colorbar=False)\n",
    "# para_DA.mean('chi').sel(energy=slice(525,540)).plot(ax=axs[0], cmap=cmap, norm=LogNorm(1e9, 1e11), add_colorbar=False)\n",
    "# perp_DA.mean('chi').sel(energy=slice(525,540)).plot(ax=axs[1], cmap=cmap, norm=LogNorm(1e9, 1e11), add_colorbar=False)\n",
    "\n",
    "sm = plt.cm.ScalarMappable(cmap=cmap, norm=LogNorm(cmin, cmax)) # Create a ScalarMappable object with the colormap and normalization & add the colorbar to the figure\n",
    "cax = axs[1].inset_axes([1.03, 0, 0.05, 1])\n",
    "cbar = fig.colorbar(sm, cax=cax, orientation='vertical')\n",
    "cbar.set_label(label='Double-Norm-Corrected Intensity [arb. units]', labelpad=12, rotation=270)\n",
    "\n",
    "fig.suptitle(f'Linecut Maps: {sample_name}, Polarization = {pol}°, Chi Width = {chi_width}°', fontsize=14)\n",
    "fig.set(tight_layout=True)\n",
    "\n",
    "axs[0].set(title='Parallel to $E_p$', ylabel='Photon energy [eV]', xlabel='q [$Å^{-1}$]')\n",
    "axs[1].set(title='Perpendicular to $E_p$ ', ylabel=None, xlabel='q [$Å^{-1}$]')\n",
    "\n",
    "plt.show()"
   ]
  },
  {
   "cell_type": "code",
   "execution_count": null,
   "id": "32",
   "metadata": {},
   "outputs": [],
   "source": [
    "a = para_EvsQ_avg.hvplot.line(groupby=\"energy\", loglog=True)\n",
    "a * perp_EvsQ_avg.hvplot.line(groupby=\"energy\")"
   ]
  },
  {
   "cell_type": "markdown",
   "id": "33",
   "metadata": {
    "tags": []
   },
   "source": [
    "### 4. Meaned 1D intensity lineplots, selected energies"
   ]
  },
  {
   "cell_type": "code",
   "execution_count": null,
   "id": "34",
   "metadata": {},
   "outputs": [],
   "source": [
    "# make selection\n",
    "sample_name = 'PM6-Y6_3000_dSiN'\n",
    "edge = 'carbon'\n",
    "intensity = 'corr'\n",
    "pol = 0\n",
    "qlims = (0.01, 0.08)\n",
    "chi_width = 30\n",
    "\n",
    "para_DA, perp_DA = make_para_perp_DAs(rsoxs_datasets, sample_name, edge, intensity_type, pol, qlims, chi_width)  \n",
    "\n",
    "# Plot\n",
    "# energies = [275, 280, 283, 285.1, 286.3, 300, 340]\n",
    "energies = [285.1, 285.4, 286.3, 287, 288, 289, 290, 295]\n",
    "fig, (ax_para, ax_perp) = plt.subplots(1,2)\n",
    "fig.set(size_inches=(10,4))\n",
    "fig.suptitle(f'Intensity vs. Q for selected energies, chi widths = {chi_width}°', fontsize=14, y = 1.02)\n",
    "hue = plt.cm.viridis_r(np.linspace(0, 1, len(energies)))\n",
    "for i, energy in enumerate(energies):\n",
    "    para_DA.mean('chi').sel(energy=energy, method='nearest').plot.line(\n",
    "        ax=ax_para, xscale='log', yscale='log', color=hue[i], label=f'{energy} eV')\n",
    "    perp_DA.mean('chi').sel(energy=energy, method='nearest').plot.line(\n",
    "        ax=ax_perp, xscale='log', yscale='log', color=hue[i], label=f'{energy} eV')\n",
    "\n",
    "    \n",
    "ax_perp.legend()\n",
    "ax_para.set(title='Parallel to $E_p$', ylabel='Intensity [arb. units]', xlabel='q [$Å^{-1}$]')\n",
    "ax_perp.set(title='Perpendicular to $E_p$', ylabel=None, xlabel='q [$Å^{-1}$]')\n",
    "\n",
    "plt.show()"
   ]
  },
  {
   "cell_type": "markdown",
   "id": "d496e3ac-f2a4-4e9d-ae62-5df3700e46b3",
   "metadata": {
    "tags": []
   },
   "source": [
    "### Para - perp log scale intensity"
   ]
  },
  {
   "cell_type": "code",
   "execution_count": null,
   "id": "aa23bc55-fcf2-4e0f-8ba7-838423fe594a",
   "metadata": {
    "tags": []
   },
   "outputs": [],
   "source": [
    "%matplotlib inline"
   ]
  },
  {
   "cell_type": "code",
   "execution_count": null,
   "id": "d667d30d-fa72-45f7-9f9f-96dd0350f0d8",
   "metadata": {
    "tags": []
   },
   "outputs": [],
   "source": [
    "plotsPath"
   ]
  },
  {
   "cell_type": "code",
   "execution_count": null,
   "id": "5d250c06-d013-4146-95e0-8897e8a2e20b",
   "metadata": {
    "tags": []
   },
   "outputs": [],
   "source": [
    "rsoxs_datasets['polar_carbon']"
   ]
  },
  {
   "cell_type": "code",
   "execution_count": null,
   "id": "eead9004-e865-49f3-91f9-0dc1ad8bce75",
   "metadata": {
    "tags": []
   },
   "outputs": [],
   "source": [
    "# make selection\n",
    "edge = 'carbon'\n",
    "DS = rsoxs_datasets[f'polar_{edge}']\n",
    "# DS = rsoxs_datasets[f'polar_{edge}_tilted']\n",
    "\n",
    "intensity_type = 'corr'\n",
    "chi_width = 90\n",
    "q_slice = slice(0.01, None)\n",
    "e_slice = slice(282, 292)\n",
    "\n",
    "selected_samples = ['PM6_2000_dSiN', 'PM6_2000_dSiN_2', 'PM6_3000_dSiN', 'PM6_3000_fSiN', 'PM6_4000_dSiN',\n",
    "                    'PM7_3000_dSiN', 'PM7_2000_dSiN', 'PM7_3000_fSiN'] \n",
    "\n",
    "# for sample_name in tqdm(DS.sample_name.values[:]):\n",
    "for sample_name in tqdm(selected_samples):\n",
    "    pol_paras = []\n",
    "    pol_perps = []\n",
    "    for pol in [0, 90]:\n",
    "        para_DA, perp_DA = make_para_perp_DAs(rsoxs_datasets, sample_name, edge, intensity_type, pol, (q_slice.start,q_slice.stop), chi_width) \n",
    "        pol_paras.append(para_DA)\n",
    "        pol_perps.append(perp_DA)\n",
    "\n",
    "\n",
    "    pol_paras[0] = pol_paras[0].assign_coords({'chi': np.linspace(0, chi_width, len(pol_paras[0].chi.values))})  # .assign_coords({'chi': np.linspace(0, 90,len(pol_paras[1].chi.values))})\n",
    "    pol_paras[1] = pol_paras[1].assign_coords({'chi': np.linspace(0, chi_width, len(pol_paras[1].chi.values))})  # .assign_coords({'chi': np.linspace(0, 90,len(pol_paras[1].chi.values))})\n",
    "    pol_perps[0] = pol_perps[0].assign_coords({'chi': np.linspace(0, chi_width, len(pol_perps[0].chi.values))})  # .assign_coords({'chi': np.linspace(0, 90,len(pol_perps[1].chi.values))})\n",
    "    pol_perps[1] = pol_perps[1].assign_coords({'chi': np.linspace(0, chi_width, len(pol_perps[1].chi.values))})  # .assign_coords({'chi': np.linspace(0, 90,len(pol_perps[1].chi.values))})\n",
    "\n",
    "    pol_paras[0] = pol_paras[0].interp({'chi': pol_paras[1].chi.values})  # .assign_coords({'chi': np.linspace(0, 90,len(pol_paras[1].chi.values))})\n",
    "    pol_perps[0] = pol_perps[0].interp({'chi': pol_perps[1].chi.values})  # .assign_coords({'chi': np.linspace(0, 90,len(pol_perps[1].chi.values))})\n",
    "\n",
    "    para_DA = (pol_paras[0] + pol_paras[1])/2\n",
    "    perp_DA = (pol_perps[0] + pol_perps[1])/2\n",
    "\n",
    "    para_DA = para_DA.assign_coords({'polarization':'avg'})\n",
    "    perp_DA = perp_DA.assign_coords({'polarization':'avg'})\n",
    "\n",
    "    para_DA = para_DA.interpolate_na(dim='q')\n",
    "    perp_DA = perp_DA.interpolate_na(dim='q')\n",
    "\n",
    "    pol = str(para_DA.polarization.values) \n",
    "\n",
    "    # Select AR data\n",
    "    # ar_DA = (para_DA.mean('chi') - perp_DA.mean('chi'))  # / (para_DA.mean('chi') + perp_DA.mean('chi'))\n",
    "    ar_DA = np.abs(para_DA.mean('chi') - perp_DA.mean('chi'))  # / (para_DA.mean('chi') + perp_DA.mean('chi'))\n",
    "\n",
    "    # Plot   \n",
    "    energies = para_DA.energy.sel(energy=[260, 283, 284.4, 284.8, 285.2, 286.2, 338.75], method='nearest').data\n",
    "    cmap = plt.cm.turbo.copy()\n",
    "    colors = cmap(np.linspace(0, 1, len(energies)))        \n",
    "\n",
    "    # # Create a ScalarMappable object with the colormap and normalization & add the colorbar to the figure\n",
    "    # sm = plt.cm.ScalarMappable(cmap=cmap, norm=plt.Normalize(vmin=energies[0], vmax=energies[-1]))\n",
    "    # cax = ax.inset_axes([1.03, 0, 0.03, 1])\n",
    "    # cbar = fig.colorbar(sm, cax=cax, orientation='vertical')\n",
    "    # cbar.set_label(label=f'Time [seconds]', labelpad=14)\n",
    "    # cbar.set_ticks(np.round(np.linspace(energies[0], energies[-1], len(energies)), 2))\n",
    "\n",
    "    fig, ax = plt.subplots(tight_layout=True, figsize=(6,4), dpi=120)\n",
    "\n",
    "    for j, energy in enumerate(energies):\n",
    "        (ar_DA.sel(energy=energy).plot.line(ax=ax, color=colors[j], label=energy, xscale='log', yscale='log',\n",
    "                                            linestyle='None', marker='.', markersize=3))\n",
    "\n",
    "    fig.suptitle(f'$\\parallel$ - $\\perp$ Intensity Absolute Difference: {sample_name}', x=0.46, y=0.95)\n",
    "\n",
    "    ax.set(title=f'Chi width = {chi_width}°, Pol = {pol}°', ylim=(1e8, None), ylabel='Intensity [arb. units]', xlabel='Q [$Å^{-1}$]')\n",
    "    # ax.set(title=f'Chi width = {chi_width}°, Pol = {pol}°', ylim=(None, None), ylabel='AR [arb. units]', xlabel='Q [$Å^{-1}$]')\n",
    "    legend = ax.legend(title='Energy [eV]', loc=(1.03,0.23))\n",
    "    for handle in legend.legend_handles:\n",
    "        handle.set_markersize(15)\n",
    "    \n",
    "    # savePath = plotsPath.joinpath('rsoxs_carbon/para-perp_cuts_v1')\n",
    "    # savePath.mkdir(exist_ok=True)\n",
    "    # fig.savefig(savePath.joinpath( \n",
    "    #     f'{sample_name}_{intensity_type}_chiWidth-{chi_width}deg_q-{q_slice.start}-{q_slice.stop}_pol{pol}deg.png'), dpi=120)\n",
    "\n",
    "    plt.show()\n",
    "    plt.close('all')"
   ]
  },
  {
   "cell_type": "markdown",
   "id": "5fb5a4f2-515a-468d-b7f6-e03de8174084",
   "metadata": {
    "tags": []
   },
   "source": [
    "### Load solution SAXS PM6 data text files"
   ]
  },
  {
   "cell_type": "code",
   "execution_count": null,
   "id": "fe87065f-01ca-4172-9df7-0b3841c64125",
   "metadata": {
    "tags": []
   },
   "outputs": [],
   "source": [
    "# Check files\n",
    "saxsPath = pathlib.Path('/nsls2/data/sst/proposals/2023-3/pass-313412/processed_data/prsoxs_plots/carbon/PM6_solution_saxs_txts')\n",
    "# saxsPath = outPath.joinpath('prsoxs_plots/carbon/PM6_solution_saxs_txts')\n",
    "display([f.name for f in sorted(saxsPath.glob('*'))[:3]])\n",
    "display([f.name for f in sorted(saxsPath.glob('*'))[3:]])"
   ]
  },
  {
   "cell_type": "code",
   "execution_count": null,
   "id": "3bf1996d-5761-4ff7-b5b5-132089595942",
   "metadata": {
    "tags": []
   },
   "outputs": [],
   "source": [
    "# plt.close('all')\n",
    "# sigmas = [1, 2, 3, 4]\n",
    "# colors = plt.cm.viridis(np.linspace(0,0.85,len(sigmas)))\n",
    "# for arr in [pm6_cb, pm6_cf, pm6_cn]:\n",
    "#     fig, ax = plt.subplots()\n",
    "#     for i, sigma in enumerate(sigmas[::1]):\n",
    "#         ax.plot(gaussian_filter1d(arr[:,1], sigma), color=colors[i], label=sigma)\n",
    "#         ax.set(xscale='log', yscale='log')\n",
    "#         ax.legend(title='sigma')\n",
    "\n",
    "#     # plt.show()\n",
    "#     # plt.close('all')"
   ]
  },
  {
   "cell_type": "code",
   "execution_count": null,
   "id": "766acde9-601d-4363-b18f-195e5bb61fec",
   "metadata": {
    "tags": []
   },
   "outputs": [],
   "source": [
    "from scipy.ndimage import gaussian_filter1d"
   ]
  },
  {
   "cell_type": "code",
   "execution_count": null,
   "id": "47df9b26-6b8a-4519-8206-6c3b5853ab55",
   "metadata": {
    "tags": []
   },
   "outputs": [],
   "source": [
    "# Load data into numpy arrays\n",
    "pm6_cb, pm6_cf, pm6_cn = [np.loadtxt(f) for f in sorted(saxsPath.glob('*'))[:3]]\n",
    "y6_cn, y6_to, y7_cb, y7_cn = [np.loadtxt(f) for f in sorted(saxsPath.glob('*'))[3:]]\n",
    "\n",
    "# Smooth saxs with gaussian filter:\n",
    "sigma = 3  # In pixels\n",
    "pm6_cb[:,1], pm6_cf[:,1], pm6_cn[:,1] = [gaussian_filter1d(arr[:,1], sigma) for arr in [pm6_cb, pm6_cf, pm6_cn]]\n",
    "y6_cn[:,1], y6_to[:,1], y7_cb[:,1], y7_cn[:,1] = [gaussian_filter1d(arr[:,1], sigma) for arr in [y6_cn, y6_to, y7_cb, y7_cn]]\n",
    "\n",
    "# Below should really just be a loop... made sense for 3 samples\n",
    "# Put numpy arrays into DataArrays\n",
    "pm6_cb_DA = xr.DataArray(data=pm6_cb[:,1], dims=['q'], coords={'q':pm6_cb[:,0], 'err':('q', pm6_cb[:,2])})\n",
    "pm6_cf_DA = xr.DataArray(data=pm6_cf[:,1], dims=['q'], coords={'q':pm6_cf[:,0], 'err':('q', pm6_cf[:,2])})\n",
    "pm6_cn_DA = xr.DataArray(data=pm6_cn[:,1], dims=['q'], coords={'q':pm6_cn[:,0], 'err':('q', pm6_cn[:,2])})                                              \n",
    "y6_cn_DA = xr.DataArray(data=y6_cn[:,1], dims=['q'], coords={'q':y6_cn[:,0], 'err':('q', y6_cn[:,2])})\n",
    "y6_to_DA = xr.DataArray(data=y6_to[:,1], dims=['q'], coords={'q':y6_to[:,0], 'err':('q', y6_to[:,2])})\n",
    "y7_cb_DA = xr.DataArray(data=y7_cb[:,1], dims=['q'], coords={'q':y7_cb[:,0], 'err':('q', y7_cb[:,2])})\n",
    "y7_cn_DA = xr.DataArray(data=y7_cn[:,1], dims=['q'], coords={'q':y7_cn[:,0], 'err':('q', y7_cn[:,2])})\n",
    "                                                  \n",
    "# Move DataArrays into Dataset\n",
    "saxs_DS = xr.Dataset(attrs={'name':'PM6_Solution_SAXS'})\n",
    "saxs_DS['PM6_CB'] = pm6_cb_DA\n",
    "saxs_DS['PM6_CF'] = pm6_cf_DA\n",
    "saxs_DS['PM6_CN'] = pm6_cn_DA                                            \n",
    "saxs_DS['Y6_CN'] = y6_cn_DA\n",
    "saxs_DS['Y6_TO'] = y6_to_DA\n",
    "saxs_DS['Y7_CB'] = y7_cb_DA\n",
    "saxs_DS['Y7_CN'] = y7_cn_DA\n",
    "\n",
    "saxs_DS"
   ]
  },
  {
   "cell_type": "code",
   "execution_count": null,
   "id": "8126c853-2b28-40e4-a8cc-6a696282d469",
   "metadata": {
    "tags": []
   },
   "outputs": [],
   "source": [
    "# # Ensure q values are equal between datasets, else interpolation needed\n",
    "# print(np.array_equal(pm6_cb[:,0], pm6_cf[:,0]))\n",
    "# print(np.array_equal(pm6_cf[:,0], pm6_cn[:,0]))"
   ]
  },
  {
   "cell_type": "code",
   "execution_count": null,
   "id": "b2e04cf6-2897-47f3-84c7-68ebf6bc7760",
   "metadata": {
    "tags": []
   },
   "outputs": [],
   "source": [
    "# qmin = 0.008\n",
    "qmin = None\n",
    "# qmax = float(full_DS.q.max())\n",
    "qmax = None\n",
    "\n",
    "plt.close('all')\n",
    "fig, ax = plt.subplots()\n",
    "for sample in ['PM6_CB', 'PM6_CF', 'PM6_CN']:\n",
    "    saxs_DS[sample].sel(q=slice(qmin,qmax)).plot.line(ax=ax, xscale='log',yscale='log', label=sample)\n",
    "\n",
    "ax.set_ybound(lower=1e-5)\n",
    "ax.legend()\n",
    "plt.show()"
   ]
  },
  {
   "cell_type": "code",
   "execution_count": null,
   "id": "f2d81ad6-7147-4d63-9a85-e5bebf8473de",
   "metadata": {
    "tags": []
   },
   "outputs": [],
   "source": [
    "%matplotlib widget"
   ]
  },
  {
   "cell_type": "code",
   "execution_count": null,
   "id": "a75e4c84-1a52-4243-9e07-c02818d88fd1",
   "metadata": {
    "tags": []
   },
   "outputs": [],
   "source": [
    "# qmin = 0.008\n",
    "qmin = None\n",
    "# qmax = float(full_DS.q.max())\n",
    "qmax = None\n",
    "\n",
    "plt.close('all')\n",
    "fig, ax = plt.subplots()\n",
    "for sample in ['Y6_CN', 'Y7_CB', 'Y7_CN']:\n",
    "# for sample in ['Y7_CB', 'Y7_CN']:\n",
    "    saxs_DS[sample].sel(q=slice(qmin,qmax)).plot.line(ax=ax, xscale='log',yscale='log', label=sample)\n",
    "\n",
    "ax.set_ybound(lower=1e-5)\n",
    "ax.legend()\n",
    "plt.show()"
   ]
  },
  {
   "cell_type": "markdown",
   "id": "2ff51605-6e8f-4511-b9d9-f8d765c51a47",
   "metadata": {
    "tags": []
   },
   "source": [
    "### Plot para-perp P-RSoXS + solution SAXS overlays"
   ]
  },
  {
   "cell_type": "code",
   "execution_count": null,
   "id": "6eecce70-b80b-4d8c-a707-054290dd3adb",
   "metadata": {
    "tags": []
   },
   "outputs": [],
   "source": [
    "%matplotlib inline"
   ]
  },
  {
   "cell_type": "code",
   "execution_count": null,
   "id": "f8bae5b5-6181-46f9-80ec-2e27b6f41ae3",
   "metadata": {
    "tags": []
   },
   "outputs": [],
   "source": [
    "%matplotlib widget"
   ]
  },
  {
   "cell_type": "code",
   "execution_count": null,
   "id": "2fab4f40-d23d-4a54-aba2-4ecd9b78d8f2",
   "metadata": {
    "tags": []
   },
   "outputs": [],
   "source": [
    "# make selection\n",
    "edge = 'carbon'\n",
    "DS = rsoxs_datasets[f'polar_{edge}']\n",
    "\n",
    "intensity_type = 'corr'\n",
    "chi_width = 90\n",
    "q_slice = slice(0.01, None)\n",
    "# e_slice = slice(282, 292)\n",
    "energy = 285.2\n",
    "# energy = 284.8\n",
    "energies = [260, 283, 284.4, 284.8, 285.2, 286.2, 338.75]\n",
    "shift_qval = 0.015  # value by which to look to shift data, divide rsoxs by this value\n",
    "# shift_qval = 0.02  # value by which to look to shift data, divide rsoxs by this value\n",
    "# shift_qval = 0.017  # value by which to look to shift data, divide rsoxs by this value\n",
    "\n",
    "# selected_samples = ['PM6_CBCN', 'PM6_CB_3000', 'PM6_CFCN', 'PM6_CF_3000'] \n",
    "# selected_samples = ['PM6_CF_3000','PM6_CFCN'] \n",
    "selected_samples = ['PM6_CB_3000','PM6_CBCN'] \n",
    "\n",
    "saxs_samples = ['PM6_CF', 'PM6_CB', 'PM6_CN']\n",
    "# saxs_samples = ['Y6_CN', 'Y7_CN', 'Y7_CB']\n",
    "saxs_sample_to_align = 'PM6_CN'\n",
    "selected_qval = float(saxs_DS[saxs_sample_to_align].sel(q=shift_qval, method='nearest'))\n",
    "\n",
    "# Shift all saxs to line up with selected sample qval\n",
    "factor1 = selected_qval / float(saxs_DS['PM6_CB'].sel(q=shift_qval, method='nearest'))\n",
    "factor2 = selected_qval / float(saxs_DS['PM6_CF'].sel(q=shift_qval, method='nearest'))\n",
    "pm6_cb_shifted = saxs_DS['PM6_CB'] * factor1\n",
    "pm6_cf_shifted = saxs_DS['PM6_CF'] * factor2\n",
    "\n",
    "# factor1 = selected_qval / float(saxs_DS['Y7_CN'].sel(q=shift_qval, method='nearest'))\n",
    "# factor2 = selected_qval / float(saxs_DS['Y7_CB'].sel(q=shift_qval, method='nearest'))\n",
    "# y7_cn_shifted = saxs_DS['Y7_CN'] * factor1\n",
    "# y7_cb_shifted = saxs_DS['Y7_CB'] * factor2\n",
    "\n",
    "saxs_colors = plt.cm.RdPu(np.linspace(0.4,0.9,len(saxs_samples)))\n",
    "plt.close('all')\n",
    "\n",
    "# for selected_samples in (['Y6_CF', 'Y6_p5CN-CF'],\n",
    "#                          ['Y6_4CF-1CB', 'Y6_2CF-3CB', 'Y6_p5CN-2CF-3CB'], \n",
    "#                          ['Y6_CB', 'Y6_p5CN-CB']):\n",
    "# for selected_samples in (['PM6_CB', 'PM6_p5CN-CB', 'PM6_1CN-CB', 'PM6_5CN-CB'],\n",
    "#                          ['PM6_CF', 'PM6_p5CN-CF', 'PM6_1CN-CF', 'PM6_5CN-CF'],\n",
    "#                          ['PM6_4CF-1CB', 'PM6_2CF-3CB', 'PM6_p5CN-2CF-3CB']):\n",
    "rsoxs_colors = plt.cm.GnBu(np.linspace(0.4,1,len(selected_samples)))\n",
    "\n",
    "for energy in tqdm(energies, desc='Energies'):\n",
    "    fig, ax = plt.subplots(tight_layout=True, figsize=(6,6), dpi=130)\n",
    "    for i, sample_name in enumerate(tqdm(selected_samples)):\n",
    "        pol_paras = []\n",
    "        pol_perps = []\n",
    "        for pol in [0, 90]:\n",
    "            para_DA, perp_DA = make_para_perp_DAs(rsoxs_datasets, sample_name, edge, intensity_type, pol, (q_slice.start,q_slice.stop), chi_width) \n",
    "            pol_paras.append(para_DA)\n",
    "            pol_perps.append(perp_DA)\n",
    "\n",
    "\n",
    "        pol_paras[0] = pol_paras[0].assign_coords({'chi': np.linspace(0, chi_width, len(pol_paras[0].chi.values))})  # .assign_coords({'chi': np.linspace(0, 90,len(pol_paras[1].chi.values))})\n",
    "        pol_paras[1] = pol_paras[1].assign_coords({'chi': np.linspace(0, chi_width, len(pol_paras[1].chi.values))})  # .assign_coords({'chi': np.linspace(0, 90,len(pol_paras[1].chi.values))})\n",
    "        pol_perps[0] = pol_perps[0].assign_coords({'chi': np.linspace(0, chi_width, len(pol_perps[0].chi.values))})  # .assign_coords({'chi': np.linspace(0, 90,len(pol_perps[1].chi.values))})\n",
    "        pol_perps[1] = pol_perps[1].assign_coords({'chi': np.linspace(0, chi_width, len(pol_perps[1].chi.values))})  # .assign_coords({'chi': np.linspace(0, 90,len(pol_perps[1].chi.values))})\n",
    "\n",
    "        pol_paras[0] = pol_paras[0].interp({'chi': pol_paras[1].chi.values})  # .assign_coords({'chi': np.linspace(0, 90,len(pol_paras[1].chi.values))})\n",
    "        pol_perps[0] = pol_perps[0].interp({'chi': pol_perps[1].chi.values})  # .assign_coords({'chi': np.linspace(0, 90,len(pol_perps[1].chi.values))})\n",
    "\n",
    "        para_DA = (pol_paras[0] + pol_paras[1])/2\n",
    "        perp_DA = (pol_perps[0] + pol_perps[1])/2\n",
    "\n",
    "        para_DA = para_DA.assign_coords({'polarization':'avg'})\n",
    "        perp_DA = perp_DA.assign_coords({'polarization':'avg'})\n",
    "\n",
    "        para_DA = para_DA.interpolate_na(dim='q')\n",
    "        perp_DA = perp_DA.interpolate_na(dim='q')\n",
    "\n",
    "        pol = str(para_DA.polarization.values) \n",
    "\n",
    "        # Select AR data\n",
    "        ar_DA = (para_DA.mean('chi') - perp_DA.mean('chi'))  # / (para_DA.mean('chi') + perp_DA.mean('chi'))\n",
    "        DA = ar_DA.sel(energy=energy, method='nearest')\n",
    "\n",
    "        # Shift RSoXS to line up with SAXS\n",
    "        rsoxs_qval = float(DA.sel(q=shift_qval, method='nearest'))\n",
    "        rsoxs_shift_factor = selected_qval / rsoxs_qval\n",
    "        DA = DA * rsoxs_shift_factor\n",
    "\n",
    "        # Plot rsoxs diff profile:\n",
    "        DA.plot.line(ax=ax, color=rsoxs_colors[i], label=f'{energy} eV: $\\parallel - \\perp$ {sample_name}', \n",
    "                     linestyle='None', marker='.', markersize=2)\n",
    "\n",
    "    # pm6_cf_shifted.plot.line(ax=ax, color=saxs_colors[0], label='Solution: PM6 in CF', zorder=10)    \n",
    "    pm6_cb_shifted.plot.line(ax=ax, color=saxs_colors[1], label='Solution: PM6 in CB')\n",
    "    # y7_cn_shifted.plot.line(ax=ax, color=saxs_colors[1], label='Solution: Y7 in CN') \n",
    "    # y7_cb_shifted.plot.line(ax=ax, color=saxs_colors[0], label='Solution: Y7 in CB') \n",
    "    saxs_DS[saxs_sample_to_align].plot.line(ax=ax, color=saxs_colors[2], label='Solution: PM6 in CN') \n",
    "\n",
    "    ax.set(xscale='log', yscale='log', ylabel='Intensity [arb. units]', xlabel='Q [$Å^{-1}$]')\n",
    "    ax.set(title=f'$\\parallel - \\perp$ RSoXS overlayed on solution SAXS; {chi_width}° $\\\\chi$ wedges', ylim=(None, None), xlim=(None, 0.4))\n",
    "    # ax.legend(title='Sample', loc=(1.02,0.2))\n",
    "    AA_str = '$Å^{-1}$'\n",
    "    legend = ax.legend(title=f'Data Plotted (aligned at Q={shift_qval} {AA_str})')\n",
    "    for handle in legend.legend_handles:\n",
    "        handle.set_markersize(15)\n",
    "\n",
    "    plt.show()\n",
    "    # plt.close('all')"
   ]
  },
  {
   "cell_type": "markdown",
   "id": "35",
   "metadata": {},
   "source": [
    "## Anisotropy Ratio Plots"
   ]
  },
  {
   "cell_type": "markdown",
   "id": "36",
   "metadata": {},
   "source": [
    "### 1. 2D AR Maps"
   ]
  },
  {
   "cell_type": "code",
   "execution_count": null,
   "id": "37",
   "metadata": {},
   "outputs": [],
   "source": [
    "rsoxs_datasets.keys()"
   ]
  },
  {
   "cell_type": "code",
   "execution_count": null,
   "id": "38",
   "metadata": {},
   "outputs": [],
   "source": [
    "rsoxs_datasets['polar_nitrogen'].sample_name.values"
   ]
  },
  {
   "cell_type": "code",
   "execution_count": null,
   "id": "39",
   "metadata": {},
   "outputs": [],
   "source": [
    "plotsPath"
   ]
  },
  {
   "cell_type": "code",
   "execution_count": null,
   "id": "40",
   "metadata": {},
   "outputs": [],
   "source": [
    "# make selection\n",
    "sample_name = 'PM6-Y7_3000_dSiN'\n",
    "edge = 'nitrogen'\n",
    "intensity_type = 'corr'\n",
    "pol = 0\n",
    "qlims = (0.01, 0.06)\n",
    "chi_width = 30\n",
    "energy_min = 396\n",
    "energy_max = 404\n",
    "\n",
    "para_DA, perp_DA = make_para_perp_DAs(rsoxs_datasets, sample_name, edge, intensity_type, pol, qlims, chi_width)   \n",
    "\n",
    "# Select AR data\n",
    "ar_DA = (para_DA.mean('chi') - perp_DA.mean('chi')) / (para_DA.mean('chi') + perp_DA.mean('chi'))\n",
    "\n",
    "# Plot\n",
    "ax = ar_DA.sel(energy=slice(energy_min,energy_max)).plot(figsize=(8,5), norm=plt.Normalize(-0.3, 0.3))\n",
    "# ax = ar_DA.sel(energy=slice(energy_min,energy_max)).plot(figsize=(8,5))\n",
    "\n",
    "ax.figure.suptitle('Anisotropy Ratio (AR) Map', fontsize=14, x=0.43)\n",
    "ax.axes.set(title=f'{sample_name}, Polarization = {pol}°, Chi Width = {chi_width}°', ylabel='Photon Energy [eV]', xlabel='q [$Å^{-1}$]')\n",
    "ax.colorbar.set_label('AR [arb. units]', rotation=270, labelpad=12)\n",
    "\n",
    "\n",
    "ax.figure.savefig(plotsPath.joinpath('ar_maps_nitrogen_more', \n",
    "    f'vminned_{sample_name}_{edge}_{intensity_type}_chiWidth-{chi_width}deg_q-{qlims[0]}-{qlims[1]}_energy{energy_min}-{energy_max}_pol{pol}deg.png'), \n",
    "                  dpi=120)\n",
    "\n",
    "plt.show()"
   ]
  },
  {
   "cell_type": "code",
   "execution_count": null,
   "id": "41",
   "metadata": {},
   "outputs": [],
   "source": [
    "ARvsQ_avg.hvplot.line(groupby=\"energy\")"
   ]
  },
  {
   "cell_type": "markdown",
   "id": "42",
   "metadata": {},
   "source": [
    "### 2. 1D AR Maps"
   ]
  },
  {
   "cell_type": "code",
   "execution_count": null,
   "id": "43",
   "metadata": {},
   "outputs": [],
   "source": []
  },
  {
   "cell_type": "markdown",
   "id": "44",
   "metadata": {},
   "source": [
    "## Loop for saving many plots"
   ]
  },
  {
   "cell_type": "code",
   "execution_count": null,
   "id": "45",
   "metadata": {},
   "outputs": [],
   "source": [
    "rsoxs_datasets['polar_oxygen']"
   ]
  },
  {
   "cell_type": "code",
   "execution_count": null,
   "id": "46",
   "metadata": {
    "tags": []
   },
   "outputs": [],
   "source": [
    "# make selection\n",
    "edge = 'oxygen'\n",
    "intensity_type = 'corr'\n",
    "qlims = (0.01, 0.08)\n",
    "chi_width = 30\n",
    "energy_min = 525\n",
    "energy_max = 545\n",
    "cmin = 5e8\n",
    "cmax = 5e10\n",
    "\n",
    "for sample_name in tqdm(rsoxs_datasets[f'polar_{edge}'].sample_name.data):\n",
    "    for pol in [0, 90]:\n",
    "        ### Select para & perp DataArrays\n",
    "        para_DA, perp_DA = make_para_perp_DAs(rsoxs_datasets, sample_name, edge, intensity_type, pol, qlims, chi_width)  \n",
    "        \n",
    "        ### ISI:\n",
    "        # Slice ISI data\n",
    "        para_ISI = para_DA.interpolate_na(dim='q').mean('chi').sum('q')\n",
    "        perp_ISI = perp_DA.interpolate_na(dim='q').mean('chi').sum('q')\n",
    "        \n",
    "        # Plot\n",
    "        fig, ax = plt.subplots()\n",
    "        para_ISI.sel(energy=slice(energy_min,energy_max)).plot.line(ax=ax, label='para', yscale='log')\n",
    "        perp_ISI.sel(energy=slice(energy_min,energy_max)).plot.line(ax=ax, label='perp', yscale='log')\n",
    "        # para_ISI.plot.line(ax=ax, label='para', yscale='log')\n",
    "        # perp_ISI.plot.line(ax=ax, label='perp', yscale='log')        \n",
    "        fig.suptitle('Integrated Scattering Intensity (ISI)', fontsize=14)\n",
    "        ax.set(title=f'{sample_name}, Polarization = {pol}°, Chi Width = {chi_width}°', xlabel='Photon Energy [eV]', ylabel='Double-Norm-Corrected Intensity [arb. units]')\n",
    "        ax.legend()\n",
    "        fig.savefig(plotsPath.joinpath('isi_oxygen_v1', f'{sample_name}_{edge}_{intensity_type}_chiWidth-{chi_width}deg_pol{pol}deg.png'), dpi=120)\n",
    "        # plt.show()\n",
    "        plt.close('all')\n",
    "        \n",
    "        ### Linecut Maps:\n",
    "        fig, axs = plt.subplots(1, 2, figsize=(11,5))\n",
    "\n",
    "        para_DA.mean('chi').sel(energy=slice(energy_min,energy_max)).plot(ax=axs[0], cmap=cmap, norm=LogNorm(cmin, cmax), add_colorbar=False)\n",
    "        perp_DA.mean('chi').sel(energy=slice(energy_min,energy_max)).plot(ax=axs[1], cmap=cmap, norm=LogNorm(cmin, cmax), add_colorbar=False)\n",
    "\n",
    "        sm = plt.cm.ScalarMappable(cmap=cmap, norm=LogNorm(cmin, cmax)) # Create a ScalarMappable object with the colormap and normalization & add the colorbar to the figure\n",
    "        cax = axs[1].inset_axes([1.03, 0, 0.05, 1])\n",
    "        cbar = fig.colorbar(sm, cax=cax, orientation='vertical')\n",
    "        cbar.set_label(label='Intensity [arb. units]', labelpad=12)\n",
    "        fig.suptitle(f'Linecut Maps: {sample_name}, Polarization = {pol}°, Chi Width = {chi_width}°', fontsize=14)\n",
    "        fig.set(tight_layout=True)\n",
    "        axs[0].set(title='Parallel to $E_p$', ylabel='Photon energy [eV]', xlabel='q [$Å^{-1}$]')\n",
    "        axs[1].set(title='Perpendicular to $E_p$ ', ylabel=None, xlabel='q [$Å^{-1}$]')\n",
    "        fig.savefig(plotsPath.joinpath('linecut_maps_oxygen_v1', f'{sample_name}_{edge}_{intensity_type}_chiWidth-{chi_width}deg_pol{pol}deg.png'), dpi=120)\n",
    "        # plt.show()\n",
    "        plt.close('all')\n",
    "\n",
    "        ### AR Maps:\n",
    "        # Select AR data\n",
    "        ar_DA = (para_DA.mean('chi') - perp_DA.mean('chi')) / (para_DA.mean('chi') + perp_DA.mean('chi'))\n",
    "\n",
    "        if para_DA.sample_name=='BareSiN':\n",
    "            bareSiN_ar_DA = ar_DA.copy()\n",
    "            \n",
    "        # # Subtract AR from SiN:\n",
    "        # ar_DA = ar_DA - bareSiN_ar_DA\n",
    "\n",
    "        # Plot\n",
    "        ax = ar_DA.sel(energy=slice(energy_min,energy_max)).plot(figsize=(8,5), norm=plt.Normalize(-0.6, 0.6))\n",
    "        ax.figure.suptitle('Anisotropy Ratio (AR) Map', fontsize=14, x=0.43)\n",
    "        ax.axes.set(title=f'{sample_name}, Polarization = {pol}°, Chi Width = {chi_width}°', ylabel='Photon Energy [eV]', xlabel='q [$Å^{-1}$]')\n",
    "        ax.colorbar.set_label('AR [arb. units]', rotation=270, labelpad=12)\n",
    "        ax.figure.savefig(plotsPath.joinpath('ar_maps_oxygen_v1', f'{sample_name}_{edge}_{intensity_type}_chiWidth-{chi_width}deg_pol{pol}deg.png'), dpi=120)\n",
    "        # plt.show()\n",
    "        plt.close('all')"
   ]
  },
  {
   "cell_type": "markdown",
   "id": "47",
   "metadata": {
    "jp-MarkdownHeadingCollapsed": true,
    "tags": []
   },
   "source": [
    "## Incorporating simulation output\n",
    "old and incomplete"
   ]
  },
  {
   "cell_type": "code",
   "execution_count": null,
   "id": "48",
   "metadata": {},
   "outputs": [],
   "source": [
    "import h5py"
   ]
  },
  {
   "cell_type": "code",
   "execution_count": null,
   "id": "49",
   "metadata": {},
   "outputs": [],
   "source": [
    "whos PosixPath"
   ]
  },
  {
   "cell_type": "code",
   "execution_count": null,
   "id": "50",
   "metadata": {},
   "outputs": [],
   "source": [
    "simsPath = rootPath.joinpath('imgs_analysis/sim_runs')"
   ]
  },
  {
   "cell_type": "code",
   "execution_count": null,
   "id": "51",
   "metadata": {},
   "outputs": [],
   "source": [
    "[f.name for f in simPath.iterdir()]"
   ]
  },
  {
   "cell_type": "code",
   "execution_count": null,
   "id": "52",
   "metadata": {},
   "outputs": [],
   "source": [
    "simPath = simsPath.joinpath('D1.0_a1.0_eps1.0_250pix_375size_0.5m_600steps_1')\n",
    "h5path = simPath.joinpath('HDF5')\n",
    "h5list = sorted(h5path.glob('E*h5'))"
   ]
  },
  {
   "cell_type": "code",
   "execution_count": null,
   "id": "53",
   "metadata": {},
   "outputs": [],
   "source": [
    "def print_key(f, key):\n",
    "    try:\n",
    "        keys2 = f[key].keys()\n",
    "        for key2 in keys2:\n",
    "            new_key = key + '/' + key2\n",
    "            print_key(f, new_key)\n",
    "    except AttributeError:\n",
    "        print(key)\n",
    "\n",
    "with h5py.File(h5list[0],'r') as f:\n",
    "    for key in f.keys():\n",
    "        print_key(f, key)"
   ]
  },
  {
   "cell_type": "markdown",
   "id": "54",
   "metadata": {},
   "source": [
    "#### The scattering pattern is contained within 'K0/projection.' If you simulated multiple incident angles there would be additional 'K#' keys. KIDList contains the vector values for each of the incident angles (propagation direction)."
   ]
  },
  {
   "cell_type": "markdown",
   "id": "55",
   "metadata": {},
   "source": [
    "#### Instantiate the PyHyperScattering loader and integrator"
   ]
  },
  {
   "cell_type": "code",
   "execution_count": null,
   "id": "56",
   "metadata": {},
   "outputs": [],
   "source": [
    "load = phs.load.cyrsoxsLoader(use_chunked_loading=True)\n",
    "integ = phs.integrate.WPIntegrator(force_np_backend=True) # avoiding gpu backend for this tutorial"
   ]
  },
  {
   "cell_type": "code",
   "execution_count": null,
   "id": "57",
   "metadata": {
    "tags": []
   },
   "outputs": [],
   "source": [
    "raw = load.loadDirectory(simPath)"
   ]
  },
  {
   "cell_type": "code",
   "execution_count": null,
   "id": "58",
   "metadata": {},
   "outputs": [],
   "source": [
    "raw"
   ]
  },
  {
   "cell_type": "code",
   "execution_count": null,
   "id": "59",
   "metadata": {},
   "outputs": [],
   "source": [
    "remeshed = integ.integrateImageStack(raw)"
   ]
  },
  {
   "cell_type": "code",
   "execution_count": null,
   "id": "60",
   "metadata": {},
   "outputs": [],
   "source": [
    "remeshed"
   ]
  },
  {
   "cell_type": "code",
   "execution_count": null,
   "id": "61",
   "metadata": {},
   "outputs": [],
   "source": [
    "remeshed.sel(energy=285.1).plot()"
   ]
  },
  {
   "cell_type": "code",
   "execution_count": null,
   "id": "62",
   "metadata": {},
   "outputs": [],
   "source": [
    "# c = cm.jet(np.linspace(0,1,len(remeshed)))"
   ]
  },
  {
   "cell_type": "code",
   "execution_count": null,
   "id": "63",
   "metadata": {},
   "outputs": [],
   "source": [
    "fig, ax = plt.subplots(1,3,figsize=(10,3),dpi=140,constrained_layout=True)\n",
    "raw.sel(energy=275).plot(norm=LogNorm(1e-7,1),cmap='terrain',ax=ax[0],add_colorbar=False)\n",
    "raw.sel(energy=285).plot(norm=LogNorm(1e-7,1),cmap='terrain',ax=ax[1],add_colorbar=False)\n",
    "raw.sel(energy=295).plot(norm=LogNorm(1e-7,1),cmap='terrain',ax=ax[2])\n",
    "\n",
    "[{axes.set_xlim(-0.1,0.1),axes.set_ylim(-0.1,0.1)} for axes in ax]\n",
    "plt.show()"
   ]
  },
  {
   "cell_type": "code",
   "execution_count": null,
   "id": "64",
   "metadata": {
    "tags": []
   },
   "outputs": [],
   "source": [
    "loaded_rsoxs.build_tiff_stack??"
   ]
  },
  {
   "cell_type": "code",
   "execution_count": null,
   "id": "65",
   "metadata": {},
   "outputs": [],
   "source": []
  }
 ],
 "metadata": {
  "kernelspec": {
   "display_name": "nrss",
   "language": "python",
   "name": "nrss"
  },
  "language_info": {
   "codemirror_mode": {
    "name": "ipython",
    "version": 3
   },
   "file_extension": ".py",
   "mimetype": "text/x-python",
   "name": "python",
   "nbconvert_exporter": "python",
   "pygments_lexer": "ipython3",
   "version": "3.9.0"
  }
 },
 "nbformat": 4,
 "nbformat_minor": 5
}
