{
 "cells": [
  {
   "cell_type": "markdown",
   "id": "0",
   "metadata": {},
   "source": [
    "Release VERSION 230109\n",
    "\n",
    "<h1>RSoXS plan simulator</h1>\n",
    "this is a full stack of the SST scan system, from the loader through to the low level acquisition code, all simulated here\n",
    "run all the hidden cells first!"
   ]
  },
  {
   "cell_type": "code",
   "execution_count": null,
   "id": "1",
   "metadata": {
    "tags": []
   },
   "outputs": [],
   "source": [
    "!pip install -e /nsls2/users/alevin/repos/rsoxs_scans"
   ]
  },
  {
   "cell_type": "markdown",
   "id": "2",
   "metadata": {},
   "source": [
    "## Restart kernel!"
   ]
  },
  {
   "cell_type": "code",
   "execution_count": null,
   "id": "3",
   "metadata": {
    "tags": []
   },
   "outputs": [],
   "source": [
    "%load_ext autoreload\n",
    "# %autoreload 2\n",
    "\n",
    "from rsoxs_scans.spreadsheets import load_samplesxlsx, save_samplesxlsx\n",
    "from rsoxs_scans.acquisition import dryrun_bar, get_acq_details\n",
    "import pathlib"
   ]
  },
  {
   "cell_type": "code",
   "execution_count": null,
   "id": "4",
   "metadata": {},
   "outputs": [],
   "source": [
    "userPath = pathlib.Path('/nsls2/users/alevin')\n",
    "sheetsPath = userPath.joinpath('rsoxs_suite/imgs_analysis/sample_bars')\n",
    "sheetsPath.exists()"
   ]
  },
  {
   "cell_type": "code",
   "execution_count": null,
   "id": "5",
   "metadata": {
    "tags": []
   },
   "outputs": [],
   "source": [
    "# test your .xlsx file here\n",
    "# load the example bar\n",
    "version = 'v8'\n",
    "bar = load_samplesxlsx(sheetsPath.joinpath(f'Levin-Sample_Bar_{version}.xlsx'))"
   ]
  },
  {
   "cell_type": "code",
   "execution_count": null,
   "id": "6",
   "metadata": {},
   "outputs": [],
   "source": [
    "save_samplesxlsx(bar, name=f'saved_bar_{version}', path=f'{str(sheetsPath)}/') # test writing to a temporary file"
   ]
  },
  {
   "cell_type": "code",
   "execution_count": null,
   "id": "7",
   "metadata": {
    "tags": []
   },
   "outputs": [],
   "source": [
    "# bar2 = load_samplesxlsx(\"test2.xlsx\") # test loading from a temporary file"
   ]
  },
  {
   "cell_type": "code",
   "execution_count": null,
   "id": "8",
   "metadata": {
    "tags": []
   },
   "outputs": [],
   "source": [
    "# dry run it\n",
    "outputs = dryrun_bar(bar,['apriority'],group='all')"
   ]
  },
  {
   "cell_type": "code",
   "execution_count": null,
   "id": "9",
   "metadata": {
    "jupyter": {
     "outputs_hidden": true
    },
    "tags": []
   },
   "outputs": [],
   "source": [
    "# Get more details on a given acquisition\n",
    "get_acq_details(40,outputs)"
   ]
  },
  {
   "cell_type": "code",
   "execution_count": null,
   "id": "10",
   "metadata": {},
   "outputs": [],
   "source": [
    "# get the set of all actions\n",
    "actions = set()\n",
    "for acq in outputs:\n",
    "    for step in acq['steps']:\n",
    "        actions.add(step['action'])\n",
    "print(actions)"
   ]
  },
  {
   "cell_type": "code",
   "execution_count": null,
   "id": "11",
   "metadata": {},
   "outputs": [],
   "source": [
    "arguments = {}\n",
    "for action in actions:\n",
    "    keys = set()\n",
    "    for acq in outputs:\n",
    "        for step in acq['steps']:\n",
    "            if step['action'] == action:\n",
    "                if 'kwargs' in step:\n",
    "                    for kwarg in step['kwargs']:\n",
    "                        keys.add(kwarg)\n",
    "    arguments[action]=keys\n",
    "    print(\"{:<18} : {}\".format(action,keys))"
   ]
  },
  {
   "cell_type": "markdown",
   "id": "12",
   "metadata": {},
   "source": [
    "<h1>Examples of edges, ratios, frames"
   ]
  },
  {
   "cell_type": "code",
   "execution_count": null,
   "id": "13",
   "metadata": {},
   "outputs": [],
   "source": [
    "# totally manual simple scan\n",
    "from rsoxs_scans.constructor import get_energies\n",
    "energies = get_energies((1850,1930),100)"
   ]
  },
  {
   "cell_type": "code",
   "execution_count": null,
   "id": "14",
   "metadata": {},
   "outputs": [],
   "source": [
    "# precise energy list\n",
    "# you can fool the algorithm if you put 1 as the number of frames it will only take one frame at each of the thresholds, including the last one, so you can sort of treat this as just an energy list\n",
    "# as a corollary, you can't have a total number of frames less than the thresholds that you give it in edges (it will at a minimum always take the threshold values)\n",
    "energies = get_energies((250,250,250,340,340,341,280,281.45,500,500),1)"
   ]
  },
  {
   "cell_type": "code",
   "execution_count": null,
   "id": "15",
   "metadata": {},
   "outputs": [],
   "source": [
    "# use a default\n",
    "energies = get_energies('Nitrogen')"
   ]
  },
  {
   "cell_type": "code",
   "execution_count": null,
   "id": "16",
   "metadata": {},
   "outputs": [],
   "source": [
    "# use a default with a different name\n",
    "energies = get_energies('c')"
   ]
  },
  {
   "cell_type": "code",
   "execution_count": null,
   "id": "17",
   "metadata": {},
   "outputs": [],
   "source": [
    "# use a different built in interval set\n",
    "energies = get_energies('c','full','carbon nonaromatic')"
   ]
  },
  {
   "cell_type": "code",
   "execution_count": null,
   "id": "18",
   "metadata": {},
   "outputs": [],
   "source": [
    "# get a very short version of this scan\n",
    "energies = get_energies('c','very short','carbon nonaromatic')"
   ]
  },
  {
   "cell_type": "code",
   "execution_count": null,
   "id": "19",
   "metadata": {},
   "outputs": [],
   "source": [
    "# I don't have time for this, I only want ~10 energies\n",
    "energies = get_energies('c',10,'carbon nonaromatic')"
   ]
  },
  {
   "cell_type": "code",
   "execution_count": null,
   "id": "20",
   "metadata": {},
   "outputs": [],
   "source": [
    "# also, I made single entry energies also work\n",
    "energies = get_energies(280)"
   ]
  },
  {
   "cell_type": "code",
   "execution_count": null,
   "id": "21",
   "metadata": {},
   "outputs": [],
   "source": [
    "# also option to have frames as a list of exact numbers needed in each region\n",
    "energies = get_energies('c',[2,5,10,40,5,2])"
   ]
  },
  {
   "cell_type": "code",
   "execution_count": null,
   "id": "22",
   "metadata": {},
   "outputs": [],
   "source": [
    "# putting in zero effectively removes that region\n",
    "energies = get_energies('c',[2,5,10,0,5,2])"
   ]
  },
  {
   "cell_type": "code",
   "execution_count": null,
   "id": "23",
   "metadata": {},
   "outputs": [],
   "source": [
    "from rsoxs_scans.constructor import construct_exposure_times\n",
    "times,_ = construct_exposure_times(get_energies([270,280,290,400],500,[2,1,10]),1)\n",
    "len(times)"
   ]
  },
  {
   "cell_type": "code",
   "execution_count": null,
   "id": "24",
   "metadata": {},
   "outputs": [],
   "source": [
    "from rsoxs_scans.constructor import get_nexafs_scan_params\n",
    "get_nexafs_scan_params('n','normal')"
   ]
  },
  {
   "cell_type": "markdown",
   "id": "25",
   "metadata": {},
   "source": [
    "<h1>Example of complex Exposure times"
   ]
  },
  {
   "cell_type": "code",
   "execution_count": null,
   "id": "26",
   "metadata": {},
   "outputs": [],
   "source": [
    "construct_exposure_times(get_energies((1850,1930),100),[2,(\"between\",1870,1900.0),4,(\"greater_than\",1920.0),1],80)"
   ]
  },
  {
   "cell_type": "code",
   "execution_count": null,
   "id": "27",
   "metadata": {},
   "outputs": [],
   "source": [
    "isinstance('asdf',str)"
   ]
  },
  {
   "cell_type": "code",
   "execution_count": null,
   "id": "28",
   "metadata": {},
   "outputs": [],
   "source": []
  },
  {
   "cell_type": "code",
   "execution_count": null,
   "id": "29",
   "metadata": {},
   "outputs": [],
   "source": []
  }
 ],
 "metadata": {
  "kernelspec": {
   "display_name": "Python 3 (ipykernel)",
   "language": "python",
   "name": "python3"
  },
  "language_info": {
   "codemirror_mode": {
    "name": "ipython",
    "version": 3
   },
   "file_extension": ".py",
   "mimetype": "text/x-python",
   "name": "python",
   "nbconvert_exporter": "python",
   "pygments_lexer": "ipython3",
   "version": "3.9.15"
  },
  "vscode": {
   "interpreter": {
    "hash": "054bedd935cc4fb30a8577dfc7551b971df042c2fe48c0ba637d4f4d7d65a122"
   }
  }
 },
 "nbformat": 4,
 "nbformat_minor": 5
}
