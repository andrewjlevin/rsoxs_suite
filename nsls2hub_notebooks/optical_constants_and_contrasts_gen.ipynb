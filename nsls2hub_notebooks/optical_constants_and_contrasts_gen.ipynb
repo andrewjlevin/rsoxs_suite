{
 "cells": [
  {
   "cell_type": "markdown",
   "id": "0",
   "metadata": {
    "tags": []
   },
   "source": [
    "## Imports & Setup"
   ]
  },
  {
   "cell_type": "code",
   "execution_count": null,
   "id": "1",
   "metadata": {},
   "outputs": [],
   "source": [
    "!pip install -e /nsls2/users/alevin/repos/kkcalc"
   ]
  },
  {
   "cell_type": "code",
   "execution_count": null,
   "id": "2",
   "metadata": {},
   "outputs": [],
   "source": [
    "# Imports:\n",
    "import sys\n",
    "import pathlib\n",
    "import numpy as np\n",
    "import matplotlib.pyplot as plt\n",
    "import matplotlib as mpl\n",
    "import xarray as xr\n",
    "import pandas as pd\n",
    "import dask.array as da\n",
    "import kkcalc\n",
    "from kkcalc import data\n",
    "from kkcalc import kk\n",
    "from scipy import optimize\n",
    "from tqdm.auto import tqdm\n",
    "\n",
    "\n",
    "sys.path.append('/nsls2/users/alevin/rsoxs_suite/misc_older_work/nexafs_analysis')\n",
    "import nexafs_fxns as nf  # custom nexafs functions used throughout this notebook"
   ]
  },
  {
   "cell_type": "code",
   "execution_count": null,
   "id": "3",
   "metadata": {},
   "outputs": [],
   "source": [
    "# Define paths\n",
    "\n",
    "propPath = pathlib.Path('/nsls2/data/sst/proposals/2023-3/pass-313412')\n",
    "outPath = propPath.joinpath('processed_data')\n",
    "zarrsPath = outPath.joinpath('zarrs')"
   ]
  },
  {
   "cell_type": "code",
   "execution_count": null,
   "id": "4",
   "metadata": {},
   "outputs": [],
   "source": [
    "# Define functions\n",
    "\n",
    "# Peter D's kkcalc function for numpy arrays:\n",
    "def calculate_deltabeta(spectra_e, spectra_abs, chemform, density, e_min=280, e_max=315):\n",
    "    # Parse chemical formula and calculate formula mass\n",
    "    stoichiometry = kk.data.ParseChemicalFormula(chemform)\n",
    "    formula_mass = data.calculate_FormulaMass(stoichiometry)\n",
    "\n",
    "    # Calculate Atomic Scattering Factors from Henke Database\n",
    "    ASF_E, ASF_Data = kk.data.calculate_asf(stoichiometry)\n",
    "    ASF_Data2 = kk.data.coeffs_to_ASF(ASF_E, np.vstack((ASF_Data, ASF_Data[-1])))\n",
    "\n",
    "    # Merge Henke data with NEXAFS\n",
    "    merged = data.merge_spectra(np.column_stack((spectra_e, spectra_abs)), ASF_E, ASF_Data, merge_points=(e_min,e_max), add_background=False, fix_distortions=False, plotting_extras=True)\n",
    "\n",
    "    # Calculate relativistic correction\n",
    "    correction = kk.calc_relativistic_correction(stoichiometry)\n",
    "\n",
    "    # Calculate real component of ASF from merged data\n",
    "    real = kk.KK_PP(merged[2][:,0], merged[0], merged[1], correction)\n",
    "\n",
    "    \n",
    "    # Conversion to delta and beta\n",
    "    delta = data.convert_data(np.column_stack((merged[2][:,0],real)),'ASF','refractive_index', Density=density, Formula_Mass=formula_mass)\n",
    "    beta = data.convert_data(merged[2],'ASF','refractive_index', Density=density, Formula_Mass=formula_mass)\n",
    "    \n",
    "    return delta, beta\n",
    "\n",
    "#this wrapper function is the same as described in Part 1\n",
    "#this will accept and return xarrays\n",
    "def binary_contrast(n1, n2=None):\n",
    "    if n2 is None:\n",
    "        #second component is vacuum\n",
    "        n2 = xr.zeros_like(n1)\n",
    "    else:\n",
    "        #second is interpolated to match the energy array of the first component.  \n",
    "        n2 = n2.interp(energy=n1.energy)\n",
    "    return n1.energy**4 * ((n1.delta-n2.delta)**2 + (n1.beta-n2.beta)**2)"
   ]
  },
  {
   "cell_type": "markdown",
   "id": "5",
   "metadata": {
    "jp-MarkdownHeadingCollapsed": true,
    "tags": []
   },
   "source": [
    "## Load nexafs datasets from zarrs"
   ]
  },
  {
   "cell_type": "code",
   "execution_count": null,
   "id": "6",
   "metadata": {
    "jupyter": {
     "outputs_hidden": true
    },
    "tags": []
   },
   "outputs": [],
   "source": [
    "sorted([f.name for f in zarrsPath.glob('*')])"
   ]
  },
  {
   "cell_type": "code",
   "execution_count": null,
   "id": "7",
   "metadata": {},
   "outputs": [],
   "source": [
    "materials_dict = {\n",
    "    'Y6': ('TEY', 'Y6_CF'),\n",
    "    'Y6BO': ('TEY', 'Y6BO_CF'),\n",
    "    'Y7': ('PEY', 'Y7_CB'),\n",
    "    'Y7BO': ('TEY', 'Y7BO_CB'),\n",
    "    'PM6' : ('TRMSN', 'PM6_CBCN_rot')\n",
    "}"
   ]
  },
  {
   "cell_type": "code",
   "execution_count": null,
   "id": "8",
   "metadata": {
    "tags": []
   },
   "outputs": [],
   "source": [
    "plan_of_interst = 'nexafs_carbon'\n",
    "\n",
    "nf_DA_rows = []\n",
    "for material, info in tqdm(materials_dict.items()):\n",
    "    nexafs_type = info[0]\n",
    "    sample_name = info[1]\n",
    "    \n",
    "    if nexafs_type == 'TRMSN':\n",
    "        nf_DA = xr.open_zarr(zarrsPath.joinpath(f'{nexafs_type}_{plan_of_interest}_3angle.zarr')\n",
    "                            )[f'full_corr_{nexafs_type.lower()}'].sel(sample_name=[sample_name])        \n",
    "    else:\n",
    "        nf_DA = xr.open_zarr(zarrsPath.joinpath(f'{nexafs_type}_{plan_of_interest}.zarr')\n",
    "                            )[f'full_corr_{nexafs_type.lower()}'].sel(sample_name=[sample_name])\n",
    "        \n",
    "    # Drop scan_id and sample_id and compute any dask coordinates\n",
    "    for coord_name, coord_data in nf_DA.coords.items():\n",
    "        if coord_name not in nf_DA.dims:\n",
    "            nf_DA = nf_DA.drop_vars(coord_name)\n",
    "        elif isinstance(coord_data.data, da.Array):\n",
    "            nf_DA.coords[coord_name] = coord_data.compute()        \n",
    "        \n",
    "        \n",
    "    nf_DA = nf_DA.assign_coords({'cos_sq_theta': ('theta', ((np.cos(np.deg2rad(nf_DA.theta)))**2).data)})\n",
    "    nf_DA = nf_DA.interp({'energy': np.linspace(250,350,3000)})   \n",
    "    nf_DA_rows.append(nf_DA)"
   ]
  },
  {
   "cell_type": "code",
   "execution_count": null,
   "id": "9",
   "metadata": {
    "jupyter": {
     "outputs_hidden": true
    },
    "tags": []
   },
   "outputs": [],
   "source": [
    "[display(nf_DA) for nf_DA in nf_DA_rows]"
   ]
  },
  {
   "cell_type": "code",
   "execution_count": null,
   "id": "10",
   "metadata": {
    "jupyter": {
     "outputs_hidden": true
    },
    "tags": []
   },
   "outputs": [],
   "source": [
    "for nf_DA in nf_DA_rows:\n",
    "    nf_DA.sel(energy=slice(282,292)).plot(hue='theta')\n",
    "    plt.show()\n",
    "    plt.close('all')"
   ]
  },
  {
   "cell_type": "code",
   "execution_count": null,
   "id": "11",
   "metadata": {
    "tags": []
   },
   "outputs": [],
   "source": [
    "# plan_of_interest = 'nexafs_carbon'\n",
    "# loaded_DS = xr.open_zarr(zarrsPath.joinpath(f'TEY_{plan_of_interest}.zarr'))\n",
    "# # loaded_DS = xr.open_zarr(zarrsPath.joinpath(f'TRMSN_{plan_of_interest}_day1.zarr'))\n",
    "# # loaded_DS = xr.open_zarr(zarrsPath.joinpath(f'TRMSN_{plan_of_interest}_3angle.zarr'))\n",
    "# # loaded_DS = xr.open_zarr(zarrsPath.joinpath(f'PEY_{plan_of_interest}.zarr'))\n",
    "\n",
    "# # Compute any dask coordiantes\n",
    "# for coord_name, coord_data in loaded_DS.coords.items():\n",
    "#     if isinstance(coord_data.data, da.Array):\n",
    "#         loaded_DS.coords[coord_name] = coord_data.compute()\n",
    "\n",
    "# DS = loaded_DS.copy().assign_coords({'cos_sq_theta': ('theta', ((np.cos(np.deg2rad(loaded_DS.theta)))**2).data)})\n",
    "# DS"
   ]
  },
  {
   "cell_type": "code",
   "execution_count": null,
   "id": "12",
   "metadata": {},
   "outputs": [],
   "source": [
    "# sample_name = 'Y6_CF'\n",
    "# DA = DS.sel(sample_name=sample_name)['full_corr_tey']\n",
    "# DA"
   ]
  },
  {
   "cell_type": "markdown",
   "id": "13",
   "metadata": {
    "jp-MarkdownHeadingCollapsed": true,
    "tags": []
   },
   "source": [
    "## Extrapolate nexafs to theta = 0 "
   ]
  },
  {
   "cell_type": "code",
   "execution_count": null,
   "id": "14",
   "metadata": {
    "jupyter": {
     "outputs_hidden": true
    },
    "tags": []
   },
   "outputs": [],
   "source": [
    "for nf_DA in nf_DA_rows:\n",
    "    nexafs = nf_DA.copy().swap_dims({'theta':'cos_sq_theta'}).squeeze()\n",
    "    nexafs_fit = nexafs.polyfit('cos_sq_theta', 1)\n",
    "    new_theta = np.append(0, nf_DA.theta.values)\n",
    "    new_cos_sq_theta = (np.cos(new_theta*np.pi/180))**2\n",
    "    nexafs_ep = nf.evaluate_nexafs_fit(nexafs, nexafs_fit, new_cos_sq_theta, new_theta)   \n",
    "    \n",
    "    fig, ax1 = plt.subplots(figsize=(8,4))\n",
    "    #the xarray way of plotting\n",
    "    colors = plt.cm.plasma(np.linspace(0,1,nexafs_ep.theta.size))\n",
    "    colors2 = plt.cm.winter(np.linspace(0,1,nexafs.theta.size))\n",
    "    for i, cos_sq_theta in enumerate(nexafs_ep.cos_sq_theta): \n",
    "        nexafs_ep.electron_yield.sel(cos_sq_theta=cos_sq_theta).plot(color = colors[i], lw = 2, label = f'extrapolated {nexafs_ep.theta[i].values}°')\n",
    "    for i, cos_sq_theta in enumerate(nexafs.cos_sq_theta): \n",
    "        nexafs.sel(cos_sq_theta=cos_sq_theta).plot(color = colors2[i], lw = 1, label = f'original {nexafs.theta[i].values}°')\n",
    "    # plt.title(nexafs.description)\n",
    "    ax1.set_xlim(280,340)\n",
    "    ax1.legend(loc='lower right')\n",
    "    # plt.savefig(exportPath.joinpath(f'{nexafs_ep.name}_nexafs_theta_extrap.svg'))\n",
    "    plt.show()\n",
    "    plt.close('all')"
   ]
  },
  {
   "cell_type": "code",
   "execution_count": null,
   "id": "15",
   "metadata": {},
   "outputs": [],
   "source": [
    "# nexafs = nf_DA_rows[0].copy().swap_dims({'theta':'cos_sq_theta'}).squeeze()"
   ]
  },
  {
   "cell_type": "markdown",
   "id": "16",
   "metadata": {},
   "source": [
    "This dielectric function, pretty though it is, still isn't sufficient even to describe the unaxial function of the measured NEXAFS. That is because the extraordinary part of the dielectric function could only be measured by the NEXAFS measurement at $\\theta=0$°. There is no experimental geometry that allows $\\theta=0$°, so it must be extrapolated.\n",
    "\n",
    "Intensity should be linear with $cos^2\\theta$, so we will fit the nexafs xarray to it. The below xr.polyfit function creates a linear fit function <em>at every energy</em> in the nexafs curve."
   ]
  },
  {
   "cell_type": "code",
   "execution_count": null,
   "id": "17",
   "metadata": {
    "tags": []
   },
   "outputs": [],
   "source": [
    "# nexafs_fit = nexafs.polyfit('cos_sq_theta', 1)\n",
    "# new_theta = np.array([0, 20, 30, 55, 70, 90])\n",
    "# new_cos_sq_theta = (np.cos(new_theta*np.pi/180))**2\n",
    "# nexafs_ep = nf.evaluate_nexafs_fit(nexafs, nexafs_fit, new_cos_sq_theta, new_theta)"
   ]
  },
  {
   "cell_type": "markdown",
   "id": "18",
   "metadata": {},
   "source": [
    "Now that we have a fit at every energy, we'd like to evaluate it. The current xarray implementation of xr.polyval is 'clunky,' to put it mildly.<br>\n",
    "This function wraps the polyval evaluation and returns a clean nexafs dataset with appropriate metadata. This may be updated or replaced for future versions of xarray.<br>\n",
    "<ul>nexafs is the original nexafs dataset<br>\n",
    "nexafs_fit is returned from the polyfit as above<br>\n",
    "new_cos_sq_theta is an array-like argument of cos_sq_theta values where you want the fit to be evaluated<br>\n",
    "new_theta is an array-like argument of theta values to assign to those results<br></ul>"
   ]
  },
  {
   "cell_type": "code",
   "execution_count": null,
   "id": "19",
   "metadata": {
    "tags": []
   },
   "outputs": [],
   "source": [
    "# fig, ax1 = plt.subplots(figsize=(8,4))\n",
    "# #the xarray way of plotting\n",
    "# colors = plt.cm.plasma(np.linspace(0,1,nexafs_ep.theta.size))\n",
    "# colors2 = plt.cm.winter(np.linspace(0,1,nexafs.theta.size))\n",
    "# for i, cos_sq_theta in enumerate(nexafs_ep.cos_sq_theta): \n",
    "#     nexafs_ep.electron_yield.sel(cos_sq_theta=cos_sq_theta).plot(color = colors[i], lw = 2, label = f'extrapolated {nexafs_ep.theta[i].values}°')\n",
    "# for i, cos_sq_theta in enumerate(nexafs.cos_sq_theta): \n",
    "#     nexafs.sel(cos_sq_theta=cos_sq_theta).plot(color = colors2[i], lw = 1, label = f'original {nexafs.theta[i].values}°')\n",
    "# # plt.title(nexafs.description)\n",
    "# ax1.set_xlim(280,315)\n",
    "# ax1.legend(loc='lower right')\n",
    "# # plt.savefig(exportPath.joinpath(f'{nexafs_ep.name}_nexafs_theta_extrap.svg'))\n",
    "# plt.show()"
   ]
  },
  {
   "cell_type": "markdown",
   "id": "20",
   "metadata": {},
   "source": [
    "Note that the extrapolated 90° is very close by the original 90° (this is good. it should be identical), and the extrapolated 0° has a somewhat higher pi* than the original 20°\n",
    "\n",
    "The extrapolated NEXAFS can be the basis of a uniaxial dielectric function that represents material at the voxel level that is oriented the same as the material in the film.\n",
    "\n",
    "Note that extrapolation in this manner is mathematically identical to applying a weighted difference spectrum to calculate the expectation at theta=0°. In fact it is superior because difference spectra are typically between two different theta, whereas this linear extrapolation uses all the theta information. We will exploit this sameness more later when extrapolating to the molecular frame. "
   ]
  },
  {
   "cell_type": "markdown",
   "id": "21",
   "metadata": {
    "tags": []
   },
   "source": [
    "## Extrapolating to a \"molecular\" dielectric function.\n",
    "But there is more we can do. The molecules at the voxel level may not be limited to the orientation extremes measured on a whole-film basis. The whole film represents an ensemble and is likely never similar to what an individual molecule or voxel is capable of unless it is sigle crystal like highly oriented pyrolytic graphite (HOPG). To develop a \"molecular\" dielectric function, we must manipulate the NEXAFS beyond what was measured. \n",
    "\n",
    "This manipulation requires making an assumption about how one or more resonances should behave with energy; implicit in this assumption is typically an assumption about the conformation of the molecule.\n",
    "\n",
    "For this exercise we will assume that the molecule Y6 has a rigid and planar conjugated structure, such that the pi* resonances should follow Stohr 9.16a for $\\alpha=0$°\n"
   ]
  },
  {
   "cell_type": "markdown",
   "id": "22",
   "metadata": {},
   "source": [
    "The function below develops a mean squared error for the area between e_min and e_max for a specific extrapolation of the nexafs curves, and a target area. The target area will be developed from our knowledge of how I should vary with $\\alpha$ and $\\theta$ described above.<br>\n",
    "Note there is an additional contributor to mse below: if the extrapolation produces negative values for absorbance it imposes a stiff penalty because such values are unphysical."
   ]
  },
  {
   "cell_type": "code",
   "execution_count": null,
   "id": "23",
   "metadata": {
    "tags": []
   },
   "outputs": [],
   "source": [
    "def mse(cos_sq_theta, e_min, e_max, nexafs, nexafs_fit, targ):\n",
    "    #compose new extrapolated nexafs based on proposed cos_sq_theta \n",
    "    nexafs_new = nf.evaluate_nexafs_fit(nexafs, nexafs_fit, [cos_sq_theta[0]], [0])\n",
    "    #evaluate the difference in area between the extrapolated nexafs and the taget targ\n",
    "    mse = (nf.int_area(e_min, e_max, nexafs_new.electron_yield)-targ)**2\n",
    "    minval = nexafs_new.sel(energy = slice(e_min,e_max)).electron_yield.min().values\n",
    "    if minval < 0: #impose penalty for negative absorbance values\n",
    "        mse = 1E10*mse*(-minval)\n",
    "    return mse"
   ]
  },
  {
   "cell_type": "code",
   "execution_count": null,
   "id": "24",
   "metadata": {
    "tags": []
   },
   "outputs": [],
   "source": [
    "cossqtheta_o_rows = []\n",
    "cossqtheta_e_rows = []\n",
    "magic_nf_rows = []\n",
    "\n",
    "for nf_DA in tqdm(nf_DA_rows): \n",
    "    sample_name = nf_DA.sample_name.values[0]\n",
    "    \n",
    "    nexafs = nf_DA.copy().swap_dims({'theta':'cos_sq_theta'}).squeeze()\n",
    "    nexafs_fit = nexafs.polyfit('cos_sq_theta', 1)\n",
    "    \n",
    "    e_min = 283.5  \n",
    "    # e_max = 285.3  # acceptor\n",
    "    e_max = 286 if 'PM6' in sample_name else 285.3\n",
    "    res_o = optimize.differential_evolution(mse, [(-1, 1)], args = (e_min, e_max, nexafs, nexafs_fit, 0), tol=1e-6)\n",
    "    cossqtheta_o = float(res_o.x)\n",
    "    cossqtheta_o_rows.append(cossqtheta_o)\n",
    "    \n",
    "    magic_nf = nf.evaluate_nexafs_fit(nexafs, nexafs_fit, [0.329], [55]).electron_yield\n",
    "    magic_nf_rows.append(magic_nf)\n",
    "    \n",
    "    magic_int = nf.int_area(e_min, e_max, magic_nf)\n",
    "    ord_int = nf.int_area(e_min, e_max, nf.evaluate_nexafs_fit(nexafs, nexafs_fit, [cos_sq_theta_mol_o], [0]).electron_yield)\n",
    "    e_targ = magic_int + 2*(magic_int-ord_int)\n",
    "\n",
    "    # For perfectly face on, the extraordinary intensity should be exactly 3x magic intensity\n",
    "    # This fit tends to be faster\n",
    "    res_e = optimize.minimize(mse, 1, method='Nelder-Mead', args = (e_min, e_max, nexafs, nexafs_fit, e_targ), tol=1e-6)\n",
    "    cossqtheta_e = float(res_e.x)    \n",
    "    cossqtheta_e_rows.append(cossqtheta_e)\n",
    "    "
   ]
  },
  {
   "cell_type": "code",
   "execution_count": null,
   "id": "25",
   "metadata": {},
   "outputs": [],
   "source": [
    "# nf_mol_DA_rows = []\n",
    "\n",
    "# for i, mol_fits in enumerate(zip(cossqtheta_o_rows, cossqtheta_e_rows)):\n",
    "#     mol_fits = list(mol_fits)\n",
    "    \n",
    "#     nf_DA = nf_DA_rows[i]\n",
    "#     magic_nf_DA = magic_nf_rows[i].swap_dims({'cos_sq_theta':'theta'})\n",
    "    \n",
    "#     sample_name = nf_DA.sample_name.values[0]\n",
    "#     nexafs = nf_DA.copy().swap_dims({'theta':'cos_sq_theta'}).squeeze()\n",
    "#     nexafs_fit = nexafs.polyfit('cos_sq_theta', 1)\n",
    "    \n",
    "#     nexafs_mol = nf.evaluate_nexafs_fit(nexafs, nexafs_fit, mol_fits, [90, 0])\n",
    "\n",
    "#     nf_mol_DA = nexafs_mol.electron_yield.swap_dims({'cos_sq_theta':'theta'}).rename('extrap_mol_nexafs')\n",
    "#     nf_mol_DA = xr.concat([nf_mol_DA, magic_nf_DA], dim='theta').sortby('theta')\n",
    "#     nf_mol_DA = nf_mol_DA.expand_dims({'sample_name': [sample_name]})\n",
    "#     nf_mol_DA_rows.append(nf_mol_DA)"
   ]
  },
  {
   "cell_type": "code",
   "execution_count": null,
   "id": "26",
   "metadata": {},
   "outputs": [],
   "source": [
    "# do this for a finely spaced values of theta...\n",
    "\n",
    "nf_mol_DA_rows = []\n",
    "\n",
    "for i, mol_fits in enumerate(zip(cossqtheta_o_rows, cossqtheta_e_rows)):\n",
    "    mol_fits = list(mol_fits)\n",
    "    \n",
    "    fine_mol_fits = np.linspace(mol_fits[0], mol_fits[1], 100)\n",
    "    fine_theta = np.linspace(90, 0, 100)\n",
    "    \n",
    "    nf_DA = nf_DA_rows[i]\n",
    "    magic_nf_DA = magic_nf_rows[i].swap_dims({'cos_sq_theta':'theta'})\n",
    "    \n",
    "    sample_name = nf_DA.sample_name.values[0]\n",
    "    nexafs = nf_DA.copy().swap_dims({'theta':'cos_sq_theta'}).squeeze()\n",
    "    nexafs_fit = nexafs.polyfit('cos_sq_theta', 1)\n",
    "    \n",
    "    nexafs_mol = nf.evaluate_nexafs_fit(nexafs, nexafs_fit, fine_mol_fits, fine_theta)\n",
    "\n",
    "    nf_mol_DA = nexafs_mol.electron_yield.swap_dims({'cos_sq_theta':'theta'}).rename('extrap_mol_nexafs')\n",
    "    # nf_mol_DA = xr.concat([nf_mol_DA, magic_nf_DA], dim='theta').sortby('theta')\n",
    "    nf_mol_DA = nf_mol_DA.expand_dims({'sample_name': [sample_name]})\n",
    "    nf_mol_DA_rows.append(nf_mol_DA)"
   ]
  },
  {
   "cell_type": "code",
   "execution_count": null,
   "id": "27",
   "metadata": {
    "jupyter": {
     "outputs_hidden": true
    },
    "tags": []
   },
   "outputs": [],
   "source": [
    "colors = plt.cm.plasma(np.linspace(0,0.95,len(nf_mol_DA_rows[0].theta)))\n",
    "                       \n",
    "for nf_mol_DA in nf_mol_DA_rows:\n",
    "    for i, theta_val in enumerate(nf_mol_DA.theta.values):\n",
    "        nf_mol_DA.sel(energy=slice(282,292), theta=theta_val).plot(color=colors[i])\n",
    "    plt.title(nf_mol_DA.sample_name.values[0])\n",
    "    plt.show()\n",
    "    plt.close('all')"
   ]
  },
  {
   "cell_type": "markdown",
   "id": "28",
   "metadata": {},
   "source": [
    "For our first fit, we will attempt to make the pi* manifold absorbance zero; this would correspond to $\\alpha=0, \\theta=90$° (Ordinary)"
   ]
  },
  {
   "cell_type": "code",
   "execution_count": null,
   "id": "29",
   "metadata": {
    "tags": []
   },
   "outputs": [],
   "source": [
    "# # These are integration bounds; we will extrapolate to \"perfect\" values of integrated intensity within these bounds\n",
    "# # which bound you choose will adjust the result slightly.\n",
    "\n",
    "# # This step may take a while to complete\n",
    "\n",
    "# e_min = 283.5  # acceptor\n",
    "# e_max = 285.3  # acceptor\n",
    "# res = optimize.differential_evolution(mse, [(-1, 1)], args = (e_min, e_max, nexafs, nexafs_fit, 0), tol=1e-6)\n",
    "# cos_sq_theta_mol_o = float(res.x)"
   ]
  },
  {
   "cell_type": "markdown",
   "id": "30",
   "metadata": {},
   "source": [
    "For the next fit, we will attempt to make the pi* manifold maximized to correspond to $\\alpha=0, \\theta=0$°. (Extraordinary) <br> For a perfectly oriented $\\alpha = 0$° molecule, the target would be exactly 3x the magic intensity. But our fit prefers some small amount of intensity so that absorbance doesn't go below zero. We will instead determine our target using the math above:<br><br>\n",
    "$\\displaystyle\\frac{I(90) - I(54.7)}{I(0) - I(54.7)} = \\frac{\\frac{1}{3}[1+(3cos^2\\alpha-1)]-\\frac{1}{3}}{\\frac{1}{3}[1-\\frac{1}{2}(3cos^2\\alpha-1)] - \\frac{1}{3}} =-2$\n"
   ]
  },
  {
   "cell_type": "code",
   "execution_count": null,
   "id": "31",
   "metadata": {
    "tags": []
   },
   "outputs": [],
   "source": [
    "# magic_int = nf.int_area(e_min, e_max, nf.evaluate_nexafs_fit(nexafs, nexafs_fit, [0.329], [0]).electron_yield)\n",
    "# ord_int = nf.int_area(e_min, e_max, nf.evaluate_nexafs_fit(nexafs, nexafs_fit, [cos_sq_theta_mol_o], [0]).electron_yield)\n",
    "# e_targ = magic_int + 2*(magic_int-ord_int)\n",
    "\n",
    "# # For perfectly face on, the extraordinary intensity should be exactly 3x magic intensity\n",
    "# # This fit tends to be faster\n",
    "# res = optimize.minimize(mse, 1, method='Nelder-Mead', args = (e_min, e_max, nexafs, nexafs_fit, e_targ), tol=1e-6)\n",
    "# cos_sq_theta_mol_e = float(res.x)"
   ]
  },
  {
   "cell_type": "code",
   "execution_count": null,
   "id": "32",
   "metadata": {
    "tags": []
   },
   "outputs": [],
   "source": [
    "# mol_fits = [cos_sq_theta_mol_e, cos_sq_theta_mol_o]\n",
    "# nexafs_mol = nf.evaluate_nexafs_fit(nexafs, nexafs_fit, mol_fits, [0, 90])\n",
    "\n",
    "# nf_mol_DA = nexafs_mol.electron_yield.swap_dims({'cos_sq_theta':'theta'})\n",
    "# nf_mol_DA = xr.concat([nf_mol_DA, DA.sel(theta=55)], dim='theta').sortby('theta')\n",
    "\n",
    "# nf_mol_DA.sel(energy=slice(282,292)).plot(hue='theta')\n",
    "# plt.show()"
   ]
  },
  {
   "cell_type": "markdown",
   "id": "33",
   "metadata": {
    "tags": []
   },
   "source": [
    "## Calculate optical constants "
   ]
  },
  {
   "cell_type": "code",
   "execution_count": null,
   "id": "34",
   "metadata": {},
   "outputs": [],
   "source": [
    "Y6_formula = 'C82H86F4N8O2S5'\n",
    "Y7_formula = 'C82H86Cl4N8O2S5'\n",
    "PM6_formula = 'C68H76F2O2S8'"
   ]
  },
  {
   "cell_type": "code",
   "execution_count": null,
   "id": "35",
   "metadata": {},
   "outputs": [],
   "source": [
    "# Older code for kkcalc transformation, seems to be a bit different than the newer numpy way. The deltas it generates seem to not being going as low as they should be\n",
    "\n",
    "# oc_DS = nf.run_kkcalc_a(nf_mol_DA, x_min = 270, x_max = 340, chemical_formula = Y6_formula, density = 1.1).swap_dims({'cos_sq_theta':'theta'})"
   ]
  },
  {
   "cell_type": "code",
   "execution_count": null,
   "id": "36",
   "metadata": {},
   "outputs": [],
   "source": [
    "density = 1.1\n",
    "\n",
    "oc_DS_rows = []\n",
    "\n",
    "for nf_mol_DA in tqdm(nf_mol_DA_rows):\n",
    "    sample_name = nf_mol_DA.sample_name.values[0]\n",
    "    \n",
    "    if 'Y6' in sample_name: \n",
    "        chemform = Y6_formula\n",
    "    elif 'Y7' in sample_name:\n",
    "        chemform = Y7_formula\n",
    "    elif 'PM6' in sample_name:\n",
    "        chemform = PM6_formula\n",
    "    else:\n",
    "        print(\"Error, no chemical formula set\")\n",
    "        break\n",
    "\n",
    "    delta_DA_rows = []\n",
    "    beta_DA_rows = []\n",
    "\n",
    "    for theta_val in nf_mol_DA.theta.values:\n",
    "        nf_DA = nf_mol_DA.squeeze().sel(theta=theta_val).compute()\n",
    "        spectra_e = nf_DA.energy.data\n",
    "        spectra_abs = nf_DA.data\n",
    "\n",
    "        delta, beta = calculate_deltabeta(spectra_e, spectra_abs, chemform, density)\n",
    "\n",
    "        delta_DA = nf_DA.copy().rename('delta')\n",
    "        delta_DA.data = delta[:,1]\n",
    "        delta_DA = delta_DA.expand_dims('theta')\n",
    "        delta_DA_rows.append(delta_DA)\n",
    "\n",
    "        beta_DA = nf_DA.copy().rename('beta')\n",
    "        beta_DA.data = beta[:,1]\n",
    "        beta_DA = beta_DA.expand_dims('theta')\n",
    "        beta_DA_rows.append(beta_DA)\n",
    "\n",
    "\n",
    "    samp_oc_DS = xr.concat(delta_DA_rows, dim='theta').to_dataset()\n",
    "    samp_oc_DS['beta'] = xr.concat(beta_DA_rows, dim='theta')\n",
    "    samp_oc_DS['vacuum_contrast'] = binary_contrast(samp_oc_DS)\n",
    "    oc_DS_rows.append(samp_oc_DS.expand_dims('sample_name'))\n",
    "    \n",
    "oc_DS = xr.concat(oc_DS_rows, dim='sample_name').sortby('sample_name').sortby('theta')\n",
    "oc_DS"
   ]
  },
  {
   "cell_type": "code",
   "execution_count": null,
   "id": "37",
   "metadata": {
    "tags": []
   },
   "outputs": [],
   "source": [
    "plt.cm.plasma"
   ]
  },
  {
   "cell_type": "code",
   "execution_count": null,
   "id": "38",
   "metadata": {},
   "outputs": [],
   "source": [
    "oc_DS = oc_DS.sortby('theta')"
   ]
  },
  {
   "cell_type": "code",
   "execution_count": null,
   "id": "39",
   "metadata": {},
   "outputs": [],
   "source": [
    "oc_DS['beta'].sel(sample_name='Y6_CF').sel(theta=90,method='nearest').plot()"
   ]
  },
  {
   "cell_type": "code",
   "execution_count": null,
   "id": "40",
   "metadata": {
    "jupyter": {
     "outputs_hidden": true
    },
    "tags": []
   },
   "outputs": [],
   "source": [
    "colors = plt.cm.plasma_r(np.linspace(0.05,1,len(oc_DS.theta)))\n",
    "# sample_name = str(oc_DS.sample_name.values)\n",
    "\n",
    "for sample_name in oc_DS.sample_name.values:\n",
    "    samp_oc_DS = oc_DS.sel(sample_name=sample_name)\n",
    "    \n",
    "    for data_var in ['delta', 'beta', 'vacuum_contrast']:\n",
    "        \n",
    "        yscale = 'log' if data_var == 'vacuum_contrast' else 'linear'\n",
    "        \n",
    "        for energy_slice in [slice(282,292)]:\n",
    "            fig, ax = plt.subplots(figsize=(5,3), dpi=120)\n",
    "            for i, theta_val in enumerate(oc_DS.theta.values):\n",
    "                samp_oc_DS[data_var].sel(theta=theta_val, energy=energy_slice).plot(ax=ax, color=colors[i])\n",
    "\n",
    "            samp_oc_DS[data_var].sel(theta=0, method='nearest').sel(energy=energy_slice).plot(ax=ax, color=colors[0], label='extraordinary')\n",
    "            samp_oc_DS[data_var].sel(theta=90, method='nearest').sel(energy=energy_slice).plot(ax=ax, color=colors[-1], label='ordinary')\n",
    "            samp_oc_DS[data_var].sel(theta=55, method='nearest').sel(energy=energy_slice).plot(ax=ax, color='paleturquoise', label='magic (comp.)')\n",
    "            ax.set(title=f'Face-on extrapolated {data_var}: {sample_name}', yscale=yscale)\n",
    "            ax.legend(title='Orientation', loc='lower right')\n",
    "            plt.show()\n",
    "            plt.close('all')"
   ]
  },
  {
   "cell_type": "markdown",
   "id": "41",
   "metadata": {
    "tags": []
   },
   "source": [
    "## Save optical constants dataset as zarr"
   ]
  },
  {
   "cell_type": "code",
   "execution_count": null,
   "id": "42",
   "metadata": {},
   "outputs": [],
   "source": [
    "oc_DS"
   ]
  },
  {
   "cell_type": "code",
   "execution_count": null,
   "id": "43",
   "metadata": {},
   "outputs": [],
   "source": [
    "zarrsPath"
   ]
  },
  {
   "cell_type": "code",
   "execution_count": null,
   "id": "44",
   "metadata": {},
   "outputs": [],
   "source": [
    "oc_DS.to_zarr(zarrsPath.joinpath(f'material_optical_constants.zarr'), mode='w')"
   ]
  },
  {
   "cell_type": "code",
   "execution_count": null,
   "id": "45",
   "metadata": {},
   "outputs": [],
   "source": [
    "# xr.open_zarr(zarrsPath.joinpath(f'material_optical_constants.zarr')).sel(sample_name='PM6_CBCN_rot')['vacuum_contrast'].plot(yscale='log', hue='theta')\n",
    "# plt.show()"
   ]
  },
  {
   "cell_type": "code",
   "execution_count": null,
   "id": "46",
   "metadata": {
    "tags": []
   },
   "outputs": [],
   "source": [
    "# density = 1.1\n",
    "# chemform = Y6_formula\n",
    "\n",
    "# delta_DA_rows = []\n",
    "# beta_DA_rows = []\n",
    "\n",
    "# for theta_val in tqdm(nf_mol_DA.theta.values):\n",
    "#     nf_DA = nf_mol_DA.squeeze().sel(theta=theta_val).compute()\n",
    "#     spectra_e = nf_DA.energy.data\n",
    "#     spectra_abs = nf_DA.data\n",
    "    \n",
    "#     delta, beta = calculate_deltabeta(spectra_e, spectra_abs, chemform, density)\n",
    "    \n",
    "#     delta_DA = nf_DA.copy().rename('delta')\n",
    "#     delta_DA.data = delta[:,1]\n",
    "#     delta_DA = delta_DA.expand_dims('theta')\n",
    "#     delta_DA_rows.append(delta_DA)\n",
    "\n",
    "#     beta_DA = nf_DA.copy().rename('beta')\n",
    "#     beta_DA.data = beta[:,1]\n",
    "#     beta_DA = beta_DA.expand_dims('theta')\n",
    "#     beta_DA_rows.append(beta_DA)\n",
    "\n",
    "    \n",
    "# oc_DS = xr.concat(delta_DA_rows, dim='theta').to_dataset()\n",
    "# oc_DS['beta'] = xr.concat(beta_DA_rows, dim='theta')\n",
    "# oc_DS['vacuum_contrast'] = binary_contrast(oc_DS)\n",
    "# oc_DS"
   ]
  },
  {
   "cell_type": "code",
   "execution_count": null,
   "id": "47",
   "metadata": {
    "tags": []
   },
   "outputs": [],
   "source": [
    "# colors = plt.cm.plasma_r(np.linspace(0.15,1,len(oc_DA.theta)))\n",
    "# sample_name = str(oc_DS.sample_name.values)\n",
    "\n",
    "# for data_var in ['delta', 'beta', 'vacuum_contrast']:\n",
    "#     yscale = 'log' if data_var == 'vacuum_contrast' else 'linear'\n",
    "\n",
    "#     for energy_slice in [slice(None,None), slice(282,292)]:\n",
    "#         fig, ax = plt.subplots(figsize=(5,3), dpi=120)\n",
    "#         for i, theta_val in enumerate(oc_DS.theta.values):\n",
    "#             oc_DS[data_var].sel(theta=theta_val, energy=energy_slice).plot(ax=ax, color=colors[i], label=theta_val)\n",
    "\n",
    "#         ax.set(title=f'Face-on extrapolated {data_var}: {sample_name}', yscale=yscale)\n",
    "#         ax.legend(title='Theta [°]', loc='lower right')\n",
    "#         plt.show()"
   ]
  },
  {
   "cell_type": "code",
   "execution_count": null,
   "id": "48",
   "metadata": {},
   "outputs": [],
   "source": [
    "# colors = plt.cm.plasma_r(np.linspace(0.15, 1, len(oc_DA.theta)))\n",
    "# sample_name = str(oc_DS.sample_name.values)\n",
    "\n",
    "# for data_var in ['delta', 'beta', 'vacuum_contrast']:\n",
    "#     yscale = 'log' if data_var == 'vacuum_contrast' else 'linear'\n",
    "\n",
    "#     for energy_slice in [slice(None, None), slice(282, 292)]:\n",
    "#         fig, ax = plt.subplots(figsize=(5, 3), dpi=120)\n",
    "#         for i, theta_val in enumerate(oc_DS.theta.values):\n",
    "#             oc_DS[data_var].sel(theta=theta_val, energy=energy_slice).plot(ax=ax, color=colors[i], label=theta_val)\n",
    "\n",
    "#         ax.set(title=f'Face-on extrapolated {data_var}: {sample_name}', yscale=yscale)\n",
    "#         ax.legend(title='Theta [°]', loc='lower right')\n",
    "#         plt.subplots_adjust(bottom=0.2, left=0.2)\n",
    "#         fig.savefig(f'{sample_name}_{data_var}_{energy_slice.start}-{energy_slice.stop}.png',dpi=120)\n",
    "#         plt.show()\n",
    "#         plt.close('all')\n"
   ]
  },
  {
   "cell_type": "code",
   "execution_count": null,
   "id": "49",
   "metadata": {},
   "outputs": [],
   "source": []
  }
 ],
 "metadata": {
  "kernelspec": {
   "display_name": "Python 3 (ipykernel)",
   "language": "python",
   "name": "python3"
  },
  "language_info": {
   "codemirror_mode": {
    "name": "ipython",
    "version": 3
   },
   "file_extension": ".py",
   "mimetype": "text/x-python",
   "name": "python",
   "nbconvert_exporter": "python",
   "pygments_lexer": "ipython3",
   "version": "3.9.15"
  }
 },
 "nbformat": 4,
 "nbformat_minor": 5
}
