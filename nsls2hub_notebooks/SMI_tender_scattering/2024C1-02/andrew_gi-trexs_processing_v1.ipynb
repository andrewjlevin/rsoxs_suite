{
 "cells": [
  {
   "cell_type": "markdown",
   "id": "0",
   "metadata": {},
   "source": [
    "# 2024C1-02 SMI WAXS TReXS processing notebook "
   ]
  },
  {
   "cell_type": "markdown",
   "id": "1",
   "metadata": {},
   "source": [
    "## Imports"
   ]
  },
  {
   "cell_type": "code",
   "execution_count": null,
   "id": "2",
   "metadata": {
    "tags": []
   },
   "outputs": [],
   "source": [
    "import pathlib\n",
    "import os\n",
    "import numpy as np\n",
    "import matplotlib.pyplot as plt\n",
    "import xarray as xr\n",
    "from PIL import Image\n",
    "from tqdm.auto import tqdm \n",
    "\n",
    "import fabio\n",
    "from smi_analysis import SMI_beamline"
   ]
  },
  {
   "cell_type": "markdown",
   "id": "3",
   "metadata": {
    "tags": []
   },
   "source": [
    "## Define paths & functions"
   ]
  },
  {
   "cell_type": "raw",
   "id": "4",
   "metadata": {},
   "source": [
    "Raw text paths for the purpose of pasting into terminal to copy/move/zip data:\n",
    "\n",
    "Raw Paths:\n",
    "/nsls2/data/smi/legacy/results/data/2024_1/313064_Davis\n",
    "\n",
    "SMI Analysis Data Paths:\n",
    "/nsls2/data/smi/legacy/results/analysis/2024_1/313064_Davis\n",
    "\n",
    "Our proposal path:\n",
    "/nsls2/data/smi/proposals/2024-1/pass-313064\n",
    "\n",
    "Rclone copy statement to paste:\n",
    "rclone --dry-run copy -LP /nsls2/data/smi/legacy/results/data/2024_1/313064_Davis/900KW /nsls2/data/smi/proposals/2024-1/pass-313064/900KW"
   ]
  },
  {
   "cell_type": "code",
   "execution_count": null,
   "id": "5",
   "metadata": {
    "tags": []
   },
   "outputs": [],
   "source": [
    "# Define a sample id to sample name dictionary\n",
    "# sn = {\n",
    "#     14: 'PM6_CB',\n",
    "#     17: 'PM6_1CN-CB',\n",
    "#     18: 'PM6_5CN-CB',\n",
    "#     21: 'PM6_p5CN-CB',\n",
    "#     22: 'PM6-Y6_CB',\n",
    "#     23: 'PM6-Y6BO_CB',\n",
    "#     26: 'PM6_CF',\n",
    "#     29: 'PM6_1CN-CF',\n",
    "#     30: 'PM6_5CN-CF',\n",
    "#     33: 'PM6_p5CN-CF',\n",
    "#     34: 'PM6-Y6_CF',\n",
    "#     35: 'PM6-Y6BO_CF',\n",
    "#     1: 'BareSiN_01',\n",
    "#     3: 'BareSiN_03'\n",
    "# }"
   ]
  },
  {
   "cell_type": "code",
   "execution_count": null,
   "id": "6",
   "metadata": {
    "tags": []
   },
   "outputs": [],
   "source": [
    "# Define a sample id to sample name dictionary\n",
    "sample_ids = [1, 2, 3, 4, 5, 6, 7, 8, 9, 10, 11, 12, 13, 14, 15, 16]\n",
    "sample_names = ['PM6_10CN-CB_Si', 'PM6_10CN-CF_Si', 'PM6_CB_Si', 'PM6_CF_Si', 'PM6_p5CN-CB_Si', 'PM6_p5CN-CF_Si', \n",
    "                'PM6_p5CN-2CF-3CB_Si', 'PM6-Y6BO_CB_Si', 'PM6-Y6BO_p5CN-CB_Si', 'PM6-Y6_CB_Si', 'PM6-Y6_p5CN-CB_Si', \n",
    "                'Y6BO_CF_Si', 'Y6BO_p5CN-CF_Si', 'Y6_CF_Si', 'Y6_p5CN-CF_Si', 'PM6_5CN-CB_Si']\n",
    "\n",
    "sn = {}\n",
    "for k, v in zip(sample_ids, sample_names):\n",
    "    sn[k] = v\n",
    "\n",
    "sn"
   ]
  },
  {
   "cell_type": "code",
   "execution_count": null,
   "id": "7",
   "metadata": {
    "tags": []
   },
   "outputs": [],
   "source": [
    "propPath = pathlib.Path('/nsls2/data/smi/proposals/2024-1/pass-313064')\n",
    "\n",
    "rawPath = propPath.joinpath('900KW')\n",
    "\n",
    "# analysisPath = pathlib.Path('/nsls2/users/alevin/rsoxs_suite/sst1_notebooks/SMI_tender_scattering/analysis_02')\n",
    "# reducedPath = analysisPath.joinpath('reduced_waxs')"
   ]
  },
  {
   "cell_type": "code",
   "execution_count": null,
   "id": "8",
   "metadata": {
    "tags": []
   },
   "outputs": [],
   "source": [
    "rawPath.exists()"
   ]
  },
  {
   "cell_type": "markdown",
   "id": "9",
   "metadata": {
    "tags": []
   },
   "source": [
    "### SMI function"
   ]
  },
  {
   "cell_type": "code",
   "execution_count": null,
   "id": "10",
   "metadata": {
    "tags": []
   },
   "outputs": [],
   "source": [
    "def giwaxs_SMI_numpy_loading_wa0wa20wa40(path, filename_sublists):\n",
    "    \"\"\"\n",
    "    Function adapted from Guillames SMI notebooks to process raw giwaxs tiffs:\n",
    "    \n",
    "    Returns filename_wa0_list, recip_list, recip_extents, caked_list, caked_extents\n",
    "    \"\"\"\n",
    "    \n",
    "    # Geometries, esc.\n",
    "    geometry = 'Reflection'\n",
    "    ai = 0.80\n",
    "    # ai = 1.10\n",
    "    bs_kind = None\n",
    "    detector_waxs = 'Pilatus900kw'\n",
    "    sdd_waxs = 277\n",
    "    center_waxs = [95, 1256]\n",
    "    bs_pos_waxs = [[97, 1070], [0, 0], [0, 0]]\n",
    "  \n",
    "    filename_wa0_list = []\n",
    "    recip_list = []\n",
    "    recip_extents = []\n",
    "    caked_list = []\n",
    "    caked_extents = []\n",
    "    for dat in tqdm(filename_sublists, desc='Processing tiffs'):        \n",
    "        idx = dat[0].find('eV')\n",
    "        energy = 0.001*float(dat[0][idx-7:idx])\n",
    "        wav = 1E-10 * (12.398/energy)\n",
    "\n",
    "        waxs_angle = []\n",
    "        for da in dat:\n",
    "            idx2 = da.find('wa')\n",
    "            idx3 = da.find('_bpm')\n",
    "            waxs_angle = waxs_angle + [np.deg2rad(float(da[idx2+2:idx3]))]\n",
    "\n",
    "        alphai=np.deg2rad(ai)\n",
    "\n",
    "        #This part is to stitch the data\n",
    "        SMI_waxs = SMI_beamline.SMI_geometry(geometry = geometry,\n",
    "                                             detector = detector_waxs,\n",
    "                                             sdd = sdd_waxs,\n",
    "                                             wav = wav,\n",
    "                                             alphai = alphai,\n",
    "                                             center = center_waxs,\n",
    "                                             bs_pos = bs_pos_waxs,\n",
    "                                             det_angles = waxs_angle,\n",
    "                                             bs_kind = None)\n",
    "\n",
    "\n",
    "        SMI_waxs.open_data(path, dat)\n",
    "\n",
    "        SMI_waxs.stitching_data(interp_factor=3)\n",
    "\n",
    "        SMI_waxs.caking()\n",
    "\n",
    "        filename_wa0_list.append(dat[0])\n",
    "        recip_list.append(SMI_waxs.img_st)\n",
    "        recip_extents.append([SMI_waxs.qp[0], SMI_waxs.qp[-1], SMI_waxs.qz[0], SMI_waxs.qz[-1]])\n",
    "\n",
    "        caked_list.append(SMI_waxs.cake)\n",
    "        caked_extents.append([SMI_waxs.q_cake[0], SMI_waxs.q_cake[-1], SMI_waxs.chi_cake[0], SMI_waxs.chi_cake[-1]])\n",
    "\n",
    "    return filename_wa0_list, recip_list, recip_extents, caked_list, caked_extents"
   ]
  },
  {
   "cell_type": "code",
   "execution_count": null,
   "id": "11",
   "metadata": {
    "tags": []
   },
   "outputs": [],
   "source": [
    "def giwaxs_SMI_numpy_loading_wa0wa20(path, filename_sublists):\n",
    "    \"\"\"\n",
    "    Function adapted from Guillames SMI notebooks to process raw giwaxs tiffs:\n",
    "    \n",
    "    Returns filename_wa0_list, recip_list, recip_extents, caked_list, caked_extents\n",
    "    \"\"\"\n",
    "    \n",
    "    # Geometries, esc.\n",
    "    geometry = 'Reflection'\n",
    "    bs_kind = None\n",
    "    detector_waxs = 'Pilatus900kw'\n",
    "    sdd_waxs = 277\n",
    "    center_waxs = [95, 1256]\n",
    "    bs_pos_waxs = [[97, 1070], [0, 0], [0, 0]]\n",
    "  \n",
    "    filename_wa0_list = []\n",
    "    recip_list = []\n",
    "    recip_extents = []\n",
    "    caked_list = []\n",
    "    caked_extents = []\n",
    "    for dat in tqdm(filename_sublists, desc='Processing tiffs'):        \n",
    "        idx = dat[0].find('eV')\n",
    "        energy = 0.001*float(dat[0][idx-7:idx])\n",
    "        wav = 1E-10 * (12.398/energy)\n",
    "\n",
    "        waxs_angle = []\n",
    "        for da in dat:\n",
    "            idx2 = da.find('wa')\n",
    "            idx3 = da.find('_bpm')\n",
    "            waxs_angle = waxs_angle + [np.deg2rad(float(da[idx2+2:idx3]))]\n",
    "\n",
    "        alphai=np.deg2rad(0.8)\n",
    "\n",
    "        #This part is to stitch the data\n",
    "        SMI_waxs = SMI_beamline.SMI_geometry(geometry = geometry,\n",
    "                                             detector = detector_waxs,\n",
    "                                             sdd = sdd_waxs,\n",
    "                                             wav = wav,\n",
    "                                             alphai = alphai,\n",
    "                                             center = center_waxs,\n",
    "                                             bs_pos = bs_pos_waxs,\n",
    "                                             det_angles = waxs_angle,\n",
    "                                             bs_kind = None)\n",
    "\n",
    "\n",
    "        SMI_waxs.open_data(path, dat)\n",
    "\n",
    "        SMI_waxs.stitching_data(interp_factor=3)\n",
    "\n",
    "        SMI_waxs.caking()\n",
    "\n",
    "        filename_wa0_list.append(dat[0])\n",
    "        recip_list.append(SMI_waxs.img_st)\n",
    "        recip_extents.append([SMI_waxs.qp[0], SMI_waxs.qp[-1], SMI_waxs.qz[0], SMI_waxs.qz[-1]])\n",
    "\n",
    "        caked_list.append(SMI_waxs.cake)\n",
    "        caked_extents.append([SMI_waxs.q_cake[0], SMI_waxs.q_cake[-1], SMI_waxs.chi_cake[0], SMI_waxs.chi_cake[-1]])\n",
    "\n",
    "    return filename_wa0_list, recip_list, recip_extents, caked_list, caked_extents"
   ]
  },
  {
   "cell_type": "code",
   "execution_count": null,
   "id": "12",
   "metadata": {
    "tags": []
   },
   "outputs": [],
   "source": [
    "def giwaxs_SMI_numpy_loading_wa0(path, filename_list):\n",
    "    \"\"\"\n",
    "    Function adapted from Guillames SMI notebooks to process raw giwaxs tiffs:\n",
    "    \n",
    "    Returns filename_wa0_list, recip_list, recip_extents, caked_list, caked_extents\n",
    "    \"\"\"\n",
    "    \n",
    "    # Geometries, esc./\n",
    "    geometry = 'Reflection'\n",
    "    bs_kind = None\n",
    "    detector_waxs = 'Pilatus900kw'\n",
    "    sdd_waxs = 277\n",
    "    center_waxs = [95, 1256]\n",
    "    bs_pos_waxs = [[97, 1070], [0, 0], [0, 0]]\n",
    "  \n",
    "    filename_wa0_list = []\n",
    "    recip_list = []\n",
    "    recip_extents = []\n",
    "    caked_list = []\n",
    "    caked_extents = []\n",
    "    for da in tqdm(filename_list, desc='Processing tiffs'):        \n",
    "        idx = da.find('eV')\n",
    "        energy = 0.001*float(da[idx-7:idx])\n",
    "        wav = 1E-10 * (12.398/energy)\n",
    "\n",
    "        waxs_angle = []\n",
    "        idx2 = da.find('wa')\n",
    "        idx3 = da.find('_bpm')\n",
    "        waxs_angle = waxs_angle + [np.deg2rad(float(da[idx2+2:idx3]))]\n",
    "\n",
    "        alphai=np.deg2rad(0.8)\n",
    "\n",
    "        #This part is to stitch the data\n",
    "        SMI_waxs = SMI_beamline.SMI_geometry(geometry = geometry,\n",
    "                                             detector = detector_waxs,\n",
    "                                             sdd = sdd_waxs,\n",
    "                                             wav = wav,\n",
    "                                             alphai = alphai,\n",
    "                                             center = center_waxs,\n",
    "                                             bs_pos = bs_pos_waxs,\n",
    "                                             det_angles = waxs_angle,\n",
    "                                             bs_kind = None)\n",
    "\n",
    "\n",
    "        SMI_waxs.open_data(path, [da])\n",
    "\n",
    "        SMI_waxs.stitching_data(interp_factor=3)\n",
    "\n",
    "        SMI_waxs.caking()\n",
    "\n",
    "        filename_wa0_list.append(da)\n",
    "        recip_list.append(SMI_waxs.img_st)\n",
    "        recip_extents.append([SMI_waxs.qp[0], SMI_waxs.qp[-1], SMI_waxs.qz[0], SMI_waxs.qz[-1]])\n",
    "\n",
    "        caked_list.append(SMI_waxs.cake)\n",
    "        caked_extents.append([SMI_waxs.q_cake[0], SMI_waxs.q_cake[-1], SMI_waxs.chi_cake[0], SMI_waxs.chi_cake[-1]])\n",
    "\n",
    "    return filename_wa0_list, recip_list, recip_extents, caked_list, caked_extents"
   ]
  },
  {
   "cell_type": "markdown",
   "id": "13",
   "metadata": {
    "tags": []
   },
   "source": [
    "## Load data & save zarrs"
   ]
  },
  {
   "cell_type": "code",
   "execution_count": null,
   "id": "14",
   "metadata": {
    "tags": []
   },
   "outputs": [],
   "source": [
    "# first of Andrew's Si-# pos1 wa0 up to id598243 is only 1s exposure"
   ]
  },
  {
   "cell_type": "code",
   "execution_count": null,
   "id": "15",
   "metadata": {
    "tags": []
   },
   "outputs": [],
   "source": [
    "# [float(f.name.split('_')[7][2:])>598243 for f in sorted(rawPath.glob('CD_Si*.tif'))]"
   ]
  },
  {
   "cell_type": "code",
   "execution_count": null,
   "id": "16",
   "metadata": {
    "tags": []
   },
   "outputs": [],
   "source": [
    "[f.name for f in sorted(rawPath.glob('CD_Si*'))]"
   ]
  },
  {
   "cell_type": "code",
   "execution_count": null,
   "id": "17",
   "metadata": {
    "tags": []
   },
   "outputs": [],
   "source": [
    "all_giwaxs = set(rawPath.glob('CD_Si-16_*pos1*.tif'))\n",
    "# all_giwaxs = set(rawPath.glob('*50-tbapf6*pos1*.tif'))\n",
    "# all_giwaxs = set(rawPath.glob('*180-tbapf6*pos1*ai8.50*.tif'))\n",
    "# all_giwaxs = set(rawPath.glob('*180-blank-bd_*pos1*.tif'))\n",
    "# all_giwaxs = set(rawPath.glob('*180-blank-bd-at-real_*pos1*.tif'))\n",
    "# all_giwaxs = set(rawPath.glob('*180-tbapf6*pos1*.tif'))\n",
    "#redo_giwaxs = set(rawPath.glob('*50-teacl-redo*pos1*.tif'))\n",
    "# test_giwaxs = set(rawPath.glob('test*'))\n",
    "# calib_giwaxs = set(rawPath.glob('calib*'))\n",
    "wa40_giwaxs = set(rawPath.glob('*pos1*wa40*'))"
   ]
  },
  {
   "cell_type": "code",
   "execution_count": null,
   "id": "18",
   "metadata": {
    "tags": []
   },
   "outputs": [],
   "source": [
    "list(reversed([f.name for f in sorted(all_giwaxs, key=lambda x: get_id(x.name))]))"
   ]
  },
  {
   "cell_type": "code",
   "execution_count": null,
   "id": "19",
   "metadata": {
    "tags": []
   },
   "outputs": [],
   "source": [
    "def get_id(f):\n",
    "    return float(f[f.find('_id')+1:].split('_')[0][2:])"
   ]
  },
  {
   "cell_type": "code",
   "execution_count": null,
   "id": "20",
   "metadata": {
    "tags": []
   },
   "outputs": [],
   "source": [
    "# [f.name for f in sorted(all_giwaxs, key=lambda x: x.stem.split('_')[7])]\n",
    "# len([f.name for f in sorted(all_giwaxs) if float(f.stem.split('_')[7][2:])>598242])  # Si-1 first night good scans\n",
    "# len([f.name for f in sorted(all_giwaxs) if float(f.stem.split('_')[7][2:])>=601490])  # Si-1 second night good scans"
   ]
  },
  {
   "cell_type": "code",
   "execution_count": null,
   "id": "21",
   "metadata": {
    "tags": []
   },
   "outputs": [],
   "source": [
    "for sample_id in tqdm(list(sn.keys())[:]):\n",
    "    all_giwaxs = set(rawPath.glob(f'CD_Si-{sample_id}_*pos1*.tif'))\n",
    "    wa40_giwaxs = set(rawPath.glob('*pos1*wa40*'))\n",
    "    \n",
    "    all_paths = all_giwaxs.difference(wa40_giwaxs)\n",
    "    \n",
    "    # Let's select the damage test repeats now, or solutions:\n",
    "    # filename_list = [f.name for f in sorted(all_giwaxs)]\n",
    "    filename_list = list(reversed([f.name for f in sorted(all_paths, key=lambda x: get_id(x.name))]))\n",
    "\n",
    "    # We need to check that the number of energies for the 2 detector positions is consistent\n",
    "    wa0_filename_list = [fname for fname in filename_list if 'wa0' in fname]\n",
    "    wa0_filename_list = remove_duplicate_energies(wa0_filename_list)\n",
    "\n",
    "    wa20_filename_list = [fname for fname in filename_list if 'wa20' in fname]\n",
    "    wa20_filename_list = remove_duplicate_energies(wa20_filename_list)\n",
    "\n",
    "\n",
    "    filename_list =  sorted(wa0_filename_list + wa20_filename_list)\n",
    "    # print(len(filename_list))\n",
    "\n",
    "    # Make sublists to stitch two waxs positions together\n",
    "    group_size = 2\n",
    "    filename_sublists = [filename_list[i:i + group_size] for i in range(0, len(filename_list), group_size)]\n",
    "    # print(len(filename_sublists))\n",
    "    # display(filename_sublists[:10], filename_sublists[-10:])\n",
    "    # print('\\n')\n",
    "    \n",
    "    names_list, recip_list, recip_extents, caked_list, caked_extents = giwaxs_SMI_numpy_loading_wa0wa20(rawPath, filename_sublists)\n",
    "    \n",
    "    # Define naming scheme:\n",
    "    waxs_naming_scheme = ['project', 'sample_id', 'pos_energy_dir', 'energy', 'incident_angle', \n",
    "                          'detector_wa', 'bpm', 'id', 'misc', 'detector']\n",
    "    md_naming_scheme = waxs_naming_scheme.copy()\n",
    "\n",
    "\n",
    "    # Construct xarrays with full values along detector dimensions and the energy dimension\n",
    "    # They contain sample name and theta value as well, as single values to be concatenated in later steps\n",
    "    recip_DA_rows = []\n",
    "    caked_DA_rows = []\n",
    "    zipped_lists = zip(names_list, recip_list, recip_extents, caked_list, caked_extents)\n",
    "    for filename, recip_arr, recip_extent, caked_arr, caked_extent in zipped_lists:\n",
    "\n",
    "        attr_dict = {}\n",
    "        md_list = filename.split('_')\n",
    "        for i, md_item in enumerate(md_naming_scheme):\n",
    "            attr_dict[md_item] = md_list[i]\n",
    "\n",
    "        recip_DA = xr.DataArray(data = recip_arr, \n",
    "                                dims = ['pix_y', 'pix_x'],\n",
    "                                attrs = attr_dict)\n",
    "        recip_DA = recip_DA.assign_coords({\n",
    "            'pix_x': recip_DA.pix_x.data,\n",
    "            'pix_y': recip_DA.pix_y.data,\n",
    "            'q_x': ('pix_x', np.linspace(recip_extent[0], recip_extent[1], len(recip_DA.pix_x.data))),\n",
    "            'q_y': ('pix_y', np.linspace(recip_extent[3], recip_extent[2], len(recip_DA.pix_y.data)))\n",
    "        })\n",
    "        recip_DA = recip_DA.expand_dims({\n",
    "            'energy': [float(recip_DA.energy[:-2])],\n",
    "            'sample_id': [recip_DA.sample_id]\n",
    "        })\n",
    "        recip_DA_rows.append(recip_DA)\n",
    "\n",
    "        caked_DA = xr.DataArray(data = caked_arr, \n",
    "                                dims = ['index_y', 'index_x'],\n",
    "                                attrs = attr_dict)\n",
    "        caked_DA = caked_DA.assign_coords({\n",
    "            'index_x': caked_DA.index_x.data,\n",
    "            'index_y': caked_DA.index_y.data,\n",
    "            'q_r': ('index_x', np.linspace(caked_extent[0], caked_extent[1], len(caked_DA.index_x.data))),\n",
    "            'chi': ('index_y', np.linspace(caked_extent[3], caked_extent[2], len(caked_DA.index_y.data)))\n",
    "        }) \n",
    "        caked_DA = caked_DA.expand_dims({\n",
    "            'energy': [float(caked_DA.energy[:-2])],\n",
    "            'sample_id': [caked_DA.sample_id]\n",
    "        })\n",
    "        caked_DA_rows.append(caked_DA)\n",
    "\n",
    "    recip_DA = xr.concat(recip_DA_rows, 'energy').sortby('energy')\n",
    "    caked_DA = xr.concat(caked_DA_rows, 'energy').sortby('energy')\n",
    "    \n",
    "    # Quick plot check \n",
    "    cmap = plt.cm.turbo.copy()\n",
    "    sliced_DA = recip_DA.sel(energy=2470, method='nearest').squeeze()\n",
    "    cmin = sliced_DA.quantile(0.01)\n",
    "    cmax = sliced_DA.quantile(0.99)\n",
    "    ax = sliced_DA.plot.imshow(norm=plt.Normalize(cmin,cmax), cmap=cmap, x='q_x', y='q_y')\n",
    "    ax.axes.set(aspect='equal')\n",
    "    plt.show()\n",
    "    plt.close('all')\n",
    "    \n",
    "    # Save sample zarr, load later to concatenate full zarr\n",
    "    sampleZarrsPath = propPath.joinpath('processed_data/andrew/trgiwaxs_zarrs')\n",
    "\n",
    "    recip_samp_zarr_name = 'recip_'+recip_DA.sample_id.values[0]+'.zarr'\n",
    "    recip_DS = recip_DA.to_dataset(name='raw_intensity')\n",
    "    recip_DS.to_zarr(sampleZarrsPath.joinpath(recip_samp_zarr_name), mode='w')\n",
    "\n",
    "    caked_samp_zarr_name = 'caked_'+caked_DA.sample_id.values[0]+'.zarr'\n",
    "    caked_DS = caked_DA.to_dataset(name='raw_intensity')\n",
    "    caked_DS.to_zarr(sampleZarrsPath.joinpath(caked_samp_zarr_name), mode='w')"
   ]
  },
  {
   "cell_type": "code",
   "execution_count": null,
   "id": "22",
   "metadata": {
    "tags": []
   },
   "outputs": [],
   "source": [
    "# # filename_list = [f.name for f in sorted(all_giwaxs) if float(f.name.split('_')[7][2:])>598243]\n",
    "# # filename_list = [f.name for f in sorted(all_giwaxs)]\n",
    "# # filename_list = [f.name for f in sorted(all_giwaxs) if float(f.stem.split('_')[7][2:])>598242]\n",
    "# filename_list = [f.name for f in sorted(all_giwaxs) if float(f.stem.split('_')[7][2:])>=601490]\n",
    "\n",
    "# # Make sublists (of sample filenames) IF YOU HAVE wa0 AND wa20\n",
    "# group_size = 2\n",
    "# filename_sublists = [filename_list[i:i + group_size] for i in range(0, len(filename_list), group_size)]"
   ]
  },
  {
   "cell_type": "code",
   "execution_count": null,
   "id": "23",
   "metadata": {
    "tags": []
   },
   "outputs": [],
   "source": [
    "# filename_sublists"
   ]
  },
  {
   "cell_type": "code",
   "execution_count": null,
   "id": "24",
   "metadata": {
    "tags": []
   },
   "outputs": [],
   "source": [
    "def remove_duplicate_energies(filename_list):\n",
    "    file_energies = []\n",
    "    kept_files = []\n",
    "\n",
    "    for filename in filename_list:\n",
    "        file_energy = filename[:filename.find('eV')].split('_')[-1]\n",
    "        if file_energy in file_energies:\n",
    "            pass\n",
    "        else:\n",
    "            file_energies.append(file_energy)\n",
    "            kept_files.append(filename)\n",
    "\n",
    "    return kept_files"
   ]
  },
  {
   "cell_type": "code",
   "execution_count": null,
   "id": "25",
   "metadata": {
    "tags": []
   },
   "outputs": [],
   "source": [
    "# Run SMI loading code (this produces some fabio and divide by zero errors)\n",
    "# names_list, recip_list, recip_extents, caked_list, caked_extents = giwaxs_SMI_numpy_loading_wa0wa20wa40(rawPath, filename_sublists)\n",
    "names_list, recip_list, recip_extents, caked_list, caked_extents = giwaxs_SMI_numpy_loading_wa0wa20(rawPath, filename_sublists)\n",
    "# names_list, recip_list, recip_extents, caked_list, caked_extents = giwaxs_SMI_numpy_loading_wa0(rawPath, filename_list[:])"
   ]
  },
  {
   "cell_type": "code",
   "execution_count": null,
   "id": "26",
   "metadata": {
    "tags": []
   },
   "outputs": [],
   "source": [
    "[f.name for f in all_paths][0]"
   ]
  },
  {
   "cell_type": "code",
   "execution_count": null,
   "id": "27",
   "metadata": {
    "tags": []
   },
   "outputs": [],
   "source": [
    "# Define naming scheme:\n",
    "# waxs_naming_scheme = ['project0', 'project', 'sample_info', 'detector_height_pos', 'energy', 'incident_angle', \n",
    "#                       'detector_wa', 'bpm', 'id', 'misc', 'detector']\n",
    "waxs_naming_scheme = ['project', 'sample_id', 'pos_energy_dir', 'energy', 'incident_angle', \n",
    "                      'detector_wa', 'bpm', 'id', 'misc', 'detector']\n",
    "md_naming_scheme = waxs_naming_scheme.copy()\n",
    "\n",
    "\n",
    "# Construct xarrays with full values along detector dimensions and the energy dimension\n",
    "# They contain sample name and theta value as well, as single values to be concatenated in later steps\n",
    "recip_DA_rows = []\n",
    "caked_DA_rows = []\n",
    "zipped_lists = zip(names_list, recip_list, recip_extents, caked_list, caked_extents)\n",
    "for filename, recip_arr, recip_extent, caked_arr, caked_extent in zipped_lists:\n",
    "\n",
    "    attr_dict = {}\n",
    "    md_list = filename.split('_')\n",
    "    for i, md_item in enumerate(md_naming_scheme):\n",
    "        attr_dict[md_item] = md_list[i]\n",
    "\n",
    "    recip_DA = xr.DataArray(data = recip_arr, \n",
    "                            dims = ['pix_y', 'pix_x'],\n",
    "                            attrs = attr_dict)\n",
    "    recip_DA = recip_DA.assign_coords({\n",
    "        'pix_x': recip_DA.pix_x.data,\n",
    "        'pix_y': recip_DA.pix_y.data,\n",
    "        'q_x': ('pix_x', np.linspace(recip_extent[0], recip_extent[1], len(recip_DA.pix_x.data))),\n",
    "        'q_y': ('pix_y', np.linspace(recip_extent[3], recip_extent[2], len(recip_DA.pix_y.data)))\n",
    "    })\n",
    "    recip_DA = recip_DA.expand_dims({\n",
    "        'energy': [float(recip_DA.energy[:-2])],\n",
    "        'sample_id': [recip_DA.sample_id]\n",
    "    })\n",
    "    recip_DA_rows.append(recip_DA)\n",
    "\n",
    "    caked_DA = xr.DataArray(data = caked_arr, \n",
    "                            dims = ['index_y', 'index_x'],\n",
    "                            attrs = attr_dict)\n",
    "    caked_DA = caked_DA.assign_coords({\n",
    "        'index_x': caked_DA.index_x.data,\n",
    "        'index_y': caked_DA.index_y.data,\n",
    "        'q_r': ('index_x', np.linspace(caked_extent[0], caked_extent[1], len(caked_DA.index_x.data))),\n",
    "        'chi': ('index_y', np.linspace(caked_extent[3], caked_extent[2], len(caked_DA.index_y.data)))\n",
    "    }) \n",
    "    caked_DA = caked_DA.expand_dims({\n",
    "        'energy': [float(caked_DA.energy[:-2])],\n",
    "        'sample_id': [caked_DA.sample_id]\n",
    "    })\n",
    "    caked_DA_rows.append(caked_DA)\n",
    "\n",
    "recip_DA = xr.concat(recip_DA_rows, 'energy').sortby('energy')\n",
    "caked_DA = xr.concat(caked_DA_rows, 'energy').sortby('energy')"
   ]
  },
  {
   "cell_type": "code",
   "execution_count": null,
   "id": "28",
   "metadata": {
    "tags": []
   },
   "outputs": [],
   "source": [
    "recip_DA"
   ]
  },
  {
   "cell_type": "code",
   "execution_count": null,
   "id": "29",
   "metadata": {
    "tags": []
   },
   "outputs": [],
   "source": [
    "cmap = plt.cm.turbo.copy()\n",
    "sliced_DA = recip_DA.sel(energy=2470, method='nearest').squeeze()\n",
    "cmin = sliced_DA.quantile(0.01)\n",
    "cmax = sliced_DA.quantile(0.99)\n",
    "ax = sliced_DA.plot.imshow(norm=plt.Normalize(cmin,cmax), cmap=cmap, x='q_x', y='q_y')\n",
    "ax.axes.set(aspect='equal')\n",
    "plt.show()\n",
    "plt.close('all')"
   ]
  },
  {
   "cell_type": "code",
   "execution_count": null,
   "id": "30",
   "metadata": {
    "tags": []
   },
   "outputs": [],
   "source": [
    "# cmap = plt.cm.turbo.copy()\n",
    "# sliced_DA = caked_DA.sel(energy=2450, method='nearest').squeeze()\n",
    "# cmin = sliced_DA.quantile(0.0001)\n",
    "# cmax = sliced_DA.quantile(0.99)\n",
    "# ax = sliced_DA.plot.imshow(norm=plt.Normalize(cmin,cmax), cmap=cmap, x='q_r', y='chi')\n",
    "# # ax.axes.set(aspect='equal')\n",
    "# plt.show()"
   ]
  },
  {
   "cell_type": "code",
   "execution_count": null,
   "id": "31",
   "metadata": {
    "tags": []
   },
   "outputs": [],
   "source": [
    "# SULFUR\n",
    "\n",
    "# Save sample zarr, load later to concatenate full zarr\n",
    "sampleZarrsPath = propPath.joinpath('processed_data/andrew/trgiwaxs_zarrs')\n",
    "\n",
    "recip_samp_zarr_name = 'recip_'+recip_DA.sample_id.values[0]+'.zarr'\n",
    "recip_DS = recip_DA.to_dataset(name='raw_intensity')\n",
    "recip_DS.to_zarr(sampleZarrsPath.joinpath(recip_samp_zarr_name), mode='w')\n",
    "\n",
    "caked_samp_zarr_name = 'caked_'+caked_DA.sample_id.values[0]+'.zarr'\n",
    "caked_DS = caked_DA.to_dataset(name='raw_intensity')\n",
    "caked_DS.to_zarr(sampleZarrsPath.joinpath(caked_samp_zarr_name), mode='w')"
   ]
  },
  {
   "cell_type": "code",
   "execution_count": null,
   "id": "32",
   "metadata": {
    "tags": []
   },
   "outputs": [],
   "source": [
    "# # CHLORINE\n",
    "\n",
    "# # Save sample zarr, load later to concatenate full zarr\n",
    "# sampleZarrsPath = propPath.joinpath('processed_data/casey/zarrs')\n",
    "\n",
    "# recip_samp_zarr_name = 'recip_Cl-'+recip_DA.sample_info.values[0]+'.zarr'\n",
    "# recip_DS = recip_DA.to_dataset(name='raw_intensity')\n",
    "# recip_DS.to_zarr(sampleZarrsPath.joinpath(recip_samp_zarr_name), mode='w')\n",
    "\n",
    "# caked_samp_zarr_name = 'caked_Cl-'+caked_DA.sample_info.values[0]+'.zarr'\n",
    "# caked_DS = caked_DA.to_dataset(name='raw_intensity')\n",
    "# caked_DS.to_zarr(sampleZarrsPath.joinpath(caked_samp_zarr_name), mode='w')"
   ]
  },
  {
   "cell_type": "code",
   "execution_count": null,
   "id": "33",
   "metadata": {
    "tags": []
   },
   "outputs": [],
   "source": [
    "# # PHOSPHORUS\n",
    "\n",
    "# # Save sample zarr, load later to concatenate full zarr\n",
    "# sampleZarrsPath = propPath.joinpath('processed_data/casey/zarrs')\n",
    "\n",
    "# recip_samp_zarr_name = 'recip_P-'+recip_DA.sample_info.values[0]+'.zarr'\n",
    "# recip_DS = recip_DA.to_dataset(name='raw_intensity')\n",
    "# recip_DS.to_zarr(sampleZarrsPath.joinpath(recip_samp_zarr_name), mode='w')\n",
    "\n",
    "# caked_samp_zarr_name = 'caked_P-'+caked_DA.sample_info.values[0]+'.zarr'\n",
    "# caked_DS = caked_DA.to_dataset(name='raw_intensity')\n",
    "# caked_DS.to_zarr(sampleZarrsPath.joinpath(caked_samp_zarr_name), mode='w')"
   ]
  },
  {
   "cell_type": "code",
   "execution_count": null,
   "id": "34",
   "metadata": {
    "tags": []
   },
   "outputs": [],
   "source": [
    "# # PHOSPHORUS ai 8.5\n",
    "\n",
    "# # Save sample zarr, load later to concatenate full zarr\n",
    "# sampleZarrsPath = propPath.joinpath('processed_data/casey/zarrs')\n",
    "\n",
    "# recip_samp_zarr_name = 'recip_P-ai8.5-'+recip_DA.sample_info.values[0]+'.zarr'\n",
    "# recip_DS = recip_DA.to_dataset(name='raw_intensity')\n",
    "# recip_DS.to_zarr(sampleZarrsPath.joinpath(recip_samp_zarr_name), mode='w')\n",
    "\n",
    "# caked_samp_zarr_name = 'caked_P-ai8.5-'+caked_DA.sample_info.values[0]+'.zarr'\n",
    "# caked_DS = caked_DA.to_dataset(name='raw_intensity')\n",
    "# caked_DS.to_zarr(sampleZarrsPath.joinpath(caked_samp_zarr_name), mode='w')"
   ]
  },
  {
   "cell_type": "code",
   "execution_count": null,
   "id": "35",
   "metadata": {},
   "outputs": [],
   "source": []
  }
 ],
 "metadata": {
  "kernelspec": {
   "display_name": "Python 3 (ipykernel)",
   "language": "python",
   "name": "python3"
  },
  "language_info": {
   "codemirror_mode": {
    "name": "ipython",
    "version": 3
   },
   "file_extension": ".py",
   "mimetype": "text/x-python",
   "name": "python",
   "nbconvert_exporter": "python",
   "pygments_lexer": "ipython3",
   "version": "3.11.6"
  }
 },
 "nbformat": 4,
 "nbformat_minor": 5
}
