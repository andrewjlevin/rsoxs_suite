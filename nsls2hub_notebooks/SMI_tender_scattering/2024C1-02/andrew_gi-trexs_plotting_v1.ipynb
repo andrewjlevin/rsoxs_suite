{
 "cells": [
  {
   "cell_type": "markdown",
   "id": "0",
   "metadata": {},
   "source": [
    "# 2024C1-01 SMI WAXS TReXS core films plotting notebook"
   ]
  },
  {
   "cell_type": "code",
   "execution_count": null,
   "id": "1",
   "metadata": {
    "tags": []
   },
   "outputs": [],
   "source": [
    "# !pip install -e /nsls2/users/alevin/repos/PyHyperScattering  # to use pip to install via directory"
   ]
  },
  {
   "cell_type": "markdown",
   "id": "2",
   "metadata": {},
   "source": [
    "## Imports"
   ]
  },
  {
   "cell_type": "code",
   "execution_count": null,
   "id": "3",
   "metadata": {
    "tags": []
   },
   "outputs": [],
   "source": [
    "# import PyHyperScattering as phs\n",
    "import pathlib\n",
    "import numpy as np\n",
    "import matplotlib.pyplot as plt\n",
    "import xarray as xr\n",
    "from tqdm.auto import tqdm \n",
    "import subprocess\n",
    "import io\n",
    "# print(phs.__version__)"
   ]
  },
  {
   "cell_type": "code",
   "execution_count": null,
   "id": "4",
   "metadata": {
    "tags": []
   },
   "outputs": [],
   "source": [
    "from matplotlib.ticker import (MultipleLocator, AutoMinorLocator)"
   ]
  },
  {
   "cell_type": "markdown",
   "id": "5",
   "metadata": {
    "tags": []
   },
   "source": [
    "## Define paths"
   ]
  },
  {
   "cell_type": "code",
   "execution_count": null,
   "id": "6",
   "metadata": {
    "tags": []
   },
   "outputs": [],
   "source": [
    "# Define paths\n",
    "propPath = pathlib.Path('/nsls2/data/smi/proposals/2024-1/pass-313064')\n",
    "procPath = propPath.joinpath('processed_data/andrew/')\n",
    "outPath = procPath.joinpath('gi-trexs_plots')\n",
    "sampleZarrsPath = procPath.joinpath('gi-trexs_zarrs')"
   ]
  },
  {
   "cell_type": "code",
   "execution_count": null,
   "id": "7",
   "metadata": {
    "tags": []
   },
   "outputs": [],
   "source": [
    "# Define a sample id to sample name dictionary\n",
    "sample_ids = ['Si-1', 'Si-2', 'Si-3', 'Si-4', 'Si-5', 'Si-6', 'Si-7', 'Si-8', 'Si-9', 'Si-10', \n",
    "              'Si-11', 'Si-12', 'Si-13', 'Si-14', 'Si-15', 'Si-16']\n",
    "sample_names = ['PM6_10CN-CB_Si', 'PM6_10CN-CF_Si', 'PM6_CB_Si', 'PM6_CF_Si', 'PM6_p5CN-CB_Si', 'PM6_p5CN-CF_Si', \n",
    "                'PM6_p5CN-2CF-3CB_Si', 'PM6-Y6BO_CB_Si', 'PM6-Y6BO_p5CN-CB_Si', 'PM6-Y6_CB_Si', 'PM6-Y6_p5CN-CB_Si', \n",
    "                'Y6BO_CF_Si', 'Y6BO_p5CN-CF_Si', 'Y6_CF_Si', 'Y6_p5CN-CF_Si', 'PM6_5CN-CB_Si']\n",
    "\n",
    "sn = {}\n",
    "for k, v in zip(sample_ids, sample_names):\n",
    "    sn[k] = v\n",
    "\n",
    "sn"
   ]
  },
  {
   "cell_type": "markdown",
   "id": "8",
   "metadata": {},
   "source": [
    "### Rclone copy statement"
   ]
  },
  {
   "cell_type": "raw",
   "id": "9",
   "metadata": {},
   "source": [
    "rclone --dry-run copy -P /nsls2/data/smi/proposals/2024-1/pass-313064/processed_data/andrew/gi-trexs_plots remote:research/data_analysis/rsoxs_suite/gi-trexs_plots/2024C1-02 --exclude '*checkpoint*'"
   ]
  },
  {
   "cell_type": "raw",
   "id": "10",
   "metadata": {},
   "source": [
    "rclone --dry-run copy -P /nsls2/data/smi/proposals/2024-1/pass-314903/processed_data/trexs_plots remote:research/data_analysis/rsoxs_suite/trexs_plots --exclude '*checkpoint*'"
   ]
  },
  {
   "cell_type": "markdown",
   "id": "11",
   "metadata": {},
   "source": [
    "### Load whole dataset from zarr(s)"
   ]
  },
  {
   "cell_type": "code",
   "execution_count": null,
   "id": "12",
   "metadata": {
    "tags": []
   },
   "outputs": [],
   "source": [
    "# sorted([f.name for f in sampleZarrsPath.glob('*')])"
   ]
  },
  {
   "cell_type": "code",
   "execution_count": null,
   "id": "13",
   "metadata": {
    "tags": []
   },
   "outputs": [],
   "source": [
    "# Recip:\n",
    "recip_DS_rows = []\n",
    "\n",
    "recip_zarr_paths = sorted(sampleZarrsPath.glob('recip*'))\n",
    "for zarr_path in tqdm(recip_zarr_paths):\n",
    "    recip_DS = xr.open_zarr(zarr_path)\n",
    "    recip_DS_rows.append(recip_DS)\n",
    "    \n",
    "recip_DS = xr.concat(recip_DS_rows, 'sample_id')\n",
    "recip_DS = recip_DS.chunk({'sample_id':1, 'pix_y': 1576, 'pix_x': 1671, 'energy':1})\n",
    "recip_DS = recip_DS.assign_coords({'sample_name': ('sample_id', [sn[sample_id] for sample_id in recip_DS.sample_id.values])})\n",
    "recip_DS = recip_DS.swap_dims({'sample_id':'sample_name'})\n",
    "sel_DA = recip_DS.sel(sample_name='Y6BO_p5CN-CF_Si')['raw_intensity']\n",
    "\n",
    "display(recip_DS)\n",
    "display(sel_DA)"
   ]
  },
  {
   "cell_type": "code",
   "execution_count": null,
   "id": "14",
   "metadata": {
    "tags": []
   },
   "outputs": [],
   "source": [
    "# Caked:\n",
    "caked_DS_rows = []\n",
    "\n",
    "# Load list of datasets from list of files\n",
    "caked_zarr_paths = sorted(sampleZarrsPath.glob('caked*'))\n",
    "for zarr_path in tqdm(caked_zarr_paths):\n",
    "    caked_DS = xr.open_zarr(zarr_path)\n",
    "    caked_DS_rows.append(caked_DS)\n",
    "\n",
    "\n",
    "caked_DS = xr.concat(caked_DS_rows, 'sample_id')  # Concatenate list into one dataset along 'sample_id' attribute\n",
    "caked_DS = caked_DS.chunk({'sample_id':1, 'index_y': 1576, 'index_x': 1671, 'energy':1})  # Set custom chunking for efficient data slicing\n",
    "# add custom unique sample_name attribute based, from a dictionary going from sample ID to sample name\n",
    "caked_DS = caked_DS.assign_coords(  \n",
    "    {'sample_name': ('sample_id', \n",
    "                     [sn[sample_id] for sample_id in caked_DS.sample_id.values])})\n",
    "caked_DS = caked_DS.swap_dims({'sample_id':'sample_name'})\n",
    "\n",
    "# Swap index coords with chi-q coords:\n",
    "caked_DS = caked_DS.swap_dims({'index_y':'chi'})\n",
    "q_r_coords = caked_DS.q_r.mean('energy')\n",
    "caked_DS = caked_DS.assign_coords({'q_r':('index_x', q_r_coords.data)}).swap_dims({'index_x':'q_r'})\n",
    "\n",
    "\n",
    "sel_DA = caked_DS.sel(sample_name='Y6BO_p5CN-CF_Si')['raw_intensity']\n",
    "\n",
    "display(caked_DS)\n",
    "display(sel_DA)"
   ]
  },
  {
   "cell_type": "markdown",
   "id": "15",
   "metadata": {},
   "source": [
    "### Export npy arrays for unit cell notebook "
   ]
  },
  {
   "cell_type": "code",
   "execution_count": null,
   "id": "16",
   "metadata": {
    "tags": []
   },
   "outputs": [],
   "source": [
    "# Exporting npy arrays for unit cell peaks overlays notebook\n",
    "\n",
    "# energies = [2445, 2476, 2476.5, 2477, 2477.5, 2478, 2550]\n",
    "# pix_x_slice = slice(150, 1700)  # ~ -0.22 to 0.65 Q\n",
    "# pix_y_slice = slice(200,1320)  # ~ -0.05 to 0.65 Q\n",
    "\n",
    "# recip_DS = recip_DS.sel(energy=energies, method='nearest').sel(pix_y=pix_y_slice, pix_x=pix_x_slice)\n",
    "# recip_DS = recip_DS.compute()\n",
    "# recip_DS\n",
    "\n",
    "# display(recip_DS['raw_intensity'].squeeze().data.shape)\n",
    "# display(recip_DS['raw_intensity'].squeeze().q_x.data.shape)\n",
    "# display(recip_DS['raw_intensity'].squeeze().q_y.data.shape)\n",
    "# display(recip_DS['raw_intensity'].squeeze().energy.data.shape)"
   ]
  },
  {
   "cell_type": "code",
   "execution_count": null,
   "id": "17",
   "metadata": {},
   "outputs": [],
   "source": [
    "# savePath = procPath.joinpath('recip_Y6BO_p5CNCF_Si_npys_v1')\n",
    "# savePath.mkdir(exist_ok=True)"
   ]
  },
  {
   "cell_type": "code",
   "execution_count": null,
   "id": "18",
   "metadata": {
    "tags": []
   },
   "outputs": [],
   "source": [
    "# np.save(savePath.joinpath('data_Y6BO_p5CNCF_Si.npy'), recip_DS['raw_intensity'].squeeze().data)\n",
    "# np.save(savePath.joinpath('qx_Y6BO_p5CNCF_Si.npy'), recip_DS['raw_intensity'].squeeze().q_x.data)\n",
    "# np.save(savePath.joinpath('qy_Y6BO_p5CNCF_Si.npy'), recip_DS['raw_intensity'].squeeze().q_y.data)\n",
    "# np.save(savePath.joinpath('energy_Y6BO_p5CNCF_Si.npy'), recip_DS['raw_intensity'].squeeze().energy.data)"
   ]
  },
  {
   "cell_type": "code",
   "execution_count": null,
   "id": "19",
   "metadata": {
    "tags": []
   },
   "outputs": [],
   "source": [
    "# plt.imshow(np.load(sampleZarrsPath.joinpath('data_Y6BO_p5CNCF_Si.npy'))[0,:,:], cmap=cmap, norm=plt.Normalize(cmin,cmax))\n",
    "# plt.show()"
   ]
  },
  {
   "cell_type": "markdown",
   "id": "20",
   "metadata": {
    "tags": []
   },
   "source": [
    "## Detector movies"
   ]
  },
  {
   "cell_type": "code",
   "execution_count": null,
   "id": "21",
   "metadata": {
    "tags": []
   },
   "outputs": [],
   "source": [
    "cmap = plt.cm.turbo.copy()\n",
    "cmap.set_bad(cmap.get_under())"
   ]
  },
  {
   "cell_type": "markdown",
   "id": "22",
   "metadata": {
    "tags": []
   },
   "source": [
    "### recip"
   ]
  },
  {
   "cell_type": "code",
   "execution_count": null,
   "id": "23",
   "metadata": {
    "tags": []
   },
   "outputs": [],
   "source": [
    "%matplotlib inline"
   ]
  },
  {
   "cell_type": "code",
   "execution_count": null,
   "id": "24",
   "metadata": {
    "tags": []
   },
   "outputs": [],
   "source": [
    "plt.close('all')"
   ]
  },
  {
   "cell_type": "code",
   "execution_count": null,
   "id": "25",
   "metadata": {
    "tags": []
   },
   "outputs": [],
   "source": [
    "recip_DS"
   ]
  },
  {
   "cell_type": "code",
   "execution_count": null,
   "id": "26",
   "metadata": {
    "jupyter": {
     "outputs_hidden": true
    },
    "tags": []
   },
   "outputs": [],
   "source": [
    "# Select Dataset\n",
    "# DS = recip_DS\n",
    "# DS = recip_nc_DS\n",
    "recip_DA = recip_DS['raw_intensity'].copy()\n",
    "\n",
    "\n",
    "# Select Plotting Parameters\n",
    "# energy = 2445\n",
    "# energies = [2445, 2476, 2476.5, 2477, 2577.5, 2478, 2550]\n",
    "energies = [2445, 2476, 2477]\n",
    "\n",
    "\n",
    "# pix_size = 500\n",
    "# pix_x_slice = slice(bcx-(pix_size/2), bcx+(pix_size/2))\n",
    "# pix_y_slice = slice(bcy-(pix_size/2), bcy+(pix_size/2))\n",
    "\n",
    "pix_x_slice = slice(150, 1700)  # ~ -0.22 to 0.65 Q\n",
    "pix_y_slice = slice(200, 1320)  # ~ -0.05 to 0.65 Q\n",
    "\n",
    "# pix_x_slice = slice(300, 700)  # ~ -0.22 to 0.65 Q\n",
    "# pix_y_slice = slice(800, 1320)  # ~ -0.05 to 0.65 Q\n",
    "\n",
    "\n",
    "# Select DataArray\n",
    "# sample_info = 'PM6-Y6_3000_dSiN'\n",
    "# for sample_info in tqdm(unique_sample_infos):\n",
    "for sample_name in tqdm(recip_DA.sample_name.values):\n",
    "    DA = recip_DA.sel(sample_name=sample_name)\n",
    "    \n",
    "    for energy in energies:\n",
    "        # for sample_name in tqdm(DS.sample_name.values):\n",
    "            # DA = DS.sel(sample_name=sample_name)['raw_intensity']\n",
    "        # DA = sel_DA.copy()\n",
    "\n",
    "        # Plot\n",
    "        sliced_DA = DA.sel(energy=energy,method='nearest')\n",
    "        sliced_DA = sliced_DA.sel(pix_y=pix_y_slice, pix_x=pix_x_slice)\n",
    "        cmin = float(sliced_DA.compute().quantile(0.01))\n",
    "        cmax = float(sliced_DA.compute().quantile(0.993))\n",
    "\n",
    "        ax = sliced_DA.plot.imshow(figsize=(5.5, 3.5), x='q_x', y='q_y', cmap=cmap, norm=plt.Normalize(cmin,cmax))\n",
    "        ax.figure.suptitle(f'Photon Energy = {np.round(energy, 1)} eV', fontsize=14)\n",
    "        ax.figure.set_tight_layout(True)\n",
    "        ax.axes.set(aspect='equal', title=f'{sample_name}', xlabel='q$_x$ [$Å^{-1}$]', ylabel='q$_y$ [$Å^{-1}$]')\n",
    "        ax.colorbar.set_label('Intensity [arb. units]', rotation=270, labelpad=12)\n",
    "        # ax.figure.savefig(outPath.joinpath('waxs_detector_movies_v1', f'{sample_info}_{theta}degth.png'), dpi=120)\n",
    "        plt.show()\n",
    "        plt.close('all')"
   ]
  },
  {
   "cell_type": "code",
   "execution_count": null,
   "id": "27",
   "metadata": {
    "tags": []
   },
   "outputs": [],
   "source": [
    "outPath"
   ]
  },
  {
   "cell_type": "code",
   "execution_count": null,
   "id": "28",
   "metadata": {
    "tags": []
   },
   "outputs": [],
   "source": [
    "# Select Dataset\n",
    "recip_DA = recip_DS['raw_intensity'].copy()\n",
    "\n",
    "# Select DataArray\n",
    "# for sample_info in tqdm(unique_sample_infos[11:12]):\n",
    "for sample_name in tqdm(recip_DA.sample_name.values):\n",
    "    DA = recip_DA.sel(sample_name=sample_name)\n",
    "    # DA = DS.squeeze()['raw_intensity']\n",
    "    cmin = float(DA.compute().quantile(0.001))\n",
    "    cmax = float(DA.compute().quantile(0.99))\n",
    "\n",
    "    output_path = outPath.joinpath('waxs_detector_movies_pos1_v1', f'{sample_name}.mp4')\n",
    "\n",
    "    # FFmpeg command. This is set up to accept data from the pipe and use it as input, with PNG format.\n",
    "    # It will then output an H.264 encoded MP4 video.\n",
    "    cmd = [\n",
    "        'ffmpeg',\n",
    "        '-y',  # Overwrite output file if it exists\n",
    "        '-f', 'image2pipe',\n",
    "        '-vcodec', 'png',\n",
    "        '-r', '15',  # Frame rate\n",
    "        '-i', '-',  # The input comes from a pipe\n",
    "        '-vcodec', 'libx264',\n",
    "        '-pix_fmt', 'yuv420p',\n",
    "        '-crf', '17',  # Set the quality (lower is better, 17 is often considered visually lossless)\n",
    "        str(output_path)\n",
    "    ]\n",
    "\n",
    "    # Start the subprocess\n",
    "    proc = subprocess.Popen(cmd, stdin=subprocess.PIPE, stdout=subprocess.PIPE, stderr=subprocess.PIPE)\n",
    "\n",
    "    # Loop through the energy dimension and send frames to FFmpeg\n",
    "    for energy in tqdm(DA.energy.values, desc=f'Making the {sample_name} movie'):\n",
    "        # Make & customize plot\n",
    "        sliced_DA = DA.sel(energy=energy, method='nearest')\n",
    "\n",
    "        ax = sliced_DA.plot.imshow(figsize=(5.5,4.5), x='q_x', y='q_y', cmap=cmap, norm=plt.Normalize(cmin,cmax))\n",
    "        ax.figure.suptitle(f'Photon Energy = {np.round(energy, 1)} eV', fontsize=14, y=0.97)\n",
    "        ax.figure.set_tight_layout(True)   \n",
    "        ax.axes.set(aspect='equal', title=f'{sample_name}', xlabel='q$_x$ [$Å^{-1}$]', ylabel='q$_y$ [$Å^{-1}$]')\n",
    "        ax.colorbar.set_label('Intensity [arb. units]', rotation=270, labelpad=12)\n",
    "\n",
    "        # Save figure to a PNG buffer\n",
    "        # ax.figure.savefig(plotsPath.joinpath('detector_movies/frames', f'energy-{round(energy)}_frame-{i:03d}.png'), dpi=120)\n",
    "\n",
    "        buf = io.BytesIO()\n",
    "        ax.figure.savefig(buf, format='png')\n",
    "        buf.seek(0)\n",
    "\n",
    "        # Write the PNG buffer data to the process\n",
    "        proc.stdin.write(buf.getvalue())\n",
    "        plt.close('all')\n",
    "\n",
    "    # Finish the subprocess\n",
    "    out, err = proc.communicate()\n",
    "    if proc.returncode != 0:\n",
    "        print(f\"Error: {err}\")\n"
   ]
  },
  {
   "cell_type": "markdown",
   "id": "29",
   "metadata": {
    "jp-MarkdownHeadingCollapsed": true,
    "tags": []
   },
   "source": [
    "### caked"
   ]
  },
  {
   "cell_type": "code",
   "execution_count": null,
   "id": "30",
   "metadata": {
    "tags": []
   },
   "outputs": [],
   "source": [
    "# # Select Dataset\n",
    "# DS = caked_DS.copy()\n",
    "\n",
    "\n",
    "# # Select Plotting Parameters\n",
    "# energy = 2470\n",
    "# chi_slice = slice(-125,25)\n",
    "# # chi_slice = slice(-150,50)\n",
    "# # chi_slice = slice(None,None)\n",
    "\n",
    "# qr_slice = slice(None,0.7)\n",
    "# # qr_slice = slice(None,None)\n",
    "\n",
    "# # Select DataArray\n",
    "# # sample_info = 'PM6-Y6_3000_dSiN'\n",
    "# for sample_info in tqdm(unique_sample_infos):\n",
    "#     for theta in [90]:\n",
    "#         DA = DS.sel(sample_info=sample_info, theta=theta)['raw_intensity']\n",
    "\n",
    "\n",
    "#         # Plot\n",
    "#         sliced_DA = DA.sel(energy=energy,method='nearest').sel(chi=chi_slice, q_red=qr_slice)\n",
    "#         cmin = float(sliced_DA.compute().quantile(0.1))\n",
    "#         cmax = float(sliced_DA.compute().quantile(0.98))\n",
    "\n",
    "#         ax = sliced_DA.plot.imshow(figsize=(5.5,4.5), x='q_r', y='chi', cmap=cmap, norm=plt.Normalize(cmin,cmax))\n",
    "#         ax.figure.suptitle(f'Photon Energy = {np.round(energy, 1)} eV', fontsize=14, y=0.96)\n",
    "#         ax.figure.set_tight_layout(True)\n",
    "#         ax.axes.set(title=f'{sample_info}, $\\\\theta$ = {theta}°', xlabel='q$_r$ [$Å^{-1}$]', ylabel='$\\\\chi$ [°]')\n",
    "#         ax.colorbar.set_label('Intensity [arb. units]', rotation=270, labelpad=12)\n",
    "#         # ax.figure.savefig(outPath.joinpath('waxs_detector_movies_v1', f'{sample_info}_{theta}degth.png'), dpi=120)\n",
    "#         plt.show()\n",
    "#         plt.close('all')"
   ]
  },
  {
   "cell_type": "code",
   "execution_count": null,
   "id": "31",
   "metadata": {
    "tags": []
   },
   "outputs": [],
   "source": [
    "# # Select Dataset\n",
    "# DS = caked_DS.copy()\n",
    "\n",
    "# # plotting parameters\n",
    "# chi_slice = slice(-150,50)\n",
    "# # chi_slice = slice(None,None)\n",
    "\n",
    "# qr_slice = slice(None,0.7)\n",
    "# # qr_slice = slice(None,None)\n",
    "\n",
    "# # Select DataArray\n",
    "# for sample_info in tqdm(unique_sample_infos):\n",
    "# # for sample_info in tqdm(['PM6_1CN-CB']):\n",
    "#     for theta in [90, 55, 35]:\n",
    "#         DA = DS.sel(sample_info=sample_info, theta=theta)['raw_intensity']\n",
    "#         cmin = float(DA.compute().quantile(0.15))\n",
    "#         cmax = float(DA.compute().quantile(0.995))\n",
    "\n",
    "#         output_path = outPath.joinpath('trexs_plots/caked_waxs_detector_movies_v1', f'{sample_info}_{theta}degth.mp4')\n",
    "\n",
    "#         # FFmpeg command. This is set up to accept data from the pipe and use it as input, with PNG format.\n",
    "#         # It will then output an H.264 encoded MP4 video.\n",
    "#         cmd = [\n",
    "#             'ffmpeg',\n",
    "#             '-y',  # Overwrite output file if it exists\n",
    "#             '-f', 'image2pipe',\n",
    "#             '-vcodec', 'png',\n",
    "#             '-r', '15',  # Frame rate\n",
    "#             '-i', '-',  # The input comes from a pipe\n",
    "#             '-vcodec', 'libx264',\n",
    "#             '-pix_fmt', 'yuv420p',\n",
    "#             '-crf', '17',  # Set the quality (lower is better, 17 is often considered visually lossless)\n",
    "#             str(output_path)\n",
    "#         ]\n",
    "\n",
    "#         # Start the subprocess\n",
    "#         proc = subprocess.Popen(cmd, stdin=subprocess.PIPE, stdout=subprocess.PIPE, stderr=subprocess.PIPE)\n",
    "\n",
    "#         # Loop through the energy dimension and send frames to FFmpeg\n",
    "#         for i, energy in enumerate(tqdm(DA.energy.values, desc=f'Making the {sample_info} {theta}° movie')):\n",
    "#             # Make & customize plot\n",
    "#             sliced_DA = DA.sel(energy=energy,method='nearest').swap_dims(\n",
    "#                 {'index_y':'chi','index_x':'q_r'}).sel(chi=chi_slice, q_r=qr_slice)\n",
    "            \n",
    "#             ax = sliced_DA.plot.imshow(figsize=(5.5,4.5), cmap=cmap, norm=plt.Normalize(cmin,cmax))\n",
    "#             ax.figure.suptitle(f'Photon Energy = {np.round(energy, 1)} eV', fontsize=14, y=0.96)\n",
    "#             ax.figure.set_tight_layout(True)   \n",
    "#             ax.axes.set(title=f'{sample_info}, $\\\\theta$ = {theta}°', xlabel='q$_r$ [$Å^{-1}$]', ylabel='$\\\\chi$ [°]')\n",
    "#             ax.colorbar.set_label('Intensity [arb. units]', rotation=270, labelpad=12)\n",
    "\n",
    "#             # Save figure if first frame:\n",
    "#             if i==0:\n",
    "#                 ax.figure.savefig(outPath.joinpath('trexs_plots/caked_waxs_detector_movies_v1', f'{sample_info}_{theta}degth.png'), dpi=120)\n",
    "\n",
    "#             buf = io.BytesIO()\n",
    "#             ax.figure.savefig(buf, format='png')\n",
    "#             buf.seek(0)\n",
    "\n",
    "#             # Write the PNG buffer data to the process\n",
    "#             proc.stdin.write(buf.getvalue())\n",
    "#             plt.close('all')\n",
    "\n",
    "#         # Finish the subprocess\n",
    "#         out, err = proc.communicate()\n",
    "#         if proc.returncode != 0:\n",
    "#             print(f\"Error: {err}\")\n"
   ]
  },
  {
   "cell_type": "markdown",
   "id": "32",
   "metadata": {
    "tags": []
   },
   "source": [
    "## Integrate selected areas vs energy"
   ]
  },
  {
   "cell_type": "code",
   "execution_count": null,
   "id": "33",
   "metadata": {
    "tags": []
   },
   "outputs": [],
   "source": [
    "%matplotlib widget"
   ]
  },
  {
   "cell_type": "code",
   "execution_count": null,
   "id": "34",
   "metadata": {
    "tags": []
   },
   "outputs": [],
   "source": [
    "caked_DS.sample_name.values"
   ]
  },
  {
   "cell_type": "code",
   "execution_count": null,
   "id": "35",
   "metadata": {
    "tags": []
   },
   "outputs": [],
   "source": [
    "cmax"
   ]
  },
  {
   "cell_type": "code",
   "execution_count": null,
   "id": "36",
   "metadata": {
    "tags": []
   },
   "outputs": [],
   "source": [
    "plt.close('all')\n",
    "\n",
    "energy=2446\n",
    "\n",
    "sel_DA = caked_DS.sel(sample_name='PM6_10CN-CB_Si')['raw_intensity'].copy()\n",
    "\n",
    "# for energy in energies:\n",
    "DA = sel_DA.copy()\n",
    "\n",
    "sliced_DA = DA.sel(energy=energy, method='nearest').sel(chi=slice(-20,20), q_r=slice(0.05,0.2)) \n",
    "# cmin = sliced_DA.sel(q_r=slice(0.1,0.13), chi=slice(10,20)).compute().quantile(0.01)\n",
    "# cmax = sliced_DA.sel(q_r=slice(0.1,0.13), chi=slice(10,20)).compute().max()\n",
    "\n",
    "# sliced_DA.plot.imshow(cmap=cmap, norm=plt.Normalize(10,250))\n",
    "plt.show()\n",
    "plt.close('all')"
   ]
  },
  {
   "cell_type": "code",
   "execution_count": null,
   "id": "37",
   "metadata": {
    "tags": []
   },
   "outputs": [],
   "source": [
    "# Version 1 Y6BO dictionary\n",
    "Y6BO_peaks = {\n",
    "    'pk1': ( '001', slice(0.20, 0.25), slice(-82, -70)),\n",
    "    'pk2': ( '002', slice(0.42, 0.47), slice(-85, -72)),\n",
    "    'pk3': ( '101', slice(0.28, 0.34), slice(-84, -52)),\n",
    "    'pk4': ( '011', slice(0.50, 0.56), slice(-36, -15)), \n",
    "    'pk5': ( '010', slice(0.45, 0.49), slice(-15,  15)),\n",
    "    'pk6': ('102?', slice(0.59, 0.64), slice(-87, -73))\n",
    "}"
   ]
  },
  {
   "cell_type": "code",
   "execution_count": null,
   "id": "38",
   "metadata": {
    "tags": []
   },
   "outputs": [],
   "source": [
    "%matplotlib inline"
   ]
  },
  {
   "cell_type": "code",
   "execution_count": null,
   "id": "39",
   "metadata": {
    "tags": []
   },
   "outputs": [],
   "source": [
    "plt.close('all')"
   ]
  },
  {
   "cell_type": "code",
   "execution_count": null,
   "id": "40",
   "metadata": {
    "tags": []
   },
   "outputs": [],
   "source": [
    "energy=2446\n",
    "\n",
    "sel_DA = caked_DS.sel(sample_name='PM6_10CN-CB_Si')['raw_intensity'].copy()\n",
    "\n",
    "# for energy in energies:\n",
    "DA = sel_DA.copy()\n",
    "\n",
    "sliced_DA = DA.sel(energy=energy, method='nearest').sel(chi=slice(None,None), q_r=slice(None,None)) \n",
    "# cmin = sliced_DA.sel(q_r=slice(0.1,0.13), chi=slice(10,20)).compute().quantile(0.01)\n",
    "# cmax = sliced_DA.sel(q_r=slice(0.1,0.13), chi=slice(10,20)).compute().max()\n",
    "\n",
    "sliced_DA.plot.imshow(cmap=cmap, norm=plt.Normalize(10,250))\n",
    "plt.show()\n",
    "# plt.close('all')"
   ]
  },
  {
   "cell_type": "code",
   "execution_count": null,
   "id": "41",
   "metadata": {
    "tags": []
   },
   "outputs": [],
   "source": [
    "# recent cell to investigate potential long period peak in PM6 10CNCB gitrexs\n",
    "DA = sel_DA.copy()\n",
    "\n",
    "# energy selection\n",
    "# e_slice = slice(None, None)\n",
    "e_slice = slice(2445, 2481)\n",
    "\n",
    "# nexafs selection\n",
    "nf_q_slice = slice(0.14, 0.25)\n",
    "nf_chi_slice = slice(-55, -45)\n",
    "nf_DA = DA.sel(chi=nf_chi_slice, q_r=nf_q_slice)\n",
    "nf_DA = nf_DA.where(nf_DA>1e-3).mean('chi')\n",
    "\n",
    "# PM6 'long period' peak at 0.13 1/Å:\n",
    "peak_name = 'Lp'\n",
    "q_min = 0.12\n",
    "q_max = 0.142\n",
    "chi_min = 12 \n",
    "chi_max = 22 \n",
    "\n",
    "q_slice = slice(0.12, 0.142)\n",
    "chi_slice = slice(12, 22)\n",
    "\n",
    "sample_name = str(DA.sample_name.values)\n",
    "\n",
    "\n",
    "# Mean over chi\n",
    "sliced_DA = DA.sel(chi=slice(chi_min,chi_max), q_r=slice(q_min-0.02, q_max+0.02))\n",
    "sliced_DA = sliced_DA.where(sliced_DA>1e-3).mean('chi')\n",
    "\n",
    "points_x = [q_min, q_max]\n",
    "points_y = [sliced_DA.sel(q_r=slice(points_x[0]-0.005, points_x[0]+0.005)).mean('q_r'), \n",
    "            sliced_DA.sel(q_r=slice(points_x[1]-0.005, points_x[1]+0.005)).mean('q_r')]\n",
    "m_DA = (points_y[1]-points_y[0])/(points_x[1]-points_x[0])\n",
    "b_DA = points_y[1] - (m*points_x[1])\n",
    "\n",
    "y_fits = np.empty((0,len(sliced_DA.q_r)), float)\n",
    "for m, b in zip(m_DA.compute().data, b_DA.compute().data):\n",
    "    y_fit = np.polyval([m, b], sliced_DA.q_r).reshape(1, len(sliced_DA.q_r))\n",
    "    y_fits = np.append(y_fits, y_fit, axis=0)\n",
    "    \n",
    "\n",
    "y_fits_DA = sliced_DA.copy()\n",
    "y_fits_DA.data = y_fits\n",
    "\n",
    "sub_sliced_DA = sliced_DA - y_fits_DA\n",
    "\n",
    "# Integrate/sum q:\n",
    "peak_areas_DA = sub_sliced_DA.sel(q_r=slice(q_min, q_max)).integrate('q_r')\n",
    "peak_areas_DA = peak_areas_DA.where(peak_areas_DA>0)\n",
    "\n",
    "# Plot        \n",
    "fig, ax = plt.subplots(figsize=(5,4), tight_layout=True)\n",
    "peak_areas_DA.sel(energy=e_slice).plot.line(ax=ax)\n",
    "\n",
    "ax.set_title(f'Peak {peak_name}: q ({q_slice.start}, {q_slice.stop}), chi ({chi_slice.start}, {chi_slice.stop})')\n",
    "\n",
    "ax.set(ylabel=f'Linear bkg subtracted intensity [arb. units]', xlabel='Energy [eV]')\n",
    "\n",
    "ax.xaxis.set_minor_locator(MultipleLocator(1))\n",
    "ax.xaxis.grid(True, which='major')\n",
    "\n",
    "# savePath = outPath.joinpath('integrated_peak_intensities_v1', f'{sample_name}')\n",
    "# savePath.mkdir(exist_ok=True)\n",
    "# fig.savefig(savePath.joinpath(\n",
    "#     f'{peak_name}_q{q_slice.start}to{q_slice.stop}_chi{chi_slice.start}to{chi_slice.stop}_energy{e_slice.start}-{e_slice.stop}.png'), dpi=120)\n",
    "\n",
    "plt.show()\n",
    "plt.close('all')\n"
   ]
  },
  {
   "cell_type": "code",
   "execution_count": null,
   "id": "42",
   "metadata": {
    "tags": []
   },
   "outputs": [],
   "source": [
    "nf_DA.integrate('q_r').sel(energy=e_slice).plot()"
   ]
  },
  {
   "cell_type": "code",
   "execution_count": null,
   "id": "43",
   "metadata": {
    "tags": []
   },
   "outputs": [],
   "source": [
    "# energy selection\n",
    "# e_slice = slice(None, None)\n",
    "e_slice = slice(2474, 2484)\n",
    "\n",
    "# nexafs selection\n",
    "nf_q_slice = slice(0.37, 0.43)\n",
    "nf_chi_slice = slice(-44, -30)\n",
    "nf_DA = DA.sel(chi=nf_chi_slice, q_r=nf_q_slice)\n",
    "nf_DA = nf_DA.where(nf_DA>1e-3).mean('chi')\n",
    "\n",
    "DA = sel_DA.copy()\n",
    "sample_name = DA.sample_name.values.reshape(1)[0]\n",
    "    \n",
    "for peak, peak_tuple in Y6BO_peaks.items():\n",
    "    peak_name = peak_tuple[0]\n",
    "    q_slice = peak_tuple[1]\n",
    "    chi_slice = peak_tuple[2]\n",
    "    \n",
    "    # Mean over chi\n",
    "    sliced_DA = DA.sel(chi=chi_slice, q_r=q_slice)\n",
    "    sliced_DA = sliced_DA.where(sliced_DA>1e-3).mean('chi')\n",
    "    \n",
    "    # sliced_DA = sliced_DA - (nf_DA*0.0000001)\n",
    "\n",
    "    # Integrate/sum q:\n",
    "    # peak_areas_DA = sliced_DA.sum('q_r')\n",
    "    peak_areas_DA = sliced_DA.sum('q_r') - nf_DA.sum('q_r')\n",
    "\n",
    "    \n",
    "    # Plot        \n",
    "    fig, ax = plt.subplots(figsize=(5,4), tight_layout=True)\n",
    "    peak_areas_DA.sel(energy=e_slice).plot.line(ax=ax)\n",
    "    \n",
    "    ax.set_title(f'Peak {peak_name}: q ({q_slice.start}, {q_slice.stop}), chi ({chi_slice.start}, {chi_slice.stop})')\n",
    "    \n",
    "    ax.set(ylabel=f'NEXAFS-subtracted intensity [arb. units]', xlabel='Energy [eV]')\n",
    "\n",
    "    ax.xaxis.set_minor_locator(MultipleLocator(1))\n",
    "    ax.xaxis.grid(True, which='major')\n",
    "    # ax.legend()\n",
    "\n",
    "\n",
    "#     savePath = outPath.joinpath('integrated_peak_intensities_v1', f'{sample_name}')\n",
    "#     savePath.mkdir(exist_ok=True)\n",
    "#     fig.savefig(savePath.joinpath(\n",
    "#         f'{peak_name}_q{q_slice.start}to{q_slice.stop}_chi{chi_slice.start}to{chi_slice.stop}_energy{e_slice.start}-{e_slice.stop}.png'), dpi=120)\n",
    "\n",
    "    plt.show()\n",
    "    plt.close('all')"
   ]
  },
  {
   "cell_type": "code",
   "execution_count": null,
   "id": "44",
   "metadata": {
    "tags": []
   },
   "outputs": [],
   "source": [
    "# energy selection\n",
    "# e_slice = slice(None, None)\n",
    "e_slice = slice(2474, 2484)\n",
    "\n",
    "# Plot        \n",
    "fig, ax = plt.subplots(figsize=(5,4), tight_layout=True)\n",
    "nf_DA.sum('q_r').sel(energy=e_slice).plot.line(ax=ax)\n",
    "\n",
    "ax.set_title(f'\"NEXAFS\": q ({nf_q_slice.start}, {nf_q_slice.stop}), chi ({nf_chi_slice.start}, {nf_chi_slice.stop})')\n",
    "\n",
    "ax.set(ylabel=f'Integrated intensity intensity [arb. units]', xlabel='Energy [eV]')\n",
    "\n",
    "ax.xaxis.set_minor_locator(MultipleLocator(1))\n",
    "ax.xaxis.grid(True, which='major')\n",
    "# ax.legend()\n",
    "\n",
    "\n",
    "# savePath = outPath.joinpath('integrated_peak_intensities_v1', f'{sample_name}')\n",
    "# savePath.mkdir(exist_ok=True)\n",
    "# fig.savefig(savePath.joinpath(\n",
    "#     f'nexafs_q{nf_q_slice.start}to{nf_q_slice.stop}_chi{nf_chi_slice.start}to{nf_chi_slice.stop}_energy{e_slice.start}-{e_slice.stop}.png'), dpi=120)\n",
    "\n",
    "plt.show()\n",
    "plt.close('all')"
   ]
  },
  {
   "cell_type": "code",
   "execution_count": null,
   "id": "45",
   "metadata": {},
   "outputs": [],
   "source": []
  },
  {
   "cell_type": "code",
   "execution_count": null,
   "id": "46",
   "metadata": {
    "tags": []
   },
   "outputs": [],
   "source": [
    "# Cell used during beamtime:\n",
    "\n",
    "# make selection multiple selections\n",
    "DS = caked_DS.copy()\n",
    "\n",
    "# make selection\n",
    "q_slice_1 = slice(0.49, 0.56)  # NEXAFS\n",
    "q_slice_2 = slice(0.28, 0.36)  # lamella peak region\n",
    "\n",
    "chi_slice_1 = slice(-28, -18)  # NEXAFS, good if stitched with wa20\n",
    "chi_slice_2 = slice(-15, 15)  # lamella peak region\n",
    "\n",
    "e_slice = slice(None, None)\n",
    "\n",
    "# for sample_info in tqdm(unique_sample_infos):\n",
    "for sample_info in tqdm(DS.sample_info.values):\n",
    "    DA = DS.sel(sample_info=sample_info)['raw_intensity']\n",
    "    \n",
    "    # 1\n",
    "    # Mean over chi\n",
    "    sliced_DA_1 = DA.sel(chi=chi_slice_1, q_red=q_slice_1)\n",
    "    sliced_DA_1 = sliced_DA_1.where(sliced_DA_1>1e-3).mean('chi')\n",
    "\n",
    "    # Integrate/sum q:\n",
    "    peak_areas_DA_1 = sliced_DA_1.sum('q_red')\n",
    "    \n",
    "    # 2\n",
    "    # Mean over chi\n",
    "    sliced_DA_2 = DA.sel(chi=chi_slice_2, q_red=q_slice_2)\n",
    "    sliced_DA_2 = sliced_DA_2.where(sliced_DA_2>1e-3).mean('chi')\n",
    "\n",
    "    # Integrate/sum q:\n",
    "    peak_areas_DA_2 = sliced_DA_2.sum('q_red')\n",
    "\n",
    "    # Plot        \n",
    "    fig, ax = plt.subplots(figsize=(5,4), tight_layout=True)\n",
    "    ax2 = ax.twinx()\n",
    "    peak_areas_DA_1.sel(energy=e_slice).plot.line(ax=ax, label='NEXAFS')\n",
    "    peak_areas_DA_2.sel(energy=e_slice).plot.line(ax=ax2, label='Peak area', color='C1')\n",
    "\n",
    "    fig.suptitle(f'\"NEXAFS\": {sample_info}', x=0.53, y=0.95)\n",
    "\n",
    "    ax.set(ylabel=f'Integrated q ({q_slice_1.start}, {q_slice_1.stop}) [arb. units]', xlabel='Energy [eV]')\n",
    "\n",
    "    ax.xaxis.set_minor_locator(MultipleLocator(1))\n",
    "    ax.xaxis.grid(True, which='major')\n",
    "    ax.legend()\n",
    "    ax2.legend(loc='upper left')\n",
    "\n",
    "\n",
    "    # savePath = outPath.joinpath('lamella_peakarea-vs-energy_v1')\n",
    "    # savePath.mkdir(exist_ok=True)\n",
    "    # fig.savefig(savePath.joinpath(\n",
    "    #     f'{sample_info}_theta-{theta}deg_chiWidth-{chi_width}deg_q-{q_slice.start}-{q_slice.stop}_energy{e_slice.start}-{e_slice.stop}.png'), dpi=120)\n",
    "\n",
    "    plt.show()\n",
    "    # plt.close('all')"
   ]
  },
  {
   "cell_type": "markdown",
   "id": "47",
   "metadata": {
    "tags": []
   },
   "source": [
    "## Qr linecut"
   ]
  },
  {
   "cell_type": "code",
   "execution_count": null,
   "id": "48",
   "metadata": {
    "tags": []
   },
   "outputs": [],
   "source": [
    "caked_DS.energy"
   ]
  },
  {
   "cell_type": "code",
   "execution_count": null,
   "id": "49",
   "metadata": {
    "tags": []
   },
   "outputs": [],
   "source": [
    "# selected_energies = [2120, 2125.6, 2139.6, 2150.8, 2162, 2170.4, 2178.8, 2187.2]\n",
    "selected_energies = [2445, 2470, 2475, 2476, 2476.5, 2477, 2478, 2483, 2540]"
   ]
  },
  {
   "cell_type": "code",
   "execution_count": null,
   "id": "50",
   "metadata": {
    "tags": []
   },
   "outputs": [],
   "source": [
    "len(selected_energies)"
   ]
  },
  {
   "cell_type": "code",
   "execution_count": null,
   "id": "51",
   "metadata": {
    "tags": []
   },
   "outputs": [],
   "source": [
    "plt.close('all')"
   ]
  },
  {
   "cell_type": "code",
   "execution_count": null,
   "id": "52",
   "metadata": {
    "jupyter": {
     "outputs_hidden": true
    },
    "tags": []
   },
   "outputs": [],
   "source": [
    "caked_DS"
   ]
  },
  {
   "cell_type": "code",
   "execution_count": null,
   "id": "53",
   "metadata": {
    "tags": []
   },
   "outputs": [],
   "source": [
    "caked_DA.sample_name.values"
   ]
  },
  {
   "cell_type": "code",
   "execution_count": null,
   "id": "54",
   "metadata": {
    "tags": []
   },
   "outputs": [],
   "source": [
    "%matplotlib inline"
   ]
  },
  {
   "cell_type": "code",
   "execution_count": null,
   "id": "55",
   "metadata": {
    "tags": []
   },
   "outputs": [],
   "source": [
    "plt.close('all')\n",
    "# make selection multiple selections\n",
    "caked_DA = caked_DS['raw_intensity'].copy()\n",
    "\n",
    "# make selection\n",
    "# q_slice = slice(0.21, 0.8)  # \n",
    "q_slice = slice(0.09, 0.16)\n",
    "# chi_slice = slice(-15, 15)  # lamella peak region\n",
    "chi_slice = slice(12, 22) \n",
    "\n",
    "\n",
    "# e_slice = slice(None, None)\n",
    "\n",
    "# for sample_info in tqdm(unique_sample_infos):\n",
    "# for sample_name in tqdm(caked_DA.sample_name.values):\n",
    "for sample_name in ['PM6_10CN-CB_Si', 'PM6_10CN-CF_Si']:\n",
    "    DA = caked_DA.sel(sample_name=sample_name)\n",
    "    # energy = int(DA.energy.values)\n",
    "    # cmin = float(DA.compute().quantile(0.0001))  # good for 1180\n",
    "    # cmax = float(DA.compute().quantile(0.995))  # good for 1180\n",
    "\n",
    "    # Plot\n",
    "    # colors = plt.cm.Dark2(np.linspace(0, 1, 8))\n",
    "    colors = plt.cm.viridis(np.linspace(0, 1, len(selected_energies)))\n",
    "\n",
    "    fig, ax = plt.subplots(figsize=(6,3.5), tight_layout=True, dpi=120)\n",
    "    \n",
    "\n",
    "    for j, energy in enumerate(selected_energies):\n",
    "        p1, = (DA.sel(q_r=q_slice, chi=chi_slice).sel(energy=energy, method='nearest').mean('chi')\n",
    "         .plot.line(ax=ax, color=colors[j], yscale='linear', xscale='linear', label=energy))\n",
    "\n",
    "    # fig.suptitle(f'I vs Q linecuts: {sample_info}', y=0.93, x=0.43)\n",
    "\n",
    "    ax.set_title(f'{sample_name}: Chi: ({chi_slice.start},{chi_slice.stop}), Q: ({q_slice.start},{q_slice.stop})')\n",
    "    ax.set(ylabel='Full $\\chi$ intensity [arb. units]', xlabel='Q [$Å^{-1}$]', yscale='linear', xscale='linear')\n",
    "    ax.legend(title='energy')\n",
    "\n",
    "    \n",
    "    # lines= [p1,p2,p3]\n",
    "    # ax1.legend(title='$\\chi$ regions', handles=lines, labels=[l.get_label() for l in lines])\n",
    "\n",
    "    # savePath = plotsPath.joinpath('rsoxs_1180/qr_linecuts_v1')\n",
    "    # fig.savefig(savePath.joinpath(f'{sample_info}_{edge}.png'), dpi=120)\n",
    "\n",
    "    plt.show()\n",
    "    # plt.close('all')"
   ]
  },
  {
   "cell_type": "markdown",
   "id": "56",
   "metadata": {
    "tags": []
   },
   "source": [
    "## Chi linecut"
   ]
  },
  {
   "cell_type": "code",
   "execution_count": null,
   "id": "57",
   "metadata": {
    "tags": []
   },
   "outputs": [],
   "source": [
    "DA.sel(q_red=q_slice, energy=energy)"
   ]
  },
  {
   "cell_type": "code",
   "execution_count": null,
   "id": "58",
   "metadata": {
    "tags": []
   },
   "outputs": [],
   "source": [
    "# make selection, subtracted flat line to compare peak intensities overlayed\n",
    "DS = caked_DS.copy()\n",
    "\n",
    "# make selection\n",
    "q_slice = slice(0.25, 0.33)   # peak slice here\n",
    "chi_slice = slice(-125, 25)\n",
    "bad_chi_slices = [slice(-110, -102), slice(-77, -68), slice(-59,-56), slice(-33,-29), slice(-25,-21), slice(-5,-2)]\n",
    "\n",
    "# Select DataArray\n",
    "for sample_info in tqdm(unique_sample_infos[-3:]):\n",
    "    for theta in [90]:\n",
    "        DA = DS.sel(sample_info=sample_info, theta=theta)['raw_intensity']\n",
    "        DA = DA.where(DA>1).where(DA<(DA.max()*0.03))\n",
    "        for slice_to_nan in bad_chi_slices:\n",
    "            DA.loc[{'chi': slice_to_nan}] = np.nan\n",
    "        DA = DA.interpolate_na(dim='chi')\n",
    "        \n",
    "        DA = DA.sel(chi=chi_slice).groupby_bins('chi', 20).mean('chi')\n",
    "        \n",
    "        \n",
    "        # Plot\n",
    "        energies = DA.energy.sel(energy=[2445, 2470.2, 2472, 2474, 2476, 2477, 2478, 2484, 2550], method='nearest').data\n",
    "\n",
    "        cmap = plt.cm.viridis.copy()\n",
    "        colors = cmap(np.linspace(0, 1, len(energies)))\n",
    "\n",
    "        fig, ax = plt.subplots(figsize=(4,3), tight_layout=True)\n",
    "        \n",
    "        for i, energy in enumerate(energies):\n",
    "            # sliced_DA = (DA.sel(q_red=q_slice, energy=energy) - \n",
    "            #              DA.sel(q_red=slice(0.2,0.23), energy=energy).mean('q_red'))\n",
    "            # sliced_DA_snap = sliced_DA.copy()\n",
    "            sliced_DA = DA.sel(q_red=q_slice, energy=energy)\n",
    "            sliced_DA = sliced_DA.integrate('q_red')\n",
    "            sliced_DA = sliced_DA / float(sliced_DA.sel(chi_bins=slice(-60,-40)).mean('chi_bins'))\n",
    "            \n",
    "            sliced_DA.plot.line(ax=ax, color=colors[i], label=energy)\n",
    "            \n",
    "        ax.set_title(f'{sample_info}, $\\\\theta$={theta}°')\n",
    "        ax.set(ylabel='Chi-bin-meaned Q-integrated intensity [arb. units]')\n",
    "        ax\n",
    "        \n",
    "        ax.xaxis.set_major_locator(MultipleLocator(90))\n",
    "        ax.xaxis.set_minor_locator(MultipleLocator(45))\n",
    "        ax.xaxis.grid(True, which='both')\n",
    "        \n",
    "        plt.show()\n",
    "        plt.close('all')"
   ]
  },
  {
   "cell_type": "code",
   "execution_count": null,
   "id": "59",
   "metadata": {},
   "outputs": [],
   "source": [
    "# make selection, subtracted flat line to compare peak intensities overlayed\n",
    "DS = caked_DS.copy()\n",
    "\n",
    "# make selection\n",
    "q_slice = slice(0.23, 0.32)   # peak slice here\n",
    "chi_width = 90\n",
    "e_slice = slice(2470, 2485)\n",
    "\n",
    "for sample_info in tqdm(unique_sample_infos[:]):\n",
    "    for theta in [90, 55, 35]:\n",
    "        para_DA, perp_DA = make_para_perp_DAs(DS, sample_info, theta, chi_width) \n",
    "        \n",
    "        para_DA = para_DA.where(para_DA>0.4).where(para_DA<(para_DA.max()*0.03))\n",
    "        perp_DA = perp_DA.where(perp_DA>0.4).where(perp_DA<(perp_DA.max()*0.03))\n",
    "\n",
    "        # Subtract pre-peak flat line\n",
    "        para_DA = para_DA - para_DA.sel(q_red=slice(0.2,0.23)).mean('q_red')\n",
    "        perp_DA = perp_DA - perp_DA.sel(q_red=slice(0.2,0.23)).mean('q_red')\n",
    "        \n",
    "        # Mean/integrate chi/q:\n",
    "        para_areas_DA = para_DA.sel(q_red=q_slice).mean('chi').integrate('q_red')\n",
    "        perp_areas_DA = perp_DA.sel(q_red=q_slice).mean('chi').integrate('q_red')\n",
    "        \n",
    "        # Plot        \n",
    "        fig, ax = plt.subplots(figsize=(5,4), tight_layout=True)\n",
    "        para_areas_DA.sel(energy=e_slice).plot.line(ax=ax, label='Para')\n",
    "        perp_areas_DA.sel(energy=e_slice).plot.line(ax=ax, label='Perp')\n",
    "\n",
    "        fig.suptitle(f'Lamella peak area vs photon energy: {sample_info}', x=0.53, y=0.95)\n",
    "\n",
    "        ax.set_title(f'$\\\\theta$ = {theta}°, $\\chi$ width = 90°')\n",
    "        ax.set(ylabel=f'Integrated q ({q_slice.start}, {q_slice.stop}) [arb. units]', xlabel='Energy [eV]')\n",
    "        \n",
    "        ax.xaxis.set_minor_locator(MultipleLocator(1))\n",
    "        ax.xaxis.grid(True, which='both')\n",
    "        ax.legend()\n",
    "        \n",
    "\n",
    "        savePath = outPath.joinpath('trexs_plots/waxs_core_films_trexs_plots/peakarea-vs-energy_v2')\n",
    "        savePath.mkdir(exist_ok=True)\n",
    "        fig.savefig(savePath.joinpath(\n",
    "            f'{sample_info}_theta-{theta}deg_chiWidth-{chi_width}deg_q-{q_slice.start}-{q_slice.stop}_energy{e_slice.start}-{e_slice.stop}.png'), dpi=120)\n",
    "        \n",
    "        # plt.show()\n",
    "        plt.close('all')"
   ]
  },
  {
   "cell_type": "code",
   "execution_count": null,
   "id": "60",
   "metadata": {},
   "outputs": [],
   "source": [
    "# make selection\n",
    "DS = caked_DS.copy()\n",
    "\n",
    "# make selection\n",
    "q_slice = slice(0.1, 0.5)\n",
    "chi_width = 90\n",
    "# energy_slice = slice(2470, 2485)\n",
    "\n",
    "for sample_info in tqdm(unique_sample_infos[:]):\n",
    "    for theta in [90]:\n",
    "        para_DA, perp_DA = make_para_perp_DAs(DS, sample_info, theta, chi_width) \n",
    "        \n",
    "        para_DA = para_DA.where(para_DA>0.4).where(para_DA<(para_DA.max()*0.03))  #.interpolate_na(dim='chi')\n",
    "        # para_DA.sel(energy=2477.2,method='nearest').sel(q_red=slice(0.05, 0.7)).plot.imshow()\n",
    "        # plt.title('para')\n",
    "        # plt.show()\n",
    "        \n",
    "        perp_DA = perp_DA.where(perp_DA>0.4).where(perp_DA<(perp_DA.max()*0.03))  #.interpolate_na(dim='chi')\n",
    "        # perp_DA.sel(energy=2477.2,method='nearest').sel(q_red=slice(0.05, 0.7)).plot.imshow()\n",
    "        # plt.title('perp')\n",
    "        # plt.show()\n",
    "        # plt.close('all')\n",
    "\n",
    "        \n",
    "        # Plot\n",
    "        energies = para_DA.energy.sel(energy=[2445, 2470.2, 2472, 2474, 2476, 2477, 2478, 2484, 2550], method='nearest').data\n",
    "\n",
    "        cmap = plt.cm.turbo.copy()\n",
    "        colors = cmap(np.linspace(0, 1, len(energies)))\n",
    "\n",
    "        fig, axs = plt.subplots(ncols=2,figsize=(8,4), tight_layout=True)\n",
    "\n",
    "        for j, energy in enumerate(energies):\n",
    "            (para_DA.sel(q_red=q_slice, energy=energy).mean('chi')\n",
    "             .plot.line(ax=axs[0], color=colors[j], yscale='linear', xscale='linear', label=energy))\n",
    "            (perp_DA.sel(q_red=q_slice, energy=energy).mean('chi')\n",
    "             .plot.line(ax=axs[1], color=colors[j], yscale='linear', xscale='linear', label=energy))\n",
    "\n",
    "        fig.suptitle(f'IvsQ, $\\\\theta$ = {theta}°, $\\chi$ width = 90°: {sample_info}', x=0.47)\n",
    "\n",
    "        axs[0].set(title=f'Parallel to E$_p$', ylabel='Intensity [arb. units]', xlabel='Q [$Å^{-1}$]')\n",
    "        axs[1].set(title=f'Perpendicular to E$_p$', ylabel='Intensity [arb. units]', xlabel='Q [$Å^{-1}$]')\n",
    "        axs[1].legend(title='Energy [eV]', loc=(1.05,0.1))\n",
    "\n",
    "        # fig.savefig(outPath.joinpath('trexs_plots/I_cuts_v1', \n",
    "        #     f'{sample_info}_theta-{theta}deg_chiWidth-{chi_width}deg_q-{q_slice.start}-{q_slice.stop}.png'), dpi=120)\n",
    "        \n",
    "        plt.show()\n",
    "        plt.close('all')"
   ]
  },
  {
   "cell_type": "markdown",
   "id": "61",
   "metadata": {
    "tags": []
   },
   "source": [
    "## Anisotropy Ratio Plots"
   ]
  },
  {
   "cell_type": "markdown",
   "id": "62",
   "metadata": {
    "tags": []
   },
   "source": [
    "### 1. 2D AR Maps"
   ]
  },
  {
   "cell_type": "code",
   "execution_count": null,
   "id": "63",
   "metadata": {
    "tags": []
   },
   "outputs": [],
   "source": [
    "para_DA.interpolate_na(dim='chi')"
   ]
  },
  {
   "cell_type": "code",
   "execution_count": null,
   "id": "64",
   "metadata": {
    "tags": []
   },
   "outputs": [],
   "source": [
    "DS = caked_DS.copy()\n",
    "\n",
    "# make selection\n",
    "q_slice = slice(0.05, 0.8)\n",
    "chi_width = 90\n",
    "energy_slice = slice(2470, 2485)\n",
    "\n",
    "# para_sin35, perp_sin35 = make_para_perp_DAs(DS, 'BareSiN_01', 35, chi_width) \n",
    "# para_sin55, perp_sin55 = make_para_perp_DAs(DS, 'BareSiN_01', 55, chi_width) \n",
    "# para_sin90, perp_sin90 = make_para_perp_DAs(DS, 'BareSiN_01', 90, chi_width) \n",
    "\n",
    "for sample_info in tqdm(unique_sample_infos):\n",
    "    for theta in [90, 55, 35]:\n",
    "        para_DA, perp_DA = make_para_perp_DAs(DS, sample_info, theta, chi_width) \n",
    "        \n",
    "        para_DA = para_DA.where(para_DA>0.4).where(para_DA<(para_DA.max()*0.03))  #.interpolate_na(dim='chi')\n",
    "        # para_DA.sel(energy=2477.2,method='nearest').sel(q_red=slice(0.05, 0.7)).plot.imshow()\n",
    "        # plt.title('para')\n",
    "        # plt.show()\n",
    "        \n",
    "        perp_DA = perp_DA.where(perp_DA>0.4).where(perp_DA<(perp_DA.max()*0.03))  #.interpolate_na(dim='chi')\n",
    "        # perp_DA.sel(energy=2477.2,method='nearest').sel(q_red=slice(0.05, 0.7)).plot.imshow()\n",
    "        # plt.title('perp')\n",
    "        # plt.show()\n",
    "        # plt.close('all')\n",
    "            \n",
    "        # Select AR data\n",
    "        ar_DA = (para_DA.mean('chi') - perp_DA.mean('chi')) / (para_DA.mean('chi') + perp_DA.mean('chi'))\n",
    "\n",
    "        # Plot\n",
    "        vlim = 0.4\n",
    "        ax = ar_DA.sel(energy=energy_slice, q_red=q_slice).plot.pcolormesh(\n",
    "            cmap=plt.cm.RdBu_r, figsize=(8,5), norm=plt.Normalize(-vlim, vlim), xscale='linear')\n",
    "        # ax = ar_DA.sel(energy=energy_slice, q_red=q_slice).plot.pcolormesh(figsize=(8,5))\n",
    "\n",
    "        ax.figure.suptitle('Anisotropy Ratio (AR) Map', fontsize=14, x=0.43)\n",
    "        ax.axes.set(title=f'{sample_info}, $\\\\theta$ = {theta}°, Chi Width = {chi_width}°', ylabel='Photon Energy [eV]', xlabel='q [$Å^{-1}$]')\n",
    "        ax.colorbar.set_label('AR [arb. units]', rotation=270, labelpad=12)\n",
    "\n",
    "\n",
    "        # ax.figure.savefig(outPath.joinpath('trexs_plots/ar_maps_v1', \n",
    "        #     f'{sample_info}_theta-{theta}deg_chiWidth-{chi_width}deg_q-{q_slice.start}-{q_slice.stop}_energy{energy_slice.start}-{energy_slice.stop}.png'), \n",
    "        #                   dpi=120)\n",
    "\n",
    "        plt.show()\n",
    "        plt.close('all')"
   ]
  },
  {
   "cell_type": "code",
   "execution_count": null,
   "id": "65",
   "metadata": {
    "tags": []
   },
   "outputs": [],
   "source": [
    "outPath.joinpath('trexs_plots/ar_maps_v1')"
   ]
  },
  {
   "cell_type": "markdown",
   "id": "66",
   "metadata": {
    "jp-MarkdownHeadingCollapsed": true,
    "tags": []
   },
   "source": [
    "### 2. 1D meaned AR linecuts"
   ]
  },
  {
   "cell_type": "code",
   "execution_count": null,
   "id": "67",
   "metadata": {
    "tags": []
   },
   "outputs": [],
   "source": [
    "# make selection\n",
    "# sample_info = 'Y6_CB_2500'\n",
    "DS = caked_DS.copy()\n",
    "\n",
    "# make selection\n",
    "q_slice = slice(0.05, 0.8)\n",
    "chi_width = 90\n",
    "# energy_slice = slice(2470, 2485)\n",
    "\n",
    "for sample_info in tqdm(unique_sample_infos):\n",
    "    for theta in [90, 55, 35]:\n",
    "        para_DA, perp_DA = make_para_perp_DAs(DS, sample_info, theta, chi_width) \n",
    "        \n",
    "        para_DA = para_DA.where(para_DA>0.4).where(para_DA<(para_DA.max()*0.03))  #.interpolate_na(dim='chi')\n",
    "        # para_DA.sel(energy=2477.2,method='nearest').sel(q_red=slice(0.05, 0.7)).plot.imshow()\n",
    "        # plt.title('para')\n",
    "        # plt.show()\n",
    "        \n",
    "        perp_DA = perp_DA.where(perp_DA>0.4).where(perp_DA<(perp_DA.max()*0.03))  #.interpolate_na(dim='chi')\n",
    "        # perp_DA.sel(energy=2477.2,method='nearest').sel(q_red=slice(0.05, 0.7)).plot.imshow()\n",
    "        # plt.title('perp')\n",
    "        # plt.show()\n",
    "        # plt.close('all')\n",
    "            \n",
    "        # Select AR data\n",
    "        ar_DA = (para_DA.mean('chi') - perp_DA.mean('chi')) / (para_DA.mean('chi') + perp_DA.mean('chi'))\n",
    "\n",
    "        # Plot   \n",
    "        energies = para_DA.energy.sel(energy=[2445, 2470.2, 2472, 2474, 2476, 2477, 2478, 2484, 2550], method='nearest').data\n",
    "        cmap = plt.cm.turbo.copy()\n",
    "        colors = cmap(np.linspace(0, 1, len(energies)))        \n",
    "\n",
    "        # # Create a ScalarMappable object with the colormap and normalization & add the colorbar to the figure\n",
    "        # sm = plt.cm.ScalarMappable(cmap=cmap, norm=plt.Normalize(vmin=energies[0], vmax=energies[-1]))\n",
    "        # cax = ax.inset_axes([1.03, 0, 0.03, 1])\n",
    "        # cbar = fig.colorbar(sm, cax=cax, orientation='vertical')\n",
    "        # cbar.set_label(label=f'Time [seconds]', labelpad=14)\n",
    "        # cbar.set_ticks(np.round(np.linspace(energies[0], energies[-1], len(energies)), 2))\n",
    "\n",
    "        fig, ax = plt.subplots(tight_layout=True, figsize=(6,4), dpi=120)\n",
    "\n",
    "        qmin = 8e-3 \n",
    "        qmax = 8e-2\n",
    "\n",
    "        for j, energy in enumerate(energies):\n",
    "            (ar_DA.sel(energy=energy, q_red=q_slice).plot.line(ax=ax, color=colors[j], label=energy, xscale='linear'))\n",
    "\n",
    "        fig.suptitle(f'Anisotropy Ratio Linecuts: {sample_info}', x=0.46)\n",
    "\n",
    "        ax.set(title=f'Chi width = {chi_width}°, $\\\\theta$ = {theta}°', ylim=(-0.5, 0.5), ylabel='AR [arb. units]', xlabel='Q [$Å^{-1}$]')\n",
    "        ax.legend(title='Energy [eV]', loc=(1.03,0.02))\n",
    "\n",
    "\n",
    "        fig.savefig(outPath.joinpath('trexs_plots/ar_cuts_v1', \n",
    "            f'{sample_info}_theta-{theta}deg_chiWidth-{chi_width}deg_q-{q_slice.start}-{q_slice.stop}.png'), dpi=120)\n",
    "\n",
    "        # plt.show()\n",
    "        plt.close('all')"
   ]
  },
  {
   "cell_type": "code",
   "execution_count": null,
   "id": "68",
   "metadata": {},
   "outputs": [],
   "source": [
    "ar_DA.hvplot.line(groupby=\"energy\")"
   ]
  },
  {
   "cell_type": "markdown",
   "id": "69",
   "metadata": {
    "tags": []
   },
   "source": [
    "## Meaned 1D intensity lineplots, selected energies"
   ]
  },
  {
   "cell_type": "code",
   "execution_count": null,
   "id": "70",
   "metadata": {
    "tags": []
   },
   "outputs": [],
   "source": [
    "# manual_scale_factors_v1 = {\n",
    "#     'PM6_CB_3000': 6.5,\n",
    "#     ...\n",
    "#     'Y6_CF_2500': 8.5,\n",
    "# }\n",
    "\n",
    "# len(manual_scale_factors_v1)"
   ]
  },
  {
   "cell_type": "code",
   "execution_count": null,
   "id": "71",
   "metadata": {
    "tags": []
   },
   "outputs": [],
   "source": [
    "para_DA.sel(q_red=slice(0.2,0.23)).mean('q_red')"
   ]
  },
  {
   "cell_type": "code",
   "execution_count": null,
   "id": "72",
   "metadata": {
    "tags": []
   },
   "outputs": [],
   "source": [
    "unique_sample_infos"
   ]
  },
  {
   "cell_type": "code",
   "execution_count": null,
   "id": "73",
   "metadata": {
    "tags": []
   },
   "outputs": [],
   "source": [
    "# make selection\n",
    "DS = caked_DS.copy()\n",
    "\n",
    "# make selection\n",
    "q_slice = slice(0.1, 0.5)\n",
    "chi_width = 90\n",
    "# energy_slice = slice(2470, 2485)\n",
    "\n",
    "for sample_info in tqdm(unique_sample_infos[-1:]):\n",
    "    for theta in [90]:\n",
    "        para_DA, perp_DA = make_para_perp_DAs(DS, sample_info, theta, chi_width) \n",
    "        \n",
    "        para_DA = para_DA.where(para_DA>0.4).where(para_DA<(para_DA.max()*0.03))  #.interpolate_na(dim='chi')\n",
    "        # para_DA.sel(energy=2477.2,method='nearest').sel(q_red=slice(0.05, 0.7)).plot.imshow()\n",
    "        # plt.title('para')\n",
    "        # plt.show()\n",
    "        \n",
    "        perp_DA = perp_DA.where(perp_DA>0.4).where(perp_DA<(perp_DA.max()*0.03))  #.interpolate_na(dim='chi')\n",
    "        # perp_DA.sel(energy=2477.2,method='nearest').sel(q_red=slice(0.05, 0.7)).plot.imshow()\n",
    "        # plt.title('perp')\n",
    "        # plt.show()\n",
    "        # plt.close('all')\n",
    "\n",
    "        \n",
    "        # Plot\n",
    "        energies = para_DA.energy.sel(energy=[2445, 2470.2, 2472, 2474, 2476, 2477, 2478, 2484, 2550], method='nearest').data\n",
    "\n",
    "        cmap = plt.cm.turbo.copy()\n",
    "        colors = cmap(np.linspace(0, 1, len(energies)))\n",
    "\n",
    "        fig, axs = plt.subplots(ncols=2,figsize=(8,4), tight_layout=True)\n",
    "\n",
    "        for j, energy in enumerate(energies):\n",
    "            (para_DA.sel(q_red=q_slice, energy=energy).mean('chi')\n",
    "             .plot.line(ax=axs[0], color=colors[j], yscale='linear', xscale='linear', label=energy))\n",
    "            (perp_DA.sel(q_red=q_slice, energy=energy).mean('chi')\n",
    "             .plot.line(ax=axs[1], color=colors[j], yscale='linear', xscale='linear', label=energy))\n",
    "\n",
    "        fig.suptitle(f'IvsQ, $\\\\theta$ = {theta}°, $\\chi$ width = 90°: {sample_info}', x=0.47)\n",
    "\n",
    "        axs[0].set(title=f'Parallel to E$_p$', ylabel='Intensity [arb. units]', xlabel='Q [$Å^{-1}$]')\n",
    "        axs[1].set(title=f'Perpendicular to E$_p$', ylabel='Intensity [arb. units]', xlabel='Q [$Å^{-1}$]')\n",
    "        axs[1].legend(title='Energy [eV]', loc=(1.05,0.1))\n",
    "\n",
    "        # fig.savefig(outPath.joinpath('trexs_plots/I_cuts_v1', \n",
    "        #     f'{sample_info}_theta-{theta}deg_chiWidth-{chi_width}deg_q-{q_slice.start}-{q_slice.stop}.png'), dpi=120)\n",
    "        \n",
    "        plt.show()\n",
    "        plt.close('all')"
   ]
  },
  {
   "cell_type": "code",
   "execution_count": null,
   "id": "74",
   "metadata": {
    "tags": []
   },
   "outputs": [],
   "source": [
    "# make selection, subtracted flat line to compare peak intensities overlayed\n",
    "DS = caked_DS.copy()\n",
    "\n",
    "# make selection\n",
    "q_slice = slice(0.1, 0.5)\n",
    "chi_width = 90\n",
    "# energy_slice = slice(2470, 2485)\n",
    "\n",
    "for sample_info in tqdm(unique_sample_infos[-1:]):\n",
    "    for theta in [90, 55, 35]:\n",
    "        para_DA, perp_DA = make_para_perp_DAs(DS, sample_info, theta, chi_width) \n",
    "        \n",
    "        para_DA = para_DA.where(para_DA>0.4).where(para_DA<(para_DA.max()*0.03))  #.interpolate_na(dim='chi')\n",
    "        # para_DA.sel(energy=2477.2,method='nearest').sel(q_red=slice(0.05, 0.7)).plot.imshow()\n",
    "        # plt.title('para')\n",
    "        # plt.show()\n",
    "        \n",
    "        perp_DA = perp_DA.where(perp_DA>0.4).where(perp_DA<(perp_DA.max()*0.03))  #.interpolate_na(dim='chi')\n",
    "        # perp_DA.sel(energy=2477.2,method='nearest').sel(q_red=slice(0.05, 0.7)).plot.imshow()\n",
    "        # plt.title('perp')\n",
    "        # plt.show()\n",
    "        # plt.close('all')\n",
    "\n",
    "        # Subtract pre-peak flat line\n",
    "        para_DA = para_DA - para_DA.sel(q_red=slice(0.2,0.23)).mean('q_red')\n",
    "        perp_DA = perp_DA - perp_DA.sel(q_red=slice(0.2,0.23)).mean('q_red')\n",
    "\n",
    "        \n",
    "        # Plot\n",
    "        energies = para_DA.energy.sel(energy=[2445, 2470.2, 2472, 2474, 2476, 2477, 2478, 2484, 2550], method='nearest').data\n",
    "\n",
    "        # cmap = plt.cm.turbo.copy()\n",
    "        cmap = plt.cm.viridis.copy()\n",
    "        colors = cmap(np.linspace(0, 1, len(energies)))\n",
    "\n",
    "        fig, axs = plt.subplots(ncols=2,figsize=(8,4), tight_layout=True)\n",
    "\n",
    "        for j, energy in enumerate(energies):\n",
    "            (para_DA.sel(q_red=q_slice, energy=energy).mean('chi')\n",
    "             .plot.line(ax=axs[0], color=colors[j], yscale='linear', xscale='linear', label=energy))\n",
    "            (perp_DA.sel(q_red=q_slice, energy=energy).mean('chi')\n",
    "             .plot.line(ax=axs[1], color=colors[j], yscale='linear', xscale='linear', label=energy))\n",
    "\n",
    "        fig.suptitle(f'IvsQ, $\\\\theta$ = {theta}°, $\\chi$ width = 90°: {sample_info}', x=0.47)\n",
    "\n",
    "        axs[0].set(title=f'Parallel to E$_p$', ylabel='Intensity [arb. units]', xlabel='Q [$Å^{-1}$]')\n",
    "        axs[1].set(title=f'Perpendicular to E$_p$', ylabel='Intensity [arb. units]', xlabel='Q [$Å^{-1}$]')\n",
    "        axs[1].legend(title='Energy [eV]', loc=(1.05,0.1))\n",
    "\n",
    "        # savePath = outPath.joinpath('trexs_plots/waxs_core_films_trexs_plots/I_cuts_flatsub_v1')\n",
    "        # savePath.mkdir(exist_ok=True)\n",
    "        # fig.savefig(savePath.joinpath(\n",
    "        #     f'{sample_info}_theta-{theta}deg_chiWidth-{chi_width}deg_q-{q_slice.start}-{q_slice.stop}.png'), dpi=120)\n",
    "        \n",
    "        plt.show()\n",
    "        plt.close('all')"
   ]
  },
  {
   "cell_type": "code",
   "execution_count": null,
   "id": "75",
   "metadata": {
    "tags": []
   },
   "outputs": [],
   "source": [
    "# make selection, subtracted flat line & normalized to peak maximum\n",
    "DS = caked_DS.copy()\n",
    "\n",
    "# make selection\n",
    "q_slice = slice(0.1, 0.5)\n",
    "chi_width = 90\n",
    "# energy_slice = slice(2470, 2485)\n",
    "\n",
    "for sample_info in tqdm(unique_sample_infos[:]):\n",
    "    for theta in [90, 55, 35]:\n",
    "        para_DA, perp_DA = make_para_perp_DAs(DS, sample_info, theta, chi_width) \n",
    "        \n",
    "        para_DA = para_DA.where(para_DA>0.4).where(para_DA<(para_DA.max()*0.03))  #.interpolate_na(dim='chi')\n",
    "        # para_DA.sel(energy=2477.2,method='nearest').sel(q_red=slice(0.05, 0.7)).plot.imshow()\n",
    "        # plt.title('para')\n",
    "        # plt.show()\n",
    "        \n",
    "        perp_DA = perp_DA.where(perp_DA>0.4).where(perp_DA<(perp_DA.max()*0.03))  #.interpolate_na(dim='chi')\n",
    "        # perp_DA.sel(energy=2477.2,method='nearest').sel(q_red=slice(0.05, 0.7)).plot.imshow()\n",
    "        # plt.title('perp')\n",
    "        # plt.show()\n",
    "        # plt.close('all')\n",
    "\n",
    "        # Subtract pre-peak flat line\n",
    "        para_DA = para_DA - para_DA.sel(q_red=slice(0.2,0.23)).mean('q_red')\n",
    "        perp_DA = perp_DA - perp_DA.sel(q_red=slice(0.2,0.23)).mean('q_red')\n",
    "        \n",
    "        # Normalize by peak value\n",
    "        para_DA_meaned = para_DA.mean('chi')\n",
    "        perp_DA_meaned = perp_DA.mean('chi')\n",
    "        \n",
    "        para_DA_meaned = para_DA_meaned / para_DA_meaned.sel(q_red=slice(0.23,0.33)).max('q_red')\n",
    "        perp_DA_meaned = perp_DA_meaned / perp_DA_meaned.sel(q_red=slice(0.23,0.33)).max('q_red')\n",
    "        \n",
    "        # Plot\n",
    "        energies = para_DA.energy.sel(energy=[2445, 2470.2, 2472, 2474, 2476, 2477, 2478, 2484, 2550], method='nearest').data\n",
    "\n",
    "        # cmap = plt.cm.turbo.copy()\n",
    "        cmap = plt.cm.viridis.copy()\n",
    "        colors = cmap(np.linspace(0, 1, len(energies)))\n",
    "\n",
    "        fig, axs = plt.subplots(ncols=2,figsize=(8,4), tight_layout=True)\n",
    "\n",
    "        for j, energy in enumerate(energies):\n",
    "            (para_DA_meaned.sel(energy=energy, q_red=q_slice)\n",
    "            .plot.line(ax=axs[0], color=colors[j], yscale='linear', xscale='linear', label=energy))\n",
    "            (perp_DA_meaned.sel(energy=energy, q_red=q_slice)\n",
    "            .plot.line(ax=axs[1], color=colors[j], yscale='linear', xscale='linear', label=energy))\n",
    "\n",
    "        fig.suptitle(f'IvsQ, $\\\\theta$ = {theta}°, $\\chi$ width = 90°: {sample_info}', x=0.47)\n",
    "\n",
    "        axs[0].set(ylim=(None,1.2), title=f'Parallel to E$_p$', ylabel='Normalized intensity [arb. units]', xlabel='Q [$Å^{-1}$]')\n",
    "        axs[1].set(ylim=(None,1.2), title=f'Perpendicular to E$_p$', ylabel='Normalized intensity [arb. units]', xlabel='Q [$Å^{-1}$]')\n",
    "        axs[1].legend(title='Energy [eV]', loc=(1.05,0.1))\n",
    "\n",
    "        savePath = outPath.joinpath('trexs_plots/waxs_core_films_trexs_plots/I_cuts_normed_v1')\n",
    "        savePath.mkdir(exist_ok=True)\n",
    "        fig.savefig(savePath.joinpath(\n",
    "            f'{sample_info}_theta-{theta}deg_chiWidth-{chi_width}deg_q-{q_slice.start}-{q_slice.stop}.png'), dpi=120)\n",
    "        \n",
    "        # plt.show()\n",
    "        plt.close('all')"
   ]
  },
  {
   "cell_type": "markdown",
   "id": "76",
   "metadata": {
    "tags": []
   },
   "source": [
    "### 1D line fitting*\n",
    "Use lmfit to perform the linefits"
   ]
  },
  {
   "cell_type": "code",
   "execution_count": null,
   "id": "77",
   "metadata": {},
   "outputs": [],
   "source": [
    "from scipy import optimize, signal\n",
    "from lmfit import models"
   ]
  },
  {
   "cell_type": "markdown",
   "id": "78",
   "metadata": {
    "tags": []
   },
   "source": [
    "#### Messy A-series line fitting below"
   ]
  },
  {
   "cell_type": "code",
   "execution_count": null,
   "id": "79",
   "metadata": {},
   "outputs": [],
   "source": [
    "# def fit_plotter(q, I, out):\n",
    "#     \"\"\"\n",
    "#     Plots a figure with 2 axes, the full fit on a log scale on the left and the components in normal scale on the right\n",
    "#     \"\"\"\n",
    "#     fig, (ax1, ax2) = plt.subplots(1,2)\n",
    "#     fig.set(size_inches=(12,4))\n",
    "    \n",
    "#     ax1.plot(q, I, label='data')\n",
    "#     ax1.plot(q, out.best_fit, label='full_fit')\n",
    "#     ax1.set(xlabel='Q [Å$^{-1}$]', ylabel='Intensity [arb. units]')\n",
    "#     ax1.legend(loc='upper left')\n",
    "    \n",
    "#     ax2.plot(q, I, label='data')\n",
    "#     ax2.plot(q, out.best_fit, label='full_fit')\n",
    "#     for key in out.eval_components():\n",
    "#         ax2.plot(q, out.eval_components()[key], label=f'{key}')\n",
    "#     ax2.set(xlabel='Q [Å$^{-1}$]')\n",
    "#     ax2.legend(loc='upper left')\n",
    "    \n",
    "#     return (ax1, ax2), fig"
   ]
  },
  {
   "cell_type": "code",
   "execution_count": null,
   "id": "80",
   "metadata": {},
   "outputs": [],
   "source": [
    "# A1\n",
    "intensity_type = 'raw'\n",
    "if intensity_type == 'corr':\n",
    "    DA = selected_corr_DAs[0].compute()\n",
    "elif intensity_type == 'raw':\n",
    "    DA = selected_raw_DAs[0].compute()\n",
    "else:\n",
    "    print('Must select intensity type')\n",
    "\n",
    "OOP_linecut_DA = DA.sel(chi=slice(chi_min, chi_max), qr=slice(0.3, 1.9)).mean('chi')\n",
    "\n",
    "point_x = 0.3\n",
    "point_y = float(DA.sel(chi=slice(chi_min, chi_max), qr=slice(point_x-0.01, point_x+0.01)).mean('qr').mean('chi'))\n",
    "point_y = point_y - point_y*(0.08)\n",
    "\n",
    "x = OOP_linecut_DA.qr.data\n",
    "y = OOP_linecut_DA.data\n",
    "\n",
    "# Define all models to include in fitting\n",
    "bkg_mod = models.LinearModel(prefix='bkg_')\n",
    "pars = bkg_mod.make_params()\n",
    "pars = bkg_mod.make_params(intercept=point_y, slope=0)\n",
    "pars['bkg_intercept'].set(vary=False)\n",
    "pars['bkg_slope'].set(vary=False)\n",
    "\n",
    "pk1_mod = models.PseudoVoigtModel(prefix='pk1_')\n",
    "# pars = pk1_mod.make_params(center=0.55)\n",
    "pars += pk1_mod.guess(y, x, center=0.55)\n",
    "# pars['pk1_amplitude'].set(min=0.5)\n",
    "pars['pk1_amplitude'].set(min=0)\n",
    "\n",
    "# pk2_mod = models.LorentzianModel(prefix='pk2_')\n",
    "pk2_mod = models.PseudoVoigtModel(prefix='pk2_')\n",
    "\n",
    "pars += pk2_mod.guess(y, x, center=1.7)\n",
    "# pars['pk2_center'].set(max = 0.62, min = 0.58)\n",
    "# pars['pk2_sigma'].set(max = 0.03)\n",
    "pars['pk2_amplitude'].set(min=0)\n",
    "\n",
    "pk3_mod = models.PseudoVoigtModel(prefix='pk3_')\n",
    "pars += pk3_mod.guess(y, x, center=0.8)\n",
    "pars['pk3_center'].set(max=0.9, min = 0.7)\n",
    "pars['pk3_amplitude'].set(min=0)\n",
    "\n",
    "\n",
    "# Combine into full model\n",
    "mod = bkg_mod + pk1_mod + pk2_mod + pk3_mod\n",
    "\n",
    "# Run fit and store all info in a ModelResult object\n",
    "out = mod.fit(y, pars, x=x)\n",
    "FWHM = np.round(float(out.params['pk2_fwhm']), 2)\n",
    "center = np.round(float(out.params['pk2_center']), 2)\n",
    "Lc = np.round((2*np.pi*0.9)/FWHM, 2)\n",
    "\n",
    "# Plot\n",
    "axs, fig = fit_plotter(x, y, out)\n",
    "fig.set(tight_layout=True)\n",
    "\n",
    "if intensity_type == 'corr':\n",
    "    axs[0].set(ylabel=f'Meaned (Intensity * sin($\\chi$)) [arb. units]', title=f'Scherrer Coherence Length = {Lc} Å')\n",
    "    axs[1].set(title=f'Pi-Pi Peak: FWHM = {FWHM}' + ' Å$^{-1}$, ' + f'Peak Center = {center}' + ' Å$^{-1}$')\n",
    "    fig.suptitle(f'{DA.film} Film, sin($\\chi$)-corrected Linecut Fit, {chi_min}° to {chi_max}° $\\chi$, Incident Angle = {DA.incident_angle[2:-1]}°')    \n",
    "elif intensity_type =='raw':\n",
    "    axs[0].set(ylabel=f'Meaned Raw Intensity [arb. units]', title=f'Scherrer Coherence Length = {Lc} Å')\n",
    "    axs[1].set(title=f'Pi-Pi Peak: FWHM = {FWHM}' + ' Å$^{-1}$, ' + f'Peak Center = {center}' + ' Å$^{-1}$')\n",
    "    fig.suptitle(f'{DA.film} Film, Raw Intensity Linecut Fit, {chi_min}° to {chi_max}° $\\chi$, Incident Angle = {DA.incident_angle[2:-1]}°')\n",
    "\n",
    "fig.savefig(outPath.joinpath('A1-3set_waxs/linecut_fits', f'{DA.film}_{intensity_type}_{DA.incident_angle}_{chi_min}to{chi_max}chi.png'), dpi=120)\n",
    "plt.show()\n",
    "\n",
    "\n",
    "print(f'FWHM = {FWHM}, Lc = {Lc}\\n')\n",
    "display(out.best_values)"
   ]
  },
  {
   "cell_type": "code",
   "execution_count": null,
   "id": "81",
   "metadata": {},
   "outputs": [],
   "source": [
    "# A2\n",
    "intensity_type = 'corr'\n",
    "if intensity_type == 'corr':\n",
    "    DA = selected_corr_DAs[1].compute()\n",
    "elif intensity_type == 'raw':\n",
    "    DA = selected_raw_DAs[1].compute()\n",
    "else:\n",
    "    print('Must select intensity type')\n",
    "    \n",
    "OOP_linecut_DA = DA.sel(chi=slice(chi_min, chi_max), qr=slice(0.3, 1.9)).mean('chi')\n",
    "\n",
    "point_x = 0.3\n",
    "point_y = float(DA.sel(chi=slice(chi_min, chi_max), qr=slice(point_x-0.01, point_x+0.01)).mean('qr').mean('chi'))\n",
    "point_y = point_y - point_y*(0.08)\n",
    "\n",
    "x = OOP_linecut_DA.qr.data\n",
    "y = OOP_linecut_DA.data\n",
    "\n",
    "# Define all models to include in fitting\n",
    "bkg_mod = models.LinearModel(prefix='bkg_')\n",
    "# pars = bkg_mod.make_params()\n",
    "pars = bkg_mod.make_params(intercept=point_y, slope=0)\n",
    "pars['bkg_intercept'].set(vary=False)\n",
    "pars['bkg_slope'].set(vary=False)\n",
    "\n",
    "pk1_mod = models.PseudoVoigtModel(prefix='pk1_')\n",
    "# pars = pk1_mod.make_params(center=0.55)\n",
    "pars += pk1_mod.guess(y, x, center=0.55)\n",
    "# pars['pk1_amplitude'].set(min=0.5)\n",
    "\n",
    "pk2_mod = models.PseudoVoigtModel(prefix='pk2_')\n",
    "pars += pk2_mod.guess(y, x, center=1.7)\n",
    "# pars['pk2_center'].set(max = 0.62, min = 0.58)\n",
    "# pars['pk2_sigma'].set(max = 0.03)\n",
    "# pars['pk2_amplitude'].set(min=0.5)\n",
    "\n",
    "# Combine into full model\n",
    "mod = bkg_mod + pk1_mod + pk2_mod\n",
    "\n",
    "# Run fit and store all info in a ModelResult object\n",
    "out = mod.fit(y, pars, x=x)\n",
    "FWHM = np.round(float(out.params['pk2_fwhm']), 2)\n",
    "center = np.round(float(out.params['pk2_center']), 2)\n",
    "Lc = np.round((2*np.pi*0.9)/FWHM, 2)\n",
    "\n",
    "# Plot\n",
    "axs, fig = fit_plotter(x, y, out)\n",
    "fig.set(tight_layout=True)\n",
    "\n",
    "if intensity_type == 'corr':\n",
    "    axs[0].set(ylabel=f'Meaned (Intensity * sin($\\chi$)) [arb. units]', title=f'Scherrer Coherence Length = {Lc} Å')\n",
    "    axs[1].set(title=f'Pi-Pi Peak: FWHM = {FWHM}' + ' Å$^{-1}$, ' + f'Peak Center = {center}' + ' Å$^{-1}$')\n",
    "    fig.suptitle(f'{DA.film} Film, sin($\\chi$)-corrected Linecut Fit, {chi_min}° to {chi_max}° $\\chi$, Incident Angle = {DA.incident_angle[2:-1]}°')    \n",
    "elif intensity_type =='raw':\n",
    "    axs[0].set(ylabel=f'Meaned Raw Intensity [arb. units]', title=f'Scherrer Coherence Length = {Lc} Å')\n",
    "    axs[1].set(title=f'Pi-Pi Peak: FWHM = {FWHM}' + ' Å$^{-1}$, ' + f'Peak Center = {center}' + ' Å$^{-1}$')\n",
    "    fig.suptitle(f'{DA.film} Film, Raw Intensity Linecut Fit, {chi_min}° to {chi_max}° $\\chi$, Incident Angle = {DA.incident_angle[2:-1]}°')\n",
    "\n",
    "# fig.savefig(outPath.joinpath('A1-3set_waxs/linecut_fits', f'{DA.film}_{intensity_type}_{DA.incident_angle}_{chi_min}to{chi_max}chi.png'), dpi=120)\n",
    "plt.show()\n",
    "\n",
    "print(f'FWHM = {FWHM}, Lc = {Lc}\\n')\n",
    "display(out.best_values)"
   ]
  },
  {
   "cell_type": "code",
   "execution_count": null,
   "id": "82",
   "metadata": {},
   "outputs": [],
   "source": [
    "# A3\n",
    "intensity_type = 'raw'\n",
    "if intensity_type == 'corr':\n",
    "    DA = selected_corr_DAs[2].compute()\n",
    "elif intensity_type == 'raw':\n",
    "    DA = selected_raw_DAs[2].compute()\n",
    "else:\n",
    "    print('Must select intensity type')\n",
    "    \n",
    "OOP_linecut_DA = DA.sel(chi=slice(chi_min, chi_max), qr=slice(0.3, 1.9)).mean('chi')\n",
    "\n",
    "point_x = 0.3\n",
    "point_y = float(DA.sel(chi=slice(chi_min, chi_max), qr=slice(point_x-0.01, point_x+0.01)).mean('qr').mean('chi'))\n",
    "point_y = point_y - point_y*(0.08)\n",
    "\n",
    "x = OOP_linecut_DA.qr.data\n",
    "y = OOP_linecut_DA.data\n",
    "\n",
    "# Define all models to include in fitting\n",
    "bkg_mod = models.LinearModel(prefix='bkg_')\n",
    "# pars = bkg_mod.make_params()\n",
    "pars = bkg_mod.make_params(intercept=point_y, slope=0)\n",
    "pars['bkg_intercept'].set(vary=False)\n",
    "pars['bkg_slope'].set(vary=False)\n",
    "\n",
    "pk1_mod = models.PseudoVoigtModel(prefix='pk1_')\n",
    "# pars = pk1_mod.make_params(center=0.55)\n",
    "pars += pk1_mod.guess(y, x, center=0.55)\n",
    "# pars['pk1_amplitude'].set(min=0.5)\n",
    "\n",
    "pk2_mod = models.PseudoVoigtModel(prefix='pk2_')\n",
    "pars += pk2_mod.guess(y, x, center=1.7)\n",
    "# pars['pk2_center'].set(max = 0.62, min = 0.58)\n",
    "# pars['pk2_sigma'].set(max = 0.03)\n",
    "# pars['pk2_amplitude'].set(min=0.5)\n",
    "\n",
    "# Combine into full model\n",
    "mod = bkg_mod + pk1_mod + pk2_mod\n",
    "\n",
    "# Run fit and store all info in a ModelResult object\n",
    "out = mod.fit(y, pars, x=x)\n",
    "FWHM = np.round(float(out.params['pk2_fwhm']), 2)\n",
    "center = np.round(float(out.params['pk2_center']), 2)\n",
    "Lc = np.round((2*np.pi*0.9)/FWHM, 2)\n",
    "\n",
    "# Plot\n",
    "axs, fig = fit_plotter(x, y, out)\n",
    "fig.set(tight_layout=True)\n",
    "FWHM = np.round(float(out.params['pk2_fwhm']), 2)\n",
    "Lc = np.round((2*np.pi*0.9)/FWHM, 2)\n",
    "\n",
    "if intensity_type == 'corr':\n",
    "    axs[0].set(ylabel=f'Meaned (Intensity * sin($\\chi$)) [arb. units]', title=f'Scherrer Coherence Length = {Lc} Å')\n",
    "    axs[1].set(title=f'Pi-Pi Peak: FWHM = {FWHM}' + ' Å$^{-1}$, ' + f'Peak Center = {center}' + ' Å$^{-1}$')\n",
    "    fig.suptitle(f'{DA.film} Film, sin($\\chi$)-corrected Linecut Fit, {chi_min}° to {chi_max}° $\\chi$, Incident Angle = {DA.incident_angle[2:-1]}°')    \n",
    "elif intensity_type =='raw':\n",
    "    axs[0].set(ylabel=f'Meaned Raw Intensity [arb. units]', title=f'Scherrer Coherence Length = {Lc} Å')\n",
    "    axs[1].set(title=f'Pi-Pi Peak: FWHM = {FWHM}' + ' Å$^{-1}$, ' + f'Peak Center = {center}' + ' Å$^{-1}$')\n",
    "    fig.suptitle(f'{DA.film} Film, Raw Intensity Linecut Fit, {chi_min}° to {chi_max}° $\\chi$, Incident Angle = {DA.incident_angle[2:-1]}°')\n",
    "\n",
    "fig.savefig(outPath.joinpath('A1-3set_waxs/linecut_fits', f'{DA.film}_{intensity_type}_{DA.incident_angle}_{chi_min}to{chi_max}chi.png'), dpi=120)\n",
    "plt.show()\n",
    "\n",
    "print(f'FWHM = {FWHM}, Lc = {Lc}\\n')\n",
    "display(out.best_values)\n"
   ]
  },
  {
   "cell_type": "markdown",
   "id": "83",
   "metadata": {
    "tags": []
   },
   "source": [
    "#### Less messy PM6 films fitting below:"
   ]
  },
  {
   "cell_type": "code",
   "execution_count": null,
   "id": "84",
   "metadata": {
    "tags": []
   },
   "outputs": [],
   "source": [
    "%matplotlib inline"
   ]
  },
  {
   "cell_type": "code",
   "execution_count": null,
   "id": "85",
   "metadata": {
    "tags": []
   },
   "outputs": [],
   "source": [
    "def lamella_lmfit(DA, q_min, q_max, bkg_point_x=0.6):\n",
    "    \"\"\"\n",
    "    Function currently utilizes global variables, define in notebook!\n",
    "    \n",
    "    \"\"\"\n",
    "    point_x = bkg_point_x\n",
    "    point_y = float(DA.sel(qr=slice(point_x-0.01, point_x+0.01)).mean('qr'))\n",
    "    point_y = point_y - point_y*(0.05)\n",
    "\n",
    "    x = DA.qr.data\n",
    "    y = DA.data\n",
    "\n",
    "    # Define all models to include in fitting\n",
    "    bkg_mod = models.LinearModel(prefix='bkg_')\n",
    "    pars = bkg_mod.make_params(intercept=point_y, slope=0)\n",
    "    pars['bkg_intercept'].set(vary=True)\n",
    "    pars['bkg_slope'].set(vary=False)\n",
    "    \n",
    "    exp_mod = models.ExponentialModel(prefix='exp_')\n",
    "    pars += exp_mod.make_params(decay=0.05, amplitude=1)\n",
    "    pars['exp_decay'].set(min=0.01, max=100)\n",
    "    pars['exp_amplitude'].set(min=0.1, max=1000)\n",
    "    \n",
    "    pk1_mod = models.PseudoVoigtModel(prefix='pk1_')\n",
    "    pars += pk1_mod.guess(y, x, center=0.32)\n",
    "\n",
    "    # Combine into full model\n",
    "    mod = bkg_mod + exp_mod + pk1_mod\n",
    "\n",
    "    # Run fit and store all info in a ModelResult object\n",
    "    out = mod.fit(y, pars, x=x)\n",
    "    return out\n",
    "\n",
    "def full_lamella_fit(sliced_DA, q_min, q_max, bkg_point_x=0.6, show_plot=True):   \n",
    "    # Run lmfit\n",
    "    out = lamella_lmfit(sliced_DA, q_min, q_max, bkg_point_x)\n",
    "    FWHM = np.round(float(out.params['pk1_fwhm']), 2)\n",
    "    Lc = np.round((2*np.pi*0.9)/float(out.params['pk1_fwhm']), 2)\n",
    "    center = np.round(float(out.params['pk1_center']), 2)\n",
    "    dspacing = np.round((2*np.pi)/float(out.params['pk1_center']), 2)\n",
    "    \n",
    "    rsquared = np.round(out.rsquared, 2)\n",
    "    redchi = np.round(out.redchi, 2)\n",
    "\n",
    "    AA1 = '$\\AA^{-1}$'\n",
    "    \n",
    "    # Plot\n",
    "    q = sliced_DA.qr.data\n",
    "    I = sliced_DA.data\n",
    "    \n",
    "    fig, ax = plt.subplots()\n",
    "    fig.set(size_inches=(6.5,3.5), dpi=120, tight_layout=True)\n",
    "    fig.suptitle(\n",
    "        f'Lamella peak: {sliced_DA.material} {sliced_DA.solvent}, {float(sliced_DA.incident_angle[2:])}° incidence; {sliced_DA.chi_slice}° chi range',\n",
    "        fontsize=13, y=0.94, x=0.53)\n",
    "       \n",
    "    ax.plot(q, I, label='data', linewidth=2.5)\n",
    "    ax.plot(q, out.best_fit, '--', label='full_fit')\n",
    "    for key in out.eval_components():\n",
    "        ax.plot(q, out.eval_components()[key], label=f'{key}')\n",
    "    ax.set(xlabel=f'Q [{AA1}]', ylabel='Intensity [arb. units]')\n",
    "    ax.set_title(\n",
    "        f'Center = {center}, FWHM = {FWHM} {AA1} (d-spacing = {dspacing}, $L_c$ = {Lc} $\\AA$)')\n",
    "    ax.legend(title=f'$R^2$ = {rsquared}, $\\chi_r$ = {redchi}')\n",
    "    ax.grid(visible=True, axis='x')\n",
    "        \n",
    "    \n",
    "    FWHM = np.round(float(out.params['pk1_fwhm']), 2)\n",
    "    Lc = np.round((2*np.pi*0.9)/FWHM, 2)  # calculate scherrer coherence length\n",
    "\n",
    "    if show_plot:\n",
    "        plt.show()\n",
    "    \n",
    "    return out, fig, ax"
   ]
  },
  {
   "cell_type": "code",
   "execution_count": null,
   "id": "86",
   "metadata": {
    "tags": []
   },
   "outputs": [],
   "source": [
    "# Overview plot(s)\n",
    "\n",
    "# Set lims\n",
    "oop_chi_min = 10\n",
    "oop_chi_max = 30\n",
    "\n",
    "ip_chi_min = 65\n",
    "ip_chi_max = 82\n",
    "\n",
    "# q_min = 0.1\n",
    "# q_max = 2.04\n",
    "\n",
    "q_min = 0.15\n",
    "q_max = 0.45\n",
    "\n",
    "# Set savePath\n",
    "# savePath = outPath.joinpath('fix/stacked_linecut_plots_v1')\n",
    "\n",
    "for th in ['th0.080', 'th0.100', 'th0.120', 'th0.140']:\n",
    "    # Select attributes\n",
    "    selected_attrs_dict = {'material': ['PM6'],  \n",
    "                           # 'solvent': ['CF', 'CB'],\n",
    "                           # 'solvent': ['CFCN', 'CBCN'],\n",
    "                           'incident_angle': [th]}\n",
    "    selected_DAs = select_attrs(folded_corr_DAs, selected_attrs_dict)\n",
    "\n",
    "\n",
    "    # Define the figure and subplots\n",
    "    fig, axs = plt.subplots(4, 1, figsize=(6, 8), sharex=True, dpi=120)\n",
    "    colors = plt.cm.turbo(np.linspace(0,0.9,len(selected_DAs)))  \n",
    "\n",
    "    # Adjust the spacing between plots\n",
    "    fig.subplots_adjust(hspace=0.005)  # Adjust this value as needed to minimize white space\n",
    "\n",
    "    for i, DA in enumerate(tqdm(selected_DAs)):\n",
    "        # Plotting each line in its subplot\n",
    "        # OOP\n",
    "        OOP_linecut_DA = DA.sel(chi=slice(oop_chi_min, oop_chi_max), qr=slice(q_min,q_max)).integrate('chi') / np.abs(oop_chi_max - oop_chi_min)\n",
    "        OOP_linecut_DA = OOP_linecut_DA / float(OOP_linecut_DA.sel(qr=slice(0.2,0.4)).max())\n",
    "        OOP_linecut_DA.plot.line(color=colors[i], ax=axs[0], label=f'{DA.solvent}')\n",
    "\n",
    "        # Diagonal\n",
    "        Diagonal_linecut_DA = DA.sel(chi=slice(oop_chi_max, ip_chi_min), qr=slice(q_min,q_max)).integrate('chi') / np.abs(ip_chi_min - oop_chi_max)\n",
    "        # Diagonal_linecut_DA.plot.line(color=colors[i+2], ax=axs[1], label=f'Diagonal, {oop_chi_max}-{ip_chi_min}°' + r' $\\chi$, ' + f'$\\\\alpha_i$ = {float(DA.incident_angle[2:])}°')\n",
    "        Diagonal_linecut_DA = Diagonal_linecut_DA / float(Diagonal_linecut_DA.sel(qr=slice(0.2,0.4)).max())\n",
    "        Diagonal_linecut_DA.plot.line(color=colors[i], ax=axs[1], label=f'{DA.solvent}')\n",
    "\n",
    "        # IP\n",
    "        IP_linecut_DA = DA.sel(chi=slice(ip_chi_min, ip_chi_max), qr=slice(q_min,q_max)).integrate('chi') / np.abs(ip_chi_max - ip_chi_min)\n",
    "        # IP_linecut_DA.plot.line(color=colors[i+4], ax=axs[2], label=f'In-plane, {ip_chi_min}-{ip_chi_max}°' + r' $\\chi$, ' + f'$\\\\alpha_i$ = {float(DA.incident_angle[2:])}°')\n",
    "        IP_linecut_DA = IP_linecut_DA / float(IP_linecut_DA.sel(qr=slice(0.2,0.4)).max())\n",
    "        IP_linecut_DA.plot.line(color=colors[i], ax=axs[2], label=f'{DA.solvent}')\n",
    "\n",
    "        # Full\n",
    "        Full_linecut_DA = DA.sel(chi=slice(oop_chi_min, ip_chi_max), qr=slice(q_min,q_max)).integrate('chi') / 90\n",
    "        # Full_linecut_DA.plot.line(color=colors[i+6], ax=axs[3], label=f'Full, {oop_chi_min}-{ip_chi_max}°' + r' $\\chi$, ' + f'$\\\\alpha_i$ = {float(DA.incident_angle[2:])}°')\n",
    "        Full_linecut_DA = Full_linecut_DA / float(Full_linecut_DA.sel(qr=slice(0.2,0.4)).max())\n",
    "        Full_linecut_DA.plot.line(color=colors[i], ax=axs[3], label=f'{DA.solvent}')\n",
    "\n",
    "    # Add legends and gridlines to each subplot\n",
    "    for ax in axs:\n",
    "        ax.grid(True, which='major', axis='x')  # Add gridlines\n",
    "        ax.xaxis.set_major_locator(ticker.AutoLocator())  # Set major tick locator\n",
    "        ax.xaxis.set_minor_locator(ticker.AutoMinorLocator())  # Set minor tick locator\n",
    "        ax.set_ylabel('')\n",
    "\n",
    "    axs[0].text(0.01, 0.88, f'Out-of-plane, {oop_chi_min}-{oop_chi_max}°' + r' $\\chi$', fontsize=12,\n",
    "                horizontalalignment='left', transform=axs[0].transAxes)\n",
    "    axs[1].text(0.01, 0.88, f'Diagonal, {oop_chi_max}-{ip_chi_min}°' + r' $\\chi$', fontsize=12,\n",
    "                horizontalalignment='left', transform=axs[1].transAxes)\n",
    "    axs[2].text(0.01, 0.88, f'In-plane, {ip_chi_min}-{ip_chi_max}°' + r' $\\chi$', fontsize=12,\n",
    "                horizontalalignment='left', transform=axs[2].transAxes)\n",
    "    axs[3].text(0.01, 0.88, f'Full, {oop_chi_min}-{ip_chi_max}°' + r' $\\chi$', fontsize=12,\n",
    "                horizontalalignment='left', transform=axs[3].transAxes)\n",
    "    axs[0].legend(fontsize=10)\n",
    "\n",
    "\n",
    "    # Add axis labels\n",
    "    axs[-1].set_xlabel('$q_r$ $[Å^{-1}]$', fontsize=12)\n",
    "    fig.text(0.01, 0.5, 'Peak-normalized intensities [arb. units]', va='center', rotation='vertical', fontsize=12)\n",
    "\n",
    "    fig.suptitle(f'{DA.material} {float(DA.incident_angle[2:])}° incidence: $\\\\chi$ linecuts, $\\\\chi$-width normed', y=0.91, fontsize=13)\n",
    "    \n",
    "    savePath = outPath.joinpath('fix/stacked_linecuts_lamella-region_v1')\n",
    "    savePath.mkdir(exist_ok=True)\n",
    "    fig.savefig(savePath.joinpath(f'sinchi-folded_{DA.material}_{DA.incident_angle}_q{q_min}to{q_max}.png'), dpi=120)    \n",
    "    \n",
    "    # plt.show()\n",
    "    \n",
    "    plt.close('all')"
   ]
  },
  {
   "cell_type": "code",
   "execution_count": null,
   "id": "87",
   "metadata": {
    "tags": []
   },
   "outputs": [],
   "source": [
    "# Peak fitting\n",
    "\n",
    "# Select attributes\n",
    "selected_attrs_dict = {'material': ['PM6'],  \n",
    "                       # 'solvent': ['CF', 'CB'],\n",
    "                       # 'solvent': ['CFCN', 'CBCN'],\n",
    "                       'incident_angle': ['th0.080', 'th0.100', 'th0.120', 'th0.140']}\n",
    "# selected_attrs_dict = {}\n",
    "\n",
    "selected_DAs = select_attrs(folded_corr_DAs, selected_attrs_dict)\n",
    "\n",
    "\n",
    "all_outs = {}\n",
    "for DA in tqdm(selected_DAs):\n",
    "    # Set lims\n",
    "    oop_chi_min = 10\n",
    "    oop_chi_max = 30\n",
    "\n",
    "    ip_chi_min = 65\n",
    "    ip_chi_max = 82\n",
    "\n",
    "    # Define chi slice dictionary:\n",
    "    chi_slices = {'OOP': slice(oop_chi_min, oop_chi_max),\n",
    "                  'diag': slice(oop_chi_max, ip_chi_min),\n",
    "                  'IP': slice(ip_chi_min, ip_chi_max),\n",
    "                  'full': slice(oop_chi_min, ip_chi_max)}\n",
    "\n",
    "    # Set q limits for fitting area\n",
    "    q_min = 0.1\n",
    "    q_max = 0.65\n",
    "\n",
    "    # Loop over each chi slice: make linecut DA, run lmfit, plot, & store results\n",
    "    outs = {}\n",
    "    for key in chi_slices.keys():\n",
    "        sliced_DA = DA.sel(chi=chi_slices[key], qr=slice(q_min,q_max)).integrate('chi') / np.abs(chi_slices[key].stop - chi_slices[key].start)\n",
    "        # sliced_DA = sliced_DA / float(sliced_DA.sel(qr=slice(0.2,0.4)).max())  # normalize by peak maximum\n",
    "        sliced_DA.attrs = DA.attrs # assign attrs\n",
    "        sliced_DA.attrs['chi_slice'] = (chi_slices[key].start, chi_slices[key].stop)  # add chi slice attribute\n",
    "        sliced_DA = sliced_DA.where(~np.isnan(sliced_DA), drop=True)  # drop nans\n",
    "        \n",
    "        outs[key], fig, ax = full_lamella_fit(sliced_DA, q_min, q_max, show_plot=False)\n",
    "        plt.close('all')\n",
    "        \n",
    "        savePath = outPath.joinpath('fix/lamella_linefits_v1')\n",
    "        fig.savefig(savePath.joinpath(f'sinchi-folded_{DA.material}-{DA.solvent}_{DA.incident_angle}_chi{chi_slices[key].start}to{chi_slices[key].stop}_q{q_min}to{q_max}.png'), dpi=120)\n",
    "        \n",
    "    all_outs[f'{DA.material}_{DA.solvent}_{DA.incident_angle}'] = outs"
   ]
  },
  {
   "cell_type": "markdown",
   "id": "88",
   "metadata": {
    "tags": []
   },
   "source": [
    "## ISI Plots"
   ]
  },
  {
   "cell_type": "code",
   "execution_count": null,
   "id": "89",
   "metadata": {},
   "outputs": [],
   "source": [
    "# DA = rsoxs_datasets['polar_carbon']['corr_intensity']\n",
    "# DA.sel(sample_info='Y6_CB_3000', polarization=0, q=slice(0.001, 0.03)).sel(energy=398.8, method='nearest').plot(norm=LogNorm(1e9, 1e11), cmap=plt.cm.turbo)\n",
    "# plt.show()"
   ]
  },
  {
   "cell_type": "code",
   "execution_count": null,
   "id": "90",
   "metadata": {},
   "outputs": [],
   "source": [
    "outPath"
   ]
  },
  {
   "cell_type": "code",
   "execution_count": null,
   "id": "91",
   "metadata": {
    "tags": []
   },
   "outputs": [],
   "source": [
    "# make selection\n",
    "DS = caked_DS.copy()\n",
    "\n",
    "# make selection\n",
    "q_slice = slice(0.05, 0.8)\n",
    "chi_width = 90\n",
    "energy_slice = slice(2470, 2485)\n",
    "\n",
    "for sample_info in tqdm(unique_sample_infos):\n",
    "    for theta in [90, 55, 35]:\n",
    "        para_DA, perp_DA = make_para_perp_DAs(DS, sample_info, theta, chi_width) \n",
    "        \n",
    "        para_DA = para_DA.where(para_DA>0.4).where(para_DA<(para_DA.max()*0.03))  #.interpolate_na(dim='chi')\n",
    "        # para_DA.sel(energy=2477.2,method='nearest').sel(q_red=slice(0.05, 0.7)).plot.imshow()\n",
    "        # plt.title('para')\n",
    "        # plt.show()\n",
    "        \n",
    "        perp_DA = perp_DA.where(perp_DA>0.4).where(perp_DA<(perp_DA.max()*0.03))  #.interpolate_na(dim='chi')\n",
    "        # perp_DA.sel(energy=2477.2,method='nearest').sel(q_red=slice(0.05, 0.7)).plot.imshow()\n",
    "        # plt.title('perp')\n",
    "        # plt.show()\n",
    "        # plt.close('all')\n",
    "    \n",
    "\n",
    "        # slice ISI data\n",
    "        para_ISI = para_DA.sel(q_red=q_slice).mean('chi').integrate('q_red')\n",
    "        perp_ISI = perp_DA.sel(q_red=q_slice).mean('chi').integrate('q_red')\n",
    "\n",
    "        # plot\n",
    "        fig, ax = plt.subplots(figsize=(6,4), dpi=120)\n",
    "\n",
    "        para_ISI.sel(energy=energy_slice).plot.line(ax=ax, label='$\\parallel$', yscale='log')\n",
    "        perp_ISI.sel(energy=energy_slice).plot.line(ax=ax, label='$\\perp$', yscale='log')\n",
    "        fig.suptitle(f'ISI: {sample_info}', fontsize=14, x=0.55)\n",
    "        ax.set(title=f'$\\\\theta$ = {theta}°, chi width = {chi_width}°, Q = ({q_slice.start}, {q_slice.stop}) ' + 'Å$^{-1}$', \n",
    "               xlabel='X-ray energy [eV]', ylabel='Intensity [arb. units]')\n",
    "        ax.legend(loc='upper right', fontsize=14)\n",
    "        ax.grid(axis='x')\n",
    "        plt.subplots_adjust(top=0.86, bottom=0.2, left=0.2)\n",
    "        \n",
    "        fig.savefig(outPath.joinpath('trexs_plots/ISIs_v1', \n",
    "            f'{sample_info}_theta-{theta}deg_chiWidth-{chi_width}deg_q-{q_slice.start}-{q_slice.stop}_energy{energy_slice.start}-{energy_slice.stop}.png'),\n",
    "            dpi=120)\n",
    "\n",
    "        # plt.show()\n",
    "        plt.close('all')"
   ]
  },
  {
   "cell_type": "markdown",
   "id": "92",
   "metadata": {
    "tags": []
   },
   "source": [
    "## 2D Linecut Maps"
   ]
  },
  {
   "cell_type": "code",
   "execution_count": null,
   "id": "93",
   "metadata": {
    "tags": []
   },
   "outputs": [],
   "source": [
    "# make selection\n",
    "DS = caked_DS.copy()\n",
    "\n",
    "# make selection\n",
    "q_slice = slice(0.05, 0.8)\n",
    "chi_width = 90\n",
    "energy_slice = slice(2470, 2485)\n",
    "\n",
    "for sample_info in tqdm(unique_sample_infos):\n",
    "    for theta in [90, 55, 35]:\n",
    "        para_DA, perp_DA = make_para_perp_DAs(DS, sample_info, theta, chi_width) \n",
    "        \n",
    "        para_DA = para_DA.where(para_DA>0.4).where(para_DA<(para_DA.max()*0.03))  #.interpolate_na(dim='chi')\n",
    "        # para_DA.sel(energy=2477.2,method='nearest').sel(q_red=slice(0.05, 0.7)).plot.imshow()\n",
    "        # plt.title('para')\n",
    "        # plt.show()\n",
    "        \n",
    "        perp_DA = perp_DA.where(perp_DA>0.4).where(perp_DA<(perp_DA.max()*0.03))  #.interpolate_na(dim='chi')\n",
    "        # perp_DA.sel(energy=2477.2,method='nearest').sel(q_red=slice(0.05, 0.7)).plot.imshow()\n",
    "        # plt.title('perp')\n",
    "        # plt.show()\n",
    "        # plt.close('all')\n",
    "\n",
    "        # Plot\n",
    "        fig, axs = plt.subplots(1, 2, figsize=(10,5))\n",
    "        cmin = float(para_DA.compute().quantile(0.1))\n",
    "        cmax = float(para_DA.compute().quantile(0.99))\n",
    "\n",
    "        para_slice = para_DA.mean('chi').sel(q_red=q_slice, energy=energy_slice)  # .plot(ax=axs[0], cmap=cmap, norm=LogNorm(cmin, cmax), add_colorbar=False)\n",
    "        perp_slice = perp_DA.mean('chi').sel(q_red=q_slice, energy=energy_slice)  # .plot(ax=axs[1], cmap=cmap, norm=LogNorm(cmin, cmax), add_colorbar=False)\n",
    "\n",
    "        para_slice.plot(ax=axs[0], cmap=cmap, norm=plt.Normalize(cmin, cmax), add_colorbar=False)\n",
    "        perp_slice.plot(ax=axs[1], cmap=cmap, norm=plt.Normalize(cmin, cmax), add_colorbar=False)\n",
    "\n",
    "        # Add colorbar\n",
    "        sm = plt.cm.ScalarMappable(cmap=cmap, norm=plt.Normalize(cmin, cmax)) # Create a ScalarMappable object with the colormap and normalization & add the colorbar to the figure\n",
    "        cax = axs[1].inset_axes([1.03, 0, 0.05, 1])\n",
    "        cbar = fig.colorbar(sm, cax=cax, orientation='vertical')\n",
    "        cbar.set_label(label='Intensity [arb. units]', labelpad=12, rotation=270)\n",
    "\n",
    "        fig.suptitle(f'Intensity maps: {sample_info}, $\\\\theta$ = {theta}°, $\\\\chi$ width = {chi_width}°', fontsize=14)\n",
    "        fig.set(tight_layout=True)\n",
    "\n",
    "        axs[0].set(xscale='linear', title='Parallel to $E_p$', ylabel='Photon energy [eV]', xlabel='Q [$Å^{-1}$]')\n",
    "        axs[1].set(xscale='linear', title='Perpendicular to $E_p$ ', ylabel=None, xlabel='Q [$Å^{-1}$]')\n",
    "\n",
    "        fig.savefig(outPath.joinpath('trexs_plots/I_maps_v1', \n",
    "                    f'{sample_info}_theta-{theta}deg_chiWidth-{chi_width}deg_q-{q_slice.start}-{q_slice.stop}_energy{energy_slice.start}-{energy_slice.stop}.png'), \n",
    "                    dpi=120)\n",
    "\n",
    "        # plt.show()\n",
    "        plt.close('all')"
   ]
  },
  {
   "cell_type": "code",
   "execution_count": null,
   "id": "94",
   "metadata": {},
   "outputs": [],
   "source": [
    "# a = para_EvsQ_avg.hvplot.line(groupby=\"energy\", loglog=True)\n",
    "# a * perp_EvsQ_avg.hvplot.line(groupby=\"energy\")"
   ]
  }
 ],
 "metadata": {
  "kernelspec": {
   "display_name": "Python 3 (ipykernel)",
   "language": "python",
   "name": "python3"
  },
  "language_info": {
   "codemirror_mode": {
    "name": "ipython",
    "version": 3
   },
   "file_extension": ".py",
   "mimetype": "text/x-python",
   "name": "python",
   "nbconvert_exporter": "python",
   "pygments_lexer": "ipython3",
   "version": "3.11.6"
  }
 },
 "nbformat": 4,
 "nbformat_minor": 5
}
