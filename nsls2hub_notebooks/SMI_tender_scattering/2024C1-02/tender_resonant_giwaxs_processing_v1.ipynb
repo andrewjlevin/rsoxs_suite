{
 "cells": [
  {
   "cell_type": "markdown",
   "id": "36d029a2-99c0-43a3-ac96-a5725cecf355",
   "metadata": {},
   "source": [
    "# 2024C1-01 SMI WAXS TReXS processing notebook "
   ]
  },
  {
   "cell_type": "markdown",
   "id": "225b20cb-a005-4365-b37b-e2823f03b568",
   "metadata": {},
   "source": [
    "## Imports"
   ]
  },
  {
   "cell_type": "code",
   "execution_count": null,
   "id": "4a2936b0-4179-40cd-a142-dadf01a15cd4",
   "metadata": {
    "tags": []
   },
   "outputs": [],
   "source": [
    "import pathlib\n",
    "import os\n",
    "import numpy as np\n",
    "import matplotlib.pyplot as plt\n",
    "import xarray as xr\n",
    "from PIL import Image\n",
    "from tqdm.auto import tqdm \n",
    "\n",
    "import fabio\n",
    "from smi_analysis import SMI_beamline"
   ]
  },
  {
   "cell_type": "markdown",
   "id": "c9f785b4-e735-4229-bd79-98d9631e01ee",
   "metadata": {
    "tags": []
   },
   "source": [
    "## Define paths & functions"
   ]
  },
  {
   "cell_type": "raw",
   "id": "2db18a56-4dad-42ac-8340-0c116874ccc3",
   "metadata": {},
   "source": [
    "Raw text paths for the purpose of pasting into terminal to copy/move/zip data:\n",
    "\n",
    "Raw Paths:\n",
    "/nsls2/data/smi/legacy/results/data/2024_1/313064_Davis\n",
    "\n",
    "SMI Analysis Data Paths:\n",
    "/nsls2/data/smi/legacy/results/analysis/2024_1/313064_Davis\n",
    "\n",
    "Our proposal path:\n",
    "/nsls2/data/smi/proposals/2024-1/pass-313064\n",
    "\n",
    "Rclone copy statement to paste:\n",
    "rclone --dry-run copy -LP /nsls2/data/smi/legacy/results/data/2024_1/313064_Davis/900KW /nsls2/data/smi/proposals/2024-1/pass-313064/900KW"
   ]
  },
  {
   "cell_type": "code",
   "execution_count": null,
   "id": "a7d2c5de-3773-44f7-bd93-fc6a16076bd6",
   "metadata": {
    "tags": []
   },
   "outputs": [],
   "source": [
    "# Define a sample id to sample name dictionary\n",
    "# sn = {\n",
    "#     14: 'PM6_CB',\n",
    "#     17: 'PM6_1CN-CB',\n",
    "#     18: 'PM6_5CN-CB',\n",
    "#     21: 'PM6_p5CN-CB',\n",
    "#     22: 'PM6-Y6_CB',\n",
    "#     23: 'PM6-Y6BO_CB',\n",
    "#     26: 'PM6_CF',\n",
    "#     29: 'PM6_1CN-CF',\n",
    "#     30: 'PM6_5CN-CF',\n",
    "#     33: 'PM6_p5CN-CF',\n",
    "#     34: 'PM6-Y6_CF',\n",
    "#     35: 'PM6-Y6BO_CF',\n",
    "#     1: 'BareSiN_01',\n",
    "#     3: 'BareSiN_03'\n",
    "# }"
   ]
  },
  {
   "cell_type": "code",
   "execution_count": null,
   "id": "b6f7a0e4-9833-45d0-b1c3-426d56bc4538",
   "metadata": {
    "tags": []
   },
   "outputs": [],
   "source": [
    "propPath = pathlib.Path('/nsls2/data/smi/proposals/2024-1/pass-313064')\n",
    "\n",
    "rawPath = propPath.joinpath('900KW')\n",
    "\n",
    "# analysisPath = pathlib.Path('/nsls2/users/alevin/rsoxs_suite/sst1_notebooks/SMI_tender_scattering/analysis_02')\n",
    "# reducedPath = analysisPath.joinpath('reduced_waxs')"
   ]
  },
  {
   "cell_type": "code",
   "execution_count": null,
   "id": "afd52010-ac3f-4f54-9c0d-be9d94abdc56",
   "metadata": {
    "tags": []
   },
   "outputs": [],
   "source": [
    "rawPath.exists()"
   ]
  },
  {
   "cell_type": "markdown",
   "id": "19b59d96-776f-4303-bf7c-352e54677a69",
   "metadata": {
    "tags": []
   },
   "source": [
    "### SMI function"
   ]
  },
  {
   "cell_type": "code",
   "execution_count": null,
   "id": "550ae574-801c-4a22-a8b5-c67f9b1086f2",
   "metadata": {
    "tags": []
   },
   "outputs": [],
   "source": [
    "def giwaxs_SMI_numpy_loading(path, filename_sublists):\n",
    "    \"\"\"\n",
    "    Function adapted from Guillames SMI notebooks to process raw giwaxs tiffs:\n",
    "    \n",
    "    Returns filename_wa0_list, recip_list, recip_extents, caked_list, caked_extents\n",
    "    \"\"\"\n",
    "    \n",
    "    # Geometries, esc./\n",
    "    geometry = 'Reflection'\n",
    "    bs_kind = None\n",
    "    detector_waxs = 'Pilatus900kw'\n",
    "    sdd_waxs = 277\n",
    "    center_waxs = [95, 1256]\n",
    "    bs_pos_waxs = [[97, 1070], [0, 0], [0, 0]]\n",
    "    \n",
    "    flatPath = pathlib.Path('/nsls2/data/smi/legacy/results/analysis/2024_1/314483_Freychet_04')\n",
    "    flatfield = np.rot90(fabio.open(flatPath.joinpath('GF_Flatfield_Sedge_uhighg1600eV_10s_wa20_2477eV_pffBT4T_id481136_000000_WAXS.tif')).data, 1)\n",
    "\n",
    "    \n",
    "    filename_wa0_list = []\n",
    "    recip_list = []\n",
    "    recip_extents = []\n",
    "    caked_list = []\n",
    "    caked_extents = []\n",
    "    for dat in tqdm(filename_sublists, desc='Processing tiffs'):        \n",
    "        idx = dat[0].find('eV')\n",
    "        energy = 0.001*float(dat[0][idx-7:idx])\n",
    "        wav = 1E-10 * (12.398/energy)\n",
    "\n",
    "        waxs_angle = []\n",
    "        for da in dat:\n",
    "            idx2 = da.find('wa')\n",
    "            idx3 = da.find('_bpm')\n",
    "            waxs_angle = waxs_angle + [np.deg2rad(float(da[idx2+2:idx3]))]\n",
    "\n",
    "        alphai=np.deg2rad(0.8)\n",
    "\n",
    "        #This part is to stitch the data\n",
    "        SMI_waxs = SMI_beamline.SMI_geometry(geometry = geometry,\n",
    "                                             detector = detector_waxs,\n",
    "                                             sdd = sdd_waxs,\n",
    "                                             wav = wav,\n",
    "                                             alphai = alphai,\n",
    "                                             center = center_waxs,\n",
    "                                             bs_pos = bs_pos_waxs,\n",
    "                                             det_angles = waxs_angle,\n",
    "                                             bs_kind = None)\n",
    "\n",
    "\n",
    "        SMI_waxs.open_data(path, dat)\n",
    "\n",
    "#             SMI_waxs.masks[1][1254, 47], SMI_waxs.masks[1][1255, 47]=True, True\n",
    "#             SMI_waxs.masks[4][1254, 47], SMI_waxs.masks[4][1255, 47]=True, True\n",
    "\n",
    "#             SMI_waxs.masks[1][979:1050, 0:100], SMI_waxs.masks[4][979:1050, 0:100]=True, True\n",
    "#             SMI_waxs.masks[1][967, 67], SMI_waxs.masks[4][967, 67]=True, True\n",
    "\n",
    "#             SMI_waxs.masks[1][490:555, 100:], SMI_waxs.masks[4][490:555, 100:]=True, True\n",
    "\n",
    "#             SMI_waxs.masks[1][1231, 174], SMI_waxs.masks[1][1232, 174]=True, True\n",
    "#             SMI_waxs.masks[4][1231, 174], SMI_waxs.masks[4][1232, 174]=True, True\n",
    "\n",
    "#             SMI_waxs.masks[1][1414, 179], SMI_waxs.masks[1][1415, 179]=True, True\n",
    "#             SMI_waxs.masks[4][1414, 179], SMI_waxs.masks[4][1415, 179]=True, True\n",
    "\n",
    "#             SMI_waxs.masks[1][858, 5], SMI_waxs.masks[1][859, 5]=True, True\n",
    "#             SMI_waxs.masks[4][858, 5], SMI_waxs.masks[4][859, 5]=True, True\n",
    "\n",
    "#             SMI_waxs.masks[1][414, 6], SMI_waxs.masks[4][414, 6], =True, True\n",
    "#             SMI_waxs.masks[1][394, 138], SMI_waxs.masks[4][394, 138]=True, True\n",
    "\n",
    "#             SMI_waxs.masks[1][364, 41], SMI_waxs.masks[1][365, 41]=True, True\n",
    "#             SMI_waxs.masks[4][364, 41], SMI_waxs.masks[4][365, 41]=True, True\n",
    "\n",
    "#             SMI_waxs.masks[1][364, 96], SMI_waxs.masks[1][365, 96]=True, True\n",
    "#             SMI_waxs.masks[4][364, 96], SMI_waxs.masks[4][365, 96]=True, True\n",
    "\n",
    "#             SMI_waxs.masks[1][304, 96], SMI_waxs.masks[1][305, 96], SMI_waxs.masks[1][304, 97], SMI_waxs.masks[1][305, 97]=True, True, True, True\n",
    "#             SMI_waxs.masks[4][304, 96], SMI_waxs.masks[4][305, 96], SMI_waxs.masks[4][304, 97], SMI_waxs.masks[4][305, 97]=True, True, True, True\n",
    "\n",
    "#             SMI_waxs.masks[1][181, 97], SMI_waxs.masks[1][182, 97], SMI_waxs.masks[1][181, 98], SMI_waxs.masks[1][182, 98]=True, True, True, True\n",
    "#             SMI_waxs.masks[4][181, 97], SMI_waxs.masks[4][182, 97], SMI_waxs.masks[4][181, 98], SMI_waxs.masks[4][182, 98]=True, True, True, True\n",
    "\n",
    "#         for i, (img, mask) in enumerate(zip(SMI_waxs.imgs, SMI_waxs.masks)):\n",
    "#             if i%3==0:\n",
    "#                 SMI_waxs.imgs[i] = SMI_waxs.imgs[i]/flatfield[:, :195]+1E-7\n",
    "#                 SMI_waxs.masks[i][np.where(flatfield[:, :195]<1)] = True\n",
    "\n",
    "#             if i%3==1:\n",
    "#                 SMI_waxs.imgs[i] = SMI_waxs.imgs[i]/flatfield[:, 211:406]+1E-7\n",
    "#                 SMI_waxs.masks[i][np.where(flatfield[:, 211:406]<1)] = True\n",
    "\n",
    "#             if i%3==2:\n",
    "#                 SMI_waxs.imgs[i] = SMI_waxs.imgs[i]/flatfield[:, -195:]+1E-7\n",
    "#                 SMI_waxs.masks[i][np.where(flatfield[:, -195:]<1)] = True\n",
    "\n",
    "        # SMI_waxs.stitching_data(interp_factor=3, flag_scale=False)\n",
    "        SMI_waxs.stitching_data(interp_factor=3)\n",
    "\n",
    "        SMI_waxs.caking()\n",
    "\n",
    "        filename_wa0_list.append(dat[0])\n",
    "        recip_list.append(SMI_waxs.img_st)\n",
    "        recip_extents.append([SMI_waxs.qp[0], SMI_waxs.qp[-1], SMI_waxs.qz[0], SMI_waxs.qz[-1]])\n",
    "\n",
    "        caked_list.append(SMI_waxs.cake)\n",
    "        caked_extents.append([SMI_waxs.q_cake[0], SMI_waxs.q_cake[-1], SMI_waxs.chi_cake[0], SMI_waxs.chi_cake[-1]])\n",
    "\n",
    "    return filename_wa0_list, recip_list, recip_extents, caked_list, caked_extents"
   ]
  },
  {
   "cell_type": "markdown",
   "id": "4552b847-e8cb-46c5-990b-72cf559020ce",
   "metadata": {
    "tags": []
   },
   "source": [
    "## Load data & save zarrs"
   ]
  },
  {
   "cell_type": "code",
   "execution_count": null,
   "id": "3a8b6fdd-8299-4be1-9ee3-16c977408256",
   "metadata": {
    "tags": []
   },
   "outputs": [],
   "source": [
    "sorted([f.name for f in rawPath.glob('*.tif')])"
   ]
  },
  {
   "cell_type": "code",
   "execution_count": null,
   "id": "b9befe70-8cb7-49f5-bf7f-ad453ab4a9f2",
   "metadata": {
    "tags": []
   },
   "outputs": [],
   "source": [
    "all_giwaxs = set(rawPath.glob('*180-Blank*pos1*.tif'))\n",
    "test_giwaxs = set(rawPath.glob('test*'))\n",
    "calib_giwaxs = set(rawPath.glob('calib*'))\n",
    "wa40_giwaxs = set(rawPath.glob('*pos1*wa40*'))"
   ]
  },
  {
   "cell_type": "code",
   "execution_count": null,
   "id": "e9926972-55eb-4723-a2c5-fa089b8e6ece",
   "metadata": {
    "tags": []
   },
   "outputs": [],
   "source": [
    "# unique_sample_numbers = sorted(set([f.name.split('_')[2] for f in waxsPath2.glob('*')]))\n",
    "# unique_sample_rotations = sorted(set([f.name.split('_')[3] for f in waxsPath2.glob('*')]))"
   ]
  },
  {
   "cell_type": "code",
   "execution_count": null,
   "id": "31649812-59f1-4f47-b6b4-ff9db0b7cfee",
   "metadata": {
    "tags": []
   },
   "outputs": [],
   "source": [
    "filename_list = [f.name for f in sorted(all_giwaxs.difference(wa40_giwaxs))]\n",
    "\n",
    "# Make sublists (of sample filenames)\n",
    "group_size = 2\n",
    "filename_sublists = [filename_list[i:i + group_size] for i in range(0, len(filename_list), group_size)]"
   ]
  },
  {
   "cell_type": "code",
   "execution_count": null,
   "id": "e51841f2-4591-4c7b-963d-c4d8083ed32d",
   "metadata": {
    "tags": []
   },
   "outputs": [],
   "source": [
    "filename_sublists"
   ]
  },
  {
   "cell_type": "code",
   "execution_count": null,
   "id": "8f736865-c48f-447c-96c6-93037b0a51ad",
   "metadata": {
    "tags": []
   },
   "outputs": [],
   "source": [
    "# import warnings\n",
    "# warnings.filterwarnings('ignore')"
   ]
  },
  {
   "cell_type": "code",
   "execution_count": null,
   "id": "b8636045-29f9-4fa1-961d-41421c53307c",
   "metadata": {
    "tags": []
   },
   "outputs": [],
   "source": [
    "def remove_duplicate_energies(filename_list):\n",
    "    file_energies = []\n",
    "    kept_files = []\n",
    "\n",
    "    for filename in filename_list:\n",
    "        file_energy = filename[:filename.find('eV')].split('_')[-1]\n",
    "        if file_energy in file_energies:\n",
    "            pass\n",
    "        else:\n",
    "            file_energies.append(file_energy)\n",
    "            kept_files.append(filename)\n",
    "\n",
    "    return kept_files"
   ]
  },
  {
   "cell_type": "code",
   "execution_count": null,
   "id": "c1431d61-be41-441d-8592-a30de48534be",
   "metadata": {
    "scrolled": true,
    "tags": []
   },
   "outputs": [],
   "source": [
    "# Run SMI loading code (this produces some fabio and divide by zero errors)\n",
    "names_list, recip_list, recip_extents, caked_list, caked_extents = giwaxs_SMI_numpy_loading(rawPath, filename_sublists)"
   ]
  },
  {
   "cell_type": "code",
   "execution_count": null,
   "id": "323046f1-b65b-4e00-8196-41abe3cb4d97",
   "metadata": {
    "tags": []
   },
   "outputs": [],
   "source": [
    "# Define naming scheme:\n",
    "waxs_naming_scheme = ['project0', 'project', 'sample_info', 'detector_height_pos', 'energy', 'incident_angle', \n",
    "                      'detector_wa', 'bpm', 'id', 'misc', 'detector']\n",
    "md_naming_scheme = waxs_naming_scheme.copy()\n",
    "\n",
    "\n",
    "# Construct xarrays with full values along detector dimensions and the energy dimension\n",
    "# They contain sample name and theta value as well, as single values to be concatenated in later steps\n",
    "recip_DA_rows = []\n",
    "caked_DA_rows = []\n",
    "zipped_lists = zip(names_list, recip_list, recip_extents, caked_list, caked_extents)\n",
    "for filename, recip_arr, recip_extent, caked_arr, caked_extent in zipped_lists:\n",
    "\n",
    "    attr_dict = {}\n",
    "    md_list = filename.split('_')\n",
    "    for i, md_item in enumerate(md_naming_scheme):\n",
    "        attr_dict[md_item] = md_list[i]\n",
    "\n",
    "    recip_DA = xr.DataArray(data = recip_arr, \n",
    "                            dims = ['pix_y', 'pix_x'],\n",
    "                            attrs = attr_dict)\n",
    "    recip_DA = recip_DA.assign_coords({\n",
    "        'pix_x': recip_DA.pix_x.data,\n",
    "        'pix_y': recip_DA.pix_y.data,\n",
    "        'q_x': ('pix_x', np.linspace(recip_extent[0], recip_extent[1], len(recip_DA.pix_x.data))),\n",
    "        'q_y': ('pix_y', np.linspace(recip_extent[3], recip_extent[2], len(recip_DA.pix_y.data)))\n",
    "    })\n",
    "    recip_DA = recip_DA.expand_dims({\n",
    "        'energy': [float(recip_DA.energy[:-2])],\n",
    "        'sample_info': [recip_DA.sample_info]\n",
    "    })\n",
    "    recip_DA_rows.append(recip_DA)\n",
    "\n",
    "    caked_DA = xr.DataArray(data = caked_arr, \n",
    "                            dims = ['index_y', 'index_x'],\n",
    "                            attrs = attr_dict)\n",
    "    caked_DA = caked_DA.assign_coords({\n",
    "        'index_x': caked_DA.index_x.data,\n",
    "        'index_y': caked_DA.index_y.data,\n",
    "        'q_r': ('index_x', np.linspace(caked_extent[0], caked_extent[1], len(caked_DA.index_x.data))),\n",
    "        'chi': ('index_y', np.linspace(caked_extent[3], caked_extent[2], len(caked_DA.index_y.data)))\n",
    "    }) \n",
    "    caked_DA = caked_DA.expand_dims({\n",
    "        'energy': [float(caked_DA.energy[:-2])],\n",
    "        'sample_info': [caked_DA.sample_info]\n",
    "    })\n",
    "    caked_DA_rows.append(caked_DA)\n",
    "\n",
    "recip_DA = xr.concat(recip_DA_rows, 'energy').sortby('energy')\n",
    "caked_DA = xr.concat(caked_DA_rows, 'energy').sortby('energy')"
   ]
  },
  {
   "cell_type": "code",
   "execution_count": null,
   "id": "6b1ae61a-4943-4a54-b023-c35a13fe35f4",
   "metadata": {
    "tags": []
   },
   "outputs": [],
   "source": [
    "# cmap = plt.cm.turbo.copy()\n",
    "# sliced_DA = recip_DA.sel(energy=2450, method='nearest').squeeze()\n",
    "# cmin = sliced_DA.quantile(0.01)\n",
    "# cmax = sliced_DA.quantile(0.99)\n",
    "# ax = sliced_DA.plot.imshow(norm=plt.Normalize(cmin,cmax), cmap=cmap, x='q_x', y='q_y')\n",
    "# ax.axes.set(aspect='equal')\n",
    "# plt.show()"
   ]
  },
  {
   "cell_type": "code",
   "execution_count": null,
   "id": "779cc68b-c37f-49c8-b458-20c82c56082e",
   "metadata": {
    "tags": []
   },
   "outputs": [],
   "source": [
    "# cmap = plt.cm.turbo.copy()\n",
    "# sliced_DA = caked_DA.sel(energy=2450, method='nearest').squeeze()\n",
    "# cmin = sliced_DA.quantile(0.00000001)\n",
    "# cmax = sliced_DA.quantile(0.9)\n",
    "# ax = sliced_DA.plot.imshow(norm=plt.Normalize(cmin,cmax), cmap=cmap, x='q_r', y='chi')\n",
    "# # ax.axes.set(aspect='equal')\n",
    "# plt.show()"
   ]
  },
  {
   "cell_type": "code",
   "execution_count": null,
   "id": "56cc8f0e-65cd-409a-81c8-37972c39beea",
   "metadata": {
    "tags": []
   },
   "outputs": [],
   "source": [
    "whos PosixPath"
   ]
  },
  {
   "cell_type": "code",
   "execution_count": null,
   "id": "5b9c63aa-31d8-4634-87a6-e7f85818989b",
   "metadata": {
    "tags": []
   },
   "outputs": [],
   "source": [
    "# Save sample zarr, load later to concatenate full zarr\n",
    "sampleZarrsPath = propPath.joinpath('processed_data/casey/zarrs')\n",
    "\n",
    "recip_samp_zarr_name = 'recip_'+recip_DA.sample_info.values[0]+'.zarr'\n",
    "recip_DS = recip_DA.to_dataset(name='raw_intensity')\n",
    "recip_DS.to_zarr(sampleZarrsPath.joinpath(recip_samp_zarr_name), mode='w')\n",
    "\n",
    "caked_samp_zarr_name = 'caked_'+caked_DA.sample_info.values[0]+'.zarr'\n",
    "caked_DS = caked_DA.to_dataset(name='raw_intensity')\n",
    "caked_DS.to_zarr(sampleZarrsPath.joinpath(caked_samp_zarr_name), mode='w')"
   ]
  },
  {
   "cell_type": "code",
   "execution_count": null,
   "id": "812b2d6e-47f5-49dd-9892-b72c0587099c",
   "metadata": {
    "tags": []
   },
   "outputs": [],
   "source": [
    "caked_DA = xr.open_zarr(sampleZarrsPath.joinpath('caked_180-Blank.zarr'))['raw_intensity']\n",
    "caked_DA"
   ]
  },
  {
   "cell_type": "code",
   "execution_count": null,
   "id": "5420f5b0-6b90-4bee-9e97-b6fa0500674b",
   "metadata": {},
   "outputs": [],
   "source": []
  }
 ],
 "metadata": {
  "kernelspec": {
   "display_name": "Python 3 (ipykernel)",
   "language": "python",
   "name": "python3"
  },
  "language_info": {
   "codemirror_mode": {
    "name": "ipython",
    "version": 3
   },
   "file_extension": ".py",
   "mimetype": "text/x-python",
   "name": "python",
   "nbconvert_exporter": "python",
   "pygments_lexer": "ipython3",
   "version": "3.11.6"
  }
 },
 "nbformat": 4,
 "nbformat_minor": 5
}
