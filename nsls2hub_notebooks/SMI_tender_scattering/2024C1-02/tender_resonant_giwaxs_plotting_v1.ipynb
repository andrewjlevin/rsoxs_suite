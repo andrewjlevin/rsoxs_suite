{
 "cells": [
  {
   "cell_type": "markdown",
   "id": "e0f02f27-e0ae-4810-bf03-a00186d6a001",
   "metadata": {},
   "source": [
    "# 2024C1-01 SMI WAXS TReXS core films plotting notebook"
   ]
  },
  {
   "cell_type": "code",
   "execution_count": null,
   "id": "1eb941ec-387a-48bf-98b8-39b7f14cf194",
   "metadata": {
    "scrolled": true,
    "tags": []
   },
   "outputs": [],
   "source": [
    "# !pip install -e /nsls2/users/alevin/repos/PyHyperScattering  # to use pip to install via directory"
   ]
  },
  {
   "cell_type": "markdown",
   "id": "eea0507c-fe0a-48da-b478-9bfbfdea8137",
   "metadata": {},
   "source": [
    "## Imports"
   ]
  },
  {
   "cell_type": "code",
   "execution_count": null,
   "id": "a555dd3c-baf9-448c-8c51-4f1d84231b36",
   "metadata": {
    "tags": []
   },
   "outputs": [],
   "source": [
    "# import PyHyperScattering as phs\n",
    "import pathlib\n",
    "import numpy as np\n",
    "import matplotlib.pyplot as plt\n",
    "import xarray as xr\n",
    "from tqdm.auto import tqdm \n",
    "import subprocess\n",
    "import io\n",
    "# print(phs.__version__)"
   ]
  },
  {
   "cell_type": "code",
   "execution_count": null,
   "id": "5049ac4b-f2d2-4018-b988-0441c67b82a7",
   "metadata": {
    "tags": []
   },
   "outputs": [],
   "source": [
    "from matplotlib.ticker import (MultipleLocator, AutoMinorLocator)"
   ]
  },
  {
   "cell_type": "markdown",
   "id": "43563a8b-a2bd-4069-b453-a7525638a7dd",
   "metadata": {
    "tags": []
   },
   "source": [
    "## Define paths"
   ]
  },
  {
   "cell_type": "code",
   "execution_count": null,
   "id": "aac79faa-dfc5-4e73-a76b-1092cd55541a",
   "metadata": {
    "tags": []
   },
   "outputs": [],
   "source": [
    "# Define paths\n",
    "propPath = pathlib.Path('/nsls2/data/smi/proposals/2024-1/pass-313064')\n",
    "outPath = propPath.joinpath('processed_data/casey')\n",
    "sampleZarrsPath = outPath.joinpath('zarrs')"
   ]
  },
  {
   "cell_type": "code",
   "execution_count": null,
   "id": "568879e7-1462-445c-b26e-2fac0cff07d1",
   "metadata": {
    "tags": []
   },
   "outputs": [],
   "source": [
    "def make_para_perp_DAs(DS, sample_info, chi_width=90):\n",
    "    # select dataarray to plot\n",
    "    DA = DS.sel(sample_info=sample_info)['raw_intensity']\n",
    "\n",
    "    # calculate ISI dataarrays\n",
    "    para_DA = DA.rsoxs.slice_chi(0, chi_width=(chi_width/2))\n",
    "    perp_DA = DA.rsoxs.slice_chi(-90, chi_width=(chi_width/2))\n",
    "        \n",
    "    return para_DA, perp_DA"
   ]
  },
  {
   "cell_type": "markdown",
   "id": "d3a3aa28-a7c1-4a61-89a3-7aa5423eeba8",
   "metadata": {},
   "source": [
    "### Rclone copy statement"
   ]
  },
  {
   "cell_type": "raw",
   "id": "66ccdb7b-277d-4339-bb3a-ae7adc92eeb2",
   "metadata": {},
   "source": [
    "rclone --dry-run copy -P /nsls2/data/smi/proposals/2024-1/pass-314903/processed_data/trexs_plots remote:research/data_analysis/rsoxs_suite/trexs_plots --exclude '*checkpoint*'"
   ]
  },
  {
   "cell_type": "markdown",
   "id": "814c8e51-4f34-411f-baef-308affcea671",
   "metadata": {},
   "source": [
    "### Load whole dataset from zarr(s)"
   ]
  },
  {
   "cell_type": "code",
   "execution_count": null,
   "id": "38beebd3-e8cc-45f3-a2b5-b6ab2eedfe70",
   "metadata": {
    "tags": []
   },
   "outputs": [],
   "source": [
    "[f.name for f in sampleZarrsPath.glob('*')]"
   ]
  },
  {
   "cell_type": "code",
   "execution_count": null,
   "id": "011097a0-93e6-4ed6-8d10-b5536226b44b",
   "metadata": {
    "tags": []
   },
   "outputs": [],
   "source": [
    "# unique_sample_infos = sorted(set(['_'.join(f.name.split('_')[1:3]) for f in sampleZarrsPath.glob('*')]))\n",
    "unique_sample_infos = sorted(set(f.stem.split('_')[-1] for f in sampleZarrsPath.glob('*')))\n",
    "unique_sample_infos"
   ]
  },
  {
   "cell_type": "code",
   "execution_count": null,
   "id": "a6bdc6b2-a95c-4b14-a898-d5ec4261e18b",
   "metadata": {
    "tags": []
   },
   "outputs": [],
   "source": [
    "recip_DS_rows = []\n",
    "caked_DS_rows = []\n",
    "for sample_info in tqdm(unique_sample_infos):\n",
    "    sample_zarrs = sorted(sampleZarrsPath.glob(f'*{sample_info}*'))\n",
    "    # display(sorted([f.name for f in sample_zarrs]))\n",
    "        \n",
    "    samp_recip_DS_rows = []\n",
    "    samp_caked_DS_rows = []\n",
    "    for sample_zarr in sample_zarrs:\n",
    "        if 'recip_' in sample_zarr.name:\n",
    "            recip_DS = xr.open_zarr(sample_zarr)\n",
    "        elif 'caked_' in sample_zarr.name:\n",
    "            caked_DS = xr.open_zarr(sample_zarr)   \n",
    "            \n",
    "    recip_DS_rows.append(recip_DS)\n",
    "    caked_DS_rows.append(caked_DS)\n",
    "    \n",
    "recip_DS = xr.concat(recip_DS_rows, 'sample_info')\n",
    "caked_DS = xr.concat(caked_DS_rows, 'sample_info')"
   ]
  },
  {
   "cell_type": "code",
   "execution_count": null,
   "id": "a67693f1-2ece-42f1-9d3d-a11f588692e8",
   "metadata": {
    "tags": []
   },
   "outputs": [],
   "source": [
    "recip_DS = recip_DS.chunk({'sample_info':1, 'pix_y': 1576, 'pix_x': 1671, 'energy':1})\n",
    "caked_DS = caked_DS.chunk({'sample_info':1, 'index_y':1576,'index_x':1671,'energy':1})"
   ]
  },
  {
   "cell_type": "code",
   "execution_count": null,
   "id": "d7b77d69-92d7-4d1f-9203-4cb35c89be58",
   "metadata": {
    "tags": []
   },
   "outputs": [],
   "source": [
    "caked_DS = caked_DS.swap_dims({'index_y':'chi'})\n",
    "\n",
    "q_r_coords = caked_DS.q_r.mean('energy')\n",
    "caked_DS = caked_DS.assign_coords({'q_red':('index_x', q_r_coords.data)}).swap_dims({'index_x':'q_red'})\n",
    "caked_DS"
   ]
  },
  {
   "cell_type": "code",
   "execution_count": null,
   "id": "45c9aaaf-20d7-42cd-aaf7-9c6b19517ce2",
   "metadata": {
    "tags": []
   },
   "outputs": [],
   "source": [
    "# recip_DS.to_zarr(outPath.joinpath('zarrs/waxs_core_films_zarrs_WIP', f'recip_waxs_core_films.zarr'), mode='w')"
   ]
  },
  {
   "cell_type": "code",
   "execution_count": null,
   "id": "eabb5a37-17cc-4a16-bbf5-ae80dc6d1d60",
   "metadata": {
    "tags": []
   },
   "outputs": [],
   "source": [
    "# energy = 2470\n",
    "\n",
    "# for sample_info in unique_sample_infos:\n",
    "#     for theta in [90, 55, 35]:\n",
    "#         sliced_DA = recip_DS.sel(sample_info=sample_info, theta=theta).sel(energy=2470, method='nearest')['raw_intensity']\n",
    "\n",
    "#         cmin = sliced_DA.compute().quantile(0.15)\n",
    "#         cmax = sliced_DA.compute().quantile(0.995)\n",
    "#         ax = sliced_DA.plot.imshow(norm=plt.Normalize(cmin, cmax), cmap=plt.cm.turbo, x='q_x', y='q_y')\n",
    "#         ax.axes.set(title=f'{sample_info}: Energy = {energy}, Theta = {theta}')\n",
    "#         plt.show()\n",
    "#         plt.close('all')"
   ]
  },
  {
   "cell_type": "markdown",
   "id": "dc5f30d1-afb5-4515-839e-814eef697c22",
   "metadata": {
    "tags": []
   },
   "source": [
    "## Detector movies"
   ]
  },
  {
   "cell_type": "code",
   "execution_count": null,
   "id": "c558b2e5-31ea-46ab-b5a4-4b3adb4c006d",
   "metadata": {
    "tags": []
   },
   "outputs": [],
   "source": [
    "cmap = plt.cm.turbo.copy()\n",
    "cmap.set_bad(cmap.get_under())"
   ]
  },
  {
   "cell_type": "markdown",
   "id": "b0474edb-1489-4400-afa1-0537b35866a5",
   "metadata": {
    "tags": []
   },
   "source": [
    "### recip"
   ]
  },
  {
   "cell_type": "code",
   "execution_count": null,
   "id": "e271e0f0-f73c-44a3-99bd-d6bd9dc3f23c",
   "metadata": {
    "tags": []
   },
   "outputs": [],
   "source": [
    "# %matplotlib inline"
   ]
  },
  {
   "cell_type": "code",
   "execution_count": null,
   "id": "692eb0a4-bea2-4f0d-93ff-d5231da0f5d0",
   "metadata": {
    "tags": []
   },
   "outputs": [],
   "source": [
    "# plt.close('all')"
   ]
  },
  {
   "cell_type": "code",
   "execution_count": null,
   "id": "40941c98-ef14-47b3-8907-ba24329efb16",
   "metadata": {
    "tags": []
   },
   "outputs": [],
   "source": [
    "# Select Dataset\n",
    "DS = recip_DS\n",
    "\n",
    "\n",
    "# Select Plotting Parameters\n",
    "energy = 2480\n",
    "# pix_size = 500\n",
    "# pix_x_slice = slice(bcx-(pix_size/2), bcx+(pix_size/2))\n",
    "# pix_y_slice = slice(bcy-(pix_size/2), bcy+(pix_size/2))\n",
    "\n",
    "# Select DataArray\n",
    "# sample_info = 'PM6-Y6_3000_dSiN'\n",
    "for sample_info in tqdm(unique_sample_infos):\n",
    "    DA = DS.sel(sample_info=sample_info)['raw_intensity']\n",
    "\n",
    "\n",
    "    # Plot\n",
    "    sliced_DA = DA.sel(energy=energy,method='nearest')\n",
    "    cmin = float(sliced_DA.compute().quantile(0.001))\n",
    "    cmax = float(sliced_DA.compute().quantile(0.99))\n",
    "\n",
    "    ax = sliced_DA.plot.imshow(figsize=(5.5,4.5), x='q_x', y='q_y', cmap=cmap, norm=plt.Normalize(cmin,cmax))\n",
    "    ax.figure.suptitle(f'Photon Energy = {np.round(energy, 1)} eV', fontsize=14, y=0.97)\n",
    "    ax.figure.set_tight_layout(True)\n",
    "    ax.axes.set(aspect='equal', title=f'{sample_info}', xlabel='q$_x$ [$Å^{-1}$]', ylabel='q$_y$ [$Å^{-1}$]')\n",
    "    ax.colorbar.set_label('Intensity [arb. units]', rotation=270, labelpad=12)\n",
    "    # ax.figure.savefig(outPath.joinpath('waxs_detector_movies_v1', f'{sample_info}_{theta}degth.png'), dpi=120)\n",
    "    plt.show()\n",
    "    # plt.close('all')"
   ]
  },
  {
   "cell_type": "code",
   "execution_count": null,
   "id": "544c1f31-c709-4216-9d98-4112819bb234",
   "metadata": {
    "scrolled": true,
    "tags": []
   },
   "outputs": [],
   "source": [
    "# Select Dataset\n",
    "DS = recip_DS\n",
    "\n",
    "# Select DataArray\n",
    "for sample_info in tqdm(unique_sample_infos):\n",
    "    DA = DS.sel(sample_info=sample_info)['raw_intensity']\n",
    "    cmin = float(DA.compute().quantile(0.001))\n",
    "    cmax = float(DA.compute().quantile(0.99))\n",
    "\n",
    "    output_path = outPath.joinpath('waxs_detector_movies_pos1_v1', f'{sample_info}.mp4')\n",
    "\n",
    "    # FFmpeg command. This is set up to accept data from the pipe and use it as input, with PNG format.\n",
    "    # It will then output an H.264 encoded MP4 video.\n",
    "    cmd = [\n",
    "        'ffmpeg',\n",
    "        '-y',  # Overwrite output file if it exists\n",
    "        '-f', 'image2pipe',\n",
    "        '-vcodec', 'png',\n",
    "        '-r', '15',  # Frame rate\n",
    "        '-i', '-',  # The input comes from a pipe\n",
    "        '-vcodec', 'libx264',\n",
    "        '-pix_fmt', 'yuv420p',\n",
    "        '-crf', '17',  # Set the quality (lower is better, 17 is often considered visually lossless)\n",
    "        str(output_path)\n",
    "    ]\n",
    "\n",
    "    # Start the subprocess\n",
    "    proc = subprocess.Popen(cmd, stdin=subprocess.PIPE, stdout=subprocess.PIPE, stderr=subprocess.PIPE)\n",
    "\n",
    "    # Loop through the energy dimension and send frames to FFmpeg\n",
    "    for energy in tqdm(DA.energy.values, desc=f'Making the {sample_info} movie'):\n",
    "        # Make & customize plot\n",
    "        sliced_DA = DA.sel(energy=energy, method='nearest')\n",
    "\n",
    "        ax = sliced_DA.plot.imshow(figsize=(5.5,4.5), x='q_x', y='q_y', cmap=cmap, norm=plt.Normalize(cmin,cmax))\n",
    "        ax.figure.suptitle(f'Photon Energy = {np.round(energy, 1)} eV', fontsize=14, y=0.97)\n",
    "        ax.figure.set_tight_layout(True)   \n",
    "        ax.axes.set(aspect='equal', title=f'{sample_info}', xlabel='q$_x$ [$Å^{-1}$]', ylabel='q$_y$ [$Å^{-1}$]')\n",
    "        ax.colorbar.set_label('Intensity [arb. units]', rotation=270, labelpad=12)\n",
    "\n",
    "        # Save figure to a PNG buffer\n",
    "        # ax.figure.savefig(plotsPath.joinpath('detector_movies/frames', f'energy-{round(energy)}_frame-{i:03d}.png'), dpi=120)\n",
    "\n",
    "        buf = io.BytesIO()\n",
    "        ax.figure.savefig(buf, format='png')\n",
    "        buf.seek(0)\n",
    "\n",
    "        # Write the PNG buffer data to the process\n",
    "        proc.stdin.write(buf.getvalue())\n",
    "        plt.close('all')\n",
    "\n",
    "    # Finish the subprocess\n",
    "    out, err = proc.communicate()\n",
    "    if proc.returncode != 0:\n",
    "        print(f\"Error: {err}\")\n"
   ]
  },
  {
   "cell_type": "markdown",
   "id": "d18c6234-1e34-4496-a955-321f22134509",
   "metadata": {
    "jp-MarkdownHeadingCollapsed": true,
    "tags": []
   },
   "source": [
    "### caked"
   ]
  },
  {
   "cell_type": "code",
   "execution_count": null,
   "id": "ead1381e-225f-42ea-a6c0-1d6ae7a89878",
   "metadata": {
    "tags": []
   },
   "outputs": [],
   "source": [
    "# # Select Dataset\n",
    "# DS = caked_DS.copy()\n",
    "\n",
    "\n",
    "# # Select Plotting Parameters\n",
    "# energy = 2470\n",
    "# chi_slice = slice(-125,25)\n",
    "# # chi_slice = slice(-150,50)\n",
    "# # chi_slice = slice(None,None)\n",
    "\n",
    "# qr_slice = slice(None,0.7)\n",
    "# # qr_slice = slice(None,None)\n",
    "\n",
    "# # Select DataArray\n",
    "# # sample_info = 'PM6-Y6_3000_dSiN'\n",
    "# for sample_info in tqdm(unique_sample_infos):\n",
    "#     for theta in [90]:\n",
    "#         DA = DS.sel(sample_info=sample_info, theta=theta)['raw_intensity']\n",
    "\n",
    "\n",
    "#         # Plot\n",
    "#         sliced_DA = DA.sel(energy=energy,method='nearest').sel(chi=chi_slice, q_red=qr_slice)\n",
    "#         cmin = float(sliced_DA.compute().quantile(0.1))\n",
    "#         cmax = float(sliced_DA.compute().quantile(0.98))\n",
    "\n",
    "#         ax = sliced_DA.plot.imshow(figsize=(5.5,4.5), x='q_r', y='chi', cmap=cmap, norm=plt.Normalize(cmin,cmax))\n",
    "#         ax.figure.suptitle(f'Photon Energy = {np.round(energy, 1)} eV', fontsize=14, y=0.96)\n",
    "#         ax.figure.set_tight_layout(True)\n",
    "#         ax.axes.set(title=f'{sample_info}, $\\\\theta$ = {theta}°', xlabel='q$_r$ [$Å^{-1}$]', ylabel='$\\\\chi$ [°]')\n",
    "#         ax.colorbar.set_label('Intensity [arb. units]', rotation=270, labelpad=12)\n",
    "#         # ax.figure.savefig(outPath.joinpath('waxs_detector_movies_v1', f'{sample_info}_{theta}degth.png'), dpi=120)\n",
    "#         plt.show()\n",
    "#         plt.close('all')"
   ]
  },
  {
   "cell_type": "code",
   "execution_count": null,
   "id": "53447a87-5d98-4342-8250-568f46a82a60",
   "metadata": {
    "scrolled": true,
    "tags": []
   },
   "outputs": [],
   "source": [
    "# # Select Dataset\n",
    "# DS = caked_DS.copy()\n",
    "\n",
    "# # plotting parameters\n",
    "# chi_slice = slice(-150,50)\n",
    "# # chi_slice = slice(None,None)\n",
    "\n",
    "# qr_slice = slice(None,0.7)\n",
    "# # qr_slice = slice(None,None)\n",
    "\n",
    "# # Select DataArray\n",
    "# for sample_info in tqdm(unique_sample_infos):\n",
    "# # for sample_info in tqdm(['PM6_1CN-CB']):\n",
    "#     for theta in [90, 55, 35]:\n",
    "#         DA = DS.sel(sample_info=sample_info, theta=theta)['raw_intensity']\n",
    "#         cmin = float(DA.compute().quantile(0.15))\n",
    "#         cmax = float(DA.compute().quantile(0.995))\n",
    "\n",
    "#         output_path = outPath.joinpath('trexs_plots/caked_waxs_detector_movies_v1', f'{sample_info}_{theta}degth.mp4')\n",
    "\n",
    "#         # FFmpeg command. This is set up to accept data from the pipe and use it as input, with PNG format.\n",
    "#         # It will then output an H.264 encoded MP4 video.\n",
    "#         cmd = [\n",
    "#             'ffmpeg',\n",
    "#             '-y',  # Overwrite output file if it exists\n",
    "#             '-f', 'image2pipe',\n",
    "#             '-vcodec', 'png',\n",
    "#             '-r', '15',  # Frame rate\n",
    "#             '-i', '-',  # The input comes from a pipe\n",
    "#             '-vcodec', 'libx264',\n",
    "#             '-pix_fmt', 'yuv420p',\n",
    "#             '-crf', '17',  # Set the quality (lower is better, 17 is often considered visually lossless)\n",
    "#             str(output_path)\n",
    "#         ]\n",
    "\n",
    "#         # Start the subprocess\n",
    "#         proc = subprocess.Popen(cmd, stdin=subprocess.PIPE, stdout=subprocess.PIPE, stderr=subprocess.PIPE)\n",
    "\n",
    "#         # Loop through the energy dimension and send frames to FFmpeg\n",
    "#         for i, energy in enumerate(tqdm(DA.energy.values, desc=f'Making the {sample_info} {theta}° movie')):\n",
    "#             # Make & customize plot\n",
    "#             sliced_DA = DA.sel(energy=energy,method='nearest').swap_dims(\n",
    "#                 {'index_y':'chi','index_x':'q_r'}).sel(chi=chi_slice, q_r=qr_slice)\n",
    "            \n",
    "#             ax = sliced_DA.plot.imshow(figsize=(5.5,4.5), cmap=cmap, norm=plt.Normalize(cmin,cmax))\n",
    "#             ax.figure.suptitle(f'Photon Energy = {np.round(energy, 1)} eV', fontsize=14, y=0.96)\n",
    "#             ax.figure.set_tight_layout(True)   \n",
    "#             ax.axes.set(title=f'{sample_info}, $\\\\theta$ = {theta}°', xlabel='q$_r$ [$Å^{-1}$]', ylabel='$\\\\chi$ [°]')\n",
    "#             ax.colorbar.set_label('Intensity [arb. units]', rotation=270, labelpad=12)\n",
    "\n",
    "#             # Save figure if first frame:\n",
    "#             if i==0:\n",
    "#                 ax.figure.savefig(outPath.joinpath('trexs_plots/caked_waxs_detector_movies_v1', f'{sample_info}_{theta}degth.png'), dpi=120)\n",
    "\n",
    "#             buf = io.BytesIO()\n",
    "#             ax.figure.savefig(buf, format='png')\n",
    "#             buf.seek(0)\n",
    "\n",
    "#             # Write the PNG buffer data to the process\n",
    "#             proc.stdin.write(buf.getvalue())\n",
    "#             plt.close('all')\n",
    "\n",
    "#         # Finish the subprocess\n",
    "#         out, err = proc.communicate()\n",
    "#         if proc.returncode != 0:\n",
    "#             print(f\"Error: {err}\")\n"
   ]
  },
  {
   "cell_type": "markdown",
   "id": "1fb40108-41b6-4bd3-9c6d-fdfcdce9588b",
   "metadata": {
    "jp-MarkdownHeadingCollapsed": true,
    "tags": []
   },
   "source": [
    "## Integrated peak intensity vs energy"
   ]
  },
  {
   "cell_type": "code",
   "execution_count": null,
   "id": "4e62f075-7dc3-46a4-abee-ef59d6313293",
   "metadata": {
    "tags": []
   },
   "outputs": [],
   "source": [
    "%matplotlib widget"
   ]
  },
  {
   "cell_type": "code",
   "execution_count": null,
   "id": "78d15bcb-307e-43c2-9251-2eb96992bbbc",
   "metadata": {
    "tags": []
   },
   "outputs": [],
   "source": [
    "plt.close('all')"
   ]
  },
  {
   "cell_type": "code",
   "execution_count": null,
   "id": "0d764772-7958-492d-a8ea-f5dc1858eb8e",
   "metadata": {
    "tags": []
   },
   "outputs": [],
   "source": [
    "DA = DS.sel(sample_info=sample_info)['raw_intensity']\n",
    "sliced_DA = DA.sel(energy=2477, method='nearest').sel(chi=slice(-15,15))\n",
    "sliced_DA = sliced_DA.where(sliced_DA>1e-3).mean('chi')\n",
    "sliced_DA.sel(q_red=slice(0.28, 0.36)).plot()\n",
    "plt.show()\n",
    "plt.close('all')"
   ]
  },
  {
   "cell_type": "code",
   "execution_count": null,
   "id": "dc6fc0f8-8300-444a-8a0a-ff8eb45b6a94",
   "metadata": {
    "tags": []
   },
   "outputs": [],
   "source": [
    "%matplotlib inline"
   ]
  },
  {
   "cell_type": "code",
   "execution_count": null,
   "id": "124e2d0b-0a4b-4405-8a5a-86c8e890d1bd",
   "metadata": {
    "tags": []
   },
   "outputs": [],
   "source": [
    "plt.close('all')"
   ]
  },
  {
   "cell_type": "code",
   "execution_count": null,
   "id": "5ab2a529-46b9-4947-92cf-c7c3518c198c",
   "metadata": {
    "tags": []
   },
   "outputs": [],
   "source": [
    "# make selection, subtracted flat line to compare peak intensities overlayed\n",
    "DS = caked_DS.copy()\n",
    "\n",
    "# make selection\n",
    "q_slice = slice(0.49, 0.56)   # peak slice here\n",
    "chi_slice = slice(-62, -50)\n",
    "e_slice = slice(2470, 2495)\n",
    "\n",
    "for sample_info in tqdm(unique_sample_infos[:]):\n",
    "    DA = DS.sel(sample_info=sample_info)['raw_intensity']\n",
    "    \n",
    "    # Mean over chi\n",
    "    sliced_DA = DA.sel(chi=chi_slice)\n",
    "    sliced_DA = sliced_DA.where(sliced_DA>1e-3).mean('chi')\n",
    "\n",
    "    # Integrate/sum q:\n",
    "    peak_areas_DA = sliced_DA.sum('q_red')\n",
    "\n",
    "    # Plot        \n",
    "    fig, ax = plt.subplots(figsize=(5,4), tight_layout=True)\n",
    "    peak_areas_DA.sel(energy=e_slice).plot.line(ax=ax)\n",
    "\n",
    "    fig.suptitle(f'Lamella peak area vs photon energy: {sample_info}', x=0.53, y=0.95)\n",
    "\n",
    "    ax.set(ylabel=f'Integrated q ({q_slice.start}, {q_slice.stop}) [arb. units]', xlabel='Energy [eV]')\n",
    "\n",
    "    ax.xaxis.set_minor_locator(MultipleLocator(1))\n",
    "    ax.xaxis.grid(True, which='both')\n",
    "    # ax.legend()\n",
    "\n",
    "\n",
    "    # savePath = outPath.joinpath('lamella_peakarea-vs-energy_v1')\n",
    "    # savePath.mkdir(exist_ok=True)\n",
    "    # fig.savefig(savePath.joinpath(\n",
    "    #     f'{sample_info}_theta-{theta}deg_chiWidth-{chi_width}deg_q-{q_slice.start}-{q_slice.stop}_energy{e_slice.start}-{e_slice.stop}.png'), dpi=120)\n",
    "\n",
    "    plt.show()\n",
    "    plt.close('all')"
   ]
  },
  {
   "cell_type": "code",
   "execution_count": null,
   "id": "c8c6add2-eeb1-4c49-8d98-a84aa0b4aa10",
   "metadata": {
    "tags": []
   },
   "outputs": [],
   "source": [
    "%matplotlib widget"
   ]
  },
  {
   "cell_type": "code",
   "execution_count": null,
   "id": "b5acc293-83ec-4c53-8817-c009ac7ab3da",
   "metadata": {
    "tags": []
   },
   "outputs": [],
   "source": [
    "plt.close('all')"
   ]
  },
  {
   "cell_type": "code",
   "execution_count": null,
   "id": "c6fc4a08-4d64-4acd-bafe-b1ce7fc26122",
   "metadata": {
    "tags": []
   },
   "outputs": [],
   "source": [
    "# make selection, subtracted flat line to compare peak intensities overlayed\n",
    "DS = caked_DS.copy()\n",
    "\n",
    "# make selection\n",
    "q_slice = slice(0.28, 0.36)   # peak slice here\n",
    "e_slice = slice(2470, 2495)\n",
    "\n",
    "for sample_info in tqdm(unique_sample_infos[:]):\n",
    "    DA = DS.sel(sample_info=sample_info)['raw_intensity']\n",
    "    \n",
    "    # Mean over chi\n",
    "    sliced_DA = DA.sel(chi=slice(-15,15))\n",
    "    sliced_DA = sliced_DA.where(sliced_DA>1e-3).mean('chi')\n",
    "\n",
    "    # Integrate/sum q:\n",
    "    peak_areas_DA = sliced_DA.sum('q_red')\n",
    "\n",
    "    # Plot        \n",
    "    fig, ax = plt.subplots(figsize=(5,4), tight_layout=True)\n",
    "    peak_areas_DA.sel(energy=e_slice).plot.line(ax=ax)\n",
    "\n",
    "    fig.suptitle(f'Lamella peak area vs photon energy: {sample_info}', x=0.53, y=0.95)\n",
    "\n",
    "    ax.set(ylabel=f'Integrated q ({q_slice.start}, {q_slice.stop}) [arb. units]', xlabel='Energy [eV]')\n",
    "\n",
    "    ax.xaxis.set_minor_locator(MultipleLocator(1))\n",
    "    ax.xaxis.grid(True, which='both')\n",
    "    # ax.legend()\n",
    "\n",
    "\n",
    "    # savePath = outPath.joinpath('lamella_peakarea-vs-energy_v1')\n",
    "    # savePath.mkdir(exist_ok=True)\n",
    "    # fig.savefig(savePath.joinpath(\n",
    "    #     f'{sample_info}_theta-{theta}deg_chiWidth-{chi_width}deg_q-{q_slice.start}-{q_slice.stop}_energy{e_slice.start}-{e_slice.stop}.png'), dpi=120)\n",
    "\n",
    "    plt.show()\n",
    "    # plt.close('all')"
   ]
  },
  {
   "cell_type": "markdown",
   "id": "516c66d8-d557-48fe-8a89-cc48b67027af",
   "metadata": {},
   "source": [
    "## Qr linecut"
   ]
  },
  {
   "cell_type": "code",
   "execution_count": null,
   "id": "9e4018d0-3c29-460a-b0b2-e0639a4eb8c4",
   "metadata": {
    "tags": []
   },
   "outputs": [],
   "source": [
    "# Select polar dataset, to qr linecuts: para, perp, and full\n",
    "edge = '1180'\n",
    "chi_width = 90\n",
    "q_slice = slice(0.1,0.4)\n",
    "DS = rsoxs_datasets[f'polar_{edge}'].copy()\n",
    "\n",
    "# Select DataArray\n",
    "for sample_info in tqdm(DS.sample_info.values):\n",
    "    pol_paras = []\n",
    "    pol_perps = []\n",
    "    for pol in [0, 90]:\n",
    "        para_DA, perp_DA = make_para_perp_DAs(DS, sample_info, 'raw', pol, (None,None), chi_width) \n",
    "        para_DA = para_DA.compute()\n",
    "        perp_DA = perp_DA.compute()\n",
    "        pol_paras.append(para_DA)\n",
    "        pol_perps.append(perp_DA)\n",
    "\n",
    "\n",
    "    pol_paras[0] = pol_paras[0].assign_coords({'chi': np.linspace(0, chi_width, len(pol_paras[0].chi.values))})  # .assign_coords({'chi': np.linspace(0, 90,len(pol_paras[1].chi.values))})\n",
    "    pol_paras[1] = pol_paras[1].assign_coords({'chi': np.linspace(0, chi_width, len(pol_paras[1].chi.values))})  # .assign_coords({'chi': np.linspace(0, 90,len(pol_paras[1].chi.values))})\n",
    "    pol_perps[0] = pol_perps[0].assign_coords({'chi': np.linspace(0, chi_width, len(pol_perps[0].chi.values))})  # .assign_coords({'chi': np.linspace(0, 90,len(pol_perps[1].chi.values))})\n",
    "    pol_perps[1] = pol_perps[1].assign_coords({'chi': np.linspace(0, chi_width, len(pol_perps[1].chi.values))})  # .assign_coords({'chi': np.linspace(0, 90,len(pol_perps[1].chi.values))})\n",
    "\n",
    "    pol_paras[0] = pol_paras[0].interp({'chi': pol_paras[1].chi.values})  # .assign_coords({'chi': np.linspace(0, 90,len(pol_paras[1].chi.values))})\n",
    "    pol_perps[0] = pol_perps[0].interp({'chi': pol_perps[1].chi.values})  # .assign_coords({'chi': np.linspace(0, 90,len(pol_perps[1].chi.values))})\n",
    "\n",
    "    para_DA = (pol_paras[0] + pol_paras[1])/2\n",
    "    perp_DA = (pol_perps[0] + pol_perps[1])/2\n",
    "\n",
    "    para_DA = para_DA.assign_coords({'polarization':'avg'})\n",
    "    perp_DA = perp_DA.assign_coords({'polarization':'avg'})\n",
    "\n",
    "    para_DA = para_DA.interpolate_na(dim='q')\n",
    "    perp_DA = perp_DA.interpolate_na(dim='q')\n",
    "\n",
    "    pol = str(para_DA.polarization.values) \n",
    "    \n",
    "    \n",
    "    energy = int(DA.energy.values)\n",
    "    # cmin = float(DA.compute().quantile(0.0001))  # good for 1180\n",
    "    # cmax = float(DA.compute().quantile(0.995))  # good for 1180\n",
    "\n",
    "    # Plot\n",
    "    regions = ['para', 'perp', 'full']\n",
    "    colors = plt.cm.Dark2(np.linspace(0, 1, 8))\n",
    "\n",
    "    fig, ax1 = plt.subplots(figsize=(6,3.5), tight_layout=True, dpi=120)\n",
    "    ax2 = ax1.twinx()\n",
    "    ax3 = ax1.twinx()\n",
    "    \n",
    "\n",
    "    # for j, energy in enumerate(energies):\n",
    "    p2, = (para_DA.sel(q=q_slice, energy=energy).mean('chi')\n",
    "     .plot.line(ax=ax2, color=colors[1], yscale='linear', xscale='linear', label='Para'))\n",
    "    p3, = (perp_DA.sel(q=q_slice, energy=energy).mean('chi')\n",
    "     .plot.line(ax=ax3, color=colors[2], yscale='linear', xscale='linear', label='Perp'))\n",
    "    p1, = (((para_DA.mean('chi') + perp_DA.mean('chi')).sel(q=q_slice, energy=energy)/2)\n",
    "     .plot.line(ax=ax1, color=colors[0], yscale='linear', xscale='linear', label='Full'))\n",
    "\n",
    "    fig.suptitle(f'I vs Q linecuts: {sample_info}', y=0.93, x=0.43)\n",
    "\n",
    "    ax1.set_title('$\\chi_{width}$ =' + f' {chi_width}°, averaged polarizations')\n",
    "    ax1.set(ylabel='Full $\\chi$ intensity [arb. units]', xlabel='Q [$Å^{-1}$]')\n",
    "    ax2.set(ylabel='Para $\\chi$ intensity [arb. units]', title=None)\n",
    "    ax3.set(ylabel='Perp $\\chi$ intensity [arb. units]', title=None)\n",
    "\n",
    "    # fig.legend(title='$\\chi$ region',borderaxespad=4.5)\n",
    "    \n",
    "    ax1.tick_params(axis='y', colors=p1.get_color())\n",
    "    ax1.yaxis.label.set_color(p1.get_color())\n",
    "    ax2.yaxis.label.set_color(p2.get_color())\n",
    "    ax3.yaxis.label.set_color(p3.get_color())\n",
    "    \n",
    "    ax2.tick_params(axis='y', colors=p2.get_color())\n",
    "    ax2.spines['right'].set_position(('outward', 0))\n",
    "    ax3.spines['right'].set_edgecolor(p2.get_color())\n",
    "    \n",
    "    ax3.tick_params(axis='y', colors=p3.get_color())\n",
    "    ax3.spines['right'].set_position(('outward', 60))\n",
    "    ax3.spines['right'].set_edgecolor(p3.get_color())\n",
    "    \n",
    "    lines= [p1,p2,p3]\n",
    "    ax1.legend(title='$\\chi$ regions', handles=lines, labels=[l.get_label() for l in lines])\n",
    "\n",
    "    # savePath = plotsPath.joinpath('rsoxs_1180/qr_linecuts_v1')\n",
    "    # fig.savefig(savePath.joinpath(f'{sample_info}_{edge}.png'), dpi=120)\n",
    "\n",
    "    plt.show()\n",
    "    plt.close('all')"
   ]
  },
  {
   "cell_type": "markdown",
   "id": "a0ca62d0-8eba-40b3-9cd8-fd79861b1781",
   "metadata": {
    "tags": []
   },
   "source": [
    "## Chi linecut"
   ]
  },
  {
   "cell_type": "code",
   "execution_count": null,
   "id": "0f9efeda-cb1e-4353-9136-d5ec76b14708",
   "metadata": {
    "tags": []
   },
   "outputs": [],
   "source": [
    "DA.sel(q_red=q_slice, energy=energy)"
   ]
  },
  {
   "cell_type": "code",
   "execution_count": null,
   "id": "4bb7a5dc-06da-4b99-b42f-1ef96471a0eb",
   "metadata": {
    "tags": []
   },
   "outputs": [],
   "source": [
    "# make selection, subtracted flat line to compare peak intensities overlayed\n",
    "DS = caked_DS.copy()\n",
    "\n",
    "# make selection\n",
    "q_slice = slice(0.25, 0.33)   # peak slice here\n",
    "chi_slice = slice(-125, 25)\n",
    "bad_chi_slices = [slice(-110, -102), slice(-77, -68), slice(-59,-56), slice(-33,-29), slice(-25,-21), slice(-5,-2)]\n",
    "\n",
    "# Select DataArray\n",
    "for sample_info in tqdm(unique_sample_infos[-3:]):\n",
    "    for theta in [90]:\n",
    "        DA = DS.sel(sample_info=sample_info, theta=theta)['raw_intensity']\n",
    "        DA = DA.where(DA>1).where(DA<(DA.max()*0.03))\n",
    "        for slice_to_nan in bad_chi_slices:\n",
    "            DA.loc[{'chi': slice_to_nan}] = np.nan\n",
    "        DA = DA.interpolate_na(dim='chi')\n",
    "        \n",
    "        DA = DA.sel(chi=chi_slice).groupby_bins('chi', 20).mean('chi')\n",
    "        \n",
    "        \n",
    "        # Plot\n",
    "        energies = DA.energy.sel(energy=[2445, 2470.2, 2472, 2474, 2476, 2477, 2478, 2484, 2550], method='nearest').data\n",
    "\n",
    "        cmap = plt.cm.viridis.copy()\n",
    "        colors = cmap(np.linspace(0, 1, len(energies)))\n",
    "\n",
    "        fig, ax = plt.subplots(figsize=(4,3), tight_layout=True)\n",
    "        \n",
    "        for i, energy in enumerate(energies):\n",
    "            # sliced_DA = (DA.sel(q_red=q_slice, energy=energy) - \n",
    "            #              DA.sel(q_red=slice(0.2,0.23), energy=energy).mean('q_red'))\n",
    "            # sliced_DA_snap = sliced_DA.copy()\n",
    "            sliced_DA = DA.sel(q_red=q_slice, energy=energy)\n",
    "            sliced_DA = sliced_DA.integrate('q_red')\n",
    "            sliced_DA = sliced_DA / float(sliced_DA.sel(chi_bins=slice(-60,-40)).mean('chi_bins'))\n",
    "            \n",
    "            sliced_DA.plot.line(ax=ax, color=colors[i], label=energy)\n",
    "            \n",
    "        ax.set_title(f'{sample_info}, $\\\\theta$={theta}°')\n",
    "        ax.set(ylabel='Chi-bin-meaned Q-integrated intensity [arb. units]')\n",
    "        ax\n",
    "        \n",
    "        ax.xaxis.set_major_locator(MultipleLocator(90))\n",
    "        ax.xaxis.set_minor_locator(MultipleLocator(45))\n",
    "        ax.xaxis.grid(True, which='both')\n",
    "        \n",
    "        plt.show()\n",
    "        plt.close('all')"
   ]
  },
  {
   "cell_type": "code",
   "execution_count": null,
   "id": "2c658004-3f41-4790-aded-bc5686870c6d",
   "metadata": {},
   "outputs": [],
   "source": [
    "# make selection, subtracted flat line to compare peak intensities overlayed\n",
    "DS = caked_DS.copy()\n",
    "\n",
    "# make selection\n",
    "q_slice = slice(0.23, 0.32)   # peak slice here\n",
    "chi_width = 90\n",
    "e_slice = slice(2470, 2485)\n",
    "\n",
    "for sample_info in tqdm(unique_sample_infos[:]):\n",
    "    for theta in [90, 55, 35]:\n",
    "        para_DA, perp_DA = make_para_perp_DAs(DS, sample_info, theta, chi_width) \n",
    "        \n",
    "        para_DA = para_DA.where(para_DA>0.4).where(para_DA<(para_DA.max()*0.03))\n",
    "        perp_DA = perp_DA.where(perp_DA>0.4).where(perp_DA<(perp_DA.max()*0.03))\n",
    "\n",
    "        # Subtract pre-peak flat line\n",
    "        para_DA = para_DA - para_DA.sel(q_red=slice(0.2,0.23)).mean('q_red')\n",
    "        perp_DA = perp_DA - perp_DA.sel(q_red=slice(0.2,0.23)).mean('q_red')\n",
    "        \n",
    "        # Mean/integrate chi/q:\n",
    "        para_areas_DA = para_DA.sel(q_red=q_slice).mean('chi').integrate('q_red')\n",
    "        perp_areas_DA = perp_DA.sel(q_red=q_slice).mean('chi').integrate('q_red')\n",
    "        \n",
    "        # Plot        \n",
    "        fig, ax = plt.subplots(figsize=(5,4), tight_layout=True)\n",
    "        para_areas_DA.sel(energy=e_slice).plot.line(ax=ax, label='Para')\n",
    "        perp_areas_DA.sel(energy=e_slice).plot.line(ax=ax, label='Perp')\n",
    "\n",
    "        fig.suptitle(f'Lamella peak area vs photon energy: {sample_info}', x=0.53, y=0.95)\n",
    "\n",
    "        ax.set_title(f'$\\\\theta$ = {theta}°, $\\chi$ width = 90°')\n",
    "        ax.set(ylabel=f'Integrated q ({q_slice.start}, {q_slice.stop}) [arb. units]', xlabel='Energy [eV]')\n",
    "        \n",
    "        ax.xaxis.set_minor_locator(MultipleLocator(1))\n",
    "        ax.xaxis.grid(True, which='both')\n",
    "        ax.legend()\n",
    "        \n",
    "\n",
    "        savePath = outPath.joinpath('trexs_plots/waxs_core_films_trexs_plots/peakarea-vs-energy_v2')\n",
    "        savePath.mkdir(exist_ok=True)\n",
    "        fig.savefig(savePath.joinpath(\n",
    "            f'{sample_info}_theta-{theta}deg_chiWidth-{chi_width}deg_q-{q_slice.start}-{q_slice.stop}_energy{e_slice.start}-{e_slice.stop}.png'), dpi=120)\n",
    "        \n",
    "        # plt.show()\n",
    "        plt.close('all')"
   ]
  },
  {
   "cell_type": "code",
   "execution_count": null,
   "id": "054558ea-f96d-49c3-a642-c4b3373142e5",
   "metadata": {},
   "outputs": [],
   "source": [
    "# make selection\n",
    "DS = caked_DS.copy()\n",
    "\n",
    "# make selection\n",
    "q_slice = slice(0.1, 0.5)\n",
    "chi_width = 90\n",
    "# energy_slice = slice(2470, 2485)\n",
    "\n",
    "for sample_info in tqdm(unique_sample_infos[:]):\n",
    "    for theta in [90]:\n",
    "        para_DA, perp_DA = make_para_perp_DAs(DS, sample_info, theta, chi_width) \n",
    "        \n",
    "        para_DA = para_DA.where(para_DA>0.4).where(para_DA<(para_DA.max()*0.03))  #.interpolate_na(dim='chi')\n",
    "        # para_DA.sel(energy=2477.2,method='nearest').sel(q_red=slice(0.05, 0.7)).plot.imshow()\n",
    "        # plt.title('para')\n",
    "        # plt.show()\n",
    "        \n",
    "        perp_DA = perp_DA.where(perp_DA>0.4).where(perp_DA<(perp_DA.max()*0.03))  #.interpolate_na(dim='chi')\n",
    "        # perp_DA.sel(energy=2477.2,method='nearest').sel(q_red=slice(0.05, 0.7)).plot.imshow()\n",
    "        # plt.title('perp')\n",
    "        # plt.show()\n",
    "        # plt.close('all')\n",
    "\n",
    "        \n",
    "        # Plot\n",
    "        energies = para_DA.energy.sel(energy=[2445, 2470.2, 2472, 2474, 2476, 2477, 2478, 2484, 2550], method='nearest').data\n",
    "\n",
    "        cmap = plt.cm.turbo.copy()\n",
    "        colors = cmap(np.linspace(0, 1, len(energies)))\n",
    "\n",
    "        fig, axs = plt.subplots(ncols=2,figsize=(8,4), tight_layout=True)\n",
    "\n",
    "        for j, energy in enumerate(energies):\n",
    "            (para_DA.sel(q_red=q_slice, energy=energy).mean('chi')\n",
    "             .plot.line(ax=axs[0], color=colors[j], yscale='linear', xscale='linear', label=energy))\n",
    "            (perp_DA.sel(q_red=q_slice, energy=energy).mean('chi')\n",
    "             .plot.line(ax=axs[1], color=colors[j], yscale='linear', xscale='linear', label=energy))\n",
    "\n",
    "        fig.suptitle(f'IvsQ, $\\\\theta$ = {theta}°, $\\chi$ width = 90°: {sample_info}', x=0.47)\n",
    "\n",
    "        axs[0].set(title=f'Parallel to E$_p$', ylabel='Intensity [arb. units]', xlabel='Q [$Å^{-1}$]')\n",
    "        axs[1].set(title=f'Perpendicular to E$_p$', ylabel='Intensity [arb. units]', xlabel='Q [$Å^{-1}$]')\n",
    "        axs[1].legend(title='Energy [eV]', loc=(1.05,0.1))\n",
    "\n",
    "        # fig.savefig(outPath.joinpath('trexs_plots/I_cuts_v1', \n",
    "        #     f'{sample_info}_theta-{theta}deg_chiWidth-{chi_width}deg_q-{q_slice.start}-{q_slice.stop}.png'), dpi=120)\n",
    "        \n",
    "        plt.show()\n",
    "        plt.close('all')"
   ]
  },
  {
   "cell_type": "markdown",
   "id": "2063c575-1e68-41f9-aee2-83223686d00a",
   "metadata": {
    "tags": []
   },
   "source": [
    "## Anisotropy Ratio Plots"
   ]
  },
  {
   "cell_type": "markdown",
   "id": "a86e91f0-e7a2-4a86-8eea-cdede84b52e2",
   "metadata": {
    "tags": []
   },
   "source": [
    "### 1. 2D AR Maps"
   ]
  },
  {
   "cell_type": "code",
   "execution_count": null,
   "id": "1fa073cd-1667-4093-bf00-a5bfd7f06b75",
   "metadata": {
    "tags": []
   },
   "outputs": [],
   "source": [
    "para_DA.interpolate_na(dim='chi')"
   ]
  },
  {
   "cell_type": "code",
   "execution_count": null,
   "id": "7c8dcd73-505c-49d6-9ab3-b2573c8f8f1c",
   "metadata": {
    "tags": []
   },
   "outputs": [],
   "source": [
    "DS = caked_DS.copy()\n",
    "\n",
    "# make selection\n",
    "q_slice = slice(0.05, 0.8)\n",
    "chi_width = 90\n",
    "energy_slice = slice(2470, 2485)\n",
    "\n",
    "# para_sin35, perp_sin35 = make_para_perp_DAs(DS, 'BareSiN_01', 35, chi_width) \n",
    "# para_sin55, perp_sin55 = make_para_perp_DAs(DS, 'BareSiN_01', 55, chi_width) \n",
    "# para_sin90, perp_sin90 = make_para_perp_DAs(DS, 'BareSiN_01', 90, chi_width) \n",
    "\n",
    "for sample_info in tqdm(unique_sample_infos):\n",
    "    for theta in [90, 55, 35]:\n",
    "        para_DA, perp_DA = make_para_perp_DAs(DS, sample_info, theta, chi_width) \n",
    "        \n",
    "        para_DA = para_DA.where(para_DA>0.4).where(para_DA<(para_DA.max()*0.03))  #.interpolate_na(dim='chi')\n",
    "        # para_DA.sel(energy=2477.2,method='nearest').sel(q_red=slice(0.05, 0.7)).plot.imshow()\n",
    "        # plt.title('para')\n",
    "        # plt.show()\n",
    "        \n",
    "        perp_DA = perp_DA.where(perp_DA>0.4).where(perp_DA<(perp_DA.max()*0.03))  #.interpolate_na(dim='chi')\n",
    "        # perp_DA.sel(energy=2477.2,method='nearest').sel(q_red=slice(0.05, 0.7)).plot.imshow()\n",
    "        # plt.title('perp')\n",
    "        # plt.show()\n",
    "        # plt.close('all')\n",
    "            \n",
    "        # Select AR data\n",
    "        ar_DA = (para_DA.mean('chi') - perp_DA.mean('chi')) / (para_DA.mean('chi') + perp_DA.mean('chi'))\n",
    "\n",
    "        # Plot\n",
    "        vlim = 0.4\n",
    "        ax = ar_DA.sel(energy=energy_slice, q_red=q_slice).plot.pcolormesh(\n",
    "            cmap=plt.cm.RdBu_r, figsize=(8,5), norm=plt.Normalize(-vlim, vlim), xscale='linear')\n",
    "        # ax = ar_DA.sel(energy=energy_slice, q_red=q_slice).plot.pcolormesh(figsize=(8,5))\n",
    "\n",
    "        ax.figure.suptitle('Anisotropy Ratio (AR) Map', fontsize=14, x=0.43)\n",
    "        ax.axes.set(title=f'{sample_info}, $\\\\theta$ = {theta}°, Chi Width = {chi_width}°', ylabel='Photon Energy [eV]', xlabel='q [$Å^{-1}$]')\n",
    "        ax.colorbar.set_label('AR [arb. units]', rotation=270, labelpad=12)\n",
    "\n",
    "\n",
    "        # ax.figure.savefig(outPath.joinpath('trexs_plots/ar_maps_v1', \n",
    "        #     f'{sample_info}_theta-{theta}deg_chiWidth-{chi_width}deg_q-{q_slice.start}-{q_slice.stop}_energy{energy_slice.start}-{energy_slice.stop}.png'), \n",
    "        #                   dpi=120)\n",
    "\n",
    "        plt.show()\n",
    "        plt.close('all')"
   ]
  },
  {
   "cell_type": "code",
   "execution_count": null,
   "id": "9e4f7258-28e3-45ac-ae92-3bd84c61219b",
   "metadata": {
    "tags": []
   },
   "outputs": [],
   "source": [
    "outPath.joinpath('trexs_plots/ar_maps_v1')"
   ]
  },
  {
   "cell_type": "markdown",
   "id": "76a88b52-4191-4262-ada1-5c5a5022ee4e",
   "metadata": {
    "jp-MarkdownHeadingCollapsed": true,
    "tags": []
   },
   "source": [
    "### 2. 1D meaned AR linecuts"
   ]
  },
  {
   "cell_type": "code",
   "execution_count": null,
   "id": "006aba65-5391-4624-9f5b-2d89ef18b012",
   "metadata": {
    "tags": []
   },
   "outputs": [],
   "source": [
    "# make selection\n",
    "# sample_info = 'Y6_CB_2500'\n",
    "DS = caked_DS.copy()\n",
    "\n",
    "# make selection\n",
    "q_slice = slice(0.05, 0.8)\n",
    "chi_width = 90\n",
    "# energy_slice = slice(2470, 2485)\n",
    "\n",
    "for sample_info in tqdm(unique_sample_infos):\n",
    "    for theta in [90, 55, 35]:\n",
    "        para_DA, perp_DA = make_para_perp_DAs(DS, sample_info, theta, chi_width) \n",
    "        \n",
    "        para_DA = para_DA.where(para_DA>0.4).where(para_DA<(para_DA.max()*0.03))  #.interpolate_na(dim='chi')\n",
    "        # para_DA.sel(energy=2477.2,method='nearest').sel(q_red=slice(0.05, 0.7)).plot.imshow()\n",
    "        # plt.title('para')\n",
    "        # plt.show()\n",
    "        \n",
    "        perp_DA = perp_DA.where(perp_DA>0.4).where(perp_DA<(perp_DA.max()*0.03))  #.interpolate_na(dim='chi')\n",
    "        # perp_DA.sel(energy=2477.2,method='nearest').sel(q_red=slice(0.05, 0.7)).plot.imshow()\n",
    "        # plt.title('perp')\n",
    "        # plt.show()\n",
    "        # plt.close('all')\n",
    "            \n",
    "        # Select AR data\n",
    "        ar_DA = (para_DA.mean('chi') - perp_DA.mean('chi')) / (para_DA.mean('chi') + perp_DA.mean('chi'))\n",
    "\n",
    "        # Plot   \n",
    "        energies = para_DA.energy.sel(energy=[2445, 2470.2, 2472, 2474, 2476, 2477, 2478, 2484, 2550], method='nearest').data\n",
    "        cmap = plt.cm.turbo.copy()\n",
    "        colors = cmap(np.linspace(0, 1, len(energies)))        \n",
    "\n",
    "        # # Create a ScalarMappable object with the colormap and normalization & add the colorbar to the figure\n",
    "        # sm = plt.cm.ScalarMappable(cmap=cmap, norm=plt.Normalize(vmin=energies[0], vmax=energies[-1]))\n",
    "        # cax = ax.inset_axes([1.03, 0, 0.03, 1])\n",
    "        # cbar = fig.colorbar(sm, cax=cax, orientation='vertical')\n",
    "        # cbar.set_label(label=f'Time [seconds]', labelpad=14)\n",
    "        # cbar.set_ticks(np.round(np.linspace(energies[0], energies[-1], len(energies)), 2))\n",
    "\n",
    "        fig, ax = plt.subplots(tight_layout=True, figsize=(6,4), dpi=120)\n",
    "\n",
    "        qmin = 8e-3 \n",
    "        qmax = 8e-2\n",
    "\n",
    "        for j, energy in enumerate(energies):\n",
    "            (ar_DA.sel(energy=energy, q_red=q_slice).plot.line(ax=ax, color=colors[j], label=energy, xscale='linear'))\n",
    "\n",
    "        fig.suptitle(f'Anisotropy Ratio Linecuts: {sample_info}', x=0.46)\n",
    "\n",
    "        ax.set(title=f'Chi width = {chi_width}°, $\\\\theta$ = {theta}°', ylim=(-0.5, 0.5), ylabel='AR [arb. units]', xlabel='Q [$Å^{-1}$]')\n",
    "        ax.legend(title='Energy [eV]', loc=(1.03,0.02))\n",
    "\n",
    "\n",
    "        fig.savefig(outPath.joinpath('trexs_plots/ar_cuts_v1', \n",
    "            f'{sample_info}_theta-{theta}deg_chiWidth-{chi_width}deg_q-{q_slice.start}-{q_slice.stop}.png'), dpi=120)\n",
    "\n",
    "        # plt.show()\n",
    "        plt.close('all')"
   ]
  },
  {
   "cell_type": "code",
   "execution_count": null,
   "id": "29903620-a5c4-4b9f-9a60-75b81f002f2b",
   "metadata": {},
   "outputs": [],
   "source": [
    "ar_DA.hvplot.line(groupby=\"energy\")"
   ]
  },
  {
   "cell_type": "markdown",
   "id": "6aebaf0a-f5f9-424b-b9e2-6f86780102d4",
   "metadata": {
    "tags": []
   },
   "source": [
    "## Meaned 1D intensity lineplots, selected energies"
   ]
  },
  {
   "cell_type": "code",
   "execution_count": null,
   "id": "71d74d8d-0ec8-4903-91f4-e11c95a1d768",
   "metadata": {
    "tags": []
   },
   "outputs": [],
   "source": [
    "# manual_scale_factors_v1 = {\n",
    "#     'PM6_CB_3000': 6.5,\n",
    "#     ...\n",
    "#     'Y6_CF_2500': 8.5,\n",
    "# }\n",
    "\n",
    "# len(manual_scale_factors_v1)"
   ]
  },
  {
   "cell_type": "code",
   "execution_count": null,
   "id": "5b9996bf-c3a1-4229-be4f-362cd6fc71bb",
   "metadata": {
    "tags": []
   },
   "outputs": [],
   "source": [
    "para_DA.sel(q_red=slice(0.2,0.23)).mean('q_red')"
   ]
  },
  {
   "cell_type": "code",
   "execution_count": null,
   "id": "922da521-f46f-4c84-baf2-03e778a0f4aa",
   "metadata": {
    "tags": []
   },
   "outputs": [],
   "source": [
    "unique_sample_infos"
   ]
  },
  {
   "cell_type": "code",
   "execution_count": null,
   "id": "68d5b014-03ee-4f43-a1a0-53d4830a08b1",
   "metadata": {
    "tags": []
   },
   "outputs": [],
   "source": [
    "# make selection\n",
    "DS = caked_DS.copy()\n",
    "\n",
    "# make selection\n",
    "q_slice = slice(0.1, 0.5)\n",
    "chi_width = 90\n",
    "# energy_slice = slice(2470, 2485)\n",
    "\n",
    "for sample_info in tqdm(unique_sample_infos[-1:]):\n",
    "    for theta in [90]:\n",
    "        para_DA, perp_DA = make_para_perp_DAs(DS, sample_info, theta, chi_width) \n",
    "        \n",
    "        para_DA = para_DA.where(para_DA>0.4).where(para_DA<(para_DA.max()*0.03))  #.interpolate_na(dim='chi')\n",
    "        # para_DA.sel(energy=2477.2,method='nearest').sel(q_red=slice(0.05, 0.7)).plot.imshow()\n",
    "        # plt.title('para')\n",
    "        # plt.show()\n",
    "        \n",
    "        perp_DA = perp_DA.where(perp_DA>0.4).where(perp_DA<(perp_DA.max()*0.03))  #.interpolate_na(dim='chi')\n",
    "        # perp_DA.sel(energy=2477.2,method='nearest').sel(q_red=slice(0.05, 0.7)).plot.imshow()\n",
    "        # plt.title('perp')\n",
    "        # plt.show()\n",
    "        # plt.close('all')\n",
    "\n",
    "        \n",
    "        # Plot\n",
    "        energies = para_DA.energy.sel(energy=[2445, 2470.2, 2472, 2474, 2476, 2477, 2478, 2484, 2550], method='nearest').data\n",
    "\n",
    "        cmap = plt.cm.turbo.copy()\n",
    "        colors = cmap(np.linspace(0, 1, len(energies)))\n",
    "\n",
    "        fig, axs = plt.subplots(ncols=2,figsize=(8,4), tight_layout=True)\n",
    "\n",
    "        for j, energy in enumerate(energies):\n",
    "            (para_DA.sel(q_red=q_slice, energy=energy).mean('chi')\n",
    "             .plot.line(ax=axs[0], color=colors[j], yscale='linear', xscale='linear', label=energy))\n",
    "            (perp_DA.sel(q_red=q_slice, energy=energy).mean('chi')\n",
    "             .plot.line(ax=axs[1], color=colors[j], yscale='linear', xscale='linear', label=energy))\n",
    "\n",
    "        fig.suptitle(f'IvsQ, $\\\\theta$ = {theta}°, $\\chi$ width = 90°: {sample_info}', x=0.47)\n",
    "\n",
    "        axs[0].set(title=f'Parallel to E$_p$', ylabel='Intensity [arb. units]', xlabel='Q [$Å^{-1}$]')\n",
    "        axs[1].set(title=f'Perpendicular to E$_p$', ylabel='Intensity [arb. units]', xlabel='Q [$Å^{-1}$]')\n",
    "        axs[1].legend(title='Energy [eV]', loc=(1.05,0.1))\n",
    "\n",
    "        # fig.savefig(outPath.joinpath('trexs_plots/I_cuts_v1', \n",
    "        #     f'{sample_info}_theta-{theta}deg_chiWidth-{chi_width}deg_q-{q_slice.start}-{q_slice.stop}.png'), dpi=120)\n",
    "        \n",
    "        plt.show()\n",
    "        plt.close('all')"
   ]
  },
  {
   "cell_type": "code",
   "execution_count": null,
   "id": "871a597d-1c92-4d52-8c5a-4957b20829dc",
   "metadata": {
    "tags": []
   },
   "outputs": [],
   "source": [
    "# make selection, subtracted flat line to compare peak intensities overlayed\n",
    "DS = caked_DS.copy()\n",
    "\n",
    "# make selection\n",
    "q_slice = slice(0.1, 0.5)\n",
    "chi_width = 90\n",
    "# energy_slice = slice(2470, 2485)\n",
    "\n",
    "for sample_info in tqdm(unique_sample_infos[-1:]):\n",
    "    for theta in [90, 55, 35]:\n",
    "        para_DA, perp_DA = make_para_perp_DAs(DS, sample_info, theta, chi_width) \n",
    "        \n",
    "        para_DA = para_DA.where(para_DA>0.4).where(para_DA<(para_DA.max()*0.03))  #.interpolate_na(dim='chi')\n",
    "        # para_DA.sel(energy=2477.2,method='nearest').sel(q_red=slice(0.05, 0.7)).plot.imshow()\n",
    "        # plt.title('para')\n",
    "        # plt.show()\n",
    "        \n",
    "        perp_DA = perp_DA.where(perp_DA>0.4).where(perp_DA<(perp_DA.max()*0.03))  #.interpolate_na(dim='chi')\n",
    "        # perp_DA.sel(energy=2477.2,method='nearest').sel(q_red=slice(0.05, 0.7)).plot.imshow()\n",
    "        # plt.title('perp')\n",
    "        # plt.show()\n",
    "        # plt.close('all')\n",
    "\n",
    "        # Subtract pre-peak flat line\n",
    "        para_DA = para_DA - para_DA.sel(q_red=slice(0.2,0.23)).mean('q_red')\n",
    "        perp_DA = perp_DA - perp_DA.sel(q_red=slice(0.2,0.23)).mean('q_red')\n",
    "\n",
    "        \n",
    "        # Plot\n",
    "        energies = para_DA.energy.sel(energy=[2445, 2470.2, 2472, 2474, 2476, 2477, 2478, 2484, 2550], method='nearest').data\n",
    "\n",
    "        # cmap = plt.cm.turbo.copy()\n",
    "        cmap = plt.cm.viridis.copy()\n",
    "        colors = cmap(np.linspace(0, 1, len(energies)))\n",
    "\n",
    "        fig, axs = plt.subplots(ncols=2,figsize=(8,4), tight_layout=True)\n",
    "\n",
    "        for j, energy in enumerate(energies):\n",
    "            (para_DA.sel(q_red=q_slice, energy=energy).mean('chi')\n",
    "             .plot.line(ax=axs[0], color=colors[j], yscale='linear', xscale='linear', label=energy))\n",
    "            (perp_DA.sel(q_red=q_slice, energy=energy).mean('chi')\n",
    "             .plot.line(ax=axs[1], color=colors[j], yscale='linear', xscale='linear', label=energy))\n",
    "\n",
    "        fig.suptitle(f'IvsQ, $\\\\theta$ = {theta}°, $\\chi$ width = 90°: {sample_info}', x=0.47)\n",
    "\n",
    "        axs[0].set(title=f'Parallel to E$_p$', ylabel='Intensity [arb. units]', xlabel='Q [$Å^{-1}$]')\n",
    "        axs[1].set(title=f'Perpendicular to E$_p$', ylabel='Intensity [arb. units]', xlabel='Q [$Å^{-1}$]')\n",
    "        axs[1].legend(title='Energy [eV]', loc=(1.05,0.1))\n",
    "\n",
    "        # savePath = outPath.joinpath('trexs_plots/waxs_core_films_trexs_plots/I_cuts_flatsub_v1')\n",
    "        # savePath.mkdir(exist_ok=True)\n",
    "        # fig.savefig(savePath.joinpath(\n",
    "        #     f'{sample_info}_theta-{theta}deg_chiWidth-{chi_width}deg_q-{q_slice.start}-{q_slice.stop}.png'), dpi=120)\n",
    "        \n",
    "        plt.show()\n",
    "        plt.close('all')"
   ]
  },
  {
   "cell_type": "code",
   "execution_count": null,
   "id": "b966e8ca-7abb-4194-9807-7af918eccd28",
   "metadata": {
    "tags": []
   },
   "outputs": [],
   "source": [
    "# make selection, subtracted flat line & normalized to peak maximum\n",
    "DS = caked_DS.copy()\n",
    "\n",
    "# make selection\n",
    "q_slice = slice(0.1, 0.5)\n",
    "chi_width = 90\n",
    "# energy_slice = slice(2470, 2485)\n",
    "\n",
    "for sample_info in tqdm(unique_sample_infos[:]):\n",
    "    for theta in [90, 55, 35]:\n",
    "        para_DA, perp_DA = make_para_perp_DAs(DS, sample_info, theta, chi_width) \n",
    "        \n",
    "        para_DA = para_DA.where(para_DA>0.4).where(para_DA<(para_DA.max()*0.03))  #.interpolate_na(dim='chi')\n",
    "        # para_DA.sel(energy=2477.2,method='nearest').sel(q_red=slice(0.05, 0.7)).plot.imshow()\n",
    "        # plt.title('para')\n",
    "        # plt.show()\n",
    "        \n",
    "        perp_DA = perp_DA.where(perp_DA>0.4).where(perp_DA<(perp_DA.max()*0.03))  #.interpolate_na(dim='chi')\n",
    "        # perp_DA.sel(energy=2477.2,method='nearest').sel(q_red=slice(0.05, 0.7)).plot.imshow()\n",
    "        # plt.title('perp')\n",
    "        # plt.show()\n",
    "        # plt.close('all')\n",
    "\n",
    "        # Subtract pre-peak flat line\n",
    "        para_DA = para_DA - para_DA.sel(q_red=slice(0.2,0.23)).mean('q_red')\n",
    "        perp_DA = perp_DA - perp_DA.sel(q_red=slice(0.2,0.23)).mean('q_red')\n",
    "        \n",
    "        # Normalize by peak value\n",
    "        para_DA_meaned = para_DA.mean('chi')\n",
    "        perp_DA_meaned = perp_DA.mean('chi')\n",
    "        \n",
    "        para_DA_meaned = para_DA_meaned / para_DA_meaned.sel(q_red=slice(0.23,0.33)).max('q_red')\n",
    "        perp_DA_meaned = perp_DA_meaned / perp_DA_meaned.sel(q_red=slice(0.23,0.33)).max('q_red')\n",
    "        \n",
    "        # Plot\n",
    "        energies = para_DA.energy.sel(energy=[2445, 2470.2, 2472, 2474, 2476, 2477, 2478, 2484, 2550], method='nearest').data\n",
    "\n",
    "        # cmap = plt.cm.turbo.copy()\n",
    "        cmap = plt.cm.viridis.copy()\n",
    "        colors = cmap(np.linspace(0, 1, len(energies)))\n",
    "\n",
    "        fig, axs = plt.subplots(ncols=2,figsize=(8,4), tight_layout=True)\n",
    "\n",
    "        for j, energy in enumerate(energies):\n",
    "            (para_DA_meaned.sel(energy=energy, q_red=q_slice)\n",
    "            .plot.line(ax=axs[0], color=colors[j], yscale='linear', xscale='linear', label=energy))\n",
    "            (perp_DA_meaned.sel(energy=energy, q_red=q_slice)\n",
    "            .plot.line(ax=axs[1], color=colors[j], yscale='linear', xscale='linear', label=energy))\n",
    "\n",
    "        fig.suptitle(f'IvsQ, $\\\\theta$ = {theta}°, $\\chi$ width = 90°: {sample_info}', x=0.47)\n",
    "\n",
    "        axs[0].set(ylim=(None,1.2), title=f'Parallel to E$_p$', ylabel='Normalized intensity [arb. units]', xlabel='Q [$Å^{-1}$]')\n",
    "        axs[1].set(ylim=(None,1.2), title=f'Perpendicular to E$_p$', ylabel='Normalized intensity [arb. units]', xlabel='Q [$Å^{-1}$]')\n",
    "        axs[1].legend(title='Energy [eV]', loc=(1.05,0.1))\n",
    "\n",
    "        savePath = outPath.joinpath('trexs_plots/waxs_core_films_trexs_plots/I_cuts_normed_v1')\n",
    "        savePath.mkdir(exist_ok=True)\n",
    "        fig.savefig(savePath.joinpath(\n",
    "            f'{sample_info}_theta-{theta}deg_chiWidth-{chi_width}deg_q-{q_slice.start}-{q_slice.stop}.png'), dpi=120)\n",
    "        \n",
    "        # plt.show()\n",
    "        plt.close('all')"
   ]
  },
  {
   "cell_type": "markdown",
   "id": "92795131-d59b-4f22-bead-004885db3fd0",
   "metadata": {
    "tags": []
   },
   "source": [
    "### 1D line fitting*\n",
    "Use lmfit to perform the linefits"
   ]
  },
  {
   "cell_type": "code",
   "execution_count": null,
   "id": "df355c87-e3c6-467d-9d03-41e8209a269b",
   "metadata": {},
   "outputs": [],
   "source": [
    "from scipy import optimize, signal\n",
    "from lmfit import models"
   ]
  },
  {
   "cell_type": "markdown",
   "id": "0a7e9075-8ebb-4e3e-903e-559fc73d634a",
   "metadata": {
    "tags": []
   },
   "source": [
    "#### Messy A-series line fitting below"
   ]
  },
  {
   "cell_type": "code",
   "execution_count": null,
   "id": "14c4c0d7-89b9-4b46-91bd-e9cf38bd7f5e",
   "metadata": {},
   "outputs": [],
   "source": [
    "# def fit_plotter(q, I, out):\n",
    "#     \"\"\"\n",
    "#     Plots a figure with 2 axes, the full fit on a log scale on the left and the components in normal scale on the right\n",
    "#     \"\"\"\n",
    "#     fig, (ax1, ax2) = plt.subplots(1,2)\n",
    "#     fig.set(size_inches=(12,4))\n",
    "    \n",
    "#     ax1.plot(q, I, label='data')\n",
    "#     ax1.plot(q, out.best_fit, label='full_fit')\n",
    "#     ax1.set(xlabel='Q [Å$^{-1}$]', ylabel='Intensity [arb. units]')\n",
    "#     ax1.legend(loc='upper left')\n",
    "    \n",
    "#     ax2.plot(q, I, label='data')\n",
    "#     ax2.plot(q, out.best_fit, label='full_fit')\n",
    "#     for key in out.eval_components():\n",
    "#         ax2.plot(q, out.eval_components()[key], label=f'{key}')\n",
    "#     ax2.set(xlabel='Q [Å$^{-1}$]')\n",
    "#     ax2.legend(loc='upper left')\n",
    "    \n",
    "#     return (ax1, ax2), fig"
   ]
  },
  {
   "cell_type": "code",
   "execution_count": null,
   "id": "9c68a8c9-61bf-4862-817b-0dc51b19c7a3",
   "metadata": {},
   "outputs": [],
   "source": [
    "# A1\n",
    "intensity_type = 'raw'\n",
    "if intensity_type == 'corr':\n",
    "    DA = selected_corr_DAs[0].compute()\n",
    "elif intensity_type == 'raw':\n",
    "    DA = selected_raw_DAs[0].compute()\n",
    "else:\n",
    "    print('Must select intensity type')\n",
    "\n",
    "OOP_linecut_DA = DA.sel(chi=slice(chi_min, chi_max), qr=slice(0.3, 1.9)).mean('chi')\n",
    "\n",
    "point_x = 0.3\n",
    "point_y = float(DA.sel(chi=slice(chi_min, chi_max), qr=slice(point_x-0.01, point_x+0.01)).mean('qr').mean('chi'))\n",
    "point_y = point_y - point_y*(0.08)\n",
    "\n",
    "x = OOP_linecut_DA.qr.data\n",
    "y = OOP_linecut_DA.data\n",
    "\n",
    "# Define all models to include in fitting\n",
    "bkg_mod = models.LinearModel(prefix='bkg_')\n",
    "pars = bkg_mod.make_params()\n",
    "pars = bkg_mod.make_params(intercept=point_y, slope=0)\n",
    "pars['bkg_intercept'].set(vary=False)\n",
    "pars['bkg_slope'].set(vary=False)\n",
    "\n",
    "pk1_mod = models.PseudoVoigtModel(prefix='pk1_')\n",
    "# pars = pk1_mod.make_params(center=0.55)\n",
    "pars += pk1_mod.guess(y, x, center=0.55)\n",
    "# pars['pk1_amplitude'].set(min=0.5)\n",
    "pars['pk1_amplitude'].set(min=0)\n",
    "\n",
    "# pk2_mod = models.LorentzianModel(prefix='pk2_')\n",
    "pk2_mod = models.PseudoVoigtModel(prefix='pk2_')\n",
    "\n",
    "pars += pk2_mod.guess(y, x, center=1.7)\n",
    "# pars['pk2_center'].set(max = 0.62, min = 0.58)\n",
    "# pars['pk2_sigma'].set(max = 0.03)\n",
    "pars['pk2_amplitude'].set(min=0)\n",
    "\n",
    "pk3_mod = models.PseudoVoigtModel(prefix='pk3_')\n",
    "pars += pk3_mod.guess(y, x, center=0.8)\n",
    "pars['pk3_center'].set(max=0.9, min = 0.7)\n",
    "pars['pk3_amplitude'].set(min=0)\n",
    "\n",
    "\n",
    "# Combine into full model\n",
    "mod = bkg_mod + pk1_mod + pk2_mod + pk3_mod\n",
    "\n",
    "# Run fit and store all info in a ModelResult object\n",
    "out = mod.fit(y, pars, x=x)\n",
    "FWHM = np.round(float(out.params['pk2_fwhm']), 2)\n",
    "center = np.round(float(out.params['pk2_center']), 2)\n",
    "Lc = np.round((2*np.pi*0.9)/FWHM, 2)\n",
    "\n",
    "# Plot\n",
    "axs, fig = fit_plotter(x, y, out)\n",
    "fig.set(tight_layout=True)\n",
    "\n",
    "if intensity_type == 'corr':\n",
    "    axs[0].set(ylabel=f'Meaned (Intensity * sin($\\chi$)) [arb. units]', title=f'Scherrer Coherence Length = {Lc} Å')\n",
    "    axs[1].set(title=f'Pi-Pi Peak: FWHM = {FWHM}' + ' Å$^{-1}$, ' + f'Peak Center = {center}' + ' Å$^{-1}$')\n",
    "    fig.suptitle(f'{DA.film} Film, sin($\\chi$)-corrected Linecut Fit, {chi_min}° to {chi_max}° $\\chi$, Incident Angle = {DA.incident_angle[2:-1]}°')    \n",
    "elif intensity_type =='raw':\n",
    "    axs[0].set(ylabel=f'Meaned Raw Intensity [arb. units]', title=f'Scherrer Coherence Length = {Lc} Å')\n",
    "    axs[1].set(title=f'Pi-Pi Peak: FWHM = {FWHM}' + ' Å$^{-1}$, ' + f'Peak Center = {center}' + ' Å$^{-1}$')\n",
    "    fig.suptitle(f'{DA.film} Film, Raw Intensity Linecut Fit, {chi_min}° to {chi_max}° $\\chi$, Incident Angle = {DA.incident_angle[2:-1]}°')\n",
    "\n",
    "fig.savefig(outPath.joinpath('A1-3set_waxs/linecut_fits', f'{DA.film}_{intensity_type}_{DA.incident_angle}_{chi_min}to{chi_max}chi.png'), dpi=120)\n",
    "plt.show()\n",
    "\n",
    "\n",
    "print(f'FWHM = {FWHM}, Lc = {Lc}\\n')\n",
    "display(out.best_values)"
   ]
  },
  {
   "cell_type": "code",
   "execution_count": null,
   "id": "c5de2818-f3b5-4cee-80c7-4e0a46c15b62",
   "metadata": {},
   "outputs": [],
   "source": [
    "# A2\n",
    "intensity_type = 'corr'\n",
    "if intensity_type == 'corr':\n",
    "    DA = selected_corr_DAs[1].compute()\n",
    "elif intensity_type == 'raw':\n",
    "    DA = selected_raw_DAs[1].compute()\n",
    "else:\n",
    "    print('Must select intensity type')\n",
    "    \n",
    "OOP_linecut_DA = DA.sel(chi=slice(chi_min, chi_max), qr=slice(0.3, 1.9)).mean('chi')\n",
    "\n",
    "point_x = 0.3\n",
    "point_y = float(DA.sel(chi=slice(chi_min, chi_max), qr=slice(point_x-0.01, point_x+0.01)).mean('qr').mean('chi'))\n",
    "point_y = point_y - point_y*(0.08)\n",
    "\n",
    "x = OOP_linecut_DA.qr.data\n",
    "y = OOP_linecut_DA.data\n",
    "\n",
    "# Define all models to include in fitting\n",
    "bkg_mod = models.LinearModel(prefix='bkg_')\n",
    "# pars = bkg_mod.make_params()\n",
    "pars = bkg_mod.make_params(intercept=point_y, slope=0)\n",
    "pars['bkg_intercept'].set(vary=False)\n",
    "pars['bkg_slope'].set(vary=False)\n",
    "\n",
    "pk1_mod = models.PseudoVoigtModel(prefix='pk1_')\n",
    "# pars = pk1_mod.make_params(center=0.55)\n",
    "pars += pk1_mod.guess(y, x, center=0.55)\n",
    "# pars['pk1_amplitude'].set(min=0.5)\n",
    "\n",
    "pk2_mod = models.PseudoVoigtModel(prefix='pk2_')\n",
    "pars += pk2_mod.guess(y, x, center=1.7)\n",
    "# pars['pk2_center'].set(max = 0.62, min = 0.58)\n",
    "# pars['pk2_sigma'].set(max = 0.03)\n",
    "# pars['pk2_amplitude'].set(min=0.5)\n",
    "\n",
    "# Combine into full model\n",
    "mod = bkg_mod + pk1_mod + pk2_mod\n",
    "\n",
    "# Run fit and store all info in a ModelResult object\n",
    "out = mod.fit(y, pars, x=x)\n",
    "FWHM = np.round(float(out.params['pk2_fwhm']), 2)\n",
    "center = np.round(float(out.params['pk2_center']), 2)\n",
    "Lc = np.round((2*np.pi*0.9)/FWHM, 2)\n",
    "\n",
    "# Plot\n",
    "axs, fig = fit_plotter(x, y, out)\n",
    "fig.set(tight_layout=True)\n",
    "\n",
    "if intensity_type == 'corr':\n",
    "    axs[0].set(ylabel=f'Meaned (Intensity * sin($\\chi$)) [arb. units]', title=f'Scherrer Coherence Length = {Lc} Å')\n",
    "    axs[1].set(title=f'Pi-Pi Peak: FWHM = {FWHM}' + ' Å$^{-1}$, ' + f'Peak Center = {center}' + ' Å$^{-1}$')\n",
    "    fig.suptitle(f'{DA.film} Film, sin($\\chi$)-corrected Linecut Fit, {chi_min}° to {chi_max}° $\\chi$, Incident Angle = {DA.incident_angle[2:-1]}°')    \n",
    "elif intensity_type =='raw':\n",
    "    axs[0].set(ylabel=f'Meaned Raw Intensity [arb. units]', title=f'Scherrer Coherence Length = {Lc} Å')\n",
    "    axs[1].set(title=f'Pi-Pi Peak: FWHM = {FWHM}' + ' Å$^{-1}$, ' + f'Peak Center = {center}' + ' Å$^{-1}$')\n",
    "    fig.suptitle(f'{DA.film} Film, Raw Intensity Linecut Fit, {chi_min}° to {chi_max}° $\\chi$, Incident Angle = {DA.incident_angle[2:-1]}°')\n",
    "\n",
    "# fig.savefig(outPath.joinpath('A1-3set_waxs/linecut_fits', f'{DA.film}_{intensity_type}_{DA.incident_angle}_{chi_min}to{chi_max}chi.png'), dpi=120)\n",
    "plt.show()\n",
    "\n",
    "print(f'FWHM = {FWHM}, Lc = {Lc}\\n')\n",
    "display(out.best_values)"
   ]
  },
  {
   "cell_type": "code",
   "execution_count": null,
   "id": "d9e3e72c-2d3c-44c3-ae71-a098cbddf184",
   "metadata": {},
   "outputs": [],
   "source": [
    "# A3\n",
    "intensity_type = 'raw'\n",
    "if intensity_type == 'corr':\n",
    "    DA = selected_corr_DAs[2].compute()\n",
    "elif intensity_type == 'raw':\n",
    "    DA = selected_raw_DAs[2].compute()\n",
    "else:\n",
    "    print('Must select intensity type')\n",
    "    \n",
    "OOP_linecut_DA = DA.sel(chi=slice(chi_min, chi_max), qr=slice(0.3, 1.9)).mean('chi')\n",
    "\n",
    "point_x = 0.3\n",
    "point_y = float(DA.sel(chi=slice(chi_min, chi_max), qr=slice(point_x-0.01, point_x+0.01)).mean('qr').mean('chi'))\n",
    "point_y = point_y - point_y*(0.08)\n",
    "\n",
    "x = OOP_linecut_DA.qr.data\n",
    "y = OOP_linecut_DA.data\n",
    "\n",
    "# Define all models to include in fitting\n",
    "bkg_mod = models.LinearModel(prefix='bkg_')\n",
    "# pars = bkg_mod.make_params()\n",
    "pars = bkg_mod.make_params(intercept=point_y, slope=0)\n",
    "pars['bkg_intercept'].set(vary=False)\n",
    "pars['bkg_slope'].set(vary=False)\n",
    "\n",
    "pk1_mod = models.PseudoVoigtModel(prefix='pk1_')\n",
    "# pars = pk1_mod.make_params(center=0.55)\n",
    "pars += pk1_mod.guess(y, x, center=0.55)\n",
    "# pars['pk1_amplitude'].set(min=0.5)\n",
    "\n",
    "pk2_mod = models.PseudoVoigtModel(prefix='pk2_')\n",
    "pars += pk2_mod.guess(y, x, center=1.7)\n",
    "# pars['pk2_center'].set(max = 0.62, min = 0.58)\n",
    "# pars['pk2_sigma'].set(max = 0.03)\n",
    "# pars['pk2_amplitude'].set(min=0.5)\n",
    "\n",
    "# Combine into full model\n",
    "mod = bkg_mod + pk1_mod + pk2_mod\n",
    "\n",
    "# Run fit and store all info in a ModelResult object\n",
    "out = mod.fit(y, pars, x=x)\n",
    "FWHM = np.round(float(out.params['pk2_fwhm']), 2)\n",
    "center = np.round(float(out.params['pk2_center']), 2)\n",
    "Lc = np.round((2*np.pi*0.9)/FWHM, 2)\n",
    "\n",
    "# Plot\n",
    "axs, fig = fit_plotter(x, y, out)\n",
    "fig.set(tight_layout=True)\n",
    "FWHM = np.round(float(out.params['pk2_fwhm']), 2)\n",
    "Lc = np.round((2*np.pi*0.9)/FWHM, 2)\n",
    "\n",
    "if intensity_type == 'corr':\n",
    "    axs[0].set(ylabel=f'Meaned (Intensity * sin($\\chi$)) [arb. units]', title=f'Scherrer Coherence Length = {Lc} Å')\n",
    "    axs[1].set(title=f'Pi-Pi Peak: FWHM = {FWHM}' + ' Å$^{-1}$, ' + f'Peak Center = {center}' + ' Å$^{-1}$')\n",
    "    fig.suptitle(f'{DA.film} Film, sin($\\chi$)-corrected Linecut Fit, {chi_min}° to {chi_max}° $\\chi$, Incident Angle = {DA.incident_angle[2:-1]}°')    \n",
    "elif intensity_type =='raw':\n",
    "    axs[0].set(ylabel=f'Meaned Raw Intensity [arb. units]', title=f'Scherrer Coherence Length = {Lc} Å')\n",
    "    axs[1].set(title=f'Pi-Pi Peak: FWHM = {FWHM}' + ' Å$^{-1}$, ' + f'Peak Center = {center}' + ' Å$^{-1}$')\n",
    "    fig.suptitle(f'{DA.film} Film, Raw Intensity Linecut Fit, {chi_min}° to {chi_max}° $\\chi$, Incident Angle = {DA.incident_angle[2:-1]}°')\n",
    "\n",
    "fig.savefig(outPath.joinpath('A1-3set_waxs/linecut_fits', f'{DA.film}_{intensity_type}_{DA.incident_angle}_{chi_min}to{chi_max}chi.png'), dpi=120)\n",
    "plt.show()\n",
    "\n",
    "print(f'FWHM = {FWHM}, Lc = {Lc}\\n')\n",
    "display(out.best_values)\n"
   ]
  },
  {
   "cell_type": "markdown",
   "id": "fd842376-421e-49e5-bf6d-3d5c2c3bf097",
   "metadata": {
    "tags": []
   },
   "source": [
    "#### Less messy PM6 films fitting below:"
   ]
  },
  {
   "cell_type": "code",
   "execution_count": null,
   "id": "816d793a-f79f-41e7-ac81-df1b0497e772",
   "metadata": {
    "tags": []
   },
   "outputs": [],
   "source": [
    "%matplotlib inline"
   ]
  },
  {
   "cell_type": "code",
   "execution_count": null,
   "id": "5a65a1ca-03ba-4dcb-ac33-e9f1afb66903",
   "metadata": {
    "tags": []
   },
   "outputs": [],
   "source": [
    "def lamella_lmfit(DA, q_min, q_max, bkg_point_x=0.6):\n",
    "    \"\"\"\n",
    "    Function currently utilizes global variables, define in notebook!\n",
    "    \n",
    "    \"\"\"\n",
    "    point_x = bkg_point_x\n",
    "    point_y = float(DA.sel(qr=slice(point_x-0.01, point_x+0.01)).mean('qr'))\n",
    "    point_y = point_y - point_y*(0.05)\n",
    "\n",
    "    x = DA.qr.data\n",
    "    y = DA.data\n",
    "\n",
    "    # Define all models to include in fitting\n",
    "    bkg_mod = models.LinearModel(prefix='bkg_')\n",
    "    pars = bkg_mod.make_params(intercept=point_y, slope=0)\n",
    "    pars['bkg_intercept'].set(vary=True)\n",
    "    pars['bkg_slope'].set(vary=False)\n",
    "    \n",
    "    exp_mod = models.ExponentialModel(prefix='exp_')\n",
    "    pars += exp_mod.make_params(decay=0.05, amplitude=1)\n",
    "    pars['exp_decay'].set(min=0.01, max=100)\n",
    "    pars['exp_amplitude'].set(min=0.1, max=1000)\n",
    "    \n",
    "    pk1_mod = models.PseudoVoigtModel(prefix='pk1_')\n",
    "    pars += pk1_mod.guess(y, x, center=0.32)\n",
    "\n",
    "    # Combine into full model\n",
    "    mod = bkg_mod + exp_mod + pk1_mod\n",
    "\n",
    "    # Run fit and store all info in a ModelResult object\n",
    "    out = mod.fit(y, pars, x=x)\n",
    "    return out\n",
    "\n",
    "def full_lamella_fit(sliced_DA, q_min, q_max, bkg_point_x=0.6, show_plot=True):   \n",
    "    # Run lmfit\n",
    "    out = lamella_lmfit(sliced_DA, q_min, q_max, bkg_point_x)\n",
    "    FWHM = np.round(float(out.params['pk1_fwhm']), 2)\n",
    "    Lc = np.round((2*np.pi*0.9)/float(out.params['pk1_fwhm']), 2)\n",
    "    center = np.round(float(out.params['pk1_center']), 2)\n",
    "    dspacing = np.round((2*np.pi)/float(out.params['pk1_center']), 2)\n",
    "    \n",
    "    rsquared = np.round(out.rsquared, 2)\n",
    "    redchi = np.round(out.redchi, 2)\n",
    "\n",
    "    AA1 = '$\\AA^{-1}$'\n",
    "    \n",
    "    # Plot\n",
    "    q = sliced_DA.qr.data\n",
    "    I = sliced_DA.data\n",
    "    \n",
    "    fig, ax = plt.subplots()\n",
    "    fig.set(size_inches=(6.5,3.5), dpi=120, tight_layout=True)\n",
    "    fig.suptitle(\n",
    "        f'Lamella peak: {sliced_DA.material} {sliced_DA.solvent}, {float(sliced_DA.incident_angle[2:])}° incidence; {sliced_DA.chi_slice}° chi range',\n",
    "        fontsize=13, y=0.94, x=0.53)\n",
    "       \n",
    "    ax.plot(q, I, label='data', linewidth=2.5)\n",
    "    ax.plot(q, out.best_fit, '--', label='full_fit')\n",
    "    for key in out.eval_components():\n",
    "        ax.plot(q, out.eval_components()[key], label=f'{key}')\n",
    "    ax.set(xlabel=f'Q [{AA1}]', ylabel='Intensity [arb. units]')\n",
    "    ax.set_title(\n",
    "        f'Center = {center}, FWHM = {FWHM} {AA1} (d-spacing = {dspacing}, $L_c$ = {Lc} $\\AA$)')\n",
    "    ax.legend(title=f'$R^2$ = {rsquared}, $\\chi_r$ = {redchi}')\n",
    "    ax.grid(visible=True, axis='x')\n",
    "        \n",
    "    \n",
    "    FWHM = np.round(float(out.params['pk1_fwhm']), 2)\n",
    "    Lc = np.round((2*np.pi*0.9)/FWHM, 2)  # calculate scherrer coherence length\n",
    "\n",
    "    if show_plot:\n",
    "        plt.show()\n",
    "    \n",
    "    return out, fig, ax"
   ]
  },
  {
   "cell_type": "code",
   "execution_count": null,
   "id": "6c9750be-95b0-4b48-81d3-dd09561bb0fc",
   "metadata": {
    "tags": []
   },
   "outputs": [],
   "source": [
    "# Overview plot(s)\n",
    "\n",
    "# Set lims\n",
    "oop_chi_min = 10\n",
    "oop_chi_max = 30\n",
    "\n",
    "ip_chi_min = 65\n",
    "ip_chi_max = 82\n",
    "\n",
    "# q_min = 0.1\n",
    "# q_max = 2.04\n",
    "\n",
    "q_min = 0.15\n",
    "q_max = 0.45\n",
    "\n",
    "# Set savePath\n",
    "# savePath = outPath.joinpath('fix/stacked_linecut_plots_v1')\n",
    "\n",
    "for th in ['th0.080', 'th0.100', 'th0.120', 'th0.140']:\n",
    "    # Select attributes\n",
    "    selected_attrs_dict = {'material': ['PM6'],  \n",
    "                           # 'solvent': ['CF', 'CB'],\n",
    "                           # 'solvent': ['CFCN', 'CBCN'],\n",
    "                           'incident_angle': [th]}\n",
    "    selected_DAs = select_attrs(folded_corr_DAs, selected_attrs_dict)\n",
    "\n",
    "\n",
    "    # Define the figure and subplots\n",
    "    fig, axs = plt.subplots(4, 1, figsize=(6, 8), sharex=True, dpi=120)\n",
    "    colors = plt.cm.turbo(np.linspace(0,0.9,len(selected_DAs)))  \n",
    "\n",
    "    # Adjust the spacing between plots\n",
    "    fig.subplots_adjust(hspace=0.005)  # Adjust this value as needed to minimize white space\n",
    "\n",
    "    for i, DA in enumerate(tqdm(selected_DAs)):\n",
    "        # Plotting each line in its subplot\n",
    "        # OOP\n",
    "        OOP_linecut_DA = DA.sel(chi=slice(oop_chi_min, oop_chi_max), qr=slice(q_min,q_max)).integrate('chi') / np.abs(oop_chi_max - oop_chi_min)\n",
    "        OOP_linecut_DA = OOP_linecut_DA / float(OOP_linecut_DA.sel(qr=slice(0.2,0.4)).max())\n",
    "        OOP_linecut_DA.plot.line(color=colors[i], ax=axs[0], label=f'{DA.solvent}')\n",
    "\n",
    "        # Diagonal\n",
    "        Diagonal_linecut_DA = DA.sel(chi=slice(oop_chi_max, ip_chi_min), qr=slice(q_min,q_max)).integrate('chi') / np.abs(ip_chi_min - oop_chi_max)\n",
    "        # Diagonal_linecut_DA.plot.line(color=colors[i+2], ax=axs[1], label=f'Diagonal, {oop_chi_max}-{ip_chi_min}°' + r' $\\chi$, ' + f'$\\\\alpha_i$ = {float(DA.incident_angle[2:])}°')\n",
    "        Diagonal_linecut_DA = Diagonal_linecut_DA / float(Diagonal_linecut_DA.sel(qr=slice(0.2,0.4)).max())\n",
    "        Diagonal_linecut_DA.plot.line(color=colors[i], ax=axs[1], label=f'{DA.solvent}')\n",
    "\n",
    "        # IP\n",
    "        IP_linecut_DA = DA.sel(chi=slice(ip_chi_min, ip_chi_max), qr=slice(q_min,q_max)).integrate('chi') / np.abs(ip_chi_max - ip_chi_min)\n",
    "        # IP_linecut_DA.plot.line(color=colors[i+4], ax=axs[2], label=f'In-plane, {ip_chi_min}-{ip_chi_max}°' + r' $\\chi$, ' + f'$\\\\alpha_i$ = {float(DA.incident_angle[2:])}°')\n",
    "        IP_linecut_DA = IP_linecut_DA / float(IP_linecut_DA.sel(qr=slice(0.2,0.4)).max())\n",
    "        IP_linecut_DA.plot.line(color=colors[i], ax=axs[2], label=f'{DA.solvent}')\n",
    "\n",
    "        # Full\n",
    "        Full_linecut_DA = DA.sel(chi=slice(oop_chi_min, ip_chi_max), qr=slice(q_min,q_max)).integrate('chi') / 90\n",
    "        # Full_linecut_DA.plot.line(color=colors[i+6], ax=axs[3], label=f'Full, {oop_chi_min}-{ip_chi_max}°' + r' $\\chi$, ' + f'$\\\\alpha_i$ = {float(DA.incident_angle[2:])}°')\n",
    "        Full_linecut_DA = Full_linecut_DA / float(Full_linecut_DA.sel(qr=slice(0.2,0.4)).max())\n",
    "        Full_linecut_DA.plot.line(color=colors[i], ax=axs[3], label=f'{DA.solvent}')\n",
    "\n",
    "    # Add legends and gridlines to each subplot\n",
    "    for ax in axs:\n",
    "        ax.grid(True, which='major', axis='x')  # Add gridlines\n",
    "        ax.xaxis.set_major_locator(ticker.AutoLocator())  # Set major tick locator\n",
    "        ax.xaxis.set_minor_locator(ticker.AutoMinorLocator())  # Set minor tick locator\n",
    "        ax.set_ylabel('')\n",
    "\n",
    "    axs[0].text(0.01, 0.88, f'Out-of-plane, {oop_chi_min}-{oop_chi_max}°' + r' $\\chi$', fontsize=12,\n",
    "                horizontalalignment='left', transform=axs[0].transAxes)\n",
    "    axs[1].text(0.01, 0.88, f'Diagonal, {oop_chi_max}-{ip_chi_min}°' + r' $\\chi$', fontsize=12,\n",
    "                horizontalalignment='left', transform=axs[1].transAxes)\n",
    "    axs[2].text(0.01, 0.88, f'In-plane, {ip_chi_min}-{ip_chi_max}°' + r' $\\chi$', fontsize=12,\n",
    "                horizontalalignment='left', transform=axs[2].transAxes)\n",
    "    axs[3].text(0.01, 0.88, f'Full, {oop_chi_min}-{ip_chi_max}°' + r' $\\chi$', fontsize=12,\n",
    "                horizontalalignment='left', transform=axs[3].transAxes)\n",
    "    axs[0].legend(fontsize=10)\n",
    "\n",
    "\n",
    "    # Add axis labels\n",
    "    axs[-1].set_xlabel('$q_r$ $[Å^{-1}]$', fontsize=12)\n",
    "    fig.text(0.01, 0.5, 'Peak-normalized intensities [arb. units]', va='center', rotation='vertical', fontsize=12)\n",
    "\n",
    "    fig.suptitle(f'{DA.material} {float(DA.incident_angle[2:])}° incidence: $\\\\chi$ linecuts, $\\\\chi$-width normed', y=0.91, fontsize=13)\n",
    "    \n",
    "    savePath = outPath.joinpath('fix/stacked_linecuts_lamella-region_v1')\n",
    "    savePath.mkdir(exist_ok=True)\n",
    "    fig.savefig(savePath.joinpath(f'sinchi-folded_{DA.material}_{DA.incident_angle}_q{q_min}to{q_max}.png'), dpi=120)    \n",
    "    \n",
    "    # plt.show()\n",
    "    \n",
    "    plt.close('all')"
   ]
  },
  {
   "cell_type": "code",
   "execution_count": null,
   "id": "a5ef351d-f412-4dde-9ecc-4824fc660291",
   "metadata": {
    "tags": []
   },
   "outputs": [],
   "source": [
    "# Peak fitting\n",
    "\n",
    "# Select attributes\n",
    "selected_attrs_dict = {'material': ['PM6'],  \n",
    "                       # 'solvent': ['CF', 'CB'],\n",
    "                       # 'solvent': ['CFCN', 'CBCN'],\n",
    "                       'incident_angle': ['th0.080', 'th0.100', 'th0.120', 'th0.140']}\n",
    "# selected_attrs_dict = {}\n",
    "\n",
    "selected_DAs = select_attrs(folded_corr_DAs, selected_attrs_dict)\n",
    "\n",
    "\n",
    "all_outs = {}\n",
    "for DA in tqdm(selected_DAs):\n",
    "    # Set lims\n",
    "    oop_chi_min = 10\n",
    "    oop_chi_max = 30\n",
    "\n",
    "    ip_chi_min = 65\n",
    "    ip_chi_max = 82\n",
    "\n",
    "    # Define chi slice dictionary:\n",
    "    chi_slices = {'OOP': slice(oop_chi_min, oop_chi_max),\n",
    "                  'diag': slice(oop_chi_max, ip_chi_min),\n",
    "                  'IP': slice(ip_chi_min, ip_chi_max),\n",
    "                  'full': slice(oop_chi_min, ip_chi_max)}\n",
    "\n",
    "    # Set q limits for fitting area\n",
    "    q_min = 0.1\n",
    "    q_max = 0.65\n",
    "\n",
    "    # Loop over each chi slice: make linecut DA, run lmfit, plot, & store results\n",
    "    outs = {}\n",
    "    for key in chi_slices.keys():\n",
    "        sliced_DA = DA.sel(chi=chi_slices[key], qr=slice(q_min,q_max)).integrate('chi') / np.abs(chi_slices[key].stop - chi_slices[key].start)\n",
    "        # sliced_DA = sliced_DA / float(sliced_DA.sel(qr=slice(0.2,0.4)).max())  # normalize by peak maximum\n",
    "        sliced_DA.attrs = DA.attrs # assign attrs\n",
    "        sliced_DA.attrs['chi_slice'] = (chi_slices[key].start, chi_slices[key].stop)  # add chi slice attribute\n",
    "        sliced_DA = sliced_DA.where(~np.isnan(sliced_DA), drop=True)  # drop nans\n",
    "        \n",
    "        outs[key], fig, ax = full_lamella_fit(sliced_DA, q_min, q_max, show_plot=False)\n",
    "        plt.close('all')\n",
    "        \n",
    "        savePath = outPath.joinpath('fix/lamella_linefits_v1')\n",
    "        fig.savefig(savePath.joinpath(f'sinchi-folded_{DA.material}-{DA.solvent}_{DA.incident_angle}_chi{chi_slices[key].start}to{chi_slices[key].stop}_q{q_min}to{q_max}.png'), dpi=120)\n",
    "        \n",
    "    all_outs[f'{DA.material}_{DA.solvent}_{DA.incident_angle}'] = outs"
   ]
  },
  {
   "cell_type": "markdown",
   "id": "da9aff9f-4318-4d04-a1f2-7bd242e46d20",
   "metadata": {
    "tags": []
   },
   "source": [
    "## ISI Plots"
   ]
  },
  {
   "cell_type": "code",
   "execution_count": null,
   "id": "57d648c4-1a5d-430d-9c19-a7f17b77bedc",
   "metadata": {},
   "outputs": [],
   "source": [
    "# DA = rsoxs_datasets['polar_carbon']['corr_intensity']\n",
    "# DA.sel(sample_info='Y6_CB_3000', polarization=0, q=slice(0.001, 0.03)).sel(energy=398.8, method='nearest').plot(norm=LogNorm(1e9, 1e11), cmap=plt.cm.turbo)\n",
    "# plt.show()"
   ]
  },
  {
   "cell_type": "code",
   "execution_count": null,
   "id": "d0b5c53e-5118-4706-9492-cda3ad5aafde",
   "metadata": {},
   "outputs": [],
   "source": [
    "outPath"
   ]
  },
  {
   "cell_type": "code",
   "execution_count": null,
   "id": "55e2854e-7277-4a8e-856f-f44fb9446ff5",
   "metadata": {
    "tags": []
   },
   "outputs": [],
   "source": [
    "# make selection\n",
    "DS = caked_DS.copy()\n",
    "\n",
    "# make selection\n",
    "q_slice = slice(0.05, 0.8)\n",
    "chi_width = 90\n",
    "energy_slice = slice(2470, 2485)\n",
    "\n",
    "for sample_info in tqdm(unique_sample_infos):\n",
    "    for theta in [90, 55, 35]:\n",
    "        para_DA, perp_DA = make_para_perp_DAs(DS, sample_info, theta, chi_width) \n",
    "        \n",
    "        para_DA = para_DA.where(para_DA>0.4).where(para_DA<(para_DA.max()*0.03))  #.interpolate_na(dim='chi')\n",
    "        # para_DA.sel(energy=2477.2,method='nearest').sel(q_red=slice(0.05, 0.7)).plot.imshow()\n",
    "        # plt.title('para')\n",
    "        # plt.show()\n",
    "        \n",
    "        perp_DA = perp_DA.where(perp_DA>0.4).where(perp_DA<(perp_DA.max()*0.03))  #.interpolate_na(dim='chi')\n",
    "        # perp_DA.sel(energy=2477.2,method='nearest').sel(q_red=slice(0.05, 0.7)).plot.imshow()\n",
    "        # plt.title('perp')\n",
    "        # plt.show()\n",
    "        # plt.close('all')\n",
    "    \n",
    "\n",
    "        # slice ISI data\n",
    "        para_ISI = para_DA.sel(q_red=q_slice).mean('chi').integrate('q_red')\n",
    "        perp_ISI = perp_DA.sel(q_red=q_slice).mean('chi').integrate('q_red')\n",
    "\n",
    "        # plot\n",
    "        fig, ax = plt.subplots(figsize=(6,4), dpi=120)\n",
    "\n",
    "        para_ISI.sel(energy=energy_slice).plot.line(ax=ax, label='$\\parallel$', yscale='log')\n",
    "        perp_ISI.sel(energy=energy_slice).plot.line(ax=ax, label='$\\perp$', yscale='log')\n",
    "        fig.suptitle(f'ISI: {sample_info}', fontsize=14, x=0.55)\n",
    "        ax.set(title=f'$\\\\theta$ = {theta}°, chi width = {chi_width}°, Q = ({q_slice.start}, {q_slice.stop}) ' + 'Å$^{-1}$', \n",
    "               xlabel='X-ray energy [eV]', ylabel='Intensity [arb. units]')\n",
    "        ax.legend(loc='upper right', fontsize=14)\n",
    "        ax.grid(axis='x')\n",
    "        plt.subplots_adjust(top=0.86, bottom=0.2, left=0.2)\n",
    "        \n",
    "        fig.savefig(outPath.joinpath('trexs_plots/ISIs_v1', \n",
    "            f'{sample_info}_theta-{theta}deg_chiWidth-{chi_width}deg_q-{q_slice.start}-{q_slice.stop}_energy{energy_slice.start}-{energy_slice.stop}.png'),\n",
    "            dpi=120)\n",
    "\n",
    "        # plt.show()\n",
    "        plt.close('all')"
   ]
  },
  {
   "cell_type": "markdown",
   "id": "dbdad46d-3aa9-4502-8449-b889a9228db6",
   "metadata": {
    "tags": []
   },
   "source": [
    "## 2D Linecut Maps"
   ]
  },
  {
   "cell_type": "code",
   "execution_count": null,
   "id": "9f5a1b76-bfb4-4979-9624-76f8cf01d1a8",
   "metadata": {
    "tags": []
   },
   "outputs": [],
   "source": [
    "# make selection\n",
    "DS = caked_DS.copy()\n",
    "\n",
    "# make selection\n",
    "q_slice = slice(0.05, 0.8)\n",
    "chi_width = 90\n",
    "energy_slice = slice(2470, 2485)\n",
    "\n",
    "for sample_info in tqdm(unique_sample_infos):\n",
    "    for theta in [90, 55, 35]:\n",
    "        para_DA, perp_DA = make_para_perp_DAs(DS, sample_info, theta, chi_width) \n",
    "        \n",
    "        para_DA = para_DA.where(para_DA>0.4).where(para_DA<(para_DA.max()*0.03))  #.interpolate_na(dim='chi')\n",
    "        # para_DA.sel(energy=2477.2,method='nearest').sel(q_red=slice(0.05, 0.7)).plot.imshow()\n",
    "        # plt.title('para')\n",
    "        # plt.show()\n",
    "        \n",
    "        perp_DA = perp_DA.where(perp_DA>0.4).where(perp_DA<(perp_DA.max()*0.03))  #.interpolate_na(dim='chi')\n",
    "        # perp_DA.sel(energy=2477.2,method='nearest').sel(q_red=slice(0.05, 0.7)).plot.imshow()\n",
    "        # plt.title('perp')\n",
    "        # plt.show()\n",
    "        # plt.close('all')\n",
    "\n",
    "        # Plot\n",
    "        fig, axs = plt.subplots(1, 2, figsize=(10,5))\n",
    "        cmin = float(para_DA.compute().quantile(0.1))\n",
    "        cmax = float(para_DA.compute().quantile(0.99))\n",
    "\n",
    "        para_slice = para_DA.mean('chi').sel(q_red=q_slice, energy=energy_slice)  # .plot(ax=axs[0], cmap=cmap, norm=LogNorm(cmin, cmax), add_colorbar=False)\n",
    "        perp_slice = perp_DA.mean('chi').sel(q_red=q_slice, energy=energy_slice)  # .plot(ax=axs[1], cmap=cmap, norm=LogNorm(cmin, cmax), add_colorbar=False)\n",
    "\n",
    "        para_slice.plot(ax=axs[0], cmap=cmap, norm=plt.Normalize(cmin, cmax), add_colorbar=False)\n",
    "        perp_slice.plot(ax=axs[1], cmap=cmap, norm=plt.Normalize(cmin, cmax), add_colorbar=False)\n",
    "\n",
    "        # Add colorbar\n",
    "        sm = plt.cm.ScalarMappable(cmap=cmap, norm=plt.Normalize(cmin, cmax)) # Create a ScalarMappable object with the colormap and normalization & add the colorbar to the figure\n",
    "        cax = axs[1].inset_axes([1.03, 0, 0.05, 1])\n",
    "        cbar = fig.colorbar(sm, cax=cax, orientation='vertical')\n",
    "        cbar.set_label(label='Intensity [arb. units]', labelpad=12, rotation=270)\n",
    "\n",
    "        fig.suptitle(f'Intensity maps: {sample_info}, $\\\\theta$ = {theta}°, $\\\\chi$ width = {chi_width}°', fontsize=14)\n",
    "        fig.set(tight_layout=True)\n",
    "\n",
    "        axs[0].set(xscale='linear', title='Parallel to $E_p$', ylabel='Photon energy [eV]', xlabel='Q [$Å^{-1}$]')\n",
    "        axs[1].set(xscale='linear', title='Perpendicular to $E_p$ ', ylabel=None, xlabel='Q [$Å^{-1}$]')\n",
    "\n",
    "        fig.savefig(outPath.joinpath('trexs_plots/I_maps_v1', \n",
    "                    f'{sample_info}_theta-{theta}deg_chiWidth-{chi_width}deg_q-{q_slice.start}-{q_slice.stop}_energy{energy_slice.start}-{energy_slice.stop}.png'), \n",
    "                    dpi=120)\n",
    "\n",
    "        # plt.show()\n",
    "        plt.close('all')"
   ]
  },
  {
   "cell_type": "code",
   "execution_count": null,
   "id": "b7205f46-2935-431c-a45c-fa8f367071db",
   "metadata": {},
   "outputs": [],
   "source": [
    "# a = para_EvsQ_avg.hvplot.line(groupby=\"energy\", loglog=True)\n",
    "# a * perp_EvsQ_avg.hvplot.line(groupby=\"energy\")"
   ]
  }
 ],
 "metadata": {
  "kernelspec": {
   "display_name": "nrss",
   "language": "python",
   "name": "nrss"
  },
  "language_info": {
   "codemirror_mode": {
    "name": "ipython",
    "version": 3
   },
   "file_extension": ".py",
   "mimetype": "text/x-python",
   "name": "python",
   "nbconvert_exporter": "python",
   "pygments_lexer": "ipython3",
   "version": "3.9.0"
  }
 },
 "nbformat": 4,
 "nbformat_minor": 5
}
