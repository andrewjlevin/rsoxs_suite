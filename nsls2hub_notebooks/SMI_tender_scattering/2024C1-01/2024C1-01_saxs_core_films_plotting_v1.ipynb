{
 "cells": [
  {
   "cell_type": "markdown",
   "id": "e0f02f27-e0ae-4810-bf03-a00186d6a001",
   "metadata": {},
   "source": [
    "# 2024C1 SMI saxs films trexs plotting notebook for SMI"
   ]
  },
  {
   "cell_type": "code",
   "execution_count": null,
   "id": "1eb941ec-387a-48bf-98b8-39b7f14cf194",
   "metadata": {
    "scrolled": true,
    "tags": []
   },
   "outputs": [],
   "source": [
    "# !pip install -e /nsls2/users/alevin/repos/PyHyperScattering  # to use pip to install via directory"
   ]
  },
  {
   "cell_type": "markdown",
   "id": "1741fb30-834d-4aad-b722-411300f1f8ea",
   "metadata": {},
   "source": [
    "## Imports"
   ]
  },
  {
   "cell_type": "code",
   "execution_count": null,
   "id": "a555dd3c-baf9-448c-8c51-4f1d84231b36",
   "metadata": {
    "tags": []
   },
   "outputs": [],
   "source": [
    "import PyHyperScattering as phs\n",
    "import pathlib\n",
    "import numpy as np\n",
    "import matplotlib.pyplot as plt\n",
    "from matplotlib.colors import LogNorm\n",
    "import xarray as xr\n",
    "import dask.array as da\n",
    "from tqdm.auto import tqdm \n",
    "import subprocess\n",
    "import io\n",
    "import gc\n",
    "print(phs.__version__)"
   ]
  },
  {
   "cell_type": "code",
   "execution_count": null,
   "id": "1df0e406-f40f-46c1-885a-6a3ea70bdc3a",
   "metadata": {
    "tags": []
   },
   "outputs": [],
   "source": [
    "# import zarr"
   ]
  },
  {
   "cell_type": "markdown",
   "id": "70a95050-82bc-4da4-a08b-efcfea8db4a0",
   "metadata": {},
   "source": [
    "## Define paths, load xarrays, define functions"
   ]
  },
  {
   "cell_type": "raw",
   "id": "6e780b6a-3c8e-423a-b51c-48aab8d1e970",
   "metadata": {},
   "source": [
    "rclone --dry-run copy -P /nsls2/data/smi/proposals/2024-1/pass-314903/processed_data/trexs_plots remote:research/data_analysis/rsoxs_suite/trexs_plots --exclude '*checkpoint*'"
   ]
  },
  {
   "cell_type": "code",
   "execution_count": null,
   "id": "aac79faa-dfc5-4e73-a76b-1092cd55541a",
   "metadata": {
    "tags": []
   },
   "outputs": [],
   "source": [
    "# Define paths\n",
    "propPath = pathlib.Path('/nsls2/data/smi/proposals/2024-1/pass-314903')\n",
    "outPath = propPath.joinpath('processed_data/trexs_plots')\n",
    "sampleZarrsPath = propPath.joinpath('processed_data/zarrs/saxs_core_films_trexs_sample_zarrs_v2')\n",
    "\n",
    "# rawPaths = propPath.joinpath('raw_04')\n",
    "# waxsPath = rawPaths.joinpath('900KW')"
   ]
  },
  {
   "cell_type": "code",
   "execution_count": null,
   "id": "945a9809-5fc5-4547-b1e0-9035c906388e",
   "metadata": {
    "tags": []
   },
   "outputs": [],
   "source": [
    "sampleZarrsPath.exists()"
   ]
  },
  {
   "cell_type": "code",
   "execution_count": null,
   "id": "e8dfab01-6b1a-4b00-9639-55df307cbe3a",
   "metadata": {
    "tags": []
   },
   "outputs": [],
   "source": [
    "unique_sample_names = sorted(set(['_'.join(f.name.split('_')[1:3]) for f in sampleZarrsPath.glob('*')]))\n",
    "unique_sample_names"
   ]
  },
  {
   "cell_type": "code",
   "execution_count": null,
   "id": "a6bdc6b2-a95c-4b14-a898-d5ec4261e18b",
   "metadata": {
    "tags": []
   },
   "outputs": [],
   "source": [
    "recip_DS_rows = []\n",
    "caked_DS_rows = []\n",
    "for sample_name in tqdm(unique_sample_names):\n",
    "    sample_zarrs = sorted(sampleZarrsPath.glob(f'*{sample_name}*'))\n",
    "    # display(sorted([f.name for f in sample_zarrs]))\n",
    "    \n",
    "    samp_recip_DS_rows = []\n",
    "    samp_caked_DS_rows = []\n",
    "    for sample_zarr in sample_zarrs:\n",
    "        if 'recip_' in sample_zarr.name:\n",
    "            recip_DS = xr.open_zarr(sample_zarr)\n",
    "            samp_recip_DS_rows.append(recip_DS)\n",
    "        elif 'caked_' in sample_zarr.name:\n",
    "            caked_DS = xr.open_zarr(sample_zarr)\n",
    "            samp_caked_DS_rows.append(caked_DS)\n",
    "            \n",
    "    recip_DS = xr.concat(samp_recip_DS_rows, 'theta')\n",
    "    recip_DS_rows.append(recip_DS)\n",
    "    \n",
    "    caked_DS = xr.concat(samp_caked_DS_rows, 'theta')\n",
    "    caked_DS_rows.append(caked_DS)\n",
    "    \n",
    "recip_DS = xr.concat(recip_DS_rows, 'sample_name')\n",
    "caked_DS = xr.concat(caked_DS_rows, 'sample_name')"
   ]
  },
  {
   "cell_type": "code",
   "execution_count": null,
   "id": "a67693f1-2ece-42f1-9d3d-a11f588692e8",
   "metadata": {
    "tags": []
   },
   "outputs": [],
   "source": [
    "recip_DS = recip_DS.chunk({'sample_name':1, 'pix_y': 3129, 'pix_x': 2943, 'energy':63,})\n",
    "caked_DS = caked_DS.chunk({'sample_name':1, 'index_y':500,'index_x':500,'energy':63})"
   ]
  },
  {
   "cell_type": "code",
   "execution_count": null,
   "id": "6939f3f4-47c9-4d06-898a-1266a422790b",
   "metadata": {
    "tags": []
   },
   "outputs": [],
   "source": [
    "recip_DS = recip_DS.swap_dims({'pix_y':'q_y', 'pix_x':'q_x'})\n",
    "caked_DS = caked_DS.swap_dims({'index_y':'chi', 'index_x':'q_r'})\n",
    "caked_DS"
   ]
  },
  {
   "cell_type": "code",
   "execution_count": null,
   "id": "568879e7-1462-445c-b26e-2fac0cff07d1",
   "metadata": {
    "tags": []
   },
   "outputs": [],
   "source": [
    "def make_para_perp_DAs(DS, sample_name, theta=90, chi_width=90):\n",
    "    # select dataarray to plot\n",
    "    DA = DS.sel(sample_name=sample_name)['flatfield_corr']\n",
    "    sel_DA = DA.sel(theta=theta)\n",
    "\n",
    "    # calculate ISI dataarrays\n",
    "    para_DA = sel_DA.rsoxs.slice_chi(0, chi_width=(chi_width/2))\n",
    "    perp_DA = sel_DA.rsoxs.slice_chi(-90, chi_width=(chi_width/2))\n",
    "        \n",
    "    return para_DA, perp_DA"
   ]
  },
  {
   "cell_type": "code",
   "execution_count": null,
   "id": "c558b2e5-31ea-46ab-b5a4-4b3adb4c006d",
   "metadata": {
    "tags": []
   },
   "outputs": [],
   "source": [
    "cmap = plt.cm.turbo.copy()\n",
    "cmap.set_bad(cmap.get_under())"
   ]
  },
  {
   "cell_type": "code",
   "execution_count": null,
   "id": "45c9aaaf-20d7-42cd-aaf7-9c6b19517ce2",
   "metadata": {
    "tags": []
   },
   "outputs": [],
   "source": [
    "# recip_DS.to_zarr(outPath.joinpath('zarrs', f'recip_waxs_trexs_night2_standard.zarrs'), mode='w')"
   ]
  },
  {
   "cell_type": "code",
   "execution_count": null,
   "id": "eabb5a37-17cc-4a16-bbf5-ae80dc6d1d60",
   "metadata": {
    "tags": []
   },
   "outputs": [],
   "source": [
    "# energy = 2470\n",
    "\n",
    "# for sample_name in sample_names:\n",
    "#     sliced_DA = recip_DS.sel(sample_name=sample_name).sel(energy=energy, method='nearest')['flatfield_corr']\n",
    "\n",
    "#     cmin = sliced_DA.compute().quantile(0.15)\n",
    "#     cmax = sliced_DA.compute().quantile(0.995)\n",
    "#     ax = sliced_DA.plot.imshow(norm=plt.Normalize(cmin, cmax), cmap=plt.cm.turbo, x='q_x', y='q_y')\n",
    "#     ax.axes.set(title=f'{sample_name}: Energy = {energy}')\n",
    "#     plt.show()\n",
    "#     plt.close('all')"
   ]
  },
  {
   "cell_type": "code",
   "execution_count": null,
   "id": "10b23668-0aa4-4371-b8f3-a04091567aed",
   "metadata": {},
   "outputs": [],
   "source": []
  },
  {
   "cell_type": "markdown",
   "id": "dc5f30d1-afb5-4515-839e-814eef697c22",
   "metadata": {
    "tags": []
   },
   "source": [
    "## Detector movies"
   ]
  },
  {
   "cell_type": "markdown",
   "id": "b0474edb-1489-4400-afa1-0537b35866a5",
   "metadata": {
    "tags": []
   },
   "source": [
    "### recip"
   ]
  },
  {
   "cell_type": "code",
   "execution_count": null,
   "id": "0d0d1a70-d672-4249-9005-f0a54f3a4eb5",
   "metadata": {
    "tags": []
   },
   "outputs": [],
   "source": [
    "float(da.percentile(sliced_DA.data.flatten(), 99))"
   ]
  },
  {
   "cell_type": "code",
   "execution_count": null,
   "id": "d58338da-d113-4d7e-b924-75af53800a90",
   "metadata": {
    "tags": []
   },
   "outputs": [],
   "source": [
    "arr = sliced_DA[::3,::3].compute()"
   ]
  },
  {
   "cell_type": "code",
   "execution_count": null,
   "id": "40941c98-ef14-47b3-8907-ba24329efb16",
   "metadata": {
    "tags": []
   },
   "outputs": [],
   "source": [
    "# Select Dataset\n",
    "DS = recip_DS\n",
    "\n",
    "\n",
    "# Select Plotting Parameters\n",
    "energy = 2477.2\n",
    "\n",
    "# Select DataArray\n",
    "for sample_name in tqdm(unique_sample_names[:]):\n",
    "    for theta in [90]:\n",
    "        DA = DS.sel(sample_name=sample_name, theta=theta)['flatfield_corr']\n",
    "\n",
    "        # Plot\n",
    "        sliced_DA = DA.sel(energy=energy,method='nearest')\n",
    "        # cmin = float(da.percentile(sliced_DA.mean('q_y').data, 10))\n",
    "        # cmax = float(da.percentile(sliced_DA.mean('q_y').data, 99.5))\n",
    "        cmin = float(sliced_DA[::10, ::10].compute().quantile(0.15))\n",
    "        cmax = float(sliced_DA[::10, ::10].compute().quantile(0.995))\n",
    "\n",
    "        ax = sliced_DA.plot.imshow(figsize=(5.5,4.5), cmap=cmap, norm=plt.Normalize(cmin,cmax))\n",
    "        ax.figure.suptitle(f'Photon Energy = {np.round(energy, 1)} eV', fontsize=14, y=0.96)\n",
    "        ax.figure.set_tight_layout(True)\n",
    "        ax.axes.set(aspect='equal', title=f'{sample_name}, $\\\\theta$ = {theta}°', xlabel='q$_x$ [$Å^{-1}$]', ylabel='q$_y$ [$Å^{-1}$]')\n",
    "        ax.colorbar.set_label('Intensity [arb. units]', rotation=270, labelpad=12)\n",
    "        plt.show()\n",
    "        plt.close('all')"
   ]
  },
  {
   "cell_type": "code",
   "execution_count": null,
   "id": "667dd572-1255-4d43-b1df-f4fda554aa92",
   "metadata": {
    "tags": []
   },
   "outputs": [],
   "source": [
    "unique_sample_names[7:]"
   ]
  },
  {
   "cell_type": "code",
   "execution_count": null,
   "id": "544c1f31-c709-4216-9d98-4112819bb234",
   "metadata": {
    "scrolled": true,
    "tags": []
   },
   "outputs": [],
   "source": [
    "# Select Dataset\n",
    "DS = recip_DS\n",
    "\n",
    "# Select DataArray\n",
    "for sample_name in tqdm(unique_sample_names[7:]):\n",
    "    for theta in [90, 55, 35]:\n",
    "        DA = DS.sel(sample_name=sample_name, theta=theta)['flatfield_corr']\n",
    "        cmin = float(DA.compute().quantile(0.15))\n",
    "        cmax = float(DA.compute().quantile(0.995))\n",
    "\n",
    "        savePath = outPath.joinpath('saxs_core_films_trexs_plots_v2/recip_detector_movies_v1')\n",
    "        savePath.mkdir(exist_ok=True)\n",
    "        output_path = savePath.joinpath(f'{sample_name}_{theta}degth.mp4')\n",
    "\n",
    "        # FFmpeg command. This is set up to accept data from the pipe and use it as input, with PNG format.\n",
    "        # It will then output an H.264 encoded MP4 video.\n",
    "        cmd = [\n",
    "            'ffmpeg',\n",
    "            '-y',  # Overwrite output file if it exists\n",
    "            '-f', 'image2pipe',\n",
    "            '-vcodec', 'png',\n",
    "            '-r', '15',  # Frame rate\n",
    "            '-i', '-',  # The input comes from a pipe\n",
    "            '-vcodec', 'libx264',\n",
    "            '-pix_fmt', 'yuv420p',\n",
    "            '-crf', '17',  # Set the quality (lower is better, 17 is often considered visually lossless)\n",
    "            str(output_path)\n",
    "        ]\n",
    "\n",
    "        # Start the subprocess\n",
    "        proc = subprocess.Popen(cmd, stdin=subprocess.PIPE, stdout=subprocess.PIPE, stderr=subprocess.PIPE)\n",
    "\n",
    "        # Loop through the energy dimension and send frames to FFmpeg\n",
    "        for i, energy in enumerate(tqdm(DA.energy.values, desc=f'Making the {sample_name} $\\\\theta$={theta}° movie')):\n",
    "            # Make & customize plot\n",
    "            sliced_DA = DA.sel(energy=energy, method='nearest')\n",
    "\n",
    "            ax = sliced_DA.plot.imshow(figsize=(5.5,4.5), x='q_x', y='q_y', cmap=cmap, norm=plt.Normalize(cmin,cmax))\n",
    "            ax.figure.suptitle(f'Photon Energy = {np.round(energy, 1)} eV', fontsize=14, y=0.96)\n",
    "            ax.figure.set_tight_layout(True)   \n",
    "            ax.axes.set(aspect='equal', title=f'{sample_name}, $\\\\theta$ = {theta}°', xlabel='q$_x$ [$Å^{-1}$]', ylabel='q$_y$ [$Å^{-1}$]')\n",
    "            ax.colorbar.set_label('Intensity [arb. units]', rotation=270, labelpad=12)\n",
    "\n",
    "            # Save figure to a PNG buffer\n",
    "            if i==0:\n",
    "                ax.figure.savefig(savePath.joinpath(f'{sample_name}_{theta}degth.png'), dpi=120)\n",
    "\n",
    "            buf = io.BytesIO()\n",
    "            ax.figure.savefig(buf, format='png')\n",
    "            buf.seek(0)\n",
    "\n",
    "            # Write the PNG buffer data to the process\n",
    "            proc.stdin.write(buf.getvalue())\n",
    "            plt.close('all')\n",
    "\n",
    "        # Finish the subprocess\n",
    "        out, err = proc.communicate()\n",
    "        if proc.returncode != 0:\n",
    "            print(f\"Error: {err}\")\n",
    "            \n",
    "        gc.collect()"
   ]
  },
  {
   "cell_type": "code",
   "execution_count": null,
   "id": "def3f42f-b34e-4890-bd5e-784b42fa69b9",
   "metadata": {},
   "outputs": [],
   "source": []
  },
  {
   "cell_type": "markdown",
   "id": "d18c6234-1e34-4496-a955-321f22134509",
   "metadata": {
    "tags": []
   },
   "source": [
    "### caked"
   ]
  },
  {
   "cell_type": "code",
   "execution_count": null,
   "id": "ead1381e-225f-42ea-a6c0-1d6ae7a89878",
   "metadata": {
    "tags": []
   },
   "outputs": [],
   "source": [
    "# Select Dataset\n",
    "DS = caked_DS\n",
    "\n",
    "\n",
    "# Select Plotting Parameters\n",
    "energy = 2477\n",
    "# chi_slice = slice(-150,50)\n",
    "chi_slice = slice(None,None)\n",
    "\n",
    "qr_slice = slice(0.015,0.085)\n",
    "# qr_slice = slice(None,None)\n",
    "\n",
    "# Select DataArray\n",
    "# sample_name = 'PM6-Y6_3000_dSiN'\n",
    "for sample_name in tqdm(unique_sample_names[:]):\n",
    "    for theta in [90]:\n",
    "        DA = DS.sel(sample_name=sample_name, theta=theta)['flatfield_corr']\n",
    "\n",
    "        # Plot\n",
    "        sliced_DA = DA.sel(energy=energy,method='nearest').sel(chi=chi_slice, q_r=qr_slice)\n",
    "        cmin = float(sliced_DA.compute().quantile(0.1))\n",
    "        cmax = float(sliced_DA.compute().quantile(0.99))\n",
    "\n",
    "        ax = sliced_DA.plot.imshow(figsize=(5.5,4.5), x='q_r', y='chi', cmap=cmap, norm=plt.Normalize(cmin,cmax),\n",
    "                                   xscale='log')\n",
    "        ax.figure.suptitle(f'Photon Energy = {np.round(energy, 1)} eV', fontsize=14, y=0.96)\n",
    "        ax.figure.set_tight_layout(True)\n",
    "        ax.axes.set(title=f'{sample_name}, $\\\\theta$ = {theta}°', xlabel='q$_r$ [$Å^{-1}$]', ylabel='$\\\\chi$ [°]')\n",
    "        ax.colorbar.set_label('Intensity [arb. units]', rotation=270, labelpad=12)\n",
    "        plt.show()\n",
    "        plt.close('all')"
   ]
  },
  {
   "cell_type": "code",
   "execution_count": null,
   "id": "f49bfb42-fc3c-46e1-a691-06d7704825b2",
   "metadata": {
    "tags": []
   },
   "outputs": [],
   "source": [
    "outPath"
   ]
  },
  {
   "cell_type": "code",
   "execution_count": null,
   "id": "53447a87-5d98-4342-8250-568f46a82a60",
   "metadata": {
    "scrolled": true,
    "tags": []
   },
   "outputs": [],
   "source": [
    "# Select Dataset\n",
    "DS = caked_DS.copy()\n",
    "\n",
    "# plotting parameters\n",
    "# chi_slice = slice(-150,50)\n",
    "chi_slice = slice(None,None)\n",
    "\n",
    "qr_slice = slice(0.015,0.085)\n",
    "# qr_slice = slice(None,None)\n",
    "\n",
    "# Select DataArray\n",
    "for sample_name in tqdm(unique_sample_names[:]):\n",
    "    for theta in [90, 55, 35]:\n",
    "        DA = DS.sel(sample_name=sample_name, theta=theta)['flatfield_corr']\n",
    "        cmin = float(DA.compute().quantile(0.15))\n",
    "        cmax = float(DA.compute().quantile(0.995))\n",
    "\n",
    "        savePath = outPath.joinpath('saxs_core_films_trexs_plots_v2/caked_detector_movies_v1')\n",
    "        savePath.mkdir(exist_ok=True)\n",
    "        output_path = savePath.joinpath(f'{sample_name}_{theta}degth.mp4')\n",
    "\n",
    "        # FFmpeg command. This is set up to accept data from the pipe and use it as input, with PNG format.\n",
    "        # It will then output an H.264 encoded MP4 video.\n",
    "        cmd = [\n",
    "            'ffmpeg',\n",
    "            '-y',  # Overwrite output file if it exists\n",
    "            '-f', 'image2pipe',\n",
    "            '-vcodec', 'png',\n",
    "            '-r', '15',  # Frame rate\n",
    "            '-i', '-',  # The input comes from a pipe\n",
    "            '-vcodec', 'libx264',\n",
    "            '-pix_fmt', 'yuv420p',\n",
    "            '-crf', '17',  # Set the quality (lower is better, 17 is often considered visually lossless)\n",
    "            str(output_path)\n",
    "        ]\n",
    "\n",
    "        # Start the subprocess\n",
    "        proc = subprocess.Popen(cmd, stdin=subprocess.PIPE, stdout=subprocess.PIPE, stderr=subprocess.PIPE)\n",
    "\n",
    "        # Loop through the energy dimension and send frames to FFmpeg\n",
    "        for i, energy in enumerate(tqdm(DA.energy.values, desc=f'Making the {sample_name} {theta}° movie')):\n",
    "            # Make & customize plot\n",
    "            sliced_DA = DA.sel(energy=energy,method='nearest').sel(chi=chi_slice, q_r=qr_slice)\n",
    "\n",
    "            ax = sliced_DA.plot.imshow(figsize=(5.5,4.5), cmap=cmap, norm=plt.Normalize(cmin,cmax),\n",
    "                                       xscale='log')\n",
    "            ax.figure.suptitle(f'Photon Energy = {np.round(energy, 1)} eV', fontsize=14, y=0.96)\n",
    "            ax.figure.set_tight_layout(True)   \n",
    "            ax.axes.set(title=f'{sample_name}, $\\\\theta$ = {theta}°', xlabel='q$_r$ [$Å^{-1}$]', ylabel='$\\\\chi$ [°]')\n",
    "            ax.colorbar.set_label('Intensity [arb. units]', rotation=270, labelpad=12)\n",
    "\n",
    "            # Save figure if first frame:\n",
    "            if i==0:\n",
    "                ax.figure.savefig(savePath.joinpath(f'{sample_name}_{theta}degth.png'), dpi=120)\n",
    "\n",
    "            buf = io.BytesIO()\n",
    "            ax.figure.savefig(buf, format='png')\n",
    "            buf.seek(0)\n",
    "\n",
    "            # Write the PNG buffer data to the process\n",
    "            proc.stdin.write(buf.getvalue())\n",
    "            plt.close('all')\n",
    "\n",
    "        # Finish the subprocess\n",
    "        out, err = proc.communicate()\n",
    "        if proc.returncode != 0:\n",
    "            print(f\"Error: {err}\")\n",
    "            \n",
    "        gc.collect()"
   ]
  },
  {
   "cell_type": "markdown",
   "id": "c773233d-8421-4ced-8b69-42d4f2c1d7fa",
   "metadata": {
    "tags": []
   },
   "source": [
    "## Intensity plots"
   ]
  },
  {
   "cell_type": "markdown",
   "id": "dbdad46d-3aa9-4502-8449-b889a9228db6",
   "metadata": {
    "tags": []
   },
   "source": [
    "### 1. 2D intensity maps"
   ]
  },
  {
   "cell_type": "code",
   "execution_count": null,
   "id": "8a112824-03e9-469b-afe6-e7e62dbd6560",
   "metadata": {
    "tags": []
   },
   "outputs": [],
   "source": [
    "unique_sample_names"
   ]
  },
  {
   "cell_type": "code",
   "execution_count": null,
   "id": "9f5a1b76-bfb4-4979-9624-76f8cf01d1a8",
   "metadata": {
    "tags": []
   },
   "outputs": [],
   "source": [
    "# make selecan\n",
    "DS = caked_DS.copy()\n",
    "\n",
    "# make selection\n",
    "q_slice = slice(0.015, 0.085)\n",
    "chi_width = 90\n",
    "energy_slice = slice(2470, 2485)\n",
    "\n",
    "\n",
    "for sample_name in tqdm(unique_sample_names[:]):\n",
    "    for theta in [90, 55, 35]:\n",
    "        para_DA, perp_DA = make_para_perp_DAs(DS, sample_name, theta, chi_width) \n",
    "\n",
    "        para_DA = para_DA.where(para_DA>0.01)  #.where(para_DA<(para_DA.max()*0.5))  #.interpolate_na(dim='chi')\n",
    "        # para_DA.sel(energy=2477.2,method='nearest').sel(q_r=q_slice).plot.imshow(xscale='log', cmap=cmap)\n",
    "        # plt.title('para')\n",
    "        # plt.show()\n",
    "\n",
    "        perp_DA = perp_DA.where(perp_DA>0.01)  #.where(perp_DA<(perp_DA.max()*0.5))  #.interpolate_na(dim='chi')\n",
    "        # perp_DA = perp_DA - perp_sin90_DA * p\n",
    "        # perp_DA.sel(energy=2477.2,method='nearest').sel(q_r=q_slice).plot.imshow(xscale='log', cmap=cmap)\n",
    "        # plt.title('perp')\n",
    "        # plt.show()\n",
    "        # plt.close('all')\n",
    "\n",
    "        # Plot\n",
    "        fig, axs = plt.subplots(1, 2, figsize=(10,5))\n",
    "        cmin = float(para_DA.compute().quantile(0.2))\n",
    "        cmax = float(perp_DA.compute().quantile(0.999))\n",
    "\n",
    "        para_slice = para_DA.mean('chi').sel(q_r=q_slice, energy=energy_slice)  # .plot(ax=axs[0], cmap=cmap, norm=LogNorm(cmin, cmax), add_colorbar=False)\n",
    "        perp_slice = perp_DA.mean('chi').sel(q_r=q_slice, energy=energy_slice)  # .plot(ax=axs[1], cmap=cmap, norm=LogNorm(cmin, cmax), add_colorbar=False)\n",
    "\n",
    "        para_slice.plot(ax=axs[0], cmap=cmap, norm=LogNorm(cmin, cmax), add_colorbar=False)\n",
    "        perp_slice.plot(ax=axs[1], cmap=cmap, norm=LogNorm(cmin, cmax), add_colorbar=False)\n",
    "\n",
    "        # Add colorbar\n",
    "        sm = plt.cm.ScalarMappable(cmap=cmap, norm=LogNorm(cmin, cmax)) # Create a ScalarMappable object with the colormap and normalization & add the colorbar to the figure\n",
    "        cax = axs[1].inset_axes([1.03, 0, 0.05, 1])\n",
    "        cbar = fig.colorbar(sm, cax=cax, orientation='vertical')\n",
    "        cbar.set_label(label='Intensity [arb. units]', labelpad=12, rotation=270)\n",
    "\n",
    "        fig.suptitle(f'Intensity maps: {sample_name}, $\\\\theta$ = {theta}°, $\\\\chi$ width = {chi_width}°', fontsize=14)\n",
    "        fig.set(tight_layout=True)\n",
    "\n",
    "        axs[0].set(xscale='log', title='Parallel to $E_p$', ylabel='Photon energy [eV]', xlabel='Q [$Å^{-1}$]')\n",
    "        axs[1].set(xscale='log', title='Perpendicular to $E_p$ ', ylabel=None, xlabel='Q [$Å^{-1}$]')\n",
    "\n",
    "        savePath = outPath.joinpath('saxs_core_films_trexs_plots_v2/I_maps_v1')\n",
    "        savePath.mkdir(exist_ok=True)\n",
    "        fig.savefig(savePath.joinpath( \n",
    "                    f'{sample_name}_theta-{theta}deg_{round(cmin/1e7)}cmin-{round(cmax/1e7)}cmax_chiWidth-{chi_width}deg_q-{q_slice.start}-{q_slice.stop}_energy{energy_slice.start}-{energy_slice.stop}.png'), \n",
    "                    dpi=120)\n",
    "\n",
    "        # plt.show()\n",
    "        plt.close('all')"
   ]
  },
  {
   "cell_type": "code",
   "execution_count": null,
   "id": "b7205f46-2935-431c-a45c-fa8f367071db",
   "metadata": {},
   "outputs": [],
   "source": [
    "# a = para_EvsQ_avg.hvplot.line(groupby=\"energy\", loglog=True)\n",
    "# a * perp_EvsQ_avg.hvplot.line(groupby=\"energy\")"
   ]
  },
  {
   "cell_type": "markdown",
   "id": "6aebaf0a-f5f9-424b-b9e2-6f86780102d4",
   "metadata": {
    "tags": []
   },
   "source": [
    "### 2. 1D meaned intensity linecuts"
   ]
  },
  {
   "cell_type": "code",
   "execution_count": null,
   "id": "68d5b014-03ee-4f43-a1a0-53d4830a08b1",
   "metadata": {
    "tags": []
   },
   "outputs": [],
   "source": [
    "# make selection\n",
    "DS = caked_DS.copy()\n",
    "\n",
    "# make selection\n",
    "q_slice = slice(0.015, 0.08)\n",
    "chi_width = 90\n",
    "# energy_slice = slice(2470, 2485)\n",
    "\n",
    "multiplier=0.0014\n",
    "\n",
    "for sample_name in tqdm(unique_sample_names[:]):\n",
    "    for theta in [90, 55, 35]:\n",
    "        para_DA, perp_DA = make_para_perp_DAs(DS, sample_name, theta, chi_width) \n",
    "\n",
    "        para_DA = para_DA.where(para_DA>0.01)  #.where(para_DA<(para_DA.max()*multiplier))  #.interpolate_na(dim='chi')\n",
    "        # para_DA.sel(energy=2477.2,method='nearest').sel(q_red=slice(0.05, 0.7)).plot.imshow()\n",
    "        # plt.title('para')\n",
    "        # plt.show()\n",
    "\n",
    "        perp_DA = perp_DA.where(perp_DA>0.01)  #.where(perp_DA<(perp_DA.max()*4*multiplier))  #.interpolate_na(dim='chi')\n",
    "        # perp_DA.sel(energy=2477.2,method='nearest').sel(q_red=slice(0.05, 0.7)).plot.imshow()\n",
    "        # plt.title('perp')\n",
    "        # plt.show()\n",
    "        # plt.close('all')\n",
    "\n",
    "        # Plot\n",
    "        energies = para_DA.energy.sel(energy=[2445, 2470.2, 2472, 2474, 2476, 2477, 2478, 2484, 2550], method='nearest').data\n",
    "\n",
    "        cmap = plt.cm.turbo.copy()\n",
    "        colors = cmap(np.linspace(0, 1, len(energies)))\n",
    "\n",
    "        fig, axs = plt.subplots(ncols=2,figsize=(10,4), tight_layout=True)\n",
    "\n",
    "        for j, energy in enumerate(energies):\n",
    "            (para_DA.sel(q_r=q_slice, energy=energy).mean('chi')\n",
    "             .plot.line(ax=axs[0], color=colors[j], yscale='log', xscale='log', label=energy))\n",
    "            (perp_DA.sel(q_r=q_slice, energy=energy).mean('chi')\n",
    "             .plot.line(ax=axs[1], color=colors[j], yscale='log', xscale='log', label=energy))\n",
    "\n",
    "        fig.suptitle(f'IvsQ, $\\\\theta$ = {theta}°, $\\chi$ width = 90°: {sample_name}', x=0.47)\n",
    "\n",
    "        axs[0].set(title=f'Parallel to E$_p$', ylabel='Intensity [arb. units]', xlabel='Q [$Å^{-1}$]')\n",
    "        axs[1].set(title=f'Perpendicular to E$_p$', ylabel='Intensity [arb. units]', xlabel='Q [$Å^{-1}$]')\n",
    "        axs[1].legend(title='Energy [eV]', loc=(1.05,0.1))\n",
    "\n",
    "        savePath = outPath.joinpath('saxs_core_films_trexs_plots_v2/I_cuts_v1')\n",
    "        savePath.mkdir(exist_ok=True)\n",
    "        fig.savefig(savePath.joinpath( \n",
    "                    f'{sample_name}_theta-{theta}deg_{round(cmin/1e7)}cmin-{round(cmax/1e7)}cmax_chiWidth-{chi_width}deg_q-{q_slice.start}-{q_slice.stop}_energy{energy_slice.start}-{energy_slice.stop}.png'), \n",
    "                    dpi=120)\n",
    "\n",
    "        # plt.show()\n",
    "        plt.close('all')"
   ]
  },
  {
   "cell_type": "markdown",
   "id": "da9aff9f-4318-4d04-a1f2-7bd242e46d20",
   "metadata": {
    "tags": []
   },
   "source": [
    "## ISI plots"
   ]
  },
  {
   "cell_type": "code",
   "execution_count": null,
   "id": "57d648c4-1a5d-430d-9c19-a7f17b77bedc",
   "metadata": {},
   "outputs": [],
   "source": [
    "# DA = rsoxs_datasets['polar_carbon']['corr_intensity']\n",
    "# DA.sel(sample_name='Y6_CB_3000', polarization=0, q=slice(0.001, 0.03)).sel(energy=398.8, method='nearest').plot(norm=LogNorm(1e9, 1e11), cmap=plt.cm.turbo)\n",
    "# plt.show()"
   ]
  },
  {
   "cell_type": "code",
   "execution_count": null,
   "id": "d0b5c53e-5118-4706-9492-cda3ad5aafde",
   "metadata": {},
   "outputs": [],
   "source": [
    "outPath"
   ]
  },
  {
   "cell_type": "code",
   "execution_count": null,
   "id": "55e2854e-7277-4a8e-856f-f44fb9446ff5",
   "metadata": {
    "tags": []
   },
   "outputs": [],
   "source": [
    "# make selection\n",
    "DS = caked_DS.copy()\n",
    "\n",
    "# make selection\n",
    "q_slice = slice(0.015, 0.085)\n",
    "chi_width = 90\n",
    "energy_slice = slice(2470, 2485)\n",
    "\n",
    "for sample_name in tqdm(unique_sample_names[:]):\n",
    "    for theta in [90, 55, 35]:\n",
    "        para_DA, perp_DA = make_para_perp_DAs(DS, sample_name, theta, chi_width) \n",
    "\n",
    "        para_DA = para_DA.where(para_DA>0.01)  #.where(para_DA<(para_DA.max()*0.0007))  #.interpolate_na(dim='chi')\n",
    "        # para_DA.sel(energy=2477.2,method='nearest').sel(q_r=q_slice).plot.imshow()\n",
    "        # plt.title('para')\n",
    "        # plt.show()\n",
    "\n",
    "        perp_DA = perp_DA.where(perp_DA>0.01)  #.where(perp_DA<(perp_DA.max()*0.0039))  #.interpolate_na(dim='chi')\n",
    "        # perp_DA.sel(energy=2477.2,method='nearest').sel(q_r=q_slice).plot.imshow()\n",
    "        # plt.title('perp')\n",
    "        # plt.show()\n",
    "        # plt.close('all')\n",
    "\n",
    "\n",
    "        # slice ISI data\n",
    "        para_ISI = para_DA.sel(q_r=q_slice).mean('chi').mean('q_r')\n",
    "        perp_ISI = perp_DA.sel(q_r=q_slice).mean('chi').mean('q_r')\n",
    "\n",
    "        # plot\n",
    "        fig, ax = plt.subplots(figsize=(6,4), dpi=120)\n",
    "\n",
    "        para_ISI.sel(energy=energy_slice).plot.line(ax=ax, label='$\\parallel$', yscale='log')\n",
    "        ax2=ax.twinx()\n",
    "        perp_ISI.sel(energy=energy_slice).plot.line(ax=ax2, label='$\\perp$', yscale='log', color='C1')\n",
    "        fig.suptitle(f'ISI: {sample_name}, $\\\\theta$ = {theta}°', fontsize=14, x=0.55)\n",
    "        ax.set(title=f'Chi width = {chi_width}°, Q = ({q_slice.start}, {q_slice.stop}) ' + 'Å$^{-1}$', \n",
    "               xlabel='X-ray energy [eV]', ylabel='$\\parallel$ Intensity [arb. units]')\n",
    "        ax2.set(title=None, ylabel='$\\perp$ Intensity [arb. units]')\n",
    "        ax2.legend(loc='upper right', fontsize=14)\n",
    "        ax.legend(loc='upper left', fontsize=14)\n",
    "        ax.grid(axis='x')\n",
    "        plt.subplots_adjust(top=0.86, bottom=0.2, left=0.2)\n",
    "\n",
    "        savePath = outPath.joinpath('saxs_core_films_trexs_plots_v2/ISIs_v1')\n",
    "        savePath.mkdir(exist_ok=True)\n",
    "        fig.savefig(savePath.joinpath( \n",
    "                    f'{sample_name}_theta-{theta}deg_chiWidth-{chi_width}deg_q-{q_slice.start}-{q_slice.stop}_energy{energy_slice.start}-{energy_slice.stop}.png'), \n",
    "                    dpi=120)\n",
    "\n",
    "        # plt.show()\n",
    "        plt.close('all')"
   ]
  },
  {
   "cell_type": "markdown",
   "id": "2063c575-1e68-41f9-aee2-83223686d00a",
   "metadata": {
    "tags": []
   },
   "source": [
    "## Anisotropy Ratio Plots"
   ]
  },
  {
   "cell_type": "markdown",
   "id": "a86e91f0-e7a2-4a86-8eea-cdede84b52e2",
   "metadata": {
    "tags": []
   },
   "source": [
    "### 1. 2D AR Maps"
   ]
  },
  {
   "cell_type": "code",
   "execution_count": null,
   "id": "d7b77d69-92d7-4d1f-9203-4cb35c89be58",
   "metadata": {
    "tags": []
   },
   "outputs": [],
   "source": [
    "# caked_DS = caked_DS.swap_dims({'index_y':'chi'})\n",
    "\n",
    "# q_r_coords = caked_DS.q_r.mean('energy')\n",
    "# caked_DS = caked_DS.assign_coords({'q_red':('index_x', q_r_coords.data)}).swap_dims({'index_x':'q_red'})\n",
    "# caked_DS"
   ]
  },
  {
   "cell_type": "code",
   "execution_count": null,
   "id": "5dbe691e-39f9-47f8-9d83-f111766dd45c",
   "metadata": {
    "tags": []
   },
   "outputs": [],
   "source": [
    "sample_names"
   ]
  },
  {
   "cell_type": "code",
   "execution_count": null,
   "id": "7c8dcd73-505c-49d6-9ab3-b2573c8f8f1c",
   "metadata": {
    "tags": []
   },
   "outputs": [],
   "source": [
    "DS = caked_DS.copy()\n",
    "\n",
    "# make selection\n",
    "q_slice = slice(0.015, 0.085)\n",
    "chi_width = 90\n",
    "energy_slice = slice(2470, 2485)\n",
    "\n",
    "# para_sin35, perp_sin35 = make_para_perp_DAs(DS, 'BareSiN_01', 35, chi_width) \n",
    "# para_sin55, perp_sin55 = make_para_perp_DAs(DS, 'BareSiN_01', 55, chi_width) \n",
    "# para_sin90, perp_sin90 = make_para_perp_DAs(DS, 'BareSiN_01', 90, chi_width) \n",
    "\n",
    "for sample_name in tqdm(unique_sample_names[:]):\n",
    "    for theta in [90, 55, 35]:\n",
    "        para_DA, perp_DA = make_para_perp_DAs(DS, sample_name, theta, chi_width) \n",
    "\n",
    "        para_DA = para_DA.where(para_DA>0.01)  #.where(para_DA<(para_DA.max()*0.9))  #.interpolate_na(dim='chi')\n",
    "        # para_DA.sel(energy=2477.2,method='nearest').sel(q_red=slice(0.05, 0.7)).plot.imshow()\n",
    "        # plt.title('para')\n",
    "        # plt.show()\n",
    "\n",
    "        perp_DA = perp_DA.where(perp_DA>0.01)  #.where(perp_DA<(perp_DA.max()*0.9))  #.interpolate_na(dim='chi')\n",
    "        # perp_DA.sel(energy=2477.2,method='nearest').sel(q_red=slice(0.05, 0.7)).plot.imshow()\n",
    "        # plt.title('perp')\n",
    "        # plt.show()\n",
    "        # plt.close('all')\n",
    "\n",
    "        # Select AR data\n",
    "        ar_DA = (para_DA.mean('chi') - perp_DA.mean('chi')) / (para_DA.mean('chi') + perp_DA.mean('chi'))\n",
    "\n",
    "        # Plot\n",
    "        vlim = 0.5\n",
    "        ax = ar_DA.sel(energy=energy_slice, q_r=q_slice).plot.pcolormesh(\n",
    "            cmap=plt.cm.RdBu_r, figsize=(8,5), norm=plt.Normalize(-vlim, vlim), xscale='log')\n",
    "        # ax = ar_DA.sel(energy=energy_slice, q_red=q_slice).plot.pcolormesh(figsize=(8,5))\n",
    "\n",
    "        ax.figure.suptitle('Anisotropy Ratio (AR) Map', fontsize=14, x=0.43)\n",
    "        ax.axes.set(title=f'{sample_name}, $\\\\theta$ = {theta}°, Chi Width = {chi_width}°', ylabel='Photon Energy [eV]', xlabel='q [$Å^{-1}$]')\n",
    "        ax.colorbar.set_label('AR [arb. units]', rotation=270, labelpad=12)\n",
    "\n",
    "\n",
    "        savePath = outPath.joinpath('saxs_core_films_trexs_plots_v2/ar_maps_v1')\n",
    "        savePath.mkdir(exist_ok=True)\n",
    "        ax.figure.savefig(savePath.joinpath( \n",
    "                          f'{sample_name}_theta-{theta}deg_chiWidth-{chi_width}deg_q-{q_slice.start}-{q_slice.stop}_energy{energy_slice.start}-{energy_slice.stop}.png'), \n",
    "                          dpi=120)\n",
    "\n",
    "        # plt.show()\n",
    "        plt.close('all')"
   ]
  },
  {
   "cell_type": "code",
   "execution_count": null,
   "id": "9e4f7258-28e3-45ac-ae92-3bd84c61219b",
   "metadata": {
    "tags": []
   },
   "outputs": [],
   "source": [
    "outPath.joinpath('trexs_plots/ar_maps_v1')"
   ]
  },
  {
   "cell_type": "markdown",
   "id": "76a88b52-4191-4262-ada1-5c5a5022ee4e",
   "metadata": {
    "tags": []
   },
   "source": [
    "### 2. 1D meaned AR linecuts"
   ]
  },
  {
   "cell_type": "code",
   "execution_count": null,
   "id": "006aba65-5391-4624-9f5b-2d89ef18b012",
   "metadata": {
    "tags": []
   },
   "outputs": [],
   "source": [
    "# make selection\n",
    "DS = caked_DS.copy()\n",
    "\n",
    "# make selection\n",
    "q_slice = slice(0.015, 0.085)\n",
    "chi_width = 90\n",
    "# energy_slice = slice(2470, 2485)\n",
    "\n",
    "for sample_name in tqdm(unique_sample_names[:]):\n",
    "    for theta in [90, 55, 35]:\n",
    "        para_DA, perp_DA = make_para_perp_DAs(DS, sample_name, theta, chi_width) \n",
    "        \n",
    "        para_DA = para_DA.where(para_DA>0.4).where(para_DA<(para_DA.max()*0.5))  #.interpolate_na(dim='chi')\n",
    "        # para_DA.sel(energy=2477.2,method='nearest').sel(q_red=slice(0.05, 0.7)).plot.imshow()\n",
    "        # plt.title('para')\n",
    "        # plt.show()\n",
    "        \n",
    "        perp_DA = perp_DA.where(perp_DA>0.4).where(perp_DA<(perp_DA.max()*0.5))  #.interpolate_na(dim='chi')\n",
    "        # perp_DA.sel(energy=2477.2,method='nearest').sel(q_red=slice(0.05, 0.7)).plot.imshow()\n",
    "        # plt.title('perp')\n",
    "        # plt.show()\n",
    "        # plt.close('all')\n",
    "            \n",
    "        # Select AR data\n",
    "        ar_DA = (para_DA.mean('chi') - perp_DA.mean('chi')) / (para_DA.mean('chi') + perp_DA.mean('chi'))\n",
    "\n",
    "        # Plot   \n",
    "        energies = para_DA.energy.sel(energy=[2445, 2470.2, 2472, 2474, 2476, 2477, 2478, 2484, 2550], method='nearest').data\n",
    "        cmap = plt.cm.turbo.copy()\n",
    "        colors = cmap(np.linspace(0, 1, len(energies)))        \n",
    "\n",
    "        # # Create a ScalarMappable object with the colormap and normalization & add the colorbar to the figure\n",
    "        # sm = plt.cm.ScalarMappable(cmap=cmap, norm=plt.Normalize(vmin=energies[0], vmax=energies[-1]))\n",
    "        # cax = ax.inset_axes([1.03, 0, 0.03, 1])\n",
    "        # cbar = fig.colorbar(sm, cax=cax, orientation='vertical')\n",
    "        # cbar.set_label(label=f'Time [seconds]', labelpad=14)\n",
    "        # cbar.set_ticks(np.round(np.linspace(energies[0], energies[-1], len(energies)), 2))\n",
    "\n",
    "        fig, ax = plt.subplots(tight_layout=True, figsize=(6,4), dpi=120)\n",
    "\n",
    "        for j, energy in enumerate(energies):\n",
    "            (ar_DA.sel(energy=energy, q_r=q_slice).plot.line(ax=ax, color=colors[j], label=energy))\n",
    "\n",
    "        fig.suptitle(f'Anisotropy Ratio Linecuts: {sample_name}', x=0.46)\n",
    "\n",
    "        ax.set(title=f'Chi width = {chi_width}°, $\\\\theta$ = {theta}°', ylabel='AR [arb. units]', xlabel='Q [$Å^{-1}$]')\n",
    "        ax.legend(title='Energy [eV]', loc=(1.03,0.1))\n",
    "\n",
    "        savePath = outPath.joinpath('saxs_core_films_trexs_plots_v2/ar_cuts_v1')\n",
    "        savePath.mkdir(exist_ok=True)\n",
    "        fig.savefig(savePath.joinpath( \n",
    "                    f'{sample_name}_theta-{theta}deg_chiWidth-{chi_width}deg_q-{q_slice.start}-{q_slice.stop}_energy{energy_slice.start}-{energy_slice.stop}.png'), \n",
    "                    dpi=120)\n",
    "\n",
    "        # plt.show()\n",
    "        plt.close('all')"
   ]
  },
  {
   "cell_type": "code",
   "execution_count": null,
   "id": "29903620-a5c4-4b9f-9a60-75b81f002f2b",
   "metadata": {},
   "outputs": [],
   "source": [
    "ar_DA.hvplot.line(groupby=\"energy\")"
   ]
  }
 ],
 "metadata": {
  "kernelspec": {
   "display_name": "nrss",
   "language": "python",
   "name": "nrss"
  },
  "language_info": {
   "codemirror_mode": {
    "name": "ipython",
    "version": 3
   },
   "file_extension": ".py",
   "mimetype": "text/x-python",
   "name": "python",
   "nbconvert_exporter": "python",
   "pygments_lexer": "ipython3",
   "version": "3.9.0"
  }
 },
 "nbformat": 4,
 "nbformat_minor": 5
}
