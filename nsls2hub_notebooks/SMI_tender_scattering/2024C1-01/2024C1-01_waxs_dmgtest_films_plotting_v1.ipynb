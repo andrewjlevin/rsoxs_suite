{
 "cells": [
  {
   "cell_type": "markdown",
   "id": "0",
   "metadata": {},
   "source": [
    "# 2024C1-01 SMI WAXS TReXS damagetest & normal incidence films plotting notebook"
   ]
  },
  {
   "cell_type": "code",
   "execution_count": null,
   "id": "1",
   "metadata": {
    "tags": []
   },
   "outputs": [],
   "source": [
    "# !pip install -e /nsls2/users/alevin/repos/PyHyperScattering  # to use pip to install via directory"
   ]
  },
  {
   "cell_type": "markdown",
   "id": "2",
   "metadata": {},
   "source": [
    "## Imports"
   ]
  },
  {
   "cell_type": "code",
   "execution_count": null,
   "id": "3",
   "metadata": {
    "tags": []
   },
   "outputs": [],
   "source": [
    "import PyHyperScattering as phs\n",
    "import pathlib\n",
    "import numpy as np\n",
    "import matplotlib.pyplot as plt\n",
    "import xarray as xr\n",
    "from tqdm.auto import tqdm \n",
    "import subprocess\n",
    "import io\n",
    "print(phs.__version__)"
   ]
  },
  {
   "cell_type": "markdown",
   "id": "4",
   "metadata": {
    "tags": []
   },
   "source": [
    "## Define paths"
   ]
  },
  {
   "cell_type": "code",
   "execution_count": null,
   "id": "5",
   "metadata": {
    "tags": []
   },
   "outputs": [],
   "source": [
    "# Define paths\n",
    "propPath = pathlib.Path('/nsls2/data/smi/proposals/2024-1/pass-314903')\n",
    "outPath = propPath.joinpath('processed_data/trexs_plots')\n",
    "# sampleZarrsPath = propPath.joinpath('processed_data/zarrs/waxs_dmgtest_films_trexs_sample_zarrs')\n",
    "sampleZarrsPath = propPath.joinpath('processed_data/zarrs/waxs_normal_films_trexs_sample_zarrs')\n",
    "# sampleZarrsPath = propPath.joinpath('processed_data/zarrs/waxs_solution_trexs_sample_zarrs')\n",
    "\n",
    "\n",
    "# rawPaths = propPath.joinpath('raw_04')\n",
    "# waxsPath = rawPaths.joinpath('900KW')"
   ]
  },
  {
   "cell_type": "markdown",
   "id": "6",
   "metadata": {},
   "source": [
    "### Rclone copy statement"
   ]
  },
  {
   "cell_type": "raw",
   "id": "7",
   "metadata": {},
   "source": [
    "rclone --dry-run copy -P /nsls2/data/smi/proposals/2024-1/pass-314903/processed_data/trexs_plots remote:research/data_analysis/rsoxs_suite/trexs_plots --exclude '*checkpoint*'"
   ]
  },
  {
   "cell_type": "markdown",
   "id": "8",
   "metadata": {},
   "source": [
    "### Load whole dataset from zarr(s)"
   ]
  },
  {
   "cell_type": "code",
   "execution_count": null,
   "id": "9",
   "metadata": {
    "tags": []
   },
   "outputs": [],
   "source": [
    "# films\n",
    "unique_sample_names = sorted(set(['_'.join(f.name.split('_')[1:3]) for f in sampleZarrsPath.glob('*')]))\n",
    "unique_sample_names"
   ]
  },
  {
   "cell_type": "code",
   "execution_count": null,
   "id": "10",
   "metadata": {
    "tags": []
   },
   "outputs": [],
   "source": [
    "# # solution\n",
    "# unique_sample_names = sorted(set(['_'.join(f.name.split('_')[1:-1]) for f in sampleZarrsPath.glob('*')]))\n",
    "# unique_sample_names"
   ]
  },
  {
   "cell_type": "code",
   "execution_count": null,
   "id": "11",
   "metadata": {
    "tags": []
   },
   "outputs": [],
   "source": [
    "sample_zarrs"
   ]
  },
  {
   "cell_type": "code",
   "execution_count": null,
   "id": "12",
   "metadata": {
    "tags": []
   },
   "outputs": [],
   "source": [
    "# films\n",
    "\n",
    "recip_DS_rows = []\n",
    "caked_DS_rows = []\n",
    "for sample_name in tqdm(unique_sample_names):\n",
    "    sample_zarrs = sorted(sampleZarrsPath.glob(f'*_{sample_name}_*'))\n",
    "    # display(sorted([f.name for f in sample_zarrs]))\n",
    "    \n",
    "    samp_recip_DS_rows = []\n",
    "    samp_caked_DS_rows = []\n",
    "    for sample_zarr in sample_zarrs:\n",
    "        if 'recip_' in sample_zarr.name:\n",
    "            recip_DS = xr.open_zarr(sample_zarr)\n",
    "            samp_recip_DS_rows.append(recip_DS)\n",
    "        elif 'caked_' in sample_zarr.name:\n",
    "            caked_DS = xr.open_zarr(sample_zarr)\n",
    "            samp_caked_DS_rows.append(caked_DS)\n",
    "            \n",
    "    recip_DS = xr.concat(samp_recip_DS_rows, 'theta')\n",
    "    recip_DS_rows.append(recip_DS)\n",
    "    \n",
    "    caked_DS = xr.concat(samp_caked_DS_rows, 'theta')\n",
    "    caked_DS_rows.append(caked_DS)\n",
    "    \n",
    "recip_DS = xr.concat(recip_DS_rows, 'sample_name')\n",
    "caked_DS = xr.concat(caked_DS_rows, 'sample_name')"
   ]
  },
  {
   "cell_type": "code",
   "execution_count": null,
   "id": "13",
   "metadata": {
    "tags": []
   },
   "outputs": [],
   "source": [
    "# # solutions\n",
    "\n",
    "# recip_DS_rows = []\n",
    "# caked_DS_rows = []\n",
    "# for sample_name in tqdm(unique_sample_names):\n",
    "#     caked_sample_zarrs = sorted(sampleZarrsPath.glob(f'caked_{sample_name}_90deg*'))\n",
    "#     recip_sample_zarrs = sorted(sampleZarrsPath.glob(f'recip_{sample_name}_90deg*'))\n",
    "    \n",
    "#     samp_recip_DS_rows = []\n",
    "#     samp_caked_DS_rows = []\n",
    "#     for recip_sample_zarr in recip_sample_zarrs:\n",
    "#         recip_DS = xr.open_zarr(recip_sample_zarr)\n",
    "#         samp_recip_DS_rows.append(recip_DS)\n",
    "#     for caked_sample_zarr in caked_sample_zarrs:\n",
    "#         caked_DS = xr.open_zarr(caked_sample_zarr)\n",
    "#         samp_caked_DS_rows.append(caked_DS)\n",
    "            \n",
    "#     recip_DS = xr.concat(samp_recip_DS_rows, 'theta')\n",
    "#     recip_DS_rows.append(recip_DS)\n",
    "    \n",
    "#     caked_DS = xr.concat(samp_caked_DS_rows, 'theta')\n",
    "#     caked_DS_rows.append(caked_DS)\n",
    "    \n",
    "# recip_DS = xr.concat(recip_DS_rows, 'sample_name')\n",
    "# caked_DS = xr.concat(caked_DS_rows, 'sample_name')"
   ]
  },
  {
   "cell_type": "code",
   "execution_count": null,
   "id": "14",
   "metadata": {
    "tags": []
   },
   "outputs": [],
   "source": [
    "recip_DS = recip_DS.chunk({'sample_name':1, 'theta':1, 'pix_y': 941, 'pix_x': 867, 'energy':63,})\n",
    "caked_DS = caked_DS.chunk({'sample_name':1, 'theta':1, 'index_y':500,'index_x':500,'energy':63})"
   ]
  },
  {
   "cell_type": "code",
   "execution_count": null,
   "id": "15",
   "metadata": {
    "tags": []
   },
   "outputs": [],
   "source": [
    "# recip_DS.to_zarr(outPath.joinpath('zarrs/waxs_core_films_zarrs_WIP', f'recip_waxs_core_films.zarr'), mode='w')"
   ]
  },
  {
   "cell_type": "code",
   "execution_count": null,
   "id": "16",
   "metadata": {
    "tags": []
   },
   "outputs": [],
   "source": [
    "# energy = 2470\n",
    "\n",
    "# for sample_name in unique_sample_names:\n",
    "#     for theta in [90, 55, 35]:\n",
    "#         sliced_DA = recip_DS.sel(sample_name=sample_name, theta=theta).sel(energy=2470, method='nearest')['flatfield_corr']\n",
    "\n",
    "#         cmin = sliced_DA.compute().quantile(0.15)\n",
    "#         cmax = sliced_DA.compute().quantile(0.995)\n",
    "#         ax = sliced_DA.plot.imshow(norm=plt.Normalize(cmin, cmax), cmap=plt.cm.turbo, x='q_x', y='q_y')\n",
    "#         ax.axes.set(title=f'{sample_name}: Energy = {energy}, Theta = {theta}')\n",
    "#         plt.show()\n",
    "#         plt.close('all')"
   ]
  },
  {
   "cell_type": "markdown",
   "id": "17",
   "metadata": {
    "tags": []
   },
   "source": [
    "## Detector movies"
   ]
  },
  {
   "cell_type": "code",
   "execution_count": null,
   "id": "18",
   "metadata": {
    "tags": []
   },
   "outputs": [],
   "source": [
    "cmap = plt.cm.turbo.copy()\n",
    "cmap.set_bad(cmap.get_under())"
   ]
  },
  {
   "cell_type": "markdown",
   "id": "19",
   "metadata": {
    "tags": []
   },
   "source": [
    "### recip"
   ]
  },
  {
   "cell_type": "code",
   "execution_count": null,
   "id": "20",
   "metadata": {
    "tags": []
   },
   "outputs": [],
   "source": [
    "# Select Dataset\n",
    "DS = recip_DS\n",
    "\n",
    "\n",
    "# Select Plotting Parameters\n",
    "energy = 2470\n",
    "pix_size = 500\n",
    "# pix_x_slice = slice(bcx-(pix_size/2), bcx+(pix_size/2))\n",
    "# pix_y_slice = slice(bcy-(pix_size/2), bcy+(pix_size/2))\n",
    "\n",
    "# Select DataArray\n",
    "# sample_name = 'PM6-Y6_3000_dSiN'\n",
    "for sample_name in tqdm(unique_sample_names):\n",
    "    for theta in [90]:\n",
    "        DA = DS.sel(sample_name=sample_name, theta=theta)['flatfield_corr']\n",
    "\n",
    "\n",
    "        # Plot\n",
    "        sliced_DA = DA.sel(energy=energy,method='nearest')\n",
    "        cmin = float(sliced_DA.compute().quantile(0.15))\n",
    "        cmax = float(sliced_DA.compute().quantile(0.995))\n",
    "\n",
    "        ax = sliced_DA.plot.imshow(figsize=(5.5,4.5), x='q_x', y='q_y', cmap=cmap, norm=plt.Normalize(cmin,cmax))\n",
    "        ax.figure.suptitle(f'Photon Energy = {np.round(energy, 1)} eV', fontsize=14, y=0.96)\n",
    "        ax.figure.set_tight_layout(True)\n",
    "        ax.axes.set(aspect='equal', title=f'{sample_name}, $\\\\theta$ = {theta}°', xlabel='q$_x$ [$Å^{-1}$]', ylabel='q$_y$ [$Å^{-1}$]')\n",
    "        ax.colorbar.set_label('Intensity [arb. units]', rotation=270, labelpad=12)\n",
    "        # ax.figure.savefig(outPath.joinpath('waxs_detector_movies_v1', f'{sample_name}_{theta}degth.png'), dpi=120)\n",
    "        plt.show()\n",
    "        plt.close('all')"
   ]
  },
  {
   "cell_type": "code",
   "execution_count": null,
   "id": "21",
   "metadata": {
    "tags": []
   },
   "outputs": [],
   "source": [
    "# Select Dataset\n",
    "DS = recip_DS\n",
    "\n",
    "# Select DataArray\n",
    "for sample_name in tqdm(unique_sample_names):\n",
    "    for theta in [90]:\n",
    "        DA = DS.sel(sample_name=sample_name, theta=theta)['flatfield_corr']\n",
    "        cmin = float(DA.compute().quantile(0.15))\n",
    "        cmax = float(DA.compute().quantile(0.995))\n",
    "\n",
    "        savePath = outPath.joinpath('waxs_normal_films_trexs_plots/recip_detector_movies_v1')\n",
    "        savePath.mkdir(exist_ok=True)\n",
    "        output_path = savePath.joinpath(f'{sample_name}_{theta}degth.mp4')\n",
    "        \n",
    "        # FFmpeg command. This is set up to accept data from the pipe and use it as input, with PNG format.\n",
    "        # It will then output an H.264 encoded MP4 video.\n",
    "        cmd = [\n",
    "            'ffmpeg',\n",
    "            '-y',  # Overwrite output file if it exists\n",
    "            '-f', 'image2pipe',\n",
    "            '-vcodec', 'png',\n",
    "            '-r', '15',  # Frame rate\n",
    "            '-i', '-',  # The input comes from a pipe\n",
    "            '-vcodec', 'libx264',\n",
    "            '-pix_fmt', 'yuv420p',\n",
    "            '-crf', '17',  # Set the quality (lower is better, 17 is often considered visually lossless)\n",
    "            str(output_path)\n",
    "        ]\n",
    "\n",
    "        # Start the subprocess\n",
    "        proc = subprocess.Popen(cmd, stdin=subprocess.PIPE, stdout=subprocess.PIPE, stderr=subprocess.PIPE)\n",
    "\n",
    "        # Loop through the energy dimension and send frames to FFmpeg\n",
    "        for i, energy in enumerate(tqdm(DA.energy.values, desc=f'Making the {sample_name} movie')):\n",
    "            # Make & customize plot\n",
    "            sliced_DA = DA.sel(energy=energy, method='nearest')\n",
    "            \n",
    "            ax = sliced_DA.plot.imshow(figsize=(5.5,4.5), x='q_x', y='q_y', cmap=cmap, norm=plt.Normalize(cmin,cmax))\n",
    "            ax.figure.suptitle(f'Photon Energy = {np.round(energy, 1)} eV', fontsize=14, y=0.96)\n",
    "            ax.figure.set_tight_layout(True)   \n",
    "            ax.axes.set(aspect='equal', title=f'{sample_name}, $\\\\theta$ = {theta}°', xlabel='q$_x$ [$Å^{-1}$]', ylabel='q$_y$ [$Å^{-1}$]')\n",
    "            ax.colorbar.set_label('Intensity [arb. units]', rotation=270, labelpad=12)\n",
    "\n",
    "            # Save figure if first frame:\n",
    "            if i==0:\n",
    "                ax.figure.savefig(savePath.joinpath(f'{sample_name}_{theta}degth.png'), dpi=120)\n",
    "\n",
    "            buf = io.BytesIO()\n",
    "            ax.figure.savefig(buf, format='png')\n",
    "            buf.seek(0)\n",
    "\n",
    "            # Write the PNG buffer data to the process\n",
    "            proc.stdin.write(buf.getvalue())\n",
    "            plt.close('all')\n",
    "\n",
    "        # Finish the subprocess\n",
    "        out, err = proc.communicate()\n",
    "        if proc.returncode != 0:\n",
    "            print(f\"Error: {err}\")\n"
   ]
  },
  {
   "cell_type": "code",
   "execution_count": null,
   "id": "22",
   "metadata": {},
   "outputs": [],
   "source": []
  },
  {
   "cell_type": "markdown",
   "id": "23",
   "metadata": {
    "tags": []
   },
   "source": [
    "### caked"
   ]
  },
  {
   "cell_type": "code",
   "execution_count": null,
   "id": "24",
   "metadata": {
    "tags": []
   },
   "outputs": [],
   "source": [
    "# Select Dataset\n",
    "DS = caked_DS.copy()\n",
    "\n",
    "\n",
    "# Select Plotting Parameters\n",
    "energy = 2470\n",
    "chi_slice = slice(-150,50)\n",
    "# chi_slice = slice(None,None)\n",
    "\n",
    "qr_slice = slice(0.03,0.8)\n",
    "# qr_slice = slice(None,None)\n",
    "\n",
    "# Select DataArray\n",
    "# sample_name = 'PM6-Y6_3000_dSiN'\n",
    "for sample_name in tqdm(unique_sample_names):\n",
    "    for theta in [55]:\n",
    "        DA = DS.sel(sample_name=sample_name, theta=theta)['flatfield_corr']\n",
    "\n",
    "\n",
    "        # Plot\n",
    "        sliced_DA = DA.sel(energy=energy,method='nearest').sel(chi=chi_slice, q_red=qr_slice)\n",
    "        cmin = float(sliced_DA.compute().quantile(0.1))\n",
    "        cmax = float(sliced_DA.compute().quantile(0.99))\n",
    "\n",
    "        ax = sliced_DA.plot.imshow(figsize=(5.5,4.5), x='q_r', y='chi', cmap=cmap, norm=plt.Normalize(cmin,cmax))\n",
    "        ax.figure.suptitle(f'Photon Energy = {np.round(energy, 1)} eV', fontsize=14, y=0.96)\n",
    "        ax.figure.set_tight_layout(True)\n",
    "        ax.axes.set(title=f'{sample_name}, $\\\\theta$ = {theta}°', xlabel='q$_r$ [$Å^{-1}$]', ylabel='$\\\\chi$ [°]')\n",
    "        ax.colorbar.set_label('Intensity [arb. units]', rotation=270, labelpad=12)\n",
    "        # ax.figure.savefig(outPath.joinpath('waxs_detector_movies_v1', f'{sample_name}_{theta}degth.png'), dpi=120)\n",
    "        plt.show()\n",
    "        plt.close('all')"
   ]
  },
  {
   "cell_type": "code",
   "execution_count": null,
   "id": "25",
   "metadata": {
    "tags": []
   },
   "outputs": [],
   "source": [
    "caked_DS"
   ]
  },
  {
   "cell_type": "code",
   "execution_count": null,
   "id": "26",
   "metadata": {
    "tags": []
   },
   "outputs": [],
   "source": [
    "# Select Dataset\n",
    "DS = caked_DS.copy()\n",
    "\n",
    "# plotting parameters\n",
    "chi_slice = slice(-150,50)\n",
    "# chi_slice = slice(None,None)\n",
    "\n",
    "qr_slice = slice(0.03,0.8)\n",
    "# qr_slice = slice(None,None)\n",
    "\n",
    "# Select DataArray\n",
    "for sample_name in tqdm(unique_sample_names):\n",
    "# for sample_name in tqdm(['PM6_1CN-CB']):\n",
    "    for theta in [90]:\n",
    "        DA = DS.sel(sample_name=sample_name, theta=theta)['flatfield_corr']\n",
    "        cmin = float(DA.compute().quantile(0.15))\n",
    "        cmax = float(DA.compute().quantile(0.995))\n",
    "        \n",
    "        savePath = outPath.joinpath('waxs_normal_films_trexs_plots/caked_detector_movies_v1')\n",
    "        savePath.mkdir(exist_ok=True)\n",
    "        output_path = savePath.joinpath(f'{sample_name}_{theta}degth.mp4')\n",
    "\n",
    "        # FFmpeg command. This is set up to accept data from the pipe and use it as input, with PNG format.\n",
    "        # It will then output an H.264 encoded MP4 video.\n",
    "        cmd = [\n",
    "            'ffmpeg',\n",
    "            '-y',  # Overwrite output file if it exists\n",
    "            '-f', 'image2pipe',\n",
    "            '-vcodec', 'png',\n",
    "            '-r', '15',  # Frame rate\n",
    "            '-i', '-',  # The input comes from a pipe\n",
    "            '-vcodec', 'libx264',\n",
    "            '-pix_fmt', 'yuv420p',\n",
    "            '-crf', '17',  # Set the quality (lower is better, 17 is often considered visually lossless)\n",
    "            str(output_path)\n",
    "        ]\n",
    "\n",
    "        # Start the subprocess\n",
    "        proc = subprocess.Popen(cmd, stdin=subprocess.PIPE, stdout=subprocess.PIPE, stderr=subprocess.PIPE)\n",
    "\n",
    "        # Loop through the energy dimension and send frames to FFmpeg\n",
    "        for i, energy in enumerate(tqdm(DA.energy.values, desc=f'Making the {sample_name} {theta}° movie')):\n",
    "            # Make & customize plot\n",
    "            sliced_DA = DA.sel(energy=energy,method='nearest').sel(chi=chi_slice, q_red=qr_slice)\n",
    "            \n",
    "            ax = sliced_DA.plot.imshow(figsize=(5.5,4.5), cmap=cmap, norm=plt.Normalize(cmin,cmax))\n",
    "            ax.figure.suptitle(f'Photon Energy = {np.round(energy, 1)} eV', fontsize=14, y=0.96)\n",
    "            ax.figure.set_tight_layout(True)   \n",
    "            ax.axes.set(title=f'{sample_name}, $\\\\theta$ = {theta}°', xlabel='q$_r$ [$Å^{-1}$]', ylabel='$\\\\chi$ [°]')\n",
    "            ax.colorbar.set_label('Intensity [arb. units]', rotation=270, labelpad=12)\n",
    "\n",
    "            # Save figure if first frame:\n",
    "            if i==0:\n",
    "                ax.figure.savefig(savePath.joinpath(f'{sample_name}_{theta}degth.png'), dpi=120)\n",
    "\n",
    "            buf = io.BytesIO()\n",
    "            ax.figure.savefig(buf, format='png')\n",
    "            buf.seek(0)\n",
    "\n",
    "            # Write the PNG buffer data to the process\n",
    "            proc.stdin.write(buf.getvalue())\n",
    "            plt.close('all')\n",
    "\n",
    "        # Finish the subprocess\n",
    "        out, err = proc.communicate()\n",
    "        if proc.returncode != 0:\n",
    "            print(f\"Error: {err}\")\n"
   ]
  },
  {
   "cell_type": "markdown",
   "id": "27",
   "metadata": {
    "tags": []
   },
   "source": [
    "## Anisotropy Ratio Plots"
   ]
  },
  {
   "cell_type": "markdown",
   "id": "28",
   "metadata": {
    "tags": []
   },
   "source": [
    "### 1. 2D AR Maps"
   ]
  },
  {
   "cell_type": "code",
   "execution_count": null,
   "id": "29",
   "metadata": {
    "tags": []
   },
   "outputs": [],
   "source": [
    "caked_DS = caked_DS.swap_dims({'index_y':'chi'})\n",
    "\n",
    "q_r_coords = caked_DS.q_r.mean('energy')\n",
    "caked_DS = caked_DS.assign_coords({'q_red':('index_x', q_r_coords.data)}).swap_dims({'index_x':'q_red'})\n",
    "caked_DS"
   ]
  },
  {
   "cell_type": "code",
   "execution_count": null,
   "id": "30",
   "metadata": {
    "tags": []
   },
   "outputs": [],
   "source": [
    "def make_para_perp_DAs(DS, sample_name, theta=55, chi_width=90):\n",
    "    # select dataarray to plot\n",
    "    DA = DS.sel(sample_name=sample_name)['flatfield_corr']\n",
    "    sel_DA = DA.sel(theta=theta)\n",
    "\n",
    "    # calculate ISI dataarrays\n",
    "    para_DA = sel_DA.rsoxs.slice_chi(0, chi_width=(chi_width/2))\n",
    "    perp_DA = sel_DA.rsoxs.slice_chi(-90, chi_width=(chi_width/2))\n",
    "        \n",
    "    return para_DA, perp_DA"
   ]
  },
  {
   "cell_type": "code",
   "execution_count": null,
   "id": "31",
   "metadata": {
    "tags": []
   },
   "outputs": [],
   "source": [
    "DS = caked_DS.copy()\n",
    "\n",
    "# make selection\n",
    "q_slice = slice(0.05, 0.8)\n",
    "chi_width = 90\n",
    "energy_slice = slice(2470, 2485)\n",
    "\n",
    "# para_sin35, perp_sin35 = make_para_perp_DAs(DS, 'BareSiN_01', 35, chi_width) \n",
    "# para_sin55, perp_sin55 = make_para_perp_DAs(DS, 'BareSiN_01', 55, chi_width) \n",
    "# para_sin90, perp_sin90 = make_para_perp_DAs(DS, 'BareSiN_01', 90, chi_width) \n",
    "\n",
    "for sample_name in tqdm(unique_sample_names):\n",
    "    for theta in [90]:\n",
    "        para_DA, perp_DA = make_para_perp_DAs(DS, sample_name, theta, chi_width) \n",
    "        \n",
    "        para_DA = para_DA.where(para_DA>0.4).where(para_DA<(para_DA.max()*0.03))  #.interpolate_na(dim='chi')\n",
    "        # para_DA.sel(energy=2477.2,method='nearest').sel(q_red=slice(0.05, 0.7)).plot.imshow()\n",
    "        # plt.title('para')\n",
    "        # plt.show()\n",
    "        \n",
    "        perp_DA = perp_DA.where(perp_DA>0.4).where(perp_DA<(perp_DA.max()*0.03))  #.interpolate_na(dim='chi')\n",
    "        # perp_DA.sel(energy=2477.2,method='nearest').sel(q_red=slice(0.05, 0.7)).plot.imshow()\n",
    "        # plt.title('perp')\n",
    "        # plt.show()\n",
    "        # plt.close('all')\n",
    "            \n",
    "        # Select AR data\n",
    "        ar_DA = (para_DA.mean('chi') - perp_DA.mean('chi')) / (para_DA.mean('chi') + perp_DA.mean('chi'))\n",
    "\n",
    "        # Plot\n",
    "        vlim = 0.4\n",
    "        ax = ar_DA.sel(energy=energy_slice, q_red=q_slice).plot.pcolormesh(\n",
    "            cmap=plt.cm.RdBu_r, figsize=(8,5), norm=plt.Normalize(-vlim, vlim), xscale='linear')\n",
    "        # ax = ar_DA.sel(energy=energy_slice, q_red=q_slice).plot.pcolormesh(figsize=(8,5))\n",
    "\n",
    "        ax.figure.suptitle('Anisotropy Ratio (AR) Map', fontsize=14, x=0.43)\n",
    "        ax.axes.set(title=f'{sample_name}, $\\\\theta$ = {theta}°, Chi Width = {chi_width}°', ylabel='Photon Energy [eV]', xlabel='q [$Å^{-1}$]')\n",
    "        ax.colorbar.set_label('AR [arb. units]', rotation=270, labelpad=12)\n",
    "\n",
    "\n",
    "        savePath = outPath.joinpath('waxs_normal_films_trexs_plots/ar_maps_v1')\n",
    "        savePath.mkdir(exist_ok=True)\n",
    "        ax.figure.savefig(savePath.joinpath( \n",
    "                          f'{sample_name}_theta-{theta}deg_chiWidth-{chi_width}deg_q-{q_slice.start}-{q_slice.stop}_energy{energy_slice.start}-{energy_slice.stop}.png'), \n",
    "                          dpi=120)\n",
    "\n",
    "        # plt.show()\n",
    "        plt.close('all')"
   ]
  },
  {
   "cell_type": "markdown",
   "id": "32",
   "metadata": {
    "tags": []
   },
   "source": [
    "### 2. 1D meaned AR linecuts"
   ]
  },
  {
   "cell_type": "code",
   "execution_count": null,
   "id": "33",
   "metadata": {
    "tags": []
   },
   "outputs": [],
   "source": [
    "# make selection\n",
    "# sample_name = 'Y6_CB_2500'\n",
    "DS = caked_DS.copy()\n",
    "\n",
    "# make selection\n",
    "q_slice = slice(0.05, 0.8)\n",
    "chi_width = 90\n",
    "# energy_slice = slice(2470, 2485)\n",
    "\n",
    "for sample_name in tqdm(unique_sample_names):\n",
    "    for theta in [90]:\n",
    "        para_DA, perp_DA = make_para_perp_DAs(DS, sample_name, theta, chi_width) \n",
    "        \n",
    "        para_DA = para_DA.where(para_DA>0.4).where(para_DA<(para_DA.max()*0.03))  #.interpolate_na(dim='chi')\n",
    "        # para_DA.sel(energy=2477.2,method='nearest').sel(q_red=slice(0.05, 0.7)).plot.imshow()\n",
    "        # plt.title('para')\n",
    "        # plt.show()\n",
    "        \n",
    "        perp_DA = perp_DA.where(perp_DA>0.4).where(perp_DA<(perp_DA.max()*0.03))  #.interpolate_na(dim='chi')\n",
    "        # perp_DA.sel(energy=2477.2,method='nearest').sel(q_red=slice(0.05, 0.7)).plot.imshow()\n",
    "        # plt.title('perp')\n",
    "        # plt.show()\n",
    "        # plt.close('all')\n",
    "            \n",
    "        # Select AR data\n",
    "        ar_DA = (para_DA.mean('chi') - perp_DA.mean('chi')) / (para_DA.mean('chi') + perp_DA.mean('chi'))\n",
    "\n",
    "        # Plot   \n",
    "        energies = para_DA.energy.sel(energy=[2445, 2470.2, 2472, 2474, 2476, 2477, 2478, 2484, 2550], method='nearest').data\n",
    "        cmap = plt.cm.turbo.copy()\n",
    "        colors = cmap(np.linspace(0, 1, len(energies)))        \n",
    "\n",
    "        # # Create a ScalarMappable object with the colormap and normalization & add the colorbar to the figure\n",
    "        # sm = plt.cm.ScalarMappable(cmap=cmap, norm=plt.Normalize(vmin=energies[0], vmax=energies[-1]))\n",
    "        # cax = ax.inset_axes([1.03, 0, 0.03, 1])\n",
    "        # cbar = fig.colorbar(sm, cax=cax, orientation='vertical')\n",
    "        # cbar.set_label(label=f'Time [seconds]', labelpad=14)\n",
    "        # cbar.set_ticks(np.round(np.linspace(energies[0], energies[-1], len(energies)), 2))\n",
    "\n",
    "        fig, ax = plt.subplots(tight_layout=True, figsize=(6,4), dpi=120)\n",
    "\n",
    "        qmin = 8e-3 \n",
    "        qmax = 8e-2\n",
    "\n",
    "        for j, energy in enumerate(energies):\n",
    "            (ar_DA.sel(energy=energy, q_red=q_slice).plot.line(ax=ax, color=colors[j], label=energy, xscale='linear'))\n",
    "\n",
    "        fig.suptitle(f'Anisotropy Ratio Linecuts: {sample_name}', x=0.46)\n",
    "\n",
    "        ax.set(title=f'Chi width = {chi_width}°, $\\\\theta$ = {theta}°', ylim=(-0.5, 0.5), ylabel='AR [arb. units]', xlabel='Q [$Å^{-1}$]')\n",
    "        ax.legend(title='Energy [eV]', loc=(1.03,0.1))\n",
    "\n",
    "        savePath = outPath.joinpath('waxs_normal_films_trexs_plots/ar_cuts_v1')\n",
    "        savePath.mkdir(exist_ok=True)\n",
    "        fig.savefig(savePath.joinpath( \n",
    "            f'{sample_name}_theta-{theta}deg_chiWidth-{chi_width}deg_q-{q_slice.start}-{q_slice.stop}.png'), dpi=120)\n",
    "\n",
    "        # plt.show()\n",
    "        plt.close('all')"
   ]
  },
  {
   "cell_type": "code",
   "execution_count": null,
   "id": "34",
   "metadata": {},
   "outputs": [],
   "source": [
    "ar_DA.hvplot.line(groupby=\"energy\")"
   ]
  },
  {
   "cell_type": "markdown",
   "id": "35",
   "metadata": {
    "tags": []
   },
   "source": [
    "## Meaned 1D intensity lineplots, selected energies"
   ]
  },
  {
   "cell_type": "code",
   "execution_count": null,
   "id": "36",
   "metadata": {
    "tags": []
   },
   "outputs": [],
   "source": [
    "# manual_scale_factors_v1 = {\n",
    "#     'PM6_CB_3000': 6.5,\n",
    "#     ...\n",
    "#     'Y6_CF_2500': 8.5,\n",
    "# }\n",
    "\n",
    "# len(manual_scale_factors_v1)"
   ]
  },
  {
   "cell_type": "code",
   "execution_count": null,
   "id": "37",
   "metadata": {
    "tags": []
   },
   "outputs": [],
   "source": [
    "# make selection\n",
    "DS = caked_DS.copy()\n",
    "\n",
    "# make selection\n",
    "q_slice = slice(0.05, 0.8)\n",
    "chi_width = 90\n",
    "# energy_slice = slice(2470, 2485)\n",
    "\n",
    "for sample_name in tqdm(unique_sample_names):\n",
    "    for theta in [90]:\n",
    "        para_DA, perp_DA = make_para_perp_DAs(DS, sample_name, theta, chi_width) \n",
    "        \n",
    "        para_DA = para_DA.where(para_DA>0.4).where(para_DA<(para_DA.max()*0.03))  #.interpolate_na(dim='chi')\n",
    "        # para_DA.sel(energy=2477.2,method='nearest').sel(q_red=slice(0.05, 0.7)).plot.imshow()\n",
    "        # plt.title('para')\n",
    "        # plt.show()\n",
    "        \n",
    "        perp_DA = perp_DA.where(perp_DA>0.4).where(perp_DA<(perp_DA.max()*0.03))  #.interpolate_na(dim='chi')\n",
    "        # perp_DA.sel(energy=2477.2,method='nearest').sel(q_red=slice(0.05, 0.7)).plot.imshow()\n",
    "        # plt.title('perp')\n",
    "        # plt.show()\n",
    "        # plt.close('all')\n",
    "\n",
    "        # Plot\n",
    "        energies = para_DA.energy.sel(energy=[2445, 2470.2, 2472, 2474, 2476, 2477, 2478, 2484, 2550], method='nearest').data\n",
    "\n",
    "        cmap = plt.cm.turbo.copy()\n",
    "        colors = cmap(np.linspace(0, 1, len(energies)))\n",
    "\n",
    "        fig, axs = plt.subplots(ncols=2,figsize=(8,4), tight_layout=True)\n",
    "\n",
    "        for j, energy in enumerate(energies):\n",
    "            (para_DA.sel(q_red=q_slice, energy=energy).mean('chi')\n",
    "             .plot.line(ax=axs[0], color=colors[j], yscale='linear', xscale='linear', label=energy))\n",
    "            (perp_DA.sel(q_red=q_slice, energy=energy).mean('chi')\n",
    "             .plot.line(ax=axs[1], color=colors[j], yscale='linear', xscale='linear', label=energy))\n",
    "\n",
    "        fig.suptitle(f'IvsQ , $\\\\theta$ = {theta}°, $\\chi$ width = 90°: {sample_name}', x=0.47)\n",
    "\n",
    "        axs[0].set(title=f'Parallel to E$_p$', ylabel='Intensity [arb. units]', xlabel='Q [$Å^{-1}$]')\n",
    "        axs[1].set(title=f'Perpendicular to E$_p$', ylabel='Intensity [arb. units]', xlabel='Q [$Å^{-1}$]')\n",
    "        axs[1].legend(title='Energy [eV]', loc=(1.05,0.1))\n",
    "\n",
    "        savePath = outPath.joinpath('waxs_normal_films_trexs_plots/I_cuts_v1')\n",
    "        savePath.mkdir(exist_ok=True)        \n",
    "        fig.savefig(savePath.joinpath( \n",
    "            f'{sample_name}_theta-{theta}deg_chiWidth-{chi_width}deg_q-{q_slice.start}-{q_slice.stop}.png'), dpi=120)\n",
    "        \n",
    "        # plt.show()\n",
    "        plt.close('all')"
   ]
  },
  {
   "cell_type": "markdown",
   "id": "38",
   "metadata": {
    "tags": []
   },
   "source": [
    "## ISI Plots"
   ]
  },
  {
   "cell_type": "code",
   "execution_count": null,
   "id": "39",
   "metadata": {},
   "outputs": [],
   "source": [
    "# DA = rsoxs_datasets['polar_carbon']['corr_intensity']\n",
    "# DA.sel(sample_name='Y6_CB_3000', polarization=0, q=slice(0.001, 0.03)).sel(energy=398.8, method='nearest').plot(norm=LogNorm(1e9, 1e11), cmap=plt.cm.turbo)\n",
    "# plt.show()"
   ]
  },
  {
   "cell_type": "code",
   "execution_count": null,
   "id": "40",
   "metadata": {},
   "outputs": [],
   "source": [
    "outPath"
   ]
  },
  {
   "cell_type": "code",
   "execution_count": null,
   "id": "41",
   "metadata": {
    "tags": []
   },
   "outputs": [],
   "source": [
    "# make selection\n",
    "DS = caked_DS.copy()\n",
    "\n",
    "# make selection\n",
    "q_slice = slice(0.05, 0.8)\n",
    "chi_width = 90\n",
    "energy_slice = slice(2470, 2485)\n",
    "\n",
    "for sample_name in tqdm(unique_sample_names):\n",
    "    for theta in [90]:\n",
    "        para_DA, perp_DA = make_para_perp_DAs(DS, sample_name, theta, chi_width) \n",
    "        \n",
    "        para_DA = para_DA.where(para_DA>0.4).where(para_DA<(para_DA.max()*0.03))  #.interpolate_na(dim='chi')\n",
    "        # para_DA.sel(energy=2477.2,method='nearest').sel(q_red=slice(0.05, 0.7)).plot.imshow()\n",
    "        # plt.title('para')\n",
    "        # plt.show()\n",
    "        \n",
    "        perp_DA = perp_DA.where(perp_DA>0.4).where(perp_DA<(perp_DA.max()*0.03))  #.interpolate_na(dim='chi')\n",
    "        # perp_DA.sel(energy=2477.2,method='nearest').sel(q_red=slice(0.05, 0.7)).plot.imshow()\n",
    "        # plt.title('perp')\n",
    "        # plt.show()\n",
    "        # plt.close('all')\n",
    "    \n",
    "\n",
    "        # slice ISI data\n",
    "        para_ISI = para_DA.sel(q_red=q_slice).mean('chi').integrate('q_red')\n",
    "        perp_ISI = perp_DA.sel(q_red=q_slice).mean('chi').integrate('q_red')\n",
    "\n",
    "        # plot\n",
    "        fig, ax = plt.subplots(figsize=(6,4), dpi=120)\n",
    "\n",
    "        para_ISI.sel(energy=energy_slice).plot.line(ax=ax, label='$\\parallel$', yscale='log')\n",
    "        perp_ISI.sel(energy=energy_slice).plot.line(ax=ax, label='$\\perp$', yscale='log')\n",
    "        fig.suptitle(f'ISI: {sample_name}', fontsize=14, x=0.55)\n",
    "        ax.set(title=f'$\\\\theta$ = {theta}°, chi width = {chi_width}°, Q = ({q_slice.start}, {q_slice.stop}) ' + 'Å$^{-1}$', \n",
    "               xlabel='X-ray energy [eV]', ylabel='Intensity [arb. units]')\n",
    "        ax.legend(loc='upper right', fontsize=14)\n",
    "        ax.grid(axis='x')\n",
    "        plt.subplots_adjust(top=0.86, bottom=0.2, left=0.2)\n",
    "        \n",
    "        savePath = outPath.joinpath('waxs_normal_films_trexs_plots/ISIs_v1')\n",
    "        savePath.mkdir(exist_ok=True)\n",
    "        fig.savefig(savePath.joinpath( \n",
    "            f'{sample_name}_theta-{theta}deg_chiWidth-{chi_width}deg_q-{q_slice.start}-{q_slice.stop}_energy{energy_slice.start}-{energy_slice.stop}.png'),\n",
    "            dpi=120)\n",
    "\n",
    "        # plt.show()\n",
    "        plt.close('all')"
   ]
  },
  {
   "cell_type": "markdown",
   "id": "42",
   "metadata": {
    "tags": []
   },
   "source": [
    "## 2D Linecut Maps"
   ]
  },
  {
   "cell_type": "code",
   "execution_count": null,
   "id": "43",
   "metadata": {
    "tags": []
   },
   "outputs": [],
   "source": [
    "# make selection\n",
    "DS = caked_DS.copy()\n",
    "\n",
    "# make selection\n",
    "q_slice = slice(0.05, 0.8)\n",
    "chi_width = 90\n",
    "energy_slice = slice(2470, 2485)\n",
    "\n",
    "for sample_name in tqdm(unique_sample_names):\n",
    "    for theta in [90]:\n",
    "        para_DA, perp_DA = make_para_perp_DAs(DS, sample_name, theta, chi_width) \n",
    "        \n",
    "        para_DA = para_DA.where(para_DA>0.4).where(para_DA<(para_DA.max()*0.03))  #.interpolate_na(dim='chi')\n",
    "        # para_DA.sel(energy=2477.2,method='nearest').sel(q_red=slice(0.05, 0.7)).plot.imshow()\n",
    "        # plt.title('para')\n",
    "        # plt.show()\n",
    "        \n",
    "        perp_DA = perp_DA.where(perp_DA>0.4).where(perp_DA<(perp_DA.max()*0.03))  #.interpolate_na(dim='chi')\n",
    "        # perp_DA.sel(energy=2477.2,method='nearest').sel(q_red=slice(0.05, 0.7)).plot.imshow()\n",
    "        # plt.title('perp')\n",
    "        # plt.show()\n",
    "        # plt.close('all')\n",
    "\n",
    "        # Plot\n",
    "        fig, axs = plt.subplots(1, 2, figsize=(10,5))\n",
    "        cmin = float(para_DA.compute().quantile(0.1))\n",
    "        cmax = float(para_DA.compute().quantile(0.99))\n",
    "\n",
    "        para_slice = para_DA.mean('chi').sel(q_red=q_slice, energy=energy_slice)  # .plot(ax=axs[0], cmap=cmap, norm=LogNorm(cmin, cmax), add_colorbar=False)\n",
    "        perp_slice = perp_DA.mean('chi').sel(q_red=q_slice, energy=energy_slice)  # .plot(ax=axs[1], cmap=cmap, norm=LogNorm(cmin, cmax), add_colorbar=False)\n",
    "\n",
    "        para_slice.plot(ax=axs[0], cmap=cmap, norm=plt.Normalize(cmin, cmax), add_colorbar=False)\n",
    "        perp_slice.plot(ax=axs[1], cmap=cmap, norm=plt.Normalize(cmin, cmax), add_colorbar=False)\n",
    "\n",
    "        # Add colorbar\n",
    "        sm = plt.cm.ScalarMappable(cmap=cmap, norm=plt.Normalize(cmin, cmax)) # Create a ScalarMappable object with the colormap and normalization & add the colorbar to the figure\n",
    "        cax = axs[1].inset_axes([1.03, 0, 0.05, 1])\n",
    "        cbar = fig.colorbar(sm, cax=cax, orientation='vertical')\n",
    "        cbar.set_label(label='Intensity [arb. units]', labelpad=12, rotation=270)\n",
    "\n",
    "        fig.suptitle(f'Intensity maps: {sample_name}, $\\\\theta$ = {theta}°, $\\\\chi$ width = {chi_width}°', fontsize=14)\n",
    "        fig.set(tight_layout=True)\n",
    "\n",
    "        axs[0].set(xscale='linear', title='Parallel to $E_p$', ylabel='Photon energy [eV]', xlabel='Q [$Å^{-1}$]')\n",
    "        axs[1].set(xscale='linear', title='Perpendicular to $E_p$ ', ylabel=None, xlabel='Q [$Å^{-1}$]')\n",
    "\n",
    "        savePath = outPath.joinpath('waxs_normal_films_trexs_plots/I_maps_v1')\n",
    "        savePath.mkdir(exist_ok=True)\n",
    "        fig.savefig(savePath.joinpath( \n",
    "                    f'{sample_name}_theta-{theta}deg_chiWidth-{chi_width}deg_q-{q_slice.start}-{q_slice.stop}_energy{energy_slice.start}-{energy_slice.stop}.png'), \n",
    "                    dpi=120)\n",
    "\n",
    "        # plt.show()\n",
    "        plt.close('all')"
   ]
  },
  {
   "cell_type": "code",
   "execution_count": null,
   "id": "44",
   "metadata": {},
   "outputs": [],
   "source": [
    "# a = para_EvsQ_avg.hvplot.line(groupby=\"energy\", loglog=True)\n",
    "# a * perp_EvsQ_avg.hvplot.line(groupby=\"energy\")"
   ]
  }
 ],
 "metadata": {
  "kernelspec": {
   "display_name": "nrss",
   "language": "python",
   "name": "nrss"
  },
  "language_info": {
   "codemirror_mode": {
    "name": "ipython",
    "version": 3
   },
   "file_extension": ".py",
   "mimetype": "text/x-python",
   "name": "python",
   "nbconvert_exporter": "python",
   "pygments_lexer": "ipython3",
   "version": "3.9.0"
  }
 },
 "nbformat": 4,
 "nbformat_minor": 5
}
