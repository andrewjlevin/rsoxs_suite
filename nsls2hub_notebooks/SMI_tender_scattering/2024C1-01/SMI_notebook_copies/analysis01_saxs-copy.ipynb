{
 "cells": [
  {
   "cell_type": "markdown",
   "metadata": {},
   "source": [
    "# Template of a SMI jupyter notebook"
   ]
  },
  {
   "cell_type": "code",
   "execution_count": null,
   "metadata": {
    "tags": []
   },
   "outputs": [],
   "source": [
    "# These packages should all be installed if the procedure was followed\n",
    "# %matplotlib notebook\n",
    "\n",
    "import matplotlib.pyplot as plt\n",
    "from smi_analysis import SMI_beamline\n",
    "import numpy as np\n",
    "import fabio\n",
    "import os"
   ]
  },
  {
   "cell_type": "markdown",
   "metadata": {},
   "source": [
    "## Experimental configuration"
   ]
  },
  {
   "cell_type": "code",
   "execution_count": null,
   "metadata": {
    "tags": []
   },
   "outputs": [],
   "source": [
    "geometry = 'Transmission'\n",
    "energy = 2.450\n",
    "wav = 1E-10 * (12.398/energy)\n",
    "bs_kind = 'pindiode'\n",
    "alphai = np.deg2rad(0)\n",
    "\n",
    "#WAXS\n",
    "detector_waxs = 'Pilatus1m'\n",
    "sdd_waxs = 1800\n",
    "center_waxs = [354, 560]\n",
    "bs_pos_waxs = [[354, 535]]\n",
    "\n",
    "SMI_waxs = SMI_beamline.SMI_geometry(geometry = geometry,\n",
    "                                     detector = detector_waxs,\n",
    "                                     sdd = sdd_waxs,\n",
    "                                     wav = wav,\n",
    "                                     alphai = alphai,\n",
    "                                     center = center_waxs,\n",
    "                                     bs_pos = bs_pos_waxs,\n",
    "                                     bs_kind = bs_kind)\n"
   ]
  },
  {
   "cell_type": "markdown",
   "metadata": {},
   "source": [
    "## Locate the files on your computer"
   ]
  },
  {
   "cell_type": "code",
   "execution_count": null,
   "metadata": {
    "tags": []
   },
   "outputs": [],
   "source": [
    "CYCLE='2024_1'\n",
    "proposal_id =  '314903_Chaney_01'\n",
    "\n",
    "path = '/nsls2/data/smi/legacy/results/data/%s/%s/1M/'%(CYCLE, proposal_id)\n",
    "\n",
    "for file in os.listdir(path):\n",
    "        print(file)"
   ]
  },
  {
   "cell_type": "code",
   "execution_count": null,
   "metadata": {
    "tags": []
   },
   "outputs": [],
   "source": [
    "#waxs\n",
    "path = '/nsls2/data/smi/legacy/results/data/%s/%s/1M/'%(CYCLE, proposal_id)\n",
    "ResDir = '/nsls2/data/smi/legacy/results/analysis/%s/%s/reduced_saxs/'%(CYCLE, proposal_id\n",
    "                                                                       )\n",
    "\n",
    "#waxs\n",
    "\n",
    "sam, sam1 = [], []\n",
    "for file in os.listdir(path):\n",
    "     if 'wa20' in file and 'test' not in file:\n",
    "        idx = file.find('_wa20')\n",
    "        sam = sam + [file[:idx]]\n",
    "        idx1=file.find('_loc')\n",
    "        sam1 = sam1 + [file[idx1:idx1+6]]\n",
    "\n",
    "\n",
    "print(sam)\n",
    "\n",
    "all_dat = [[]] * len(sam)\n",
    "all_da = [[]] * len(sam)\n",
    "    \n",
    "for j, (sa, sa1) in enumerate(zip(sam, sam1)): \n",
    "    for file in sorted(os.listdir(path)):\n",
    "        if sa in file and sa1 in file and 'tif' in file:\n",
    "            all_dat[j] = all_dat[j] + [file]\n",
    "            \n",
    "print(all_dat[0])\n",
    "\n",
    "for i, all_d in enumerate(all_dat):\n",
    "    for wa in ['wa20', 'wa40']:\n",
    "        for dat in all_d:\n",
    "            if wa in dat:\n",
    "                all_da[i] = all_da[i] + [dat]\n",
    " \n",
    "print(all_da[0])\n",
    "\n"
   ]
  },
  {
   "cell_type": "code",
   "execution_count": null,
   "metadata": {
    "tags": []
   },
   "outputs": [],
   "source": [
    "i=0\n",
    "for dd in all_da:\n",
    "    print(i, dd)\n",
    "    i+=1\n",
    "print(i)"
   ]
  },
  {
   "cell_type": "markdown",
   "metadata": {},
   "source": [
    "## Data stitching and reduction (all this part is done using SMI_beamline package)"
   ]
  },
  {
   "cell_type": "code",
   "execution_count": null,
   "metadata": {},
   "outputs": [],
   "source": []
  },
  {
   "cell_type": "code",
   "execution_count": null,
   "metadata": {
    "tags": []
   },
   "outputs": [],
   "source": [
    "all_da[0]"
   ]
  },
  {
   "cell_type": "code",
   "execution_count": null,
   "metadata": {
    "tags": []
   },
   "outputs": [],
   "source": [
    "plt.rcParams['figure.figsize'] = [10, 5]\n",
    "\n",
    "#waxs\n",
    "flag_save = True\n",
    "\n",
    "for j, dat in enumerate([all_da[1]]):\n",
    "        #This part is to stitch the data\n",
    "        SMI_waxs = SMI_beamline.SMI_geometry(geometry = geometry,\n",
    "                                             detector = detector_waxs,\n",
    "                                             sdd = sdd_waxs,\n",
    "                                             wav = wav,\n",
    "                                             alphai = 0,\n",
    "                                             center = center_waxs,\n",
    "                                             bs_pos = bs_pos_waxs,\n",
    "                                             det_angles = [0],\n",
    "                                             bs_kind = bs_kind)\n",
    "        \n",
    "        \n",
    "        print(dat)\n",
    "        SMI_waxs.open_data(path, [dat[0]], optional_mask='tender')\n",
    "        SMI_waxs.masks[0][560:, 337:350]=True\n",
    "#         SMI_waxs.masks[0][954:, 337:350]=True\n",
    "\n",
    "        plt.figure()\n",
    "        for i, (img, mask) in enumerate(zip(SMI_waxs.imgs, SMI_waxs.masks)):\n",
    "            SMI_waxs.imgs[i] *= 10\n",
    "            plt.subplot(1, len(SMI_waxs.imgs), i+1)\n",
    "            plt.imshow(img*np.logical_not(mask), vmin = 0, vmax = np.percentile(SMI_waxs.imgs[0], 99))\n",
    "        plt.show()\n",
    "\n",
    "        SMI_waxs.stitching_data(interp_factor=3)\n",
    "\n",
    "        plt.figure()\n",
    "        plt.imshow(SMI_waxs.img_st,\n",
    "                   extent=[SMI_waxs.qp[0], SMI_waxs.qp[-1], SMI_waxs.qz[0], SMI_waxs.qz[-1]], \n",
    "                   vmin=0,\n",
    "                   vmax=np.percentile(SMI_waxs.img_st, 99))    \n",
    "        plt.title('waxs_%s'%sam[j])\n",
    "        plt.xlabel('$q_{par}(A^{-1})$')\n",
    "        plt.ylabel('$q_{ver}(A^{-1})$')\n",
    "        plt.colorbar()\n",
    "        plt.show()\n",
    "\n",
    "        SMI_waxs.caking()\n",
    "        \n",
    "        SMI_waxs.radial_averaging(radial_range = [0, 0.08], azimuth_range=[-179, 179], npt = 2000)\n",
    "        q0, I0 = SMI_waxs.q_rad, SMI_waxs.I_rad\n",
    "\n",
    "        SMI_waxs.radial_averaging(radial_range = [0, 0.08], azimuth_range=[-180, -90], npt = 2000)\n",
    "        q1, I1 = SMI_waxs.q_rad, SMI_waxs.I_rad\n",
    "\n",
    "#         SMI_waxs.radial_averaging(radial_range = [0, 0.08], azimuth_range=[-100, -80], npt = 2000)\n",
    "#         q2, I2 = SMI_waxs.q_rad, SMI_waxs.I_rad\n",
    "        \n",
    "#         SMI_waxs.radial_averaging(radial_range = [0, 0.08], azimuth_range=[80, 100], npt = 2000)\n",
    "#         q3, I3 = SMI_waxs.q_rad, SMI_waxs.I_rad\n",
    "\n",
    "        plt.figure()\n",
    "        plt.plot(q0, I0, linewidth = 3, color = 'k')\n",
    "        plt.plot(q1, I1, linewidth = 3, color = 'g')\n",
    "#         plt.plot(q2, I2, linewidth = 3, color = 'r')\n",
    "#         plt.plot(q3, I3, linewidth = 3, color = 'b')\n",
    "#         plt.plot(q4, I4, linewidth = 3, color = 'c')\n",
    "\n",
    "        plt.yscale('log')\n",
    "#         plt.xscale('log')\n",
    "        plt.show()\n",
    "\n",
    "plt.close('all')\n",
    "print('Done')"
   ]
  },
  {
   "cell_type": "code",
   "execution_count": null,
   "metadata": {
    "tags": []
   },
   "outputs": [],
   "source": [
    "plt.imshow(SMI_waxs.cake, norm=plt.Normalize(1e8,5e9))\n",
    "plt.colorbar()\n",
    "plt.show()"
   ]
  },
  {
   "cell_type": "code",
   "execution_count": null,
   "metadata": {},
   "outputs": [],
   "source": [
    "0.1*2*np.pi/0.025"
   ]
  },
  {
   "cell_type": "code",
   "execution_count": null,
   "metadata": {},
   "outputs": [],
   "source": [
    "\n",
    "#waxs\n",
    "flag_save = True\n",
    "\n",
    "for j, dat in enumerate(all_da):          \n",
    "        alphai = np.deg2rad(0)\n",
    "        waxs_angle = [np.deg2rad(0)]\n",
    "        \n",
    "        if len(dat)==1:# and 'q_map_waxs_%s%s.png'%(sam[j], sam1[j]) not in os.listdir(ResDir):\n",
    "\n",
    "        \n",
    "            #This part is to stitch the data\n",
    "            SMI_waxs = SMI_beamline.SMI_geometry(geometry = geometry,\n",
    "                                                 detector = detector_waxs,\n",
    "                                                 sdd = sdd_waxs,\n",
    "                                                 wav = wav,\n",
    "                                                 alphai = alphai,\n",
    "                                                 center = center_waxs,\n",
    "                                                 bs_pos = bs_pos_waxs,\n",
    "                                                 det_angles = waxs_angle,\n",
    "                                                 bs_kind = bs_kind)\n",
    "\n",
    "            SMI_waxs.open_data(path, [dat[0]])\n",
    "            \n",
    "            for i, da in enumerate(dat):\n",
    "                if i!=0:\n",
    "                    img=fabio.open(os.path.join(path, da)).data\n",
    "                    SMI_waxs.imgs[0]+=img\n",
    "\n",
    "            SMI_waxs.masks[0][560:, 475:482]=True\n",
    "            SMI_waxs.masks[0][954:, 767:769]=True\n",
    "        \n",
    "            SMI_waxs.stitching_data(interp_factor=3)\n",
    "\n",
    "            plt.figure()\n",
    "            plt.imshow(SMI_waxs.img_st,\n",
    "                       extent=[SMI_waxs.qp[0], SMI_waxs.qp[-1], SMI_waxs.qz[0], SMI_waxs.qz[-1]], \n",
    "                       vmin=0,\n",
    "                       vmax=np.percentile(SMI_waxs.img_st, 99.5))    \n",
    "            plt.title('waxs_%s%s'%(sam[j], sam1[j]))\n",
    "            plt.xlabel('$q_{par}(A^{-1})$')\n",
    "            plt.ylabel('$q_{ver}(A^{-1})$')\n",
    "            plt.colorbar()\n",
    "            plt.show()\n",
    "\n",
    "            SMI_waxs.radial_averaging(radial_range = [0, 0.21], azimuth_range=[-30, 30], npt = 2000)\n",
    "            q0, I0 = SMI_waxs.q_rad, SMI_waxs.I_rad\n",
    "            \n",
    "            SMI_waxs.radial_averaging(radial_range = [0, 0.21], azimuth_range=[-120, -60], npt = 2000)\n",
    "            q1, I1 = SMI_waxs.q_rad, SMI_waxs.I_rad\n",
    "            \n",
    "            SMI_waxs.radial_averaging(radial_range = [0, 0.21], azimuth_range=[-179, 179], npt = 2000)\n",
    "            q2, I2 = SMI_waxs.q_rad, SMI_waxs.I_rad\n",
    "            \n",
    "            \n",
    "            if flag_save:\n",
    "                #Save the plot as a png\n",
    "                plt.savefig(os.path.join(ResDir, 'q_map_waxs_%s%s.png'%(sam[j], sam1[j])))\n",
    "\n",
    "                np.savetxt(os.path.join(ResDir, 'Radint_hor_%s%s.txt'%(sam[j], sam1[j])), np.vstack((q0, I0)).T)\n",
    "                np.savetxt(os.path.join(ResDir, 'Radint_ver_%s%s.txt'%(sam[j], sam1[j])), np.vstack((q1, I1)).T)\n",
    "                np.savetxt(os.path.join(ResDir, 'Radint_tot_%s%s.txt'%(sam[j], sam1[j])), np.vstack((q2, I2)).T)\n",
    "\n",
    "            plt.close() \n",
    "            \n",
    "        else:\n",
    "            print('already done')\n",
    "print('Done')"
   ]
  },
  {
   "cell_type": "code",
   "execution_count": null,
   "metadata": {},
   "outputs": [],
   "source": []
  }
 ],
 "metadata": {
  "kernelspec": {
   "display_name": "Python 3 (ipykernel)",
   "language": "python",
   "name": "python3"
  },
  "language_info": {
   "codemirror_mode": {
    "name": "ipython",
    "version": 3
   },
   "file_extension": ".py",
   "mimetype": "text/x-python",
   "name": "python",
   "nbconvert_exporter": "python",
   "pygments_lexer": "ipython3",
   "version": "3.11.6"
  }
 },
 "nbformat": 4,
 "nbformat_minor": 4
}
