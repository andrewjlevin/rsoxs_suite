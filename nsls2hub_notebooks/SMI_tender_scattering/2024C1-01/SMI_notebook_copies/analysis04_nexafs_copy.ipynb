{
 "cells": [
  {
   "cell_type": "markdown",
   "metadata": {},
   "source": [
    "# Template of a SMI jupyter notebook"
   ]
  },
  {
   "cell_type": "code",
   "execution_count": null,
   "metadata": {},
   "outputs": [],
   "source": [
    "# These packages should all be installed if the procedure was followed\n",
    "%pylab nbagg\n",
    "\n",
    "import matplotlib.pyplot as plt\n",
    "\n",
    "from smi_analysis import SMI_beamline\n",
    "import numpy as np\n",
    "import fabio\n",
    "import os\n",
    "import numpy as np\n",
    "\n",
    "plt.rcParams[\"figure.figsize\"] = (10, 5)"
   ]
  },
  {
   "cell_type": "markdown",
   "metadata": {},
   "source": [
    "## Experimental configuration"
   ]
  },
  {
   "cell_type": "code",
   "execution_count": null,
   "metadata": {},
   "outputs": [],
   "source": []
  },
  {
   "cell_type": "markdown",
   "metadata": {},
   "source": [
    "## Locate the files on your computer"
   ]
  },
  {
   "cell_type": "code",
   "execution_count": null,
   "metadata": {},
   "outputs": [],
   "source": [
    "CYCLE='2024_1'\n",
    "proposal_id =  '314903_Chaney_04'\n",
    "\n",
    "path = '/nsls2/data/smi/legacy/results/data/%s/%s/900KW/'%(CYCLE, proposal_id)\n",
    "\n",
    "\n",
    "\n",
    "for file in np.sort(os.listdir(path)):\n",
    "    if 'wa20' in file:\n",
    "        print(file)\n",
    "        \n",
    "print('Done')"
   ]
  },
  {
   "cell_type": "code",
   "execution_count": null,
   "metadata": {},
   "outputs": [],
   "source": []
  },
  {
   "cell_type": "code",
   "execution_count": null,
   "metadata": {},
   "outputs": [],
   "source": [
    "#waxs\n",
    "path = '/nsls2/data/smi/legacy/results/data/%s/%s/900KW/'%(CYCLE, proposal_id)\n",
    "\n",
    "sam = []\n",
    "for file in os.listdir(path):\n",
    "     if '2471.00eV' in file and 'prs' in file:\n",
    "        idx = file.find('2471.00eV')\n",
    "        if file[:idx] not in sam:\n",
    "            sam = sam + [file[:idx]]\n",
    "\n",
    "print(sam)\n",
    "\n",
    "all_dat = [[]] * len(sam)\n",
    "    \n",
    "for j, sa in enumerate(sam): \n",
    "    for file in sorted(os.listdir(path)):\n",
    "        if sa in file and 'tif' in file and 'wa20' in file:\n",
    "            all_dat[j] = all_dat[j] + [file]\n",
    "            \n",
    "print(all_dat[0])"
   ]
  },
  {
   "cell_type": "code",
   "execution_count": null,
   "metadata": {},
   "outputs": [],
   "source": [
    "sam = []\n",
    "for file in os.listdir(path):\n",
    "     if '2471.00eV' in file and 'wa20' in file and 'prs55deg' in file:\n",
    "        idx = file.find('prs')\n",
    "        if file[:idx] not in sam:\n",
    "            sam = sam + [file[:idx]]\n",
    "print(sam)"
   ]
  },
  {
   "cell_type": "code",
   "execution_count": null,
   "metadata": {
    "tags": []
   },
   "outputs": [],
   "source": [
    "all_dat"
   ]
  },
  {
   "cell_type": "code",
   "execution_count": null,
   "metadata": {},
   "outputs": [],
   "source": []
  },
  {
   "cell_type": "code",
   "execution_count": null,
   "metadata": {},
   "outputs": [],
   "source": [
    "#waxs\n",
    "flag_save = False\n",
    "# ResDir = '/nsls2/xf12id2/analysis/%s/%s/'%(CYCLE, proposal_id)\n",
    "# ResDir2 = '/nsls2/xf12id2/analysis/%s/%s/reduced_nexafs/'%(CYCLE, proposal_id)\n",
    "\n",
    "\n",
    "samples = ['TC_Trmsn_23_', 'TC_Trmsn_33_', 'TC_Trmsn_26_', 'TC_Trmsn_29_', 'TC_Trmsn_21_', 'TC_Trmsn_30_', 'TC_Trmsn_34_', \n",
    "          'TC_Trmsn_22_', 'TC_Trmsn_18_', 'TC_Trmsn_03_', 'TC_Trmsn_17_', 'TC_Trmsn_01_', 'TC_Trmsn_35_', 'TC_Trmsn_14_']\n",
    "\n",
    "for sample in samples:\n",
    "    plt.figure()\n",
    "    plt.title(sample)\n",
    "    for i, all_d in enumerate(all_dat):\n",
    "        if len(all_d)!=0:\n",
    "            if sample in all_d[0]:\n",
    "                idx=all_d[0].find('prs')\n",
    "                idx1=all_d[0].find('deg_sdd')\n",
    "\n",
    "                prs = all_d[0][idx+3:idx1]\n",
    "\n",
    "                ens0, dat0 = [], []\n",
    "                ens1, dat1 = [], []\n",
    "\n",
    "                bpms=[]\n",
    "                for j, dats in enumerate(sort(all_d)):\n",
    "                    idx = dats.find('_id')\n",
    "                    scan_num = int(dats[idx+3:idx+9])\n",
    "\n",
    "                    idx1 = dats.find('eV')\n",
    "                    img = fabio.open(os.path.join(path, dats)).data\n",
    "\n",
    "                    idx_bad = np.where(img>50)\n",
    "                    img[idx_bad]=0\n",
    "\n",
    "                    ens1 = ens1 + [float(dats[idx1-7:idx1])]\n",
    "                    dat1 = dat1 + [np.sum(img[:, 1000:])]\n",
    "\n",
    "\n",
    "        #         plt.plot(np.asarray(ens0), np.asarray(dat0), 'o', linewidth = 2, color='r')\n",
    "                plt.plot(np.asarray(ens1), np.asarray(dat1), 'o', linewidth = 2, label=prs)\n",
    "\n",
    "\n",
    "    #     plt.xlabel('Energy')\n",
    "    plt.legend()\n",
    "    plt.show()\n",
    "# plt.savefig(os.path.join(ResDir, 'nexafs_dichrois_B5.png'))\n",
    "\n",
    "    print('Done')"
   ]
  },
  {
   "cell_type": "code",
   "execution_count": null,
   "metadata": {},
   "outputs": [],
   "source": []
  },
  {
   "cell_type": "code",
   "execution_count": null,
   "metadata": {},
   "outputs": [],
   "source": []
  },
  {
   "cell_type": "code",
   "execution_count": null,
   "metadata": {},
   "outputs": [],
   "source": [
    "#waxs\n",
    "path = '/nsls2/data/smi/legacy/results/data/%s/%s/900KW/'%(CYCLE, proposal_id)\n",
    "\n",
    "sam = []\n",
    "for file in os.listdir(path):\n",
    "     if '2471.00eV' in file and 'Updownsweep' not in file and 'wa0' in file and 'Si3N4' in file:\n",
    "        idx = file.find('2471.00eV')\n",
    "        if file[:idx] not in sam:\n",
    "            sam = sam + [file[:idx]]\n",
    "\n",
    "print(sam)\n",
    "\n",
    "all_dat = [[]] * len(sam)\n",
    "    \n",
    "for j, sa in enumerate(sam): \n",
    "    for file in sorted(os.listdir(path)):\n",
    "        if sa in file and 'tif' in file and 'wa0' in file:\n",
    "            all_dat[j] = all_dat[j] + [file]\n",
    "            \n",
    "print(all_dat[0])"
   ]
  },
  {
   "cell_type": "code",
   "execution_count": null,
   "metadata": {},
   "outputs": [],
   "source": [
    "#waxs\n",
    "flag_save = False\n",
    "# ResDir = '/nsls2/xf12id2/analysis/%s/%s/'%(CYCLE, proposal_id)\n",
    "# ResDir2 = '/nsls2/xf12id2/analysis/%s/%s/reduced_nexafs/'%(CYCLE, proposal_id)\n",
    "\n",
    "plt.figure()\n",
    "\n",
    "\n",
    "for i, all_d in enumerate(all_dat):\n",
    "    if len(all_d)!=0:\n",
    "\n",
    "        ens0, dat0 = [], []\n",
    "        ens1, dat1 = [], []\n",
    "        idx2=all_d[0].find('sdd')\n",
    "\n",
    "\n",
    "        bpms=[]\n",
    "        for j, dats in enumerate(sort(all_d)):\n",
    "            idx = dats.find('_id')\n",
    "            scan_num = int(dats[idx+3:idx+9])\n",
    "         \n",
    "            idx1 = dats.find('eV')\n",
    "            img = fabio.open(os.path.join(path, dats)).data\n",
    "            \n",
    "            \n",
    "#             if scan_num < 511278:\n",
    "            ens0 = ens0 + [float(dats[idx1-7:idx1])]\n",
    "            dat0 = dat0 + [np.sum(img[:, 1000:])]\n",
    "#             else:\n",
    "#                 ens1 = ens1 + [float(dats[idx1-7:idx1])]\n",
    "#                 dat1 = dat1 + [np.sum(img[:, 1000:])]\n",
    "\n",
    "            \n",
    "        plt.plot(np.asarray(ens0), np.asarray(dat0), 'o', linewidth = 2, label=all_d[0][3:idx2])\n",
    "#         plt.plot(np.asarray(ens1), np.asarray(dat1), 'o', linewidth = 2, color='k')\n",
    "\n",
    "\n",
    "    #     plt.xlabel('Energy')\n",
    "    plt.legend()\n",
    "    plt.show()\n",
    "    # plt.savefig(os.path.join(ResDir, 'nexafs_dichrois_B5.png'))\n",
    "\n",
    "\n",
    "    print('Done')"
   ]
  },
  {
   "cell_type": "code",
   "execution_count": null,
   "metadata": {},
   "outputs": [],
   "source": [
    "all_dat"
   ]
  },
  {
   "cell_type": "markdown",
   "metadata": {},
   "source": [
    "## Data stitching and reduction (all this part is done using SMI_beamline package)"
   ]
  },
  {
   "cell_type": "code",
   "execution_count": null,
   "metadata": {},
   "outputs": [],
   "source": [
    "all_dat[0][0]"
   ]
  },
  {
   "cell_type": "code",
   "execution_count": null,
   "metadata": {},
   "outputs": [],
   "source": []
  },
  {
   "cell_type": "code",
   "execution_count": null,
   "metadata": {},
   "outputs": [],
   "source": [
    "#waxs\n",
    "flag_save = True\n",
    "\n",
    "plt.figure()\n",
    "\n",
    "for i, all_d in enumerate(all_dat):\n",
    "    if len(all_d)!=0:\n",
    "        print(all_d[0])\n",
    "\n",
    "        ens, dat = [], []\n",
    "        ens1, dat1 = [], []\n",
    "        bpms=[]\n",
    "        idx = all_d[0].find('pos')\n",
    "        sam = all_d[0][:idx+4]\n",
    "        \n",
    "        for j, dats in enumerate(sort(all_d)):\n",
    "\n",
    "            idx1 = dats.find('eV')\n",
    "            ens = ens+[float(dats[idx1-7:idx1])]\n",
    "\n",
    "    #         idx2 = dats.find('bpm')\n",
    "    #         bpms= bpms + [float(dats[idx2+3:idx2+8])]\n",
    "\n",
    "\n",
    "            img = fabio.open(os.path.join(path, dats)).data\n",
    "\n",
    "            dat = dat + [np.sum(img[:, 1000:])]\n",
    "    #                 dat1 = dat1 + [np.sum(img[306:313, 215:221])]\n",
    "    #                 ens1 = ens1 + [en]\n",
    "\n",
    "        plt.plot(np.asarray(ens), np.asarray(dat)/np.asarray(dat_bkg), linewidth = 2, label=all_d[0][:10])\n",
    "    plt.legend()\n",
    "    plt.show()\n",
    "    \n",
    "    if flag_save:         \n",
    "        np.savetxt(os.path.join(ResDir, 'nexafs_rescaled_%s.txt'%sam),\n",
    "                   np.vstack((np.asarray(ens), np.asarray(dat)/np.asarray(dat_bkg))).T)\n",
    "        \n",
    "        np.savetxt(os.path.join(ResDir, 'nexafs_raw_%s.txt'%sam),\n",
    "                   np.vstack((np.asarray(ens), np.asarray(dat))).T)\n",
    "        \n",
    "    # plt.savefig(os.path.join(ResDir, 'nexafs_dichrois_B5.png'))\n",
    "\n",
    "\n",
    "print('Done')"
   ]
  },
  {
   "cell_type": "code",
   "execution_count": null,
   "metadata": {},
   "outputs": [],
   "source": []
  },
  {
   "cell_type": "code",
   "execution_count": null,
   "metadata": {},
   "outputs": [],
   "source": [
    "plt.figure()\n",
    "for file in os.listdir(ResDir):\n",
    "    if 'rescale' in file:\n",
    "        pr = np.loadtxt(os.path.join(ResDir, file))\n",
    "        plt.plot(pr[:, 0], pr[:, 1])\n",
    "\n",
    "plt.yscale('log')\n",
    "plt.show()"
   ]
  },
  {
   "cell_type": "code",
   "execution_count": null,
   "metadata": {},
   "outputs": [],
   "source": []
  },
  {
   "cell_type": "code",
   "execution_count": null,
   "metadata": {},
   "outputs": [],
   "source": [
    "plt.figure()\n",
    "plt.plot(np.asarray(ens), np.asarray(dat)*np.asarray(bpms), 'o', linewidth = 2)\n",
    "plt.show()"
   ]
  },
  {
   "cell_type": "code",
   "execution_count": null,
   "metadata": {},
   "outputs": [],
   "source": [
    "plt.figure()\n",
    "plt.imshow(img[:, 1000:], vmin=0, vmax=20)\n",
    "plt.show()"
   ]
  },
  {
   "cell_type": "code",
   "execution_count": null,
   "metadata": {},
   "outputs": [],
   "source": []
  },
  {
   "cell_type": "code",
   "execution_count": null,
   "metadata": {},
   "outputs": [],
   "source": [
    "#waxs\n",
    "path = '/nsls2/data/smi/legacy/results/data/%s/%s/1M/'%(CYCLE, proposal_id)\n",
    "ResDir = '/nsls2/data/smi/legacy/results/analysis/%s/%s/'%(CYCLE, proposal_id)\n",
    "\n",
    "sam = []\n",
    "for file in os.listdir(path):\n",
    "     if 'test_MoKedge_scanbs' in file and 'id179021' not in file:\n",
    "        idx = file.find('_0000')\n",
    "        if file[:idx] not in sam:\n",
    "            sam = sam + [file[:idx]]\n",
    "\n",
    "print(sam)\n",
    "\n",
    "all_dat = [[]] * len(sam)\n",
    "    \n",
    "for j, sa in enumerate(sam): \n",
    "    for file in sorted(os.listdir(path)):\n",
    "        if sa in file and 'tif' in file:\n",
    "            all_dat[j] = all_dat[j] + [file]\n",
    "            \n",
    "print(all_dat[0])"
   ]
  },
  {
   "cell_type": "code",
   "execution_count": null,
   "metadata": {},
   "outputs": [],
   "source": [
    "np.sort(all_d)"
   ]
  },
  {
   "cell_type": "code",
   "execution_count": null,
   "metadata": {},
   "outputs": [],
   "source": [
    "#waxs\n",
    "flag_save = False\n",
    "# ResDir = '/nsls2/xf12id2/analysis/%s/%s/'%(CYCLE, proposal_id)\n",
    "# ResDir2 = '/nsls2/xf12id2/analysis/%s/%s/reduced_nexafs/'%(CYCLE, proposal_id)\n",
    "\n",
    "plt.figure()\n",
    "\n",
    "for i, all_d in enumerate(all_dat):\n",
    "    ens, dat = [], []\n",
    "    ens1, dat1 = [], []\n",
    "    for j, dats in enumerate(np.sort(all_d)):\n",
    "\n",
    "        energies = (np.arange(7700, 7710, 5).tolist() + np.arange(7710, 7722, 1).tolist() + \n",
    "                    np.arange(7722, 7727, 0.5).tolist()+ np.arange(7727, 7740, 1).tolist() + \n",
    "                    np.arange(7740, 7765, 5).tolist())\n",
    "\n",
    "        img = fabio.open(os.path.join(path, dats)).data\n",
    "\n",
    "        dat = dat + [np.sum(img[:, 1200:])]\n",
    "#                 dat1 = dat1 + [np.sum(img[306:313, 215:221])]\n",
    "#                 ens1 = ens1 + [en]\n",
    "\n",
    "    plt.plot(energies, dat, linewidth = 2, label = dats[:idx-6], )\n",
    "#         plt.plot(ens1, dat1, linewidth = 2, label = dats[:idx-6])\n",
    "\n",
    "    #         np.savetxt(os.path.join(ResDir2, 'nexafs_notscaled_%s.txt'%dats[:idx-8]),\n",
    "    #                    np.vstack((np.asarray(ens), np.asarray(dat))).T)\n",
    "    #         np.savetxt(os.path.join(ResDir2, 'nexafs_scaled_%s.txt'%dats[:idx-8]),\n",
    "    #                np.vstack((np.asarray(ens), scaled)).T)\n",
    "\n",
    "#     plt.xlabel('Energy')\n",
    "plt.legend()\n",
    "plt.show()\n",
    "# plt.savefig(os.path.join(ResDir, 'nexafs_dichrois_B5.png'))\n",
    "\n",
    "    \n",
    "print('Done')"
   ]
  },
  {
   "cell_type": "code",
   "execution_count": null,
   "metadata": {},
   "outputs": [],
   "source": [
    "plt.figure()\n",
    "plt.imshow(img[:, 1200:], aspect=1, vmin=0, vmax=10000)\n",
    "plt.show()"
   ]
  },
  {
   "cell_type": "code",
   "execution_count": null,
   "metadata": {},
   "outputs": [],
   "source": []
  },
  {
   "cell_type": "code",
   "execution_count": null,
   "metadata": {},
   "outputs": [],
   "source": [
    "ens"
   ]
  },
  {
   "cell_type": "code",
   "execution_count": null,
   "metadata": {},
   "outputs": [],
   "source": [
    "plt.figure()\n",
    "plt.plot(np.asarray(ens), np.asarray(dat), linewidth = 2, label = dats[:idx-6], marker='o')\n",
    "plt.plot(np.asarray(ens1), np.asarray(dat1), linewidth = 2, label = dats[:idx-6], marker='o')\n",
    "plt.plot(np.asarray(ens2), np.asarray(dat2), linewidth = 2, label = dats[:idx-6], marker='o')\n",
    "\n",
    "plt.show()"
   ]
  },
  {
   "cell_type": "code",
   "execution_count": null,
   "metadata": {},
   "outputs": [],
   "source": [
    "plt.figure()\n",
    "plt.imshow(img[5:-5, 5:900], vmin=0, vmax=np.percentile(img, 97))\n",
    "plt.show()"
   ]
  },
  {
   "cell_type": "code",
   "execution_count": null,
   "metadata": {},
   "outputs": [],
   "source": [
    "plt.figure()\n",
    "plt.title(dats)\n",
    "plt.plot(ens, scaled, linewidth = 2, label = sample)\n",
    "plt.xlabel('Energy')\n",
    "plt.show()\n",
    "# plt.savefig(os.path.join(ResDir, 'nexafs_allsamples.png'))\n",
    "\n",
    "print('Done')"
   ]
  },
  {
   "cell_type": "code",
   "execution_count": null,
   "metadata": {},
   "outputs": [],
   "source": [
    "#waxs\n",
    "flag_save = True\n",
    "path = '/nsls2/xf12id2/data/images/users/%s/%s/300KW/'%(CYCLE, proposal_id)\n",
    "ResDir = '/nsls2/xf12id2/analysis/%s/%s/reduced_waxs/'%(CYCLE, proposal_id)\n",
    "\n",
    "for j, dat in enumerate(all_da):\n",
    "    idx = dat[0].find('_WAXS')\n",
    "    pos = int(dat[0][idx-5:idx])\n",
    "    if True:#'q_map_waxs_%s_pos%s.png'%(sam[j], pos) not in os.listdir(ResDir):\n",
    "        print(dat[0])\n",
    "        SMI_waxs = SMI_beamline.SMI_geometry(geometry = 'Transmission',\n",
    "                                             detector = detector_waxs,\n",
    "                                             sdd = sdd_waxs,\n",
    "                                             wav = wav,\n",
    "                                             alphai = np.deg2rad(0),\n",
    "                                             center = center_waxs,\n",
    "                                             bs_pos = bs_pos_waxs,\n",
    "                                             det_ini_angle = det_ini_angle,\n",
    "                                             det_angle_step = det_angle_step,\n",
    "                                             bs_kind = None)\n",
    "\n",
    "        idx1 = dat[0].find('pos')\n",
    "        for dat_kap in all_da_kap:\n",
    "            if dat[0][idx1:idx1+4] in dat_kap[0] and dat[0][idx-5:idx] in dat_kap[0]:\n",
    "                SMI_waxs.open_data(path, dat_kap)\n",
    "                bkg_imgs = SMI_waxs.imgs\n",
    "\n",
    "        SMI_waxs.open_data(path, dat)\n",
    "\n",
    "        plt.figure()\n",
    "        for i, (img, mask) in enumerate(zip(SMI_waxs.imgs, SMI_waxs.masks)):\n",
    "            SMI_waxs.imgs[i] = SMI_waxs.imgs[i] - bkg_imgs[i]\n",
    "            plt.subplot(1, len(SMI_waxs.imgs), i+1)\n",
    "            plt.imshow(SMI_waxs.imgs[i], vmin = 0, vmax = np.percentile(img, 97))\n",
    "        plt.show()\n",
    "\n",
    "\n",
    "        SMI_waxs.stitching_data()\n",
    "\n",
    "        plt.figure()\n",
    "        plt.imshow(np.log(SMI_waxs.img_st),\n",
    "                   extent=[SMI_waxs.qp[0], SMI_waxs.qp[-1], SMI_waxs.qz[0], SMI_waxs.qz[-1]])    \n",
    "        plt.title('waxs_%s'%sam[j])\n",
    "        plt.xlabel('$q_{par}(A^{-1})$')\n",
    "        plt.ylabel('$q_{ver}(A^{-1})$')\n",
    "        plt.colorbar()\n",
    "        plt.show()\n",
    "\n",
    "        SMI_waxs.radial_averaging(azimuth_range=[-90, 0], npt=2000)\n",
    "\n",
    "\n",
    "        if flag_save:\n",
    "            #Save the plot as a png\n",
    "            plt.savefig(os.path.join(ResDir, 'q_map_waxs_%s_pos%s.png'%(sam[j], pos)))\n",
    "\n",
    "            #Save the qx and qy as an 1D array\n",
    "            np.savetxt(os.path.join(ResDir, 'qpar_waxs_%s_pos%s.txt'%(sam[j], pos)), np.linspace(SMI_waxs.qp[0], SMI_waxs.qp[1], np.shape(SMI_waxs.img_st)[1]))\n",
    "            np.savetxt(os.path.join(ResDir, 'qver_waxs_%s_pos%s.txt'%(sam[j], pos)), np.linspace(SMI_waxs.qz[0], SMI_waxs.qz[1], np.shape(SMI_waxs.img_st)[0])) \n",
    "\n",
    "            #Save the stitched image as a tiff\n",
    "            fabio.tifimage.TifImage(np.nan_to_num(SMI_waxs.img_st).astype('int')).write(os.path.join(ResDir, 'q_map_waxs_%s_pos%s.tiff'%(sam[j], pos))) \n",
    "\n",
    "            #Save the sum image as a tiff\n",
    "            np.savetxt(os.path.join(ResDir, 'Radint_waxs_%s_pos%s.txt'%(sam[j], pos)), np.vstack((SMI_waxs.q_rad, SMI_waxs.I_rad)).T)\n",
    "\n",
    "#         plt.close()  \n",
    "        plt.figure()\n",
    "        plt.plot(SMI_waxs.q_rad, SMI_waxs.I_rad)\n",
    "        plt.yscale('log')\n",
    "        plt.show()\n",
    "\n",
    "print('Done')"
   ]
  },
  {
   "cell_type": "code",
   "execution_count": null,
   "metadata": {},
   "outputs": [],
   "source": []
  }
 ],
 "metadata": {
  "kernelspec": {
   "display_name": "Python 3 (ipykernel)",
   "language": "python",
   "name": "python3"
  },
  "language_info": {
   "codemirror_mode": {
    "name": "ipython",
    "version": 3
   },
   "file_extension": ".py",
   "mimetype": "text/x-python",
   "name": "python",
   "nbconvert_exporter": "python",
   "pygments_lexer": "ipython3",
   "version": "3.11.6"
  }
 },
 "nbformat": 4,
 "nbformat_minor": 4
}
