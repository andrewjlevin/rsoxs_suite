{
 "cells": [
  {
   "cell_type": "markdown",
   "id": "36d029a2-99c0-43a3-ac96-a5725cecf355",
   "metadata": {},
   "source": [
    "# Processing notebook "
   ]
  },
  {
   "cell_type": "markdown",
   "id": "225b20cb-a005-4365-b37b-e2823f03b568",
   "metadata": {},
   "source": [
    "## Imports"
   ]
  },
  {
   "cell_type": "code",
   "execution_count": null,
   "id": "4a2936b0-4179-40cd-a142-dadf01a15cd4",
   "metadata": {
    "tags": []
   },
   "outputs": [],
   "source": [
    "import pathlib\n",
    "import os\n",
    "import numpy as np\n",
    "import matplotlib.pyplot as plt\n",
    "import xarray as xr\n",
    "from PIL import Image\n",
    "from tqdm.auto import tqdm \n",
    "\n",
    "import fabio\n",
    "from smi_analysis import SMI_beamline"
   ]
  },
  {
   "cell_type": "markdown",
   "id": "c9f785b4-e735-4229-bd79-98d9631e01ee",
   "metadata": {
    "tags": []
   },
   "source": [
    "## Define paths & functions"
   ]
  },
  {
   "cell_type": "raw",
   "id": "2db18a56-4dad-42ac-8340-0c116874ccc3",
   "metadata": {},
   "source": [
    "Raw text paths for the purpose of pasting into terminal to copy/move/zip data:\n",
    "\n",
    "Raw Paths:\n",
    "/nsls2/data/smi/legacy/results/data/2024_1/314903_Chaney_01  # solution\n",
    "/nsls2/data/smi/legacy/results/data/2024_1/314903_Chaney_02  # films normal incidence\n",
    "/nsls2/data/smi/legacy/results/data/2024_1/314903_Chaney_03  # solution\n",
    "/nsls2/data/smi/legacy/results/data/2024_1/314903_Chaney_04  # films measured at angle 0, \n",
    "\n",
    "SMI Analysis Data Paths:\n",
    "/nsls2/data/smi/legacy/results/analysis/2024_1/314903_Chaney_01\n",
    "/nsls2/data/smi/legacy/results/analysis/2024_1/314903_Chaney_02\n",
    "/nsls2/data/smi/legacy/results/analysis/2024_1/314903_Chaney_03  # empty\n",
    "/nsls2/data/smi/legacy/results/analysis/2024_1/314903_Chaney_04\n",
    "\n",
    "Our proposal path:\n",
    "/nsls2/data/smi/proposals/2024-1/pass-314903\n",
    "\n",
    "Rclone copy statement to paste:\n",
    "rclone copy -LP /nsls2/data/smi/legacy/results/data/2024_1/314903_Chaney_04 /nsls2/data/smi/proposals/2024-1/pass-314903/raw_04\n",
    "rclone copy -LP /nsls2/data/smi/legacy/results/analysis/2024_1/314903_Chaney_04 ./analysis_04"
   ]
  },
  {
   "cell_type": "code",
   "execution_count": null,
   "id": "a7d2c5de-3773-44f7-bd93-fc6a16076bd6",
   "metadata": {
    "tags": []
   },
   "outputs": [],
   "source": [
    "sample_name_dict = {\n",
    "    14: 'PM6_CB',\n",
    "    17: 'PM6_1CN-CB',\n",
    "    18: 'PM6_5CN-CB',\n",
    "    21: 'PM6_p5CN-CB',\n",
    "    22: 'PM6-Y6_CB',\n",
    "    23: 'PM6-Y6BO_CB',\n",
    "    26: 'PM6_CF',\n",
    "    29: 'PM6_1CN-CF',\n",
    "    30: 'PM6_5CN-CF',\n",
    "    33: 'PM6_p5CN-CF',\n",
    "    34: 'PM6-Y6_CF',\n",
    "    35: 'PM6-Y6BO_CF',\n",
    "    1: 'BareSiN_01',\n",
    "    3: 'BareSiN_03'\n",
    "}"
   ]
  },
  {
   "cell_type": "code",
   "execution_count": null,
   "id": "b6f7a0e4-9833-45d0-b1c3-426d56bc4538",
   "metadata": {
    "tags": []
   },
   "outputs": [],
   "source": [
    "propPath = pathlib.Path('/nsls2/data/smi/proposals/2024-1/pass-314903')\n",
    "\n",
    "rawPaths1 = propPath.joinpath('raw_01')\n",
    "saxsPath1 = rawPaths1.joinpath('1M')\n",
    "waxsPath1 = rawPaths1.joinpath('900KW')\n",
    "\n",
    "rawPaths2 = propPath.joinpath('raw_02')\n",
    "saxsPath2 = rawPaths2.joinpath('1M')\n",
    "waxsPath2 = rawPaths2.joinpath('900KW')\n",
    "\n",
    "rawPaths3 = propPath.joinpath('raw_03')\n",
    "saxsPath3 = rawPaths3.joinpath('1M')\n",
    "waxsPath3 = rawPaths3.joinpath('900KW')\n",
    "\n",
    "rawPaths4 = propPath.joinpath('raw_04')\n",
    "saxsPath4 = rawPaths4.joinpath('1M')\n",
    "waxsPath4 = rawPaths4.joinpath('900KW')\n",
    "\n",
    "# analysisPath = pathlib.Path('/nsls2/users/alevin/rsoxs_suite/sst1_notebooks/SMI_tender_scattering/analysis_02')\n",
    "# reducedPath = analysisPath.joinpath('reduced_waxs')"
   ]
  },
  {
   "cell_type": "code",
   "execution_count": null,
   "id": "778e62c0-1bc6-4463-b32f-e72b92db61a7",
   "metadata": {
    "tags": []
   },
   "outputs": [],
   "source": [
    "# solnPaths = [saxsPath1, saxsPath3]\n",
    "# filmPaths = [saxsPath2, saxsPath4]\n",
    "# # for saxsPath in solnPaths:\n",
    "# #     all_saxs = set(saxsPath.glob('*.tif'))\n",
    "# #     test_saxs = set(saxsPath.glob('test*'))\n",
    "# #     display(sorted(set([f.name[:f.name.find('_sdd1.8')] for f in all_saxs.difference(test_saxs)])))"
   ]
  },
  {
   "cell_type": "markdown",
   "id": "84768fca-f42b-417d-8eb6-8d74a24780aa",
   "metadata": {
    "tags": []
   },
   "source": [
    "### SMI loading function"
   ]
  },
  {
   "cell_type": "code",
   "execution_count": null,
   "id": "550ae574-801c-4a22-a8b5-c67f9b1086f2",
   "metadata": {
    "tags": []
   },
   "outputs": [],
   "source": [
    "def saxs_SMI_numpy_loading(path, filename_list):\n",
    "    \"\"\"\n",
    "    Function adapted from Guillames SMI notebooks to process raw waxs tiffs:\n",
    "    \n",
    "    Returns filename_wa0_list, recip_list, recip_extents, caked_list, caked_extents\n",
    "    \"\"\"\n",
    "    \n",
    "    #Saxs\n",
    "    geometry = 'Transmission'\n",
    "    energy = 2.450\n",
    "    wav = 1E-10 * (12.398/energy)\n",
    "    bs_kind = 'pindiode'\n",
    "    alphai = np.deg2rad(0)\n",
    "\n",
    "    #SAXS\n",
    "    detector_waxs = 'Pilatus1m'\n",
    "    sdd_waxs = 1800\n",
    "    center_waxs = [354, 560]\n",
    "    bs_pos_waxs = [[354, 535]]\n",
    "    \n",
    "    # flatPath = pathlib.Path('/nsls2/data/smi/legacy/results/analysis/2024_1/314483_Freychet_04')\n",
    "    # flatfield = np.rot90(fabio.open(flatPath.joinpath('GF_Flatfield_Sedge_uhighg1600eV_10s_wa20_2477eV_pffBT4T_id481136_000000_WAXS.tif')).data, 1)\n",
    "\n",
    "    \n",
    "    filename_wa0_list = []\n",
    "    recip_list = []\n",
    "    recip_extents = []\n",
    "    caked_list = []\n",
    "    caked_extents = []\n",
    "    for dat in tqdm(filename_list, desc='Processing tiffs'):\n",
    "        \n",
    "#             waxs_angle = [np.deg2rad(-0.06), np.deg2rad(19.7-0.06)]\n",
    "#             # print(dat)\n",
    "\n",
    "#             idx = dat[0].find('eV')\n",
    "#             energy = 0.001*float(dat[0][idx-7:idx])\n",
    "#             # print(energy)\n",
    "#             wav = 1E-10 * (12.398/energy)\n",
    "\n",
    "            #This part is to stitch the data\n",
    "            SMI_waxs = SMI_beamline.SMI_geometry(geometry = geometry,\n",
    "                                                 detector = detector_waxs,\n",
    "                                                 sdd = sdd_waxs,\n",
    "                                                 wav = wav,\n",
    "                                                 alphai = 0,\n",
    "                                                 center = center_waxs,\n",
    "                                                 bs_pos = bs_pos_waxs,\n",
    "                                                 det_angles = [0],\n",
    "                                                 bs_kind = bs_kind)\n",
    "\n",
    "\n",
    "            # print(dat)\n",
    "            SMI_waxs.open_data(path, [dat], optional_mask='tender')\n",
    "            SMI_waxs.masks[0][560:, 337:350]=True\n",
    "\n",
    "\n",
    "            SMI_waxs.stitching_data(interp_factor=3, flag_scale=False)\n",
    "            SMI_waxs.caking()\n",
    "            \n",
    "            filename_wa0_list.append(dat)\n",
    "            recip_list.append(SMI_waxs.img_st)\n",
    "            recip_extents.append([SMI_waxs.qp[0], SMI_waxs.qp[-1], SMI_waxs.qz[0], SMI_waxs.qz[-1]])\n",
    "            \n",
    "            caked_list.append(SMI_waxs.cake)\n",
    "            caked_extents.append([SMI_waxs.q_cake[0], SMI_waxs.q_cake[-1], SMI_waxs.chi_cake[0], SMI_waxs.chi_cake[-1]])\n",
    "            \n",
    "    return filename_wa0_list, recip_list, recip_extents, caked_list, caked_extents"
   ]
  },
  {
   "cell_type": "markdown",
   "id": "4552b847-e8cb-46c5-990b-72cf559020ce",
   "metadata": {
    "tags": []
   },
   "source": [
    "## Load data"
   ]
  },
  {
   "cell_type": "code",
   "execution_count": null,
   "id": "8f736865-c48f-447c-96c6-93037b0a51ad",
   "metadata": {
    "tags": []
   },
   "outputs": [],
   "source": [
    "# import warnings\n",
    "# warnings.filterwarnings('ignore')"
   ]
  },
  {
   "cell_type": "markdown",
   "id": "2c9df7b9-c02a-4de0-8e11-1e401896c01c",
   "metadata": {
    "tags": []
   },
   "source": [
    "### Films"
   ]
  },
  {
   "cell_type": "code",
   "execution_count": null,
   "id": "d459de63-ebe8-4d2b-826d-42a16e3d7a57",
   "metadata": {
    "tags": []
   },
   "outputs": [],
   "source": [
    "unique_sample_numbers = sorted(set([f.name.split('_')[2] for f in saxsPath4.glob('*')]))\n",
    "unique_sample_rotations = sorted(set([f.name.split('_')[3] for f in saxsPath4.glob('*')]))"
   ]
  },
  {
   "cell_type": "code",
   "execution_count": null,
   "id": "06fc262f-72f9-488b-b2c0-a9764c8f523e",
   "metadata": {
    "tags": []
   },
   "outputs": [],
   "source": [
    "all_saxs = set(saxsPath4.glob('*.tif'))\n",
    "# test_saxs = set(saxsPath4.glob('test*'))\n",
    "sample_names = sorted(set([f.name[3:f.name.find('_sdd1.8')] for f in all_saxs]))\n",
    "sample_names"
   ]
  },
  {
   "cell_type": "code",
   "execution_count": null,
   "id": "71d7fe3e-863c-4f07-8f2e-2312b243c67c",
   "metadata": {
    "tags": []
   },
   "outputs": [],
   "source": [
    "# filename_sublists"
   ]
  },
  {
   "cell_type": "code",
   "execution_count": null,
   "id": "fa4f98ab-d906-4ba7-beea-93112a68584a",
   "metadata": {
    "tags": []
   },
   "outputs": [],
   "source": [
    "# import warnings\n",
    "# warnings.filterwarnings('ignore')"
   ]
  },
  {
   "cell_type": "code",
   "execution_count": null,
   "id": "7de44a80-a861-4d26-8fba-3773a7c21a3f",
   "metadata": {
    "tags": []
   },
   "outputs": [],
   "source": [
    "unique_sample_numbers[1:]"
   ]
  },
  {
   "cell_type": "code",
   "execution_count": null,
   "id": "0f94aa25-3530-4b22-ac9a-221beb76d2a1",
   "metadata": {
    "tags": []
   },
   "outputs": [],
   "source": [
    "dmg_paths"
   ]
  },
  {
   "cell_type": "code",
   "execution_count": null,
   "id": "125c4da5-e976-4197-8358-d599995760fc",
   "metadata": {
    "scrolled": true,
    "tags": []
   },
   "outputs": [],
   "source": [
    "for sample_number in tqdm(unique_sample_numbers[1:], desc='Samples'):\n",
    "    for sample_rotation in tqdm(unique_sample_rotations, desc='Angles'):\n",
    "\n",
    "        # Select files for a given sample and rotation\n",
    "        all_paths = set(saxsPath4.glob(f'*Trmsn_{sample_number}*{sample_rotation}*'))\n",
    "        dmg_paths = set(saxsPath4.glob(f'*Trmsn_{sample_number}*{sample_rotation}*damage*'))\n",
    "        \n",
    "        # For now only select first scans, not the damage test repeats\n",
    "        filename_list = [f.name for f in sorted(all_paths.difference(dmg_paths))]\n",
    "\n",
    "        # Run SMI loading code (this produces some fabio and divide by zero errors)\n",
    "        names_list, recip_list, recip_extents, caked_list, caked_extents = saxs_SMI_numpy_loading(saxsPath4, filename_list)\n",
    "\n",
    "        # Define naming scheme:\n",
    "        waxs_naming_scheme = ['project', 'sample_type', 'sample_number', 'rotation_from_normal', 'set_sdd', 'energy', 'waxs_det_position',\n",
    "                              'bpm', 'id', 'misc', 'detector']\n",
    "        md_naming_scheme = waxs_naming_scheme.copy()\n",
    "\n",
    "\n",
    "        # Construct xarrays with full values along detector dimensions and the energy dimension\n",
    "        # They contain sample name and theta value as well, as single values to be concatenated in later steps\n",
    "        recip_DA_rows = []\n",
    "        caked_DA_rows = []\n",
    "        zipped_lists = zip(names_list, recip_list, recip_extents, caked_list, caked_extents)\n",
    "        for filename, recip_arr, recip_extent, caked_arr, caked_extent in zipped_lists:\n",
    "            # print(filename)\n",
    "            # print(recip_arr.shape)\n",
    "            # print(recip_extent)\n",
    "            # print(caked_arr.shape)\n",
    "            # print(caked_extent)\n",
    "\n",
    "            attr_dict = {}\n",
    "            md_list = filename.split('_')\n",
    "            for i, md_item in enumerate(md_naming_scheme):\n",
    "                attr_dict[md_item] = md_list[i]\n",
    "\n",
    "            recip_DA = xr.DataArray(data = recip_arr, \n",
    "                                    dims = ['pix_y', 'pix_x'],\n",
    "                                    attrs = attr_dict)\n",
    "            recip_DA = recip_DA.assign_coords({\n",
    "                'pix_x': recip_DA.pix_x.data,\n",
    "                'pix_y': recip_DA.pix_y.data,\n",
    "                'q_x': ('pix_x', np.linspace(recip_extent[0], recip_extent[1], len(recip_DA.pix_x.data))),\n",
    "                'q_y': ('pix_y', np.linspace(recip_extent[3], recip_extent[2], len(recip_DA.pix_y.data)))\n",
    "            })\n",
    "            recip_DA = recip_DA.expand_dims({\n",
    "                'energy': [float(recip_DA.energy[:-2])],\n",
    "                'sample_name': [sample_name_dict[float(recip_DA.sample_number)]],\n",
    "                'theta': [90 - float(recip_DA.rotation_from_normal[3:-3])]\n",
    "            })\n",
    "            recip_DA_rows.append(recip_DA)\n",
    "\n",
    "            caked_DA = xr.DataArray(data = caked_arr, \n",
    "                                    dims = ['index_y', 'index_x'],\n",
    "                                    attrs = attr_dict)\n",
    "            caked_DA = caked_DA.assign_coords({\n",
    "                'index_x': caked_DA.index_x.data,\n",
    "                'index_y': caked_DA.index_y.data,\n",
    "                'q_r': ('index_x', np.linspace(caked_extent[0], caked_extent[1], len(caked_DA.index_x.data))),\n",
    "                'chi': ('index_y', np.linspace(caked_extent[3], caked_extent[2], len(caked_DA.index_y.data)))\n",
    "            }) \n",
    "            caked_DA = caked_DA.expand_dims({\n",
    "                'energy': [float(caked_DA.energy[:-2])],\n",
    "                'sample_name': [sample_name_dict[float(caked_DA.sample_number)]],\n",
    "                'theta': [90 - float(caked_DA.rotation_from_normal[3:-3])]\n",
    "            })\n",
    "            caked_DA_rows.append(caked_DA)\n",
    "\n",
    "        recip_DA = xr.concat(recip_DA_rows, 'energy')\n",
    "        caked_DA = xr.concat(caked_DA_rows, 'energy')\n",
    "\n",
    "        # Save sample zarr, load later to concatenate full zarr\n",
    "        sampleZarrsPath = propPath.joinpath('processed_data/zarrs/saxs_core_films_trexs_sample_zarrs')\n",
    "\n",
    "        recip_samp_zarr_name = 'recip_'+recip_DA.sample_name.values[0]+'_'+str(int(recip_DA.theta.values[0]))+'deg.zarr'\n",
    "        recip_DS = recip_DA.to_dataset(name='flatfield_corr')\n",
    "        recip_DS.to_zarr(sampleZarrsPath.joinpath(recip_samp_zarr_name), mode='w')\n",
    "\n",
    "        caked_samp_zarr_name = 'caked_'+caked_DA.sample_name.values[0]+'_'+str(int(caked_DA.theta.values[0]))+'deg.zarr'\n",
    "        caked_DS = caked_DA.to_dataset(name='flatfield_corr')\n",
    "        caked_DS.to_zarr(sampleZarrsPath.joinpath(caked_samp_zarr_name), mode='w')"
   ]
  },
  {
   "cell_type": "code",
   "execution_count": null,
   "id": "f38f223f-70a2-4e23-9c86-590794136abd",
   "metadata": {
    "tags": []
   },
   "outputs": [],
   "source": [
    "recip_DA"
   ]
  },
  {
   "cell_type": "markdown",
   "id": "5602c6cc-5384-4ad7-a6de-fad71e60cef1",
   "metadata": {
    "jp-MarkdownHeadingCollapsed": true,
    "tags": []
   },
   "source": [
    "### Solutions"
   ]
  },
  {
   "cell_type": "code",
   "execution_count": null,
   "id": "62e7927f-fa06-4fb7-9eec-1ed24d4a4718",
   "metadata": {
    "tags": []
   },
   "outputs": [],
   "source": [
    "all_saxs = set(saxsPath1.glob('*.tif'))\n",
    "test_saxs = set(saxsPath1.glob('test*'))\n",
    "sample_names = sorted(set([f.name[3:f.name.find('_sdd1.8')] for f in all_saxs.difference(test_saxs)]))\n",
    "sample_names"
   ]
  },
  {
   "cell_type": "code",
   "execution_count": null,
   "id": "af097184-c517-4d86-a8e8-1b6cba6c324b",
   "metadata": {
    "tags": []
   },
   "outputs": [],
   "source": [
    "saxs_63 = []\n",
    "\n",
    "print('Before:')\n",
    "for sample_name in sample_names[:-1]:\n",
    "    files = sorted(saxsPath1.glob(f'CM_{sample_name}_sdd*'))\n",
    "    files_number = len(files)\n",
    "    print(files_number, '\\n')\n",
    "    if files_number == 63:\n",
    "        saxs_63.append(files)\n",
    "    else:\n",
    "        file_energies = []\n",
    "        kept_files = []\n",
    "\n",
    "        for file in files:\n",
    "            file_energy = file.name[:file.name.find('eV')].split('_')[-1]\n",
    "            if file_energy in file_energies:\n",
    "                pass\n",
    "            else:\n",
    "                file_energies.append(file_energy)\n",
    "                kept_files.append(file)\n",
    "\n",
    "        saxs_63.append(kept_files)  \n",
    "\n",
    "print('After (in saxs_63):')\n",
    "for i in range(len(saxs_63)):\n",
    "    print(len(saxs_63[i]))"
   ]
  },
  {
   "cell_type": "code",
   "execution_count": null,
   "id": "19734333-53d1-40e7-8a15-bc7078a1edf5",
   "metadata": {
    "tags": []
   },
   "outputs": [],
   "source": [
    "# Update sample names\n",
    "\n",
    "sample_names = []\n",
    "for folder in saxs_63:\n",
    "    sample_name = folder[0].name[3:folder[0].name.find('_sdd1.8')]\n",
    "    sample_names.append(sample_name)\n",
    "\n",
    "display(sample_names)"
   ]
  },
  {
   "cell_type": "code",
   "execution_count": null,
   "id": "e5b789b0-df50-4e8e-ba1c-b436cff12cc4",
   "metadata": {
    "scrolled": true,
    "tags": []
   },
   "outputs": [],
   "source": [
    "# Make file sets & define unique sample names\n",
    "for i, sample_name in enumerate(tqdm(sample_names, desc='Samples')):\n",
    "    # Select files for a given sample and rotation\n",
    "    # all_paths = set(saxsPath.glob(f'*_{sample_name}_*'))\n",
    "    all_paths = saxs_63[i]\n",
    "    \n",
    "    # Select first scans\n",
    "    filename_list = [f.name for f in sorted(all_paths)]\n",
    "\n",
    "    # # Make sublists to stitch two waxs positions together\n",
    "    # group_size = 2\n",
    "    # filename_sublists = [filename_list[i:i + group_size] for i in range(0, len(filename_list), group_size)]\n",
    "\n",
    "    # Run SMI loading code (this produces some fabio and divide by zero errors)\n",
    "    names_list, recip_list, recip_extents, caked_list, caked_extents = SMI_numpy_loading(\n",
    "        saxsPath1, filename_list)\n",
    "\n",
    "    # # Define naming scheme:\n",
    "    # saxs_naming_scheme = ['project', 'sample_type', 'sample_number', 'rotation_from_normal', 'set_sdd', 'energy', 'waxs_det_position',\n",
    "    #                       'bpm', 'id', 'misc', 'detector']\n",
    "    # md_naming_scheme = saxs_naming_scheme.copy()\n",
    "\n",
    "\n",
    "    # Construct xarrays with full values along detector dimensions and the energy dimension\n",
    "    # They contain sample name and theta value as well, as single values to be concatenated in later steps\n",
    "    recip_DA_rows = []\n",
    "    caked_DA_rows = []\n",
    "    zipped_lists = zip(names_list, recip_list, recip_extents, caked_list, caked_extents)\n",
    "    for filename, recip_arr, recip_extent, caked_arr, caked_extent in zipped_lists:\n",
    "        # print(filename)\n",
    "        # print(recip_arr.shape)\n",
    "        # print(recip_extent)\n",
    "        # print(caked_arr.shape)\n",
    "        # print(caked_extent)\n",
    "\n",
    "        attr_dict = {}\n",
    "        attr_dict['filename'] = filename\n",
    "        sample_name = filename[3:filename.find('_sdd')]\n",
    "        energy = float(filename[:filename.find('eV')].split('_')[-1])\n",
    "        # md_list = filename.split('_')\n",
    "        # for i, md_item in enumerate(md_naming_scheme):\n",
    "        #     attr_dict[md_item] = md_list[i]\n",
    "\n",
    "        recip_DA = xr.DataArray(data = recip_arr, \n",
    "                                dims = ['pix_y', 'pix_x'],\n",
    "                                attrs = attr_dict)\n",
    "        recip_DA = recip_DA.assign_coords({\n",
    "            'pix_x': recip_DA.pix_x.data,\n",
    "            'pix_y': recip_DA.pix_y.data,\n",
    "            'q_x': ('pix_x', np.linspace(recip_extent[0], recip_extent[1], len(recip_DA.pix_x.data))),\n",
    "            'q_y': ('pix_y', np.linspace(recip_extent[3], recip_extent[2], len(recip_DA.pix_y.data)))\n",
    "        })\n",
    "        recip_DA = recip_DA.expand_dims({\n",
    "            'energy': [energy],\n",
    "            'sample_name': [sample_name]\n",
    "        })\n",
    "        recip_DA_rows.append(recip_DA)\n",
    "\n",
    "        caked_DA = xr.DataArray(data = caked_arr, \n",
    "                                dims = ['index_y', 'index_x'],\n",
    "                                attrs = attr_dict)\n",
    "        caked_DA = caked_DA.assign_coords({\n",
    "            'index_x': caked_DA.index_x.data,\n",
    "            'index_y': caked_DA.index_y.data,\n",
    "            'q_r': ('index_x', np.linspace(caked_extent[0], caked_extent[1], len(caked_DA.index_x.data))),\n",
    "            'chi': ('index_y', np.linspace(caked_extent[3], caked_extent[2], len(caked_DA.index_y.data)))\n",
    "        }) \n",
    "        caked_DA = caked_DA.expand_dims({\n",
    "            'energy': [energy],\n",
    "            'sample_name': [sample_name]\n",
    "        })\n",
    "        caked_DA_rows.append(caked_DA)\n",
    "\n",
    "    recip_DA = xr.concat(recip_DA_rows, 'energy')\n",
    "    caked_DA = xr.concat(caked_DA_rows, 'energy')\n",
    "\n",
    "    # Save sample zarr, load later to concatenate full zarr\n",
    "    sampleZarrsPath = propPath.joinpath('processed_data/saxs_solution_trexs_sample_zarrs')\n",
    "\n",
    "    recip_samp_zarr_name = 'recip_'+sample_name+'.zarr'\n",
    "    recip_DS = recip_DA.to_dataset(name='flatfield_corr')\n",
    "    recip_DS.to_zarr(sampleZarrsPath.joinpath(recip_samp_zarr_name), mode='w')\n",
    "\n",
    "    caked_samp_zarr_name = 'caked_'+sample_name+'.zarr'\n",
    "    caked_DS = caked_DA.to_dataset(name='flatfield_corr')\n",
    "    caked_DS.to_zarr(sampleZarrsPath.joinpath(caked_samp_zarr_name), mode='w')"
   ]
  },
  {
   "cell_type": "markdown",
   "id": "48d97611-eedf-4fa0-bc06-0516b619c236",
   "metadata": {},
   "source": [
    "## Quick DataArray contents checking"
   ]
  },
  {
   "cell_type": "code",
   "execution_count": null,
   "id": "32c88405-5336-40d3-bd02-de21360f67c5",
   "metadata": {
    "tags": []
   },
   "outputs": [],
   "source": [
    "energy = 2477\n",
    "\n",
    "sliced_DA = recip_DA.squeeze().sel(energy=energy, method='nearest')\n",
    "\n",
    "cmin = sliced_DA.compute().quantile(0.15)\n",
    "cmax = sliced_DA.compute().quantile(0.995)\n",
    "ax = sliced_DA.plot.imshow(norm=plt.Normalize(cmin, cmax), cmap=plt.cm.turbo, x='q_x', y='q_y')\n",
    "# ax.axes.set(title=f'{sample_name}: Energy = {energy}')\n",
    "plt.show()\n",
    "plt.close('all')"
   ]
  },
  {
   "cell_type": "code",
   "execution_count": null,
   "id": "f60ea607-3f9a-41ab-aa06-6b951c07073f",
   "metadata": {
    "tags": []
   },
   "outputs": [],
   "source": [
    "swap_caked_DA = caked_DA.swap_dims({'index_x':'q_r', 'index_y':'chi'})"
   ]
  },
  {
   "cell_type": "code",
   "execution_count": null,
   "id": "b02ff2c2-06b3-4299-8c84-7094812272c8",
   "metadata": {
    "tags": []
   },
   "outputs": [],
   "source": [
    "energy = 2477\n",
    "\n",
    "sliced_DA = swap_caked_DA.squeeze().sel(energy=energy, method='nearest')\n",
    "\n",
    "cmin = sliced_DA.compute().quantile(0.15)\n",
    "cmax = sliced_DA.compute().quantile(0.995)\n",
    "ax = sliced_DA.plot.imshow(norm=plt.Normalize(cmin, cmax), cmap=plt.cm.turbo, xscale='log')\n",
    "# ax.axes.set(title=f'{sample_name}: Energy = {energy}')\n",
    "plt.show()\n",
    "plt.close('all')"
   ]
  },
  {
   "cell_type": "code",
   "execution_count": null,
   "id": "5420f5b0-6b90-4bee-9e97-b6fa0500674b",
   "metadata": {},
   "outputs": [],
   "source": []
  },
  {
   "cell_type": "markdown",
   "id": "f58b01a9-671b-4042-9ba5-97975b39009a",
   "metadata": {
    "tags": []
   },
   "source": [
    "## Misc cells:"
   ]
  },
  {
   "cell_type": "code",
   "execution_count": null,
   "id": "389c07bc-90ee-42ad-958a-44f7c27a1766",
   "metadata": {
    "tags": []
   },
   "outputs": [],
   "source": [
    "# trmsn_35_tot = sorted(reducedPath.glob('*tot*Trmsn_35*.txt'))\n",
    "# trmsn_35_ver = sorted(reducedPath.glob('*ver*Trmsn_35*.txt'))\n",
    "# trmsn_35_hor = sorted(reducedPath.glob('*hor*Trmsn_35*.txt'))\n",
    "\n",
    "# len([f.name for f in trmsn_35_tot])"
   ]
  },
  {
   "cell_type": "code",
   "execution_count": null,
   "id": "b1f611e2-13fe-4d82-b320-747f291122ed",
   "metadata": {
    "tags": []
   },
   "outputs": [],
   "source": [
    "# for file in trmsn_35_tot:\n",
    "#     pr = np.loadtxt(file)\n",
    "#     plt.plot(pr[:, 1]-0.9*np.mean(pr[1100:1250, 1]))\n",
    "#     plt.show()\n",
    "#     plt.close()"
   ]
  },
  {
   "cell_type": "code",
   "execution_count": null,
   "id": "b7c4e3b4-bec0-4dd6-b1ea-5b718d685038",
   "metadata": {},
   "outputs": [],
   "source": []
  }
 ],
 "metadata": {
  "kernelspec": {
   "display_name": "Python 3 (ipykernel)",
   "language": "python",
   "name": "python3"
  },
  "language_info": {
   "codemirror_mode": {
    "name": "ipython",
    "version": 3
   },
   "file_extension": ".py",
   "mimetype": "text/x-python",
   "name": "python",
   "nbconvert_exporter": "python",
   "pygments_lexer": "ipython3",
   "version": "3.11.6"
  }
 },
 "nbformat": 4,
 "nbformat_minor": 5
}
