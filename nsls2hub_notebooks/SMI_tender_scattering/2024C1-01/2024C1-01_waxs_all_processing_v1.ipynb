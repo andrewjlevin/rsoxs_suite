{
 "cells": [
  {
   "cell_type": "markdown",
   "id": "36d029a2-99c0-43a3-ac96-a5725cecf355",
   "metadata": {},
   "source": [
    "# 2024C1-01 SMI WAXS TReXS processing notebook "
   ]
  },
  {
   "cell_type": "markdown",
   "id": "225b20cb-a005-4365-b37b-e2823f03b568",
   "metadata": {},
   "source": [
    "## Imports"
   ]
  },
  {
   "cell_type": "code",
   "execution_count": null,
   "id": "4a2936b0-4179-40cd-a142-dadf01a15cd4",
   "metadata": {
    "tags": []
   },
   "outputs": [],
   "source": [
    "import pathlib\n",
    "import os\n",
    "import numpy as np\n",
    "import matplotlib.pyplot as plt\n",
    "import xarray as xr\n",
    "from PIL import Image\n",
    "from tqdm.auto import tqdm \n",
    "\n",
    "import fabio\n",
    "from smi_analysis import SMI_beamline"
   ]
  },
  {
   "cell_type": "markdown",
   "id": "c9f785b4-e735-4229-bd79-98d9631e01ee",
   "metadata": {
    "tags": []
   },
   "source": [
    "## Define paths & functions"
   ]
  },
  {
   "cell_type": "raw",
   "id": "2db18a56-4dad-42ac-8340-0c116874ccc3",
   "metadata": {},
   "source": [
    "Raw text paths for the purpose of pasting into terminal to copy/move/zip data:\n",
    "\n",
    "Raw Paths:\n",
    "/nsls2/data/smi/legacy/results/data/2024_1/314903_Chaney_01  # solution\n",
    "/nsls2/data/smi/legacy/results/data/2024_1/314903_Chaney_02  # films normal incidence\n",
    "/nsls2/data/smi/legacy/results/data/2024_1/314903_Chaney_03  # solution\n",
    "/nsls2/data/smi/legacy/results/data/2024_1/314903_Chaney_04  # films measured at angle 0, \n",
    "\n",
    "SMI Analysis Data Paths:\n",
    "/nsls2/data/smi/legacy/results/analysis/2024_1/314903_Chaney_01\n",
    "/nsls2/data/smi/legacy/results/analysis/2024_1/314903_Chaney_02\n",
    "/nsls2/data/smi/legacy/results/analysis/2024_1/314903_Chaney_03  # empty\n",
    "/nsls2/data/smi/legacy/results/analysis/2024_1/314903_Chaney_04\n",
    "\n",
    "Our proposal path:\n",
    "/nsls2/data/smi/proposals/2024-1/pass-314903\n",
    "\n",
    "Rclone copy statement to paste:\n",
    "rclone copy -LP /nsls2/data/smi/legacy/results/data/2024_1/314903_Chaney_04 /nsls2/data/smi/proposals/2024-1/pass-314903/raw_04\n",
    "rclone copy -LP /nsls2/data/smi/legacy/results/analysis/2024_1/314903_Chaney_04 ./analysis_04"
   ]
  },
  {
   "cell_type": "code",
   "execution_count": null,
   "id": "a7d2c5de-3773-44f7-bd93-fc6a16076bd6",
   "metadata": {
    "tags": []
   },
   "outputs": [],
   "source": [
    "sample_name_dict = {\n",
    "    14: 'PM6_CB',\n",
    "    17: 'PM6_1CN-CB',\n",
    "    18: 'PM6_5CN-CB',\n",
    "    21: 'PM6_p5CN-CB',\n",
    "    22: 'PM6-Y6_CB',\n",
    "    23: 'PM6-Y6BO_CB',\n",
    "    26: 'PM6_CF',\n",
    "    29: 'PM6_1CN-CF',\n",
    "    30: 'PM6_5CN-CF',\n",
    "    33: 'PM6_p5CN-CF',\n",
    "    34: 'PM6-Y6_CF',\n",
    "    35: 'PM6-Y6BO_CF',\n",
    "    1: 'BareSiN_01',\n",
    "    3: 'BareSiN_03'\n",
    "}"
   ]
  },
  {
   "cell_type": "code",
   "execution_count": null,
   "id": "b6f7a0e4-9833-45d0-b1c3-426d56bc4538",
   "metadata": {
    "tags": []
   },
   "outputs": [],
   "source": [
    "propPath = pathlib.Path('/nsls2/data/smi/proposals/2024-1/pass-314903')\n",
    "\n",
    "rawPaths1 = propPath.joinpath('raw_01')\n",
    "saxsPath1 = rawPaths1.joinpath('1M')\n",
    "waxsPath1 = rawPaths1.joinpath('900KW')\n",
    "\n",
    "rawPaths2 = propPath.joinpath('raw_02')\n",
    "saxsPath2 = rawPaths2.joinpath('1M')\n",
    "waxsPath2 = rawPaths2.joinpath('900KW')\n",
    "\n",
    "rawPaths3 = propPath.joinpath('raw_03')\n",
    "saxsPath3 = rawPaths3.joinpath('1M')\n",
    "waxsPath3 = rawPaths3.joinpath('900KW')\n",
    "\n",
    "rawPaths4 = propPath.joinpath('raw_04')\n",
    "saxsPath4 = rawPaths4.joinpath('1M')\n",
    "waxsPath4 = rawPaths4.joinpath('900KW')\n",
    "\n",
    "# analysisPath = pathlib.Path('/nsls2/users/alevin/rsoxs_suite/sst1_notebooks/SMI_tender_scattering/analysis_02')\n",
    "# reducedPath = analysisPath.joinpath('reduced_waxs')"
   ]
  },
  {
   "cell_type": "markdown",
   "id": "19b59d96-776f-4303-bf7c-352e54677a69",
   "metadata": {
    "tags": []
   },
   "source": [
    "### SMI function"
   ]
  },
  {
   "cell_type": "code",
   "execution_count": null,
   "id": "550ae574-801c-4a22-a8b5-c67f9b1086f2",
   "metadata": {
    "tags": []
   },
   "outputs": [],
   "source": [
    "def waxs_SMI_numpy_loading(path, filename_sublists):\n",
    "    \"\"\"\n",
    "    Function adapted from Guillames SMI notebooks to process raw waxs tiffs:\n",
    "    \n",
    "    Returns filename_wa0_list, recip_list, recip_extents, caked_list, caked_extents\n",
    "    \"\"\"\n",
    "    \n",
    "    #waxs\n",
    "    geometry = 'Transmission'\n",
    "    bs_kind = 'pindiode'\n",
    "    incident_angle = np.deg2rad(0)\n",
    "\n",
    "    #WAXS\n",
    "    detector_waxs = 'Pilatus900kw'\n",
    "    sdd_waxs = 280\n",
    "    center_waxs = [97, 1255.9]\n",
    "    bs_pos_waxs = [[97, 1070], [0, 0], [0, 0]]\n",
    "    \n",
    "    flatPath = pathlib.Path('/nsls2/data/smi/legacy/results/analysis/2024_1/314483_Freychet_04')\n",
    "    flatfield = np.rot90(fabio.open(flatPath.joinpath('GF_Flatfield_Sedge_uhighg1600eV_10s_wa20_2477eV_pffBT4T_id481136_000000_WAXS.tif')).data, 1)\n",
    "\n",
    "    \n",
    "    filename_wa0_list = []\n",
    "    recip_list = []\n",
    "    recip_extents = []\n",
    "    caked_list = []\n",
    "    caked_extents = []\n",
    "    for dat in tqdm(filename_sublists, desc='Processing tiffs'):\n",
    "        \n",
    "            waxs_angle = [np.deg2rad(-0.06), np.deg2rad(19.7-0.06)]\n",
    "            # print(dat)\n",
    "\n",
    "            idx = dat[0].find('eV')\n",
    "            energy = 0.001*float(dat[0][idx-7:idx])\n",
    "            # print(energy)\n",
    "            wav = 1E-10 * (12.398/energy)\n",
    "\n",
    "            #This part is to stitch the data\n",
    "            SMI_waxs = SMI_beamline.SMI_geometry(geometry = geometry,\n",
    "                                                 detector = detector_waxs,\n",
    "                                                 sdd = sdd_waxs,\n",
    "                                                 wav = wav,\n",
    "                                                 alphai = 0,\n",
    "                                                 center = center_waxs,\n",
    "                                                 bs_pos = bs_pos_waxs,\n",
    "                                                 det_angles = waxs_angle,\n",
    "                                                 bs_kind = None)\n",
    "\n",
    "\n",
    "            SMI_waxs.open_data(path, dat)\n",
    "            \n",
    "            SMI_waxs.masks[1][1254, 47], SMI_waxs.masks[1][1255, 47]=True, True\n",
    "            SMI_waxs.masks[4][1254, 47], SMI_waxs.masks[4][1255, 47]=True, True\n",
    "\n",
    "            SMI_waxs.masks[1][979:1050, 0:100], SMI_waxs.masks[4][979:1050, 0:100]=True, True\n",
    "            SMI_waxs.masks[1][967, 67], SMI_waxs.masks[4][967, 67]=True, True\n",
    "\n",
    "            SMI_waxs.masks[1][490:555, 100:], SMI_waxs.masks[4][490:555, 100:]=True, True\n",
    "\n",
    "            SMI_waxs.masks[1][1231, 174], SMI_waxs.masks[1][1232, 174]=True, True\n",
    "            SMI_waxs.masks[4][1231, 174], SMI_waxs.masks[4][1232, 174]=True, True\n",
    "\n",
    "            SMI_waxs.masks[1][1414, 179], SMI_waxs.masks[1][1415, 179]=True, True\n",
    "            SMI_waxs.masks[4][1414, 179], SMI_waxs.masks[4][1415, 179]=True, True\n",
    "\n",
    "            SMI_waxs.masks[1][858, 5], SMI_waxs.masks[1][859, 5]=True, True\n",
    "            SMI_waxs.masks[4][858, 5], SMI_waxs.masks[4][859, 5]=True, True\n",
    "\n",
    "            SMI_waxs.masks[1][414, 6], SMI_waxs.masks[4][414, 6], =True, True\n",
    "            SMI_waxs.masks[1][394, 138], SMI_waxs.masks[4][394, 138]=True, True\n",
    "\n",
    "            SMI_waxs.masks[1][364, 41], SMI_waxs.masks[1][365, 41]=True, True\n",
    "            SMI_waxs.masks[4][364, 41], SMI_waxs.masks[4][365, 41]=True, True\n",
    "\n",
    "            SMI_waxs.masks[1][364, 96], SMI_waxs.masks[1][365, 96]=True, True\n",
    "            SMI_waxs.masks[4][364, 96], SMI_waxs.masks[4][365, 96]=True, True\n",
    "\n",
    "            SMI_waxs.masks[1][304, 96], SMI_waxs.masks[1][305, 96], SMI_waxs.masks[1][304, 97], SMI_waxs.masks[1][305, 97]=True, True, True, True\n",
    "            SMI_waxs.masks[4][304, 96], SMI_waxs.masks[4][305, 96], SMI_waxs.masks[4][304, 97], SMI_waxs.masks[4][305, 97]=True, True, True, True\n",
    "\n",
    "            SMI_waxs.masks[1][181, 97], SMI_waxs.masks[1][182, 97], SMI_waxs.masks[1][181, 98], SMI_waxs.masks[1][182, 98]=True, True, True, True\n",
    "            SMI_waxs.masks[4][181, 97], SMI_waxs.masks[4][182, 97], SMI_waxs.masks[4][181, 98], SMI_waxs.masks[4][182, 98]=True, True, True, True\n",
    "\n",
    "            for i, (img, mask) in enumerate(zip(SMI_waxs.imgs, SMI_waxs.masks)):\n",
    "                if i%3==0:\n",
    "                    SMI_waxs.imgs[i] = SMI_waxs.imgs[i]/flatfield[:, :195]+1E-7\n",
    "                    SMI_waxs.masks[i][np.where(flatfield[:, :195]<1)] = True\n",
    "\n",
    "                if i%3==1:\n",
    "                    SMI_waxs.imgs[i] = SMI_waxs.imgs[i]/flatfield[:, 211:406]+1E-7\n",
    "                    SMI_waxs.masks[i][np.where(flatfield[:, 211:406]<1)] = True\n",
    "\n",
    "                if i%3==2:\n",
    "                    SMI_waxs.imgs[i] = SMI_waxs.imgs[i]/flatfield[:, -195:]+1E-7\n",
    "                    SMI_waxs.masks[i][np.where(flatfield[:, -195:]<1)] = True\n",
    "\n",
    "            SMI_waxs.stitching_data(interp_factor=3, flag_scale=False)\n",
    "            \n",
    "            SMI_waxs.caking()\n",
    "            \n",
    "            filename_wa0_list.append(dat[0])\n",
    "            recip_list.append(SMI_waxs.img_st)\n",
    "            recip_extents.append([SMI_waxs.qp[0], SMI_waxs.qp[-1], SMI_waxs.qz[0], SMI_waxs.qz[-1]])\n",
    "            \n",
    "            caked_list.append(SMI_waxs.cake)\n",
    "            caked_extents.append([SMI_waxs.q_cake[0], SMI_waxs.q_cake[-1], SMI_waxs.chi_cake[0], SMI_waxs.chi_cake[-1]])\n",
    "            \n",
    "    return filename_wa0_list, recip_list, recip_extents, caked_list, caked_extents"
   ]
  },
  {
   "cell_type": "markdown",
   "id": "4552b847-e8cb-46c5-990b-72cf559020ce",
   "metadata": {
    "tags": []
   },
   "source": [
    "## Load data & save zarrs"
   ]
  },
  {
   "cell_type": "code",
   "execution_count": null,
   "id": "3a8b6fdd-8299-4be1-9ee3-16c977408256",
   "metadata": {
    "tags": []
   },
   "outputs": [],
   "source": [
    "sorted([f.name for f in waxsPath1.glob('*')])"
   ]
  },
  {
   "cell_type": "code",
   "execution_count": null,
   "id": "7d4d0e8e-1f38-450d-81d4-d24160f065ef",
   "metadata": {
    "tags": []
   },
   "outputs": [],
   "source": [
    "sorted([f.name[:f.name.find('_sdd')] for f in waxsPath1.glob('*')])"
   ]
  },
  {
   "cell_type": "code",
   "execution_count": null,
   "id": "b9befe70-8cb7-49f5-bf7f-ad453ab4a9f2",
   "metadata": {
    "tags": []
   },
   "outputs": [],
   "source": [
    "all_saxs = set(waxsPath1.glob('*.tif'))\n",
    "test_saxs = set(waxsPath1.glob('test*'))\n",
    "sample_names = sorted(set([f.name[3:f.name.find('_sdd1.8')] for f in all_saxs.difference(test_saxs)]))[:-1]\n",
    "sample_names"
   ]
  },
  {
   "cell_type": "code",
   "execution_count": null,
   "id": "e9926972-55eb-4723-a2c5-fa089b8e6ece",
   "metadata": {
    "tags": []
   },
   "outputs": [],
   "source": [
    "# unique_sample_numbers = sorted(set([f.name.split('_')[2] for f in waxsPath2.glob('*')]))\n",
    "# unique_sample_rotations = sorted(set([f.name.split('_')[3] for f in waxsPath2.glob('*')]))"
   ]
  },
  {
   "cell_type": "code",
   "execution_count": null,
   "id": "31649812-59f1-4f47-b6b4-ff9db0b7cfee",
   "metadata": {
    "tags": []
   },
   "outputs": [],
   "source": [
    "# filename_list = [f.name for f in sorted(waxsPath.glob('*Trmsn_18*prs35*'))]\n",
    "\n",
    "# # Make sublists (of sample filenames)\n",
    "# group_size = 2\n",
    "# filename_sublists = [filename_list[i:i + group_size] for i in range(0, len(filename_list), group_size)]"
   ]
  },
  {
   "cell_type": "code",
   "execution_count": null,
   "id": "e51841f2-4591-4c7b-963d-c4d8083ed32d",
   "metadata": {
    "tags": []
   },
   "outputs": [],
   "source": [
    "# filename_sublists"
   ]
  },
  {
   "cell_type": "code",
   "execution_count": null,
   "id": "8f736865-c48f-447c-96c6-93037b0a51ad",
   "metadata": {
    "tags": []
   },
   "outputs": [],
   "source": [
    "# import warnings\n",
    "# warnings.filterwarnings('ignore')"
   ]
  },
  {
   "cell_type": "code",
   "execution_count": null,
   "id": "b8636045-29f9-4fa1-961d-41421c53307c",
   "metadata": {
    "tags": []
   },
   "outputs": [],
   "source": [
    "def remove_duplicate_energies(filename_list):\n",
    "    file_energies = []\n",
    "    kept_files = []\n",
    "\n",
    "    for filename in filename_list:\n",
    "        file_energy = filename[:filename.find('eV')].split('_')[-1]\n",
    "        if file_energy in file_energies:\n",
    "            pass\n",
    "        else:\n",
    "            file_energies.append(file_energy)\n",
    "            kept_files.append(filename)\n",
    "\n",
    "    return kept_files"
   ]
  },
  {
   "cell_type": "code",
   "execution_count": null,
   "id": "899b8f17-8f61-47f4-9cd1-978fd8233981",
   "metadata": {
    "scrolled": true,
    "tags": []
   },
   "outputs": [],
   "source": [
    "# cell for scans without incident angle in name\n",
    "\n",
    "# for sample_number in tqdm(unique_sample_numbers[7:], desc='Samples'):\n",
    "for sample_name in tqdm(sample_names[:], desc='Samples'):\n",
    "    # Select files for a given sample and rotation\n",
    "    all_paths = sorted(waxsPath1.glob(f'*CM_{sample_name}_sdd*'))\n",
    "    # all_paths = set(waxsPath2.glob(f'*Trmsn_{sample_number}*'))\n",
    "    # dmg_paths = set(waxsPath2.glob(f'*Trmsn_{sample_number}*damagetest*'))\n",
    "\n",
    "    # # For now only select first scans, not the damage test repeats\n",
    "    # filename_list = [f.name for f in sorted(all_paths.difference(dmg_paths))]\n",
    "\n",
    "    # Let's select the damage test repeats now, or solutions:\n",
    "    filename_list = [f.name for f in sorted(all_paths)]\n",
    "    \n",
    "\n",
    "    # We need to check that the number of energies for the 2 detector positions is consistent (63)\n",
    "    wa0_filename_list = [fname for fname in filename_list if 'wa0' in fname]\n",
    "    wa20_filename_list = [fname for fname in filename_list if 'wa20' in fname]\n",
    "    if len(wa0_filename_list) == 63:\n",
    "        pass\n",
    "    else:\n",
    "        wa0_filename_list = remove_duplicate_energies(wa0_filename_list)\n",
    "\n",
    "    if len(wa20_filename_list) == 63:\n",
    "        pass\n",
    "    else:\n",
    "        wa20_filename_list = remove_duplicate_energies(wa20_filename_list)\n",
    "\n",
    "    filename_list =  sorted(wa0_filename_list + wa20_filename_list)\n",
    "    # print(len(filename_list))\n",
    "\n",
    "    # Make sublists to stitch two waxs positions together\n",
    "    group_size = 2\n",
    "    filename_sublists = [filename_list[i:i + group_size] for i in range(0, len(filename_list), group_size)]\n",
    "    # print(len(filename_sublists))\n",
    "\n",
    "    # Run SMI loading code (this produces some fabio and divide by zero errors)\n",
    "    names_list, recip_list, recip_extents, caked_list, caked_extents = waxs_SMI_numpy_loading(waxsPath1, filename_sublists)\n",
    "\n",
    "    # Define naming scheme:\n",
    "    waxs_naming_scheme = ['project', 'sample_type', 'sample_number', 'set_sdd', 'energy', 'waxs_det_position',\n",
    "                          'bpm', 'id', 'misc', 'detector']\n",
    "    md_naming_scheme = waxs_naming_scheme.copy()\n",
    "\n",
    "\n",
    "    # Construct xarrays with full values along detector dimensions and the energy dimension\n",
    "    # They contain sample name and theta value as well, as single values to be concatenated in later steps\n",
    "    recip_DA_rows = []\n",
    "    caked_DA_rows = []\n",
    "    zipped_lists = zip(names_list, recip_list, recip_extents, caked_list, caked_extents)\n",
    "    for filename, recip_arr, recip_extent, caked_arr, caked_extent in zipped_lists:\n",
    "        # print(filename)\n",
    "        # print(recip_arr.shape)\n",
    "        # print(recip_extent)\n",
    "        # print(caked_arr.shape)\n",
    "        # print(caked_extent)\n",
    "\n",
    "        attr_dict = {}\n",
    "        attr_dict['filename'] = filename\n",
    "        energy = float(filename[:filename.find('eV')].split('_')[-1])\n",
    "        print(energy)\n",
    "        # md_list = filename.split('_')\n",
    "        # for i, md_item in enumerate(md_naming_scheme):\n",
    "        #     attr_dict[md_item] = md_list[i]\n",
    "\n",
    "        recip_DA = xr.DataArray(data = recip_arr, \n",
    "                                dims = ['pix_y', 'pix_x'],\n",
    "                                attrs = attr_dict)\n",
    "        recip_DA = recip_DA.assign_coords({\n",
    "            'pix_x': recip_DA.pix_x.data,\n",
    "            'pix_y': recip_DA.pix_y.data,\n",
    "            'q_x': ('pix_x', np.linspace(recip_extent[0], recip_extent[1], len(recip_DA.pix_x.data))),\n",
    "            'q_y': ('pix_y', np.linspace(recip_extent[3], recip_extent[2], len(recip_DA.pix_y.data)))\n",
    "        })\n",
    "        recip_DA = recip_DA.expand_dims({\n",
    "            # 'energy': [float(recip_DA.energy[:-2])],\n",
    "            'energy': [energy],\n",
    "            # 'sample_name': [sample_name_dict[float(recip_DA.sample_number)]],\n",
    "            'sample_name': [sample_name],\n",
    "            'theta': [90]\n",
    "        })\n",
    "        recip_DA_rows.append(recip_DA)\n",
    "\n",
    "        caked_DA = xr.DataArray(data = caked_arr, \n",
    "                                dims = ['index_y', 'index_x'],\n",
    "                                attrs = attr_dict)\n",
    "        caked_DA = caked_DA.assign_coords({\n",
    "            'index_x': caked_DA.index_x.data,\n",
    "            'index_y': caked_DA.index_y.data,\n",
    "            'q_r': ('index_x', np.linspace(caked_extent[0], caked_extent[1], len(caked_DA.index_x.data))),\n",
    "            'chi': ('index_y', np.linspace(caked_extent[3], caked_extent[2], len(caked_DA.index_y.data)))\n",
    "        }) \n",
    "        caked_DA = caked_DA.expand_dims({\n",
    "            # 'energy': [float(caked_DA.energy[:-2])],\n",
    "            'energy': [energy],\n",
    "            # 'sample_name': [sample_name_dict[float(recip_DA.sample_number)]],\n",
    "            'sample_name': [sample_name],\n",
    "            'theta': [90]\n",
    "        })\n",
    "        caked_DA_rows.append(caked_DA)\n",
    "\n",
    "    recip_DA = xr.concat(recip_DA_rows, 'energy')\n",
    "    caked_DA = xr.concat(caked_DA_rows, 'energy')\n",
    "\n",
    "    # Save sample zarr, load later to concatenate full zarr\n",
    "    sampleZarrsPath = propPath.joinpath('processed_data/zarrs/waxs_solution_trexs_sample_zarrs')\n",
    "\n",
    "    recip_samp_zarr_name = 'recip_'+recip_DA.sample_name.values[0]+'_'+str(int(recip_DA.theta.values[0]))+'deg.zarr'\n",
    "    recip_DS = recip_DA.to_dataset(name='flatfield_corr')\n",
    "    recip_DS.to_zarr(sampleZarrsPath.joinpath(recip_samp_zarr_name), mode='w')\n",
    "\n",
    "    caked_samp_zarr_name = 'caked_'+caked_DA.sample_name.values[0]+'_'+str(int(caked_DA.theta.values[0]))+'deg.zarr'\n",
    "    caked_DS = caked_DA.to_dataset(name='flatfield_corr')\n",
    "    caked_DS.to_zarr(sampleZarrsPath.joinpath(caked_samp_zarr_name), mode='w')"
   ]
  },
  {
   "cell_type": "code",
   "execution_count": null,
   "id": "c1431d61-be41-441d-8592-a30de48534be",
   "metadata": {
    "scrolled": true,
    "tags": []
   },
   "outputs": [],
   "source": [
    "# Cell for scans with incident angle recorded in name\n",
    "\n",
    "for sample_number in tqdm(unique_sample_numbers[:], desc='Samples'):\n",
    "    for sample_rotation in tqdm(unique_sample_rotations, desc='Angles'):\n",
    "\n",
    "        # Select files for a given sample and rotation\n",
    "        all_paths = set(waxsPath4.glob(f'*Trmsn_{sample_number}*{sample_rotation}*'))\n",
    "        dmg_paths = set(waxsPath4.glob(f'*Trmsn_{sample_number}*{sample_rotation}*damagetest*'))\n",
    "        \n",
    "        # # For now only select first scans, not the damage test repeats\n",
    "        # filename_list = [f.name for f in sorted(all_paths.difference(dmg_paths))]\n",
    "        \n",
    "        # Let's select the damage test repeats now:\n",
    "        filename_list = [f.name for f in sorted(dmg_paths)]\n",
    "        \n",
    "        # We need to check that the number of energies for the 2 detector positions is consistent (63)\n",
    "        wa0_filename_list = [fname for fname in filename_list if 'wa0' in fname]\n",
    "        wa20_filename_list = [fname for fname in filename_list if 'wa20' in fname]\n",
    "        if len(wa0_filename_list) == 63:\n",
    "            pass\n",
    "        else:\n",
    "            wa0_filename_list = remove_duplicate_energies(wa0_filename_list)\n",
    "\n",
    "        if len(wa20_filename_list) == 63:\n",
    "            pass\n",
    "        else:\n",
    "            wa20_filename_list = remove_duplicate_energies(wa20_filename_list)\n",
    "            \n",
    "        filename_list =  sorted(wa0_filename_list + wa20_filename_list)\n",
    "        \n",
    "        # Make sublists to stitch two waxs positions together\n",
    "        group_size = 2\n",
    "        filename_sublists = [filename_list[i:i + group_size] for i in range(0, len(filename_list), group_size)]\n",
    "\n",
    "        # Run SMI loading code (this produces some fabio and divide by zero errors)\n",
    "        names_list, recip_list, recip_extents, caked_list, caked_extents = waxs_SMI_numpy_loading(waxsPath4, filename_sublists)\n",
    "\n",
    "        # Define naming scheme:\n",
    "        waxs_naming_scheme = ['project', 'sample_type', 'sample_number', 'rotation_from_normal', 'extra', 'set_sdd', 'energy', 'waxs_det_position',\n",
    "                              'bpm', 'id', 'misc', 'detector']\n",
    "        md_naming_scheme = waxs_naming_scheme.copy()\n",
    "\n",
    "\n",
    "        # Construct xarrays with full values along detector dimensions and the energy dimension\n",
    "        # They contain sample name and theta value as well, as single values to be concatenated in later steps\n",
    "        recip_DA_rows = []\n",
    "        caked_DA_rows = []\n",
    "        zipped_lists = zip(names_list, recip_list, recip_extents, caked_list, caked_extents)\n",
    "        for filename, recip_arr, recip_extent, caked_arr, caked_extent in zipped_lists:\n",
    "            # print(filename)\n",
    "            # print(recip_arr.shape)\n",
    "            # print(recip_extent)\n",
    "            # print(caked_arr.shape)\n",
    "            # print(caked_extent)\n",
    "\n",
    "            attr_dict = {}\n",
    "            md_list = filename.split('_')\n",
    "            for i, md_item in enumerate(md_naming_scheme):\n",
    "                attr_dict[md_item] = md_list[i]\n",
    "\n",
    "            recip_DA = xr.DataArray(data = recip_arr, \n",
    "                                    dims = ['pix_y', 'pix_x'],\n",
    "                                    attrs = attr_dict)\n",
    "            recip_DA = recip_DA.assign_coords({\n",
    "                'pix_x': recip_DA.pix_x.data,\n",
    "                'pix_y': recip_DA.pix_y.data,\n",
    "                'q_x': ('pix_x', np.linspace(recip_extent[0], recip_extent[1], len(recip_DA.pix_x.data))),\n",
    "                'q_y': ('pix_y', np.linspace(recip_extent[3], recip_extent[2], len(recip_DA.pix_y.data)))\n",
    "            })\n",
    "            recip_DA = recip_DA.expand_dims({\n",
    "                'energy': [float(recip_DA.energy[:-2])],\n",
    "                'sample_name': [sample_name_dict[float(recip_DA.sample_number)]],\n",
    "                'theta': [90 - float(recip_DA.rotation_from_normal[3:-3])]\n",
    "            })\n",
    "            recip_DA_rows.append(recip_DA)\n",
    "\n",
    "            caked_DA = xr.DataArray(data = caked_arr, \n",
    "                                    dims = ['index_y', 'index_x'],\n",
    "                                    attrs = attr_dict)\n",
    "            caked_DA = caked_DA.assign_coords({\n",
    "                'index_x': caked_DA.index_x.data,\n",
    "                'index_y': caked_DA.index_y.data,\n",
    "                'q_r': ('index_x', np.linspace(caked_extent[0], caked_extent[1], len(caked_DA.index_x.data))),\n",
    "                'chi': ('index_y', np.linspace(caked_extent[3], caked_extent[2], len(caked_DA.index_y.data)))\n",
    "            }) \n",
    "            caked_DA = caked_DA.expand_dims({\n",
    "                'energy': [float(caked_DA.energy[:-2])],\n",
    "                'sample_name': [sample_name_dict[float(caked_DA.sample_number)]],\n",
    "                'theta': [90 - float(caked_DA.rotation_from_normal[3:-3])]\n",
    "            })\n",
    "            caked_DA_rows.append(caked_DA)\n",
    "\n",
    "        recip_DA = xr.concat(recip_DA_rows, 'energy')\n",
    "        caked_DA = xr.concat(caked_DA_rows, 'energy')\n",
    "\n",
    "        # Save sample zarr, load later to concatenate full zarr\n",
    "        sampleZarrsPath = propPath.joinpath('processed_data/zarrs/waxs_dmgtest_films_trexs_sample_zarrs')\n",
    "\n",
    "        recip_samp_zarr_name = 'recip_'+recip_DA.sample_name.values[0]+'_'+str(int(recip_DA.theta.values[0]))+'deg.zarr'\n",
    "        recip_DS = recip_DA.to_dataset(name='flatfield_corr')\n",
    "        recip_DS.to_zarr(sampleZarrsPath.joinpath(recip_samp_zarr_name), mode='w')\n",
    "\n",
    "        caked_samp_zarr_name = 'caked_'+caked_DA.sample_name.values[0]+'_'+str(int(caked_DA.theta.values[0]))+'deg.zarr'\n",
    "        caked_DS = caked_DA.to_dataset(name='flatfield_corr')\n",
    "        caked_DS.to_zarr(sampleZarrsPath.joinpath(caked_samp_zarr_name), mode='w')"
   ]
  },
  {
   "cell_type": "code",
   "execution_count": null,
   "id": "812b2d6e-47f5-49dd-9892-b72c0587099c",
   "metadata": {
    "tags": []
   },
   "outputs": [],
   "source": [
    "caked_DA = xr.open_zarr(sampleZarrsPath.joinpath('caked_PM6_5CN-CB_55deg.zarr'))['flatfield_corr']\n",
    "caked_DA"
   ]
  },
  {
   "cell_type": "code",
   "execution_count": null,
   "id": "072330e9-f4e7-4459-bd1b-80a6196dc1e7",
   "metadata": {
    "tags": []
   },
   "outputs": [],
   "source": [
    "recip_DA.sel(energy=1e10,method='nearest').plot.imshow(vmin=0,vmax=np.percentile(SMI_waxs.img_st, 99), x='q_x', y='q_y')\n",
    "plt.show()"
   ]
  },
  {
   "cell_type": "code",
   "execution_count": null,
   "id": "1e904a6b-4f0c-4e54-9bc4-5af922923061",
   "metadata": {
    "tags": []
   },
   "outputs": [],
   "source": [
    "caked_DA.squeeze().sel(energy=0,method='nearest').plot.imshow(vmin=0,vmax=np.percentile(SMI_waxs.cake, 97), x='q_r', y='chi')\n",
    "plt.show()"
   ]
  },
  {
   "cell_type": "code",
   "execution_count": null,
   "id": "5420f5b0-6b90-4bee-9e97-b6fa0500674b",
   "metadata": {},
   "outputs": [],
   "source": []
  },
  {
   "cell_type": "code",
   "execution_count": null,
   "id": "389c07bc-90ee-42ad-958a-44f7c27a1766",
   "metadata": {
    "tags": []
   },
   "outputs": [],
   "source": [
    "# trmsn_35_tot = sorted(reducedPath.glob('*tot*Trmsn_35*.txt'))\n",
    "# trmsn_35_ver = sorted(reducedPath.glob('*ver*Trmsn_35*.txt'))\n",
    "# trmsn_35_hor = sorted(reducedPath.glob('*hor*Trmsn_35*.txt'))\n",
    "\n",
    "# len([f.name for f in trmsn_35_tot])"
   ]
  },
  {
   "cell_type": "code",
   "execution_count": null,
   "id": "b1f611e2-13fe-4d82-b320-747f291122ed",
   "metadata": {
    "tags": []
   },
   "outputs": [],
   "source": [
    "# for file in trmsn_35_tot:\n",
    "#     pr = np.loadtxt(file)\n",
    "#     plt.plot(pr[:, 1]-0.9*np.mean(pr[1100:1250, 1]))\n",
    "#     plt.show()\n",
    "#     plt.close()"
   ]
  },
  {
   "cell_type": "code",
   "execution_count": null,
   "id": "b7c4e3b4-bec0-4dd6-b1ea-5b718d685038",
   "metadata": {},
   "outputs": [],
   "source": []
  }
 ],
 "metadata": {
  "kernelspec": {
   "display_name": "Python 3 (ipykernel)",
   "language": "python",
   "name": "python3"
  },
  "language_info": {
   "codemirror_mode": {
    "name": "ipython",
    "version": 3
   },
   "file_extension": ".py",
   "mimetype": "text/x-python",
   "name": "python",
   "nbconvert_exporter": "python",
   "pygments_lexer": "ipython3",
   "version": "3.11.6"
  }
 },
 "nbformat": 4,
 "nbformat_minor": 5
}
