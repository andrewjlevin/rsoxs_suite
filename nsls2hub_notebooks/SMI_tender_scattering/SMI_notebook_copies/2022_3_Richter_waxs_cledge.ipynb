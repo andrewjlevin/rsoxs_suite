{
 "cells": [
  {
   "cell_type": "markdown",
   "metadata": {},
   "source": [
    "# Template of a SMI jupyter notebook"
   ]
  },
  {
   "cell_type": "markdown",
   "metadata": {},
   "source": [
    "<h3>310999_Richter5 analysis</h3><br>\n",
    "S-edge overnight mostly PEDOT"
   ]
  },
  {
   "cell_type": "code",
   "execution_count": 6,
   "metadata": {},
   "outputs": [
    {
     "name": "stdout",
     "output_type": "stream",
     "text": [
      "Populating the interactive namespace from numpy and matplotlib\n"
     ]
    }
   ],
   "source": [
    "# These packages should all be installed if the procedure was followed\n",
    "%pylab nbagg\n",
    "\n",
    "import matplotlib.pyplot as plt\n",
    "\n",
    "from smi_analysis import SMI_beamline\n",
    "import numpy as np\n",
    "import fabio\n",
    "import os"
   ]
  },
  {
   "cell_type": "code",
   "execution_count": null,
   "metadata": {},
   "outputs": [],
   "source": []
  },
  {
   "cell_type": "markdown",
   "metadata": {},
   "source": [
    "## Experimental configuration"
   ]
  },
  {
   "cell_type": "code",
   "execution_count": 2,
   "metadata": {},
   "outputs": [],
   "source": [
    "geometry = 'Reflection'\n",
    "energy = 2.45\n",
    "wav = 1E-10 * (12.398/energy)\n",
    "bs_kind = None\n",
    "det_ini_angle = np.deg2rad(0)\n",
    "det_angle_step = np.deg2rad(6.5)\n",
    "incident_angle = np.deg2rad(0)\n",
    "\n",
    "#WAXS\n",
    "detector_waxs = 'Pilatus900kw'\n",
    "sdd_waxs = 277\n",
    "center_waxs = [95., 1256]\n",
    "bs_pos_waxs = [[97, 1070], [0, 0], [0, 0]]\n",
    "\n",
    "SMI_waxs = SMI_beamline.SMI_geometry(geometry = geometry,\n",
    "                                     detector = detector_waxs,\n",
    "                                     sdd = sdd_waxs,\n",
    "                                     wav = wav,\n",
    "                                     alphai = incident_angle,\n",
    "                                     center = center_waxs,\n",
    "                                     bs_pos = bs_pos_waxs,\n",
    "                                     det_ini_angle = det_ini_angle,\n",
    "                                     det_angle_step = det_angle_step,\n",
    "                                     bs_kind = bs_kind)"
   ]
  },
  {
   "cell_type": "markdown",
   "metadata": {},
   "source": [
    "## Locate the files on your computer"
   ]
  },
  {
   "cell_type": "code",
   "execution_count": 3,
   "metadata": {
    "scrolled": true
   },
   "outputs": [
    {
     "name": "stdout",
     "output_type": "stream",
     "text": [
      "LR_CD_180-Blank_pos1_2476.50eV_ai0.80_wa20_bpm67.945_id596212_000000_WAXS.tif\n",
      "LR_CD_180-Blank_pos2_2487.00eV_ai0.80_wa0_bpm68.835_id596178_000000_WAXS.tif\n",
      "LR_CD_180-Blank_pos1_2450.00eV_ai0.80_wa20_bpm65.772_id596203_000000_WAXS.tif\n",
      "LR_CD_180-Blank_pos1_2481.00eV_ai0.80_wa0_bpm67.868_id596155_000000_WAXS.tif\n",
      "calibration_AgB_id596110_000000_WAXS.tif\n",
      "LR_CD_180-Blank_pos1_2490.00eV_ai0.80_wa0_bpm68.552_id596164_000000_WAXS.tif\n",
      "LR_CD_180-Blank_pos2_2477.50eV_ai0.80_wa0_bpm68.094_id596191_000000_WAXS.tif\n",
      "LR_CD_180-Blank_pos1_2477.00eV_ai0.80_wa0_bpm67.232_id596147_000000_WAXS.tif\n",
      "LR_CD_180-Blank_pos1_2455.00eV_ai0.80_wa0_bpm65.357_id596138_000000_WAXS.tif\n",
      "LR_CD_180-Blank_pos2_2486.00eV_ai0.80_wa0_bpm68.717_id596179_000000_WAXS.tif\n",
      "LR_CD_180-Blank_pos2_2473.00eV_ai0.80_wa0_bpm68.033_id596197_000000_WAXS.tif\n",
      "LR_CD_180-Blank_pos2_2492.50eV_ai0.80_wa0_bpm69.622_id596174_000000_WAXS.tif\n",
      "LR_CD_180-Blank_pos1_2476.50eV_ai0.80_wa0_bpm66.920_id596146_000000_WAXS.tif\n",
      "LR_CD_180-Blank_pos2_2481.00eV_ai0.80_wa0_bpm68.319_id596184_000000_WAXS.tif\n",
      "LR_CD_180-Blank_pos1_2495.00eV_ai0.80_wa0_bpm68.914_id596166_000000_WAXS.tif\n",
      "LR_CD_180-Blank_pos1_2477.00eV_ai0.80_wa20_bpm67.828_id596213_000000_WAXS.tif\n",
      "LR_CD_180-Blank_pos2_2465.00eV_ai0.80_wa0_bpm67.282_id596199_000000_WAXS.tif\n",
      "LR_CD_180-Blank_pos1_2475.00eV_ai0.80_wa0_bpm66.884_id596143_000000_WAXS.tif\n",
      "LR_CD_180-Blank_pos2_2477.00eV_ai0.80_wa0_bpm68.296_id596192_000000_WAXS.tif\n",
      "LR_CD_180-Blank_pos1_2478.00eV_ai0.80_wa20_bpm67.713_id596215_000000_WAXS.tif\n",
      "LR_CD_180-Blank_pos2_2450.00eV_ai0.80_wa0_bpm66.144_id596202_000000_WAXS.tif\n",
      "LR_CD_180-Blank_pos1_2486.00eV_ai0.80_wa0_bpm67.980_id596160_000000_WAXS.tif\n",
      "LR_CD_180-Blank_pos2_2476.00eV_ai0.80_wa0_bpm68.129_id596194_000000_WAXS.tif\n",
      "LR_CD_180-Blank_pos1_2487.00eV_ai0.80_wa0_bpm68.115_id596161_000000_WAXS.tif\n",
      "LR_CD_180-Blank_pos2_2478.50eV_ai0.80_wa0_bpm68.244_id596189_000000_WAXS.tif\n",
      "LR_CD_180-Blank_pos1_2479.00eV_ai0.80_wa0_bpm67.621_id596151_000000_WAXS.tif\n",
      "LR_CD_180-Blank_pos2_2470.00eV_ai0.80_wa0_bpm67.715_id596198_000000_WAXS.tif\n",
      "LR_CD_180-Blank_pos1_2489.00eV_ai0.80_wa0_bpm68.581_id596163_000000_WAXS.tif\n",
      "LR_CD_180-Blank_pos1_2483.00eV_ai0.80_wa20_bpm67.969_id596223_000000_WAXS.tif\n",
      "LR_CD_180-Blank_pos1_2479.50eV_ai0.80_wa0_bpm67.651_id596152_000000_WAXS.tif\n",
      "LR_CD_180-Blank_pos1_2478.00eV_ai0.80_wa0_bpm67.173_id596149_000000_WAXS.tif\n",
      "LR_CD_180-Blank_pos1_2480.50eV_ai0.80_wa0_bpm67.760_id596154_000000_WAXS.tif\n",
      "LR_CD_180-Blank_pos1_2470.00eV_ai0.80_wa20_bpm67.596_id596207_000000_WAXS.tif\n",
      "LR_CD_180-Blank_pos2_2483.00eV_ai0.80_wa0_bpm68.908_id596182_000000_WAXS.tif\n",
      "LR_CD_180-Blank_pos1_2488.00eV_ai0.80_wa0_bpm68.818_id596162_000000_WAXS.tif\n",
      "LR_CD_180-Blank_pos1_2481.00eV_ai0.80_wa20_bpm67.547_id596221_000000_WAXS.tif\n",
      "calibration_AgB_id596105_000000_WAXS.tif\n",
      "LR_CD_180-Blank_pos2_2475.00eV_ai0.80_wa0_bpm68.028_id596196_000000_WAXS.tif\n",
      "LR_CD_180-Blank_pos2_2478.00eV_ai0.80_wa0_bpm68.181_id596190_000000_WAXS.tif\n",
      "LR_CD_180-Blank_pos2_2475.50eV_ai0.80_wa0_bpm68.053_id596195_000000_WAXS.tif\n",
      "LR_CD_180-Blank_pos1_2465.00eV_ai0.80_wa20_bpm66.946_id596206_000000_WAXS.tif\n",
      "calibration_AgB_id596106_000000_WAXS.tif\n",
      "calibration_AgB_id596107_000000_WAXS.tif\n",
      "LR_CD_180-Blank_pos1_2510.00eV_ai0.80_wa0_bpm70.659_id596168_000000_WAXS.tif\n",
      "LR_CD_180-Blank_pos1_2473.00eV_ai0.80_wa20_bpm67.690_id596208_000000_WAXS.tif\n",
      "LR_CD_180-Blank_pos2_2515.00eV_ai0.80_wa0_bpm71.500_id596170_000000_WAXS.tif\n",
      "LR_CD_180-Blank_pos2_2495.00eV_ai0.80_wa0_bpm69.289_id596173_000000_WAXS.tif\n",
      "LR_CD_180-Blank_pos1_2483.00eV_ai0.80_wa0_bpm68.154_id596157_000000_WAXS.tif\n",
      "LR_CD_180-Blank_pos2_2485.00eV_ai0.80_wa0_bpm68.691_id596180_000000_WAXS.tif\n",
      "LR_CD_180-Blank_pos1_2479.50eV_ai0.80_wa20_bpm67.572_id596218_000000_WAXS.tif\n",
      "LR_CD_180-Blank_pos1_2485.00eV_ai0.80_wa0_bpm68.106_id596159_000000_WAXS.tif\n",
      "LR_CD_180-Blank_pos1_2460.00eV_ai0.80_wa20_bpm66.220_id596205_000000_WAXS.tif\n",
      "LR_CD_180-Blank_pos2_2479.00eV_ai0.80_wa0_bpm68.489_id596188_000000_WAXS.tif\n",
      "LR_CD_180-Blank_pos1_2476.00eV_ai0.80_wa20_bpm68.177_id596211_000000_WAXS.tif\n",
      "LR_CD_180-Blank_pos1_2470.00eV_ai0.80_wa0_bpm66.605_id596141_000000_WAXS.tif\n",
      "LR_CD_180-Blank_pos1_2475.00eV_ai0.80_wa20_bpm67.689_id596209_000000_WAXS.tif\n",
      "LR_CD_180-Blank_pos2_2460.00eV_ai0.80_wa0_bpm66.645_id596200_000000_WAXS.tif\n",
      "LR_CD_180-Blank_pos1_2455.00eV_ai0.80_wa20_bpm65.951_id596204_000000_WAXS.tif\n",
      "LR_CD_180-Blank_pos2_2480.00eV_ai0.80_wa0_bpm68.644_id596186_000000_WAXS.tif\n",
      "LR_CD_180-Blank_pos2_2482.00eV_ai0.80_wa0_bpm68.732_id596183_000000_WAXS.tif\n",
      "calibration_AgB_id596109_000000_WAXS.tif\n",
      "LR_CD_180-Blank_pos1_2480.50eV_ai0.80_wa20_bpm67.449_id596220_000000_WAXS.tif\n",
      "LR_CD_180-Blank_pos1_2477.50eV_ai0.80_wa0_bpm66.971_id596148_000000_WAXS.tif\n",
      "LR_CD_180-Blank_pos1_2478.50eV_ai0.80_wa0_bpm67.649_id596150_000000_WAXS.tif\n",
      "LR_CD_180-Blank_pos1_2500.00eV_ai0.80_wa0_bpm69.788_id596167_000000_WAXS.tif\n",
      "LR_CD_180-Blank_pos1_2480.00eV_ai0.80_wa0_bpm67.859_id596153_000000_WAXS.tif\n",
      "LR_CD_180-Blank_pos2_2484.00eV_ai0.80_wa0_bpm68.713_id596181_000000_WAXS.tif\n",
      "LR_CD_180-Blank_pos1_2476.00eV_ai0.80_wa0_bpm67.057_id596145_000000_WAXS.tif\n",
      "LR_CD_180-Blank_pos1_2492.50eV_ai0.80_wa0_bpm68.908_id596165_000000_WAXS.tif\n",
      "LR_CD_180-Blank_pos2_2500.00eV_ai0.80_wa0_bpm69.937_id596172_000000_WAXS.tif\n",
      "LR_CD_180-Blank_pos2_2489.00eV_ai0.80_wa0_bpm68.968_id596176_000000_WAXS.tif\n",
      "LR_CD_180-Blank_pos1_2473.00eV_ai0.80_wa0_bpm66.930_id596142_000000_WAXS.tif\n",
      "LR_CD_180-Blank_pos2_2480.50eV_ai0.80_wa0_bpm68.492_id596185_000000_WAXS.tif\n",
      "LR_CD_180-Blank_pos1_2475.50eV_ai0.80_wa0_bpm66.882_id596144_000000_WAXS.tif\n",
      "LR_CD_180-Blank_pos1_2478.50eV_ai0.80_wa20_bpm67.338_id596216_000000_WAXS.tif\n",
      "LR_CD_180-Blank_pos1_2475.50eV_ai0.80_wa20_bpm67.924_id596210_000000_WAXS.tif\n",
      "LR_CD_180-Blank_pos2_2455.00eV_ai0.80_wa0_bpm66.365_id596201_000000_WAXS.tif\n",
      "LR_CD_180-Blank_pos2_2510.00eV_ai0.80_wa0_bpm71.129_id596171_000000_WAXS.tif\n",
      "LR_CD_180-Blank_pos1_2482.00eV_ai0.80_wa0_bpm67.946_id596156_000000_WAXS.tif\n",
      "LR_CD_180-Blank_pos1_2480.00eV_ai0.80_wa20_bpm67.441_id596219_000000_WAXS.tif\n",
      "LR_CD_180-Blank_pos1_2479.00eV_ai0.80_wa20_bpm67.409_id596217_000000_WAXS.tif\n",
      "LR_CD_180-Blank_pos1_2465.00eV_ai0.80_wa0_bpm66.173_id596140_000000_WAXS.tif\n",
      "LR_CD_180-Blank_pos2_2488.00eV_ai0.80_wa0_bpm68.762_id596177_000000_WAXS.tif\n",
      "LR_CD_180-Blank_pos1_2484.00eV_ai0.80_wa0_bpm68.048_id596158_000000_WAXS.tif\n",
      "LR_CD_180-Blank_pos2_2476.50eV_ai0.80_wa0_bpm68.236_id596193_000000_WAXS.tif\n",
      "LR_CD_180-Blank_pos1_2515.00eV_ai0.80_wa0_bpm71.234_id596169_000000_WAXS.tif\n",
      "LR_CD_180-Blank_pos1_2460.00eV_ai0.80_wa0_bpm65.646_id596139_000000_WAXS.tif\n",
      "calibration_AgB_id596108_000000_WAXS.tif\n",
      "LR_CD_180-Blank_pos2_2479.50eV_ai0.80_wa0_bpm68.536_id596187_000000_WAXS.tif\n",
      "LR_CD_180-Blank_pos2_2490.00eV_ai0.80_wa0_bpm69.288_id596175_000000_WAXS.tif\n",
      "LR_CD_180-Blank_pos1_2450.00eV_ai0.80_wa0_bpm65.003_id596137_000000_WAXS.tif\n",
      "LR_CD_180-Blank_pos1_2477.50eV_ai0.80_wa20_bpm67.406_id596214_000000_WAXS.tif\n",
      "LR_CD_180-Blank_pos1_2482.00eV_ai0.80_wa20_bpm67.770_id596222_000000_WAXS.tif\n",
      "102\n"
     ]
    }
   ],
   "source": [
    "CYCLE='2024_1'\n",
    "proposal_id =  '313064_Davis'\n",
    "\n",
    "path = '/nsls2/data/smi/legacy/results/data/%s/%s/900KW/'%(CYCLE, proposal_id)\n",
    "\n",
    "filelist=os.listdir(path)\n",
    "for file in filelist:\n",
    "    if 'test' not in file:\n",
    "        print(file)\n",
    "print(len(filelist))"
   ]
  },
  {
   "cell_type": "code",
   "execution_count": 4,
   "metadata": {
    "scrolled": true
   },
   "outputs": [
    {
     "name": "stdout",
     "output_type": "stream",
     "text": [
      "['LR_CD_180-Blank_pos1_2476.50eV_ai0.80_', 'LR_CD_180-Blank_pos1_2450.00eV_ai0.80_', 'LR_CD_180-Blank_pos1_2477.00eV_ai0.80_', 'LR_CD_180-Blank_pos1_2478.00eV_ai0.80_', 'LR_CD_180-Blank_pos1_2483.00eV_ai0.80_', 'LR_CD_180-Blank_pos1_2470.00eV_ai0.80_', 'LR_CD_180-Blank_pos1_2481.00eV_ai0.80_', 'LR_CD_180-Blank_pos1_2465.00eV_ai0.80_', 'LR_CD_180-Blank_pos1_2473.00eV_ai0.80_', 'LR_CD_180-Blank_pos1_2479.50eV_ai0.80_', 'LR_CD_180-Blank_pos1_2460.00eV_ai0.80_', 'LR_CD_180-Blank_pos1_2476.00eV_ai0.80_', 'LR_CD_180-Blank_pos1_2475.00eV_ai0.80_', 'LR_CD_180-Blank_pos1_2484.00eV_ai0.80_', 'LR_CD_180-Blank_pos1_2455.00eV_ai0.80_', 'LR_CD_180-Blank_pos1_2480.50eV_ai0.80_', 'LR_CD_180-Blank_pos1_2485.00eV_ai0.80_', 'LR_CD_180-Blank_pos1_2478.50eV_ai0.80_', 'LR_CD_180-Blank_pos1_2475.50eV_ai0.80_', 'LR_CD_180-Blank_pos1_2480.00eV_ai0.80_', 'LR_CD_180-Blank_pos1_2479.00eV_ai0.80_', 'LR_CD_180-Blank_pos1_2486.00eV_ai0.80_', 'LR_CD_180-Blank_pos1_2477.50eV_ai0.80_', 'LR_CD_180-Blank_pos1_2482.00eV_ai0.80_']\n",
      "['LR_CD_180-Blank_pos1_2476.50eV_ai0.80_wa0_bpm66.920_id596146_000000_WAXS.tif', 'LR_CD_180-Blank_pos1_2476.50eV_ai0.80_wa20_bpm67.945_id596212_000000_WAXS.tif']\n",
      "['LR_CD_180-Blank_pos1_2476.50eV_ai0.80_wa0_bpm66.920_id596146_000000_WAXS.tif', 'LR_CD_180-Blank_pos1_2476.50eV_ai0.80_wa20_bpm67.945_id596212_000000_WAXS.tif']\n"
     ]
    }
   ],
   "source": [
    "#waxs\n",
    "path = '/nsls2/data/smi/legacy/results/data/%s/%s/900KW/'%(CYCLE, proposal_id)\n",
    "ResDir = '/nsls2/data/smi/legacy/results/analysis/%s/%s/reduced_giwaxs/'%(CYCLE, proposal_id)\n",
    "\n",
    "\n",
    "sam = []\n",
    "for file in os.listdir(path):\n",
    "     if 'wa20' in file and 'test' not in file and 'num' not in file:\n",
    "        idx1 = file.find('wa20')\n",
    "        if file[:idx1] not in sam:\n",
    "            sam = sam + [file[:idx1]]\n",
    "\n",
    "print(sam)\n",
    "\n",
    "all_dat = [[]] * len(sam)\n",
    "all_da = [[]] * len(sam)\n",
    "    \n",
    "for j, sa in enumerate(sam): \n",
    "    for file in sorted(os.listdir(path)):\n",
    "        if sa in file and 'tif' in file and 'num' not in file:\n",
    "            all_dat[j] = all_dat[j] + [file]\n",
    "            \n",
    "print(all_dat[0])\n",
    "    \n",
    "for i, all_d in enumerate(all_dat):\n",
    "    for wa in ['wa0', 'wa20']:\n",
    "        for dat in all_d:\n",
    "            if wa in dat:\n",
    "                all_da[i] = all_da[i] + [dat]\n",
    " \n",
    "print(all_da[0])"
   ]
  },
  {
   "cell_type": "code",
   "execution_count": 5,
   "metadata": {},
   "outputs": [
    {
     "data": {
      "text/plain": [
       "621.0"
      ]
     },
     "execution_count": 5,
     "metadata": {},
     "output_type": "execute_result"
    }
   ],
   "source": [
    "len(all_da)/2"
   ]
  },
  {
   "cell_type": "markdown",
   "metadata": {},
   "source": [
    "## Data stitching and reduction (all this part is done using SMI_beamline package)"
   ]
  },
  {
   "cell_type": "code",
   "execution_count": 5,
   "metadata": {
    "scrolled": false
   },
   "outputs": [
    {
     "ename": "IndexError",
     "evalue": "list index out of range",
     "output_type": "error",
     "traceback": [
      "\u001b[0;31m---------------------------------------------------------------------------\u001b[0m",
      "\u001b[0;31mIndexError\u001b[0m                                Traceback (most recent call last)",
      "\u001b[0;32m<ipython-input-5-90eef02daf2d>\u001b[0m in \u001b[0;36m<module>\u001b[0;34m\u001b[0m\n\u001b[1;32m      2\u001b[0m \u001b[0mflag_save\u001b[0m \u001b[0;34m=\u001b[0m \u001b[0;32mTrue\u001b[0m\u001b[0;34m\u001b[0m\u001b[0;34m\u001b[0m\u001b[0m\n\u001b[1;32m      3\u001b[0m \u001b[0;34m\u001b[0m\u001b[0m\n\u001b[0;32m----> 4\u001b[0;31m \u001b[0;32mfor\u001b[0m \u001b[0mj\u001b[0m\u001b[0;34m,\u001b[0m \u001b[0mdat\u001b[0m \u001b[0;32min\u001b[0m \u001b[0menumerate\u001b[0m\u001b[0;34m(\u001b[0m\u001b[0;34m[\u001b[0m\u001b[0mall_da\u001b[0m\u001b[0;34m[\u001b[0m\u001b[0;36m50\u001b[0m\u001b[0;34m]\u001b[0m\u001b[0;34m]\u001b[0m\u001b[0;34m)\u001b[0m\u001b[0;34m:\u001b[0m\u001b[0;34m\u001b[0m\u001b[0;34m\u001b[0m\u001b[0m\n\u001b[0m\u001b[1;32m      5\u001b[0m         \u001b[0midx\u001b[0m \u001b[0;34m=\u001b[0m \u001b[0mdat\u001b[0m\u001b[0;34m[\u001b[0m\u001b[0;36m0\u001b[0m\u001b[0;34m]\u001b[0m\u001b[0;34m.\u001b[0m\u001b[0mfind\u001b[0m\u001b[0;34m(\u001b[0m\u001b[0;34m'eV'\u001b[0m\u001b[0;34m)\u001b[0m\u001b[0;34m\u001b[0m\u001b[0;34m\u001b[0m\u001b[0m\n\u001b[1;32m      6\u001b[0m         \u001b[0menergy\u001b[0m \u001b[0;34m=\u001b[0m \u001b[0;36m0.001\u001b[0m \u001b[0;34m*\u001b[0m \u001b[0mfloat\u001b[0m\u001b[0;34m(\u001b[0m\u001b[0mdat\u001b[0m\u001b[0;34m[\u001b[0m\u001b[0;36m0\u001b[0m\u001b[0;34m]\u001b[0m\u001b[0;34m[\u001b[0m\u001b[0midx\u001b[0m\u001b[0;34m-\u001b[0m\u001b[0;36m7\u001b[0m\u001b[0;34m:\u001b[0m\u001b[0midx\u001b[0m\u001b[0;34m]\u001b[0m\u001b[0;34m)\u001b[0m\u001b[0;34m\u001b[0m\u001b[0;34m\u001b[0m\u001b[0m\n",
      "\u001b[0;31mIndexError\u001b[0m: list index out of range"
     ]
    }
   ],
   "source": [
    "#waxs\n",
    "flag_save = True\n",
    "\n",
    "for j, dat in enumerate([all_da[50]]):\n",
    "        idx = dat[0].find('eV')\n",
    "        energy = 0.001 * float(dat[0][idx-7:idx])\n",
    "        wav = 1E-10 * (12.398/energy)\n",
    "           \n",
    "        waxs_angle = []\n",
    "        for da in dat:  \n",
    "            idx2 = da.find('wa')\n",
    "            idx3 = da.find('_bpm')\n",
    "            waxs_angle = waxs_angle + [np.deg2rad(float(da[idx2+2:idx3]))]\n",
    "            \n",
    "        alphai=np.deg2rad(0.8)\n",
    "            \n",
    "        SMI_waxs = SMI_beamline.SMI_geometry(geometry = geometry,\n",
    "                                             detector = 'Pilatus900kw',\n",
    "                                             sdd = sdd_waxs,\n",
    "                                             wav = wav,\n",
    "                                             alphai = alphai,\n",
    "                                             center = center_waxs,\n",
    "                                             bs_pos = bs_pos_waxs,\n",
    "                                             det_angles = waxs_angle,\n",
    "                                             bs_kind = None)\n",
    "\n",
    "        SMI_waxs.open_data(path, dat)\n",
    "        \n",
    "        plt.figure()\n",
    "        for i, (img, mask) in enumerate(zip(SMI_waxs.imgs, SMI_waxs.masks)):\n",
    "            SMI_waxs.imgs[i] = (SMI_waxs.imgs[i])\n",
    "            plt.subplot(1, len(SMI_waxs.imgs), i+1)\n",
    "            plt.imshow(SMI_waxs.imgs[i]*np.logical_not(mask), vmin = 0, vmax = np.percentile(SMI_waxs.imgs[0], 99))\n",
    "        plt.show()\n",
    "\n",
    "        SMI_waxs.stitching_data(interp_factor=3)\n",
    "\n",
    "        plt.figure()\n",
    "        plt.imshow(SMI_waxs.img_st,\n",
    "                   extent=[SMI_waxs.qp[0], SMI_waxs.qp[-1], SMI_waxs.qz[0], SMI_waxs.qz[-1]], \n",
    "                   vmin=0,\n",
    "                   vmax=np.percentile(SMI_waxs.img_st, 99))    \n",
    "        plt.title('waxs_%s'%sam[j])\n",
    "        plt.xlabel('$q_{par}(A^{-1})$')\n",
    "        plt.ylabel('$q_{ver}(A^{-1})$')\n",
    "        plt.colorbar()\n",
    "        plt.show()\n",
    "\n",
    "        \n",
    "        SMI_waxs.radial_averaging(radial_range = [0, 1.3], azimuth_range=[0, 90], npt = 2000)\n",
    "        q0, I0 = SMI_waxs.q_rad, SMI_waxs.I_rad\n",
    "\n",
    "        SMI_waxs.radial_averaging(radial_range = [0, 1.3], azimuth_range=[0, 30], npt = 2000)\n",
    "        q1, I1 = SMI_waxs.q_rad, SMI_waxs.I_rad\n",
    "\n",
    "        SMI_waxs.radial_averaging(radial_range = [0, 1.3], azimuth_range=[60, 90], npt=2000)\n",
    "        q2, I2 = SMI_waxs.q_rad, SMI_waxs.I_rad\n",
    "\n",
    "        plt.figure()\n",
    "        plt.plot(q0, I0, linewidth = 3, color = 'k')\n",
    "        plt.plot(q1, I1, linewidth = 3, color = 'g')\n",
    "        plt.plot(q2, I2, linewidth = 3, color = 'r')\n",
    "#         plt.xlim(0.004, 0.9)\n",
    "#         plt.ylim(2E5, 2E9)\n",
    "\n",
    "        plt.xscale('log')\n",
    "        plt.yscale('log')\n",
    "        plt.xlabel('q (A-1)', fontsize=12)\n",
    "        plt.ylabel('Intensity (a. u)', fontsize=12)\n",
    "\n",
    "        plt.show()\n",
    "\n",
    "print('Done')"
   ]
  },
  {
   "cell_type": "code",
   "execution_count": null,
   "metadata": {},
   "outputs": [],
   "source": []
  },
  {
   "cell_type": "code",
   "execution_count": null,
   "metadata": {},
   "outputs": [],
   "source": [
    "#     if 'q_map_waxs_%s_pos%s.png'%(sam[j], sam1[j]) not in os.listdir(ResDir):"
   ]
  },
  {
   "cell_type": "code",
   "execution_count": 7,
   "metadata": {
    "scrolled": true
   },
   "outputs": [
    {
     "name": "stderr",
     "output_type": "stream",
     "text": [
      "WARNING:fabio.TiffIO:Data at tag id '65000' is smaller than expected\n",
      "WARNING:fabio.TiffIO:Data at tag id '65000' is smaller than expected\n",
      "WARNING:fabio.TiffIO:Data at tag id '65000' is smaller than expected\n",
      "WARNING:fabio.TiffIO:Data at tag id '65000' is smaller than expected\n",
      "WARNING:fabio.TiffIO:Data at tag id '65000' is smaller than expected\n",
      "WARNING:fabio.TiffIO:Data at tag id '65000' is smaller than expected\n"
     ]
    },
    {
     "name": "stdout",
     "output_type": "stream",
     "text": [
      "LR_LiTFSI_PEDOTPSS_RbBr_pos1_2473.00eV_ai0.80_wa0_bpm109.493_id24184_000000_WAXS.tif\n",
      "LR_AcidPEDOTPSS_RbBr_pos1_2477.00eV_ai0.80_wa0_bpm109.301_id22607_000000_WAXS.tif\n",
      "LR_AcidPEDOTPSS_exposed_pos2_2479.50eV_ai0.80_wa0_bpm12.827_id21844_000000_WAXS.tif\n",
      "LR_LiTFSI_PEDOTPSS_RbBr_pos2_2475.50eV_ai0.80_wa0_bpm12.713_id24225_000000_WAXS.tif\n",
      "LR_AcidPEDOTPSS_overdope_p0p6_pos2_2478.50eV_ai0.80_wa0_bpm12.720_id22185_000000_WAXS.tif\n",
      "LR_P3MEEMT23k115C_0p4_KTFSI_pos1_2480.00eV_ai0.80_wa0_bpm109.811_id23178_000000_WAXS.tif\n",
      "LR_AcidPEDOTPSS_as_pos2_2483.00eV_ai0.80_wa0_bpm12.904_id21728_000000_WAXS.tif\n",
      "LR_StandardPEDOTPSS_as_pos1_2450.00eV_ai0.80_wa0_bpm111.579_id22710_000000_WAXS.tif\n",
      "LR_AcidPEDOTPSS_NaCl_pos2_2475.00eV_ai0.80_wa0_bpm12.742_id22305_000000_WAXS.tif\n",
      "LR_AcidPEDOTPSS_RbBr_pos2_2476.50eV_ai0.80_wa0_bpm12.689_id22641_000000_WAXS.tif\n",
      "LR_AcidPEDOTPSS_0V_pos2_2476.50eV_ai0.80_wa0_bpm12.769_id21963_000000_WAXS.tif\n",
      "LR_AcidPEDOTPSS_exposed_pos1_2477.00eV_ai0.80_wa0_bpm109.970_id21816_000000_WAXS.tif\n",
      "LR_StandardPEDOTPSS_NaBr_pos1_2510.00eV_ai0.80_wa0_bpm109.874_id22961_000000_WAXS.tif\n",
      "LR_P3MEEMT23k115C_0p4_KTFSI_pos1_2515.00eV_ai0.80_wa0_bpm110.035_id23188_000000_WAXS.tif\n",
      "LR_AcidPEDOTPSS_as_pos2_2475.50eV_ai0.80_wa0_bpm12.803_id21739_000000_WAXS.tif\n",
      "LR_AcidPEDOTPSS_0V_pos2_2510.00eV_ai0.80_wa0_bpm13.455_id21947_000000_WAXS.tif\n",
      "LR_LiTFSI_PEDOTPSS_exposed_pos2_2487.50eV_ai0.80_wa0_bpm12.888_id23647_000000_WAXS.tif\n",
      "LR_StandardPEDOTPSS_NaBr_pos1_2515.00eV_ai0.80_wa0_bpm110.332_id22962_000000_WAXS.tif\n",
      "LR_LiTFSI_PEDOTPSS_overdoped_p0p6V_pos2_2495.00eV_ai0.80_wa0_bpm13.116_id24096_000000_WAXS.tif\n",
      "LR_RivnayFrit_P3MEEET_drop_pos1_2479.50eV_ai0.80_wa0_bpm109.084_id23403_000000_WAXS.tif\n",
      "LR_LiTFSI_PEDOTPSS_as_pos2_2465.00eV_ai0.80_wa0_bpm12.622_id23551_000000_WAXS.tif\n",
      "LR_LiTFSI_PEDOTPSS_RbBr_pos2_2487.50eV_ai0.80_wa0_bpm12.872_id24212_000000_WAXS.tif\n",
      "LR_LiTFSI_PEDOTPSS_RbBr_pos2_2479.50eV_ai0.80_wa0_bpm12.734_id24217_000000_WAXS.tif\n",
      "LR_AcidPEDOTPSS_exposed_pos1_2492.50eV_ai0.80_wa0_bpm110.291_id21828_000000_WAXS.tif\n",
      "LR_P3MEEMT23k115C_un_pos1_2495.00eV_ai0.80_wa0_bpm109.365_id23298_000000_WAXS.tif\n",
      "LR_AcidPEDOTPSS_dedope_n0p6_pos1_2478.50eV_ai0.80_wa0_bpm110.255_id22045_000000_WAXS.tif\n",
      "LR_LiTFSI_PEDOTPSS_RbBr_pos2_2480.00eV_ai0.80_wa0_bpm12.735_id24216_000000_WAXS.tif\n",
      "LR_AcidPEDOTPSS_0V_pos2_2483.00eV_ai0.80_wa0_bpm12.822_id21954_000000_WAXS.tif\n",
      "LR_LiTFSI_PEDOTPSS_RbBr_pos1_2450.00eV_ai0.80_wa0_bpm111.382_id24179_000000_WAXS.tif\n",
      "LR_LiTFSI_PEDOTPSS_0V_pos1_2477.00eV_ai0.80_wa0_bpm109.604_id23737_000000_WAXS.tif\n",
      "LR_AcidPEDOTPSS_exposed_pos2_2485.00eV_ai0.80_wa0_bpm12.939_id21840_000000_WAXS.tif\n",
      "LR_LiTFSI_PEDOTPSS_as_pos1_2483.00eV_ai0.80_wa0_bpm109.338_id23519_000000_WAXS.tif\n",
      "LR_AcidPEDOTPSS_as_pos1_2515.00eV_ai0.80_wa0_bpm111.321_id21719_000000_WAXS.tif\n",
      "LR_LiTFSI_PEDOTPSS_exposed_pos2_2480.50eV_ai0.80_wa0_bpm12.760_id23650_000000_WAXS.tif\n",
      "LR_P3MEEMT23k115C_un_pos1_2477.50eV_ai0.80_wa0_bpm108.891_id23286_000000_WAXS.tif\n",
      "LR_AcidPEDOTPSS_exposed_pos2_2455.00eV_ai0.80_wa0_bpm12.667_id21858_000000_WAXS.tif\n",
      "LR_StandardPEDOTPSS_RbBr_pos2_2450.00eV_ai0.80_wa0_bpm12.613_id22876_000000_WAXS.tif\n",
      "LR_AcidPEDOTPSS_RbBr_pos2_2455.00eV_ai0.80_wa0_bpm12.602_id22649_000000_WAXS.tif\n",
      "LR_AcidPEDOTPSS_exposed_pos1_2478.00eV_ai0.80_wa0_bpm109.835_id21818_000000_WAXS.tif\n",
      "LR_P3MEEMT23k115C_un_pos2_2465.00eV_ai0.80_wa0_bpm12.591_id23325_000000_WAXS.tif\n",
      "LR_P3MEEMT23k115C_un_pos1_2490.00eV_ai0.80_wa0_bpm109.485_id23296_000000_WAXS.tif\n",
      "LR_P3MEEMT23k115C_un_pos1_2485.00eV_ai0.80_wa0_bpm109.386_id23294_000000_WAXS.tif\n",
      "LR_StandardPEDOTPSS_NaBr_pos2_2455.00eV_ai0.80_wa0_bpm12.613_id22988_000000_WAXS.tif\n",
      "LR_LiTFSI_PEDOTPSS_exposed_pos1_2475.50eV_ai0.80_wa0_bpm109.645_id23621_000000_WAXS.tif\n",
      "LR_StandardPEDOTPSS_as_pos2_2477.50eV_ai0.80_wa0_bpm12.681_id22752_000000_WAXS.tif\n",
      "LR_AcidPEDOTPSS_NaBr_pos1_2480.50eV_ai0.80_wa0_bpm110.189_id22388_000000_WAXS.tif\n",
      "LR_LiTFSI_PEDOTPSS_overdoped_p0p6V_pos2_2476.50eV_ai0.80_wa0_bpm12.742_id24110_000000_WAXS.tif\n",
      "LR_AcidPEDOTPSS_NaBr_pos1_2495.00eV_ai0.80_wa0_bpm110.148_id22394_000000_WAXS.tif\n",
      "LR_AcidPEDOTPSS_0V_pos2_2480.50eV_ai0.80_wa0_bpm12.832_id21955_000000_WAXS.tif\n",
      "LR_LiTFSI_PEDOTPSS_redoped_0V_pos1_2475.00eV_ai0.80_wa0_bpm109.455_id23959_000000_WAXS.tif\n",
      "LR_AcidPEDOTPSS_NaBr_pos1_2477.50eV_ai0.80_wa0_bpm109.991_id22382_000000_WAXS.tif\n",
      "LR_StandardPEDOTPSS_RbBr_pos2_2500.00eV_ai0.80_wa0_bpm13.176_id22852_000000_WAXS.tif\n",
      "LR_RivnayFrit_P3MEEET_drop_pos1_2477.00eV_ai0.80_wa0_bpm109.214_id23398_000000_WAXS.tif\n",
      "LR_AcidPEDOTPSS_NaBr_pos2_2470.00eV_ai0.80_wa0_bpm12.699_id22420_000000_WAXS.tif\n",
      "LR_AcidPEDOTPSS_RbBr_pos1_2478.00eV_ai0.80_wa0_bpm109.804_id22609_000000_WAXS.tif\n",
      "LR_LiTFSI_PEDOTPSS_0V_pos1_2479.00eV_ai0.80_wa0_bpm109.746_id23741_000000_WAXS.tif\n",
      "LR_P3MEEMT23k115C_0p7_KTFSI_pos2_2450.00eV_ai0.80_wa0_bpm12.610_id23102_000000_WAXS.tif\n",
      "LR_P3MEEMT23k115C_un_pos1_2479.50eV_ai0.80_wa0_bpm109.351_id23290_000000_WAXS.tif\n",
      "LR_AcidPEDOTPSS_NaBr_pos1_2478.50eV_ai0.80_wa0_bpm109.878_id22384_000000_WAXS.tif\n",
      "LR_AcidPEDOTPSS_overdope_p0p6_pos2_2450.00eV_ai0.80_wa0_bpm12.554_id22198_000000_WAXS.tif\n",
      "LR_AcidPEDOTPSS_NaBr_pos2_2450.00eV_ai0.80_wa0_bpm12.628_id22424_000000_WAXS.tif\n",
      "LR_LiTFSI_PEDOTPSS_redoped_0V_pos1_2492.50eV_ai0.80_wa0_bpm109.743_id23975_000000_WAXS.tif\n",
      "LR_StandardPEDOTPSS_as_pos2_2460.00eV_ai0.80_wa0_bpm12.598_id22761_000000_WAXS.tif\n",
      "LR_AcidPEDOTPSS_as_pos1_2478.50eV_ai0.80_wa0_bpm110.211_id21706_000000_WAXS.tif\n",
      "LR_AcidPEDOTPSS_overdope_p0p6_pos1_2479.00eV_ai0.80_wa0_bpm110.429_id22159_000000_WAXS.tif\n",
      "LR_StandardPEDOTPSS_as_pos1_2470.00eV_ai0.80_wa0_bpm109.782_id22714_000000_WAXS.tif\n",
      "LR_P3MEEMT23k115C_0p4_KTFSI_pos1_2473.00eV_ai0.80_wa0_bpm109.787_id23167_000000_WAXS.tif\n",
      "LR_LiTFSI_PEDOTPSS_redoped_0V_pos2_2479.50eV_ai0.80_wa0_bpm12.743_id23991_000000_WAXS.tif\n",
      "LR_LiTFSI_PEDOTPSS_exposed_pos1_2473.00eV_ai0.80_wa0_bpm109.558_id23619_000000_WAXS.tif\n",
      "LR_AcidPEDOTPSS_0V_pos2_2515.00eV_ai0.80_wa0_bpm13.507_id21946_000000_WAXS.tif\n",
      "LR_AcidPEDOTPSS_NaCl_pos1_2455.00eV_ai0.80_wa0_bpm110.696_id22259_000000_WAXS.tif\n",
      "LR_LiTFSI_PEDOTPSS_as_pos2_2510.00eV_ai0.80_wa0_bpm13.417_id23529_000000_WAXS.tif\n",
      "LR_StandardPEDOTPSS_NaBr_pos2_2487.50eV_ai0.80_wa0_bpm12.866_id22969_000000_WAXS.tif\n",
      "LR_LiTFSI_PEDOTPSS_0V_pos1_2476.50eV_ai0.80_wa0_bpm109.561_id23736_000000_WAXS.tif\n",
      "LR_AcidPEDOTPSS_0V_pos2_2477.50eV_ai0.80_wa0_bpm12.768_id21961_000000_WAXS.tif\n",
      "LR_LiTFSI_PEDOTPSS_as_pos2_2478.00eV_ai0.80_wa0_bpm12.704_id23542_000000_WAXS.tif\n",
      "LR_StandardPEDOTPSS_RbBr_pos1_2475.50eV_ai0.80_wa0_bpm109.329_id22830_000000_WAXS.tif\n",
      "LR_LiTFSI_PEDOTPSS_dedoped_n0p6_pos2_2470.00eV_ai0.80_wa0_bpm12.624_id23889_000000_WAXS.tif\n",
      "LR_StandardPEDOTPSS_as_pos2_2475.00eV_ai0.80_wa0_bpm12.694_id22757_000000_WAXS.tif\n",
      "LR_P3MEEMT23k115C_0p4_KTFSI_pos1_2510.00eV_ai0.80_wa0_bpm109.936_id23187_000000_WAXS.tif\n",
      "LR_AcidPEDOTPSS_overdope_p0p6_pos2_2478.00eV_ai0.80_wa0_bpm12.741_id22186_000000_WAXS.tif\n",
      "LR_LiTFSI_PEDOTPSS_redoped_0V_pos1_2483.00eV_ai0.80_wa0_bpm109.422_id23971_000000_WAXS.tif\n",
      "LR_LiTFSI_PEDOTPSS_overdoped_p0p6V_pos2_2492.50eV_ai0.80_wa0_bpm13.042_id24097_000000_WAXS.tif\n",
      "LR_StandardPEDOTPSS_RbBr_pos2_2477.50eV_ai0.80_wa0_bpm12.723_id22865_000000_WAXS.tif\n",
      "LR_LiTFSI_PEDOTPSS_overdoped_p0p6V_pos1_2455.00eV_ai0.80_wa0_bpm110.121_id24067_000000_WAXS.tif\n",
      "LR_LiTFSI_PEDOTPSS_as_pos2_2480.50eV_ai0.80_wa0_bpm12.755_id23537_000000_WAXS.tif\n",
      "LR_P3MEEMT23k115C_0p4_KTFSI_pos2_2470.00eV_ai0.80_wa0_bpm12.679_id23211_000000_WAXS.tif\n",
      "LR_AcidPEDOTPSS_overdope_p0p6_pos2_2476.00eV_ai0.80_wa0_bpm12.697_id22190_000000_WAXS.tif\n",
      "LR_P3MEEMT23k115C_un_pos2_2477.00eV_ai0.80_wa0_bpm12.663_id23318_000000_WAXS.tif\n",
      "LR_P3MEEMT23k115C_0p7_KTFSI_pos1_2515.00eV_ai0.80_wa0_bpm109.957_id23075_000000_WAXS.tif\n",
      "LR_AcidPEDOTPSS_dedope_n0p6_pos1_2460.00eV_ai0.80_wa0_bpm110.257_id22034_000000_WAXS.tif\n",
      "LR_AcidPEDOTPSS_RbCl_pos2_2470.00eV_ai0.80_wa0_bpm12.682_id22533_000000_WAXS.tif\n",
      "LR_AcidPEDOTPSS_0V_pos1_2476.00eV_ai0.80_wa0_bpm110.053_id21927_000000_WAXS.tif\n",
      "LR_AcidPEDOTPSS_dedope_n0p6_pos1_2480.50eV_ai0.80_wa0_bpm110.312_id22049_000000_WAXS.tif\n",
      "LR_AcidPEDOTPSS_NaBr_pos1_2487.50eV_ai0.80_wa0_bpm109.959_id22391_000000_WAXS.tif\n",
      "LR_AcidPEDOTPSS_exposed_pos2_2476.50eV_ai0.80_wa0_bpm12.763_id21850_000000_WAXS.tif\n",
      "LR_StandardPEDOTPSS_RbBr_pos2_2476.00eV_ai0.80_wa0_bpm12.726_id22868_000000_WAXS.tif\n",
      "LR_AcidPEDOTPSS_as_pos1_2483.00eV_ai0.80_wa0_bpm110.900_id21711_000000_WAXS.tif\n",
      "LR_LiTFSI_PEDOTPSS_0V_pos1_2470.00eV_ai0.80_wa0_bpm109.992_id23731_000000_WAXS.tif\n",
      "LR_P3MEEMT23k115C_un_pos1_2478.00eV_ai0.80_wa0_bpm109.322_id23287_000000_WAXS.tif\n",
      "LR_StandardPEDOTPSS_NaBr_pos2_2480.50eV_ai0.80_wa0_bpm12.731_id22972_000000_WAXS.tif\n",
      "LR_StandardPEDOTPSS_as_pos2_2479.50eV_ai0.80_wa0_bpm12.746_id22748_000000_WAXS.tif\n",
      "LR_AcidPEDOTPSS_overdope_p0p6_pos1_2483.00eV_ai0.80_wa0_bpm110.098_id22163_000000_WAXS.tif\n",
      "LR_AcidPEDOTPSS_dedope_n0p6_pos1_2492.50eV_ai0.80_wa0_bpm110.259_id22054_000000_WAXS.tif\n",
      "LR_LiTFSI_PEDOTPSS_0V_pos2_2475.50eV_ai0.80_wa0_bpm12.721_id23773_000000_WAXS.tif\n",
      "LR_P3MEEMT23k115C_0p4_KTFSI_pos2_2483.00eV_ai0.80_wa0_bpm12.793_id23197_000000_WAXS.tif\n",
      "LR_LiTFSI_PEDOTPSS_as_pos1_2465.00eV_ai0.80_wa0_bpm109.699_id23504_000000_WAXS.tif\n",
      "LR_AcidPEDOTPSS_NaBr_pos2_2480.50eV_ai0.80_wa0_bpm12.823_id22407_000000_WAXS.tif\n",
      "LR_LiTFSI_PEDOTPSS_dedoped_n0p6_pos2_2478.50eV_ai0.80_wa0_bpm12.672_id23880_000000_WAXS.tif\n",
      "LR_AcidPEDOTPSS_RbCl_pos1_2478.00eV_ai0.80_wa0_bpm109.970_id22496_000000_WAXS.tif\n",
      "LR_AcidPEDOTPSS_NaCl_pos2_2485.00eV_ai0.80_wa0_bpm12.909_id22292_000000_WAXS.tif\n",
      "LR_P3MEEMT23k115C_0p7_KTFSI_pos1_2480.00eV_ai0.80_wa0_bpm109.435_id23065_000000_WAXS.tif\n",
      "LR_P3MEEMT23k115C_0p4_KTFSI_pos2_2510.00eV_ai0.80_wa0_bpm13.388_id23190_000000_WAXS.tif\n",
      "LR_LiTFSI_PEDOTPSS_RbBr_pos1_2487.50eV_ai0.80_wa0_bpm109.475_id24199_000000_WAXS.tif\n",
      "LR_AcidPEDOTPSS_exposed_pos1_2480.00eV_ai0.80_wa0_bpm110.256_id21822_000000_WAXS.tif\n",
      "LR_AcidPEDOTPSS_NaCl_pos2_2476.50eV_ai0.80_wa0_bpm12.747_id22302_000000_WAXS.tif\n",
      "LR_P3MEEMT23k115C_0p4_KTFSI_pos1_2490.00eV_ai0.80_wa0_bpm109.820_id23183_000000_WAXS.tif\n",
      "LR_LiTFSI_PEDOTPSS_dedoped_n0p6_pos2_2478.00eV_ai0.80_wa0_bpm12.663_id23881_000000_WAXS.tif\n",
      "LR_StandardPEDOTPSS_RbBr_pos2_2465.00eV_ai0.80_wa0_bpm12.644_id22873_000000_WAXS.tif\n",
      "LR_AcidPEDOTPSS_as_pos2_2480.00eV_ai0.80_wa0_bpm12.848_id21730_000000_WAXS.tif\n",
      "LR_AcidPEDOTPSS_RbBr_pos2_2480.00eV_ai0.80_wa0_bpm12.744_id22634_000000_WAXS.tif\n",
      "LR_LiTFSI_PEDOTPSS_redoped_0V_pos1_2450.00eV_ai0.80_wa0_bpm111.550_id23953_000000_WAXS.tif\n",
      "LR_AcidPEDOTPSS_exposed_pos1_2479.50eV_ai0.80_wa0_bpm110.291_id21821_000000_WAXS.tif\n",
      "LR_AcidPEDOTPSS_RbBr_pos2_2465.00eV_ai0.80_wa0_bpm12.609_id22647_000000_WAXS.tif\n",
      "LR_LiTFSI_PEDOTPSS_redoped_0V_pos2_2460.00eV_ai0.80_wa0_bpm12.614_id24004_000000_WAXS.tif\n",
      "LR_LiTFSI_PEDOTPSS_RbBr_pos1_2475.50eV_ai0.80_wa0_bpm109.442_id24186_000000_WAXS.tif\n",
      "LR_LiTFSI_PEDOTPSS_exposed_pos2_2510.00eV_ai0.80_wa0_bpm13.409_id23642_000000_WAXS.tif\n",
      "LR_P3MEEMT23k115C_un_pos2_2480.50eV_ai0.80_wa0_bpm12.729_id23311_000000_WAXS.tif\n",
      "LR_AcidPEDOTPSS_exposed_pos1_2495.00eV_ai0.80_wa0_bpm110.308_id21829_000000_WAXS.tif\n",
      "LR_LiTFSI_PEDOTPSS_0V_pos2_2479.00eV_ai0.80_wa0_bpm12.730_id23766_000000_WAXS.tif\n",
      "LR_AcidPEDOTPSS_as_pos1_2480.50eV_ai0.80_wa0_bpm110.808_id21710_000000_WAXS.tif\n",
      "LR_LiTFSI_PEDOTPSS_dedoped_n0p6_pos1_2487.50eV_ai0.80_wa0_bpm109.722_id23860_000000_WAXS.tif\n",
      "LR_AcidPEDOTPSS_0V_pos1_2473.00eV_ai0.80_wa0_bpm110.027_id21924_000000_WAXS.tif\n",
      "LR_AcidPEDOTPSS_RbCl_pos1_2500.00eV_ai0.80_wa0_bpm109.933_id22508_000000_WAXS.tif\n",
      "LR_LiTFSI_PEDOTPSS_exposed_pos1_2477.50eV_ai0.80_wa0_bpm109.512_id23625_000000_WAXS.tif\n",
      "LR_AcidPEDOTPSS_NaBr_pos2_2460.00eV_ai0.80_wa0_bpm12.655_id22422_000000_WAXS.tif\n",
      "LR_AcidPEDOTPSS_dedope_n0p6_pos2_2477.00eV_ai0.80_wa0_bpm12.738_id22075_000000_WAXS.tif\n",
      "LR_StandardPEDOTPSS_as_pos1_2477.50eV_ai0.80_wa0_bpm109.406_id22721_000000_WAXS.tif\n",
      "LR_StandardPEDOTPSS_NaBr_pos2_2450.00eV_ai0.80_wa0_bpm12.576_id22989_000000_WAXS.tif\n",
      "LR_AcidPEDOTPSS_overdope_p0p6_pos1_2477.50eV_ai0.80_wa0_bpm110.085_id22156_000000_WAXS.tif\n",
      "LR_RivnayFrit_P3MEEET_drop_pos1_2470.00eV_ai0.80_wa0_bpm109.410_id23392_000000_WAXS.tif\n",
      "LR_LiTFSI_PEDOTPSS_exposed_pos2_2460.00eV_ai0.80_wa0_bpm12.630_id23665_000000_WAXS.tif\n",
      "LR_P3MEEMT23k115C_0p4_KTFSI_pos1_2470.00eV_ai0.80_wa0_bpm109.748_id23166_000000_WAXS.tif\n",
      "LR_LiTFSI_PEDOTPSS_dedoped_n0p6_pos1_2492.50eV_ai0.80_wa0_bpm109.651_id23862_000000_WAXS.tif\n",
      "LR_AcidPEDOTPSS_NaBr_pos2_2479.50eV_ai0.80_wa0_bpm12.816_id22409_000000_WAXS.tif\n",
      "LR_StandardPEDOTPSS_RbBr_pos2_2515.00eV_ai0.80_wa0_bpm13.457_id22850_000000_WAXS.tif\n",
      "LR_AcidPEDOTPSS_RbBr_pos2_2495.00eV_ai0.80_wa0_bpm13.134_id22627_000000_WAXS.tif\n",
      "LR_P3MEEMT23k115C_0p7_KTFSI_pos2_2455.00eV_ai0.80_wa0_bpm12.643_id23101_000000_WAXS.tif\n",
      "LR_LiTFSI_PEDOTPSS_0V_pos1_2495.00eV_ai0.80_wa0_bpm109.856_id23750_000000_WAXS.tif\n",
      "LR_P3MEEMT23k115C_0p7_KTFSI_pos1_2476.00eV_ai0.80_wa0_bpm109.194_id23057_000000_WAXS.tif\n",
      "LR_LiTFSI_PEDOTPSS_RbBr_pos1_2470.00eV_ai0.80_wa0_bpm109.408_id24183_000000_WAXS.tif\n",
      "LR_LiTFSI_PEDOTPSS_RbBr_pos1_2492.50eV_ai0.80_wa0_bpm109.494_id24201_000000_WAXS.tif\n",
      "LR_LiTFSI_PEDOTPSS_redoped_0V_pos2_2476.00eV_ai0.80_wa0_bpm12.684_id23998_000000_WAXS.tif\n",
      "LR_AcidPEDOTPSS_dedope_n0p6_pos1_2465.00eV_ai0.80_wa0_bpm110.390_id22035_000000_WAXS.tif\n",
      "LR_LiTFSI_PEDOTPSS_as_pos2_2495.00eV_ai0.80_wa0_bpm13.100_id23531_000000_WAXS.tif\n",
      "LR_AcidPEDOTPSS_dedope_n0p6_pos2_2460.00eV_ai0.80_wa0_bpm12.666_id22083_000000_WAXS.tif\n",
      "LR_AcidPEDOTPSS_dedope_n0p6_pos1_2476.00eV_ai0.80_wa0_bpm110.132_id22040_000000_WAXS.tif\n",
      "LR_LiTFSI_PEDOTPSS_redoped_0V_pos2_2478.50eV_ai0.80_wa0_bpm12.704_id23993_000000_WAXS.tif\n",
      "LR_AcidPEDOTPSS_overdope_p0p6_pos1_2476.50eV_ai0.80_wa0_bpm109.691_id22154_000000_WAXS.tif\n",
      "LR_AcidPEDOTPSS_overdope_p0p6_pos2_2479.50eV_ai0.80_wa0_bpm12.751_id22183_000000_WAXS.tif\n",
      "LR_AcidPEDOTPSS_NaCl_pos1_2478.00eV_ai0.80_wa0_bpm109.859_id22270_000000_WAXS.tif\n",
      "LR_AcidPEDOTPSS_exposed_pos1_2479.00eV_ai0.80_wa0_bpm110.198_id21820_000000_WAXS.tif\n"
     ]
    },
    {
     "name": "stderr",
     "output_type": "stream",
     "text": [
      "WARNING:fabio.TiffIO:Data at tag id '65000' is smaller than expected\n",
      "WARNING:fabio.TiffIO:Data at tag id '65000' is smaller than expected\n",
      "WARNING:fabio.TiffIO:Data at tag id '65000' is smaller than expected\n",
      "WARNING:fabio.TiffIO:Data at tag id '65000' is smaller than expected\n",
      "WARNING:fabio.TiffIO:Data at tag id '65000' is smaller than expected\n",
      "WARNING:fabio.TiffIO:Data at tag id '65000' is smaller than expected\n"
     ]
    },
    {
     "name": "stdout",
     "output_type": "stream",
     "text": [
      "LR_AcidPEDOTPSS_as_pos1_2475.50eV_ai0.80_wa0_bpm110.236_id21700_000000_WAXS.tif\n"
     ]
    },
    {
     "name": "stderr",
     "output_type": "stream",
     "text": [
      "WARNING:fabio.TiffIO:Data at tag id '65000' is smaller than expected\n",
      "WARNING:fabio.TiffIO:Data at tag id '65000' is smaller than expected\n",
      "WARNING:fabio.TiffIO:Data at tag id '65000' is smaller than expected\n",
      "WARNING:fabio.TiffIO:Data at tag id '65000' is smaller than expected\n",
      "WARNING:fabio.TiffIO:Data at tag id '65000' is smaller than expected\n",
      "WARNING:fabio.TiffIO:Data at tag id '65000' is smaller than expected\n"
     ]
    },
    {
     "name": "stdout",
     "output_type": "stream",
     "text": [
      "LR_AcidPEDOTPSS_dedope_n0p6_pos2_2480.50eV_ai0.80_wa0_bpm12.793_id22068_000000_WAXS.tif\n"
     ]
    },
    {
     "name": "stderr",
     "output_type": "stream",
     "text": [
      "WARNING:fabio.TiffIO:Data at tag id '65000' is smaller than expected\n",
      "WARNING:fabio.TiffIO:Data at tag id '65000' is smaller than expected\n",
      "WARNING:fabio.TiffIO:Data at tag id '65000' is smaller than expected\n",
      "WARNING:fabio.TiffIO:Data at tag id '65000' is smaller than expected\n",
      "WARNING:fabio.TiffIO:Data at tag id '65000' is smaller than expected\n",
      "WARNING:fabio.TiffIO:Data at tag id '65000' is smaller than expected\n"
     ]
    },
    {
     "name": "stdout",
     "output_type": "stream",
     "text": [
      "LR_AcidPEDOTPSS_overdope_p0p6_pos1_2495.00eV_ai0.80_wa0_bpm110.080_id22168_000000_WAXS.tif\n"
     ]
    },
    {
     "name": "stderr",
     "output_type": "stream",
     "text": [
      "WARNING:fabio.TiffIO:Data at tag id '65000' is smaller than expected\n",
      "WARNING:fabio.TiffIO:Data at tag id '65000' is smaller than expected\n",
      "WARNING:fabio.TiffIO:Data at tag id '65000' is smaller than expected\n",
      "WARNING:fabio.TiffIO:Data at tag id '65000' is smaller than expected\n",
      "WARNING:fabio.TiffIO:Data at tag id '65000' is smaller than expected\n",
      "WARNING:fabio.TiffIO:Data at tag id '65000' is smaller than expected\n"
     ]
    },
    {
     "name": "stdout",
     "output_type": "stream",
     "text": [
      "LR_P3MEEMT23k115C_un_pos2_2455.00eV_ai0.80_wa0_bpm12.549_id23327_000000_WAXS.tif\n"
     ]
    },
    {
     "name": "stderr",
     "output_type": "stream",
     "text": [
      "WARNING:fabio.TiffIO:Data at tag id '65000' is smaller than expected\n",
      "WARNING:fabio.TiffIO:Data at tag id '65000' is smaller than expected\n",
      "WARNING:fabio.TiffIO:Data at tag id '65000' is smaller than expected\n",
      "WARNING:fabio.TiffIO:Data at tag id '65000' is smaller than expected\n",
      "WARNING:fabio.TiffIO:Data at tag id '65000' is smaller than expected\n",
      "WARNING:fabio.TiffIO:Data at tag id '65000' is smaller than expected\n"
     ]
    },
    {
     "name": "stdout",
     "output_type": "stream",
     "text": [
      "LR_LiTFSI_PEDOTPSS_RbBr_pos2_2495.00eV_ai0.80_wa0_bpm13.061_id24209_000000_WAXS.tif\n"
     ]
    },
    {
     "name": "stderr",
     "output_type": "stream",
     "text": [
      "WARNING:fabio.TiffIO:Data at tag id '65000' is smaller than expected\n",
      "WARNING:fabio.TiffIO:Data at tag id '65000' is smaller than expected\n",
      "WARNING:fabio.TiffIO:Data at tag id '65000' is smaller than expected\n",
      "WARNING:fabio.TiffIO:Data at tag id '65000' is smaller than expected\n",
      "WARNING:fabio.TiffIO:Data at tag id '65000' is smaller than expected\n",
      "WARNING:fabio.TiffIO:Data at tag id '65000' is smaller than expected\n"
     ]
    },
    {
     "name": "stdout",
     "output_type": "stream",
     "text": [
      "LR_LiTFSI_PEDOTPSS_overdoped_p0p6V_pos1_2483.00eV_ai0.80_wa0_bpm109.513_id24084_000000_WAXS.tif\n"
     ]
    },
    {
     "name": "stderr",
     "output_type": "stream",
     "text": [
      "WARNING:fabio.TiffIO:Data at tag id '65000' is smaller than expected\n",
      "WARNING:fabio.TiffIO:Data at tag id '65000' is smaller than expected\n",
      "WARNING:fabio.TiffIO:Data at tag id '65000' is smaller than expected\n",
      "WARNING:fabio.TiffIO:Data at tag id '65000' is smaller than expected\n",
      "WARNING:fabio.TiffIO:Data at tag id '65000' is smaller than expected\n",
      "WARNING:fabio.TiffIO:Data at tag id '65000' is smaller than expected\n"
     ]
    },
    {
     "name": "stdout",
     "output_type": "stream",
     "text": [
      "LR_LiTFSI_PEDOTPSS_redoped_0V_pos2_2487.50eV_ai0.80_wa0_bpm12.898_id23986_000000_WAXS.tif\n"
     ]
    },
    {
     "name": "stderr",
     "output_type": "stream",
     "text": [
      "WARNING:fabio.TiffIO:Data at tag id '65000' is smaller than expected\n",
      "WARNING:fabio.TiffIO:Data at tag id '65000' is smaller than expected\n",
      "WARNING:fabio.TiffIO:Data at tag id '65000' is smaller than expected\n",
      "WARNING:fabio.TiffIO:Data at tag id '65000' is smaller than expected\n",
      "WARNING:fabio.TiffIO:Data at tag id '65000' is smaller than expected\n",
      "WARNING:fabio.TiffIO:Data at tag id '65000' is smaller than expected\n"
     ]
    },
    {
     "name": "stdout",
     "output_type": "stream",
     "text": [
      "LR_AcidPEDOTPSS_as_pos2_2479.00eV_ai0.80_wa0_bpm12.827_id21732_000000_WAXS.tif\n"
     ]
    },
    {
     "name": "stderr",
     "output_type": "stream",
     "text": [
      "WARNING:fabio.TiffIO:Data at tag id '65000' is smaller than expected\n",
      "WARNING:fabio.TiffIO:Data at tag id '65000' is smaller than expected\n",
      "WARNING:fabio.TiffIO:Data at tag id '65000' is smaller than expected\n",
      "WARNING:fabio.TiffIO:Data at tag id '65000' is smaller than expected\n",
      "WARNING:fabio.TiffIO:Data at tag id '65000' is smaller than expected\n",
      "WARNING:fabio.TiffIO:Data at tag id '65000' is smaller than expected\n"
     ]
    },
    {
     "name": "stdout",
     "output_type": "stream",
     "text": [
      "LR_LiTFSI_PEDOTPSS_overdoped_p0p6V_pos2_2487.50eV_ai0.80_wa0_bpm12.931_id24099_000000_WAXS.tif\n"
     ]
    },
    {
     "name": "stderr",
     "output_type": "stream",
     "text": [
      "WARNING:fabio.TiffIO:Data at tag id '65000' is smaller than expected\n",
      "WARNING:fabio.TiffIO:Data at tag id '65000' is smaller than expected\n",
      "WARNING:fabio.TiffIO:Data at tag id '65000' is smaller than expected\n",
      "WARNING:fabio.TiffIO:Data at tag id '65000' is smaller than expected\n",
      "WARNING:fabio.TiffIO:Data at tag id '65000' is smaller than expected\n",
      "WARNING:fabio.TiffIO:Data at tag id '65000' is smaller than expected\n"
     ]
    },
    {
     "name": "stdout",
     "output_type": "stream",
     "text": [
      "LR_P3MEEMT23k115C_un_pos1_2492.50eV_ai0.80_wa0_bpm109.522_id23297_000000_WAXS.tif\n"
     ]
    },
    {
     "name": "stderr",
     "output_type": "stream",
     "text": [
      "WARNING:fabio.TiffIO:Data at tag id '65000' is smaller than expected\n",
      "WARNING:fabio.TiffIO:Data at tag id '65000' is smaller than expected\n",
      "WARNING:fabio.TiffIO:Data at tag id '65000' is smaller than expected\n",
      "WARNING:fabio.TiffIO:Data at tag id '65000' is smaller than expected\n",
      "WARNING:fabio.TiffIO:Data at tag id '65000' is smaller than expected\n",
      "WARNING:fabio.TiffIO:Data at tag id '65000' is smaller than expected\n"
     ]
    },
    {
     "name": "stdout",
     "output_type": "stream",
     "text": [
      "LR_AcidPEDOTPSS_0V_pos2_2479.50eV_ai0.80_wa0_bpm12.822_id21957_000000_WAXS.tif\n"
     ]
    },
    {
     "name": "stderr",
     "output_type": "stream",
     "text": [
      "WARNING:fabio.TiffIO:Data at tag id '65000' is smaller than expected\n",
      "WARNING:fabio.TiffIO:Data at tag id '65000' is smaller than expected\n",
      "WARNING:fabio.TiffIO:Data at tag id '65000' is smaller than expected\n",
      "WARNING:fabio.TiffIO:Data at tag id '65000' is smaller than expected\n",
      "WARNING:fabio.TiffIO:Data at tag id '65000' is smaller than expected\n",
      "WARNING:fabio.TiffIO:Data at tag id '65000' is smaller than expected\n"
     ]
    },
    {
     "name": "stdout",
     "output_type": "stream",
     "text": [
      "LR_P3MEEMT23k115C_0p7_KTFSI_pos2_2470.00eV_ai0.80_wa0_bpm12.669_id23098_000000_WAXS.tif\n"
     ]
    },
    {
     "name": "stderr",
     "output_type": "stream",
     "text": [
      "WARNING:fabio.TiffIO:Data at tag id '65000' is smaller than expected\n",
      "WARNING:fabio.TiffIO:Data at tag id '65000' is smaller than expected\n",
      "WARNING:fabio.TiffIO:Data at tag id '65000' is smaller than expected\n",
      "WARNING:fabio.TiffIO:Data at tag id '65000' is smaller than expected\n",
      "WARNING:fabio.TiffIO:Data at tag id '65000' is smaller than expected\n",
      "WARNING:fabio.TiffIO:Data at tag id '65000' is smaller than expected\n"
     ]
    },
    {
     "name": "stdout",
     "output_type": "stream",
     "text": [
      "LR_LiTFSI_PEDOTPSS_overdoped_p0p6V_pos1_2450.00eV_ai0.80_wa0_bpm111.388_id24066_000000_WAXS.tif\n"
     ]
    },
    {
     "name": "stderr",
     "output_type": "stream",
     "text": [
      "WARNING:fabio.TiffIO:Data at tag id '65000' is smaller than expected\n",
      "WARNING:fabio.TiffIO:Data at tag id '65000' is smaller than expected\n",
      "WARNING:fabio.TiffIO:Data at tag id '65000' is smaller than expected\n",
      "WARNING:fabio.TiffIO:Data at tag id '65000' is smaller than expected\n",
      "WARNING:fabio.TiffIO:Data at tag id '65000' is smaller than expected\n",
      "WARNING:fabio.TiffIO:Data at tag id '65000' is smaller than expected\n"
     ]
    },
    {
     "name": "stdout",
     "output_type": "stream",
     "text": [
      "LR_P3MEEMT23k115C_un_pos1_2470.00eV_ai0.80_wa0_bpm109.208_id23279_000000_WAXS.tif\n"
     ]
    },
    {
     "name": "stderr",
     "output_type": "stream",
     "text": [
      "WARNING:fabio.TiffIO:Data at tag id '65000' is smaller than expected\n",
      "WARNING:fabio.TiffIO:Data at tag id '65000' is smaller than expected\n",
      "WARNING:fabio.TiffIO:Data at tag id '65000' is smaller than expected\n",
      "WARNING:fabio.TiffIO:Data at tag id '65000' is smaller than expected\n",
      "WARNING:fabio.TiffIO:Data at tag id '65000' is smaller than expected\n",
      "WARNING:fabio.TiffIO:Data at tag id '65000' is smaller than expected\n"
     ]
    },
    {
     "name": "stdout",
     "output_type": "stream",
     "text": [
      "LR_LiTFSI_PEDOTPSS_as_pos1_2450.00eV_ai0.80_wa0_bpm111.279_id23501_000000_WAXS.tif\n"
     ]
    },
    {
     "name": "stderr",
     "output_type": "stream",
     "text": [
      "WARNING:fabio.TiffIO:Data at tag id '65000' is smaller than expected\n",
      "WARNING:fabio.TiffIO:Data at tag id '65000' is smaller than expected\n",
      "WARNING:fabio.TiffIO:Data at tag id '65000' is smaller than expected\n",
      "WARNING:fabio.TiffIO:Data at tag id '65000' is smaller than expected\n",
      "WARNING:fabio.TiffIO:Data at tag id '65000' is smaller than expected\n",
      "WARNING:fabio.TiffIO:Data at tag id '65000' is smaller than expected\n"
     ]
    },
    {
     "name": "stdout",
     "output_type": "stream",
     "text": [
      "LR_AcidPEDOTPSS_0V_pos1_2460.00eV_ai0.80_wa0_bpm110.542_id21921_000000_WAXS.tif\n"
     ]
    },
    {
     "name": "stderr",
     "output_type": "stream",
     "text": [
      "WARNING:fabio.TiffIO:Data at tag id '65000' is smaller than expected\n",
      "WARNING:fabio.TiffIO:Data at tag id '65000' is smaller than expected\n",
      "WARNING:fabio.TiffIO:Data at tag id '65000' is smaller than expected\n",
      "WARNING:fabio.TiffIO:Data at tag id '65000' is smaller than expected\n",
      "WARNING:fabio.TiffIO:Data at tag id '65000' is smaller than expected\n",
      "WARNING:fabio.TiffIO:Data at tag id '65000' is smaller than expected\n"
     ]
    },
    {
     "name": "stdout",
     "output_type": "stream",
     "text": [
      "LR_LiTFSI_PEDOTPSS_RbBr_pos2_2477.50eV_ai0.80_wa0_bpm12.725_id24221_000000_WAXS.tif\n"
     ]
    },
    {
     "name": "stderr",
     "output_type": "stream",
     "text": [
      "WARNING:fabio.TiffIO:Data at tag id '65000' is smaller than expected\n",
      "WARNING:fabio.TiffIO:Data at tag id '65000' is smaller than expected\n",
      "WARNING:fabio.TiffIO:Data at tag id '65000' is smaller than expected\n",
      "WARNING:fabio.TiffIO:Data at tag id '65000' is smaller than expected\n",
      "WARNING:fabio.TiffIO:Data at tag id '65000' is smaller than expected\n",
      "WARNING:fabio.TiffIO:Data at tag id '65000' is smaller than expected\n"
     ]
    },
    {
     "name": "stdout",
     "output_type": "stream",
     "text": [
      "LR_LiTFSI_PEDOTPSS_redoped_0V_pos2_2475.00eV_ai0.80_wa0_bpm12.680_id24000_000000_WAXS.tif\n"
     ]
    },
    {
     "name": "stderr",
     "output_type": "stream",
     "text": [
      "WARNING:fabio.TiffIO:Data at tag id '65000' is smaller than expected\n",
      "WARNING:fabio.TiffIO:Data at tag id '65000' is smaller than expected\n",
      "WARNING:fabio.TiffIO:Data at tag id '65000' is smaller than expected\n",
      "WARNING:fabio.TiffIO:Data at tag id '65000' is smaller than expected\n",
      "WARNING:fabio.TiffIO:Data at tag id '65000' is smaller than expected\n",
      "WARNING:fabio.TiffIO:Data at tag id '65000' is smaller than expected\n"
     ]
    },
    {
     "name": "stdout",
     "output_type": "stream",
     "text": [
      "LR_LiTFSI_PEDOTPSS_RbBr_pos1_2455.00eV_ai0.80_wa0_bpm110.352_id24180_000000_WAXS.tif\n"
     ]
    },
    {
     "name": "stderr",
     "output_type": "stream",
     "text": [
      "WARNING:fabio.TiffIO:Data at tag id '65000' is smaller than expected\n",
      "WARNING:fabio.TiffIO:Data at tag id '65000' is smaller than expected\n",
      "WARNING:fabio.TiffIO:Data at tag id '65000' is smaller than expected\n",
      "WARNING:fabio.TiffIO:Data at tag id '65000' is smaller than expected\n",
      "WARNING:fabio.TiffIO:Data at tag id '65000' is smaller than expected\n",
      "WARNING:fabio.TiffIO:Data at tag id '65000' is smaller than expected\n"
     ]
    },
    {
     "name": "stdout",
     "output_type": "stream",
     "text": [
      "LR_LiTFSI_PEDOTPSS_dedoped_n0p6_pos2_2492.50eV_ai0.80_wa0_bpm13.033_id23871_000000_WAXS.tif\n"
     ]
    },
    {
     "name": "stderr",
     "output_type": "stream",
     "text": [
      "WARNING:fabio.TiffIO:Data at tag id '65000' is smaller than expected\n",
      "WARNING:fabio.TiffIO:Data at tag id '65000' is smaller than expected\n",
      "WARNING:fabio.TiffIO:Data at tag id '65000' is smaller than expected\n",
      "WARNING:fabio.TiffIO:Data at tag id '65000' is smaller than expected\n",
      "WARNING:fabio.TiffIO:Data at tag id '65000' is smaller than expected\n",
      "WARNING:fabio.TiffIO:Data at tag id '65000' is smaller than expected\n"
     ]
    },
    {
     "name": "stdout",
     "output_type": "stream",
     "text": [
      "LR_AcidPEDOTPSS_NaBr_pos2_2475.00eV_ai0.80_wa0_bpm12.755_id22418_000000_WAXS.tif\n"
     ]
    },
    {
     "name": "stderr",
     "output_type": "stream",
     "text": [
      "WARNING:fabio.TiffIO:Data at tag id '65000' is smaller than expected\n",
      "WARNING:fabio.TiffIO:Data at tag id '65000' is smaller than expected\n",
      "WARNING:fabio.TiffIO:Data at tag id '65000' is smaller than expected\n",
      "WARNING:fabio.TiffIO:Data at tag id '65000' is smaller than expected\n",
      "WARNING:fabio.TiffIO:Data at tag id '65000' is smaller than expected\n",
      "WARNING:fabio.TiffIO:Data at tag id '65000' is smaller than expected\n"
     ]
    },
    {
     "name": "stdout",
     "output_type": "stream",
     "text": [
      "LR_P3MEEMT23k115C_un_pos2_2460.00eV_ai0.80_wa0_bpm12.568_id23326_000000_WAXS.tif\n"
     ]
    },
    {
     "name": "stderr",
     "output_type": "stream",
     "text": [
      "WARNING:fabio.TiffIO:Data at tag id '65000' is smaller than expected\n",
      "WARNING:fabio.TiffIO:Data at tag id '65000' is smaller than expected\n",
      "WARNING:fabio.TiffIO:Data at tag id '65000' is smaller than expected\n",
      "WARNING:fabio.TiffIO:Data at tag id '65000' is smaller than expected\n",
      "WARNING:fabio.TiffIO:Data at tag id '65000' is smaller than expected\n",
      "WARNING:fabio.TiffIO:Data at tag id '65000' is smaller than expected\n"
     ]
    },
    {
     "name": "stdout",
     "output_type": "stream",
     "text": [
      "LR_StandardPEDOTPSS_as_pos1_2479.50eV_ai0.80_wa0_bpm109.646_id22725_000000_WAXS.tif\n"
     ]
    },
    {
     "name": "stderr",
     "output_type": "stream",
     "text": [
      "WARNING:fabio.TiffIO:Data at tag id '65000' is smaller than expected\n",
      "WARNING:fabio.TiffIO:Data at tag id '65000' is smaller than expected\n",
      "WARNING:fabio.TiffIO:Data at tag id '65000' is smaller than expected\n",
      "WARNING:fabio.TiffIO:Data at tag id '65000' is smaller than expected\n",
      "WARNING:fabio.TiffIO:Data at tag id '65000' is smaller than expected\n",
      "WARNING:fabio.TiffIO:Data at tag id '65000' is smaller than expected\n"
     ]
    },
    {
     "name": "stdout",
     "output_type": "stream",
     "text": [
      "LR_LiTFSI_PEDOTPSS_RbBr_pos1_2476.50eV_ai0.80_wa0_bpm109.172_id24188_000000_WAXS.tif\n"
     ]
    },
    {
     "name": "stderr",
     "output_type": "stream",
     "text": [
      "WARNING:fabio.TiffIO:Data at tag id '65000' is smaller than expected\n",
      "WARNING:fabio.TiffIO:Data at tag id '65000' is smaller than expected\n",
      "WARNING:fabio.TiffIO:Data at tag id '65000' is smaller than expected\n",
      "WARNING:fabio.TiffIO:Data at tag id '65000' is smaller than expected\n",
      "WARNING:fabio.TiffIO:Data at tag id '65000' is smaller than expected\n",
      "WARNING:fabio.TiffIO:Data at tag id '65000' is smaller than expected\n"
     ]
    },
    {
     "name": "stdout",
     "output_type": "stream",
     "text": [
      "LR_P3MEEMT23k115C_un_pos1_2450.00eV_ai0.80_wa0_bpm110.985_id23275_000000_WAXS.tif\n"
     ]
    },
    {
     "name": "stderr",
     "output_type": "stream",
     "text": [
      "WARNING:fabio.TiffIO:Data at tag id '65000' is smaller than expected\n",
      "WARNING:fabio.TiffIO:Data at tag id '65000' is smaller than expected\n",
      "WARNING:fabio.TiffIO:Data at tag id '65000' is smaller than expected\n",
      "WARNING:fabio.TiffIO:Data at tag id '65000' is smaller than expected\n",
      "WARNING:fabio.TiffIO:Data at tag id '65000' is smaller than expected\n",
      "WARNING:fabio.TiffIO:Data at tag id '65000' is smaller than expected\n"
     ]
    },
    {
     "name": "stdout",
     "output_type": "stream",
     "text": [
      "LR_P3MEEMT23k115C_un_pos2_2450.00eV_ai0.80_wa0_bpm12.516_id23328_000000_WAXS.tif\n"
     ]
    },
    {
     "name": "stderr",
     "output_type": "stream",
     "text": [
      "WARNING:fabio.TiffIO:Data at tag id '65000' is smaller than expected\n",
      "WARNING:fabio.TiffIO:Data at tag id '65000' is smaller than expected\n",
      "WARNING:fabio.TiffIO:Data at tag id '65000' is smaller than expected\n",
      "WARNING:fabio.TiffIO:Data at tag id '65000' is smaller than expected\n",
      "WARNING:fabio.TiffIO:Data at tag id '65000' is smaller than expected\n",
      "WARNING:fabio.TiffIO:Data at tag id '65000' is smaller than expected\n"
     ]
    },
    {
     "name": "stdout",
     "output_type": "stream",
     "text": [
      "LR_RivnayFrit_P3MEEET_drop_pos1_2478.00eV_ai0.80_wa0_bpm109.172_id23400_000000_WAXS.tif\n"
     ]
    },
    {
     "name": "stderr",
     "output_type": "stream",
     "text": [
      "WARNING:fabio.TiffIO:Data at tag id '65000' is smaller than expected\n",
      "WARNING:fabio.TiffIO:Data at tag id '65000' is smaller than expected\n",
      "WARNING:fabio.TiffIO:Data at tag id '65000' is smaller than expected\n",
      "WARNING:fabio.TiffIO:Data at tag id '65000' is smaller than expected\n",
      "WARNING:fabio.TiffIO:Data at tag id '65000' is smaller than expected\n",
      "WARNING:fabio.TiffIO:Data at tag id '65000' is smaller than expected\n"
     ]
    },
    {
     "name": "stdout",
     "output_type": "stream",
     "text": [
      "LR_AcidPEDOTPSS_NaCl_pos2_2495.00eV_ai0.80_wa0_bpm13.187_id22288_000000_WAXS.tif\n"
     ]
    },
    {
     "name": "stderr",
     "output_type": "stream",
     "text": [
      "WARNING:fabio.TiffIO:Data at tag id '65000' is smaller than expected\n",
      "WARNING:fabio.TiffIO:Data at tag id '65000' is smaller than expected\n",
      "WARNING:fabio.TiffIO:Data at tag id '65000' is smaller than expected\n",
      "WARNING:fabio.TiffIO:Data at tag id '65000' is smaller than expected\n",
      "WARNING:fabio.TiffIO:Data at tag id '65000' is smaller than expected\n",
      "WARNING:fabio.TiffIO:Data at tag id '65000' is smaller than expected\n"
     ]
    },
    {
     "name": "stdout",
     "output_type": "stream",
     "text": [
      "LR_AcidPEDOTPSS_NaCl_pos2_2483.00eV_ai0.80_wa0_bpm12.865_id22293_000000_WAXS.tif\n"
     ]
    },
    {
     "name": "stderr",
     "output_type": "stream",
     "text": [
      "WARNING:fabio.TiffIO:Data at tag id '65000' is smaller than expected\n",
      "WARNING:fabio.TiffIO:Data at tag id '65000' is smaller than expected\n",
      "WARNING:fabio.TiffIO:Data at tag id '65000' is smaller than expected\n",
      "WARNING:fabio.TiffIO:Data at tag id '65000' is smaller than expected\n",
      "WARNING:fabio.TiffIO:Data at tag id '65000' is smaller than expected\n",
      "WARNING:fabio.TiffIO:Data at tag id '65000' is smaller than expected\n"
     ]
    },
    {
     "name": "stdout",
     "output_type": "stream",
     "text": [
      "LR_AcidPEDOTPSS_dedope_n0p6_pos2_2450.00eV_ai0.80_wa0_bpm12.634_id22085_000000_WAXS.tif\n"
     ]
    },
    {
     "name": "stderr",
     "output_type": "stream",
     "text": [
      "WARNING:fabio.TiffIO:Data at tag id '65000' is smaller than expected\n",
      "WARNING:fabio.TiffIO:Data at tag id '65000' is smaller than expected\n",
      "WARNING:fabio.TiffIO:Data at tag id '65000' is smaller than expected\n",
      "WARNING:fabio.TiffIO:Data at tag id '65000' is smaller than expected\n",
      "WARNING:fabio.TiffIO:Data at tag id '65000' is smaller than expected\n",
      "WARNING:fabio.TiffIO:Data at tag id '65000' is smaller than expected\n"
     ]
    },
    {
     "name": "stdout",
     "output_type": "stream",
     "text": [
      "LR_AcidPEDOTPSS_overdope_p0p6_pos2_2477.00eV_ai0.80_wa0_bpm12.717_id22188_000000_WAXS.tif\n"
     ]
    },
    {
     "name": "stderr",
     "output_type": "stream",
     "text": [
      "WARNING:fabio.TiffIO:Data at tag id '65000' is smaller than expected\n",
      "WARNING:fabio.TiffIO:Data at tag id '65000' is smaller than expected\n",
      "WARNING:fabio.TiffIO:Data at tag id '65000' is smaller than expected\n",
      "WARNING:fabio.TiffIO:Data at tag id '65000' is smaller than expected\n",
      "WARNING:fabio.TiffIO:Data at tag id '65000' is smaller than expected\n",
      "WARNING:fabio.TiffIO:Data at tag id '65000' is smaller than expected\n"
     ]
    },
    {
     "name": "stdout",
     "output_type": "stream",
     "text": [
      "LR_AcidPEDOTPSS_RbCl_pos1_2475.50eV_ai0.80_wa0_bpm110.144_id22491_000000_WAXS.tif\n"
     ]
    },
    {
     "name": "stderr",
     "output_type": "stream",
     "text": [
      "WARNING:fabio.TiffIO:Data at tag id '65000' is smaller than expected\n",
      "WARNING:fabio.TiffIO:Data at tag id '65000' is smaller than expected\n",
      "WARNING:fabio.TiffIO:Data at tag id '65000' is smaller than expected\n",
      "WARNING:fabio.TiffIO:Data at tag id '65000' is smaller than expected\n",
      "WARNING:fabio.TiffIO:Data at tag id '65000' is smaller than expected\n",
      "WARNING:fabio.TiffIO:Data at tag id '65000' is smaller than expected\n"
     ]
    },
    {
     "name": "stdout",
     "output_type": "stream",
     "text": [
      "LR_P3MEEMT23k115C_un_pos1_2455.00eV_ai0.80_wa0_bpm109.885_id23276_000000_WAXS.tif\n"
     ]
    },
    {
     "name": "stderr",
     "output_type": "stream",
     "text": [
      "WARNING:fabio.TiffIO:Data at tag id '65000' is smaller than expected\n",
      "WARNING:fabio.TiffIO:Data at tag id '65000' is smaller than expected\n",
      "WARNING:fabio.TiffIO:Data at tag id '65000' is smaller than expected\n",
      "WARNING:fabio.TiffIO:Data at tag id '65000' is smaller than expected\n",
      "WARNING:fabio.TiffIO:Data at tag id '65000' is smaller than expected\n",
      "WARNING:fabio.TiffIO:Data at tag id '65000' is smaller than expected\n"
     ]
    },
    {
     "name": "stdout",
     "output_type": "stream",
     "text": [
      "LR_AcidPEDOTPSS_overdope_p0p6_pos1_2450.00eV_ai0.80_wa0_bpm111.718_id22145_000000_WAXS.tif\n"
     ]
    },
    {
     "name": "stderr",
     "output_type": "stream",
     "text": [
      "WARNING:fabio.TiffIO:Data at tag id '65000' is smaller than expected\n",
      "WARNING:fabio.TiffIO:Data at tag id '65000' is smaller than expected\n",
      "WARNING:fabio.TiffIO:Data at tag id '65000' is smaller than expected\n",
      "WARNING:fabio.TiffIO:Data at tag id '65000' is smaller than expected\n",
      "WARNING:fabio.TiffIO:Data at tag id '65000' is smaller than expected\n",
      "WARNING:fabio.TiffIO:Data at tag id '65000' is smaller than expected\n"
     ]
    },
    {
     "name": "stdout",
     "output_type": "stream",
     "text": [
      "LR_AcidPEDOTPSS_RbBr_pos2_2478.50eV_ai0.80_wa0_bpm12.705_id22637_000000_WAXS.tif\n"
     ]
    },
    {
     "name": "stderr",
     "output_type": "stream",
     "text": [
      "WARNING:fabio.TiffIO:Data at tag id '65000' is smaller than expected\n",
      "WARNING:fabio.TiffIO:Data at tag id '65000' is smaller than expected\n",
      "WARNING:fabio.TiffIO:Data at tag id '65000' is smaller than expected\n",
      "WARNING:fabio.TiffIO:Data at tag id '65000' is smaller than expected\n",
      "WARNING:fabio.TiffIO:Data at tag id '65000' is smaller than expected\n",
      "WARNING:fabio.TiffIO:Data at tag id '65000' is smaller than expected\n"
     ]
    },
    {
     "name": "stdout",
     "output_type": "stream",
     "text": [
      "LR_AcidPEDOTPSS_RbCl_pos2_2515.00eV_ai0.80_wa0_bpm13.480_id22511_000000_WAXS.tif\n"
     ]
    },
    {
     "name": "stderr",
     "output_type": "stream",
     "text": [
      "WARNING:fabio.TiffIO:Data at tag id '65000' is smaller than expected\n",
      "WARNING:fabio.TiffIO:Data at tag id '65000' is smaller than expected\n",
      "WARNING:fabio.TiffIO:Data at tag id '65000' is smaller than expected\n",
      "WARNING:fabio.TiffIO:Data at tag id '65000' is smaller than expected\n",
      "WARNING:fabio.TiffIO:Data at tag id '65000' is smaller than expected\n",
      "WARNING:fabio.TiffIO:Data at tag id '65000' is smaller than expected\n"
     ]
    },
    {
     "name": "stdout",
     "output_type": "stream",
     "text": [
      "LR_LiTFSI_PEDOTPSS_overdoped_p0p6V_pos1_2470.00eV_ai0.80_wa0_bpm109.461_id24070_000000_WAXS.tif\n"
     ]
    },
    {
     "name": "stderr",
     "output_type": "stream",
     "text": [
      "WARNING:fabio.TiffIO:Data at tag id '65000' is smaller than expected\n",
      "WARNING:fabio.TiffIO:Data at tag id '65000' is smaller than expected\n",
      "WARNING:fabio.TiffIO:Data at tag id '65000' is smaller than expected\n",
      "WARNING:fabio.TiffIO:Data at tag id '65000' is smaller than expected\n",
      "WARNING:fabio.TiffIO:Data at tag id '65000' is smaller than expected\n",
      "WARNING:fabio.TiffIO:Data at tag id '65000' is smaller than expected\n"
     ]
    },
    {
     "name": "stdout",
     "output_type": "stream",
     "text": [
      "LR_AcidPEDOTPSS_as_pos2_2475.00eV_ai0.80_wa0_bpm12.779_id21740_000000_WAXS.tif\n"
     ]
    },
    {
     "name": "stderr",
     "output_type": "stream",
     "text": [
      "WARNING:fabio.TiffIO:Data at tag id '65000' is smaller than expected\n",
      "WARNING:fabio.TiffIO:Data at tag id '65000' is smaller than expected\n",
      "WARNING:fabio.TiffIO:Data at tag id '65000' is smaller than expected\n",
      "WARNING:fabio.TiffIO:Data at tag id '65000' is smaller than expected\n",
      "WARNING:fabio.TiffIO:Data at tag id '65000' is smaller than expected\n",
      "WARNING:fabio.TiffIO:Data at tag id '65000' is smaller than expected\n"
     ]
    },
    {
     "name": "stdout",
     "output_type": "stream",
     "text": [
      "LR_AcidPEDOTPSS_as_pos1_2476.50eV_ai0.80_wa0_bpm110.018_id21702_000000_WAXS.tif\n"
     ]
    },
    {
     "name": "stderr",
     "output_type": "stream",
     "text": [
      "WARNING:fabio.TiffIO:Data at tag id '65000' is smaller than expected\n",
      "WARNING:fabio.TiffIO:Data at tag id '65000' is smaller than expected\n",
      "WARNING:fabio.TiffIO:Data at tag id '65000' is smaller than expected\n",
      "WARNING:fabio.TiffIO:Data at tag id '65000' is smaller than expected\n",
      "WARNING:fabio.TiffIO:Data at tag id '65000' is smaller than expected\n",
      "WARNING:fabio.TiffIO:Data at tag id '65000' is smaller than expected\n"
     ]
    },
    {
     "name": "stdout",
     "output_type": "stream",
     "text": [
      "LR_AcidPEDOTPSS_exposed_pos2_2460.00eV_ai0.80_wa0_bpm12.660_id21857_000000_WAXS.tif\n"
     ]
    },
    {
     "name": "stderr",
     "output_type": "stream",
     "text": [
      "WARNING:fabio.TiffIO:Data at tag id '65000' is smaller than expected\n",
      "WARNING:fabio.TiffIO:Data at tag id '65000' is smaller than expected\n",
      "WARNING:fabio.TiffIO:Data at tag id '65000' is smaller than expected\n",
      "WARNING:fabio.TiffIO:Data at tag id '65000' is smaller than expected\n",
      "WARNING:fabio.TiffIO:Data at tag id '65000' is smaller than expected\n",
      "WARNING:fabio.TiffIO:Data at tag id '65000' is smaller than expected\n"
     ]
    },
    {
     "name": "stdout",
     "output_type": "stream",
     "text": [
      "LR_AcidPEDOTPSS_NaBr_pos1_2460.00eV_ai0.80_wa0_bpm110.470_id22373_000000_WAXS.tif\n"
     ]
    },
    {
     "name": "stderr",
     "output_type": "stream",
     "text": [
      "WARNING:fabio.TiffIO:Data at tag id '65000' is smaller than expected\n",
      "WARNING:fabio.TiffIO:Data at tag id '65000' is smaller than expected\n",
      "WARNING:fabio.TiffIO:Data at tag id '65000' is smaller than expected\n",
      "WARNING:fabio.TiffIO:Data at tag id '65000' is smaller than expected\n",
      "WARNING:fabio.TiffIO:Data at tag id '65000' is smaller than expected\n",
      "WARNING:fabio.TiffIO:Data at tag id '65000' is smaller than expected\n"
     ]
    },
    {
     "name": "stdout",
     "output_type": "stream",
     "text": [
      "LR_RivnayFrit_P3MEEET_drop_pos2_2483.00eV_ai0.80_wa0_bpm12.790_id23423_000000_WAXS.tif\n"
     ]
    },
    {
     "name": "stderr",
     "output_type": "stream",
     "text": [
      "WARNING:fabio.TiffIO:Data at tag id '65000' is smaller than expected\n",
      "WARNING:fabio.TiffIO:Data at tag id '65000' is smaller than expected\n",
      "WARNING:fabio.TiffIO:Data at tag id '65000' is smaller than expected\n",
      "WARNING:fabio.TiffIO:Data at tag id '65000' is smaller than expected\n",
      "WARNING:fabio.TiffIO:Data at tag id '65000' is smaller than expected\n",
      "WARNING:fabio.TiffIO:Data at tag id '65000' is smaller than expected\n"
     ]
    },
    {
     "name": "stdout",
     "output_type": "stream",
     "text": [
      "LR_StandardPEDOTPSS_as_pos2_2473.00eV_ai0.80_wa0_bpm12.702_id22758_000000_WAXS.tif\n"
     ]
    },
    {
     "name": "stderr",
     "output_type": "stream",
     "text": [
      "WARNING:fabio.TiffIO:Data at tag id '65000' is smaller than expected\n",
      "WARNING:fabio.TiffIO:Data at tag id '65000' is smaller than expected\n",
      "WARNING:fabio.TiffIO:Data at tag id '65000' is smaller than expected\n",
      "WARNING:fabio.TiffIO:Data at tag id '65000' is smaller than expected\n",
      "WARNING:fabio.TiffIO:Data at tag id '65000' is smaller than expected\n",
      "WARNING:fabio.TiffIO:Data at tag id '65000' is smaller than expected\n"
     ]
    },
    {
     "name": "stdout",
     "output_type": "stream",
     "text": [
      "LR_LiTFSI_PEDOTPSS_0V_pos2_2450.00eV_ai0.80_wa0_bpm12.618_id23780_000000_WAXS.tif\n"
     ]
    },
    {
     "name": "stderr",
     "output_type": "stream",
     "text": [
      "WARNING:fabio.TiffIO:Data at tag id '65000' is smaller than expected\n",
      "WARNING:fabio.TiffIO:Data at tag id '65000' is smaller than expected\n",
      "WARNING:fabio.TiffIO:Data at tag id '65000' is smaller than expected\n",
      "WARNING:fabio.TiffIO:Data at tag id '65000' is smaller than expected\n",
      "WARNING:fabio.TiffIO:Data at tag id '65000' is smaller than expected\n",
      "WARNING:fabio.TiffIO:Data at tag id '65000' is smaller than expected\n"
     ]
    },
    {
     "name": "stdout",
     "output_type": "stream",
     "text": [
      "LR_StandardPEDOTPSS_RbBr_pos1_2480.50eV_ai0.80_wa0_bpm109.625_id22840_000000_WAXS.tif\n"
     ]
    },
    {
     "name": "stderr",
     "output_type": "stream",
     "text": [
      "WARNING:fabio.TiffIO:Data at tag id '65000' is smaller than expected\n",
      "WARNING:fabio.TiffIO:Data at tag id '65000' is smaller than expected\n",
      "WARNING:fabio.TiffIO:Data at tag id '65000' is smaller than expected\n",
      "WARNING:fabio.TiffIO:Data at tag id '65000' is smaller than expected\n",
      "WARNING:fabio.TiffIO:Data at tag id '65000' is smaller than expected\n",
      "WARNING:fabio.TiffIO:Data at tag id '65000' is smaller than expected\n"
     ]
    },
    {
     "name": "stdout",
     "output_type": "stream",
     "text": [
      "LR_AcidPEDOTPSS_dedope_n0p6_pos1_2485.00eV_ai0.80_wa0_bpm110.234_id22051_000000_WAXS.tif\n"
     ]
    },
    {
     "name": "stderr",
     "output_type": "stream",
     "text": [
      "WARNING:fabio.TiffIO:Data at tag id '65000' is smaller than expected\n",
      "WARNING:fabio.TiffIO:Data at tag id '65000' is smaller than expected\n",
      "WARNING:fabio.TiffIO:Data at tag id '65000' is smaller than expected\n",
      "WARNING:fabio.TiffIO:Data at tag id '65000' is smaller than expected\n",
      "WARNING:fabio.TiffIO:Data at tag id '65000' is smaller than expected\n",
      "WARNING:fabio.TiffIO:Data at tag id '65000' is smaller than expected\n"
     ]
    },
    {
     "name": "stdout",
     "output_type": "stream",
     "text": [
      "LR_StandardPEDOTPSS_NaBr_pos2_2475.50eV_ai0.80_wa0_bpm12.704_id22982_000000_WAXS.tif\n"
     ]
    },
    {
     "name": "stderr",
     "output_type": "stream",
     "text": [
      "WARNING:fabio.TiffIO:Data at tag id '65000' is smaller than expected\n",
      "WARNING:fabio.TiffIO:Data at tag id '65000' is smaller than expected\n",
      "WARNING:fabio.TiffIO:Data at tag id '65000' is smaller than expected\n",
      "WARNING:fabio.TiffIO:Data at tag id '65000' is smaller than expected\n",
      "WARNING:fabio.TiffIO:Data at tag id '65000' is smaller than expected\n",
      "WARNING:fabio.TiffIO:Data at tag id '65000' is smaller than expected\n"
     ]
    },
    {
     "name": "stdout",
     "output_type": "stream",
     "text": [
      "LR_P3MEEMT23k115C_0p4_KTFSI_pos2_2515.00eV_ai0.80_wa0_bpm13.437_id23189_000000_WAXS.tif\n"
     ]
    },
    {
     "name": "stderr",
     "output_type": "stream",
     "text": [
      "WARNING:fabio.TiffIO:Data at tag id '65000' is smaller than expected\n",
      "WARNING:fabio.TiffIO:Data at tag id '65000' is smaller than expected\n",
      "WARNING:fabio.TiffIO:Data at tag id '65000' is smaller than expected\n",
      "WARNING:fabio.TiffIO:Data at tag id '65000' is smaller than expected\n",
      "WARNING:fabio.TiffIO:Data at tag id '65000' is smaller than expected\n",
      "WARNING:fabio.TiffIO:Data at tag id '65000' is smaller than expected\n"
     ]
    },
    {
     "name": "stdout",
     "output_type": "stream",
     "text": [
      "LR_AcidPEDOTPSS_RbCl_pos1_2480.50eV_ai0.80_wa0_bpm109.873_id22501_000000_WAXS.tif\n"
     ]
    },
    {
     "name": "stderr",
     "output_type": "stream",
     "text": [
      "WARNING:fabio.TiffIO:Data at tag id '65000' is smaller than expected\n",
      "WARNING:fabio.TiffIO:Data at tag id '65000' is smaller than expected\n",
      "WARNING:fabio.TiffIO:Data at tag id '65000' is smaller than expected\n",
      "WARNING:fabio.TiffIO:Data at tag id '65000' is smaller than expected\n",
      "WARNING:fabio.TiffIO:Data at tag id '65000' is smaller than expected\n",
      "WARNING:fabio.TiffIO:Data at tag id '65000' is smaller than expected\n"
     ]
    },
    {
     "name": "stdout",
     "output_type": "stream",
     "text": [
      "LR_AcidPEDOTPSS_RbBr_pos2_2475.00eV_ai0.80_wa0_bpm12.683_id22644_000000_WAXS.tif\n"
     ]
    },
    {
     "name": "stderr",
     "output_type": "stream",
     "text": [
      "WARNING:fabio.TiffIO:Data at tag id '65000' is smaller than expected\n",
      "WARNING:fabio.TiffIO:Data at tag id '65000' is smaller than expected\n",
      "WARNING:fabio.TiffIO:Data at tag id '65000' is smaller than expected\n",
      "WARNING:fabio.TiffIO:Data at tag id '65000' is smaller than expected\n",
      "WARNING:fabio.TiffIO:Data at tag id '65000' is smaller than expected\n",
      "WARNING:fabio.TiffIO:Data at tag id '65000' is smaller than expected\n"
     ]
    },
    {
     "name": "stdout",
     "output_type": "stream",
     "text": [
      "LR_AcidPEDOTPSS_NaCl_pos1_2515.00eV_ai0.80_wa0_bpm111.012_id22284_000000_WAXS.tif\n"
     ]
    },
    {
     "name": "stderr",
     "output_type": "stream",
     "text": [
      "WARNING:fabio.TiffIO:Data at tag id '65000' is smaller than expected\n",
      "WARNING:fabio.TiffIO:Data at tag id '65000' is smaller than expected\n",
      "WARNING:fabio.TiffIO:Data at tag id '65000' is smaller than expected\n",
      "WARNING:fabio.TiffIO:Data at tag id '65000' is smaller than expected\n",
      "WARNING:fabio.TiffIO:Data at tag id '65000' is smaller than expected\n",
      "WARNING:fabio.TiffIO:Data at tag id '65000' is smaller than expected\n"
     ]
    },
    {
     "name": "stdout",
     "output_type": "stream",
     "text": [
      "LR_AcidPEDOTPSS_NaCl_pos1_2476.00eV_ai0.80_wa0_bpm110.047_id22266_000000_WAXS.tif\n"
     ]
    },
    {
     "name": "stderr",
     "output_type": "stream",
     "text": [
      "WARNING:fabio.TiffIO:Data at tag id '65000' is smaller than expected\n",
      "WARNING:fabio.TiffIO:Data at tag id '65000' is smaller than expected\n",
      "WARNING:fabio.TiffIO:Data at tag id '65000' is smaller than expected\n",
      "WARNING:fabio.TiffIO:Data at tag id '65000' is smaller than expected\n",
      "WARNING:fabio.TiffIO:Data at tag id '65000' is smaller than expected\n",
      "WARNING:fabio.TiffIO:Data at tag id '65000' is smaller than expected\n"
     ]
    },
    {
     "name": "stdout",
     "output_type": "stream",
     "text": [
      "LR_AcidPEDOTPSS_RbCl_pos2_2478.50eV_ai0.80_wa0_bpm12.750_id22524_000000_WAXS.tif\n"
     ]
    },
    {
     "name": "stderr",
     "output_type": "stream",
     "text": [
      "WARNING:fabio.TiffIO:Data at tag id '65000' is smaller than expected\n",
      "WARNING:fabio.TiffIO:Data at tag id '65000' is smaller than expected\n",
      "WARNING:fabio.TiffIO:Data at tag id '65000' is smaller than expected\n",
      "WARNING:fabio.TiffIO:Data at tag id '65000' is smaller than expected\n",
      "WARNING:fabio.TiffIO:Data at tag id '65000' is smaller than expected\n",
      "WARNING:fabio.TiffIO:Data at tag id '65000' is smaller than expected\n"
     ]
    },
    {
     "name": "stdout",
     "output_type": "stream",
     "text": [
      "LR_P3MEEMT23k115C_0p7_KTFSI_pos2_2478.00eV_ai0.80_wa0_bpm12.700_id23090_000000_WAXS.tif\n"
     ]
    },
    {
     "name": "stderr",
     "output_type": "stream",
     "text": [
      "WARNING:fabio.TiffIO:Data at tag id '65000' is smaller than expected\n",
      "WARNING:fabio.TiffIO:Data at tag id '65000' is smaller than expected\n",
      "WARNING:fabio.TiffIO:Data at tag id '65000' is smaller than expected\n",
      "WARNING:fabio.TiffIO:Data at tag id '65000' is smaller than expected\n",
      "WARNING:fabio.TiffIO:Data at tag id '65000' is smaller than expected\n",
      "WARNING:fabio.TiffIO:Data at tag id '65000' is smaller than expected\n"
     ]
    },
    {
     "name": "stdout",
     "output_type": "stream",
     "text": [
      "LR_AcidPEDOTPSS_0V_pos2_2460.00eV_ai0.80_wa0_bpm12.643_id21970_000000_WAXS.tif\n"
     ]
    },
    {
     "name": "stderr",
     "output_type": "stream",
     "text": [
      "WARNING:fabio.TiffIO:Data at tag id '65000' is smaller than expected\n",
      "WARNING:fabio.TiffIO:Data at tag id '65000' is smaller than expected\n",
      "WARNING:fabio.TiffIO:Data at tag id '65000' is smaller than expected\n",
      "WARNING:fabio.TiffIO:Data at tag id '65000' is smaller than expected\n",
      "WARNING:fabio.TiffIO:Data at tag id '65000' is smaller than expected\n",
      "WARNING:fabio.TiffIO:Data at tag id '65000' is smaller than expected\n"
     ]
    },
    {
     "name": "stdout",
     "output_type": "stream",
     "text": [
      "LR_AcidPEDOTPSS_NaCl_pos2_2475.50eV_ai0.80_wa0_bpm12.724_id22304_000000_WAXS.tif\n"
     ]
    },
    {
     "name": "stderr",
     "output_type": "stream",
     "text": [
      "WARNING:fabio.TiffIO:Data at tag id '65000' is smaller than expected\n",
      "WARNING:fabio.TiffIO:Data at tag id '65000' is smaller than expected\n",
      "WARNING:fabio.TiffIO:Data at tag id '65000' is smaller than expected\n",
      "WARNING:fabio.TiffIO:Data at tag id '65000' is smaller than expected\n",
      "WARNING:fabio.TiffIO:Data at tag id '65000' is smaller than expected\n",
      "WARNING:fabio.TiffIO:Data at tag id '65000' is smaller than expected\n"
     ]
    },
    {
     "name": "stdout",
     "output_type": "stream",
     "text": [
      "LR_RivnayFrit_P3MEEET_drop_pos1_2495.00eV_ai0.80_wa0_bpm109.810_id23411_000000_WAXS.tif\n"
     ]
    },
    {
     "name": "stderr",
     "output_type": "stream",
     "text": [
      "WARNING:fabio.TiffIO:Data at tag id '65000' is smaller than expected\n",
      "WARNING:fabio.TiffIO:Data at tag id '65000' is smaller than expected\n",
      "WARNING:fabio.TiffIO:Data at tag id '65000' is smaller than expected\n",
      "WARNING:fabio.TiffIO:Data at tag id '65000' is smaller than expected\n",
      "WARNING:fabio.TiffIO:Data at tag id '65000' is smaller than expected\n",
      "WARNING:fabio.TiffIO:Data at tag id '65000' is smaller than expected\n"
     ]
    },
    {
     "name": "stdout",
     "output_type": "stream",
     "text": [
      "LR_StandardPEDOTPSS_NaBr_pos1_2485.00eV_ai0.80_wa0_bpm109.710_id22955_000000_WAXS.tif\n"
     ]
    },
    {
     "name": "stderr",
     "output_type": "stream",
     "text": [
      "WARNING:fabio.TiffIO:Data at tag id '65000' is smaller than expected\n",
      "WARNING:fabio.TiffIO:Data at tag id '65000' is smaller than expected\n",
      "WARNING:fabio.TiffIO:Data at tag id '65000' is smaller than expected\n",
      "WARNING:fabio.TiffIO:Data at tag id '65000' is smaller than expected\n",
      "WARNING:fabio.TiffIO:Data at tag id '65000' is smaller than expected\n",
      "WARNING:fabio.TiffIO:Data at tag id '65000' is smaller than expected\n"
     ]
    },
    {
     "name": "stdout",
     "output_type": "stream",
     "text": [
      "LR_AcidPEDOTPSS_NaBr_pos2_2500.00eV_ai0.80_wa0_bpm13.195_id22400_000000_WAXS.tif\n"
     ]
    },
    {
     "name": "stderr",
     "output_type": "stream",
     "text": [
      "WARNING:fabio.TiffIO:Data at tag id '65000' is smaller than expected\n",
      "WARNING:fabio.TiffIO:Data at tag id '65000' is smaller than expected\n",
      "WARNING:fabio.TiffIO:Data at tag id '65000' is smaller than expected\n",
      "WARNING:fabio.TiffIO:Data at tag id '65000' is smaller than expected\n",
      "WARNING:fabio.TiffIO:Data at tag id '65000' is smaller than expected\n",
      "WARNING:fabio.TiffIO:Data at tag id '65000' is smaller than expected\n"
     ]
    },
    {
     "name": "stdout",
     "output_type": "stream",
     "text": [
      "LR_AcidPEDOTPSS_0V_pos2_2473.00eV_ai0.80_wa0_bpm12.751_id21967_000000_WAXS.tif\n"
     ]
    },
    {
     "name": "stderr",
     "output_type": "stream",
     "text": [
      "WARNING:fabio.TiffIO:Data at tag id '65000' is smaller than expected\n",
      "WARNING:fabio.TiffIO:Data at tag id '65000' is smaller than expected\n",
      "WARNING:fabio.TiffIO:Data at tag id '65000' is smaller than expected\n",
      "WARNING:fabio.TiffIO:Data at tag id '65000' is smaller than expected\n",
      "WARNING:fabio.TiffIO:Data at tag id '65000' is smaller than expected\n",
      "WARNING:fabio.TiffIO:Data at tag id '65000' is smaller than expected\n"
     ]
    },
    {
     "name": "stdout",
     "output_type": "stream",
     "text": [
      "LR_AcidPEDOTPSS_NaBr_pos2_2483.00eV_ai0.80_wa0_bpm12.868_id22406_000000_WAXS.tif\n"
     ]
    },
    {
     "name": "stderr",
     "output_type": "stream",
     "text": [
      "WARNING:fabio.TiffIO:Data at tag id '65000' is smaller than expected\n",
      "WARNING:fabio.TiffIO:Data at tag id '65000' is smaller than expected\n",
      "WARNING:fabio.TiffIO:Data at tag id '65000' is smaller than expected\n",
      "WARNING:fabio.TiffIO:Data at tag id '65000' is smaller than expected\n",
      "WARNING:fabio.TiffIO:Data at tag id '65000' is smaller than expected\n",
      "WARNING:fabio.TiffIO:Data at tag id '65000' is smaller than expected\n"
     ]
    },
    {
     "name": "stdout",
     "output_type": "stream",
     "text": [
      "LR_RivnayFrit_P3MEEET_drop_pos1_2485.00eV_ai0.80_wa0_bpm109.223_id23407_000000_WAXS.tif\n"
     ]
    },
    {
     "name": "stderr",
     "output_type": "stream",
     "text": [
      "WARNING:fabio.TiffIO:Data at tag id '65000' is smaller than expected\n",
      "WARNING:fabio.TiffIO:Data at tag id '65000' is smaller than expected\n",
      "WARNING:fabio.TiffIO:Data at tag id '65000' is smaller than expected\n",
      "WARNING:fabio.TiffIO:Data at tag id '65000' is smaller than expected\n",
      "WARNING:fabio.TiffIO:Data at tag id '65000' is smaller than expected\n",
      "WARNING:fabio.TiffIO:Data at tag id '65000' is smaller than expected\n"
     ]
    },
    {
     "name": "stdout",
     "output_type": "stream",
     "text": [
      "LR_LiTFSI_PEDOTPSS_overdoped_p0p6V_pos2_2479.00eV_ai0.80_wa0_bpm12.762_id24105_000000_WAXS.tif\n"
     ]
    },
    {
     "name": "stderr",
     "output_type": "stream",
     "text": [
      "WARNING:fabio.TiffIO:Data at tag id '65000' is smaller than expected\n",
      "WARNING:fabio.TiffIO:Data at tag id '65000' is smaller than expected\n",
      "WARNING:fabio.TiffIO:Data at tag id '65000' is smaller than expected\n",
      "WARNING:fabio.TiffIO:Data at tag id '65000' is smaller than expected\n",
      "WARNING:fabio.TiffIO:Data at tag id '65000' is smaller than expected\n",
      "WARNING:fabio.TiffIO:Data at tag id '65000' is smaller than expected\n"
     ]
    },
    {
     "name": "stdout",
     "output_type": "stream",
     "text": [
      "LR_P3MEEMT23k115C_0p4_KTFSI_pos2_2473.00eV_ai0.80_wa0_bpm12.695_id23210_000000_WAXS.tif\n"
     ]
    },
    {
     "name": "stderr",
     "output_type": "stream",
     "text": [
      "WARNING:fabio.TiffIO:Data at tag id '65000' is smaller than expected\n",
      "WARNING:fabio.TiffIO:Data at tag id '65000' is smaller than expected\n",
      "WARNING:fabio.TiffIO:Data at tag id '65000' is smaller than expected\n",
      "WARNING:fabio.TiffIO:Data at tag id '65000' is smaller than expected\n",
      "WARNING:fabio.TiffIO:Data at tag id '65000' is smaller than expected\n",
      "WARNING:fabio.TiffIO:Data at tag id '65000' is smaller than expected\n"
     ]
    },
    {
     "name": "stdout",
     "output_type": "stream",
     "text": [
      "LR_RivnayFrit_P3MEEET_drop_pos2_2495.00eV_ai0.80_wa0_bpm13.071_id23418_000000_WAXS.tif\n"
     ]
    },
    {
     "name": "stderr",
     "output_type": "stream",
     "text": [
      "WARNING:fabio.TiffIO:Data at tag id '65000' is smaller than expected\n",
      "WARNING:fabio.TiffIO:Data at tag id '65000' is smaller than expected\n",
      "WARNING:fabio.TiffIO:Data at tag id '65000' is smaller than expected\n",
      "WARNING:fabio.TiffIO:Data at tag id '65000' is smaller than expected\n",
      "WARNING:fabio.TiffIO:Data at tag id '65000' is smaller than expected\n",
      "WARNING:fabio.TiffIO:Data at tag id '65000' is smaller than expected\n"
     ]
    },
    {
     "name": "stdout",
     "output_type": "stream",
     "text": [
      "LR_AcidPEDOTPSS_NaCl_pos1_2480.50eV_ai0.80_wa0_bpm109.908_id22275_000000_WAXS.tif\n"
     ]
    },
    {
     "name": "stderr",
     "output_type": "stream",
     "text": [
      "WARNING:fabio.TiffIO:Data at tag id '65000' is smaller than expected\n",
      "WARNING:fabio.TiffIO:Data at tag id '65000' is smaller than expected\n",
      "WARNING:fabio.TiffIO:Data at tag id '65000' is smaller than expected\n",
      "WARNING:fabio.TiffIO:Data at tag id '65000' is smaller than expected\n",
      "WARNING:fabio.TiffIO:Data at tag id '65000' is smaller than expected\n",
      "WARNING:fabio.TiffIO:Data at tag id '65000' is smaller than expected\n"
     ]
    },
    {
     "name": "stdout",
     "output_type": "stream",
     "text": [
      "LR_P3MEEMT23k115C_un_pos2_2495.00eV_ai0.80_wa0_bpm13.066_id23305_000000_WAXS.tif\n"
     ]
    },
    {
     "name": "stderr",
     "output_type": "stream",
     "text": [
      "WARNING:fabio.TiffIO:Data at tag id '65000' is smaller than expected\n",
      "WARNING:fabio.TiffIO:Data at tag id '65000' is smaller than expected\n",
      "WARNING:fabio.TiffIO:Data at tag id '65000' is smaller than expected\n",
      "WARNING:fabio.TiffIO:Data at tag id '65000' is smaller than expected\n",
      "WARNING:fabio.TiffIO:Data at tag id '65000' is smaller than expected\n",
      "WARNING:fabio.TiffIO:Data at tag id '65000' is smaller than expected\n"
     ]
    },
    {
     "name": "stdout",
     "output_type": "stream",
     "text": [
      "LR_LiTFSI_PEDOTPSS_exposed_pos1_2485.00eV_ai0.80_wa0_bpm109.806_id23633_000000_WAXS.tif\n"
     ]
    },
    {
     "name": "stderr",
     "output_type": "stream",
     "text": [
      "WARNING:fabio.TiffIO:Data at tag id '65000' is smaller than expected\n",
      "WARNING:fabio.TiffIO:Data at tag id '65000' is smaller than expected\n",
      "WARNING:fabio.TiffIO:Data at tag id '65000' is smaller than expected\n",
      "WARNING:fabio.TiffIO:Data at tag id '65000' is smaller than expected\n",
      "WARNING:fabio.TiffIO:Data at tag id '65000' is smaller than expected\n",
      "WARNING:fabio.TiffIO:Data at tag id '65000' is smaller than expected\n"
     ]
    },
    {
     "name": "stdout",
     "output_type": "stream",
     "text": [
      "LR_StandardPEDOTPSS_as_pos1_2500.00eV_ai0.80_wa0_bpm110.095_id22734_000000_WAXS.tif\n"
     ]
    },
    {
     "name": "stderr",
     "output_type": "stream",
     "text": [
      "WARNING:fabio.TiffIO:Data at tag id '65000' is smaller than expected\n",
      "WARNING:fabio.TiffIO:Data at tag id '65000' is smaller than expected\n",
      "WARNING:fabio.TiffIO:Data at tag id '65000' is smaller than expected\n",
      "WARNING:fabio.TiffIO:Data at tag id '65000' is smaller than expected\n",
      "WARNING:fabio.TiffIO:Data at tag id '65000' is smaller than expected\n",
      "WARNING:fabio.TiffIO:Data at tag id '65000' is smaller than expected\n"
     ]
    },
    {
     "name": "stdout",
     "output_type": "stream",
     "text": [
      "LR_LiTFSI_PEDOTPSS_0V_pos1_2475.50eV_ai0.80_wa0_bpm109.889_id23734_000000_WAXS.tif\n"
     ]
    },
    {
     "name": "stderr",
     "output_type": "stream",
     "text": [
      "WARNING:fabio.TiffIO:Data at tag id '65000' is smaller than expected\n",
      "WARNING:fabio.TiffIO:Data at tag id '65000' is smaller than expected\n",
      "WARNING:fabio.TiffIO:Data at tag id '65000' is smaller than expected\n",
      "WARNING:fabio.TiffIO:Data at tag id '65000' is smaller than expected\n",
      "WARNING:fabio.TiffIO:Data at tag id '65000' is smaller than expected\n",
      "WARNING:fabio.TiffIO:Data at tag id '65000' is smaller than expected\n"
     ]
    },
    {
     "name": "stdout",
     "output_type": "stream",
     "text": [
      "LR_LiTFSI_PEDOTPSS_dedoped_n0p6_pos1_2475.00eV_ai0.80_wa0_bpm109.270_id23846_000000_WAXS.tif\n"
     ]
    },
    {
     "name": "stderr",
     "output_type": "stream",
     "text": [
      "WARNING:fabio.TiffIO:Data at tag id '65000' is smaller than expected\n",
      "WARNING:fabio.TiffIO:Data at tag id '65000' is smaller than expected\n",
      "WARNING:fabio.TiffIO:Data at tag id '65000' is smaller than expected\n",
      "WARNING:fabio.TiffIO:Data at tag id '65000' is smaller than expected\n",
      "WARNING:fabio.TiffIO:Data at tag id '65000' is smaller than expected\n",
      "WARNING:fabio.TiffIO:Data at tag id '65000' is smaller than expected\n"
     ]
    },
    {
     "name": "stdout",
     "output_type": "stream",
     "text": [
      "LR_AcidPEDOTPSS_overdope_p0p6_pos2_2475.50eV_ai0.80_wa0_bpm12.701_id22191_000000_WAXS.tif\n"
     ]
    },
    {
     "name": "stderr",
     "output_type": "stream",
     "text": [
      "WARNING:fabio.TiffIO:Data at tag id '65000' is smaller than expected\n",
      "WARNING:fabio.TiffIO:Data at tag id '65000' is smaller than expected\n",
      "WARNING:fabio.TiffIO:Data at tag id '65000' is smaller than expected\n",
      "WARNING:fabio.TiffIO:Data at tag id '65000' is smaller than expected\n",
      "WARNING:fabio.TiffIO:Data at tag id '65000' is smaller than expected\n",
      "WARNING:fabio.TiffIO:Data at tag id '65000' is smaller than expected\n"
     ]
    },
    {
     "name": "stdout",
     "output_type": "stream",
     "text": [
      "LR_P3MEEMT23k115C_0p4_KTFSI_pos1_2479.50eV_ai0.80_wa0_bpm109.642_id23177_000000_WAXS.tif\n"
     ]
    },
    {
     "name": "stderr",
     "output_type": "stream",
     "text": [
      "WARNING:fabio.TiffIO:Data at tag id '65000' is smaller than expected\n",
      "WARNING:fabio.TiffIO:Data at tag id '65000' is smaller than expected\n",
      "WARNING:fabio.TiffIO:Data at tag id '65000' is smaller than expected\n",
      "WARNING:fabio.TiffIO:Data at tag id '65000' is smaller than expected\n",
      "WARNING:fabio.TiffIO:Data at tag id '65000' is smaller than expected\n",
      "WARNING:fabio.TiffIO:Data at tag id '65000' is smaller than expected\n"
     ]
    },
    {
     "name": "stdout",
     "output_type": "stream",
     "text": [
      "LR_AcidPEDOTPSS_exposed_pos1_2470.00eV_ai0.80_wa0_bpm110.299_id21810_000000_WAXS.tif\n"
     ]
    },
    {
     "name": "stderr",
     "output_type": "stream",
     "text": [
      "WARNING:fabio.TiffIO:Data at tag id '65000' is smaller than expected\n",
      "WARNING:fabio.TiffIO:Data at tag id '65000' is smaller than expected\n",
      "WARNING:fabio.TiffIO:Data at tag id '65000' is smaller than expected\n",
      "WARNING:fabio.TiffIO:Data at tag id '65000' is smaller than expected\n",
      "WARNING:fabio.TiffIO:Data at tag id '65000' is smaller than expected\n",
      "WARNING:fabio.TiffIO:Data at tag id '65000' is smaller than expected\n"
     ]
    },
    {
     "name": "stdout",
     "output_type": "stream",
     "text": [
      "LR_LiTFSI_PEDOTPSS_RbBr_pos2_2450.00eV_ai0.80_wa0_bpm12.608_id24232_000000_WAXS.tif\n"
     ]
    },
    {
     "name": "stderr",
     "output_type": "stream",
     "text": [
      "WARNING:fabio.TiffIO:Data at tag id '65000' is smaller than expected\n",
      "WARNING:fabio.TiffIO:Data at tag id '65000' is smaller than expected\n",
      "WARNING:fabio.TiffIO:Data at tag id '65000' is smaller than expected\n",
      "WARNING:fabio.TiffIO:Data at tag id '65000' is smaller than expected\n",
      "WARNING:fabio.TiffIO:Data at tag id '65000' is smaller than expected\n",
      "WARNING:fabio.TiffIO:Data at tag id '65000' is smaller than expected\n"
     ]
    },
    {
     "name": "stdout",
     "output_type": "stream",
     "text": [
      "LR_P3MEEMT23k115C_0p4_KTFSI_pos2_2480.00eV_ai0.80_wa0_bpm12.747_id23199_000000_WAXS.tif\n"
     ]
    },
    {
     "name": "stderr",
     "output_type": "stream",
     "text": [
      "WARNING:fabio.TiffIO:Data at tag id '65000' is smaller than expected\n",
      "WARNING:fabio.TiffIO:Data at tag id '65000' is smaller than expected\n",
      "WARNING:fabio.TiffIO:Data at tag id '65000' is smaller than expected\n",
      "WARNING:fabio.TiffIO:Data at tag id '65000' is smaller than expected\n",
      "WARNING:fabio.TiffIO:Data at tag id '65000' is smaller than expected\n",
      "WARNING:fabio.TiffIO:Data at tag id '65000' is smaller than expected\n"
     ]
    },
    {
     "name": "stdout",
     "output_type": "stream",
     "text": [
      "LR_LiTFSI_PEDOTPSS_redoped_0V_pos2_2490.00eV_ai0.80_wa0_bpm12.978_id23985_000000_WAXS.tif\n"
     ]
    },
    {
     "name": "stderr",
     "output_type": "stream",
     "text": [
      "WARNING:fabio.TiffIO:Data at tag id '65000' is smaller than expected\n",
      "WARNING:fabio.TiffIO:Data at tag id '65000' is smaller than expected\n",
      "WARNING:fabio.TiffIO:Data at tag id '65000' is smaller than expected\n",
      "WARNING:fabio.TiffIO:Data at tag id '65000' is smaller than expected\n",
      "WARNING:fabio.TiffIO:Data at tag id '65000' is smaller than expected\n",
      "WARNING:fabio.TiffIO:Data at tag id '65000' is smaller than expected\n"
     ]
    },
    {
     "name": "stdout",
     "output_type": "stream",
     "text": [
      "LR_LiTFSI_PEDOTPSS_as_pos2_2473.00eV_ai0.80_wa0_bpm12.656_id23549_000000_WAXS.tif\n"
     ]
    },
    {
     "name": "stderr",
     "output_type": "stream",
     "text": [
      "WARNING:fabio.TiffIO:Data at tag id '65000' is smaller than expected\n",
      "WARNING:fabio.TiffIO:Data at tag id '65000' is smaller than expected\n",
      "WARNING:fabio.TiffIO:Data at tag id '65000' is smaller than expected\n",
      "WARNING:fabio.TiffIO:Data at tag id '65000' is smaller than expected\n",
      "WARNING:fabio.TiffIO:Data at tag id '65000' is smaller than expected\n",
      "WARNING:fabio.TiffIO:Data at tag id '65000' is smaller than expected\n"
     ]
    },
    {
     "name": "stdout",
     "output_type": "stream",
     "text": [
      "LR_AcidPEDOTPSS_RbCl_pos1_2475.00eV_ai0.80_wa0_bpm110.008_id22490_000000_WAXS.tif\n"
     ]
    },
    {
     "name": "stderr",
     "output_type": "stream",
     "text": [
      "WARNING:fabio.TiffIO:Data at tag id '65000' is smaller than expected\n",
      "WARNING:fabio.TiffIO:Data at tag id '65000' is smaller than expected\n",
      "WARNING:fabio.TiffIO:Data at tag id '65000' is smaller than expected\n",
      "WARNING:fabio.TiffIO:Data at tag id '65000' is smaller than expected\n",
      "WARNING:fabio.TiffIO:Data at tag id '65000' is smaller than expected\n",
      "WARNING:fabio.TiffIO:Data at tag id '65000' is smaller than expected\n"
     ]
    },
    {
     "name": "stdout",
     "output_type": "stream",
     "text": [
      "LR_LiTFSI_PEDOTPSS_dedoped_n0p6_pos2_2475.50eV_ai0.80_wa0_bpm12.660_id23886_000000_WAXS.tif\n"
     ]
    },
    {
     "name": "stderr",
     "output_type": "stream",
     "text": [
      "WARNING:fabio.TiffIO:Data at tag id '65000' is smaller than expected\n",
      "WARNING:fabio.TiffIO:Data at tag id '65000' is smaller than expected\n",
      "WARNING:fabio.TiffIO:Data at tag id '65000' is smaller than expected\n",
      "WARNING:fabio.TiffIO:Data at tag id '65000' is smaller than expected\n",
      "WARNING:fabio.TiffIO:Data at tag id '65000' is smaller than expected\n",
      "WARNING:fabio.TiffIO:Data at tag id '65000' is smaller than expected\n"
     ]
    },
    {
     "name": "stdout",
     "output_type": "stream",
     "text": [
      "LR_LiTFSI_PEDOTPSS_redoped_0V_pos1_2510.00eV_ai0.80_wa0_bpm109.955_id23978_000000_WAXS.tif\n"
     ]
    },
    {
     "name": "stderr",
     "output_type": "stream",
     "text": [
      "WARNING:fabio.TiffIO:Data at tag id '65000' is smaller than expected\n",
      "WARNING:fabio.TiffIO:Data at tag id '65000' is smaller than expected\n",
      "WARNING:fabio.TiffIO:Data at tag id '65000' is smaller than expected\n",
      "WARNING:fabio.TiffIO:Data at tag id '65000' is smaller than expected\n",
      "WARNING:fabio.TiffIO:Data at tag id '65000' is smaller than expected\n",
      "WARNING:fabio.TiffIO:Data at tag id '65000' is smaller than expected\n"
     ]
    },
    {
     "name": "stdout",
     "output_type": "stream",
     "text": [
      "LR_LiTFSI_PEDOTPSS_exposed_pos2_2473.00eV_ai0.80_wa0_bpm12.700_id23662_000000_WAXS.tif\n"
     ]
    },
    {
     "name": "stderr",
     "output_type": "stream",
     "text": [
      "WARNING:fabio.TiffIO:Data at tag id '65000' is smaller than expected\n",
      "WARNING:fabio.TiffIO:Data at tag id '65000' is smaller than expected\n",
      "WARNING:fabio.TiffIO:Data at tag id '65000' is smaller than expected\n",
      "WARNING:fabio.TiffIO:Data at tag id '65000' is smaller than expected\n",
      "WARNING:fabio.TiffIO:Data at tag id '65000' is smaller than expected\n",
      "WARNING:fabio.TiffIO:Data at tag id '65000' is smaller than expected\n"
     ]
    },
    {
     "name": "stdout",
     "output_type": "stream",
     "text": [
      "LR_LiTFSI_PEDOTPSS_exposed_pos2_2478.50eV_ai0.80_wa0_bpm12.742_id23654_000000_WAXS.tif\n"
     ]
    },
    {
     "name": "stderr",
     "output_type": "stream",
     "text": [
      "WARNING:fabio.TiffIO:Data at tag id '65000' is smaller than expected\n",
      "WARNING:fabio.TiffIO:Data at tag id '65000' is smaller than expected\n",
      "WARNING:fabio.TiffIO:Data at tag id '65000' is smaller than expected\n",
      "WARNING:fabio.TiffIO:Data at tag id '65000' is smaller than expected\n",
      "WARNING:fabio.TiffIO:Data at tag id '65000' is smaller than expected\n",
      "WARNING:fabio.TiffIO:Data at tag id '65000' is smaller than expected\n"
     ]
    },
    {
     "name": "stdout",
     "output_type": "stream",
     "text": [
      "LR_StandardPEDOTPSS_as_pos1_2485.00eV_ai0.80_wa0_bpm109.797_id22729_000000_WAXS.tif\n"
     ]
    },
    {
     "name": "stderr",
     "output_type": "stream",
     "text": [
      "WARNING:fabio.TiffIO:Data at tag id '65000' is smaller than expected\n",
      "WARNING:fabio.TiffIO:Data at tag id '65000' is smaller than expected\n",
      "WARNING:fabio.TiffIO:Data at tag id '65000' is smaller than expected\n",
      "WARNING:fabio.TiffIO:Data at tag id '65000' is smaller than expected\n",
      "WARNING:fabio.TiffIO:Data at tag id '65000' is smaller than expected\n",
      "WARNING:fabio.TiffIO:Data at tag id '65000' is smaller than expected\n"
     ]
    },
    {
     "name": "stdout",
     "output_type": "stream",
     "text": [
      "LR_AcidPEDOTPSS_0V_pos2_2455.00eV_ai0.80_wa0_bpm12.617_id21971_000000_WAXS.tif\n"
     ]
    },
    {
     "name": "stderr",
     "output_type": "stream",
     "text": [
      "WARNING:fabio.TiffIO:Data at tag id '65000' is smaller than expected\n",
      "WARNING:fabio.TiffIO:Data at tag id '65000' is smaller than expected\n",
      "WARNING:fabio.TiffIO:Data at tag id '65000' is smaller than expected\n",
      "WARNING:fabio.TiffIO:Data at tag id '65000' is smaller than expected\n",
      "WARNING:fabio.TiffIO:Data at tag id '65000' is smaller than expected\n",
      "WARNING:fabio.TiffIO:Data at tag id '65000' is smaller than expected\n"
     ]
    },
    {
     "name": "stdout",
     "output_type": "stream",
     "text": [
      "LR_AcidPEDOTPSS_NaBr_pos1_2480.00eV_ai0.80_wa0_bpm110.202_id22387_000000_WAXS.tif\n"
     ]
    },
    {
     "name": "stderr",
     "output_type": "stream",
     "text": [
      "WARNING:fabio.TiffIO:Data at tag id '65000' is smaller than expected\n",
      "WARNING:fabio.TiffIO:Data at tag id '65000' is smaller than expected\n",
      "WARNING:fabio.TiffIO:Data at tag id '65000' is smaller than expected\n",
      "WARNING:fabio.TiffIO:Data at tag id '65000' is smaller than expected\n",
      "WARNING:fabio.TiffIO:Data at tag id '65000' is smaller than expected\n",
      "WARNING:fabio.TiffIO:Data at tag id '65000' is smaller than expected\n"
     ]
    },
    {
     "name": "stdout",
     "output_type": "stream",
     "text": [
      "LR_AcidPEDOTPSS_RbCl_pos2_2476.00eV_ai0.80_wa0_bpm12.732_id22529_000000_WAXS.tif\n"
     ]
    },
    {
     "name": "stderr",
     "output_type": "stream",
     "text": [
      "WARNING:fabio.TiffIO:Data at tag id '65000' is smaller than expected\n",
      "WARNING:fabio.TiffIO:Data at tag id '65000' is smaller than expected\n",
      "WARNING:fabio.TiffIO:Data at tag id '65000' is smaller than expected\n",
      "WARNING:fabio.TiffIO:Data at tag id '65000' is smaller than expected\n",
      "WARNING:fabio.TiffIO:Data at tag id '65000' is smaller than expected\n",
      "WARNING:fabio.TiffIO:Data at tag id '65000' is smaller than expected\n"
     ]
    },
    {
     "name": "stdout",
     "output_type": "stream",
     "text": [
      "LR_LiTFSI_PEDOTPSS_0V_pos2_2510.00eV_ai0.80_wa0_bpm13.432_id23755_000000_WAXS.tif\n"
     ]
    },
    {
     "name": "stderr",
     "output_type": "stream",
     "text": [
      "WARNING:fabio.TiffIO:Data at tag id '65000' is smaller than expected\n",
      "WARNING:fabio.TiffIO:Data at tag id '65000' is smaller than expected\n",
      "WARNING:fabio.TiffIO:Data at tag id '65000' is smaller than expected\n",
      "WARNING:fabio.TiffIO:Data at tag id '65000' is smaller than expected\n",
      "WARNING:fabio.TiffIO:Data at tag id '65000' is smaller than expected\n",
      "WARNING:fabio.TiffIO:Data at tag id '65000' is smaller than expected\n"
     ]
    },
    {
     "name": "stdout",
     "output_type": "stream",
     "text": [
      "LR_StandardPEDOTPSS_NaBr_pos2_2515.00eV_ai0.80_wa0_bpm13.465_id22963_000000_WAXS.tif\n"
     ]
    },
    {
     "name": "stderr",
     "output_type": "stream",
     "text": [
      "WARNING:fabio.TiffIO:Data at tag id '65000' is smaller than expected\n",
      "WARNING:fabio.TiffIO:Data at tag id '65000' is smaller than expected\n",
      "WARNING:fabio.TiffIO:Data at tag id '65000' is smaller than expected\n",
      "WARNING:fabio.TiffIO:Data at tag id '65000' is smaller than expected\n",
      "WARNING:fabio.TiffIO:Data at tag id '65000' is smaller than expected\n",
      "WARNING:fabio.TiffIO:Data at tag id '65000' is smaller than expected\n"
     ]
    },
    {
     "name": "stdout",
     "output_type": "stream",
     "text": [
      "LR_AcidPEDOTPSS_dedope_n0p6_pos2_2515.00eV_ai0.80_wa0_bpm13.518_id22059_000000_WAXS.tif\n"
     ]
    },
    {
     "name": "stderr",
     "output_type": "stream",
     "text": [
      "WARNING:fabio.TiffIO:Data at tag id '65000' is smaller than expected\n",
      "WARNING:fabio.TiffIO:Data at tag id '65000' is smaller than expected\n",
      "WARNING:fabio.TiffIO:Data at tag id '65000' is smaller than expected\n",
      "WARNING:fabio.TiffIO:Data at tag id '65000' is smaller than expected\n",
      "WARNING:fabio.TiffIO:Data at tag id '65000' is smaller than expected\n",
      "WARNING:fabio.TiffIO:Data at tag id '65000' is smaller than expected\n"
     ]
    },
    {
     "name": "stdout",
     "output_type": "stream",
     "text": [
      "LR_AcidPEDOTPSS_NaBr_pos2_2473.00eV_ai0.80_wa0_bpm12.723_id22419_000000_WAXS.tif\n"
     ]
    },
    {
     "name": "stderr",
     "output_type": "stream",
     "text": [
      "WARNING:fabio.TiffIO:Data at tag id '65000' is smaller than expected\n",
      "WARNING:fabio.TiffIO:Data at tag id '65000' is smaller than expected\n",
      "WARNING:fabio.TiffIO:Data at tag id '65000' is smaller than expected\n",
      "WARNING:fabio.TiffIO:Data at tag id '65000' is smaller than expected\n",
      "WARNING:fabio.TiffIO:Data at tag id '65000' is smaller than expected\n",
      "WARNING:fabio.TiffIO:Data at tag id '65000' is smaller than expected\n"
     ]
    },
    {
     "name": "stdout",
     "output_type": "stream",
     "text": [
      "LR_StandardPEDOTPSS_RbBr_pos1_2487.50eV_ai0.80_wa0_bpm109.541_id22843_000000_WAXS.tif\n"
     ]
    },
    {
     "name": "stderr",
     "output_type": "stream",
     "text": [
      "WARNING:fabio.TiffIO:Data at tag id '65000' is smaller than expected\n",
      "WARNING:fabio.TiffIO:Data at tag id '65000' is smaller than expected\n",
      "WARNING:fabio.TiffIO:Data at tag id '65000' is smaller than expected\n",
      "WARNING:fabio.TiffIO:Data at tag id '65000' is smaller than expected\n",
      "WARNING:fabio.TiffIO:Data at tag id '65000' is smaller than expected\n",
      "WARNING:fabio.TiffIO:Data at tag id '65000' is smaller than expected\n"
     ]
    },
    {
     "name": "stdout",
     "output_type": "stream",
     "text": [
      "LR_P3MEEMT23k115C_0p4_KTFSI_pos1_2495.00eV_ai0.80_wa0_bpm109.607_id23185_000000_WAXS.tif\n"
     ]
    },
    {
     "name": "stderr",
     "output_type": "stream",
     "text": [
      "WARNING:fabio.TiffIO:Data at tag id '65000' is smaller than expected\n",
      "WARNING:fabio.TiffIO:Data at tag id '65000' is smaller than expected\n",
      "WARNING:fabio.TiffIO:Data at tag id '65000' is smaller than expected\n",
      "WARNING:fabio.TiffIO:Data at tag id '65000' is smaller than expected\n",
      "WARNING:fabio.TiffIO:Data at tag id '65000' is smaller than expected\n",
      "WARNING:fabio.TiffIO:Data at tag id '65000' is smaller than expected\n"
     ]
    },
    {
     "name": "stdout",
     "output_type": "stream",
     "text": [
      "LR_LiTFSI_PEDOTPSS_RbBr_pos1_2479.00eV_ai0.80_wa0_bpm109.393_id24193_000000_WAXS.tif\n"
     ]
    },
    {
     "name": "stderr",
     "output_type": "stream",
     "text": [
      "WARNING:fabio.TiffIO:Data at tag id '65000' is smaller than expected\n",
      "WARNING:fabio.TiffIO:Data at tag id '65000' is smaller than expected\n",
      "WARNING:fabio.TiffIO:Data at tag id '65000' is smaller than expected\n",
      "WARNING:fabio.TiffIO:Data at tag id '65000' is smaller than expected\n",
      "WARNING:fabio.TiffIO:Data at tag id '65000' is smaller than expected\n",
      "WARNING:fabio.TiffIO:Data at tag id '65000' is smaller than expected\n"
     ]
    },
    {
     "name": "stdout",
     "output_type": "stream",
     "text": [
      "LR_AcidPEDOTPSS_0V_pos2_2478.50eV_ai0.80_wa0_bpm12.788_id21959_000000_WAXS.tif\n"
     ]
    },
    {
     "name": "stderr",
     "output_type": "stream",
     "text": [
      "WARNING:fabio.TiffIO:Data at tag id '65000' is smaller than expected\n",
      "WARNING:fabio.TiffIO:Data at tag id '65000' is smaller than expected\n",
      "WARNING:fabio.TiffIO:Data at tag id '65000' is smaller than expected\n",
      "WARNING:fabio.TiffIO:Data at tag id '65000' is smaller than expected\n",
      "WARNING:fabio.TiffIO:Data at tag id '65000' is smaller than expected\n",
      "WARNING:fabio.TiffIO:Data at tag id '65000' is smaller than expected\n"
     ]
    },
    {
     "name": "stdout",
     "output_type": "stream",
     "text": [
      "LR_AcidPEDOTPSS_0V_pos2_2480.00eV_ai0.80_wa0_bpm12.825_id21956_000000_WAXS.tif\n"
     ]
    },
    {
     "name": "stderr",
     "output_type": "stream",
     "text": [
      "WARNING:fabio.TiffIO:Data at tag id '65000' is smaller than expected\n",
      "WARNING:fabio.TiffIO:Data at tag id '65000' is smaller than expected\n",
      "WARNING:fabio.TiffIO:Data at tag id '65000' is smaller than expected\n",
      "WARNING:fabio.TiffIO:Data at tag id '65000' is smaller than expected\n",
      "WARNING:fabio.TiffIO:Data at tag id '65000' is smaller than expected\n",
      "WARNING:fabio.TiffIO:Data at tag id '65000' is smaller than expected\n"
     ]
    },
    {
     "name": "stdout",
     "output_type": "stream",
     "text": [
      "LR_LiTFSI_PEDOTPSS_RbBr_pos1_2495.00eV_ai0.80_wa0_bpm109.528_id24202_000000_WAXS.tif\n"
     ]
    },
    {
     "name": "stderr",
     "output_type": "stream",
     "text": [
      "WARNING:fabio.TiffIO:Data at tag id '65000' is smaller than expected\n",
      "WARNING:fabio.TiffIO:Data at tag id '65000' is smaller than expected\n",
      "WARNING:fabio.TiffIO:Data at tag id '65000' is smaller than expected\n",
      "WARNING:fabio.TiffIO:Data at tag id '65000' is smaller than expected\n",
      "WARNING:fabio.TiffIO:Data at tag id '65000' is smaller than expected\n",
      "WARNING:fabio.TiffIO:Data at tag id '65000' is smaller than expected\n"
     ]
    },
    {
     "name": "stdout",
     "output_type": "stream",
     "text": [
      "LR_AcidPEDOTPSS_RbBr_pos2_2490.00eV_ai0.80_wa0_bpm12.997_id22629_000000_WAXS.tif\n"
     ]
    },
    {
     "name": "stderr",
     "output_type": "stream",
     "text": [
      "WARNING:fabio.TiffIO:Data at tag id '65000' is smaller than expected\n",
      "WARNING:fabio.TiffIO:Data at tag id '65000' is smaller than expected\n",
      "WARNING:fabio.TiffIO:Data at tag id '65000' is smaller than expected\n",
      "WARNING:fabio.TiffIO:Data at tag id '65000' is smaller than expected\n",
      "WARNING:fabio.TiffIO:Data at tag id '65000' is smaller than expected\n",
      "WARNING:fabio.TiffIO:Data at tag id '65000' is smaller than expected\n"
     ]
    },
    {
     "name": "stdout",
     "output_type": "stream",
     "text": [
      "LR_LiTFSI_PEDOTPSS_redoped_0V_pos1_2476.00eV_ai0.80_wa0_bpm109.215_id23961_000000_WAXS.tif\n"
     ]
    },
    {
     "name": "stderr",
     "output_type": "stream",
     "text": [
      "WARNING:fabio.TiffIO:Data at tag id '65000' is smaller than expected\n",
      "WARNING:fabio.TiffIO:Data at tag id '65000' is smaller than expected\n",
      "WARNING:fabio.TiffIO:Data at tag id '65000' is smaller than expected\n",
      "WARNING:fabio.TiffIO:Data at tag id '65000' is smaller than expected\n",
      "WARNING:fabio.TiffIO:Data at tag id '65000' is smaller than expected\n",
      "WARNING:fabio.TiffIO:Data at tag id '65000' is smaller than expected\n"
     ]
    },
    {
     "name": "stdout",
     "output_type": "stream",
     "text": [
      "LR_RivnayFrit_P3MEEET_drop_pos1_2476.50eV_ai0.80_wa0_bpm109.137_id23397_000000_WAXS.tif\n"
     ]
    },
    {
     "name": "stderr",
     "output_type": "stream",
     "text": [
      "WARNING:fabio.TiffIO:Data at tag id '65000' is smaller than expected\n",
      "WARNING:fabio.TiffIO:Data at tag id '65000' is smaller than expected\n",
      "WARNING:fabio.TiffIO:Data at tag id '65000' is smaller than expected\n",
      "WARNING:fabio.TiffIO:Data at tag id '65000' is smaller than expected\n",
      "WARNING:fabio.TiffIO:Data at tag id '65000' is smaller than expected\n",
      "WARNING:fabio.TiffIO:Data at tag id '65000' is smaller than expected\n"
     ]
    },
    {
     "name": "stdout",
     "output_type": "stream",
     "text": [
      "LR_AcidPEDOTPSS_RbCl_pos2_2490.00eV_ai0.80_wa0_bpm12.986_id22516_000000_WAXS.tif\n"
     ]
    },
    {
     "name": "stderr",
     "output_type": "stream",
     "text": [
      "WARNING:fabio.TiffIO:Data at tag id '65000' is smaller than expected\n",
      "WARNING:fabio.TiffIO:Data at tag id '65000' is smaller than expected\n",
      "WARNING:fabio.TiffIO:Data at tag id '65000' is smaller than expected\n",
      "WARNING:fabio.TiffIO:Data at tag id '65000' is smaller than expected\n",
      "WARNING:fabio.TiffIO:Data at tag id '65000' is smaller than expected\n",
      "WARNING:fabio.TiffIO:Data at tag id '65000' is smaller than expected\n"
     ]
    },
    {
     "name": "stdout",
     "output_type": "stream",
     "text": [
      "LR_StandardPEDOTPSS_NaBr_pos2_2492.50eV_ai0.80_wa0_bpm13.019_id22967_000000_WAXS.tif\n"
     ]
    },
    {
     "name": "stderr",
     "output_type": "stream",
     "text": [
      "WARNING:fabio.TiffIO:Data at tag id '65000' is smaller than expected\n",
      "WARNING:fabio.TiffIO:Data at tag id '65000' is smaller than expected\n",
      "WARNING:fabio.TiffIO:Data at tag id '65000' is smaller than expected\n",
      "WARNING:fabio.TiffIO:Data at tag id '65000' is smaller than expected\n",
      "WARNING:fabio.TiffIO:Data at tag id '65000' is smaller than expected\n",
      "WARNING:fabio.TiffIO:Data at tag id '65000' is smaller than expected\n"
     ]
    },
    {
     "name": "stdout",
     "output_type": "stream",
     "text": [
      "LR_AcidPEDOTPSS_overdope_p0p6_pos1_2480.00eV_ai0.80_wa0_bpm110.211_id22161_000000_WAXS.tif\n"
     ]
    },
    {
     "name": "stderr",
     "output_type": "stream",
     "text": [
      "WARNING:fabio.TiffIO:Data at tag id '65000' is smaller than expected\n",
      "WARNING:fabio.TiffIO:Data at tag id '65000' is smaller than expected\n",
      "WARNING:fabio.TiffIO:Data at tag id '65000' is smaller than expected\n",
      "WARNING:fabio.TiffIO:Data at tag id '65000' is smaller than expected\n",
      "WARNING:fabio.TiffIO:Data at tag id '65000' is smaller than expected\n",
      "WARNING:fabio.TiffIO:Data at tag id '65000' is smaller than expected\n"
     ]
    },
    {
     "name": "stdout",
     "output_type": "stream",
     "text": [
      "LR_StandardPEDOTPSS_RbBr_pos1_2477.00eV_ai0.80_wa0_bpm109.261_id22833_000000_WAXS.tif\n"
     ]
    },
    {
     "name": "stderr",
     "output_type": "stream",
     "text": [
      "WARNING:fabio.TiffIO:Data at tag id '65000' is smaller than expected\n",
      "WARNING:fabio.TiffIO:Data at tag id '65000' is smaller than expected\n",
      "WARNING:fabio.TiffIO:Data at tag id '65000' is smaller than expected\n",
      "WARNING:fabio.TiffIO:Data at tag id '65000' is smaller than expected\n",
      "WARNING:fabio.TiffIO:Data at tag id '65000' is smaller than expected\n",
      "WARNING:fabio.TiffIO:Data at tag id '65000' is smaller than expected\n"
     ]
    },
    {
     "name": "stdout",
     "output_type": "stream",
     "text": [
      "LR_AcidPEDOTPSS_0V_pos1_2495.00eV_ai0.80_wa0_bpm110.063_id21942_000000_WAXS.tif\n"
     ]
    },
    {
     "name": "stderr",
     "output_type": "stream",
     "text": [
      "WARNING:fabio.TiffIO:Data at tag id '65000' is smaller than expected\n",
      "WARNING:fabio.TiffIO:Data at tag id '65000' is smaller than expected\n",
      "WARNING:fabio.TiffIO:Data at tag id '65000' is smaller than expected\n",
      "WARNING:fabio.TiffIO:Data at tag id '65000' is smaller than expected\n",
      "WARNING:fabio.TiffIO:Data at tag id '65000' is smaller than expected\n",
      "WARNING:fabio.TiffIO:Data at tag id '65000' is smaller than expected\n"
     ]
    },
    {
     "name": "stdout",
     "output_type": "stream",
     "text": [
      "LR_RivnayFrit_P3MEEET_drop_pos1_2492.50eV_ai0.80_wa0_bpm109.600_id23410_000000_WAXS.tif\n"
     ]
    },
    {
     "name": "stderr",
     "output_type": "stream",
     "text": [
      "WARNING:fabio.TiffIO:Data at tag id '65000' is smaller than expected\n",
      "WARNING:fabio.TiffIO:Data at tag id '65000' is smaller than expected\n",
      "WARNING:fabio.TiffIO:Data at tag id '65000' is smaller than expected\n",
      "WARNING:fabio.TiffIO:Data at tag id '65000' is smaller than expected\n",
      "WARNING:fabio.TiffIO:Data at tag id '65000' is smaller than expected\n",
      "WARNING:fabio.TiffIO:Data at tag id '65000' is smaller than expected\n"
     ]
    },
    {
     "name": "stdout",
     "output_type": "stream",
     "text": [
      "LR_AcidPEDOTPSS_dedope_n0p6_pos1_2473.00eV_ai0.80_wa0_bpm110.305_id22037_000000_WAXS.tif\n"
     ]
    },
    {
     "name": "stderr",
     "output_type": "stream",
     "text": [
      "WARNING:fabio.TiffIO:Data at tag id '65000' is smaller than expected\n",
      "WARNING:fabio.TiffIO:Data at tag id '65000' is smaller than expected\n",
      "WARNING:fabio.TiffIO:Data at tag id '65000' is smaller than expected\n",
      "WARNING:fabio.TiffIO:Data at tag id '65000' is smaller than expected\n",
      "WARNING:fabio.TiffIO:Data at tag id '65000' is smaller than expected\n",
      "WARNING:fabio.TiffIO:Data at tag id '65000' is smaller than expected\n"
     ]
    },
    {
     "name": "stdout",
     "output_type": "stream",
     "text": [
      "LR_StandardPEDOTPSS_RbBr_pos1_2477.50eV_ai0.80_wa0_bpm109.217_id22834_000000_WAXS.tif\n"
     ]
    },
    {
     "name": "stderr",
     "output_type": "stream",
     "text": [
      "WARNING:fabio.TiffIO:Data at tag id '65000' is smaller than expected\n",
      "WARNING:fabio.TiffIO:Data at tag id '65000' is smaller than expected\n",
      "WARNING:fabio.TiffIO:Data at tag id '65000' is smaller than expected\n",
      "WARNING:fabio.TiffIO:Data at tag id '65000' is smaller than expected\n",
      "WARNING:fabio.TiffIO:Data at tag id '65000' is smaller than expected\n",
      "WARNING:fabio.TiffIO:Data at tag id '65000' is smaller than expected\n"
     ]
    },
    {
     "name": "stdout",
     "output_type": "stream",
     "text": [
      "LR_StandardPEDOTPSS_RbBr_pos2_2477.00eV_ai0.80_wa0_bpm12.721_id22866_000000_WAXS.tif\n"
     ]
    },
    {
     "name": "stderr",
     "output_type": "stream",
     "text": [
      "WARNING:fabio.TiffIO:Data at tag id '65000' is smaller than expected\n",
      "WARNING:fabio.TiffIO:Data at tag id '65000' is smaller than expected\n",
      "WARNING:fabio.TiffIO:Data at tag id '65000' is smaller than expected\n",
      "WARNING:fabio.TiffIO:Data at tag id '65000' is smaller than expected\n",
      "WARNING:fabio.TiffIO:Data at tag id '65000' is smaller than expected\n",
      "WARNING:fabio.TiffIO:Data at tag id '65000' is smaller than expected\n"
     ]
    },
    {
     "name": "stdout",
     "output_type": "stream",
     "text": [
      "LR_LiTFSI_PEDOTPSS_0V_pos2_2515.00eV_ai0.80_wa0_bpm13.489_id23754_000000_WAXS.tif\n"
     ]
    },
    {
     "name": "stderr",
     "output_type": "stream",
     "text": [
      "WARNING:fabio.TiffIO:Data at tag id '65000' is smaller than expected\n",
      "WARNING:fabio.TiffIO:Data at tag id '65000' is smaller than expected\n",
      "WARNING:fabio.TiffIO:Data at tag id '65000' is smaller than expected\n",
      "WARNING:fabio.TiffIO:Data at tag id '65000' is smaller than expected\n",
      "WARNING:fabio.TiffIO:Data at tag id '65000' is smaller than expected\n",
      "WARNING:fabio.TiffIO:Data at tag id '65000' is smaller than expected\n"
     ]
    },
    {
     "name": "stdout",
     "output_type": "stream",
     "text": [
      "LR_StandardPEDOTPSS_NaBr_pos1_2500.00eV_ai0.80_wa0_bpm109.624_id22960_000000_WAXS.tif\n"
     ]
    },
    {
     "name": "stderr",
     "output_type": "stream",
     "text": [
      "WARNING:fabio.TiffIO:Data at tag id '65000' is smaller than expected\n",
      "WARNING:fabio.TiffIO:Data at tag id '65000' is smaller than expected\n",
      "WARNING:fabio.TiffIO:Data at tag id '65000' is smaller than expected\n",
      "WARNING:fabio.TiffIO:Data at tag id '65000' is smaller than expected\n",
      "WARNING:fabio.TiffIO:Data at tag id '65000' is smaller than expected\n",
      "WARNING:fabio.TiffIO:Data at tag id '65000' is smaller than expected\n"
     ]
    },
    {
     "name": "stdout",
     "output_type": "stream",
     "text": [
      "LR_AcidPEDOTPSS_NaCl_pos2_2480.50eV_ai0.80_wa0_bpm12.818_id22294_000000_WAXS.tif\n"
     ]
    },
    {
     "name": "stderr",
     "output_type": "stream",
     "text": [
      "WARNING:fabio.TiffIO:Data at tag id '65000' is smaller than expected\n",
      "WARNING:fabio.TiffIO:Data at tag id '65000' is smaller than expected\n",
      "WARNING:fabio.TiffIO:Data at tag id '65000' is smaller than expected\n",
      "WARNING:fabio.TiffIO:Data at tag id '65000' is smaller than expected\n",
      "WARNING:fabio.TiffIO:Data at tag id '65000' is smaller than expected\n",
      "WARNING:fabio.TiffIO:Data at tag id '65000' is smaller than expected\n"
     ]
    },
    {
     "name": "stdout",
     "output_type": "stream",
     "text": [
      "LR_P3MEEMT23k115C_0p4_KTFSI_pos2_2475.00eV_ai0.80_wa0_bpm12.713_id23209_000000_WAXS.tif\n"
     ]
    },
    {
     "name": "stderr",
     "output_type": "stream",
     "text": [
      "WARNING:fabio.TiffIO:Data at tag id '65000' is smaller than expected\n",
      "WARNING:fabio.TiffIO:Data at tag id '65000' is smaller than expected\n",
      "WARNING:fabio.TiffIO:Data at tag id '65000' is smaller than expected\n",
      "WARNING:fabio.TiffIO:Data at tag id '65000' is smaller than expected\n",
      "WARNING:fabio.TiffIO:Data at tag id '65000' is smaller than expected\n",
      "WARNING:fabio.TiffIO:Data at tag id '65000' is smaller than expected\n"
     ]
    },
    {
     "name": "stdout",
     "output_type": "stream",
     "text": [
      "LR_AcidPEDOTPSS_NaCl_pos2_2477.50eV_ai0.80_wa0_bpm12.756_id22300_000000_WAXS.tif\n"
     ]
    },
    {
     "name": "stderr",
     "output_type": "stream",
     "text": [
      "WARNING:fabio.TiffIO:Data at tag id '65000' is smaller than expected\n",
      "WARNING:fabio.TiffIO:Data at tag id '65000' is smaller than expected\n",
      "WARNING:fabio.TiffIO:Data at tag id '65000' is smaller than expected\n",
      "WARNING:fabio.TiffIO:Data at tag id '65000' is smaller than expected\n",
      "WARNING:fabio.TiffIO:Data at tag id '65000' is smaller than expected\n",
      "WARNING:fabio.TiffIO:Data at tag id '65000' is smaller than expected\n"
     ]
    },
    {
     "name": "stdout",
     "output_type": "stream",
     "text": [
      "LR_LiTFSI_PEDOTPSS_exposed_pos2_2470.00eV_ai0.80_wa0_bpm12.668_id23663_000000_WAXS.tif\n"
     ]
    },
    {
     "name": "stderr",
     "output_type": "stream",
     "text": [
      "WARNING:fabio.TiffIO:Data at tag id '65000' is smaller than expected\n",
      "WARNING:fabio.TiffIO:Data at tag id '65000' is smaller than expected\n",
      "WARNING:fabio.TiffIO:Data at tag id '65000' is smaller than expected\n",
      "WARNING:fabio.TiffIO:Data at tag id '65000' is smaller than expected\n",
      "WARNING:fabio.TiffIO:Data at tag id '65000' is smaller than expected\n",
      "WARNING:fabio.TiffIO:Data at tag id '65000' is smaller than expected\n"
     ]
    },
    {
     "name": "stdout",
     "output_type": "stream",
     "text": [
      "LR_LiTFSI_PEDOTPSS_RbBr_pos1_2510.00eV_ai0.80_wa0_bpm109.656_id24204_000000_WAXS.tif\n"
     ]
    },
    {
     "name": "stderr",
     "output_type": "stream",
     "text": [
      "WARNING:fabio.TiffIO:Data at tag id '65000' is smaller than expected\n",
      "WARNING:fabio.TiffIO:Data at tag id '65000' is smaller than expected\n",
      "WARNING:fabio.TiffIO:Data at tag id '65000' is smaller than expected\n",
      "WARNING:fabio.TiffIO:Data at tag id '65000' is smaller than expected\n",
      "WARNING:fabio.TiffIO:Data at tag id '65000' is smaller than expected\n",
      "WARNING:fabio.TiffIO:Data at tag id '65000' is smaller than expected\n"
     ]
    },
    {
     "name": "stdout",
     "output_type": "stream",
     "text": [
      "LR_LiTFSI_PEDOTPSS_0V_pos1_2479.50eV_ai0.80_wa0_bpm109.787_id23742_000000_WAXS.tif\n"
     ]
    },
    {
     "name": "stderr",
     "output_type": "stream",
     "text": [
      "WARNING:fabio.TiffIO:Data at tag id '65000' is smaller than expected\n",
      "WARNING:fabio.TiffIO:Data at tag id '65000' is smaller than expected\n",
      "WARNING:fabio.TiffIO:Data at tag id '65000' is smaller than expected\n",
      "WARNING:fabio.TiffIO:Data at tag id '65000' is smaller than expected\n",
      "WARNING:fabio.TiffIO:Data at tag id '65000' is smaller than expected\n",
      "WARNING:fabio.TiffIO:Data at tag id '65000' is smaller than expected\n"
     ]
    },
    {
     "name": "stdout",
     "output_type": "stream",
     "text": [
      "LR_AcidPEDOTPSS_NaBr_pos1_2476.50eV_ai0.80_wa0_bpm109.928_id22380_000000_WAXS.tif\n"
     ]
    },
    {
     "name": "stderr",
     "output_type": "stream",
     "text": [
      "WARNING:fabio.TiffIO:Data at tag id '65000' is smaller than expected\n",
      "WARNING:fabio.TiffIO:Data at tag id '65000' is smaller than expected\n",
      "WARNING:fabio.TiffIO:Data at tag id '65000' is smaller than expected\n",
      "WARNING:fabio.TiffIO:Data at tag id '65000' is smaller than expected\n",
      "WARNING:fabio.TiffIO:Data at tag id '65000' is smaller than expected\n",
      "WARNING:fabio.TiffIO:Data at tag id '65000' is smaller than expected\n"
     ]
    },
    {
     "name": "stdout",
     "output_type": "stream",
     "text": [
      "LR_LiTFSI_PEDOTPSS_dedoped_n0p6_pos2_2480.00eV_ai0.80_wa0_bpm12.740_id23877_000000_WAXS.tif\n"
     ]
    },
    {
     "name": "stderr",
     "output_type": "stream",
     "text": [
      "WARNING:fabio.TiffIO:Data at tag id '65000' is smaller than expected\n",
      "WARNING:fabio.TiffIO:Data at tag id '65000' is smaller than expected\n",
      "WARNING:fabio.TiffIO:Data at tag id '65000' is smaller than expected\n",
      "WARNING:fabio.TiffIO:Data at tag id '65000' is smaller than expected\n",
      "WARNING:fabio.TiffIO:Data at tag id '65000' is smaller than expected\n",
      "WARNING:fabio.TiffIO:Data at tag id '65000' is smaller than expected\n"
     ]
    },
    {
     "name": "stdout",
     "output_type": "stream",
     "text": [
      "LR_StandardPEDOTPSS_NaBr_pos1_2480.00eV_ai0.80_wa0_bpm109.719_id22952_000000_WAXS.tif\n"
     ]
    },
    {
     "name": "stderr",
     "output_type": "stream",
     "text": [
      "WARNING:fabio.TiffIO:Data at tag id '65000' is smaller than expected\n",
      "WARNING:fabio.TiffIO:Data at tag id '65000' is smaller than expected\n",
      "WARNING:fabio.TiffIO:Data at tag id '65000' is smaller than expected\n",
      "WARNING:fabio.TiffIO:Data at tag id '65000' is smaller than expected\n",
      "WARNING:fabio.TiffIO:Data at tag id '65000' is smaller than expected\n",
      "WARNING:fabio.TiffIO:Data at tag id '65000' is smaller than expected\n"
     ]
    },
    {
     "name": "stdout",
     "output_type": "stream",
     "text": [
      "LR_AcidPEDOTPSS_overdope_p0p6_pos2_2480.00eV_ai0.80_wa0_bpm12.775_id22182_000000_WAXS.tif\n"
     ]
    },
    {
     "name": "stderr",
     "output_type": "stream",
     "text": [
      "WARNING:fabio.TiffIO:Data at tag id '65000' is smaller than expected\n",
      "WARNING:fabio.TiffIO:Data at tag id '65000' is smaller than expected\n",
      "WARNING:fabio.TiffIO:Data at tag id '65000' is smaller than expected\n",
      "WARNING:fabio.TiffIO:Data at tag id '65000' is smaller than expected\n",
      "WARNING:fabio.TiffIO:Data at tag id '65000' is smaller than expected\n",
      "WARNING:fabio.TiffIO:Data at tag id '65000' is smaller than expected\n"
     ]
    },
    {
     "name": "stdout",
     "output_type": "stream",
     "text": [
      "LR_LiTFSI_PEDOTPSS_dedoped_n0p6_pos2_2476.00eV_ai0.80_wa0_bpm12.642_id23885_000000_WAXS.tif\n"
     ]
    },
    {
     "name": "stderr",
     "output_type": "stream",
     "text": [
      "WARNING:fabio.TiffIO:Data at tag id '65000' is smaller than expected\n",
      "WARNING:fabio.TiffIO:Data at tag id '65000' is smaller than expected\n",
      "WARNING:fabio.TiffIO:Data at tag id '65000' is smaller than expected\n",
      "WARNING:fabio.TiffIO:Data at tag id '65000' is smaller than expected\n",
      "WARNING:fabio.TiffIO:Data at tag id '65000' is smaller than expected\n",
      "WARNING:fabio.TiffIO:Data at tag id '65000' is smaller than expected\n"
     ]
    },
    {
     "name": "stdout",
     "output_type": "stream",
     "text": [
      "LR_LiTFSI_PEDOTPSS_redoped_0V_pos1_2495.00eV_ai0.80_wa0_bpm109.755_id23976_000000_WAXS.tif\n"
     ]
    },
    {
     "name": "stderr",
     "output_type": "stream",
     "text": [
      "WARNING:fabio.TiffIO:Data at tag id '65000' is smaller than expected\n",
      "WARNING:fabio.TiffIO:Data at tag id '65000' is smaller than expected\n",
      "WARNING:fabio.TiffIO:Data at tag id '65000' is smaller than expected\n",
      "WARNING:fabio.TiffIO:Data at tag id '65000' is smaller than expected\n",
      "WARNING:fabio.TiffIO:Data at tag id '65000' is smaller than expected\n",
      "WARNING:fabio.TiffIO:Data at tag id '65000' is smaller than expected\n"
     ]
    },
    {
     "name": "stdout",
     "output_type": "stream",
     "text": [
      "LR_LiTFSI_PEDOTPSS_RbBr_pos1_2476.00eV_ai0.80_wa0_bpm109.159_id24187_000000_WAXS.tif\n"
     ]
    },
    {
     "name": "stderr",
     "output_type": "stream",
     "text": [
      "WARNING:fabio.TiffIO:Data at tag id '65000' is smaller than expected\n",
      "WARNING:fabio.TiffIO:Data at tag id '65000' is smaller than expected\n",
      "WARNING:fabio.TiffIO:Data at tag id '65000' is smaller than expected\n",
      "WARNING:fabio.TiffIO:Data at tag id '65000' is smaller than expected\n",
      "WARNING:fabio.TiffIO:Data at tag id '65000' is smaller than expected\n",
      "WARNING:fabio.TiffIO:Data at tag id '65000' is smaller than expected\n"
     ]
    },
    {
     "name": "stdout",
     "output_type": "stream",
     "text": [
      "LR_AcidPEDOTPSS_overdope_p0p6_pos2_2495.00eV_ai0.80_wa0_bpm13.130_id22175_000000_WAXS.tif\n"
     ]
    },
    {
     "name": "stderr",
     "output_type": "stream",
     "text": [
      "WARNING:fabio.TiffIO:Data at tag id '65000' is smaller than expected\n",
      "WARNING:fabio.TiffIO:Data at tag id '65000' is smaller than expected\n",
      "WARNING:fabio.TiffIO:Data at tag id '65000' is smaller than expected\n",
      "WARNING:fabio.TiffIO:Data at tag id '65000' is smaller than expected\n",
      "WARNING:fabio.TiffIO:Data at tag id '65000' is smaller than expected\n",
      "WARNING:fabio.TiffIO:Data at tag id '65000' is smaller than expected\n"
     ]
    },
    {
     "name": "stdout",
     "output_type": "stream",
     "text": [
      "LR_LiTFSI_PEDOTPSS_as_pos2_2478.50eV_ai0.80_wa0_bpm12.724_id23541_000000_WAXS.tif\n"
     ]
    },
    {
     "name": "stderr",
     "output_type": "stream",
     "text": [
      "WARNING:fabio.TiffIO:Data at tag id '65000' is smaller than expected\n",
      "WARNING:fabio.TiffIO:Data at tag id '65000' is smaller than expected\n",
      "WARNING:fabio.TiffIO:Data at tag id '65000' is smaller than expected\n",
      "WARNING:fabio.TiffIO:Data at tag id '65000' is smaller than expected\n",
      "WARNING:fabio.TiffIO:Data at tag id '65000' is smaller than expected\n",
      "WARNING:fabio.TiffIO:Data at tag id '65000' is smaller than expected\n"
     ]
    },
    {
     "name": "stdout",
     "output_type": "stream",
     "text": [
      "LR_LiTFSI_PEDOTPSS_as_pos1_2475.50eV_ai0.80_wa0_bpm109.297_id23508_000000_WAXS.tif\n"
     ]
    },
    {
     "name": "stderr",
     "output_type": "stream",
     "text": [
      "WARNING:fabio.TiffIO:Data at tag id '65000' is smaller than expected\n",
      "WARNING:fabio.TiffIO:Data at tag id '65000' is smaller than expected\n",
      "WARNING:fabio.TiffIO:Data at tag id '65000' is smaller than expected\n",
      "WARNING:fabio.TiffIO:Data at tag id '65000' is smaller than expected\n",
      "WARNING:fabio.TiffIO:Data at tag id '65000' is smaller than expected\n",
      "WARNING:fabio.TiffIO:Data at tag id '65000' is smaller than expected\n"
     ]
    },
    {
     "name": "stdout",
     "output_type": "stream",
     "text": [
      "LR_AcidPEDOTPSS_RbCl_pos2_2479.00eV_ai0.80_wa0_bpm12.734_id22523_000000_WAXS.tif\n"
     ]
    },
    {
     "name": "stderr",
     "output_type": "stream",
     "text": [
      "WARNING:fabio.TiffIO:Data at tag id '65000' is smaller than expected\n",
      "WARNING:fabio.TiffIO:Data at tag id '65000' is smaller than expected\n",
      "WARNING:fabio.TiffIO:Data at tag id '65000' is smaller than expected\n",
      "WARNING:fabio.TiffIO:Data at tag id '65000' is smaller than expected\n",
      "WARNING:fabio.TiffIO:Data at tag id '65000' is smaller than expected\n",
      "WARNING:fabio.TiffIO:Data at tag id '65000' is smaller than expected\n"
     ]
    },
    {
     "name": "stdout",
     "output_type": "stream",
     "text": [
      "LR_StandardPEDOTPSS_as_pos2_2476.50eV_ai0.80_wa0_bpm12.706_id22754_000000_WAXS.tif\n"
     ]
    },
    {
     "name": "stderr",
     "output_type": "stream",
     "text": [
      "WARNING:fabio.TiffIO:Data at tag id '65000' is smaller than expected\n",
      "WARNING:fabio.TiffIO:Data at tag id '65000' is smaller than expected\n",
      "WARNING:fabio.TiffIO:Data at tag id '65000' is smaller than expected\n",
      "WARNING:fabio.TiffIO:Data at tag id '65000' is smaller than expected\n",
      "WARNING:fabio.TiffIO:Data at tag id '65000' is smaller than expected\n",
      "WARNING:fabio.TiffIO:Data at tag id '65000' is smaller than expected\n"
     ]
    },
    {
     "name": "stdout",
     "output_type": "stream",
     "text": [
      "LR_LiTFSI_PEDOTPSS_dedoped_n0p6_pos2_2476.50eV_ai0.80_wa0_bpm12.656_id23884_000000_WAXS.tif\n"
     ]
    },
    {
     "name": "stderr",
     "output_type": "stream",
     "text": [
      "WARNING:fabio.TiffIO:Data at tag id '65000' is smaller than expected\n",
      "WARNING:fabio.TiffIO:Data at tag id '65000' is smaller than expected\n",
      "WARNING:fabio.TiffIO:Data at tag id '65000' is smaller than expected\n",
      "WARNING:fabio.TiffIO:Data at tag id '65000' is smaller than expected\n",
      "WARNING:fabio.TiffIO:Data at tag id '65000' is smaller than expected\n",
      "WARNING:fabio.TiffIO:Data at tag id '65000' is smaller than expected\n"
     ]
    },
    {
     "name": "stdout",
     "output_type": "stream",
     "text": [
      "LR_StandardPEDOTPSS_NaBr_pos2_2478.50eV_ai0.80_wa0_bpm12.671_id22976_000000_WAXS.tif\n"
     ]
    },
    {
     "name": "stderr",
     "output_type": "stream",
     "text": [
      "WARNING:fabio.TiffIO:Data at tag id '65000' is smaller than expected\n",
      "WARNING:fabio.TiffIO:Data at tag id '65000' is smaller than expected\n",
      "WARNING:fabio.TiffIO:Data at tag id '65000' is smaller than expected\n",
      "WARNING:fabio.TiffIO:Data at tag id '65000' is smaller than expected\n",
      "WARNING:fabio.TiffIO:Data at tag id '65000' is smaller than expected\n",
      "WARNING:fabio.TiffIO:Data at tag id '65000' is smaller than expected\n"
     ]
    },
    {
     "name": "stdout",
     "output_type": "stream",
     "text": [
      "LR_AcidPEDOTPSS_RbBr_pos2_2485.00eV_ai0.80_wa0_bpm12.828_id22631_000000_WAXS.tif\n"
     ]
    },
    {
     "name": "stderr",
     "output_type": "stream",
     "text": [
      "WARNING:fabio.TiffIO:Data at tag id '65000' is smaller than expected\n",
      "WARNING:fabio.TiffIO:Data at tag id '65000' is smaller than expected\n",
      "WARNING:fabio.TiffIO:Data at tag id '65000' is smaller than expected\n",
      "WARNING:fabio.TiffIO:Data at tag id '65000' is smaller than expected\n",
      "WARNING:fabio.TiffIO:Data at tag id '65000' is smaller than expected\n",
      "WARNING:fabio.TiffIO:Data at tag id '65000' is smaller than expected\n"
     ]
    },
    {
     "name": "stdout",
     "output_type": "stream",
     "text": [
      "LR_LiTFSI_PEDOTPSS_dedoped_n0p6_pos1_2460.00eV_ai0.80_wa0_bpm109.789_id23842_000000_WAXS.tif\n"
     ]
    },
    {
     "name": "stderr",
     "output_type": "stream",
     "text": [
      "WARNING:fabio.TiffIO:Data at tag id '65000' is smaller than expected\n",
      "WARNING:fabio.TiffIO:Data at tag id '65000' is smaller than expected\n",
      "WARNING:fabio.TiffIO:Data at tag id '65000' is smaller than expected\n",
      "WARNING:fabio.TiffIO:Data at tag id '65000' is smaller than expected\n",
      "WARNING:fabio.TiffIO:Data at tag id '65000' is smaller than expected\n",
      "WARNING:fabio.TiffIO:Data at tag id '65000' is smaller than expected\n"
     ]
    },
    {
     "name": "stdout",
     "output_type": "stream",
     "text": [
      "LR_StandardPEDOTPSS_NaBr_pos2_2476.50eV_ai0.80_wa0_bpm12.661_id22980_000000_WAXS.tif\n"
     ]
    },
    {
     "name": "stderr",
     "output_type": "stream",
     "text": [
      "WARNING:fabio.TiffIO:Data at tag id '65000' is smaller than expected\n",
      "WARNING:fabio.TiffIO:Data at tag id '65000' is smaller than expected\n",
      "WARNING:fabio.TiffIO:Data at tag id '65000' is smaller than expected\n",
      "WARNING:fabio.TiffIO:Data at tag id '65000' is smaller than expected\n",
      "WARNING:fabio.TiffIO:Data at tag id '65000' is smaller than expected\n",
      "WARNING:fabio.TiffIO:Data at tag id '65000' is smaller than expected\n"
     ]
    },
    {
     "name": "stdout",
     "output_type": "stream",
     "text": [
      "LR_AcidPEDOTPSS_dedope_n0p6_pos1_2455.00eV_ai0.80_wa0_bpm110.530_id22033_000000_WAXS.tif\n"
     ]
    },
    {
     "name": "stderr",
     "output_type": "stream",
     "text": [
      "WARNING:fabio.TiffIO:Data at tag id '65000' is smaller than expected\n",
      "WARNING:fabio.TiffIO:Data at tag id '65000' is smaller than expected\n",
      "WARNING:fabio.TiffIO:Data at tag id '65000' is smaller than expected\n",
      "WARNING:fabio.TiffIO:Data at tag id '65000' is smaller than expected\n",
      "WARNING:fabio.TiffIO:Data at tag id '65000' is smaller than expected\n",
      "WARNING:fabio.TiffIO:Data at tag id '65000' is smaller than expected\n"
     ]
    },
    {
     "name": "stdout",
     "output_type": "stream",
     "text": [
      "LR_RivnayFrit_P3MEEET_drop_pos2_2485.00eV_ai0.80_wa0_bpm12.815_id23422_000000_WAXS.tif\n"
     ]
    },
    {
     "name": "stderr",
     "output_type": "stream",
     "text": [
      "WARNING:fabio.TiffIO:Data at tag id '65000' is smaller than expected\n",
      "WARNING:fabio.TiffIO:Data at tag id '65000' is smaller than expected\n",
      "WARNING:fabio.TiffIO:Data at tag id '65000' is smaller than expected\n",
      "WARNING:fabio.TiffIO:Data at tag id '65000' is smaller than expected\n",
      "WARNING:fabio.TiffIO:Data at tag id '65000' is smaller than expected\n"
     ]
    },
    {
     "name": "stdout",
     "output_type": "stream",
     "text": [
      "LR_LiTFSI_PEDOTPSS_redoped_0V_pos1_2473.00eV_ai0.80_wa0_bpm109.496_id23958_000000_WAXS.tif\n"
     ]
    },
    {
     "name": "stderr",
     "output_type": "stream",
     "text": [
      "WARNING:fabio.TiffIO:Data at tag id '65000' is smaller than expected\n",
      "WARNING:fabio.TiffIO:Data at tag id '65000' is smaller than expected\n",
      "WARNING:fabio.TiffIO:Data at tag id '65000' is smaller than expected\n",
      "WARNING:fabio.TiffIO:Data at tag id '65000' is smaller than expected\n",
      "WARNING:fabio.TiffIO:Data at tag id '65000' is smaller than expected\n",
      "WARNING:fabio.TiffIO:Data at tag id '65000' is smaller than expected\n",
      "WARNING:fabio.TiffIO:Data at tag id '65000' is smaller than expected\n"
     ]
    },
    {
     "name": "stdout",
     "output_type": "stream",
     "text": [
      "LR_LiTFSI_PEDOTPSS_as_pos1_2500.00eV_ai0.80_wa0_bpm109.299_id23525_000000_WAXS.tif\n"
     ]
    },
    {
     "name": "stderr",
     "output_type": "stream",
     "text": [
      "WARNING:fabio.TiffIO:Data at tag id '65000' is smaller than expected\n",
      "WARNING:fabio.TiffIO:Data at tag id '65000' is smaller than expected\n",
      "WARNING:fabio.TiffIO:Data at tag id '65000' is smaller than expected\n",
      "WARNING:fabio.TiffIO:Data at tag id '65000' is smaller than expected\n",
      "WARNING:fabio.TiffIO:Data at tag id '65000' is smaller than expected\n",
      "WARNING:fabio.TiffIO:Data at tag id '65000' is smaller than expected\n"
     ]
    },
    {
     "name": "stdout",
     "output_type": "stream",
     "text": [
      "LR_AcidPEDOTPSS_0V_pos1_2475.50eV_ai0.80_wa0_bpm109.961_id21926_000000_WAXS.tif\n"
     ]
    },
    {
     "name": "stderr",
     "output_type": "stream",
     "text": [
      "WARNING:fabio.TiffIO:Data at tag id '65000' is smaller than expected\n",
      "WARNING:fabio.TiffIO:Data at tag id '65000' is smaller than expected\n",
      "WARNING:fabio.TiffIO:Data at tag id '65000' is smaller than expected\n",
      "WARNING:fabio.TiffIO:Data at tag id '65000' is smaller than expected\n",
      "WARNING:fabio.TiffIO:Data at tag id '65000' is smaller than expected\n",
      "WARNING:fabio.TiffIO:Data at tag id '65000' is smaller than expected\n"
     ]
    },
    {
     "name": "stdout",
     "output_type": "stream",
     "text": [
      "LR_LiTFSI_PEDOTPSS_RbBr_pos1_2490.00eV_ai0.80_wa0_bpm109.557_id24200_000000_WAXS.tif\n"
     ]
    },
    {
     "name": "stderr",
     "output_type": "stream",
     "text": [
      "WARNING:fabio.TiffIO:Data at tag id '65000' is smaller than expected\n",
      "WARNING:fabio.TiffIO:Data at tag id '65000' is smaller than expected\n",
      "WARNING:fabio.TiffIO:Data at tag id '65000' is smaller than expected\n",
      "WARNING:fabio.TiffIO:Data at tag id '65000' is smaller than expected\n",
      "WARNING:fabio.TiffIO:Data at tag id '65000' is smaller than expected\n",
      "WARNING:fabio.TiffIO:Data at tag id '65000' is smaller than expected\n"
     ]
    },
    {
     "name": "stdout",
     "output_type": "stream",
     "text": [
      "LR_AcidPEDOTPSS_RbCl_pos1_2478.50eV_ai0.80_wa0_bpm109.955_id22497_000000_WAXS.tif\n"
     ]
    },
    {
     "name": "stderr",
     "output_type": "stream",
     "text": [
      "WARNING:fabio.TiffIO:Data at tag id '65000' is smaller than expected\n",
      "WARNING:fabio.TiffIO:Data at tag id '65000' is smaller than expected\n",
      "WARNING:fabio.TiffIO:Data at tag id '65000' is smaller than expected\n",
      "WARNING:fabio.TiffIO:Data at tag id '65000' is smaller than expected\n",
      "WARNING:fabio.TiffIO:Data at tag id '65000' is smaller than expected\n",
      "WARNING:fabio.TiffIO:Data at tag id '65000' is smaller than expected\n"
     ]
    },
    {
     "name": "stdout",
     "output_type": "stream",
     "text": [
      "LR_LiTFSI_PEDOTPSS_RbBr_pos2_2460.00eV_ai0.80_wa0_bpm12.643_id24230_000000_WAXS.tif\n"
     ]
    },
    {
     "name": "stderr",
     "output_type": "stream",
     "text": [
      "WARNING:fabio.TiffIO:Data at tag id '65000' is smaller than expected\n",
      "WARNING:fabio.TiffIO:Data at tag id '65000' is smaller than expected\n",
      "WARNING:fabio.TiffIO:Data at tag id '65000' is smaller than expected\n",
      "WARNING:fabio.TiffIO:Data at tag id '65000' is smaller than expected\n",
      "WARNING:fabio.TiffIO:Data at tag id '65000' is smaller than expected\n",
      "WARNING:fabio.TiffIO:Data at tag id '65000' is smaller than expected\n"
     ]
    },
    {
     "name": "stdout",
     "output_type": "stream",
     "text": [
      "LR_P3MEEMT23k115C_0p7_KTFSI_pos2_2485.00eV_ai0.80_wa0_bpm12.795_id23083_000000_WAXS.tif\n"
     ]
    },
    {
     "name": "stderr",
     "output_type": "stream",
     "text": [
      "WARNING:fabio.TiffIO:Data at tag id '65000' is smaller than expected\n",
      "WARNING:fabio.TiffIO:Data at tag id '65000' is smaller than expected\n",
      "WARNING:fabio.TiffIO:Data at tag id '65000' is smaller than expected\n",
      "WARNING:fabio.TiffIO:Data at tag id '65000' is smaller than expected\n",
      "WARNING:fabio.TiffIO:Data at tag id '65000' is smaller than expected\n",
      "WARNING:fabio.TiffIO:Data at tag id '65000' is smaller than expected\n"
     ]
    },
    {
     "name": "stdout",
     "output_type": "stream",
     "text": [
      "LR_AcidPEDOTPSS_NaBr_pos2_2485.00eV_ai0.80_wa0_bpm12.912_id22405_000000_WAXS.tif\n"
     ]
    },
    {
     "name": "stderr",
     "output_type": "stream",
     "text": [
      "WARNING:fabio.TiffIO:Data at tag id '65000' is smaller than expected\n",
      "WARNING:fabio.TiffIO:Data at tag id '65000' is smaller than expected\n",
      "WARNING:fabio.TiffIO:Data at tag id '65000' is smaller than expected\n",
      "WARNING:fabio.TiffIO:Data at tag id '65000' is smaller than expected\n",
      "WARNING:fabio.TiffIO:Data at tag id '65000' is smaller than expected\n",
      "WARNING:fabio.TiffIO:Data at tag id '65000' is smaller than expected\n"
     ]
    },
    {
     "name": "stdout",
     "output_type": "stream",
     "text": [
      "LR_StandardPEDOTPSS_as_pos2_2500.00eV_ai0.80_wa0_bpm13.191_id22739_000000_WAXS.tif\n"
     ]
    },
    {
     "name": "stderr",
     "output_type": "stream",
     "text": [
      "WARNING:fabio.TiffIO:Data at tag id '65000' is smaller than expected\n",
      "WARNING:fabio.TiffIO:Data at tag id '65000' is smaller than expected\n",
      "WARNING:fabio.TiffIO:Data at tag id '65000' is smaller than expected\n",
      "WARNING:fabio.TiffIO:Data at tag id '65000' is smaller than expected\n",
      "WARNING:fabio.TiffIO:Data at tag id '65000' is smaller than expected\n",
      "WARNING:fabio.TiffIO:Data at tag id '65000' is smaller than expected\n"
     ]
    },
    {
     "name": "stdout",
     "output_type": "stream",
     "text": [
      "LR_AcidPEDOTPSS_RbBr_pos2_2510.00eV_ai0.80_wa0_bpm13.413_id22625_000000_WAXS.tif\n"
     ]
    },
    {
     "name": "stderr",
     "output_type": "stream",
     "text": [
      "WARNING:fabio.TiffIO:Data at tag id '65000' is smaller than expected\n",
      "WARNING:fabio.TiffIO:Data at tag id '65000' is smaller than expected\n",
      "WARNING:fabio.TiffIO:Data at tag id '65000' is smaller than expected\n",
      "WARNING:fabio.TiffIO:Data at tag id '65000' is smaller than expected\n",
      "WARNING:fabio.TiffIO:Data at tag id '65000' is smaller than expected\n",
      "WARNING:fabio.TiffIO:Data at tag id '65000' is smaller than expected\n"
     ]
    },
    {
     "name": "stdout",
     "output_type": "stream",
     "text": [
      "LR_AcidPEDOTPSS_as_pos1_2492.50eV_ai0.80_wa0_bpm110.876_id21715_000000_WAXS.tif\n"
     ]
    },
    {
     "name": "stderr",
     "output_type": "stream",
     "text": [
      "WARNING:fabio.TiffIO:Data at tag id '65000' is smaller than expected\n",
      "WARNING:fabio.TiffIO:Data at tag id '65000' is smaller than expected\n",
      "WARNING:fabio.TiffIO:Data at tag id '65000' is smaller than expected\n",
      "WARNING:fabio.TiffIO:Data at tag id '65000' is smaller than expected\n",
      "WARNING:fabio.TiffIO:Data at tag id '65000' is smaller than expected\n",
      "WARNING:fabio.TiffIO:Data at tag id '65000' is smaller than expected\n"
     ]
    },
    {
     "name": "stdout",
     "output_type": "stream",
     "text": [
      "LR_RivnayFrit_P3MEEET_drop_pos1_2490.00eV_ai0.80_wa0_bpm109.776_id23409_000000_WAXS.tif\n"
     ]
    },
    {
     "name": "stderr",
     "output_type": "stream",
     "text": [
      "WARNING:fabio.TiffIO:Data at tag id '65000' is smaller than expected\n",
      "WARNING:fabio.TiffIO:Data at tag id '65000' is smaller than expected\n",
      "WARNING:fabio.TiffIO:Data at tag id '65000' is smaller than expected\n",
      "WARNING:fabio.TiffIO:Data at tag id '65000' is smaller than expected\n",
      "WARNING:fabio.TiffIO:Data at tag id '65000' is smaller than expected\n",
      "WARNING:fabio.TiffIO:Data at tag id '65000' is smaller than expected\n"
     ]
    },
    {
     "name": "stdout",
     "output_type": "stream",
     "text": [
      "LR_LiTFSI_PEDOTPSS_dedoped_n0p6_pos2_2485.00eV_ai0.80_wa0_bpm12.812_id23874_000000_WAXS.tif\n"
     ]
    },
    {
     "name": "stderr",
     "output_type": "stream",
     "text": [
      "WARNING:fabio.TiffIO:Data at tag id '65000' is smaller than expected\n",
      "WARNING:fabio.TiffIO:Data at tag id '65000' is smaller than expected\n",
      "WARNING:fabio.TiffIO:Data at tag id '65000' is smaller than expected\n",
      "WARNING:fabio.TiffIO:Data at tag id '65000' is smaller than expected\n",
      "WARNING:fabio.TiffIO:Data at tag id '65000' is smaller than expected\n",
      "WARNING:fabio.TiffIO:Data at tag id '65000' is smaller than expected\n"
     ]
    },
    {
     "name": "stdout",
     "output_type": "stream",
     "text": [
      "LR_StandardPEDOTPSS_as_pos1_2479.00eV_ai0.80_wa0_bpm109.580_id22724_000000_WAXS.tif\n"
     ]
    },
    {
     "name": "stderr",
     "output_type": "stream",
     "text": [
      "WARNING:fabio.TiffIO:Data at tag id '65000' is smaller than expected\n",
      "WARNING:fabio.TiffIO:Data at tag id '65000' is smaller than expected\n",
      "WARNING:fabio.TiffIO:Data at tag id '65000' is smaller than expected\n",
      "WARNING:fabio.TiffIO:Data at tag id '65000' is smaller than expected\n",
      "WARNING:fabio.TiffIO:Data at tag id '65000' is smaller than expected\n",
      "WARNING:fabio.TiffIO:Data at tag id '65000' is smaller than expected\n"
     ]
    },
    {
     "name": "stdout",
     "output_type": "stream",
     "text": [
      "LR_StandardPEDOTPSS_NaBr_pos1_2483.00eV_ai0.80_wa0_bpm109.662_id22954_000000_WAXS.tif\n"
     ]
    },
    {
     "name": "stderr",
     "output_type": "stream",
     "text": [
      "WARNING:fabio.TiffIO:Data at tag id '65000' is smaller than expected\n",
      "WARNING:fabio.TiffIO:Data at tag id '65000' is smaller than expected\n",
      "WARNING:fabio.TiffIO:Data at tag id '65000' is smaller than expected\n",
      "WARNING:fabio.TiffIO:Data at tag id '65000' is smaller than expected\n",
      "WARNING:fabio.TiffIO:Data at tag id '65000' is smaller than expected\n",
      "WARNING:fabio.TiffIO:Data at tag id '65000' is smaller than expected\n"
     ]
    },
    {
     "name": "stdout",
     "output_type": "stream",
     "text": [
      "LR_LiTFSI_PEDOTPSS_0V_pos2_2490.00eV_ai0.80_wa0_bpm12.975_id23759_000000_WAXS.tif\n"
     ]
    },
    {
     "name": "stderr",
     "output_type": "stream",
     "text": [
      "WARNING:fabio.TiffIO:Data at tag id '65000' is smaller than expected\n",
      "WARNING:fabio.TiffIO:Data at tag id '65000' is smaller than expected\n",
      "WARNING:fabio.TiffIO:Data at tag id '65000' is smaller than expected\n",
      "WARNING:fabio.TiffIO:Data at tag id '65000' is smaller than expected\n",
      "WARNING:fabio.TiffIO:Data at tag id '65000' is smaller than expected\n",
      "WARNING:fabio.TiffIO:Data at tag id '65000' is smaller than expected\n"
     ]
    },
    {
     "name": "stdout",
     "output_type": "stream",
     "text": [
      "LR_AcidPEDOTPSS_RbCl_pos1_2510.00eV_ai0.80_wa0_bpm110.233_id22509_000000_WAXS.tif\n"
     ]
    },
    {
     "name": "stderr",
     "output_type": "stream",
     "text": [
      "WARNING:fabio.TiffIO:Data at tag id '65000' is smaller than expected\n",
      "WARNING:fabio.TiffIO:Data at tag id '65000' is smaller than expected\n",
      "WARNING:fabio.TiffIO:Data at tag id '65000' is smaller than expected\n",
      "WARNING:fabio.TiffIO:Data at tag id '65000' is smaller than expected\n",
      "WARNING:fabio.TiffIO:Data at tag id '65000' is smaller than expected\n",
      "WARNING:fabio.TiffIO:Data at tag id '65000' is smaller than expected\n"
     ]
    },
    {
     "name": "stdout",
     "output_type": "stream",
     "text": [
      "LR_AcidPEDOTPSS_dedope_n0p6_pos2_2470.00eV_ai0.80_wa0_bpm12.724_id22081_000000_WAXS.tif\n"
     ]
    },
    {
     "name": "stderr",
     "output_type": "stream",
     "text": [
      "WARNING:fabio.TiffIO:Data at tag id '65000' is smaller than expected\n",
      "WARNING:fabio.TiffIO:Data at tag id '65000' is smaller than expected\n",
      "WARNING:fabio.TiffIO:Data at tag id '65000' is smaller than expected\n",
      "WARNING:fabio.TiffIO:Data at tag id '65000' is smaller than expected\n",
      "WARNING:fabio.TiffIO:Data at tag id '65000' is smaller than expected\n",
      "WARNING:fabio.TiffIO:Data at tag id '65000' is smaller than expected\n"
     ]
    },
    {
     "name": "stdout",
     "output_type": "stream",
     "text": [
      "LR_LiTFSI_PEDOTPSS_0V_pos2_2460.00eV_ai0.80_wa0_bpm12.655_id23778_000000_WAXS.tif\n"
     ]
    },
    {
     "name": "stderr",
     "output_type": "stream",
     "text": [
      "WARNING:fabio.TiffIO:Data at tag id '65000' is smaller than expected\n",
      "WARNING:fabio.TiffIO:Data at tag id '65000' is smaller than expected\n",
      "WARNING:fabio.TiffIO:Data at tag id '65000' is smaller than expected\n",
      "WARNING:fabio.TiffIO:Data at tag id '65000' is smaller than expected\n",
      "WARNING:fabio.TiffIO:Data at tag id '65000' is smaller than expected\n",
      "WARNING:fabio.TiffIO:Data at tag id '65000' is smaller than expected\n"
     ]
    },
    {
     "name": "stdout",
     "output_type": "stream",
     "text": [
      "LR_LiTFSI_PEDOTPSS_redoped_0V_pos2_2465.00eV_ai0.80_wa0_bpm12.627_id24003_000000_WAXS.tif\n"
     ]
    },
    {
     "name": "stderr",
     "output_type": "stream",
     "text": [
      "WARNING:fabio.TiffIO:Data at tag id '65000' is smaller than expected\n",
      "WARNING:fabio.TiffIO:Data at tag id '65000' is smaller than expected\n",
      "WARNING:fabio.TiffIO:Data at tag id '65000' is smaller than expected\n",
      "WARNING:fabio.TiffIO:Data at tag id '65000' is smaller than expected\n",
      "WARNING:fabio.TiffIO:Data at tag id '65000' is smaller than expected\n",
      "WARNING:fabio.TiffIO:Data at tag id '65000' is smaller than expected\n"
     ]
    },
    {
     "name": "stdout",
     "output_type": "stream",
     "text": [
      "LR_LiTFSI_PEDOTPSS_RbBr_pos2_2476.50eV_ai0.80_wa0_bpm12.718_id24223_000000_WAXS.tif\n"
     ]
    },
    {
     "name": "stderr",
     "output_type": "stream",
     "text": [
      "WARNING:fabio.TiffIO:Data at tag id '65000' is smaller than expected\n",
      "WARNING:fabio.TiffIO:Data at tag id '65000' is smaller than expected\n",
      "WARNING:fabio.TiffIO:Data at tag id '65000' is smaller than expected\n",
      "WARNING:fabio.TiffIO:Data at tag id '65000' is smaller than expected\n",
      "WARNING:fabio.TiffIO:Data at tag id '65000' is smaller than expected\n",
      "WARNING:fabio.TiffIO:Data at tag id '65000' is smaller than expected\n"
     ]
    },
    {
     "name": "stdout",
     "output_type": "stream",
     "text": [
      "LR_P3MEEMT23k115C_un_pos1_2475.00eV_ai0.80_wa0_bpm109.127_id23281_000000_WAXS.tif\n"
     ]
    },
    {
     "name": "stderr",
     "output_type": "stream",
     "text": [
      "WARNING:fabio.TiffIO:Data at tag id '65000' is smaller than expected\n",
      "WARNING:fabio.TiffIO:Data at tag id '65000' is smaller than expected\n",
      "WARNING:fabio.TiffIO:Data at tag id '65000' is smaller than expected\n",
      "WARNING:fabio.TiffIO:Data at tag id '65000' is smaller than expected\n",
      "WARNING:fabio.TiffIO:Data at tag id '65000' is smaller than expected\n",
      "WARNING:fabio.TiffIO:Data at tag id '65000' is smaller than expected\n"
     ]
    },
    {
     "name": "stdout",
     "output_type": "stream",
     "text": [
      "LR_AcidPEDOTPSS_overdope_p0p6_pos2_2476.50eV_ai0.80_wa0_bpm12.697_id22189_000000_WAXS.tif\n"
     ]
    },
    {
     "name": "stderr",
     "output_type": "stream",
     "text": [
      "WARNING:fabio.TiffIO:Data at tag id '65000' is smaller than expected\n",
      "WARNING:fabio.TiffIO:Data at tag id '65000' is smaller than expected\n",
      "WARNING:fabio.TiffIO:Data at tag id '65000' is smaller than expected\n",
      "WARNING:fabio.TiffIO:Data at tag id '65000' is smaller than expected\n",
      "WARNING:fabio.TiffIO:Data at tag id '65000' is smaller than expected\n",
      "WARNING:fabio.TiffIO:Data at tag id '65000' is smaller than expected\n"
     ]
    },
    {
     "name": "stdout",
     "output_type": "stream",
     "text": [
      "LR_AcidPEDOTPSS_exposed_pos2_2465.00eV_ai0.80_wa0_bpm12.697_id21856_000000_WAXS.tif\n"
     ]
    },
    {
     "name": "stderr",
     "output_type": "stream",
     "text": [
      "WARNING:fabio.TiffIO:Data at tag id '65000' is smaller than expected\n",
      "WARNING:fabio.TiffIO:Data at tag id '65000' is smaller than expected\n",
      "WARNING:fabio.TiffIO:Data at tag id '65000' is smaller than expected\n",
      "WARNING:fabio.TiffIO:Data at tag id '65000' is smaller than expected\n",
      "WARNING:fabio.TiffIO:Data at tag id '65000' is smaller than expected\n",
      "WARNING:fabio.TiffIO:Data at tag id '65000' is smaller than expected\n"
     ]
    },
    {
     "name": "stdout",
     "output_type": "stream",
     "text": [
      "LR_AcidPEDOTPSS_RbBr_pos1_2480.00eV_ai0.80_wa0_bpm109.945_id22613_000000_WAXS.tif\n"
     ]
    },
    {
     "name": "stderr",
     "output_type": "stream",
     "text": [
      "WARNING:fabio.TiffIO:Data at tag id '65000' is smaller than expected\n",
      "WARNING:fabio.TiffIO:Data at tag id '65000' is smaller than expected\n",
      "WARNING:fabio.TiffIO:Data at tag id '65000' is smaller than expected\n",
      "WARNING:fabio.TiffIO:Data at tag id '65000' is smaller than expected\n",
      "WARNING:fabio.TiffIO:Data at tag id '65000' is smaller than expected\n",
      "WARNING:fabio.TiffIO:Data at tag id '65000' is smaller than expected\n"
     ]
    },
    {
     "name": "stdout",
     "output_type": "stream",
     "text": [
      "LR_AcidPEDOTPSS_RbCl_pos2_2465.00eV_ai0.80_wa0_bpm12.650_id22534_000000_WAXS.tif\n"
     ]
    },
    {
     "name": "stderr",
     "output_type": "stream",
     "text": [
      "WARNING:fabio.TiffIO:Data at tag id '65000' is smaller than expected\n",
      "WARNING:fabio.TiffIO:Data at tag id '65000' is smaller than expected\n",
      "WARNING:fabio.TiffIO:Data at tag id '65000' is smaller than expected\n",
      "WARNING:fabio.TiffIO:Data at tag id '65000' is smaller than expected\n",
      "WARNING:fabio.TiffIO:Data at tag id '65000' is smaller than expected\n",
      "WARNING:fabio.TiffIO:Data at tag id '65000' is smaller than expected\n"
     ]
    },
    {
     "name": "stdout",
     "output_type": "stream",
     "text": [
      "LR_LiTFSI_PEDOTPSS_overdoped_p0p6V_pos2_2450.00eV_ai0.80_wa0_bpm12.615_id24119_000000_WAXS.tif\n"
     ]
    },
    {
     "name": "stderr",
     "output_type": "stream",
     "text": [
      "WARNING:fabio.TiffIO:Data at tag id '65000' is smaller than expected\n",
      "WARNING:fabio.TiffIO:Data at tag id '65000' is smaller than expected\n",
      "WARNING:fabio.TiffIO:Data at tag id '65000' is smaller than expected\n",
      "WARNING:fabio.TiffIO:Data at tag id '65000' is smaller than expected\n",
      "WARNING:fabio.TiffIO:Data at tag id '65000' is smaller than expected\n",
      "WARNING:fabio.TiffIO:Data at tag id '65000' is smaller than expected\n"
     ]
    },
    {
     "name": "stdout",
     "output_type": "stream",
     "text": [
      "LR_StandardPEDOTPSS_NaBr_pos2_2470.00eV_ai0.80_wa0_bpm12.664_id22985_000000_WAXS.tif\n"
     ]
    },
    {
     "name": "stderr",
     "output_type": "stream",
     "text": [
      "WARNING:fabio.TiffIO:Data at tag id '65000' is smaller than expected\n",
      "WARNING:fabio.TiffIO:Data at tag id '65000' is smaller than expected\n",
      "WARNING:fabio.TiffIO:Data at tag id '65000' is smaller than expected\n",
      "WARNING:fabio.TiffIO:Data at tag id '65000' is smaller than expected\n",
      "WARNING:fabio.TiffIO:Data at tag id '65000' is smaller than expected\n",
      "WARNING:fabio.TiffIO:Data at tag id '65000' is smaller than expected\n"
     ]
    },
    {
     "name": "stdout",
     "output_type": "stream",
     "text": [
      "LR_AcidPEDOTPSS_RbCl_pos1_2483.00eV_ai0.80_wa0_bpm109.931_id22502_000000_WAXS.tif\n"
     ]
    },
    {
     "name": "stderr",
     "output_type": "stream",
     "text": [
      "WARNING:fabio.TiffIO:Data at tag id '65000' is smaller than expected\n",
      "WARNING:fabio.TiffIO:Data at tag id '65000' is smaller than expected\n",
      "WARNING:fabio.TiffIO:Data at tag id '65000' is smaller than expected\n",
      "WARNING:fabio.TiffIO:Data at tag id '65000' is smaller than expected\n"
     ]
    },
    {
     "name": "stdout",
     "output_type": "stream",
     "text": [
      "LR_LiTFSI_PEDOTPSS_exposed_pos1_2460.00eV_ai0.80_wa0_bpm109.833_id23616_000000_WAXS.tif\n"
     ]
    },
    {
     "name": "stderr",
     "output_type": "stream",
     "text": [
      "WARNING:fabio.TiffIO:Data at tag id '65000' is smaller than expected\n",
      "WARNING:fabio.TiffIO:Data at tag id '65000' is smaller than expected\n",
      "WARNING:fabio.TiffIO:Data at tag id '65000' is smaller than expected\n",
      "WARNING:fabio.TiffIO:Data at tag id '65000' is smaller than expected\n",
      "WARNING:fabio.TiffIO:Data at tag id '65000' is smaller than expected\n",
      "WARNING:fabio.TiffIO:Data at tag id '65000' is smaller than expected\n",
      "WARNING:fabio.TiffIO:Data at tag id '65000' is smaller than expected\n",
      "WARNING:fabio.TiffIO:Data at tag id '65000' is smaller than expected\n"
     ]
    },
    {
     "name": "stdout",
     "output_type": "stream",
     "text": [
      "LR_LiTFSI_PEDOTPSS_as_pos2_2500.00eV_ai0.80_wa0_bpm13.182_id23530_000000_WAXS.tif\n"
     ]
    },
    {
     "name": "stderr",
     "output_type": "stream",
     "text": [
      "WARNING:fabio.TiffIO:Data at tag id '65000' is smaller than expected\n",
      "WARNING:fabio.TiffIO:Data at tag id '65000' is smaller than expected\n",
      "WARNING:fabio.TiffIO:Data at tag id '65000' is smaller than expected\n",
      "WARNING:fabio.TiffIO:Data at tag id '65000' is smaller than expected\n",
      "WARNING:fabio.TiffIO:Data at tag id '65000' is smaller than expected\n",
      "WARNING:fabio.TiffIO:Data at tag id '65000' is smaller than expected\n"
     ]
    },
    {
     "name": "stdout",
     "output_type": "stream",
     "text": [
      "LR_StandardPEDOTPSS_RbBr_pos2_2490.00eV_ai0.80_wa0_bpm12.945_id22855_000000_WAXS.tif\n"
     ]
    },
    {
     "name": "stderr",
     "output_type": "stream",
     "text": [
      "WARNING:fabio.TiffIO:Data at tag id '65000' is smaller than expected\n",
      "WARNING:fabio.TiffIO:Data at tag id '65000' is smaller than expected\n",
      "WARNING:fabio.TiffIO:Data at tag id '65000' is smaller than expected\n",
      "WARNING:fabio.TiffIO:Data at tag id '65000' is smaller than expected\n",
      "WARNING:fabio.TiffIO:Data at tag id '65000' is smaller than expected\n",
      "WARNING:fabio.TiffIO:Data at tag id '65000' is smaller than expected\n"
     ]
    },
    {
     "name": "stdout",
     "output_type": "stream",
     "text": [
      "LR_AcidPEDOTPSS_dedope_n0p6_pos1_2477.00eV_ai0.80_wa0_bpm110.109_id22042_000000_WAXS.tif\n"
     ]
    },
    {
     "name": "stderr",
     "output_type": "stream",
     "text": [
      "WARNING:fabio.TiffIO:Data at tag id '65000' is smaller than expected\n",
      "WARNING:fabio.TiffIO:Data at tag id '65000' is smaller than expected\n",
      "WARNING:fabio.TiffIO:Data at tag id '65000' is smaller than expected\n",
      "WARNING:fabio.TiffIO:Data at tag id '65000' is smaller than expected\n",
      "WARNING:fabio.TiffIO:Data at tag id '65000' is smaller than expected\n",
      "WARNING:fabio.TiffIO:Data at tag id '65000' is smaller than expected\n"
     ]
    },
    {
     "name": "stdout",
     "output_type": "stream",
     "text": [
      "LR_LiTFSI_PEDOTPSS_dedoped_n0p6_pos2_2465.00eV_ai0.80_wa0_bpm12.594_id23890_000000_WAXS.tif\n"
     ]
    },
    {
     "name": "stderr",
     "output_type": "stream",
     "text": [
      "WARNING:fabio.TiffIO:Data at tag id '65000' is smaller than expected\n",
      "WARNING:fabio.TiffIO:Data at tag id '65000' is smaller than expected\n",
      "WARNING:fabio.TiffIO:Data at tag id '65000' is smaller than expected\n",
      "WARNING:fabio.TiffIO:Data at tag id '65000' is smaller than expected\n",
      "WARNING:fabio.TiffIO:Data at tag id '65000' is smaller than expected\n",
      "WARNING:fabio.TiffIO:Data at tag id '65000' is smaller than expected\n"
     ]
    },
    {
     "name": "stdout",
     "output_type": "stream",
     "text": [
      "LR_LiTFSI_PEDOTPSS_0V_pos1_2483.00eV_ai0.80_wa0_bpm110.037_id23745_000000_WAXS.tif\n"
     ]
    },
    {
     "name": "stderr",
     "output_type": "stream",
     "text": [
      "WARNING:fabio.TiffIO:Data at tag id '65000' is smaller than expected\n",
      "WARNING:fabio.TiffIO:Data at tag id '65000' is smaller than expected\n",
      "WARNING:fabio.TiffIO:Data at tag id '65000' is smaller than expected\n",
      "WARNING:fabio.TiffIO:Data at tag id '65000' is smaller than expected\n",
      "WARNING:fabio.TiffIO:Data at tag id '65000' is smaller than expected\n",
      "WARNING:fabio.TiffIO:Data at tag id '65000' is smaller than expected\n"
     ]
    },
    {
     "name": "stdout",
     "output_type": "stream",
     "text": [
      "LR_LiTFSI_PEDOTPSS_exposed_pos2_2476.00eV_ai0.80_wa0_bpm12.718_id23659_000000_WAXS.tif\n"
     ]
    },
    {
     "name": "stderr",
     "output_type": "stream",
     "text": [
      "WARNING:fabio.TiffIO:Data at tag id '65000' is smaller than expected\n",
      "WARNING:fabio.TiffIO:Data at tag id '65000' is smaller than expected\n",
      "WARNING:fabio.TiffIO:Data at tag id '65000' is smaller than expected\n",
      "WARNING:fabio.TiffIO:Data at tag id '65000' is smaller than expected\n",
      "WARNING:fabio.TiffIO:Data at tag id '65000' is smaller than expected\n",
      "WARNING:fabio.TiffIO:Data at tag id '65000' is smaller than expected\n"
     ]
    },
    {
     "name": "stdout",
     "output_type": "stream",
     "text": [
      "LR_P3MEEMT23k115C_0p4_KTFSI_pos2_2450.00eV_ai0.80_wa0_bpm12.629_id23215_000000_WAXS.tif\n"
     ]
    },
    {
     "name": "stderr",
     "output_type": "stream",
     "text": [
      "WARNING:fabio.TiffIO:Data at tag id '65000' is smaller than expected\n",
      "WARNING:fabio.TiffIO:Data at tag id '65000' is smaller than expected\n",
      "WARNING:fabio.TiffIO:Data at tag id '65000' is smaller than expected\n",
      "WARNING:fabio.TiffIO:Data at tag id '65000' is smaller than expected\n",
      "WARNING:fabio.TiffIO:Data at tag id '65000' is smaller than expected\n",
      "WARNING:fabio.TiffIO:Data at tag id '65000' is smaller than expected\n"
     ]
    },
    {
     "name": "stdout",
     "output_type": "stream",
     "text": [
      "LR_P3MEEMT23k115C_un_pos1_2480.50eV_ai0.80_wa0_bpm109.369_id23292_000000_WAXS.tif\n"
     ]
    },
    {
     "name": "stderr",
     "output_type": "stream",
     "text": [
      "WARNING:fabio.TiffIO:Data at tag id '65000' is smaller than expected\n",
      "WARNING:fabio.TiffIO:Data at tag id '65000' is smaller than expected\n",
      "WARNING:fabio.TiffIO:Data at tag id '65000' is smaller than expected\n",
      "WARNING:fabio.TiffIO:Data at tag id '65000' is smaller than expected\n",
      "WARNING:fabio.TiffIO:Data at tag id '65000' is smaller than expected\n",
      "WARNING:fabio.TiffIO:Data at tag id '65000' is smaller than expected\n"
     ]
    },
    {
     "name": "stdout",
     "output_type": "stream",
     "text": [
      "LR_AcidPEDOTPSS_as_pos2_2479.50eV_ai0.80_wa0_bpm12.830_id21731_000000_WAXS.tif\n"
     ]
    },
    {
     "name": "stderr",
     "output_type": "stream",
     "text": [
      "WARNING:fabio.TiffIO:Data at tag id '65000' is smaller than expected\n",
      "WARNING:fabio.TiffIO:Data at tag id '65000' is smaller than expected\n",
      "WARNING:fabio.TiffIO:Data at tag id '65000' is smaller than expected\n",
      "WARNING:fabio.TiffIO:Data at tag id '65000' is smaller than expected\n",
      "WARNING:fabio.TiffIO:Data at tag id '65000' is smaller than expected\n",
      "WARNING:fabio.TiffIO:Data at tag id '65000' is smaller than expected\n"
     ]
    },
    {
     "name": "stdout",
     "output_type": "stream",
     "text": [
      "LR_AcidPEDOTPSS_dedope_n0p6_pos2_2495.00eV_ai0.80_wa0_bpm13.127_id22062_000000_WAXS.tif\n"
     ]
    },
    {
     "name": "stderr",
     "output_type": "stream",
     "text": [
      "WARNING:fabio.TiffIO:Data at tag id '65000' is smaller than expected\n",
      "WARNING:fabio.TiffIO:Data at tag id '65000' is smaller than expected\n",
      "WARNING:fabio.TiffIO:Data at tag id '65000' is smaller than expected\n",
      "WARNING:fabio.TiffIO:Data at tag id '65000' is smaller than expected\n",
      "WARNING:fabio.TiffIO:Data at tag id '65000' is smaller than expected\n",
      "WARNING:fabio.TiffIO:Data at tag id '65000' is smaller than expected\n"
     ]
    },
    {
     "name": "stdout",
     "output_type": "stream",
     "text": [
      "LR_AcidPEDOTPSS_as_pos1_2477.50eV_ai0.80_wa0_bpm110.256_id21704_000000_WAXS.tif\n"
     ]
    },
    {
     "name": "stderr",
     "output_type": "stream",
     "text": [
      "WARNING:fabio.TiffIO:Data at tag id '65000' is smaller than expected\n",
      "WARNING:fabio.TiffIO:Data at tag id '65000' is smaller than expected\n",
      "WARNING:fabio.TiffIO:Data at tag id '65000' is smaller than expected\n",
      "WARNING:fabio.TiffIO:Data at tag id '65000' is smaller than expected\n",
      "WARNING:fabio.TiffIO:Data at tag id '65000' is smaller than expected\n",
      "WARNING:fabio.TiffIO:Data at tag id '65000' is smaller than expected\n"
     ]
    },
    {
     "name": "stdout",
     "output_type": "stream",
     "text": [
      "LR_P3MEEMT23k115C_0p4_KTFSI_pos2_2492.50eV_ai0.80_wa0_bpm13.013_id23193_000000_WAXS.tif\n"
     ]
    },
    {
     "name": "stderr",
     "output_type": "stream",
     "text": [
      "WARNING:fabio.TiffIO:Data at tag id '65000' is smaller than expected\n",
      "WARNING:fabio.TiffIO:Data at tag id '65000' is smaller than expected\n",
      "WARNING:fabio.TiffIO:Data at tag id '65000' is smaller than expected\n",
      "WARNING:fabio.TiffIO:Data at tag id '65000' is smaller than expected\n",
      "WARNING:fabio.TiffIO:Data at tag id '65000' is smaller than expected\n",
      "WARNING:fabio.TiffIO:Data at tag id '65000' is smaller than expected\n"
     ]
    },
    {
     "name": "stdout",
     "output_type": "stream",
     "text": [
      "LR_P3MEEMT23k115C_0p4_KTFSI_pos1_2478.50eV_ai0.80_wa0_bpm109.582_id23175_000000_WAXS.tif\n"
     ]
    },
    {
     "name": "stderr",
     "output_type": "stream",
     "text": [
      "WARNING:fabio.TiffIO:Data at tag id '65000' is smaller than expected\n",
      "WARNING:fabio.TiffIO:Data at tag id '65000' is smaller than expected\n",
      "WARNING:fabio.TiffIO:Data at tag id '65000' is smaller than expected\n",
      "WARNING:fabio.TiffIO:Data at tag id '65000' is smaller than expected\n",
      "WARNING:fabio.TiffIO:Data at tag id '65000' is smaller than expected\n",
      "WARNING:fabio.TiffIO:Data at tag id '65000' is smaller than expected\n"
     ]
    },
    {
     "name": "stdout",
     "output_type": "stream",
     "text": [
      "LR_LiTFSI_PEDOTPSS_0V_pos2_2476.50eV_ai0.80_wa0_bpm12.699_id23771_000000_WAXS.tif\n"
     ]
    },
    {
     "name": "stderr",
     "output_type": "stream",
     "text": [
      "WARNING:fabio.TiffIO:Data at tag id '65000' is smaller than expected\n",
      "WARNING:fabio.TiffIO:Data at tag id '65000' is smaller than expected\n",
      "WARNING:fabio.TiffIO:Data at tag id '65000' is smaller than expected\n",
      "WARNING:fabio.TiffIO:Data at tag id '65000' is smaller than expected\n",
      "WARNING:fabio.TiffIO:Data at tag id '65000' is smaller than expected\n",
      "WARNING:fabio.TiffIO:Data at tag id '65000' is smaller than expected\n"
     ]
    },
    {
     "name": "stdout",
     "output_type": "stream",
     "text": [
      "LR_AcidPEDOTPSS_NaBr_pos2_2487.50eV_ai0.80_wa0_bpm12.991_id22404_000000_WAXS.tif\n"
     ]
    },
    {
     "name": "stderr",
     "output_type": "stream",
     "text": [
      "WARNING:fabio.TiffIO:Data at tag id '65000' is smaller than expected\n",
      "WARNING:fabio.TiffIO:Data at tag id '65000' is smaller than expected\n",
      "WARNING:fabio.TiffIO:Data at tag id '65000' is smaller than expected\n",
      "WARNING:fabio.TiffIO:Data at tag id '65000' is smaller than expected\n",
      "WARNING:fabio.TiffIO:Data at tag id '65000' is smaller than expected\n",
      "WARNING:fabio.TiffIO:Data at tag id '65000' is smaller than expected\n"
     ]
    },
    {
     "name": "stdout",
     "output_type": "stream",
     "text": [
      "LR_LiTFSI_PEDOTPSS_RbBr_pos2_2477.00eV_ai0.80_wa0_bpm12.724_id24222_000000_WAXS.tif\n"
     ]
    },
    {
     "name": "stderr",
     "output_type": "stream",
     "text": [
      "WARNING:fabio.TiffIO:Data at tag id '65000' is smaller than expected\n",
      "WARNING:fabio.TiffIO:Data at tag id '65000' is smaller than expected\n",
      "WARNING:fabio.TiffIO:Data at tag id '65000' is smaller than expected\n",
      "WARNING:fabio.TiffIO:Data at tag id '65000' is smaller than expected\n",
      "WARNING:fabio.TiffIO:Data at tag id '65000' is smaller than expected\n",
      "WARNING:fabio.TiffIO:Data at tag id '65000' is smaller than expected\n"
     ]
    },
    {
     "name": "stdout",
     "output_type": "stream",
     "text": [
      "LR_LiTFSI_PEDOTPSS_exposed_pos1_2477.00eV_ai0.80_wa0_bpm109.254_id23624_000000_WAXS.tif\n"
     ]
    },
    {
     "name": "stderr",
     "output_type": "stream",
     "text": [
      "WARNING:fabio.TiffIO:Data at tag id '65000' is smaller than expected\n",
      "WARNING:fabio.TiffIO:Data at tag id '65000' is smaller than expected\n",
      "WARNING:fabio.TiffIO:Data at tag id '65000' is smaller than expected\n",
      "WARNING:fabio.TiffIO:Data at tag id '65000' is smaller than expected\n",
      "WARNING:fabio.TiffIO:Data at tag id '65000' is smaller than expected\n",
      "WARNING:fabio.TiffIO:Data at tag id '65000' is smaller than expected\n"
     ]
    },
    {
     "name": "stdout",
     "output_type": "stream",
     "text": [
      "LR_RivnayFrit_P3MEEET_drop_pos2_2475.00eV_ai0.80_wa0_bpm12.654_id23435_000000_WAXS.tif\n"
     ]
    },
    {
     "name": "stderr",
     "output_type": "stream",
     "text": [
      "WARNING:fabio.TiffIO:Data at tag id '65000' is smaller than expected\n",
      "WARNING:fabio.TiffIO:Data at tag id '65000' is smaller than expected\n",
      "WARNING:fabio.TiffIO:Data at tag id '65000' is smaller than expected\n",
      "WARNING:fabio.TiffIO:Data at tag id '65000' is smaller than expected\n",
      "WARNING:fabio.TiffIO:Data at tag id '65000' is smaller than expected\n",
      "WARNING:fabio.TiffIO:Data at tag id '65000' is smaller than expected\n"
     ]
    },
    {
     "name": "stdout",
     "output_type": "stream",
     "text": [
      "LR_AcidPEDOTPSS_RbCl_pos1_2477.50eV_ai0.80_wa0_bpm109.835_id22495_000000_WAXS.tif\n"
     ]
    },
    {
     "name": "stderr",
     "output_type": "stream",
     "text": [
      "WARNING:fabio.TiffIO:Data at tag id '65000' is smaller than expected\n",
      "WARNING:fabio.TiffIO:Data at tag id '65000' is smaller than expected\n",
      "WARNING:fabio.TiffIO:Data at tag id '65000' is smaller than expected\n",
      "WARNING:fabio.TiffIO:Data at tag id '65000' is smaller than expected\n",
      "WARNING:fabio.TiffIO:Data at tag id '65000' is smaller than expected\n",
      "WARNING:fabio.TiffIO:Data at tag id '65000' is smaller than expected\n"
     ]
    },
    {
     "name": "stdout",
     "output_type": "stream",
     "text": [
      "LR_AcidPEDOTPSS_NaCl_pos2_2490.00eV_ai0.80_wa0_bpm13.049_id22290_000000_WAXS.tif\n"
     ]
    },
    {
     "name": "stderr",
     "output_type": "stream",
     "text": [
      "WARNING:fabio.TiffIO:Data at tag id '65000' is smaller than expected\n",
      "WARNING:fabio.TiffIO:Data at tag id '65000' is smaller than expected\n",
      "WARNING:fabio.TiffIO:Data at tag id '65000' is smaller than expected\n",
      "WARNING:fabio.TiffIO:Data at tag id '65000' is smaller than expected\n",
      "WARNING:fabio.TiffIO:Data at tag id '65000' is smaller than expected\n",
      "WARNING:fabio.TiffIO:Data at tag id '65000' is smaller than expected\n"
     ]
    },
    {
     "name": "stdout",
     "output_type": "stream",
     "text": [
      "LR_RivnayFrit_P3MEEET_drop_pos1_2510.00eV_ai0.80_wa0_bpm109.882_id23413_000000_WAXS.tif\n"
     ]
    },
    {
     "name": "stderr",
     "output_type": "stream",
     "text": [
      "WARNING:fabio.TiffIO:Data at tag id '65000' is smaller than expected\n",
      "WARNING:fabio.TiffIO:Data at tag id '65000' is smaller than expected\n",
      "WARNING:fabio.TiffIO:Data at tag id '65000' is smaller than expected\n",
      "WARNING:fabio.TiffIO:Data at tag id '65000' is smaller than expected\n",
      "WARNING:fabio.TiffIO:Data at tag id '65000' is smaller than expected\n",
      "WARNING:fabio.TiffIO:Data at tag id '65000' is smaller than expected\n"
     ]
    },
    {
     "name": "stdout",
     "output_type": "stream",
     "text": [
      "LR_AcidPEDOTPSS_NaCl_pos2_2450.00eV_ai0.80_wa0_bpm12.616_id22311_000000_WAXS.tif\n"
     ]
    },
    {
     "name": "stderr",
     "output_type": "stream",
     "text": [
      "WARNING:fabio.TiffIO:Data at tag id '65000' is smaller than expected\n",
      "WARNING:fabio.TiffIO:Data at tag id '65000' is smaller than expected\n",
      "WARNING:fabio.TiffIO:Data at tag id '65000' is smaller than expected\n",
      "WARNING:fabio.TiffIO:Data at tag id '65000' is smaller than expected\n",
      "WARNING:fabio.TiffIO:Data at tag id '65000' is smaller than expected\n",
      "WARNING:fabio.TiffIO:Data at tag id '65000' is smaller than expected\n"
     ]
    },
    {
     "name": "stdout",
     "output_type": "stream",
     "text": [
      "LR_StandardPEDOTPSS_as_pos1_2473.00eV_ai0.80_wa0_bpm109.567_id22715_000000_WAXS.tif\n"
     ]
    },
    {
     "name": "stderr",
     "output_type": "stream",
     "text": [
      "WARNING:fabio.TiffIO:Data at tag id '65000' is smaller than expected\n",
      "WARNING:fabio.TiffIO:Data at tag id '65000' is smaller than expected\n",
      "WARNING:fabio.TiffIO:Data at tag id '65000' is smaller than expected\n",
      "WARNING:fabio.TiffIO:Data at tag id '65000' is smaller than expected\n",
      "WARNING:fabio.TiffIO:Data at tag id '65000' is smaller than expected\n",
      "WARNING:fabio.TiffIO:Data at tag id '65000' is smaller than expected\n"
     ]
    },
    {
     "name": "stdout",
     "output_type": "stream",
     "text": [
      "LR_StandardPEDOTPSS_as_pos1_2510.00eV_ai0.80_wa0_bpm110.217_id22735_000000_WAXS.tif\n"
     ]
    },
    {
     "name": "stderr",
     "output_type": "stream",
     "text": [
      "WARNING:fabio.TiffIO:Data at tag id '65000' is smaller than expected\n",
      "WARNING:fabio.TiffIO:Data at tag id '65000' is smaller than expected\n",
      "WARNING:fabio.TiffIO:Data at tag id '65000' is smaller than expected\n",
      "WARNING:fabio.TiffIO:Data at tag id '65000' is smaller than expected\n",
      "WARNING:fabio.TiffIO:Data at tag id '65000' is smaller than expected\n",
      "WARNING:fabio.TiffIO:Data at tag id '65000' is smaller than expected\n"
     ]
    },
    {
     "name": "stdout",
     "output_type": "stream",
     "text": [
      "LR_LiTFSI_PEDOTPSS_dedoped_n0p6_pos1_2479.00eV_ai0.80_wa0_bpm109.576_id23854_000000_WAXS.tif\n"
     ]
    },
    {
     "name": "stderr",
     "output_type": "stream",
     "text": [
      "WARNING:fabio.TiffIO:Data at tag id '65000' is smaller than expected\n",
      "WARNING:fabio.TiffIO:Data at tag id '65000' is smaller than expected\n",
      "WARNING:fabio.TiffIO:Data at tag id '65000' is smaller than expected\n",
      "WARNING:fabio.TiffIO:Data at tag id '65000' is smaller than expected\n",
      "WARNING:fabio.TiffIO:Data at tag id '65000' is smaller than expected\n",
      "WARNING:fabio.TiffIO:Data at tag id '65000' is smaller than expected\n"
     ]
    },
    {
     "name": "stdout",
     "output_type": "stream",
     "text": [
      "LR_AcidPEDOTPSS_RbCl_pos1_2477.00eV_ai0.80_wa0_bpm109.745_id22494_000000_WAXS.tif\n"
     ]
    },
    {
     "name": "stderr",
     "output_type": "stream",
     "text": [
      "WARNING:fabio.TiffIO:Data at tag id '65000' is smaller than expected\n",
      "WARNING:fabio.TiffIO:Data at tag id '65000' is smaller than expected\n",
      "WARNING:fabio.TiffIO:Data at tag id '65000' is smaller than expected\n",
      "WARNING:fabio.TiffIO:Data at tag id '65000' is smaller than expected\n",
      "WARNING:fabio.TiffIO:Data at tag id '65000' is smaller than expected\n",
      "WARNING:fabio.TiffIO:Data at tag id '65000' is smaller than expected\n"
     ]
    },
    {
     "name": "stdout",
     "output_type": "stream",
     "text": [
      "LR_LiTFSI_PEDOTPSS_as_pos1_2492.50eV_ai0.80_wa0_bpm109.428_id23523_000000_WAXS.tif\n"
     ]
    },
    {
     "name": "stderr",
     "output_type": "stream",
     "text": [
      "WARNING:fabio.TiffIO:Data at tag id '65000' is smaller than expected\n",
      "WARNING:fabio.TiffIO:Data at tag id '65000' is smaller than expected\n",
      "WARNING:fabio.TiffIO:Data at tag id '65000' is smaller than expected\n",
      "WARNING:fabio.TiffIO:Data at tag id '65000' is smaller than expected\n",
      "WARNING:fabio.TiffIO:Data at tag id '65000' is smaller than expected\n",
      "WARNING:fabio.TiffIO:Data at tag id '65000' is smaller than expected\n"
     ]
    },
    {
     "name": "stdout",
     "output_type": "stream",
     "text": [
      "LR_AcidPEDOTPSS_NaBr_pos2_2476.50eV_ai0.80_wa0_bpm12.747_id22415_000000_WAXS.tif\n"
     ]
    },
    {
     "name": "stderr",
     "output_type": "stream",
     "text": [
      "WARNING:fabio.TiffIO:Data at tag id '65000' is smaller than expected\n",
      "WARNING:fabio.TiffIO:Data at tag id '65000' is smaller than expected\n",
      "WARNING:fabio.TiffIO:Data at tag id '65000' is smaller than expected\n",
      "WARNING:fabio.TiffIO:Data at tag id '65000' is smaller than expected\n",
      "WARNING:fabio.TiffIO:Data at tag id '65000' is smaller than expected\n",
      "WARNING:fabio.TiffIO:Data at tag id '65000' is smaller than expected\n"
     ]
    },
    {
     "name": "stdout",
     "output_type": "stream",
     "text": [
      "LR_LiTFSI_PEDOTPSS_as_pos1_2476.00eV_ai0.80_wa0_bpm109.153_id23509_000000_WAXS.tif\n"
     ]
    },
    {
     "name": "stderr",
     "output_type": "stream",
     "text": [
      "WARNING:fabio.TiffIO:Data at tag id '65000' is smaller than expected\n",
      "WARNING:fabio.TiffIO:Data at tag id '65000' is smaller than expected\n",
      "WARNING:fabio.TiffIO:Data at tag id '65000' is smaller than expected\n",
      "WARNING:fabio.TiffIO:Data at tag id '65000' is smaller than expected\n",
      "WARNING:fabio.TiffIO:Data at tag id '65000' is smaller than expected\n",
      "WARNING:fabio.TiffIO:Data at tag id '65000' is smaller than expected\n"
     ]
    },
    {
     "name": "stdout",
     "output_type": "stream",
     "text": [
      "LR_StandardPEDOTPSS_RbBr_pos1_2478.50eV_ai0.80_wa0_bpm109.409_id22836_000000_WAXS.tif\n"
     ]
    },
    {
     "name": "stderr",
     "output_type": "stream",
     "text": [
      "WARNING:fabio.TiffIO:Data at tag id '65000' is smaller than expected\n",
      "WARNING:fabio.TiffIO:Data at tag id '65000' is smaller than expected\n",
      "WARNING:fabio.TiffIO:Data at tag id '65000' is smaller than expected\n",
      "WARNING:fabio.TiffIO:Data at tag id '65000' is smaller than expected\n",
      "WARNING:fabio.TiffIO:Data at tag id '65000' is smaller than expected\n",
      "WARNING:fabio.TiffIO:Data at tag id '65000' is smaller than expected\n"
     ]
    },
    {
     "name": "stdout",
     "output_type": "stream",
     "text": [
      "LR_P3MEEMT23k115C_0p4_KTFSI_pos1_2477.50eV_ai0.80_wa0_bpm109.454_id23173_000000_WAXS.tif\n"
     ]
    },
    {
     "name": "stderr",
     "output_type": "stream",
     "text": [
      "WARNING:fabio.TiffIO:Data at tag id '65000' is smaller than expected\n",
      "WARNING:fabio.TiffIO:Data at tag id '65000' is smaller than expected\n",
      "WARNING:fabio.TiffIO:Data at tag id '65000' is smaller than expected\n",
      "WARNING:fabio.TiffIO:Data at tag id '65000' is smaller than expected\n",
      "WARNING:fabio.TiffIO:Data at tag id '65000' is smaller than expected\n",
      "WARNING:fabio.TiffIO:Data at tag id '65000' is smaller than expected\n"
     ]
    },
    {
     "name": "stdout",
     "output_type": "stream",
     "text": [
      "LR_RivnayFrit_P3MEEET_drop_pos2_2460.00eV_ai0.80_wa0_bpm12.568_id23439_000000_WAXS.tif\n"
     ]
    },
    {
     "name": "stderr",
     "output_type": "stream",
     "text": [
      "WARNING:fabio.TiffIO:Data at tag id '65000' is smaller than expected\n",
      "WARNING:fabio.TiffIO:Data at tag id '65000' is smaller than expected\n",
      "WARNING:fabio.TiffIO:Data at tag id '65000' is smaller than expected\n",
      "WARNING:fabio.TiffIO:Data at tag id '65000' is smaller than expected\n",
      "WARNING:fabio.TiffIO:Data at tag id '65000' is smaller than expected\n",
      "WARNING:fabio.TiffIO:Data at tag id '65000' is smaller than expected\n"
     ]
    },
    {
     "name": "stdout",
     "output_type": "stream",
     "text": [
      "LR_LiTFSI_PEDOTPSS_redoped_0V_pos1_2500.00eV_ai0.80_wa0_bpm109.857_id23977_000000_WAXS.tif\n"
     ]
    },
    {
     "name": "stderr",
     "output_type": "stream",
     "text": [
      "WARNING:fabio.TiffIO:Data at tag id '65000' is smaller than expected\n",
      "WARNING:fabio.TiffIO:Data at tag id '65000' is smaller than expected\n",
      "WARNING:fabio.TiffIO:Data at tag id '65000' is smaller than expected\n",
      "WARNING:fabio.TiffIO:Data at tag id '65000' is smaller than expected\n",
      "WARNING:fabio.TiffIO:Data at tag id '65000' is smaller than expected\n",
      "WARNING:fabio.TiffIO:Data at tag id '65000' is smaller than expected\n"
     ]
    },
    {
     "name": "stdout",
     "output_type": "stream",
     "text": [
      "LR_AcidPEDOTPSS_NaBr_pos2_2515.00eV_ai0.80_wa0_bpm13.508_id22398_000000_WAXS.tif\n"
     ]
    },
    {
     "name": "stderr",
     "output_type": "stream",
     "text": [
      "WARNING:fabio.TiffIO:Data at tag id '65000' is smaller than expected\n",
      "WARNING:fabio.TiffIO:Data at tag id '65000' is smaller than expected\n",
      "WARNING:fabio.TiffIO:Data at tag id '65000' is smaller than expected\n",
      "WARNING:fabio.TiffIO:Data at tag id '65000' is smaller than expected\n",
      "WARNING:fabio.TiffIO:Data at tag id '65000' is smaller than expected\n",
      "WARNING:fabio.TiffIO:Data at tag id '65000' is smaller than expected\n"
     ]
    },
    {
     "name": "stdout",
     "output_type": "stream",
     "text": [
      "LR_LiTFSI_PEDOTPSS_dedoped_n0p6_pos1_2470.00eV_ai0.80_wa0_bpm109.537_id23844_000000_WAXS.tif\n"
     ]
    },
    {
     "name": "stderr",
     "output_type": "stream",
     "text": [
      "WARNING:fabio.TiffIO:Data at tag id '65000' is smaller than expected\n",
      "WARNING:fabio.TiffIO:Data at tag id '65000' is smaller than expected\n",
      "WARNING:fabio.TiffIO:Data at tag id '65000' is smaller than expected\n",
      "WARNING:fabio.TiffIO:Data at tag id '65000' is smaller than expected\n",
      "WARNING:fabio.TiffIO:Data at tag id '65000' is smaller than expected\n",
      "WARNING:fabio.TiffIO:Data at tag id '65000' is smaller than expected\n"
     ]
    },
    {
     "name": "stdout",
     "output_type": "stream",
     "text": [
      "LR_LiTFSI_PEDOTPSS_overdoped_p0p6V_pos1_2478.50eV_ai0.80_wa0_bpm109.260_id24079_000000_WAXS.tif\n"
     ]
    },
    {
     "name": "stderr",
     "output_type": "stream",
     "text": [
      "WARNING:fabio.TiffIO:Data at tag id '65000' is smaller than expected\n",
      "WARNING:fabio.TiffIO:Data at tag id '65000' is smaller than expected\n",
      "WARNING:fabio.TiffIO:Data at tag id '65000' is smaller than expected\n",
      "WARNING:fabio.TiffIO:Data at tag id '65000' is smaller than expected\n",
      "WARNING:fabio.TiffIO:Data at tag id '65000' is smaller than expected\n",
      "WARNING:fabio.TiffIO:Data at tag id '65000' is smaller than expected\n"
     ]
    },
    {
     "name": "stdout",
     "output_type": "stream",
     "text": [
      "LR_StandardPEDOTPSS_NaBr_pos1_2487.50eV_ai0.80_wa0_bpm109.764_id22956_000000_WAXS.tif\n"
     ]
    },
    {
     "name": "stderr",
     "output_type": "stream",
     "text": [
      "WARNING:fabio.TiffIO:Data at tag id '65000' is smaller than expected\n",
      "WARNING:fabio.TiffIO:Data at tag id '65000' is smaller than expected\n",
      "WARNING:fabio.TiffIO:Data at tag id '65000' is smaller than expected\n",
      "WARNING:fabio.TiffIO:Data at tag id '65000' is smaller than expected\n",
      "WARNING:fabio.TiffIO:Data at tag id '65000' is smaller than expected\n",
      "WARNING:fabio.TiffIO:Data at tag id '65000' is smaller than expected\n"
     ]
    },
    {
     "name": "stdout",
     "output_type": "stream",
     "text": [
      "LR_AcidPEDOTPSS_NaCl_pos1_2475.00eV_ai0.80_wa0_bpm110.000_id22264_000000_WAXS.tif\n"
     ]
    },
    {
     "name": "stderr",
     "output_type": "stream",
     "text": [
      "WARNING:fabio.TiffIO:Data at tag id '65000' is smaller than expected\n",
      "WARNING:fabio.TiffIO:Data at tag id '65000' is smaller than expected\n",
      "WARNING:fabio.TiffIO:Data at tag id '65000' is smaller than expected\n",
      "WARNING:fabio.TiffIO:Data at tag id '65000' is smaller than expected\n",
      "WARNING:fabio.TiffIO:Data at tag id '65000' is smaller than expected\n",
      "WARNING:fabio.TiffIO:Data at tag id '65000' is smaller than expected\n"
     ]
    },
    {
     "name": "stdout",
     "output_type": "stream",
     "text": [
      "LR_LiTFSI_PEDOTPSS_as_pos2_2475.50eV_ai0.80_wa0_bpm12.687_id23547_000000_WAXS.tif\n"
     ]
    },
    {
     "name": "stderr",
     "output_type": "stream",
     "text": [
      "WARNING:fabio.TiffIO:Data at tag id '65000' is smaller than expected\n",
      "WARNING:fabio.TiffIO:Data at tag id '65000' is smaller than expected\n",
      "WARNING:fabio.TiffIO:Data at tag id '65000' is smaller than expected\n",
      "WARNING:fabio.TiffIO:Data at tag id '65000' is smaller than expected\n",
      "WARNING:fabio.TiffIO:Data at tag id '65000' is smaller than expected\n",
      "WARNING:fabio.TiffIO:Data at tag id '65000' is smaller than expected\n"
     ]
    },
    {
     "name": "stdout",
     "output_type": "stream",
     "text": [
      "LR_LiTFSI_PEDOTPSS_redoped_0V_pos1_2465.00eV_ai0.80_wa0_bpm109.839_id23956_000000_WAXS.tif\n"
     ]
    },
    {
     "name": "stderr",
     "output_type": "stream",
     "text": [
      "WARNING:fabio.TiffIO:Data at tag id '65000' is smaller than expected\n",
      "WARNING:fabio.TiffIO:Data at tag id '65000' is smaller than expected\n",
      "WARNING:fabio.TiffIO:Data at tag id '65000' is smaller than expected\n",
      "WARNING:fabio.TiffIO:Data at tag id '65000' is smaller than expected\n",
      "WARNING:fabio.TiffIO:Data at tag id '65000' is smaller than expected\n",
      "WARNING:fabio.TiffIO:Data at tag id '65000' is smaller than expected\n"
     ]
    },
    {
     "name": "stdout",
     "output_type": "stream",
     "text": [
      "LR_P3MEEMT23k115C_un_pos1_2480.00eV_ai0.80_wa0_bpm109.367_id23291_000000_WAXS.tif\n"
     ]
    },
    {
     "name": "stderr",
     "output_type": "stream",
     "text": [
      "WARNING:fabio.TiffIO:Data at tag id '65000' is smaller than expected\n",
      "WARNING:fabio.TiffIO:Data at tag id '65000' is smaller than expected\n",
      "WARNING:fabio.TiffIO:Data at tag id '65000' is smaller than expected\n",
      "WARNING:fabio.TiffIO:Data at tag id '65000' is smaller than expected\n",
      "WARNING:fabio.TiffIO:Data at tag id '65000' is smaller than expected\n",
      "WARNING:fabio.TiffIO:Data at tag id '65000' is smaller than expected\n"
     ]
    },
    {
     "name": "stdout",
     "output_type": "stream",
     "text": [
      "LR_LiTFSI_PEDOTPSS_RbBr_pos1_2477.50eV_ai0.80_wa0_bpm109.325_id24190_000000_WAXS.tif\n"
     ]
    },
    {
     "name": "stderr",
     "output_type": "stream",
     "text": [
      "WARNING:fabio.TiffIO:Data at tag id '65000' is smaller than expected\n",
      "WARNING:fabio.TiffIO:Data at tag id '65000' is smaller than expected\n",
      "WARNING:fabio.TiffIO:Data at tag id '65000' is smaller than expected\n",
      "WARNING:fabio.TiffIO:Data at tag id '65000' is smaller than expected\n",
      "WARNING:fabio.TiffIO:Data at tag id '65000' is smaller than expected\n",
      "WARNING:fabio.TiffIO:Data at tag id '65000' is smaller than expected\n"
     ]
    },
    {
     "name": "stdout",
     "output_type": "stream",
     "text": [
      "LR_AcidPEDOTPSS_RbCl_pos1_2470.00eV_ai0.80_wa0_bpm110.090_id22488_000000_WAXS.tif\n"
     ]
    },
    {
     "name": "stderr",
     "output_type": "stream",
     "text": [
      "WARNING:fabio.TiffIO:Data at tag id '65000' is smaller than expected\n",
      "WARNING:fabio.TiffIO:Data at tag id '65000' is smaller than expected\n",
      "WARNING:fabio.TiffIO:Data at tag id '65000' is smaller than expected\n",
      "WARNING:fabio.TiffIO:Data at tag id '65000' is smaller than expected\n",
      "WARNING:fabio.TiffIO:Data at tag id '65000' is smaller than expected\n",
      "WARNING:fabio.TiffIO:Data at tag id '65000' is smaller than expected\n"
     ]
    },
    {
     "name": "stdout",
     "output_type": "stream",
     "text": [
      "LR_LiTFSI_PEDOTPSS_0V_pos1_2455.00eV_ai0.80_wa0_bpm110.236_id23728_000000_WAXS.tif\n"
     ]
    },
    {
     "name": "stderr",
     "output_type": "stream",
     "text": [
      "WARNING:fabio.TiffIO:Data at tag id '65000' is smaller than expected\n",
      "WARNING:fabio.TiffIO:Data at tag id '65000' is smaller than expected\n",
      "WARNING:fabio.TiffIO:Data at tag id '65000' is smaller than expected\n",
      "WARNING:fabio.TiffIO:Data at tag id '65000' is smaller than expected\n",
      "WARNING:fabio.TiffIO:Data at tag id '65000' is smaller than expected\n",
      "WARNING:fabio.TiffIO:Data at tag id '65000' is smaller than expected\n"
     ]
    },
    {
     "name": "stdout",
     "output_type": "stream",
     "text": [
      "LR_P3MEEMT23k115C_un_pos1_2515.00eV_ai0.80_wa0_bpm110.149_id23301_000000_WAXS.tif\n"
     ]
    },
    {
     "name": "stderr",
     "output_type": "stream",
     "text": [
      "WARNING:fabio.TiffIO:Data at tag id '65000' is smaller than expected\n",
      "WARNING:fabio.TiffIO:Data at tag id '65000' is smaller than expected\n",
      "WARNING:fabio.TiffIO:Data at tag id '65000' is smaller than expected\n",
      "WARNING:fabio.TiffIO:Data at tag id '65000' is smaller than expected\n",
      "WARNING:fabio.TiffIO:Data at tag id '65000' is smaller than expected\n",
      "WARNING:fabio.TiffIO:Data at tag id '65000' is smaller than expected\n"
     ]
    },
    {
     "name": "stdout",
     "output_type": "stream",
     "text": [
      "LR_AcidPEDOTPSS_0V_pos1_2477.50eV_ai0.80_wa0_bpm109.994_id21930_000000_WAXS.tif\n"
     ]
    },
    {
     "name": "stderr",
     "output_type": "stream",
     "text": [
      "WARNING:fabio.TiffIO:Data at tag id '65000' is smaller than expected\n",
      "WARNING:fabio.TiffIO:Data at tag id '65000' is smaller than expected\n",
      "WARNING:fabio.TiffIO:Data at tag id '65000' is smaller than expected\n",
      "WARNING:fabio.TiffIO:Data at tag id '65000' is smaller than expected\n",
      "WARNING:fabio.TiffIO:Data at tag id '65000' is smaller than expected\n",
      "WARNING:fabio.TiffIO:Data at tag id '65000' is smaller than expected\n"
     ]
    },
    {
     "name": "stdout",
     "output_type": "stream",
     "text": [
      "LR_LiTFSI_PEDOTPSS_0V_pos2_2455.00eV_ai0.80_wa0_bpm12.647_id23779_000000_WAXS.tif\n"
     ]
    },
    {
     "name": "stderr",
     "output_type": "stream",
     "text": [
      "WARNING:fabio.TiffIO:Data at tag id '65000' is smaller than expected\n",
      "WARNING:fabio.TiffIO:Data at tag id '65000' is smaller than expected\n",
      "WARNING:fabio.TiffIO:Data at tag id '65000' is smaller than expected\n",
      "WARNING:fabio.TiffIO:Data at tag id '65000' is smaller than expected\n",
      "WARNING:fabio.TiffIO:Data at tag id '65000' is smaller than expected\n",
      "WARNING:fabio.TiffIO:Data at tag id '65000' is smaller than expected\n"
     ]
    },
    {
     "name": "stdout",
     "output_type": "stream",
     "text": [
      "LR_AcidPEDOTPSS_NaBr_pos2_2477.00eV_ai0.80_wa0_bpm12.773_id22414_000000_WAXS.tif\n"
     ]
    },
    {
     "name": "stderr",
     "output_type": "stream",
     "text": [
      "WARNING:fabio.TiffIO:Data at tag id '65000' is smaller than expected\n",
      "WARNING:fabio.TiffIO:Data at tag id '65000' is smaller than expected\n",
      "WARNING:fabio.TiffIO:Data at tag id '65000' is smaller than expected\n",
      "WARNING:fabio.TiffIO:Data at tag id '65000' is smaller than expected\n",
      "WARNING:fabio.TiffIO:Data at tag id '65000' is smaller than expected\n",
      "WARNING:fabio.TiffIO:Data at tag id '65000' is smaller than expected\n"
     ]
    },
    {
     "name": "stdout",
     "output_type": "stream",
     "text": [
      "LR_StandardPEDOTPSS_NaBr_pos2_2485.00eV_ai0.80_wa0_bpm12.819_id22970_000000_WAXS.tif\n"
     ]
    },
    {
     "name": "stderr",
     "output_type": "stream",
     "text": [
      "WARNING:fabio.TiffIO:Data at tag id '65000' is smaller than expected\n",
      "WARNING:fabio.TiffIO:Data at tag id '65000' is smaller than expected\n",
      "WARNING:fabio.TiffIO:Data at tag id '65000' is smaller than expected\n",
      "WARNING:fabio.TiffIO:Data at tag id '65000' is smaller than expected\n",
      "WARNING:fabio.TiffIO:Data at tag id '65000' is smaller than expected\n",
      "WARNING:fabio.TiffIO:Data at tag id '65000' is smaller than expected\n"
     ]
    },
    {
     "name": "stdout",
     "output_type": "stream",
     "text": [
      "LR_P3MEEMT23k115C_0p4_KTFSI_pos2_2478.50eV_ai0.80_wa0_bpm12.704_id23202_000000_WAXS.tif\n"
     ]
    },
    {
     "name": "stderr",
     "output_type": "stream",
     "text": [
      "WARNING:fabio.TiffIO:Data at tag id '65000' is smaller than expected\n",
      "WARNING:fabio.TiffIO:Data at tag id '65000' is smaller than expected\n",
      "WARNING:fabio.TiffIO:Data at tag id '65000' is smaller than expected\n",
      "WARNING:fabio.TiffIO:Data at tag id '65000' is smaller than expected\n",
      "WARNING:fabio.TiffIO:Data at tag id '65000' is smaller than expected\n",
      "WARNING:fabio.TiffIO:Data at tag id '65000' is smaller than expected\n"
     ]
    },
    {
     "name": "stdout",
     "output_type": "stream",
     "text": [
      "LR_LiTFSI_PEDOTPSS_redoped_0V_pos1_2479.00eV_ai0.80_wa0_bpm109.329_id23967_000000_WAXS.tif\n"
     ]
    },
    {
     "name": "stderr",
     "output_type": "stream",
     "text": [
      "WARNING:fabio.TiffIO:Data at tag id '65000' is smaller than expected\n",
      "WARNING:fabio.TiffIO:Data at tag id '65000' is smaller than expected\n",
      "WARNING:fabio.TiffIO:Data at tag id '65000' is smaller than expected\n",
      "WARNING:fabio.TiffIO:Data at tag id '65000' is smaller than expected\n",
      "WARNING:fabio.TiffIO:Data at tag id '65000' is smaller than expected\n",
      "WARNING:fabio.TiffIO:Data at tag id '65000' is smaller than expected\n"
     ]
    },
    {
     "name": "stdout",
     "output_type": "stream",
     "text": [
      "LR_LiTFSI_PEDOTPSS_dedoped_n0p6_pos2_2477.50eV_ai0.80_wa0_bpm12.676_id23882_000000_WAXS.tif\n"
     ]
    },
    {
     "name": "stderr",
     "output_type": "stream",
     "text": [
      "WARNING:fabio.TiffIO:Data at tag id '65000' is smaller than expected\n",
      "WARNING:fabio.TiffIO:Data at tag id '65000' is smaller than expected\n",
      "WARNING:fabio.TiffIO:Data at tag id '65000' is smaller than expected\n",
      "WARNING:fabio.TiffIO:Data at tag id '65000' is smaller than expected\n",
      "WARNING:fabio.TiffIO:Data at tag id '65000' is smaller than expected\n",
      "WARNING:fabio.TiffIO:Data at tag id '65000' is smaller than expected\n"
     ]
    },
    {
     "name": "stdout",
     "output_type": "stream",
     "text": [
      "LR_P3MEEMT23k115C_0p7_KTFSI_pos2_2480.50eV_ai0.80_wa0_bpm12.739_id23085_000000_WAXS.tif\n"
     ]
    },
    {
     "name": "stderr",
     "output_type": "stream",
     "text": [
      "WARNING:fabio.TiffIO:Data at tag id '65000' is smaller than expected\n",
      "WARNING:fabio.TiffIO:Data at tag id '65000' is smaller than expected\n",
      "WARNING:fabio.TiffIO:Data at tag id '65000' is smaller than expected\n",
      "WARNING:fabio.TiffIO:Data at tag id '65000' is smaller than expected\n",
      "WARNING:fabio.TiffIO:Data at tag id '65000' is smaller than expected\n",
      "WARNING:fabio.TiffIO:Data at tag id '65000' is smaller than expected\n"
     ]
    },
    {
     "name": "stdout",
     "output_type": "stream",
     "text": [
      "LR_AcidPEDOTPSS_as_pos1_2465.00eV_ai0.80_wa0_bpm110.612_id21696_000000_WAXS.tif\n"
     ]
    },
    {
     "name": "stderr",
     "output_type": "stream",
     "text": [
      "WARNING:fabio.TiffIO:Data at tag id '65000' is smaller than expected\n",
      "WARNING:fabio.TiffIO:Data at tag id '65000' is smaller than expected\n",
      "WARNING:fabio.TiffIO:Data at tag id '65000' is smaller than expected\n",
      "WARNING:fabio.TiffIO:Data at tag id '65000' is smaller than expected\n",
      "WARNING:fabio.TiffIO:Data at tag id '65000' is smaller than expected\n",
      "WARNING:fabio.TiffIO:Data at tag id '65000' is smaller than expected\n"
     ]
    },
    {
     "name": "stdout",
     "output_type": "stream",
     "text": [
      "LR_AcidPEDOTPSS_exposed_pos1_2490.00eV_ai0.80_wa0_bpm110.376_id21827_000000_WAXS.tif\n"
     ]
    },
    {
     "name": "stderr",
     "output_type": "stream",
     "text": [
      "WARNING:fabio.TiffIO:Data at tag id '65000' is smaller than expected\n",
      "WARNING:fabio.TiffIO:Data at tag id '65000' is smaller than expected\n",
      "WARNING:fabio.TiffIO:Data at tag id '65000' is smaller than expected\n",
      "WARNING:fabio.TiffIO:Data at tag id '65000' is smaller than expected\n",
      "WARNING:fabio.TiffIO:Data at tag id '65000' is smaller than expected\n",
      "WARNING:fabio.TiffIO:Data at tag id '65000' is smaller than expected\n"
     ]
    },
    {
     "name": "stdout",
     "output_type": "stream",
     "text": [
      "LR_P3MEEMT23k115C_0p4_KTFSI_pos1_2485.00eV_ai0.80_wa0_bpm109.740_id23181_000000_WAXS.tif\n"
     ]
    },
    {
     "name": "stderr",
     "output_type": "stream",
     "text": [
      "WARNING:fabio.TiffIO:Data at tag id '65000' is smaller than expected\n",
      "WARNING:fabio.TiffIO:Data at tag id '65000' is smaller than expected\n",
      "WARNING:fabio.TiffIO:Data at tag id '65000' is smaller than expected\n",
      "WARNING:fabio.TiffIO:Data at tag id '65000' is smaller than expected\n",
      "WARNING:fabio.TiffIO:Data at tag id '65000' is smaller than expected\n",
      "WARNING:fabio.TiffIO:Data at tag id '65000' is smaller than expected\n"
     ]
    },
    {
     "name": "stdout",
     "output_type": "stream",
     "text": [
      "LR_P3MEEMT23k115C_un_pos1_2475.50eV_ai0.80_wa0_bpm108.849_id23282_000000_WAXS.tif\n"
     ]
    },
    {
     "name": "stderr",
     "output_type": "stream",
     "text": [
      "WARNING:fabio.TiffIO:Data at tag id '65000' is smaller than expected\n",
      "WARNING:fabio.TiffIO:Data at tag id '65000' is smaller than expected\n",
      "WARNING:fabio.TiffIO:Data at tag id '65000' is smaller than expected\n",
      "WARNING:fabio.TiffIO:Data at tag id '65000' is smaller than expected\n",
      "WARNING:fabio.TiffIO:Data at tag id '65000' is smaller than expected\n",
      "WARNING:fabio.TiffIO:Data at tag id '65000' is smaller than expected\n"
     ]
    },
    {
     "name": "stdout",
     "output_type": "stream",
     "text": [
      "LR_LiTFSI_PEDOTPSS_as_pos2_2450.00eV_ai0.80_wa0_bpm12.588_id23554_000000_WAXS.tif\n"
     ]
    },
    {
     "name": "stderr",
     "output_type": "stream",
     "text": [
      "WARNING:fabio.TiffIO:Data at tag id '65000' is smaller than expected\n",
      "WARNING:fabio.TiffIO:Data at tag id '65000' is smaller than expected\n",
      "WARNING:fabio.TiffIO:Data at tag id '65000' is smaller than expected\n",
      "WARNING:fabio.TiffIO:Data at tag id '65000' is smaller than expected\n",
      "WARNING:fabio.TiffIO:Data at tag id '65000' is smaller than expected\n",
      "WARNING:fabio.TiffIO:Data at tag id '65000' is smaller than expected\n"
     ]
    },
    {
     "name": "stdout",
     "output_type": "stream",
     "text": [
      "LR_LiTFSI_PEDOTPSS_dedoped_n0p6_pos2_2479.50eV_ai0.80_wa0_bpm12.711_id23878_000000_WAXS.tif\n"
     ]
    },
    {
     "name": "stderr",
     "output_type": "stream",
     "text": [
      "WARNING:fabio.TiffIO:Data at tag id '65000' is smaller than expected\n",
      "WARNING:fabio.TiffIO:Data at tag id '65000' is smaller than expected\n",
      "WARNING:fabio.TiffIO:Data at tag id '65000' is smaller than expected\n",
      "WARNING:fabio.TiffIO:Data at tag id '65000' is smaller than expected\n",
      "WARNING:fabio.TiffIO:Data at tag id '65000' is smaller than expected\n",
      "WARNING:fabio.TiffIO:Data at tag id '65000' is smaller than expected\n"
     ]
    },
    {
     "name": "stdout",
     "output_type": "stream",
     "text": [
      "LR_AcidPEDOTPSS_0V_pos2_2475.00eV_ai0.80_wa0_bpm12.746_id21966_000000_WAXS.tif\n"
     ]
    },
    {
     "name": "stderr",
     "output_type": "stream",
     "text": [
      "WARNING:fabio.TiffIO:Data at tag id '65000' is smaller than expected\n",
      "WARNING:fabio.TiffIO:Data at tag id '65000' is smaller than expected\n",
      "WARNING:fabio.TiffIO:Data at tag id '65000' is smaller than expected\n",
      "WARNING:fabio.TiffIO:Data at tag id '65000' is smaller than expected\n",
      "WARNING:fabio.TiffIO:Data at tag id '65000' is smaller than expected\n",
      "WARNING:fabio.TiffIO:Data at tag id '65000' is smaller than expected\n"
     ]
    },
    {
     "name": "stdout",
     "output_type": "stream",
     "text": [
      "LR_P3MEEMT23k115C_0p4_KTFSI_pos2_2479.00eV_ai0.80_wa0_bpm12.715_id23201_000000_WAXS.tif\n"
     ]
    },
    {
     "name": "stderr",
     "output_type": "stream",
     "text": [
      "WARNING:fabio.TiffIO:Data at tag id '65000' is smaller than expected\n",
      "WARNING:fabio.TiffIO:Data at tag id '65000' is smaller than expected\n",
      "WARNING:fabio.TiffIO:Data at tag id '65000' is smaller than expected\n",
      "WARNING:fabio.TiffIO:Data at tag id '65000' is smaller than expected\n",
      "WARNING:fabio.TiffIO:Data at tag id '65000' is smaller than expected\n",
      "WARNING:fabio.TiffIO:Data at tag id '65000' is smaller than expected\n"
     ]
    },
    {
     "name": "stdout",
     "output_type": "stream",
     "text": [
      "LR_RivnayFrit_P3MEEET_drop_pos2_2455.00eV_ai0.80_wa0_bpm12.565_id23440_000000_WAXS.tif\n"
     ]
    },
    {
     "name": "stderr",
     "output_type": "stream",
     "text": [
      "WARNING:fabio.TiffIO:Data at tag id '65000' is smaller than expected\n",
      "WARNING:fabio.TiffIO:Data at tag id '65000' is smaller than expected\n",
      "WARNING:fabio.TiffIO:Data at tag id '65000' is smaller than expected\n",
      "WARNING:fabio.TiffIO:Data at tag id '65000' is smaller than expected\n",
      "WARNING:fabio.TiffIO:Data at tag id '65000' is smaller than expected\n",
      "WARNING:fabio.TiffIO:Data at tag id '65000' is smaller than expected\n"
     ]
    },
    {
     "name": "stdout",
     "output_type": "stream",
     "text": [
      "LR_LiTFSI_PEDOTPSS_0V_pos1_2500.00eV_ai0.80_wa0_bpm109.934_id23751_000000_WAXS.tif\n"
     ]
    },
    {
     "name": "stderr",
     "output_type": "stream",
     "text": [
      "WARNING:fabio.TiffIO:Data at tag id '65000' is smaller than expected\n",
      "WARNING:fabio.TiffIO:Data at tag id '65000' is smaller than expected\n",
      "WARNING:fabio.TiffIO:Data at tag id '65000' is smaller than expected\n",
      "WARNING:fabio.TiffIO:Data at tag id '65000' is smaller than expected\n",
      "WARNING:fabio.TiffIO:Data at tag id '65000' is smaller than expected\n",
      "WARNING:fabio.TiffIO:Data at tag id '65000' is smaller than expected\n"
     ]
    },
    {
     "name": "stdout",
     "output_type": "stream",
     "text": [
      "LR_AcidPEDOTPSS_overdope_p0p6_pos2_2485.00eV_ai0.80_wa0_bpm12.862_id22179_000000_WAXS.tif\n"
     ]
    },
    {
     "name": "stderr",
     "output_type": "stream",
     "text": [
      "WARNING:fabio.TiffIO:Data at tag id '65000' is smaller than expected\n",
      "WARNING:fabio.TiffIO:Data at tag id '65000' is smaller than expected\n",
      "WARNING:fabio.TiffIO:Data at tag id '65000' is smaller than expected\n",
      "WARNING:fabio.TiffIO:Data at tag id '65000' is smaller than expected\n",
      "WARNING:fabio.TiffIO:Data at tag id '65000' is smaller than expected\n",
      "WARNING:fabio.TiffIO:Data at tag id '65000' is smaller than expected\n"
     ]
    },
    {
     "name": "stdout",
     "output_type": "stream",
     "text": [
      "LR_P3MEEMT23k115C_0p7_KTFSI_pos1_2460.00eV_ai0.80_wa0_bpm109.485_id23051_000000_WAXS.tif\n"
     ]
    },
    {
     "name": "stderr",
     "output_type": "stream",
     "text": [
      "WARNING:fabio.TiffIO:Data at tag id '65000' is smaller than expected\n",
      "WARNING:fabio.TiffIO:Data at tag id '65000' is smaller than expected\n",
      "WARNING:fabio.TiffIO:Data at tag id '65000' is smaller than expected\n",
      "WARNING:fabio.TiffIO:Data at tag id '65000' is smaller than expected\n",
      "WARNING:fabio.TiffIO:Data at tag id '65000' is smaller than expected\n",
      "WARNING:fabio.TiffIO:Data at tag id '65000' is smaller than expected\n"
     ]
    },
    {
     "name": "stdout",
     "output_type": "stream",
     "text": [
      "LR_P3MEEMT23k115C_0p4_KTFSI_pos1_2479.00eV_ai0.80_wa0_bpm109.584_id23176_000000_WAXS.tif\n"
     ]
    },
    {
     "name": "stderr",
     "output_type": "stream",
     "text": [
      "WARNING:fabio.TiffIO:Data at tag id '65000' is smaller than expected\n",
      "WARNING:fabio.TiffIO:Data at tag id '65000' is smaller than expected\n",
      "WARNING:fabio.TiffIO:Data at tag id '65000' is smaller than expected\n",
      "WARNING:fabio.TiffIO:Data at tag id '65000' is smaller than expected\n",
      "WARNING:fabio.TiffIO:Data at tag id '65000' is smaller than expected\n",
      "WARNING:fabio.TiffIO:Data at tag id '65000' is smaller than expected\n"
     ]
    },
    {
     "name": "stdout",
     "output_type": "stream",
     "text": [
      "LR_P3MEEMT23k115C_0p7_KTFSI_pos1_2465.00eV_ai0.80_wa0_bpm109.657_id23052_000000_WAXS.tif\n"
     ]
    },
    {
     "name": "stderr",
     "output_type": "stream",
     "text": [
      "WARNING:fabio.TiffIO:Data at tag id '65000' is smaller than expected\n",
      "WARNING:fabio.TiffIO:Data at tag id '65000' is smaller than expected\n",
      "WARNING:fabio.TiffIO:Data at tag id '65000' is smaller than expected\n",
      "WARNING:fabio.TiffIO:Data at tag id '65000' is smaller than expected\n",
      "WARNING:fabio.TiffIO:Data at tag id '65000' is smaller than expected\n",
      "WARNING:fabio.TiffIO:Data at tag id '65000' is smaller than expected\n"
     ]
    },
    {
     "name": "stdout",
     "output_type": "stream",
     "text": [
      "LR_AcidPEDOTPSS_NaBr_pos1_2476.00eV_ai0.80_wa0_bpm109.895_id22379_000000_WAXS.tif\n"
     ]
    },
    {
     "name": "stderr",
     "output_type": "stream",
     "text": [
      "WARNING:fabio.TiffIO:Data at tag id '65000' is smaller than expected\n",
      "WARNING:fabio.TiffIO:Data at tag id '65000' is smaller than expected\n",
      "WARNING:fabio.TiffIO:Data at tag id '65000' is smaller than expected\n",
      "WARNING:fabio.TiffIO:Data at tag id '65000' is smaller than expected\n",
      "WARNING:fabio.TiffIO:Data at tag id '65000' is smaller than expected\n",
      "WARNING:fabio.TiffIO:Data at tag id '65000' is smaller than expected\n"
     ]
    },
    {
     "name": "stdout",
     "output_type": "stream",
     "text": [
      "LR_LiTFSI_PEDOTPSS_overdoped_p0p6V_pos1_2479.50eV_ai0.80_wa0_bpm109.347_id24081_000000_WAXS.tif\n"
     ]
    },
    {
     "name": "stderr",
     "output_type": "stream",
     "text": [
      "WARNING:fabio.TiffIO:Data at tag id '65000' is smaller than expected\n",
      "WARNING:fabio.TiffIO:Data at tag id '65000' is smaller than expected\n",
      "WARNING:fabio.TiffIO:Data at tag id '65000' is smaller than expected\n",
      "WARNING:fabio.TiffIO:Data at tag id '65000' is smaller than expected\n",
      "WARNING:fabio.TiffIO:Data at tag id '65000' is smaller than expected\n",
      "WARNING:fabio.TiffIO:Data at tag id '65000' is smaller than expected\n"
     ]
    },
    {
     "name": "stdout",
     "output_type": "stream",
     "text": [
      "LR_AcidPEDOTPSS_as_pos1_2470.00eV_ai0.80_wa0_bpm110.587_id21697_000000_WAXS.tif\n"
     ]
    },
    {
     "name": "stderr",
     "output_type": "stream",
     "text": [
      "WARNING:fabio.TiffIO:Data at tag id '65000' is smaller than expected\n",
      "WARNING:fabio.TiffIO:Data at tag id '65000' is smaller than expected\n",
      "WARNING:fabio.TiffIO:Data at tag id '65000' is smaller than expected\n",
      "WARNING:fabio.TiffIO:Data at tag id '65000' is smaller than expected\n",
      "WARNING:fabio.TiffIO:Data at tag id '65000' is smaller than expected\n",
      "WARNING:fabio.TiffIO:Data at tag id '65000' is smaller than expected\n"
     ]
    },
    {
     "name": "stdout",
     "output_type": "stream",
     "text": [
      "LR_StandardPEDOTPSS_as_pos1_2483.00eV_ai0.80_wa0_bpm109.791_id22728_000000_WAXS.tif\n"
     ]
    },
    {
     "name": "stderr",
     "output_type": "stream",
     "text": [
      "WARNING:fabio.TiffIO:Data at tag id '65000' is smaller than expected\n",
      "WARNING:fabio.TiffIO:Data at tag id '65000' is smaller than expected\n",
      "WARNING:fabio.TiffIO:Data at tag id '65000' is smaller than expected\n",
      "WARNING:fabio.TiffIO:Data at tag id '65000' is smaller than expected\n",
      "WARNING:fabio.TiffIO:Data at tag id '65000' is smaller than expected\n",
      "WARNING:fabio.TiffIO:Data at tag id '65000' is smaller than expected\n"
     ]
    },
    {
     "name": "stdout",
     "output_type": "stream",
     "text": [
      "LR_P3MEEMT23k115C_0p4_KTFSI_pos2_2455.00eV_ai0.80_wa0_bpm12.651_id23214_000000_WAXS.tif\n"
     ]
    },
    {
     "name": "stderr",
     "output_type": "stream",
     "text": [
      "WARNING:fabio.TiffIO:Data at tag id '65000' is smaller than expected\n",
      "WARNING:fabio.TiffIO:Data at tag id '65000' is smaller than expected\n",
      "WARNING:fabio.TiffIO:Data at tag id '65000' is smaller than expected\n",
      "WARNING:fabio.TiffIO:Data at tag id '65000' is smaller than expected\n",
      "WARNING:fabio.TiffIO:Data at tag id '65000' is smaller than expected\n",
      "WARNING:fabio.TiffIO:Data at tag id '65000' is smaller than expected\n"
     ]
    },
    {
     "name": "stdout",
     "output_type": "stream",
     "text": [
      "LR_StandardPEDOTPSS_RbBr_pos1_2455.00eV_ai0.80_wa0_bpm110.289_id22824_000000_WAXS.tif\n"
     ]
    },
    {
     "name": "stderr",
     "output_type": "stream",
     "text": [
      "WARNING:fabio.TiffIO:Data at tag id '65000' is smaller than expected\n",
      "WARNING:fabio.TiffIO:Data at tag id '65000' is smaller than expected\n",
      "WARNING:fabio.TiffIO:Data at tag id '65000' is smaller than expected\n",
      "WARNING:fabio.TiffIO:Data at tag id '65000' is smaller than expected\n",
      "WARNING:fabio.TiffIO:Data at tag id '65000' is smaller than expected\n",
      "WARNING:fabio.TiffIO:Data at tag id '65000' is smaller than expected\n"
     ]
    },
    {
     "name": "stdout",
     "output_type": "stream",
     "text": [
      "LR_LiTFSI_PEDOTPSS_0V_pos2_2477.00eV_ai0.80_wa0_bpm12.685_id23770_000000_WAXS.tif\n"
     ]
    },
    {
     "name": "stderr",
     "output_type": "stream",
     "text": [
      "WARNING:fabio.TiffIO:Data at tag id '65000' is smaller than expected\n",
      "WARNING:fabio.TiffIO:Data at tag id '65000' is smaller than expected\n",
      "WARNING:fabio.TiffIO:Data at tag id '65000' is smaller than expected\n",
      "WARNING:fabio.TiffIO:Data at tag id '65000' is smaller than expected\n",
      "WARNING:fabio.TiffIO:Data at tag id '65000' is smaller than expected\n",
      "WARNING:fabio.TiffIO:Data at tag id '65000' is smaller than expected\n"
     ]
    },
    {
     "name": "stdout",
     "output_type": "stream",
     "text": [
      "LR_LiTFSI_PEDOTPSS_overdoped_p0p6V_pos2_2475.50eV_ai0.80_wa0_bpm12.739_id24112_000000_WAXS.tif\n"
     ]
    },
    {
     "name": "stderr",
     "output_type": "stream",
     "text": [
      "WARNING:fabio.TiffIO:Data at tag id '65000' is smaller than expected\n",
      "WARNING:fabio.TiffIO:Data at tag id '65000' is smaller than expected\n",
      "WARNING:fabio.TiffIO:Data at tag id '65000' is smaller than expected\n",
      "WARNING:fabio.TiffIO:Data at tag id '65000' is smaller than expected\n",
      "WARNING:fabio.TiffIO:Data at tag id '65000' is smaller than expected\n",
      "WARNING:fabio.TiffIO:Data at tag id '65000' is smaller than expected\n"
     ]
    },
    {
     "name": "stdout",
     "output_type": "stream",
     "text": [
      "LR_AcidPEDOTPSS_as_pos2_2476.50eV_ai0.80_wa0_bpm12.787_id21737_000000_WAXS.tif\n"
     ]
    },
    {
     "name": "stderr",
     "output_type": "stream",
     "text": [
      "WARNING:fabio.TiffIO:Data at tag id '65000' is smaller than expected\n",
      "WARNING:fabio.TiffIO:Data at tag id '65000' is smaller than expected\n",
      "WARNING:fabio.TiffIO:Data at tag id '65000' is smaller than expected\n",
      "WARNING:fabio.TiffIO:Data at tag id '65000' is smaller than expected\n",
      "WARNING:fabio.TiffIO:Data at tag id '65000' is smaller than expected\n",
      "WARNING:fabio.TiffIO:Data at tag id '65000' is smaller than expected\n"
     ]
    },
    {
     "name": "stdout",
     "output_type": "stream",
     "text": [
      "LR_AcidPEDOTPSS_dedope_n0p6_pos2_2477.50eV_ai0.80_wa0_bpm12.721_id22074_000000_WAXS.tif\n"
     ]
    },
    {
     "name": "stderr",
     "output_type": "stream",
     "text": [
      "WARNING:fabio.TiffIO:Data at tag id '65000' is smaller than expected\n",
      "WARNING:fabio.TiffIO:Data at tag id '65000' is smaller than expected\n",
      "WARNING:fabio.TiffIO:Data at tag id '65000' is smaller than expected\n",
      "WARNING:fabio.TiffIO:Data at tag id '65000' is smaller than expected\n",
      "WARNING:fabio.TiffIO:Data at tag id '65000' is smaller than expected\n",
      "WARNING:fabio.TiffIO:Data at tag id '65000' is smaller than expected\n"
     ]
    },
    {
     "name": "stdout",
     "output_type": "stream",
     "text": [
      "LR_AcidPEDOTPSS_as_pos2_2510.00eV_ai0.80_wa0_bpm13.525_id21721_000000_WAXS.tif\n"
     ]
    },
    {
     "name": "stderr",
     "output_type": "stream",
     "text": [
      "WARNING:fabio.TiffIO:Data at tag id '65000' is smaller than expected\n",
      "WARNING:fabio.TiffIO:Data at tag id '65000' is smaller than expected\n",
      "WARNING:fabio.TiffIO:Data at tag id '65000' is smaller than expected\n",
      "WARNING:fabio.TiffIO:Data at tag id '65000' is smaller than expected\n",
      "WARNING:fabio.TiffIO:Data at tag id '65000' is smaller than expected\n",
      "WARNING:fabio.TiffIO:Data at tag id '65000' is smaller than expected\n"
     ]
    },
    {
     "name": "stdout",
     "output_type": "stream",
     "text": [
      "LR_LiTFSI_PEDOTPSS_0V_pos1_2515.00eV_ai0.80_wa0_bpm110.281_id23753_000000_WAXS.tif\n"
     ]
    },
    {
     "name": "stderr",
     "output_type": "stream",
     "text": [
      "WARNING:fabio.TiffIO:Data at tag id '65000' is smaller than expected\n",
      "WARNING:fabio.TiffIO:Data at tag id '65000' is smaller than expected\n",
      "WARNING:fabio.TiffIO:Data at tag id '65000' is smaller than expected\n",
      "WARNING:fabio.TiffIO:Data at tag id '65000' is smaller than expected\n",
      "WARNING:fabio.TiffIO:Data at tag id '65000' is smaller than expected\n",
      "WARNING:fabio.TiffIO:Data at tag id '65000' is smaller than expected\n"
     ]
    },
    {
     "name": "stdout",
     "output_type": "stream",
     "text": [
      "LR_RivnayFrit_P3MEEET_drop_pos2_2500.00eV_ai0.80_wa0_bpm13.174_id23417_000000_WAXS.tif\n"
     ]
    },
    {
     "name": "stderr",
     "output_type": "stream",
     "text": [
      "WARNING:fabio.TiffIO:Data at tag id '65000' is smaller than expected\n",
      "WARNING:fabio.TiffIO:Data at tag id '65000' is smaller than expected\n",
      "WARNING:fabio.TiffIO:Data at tag id '65000' is smaller than expected\n",
      "WARNING:fabio.TiffIO:Data at tag id '65000' is smaller than expected\n",
      "WARNING:fabio.TiffIO:Data at tag id '65000' is smaller than expected\n",
      "WARNING:fabio.TiffIO:Data at tag id '65000' is smaller than expected\n"
     ]
    },
    {
     "name": "stdout",
     "output_type": "stream",
     "text": [
      "LR_LiTFSI_PEDOTPSS_overdoped_p0p6V_pos1_2500.00eV_ai0.80_wa0_bpm109.411_id24090_000000_WAXS.tif\n"
     ]
    },
    {
     "name": "stderr",
     "output_type": "stream",
     "text": [
      "WARNING:fabio.TiffIO:Data at tag id '65000' is smaller than expected\n",
      "WARNING:fabio.TiffIO:Data at tag id '65000' is smaller than expected\n",
      "WARNING:fabio.TiffIO:Data at tag id '65000' is smaller than expected\n",
      "WARNING:fabio.TiffIO:Data at tag id '65000' is smaller than expected\n",
      "WARNING:fabio.TiffIO:Data at tag id '65000' is smaller than expected\n",
      "WARNING:fabio.TiffIO:Data at tag id '65000' is smaller than expected\n"
     ]
    },
    {
     "name": "stdout",
     "output_type": "stream",
     "text": [
      "LR_LiTFSI_PEDOTPSS_overdoped_p0p6V_pos2_2510.00eV_ai0.80_wa0_bpm13.361_id24094_000000_WAXS.tif\n"
     ]
    },
    {
     "name": "stderr",
     "output_type": "stream",
     "text": [
      "WARNING:fabio.TiffIO:Data at tag id '65000' is smaller than expected\n",
      "WARNING:fabio.TiffIO:Data at tag id '65000' is smaller than expected\n",
      "WARNING:fabio.TiffIO:Data at tag id '65000' is smaller than expected\n",
      "WARNING:fabio.TiffIO:Data at tag id '65000' is smaller than expected\n",
      "WARNING:fabio.TiffIO:Data at tag id '65000' is smaller than expected\n",
      "WARNING:fabio.TiffIO:Data at tag id '65000' is smaller than expected\n"
     ]
    },
    {
     "name": "stdout",
     "output_type": "stream",
     "text": [
      "LR_AcidPEDOTPSS_RbBr_pos2_2477.50eV_ai0.80_wa0_bpm12.713_id22639_000000_WAXS.tif\n"
     ]
    },
    {
     "name": "stderr",
     "output_type": "stream",
     "text": [
      "WARNING:fabio.TiffIO:Data at tag id '65000' is smaller than expected\n",
      "WARNING:fabio.TiffIO:Data at tag id '65000' is smaller than expected\n",
      "WARNING:fabio.TiffIO:Data at tag id '65000' is smaller than expected\n",
      "WARNING:fabio.TiffIO:Data at tag id '65000' is smaller than expected\n",
      "WARNING:fabio.TiffIO:Data at tag id '65000' is smaller than expected\n",
      "WARNING:fabio.TiffIO:Data at tag id '65000' is smaller than expected\n"
     ]
    },
    {
     "name": "stdout",
     "output_type": "stream",
     "text": [
      "LR_AcidPEDOTPSS_NaCl_pos2_2492.50eV_ai0.80_wa0_bpm13.117_id22289_000000_WAXS.tif\n"
     ]
    },
    {
     "name": "stderr",
     "output_type": "stream",
     "text": [
      "WARNING:fabio.TiffIO:Data at tag id '65000' is smaller than expected\n",
      "WARNING:fabio.TiffIO:Data at tag id '65000' is smaller than expected\n",
      "WARNING:fabio.TiffIO:Data at tag id '65000' is smaller than expected\n",
      "WARNING:fabio.TiffIO:Data at tag id '65000' is smaller than expected\n",
      "WARNING:fabio.TiffIO:Data at tag id '65000' is smaller than expected\n",
      "WARNING:fabio.TiffIO:Data at tag id '65000' is smaller than expected\n"
     ]
    },
    {
     "name": "stdout",
     "output_type": "stream",
     "text": [
      "LR_AcidPEDOTPSS_RbBr_pos2_2478.00eV_ai0.80_wa0_bpm12.708_id22638_000000_WAXS.tif\n"
     ]
    },
    {
     "name": "stderr",
     "output_type": "stream",
     "text": [
      "WARNING:fabio.TiffIO:Data at tag id '65000' is smaller than expected\n",
      "WARNING:fabio.TiffIO:Data at tag id '65000' is smaller than expected\n",
      "WARNING:fabio.TiffIO:Data at tag id '65000' is smaller than expected\n",
      "WARNING:fabio.TiffIO:Data at tag id '65000' is smaller than expected\n",
      "WARNING:fabio.TiffIO:Data at tag id '65000' is smaller than expected\n",
      "WARNING:fabio.TiffIO:Data at tag id '65000' is smaller than expected\n"
     ]
    },
    {
     "name": "stdout",
     "output_type": "stream",
     "text": [
      "LR_AcidPEDOTPSS_NaBr_pos2_2478.50eV_ai0.80_wa0_bpm12.786_id22411_000000_WAXS.tif\n"
     ]
    },
    {
     "name": "stderr",
     "output_type": "stream",
     "text": [
      "WARNING:fabio.TiffIO:Data at tag id '65000' is smaller than expected\n",
      "WARNING:fabio.TiffIO:Data at tag id '65000' is smaller than expected\n",
      "WARNING:fabio.TiffIO:Data at tag id '65000' is smaller than expected\n",
      "WARNING:fabio.TiffIO:Data at tag id '65000' is smaller than expected\n",
      "WARNING:fabio.TiffIO:Data at tag id '65000' is smaller than expected\n",
      "WARNING:fabio.TiffIO:Data at tag id '65000' is smaller than expected\n"
     ]
    },
    {
     "name": "stdout",
     "output_type": "stream",
     "text": [
      "LR_P3MEEMT23k115C_un_pos2_2480.00eV_ai0.80_wa0_bpm12.713_id23312_000000_WAXS.tif\n"
     ]
    },
    {
     "name": "stderr",
     "output_type": "stream",
     "text": [
      "WARNING:fabio.TiffIO:Data at tag id '65000' is smaller than expected\n",
      "WARNING:fabio.TiffIO:Data at tag id '65000' is smaller than expected\n",
      "WARNING:fabio.TiffIO:Data at tag id '65000' is smaller than expected\n",
      "WARNING:fabio.TiffIO:Data at tag id '65000' is smaller than expected\n",
      "WARNING:fabio.TiffIO:Data at tag id '65000' is smaller than expected\n",
      "WARNING:fabio.TiffIO:Data at tag id '65000' is smaller than expected\n"
     ]
    },
    {
     "name": "stdout",
     "output_type": "stream",
     "text": [
      "LR_AcidPEDOTPSS_RbBr_pos1_2478.50eV_ai0.80_wa0_bpm109.958_id22610_000000_WAXS.tif\n"
     ]
    },
    {
     "name": "stderr",
     "output_type": "stream",
     "text": [
      "WARNING:fabio.TiffIO:Data at tag id '65000' is smaller than expected\n",
      "WARNING:fabio.TiffIO:Data at tag id '65000' is smaller than expected\n",
      "WARNING:fabio.TiffIO:Data at tag id '65000' is smaller than expected\n",
      "WARNING:fabio.TiffIO:Data at tag id '65000' is smaller than expected\n",
      "WARNING:fabio.TiffIO:Data at tag id '65000' is smaller than expected\n",
      "WARNING:fabio.TiffIO:Data at tag id '65000' is smaller than expected\n"
     ]
    },
    {
     "name": "stdout",
     "output_type": "stream",
     "text": [
      "LR_AcidPEDOTPSS_overdope_p0p6_pos2_2487.50eV_ai0.80_wa0_bpm12.934_id22178_000000_WAXS.tif\n"
     ]
    },
    {
     "name": "stderr",
     "output_type": "stream",
     "text": [
      "WARNING:fabio.TiffIO:Data at tag id '65000' is smaller than expected\n",
      "WARNING:fabio.TiffIO:Data at tag id '65000' is smaller than expected\n",
      "WARNING:fabio.TiffIO:Data at tag id '65000' is smaller than expected\n",
      "WARNING:fabio.TiffIO:Data at tag id '65000' is smaller than expected\n",
      "WARNING:fabio.TiffIO:Data at tag id '65000' is smaller than expected\n",
      "WARNING:fabio.TiffIO:Data at tag id '65000' is smaller than expected\n"
     ]
    },
    {
     "name": "stdout",
     "output_type": "stream",
     "text": [
      "LR_LiTFSI_PEDOTPSS_redoped_0V_pos2_2476.50eV_ai0.80_wa0_bpm12.689_id23997_000000_WAXS.tif\n"
     ]
    },
    {
     "name": "stderr",
     "output_type": "stream",
     "text": [
      "WARNING:fabio.TiffIO:Data at tag id '65000' is smaller than expected\n",
      "WARNING:fabio.TiffIO:Data at tag id '65000' is smaller than expected\n",
      "WARNING:fabio.TiffIO:Data at tag id '65000' is smaller than expected\n",
      "WARNING:fabio.TiffIO:Data at tag id '65000' is smaller than expected\n",
      "WARNING:fabio.TiffIO:Data at tag id '65000' is smaller than expected\n",
      "WARNING:fabio.TiffIO:Data at tag id '65000' is smaller than expected\n"
     ]
    },
    {
     "name": "stdout",
     "output_type": "stream",
     "text": [
      "LR_StandardPEDOTPSS_RbBr_pos1_2479.00eV_ai0.80_wa0_bpm109.583_id22837_000000_WAXS.tif\n"
     ]
    },
    {
     "name": "stderr",
     "output_type": "stream",
     "text": [
      "WARNING:fabio.TiffIO:Data at tag id '65000' is smaller than expected\n",
      "WARNING:fabio.TiffIO:Data at tag id '65000' is smaller than expected\n",
      "WARNING:fabio.TiffIO:Data at tag id '65000' is smaller than expected\n",
      "WARNING:fabio.TiffIO:Data at tag id '65000' is smaller than expected\n",
      "WARNING:fabio.TiffIO:Data at tag id '65000' is smaller than expected\n",
      "WARNING:fabio.TiffIO:Data at tag id '65000' is smaller than expected\n"
     ]
    },
    {
     "name": "stdout",
     "output_type": "stream",
     "text": [
      "LR_AcidPEDOTPSS_NaBr_pos2_2465.00eV_ai0.80_wa0_bpm12.676_id22421_000000_WAXS.tif\n"
     ]
    },
    {
     "name": "stderr",
     "output_type": "stream",
     "text": [
      "WARNING:fabio.TiffIO:Data at tag id '65000' is smaller than expected\n",
      "WARNING:fabio.TiffIO:Data at tag id '65000' is smaller than expected\n",
      "WARNING:fabio.TiffIO:Data at tag id '65000' is smaller than expected\n",
      "WARNING:fabio.TiffIO:Data at tag id '65000' is smaller than expected\n"
     ]
    },
    {
     "name": "stdout",
     "output_type": "stream",
     "text": [
      "LR_AcidPEDOTPSS_dedope_n0p6_pos2_2475.00eV_ai0.80_wa0_bpm12.760_id22079_000000_WAXS.tif\n"
     ]
    },
    {
     "name": "stderr",
     "output_type": "stream",
     "text": [
      "WARNING:fabio.TiffIO:Data at tag id '65000' is smaller than expected\n",
      "WARNING:fabio.TiffIO:Data at tag id '65000' is smaller than expected\n",
      "WARNING:fabio.TiffIO:Data at tag id '65000' is smaller than expected\n",
      "WARNING:fabio.TiffIO:Data at tag id '65000' is smaller than expected\n",
      "WARNING:fabio.TiffIO:Data at tag id '65000' is smaller than expected\n",
      "WARNING:fabio.TiffIO:Data at tag id '65000' is smaller than expected\n",
      "WARNING:fabio.TiffIO:Data at tag id '65000' is smaller than expected\n",
      "WARNING:fabio.TiffIO:Data at tag id '65000' is smaller than expected\n"
     ]
    },
    {
     "name": "stdout",
     "output_type": "stream",
     "text": [
      "LR_AcidPEDOTPSS_dedope_n0p6_pos1_2478.00eV_ai0.80_wa0_bpm110.294_id22044_000000_WAXS.tif\n"
     ]
    },
    {
     "name": "stderr",
     "output_type": "stream",
     "text": [
      "WARNING:fabio.TiffIO:Data at tag id '65000' is smaller than expected\n",
      "WARNING:fabio.TiffIO:Data at tag id '65000' is smaller than expected\n",
      "WARNING:fabio.TiffIO:Data at tag id '65000' is smaller than expected\n"
     ]
    },
    {
     "name": "stdout",
     "output_type": "stream",
     "text": [
      "LR_LiTFSI_PEDOTPSS_RbBr_pos1_2477.00eV_ai0.80_wa0_bpm109.269_id24189_000000_WAXS.tif\n"
     ]
    },
    {
     "name": "stderr",
     "output_type": "stream",
     "text": [
      "WARNING:fabio.TiffIO:Data at tag id '65000' is smaller than expected\n",
      "WARNING:fabio.TiffIO:Data at tag id '65000' is smaller than expected\n",
      "WARNING:fabio.TiffIO:Data at tag id '65000' is smaller than expected\n",
      "WARNING:fabio.TiffIO:Data at tag id '65000' is smaller than expected\n",
      "WARNING:fabio.TiffIO:Data at tag id '65000' is smaller than expected\n",
      "WARNING:fabio.TiffIO:Data at tag id '65000' is smaller than expected\n",
      "WARNING:fabio.TiffIO:Data at tag id '65000' is smaller than expected\n",
      "WARNING:fabio.TiffIO:Data at tag id '65000' is smaller than expected\n",
      "WARNING:fabio.TiffIO:Data at tag id '65000' is smaller than expected\n"
     ]
    },
    {
     "name": "stdout",
     "output_type": "stream",
     "text": [
      "LR_LiTFSI_PEDOTPSS_as_pos1_2460.00eV_ai0.80_wa0_bpm109.840_id23503_000000_WAXS.tif\n"
     ]
    },
    {
     "name": "stderr",
     "output_type": "stream",
     "text": [
      "WARNING:fabio.TiffIO:Data at tag id '65000' is smaller than expected\n",
      "WARNING:fabio.TiffIO:Data at tag id '65000' is smaller than expected\n",
      "WARNING:fabio.TiffIO:Data at tag id '65000' is smaller than expected\n",
      "WARNING:fabio.TiffIO:Data at tag id '65000' is smaller than expected\n",
      "WARNING:fabio.TiffIO:Data at tag id '65000' is smaller than expected\n",
      "WARNING:fabio.TiffIO:Data at tag id '65000' is smaller than expected\n"
     ]
    },
    {
     "name": "stdout",
     "output_type": "stream",
     "text": [
      "LR_StandardPEDOTPSS_as_pos2_2478.50eV_ai0.80_wa0_bpm12.711_id22750_000000_WAXS.tif\n"
     ]
    },
    {
     "name": "stderr",
     "output_type": "stream",
     "text": [
      "WARNING:fabio.TiffIO:Data at tag id '65000' is smaller than expected\n",
      "WARNING:fabio.TiffIO:Data at tag id '65000' is smaller than expected\n",
      "WARNING:fabio.TiffIO:Data at tag id '65000' is smaller than expected\n",
      "WARNING:fabio.TiffIO:Data at tag id '65000' is smaller than expected\n",
      "WARNING:fabio.TiffIO:Data at tag id '65000' is smaller than expected\n",
      "WARNING:fabio.TiffIO:Data at tag id '65000' is smaller than expected\n"
     ]
    },
    {
     "name": "stdout",
     "output_type": "stream",
     "text": [
      "LR_LiTFSI_PEDOTPSS_as_pos1_2515.00eV_ai0.80_wa0_bpm109.771_id23527_000000_WAXS.tif\n"
     ]
    },
    {
     "name": "stderr",
     "output_type": "stream",
     "text": [
      "WARNING:fabio.TiffIO:Data at tag id '65000' is smaller than expected\n",
      "WARNING:fabio.TiffIO:Data at tag id '65000' is smaller than expected\n",
      "WARNING:fabio.TiffIO:Data at tag id '65000' is smaller than expected\n",
      "WARNING:fabio.TiffIO:Data at tag id '65000' is smaller than expected\n",
      "WARNING:fabio.TiffIO:Data at tag id '65000' is smaller than expected\n",
      "WARNING:fabio.TiffIO:Data at tag id '65000' is smaller than expected\n"
     ]
    },
    {
     "name": "stdout",
     "output_type": "stream",
     "text": [
      "LR_RivnayFrit_P3MEEET_drop_pos2_2515.00eV_ai0.80_wa0_bpm13.457_id23415_000000_WAXS.tif\n"
     ]
    },
    {
     "name": "stderr",
     "output_type": "stream",
     "text": [
      "WARNING:fabio.TiffIO:Data at tag id '65000' is smaller than expected\n",
      "WARNING:fabio.TiffIO:Data at tag id '65000' is smaller than expected\n",
      "WARNING:fabio.TiffIO:Data at tag id '65000' is smaller than expected\n",
      "WARNING:fabio.TiffIO:Data at tag id '65000' is smaller than expected\n",
      "WARNING:fabio.TiffIO:Data at tag id '65000' is smaller than expected\n",
      "WARNING:fabio.TiffIO:Data at tag id '65000' is smaller than expected\n"
     ]
    },
    {
     "name": "stdout",
     "output_type": "stream",
     "text": [
      "LR_StandardPEDOTPSS_RbBr_pos1_2492.50eV_ai0.80_wa0_bpm109.495_id22845_000000_WAXS.tif\n"
     ]
    },
    {
     "name": "stderr",
     "output_type": "stream",
     "text": [
      "WARNING:fabio.TiffIO:Data at tag id '65000' is smaller than expected\n",
      "WARNING:fabio.TiffIO:Data at tag id '65000' is smaller than expected\n",
      "WARNING:fabio.TiffIO:Data at tag id '65000' is smaller than expected\n",
      "WARNING:fabio.TiffIO:Data at tag id '65000' is smaller than expected\n",
      "WARNING:fabio.TiffIO:Data at tag id '65000' is smaller than expected\n",
      "WARNING:fabio.TiffIO:Data at tag id '65000' is smaller than expected\n"
     ]
    },
    {
     "name": "stdout",
     "output_type": "stream",
     "text": [
      "LR_LiTFSI_PEDOTPSS_as_pos2_2492.50eV_ai0.80_wa0_bpm13.031_id23532_000000_WAXS.tif\n"
     ]
    },
    {
     "name": "stderr",
     "output_type": "stream",
     "text": [
      "WARNING:fabio.TiffIO:Data at tag id '65000' is smaller than expected\n",
      "WARNING:fabio.TiffIO:Data at tag id '65000' is smaller than expected\n",
      "WARNING:fabio.TiffIO:Data at tag id '65000' is smaller than expected\n",
      "WARNING:fabio.TiffIO:Data at tag id '65000' is smaller than expected\n",
      "WARNING:fabio.TiffIO:Data at tag id '65000' is smaller than expected\n",
      "WARNING:fabio.TiffIO:Data at tag id '65000' is smaller than expected\n"
     ]
    },
    {
     "name": "stdout",
     "output_type": "stream",
     "text": [
      "LR_RivnayFrit_P3MEEET_drop_pos2_2480.00eV_ai0.80_wa0_bpm12.712_id23425_000000_WAXS.tif\n"
     ]
    },
    {
     "name": "stderr",
     "output_type": "stream",
     "text": [
      "WARNING:fabio.TiffIO:Data at tag id '65000' is smaller than expected\n",
      "WARNING:fabio.TiffIO:Data at tag id '65000' is smaller than expected\n",
      "WARNING:fabio.TiffIO:Data at tag id '65000' is smaller than expected\n",
      "WARNING:fabio.TiffIO:Data at tag id '65000' is smaller than expected\n",
      "WARNING:fabio.TiffIO:Data at tag id '65000' is smaller than expected\n",
      "WARNING:fabio.TiffIO:Data at tag id '65000' is smaller than expected\n"
     ]
    },
    {
     "name": "stdout",
     "output_type": "stream",
     "text": [
      "LR_P3MEEMT23k115C_0p7_KTFSI_pos1_2483.00eV_ai0.80_wa0_bpm109.530_id23067_000000_WAXS.tif\n"
     ]
    },
    {
     "name": "stderr",
     "output_type": "stream",
     "text": [
      "WARNING:fabio.TiffIO:Data at tag id '65000' is smaller than expected\n",
      "WARNING:fabio.TiffIO:Data at tag id '65000' is smaller than expected\n",
      "WARNING:fabio.TiffIO:Data at tag id '65000' is smaller than expected\n",
      "WARNING:fabio.TiffIO:Data at tag id '65000' is smaller than expected\n",
      "WARNING:fabio.TiffIO:Data at tag id '65000' is smaller than expected\n",
      "WARNING:fabio.TiffIO:Data at tag id '65000' is smaller than expected\n"
     ]
    },
    {
     "name": "stdout",
     "output_type": "stream",
     "text": [
      "LR_AcidPEDOTPSS_RbBr_pos1_2473.00eV_ai0.80_wa0_bpm109.668_id22602_000000_WAXS.tif\n"
     ]
    },
    {
     "name": "stderr",
     "output_type": "stream",
     "text": [
      "WARNING:fabio.TiffIO:Data at tag id '65000' is smaller than expected\n",
      "WARNING:fabio.TiffIO:Data at tag id '65000' is smaller than expected\n",
      "WARNING:fabio.TiffIO:Data at tag id '65000' is smaller than expected\n",
      "WARNING:fabio.TiffIO:Data at tag id '65000' is smaller than expected\n",
      "WARNING:fabio.TiffIO:Data at tag id '65000' is smaller than expected\n",
      "WARNING:fabio.TiffIO:Data at tag id '65000' is smaller than expected\n"
     ]
    },
    {
     "name": "stdout",
     "output_type": "stream",
     "text": [
      "LR_LiTFSI_PEDOTPSS_as_pos2_2477.50eV_ai0.80_wa0_bpm12.697_id23543_000000_WAXS.tif\n"
     ]
    },
    {
     "name": "stderr",
     "output_type": "stream",
     "text": [
      "WARNING:fabio.TiffIO:Data at tag id '65000' is smaller than expected\n",
      "WARNING:fabio.TiffIO:Data at tag id '65000' is smaller than expected\n",
      "WARNING:fabio.TiffIO:Data at tag id '65000' is smaller than expected\n",
      "WARNING:fabio.TiffIO:Data at tag id '65000' is smaller than expected\n",
      "WARNING:fabio.TiffIO:Data at tag id '65000' is smaller than expected\n",
      "WARNING:fabio.TiffIO:Data at tag id '65000' is smaller than expected\n"
     ]
    },
    {
     "name": "stdout",
     "output_type": "stream",
     "text": [
      "LR_AcidPEDOTPSS_dedope_n0p6_pos1_2477.50eV_ai0.80_wa0_bpm110.016_id22043_000000_WAXS.tif\n"
     ]
    },
    {
     "name": "stderr",
     "output_type": "stream",
     "text": [
      "WARNING:fabio.TiffIO:Data at tag id '65000' is smaller than expected\n",
      "WARNING:fabio.TiffIO:Data at tag id '65000' is smaller than expected\n",
      "WARNING:fabio.TiffIO:Data at tag id '65000' is smaller than expected\n",
      "WARNING:fabio.TiffIO:Data at tag id '65000' is smaller than expected\n",
      "WARNING:fabio.TiffIO:Data at tag id '65000' is smaller than expected\n",
      "WARNING:fabio.TiffIO:Data at tag id '65000' is smaller than expected\n"
     ]
    },
    {
     "name": "stdout",
     "output_type": "stream",
     "text": [
      "LR_AcidPEDOTPSS_NaCl_pos2_2479.50eV_ai0.80_wa0_bpm12.810_id22296_000000_WAXS.tif\n"
     ]
    },
    {
     "name": "stderr",
     "output_type": "stream",
     "text": [
      "WARNING:fabio.TiffIO:Data at tag id '65000' is smaller than expected\n",
      "WARNING:fabio.TiffIO:Data at tag id '65000' is smaller than expected\n",
      "WARNING:fabio.TiffIO:Data at tag id '65000' is smaller than expected\n",
      "WARNING:fabio.TiffIO:Data at tag id '65000' is smaller than expected\n",
      "WARNING:fabio.TiffIO:Data at tag id '65000' is smaller than expected\n",
      "WARNING:fabio.TiffIO:Data at tag id '65000' is smaller than expected\n"
     ]
    },
    {
     "name": "stdout",
     "output_type": "stream",
     "text": [
      "LR_StandardPEDOTPSS_RbBr_pos2_2492.50eV_ai0.80_wa0_bpm13.009_id22854_000000_WAXS.tif\n"
     ]
    },
    {
     "name": "stderr",
     "output_type": "stream",
     "text": [
      "WARNING:fabio.TiffIO:Data at tag id '65000' is smaller than expected\n",
      "WARNING:fabio.TiffIO:Data at tag id '65000' is smaller than expected\n",
      "WARNING:fabio.TiffIO:Data at tag id '65000' is smaller than expected\n",
      "WARNING:fabio.TiffIO:Data at tag id '65000' is smaller than expected\n",
      "WARNING:fabio.TiffIO:Data at tag id '65000' is smaller than expected\n",
      "WARNING:fabio.TiffIO:Data at tag id '65000' is smaller than expected\n"
     ]
    },
    {
     "name": "stdout",
     "output_type": "stream",
     "text": [
      "LR_LiTFSI_PEDOTPSS_overdoped_p0p6V_pos2_2483.00eV_ai0.80_wa0_bpm12.808_id24101_000000_WAXS.tif\n"
     ]
    },
    {
     "name": "stderr",
     "output_type": "stream",
     "text": [
      "WARNING:fabio.TiffIO:Data at tag id '65000' is smaller than expected\n",
      "WARNING:fabio.TiffIO:Data at tag id '65000' is smaller than expected\n",
      "WARNING:fabio.TiffIO:Data at tag id '65000' is smaller than expected\n",
      "WARNING:fabio.TiffIO:Data at tag id '65000' is smaller than expected\n",
      "WARNING:fabio.TiffIO:Data at tag id '65000' is smaller than expected\n"
     ]
    },
    {
     "name": "stdout",
     "output_type": "stream",
     "text": [
      "LR_StandardPEDOTPSS_NaBr_pos1_2470.00eV_ai0.80_wa0_bpm109.916_id22940_000000_WAXS.tif\n"
     ]
    },
    {
     "name": "stderr",
     "output_type": "stream",
     "text": [
      "WARNING:fabio.TiffIO:Data at tag id '65000' is smaller than expected\n",
      "WARNING:fabio.TiffIO:Data at tag id '65000' is smaller than expected\n",
      "WARNING:fabio.TiffIO:Data at tag id '65000' is smaller than expected\n",
      "WARNING:fabio.TiffIO:Data at tag id '65000' is smaller than expected\n",
      "WARNING:fabio.TiffIO:Data at tag id '65000' is smaller than expected\n"
     ]
    },
    {
     "name": "stdout",
     "output_type": "stream",
     "text": [
      "LR_StandardPEDOTPSS_NaBr_pos2_2495.00eV_ai0.80_wa0_bpm13.074_id22966_000000_WAXS.tif\n"
     ]
    },
    {
     "name": "stderr",
     "output_type": "stream",
     "text": [
      "WARNING:fabio.TiffIO:Data at tag id '65000' is smaller than expected\n",
      "WARNING:fabio.TiffIO:Data at tag id '65000' is smaller than expected\n",
      "WARNING:fabio.TiffIO:Data at tag id '65000' is smaller than expected\n",
      "WARNING:fabio.TiffIO:Data at tag id '65000' is smaller than expected\n",
      "WARNING:fabio.TiffIO:Data at tag id '65000' is smaller than expected\n",
      "WARNING:fabio.TiffIO:Data at tag id '65000' is smaller than expected\n",
      "WARNING:fabio.TiffIO:Data at tag id '65000' is smaller than expected\n",
      "WARNING:fabio.TiffIO:Data at tag id '65000' is smaller than expected\n"
     ]
    },
    {
     "name": "stdout",
     "output_type": "stream",
     "text": [
      "LR_P3MEEMT23k115C_0p7_KTFSI_pos1_2475.00eV_ai0.80_wa0_bpm109.213_id23055_000000_WAXS.tif\n"
     ]
    },
    {
     "name": "stderr",
     "output_type": "stream",
     "text": [
      "WARNING:fabio.TiffIO:Data at tag id '65000' is smaller than expected\n",
      "WARNING:fabio.TiffIO:Data at tag id '65000' is smaller than expected\n",
      "WARNING:fabio.TiffIO:Data at tag id '65000' is smaller than expected\n",
      "WARNING:fabio.TiffIO:Data at tag id '65000' is smaller than expected\n",
      "WARNING:fabio.TiffIO:Data at tag id '65000' is smaller than expected\n",
      "WARNING:fabio.TiffIO:Data at tag id '65000' is smaller than expected\n"
     ]
    },
    {
     "name": "stdout",
     "output_type": "stream",
     "text": [
      "LR_AcidPEDOTPSS_RbCl_pos2_2475.00eV_ai0.80_wa0_bpm12.725_id22531_000000_WAXS.tif\n"
     ]
    },
    {
     "name": "stderr",
     "output_type": "stream",
     "text": [
      "WARNING:fabio.TiffIO:Data at tag id '65000' is smaller than expected\n",
      "WARNING:fabio.TiffIO:Data at tag id '65000' is smaller than expected\n",
      "WARNING:fabio.TiffIO:Data at tag id '65000' is smaller than expected\n",
      "WARNING:fabio.TiffIO:Data at tag id '65000' is smaller than expected\n",
      "WARNING:fabio.TiffIO:Data at tag id '65000' is smaller than expected\n",
      "WARNING:fabio.TiffIO:Data at tag id '65000' is smaller than expected\n"
     ]
    },
    {
     "name": "stdout",
     "output_type": "stream",
     "text": [
      "LR_AcidPEDOTPSS_exposed_pos2_2475.50eV_ai0.80_wa0_bpm12.790_id21852_000000_WAXS.tif\n"
     ]
    },
    {
     "name": "stderr",
     "output_type": "stream",
     "text": [
      "WARNING:fabio.TiffIO:Data at tag id '65000' is smaller than expected\n",
      "WARNING:fabio.TiffIO:Data at tag id '65000' is smaller than expected\n",
      "WARNING:fabio.TiffIO:Data at tag id '65000' is smaller than expected\n",
      "WARNING:fabio.TiffIO:Data at tag id '65000' is smaller than expected\n",
      "WARNING:fabio.TiffIO:Data at tag id '65000' is smaller than expected\n",
      "WARNING:fabio.TiffIO:Data at tag id '65000' is smaller than expected\n"
     ]
    },
    {
     "name": "stdout",
     "output_type": "stream",
     "text": [
      "LR_RivnayFrit_P3MEEET_drop_pos2_2492.50eV_ai0.80_wa0_bpm13.000_id23419_000000_WAXS.tif\n"
     ]
    },
    {
     "name": "stderr",
     "output_type": "stream",
     "text": [
      "WARNING:fabio.TiffIO:Data at tag id '65000' is smaller than expected\n",
      "WARNING:fabio.TiffIO:Data at tag id '65000' is smaller than expected\n",
      "WARNING:fabio.TiffIO:Data at tag id '65000' is smaller than expected\n",
      "WARNING:fabio.TiffIO:Data at tag id '65000' is smaller than expected\n",
      "WARNING:fabio.TiffIO:Data at tag id '65000' is smaller than expected\n",
      "WARNING:fabio.TiffIO:Data at tag id '65000' is smaller than expected\n"
     ]
    },
    {
     "name": "stdout",
     "output_type": "stream",
     "text": [
      "LR_AcidPEDOTPSS_RbCl_pos2_2478.00eV_ai0.80_wa0_bpm12.748_id22525_000000_WAXS.tif\n"
     ]
    },
    {
     "name": "stderr",
     "output_type": "stream",
     "text": [
      "WARNING:fabio.TiffIO:Data at tag id '65000' is smaller than expected\n",
      "WARNING:fabio.TiffIO:Data at tag id '65000' is smaller than expected\n",
      "WARNING:fabio.TiffIO:Data at tag id '65000' is smaller than expected\n",
      "WARNING:fabio.TiffIO:Data at tag id '65000' is smaller than expected\n",
      "WARNING:fabio.TiffIO:Data at tag id '65000' is smaller than expected\n",
      "WARNING:fabio.TiffIO:Data at tag id '65000' is smaller than expected\n"
     ]
    },
    {
     "name": "stdout",
     "output_type": "stream",
     "text": [
      "LR_P3MEEMT23k115C_0p7_KTFSI_pos2_2500.00eV_ai0.80_wa0_bpm13.159_id23078_000000_WAXS.tif\n"
     ]
    },
    {
     "name": "stderr",
     "output_type": "stream",
     "text": [
      "WARNING:fabio.TiffIO:Data at tag id '65000' is smaller than expected\n",
      "WARNING:fabio.TiffIO:Data at tag id '65000' is smaller than expected\n",
      "WARNING:fabio.TiffIO:Data at tag id '65000' is smaller than expected\n",
      "WARNING:fabio.TiffIO:Data at tag id '65000' is smaller than expected\n",
      "WARNING:fabio.TiffIO:Data at tag id '65000' is smaller than expected\n",
      "WARNING:fabio.TiffIO:Data at tag id '65000' is smaller than expected\n"
     ]
    },
    {
     "name": "stdout",
     "output_type": "stream",
     "text": [
      "LR_LiTFSI_PEDOTPSS_exposed_pos2_2477.50eV_ai0.80_wa0_bpm12.725_id23656_000000_WAXS.tif\n"
     ]
    },
    {
     "name": "stderr",
     "output_type": "stream",
     "text": [
      "WARNING:fabio.TiffIO:Data at tag id '65000' is smaller than expected\n",
      "WARNING:fabio.TiffIO:Data at tag id '65000' is smaller than expected\n",
      "WARNING:fabio.TiffIO:Data at tag id '65000' is smaller than expected\n",
      "WARNING:fabio.TiffIO:Data at tag id '65000' is smaller than expected\n",
      "WARNING:fabio.TiffIO:Data at tag id '65000' is smaller than expected\n",
      "WARNING:fabio.TiffIO:Data at tag id '65000' is smaller than expected\n"
     ]
    },
    {
     "name": "stdout",
     "output_type": "stream",
     "text": [
      "LR_LiTFSI_PEDOTPSS_as_pos1_2495.00eV_ai0.80_wa0_bpm109.338_id23524_000000_WAXS.tif\n"
     ]
    },
    {
     "name": "stderr",
     "output_type": "stream",
     "text": [
      "WARNING:fabio.TiffIO:Data at tag id '65000' is smaller than expected\n",
      "WARNING:fabio.TiffIO:Data at tag id '65000' is smaller than expected\n",
      "WARNING:fabio.TiffIO:Data at tag id '65000' is smaller than expected\n",
      "WARNING:fabio.TiffIO:Data at tag id '65000' is smaller than expected\n",
      "WARNING:fabio.TiffIO:Data at tag id '65000' is smaller than expected\n",
      "WARNING:fabio.TiffIO:Data at tag id '65000' is smaller than expected\n"
     ]
    },
    {
     "name": "stdout",
     "output_type": "stream",
     "text": [
      "LR_P3MEEMT23k115C_0p7_KTFSI_pos1_2470.00eV_ai0.80_wa0_bpm109.317_id23053_000000_WAXS.tif\n"
     ]
    },
    {
     "name": "stderr",
     "output_type": "stream",
     "text": [
      "WARNING:fabio.TiffIO:Data at tag id '65000' is smaller than expected\n",
      "WARNING:fabio.TiffIO:Data at tag id '65000' is smaller than expected\n",
      "WARNING:fabio.TiffIO:Data at tag id '65000' is smaller than expected\n",
      "WARNING:fabio.TiffIO:Data at tag id '65000' is smaller than expected\n",
      "WARNING:fabio.TiffIO:Data at tag id '65000' is smaller than expected\n",
      "WARNING:fabio.TiffIO:Data at tag id '65000' is smaller than expected\n"
     ]
    },
    {
     "name": "stdout",
     "output_type": "stream",
     "text": [
      "LR_P3MEEMT23k115C_0p4_KTFSI_pos1_2460.00eV_ai0.80_wa0_bpm109.629_id23164_000000_WAXS.tif\n"
     ]
    },
    {
     "name": "stderr",
     "output_type": "stream",
     "text": [
      "WARNING:fabio.TiffIO:Data at tag id '65000' is smaller than expected\n",
      "WARNING:fabio.TiffIO:Data at tag id '65000' is smaller than expected\n",
      "WARNING:fabio.TiffIO:Data at tag id '65000' is smaller than expected\n",
      "WARNING:fabio.TiffIO:Data at tag id '65000' is smaller than expected\n",
      "WARNING:fabio.TiffIO:Data at tag id '65000' is smaller than expected\n",
      "WARNING:fabio.TiffIO:Data at tag id '65000' is smaller than expected\n"
     ]
    },
    {
     "name": "stdout",
     "output_type": "stream",
     "text": [
      "LR_AcidPEDOTPSS_overdope_p0p6_pos1_2490.00eV_ai0.80_wa0_bpm110.184_id22166_000000_WAXS.tif\n"
     ]
    },
    {
     "name": "stderr",
     "output_type": "stream",
     "text": [
      "WARNING:fabio.TiffIO:Data at tag id '65000' is smaller than expected\n",
      "WARNING:fabio.TiffIO:Data at tag id '65000' is smaller than expected\n",
      "WARNING:fabio.TiffIO:Data at tag id '65000' is smaller than expected\n",
      "WARNING:fabio.TiffIO:Data at tag id '65000' is smaller than expected\n",
      "WARNING:fabio.TiffIO:Data at tag id '65000' is smaller than expected\n",
      "WARNING:fabio.TiffIO:Data at tag id '65000' is smaller than expected\n"
     ]
    },
    {
     "name": "stdout",
     "output_type": "stream",
     "text": [
      "LR_AcidPEDOTPSS_RbCl_pos1_2487.50eV_ai0.80_wa0_bpm109.920_id22504_000000_WAXS.tif\n"
     ]
    },
    {
     "name": "stderr",
     "output_type": "stream",
     "text": [
      "WARNING:fabio.TiffIO:Data at tag id '65000' is smaller than expected\n",
      "WARNING:fabio.TiffIO:Data at tag id '65000' is smaller than expected\n",
      "WARNING:fabio.TiffIO:Data at tag id '65000' is smaller than expected\n",
      "WARNING:fabio.TiffIO:Data at tag id '65000' is smaller than expected\n",
      "WARNING:fabio.TiffIO:Data at tag id '65000' is smaller than expected\n",
      "WARNING:fabio.TiffIO:Data at tag id '65000' is smaller than expected\n"
     ]
    },
    {
     "name": "stdout",
     "output_type": "stream",
     "text": [
      "LR_AcidPEDOTPSS_dedope_n0p6_pos2_2483.00eV_ai0.80_wa0_bpm12.854_id22067_000000_WAXS.tif\n"
     ]
    },
    {
     "name": "stderr",
     "output_type": "stream",
     "text": [
      "WARNING:fabio.TiffIO:Data at tag id '65000' is smaller than expected\n",
      "WARNING:fabio.TiffIO:Data at tag id '65000' is smaller than expected\n",
      "WARNING:fabio.TiffIO:Data at tag id '65000' is smaller than expected\n",
      "WARNING:fabio.TiffIO:Data at tag id '65000' is smaller than expected\n",
      "WARNING:fabio.TiffIO:Data at tag id '65000' is smaller than expected\n",
      "WARNING:fabio.TiffIO:Data at tag id '65000' is smaller than expected\n"
     ]
    },
    {
     "name": "stdout",
     "output_type": "stream",
     "text": [
      "LR_LiTFSI_PEDOTPSS_dedoped_n0p6_pos1_2475.50eV_ai0.80_wa0_bpm109.349_id23847_000000_WAXS.tif\n"
     ]
    },
    {
     "name": "stderr",
     "output_type": "stream",
     "text": [
      "WARNING:fabio.TiffIO:Data at tag id '65000' is smaller than expected\n",
      "WARNING:fabio.TiffIO:Data at tag id '65000' is smaller than expected\n",
      "WARNING:fabio.TiffIO:Data at tag id '65000' is smaller than expected\n",
      "WARNING:fabio.TiffIO:Data at tag id '65000' is smaller than expected\n",
      "WARNING:fabio.TiffIO:Data at tag id '65000' is smaller than expected\n",
      "WARNING:fabio.TiffIO:Data at tag id '65000' is smaller than expected\n"
     ]
    },
    {
     "name": "stdout",
     "output_type": "stream",
     "text": [
      "LR_P3MEEMT23k115C_0p4_KTFSI_pos2_2460.00eV_ai0.80_wa0_bpm12.638_id23213_000000_WAXS.tif\n"
     ]
    },
    {
     "name": "stderr",
     "output_type": "stream",
     "text": [
      "WARNING:fabio.TiffIO:Data at tag id '65000' is smaller than expected\n",
      "WARNING:fabio.TiffIO:Data at tag id '65000' is smaller than expected\n",
      "WARNING:fabio.TiffIO:Data at tag id '65000' is smaller than expected\n",
      "WARNING:fabio.TiffIO:Data at tag id '65000' is smaller than expected\n",
      "WARNING:fabio.TiffIO:Data at tag id '65000' is smaller than expected\n",
      "WARNING:fabio.TiffIO:Data at tag id '65000' is smaller than expected\n"
     ]
    },
    {
     "name": "stdout",
     "output_type": "stream",
     "text": [
      "LR_StandardPEDOTPSS_as_pos2_2465.00eV_ai0.80_wa0_bpm12.615_id22760_000000_WAXS.tif\n"
     ]
    },
    {
     "name": "stderr",
     "output_type": "stream",
     "text": [
      "WARNING:fabio.TiffIO:Data at tag id '65000' is smaller than expected\n",
      "WARNING:fabio.TiffIO:Data at tag id '65000' is smaller than expected\n",
      "WARNING:fabio.TiffIO:Data at tag id '65000' is smaller than expected\n",
      "WARNING:fabio.TiffIO:Data at tag id '65000' is smaller than expected\n",
      "WARNING:fabio.TiffIO:Data at tag id '65000' is smaller than expected\n",
      "WARNING:fabio.TiffIO:Data at tag id '65000' is smaller than expected\n"
     ]
    },
    {
     "name": "stdout",
     "output_type": "stream",
     "text": [
      "LR_LiTFSI_PEDOTPSS_redoped_0V_pos1_2475.50eV_ai0.80_wa0_bpm109.392_id23960_000000_WAXS.tif\n"
     ]
    },
    {
     "name": "stderr",
     "output_type": "stream",
     "text": [
      "WARNING:fabio.TiffIO:Data at tag id '65000' is smaller than expected\n",
      "WARNING:fabio.TiffIO:Data at tag id '65000' is smaller than expected\n",
      "WARNING:fabio.TiffIO:Data at tag id '65000' is smaller than expected\n",
      "WARNING:fabio.TiffIO:Data at tag id '65000' is smaller than expected\n",
      "WARNING:fabio.TiffIO:Data at tag id '65000' is smaller than expected\n",
      "WARNING:fabio.TiffIO:Data at tag id '65000' is smaller than expected\n"
     ]
    },
    {
     "name": "stdout",
     "output_type": "stream",
     "text": [
      "LR_AcidPEDOTPSS_NaCl_pos1_2500.00eV_ai0.80_wa0_bpm110.217_id22282_000000_WAXS.tif\n"
     ]
    },
    {
     "name": "stderr",
     "output_type": "stream",
     "text": [
      "WARNING:fabio.TiffIO:Data at tag id '65000' is smaller than expected\n",
      "WARNING:fabio.TiffIO:Data at tag id '65000' is smaller than expected\n",
      "WARNING:fabio.TiffIO:Data at tag id '65000' is smaller than expected\n",
      "WARNING:fabio.TiffIO:Data at tag id '65000' is smaller than expected\n",
      "WARNING:fabio.TiffIO:Data at tag id '65000' is smaller than expected\n",
      "WARNING:fabio.TiffIO:Data at tag id '65000' is smaller than expected\n"
     ]
    },
    {
     "name": "stdout",
     "output_type": "stream",
     "text": [
      "LR_StandardPEDOTPSS_as_pos1_2460.00eV_ai0.80_wa0_bpm109.976_id22712_000000_WAXS.tif\n"
     ]
    },
    {
     "name": "stderr",
     "output_type": "stream",
     "text": [
      "WARNING:fabio.TiffIO:Data at tag id '65000' is smaller than expected\n",
      "WARNING:fabio.TiffIO:Data at tag id '65000' is smaller than expected\n",
      "WARNING:fabio.TiffIO:Data at tag id '65000' is smaller than expected\n",
      "WARNING:fabio.TiffIO:Data at tag id '65000' is smaller than expected\n",
      "WARNING:fabio.TiffIO:Data at tag id '65000' is smaller than expected\n",
      "WARNING:fabio.TiffIO:Data at tag id '65000' is smaller than expected\n"
     ]
    },
    {
     "name": "stdout",
     "output_type": "stream",
     "text": [
      "LR_RivnayFrit_P3MEEET_drop_pos1_2455.00eV_ai0.80_wa0_bpm110.113_id23389_000000_WAXS.tif\n"
     ]
    },
    {
     "name": "stderr",
     "output_type": "stream",
     "text": [
      "WARNING:fabio.TiffIO:Data at tag id '65000' is smaller than expected\n",
      "WARNING:fabio.TiffIO:Data at tag id '65000' is smaller than expected\n",
      "WARNING:fabio.TiffIO:Data at tag id '65000' is smaller than expected\n",
      "WARNING:fabio.TiffIO:Data at tag id '65000' is smaller than expected\n",
      "WARNING:fabio.TiffIO:Data at tag id '65000' is smaller than expected\n",
      "WARNING:fabio.TiffIO:Data at tag id '65000' is smaller than expected\n"
     ]
    },
    {
     "name": "stdout",
     "output_type": "stream",
     "text": [
      "LR_LiTFSI_PEDOTPSS_RbBr_pos2_2500.00eV_ai0.80_wa0_bpm13.156_id24208_000000_WAXS.tif\n"
     ]
    },
    {
     "name": "stderr",
     "output_type": "stream",
     "text": [
      "WARNING:fabio.TiffIO:Data at tag id '65000' is smaller than expected\n",
      "WARNING:fabio.TiffIO:Data at tag id '65000' is smaller than expected\n",
      "WARNING:fabio.TiffIO:Data at tag id '65000' is smaller than expected\n",
      "WARNING:fabio.TiffIO:Data at tag id '65000' is smaller than expected\n",
      "WARNING:fabio.TiffIO:Data at tag id '65000' is smaller than expected\n",
      "WARNING:fabio.TiffIO:Data at tag id '65000' is smaller than expected\n"
     ]
    },
    {
     "name": "stdout",
     "output_type": "stream",
     "text": [
      "LR_AcidPEDOTPSS_0V_pos1_2500.00eV_ai0.80_wa0_bpm109.912_id21943_000000_WAXS.tif\n"
     ]
    },
    {
     "name": "stderr",
     "output_type": "stream",
     "text": [
      "WARNING:fabio.TiffIO:Data at tag id '65000' is smaller than expected\n",
      "WARNING:fabio.TiffIO:Data at tag id '65000' is smaller than expected\n",
      "WARNING:fabio.TiffIO:Data at tag id '65000' is smaller than expected\n",
      "WARNING:fabio.TiffIO:Data at tag id '65000' is smaller than expected\n",
      "WARNING:fabio.TiffIO:Data at tag id '65000' is smaller than expected\n",
      "WARNING:fabio.TiffIO:Data at tag id '65000' is smaller than expected\n"
     ]
    },
    {
     "name": "stdout",
     "output_type": "stream",
     "text": [
      "LR_LiTFSI_PEDOTPSS_0V_pos2_2475.00eV_ai0.80_wa0_bpm12.727_id23774_000000_WAXS.tif\n"
     ]
    },
    {
     "name": "stderr",
     "output_type": "stream",
     "text": [
      "WARNING:fabio.TiffIO:Data at tag id '65000' is smaller than expected\n",
      "WARNING:fabio.TiffIO:Data at tag id '65000' is smaller than expected\n",
      "WARNING:fabio.TiffIO:Data at tag id '65000' is smaller than expected\n",
      "WARNING:fabio.TiffIO:Data at tag id '65000' is smaller than expected\n",
      "WARNING:fabio.TiffIO:Data at tag id '65000' is smaller than expected\n",
      "WARNING:fabio.TiffIO:Data at tag id '65000' is smaller than expected\n"
     ]
    },
    {
     "name": "stdout",
     "output_type": "stream",
     "text": [
      "LR_AcidPEDOTPSS_RbCl_pos2_2495.00eV_ai0.80_wa0_bpm13.099_id22514_000000_WAXS.tif\n"
     ]
    },
    {
     "name": "stderr",
     "output_type": "stream",
     "text": [
      "WARNING:fabio.TiffIO:Data at tag id '65000' is smaller than expected\n",
      "WARNING:fabio.TiffIO:Data at tag id '65000' is smaller than expected\n",
      "WARNING:fabio.TiffIO:Data at tag id '65000' is smaller than expected\n",
      "WARNING:fabio.TiffIO:Data at tag id '65000' is smaller than expected\n",
      "WARNING:fabio.TiffIO:Data at tag id '65000' is smaller than expected\n",
      "WARNING:fabio.TiffIO:Data at tag id '65000' is smaller than expected\n"
     ]
    },
    {
     "name": "stdout",
     "output_type": "stream",
     "text": [
      "LR_RivnayFrit_P3MEEET_drop_pos2_2473.00eV_ai0.80_wa0_bpm12.635_id23436_000000_WAXS.tif\n"
     ]
    },
    {
     "name": "stderr",
     "output_type": "stream",
     "text": [
      "WARNING:fabio.TiffIO:Data at tag id '65000' is smaller than expected\n",
      "WARNING:fabio.TiffIO:Data at tag id '65000' is smaller than expected\n",
      "WARNING:fabio.TiffIO:Data at tag id '65000' is smaller than expected\n",
      "WARNING:fabio.TiffIO:Data at tag id '65000' is smaller than expected\n",
      "WARNING:fabio.TiffIO:Data at tag id '65000' is smaller than expected\n",
      "WARNING:fabio.TiffIO:Data at tag id '65000' is smaller than expected\n"
     ]
    },
    {
     "name": "stdout",
     "output_type": "stream",
     "text": [
      "LR_LiTFSI_PEDOTPSS_overdoped_p0p6V_pos2_2460.00eV_ai0.80_wa0_bpm12.670_id24117_000000_WAXS.tif\n"
     ]
    },
    {
     "name": "stderr",
     "output_type": "stream",
     "text": [
      "WARNING:fabio.TiffIO:Data at tag id '65000' is smaller than expected\n",
      "WARNING:fabio.TiffIO:Data at tag id '65000' is smaller than expected\n",
      "WARNING:fabio.TiffIO:Data at tag id '65000' is smaller than expected\n",
      "WARNING:fabio.TiffIO:Data at tag id '65000' is smaller than expected\n",
      "WARNING:fabio.TiffIO:Data at tag id '65000' is smaller than expected\n",
      "WARNING:fabio.TiffIO:Data at tag id '65000' is smaller than expected\n"
     ]
    },
    {
     "name": "stdout",
     "output_type": "stream",
     "text": [
      "LR_StandardPEDOTPSS_NaBr_pos1_2476.00eV_ai0.80_wa0_bpm109.698_id22944_000000_WAXS.tif\n"
     ]
    },
    {
     "name": "stderr",
     "output_type": "stream",
     "text": [
      "WARNING:fabio.TiffIO:Data at tag id '65000' is smaller than expected\n",
      "WARNING:fabio.TiffIO:Data at tag id '65000' is smaller than expected\n",
      "WARNING:fabio.TiffIO:Data at tag id '65000' is smaller than expected\n",
      "WARNING:fabio.TiffIO:Data at tag id '65000' is smaller than expected\n",
      "WARNING:fabio.TiffIO:Data at tag id '65000' is smaller than expected\n",
      "WARNING:fabio.TiffIO:Data at tag id '65000' is smaller than expected\n"
     ]
    },
    {
     "name": "stdout",
     "output_type": "stream",
     "text": [
      "LR_P3MEEMT23k115C_0p7_KTFSI_pos2_2490.00eV_ai0.80_wa0_bpm12.937_id23081_000000_WAXS.tif\n"
     ]
    },
    {
     "name": "stderr",
     "output_type": "stream",
     "text": [
      "WARNING:fabio.TiffIO:Data at tag id '65000' is smaller than expected\n",
      "WARNING:fabio.TiffIO:Data at tag id '65000' is smaller than expected\n",
      "WARNING:fabio.TiffIO:Data at tag id '65000' is smaller than expected\n",
      "WARNING:fabio.TiffIO:Data at tag id '65000' is smaller than expected\n",
      "WARNING:fabio.TiffIO:Data at tag id '65000' is smaller than expected\n",
      "WARNING:fabio.TiffIO:Data at tag id '65000' is smaller than expected\n"
     ]
    },
    {
     "name": "stdout",
     "output_type": "stream",
     "text": [
      "LR_StandardPEDOTPSS_as_pos2_2487.50eV_ai0.80_wa0_bpm12.902_id22743_000000_WAXS.tif\n"
     ]
    },
    {
     "name": "stderr",
     "output_type": "stream",
     "text": [
      "WARNING:fabio.TiffIO:Data at tag id '65000' is smaller than expected\n",
      "WARNING:fabio.TiffIO:Data at tag id '65000' is smaller than expected\n",
      "WARNING:fabio.TiffIO:Data at tag id '65000' is smaller than expected\n",
      "WARNING:fabio.TiffIO:Data at tag id '65000' is smaller than expected\n",
      "WARNING:fabio.TiffIO:Data at tag id '65000' is smaller than expected\n",
      "WARNING:fabio.TiffIO:Data at tag id '65000' is smaller than expected\n"
     ]
    },
    {
     "name": "stdout",
     "output_type": "stream",
     "text": [
      "LR_AcidPEDOTPSS_exposed_pos1_2475.50eV_ai0.80_wa0_bpm109.996_id21813_000000_WAXS.tif\n"
     ]
    },
    {
     "name": "stderr",
     "output_type": "stream",
     "text": [
      "WARNING:fabio.TiffIO:Data at tag id '65000' is smaller than expected\n",
      "WARNING:fabio.TiffIO:Data at tag id '65000' is smaller than expected\n",
      "WARNING:fabio.TiffIO:Data at tag id '65000' is smaller than expected\n",
      "WARNING:fabio.TiffIO:Data at tag id '65000' is smaller than expected\n",
      "WARNING:fabio.TiffIO:Data at tag id '65000' is smaller than expected\n",
      "WARNING:fabio.TiffIO:Data at tag id '65000' is smaller than expected\n"
     ]
    },
    {
     "name": "stdout",
     "output_type": "stream",
     "text": [
      "LR_LiTFSI_PEDOTPSS_overdoped_p0p6V_pos1_2510.00eV_ai0.80_wa0_bpm109.580_id24091_000000_WAXS.tif\n"
     ]
    },
    {
     "name": "stderr",
     "output_type": "stream",
     "text": [
      "WARNING:fabio.TiffIO:Data at tag id '65000' is smaller than expected\n",
      "WARNING:fabio.TiffIO:Data at tag id '65000' is smaller than expected\n",
      "WARNING:fabio.TiffIO:Data at tag id '65000' is smaller than expected\n",
      "WARNING:fabio.TiffIO:Data at tag id '65000' is smaller than expected\n",
      "WARNING:fabio.TiffIO:Data at tag id '65000' is smaller than expected\n",
      "WARNING:fabio.TiffIO:Data at tag id '65000' is smaller than expected\n"
     ]
    },
    {
     "name": "stdout",
     "output_type": "stream",
     "text": [
      "LR_AcidPEDOTPSS_RbBr_pos1_2510.00eV_ai0.80_wa0_bpm109.905_id22622_000000_WAXS.tif\n"
     ]
    },
    {
     "name": "stderr",
     "output_type": "stream",
     "text": [
      "WARNING:fabio.TiffIO:Data at tag id '65000' is smaller than expected\n",
      "WARNING:fabio.TiffIO:Data at tag id '65000' is smaller than expected\n",
      "WARNING:fabio.TiffIO:Data at tag id '65000' is smaller than expected\n",
      "WARNING:fabio.TiffIO:Data at tag id '65000' is smaller than expected\n",
      "WARNING:fabio.TiffIO:Data at tag id '65000' is smaller than expected\n",
      "WARNING:fabio.TiffIO:Data at tag id '65000' is smaller than expected\n"
     ]
    },
    {
     "name": "stdout",
     "output_type": "stream",
     "text": [
      "LR_AcidPEDOTPSS_RbBr_pos1_2475.50eV_ai0.80_wa0_bpm109.718_id22604_000000_WAXS.tif\n"
     ]
    },
    {
     "name": "stderr",
     "output_type": "stream",
     "text": [
      "WARNING:fabio.TiffIO:Data at tag id '65000' is smaller than expected\n",
      "WARNING:fabio.TiffIO:Data at tag id '65000' is smaller than expected\n",
      "WARNING:fabio.TiffIO:Data at tag id '65000' is smaller than expected\n",
      "WARNING:fabio.TiffIO:Data at tag id '65000' is smaller than expected\n",
      "WARNING:fabio.TiffIO:Data at tag id '65000' is smaller than expected\n",
      "WARNING:fabio.TiffIO:Data at tag id '65000' is smaller than expected\n"
     ]
    },
    {
     "name": "stdout",
     "output_type": "stream",
     "text": [
      "LR_AcidPEDOTPSS_RbCl_pos2_2483.00eV_ai0.80_wa0_bpm12.815_id22519_000000_WAXS.tif\n"
     ]
    },
    {
     "name": "stderr",
     "output_type": "stream",
     "text": [
      "WARNING:fabio.TiffIO:Data at tag id '65000' is smaller than expected\n",
      "WARNING:fabio.TiffIO:Data at tag id '65000' is smaller than expected\n",
      "WARNING:fabio.TiffIO:Data at tag id '65000' is smaller than expected\n",
      "WARNING:fabio.TiffIO:Data at tag id '65000' is smaller than expected\n",
      "WARNING:fabio.TiffIO:Data at tag id '65000' is smaller than expected\n",
      "WARNING:fabio.TiffIO:Data at tag id '65000' is smaller than expected\n"
     ]
    },
    {
     "name": "stdout",
     "output_type": "stream",
     "text": [
      "LR_AcidPEDOTPSS_dedope_n0p6_pos1_2479.00eV_ai0.80_wa0_bpm110.468_id22046_000000_WAXS.tif\n"
     ]
    },
    {
     "name": "stderr",
     "output_type": "stream",
     "text": [
      "WARNING:fabio.TiffIO:Data at tag id '65000' is smaller than expected\n",
      "WARNING:fabio.TiffIO:Data at tag id '65000' is smaller than expected\n",
      "WARNING:fabio.TiffIO:Data at tag id '65000' is smaller than expected\n",
      "WARNING:fabio.TiffIO:Data at tag id '65000' is smaller than expected\n",
      "WARNING:fabio.TiffIO:Data at tag id '65000' is smaller than expected\n",
      "WARNING:fabio.TiffIO:Data at tag id '65000' is smaller than expected\n"
     ]
    },
    {
     "name": "stdout",
     "output_type": "stream",
     "text": [
      "LR_AcidPEDOTPSS_dedope_n0p6_pos1_2479.50eV_ai0.80_wa0_bpm110.332_id22047_000000_WAXS.tif\n"
     ]
    },
    {
     "name": "stderr",
     "output_type": "stream",
     "text": [
      "WARNING:fabio.TiffIO:Data at tag id '65000' is smaller than expected\n",
      "WARNING:fabio.TiffIO:Data at tag id '65000' is smaller than expected\n",
      "WARNING:fabio.TiffIO:Data at tag id '65000' is smaller than expected\n",
      "WARNING:fabio.TiffIO:Data at tag id '65000' is smaller than expected\n",
      "WARNING:fabio.TiffIO:Data at tag id '65000' is smaller than expected\n",
      "WARNING:fabio.TiffIO:Data at tag id '65000' is smaller than expected\n"
     ]
    },
    {
     "name": "stdout",
     "output_type": "stream",
     "text": [
      "LR_AcidPEDOTPSS_NaBr_pos1_2477.00eV_ai0.80_wa0_bpm109.936_id22381_000000_WAXS.tif\n"
     ]
    },
    {
     "name": "stderr",
     "output_type": "stream",
     "text": [
      "WARNING:fabio.TiffIO:Data at tag id '65000' is smaller than expected\n",
      "WARNING:fabio.TiffIO:Data at tag id '65000' is smaller than expected\n",
      "WARNING:fabio.TiffIO:Data at tag id '65000' is smaller than expected\n",
      "WARNING:fabio.TiffIO:Data at tag id '65000' is smaller than expected\n",
      "WARNING:fabio.TiffIO:Data at tag id '65000' is smaller than expected\n",
      "WARNING:fabio.TiffIO:Data at tag id '65000' is smaller than expected\n"
     ]
    },
    {
     "name": "stdout",
     "output_type": "stream",
     "text": [
      "LR_LiTFSI_PEDOTPSS_dedoped_n0p6_pos2_2515.00eV_ai0.80_wa0_bpm13.468_id23867_000000_WAXS.tif\n"
     ]
    },
    {
     "name": "stderr",
     "output_type": "stream",
     "text": [
      "WARNING:fabio.TiffIO:Data at tag id '65000' is smaller than expected\n",
      "WARNING:fabio.TiffIO:Data at tag id '65000' is smaller than expected\n",
      "WARNING:fabio.TiffIO:Data at tag id '65000' is smaller than expected\n",
      "WARNING:fabio.TiffIO:Data at tag id '65000' is smaller than expected\n",
      "WARNING:fabio.TiffIO:Data at tag id '65000' is smaller than expected\n",
      "WARNING:fabio.TiffIO:Data at tag id '65000' is smaller than expected\n"
     ]
    },
    {
     "name": "stdout",
     "output_type": "stream",
     "text": [
      "LR_LiTFSI_PEDOTPSS_RbBr_pos2_2455.00eV_ai0.80_wa0_bpm12.646_id24231_000000_WAXS.tif\n"
     ]
    },
    {
     "name": "stderr",
     "output_type": "stream",
     "text": [
      "WARNING:fabio.TiffIO:Data at tag id '65000' is smaller than expected\n",
      "WARNING:fabio.TiffIO:Data at tag id '65000' is smaller than expected\n",
      "WARNING:fabio.TiffIO:Data at tag id '65000' is smaller than expected\n",
      "WARNING:fabio.TiffIO:Data at tag id '65000' is smaller than expected\n",
      "WARNING:fabio.TiffIO:Data at tag id '65000' is smaller than expected\n",
      "WARNING:fabio.TiffIO:Data at tag id '65000' is smaller than expected\n"
     ]
    },
    {
     "name": "stdout",
     "output_type": "stream",
     "text": [
      "LR_AcidPEDOTPSS_NaCl_pos2_2510.00eV_ai0.80_wa0_bpm13.486_id22286_000000_WAXS.tif\n"
     ]
    },
    {
     "name": "stderr",
     "output_type": "stream",
     "text": [
      "WARNING:fabio.TiffIO:Data at tag id '65000' is smaller than expected\n",
      "WARNING:fabio.TiffIO:Data at tag id '65000' is smaller than expected\n",
      "WARNING:fabio.TiffIO:Data at tag id '65000' is smaller than expected\n",
      "WARNING:fabio.TiffIO:Data at tag id '65000' is smaller than expected\n",
      "WARNING:fabio.TiffIO:Data at tag id '65000' is smaller than expected\n",
      "WARNING:fabio.TiffIO:Data at tag id '65000' is smaller than expected\n"
     ]
    },
    {
     "name": "stdout",
     "output_type": "stream",
     "text": [
      "LR_P3MEEMT23k115C_un_pos1_2476.50eV_ai0.80_wa0_bpm108.840_id23284_000000_WAXS.tif\n"
     ]
    },
    {
     "name": "stderr",
     "output_type": "stream",
     "text": [
      "WARNING:fabio.TiffIO:Data at tag id '65000' is smaller than expected\n",
      "WARNING:fabio.TiffIO:Data at tag id '65000' is smaller than expected\n",
      "WARNING:fabio.TiffIO:Data at tag id '65000' is smaller than expected\n",
      "WARNING:fabio.TiffIO:Data at tag id '65000' is smaller than expected\n",
      "WARNING:fabio.TiffIO:Data at tag id '65000' is smaller than expected\n",
      "WARNING:fabio.TiffIO:Data at tag id '65000' is smaller than expected\n"
     ]
    },
    {
     "name": "stdout",
     "output_type": "stream",
     "text": [
      "LR_AcidPEDOTPSS_overdope_p0p6_pos1_2475.00eV_ai0.80_wa0_bpm109.792_id22151_000000_WAXS.tif\n"
     ]
    },
    {
     "name": "stderr",
     "output_type": "stream",
     "text": [
      "WARNING:fabio.TiffIO:Data at tag id '65000' is smaller than expected\n",
      "WARNING:fabio.TiffIO:Data at tag id '65000' is smaller than expected\n",
      "WARNING:fabio.TiffIO:Data at tag id '65000' is smaller than expected\n",
      "WARNING:fabio.TiffIO:Data at tag id '65000' is smaller than expected\n",
      "WARNING:fabio.TiffIO:Data at tag id '65000' is smaller than expected\n",
      "WARNING:fabio.TiffIO:Data at tag id '65000' is smaller than expected\n"
     ]
    },
    {
     "name": "stdout",
     "output_type": "stream",
     "text": [
      "LR_AcidPEDOTPSS_NaCl_pos1_2480.00eV_ai0.80_wa0_bpm109.886_id22274_000000_WAXS.tif\n"
     ]
    },
    {
     "name": "stderr",
     "output_type": "stream",
     "text": [
      "WARNING:fabio.TiffIO:Data at tag id '65000' is smaller than expected\n",
      "WARNING:fabio.TiffIO:Data at tag id '65000' is smaller than expected\n",
      "WARNING:fabio.TiffIO:Data at tag id '65000' is smaller than expected\n",
      "WARNING:fabio.TiffIO:Data at tag id '65000' is smaller than expected\n",
      "WARNING:fabio.TiffIO:Data at tag id '65000' is smaller than expected\n",
      "WARNING:fabio.TiffIO:Data at tag id '65000' is smaller than expected\n"
     ]
    },
    {
     "name": "stdout",
     "output_type": "stream",
     "text": [
      "LR_AcidPEDOTPSS_NaCl_pos1_2476.50eV_ai0.80_wa0_bpm109.821_id22267_000000_WAXS.tif\n"
     ]
    },
    {
     "name": "stderr",
     "output_type": "stream",
     "text": [
      "WARNING:fabio.TiffIO:Data at tag id '65000' is smaller than expected\n",
      "WARNING:fabio.TiffIO:Data at tag id '65000' is smaller than expected\n",
      "WARNING:fabio.TiffIO:Data at tag id '65000' is smaller than expected\n",
      "WARNING:fabio.TiffIO:Data at tag id '65000' is smaller than expected\n",
      "WARNING:fabio.TiffIO:Data at tag id '65000' is smaller than expected\n",
      "WARNING:fabio.TiffIO:Data at tag id '65000' is smaller than expected\n"
     ]
    },
    {
     "name": "stdout",
     "output_type": "stream",
     "text": [
      "LR_P3MEEMT23k115C_un_pos2_2473.00eV_ai0.80_wa0_bpm12.620_id23323_000000_WAXS.tif\n"
     ]
    },
    {
     "name": "stderr",
     "output_type": "stream",
     "text": [
      "WARNING:fabio.TiffIO:Data at tag id '65000' is smaller than expected\n",
      "WARNING:fabio.TiffIO:Data at tag id '65000' is smaller than expected\n",
      "WARNING:fabio.TiffIO:Data at tag id '65000' is smaller than expected\n",
      "WARNING:fabio.TiffIO:Data at tag id '65000' is smaller than expected\n",
      "WARNING:fabio.TiffIO:Data at tag id '65000' is smaller than expected\n",
      "WARNING:fabio.TiffIO:Data at tag id '65000' is smaller than expected\n"
     ]
    },
    {
     "name": "stdout",
     "output_type": "stream",
     "text": [
      "LR_LiTFSI_PEDOTPSS_overdoped_p0p6V_pos1_2478.00eV_ai0.80_wa0_bpm109.482_id24078_000000_WAXS.tif\n"
     ]
    },
    {
     "name": "stderr",
     "output_type": "stream",
     "text": [
      "WARNING:fabio.TiffIO:Data at tag id '65000' is smaller than expected\n",
      "WARNING:fabio.TiffIO:Data at tag id '65000' is smaller than expected\n",
      "WARNING:fabio.TiffIO:Data at tag id '65000' is smaller than expected\n",
      "WARNING:fabio.TiffIO:Data at tag id '65000' is smaller than expected\n",
      "WARNING:fabio.TiffIO:Data at tag id '65000' is smaller than expected\n",
      "WARNING:fabio.TiffIO:Data at tag id '65000' is smaller than expected\n"
     ]
    },
    {
     "name": "stdout",
     "output_type": "stream",
     "text": [
      "LR_P3MEEMT23k115C_0p7_KTFSI_pos1_2478.50eV_ai0.80_wa0_bpm109.313_id23062_000000_WAXS.tif\n"
     ]
    },
    {
     "name": "stderr",
     "output_type": "stream",
     "text": [
      "WARNING:fabio.TiffIO:Data at tag id '65000' is smaller than expected\n",
      "WARNING:fabio.TiffIO:Data at tag id '65000' is smaller than expected\n",
      "WARNING:fabio.TiffIO:Data at tag id '65000' is smaller than expected\n",
      "WARNING:fabio.TiffIO:Data at tag id '65000' is smaller than expected\n",
      "WARNING:fabio.TiffIO:Data at tag id '65000' is smaller than expected\n",
      "WARNING:fabio.TiffIO:Data at tag id '65000' is smaller than expected\n"
     ]
    },
    {
     "name": "stdout",
     "output_type": "stream",
     "text": [
      "LR_StandardPEDOTPSS_RbBr_pos1_2485.00eV_ai0.80_wa0_bpm109.576_id22842_000000_WAXS.tif\n"
     ]
    },
    {
     "name": "stderr",
     "output_type": "stream",
     "text": [
      "WARNING:fabio.TiffIO:Data at tag id '65000' is smaller than expected\n",
      "WARNING:fabio.TiffIO:Data at tag id '65000' is smaller than expected\n",
      "WARNING:fabio.TiffIO:Data at tag id '65000' is smaller than expected\n",
      "WARNING:fabio.TiffIO:Data at tag id '65000' is smaller than expected\n",
      "WARNING:fabio.TiffIO:Data at tag id '65000' is smaller than expected\n",
      "WARNING:fabio.TiffIO:Data at tag id '65000' is smaller than expected\n"
     ]
    },
    {
     "name": "stdout",
     "output_type": "stream",
     "text": [
      "LR_AcidPEDOTPSS_dedope_n0p6_pos1_2490.00eV_ai0.80_wa0_bpm110.160_id22053_000000_WAXS.tif\n"
     ]
    },
    {
     "name": "stderr",
     "output_type": "stream",
     "text": [
      "WARNING:fabio.TiffIO:Data at tag id '65000' is smaller than expected\n",
      "WARNING:fabio.TiffIO:Data at tag id '65000' is smaller than expected\n",
      "WARNING:fabio.TiffIO:Data at tag id '65000' is smaller than expected\n",
      "WARNING:fabio.TiffIO:Data at tag id '65000' is smaller than expected\n",
      "WARNING:fabio.TiffIO:Data at tag id '65000' is smaller than expected\n",
      "WARNING:fabio.TiffIO:Data at tag id '65000' is smaller than expected\n"
     ]
    },
    {
     "name": "stdout",
     "output_type": "stream",
     "text": [
      "LR_AcidPEDOTPSS_dedope_n0p6_pos2_2465.00eV_ai0.80_wa0_bpm12.675_id22082_000000_WAXS.tif\n"
     ]
    },
    {
     "name": "stderr",
     "output_type": "stream",
     "text": [
      "WARNING:fabio.TiffIO:Data at tag id '65000' is smaller than expected\n",
      "WARNING:fabio.TiffIO:Data at tag id '65000' is smaller than expected\n",
      "WARNING:fabio.TiffIO:Data at tag id '65000' is smaller than expected\n",
      "WARNING:fabio.TiffIO:Data at tag id '65000' is smaller than expected\n",
      "WARNING:fabio.TiffIO:Data at tag id '65000' is smaller than expected\n",
      "WARNING:fabio.TiffIO:Data at tag id '65000' is smaller than expected\n"
     ]
    },
    {
     "name": "stdout",
     "output_type": "stream",
     "text": [
      "LR_AcidPEDOTPSS_0V_pos1_2479.50eV_ai0.80_wa0_bpm109.895_id21934_000000_WAXS.tif\n"
     ]
    },
    {
     "name": "stderr",
     "output_type": "stream",
     "text": [
      "WARNING:fabio.TiffIO:Data at tag id '65000' is smaller than expected\n",
      "WARNING:fabio.TiffIO:Data at tag id '65000' is smaller than expected\n",
      "WARNING:fabio.TiffIO:Data at tag id '65000' is smaller than expected\n",
      "WARNING:fabio.TiffIO:Data at tag id '65000' is smaller than expected\n",
      "WARNING:fabio.TiffIO:Data at tag id '65000' is smaller than expected\n",
      "WARNING:fabio.TiffIO:Data at tag id '65000' is smaller than expected\n"
     ]
    },
    {
     "name": "stdout",
     "output_type": "stream",
     "text": [
      "LR_P3MEEMT23k115C_0p7_KTFSI_pos2_2476.00eV_ai0.80_wa0_bpm12.690_id23094_000000_WAXS.tif\n"
     ]
    },
    {
     "name": "stderr",
     "output_type": "stream",
     "text": [
      "WARNING:fabio.TiffIO:Data at tag id '65000' is smaller than expected\n",
      "WARNING:fabio.TiffIO:Data at tag id '65000' is smaller than expected\n",
      "WARNING:fabio.TiffIO:Data at tag id '65000' is smaller than expected\n",
      "WARNING:fabio.TiffIO:Data at tag id '65000' is smaller than expected\n",
      "WARNING:fabio.TiffIO:Data at tag id '65000' is smaller than expected\n",
      "WARNING:fabio.TiffIO:Data at tag id '65000' is smaller than expected\n"
     ]
    },
    {
     "name": "stdout",
     "output_type": "stream",
     "text": [
      "LR_StandardPEDOTPSS_NaBr_pos1_2477.00eV_ai0.80_wa0_bpm109.609_id22946_000000_WAXS.tif\n"
     ]
    },
    {
     "name": "stderr",
     "output_type": "stream",
     "text": [
      "WARNING:fabio.TiffIO:Data at tag id '65000' is smaller than expected\n",
      "WARNING:fabio.TiffIO:Data at tag id '65000' is smaller than expected\n",
      "WARNING:fabio.TiffIO:Data at tag id '65000' is smaller than expected\n",
      "WARNING:fabio.TiffIO:Data at tag id '65000' is smaller than expected\n",
      "WARNING:fabio.TiffIO:Data at tag id '65000' is smaller than expected\n",
      "WARNING:fabio.TiffIO:Data at tag id '65000' is smaller than expected\n"
     ]
    },
    {
     "name": "stdout",
     "output_type": "stream",
     "text": [
      "LR_StandardPEDOTPSS_NaBr_pos2_2490.00eV_ai0.80_wa0_bpm12.951_id22968_000000_WAXS.tif\n"
     ]
    },
    {
     "name": "stderr",
     "output_type": "stream",
     "text": [
      "WARNING:fabio.TiffIO:Data at tag id '65000' is smaller than expected\n",
      "WARNING:fabio.TiffIO:Data at tag id '65000' is smaller than expected\n",
      "WARNING:fabio.TiffIO:Data at tag id '65000' is smaller than expected\n",
      "WARNING:fabio.TiffIO:Data at tag id '65000' is smaller than expected\n",
      "WARNING:fabio.TiffIO:Data at tag id '65000' is smaller than expected\n",
      "WARNING:fabio.TiffIO:Data at tag id '65000' is smaller than expected\n"
     ]
    },
    {
     "name": "stdout",
     "output_type": "stream",
     "text": [
      "LR_LiTFSI_PEDOTPSS_redoped_0V_pos2_2479.00eV_ai0.80_wa0_bpm12.731_id23992_000000_WAXS.tif\n"
     ]
    },
    {
     "name": "stderr",
     "output_type": "stream",
     "text": [
      "WARNING:fabio.TiffIO:Data at tag id '65000' is smaller than expected\n",
      "WARNING:fabio.TiffIO:Data at tag id '65000' is smaller than expected\n",
      "WARNING:fabio.TiffIO:Data at tag id '65000' is smaller than expected\n",
      "WARNING:fabio.TiffIO:Data at tag id '65000' is smaller than expected\n",
      "WARNING:fabio.TiffIO:Data at tag id '65000' is smaller than expected\n",
      "WARNING:fabio.TiffIO:Data at tag id '65000' is smaller than expected\n"
     ]
    },
    {
     "name": "stdout",
     "output_type": "stream",
     "text": [
      "LR_AcidPEDOTPSS_overdope_p0p6_pos2_2515.00eV_ai0.80_wa0_bpm13.496_id22172_000000_WAXS.tif\n"
     ]
    },
    {
     "name": "stderr",
     "output_type": "stream",
     "text": [
      "WARNING:fabio.TiffIO:Data at tag id '65000' is smaller than expected\n",
      "WARNING:fabio.TiffIO:Data at tag id '65000' is smaller than expected\n",
      "WARNING:fabio.TiffIO:Data at tag id '65000' is smaller than expected\n",
      "WARNING:fabio.TiffIO:Data at tag id '65000' is smaller than expected\n",
      "WARNING:fabio.TiffIO:Data at tag id '65000' is smaller than expected\n",
      "WARNING:fabio.TiffIO:Data at tag id '65000' is smaller than expected\n"
     ]
    },
    {
     "name": "stdout",
     "output_type": "stream",
     "text": [
      "LR_AcidPEDOTPSS_RbBr_pos2_2500.00eV_ai0.80_wa0_bpm13.203_id22626_000000_WAXS.tif\n"
     ]
    },
    {
     "name": "stderr",
     "output_type": "stream",
     "text": [
      "WARNING:fabio.TiffIO:Data at tag id '65000' is smaller than expected\n",
      "WARNING:fabio.TiffIO:Data at tag id '65000' is smaller than expected\n",
      "WARNING:fabio.TiffIO:Data at tag id '65000' is smaller than expected\n",
      "WARNING:fabio.TiffIO:Data at tag id '65000' is smaller than expected\n",
      "WARNING:fabio.TiffIO:Data at tag id '65000' is smaller than expected\n",
      "WARNING:fabio.TiffIO:Data at tag id '65000' is smaller than expected\n"
     ]
    },
    {
     "name": "stdout",
     "output_type": "stream",
     "text": [
      "LR_P3MEEMT23k115C_0p4_KTFSI_pos1_2480.50eV_ai0.80_wa0_bpm109.668_id23179_000000_WAXS.tif\n"
     ]
    },
    {
     "name": "stderr",
     "output_type": "stream",
     "text": [
      "WARNING:fabio.TiffIO:Data at tag id '65000' is smaller than expected\n",
      "WARNING:fabio.TiffIO:Data at tag id '65000' is smaller than expected\n",
      "WARNING:fabio.TiffIO:Data at tag id '65000' is smaller than expected\n",
      "WARNING:fabio.TiffIO:Data at tag id '65000' is smaller than expected\n",
      "WARNING:fabio.TiffIO:Data at tag id '65000' is smaller than expected\n",
      "WARNING:fabio.TiffIO:Data at tag id '65000' is smaller than expected\n"
     ]
    },
    {
     "name": "stdout",
     "output_type": "stream",
     "text": [
      "LR_AcidPEDOTPSS_NaBr_pos1_2455.00eV_ai0.80_wa0_bpm110.586_id22372_000000_WAXS.tif\n"
     ]
    },
    {
     "name": "stderr",
     "output_type": "stream",
     "text": [
      "WARNING:fabio.TiffIO:Data at tag id '65000' is smaller than expected\n",
      "WARNING:fabio.TiffIO:Data at tag id '65000' is smaller than expected\n",
      "WARNING:fabio.TiffIO:Data at tag id '65000' is smaller than expected\n",
      "WARNING:fabio.TiffIO:Data at tag id '65000' is smaller than expected\n",
      "WARNING:fabio.TiffIO:Data at tag id '65000' is smaller than expected\n",
      "WARNING:fabio.TiffIO:Data at tag id '65000' is smaller than expected\n"
     ]
    },
    {
     "name": "stdout",
     "output_type": "stream",
     "text": [
      "LR_LiTFSI_PEDOTPSS_dedoped_n0p6_pos2_2490.00eV_ai0.80_wa0_bpm12.972_id23872_000000_WAXS.tif\n"
     ]
    },
    {
     "name": "stderr",
     "output_type": "stream",
     "text": [
      "WARNING:fabio.TiffIO:Data at tag id '65000' is smaller than expected\n",
      "WARNING:fabio.TiffIO:Data at tag id '65000' is smaller than expected\n",
      "WARNING:fabio.TiffIO:Data at tag id '65000' is smaller than expected\n",
      "WARNING:fabio.TiffIO:Data at tag id '65000' is smaller than expected\n",
      "WARNING:fabio.TiffIO:Data at tag id '65000' is smaller than expected\n",
      "WARNING:fabio.TiffIO:Data at tag id '65000' is smaller than expected\n"
     ]
    },
    {
     "name": "stdout",
     "output_type": "stream",
     "text": [
      "LR_AcidPEDOTPSS_dedope_n0p6_pos2_2475.50eV_ai0.80_wa0_bpm12.757_id22078_000000_WAXS.tif\n"
     ]
    },
    {
     "name": "stderr",
     "output_type": "stream",
     "text": [
      "WARNING:fabio.TiffIO:Data at tag id '65000' is smaller than expected\n",
      "WARNING:fabio.TiffIO:Data at tag id '65000' is smaller than expected\n",
      "WARNING:fabio.TiffIO:Data at tag id '65000' is smaller than expected\n",
      "WARNING:fabio.TiffIO:Data at tag id '65000' is smaller than expected\n",
      "WARNING:fabio.TiffIO:Data at tag id '65000' is smaller than expected\n",
      "WARNING:fabio.TiffIO:Data at tag id '65000' is smaller than expected\n"
     ]
    },
    {
     "name": "stdout",
     "output_type": "stream",
     "text": [
      "LR_LiTFSI_PEDOTPSS_exposed_pos1_2480.50eV_ai0.80_wa0_bpm109.713_id23631_000000_WAXS.tif\n"
     ]
    },
    {
     "name": "stderr",
     "output_type": "stream",
     "text": [
      "WARNING:fabio.TiffIO:Data at tag id '65000' is smaller than expected\n",
      "WARNING:fabio.TiffIO:Data at tag id '65000' is smaller than expected\n",
      "WARNING:fabio.TiffIO:Data at tag id '65000' is smaller than expected\n",
      "WARNING:fabio.TiffIO:Data at tag id '65000' is smaller than expected\n",
      "WARNING:fabio.TiffIO:Data at tag id '65000' is smaller than expected\n",
      "WARNING:fabio.TiffIO:Data at tag id '65000' is smaller than expected\n"
     ]
    },
    {
     "name": "stdout",
     "output_type": "stream",
     "text": [
      "LR_AcidPEDOTPSS_0V_pos1_2510.00eV_ai0.80_wa0_bpm110.245_id21944_000000_WAXS.tif\n"
     ]
    },
    {
     "name": "stderr",
     "output_type": "stream",
     "text": [
      "WARNING:fabio.TiffIO:Data at tag id '65000' is smaller than expected\n",
      "WARNING:fabio.TiffIO:Data at tag id '65000' is smaller than expected\n",
      "WARNING:fabio.TiffIO:Data at tag id '65000' is smaller than expected\n",
      "WARNING:fabio.TiffIO:Data at tag id '65000' is smaller than expected\n",
      "WARNING:fabio.TiffIO:Data at tag id '65000' is smaller than expected\n",
      "WARNING:fabio.TiffIO:Data at tag id '65000' is smaller than expected\n"
     ]
    },
    {
     "name": "stdout",
     "output_type": "stream",
     "text": [
      "LR_P3MEEMT23k115C_un_pos1_2476.00eV_ai0.80_wa0_bpm108.917_id23283_000000_WAXS.tif\n"
     ]
    },
    {
     "name": "stderr",
     "output_type": "stream",
     "text": [
      "WARNING:fabio.TiffIO:Data at tag id '65000' is smaller than expected\n",
      "WARNING:fabio.TiffIO:Data at tag id '65000' is smaller than expected\n",
      "WARNING:fabio.TiffIO:Data at tag id '65000' is smaller than expected\n",
      "WARNING:fabio.TiffIO:Data at tag id '65000' is smaller than expected\n",
      "WARNING:fabio.TiffIO:Data at tag id '65000' is smaller than expected\n",
      "WARNING:fabio.TiffIO:Data at tag id '65000' is smaller than expected\n"
     ]
    },
    {
     "name": "stdout",
     "output_type": "stream",
     "text": [
      "LR_LiTFSI_PEDOTPSS_overdoped_p0p6V_pos1_2477.00eV_ai0.80_wa0_bpm109.329_id24076_000000_WAXS.tif\n"
     ]
    },
    {
     "name": "stderr",
     "output_type": "stream",
     "text": [
      "WARNING:fabio.TiffIO:Data at tag id '65000' is smaller than expected\n",
      "WARNING:fabio.TiffIO:Data at tag id '65000' is smaller than expected\n",
      "WARNING:fabio.TiffIO:Data at tag id '65000' is smaller than expected\n",
      "WARNING:fabio.TiffIO:Data at tag id '65000' is smaller than expected\n",
      "WARNING:fabio.TiffIO:Data at tag id '65000' is smaller than expected\n",
      "WARNING:fabio.TiffIO:Data at tag id '65000' is smaller than expected\n"
     ]
    },
    {
     "name": "stdout",
     "output_type": "stream",
     "text": [
      "LR_StandardPEDOTPSS_RbBr_pos1_2460.00eV_ai0.80_wa0_bpm109.703_id22825_000000_WAXS.tif\n"
     ]
    },
    {
     "name": "stderr",
     "output_type": "stream",
     "text": [
      "WARNING:fabio.TiffIO:Data at tag id '65000' is smaller than expected\n",
      "WARNING:fabio.TiffIO:Data at tag id '65000' is smaller than expected\n",
      "WARNING:fabio.TiffIO:Data at tag id '65000' is smaller than expected\n",
      "WARNING:fabio.TiffIO:Data at tag id '65000' is smaller than expected\n",
      "WARNING:fabio.TiffIO:Data at tag id '65000' is smaller than expected\n",
      "WARNING:fabio.TiffIO:Data at tag id '65000' is smaller than expected\n"
     ]
    },
    {
     "name": "stdout",
     "output_type": "stream",
     "text": [
      "LR_P3MEEMT23k115C_0p7_KTFSI_pos2_2465.00eV_ai0.80_wa0_bpm12.624_id23099_000000_WAXS.tif\n"
     ]
    },
    {
     "name": "stderr",
     "output_type": "stream",
     "text": [
      "WARNING:fabio.TiffIO:Data at tag id '65000' is smaller than expected\n",
      "WARNING:fabio.TiffIO:Data at tag id '65000' is smaller than expected\n",
      "WARNING:fabio.TiffIO:Data at tag id '65000' is smaller than expected\n",
      "WARNING:fabio.TiffIO:Data at tag id '65000' is smaller than expected\n",
      "WARNING:fabio.TiffIO:Data at tag id '65000' is smaller than expected\n",
      "WARNING:fabio.TiffIO:Data at tag id '65000' is smaller than expected\n"
     ]
    },
    {
     "name": "stdout",
     "output_type": "stream",
     "text": [
      "LR_AcidPEDOTPSS_NaBr_pos1_2515.00eV_ai0.80_wa0_bpm110.709_id22397_000000_WAXS.tif\n"
     ]
    },
    {
     "name": "stderr",
     "output_type": "stream",
     "text": [
      "WARNING:fabio.TiffIO:Data at tag id '65000' is smaller than expected\n",
      "WARNING:fabio.TiffIO:Data at tag id '65000' is smaller than expected\n",
      "WARNING:fabio.TiffIO:Data at tag id '65000' is smaller than expected\n",
      "WARNING:fabio.TiffIO:Data at tag id '65000' is smaller than expected\n",
      "WARNING:fabio.TiffIO:Data at tag id '65000' is smaller than expected\n",
      "WARNING:fabio.TiffIO:Data at tag id '65000' is smaller than expected\n"
     ]
    },
    {
     "name": "stdout",
     "output_type": "stream",
     "text": [
      "LR_LiTFSI_PEDOTPSS_exposed_pos2_2485.00eV_ai0.80_wa0_bpm12.825_id23648_000000_WAXS.tif\n"
     ]
    },
    {
     "name": "stderr",
     "output_type": "stream",
     "text": [
      "WARNING:fabio.TiffIO:Data at tag id '65000' is smaller than expected\n",
      "WARNING:fabio.TiffIO:Data at tag id '65000' is smaller than expected\n",
      "WARNING:fabio.TiffIO:Data at tag id '65000' is smaller than expected\n",
      "WARNING:fabio.TiffIO:Data at tag id '65000' is smaller than expected\n",
      "WARNING:fabio.TiffIO:Data at tag id '65000' is smaller than expected\n",
      "WARNING:fabio.TiffIO:Data at tag id '65000' is smaller than expected\n"
     ]
    },
    {
     "name": "stdout",
     "output_type": "stream",
     "text": [
      "LR_P3MEEMT23k115C_0p7_KTFSI_pos2_2479.50eV_ai0.80_wa0_bpm12.753_id23087_000000_WAXS.tif\n"
     ]
    },
    {
     "name": "stderr",
     "output_type": "stream",
     "text": [
      "WARNING:fabio.TiffIO:Data at tag id '65000' is smaller than expected\n",
      "WARNING:fabio.TiffIO:Data at tag id '65000' is smaller than expected\n",
      "WARNING:fabio.TiffIO:Data at tag id '65000' is smaller than expected\n",
      "WARNING:fabio.TiffIO:Data at tag id '65000' is smaller than expected\n",
      "WARNING:fabio.TiffIO:Data at tag id '65000' is smaller than expected\n",
      "WARNING:fabio.TiffIO:Data at tag id '65000' is smaller than expected\n"
     ]
    },
    {
     "name": "stdout",
     "output_type": "stream",
     "text": [
      "LR_LiTFSI_PEDOTPSS_redoped_0V_pos1_2478.00eV_ai0.80_wa0_bpm109.356_id23965_000000_WAXS.tif\n"
     ]
    },
    {
     "name": "stderr",
     "output_type": "stream",
     "text": [
      "WARNING:fabio.TiffIO:Data at tag id '65000' is smaller than expected\n",
      "WARNING:fabio.TiffIO:Data at tag id '65000' is smaller than expected\n",
      "WARNING:fabio.TiffIO:Data at tag id '65000' is smaller than expected\n",
      "WARNING:fabio.TiffIO:Data at tag id '65000' is smaller than expected\n",
      "WARNING:fabio.TiffIO:Data at tag id '65000' is smaller than expected\n",
      "WARNING:fabio.TiffIO:Data at tag id '65000' is smaller than expected\n"
     ]
    },
    {
     "name": "stdout",
     "output_type": "stream",
     "text": [
      "LR_LiTFSI_PEDOTPSS_RbBr_pos2_2490.00eV_ai0.80_wa0_bpm12.941_id24211_000000_WAXS.tif\n"
     ]
    },
    {
     "name": "stderr",
     "output_type": "stream",
     "text": [
      "WARNING:fabio.TiffIO:Data at tag id '65000' is smaller than expected\n",
      "WARNING:fabio.TiffIO:Data at tag id '65000' is smaller than expected\n",
      "WARNING:fabio.TiffIO:Data at tag id '65000' is smaller than expected\n",
      "WARNING:fabio.TiffIO:Data at tag id '65000' is smaller than expected\n",
      "WARNING:fabio.TiffIO:Data at tag id '65000' is smaller than expected\n",
      "WARNING:fabio.TiffIO:Data at tag id '65000' is smaller than expected\n"
     ]
    },
    {
     "name": "stdout",
     "output_type": "stream",
     "text": [
      "LR_RivnayFrit_P3MEEET_drop_pos2_2477.50eV_ai0.80_wa0_bpm12.656_id23430_000000_WAXS.tif\n"
     ]
    },
    {
     "name": "stderr",
     "output_type": "stream",
     "text": [
      "WARNING:fabio.TiffIO:Data at tag id '65000' is smaller than expected\n",
      "WARNING:fabio.TiffIO:Data at tag id '65000' is smaller than expected\n",
      "WARNING:fabio.TiffIO:Data at tag id '65000' is smaller than expected\n",
      "WARNING:fabio.TiffIO:Data at tag id '65000' is smaller than expected\n",
      "WARNING:fabio.TiffIO:Data at tag id '65000' is smaller than expected\n",
      "WARNING:fabio.TiffIO:Data at tag id '65000' is smaller than expected\n"
     ]
    },
    {
     "name": "stdout",
     "output_type": "stream",
     "text": [
      "LR_AcidPEDOTPSS_as_pos1_2460.00eV_ai0.80_wa0_bpm110.891_id21695_000000_WAXS.tif\n"
     ]
    },
    {
     "name": "stderr",
     "output_type": "stream",
     "text": [
      "WARNING:fabio.TiffIO:Data at tag id '65000' is smaller than expected\n",
      "WARNING:fabio.TiffIO:Data at tag id '65000' is smaller than expected\n",
      "WARNING:fabio.TiffIO:Data at tag id '65000' is smaller than expected\n",
      "WARNING:fabio.TiffIO:Data at tag id '65000' is smaller than expected\n",
      "WARNING:fabio.TiffIO:Data at tag id '65000' is smaller than expected\n",
      "WARNING:fabio.TiffIO:Data at tag id '65000' is smaller than expected\n"
     ]
    },
    {
     "name": "stdout",
     "output_type": "stream",
     "text": [
      "LR_P3MEEMT23k115C_un_pos2_2515.00eV_ai0.80_wa0_bpm13.462_id23302_000000_WAXS.tif\n"
     ]
    },
    {
     "name": "stderr",
     "output_type": "stream",
     "text": [
      "WARNING:fabio.TiffIO:Data at tag id '65000' is smaller than expected\n",
      "WARNING:fabio.TiffIO:Data at tag id '65000' is smaller than expected\n",
      "WARNING:fabio.TiffIO:Data at tag id '65000' is smaller than expected\n",
      "WARNING:fabio.TiffIO:Data at tag id '65000' is smaller than expected\n",
      "WARNING:fabio.TiffIO:Data at tag id '65000' is smaller than expected\n",
      "WARNING:fabio.TiffIO:Data at tag id '65000' is smaller than expected\n"
     ]
    },
    {
     "name": "stdout",
     "output_type": "stream",
     "text": [
      "LR_StandardPEDOTPSS_NaBr_pos1_2490.00eV_ai0.80_wa0_bpm109.849_id22957_000000_WAXS.tif\n"
     ]
    },
    {
     "name": "stderr",
     "output_type": "stream",
     "text": [
      "WARNING:fabio.TiffIO:Data at tag id '65000' is smaller than expected\n",
      "WARNING:fabio.TiffIO:Data at tag id '65000' is smaller than expected\n",
      "WARNING:fabio.TiffIO:Data at tag id '65000' is smaller than expected\n",
      "WARNING:fabio.TiffIO:Data at tag id '65000' is smaller than expected\n",
      "WARNING:fabio.TiffIO:Data at tag id '65000' is smaller than expected\n",
      "WARNING:fabio.TiffIO:Data at tag id '65000' is smaller than expected\n"
     ]
    },
    {
     "name": "stdout",
     "output_type": "stream",
     "text": [
      "LR_LiTFSI_PEDOTPSS_redoped_0V_pos1_2460.00eV_ai0.80_wa0_bpm109.793_id23955_000000_WAXS.tif\n"
     ]
    },
    {
     "name": "stderr",
     "output_type": "stream",
     "text": [
      "WARNING:fabio.TiffIO:Data at tag id '65000' is smaller than expected\n",
      "WARNING:fabio.TiffIO:Data at tag id '65000' is smaller than expected\n",
      "WARNING:fabio.TiffIO:Data at tag id '65000' is smaller than expected\n",
      "WARNING:fabio.TiffIO:Data at tag id '65000' is smaller than expected\n",
      "WARNING:fabio.TiffIO:Data at tag id '65000' is smaller than expected\n",
      "WARNING:fabio.TiffIO:Data at tag id '65000' is smaller than expected\n"
     ]
    },
    {
     "name": "stdout",
     "output_type": "stream",
     "text": [
      "LR_StandardPEDOTPSS_RbBr_pos2_2483.00eV_ai0.80_wa0_bpm12.821_id22858_000000_WAXS.tif\n"
     ]
    },
    {
     "name": "stderr",
     "output_type": "stream",
     "text": [
      "WARNING:fabio.TiffIO:Data at tag id '65000' is smaller than expected\n",
      "WARNING:fabio.TiffIO:Data at tag id '65000' is smaller than expected\n",
      "WARNING:fabio.TiffIO:Data at tag id '65000' is smaller than expected\n",
      "WARNING:fabio.TiffIO:Data at tag id '65000' is smaller than expected\n",
      "WARNING:fabio.TiffIO:Data at tag id '65000' is smaller than expected\n",
      "WARNING:fabio.TiffIO:Data at tag id '65000' is smaller than expected\n"
     ]
    },
    {
     "name": "stdout",
     "output_type": "stream",
     "text": [
      "LR_AcidPEDOTPSS_NaCl_pos1_2470.00eV_ai0.80_wa0_bpm110.066_id22262_000000_WAXS.tif\n"
     ]
    },
    {
     "name": "stderr",
     "output_type": "stream",
     "text": [
      "WARNING:fabio.TiffIO:Data at tag id '65000' is smaller than expected\n",
      "WARNING:fabio.TiffIO:Data at tag id '65000' is smaller than expected\n",
      "WARNING:fabio.TiffIO:Data at tag id '65000' is smaller than expected\n",
      "WARNING:fabio.TiffIO:Data at tag id '65000' is smaller than expected\n",
      "WARNING:fabio.TiffIO:Data at tag id '65000' is smaller than expected\n",
      "WARNING:fabio.TiffIO:Data at tag id '65000' is smaller than expected\n"
     ]
    },
    {
     "name": "stdout",
     "output_type": "stream",
     "text": [
      "LR_AcidPEDOTPSS_0V_pos2_2450.00eV_ai0.80_wa0_bpm12.603_id21972_000000_WAXS.tif\n"
     ]
    },
    {
     "name": "stderr",
     "output_type": "stream",
     "text": [
      "WARNING:fabio.TiffIO:Data at tag id '65000' is smaller than expected\n",
      "WARNING:fabio.TiffIO:Data at tag id '65000' is smaller than expected\n",
      "WARNING:fabio.TiffIO:Data at tag id '65000' is smaller than expected\n",
      "WARNING:fabio.TiffIO:Data at tag id '65000' is smaller than expected\n",
      "WARNING:fabio.TiffIO:Data at tag id '65000' is smaller than expected\n",
      "WARNING:fabio.TiffIO:Data at tag id '65000' is smaller than expected\n"
     ]
    },
    {
     "name": "stdout",
     "output_type": "stream",
     "text": [
      "LR_LiTFSI_PEDOTPSS_overdoped_p0p6V_pos2_2500.00eV_ai0.80_wa0_bpm13.140_id24095_000000_WAXS.tif\n"
     ]
    },
    {
     "name": "stderr",
     "output_type": "stream",
     "text": [
      "WARNING:fabio.TiffIO:Data at tag id '65000' is smaller than expected\n",
      "WARNING:fabio.TiffIO:Data at tag id '65000' is smaller than expected\n",
      "WARNING:fabio.TiffIO:Data at tag id '65000' is smaller than expected\n",
      "WARNING:fabio.TiffIO:Data at tag id '65000' is smaller than expected\n",
      "WARNING:fabio.TiffIO:Data at tag id '65000' is smaller than expected\n",
      "WARNING:fabio.TiffIO:Data at tag id '65000' is smaller than expected\n"
     ]
    },
    {
     "name": "stdout",
     "output_type": "stream",
     "text": [
      "LR_AcidPEDOTPSS_overdope_p0p6_pos2_2470.00eV_ai0.80_wa0_bpm12.644_id22194_000000_WAXS.tif\n"
     ]
    },
    {
     "name": "stderr",
     "output_type": "stream",
     "text": [
      "WARNING:fabio.TiffIO:Data at tag id '65000' is smaller than expected\n",
      "WARNING:fabio.TiffIO:Data at tag id '65000' is smaller than expected\n",
      "WARNING:fabio.TiffIO:Data at tag id '65000' is smaller than expected\n",
      "WARNING:fabio.TiffIO:Data at tag id '65000' is smaller than expected\n",
      "WARNING:fabio.TiffIO:Data at tag id '65000' is smaller than expected\n",
      "WARNING:fabio.TiffIO:Data at tag id '65000' is smaller than expected\n"
     ]
    },
    {
     "name": "stdout",
     "output_type": "stream",
     "text": [
      "LR_P3MEEMT23k115C_un_pos1_2460.00eV_ai0.80_wa0_bpm109.365_id23277_000000_WAXS.tif\n"
     ]
    },
    {
     "name": "stderr",
     "output_type": "stream",
     "text": [
      "WARNING:fabio.TiffIO:Data at tag id '65000' is smaller than expected\n",
      "WARNING:fabio.TiffIO:Data at tag id '65000' is smaller than expected\n",
      "WARNING:fabio.TiffIO:Data at tag id '65000' is smaller than expected\n",
      "WARNING:fabio.TiffIO:Data at tag id '65000' is smaller than expected\n",
      "WARNING:fabio.TiffIO:Data at tag id '65000' is smaller than expected\n",
      "WARNING:fabio.TiffIO:Data at tag id '65000' is smaller than expected\n"
     ]
    },
    {
     "name": "stdout",
     "output_type": "stream",
     "text": [
      "LR_AcidPEDOTPSS_dedope_n0p6_pos2_2473.00eV_ai0.80_wa0_bpm12.743_id22080_000000_WAXS.tif\n"
     ]
    },
    {
     "name": "stderr",
     "output_type": "stream",
     "text": [
      "WARNING:fabio.TiffIO:Data at tag id '65000' is smaller than expected\n",
      "WARNING:fabio.TiffIO:Data at tag id '65000' is smaller than expected\n",
      "WARNING:fabio.TiffIO:Data at tag id '65000' is smaller than expected\n",
      "WARNING:fabio.TiffIO:Data at tag id '65000' is smaller than expected\n",
      "WARNING:fabio.TiffIO:Data at tag id '65000' is smaller than expected\n",
      "WARNING:fabio.TiffIO:Data at tag id '65000' is smaller than expected\n"
     ]
    },
    {
     "name": "stdout",
     "output_type": "stream",
     "text": [
      "LR_P3MEEMT23k115C_0p7_KTFSI_pos2_2515.00eV_ai0.80_wa0_bpm13.445_id23076_000000_WAXS.tif\n"
     ]
    },
    {
     "name": "stderr",
     "output_type": "stream",
     "text": [
      "WARNING:fabio.TiffIO:Data at tag id '65000' is smaller than expected\n",
      "WARNING:fabio.TiffIO:Data at tag id '65000' is smaller than expected\n",
      "WARNING:fabio.TiffIO:Data at tag id '65000' is smaller than expected\n",
      "WARNING:fabio.TiffIO:Data at tag id '65000' is smaller than expected\n",
      "WARNING:fabio.TiffIO:Data at tag id '65000' is smaller than expected\n",
      "WARNING:fabio.TiffIO:Data at tag id '65000' is smaller than expected\n"
     ]
    },
    {
     "name": "stdout",
     "output_type": "stream",
     "text": [
      "LR_AcidPEDOTPSS_0V_pos1_2479.00eV_ai0.80_wa0_bpm109.845_id21933_000000_WAXS.tif\n"
     ]
    },
    {
     "name": "stderr",
     "output_type": "stream",
     "text": [
      "WARNING:fabio.TiffIO:Data at tag id '65000' is smaller than expected\n",
      "WARNING:fabio.TiffIO:Data at tag id '65000' is smaller than expected\n",
      "WARNING:fabio.TiffIO:Data at tag id '65000' is smaller than expected\n",
      "WARNING:fabio.TiffIO:Data at tag id '65000' is smaller than expected\n",
      "WARNING:fabio.TiffIO:Data at tag id '65000' is smaller than expected\n",
      "WARNING:fabio.TiffIO:Data at tag id '65000' is smaller than expected\n"
     ]
    },
    {
     "name": "stdout",
     "output_type": "stream",
     "text": [
      "LR_AcidPEDOTPSS_NaCl_pos2_2480.00eV_ai0.80_wa0_bpm12.822_id22295_000000_WAXS.tif\n"
     ]
    },
    {
     "name": "stderr",
     "output_type": "stream",
     "text": [
      "WARNING:fabio.TiffIO:Data at tag id '65000' is smaller than expected\n",
      "WARNING:fabio.TiffIO:Data at tag id '65000' is smaller than expected\n",
      "WARNING:fabio.TiffIO:Data at tag id '65000' is smaller than expected\n",
      "WARNING:fabio.TiffIO:Data at tag id '65000' is smaller than expected\n",
      "WARNING:fabio.TiffIO:Data at tag id '65000' is smaller than expected\n",
      "WARNING:fabio.TiffIO:Data at tag id '65000' is smaller than expected\n"
     ]
    },
    {
     "name": "stdout",
     "output_type": "stream",
     "text": [
      "LR_LiTFSI_PEDOTPSS_0V_pos1_2477.50eV_ai0.80_wa0_bpm109.749_id23738_000000_WAXS.tif\n"
     ]
    },
    {
     "name": "stderr",
     "output_type": "stream",
     "text": [
      "WARNING:fabio.TiffIO:Data at tag id '65000' is smaller than expected\n",
      "WARNING:fabio.TiffIO:Data at tag id '65000' is smaller than expected\n",
      "WARNING:fabio.TiffIO:Data at tag id '65000' is smaller than expected\n",
      "WARNING:fabio.TiffIO:Data at tag id '65000' is smaller than expected\n",
      "WARNING:fabio.TiffIO:Data at tag id '65000' is smaller than expected\n",
      "WARNING:fabio.TiffIO:Data at tag id '65000' is smaller than expected\n"
     ]
    },
    {
     "name": "stdout",
     "output_type": "stream",
     "text": [
      "LR_LiTFSI_PEDOTPSS_0V_pos1_2478.00eV_ai0.80_wa0_bpm109.897_id23739_000000_WAXS.tif\n"
     ]
    },
    {
     "name": "stderr",
     "output_type": "stream",
     "text": [
      "WARNING:fabio.TiffIO:Data at tag id '65000' is smaller than expected\n",
      "WARNING:fabio.TiffIO:Data at tag id '65000' is smaller than expected\n",
      "WARNING:fabio.TiffIO:Data at tag id '65000' is smaller than expected\n",
      "WARNING:fabio.TiffIO:Data at tag id '65000' is smaller than expected\n",
      "WARNING:fabio.TiffIO:Data at tag id '65000' is smaller than expected\n",
      "WARNING:fabio.TiffIO:Data at tag id '65000' is smaller than expected\n"
     ]
    },
    {
     "name": "stdout",
     "output_type": "stream",
     "text": [
      "LR_AcidPEDOTPSS_RbCl_pos2_2480.50eV_ai0.80_wa0_bpm12.770_id22520_000000_WAXS.tif\n"
     ]
    },
    {
     "name": "stderr",
     "output_type": "stream",
     "text": [
      "WARNING:fabio.TiffIO:Data at tag id '65000' is smaller than expected\n",
      "WARNING:fabio.TiffIO:Data at tag id '65000' is smaller than expected\n",
      "WARNING:fabio.TiffIO:Data at tag id '65000' is smaller than expected\n",
      "WARNING:fabio.TiffIO:Data at tag id '65000' is smaller than expected\n",
      "WARNING:fabio.TiffIO:Data at tag id '65000' is smaller than expected\n",
      "WARNING:fabio.TiffIO:Data at tag id '65000' is smaller than expected\n"
     ]
    },
    {
     "name": "stdout",
     "output_type": "stream",
     "text": [
      "LR_LiTFSI_PEDOTPSS_as_pos1_2475.00eV_ai0.80_wa0_bpm109.444_id23507_000000_WAXS.tif\n"
     ]
    },
    {
     "name": "stderr",
     "output_type": "stream",
     "text": [
      "WARNING:fabio.TiffIO:Data at tag id '65000' is smaller than expected\n",
      "WARNING:fabio.TiffIO:Data at tag id '65000' is smaller than expected\n",
      "WARNING:fabio.TiffIO:Data at tag id '65000' is smaller than expected\n",
      "WARNING:fabio.TiffIO:Data at tag id '65000' is smaller than expected\n",
      "WARNING:fabio.TiffIO:Data at tag id '65000' is smaller than expected\n",
      "WARNING:fabio.TiffIO:Data at tag id '65000' is smaller than expected\n"
     ]
    },
    {
     "name": "stdout",
     "output_type": "stream",
     "text": [
      "LR_AcidPEDOTPSS_NaCl_pos1_2487.50eV_ai0.80_wa0_bpm109.931_id22278_000000_WAXS.tif\n"
     ]
    },
    {
     "name": "stderr",
     "output_type": "stream",
     "text": [
      "WARNING:fabio.TiffIO:Data at tag id '65000' is smaller than expected\n",
      "WARNING:fabio.TiffIO:Data at tag id '65000' is smaller than expected\n",
      "WARNING:fabio.TiffIO:Data at tag id '65000' is smaller than expected\n",
      "WARNING:fabio.TiffIO:Data at tag id '65000' is smaller than expected\n",
      "WARNING:fabio.TiffIO:Data at tag id '65000' is smaller than expected\n",
      "WARNING:fabio.TiffIO:Data at tag id '65000' is smaller than expected\n"
     ]
    },
    {
     "name": "stdout",
     "output_type": "stream",
     "text": [
      "LR_AcidPEDOTPSS_exposed_pos1_2475.00eV_ai0.80_wa0_bpm110.224_id21812_000000_WAXS.tif\n"
     ]
    },
    {
     "name": "stderr",
     "output_type": "stream",
     "text": [
      "WARNING:fabio.TiffIO:Data at tag id '65000' is smaller than expected\n",
      "WARNING:fabio.TiffIO:Data at tag id '65000' is smaller than expected\n",
      "WARNING:fabio.TiffIO:Data at tag id '65000' is smaller than expected\n",
      "WARNING:fabio.TiffIO:Data at tag id '65000' is smaller than expected\n",
      "WARNING:fabio.TiffIO:Data at tag id '65000' is smaller than expected\n",
      "WARNING:fabio.TiffIO:Data at tag id '65000' is smaller than expected\n"
     ]
    },
    {
     "name": "stdout",
     "output_type": "stream",
     "text": [
      "LR_StandardPEDOTPSS_NaBr_pos1_2475.50eV_ai0.80_wa0_bpm109.781_id22943_000000_WAXS.tif\n"
     ]
    },
    {
     "name": "stderr",
     "output_type": "stream",
     "text": [
      "WARNING:fabio.TiffIO:Data at tag id '65000' is smaller than expected\n",
      "WARNING:fabio.TiffIO:Data at tag id '65000' is smaller than expected\n",
      "WARNING:fabio.TiffIO:Data at tag id '65000' is smaller than expected\n",
      "WARNING:fabio.TiffIO:Data at tag id '65000' is smaller than expected\n",
      "WARNING:fabio.TiffIO:Data at tag id '65000' is smaller than expected\n",
      "WARNING:fabio.TiffIO:Data at tag id '65000' is smaller than expected\n"
     ]
    },
    {
     "name": "stdout",
     "output_type": "stream",
     "text": [
      "LR_LiTFSI_PEDOTPSS_exposed_pos2_2479.50eV_ai0.80_wa0_bpm12.778_id23652_000000_WAXS.tif\n"
     ]
    },
    {
     "name": "stderr",
     "output_type": "stream",
     "text": [
      "WARNING:fabio.TiffIO:Data at tag id '65000' is smaller than expected\n",
      "WARNING:fabio.TiffIO:Data at tag id '65000' is smaller than expected\n",
      "WARNING:fabio.TiffIO:Data at tag id '65000' is smaller than expected\n",
      "WARNING:fabio.TiffIO:Data at tag id '65000' is smaller than expected\n",
      "WARNING:fabio.TiffIO:Data at tag id '65000' is smaller than expected\n",
      "WARNING:fabio.TiffIO:Data at tag id '65000' is smaller than expected\n"
     ]
    },
    {
     "name": "stdout",
     "output_type": "stream",
     "text": [
      "LR_LiTFSI_PEDOTPSS_dedoped_n0p6_pos1_2477.00eV_ai0.80_wa0_bpm109.456_id23850_000000_WAXS.tif\n"
     ]
    },
    {
     "name": "stderr",
     "output_type": "stream",
     "text": [
      "WARNING:fabio.TiffIO:Data at tag id '65000' is smaller than expected\n",
      "WARNING:fabio.TiffIO:Data at tag id '65000' is smaller than expected\n",
      "WARNING:fabio.TiffIO:Data at tag id '65000' is smaller than expected\n",
      "WARNING:fabio.TiffIO:Data at tag id '65000' is smaller than expected\n",
      "WARNING:fabio.TiffIO:Data at tag id '65000' is smaller than expected\n",
      "WARNING:fabio.TiffIO:Data at tag id '65000' is smaller than expected\n"
     ]
    },
    {
     "name": "stdout",
     "output_type": "stream",
     "text": [
      "LR_LiTFSI_PEDOTPSS_RbBr_pos1_2515.00eV_ai0.80_wa0_bpm109.949_id24205_000000_WAXS.tif\n"
     ]
    },
    {
     "name": "stderr",
     "output_type": "stream",
     "text": [
      "WARNING:fabio.TiffIO:Data at tag id '65000' is smaller than expected\n",
      "WARNING:fabio.TiffIO:Data at tag id '65000' is smaller than expected\n",
      "WARNING:fabio.TiffIO:Data at tag id '65000' is smaller than expected\n",
      "WARNING:fabio.TiffIO:Data at tag id '65000' is smaller than expected\n",
      "WARNING:fabio.TiffIO:Data at tag id '65000' is smaller than expected\n",
      "WARNING:fabio.TiffIO:Data at tag id '65000' is smaller than expected\n"
     ]
    },
    {
     "name": "stdout",
     "output_type": "stream",
     "text": [
      "LR_AcidPEDOTPSS_as_pos1_2450.00eV_ai0.80_wa0_bpm112.184_id21693_000000_WAXS.tif\n"
     ]
    },
    {
     "name": "stderr",
     "output_type": "stream",
     "text": [
      "WARNING:fabio.TiffIO:Data at tag id '65000' is smaller than expected\n",
      "WARNING:fabio.TiffIO:Data at tag id '65000' is smaller than expected\n",
      "WARNING:fabio.TiffIO:Data at tag id '65000' is smaller than expected\n",
      "WARNING:fabio.TiffIO:Data at tag id '65000' is smaller than expected\n",
      "WARNING:fabio.TiffIO:Data at tag id '65000' is smaller than expected\n",
      "WARNING:fabio.TiffIO:Data at tag id '65000' is smaller than expected\n"
     ]
    },
    {
     "name": "stdout",
     "output_type": "stream",
     "text": [
      "LR_LiTFSI_PEDOTPSS_as_pos2_2515.00eV_ai0.80_wa0_bpm13.437_id23528_000000_WAXS.tif\n"
     ]
    },
    {
     "name": "stderr",
     "output_type": "stream",
     "text": [
      "WARNING:fabio.TiffIO:Data at tag id '65000' is smaller than expected\n",
      "WARNING:fabio.TiffIO:Data at tag id '65000' is smaller than expected\n",
      "WARNING:fabio.TiffIO:Data at tag id '65000' is smaller than expected\n",
      "WARNING:fabio.TiffIO:Data at tag id '65000' is smaller than expected\n",
      "WARNING:fabio.TiffIO:Data at tag id '65000' is smaller than expected\n",
      "WARNING:fabio.TiffIO:Data at tag id '65000' is smaller than expected\n"
     ]
    },
    {
     "name": "stdout",
     "output_type": "stream",
     "text": [
      "LR_AcidPEDOTPSS_dedope_n0p6_pos2_2500.00eV_ai0.80_wa0_bpm13.240_id22061_000000_WAXS.tif\n"
     ]
    },
    {
     "name": "stderr",
     "output_type": "stream",
     "text": [
      "WARNING:fabio.TiffIO:Data at tag id '65000' is smaller than expected\n",
      "WARNING:fabio.TiffIO:Data at tag id '65000' is smaller than expected\n",
      "WARNING:fabio.TiffIO:Data at tag id '65000' is smaller than expected\n",
      "WARNING:fabio.TiffIO:Data at tag id '65000' is smaller than expected\n",
      "WARNING:fabio.TiffIO:Data at tag id '65000' is smaller than expected\n",
      "WARNING:fabio.TiffIO:Data at tag id '65000' is smaller than expected\n"
     ]
    },
    {
     "name": "stdout",
     "output_type": "stream",
     "text": [
      "LR_StandardPEDOTPSS_as_pos1_2478.50eV_ai0.80_wa0_bpm109.726_id22723_000000_WAXS.tif\n"
     ]
    },
    {
     "name": "stderr",
     "output_type": "stream",
     "text": [
      "WARNING:fabio.TiffIO:Data at tag id '65000' is smaller than expected\n",
      "WARNING:fabio.TiffIO:Data at tag id '65000' is smaller than expected\n",
      "WARNING:fabio.TiffIO:Data at tag id '65000' is smaller than expected\n",
      "WARNING:fabio.TiffIO:Data at tag id '65000' is smaller than expected\n",
      "WARNING:fabio.TiffIO:Data at tag id '65000' is smaller than expected\n",
      "WARNING:fabio.TiffIO:Data at tag id '65000' is smaller than expected\n"
     ]
    },
    {
     "name": "stdout",
     "output_type": "stream",
     "text": [
      "LR_AcidPEDOTPSS_RbCl_pos2_2455.00eV_ai0.80_wa0_bpm12.636_id22536_000000_WAXS.tif\n"
     ]
    },
    {
     "name": "stderr",
     "output_type": "stream",
     "text": [
      "WARNING:fabio.TiffIO:Data at tag id '65000' is smaller than expected\n",
      "WARNING:fabio.TiffIO:Data at tag id '65000' is smaller than expected\n",
      "WARNING:fabio.TiffIO:Data at tag id '65000' is smaller than expected\n",
      "WARNING:fabio.TiffIO:Data at tag id '65000' is smaller than expected\n",
      "WARNING:fabio.TiffIO:Data at tag id '65000' is smaller than expected\n",
      "WARNING:fabio.TiffIO:Data at tag id '65000' is smaller than expected\n"
     ]
    },
    {
     "name": "stdout",
     "output_type": "stream",
     "text": [
      "LR_LiTFSI_PEDOTPSS_redoped_0V_pos2_2480.50eV_ai0.80_wa0_bpm12.760_id23989_000000_WAXS.tif\n"
     ]
    },
    {
     "name": "stderr",
     "output_type": "stream",
     "text": [
      "WARNING:fabio.TiffIO:Data at tag id '65000' is smaller than expected\n",
      "WARNING:fabio.TiffIO:Data at tag id '65000' is smaller than expected\n",
      "WARNING:fabio.TiffIO:Data at tag id '65000' is smaller than expected\n",
      "WARNING:fabio.TiffIO:Data at tag id '65000' is smaller than expected\n",
      "WARNING:fabio.TiffIO:Data at tag id '65000' is smaller than expected\n",
      "WARNING:fabio.TiffIO:Data at tag id '65000' is smaller than expected\n"
     ]
    },
    {
     "name": "stdout",
     "output_type": "stream",
     "text": [
      "LR_LiTFSI_PEDOTPSS_exposed_pos1_2492.50eV_ai0.80_wa0_bpm109.704_id23636_000000_WAXS.tif\n"
     ]
    },
    {
     "name": "stderr",
     "output_type": "stream",
     "text": [
      "WARNING:fabio.TiffIO:Data at tag id '65000' is smaller than expected\n",
      "WARNING:fabio.TiffIO:Data at tag id '65000' is smaller than expected\n",
      "WARNING:fabio.TiffIO:Data at tag id '65000' is smaller than expected\n",
      "WARNING:fabio.TiffIO:Data at tag id '65000' is smaller than expected\n",
      "WARNING:fabio.TiffIO:Data at tag id '65000' is smaller than expected\n",
      "WARNING:fabio.TiffIO:Data at tag id '65000' is smaller than expected\n"
     ]
    },
    {
     "name": "stdout",
     "output_type": "stream",
     "text": [
      "LR_AcidPEDOTPSS_overdope_p0p6_pos1_2465.00eV_ai0.80_wa0_bpm109.992_id22148_000000_WAXS.tif\n"
     ]
    },
    {
     "name": "stderr",
     "output_type": "stream",
     "text": [
      "WARNING:fabio.TiffIO:Data at tag id '65000' is smaller than expected\n",
      "WARNING:fabio.TiffIO:Data at tag id '65000' is smaller than expected\n",
      "WARNING:fabio.TiffIO:Data at tag id '65000' is smaller than expected\n",
      "WARNING:fabio.TiffIO:Data at tag id '65000' is smaller than expected\n",
      "WARNING:fabio.TiffIO:Data at tag id '65000' is smaller than expected\n",
      "WARNING:fabio.TiffIO:Data at tag id '65000' is smaller than expected\n"
     ]
    },
    {
     "name": "stdout",
     "output_type": "stream",
     "text": [
      "LR_LiTFSI_PEDOTPSS_overdoped_p0p6V_pos1_2490.00eV_ai0.80_wa0_bpm109.561_id24087_000000_WAXS.tif\n"
     ]
    },
    {
     "name": "stderr",
     "output_type": "stream",
     "text": [
      "WARNING:fabio.TiffIO:Data at tag id '65000' is smaller than expected\n",
      "WARNING:fabio.TiffIO:Data at tag id '65000' is smaller than expected\n",
      "WARNING:fabio.TiffIO:Data at tag id '65000' is smaller than expected\n",
      "WARNING:fabio.TiffIO:Data at tag id '65000' is smaller than expected\n",
      "WARNING:fabio.TiffIO:Data at tag id '65000' is smaller than expected\n",
      "WARNING:fabio.TiffIO:Data at tag id '65000' is smaller than expected\n"
     ]
    },
    {
     "name": "stdout",
     "output_type": "stream",
     "text": [
      "LR_LiTFSI_PEDOTPSS_RbBr_pos2_2515.00eV_ai0.80_wa0_bpm13.438_id24206_000000_WAXS.tif\n"
     ]
    },
    {
     "name": "stderr",
     "output_type": "stream",
     "text": [
      "WARNING:fabio.TiffIO:Data at tag id '65000' is smaller than expected\n",
      "WARNING:fabio.TiffIO:Data at tag id '65000' is smaller than expected\n",
      "WARNING:fabio.TiffIO:Data at tag id '65000' is smaller than expected\n",
      "WARNING:fabio.TiffIO:Data at tag id '65000' is smaller than expected\n",
      "WARNING:fabio.TiffIO:Data at tag id '65000' is smaller than expected\n",
      "WARNING:fabio.TiffIO:Data at tag id '65000' is smaller than expected\n"
     ]
    },
    {
     "name": "stdout",
     "output_type": "stream",
     "text": [
      "LR_LiTFSI_PEDOTPSS_as_pos2_2455.00eV_ai0.80_wa0_bpm12.628_id23553_000000_WAXS.tif\n"
     ]
    },
    {
     "name": "stderr",
     "output_type": "stream",
     "text": [
      "WARNING:fabio.TiffIO:Data at tag id '65000' is smaller than expected\n",
      "WARNING:fabio.TiffIO:Data at tag id '65000' is smaller than expected\n",
      "WARNING:fabio.TiffIO:Data at tag id '65000' is smaller than expected\n",
      "WARNING:fabio.TiffIO:Data at tag id '65000' is smaller than expected\n",
      "WARNING:fabio.TiffIO:Data at tag id '65000' is smaller than expected\n",
      "WARNING:fabio.TiffIO:Data at tag id '65000' is smaller than expected\n"
     ]
    },
    {
     "name": "stdout",
     "output_type": "stream",
     "text": [
      "LR_LiTFSI_PEDOTPSS_overdoped_p0p6V_pos2_2477.50eV_ai0.80_wa0_bpm12.752_id24108_000000_WAXS.tif\n"
     ]
    },
    {
     "name": "stderr",
     "output_type": "stream",
     "text": [
      "WARNING:fabio.TiffIO:Data at tag id '65000' is smaller than expected\n",
      "WARNING:fabio.TiffIO:Data at tag id '65000' is smaller than expected\n",
      "WARNING:fabio.TiffIO:Data at tag id '65000' is smaller than expected\n",
      "WARNING:fabio.TiffIO:Data at tag id '65000' is smaller than expected\n",
      "WARNING:fabio.TiffIO:Data at tag id '65000' is smaller than expected\n",
      "WARNING:fabio.TiffIO:Data at tag id '65000' is smaller than expected\n"
     ]
    },
    {
     "name": "stdout",
     "output_type": "stream",
     "text": [
      "LR_AcidPEDOTPSS_NaBr_pos1_2500.00eV_ai0.80_wa0_bpm109.993_id22395_000000_WAXS.tif\n"
     ]
    },
    {
     "name": "stderr",
     "output_type": "stream",
     "text": [
      "WARNING:fabio.TiffIO:Data at tag id '65000' is smaller than expected\n",
      "WARNING:fabio.TiffIO:Data at tag id '65000' is smaller than expected\n",
      "WARNING:fabio.TiffIO:Data at tag id '65000' is smaller than expected\n",
      "WARNING:fabio.TiffIO:Data at tag id '65000' is smaller than expected\n",
      "WARNING:fabio.TiffIO:Data at tag id '65000' is smaller than expected\n",
      "WARNING:fabio.TiffIO:Data at tag id '65000' is smaller than expected\n"
     ]
    },
    {
     "name": "stdout",
     "output_type": "stream",
     "text": [
      "LR_AcidPEDOTPSS_RbBr_pos1_2490.00eV_ai0.80_wa0_bpm110.099_id22618_000000_WAXS.tif\n"
     ]
    },
    {
     "name": "stderr",
     "output_type": "stream",
     "text": [
      "WARNING:fabio.TiffIO:Data at tag id '65000' is smaller than expected\n",
      "WARNING:fabio.TiffIO:Data at tag id '65000' is smaller than expected\n",
      "WARNING:fabio.TiffIO:Data at tag id '65000' is smaller than expected\n",
      "WARNING:fabio.TiffIO:Data at tag id '65000' is smaller than expected\n",
      "WARNING:fabio.TiffIO:Data at tag id '65000' is smaller than expected\n",
      "WARNING:fabio.TiffIO:Data at tag id '65000' is smaller than expected\n"
     ]
    },
    {
     "name": "stdout",
     "output_type": "stream",
     "text": [
      "LR_AcidPEDOTPSS_exposed_pos1_2460.00eV_ai0.80_wa0_bpm110.430_id21808_000000_WAXS.tif\n"
     ]
    },
    {
     "name": "stderr",
     "output_type": "stream",
     "text": [
      "WARNING:fabio.TiffIO:Data at tag id '65000' is smaller than expected\n",
      "WARNING:fabio.TiffIO:Data at tag id '65000' is smaller than expected\n",
      "WARNING:fabio.TiffIO:Data at tag id '65000' is smaller than expected\n",
      "WARNING:fabio.TiffIO:Data at tag id '65000' is smaller than expected\n",
      "WARNING:fabio.TiffIO:Data at tag id '65000' is smaller than expected\n",
      "WARNING:fabio.TiffIO:Data at tag id '65000' is smaller than expected\n"
     ]
    },
    {
     "name": "stdout",
     "output_type": "stream",
     "text": [
      "LR_LiTFSI_PEDOTPSS_overdoped_p0p6V_pos1_2475.50eV_ai0.80_wa0_bpm109.307_id24073_000000_WAXS.tif\n"
     ]
    },
    {
     "name": "stderr",
     "output_type": "stream",
     "text": [
      "WARNING:fabio.TiffIO:Data at tag id '65000' is smaller than expected\n",
      "WARNING:fabio.TiffIO:Data at tag id '65000' is smaller than expected\n",
      "WARNING:fabio.TiffIO:Data at tag id '65000' is smaller than expected\n",
      "WARNING:fabio.TiffIO:Data at tag id '65000' is smaller than expected\n",
      "WARNING:fabio.TiffIO:Data at tag id '65000' is smaller than expected\n",
      "WARNING:fabio.TiffIO:Data at tag id '65000' is smaller than expected\n"
     ]
    },
    {
     "name": "stdout",
     "output_type": "stream",
     "text": [
      "LR_RivnayFrit_P3MEEET_drop_pos2_2479.50eV_ai0.80_wa0_bpm12.713_id23426_000000_WAXS.tif\n"
     ]
    },
    {
     "name": "stderr",
     "output_type": "stream",
     "text": [
      "WARNING:fabio.TiffIO:Data at tag id '65000' is smaller than expected\n",
      "WARNING:fabio.TiffIO:Data at tag id '65000' is smaller than expected\n",
      "WARNING:fabio.TiffIO:Data at tag id '65000' is smaller than expected\n",
      "WARNING:fabio.TiffIO:Data at tag id '65000' is smaller than expected\n",
      "WARNING:fabio.TiffIO:Data at tag id '65000' is smaller than expected\n",
      "WARNING:fabio.TiffIO:Data at tag id '65000' is smaller than expected\n"
     ]
    },
    {
     "name": "stdout",
     "output_type": "stream",
     "text": [
      "LR_AcidPEDOTPSS_NaCl_pos1_2479.50eV_ai0.80_wa0_bpm109.820_id22273_000000_WAXS.tif\n"
     ]
    },
    {
     "name": "stderr",
     "output_type": "stream",
     "text": [
      "WARNING:fabio.TiffIO:Data at tag id '65000' is smaller than expected\n",
      "WARNING:fabio.TiffIO:Data at tag id '65000' is smaller than expected\n",
      "WARNING:fabio.TiffIO:Data at tag id '65000' is smaller than expected\n",
      "WARNING:fabio.TiffIO:Data at tag id '65000' is smaller than expected\n",
      "WARNING:fabio.TiffIO:Data at tag id '65000' is smaller than expected\n",
      "WARNING:fabio.TiffIO:Data at tag id '65000' is smaller than expected\n"
     ]
    },
    {
     "name": "stdout",
     "output_type": "stream",
     "text": [
      "LR_AcidPEDOTPSS_exposed_pos1_2485.00eV_ai0.80_wa0_bpm110.318_id21825_000000_WAXS.tif\n"
     ]
    },
    {
     "name": "stderr",
     "output_type": "stream",
     "text": [
      "WARNING:fabio.TiffIO:Data at tag id '65000' is smaller than expected\n",
      "WARNING:fabio.TiffIO:Data at tag id '65000' is smaller than expected\n",
      "WARNING:fabio.TiffIO:Data at tag id '65000' is smaller than expected\n",
      "WARNING:fabio.TiffIO:Data at tag id '65000' is smaller than expected\n",
      "WARNING:fabio.TiffIO:Data at tag id '65000' is smaller than expected\n",
      "WARNING:fabio.TiffIO:Data at tag id '65000' is smaller than expected\n"
     ]
    },
    {
     "name": "stdout",
     "output_type": "stream",
     "text": [
      "LR_StandardPEDOTPSS_as_pos1_2475.50eV_ai0.80_wa0_bpm109.930_id22717_000000_WAXS.tif\n"
     ]
    },
    {
     "name": "stderr",
     "output_type": "stream",
     "text": [
      "WARNING:fabio.TiffIO:Data at tag id '65000' is smaller than expected\n",
      "WARNING:fabio.TiffIO:Data at tag id '65000' is smaller than expected\n",
      "WARNING:fabio.TiffIO:Data at tag id '65000' is smaller than expected\n",
      "WARNING:fabio.TiffIO:Data at tag id '65000' is smaller than expected\n",
      "WARNING:fabio.TiffIO:Data at tag id '65000' is smaller than expected\n",
      "WARNING:fabio.TiffIO:Data at tag id '65000' is smaller than expected\n"
     ]
    },
    {
     "name": "stdout",
     "output_type": "stream",
     "text": [
      "LR_LiTFSI_PEDOTPSS_overdoped_p0p6V_pos2_2465.00eV_ai0.80_wa0_bpm12.679_id24116_000000_WAXS.tif\n"
     ]
    },
    {
     "name": "stderr",
     "output_type": "stream",
     "text": [
      "WARNING:fabio.TiffIO:Data at tag id '65000' is smaller than expected\n",
      "WARNING:fabio.TiffIO:Data at tag id '65000' is smaller than expected\n",
      "WARNING:fabio.TiffIO:Data at tag id '65000' is smaller than expected\n",
      "WARNING:fabio.TiffIO:Data at tag id '65000' is smaller than expected\n",
      "WARNING:fabio.TiffIO:Data at tag id '65000' is smaller than expected\n",
      "WARNING:fabio.TiffIO:Data at tag id '65000' is smaller than expected\n"
     ]
    },
    {
     "name": "stdout",
     "output_type": "stream",
     "text": [
      "LR_AcidPEDOTPSS_NaCl_pos2_2465.00eV_ai0.80_wa0_bpm12.648_id22308_000000_WAXS.tif\n"
     ]
    },
    {
     "name": "stderr",
     "output_type": "stream",
     "text": [
      "WARNING:fabio.TiffIO:Data at tag id '65000' is smaller than expected\n",
      "WARNING:fabio.TiffIO:Data at tag id '65000' is smaller than expected\n",
      "WARNING:fabio.TiffIO:Data at tag id '65000' is smaller than expected\n",
      "WARNING:fabio.TiffIO:Data at tag id '65000' is smaller than expected\n",
      "WARNING:fabio.TiffIO:Data at tag id '65000' is smaller than expected\n",
      "WARNING:fabio.TiffIO:Data at tag id '65000' is smaller than expected\n"
     ]
    },
    {
     "name": "stdout",
     "output_type": "stream",
     "text": [
      "LR_AcidPEDOTPSS_NaCl_pos1_2465.00eV_ai0.80_wa0_bpm110.167_id22261_000000_WAXS.tif\n"
     ]
    },
    {
     "name": "stderr",
     "output_type": "stream",
     "text": [
      "WARNING:fabio.TiffIO:Data at tag id '65000' is smaller than expected\n",
      "WARNING:fabio.TiffIO:Data at tag id '65000' is smaller than expected\n",
      "WARNING:fabio.TiffIO:Data at tag id '65000' is smaller than expected\n",
      "WARNING:fabio.TiffIO:Data at tag id '65000' is smaller than expected\n",
      "WARNING:fabio.TiffIO:Data at tag id '65000' is smaller than expected\n",
      "WARNING:fabio.TiffIO:Data at tag id '65000' is smaller than expected\n"
     ]
    },
    {
     "name": "stdout",
     "output_type": "stream",
     "text": [
      "LR_StandardPEDOTPSS_RbBr_pos1_2500.00eV_ai0.80_wa0_bpm109.577_id22847_000000_WAXS.tif\n"
     ]
    },
    {
     "name": "stderr",
     "output_type": "stream",
     "text": [
      "WARNING:fabio.TiffIO:Data at tag id '65000' is smaller than expected\n",
      "WARNING:fabio.TiffIO:Data at tag id '65000' is smaller than expected\n",
      "WARNING:fabio.TiffIO:Data at tag id '65000' is smaller than expected\n",
      "WARNING:fabio.TiffIO:Data at tag id '65000' is smaller than expected\n",
      "WARNING:fabio.TiffIO:Data at tag id '65000' is smaller than expected\n",
      "WARNING:fabio.TiffIO:Data at tag id '65000' is smaller than expected\n"
     ]
    },
    {
     "name": "stdout",
     "output_type": "stream",
     "text": [
      "LR_StandardPEDOTPSS_RbBr_pos2_2455.00eV_ai0.80_wa0_bpm12.650_id22875_000000_WAXS.tif\n"
     ]
    },
    {
     "name": "stderr",
     "output_type": "stream",
     "text": [
      "WARNING:fabio.TiffIO:Data at tag id '65000' is smaller than expected\n",
      "WARNING:fabio.TiffIO:Data at tag id '65000' is smaller than expected\n",
      "WARNING:fabio.TiffIO:Data at tag id '65000' is smaller than expected\n",
      "WARNING:fabio.TiffIO:Data at tag id '65000' is smaller than expected\n",
      "WARNING:fabio.TiffIO:Data at tag id '65000' is smaller than expected\n",
      "WARNING:fabio.TiffIO:Data at tag id '65000' is smaller than expected\n"
     ]
    },
    {
     "name": "stdout",
     "output_type": "stream",
     "text": [
      "LR_LiTFSI_PEDOTPSS_0V_pos2_2477.50eV_ai0.80_wa0_bpm12.687_id23769_000000_WAXS.tif\n"
     ]
    },
    {
     "name": "stderr",
     "output_type": "stream",
     "text": [
      "WARNING:fabio.TiffIO:Data at tag id '65000' is smaller than expected\n",
      "WARNING:fabio.TiffIO:Data at tag id '65000' is smaller than expected\n",
      "WARNING:fabio.TiffIO:Data at tag id '65000' is smaller than expected\n",
      "WARNING:fabio.TiffIO:Data at tag id '65000' is smaller than expected\n",
      "WARNING:fabio.TiffIO:Data at tag id '65000' is smaller than expected\n",
      "WARNING:fabio.TiffIO:Data at tag id '65000' is smaller than expected\n"
     ]
    },
    {
     "name": "stdout",
     "output_type": "stream",
     "text": [
      "LR_LiTFSI_PEDOTPSS_exposed_pos1_2455.00eV_ai0.80_wa0_bpm110.160_id23615_000000_WAXS.tif\n"
     ]
    },
    {
     "name": "stderr",
     "output_type": "stream",
     "text": [
      "WARNING:fabio.TiffIO:Data at tag id '65000' is smaller than expected\n",
      "WARNING:fabio.TiffIO:Data at tag id '65000' is smaller than expected\n",
      "WARNING:fabio.TiffIO:Data at tag id '65000' is smaller than expected\n",
      "WARNING:fabio.TiffIO:Data at tag id '65000' is smaller than expected\n",
      "WARNING:fabio.TiffIO:Data at tag id '65000' is smaller than expected\n",
      "WARNING:fabio.TiffIO:Data at tag id '65000' is smaller than expected\n"
     ]
    },
    {
     "name": "stdout",
     "output_type": "stream",
     "text": [
      "LR_P3MEEMT23k115C_un_pos2_2492.50eV_ai0.80_wa0_bpm12.994_id23306_000000_WAXS.tif\n"
     ]
    },
    {
     "name": "stderr",
     "output_type": "stream",
     "text": [
      "WARNING:fabio.TiffIO:Data at tag id '65000' is smaller than expected\n",
      "WARNING:fabio.TiffIO:Data at tag id '65000' is smaller than expected\n",
      "WARNING:fabio.TiffIO:Data at tag id '65000' is smaller than expected\n",
      "WARNING:fabio.TiffIO:Data at tag id '65000' is smaller than expected\n",
      "WARNING:fabio.TiffIO:Data at tag id '65000' is smaller than expected\n",
      "WARNING:fabio.TiffIO:Data at tag id '65000' is smaller than expected\n"
     ]
    },
    {
     "name": "stdout",
     "output_type": "stream",
     "text": [
      "LR_P3MEEMT23k115C_0p7_KTFSI_pos2_2475.00eV_ai0.80_wa0_bpm12.672_id23096_000000_WAXS.tif\n"
     ]
    },
    {
     "name": "stderr",
     "output_type": "stream",
     "text": [
      "WARNING:fabio.TiffIO:Data at tag id '65000' is smaller than expected\n",
      "WARNING:fabio.TiffIO:Data at tag id '65000' is smaller than expected\n",
      "WARNING:fabio.TiffIO:Data at tag id '65000' is smaller than expected\n",
      "WARNING:fabio.TiffIO:Data at tag id '65000' is smaller than expected\n",
      "WARNING:fabio.TiffIO:Data at tag id '65000' is smaller than expected\n",
      "WARNING:fabio.TiffIO:Data at tag id '65000' is smaller than expected\n"
     ]
    },
    {
     "name": "stdout",
     "output_type": "stream",
     "text": [
      "LR_LiTFSI_PEDOTPSS_0V_pos2_2480.00eV_ai0.80_wa0_bpm12.770_id23764_000000_WAXS.tif\n"
     ]
    },
    {
     "name": "stderr",
     "output_type": "stream",
     "text": [
      "WARNING:fabio.TiffIO:Data at tag id '65000' is smaller than expected\n",
      "WARNING:fabio.TiffIO:Data at tag id '65000' is smaller than expected\n",
      "WARNING:fabio.TiffIO:Data at tag id '65000' is smaller than expected\n",
      "WARNING:fabio.TiffIO:Data at tag id '65000' is smaller than expected\n",
      "WARNING:fabio.TiffIO:Data at tag id '65000' is smaller than expected\n",
      "WARNING:fabio.TiffIO:Data at tag id '65000' is smaller than expected\n"
     ]
    },
    {
     "name": "stdout",
     "output_type": "stream",
     "text": [
      "LR_AcidPEDOTPSS_exposed_pos1_2476.00eV_ai0.80_wa0_bpm110.227_id21814_000000_WAXS.tif\n"
     ]
    },
    {
     "name": "stderr",
     "output_type": "stream",
     "text": [
      "WARNING:fabio.TiffIO:Data at tag id '65000' is smaller than expected\n",
      "WARNING:fabio.TiffIO:Data at tag id '65000' is smaller than expected\n",
      "WARNING:fabio.TiffIO:Data at tag id '65000' is smaller than expected\n",
      "WARNING:fabio.TiffIO:Data at tag id '65000' is smaller than expected\n",
      "WARNING:fabio.TiffIO:Data at tag id '65000' is smaller than expected\n",
      "WARNING:fabio.TiffIO:Data at tag id '65000' is smaller than expected\n"
     ]
    },
    {
     "name": "stdout",
     "output_type": "stream",
     "text": [
      "LR_AcidPEDOTPSS_RbBr_pos2_2475.50eV_ai0.80_wa0_bpm12.687_id22643_000000_WAXS.tif\n"
     ]
    },
    {
     "name": "stderr",
     "output_type": "stream",
     "text": [
      "WARNING:fabio.TiffIO:Data at tag id '65000' is smaller than expected\n",
      "WARNING:fabio.TiffIO:Data at tag id '65000' is smaller than expected\n",
      "WARNING:fabio.TiffIO:Data at tag id '65000' is smaller than expected\n",
      "WARNING:fabio.TiffIO:Data at tag id '65000' is smaller than expected\n",
      "WARNING:fabio.TiffIO:Data at tag id '65000' is smaller than expected\n",
      "WARNING:fabio.TiffIO:Data at tag id '65000' is smaller than expected\n"
     ]
    },
    {
     "name": "stdout",
     "output_type": "stream",
     "text": [
      "LR_P3MEEMT23k115C_0p4_KTFSI_pos2_2485.00eV_ai0.80_wa0_bpm12.841_id23196_000000_WAXS.tif\n"
     ]
    },
    {
     "name": "stderr",
     "output_type": "stream",
     "text": [
      "WARNING:fabio.TiffIO:Data at tag id '65000' is smaller than expected\n",
      "WARNING:fabio.TiffIO:Data at tag id '65000' is smaller than expected\n",
      "WARNING:fabio.TiffIO:Data at tag id '65000' is smaller than expected\n",
      "WARNING:fabio.TiffIO:Data at tag id '65000' is smaller than expected\n",
      "WARNING:fabio.TiffIO:Data at tag id '65000' is smaller than expected\n",
      "WARNING:fabio.TiffIO:Data at tag id '65000' is smaller than expected\n"
     ]
    },
    {
     "name": "stdout",
     "output_type": "stream",
     "text": [
      "LR_P3MEEMT23k115C_0p4_KTFSI_pos1_2492.50eV_ai0.80_wa0_bpm109.728_id23184_000000_WAXS.tif\n"
     ]
    },
    {
     "name": "stderr",
     "output_type": "stream",
     "text": [
      "WARNING:fabio.TiffIO:Data at tag id '65000' is smaller than expected\n",
      "WARNING:fabio.TiffIO:Data at tag id '65000' is smaller than expected\n",
      "WARNING:fabio.TiffIO:Data at tag id '65000' is smaller than expected\n",
      "WARNING:fabio.TiffIO:Data at tag id '65000' is smaller than expected\n",
      "WARNING:fabio.TiffIO:Data at tag id '65000' is smaller than expected\n",
      "WARNING:fabio.TiffIO:Data at tag id '65000' is smaller than expected\n"
     ]
    },
    {
     "name": "stdout",
     "output_type": "stream",
     "text": [
      "LR_LiTFSI_PEDOTPSS_exposed_pos2_2477.00eV_ai0.80_wa0_bpm12.728_id23657_000000_WAXS.tif\n"
     ]
    },
    {
     "name": "stderr",
     "output_type": "stream",
     "text": [
      "WARNING:fabio.TiffIO:Data at tag id '65000' is smaller than expected\n",
      "WARNING:fabio.TiffIO:Data at tag id '65000' is smaller than expected\n",
      "WARNING:fabio.TiffIO:Data at tag id '65000' is smaller than expected\n",
      "WARNING:fabio.TiffIO:Data at tag id '65000' is smaller than expected\n",
      "WARNING:fabio.TiffIO:Data at tag id '65000' is smaller than expected\n",
      "WARNING:fabio.TiffIO:Data at tag id '65000' is smaller than expected\n"
     ]
    },
    {
     "name": "stdout",
     "output_type": "stream",
     "text": [
      "LR_LiTFSI_PEDOTPSS_0V_pos2_2478.50eV_ai0.80_wa0_bpm12.724_id23767_000000_WAXS.tif\n"
     ]
    },
    {
     "name": "stderr",
     "output_type": "stream",
     "text": [
      "WARNING:fabio.TiffIO:Data at tag id '65000' is smaller than expected\n",
      "WARNING:fabio.TiffIO:Data at tag id '65000' is smaller than expected\n",
      "WARNING:fabio.TiffIO:Data at tag id '65000' is smaller than expected\n",
      "WARNING:fabio.TiffIO:Data at tag id '65000' is smaller than expected\n",
      "WARNING:fabio.TiffIO:Data at tag id '65000' is smaller than expected\n",
      "WARNING:fabio.TiffIO:Data at tag id '65000' is smaller than expected\n"
     ]
    },
    {
     "name": "stdout",
     "output_type": "stream",
     "text": [
      "LR_AcidPEDOTPSS_dedope_n0p6_pos2_2479.50eV_ai0.80_wa0_bpm12.787_id22070_000000_WAXS.tif\n"
     ]
    },
    {
     "name": "stderr",
     "output_type": "stream",
     "text": [
      "WARNING:fabio.TiffIO:Data at tag id '65000' is smaller than expected\n",
      "WARNING:fabio.TiffIO:Data at tag id '65000' is smaller than expected\n",
      "WARNING:fabio.TiffIO:Data at tag id '65000' is smaller than expected\n",
      "WARNING:fabio.TiffIO:Data at tag id '65000' is smaller than expected\n",
      "WARNING:fabio.TiffIO:Data at tag id '65000' is smaller than expected\n",
      "WARNING:fabio.TiffIO:Data at tag id '65000' is smaller than expected\n"
     ]
    },
    {
     "name": "stdout",
     "output_type": "stream",
     "text": [
      "LR_P3MEEMT23k115C_0p7_KTFSI_pos1_2492.50eV_ai0.80_wa0_bpm109.423_id23071_000000_WAXS.tif\n"
     ]
    },
    {
     "name": "stderr",
     "output_type": "stream",
     "text": [
      "WARNING:fabio.TiffIO:Data at tag id '65000' is smaller than expected\n",
      "WARNING:fabio.TiffIO:Data at tag id '65000' is smaller than expected\n",
      "WARNING:fabio.TiffIO:Data at tag id '65000' is smaller than expected\n",
      "WARNING:fabio.TiffIO:Data at tag id '65000' is smaller than expected\n",
      "WARNING:fabio.TiffIO:Data at tag id '65000' is smaller than expected\n",
      "WARNING:fabio.TiffIO:Data at tag id '65000' is smaller than expected\n"
     ]
    },
    {
     "name": "stdout",
     "output_type": "stream",
     "text": [
      "LR_AcidPEDOTPSS_RbCl_pos1_2479.50eV_ai0.80_wa0_bpm109.778_id22499_000000_WAXS.tif\n"
     ]
    },
    {
     "name": "stderr",
     "output_type": "stream",
     "text": [
      "WARNING:fabio.TiffIO:Data at tag id '65000' is smaller than expected\n",
      "WARNING:fabio.TiffIO:Data at tag id '65000' is smaller than expected\n",
      "WARNING:fabio.TiffIO:Data at tag id '65000' is smaller than expected\n",
      "WARNING:fabio.TiffIO:Data at tag id '65000' is smaller than expected\n",
      "WARNING:fabio.TiffIO:Data at tag id '65000' is smaller than expected\n",
      "WARNING:fabio.TiffIO:Data at tag id '65000' is smaller than expected\n"
     ]
    },
    {
     "name": "stdout",
     "output_type": "stream",
     "text": [
      "LR_LiTFSI_PEDOTPSS_dedoped_n0p6_pos2_2455.00eV_ai0.80_wa0_bpm12.592_id23892_000000_WAXS.tif\n"
     ]
    },
    {
     "name": "stderr",
     "output_type": "stream",
     "text": [
      "WARNING:fabio.TiffIO:Data at tag id '65000' is smaller than expected\n",
      "WARNING:fabio.TiffIO:Data at tag id '65000' is smaller than expected\n",
      "WARNING:fabio.TiffIO:Data at tag id '65000' is smaller than expected\n",
      "WARNING:fabio.TiffIO:Data at tag id '65000' is smaller than expected\n",
      "WARNING:fabio.TiffIO:Data at tag id '65000' is smaller than expected\n",
      "WARNING:fabio.TiffIO:Data at tag id '65000' is smaller than expected\n"
     ]
    },
    {
     "name": "stdout",
     "output_type": "stream",
     "text": [
      "LR_LiTFSI_PEDOTPSS_RbBr_pos1_2480.00eV_ai0.80_wa0_bpm109.467_id24195_000000_WAXS.tif\n"
     ]
    },
    {
     "name": "stderr",
     "output_type": "stream",
     "text": [
      "WARNING:fabio.TiffIO:Data at tag id '65000' is smaller than expected\n",
      "WARNING:fabio.TiffIO:Data at tag id '65000' is smaller than expected\n",
      "WARNING:fabio.TiffIO:Data at tag id '65000' is smaller than expected\n",
      "WARNING:fabio.TiffIO:Data at tag id '65000' is smaller than expected\n",
      "WARNING:fabio.TiffIO:Data at tag id '65000' is smaller than expected\n",
      "WARNING:fabio.TiffIO:Data at tag id '65000' is smaller than expected\n"
     ]
    },
    {
     "name": "stdout",
     "output_type": "stream",
     "text": [
      "LR_LiTFSI_PEDOTPSS_0V_pos2_2487.50eV_ai0.80_wa0_bpm12.920_id23760_000000_WAXS.tif\n"
     ]
    },
    {
     "name": "stderr",
     "output_type": "stream",
     "text": [
      "WARNING:fabio.TiffIO:Data at tag id '65000' is smaller than expected\n",
      "WARNING:fabio.TiffIO:Data at tag id '65000' is smaller than expected\n",
      "WARNING:fabio.TiffIO:Data at tag id '65000' is smaller than expected\n",
      "WARNING:fabio.TiffIO:Data at tag id '65000' is smaller than expected\n",
      "WARNING:fabio.TiffIO:Data at tag id '65000' is smaller than expected\n",
      "WARNING:fabio.TiffIO:Data at tag id '65000' is smaller than expected\n"
     ]
    },
    {
     "name": "stdout",
     "output_type": "stream",
     "text": [
      "LR_P3MEEMT23k115C_0p4_KTFSI_pos2_2476.00eV_ai0.80_wa0_bpm12.718_id23207_000000_WAXS.tif\n"
     ]
    },
    {
     "name": "stderr",
     "output_type": "stream",
     "text": [
      "WARNING:fabio.TiffIO:Data at tag id '65000' is smaller than expected\n",
      "WARNING:fabio.TiffIO:Data at tag id '65000' is smaller than expected\n",
      "WARNING:fabio.TiffIO:Data at tag id '65000' is smaller than expected\n",
      "WARNING:fabio.TiffIO:Data at tag id '65000' is smaller than expected\n",
      "WARNING:fabio.TiffIO:Data at tag id '65000' is smaller than expected\n",
      "WARNING:fabio.TiffIO:Data at tag id '65000' is smaller than expected\n"
     ]
    },
    {
     "name": "stdout",
     "output_type": "stream",
     "text": [
      "LR_P3MEEMT23k115C_0p7_KTFSI_pos1_2510.00eV_ai0.80_wa0_bpm109.787_id23074_000000_WAXS.tif\n"
     ]
    },
    {
     "name": "stderr",
     "output_type": "stream",
     "text": [
      "WARNING:fabio.TiffIO:Data at tag id '65000' is smaller than expected\n",
      "WARNING:fabio.TiffIO:Data at tag id '65000' is smaller than expected\n",
      "WARNING:fabio.TiffIO:Data at tag id '65000' is smaller than expected\n",
      "WARNING:fabio.TiffIO:Data at tag id '65000' is smaller than expected\n",
      "WARNING:fabio.TiffIO:Data at tag id '65000' is smaller than expected\n",
      "WARNING:fabio.TiffIO:Data at tag id '65000' is smaller than expected\n"
     ]
    },
    {
     "name": "stdout",
     "output_type": "stream",
     "text": [
      "LR_LiTFSI_PEDOTPSS_dedoped_n0p6_pos1_2476.00eV_ai0.80_wa0_bpm109.560_id23848_000000_WAXS.tif\n"
     ]
    },
    {
     "name": "stderr",
     "output_type": "stream",
     "text": [
      "WARNING:fabio.TiffIO:Data at tag id '65000' is smaller than expected\n",
      "WARNING:fabio.TiffIO:Data at tag id '65000' is smaller than expected\n",
      "WARNING:fabio.TiffIO:Data at tag id '65000' is smaller than expected\n",
      "WARNING:fabio.TiffIO:Data at tag id '65000' is smaller than expected\n",
      "WARNING:fabio.TiffIO:Data at tag id '65000' is smaller than expected\n",
      "WARNING:fabio.TiffIO:Data at tag id '65000' is smaller than expected\n"
     ]
    },
    {
     "name": "stdout",
     "output_type": "stream",
     "text": [
      "LR_AcidPEDOTPSS_as_pos1_2485.00eV_ai0.80_wa0_bpm110.712_id21712_000000_WAXS.tif\n"
     ]
    },
    {
     "name": "stderr",
     "output_type": "stream",
     "text": [
      "WARNING:fabio.TiffIO:Data at tag id '65000' is smaller than expected\n",
      "WARNING:fabio.TiffIO:Data at tag id '65000' is smaller than expected\n",
      "WARNING:fabio.TiffIO:Data at tag id '65000' is smaller than expected\n",
      "WARNING:fabio.TiffIO:Data at tag id '65000' is smaller than expected\n",
      "WARNING:fabio.TiffIO:Data at tag id '65000' is smaller than expected\n",
      "WARNING:fabio.TiffIO:Data at tag id '65000' is smaller than expected\n"
     ]
    },
    {
     "name": "stdout",
     "output_type": "stream",
     "text": [
      "LR_P3MEEMT23k115C_0p7_KTFSI_pos1_2500.00eV_ai0.80_wa0_bpm109.425_id23073_000000_WAXS.tif\n"
     ]
    },
    {
     "name": "stderr",
     "output_type": "stream",
     "text": [
      "WARNING:fabio.TiffIO:Data at tag id '65000' is smaller than expected\n",
      "WARNING:fabio.TiffIO:Data at tag id '65000' is smaller than expected\n",
      "WARNING:fabio.TiffIO:Data at tag id '65000' is smaller than expected\n",
      "WARNING:fabio.TiffIO:Data at tag id '65000' is smaller than expected\n",
      "WARNING:fabio.TiffIO:Data at tag id '65000' is smaller than expected\n",
      "WARNING:fabio.TiffIO:Data at tag id '65000' is smaller than expected\n"
     ]
    },
    {
     "name": "stdout",
     "output_type": "stream",
     "text": [
      "LR_RivnayFrit_P3MEEET_drop_pos2_2478.00eV_ai0.80_wa0_bpm12.676_id23429_000000_WAXS.tif\n"
     ]
    },
    {
     "name": "stderr",
     "output_type": "stream",
     "text": [
      "WARNING:fabio.TiffIO:Data at tag id '65000' is smaller than expected\n",
      "WARNING:fabio.TiffIO:Data at tag id '65000' is smaller than expected\n",
      "WARNING:fabio.TiffIO:Data at tag id '65000' is smaller than expected\n",
      "WARNING:fabio.TiffIO:Data at tag id '65000' is smaller than expected\n",
      "WARNING:fabio.TiffIO:Data at tag id '65000' is smaller than expected\n",
      "WARNING:fabio.TiffIO:Data at tag id '65000' is smaller than expected\n"
     ]
    },
    {
     "name": "stdout",
     "output_type": "stream",
     "text": [
      "LR_LiTFSI_PEDOTPSS_RbBr_pos2_2480.50eV_ai0.80_wa0_bpm12.742_id24215_000000_WAXS.tif\n"
     ]
    },
    {
     "name": "stderr",
     "output_type": "stream",
     "text": [
      "WARNING:fabio.TiffIO:Data at tag id '65000' is smaller than expected\n",
      "WARNING:fabio.TiffIO:Data at tag id '65000' is smaller than expected\n",
      "WARNING:fabio.TiffIO:Data at tag id '65000' is smaller than expected\n",
      "WARNING:fabio.TiffIO:Data at tag id '65000' is smaller than expected\n",
      "WARNING:fabio.TiffIO:Data at tag id '65000' is smaller than expected\n",
      "WARNING:fabio.TiffIO:Data at tag id '65000' is smaller than expected\n"
     ]
    },
    {
     "name": "stdout",
     "output_type": "stream",
     "text": [
      "LR_StandardPEDOTPSS_RbBr_pos1_2450.00eV_ai0.80_wa0_bpm111.450_id22823_000000_WAXS.tif\n"
     ]
    },
    {
     "name": "stderr",
     "output_type": "stream",
     "text": [
      "WARNING:fabio.TiffIO:Data at tag id '65000' is smaller than expected\n",
      "WARNING:fabio.TiffIO:Data at tag id '65000' is smaller than expected\n",
      "WARNING:fabio.TiffIO:Data at tag id '65000' is smaller than expected\n",
      "WARNING:fabio.TiffIO:Data at tag id '65000' is smaller than expected\n",
      "WARNING:fabio.TiffIO:Data at tag id '65000' is smaller than expected\n",
      "WARNING:fabio.TiffIO:Data at tag id '65000' is smaller than expected\n"
     ]
    },
    {
     "name": "stdout",
     "output_type": "stream",
     "text": [
      "LR_AcidPEDOTPSS_NaBr_pos2_2495.00eV_ai0.80_wa0_bpm13.104_id22401_000000_WAXS.tif\n"
     ]
    },
    {
     "name": "stderr",
     "output_type": "stream",
     "text": [
      "WARNING:fabio.TiffIO:Data at tag id '65000' is smaller than expected\n",
      "WARNING:fabio.TiffIO:Data at tag id '65000' is smaller than expected\n",
      "WARNING:fabio.TiffIO:Data at tag id '65000' is smaller than expected\n",
      "WARNING:fabio.TiffIO:Data at tag id '65000' is smaller than expected\n",
      "WARNING:fabio.TiffIO:Data at tag id '65000' is smaller than expected\n",
      "WARNING:fabio.TiffIO:Data at tag id '65000' is smaller than expected\n"
     ]
    },
    {
     "name": "stdout",
     "output_type": "stream",
     "text": [
      "LR_P3MEEMT23k115C_0p7_KTFSI_pos1_2473.00eV_ai0.80_wa0_bpm109.258_id23054_000000_WAXS.tif\n"
     ]
    },
    {
     "name": "stderr",
     "output_type": "stream",
     "text": [
      "WARNING:fabio.TiffIO:Data at tag id '65000' is smaller than expected\n",
      "WARNING:fabio.TiffIO:Data at tag id '65000' is smaller than expected\n",
      "WARNING:fabio.TiffIO:Data at tag id '65000' is smaller than expected\n",
      "WARNING:fabio.TiffIO:Data at tag id '65000' is smaller than expected\n",
      "WARNING:fabio.TiffIO:Data at tag id '65000' is smaller than expected\n",
      "WARNING:fabio.TiffIO:Data at tag id '65000' is smaller than expected\n"
     ]
    },
    {
     "name": "stdout",
     "output_type": "stream",
     "text": [
      "LR_P3MEEMT23k115C_0p4_KTFSI_pos1_2500.00eV_ai0.80_wa0_bpm109.552_id23186_000000_WAXS.tif\n"
     ]
    },
    {
     "name": "stderr",
     "output_type": "stream",
     "text": [
      "WARNING:fabio.TiffIO:Data at tag id '65000' is smaller than expected\n",
      "WARNING:fabio.TiffIO:Data at tag id '65000' is smaller than expected\n",
      "WARNING:fabio.TiffIO:Data at tag id '65000' is smaller than expected\n",
      "WARNING:fabio.TiffIO:Data at tag id '65000' is smaller than expected\n",
      "WARNING:fabio.TiffIO:Data at tag id '65000' is smaller than expected\n",
      "WARNING:fabio.TiffIO:Data at tag id '65000' is smaller than expected\n"
     ]
    },
    {
     "name": "stdout",
     "output_type": "stream",
     "text": [
      "LR_P3MEEMT23k115C_0p4_KTFSI_pos2_2490.00eV_ai0.80_wa0_bpm12.945_id23194_000000_WAXS.tif\n"
     ]
    },
    {
     "name": "stderr",
     "output_type": "stream",
     "text": [
      "WARNING:fabio.TiffIO:Data at tag id '65000' is smaller than expected\n",
      "WARNING:fabio.TiffIO:Data at tag id '65000' is smaller than expected\n",
      "WARNING:fabio.TiffIO:Data at tag id '65000' is smaller than expected\n",
      "WARNING:fabio.TiffIO:Data at tag id '65000' is smaller than expected\n",
      "WARNING:fabio.TiffIO:Data at tag id '65000' is smaller than expected\n",
      "WARNING:fabio.TiffIO:Data at tag id '65000' is smaller than expected\n"
     ]
    },
    {
     "name": "stdout",
     "output_type": "stream",
     "text": [
      "LR_AcidPEDOTPSS_overdope_p0p6_pos1_2500.00eV_ai0.80_wa0_bpm110.137_id22169_000000_WAXS.tif\n"
     ]
    },
    {
     "name": "stderr",
     "output_type": "stream",
     "text": [
      "WARNING:fabio.TiffIO:Data at tag id '65000' is smaller than expected\n",
      "WARNING:fabio.TiffIO:Data at tag id '65000' is smaller than expected\n",
      "WARNING:fabio.TiffIO:Data at tag id '65000' is smaller than expected\n",
      "WARNING:fabio.TiffIO:Data at tag id '65000' is smaller than expected\n",
      "WARNING:fabio.TiffIO:Data at tag id '65000' is smaller than expected\n",
      "WARNING:fabio.TiffIO:Data at tag id '65000' is smaller than expected\n"
     ]
    },
    {
     "name": "stdout",
     "output_type": "stream",
     "text": [
      "LR_AcidPEDOTPSS_NaBr_pos1_2470.00eV_ai0.80_wa0_bpm110.333_id22375_000000_WAXS.tif\n"
     ]
    },
    {
     "name": "stderr",
     "output_type": "stream",
     "text": [
      "WARNING:fabio.TiffIO:Data at tag id '65000' is smaller than expected\n",
      "WARNING:fabio.TiffIO:Data at tag id '65000' is smaller than expected\n",
      "WARNING:fabio.TiffIO:Data at tag id '65000' is smaller than expected\n",
      "WARNING:fabio.TiffIO:Data at tag id '65000' is smaller than expected\n",
      "WARNING:fabio.TiffIO:Data at tag id '65000' is smaller than expected\n",
      "WARNING:fabio.TiffIO:Data at tag id '65000' is smaller than expected\n"
     ]
    },
    {
     "name": "stdout",
     "output_type": "stream",
     "text": [
      "LR_P3MEEMT23k115C_un_pos1_2479.00eV_ai0.80_wa0_bpm109.283_id23289_000000_WAXS.tif\n"
     ]
    },
    {
     "name": "stderr",
     "output_type": "stream",
     "text": [
      "WARNING:fabio.TiffIO:Data at tag id '65000' is smaller than expected\n",
      "WARNING:fabio.TiffIO:Data at tag id '65000' is smaller than expected\n",
      "WARNING:fabio.TiffIO:Data at tag id '65000' is smaller than expected\n",
      "WARNING:fabio.TiffIO:Data at tag id '65000' is smaller than expected\n",
      "WARNING:fabio.TiffIO:Data at tag id '65000' is smaller than expected\n",
      "WARNING:fabio.TiffIO:Data at tag id '65000' is smaller than expected\n"
     ]
    },
    {
     "name": "stdout",
     "output_type": "stream",
     "text": [
      "LR_P3MEEMT23k115C_un_pos2_2487.50eV_ai0.80_wa0_bpm12.847_id23308_000000_WAXS.tif\n"
     ]
    },
    {
     "name": "stderr",
     "output_type": "stream",
     "text": [
      "WARNING:fabio.TiffIO:Data at tag id '65000' is smaller than expected\n",
      "WARNING:fabio.TiffIO:Data at tag id '65000' is smaller than expected\n",
      "WARNING:fabio.TiffIO:Data at tag id '65000' is smaller than expected\n",
      "WARNING:fabio.TiffIO:Data at tag id '65000' is smaller than expected\n",
      "WARNING:fabio.TiffIO:Data at tag id '65000' is smaller than expected\n",
      "WARNING:fabio.TiffIO:Data at tag id '65000' is smaller than expected\n"
     ]
    },
    {
     "name": "stdout",
     "output_type": "stream",
     "text": [
      "LR_LiTFSI_PEDOTPSS_exposed_pos2_2450.00eV_ai0.80_wa0_bpm12.616_id23667_000000_WAXS.tif\n"
     ]
    },
    {
     "name": "stderr",
     "output_type": "stream",
     "text": [
      "WARNING:fabio.TiffIO:Data at tag id '65000' is smaller than expected\n",
      "WARNING:fabio.TiffIO:Data at tag id '65000' is smaller than expected\n",
      "WARNING:fabio.TiffIO:Data at tag id '65000' is smaller than expected\n",
      "WARNING:fabio.TiffIO:Data at tag id '65000' is smaller than expected\n",
      "WARNING:fabio.TiffIO:Data at tag id '65000' is smaller than expected\n",
      "WARNING:fabio.TiffIO:Data at tag id '65000' is smaller than expected\n"
     ]
    },
    {
     "name": "stdout",
     "output_type": "stream",
     "text": [
      "LR_AcidPEDOTPSS_as_pos1_2495.00eV_ai0.80_wa0_bpm110.647_id21716_000000_WAXS.tif\n"
     ]
    },
    {
     "name": "stderr",
     "output_type": "stream",
     "text": [
      "WARNING:fabio.TiffIO:Data at tag id '65000' is smaller than expected\n",
      "WARNING:fabio.TiffIO:Data at tag id '65000' is smaller than expected\n",
      "WARNING:fabio.TiffIO:Data at tag id '65000' is smaller than expected\n",
      "WARNING:fabio.TiffIO:Data at tag id '65000' is smaller than expected\n",
      "WARNING:fabio.TiffIO:Data at tag id '65000' is smaller than expected\n",
      "WARNING:fabio.TiffIO:Data at tag id '65000' is smaller than expected\n"
     ]
    },
    {
     "name": "stdout",
     "output_type": "stream",
     "text": [
      "LR_LiTFSI_PEDOTPSS_dedoped_n0p6_pos1_2478.00eV_ai0.80_wa0_bpm109.452_id23852_000000_WAXS.tif\n"
     ]
    },
    {
     "name": "stderr",
     "output_type": "stream",
     "text": [
      "WARNING:fabio.TiffIO:Data at tag id '65000' is smaller than expected\n",
      "WARNING:fabio.TiffIO:Data at tag id '65000' is smaller than expected\n",
      "WARNING:fabio.TiffIO:Data at tag id '65000' is smaller than expected\n",
      "WARNING:fabio.TiffIO:Data at tag id '65000' is smaller than expected\n",
      "WARNING:fabio.TiffIO:Data at tag id '65000' is smaller than expected\n",
      "WARNING:fabio.TiffIO:Data at tag id '65000' is smaller than expected\n"
     ]
    },
    {
     "name": "stdout",
     "output_type": "stream",
     "text": [
      "LR_AcidPEDOTPSS_as_pos1_2478.00eV_ai0.80_wa0_bpm110.346_id21705_000000_WAXS.tif\n"
     ]
    },
    {
     "name": "stderr",
     "output_type": "stream",
     "text": [
      "WARNING:fabio.TiffIO:Data at tag id '65000' is smaller than expected\n",
      "WARNING:fabio.TiffIO:Data at tag id '65000' is smaller than expected\n",
      "WARNING:fabio.TiffIO:Data at tag id '65000' is smaller than expected\n",
      "WARNING:fabio.TiffIO:Data at tag id '65000' is smaller than expected\n",
      "WARNING:fabio.TiffIO:Data at tag id '65000' is smaller than expected\n",
      "WARNING:fabio.TiffIO:Data at tag id '65000' is smaller than expected\n"
     ]
    },
    {
     "name": "stdout",
     "output_type": "stream",
     "text": [
      "LR_AcidPEDOTPSS_exposed_pos2_2477.50eV_ai0.80_wa0_bpm12.771_id21848_000000_WAXS.tif\n"
     ]
    },
    {
     "name": "stderr",
     "output_type": "stream",
     "text": [
      "WARNING:fabio.TiffIO:Data at tag id '65000' is smaller than expected\n",
      "WARNING:fabio.TiffIO:Data at tag id '65000' is smaller than expected\n",
      "WARNING:fabio.TiffIO:Data at tag id '65000' is smaller than expected\n",
      "WARNING:fabio.TiffIO:Data at tag id '65000' is smaller than expected\n",
      "WARNING:fabio.TiffIO:Data at tag id '65000' is smaller than expected\n",
      "WARNING:fabio.TiffIO:Data at tag id '65000' is smaller than expected\n"
     ]
    },
    {
     "name": "stdout",
     "output_type": "stream",
     "text": [
      "LR_LiTFSI_PEDOTPSS_exposed_pos1_2465.00eV_ai0.80_wa0_bpm109.873_id23617_000000_WAXS.tif\n"
     ]
    },
    {
     "name": "stderr",
     "output_type": "stream",
     "text": [
      "WARNING:fabio.TiffIO:Data at tag id '65000' is smaller than expected\n",
      "WARNING:fabio.TiffIO:Data at tag id '65000' is smaller than expected\n",
      "WARNING:fabio.TiffIO:Data at tag id '65000' is smaller than expected\n",
      "WARNING:fabio.TiffIO:Data at tag id '65000' is smaller than expected\n",
      "WARNING:fabio.TiffIO:Data at tag id '65000' is smaller than expected\n",
      "WARNING:fabio.TiffIO:Data at tag id '65000' is smaller than expected\n"
     ]
    },
    {
     "name": "stdout",
     "output_type": "stream",
     "text": [
      "LR_P3MEEMT23k115C_0p7_KTFSI_pos2_2478.50eV_ai0.80_wa0_bpm12.687_id23089_000000_WAXS.tif\n"
     ]
    },
    {
     "name": "stderr",
     "output_type": "stream",
     "text": [
      "WARNING:fabio.TiffIO:Data at tag id '65000' is smaller than expected\n",
      "WARNING:fabio.TiffIO:Data at tag id '65000' is smaller than expected\n",
      "WARNING:fabio.TiffIO:Data at tag id '65000' is smaller than expected\n",
      "WARNING:fabio.TiffIO:Data at tag id '65000' is smaller than expected\n",
      "WARNING:fabio.TiffIO:Data at tag id '65000' is smaller than expected\n",
      "WARNING:fabio.TiffIO:Data at tag id '65000' is smaller than expected\n"
     ]
    },
    {
     "name": "stdout",
     "output_type": "stream",
     "text": [
      "LR_P3MEEMT23k115C_0p7_KTFSI_pos1_2480.50eV_ai0.80_wa0_bpm109.475_id23066_000000_WAXS.tif\n"
     ]
    },
    {
     "name": "stderr",
     "output_type": "stream",
     "text": [
      "WARNING:fabio.TiffIO:Data at tag id '65000' is smaller than expected\n",
      "WARNING:fabio.TiffIO:Data at tag id '65000' is smaller than expected\n",
      "WARNING:fabio.TiffIO:Data at tag id '65000' is smaller than expected\n",
      "WARNING:fabio.TiffIO:Data at tag id '65000' is smaller than expected\n",
      "WARNING:fabio.TiffIO:Data at tag id '65000' is smaller than expected\n",
      "WARNING:fabio.TiffIO:Data at tag id '65000' is smaller than expected\n"
     ]
    },
    {
     "name": "stdout",
     "output_type": "stream",
     "text": [
      "LR_LiTFSI_PEDOTPSS_as_pos2_2479.50eV_ai0.80_wa0_bpm12.759_id23539_000000_WAXS.tif\n"
     ]
    },
    {
     "name": "stderr",
     "output_type": "stream",
     "text": [
      "WARNING:fabio.TiffIO:Data at tag id '65000' is smaller than expected\n",
      "WARNING:fabio.TiffIO:Data at tag id '65000' is smaller than expected\n",
      "WARNING:fabio.TiffIO:Data at tag id '65000' is smaller than expected\n",
      "WARNING:fabio.TiffIO:Data at tag id '65000' is smaller than expected\n",
      "WARNING:fabio.TiffIO:Data at tag id '65000' is smaller than expected\n",
      "WARNING:fabio.TiffIO:Data at tag id '65000' is smaller than expected\n"
     ]
    },
    {
     "name": "stdout",
     "output_type": "stream",
     "text": [
      "LR_AcidPEDOTPSS_RbCl_pos2_2476.50eV_ai0.80_wa0_bpm12.736_id22528_000000_WAXS.tif\n"
     ]
    },
    {
     "name": "stderr",
     "output_type": "stream",
     "text": [
      "WARNING:fabio.TiffIO:Data at tag id '65000' is smaller than expected\n",
      "WARNING:fabio.TiffIO:Data at tag id '65000' is smaller than expected\n",
      "WARNING:fabio.TiffIO:Data at tag id '65000' is smaller than expected\n",
      "WARNING:fabio.TiffIO:Data at tag id '65000' is smaller than expected\n",
      "WARNING:fabio.TiffIO:Data at tag id '65000' is smaller than expected\n",
      "WARNING:fabio.TiffIO:Data at tag id '65000' is smaller than expected\n"
     ]
    },
    {
     "name": "stdout",
     "output_type": "stream",
     "text": [
      "LR_AcidPEDOTPSS_exposed_pos2_2510.00eV_ai0.80_wa0_bpm13.504_id21834_000000_WAXS.tif\n"
     ]
    },
    {
     "name": "stderr",
     "output_type": "stream",
     "text": [
      "WARNING:fabio.TiffIO:Data at tag id '65000' is smaller than expected\n",
      "WARNING:fabio.TiffIO:Data at tag id '65000' is smaller than expected\n",
      "WARNING:fabio.TiffIO:Data at tag id '65000' is smaller than expected\n",
      "WARNING:fabio.TiffIO:Data at tag id '65000' is smaller than expected\n",
      "WARNING:fabio.TiffIO:Data at tag id '65000' is smaller than expected\n",
      "WARNING:fabio.TiffIO:Data at tag id '65000' is smaller than expected\n"
     ]
    },
    {
     "name": "stdout",
     "output_type": "stream",
     "text": [
      "LR_LiTFSI_PEDOTPSS_overdoped_p0p6V_pos1_2475.00eV_ai0.80_wa0_bpm109.433_id24072_000000_WAXS.tif\n"
     ]
    },
    {
     "name": "stderr",
     "output_type": "stream",
     "text": [
      "WARNING:fabio.TiffIO:Data at tag id '65000' is smaller than expected\n",
      "WARNING:fabio.TiffIO:Data at tag id '65000' is smaller than expected\n",
      "WARNING:fabio.TiffIO:Data at tag id '65000' is smaller than expected\n",
      "WARNING:fabio.TiffIO:Data at tag id '65000' is smaller than expected\n",
      "WARNING:fabio.TiffIO:Data at tag id '65000' is smaller than expected\n",
      "WARNING:fabio.TiffIO:Data at tag id '65000' is smaller than expected\n"
     ]
    },
    {
     "name": "stdout",
     "output_type": "stream",
     "text": [
      "LR_AcidPEDOTPSS_RbBr_pos2_2477.00eV_ai0.80_wa0_bpm12.686_id22640_000000_WAXS.tif\n"
     ]
    },
    {
     "name": "stderr",
     "output_type": "stream",
     "text": [
      "WARNING:fabio.TiffIO:Data at tag id '65000' is smaller than expected\n",
      "WARNING:fabio.TiffIO:Data at tag id '65000' is smaller than expected\n",
      "WARNING:fabio.TiffIO:Data at tag id '65000' is smaller than expected\n",
      "WARNING:fabio.TiffIO:Data at tag id '65000' is smaller than expected\n",
      "WARNING:fabio.TiffIO:Data at tag id '65000' is smaller than expected\n",
      "WARNING:fabio.TiffIO:Data at tag id '65000' is smaller than expected\n"
     ]
    },
    {
     "name": "stdout",
     "output_type": "stream",
     "text": [
      "LR_LiTFSI_PEDOTPSS_overdoped_p0p6V_pos1_2477.50eV_ai0.80_wa0_bpm109.237_id24077_000000_WAXS.tif\n"
     ]
    },
    {
     "name": "stderr",
     "output_type": "stream",
     "text": [
      "WARNING:fabio.TiffIO:Data at tag id '65000' is smaller than expected\n",
      "WARNING:fabio.TiffIO:Data at tag id '65000' is smaller than expected\n",
      "WARNING:fabio.TiffIO:Data at tag id '65000' is smaller than expected\n",
      "WARNING:fabio.TiffIO:Data at tag id '65000' is smaller than expected\n",
      "WARNING:fabio.TiffIO:Data at tag id '65000' is smaller than expected\n",
      "WARNING:fabio.TiffIO:Data at tag id '65000' is smaller than expected\n"
     ]
    },
    {
     "name": "stdout",
     "output_type": "stream",
     "text": [
      "LR_AcidPEDOTPSS_overdope_p0p6_pos2_2460.00eV_ai0.80_wa0_bpm12.606_id22196_000000_WAXS.tif\n"
     ]
    },
    {
     "name": "stderr",
     "output_type": "stream",
     "text": [
      "WARNING:fabio.TiffIO:Data at tag id '65000' is smaller than expected\n",
      "WARNING:fabio.TiffIO:Data at tag id '65000' is smaller than expected\n",
      "WARNING:fabio.TiffIO:Data at tag id '65000' is smaller than expected\n",
      "WARNING:fabio.TiffIO:Data at tag id '65000' is smaller than expected\n",
      "WARNING:fabio.TiffIO:Data at tag id '65000' is smaller than expected\n",
      "WARNING:fabio.TiffIO:Data at tag id '65000' is smaller than expected\n"
     ]
    },
    {
     "name": "stdout",
     "output_type": "stream",
     "text": [
      "LR_AcidPEDOTPSS_exposed_pos1_2500.00eV_ai0.80_wa0_bpm110.279_id21830_000000_WAXS.tif\n"
     ]
    },
    {
     "name": "stderr",
     "output_type": "stream",
     "text": [
      "WARNING:fabio.TiffIO:Data at tag id '65000' is smaller than expected\n",
      "WARNING:fabio.TiffIO:Data at tag id '65000' is smaller than expected\n",
      "WARNING:fabio.TiffIO:Data at tag id '65000' is smaller than expected\n",
      "WARNING:fabio.TiffIO:Data at tag id '65000' is smaller than expected\n",
      "WARNING:fabio.TiffIO:Data at tag id '65000' is smaller than expected\n",
      "WARNING:fabio.TiffIO:Data at tag id '65000' is smaller than expected\n"
     ]
    },
    {
     "name": "stdout",
     "output_type": "stream",
     "text": [
      "LR_StandardPEDOTPSS_as_pos2_2492.50eV_ai0.80_wa0_bpm13.036_id22741_000000_WAXS.tif\n"
     ]
    },
    {
     "name": "stderr",
     "output_type": "stream",
     "text": [
      "WARNING:fabio.TiffIO:Data at tag id '65000' is smaller than expected\n",
      "WARNING:fabio.TiffIO:Data at tag id '65000' is smaller than expected\n",
      "WARNING:fabio.TiffIO:Data at tag id '65000' is smaller than expected\n",
      "WARNING:fabio.TiffIO:Data at tag id '65000' is smaller than expected\n",
      "WARNING:fabio.TiffIO:Data at tag id '65000' is smaller than expected\n",
      "WARNING:fabio.TiffIO:Data at tag id '65000' is smaller than expected\n"
     ]
    },
    {
     "name": "stdout",
     "output_type": "stream",
     "text": [
      "LR_P3MEEMT23k115C_0p4_KTFSI_pos2_2475.50eV_ai0.80_wa0_bpm12.705_id23208_000000_WAXS.tif\n"
     ]
    },
    {
     "name": "stderr",
     "output_type": "stream",
     "text": [
      "WARNING:fabio.TiffIO:Data at tag id '65000' is smaller than expected\n",
      "WARNING:fabio.TiffIO:Data at tag id '65000' is smaller than expected\n",
      "WARNING:fabio.TiffIO:Data at tag id '65000' is smaller than expected\n",
      "WARNING:fabio.TiffIO:Data at tag id '65000' is smaller than expected\n",
      "WARNING:fabio.TiffIO:Data at tag id '65000' is smaller than expected\n",
      "WARNING:fabio.TiffIO:Data at tag id '65000' is smaller than expected\n"
     ]
    },
    {
     "name": "stdout",
     "output_type": "stream",
     "text": [
      "LR_RivnayFrit_P3MEEET_drop_pos2_2476.00eV_ai0.80_wa0_bpm12.639_id23433_000000_WAXS.tif\n"
     ]
    },
    {
     "name": "stderr",
     "output_type": "stream",
     "text": [
      "WARNING:fabio.TiffIO:Data at tag id '65000' is smaller than expected\n",
      "WARNING:fabio.TiffIO:Data at tag id '65000' is smaller than expected\n",
      "WARNING:fabio.TiffIO:Data at tag id '65000' is smaller than expected\n",
      "WARNING:fabio.TiffIO:Data at tag id '65000' is smaller than expected\n",
      "WARNING:fabio.TiffIO:Data at tag id '65000' is smaller than expected\n",
      "WARNING:fabio.TiffIO:Data at tag id '65000' is smaller than expected\n"
     ]
    },
    {
     "name": "stdout",
     "output_type": "stream",
     "text": [
      "LR_StandardPEDOTPSS_NaBr_pos1_2480.50eV_ai0.80_wa0_bpm109.558_id22953_000000_WAXS.tif\n"
     ]
    },
    {
     "name": "stderr",
     "output_type": "stream",
     "text": [
      "WARNING:fabio.TiffIO:Data at tag id '65000' is smaller than expected\n",
      "WARNING:fabio.TiffIO:Data at tag id '65000' is smaller than expected\n",
      "WARNING:fabio.TiffIO:Data at tag id '65000' is smaller than expected\n",
      "WARNING:fabio.TiffIO:Data at tag id '65000' is smaller than expected\n",
      "WARNING:fabio.TiffIO:Data at tag id '65000' is smaller than expected\n",
      "WARNING:fabio.TiffIO:Data at tag id '65000' is smaller than expected\n"
     ]
    },
    {
     "name": "stdout",
     "output_type": "stream",
     "text": [
      "LR_AcidPEDOTPSS_NaCl_pos1_2483.00eV_ai0.80_wa0_bpm109.874_id22276_000000_WAXS.tif\n"
     ]
    },
    {
     "name": "stderr",
     "output_type": "stream",
     "text": [
      "WARNING:fabio.TiffIO:Data at tag id '65000' is smaller than expected\n",
      "WARNING:fabio.TiffIO:Data at tag id '65000' is smaller than expected\n",
      "WARNING:fabio.TiffIO:Data at tag id '65000' is smaller than expected\n",
      "WARNING:fabio.TiffIO:Data at tag id '65000' is smaller than expected\n",
      "WARNING:fabio.TiffIO:Data at tag id '65000' is smaller than expected\n",
      "WARNING:fabio.TiffIO:Data at tag id '65000' is smaller than expected\n"
     ]
    },
    {
     "name": "stdout",
     "output_type": "stream",
     "text": [
      "LR_LiTFSI_PEDOTPSS_dedoped_n0p6_pos1_2500.00eV_ai0.80_wa0_bpm109.619_id23864_000000_WAXS.tif\n"
     ]
    },
    {
     "name": "stderr",
     "output_type": "stream",
     "text": [
      "WARNING:fabio.TiffIO:Data at tag id '65000' is smaller than expected\n",
      "WARNING:fabio.TiffIO:Data at tag id '65000' is smaller than expected\n",
      "WARNING:fabio.TiffIO:Data at tag id '65000' is smaller than expected\n",
      "WARNING:fabio.TiffIO:Data at tag id '65000' is smaller than expected\n",
      "WARNING:fabio.TiffIO:Data at tag id '65000' is smaller than expected\n",
      "WARNING:fabio.TiffIO:Data at tag id '65000' is smaller than expected\n"
     ]
    },
    {
     "name": "stdout",
     "output_type": "stream",
     "text": [
      "LR_AcidPEDOTPSS_RbCl_pos1_2490.00eV_ai0.80_wa0_bpm109.953_id22505_000000_WAXS.tif\n"
     ]
    },
    {
     "name": "stderr",
     "output_type": "stream",
     "text": [
      "WARNING:fabio.TiffIO:Data at tag id '65000' is smaller than expected\n",
      "WARNING:fabio.TiffIO:Data at tag id '65000' is smaller than expected\n",
      "WARNING:fabio.TiffIO:Data at tag id '65000' is smaller than expected\n",
      "WARNING:fabio.TiffIO:Data at tag id '65000' is smaller than expected\n",
      "WARNING:fabio.TiffIO:Data at tag id '65000' is smaller than expected\n",
      "WARNING:fabio.TiffIO:Data at tag id '65000' is smaller than expected\n"
     ]
    },
    {
     "name": "stdout",
     "output_type": "stream",
     "text": [
      "LR_LiTFSI_PEDOTPSS_overdoped_p0p6V_pos2_2480.00eV_ai0.80_wa0_bpm12.770_id24103_000000_WAXS.tif\n"
     ]
    },
    {
     "name": "stderr",
     "output_type": "stream",
     "text": [
      "WARNING:fabio.TiffIO:Data at tag id '65000' is smaller than expected\n",
      "WARNING:fabio.TiffIO:Data at tag id '65000' is smaller than expected\n",
      "WARNING:fabio.TiffIO:Data at tag id '65000' is smaller than expected\n",
      "WARNING:fabio.TiffIO:Data at tag id '65000' is smaller than expected\n",
      "WARNING:fabio.TiffIO:Data at tag id '65000' is smaller than expected\n",
      "WARNING:fabio.TiffIO:Data at tag id '65000' is smaller than expected\n"
     ]
    },
    {
     "name": "stdout",
     "output_type": "stream",
     "text": [
      "LR_LiTFSI_PEDOTPSS_dedoped_n0p6_pos1_2485.00eV_ai0.80_wa0_bpm109.641_id23859_000000_WAXS.tif\n"
     ]
    },
    {
     "name": "stderr",
     "output_type": "stream",
     "text": [
      "WARNING:fabio.TiffIO:Data at tag id '65000' is smaller than expected\n",
      "WARNING:fabio.TiffIO:Data at tag id '65000' is smaller than expected\n",
      "WARNING:fabio.TiffIO:Data at tag id '65000' is smaller than expected\n",
      "WARNING:fabio.TiffIO:Data at tag id '65000' is smaller than expected\n",
      "WARNING:fabio.TiffIO:Data at tag id '65000' is smaller than expected\n",
      "WARNING:fabio.TiffIO:Data at tag id '65000' is smaller than expected\n"
     ]
    },
    {
     "name": "stdout",
     "output_type": "stream",
     "text": [
      "LR_LiTFSI_PEDOTPSS_dedoped_n0p6_pos2_2460.00eV_ai0.80_wa0_bpm12.593_id23891_000000_WAXS.tif\n"
     ]
    },
    {
     "name": "stderr",
     "output_type": "stream",
     "text": [
      "WARNING:fabio.TiffIO:Data at tag id '65000' is smaller than expected\n",
      "WARNING:fabio.TiffIO:Data at tag id '65000' is smaller than expected\n",
      "WARNING:fabio.TiffIO:Data at tag id '65000' is smaller than expected\n",
      "WARNING:fabio.TiffIO:Data at tag id '65000' is smaller than expected\n",
      "WARNING:fabio.TiffIO:Data at tag id '65000' is smaller than expected\n",
      "WARNING:fabio.TiffIO:Data at tag id '65000' is smaller than expected\n"
     ]
    },
    {
     "name": "stdout",
     "output_type": "stream",
     "text": [
      "LR_AcidPEDOTPSS_0V_pos1_2476.50eV_ai0.80_wa0_bpm109.996_id21928_000000_WAXS.tif\n"
     ]
    },
    {
     "name": "stderr",
     "output_type": "stream",
     "text": [
      "WARNING:fabio.TiffIO:Data at tag id '65000' is smaller than expected\n",
      "WARNING:fabio.TiffIO:Data at tag id '65000' is smaller than expected\n",
      "WARNING:fabio.TiffIO:Data at tag id '65000' is smaller than expected\n",
      "WARNING:fabio.TiffIO:Data at tag id '65000' is smaller than expected\n",
      "WARNING:fabio.TiffIO:Data at tag id '65000' is smaller than expected\n",
      "WARNING:fabio.TiffIO:Data at tag id '65000' is smaller than expected\n"
     ]
    },
    {
     "name": "stdout",
     "output_type": "stream",
     "text": [
      "LR_LiTFSI_PEDOTPSS_redoped_0V_pos1_2478.50eV_ai0.80_wa0_bpm109.353_id23966_000000_WAXS.tif\n"
     ]
    },
    {
     "name": "stderr",
     "output_type": "stream",
     "text": [
      "WARNING:fabio.TiffIO:Data at tag id '65000' is smaller than expected\n",
      "WARNING:fabio.TiffIO:Data at tag id '65000' is smaller than expected\n",
      "WARNING:fabio.TiffIO:Data at tag id '65000' is smaller than expected\n",
      "WARNING:fabio.TiffIO:Data at tag id '65000' is smaller than expected\n",
      "WARNING:fabio.TiffIO:Data at tag id '65000' is smaller than expected\n",
      "WARNING:fabio.TiffIO:Data at tag id '65000' is smaller than expected\n"
     ]
    },
    {
     "name": "stdout",
     "output_type": "stream",
     "text": [
      "LR_P3MEEMT23k115C_0p4_KTFSI_pos2_2477.00eV_ai0.80_wa0_bpm12.663_id23205_000000_WAXS.tif\n"
     ]
    },
    {
     "name": "stderr",
     "output_type": "stream",
     "text": [
      "WARNING:fabio.TiffIO:Data at tag id '65000' is smaller than expected\n",
      "WARNING:fabio.TiffIO:Data at tag id '65000' is smaller than expected\n",
      "WARNING:fabio.TiffIO:Data at tag id '65000' is smaller than expected\n",
      "WARNING:fabio.TiffIO:Data at tag id '65000' is smaller than expected\n",
      "WARNING:fabio.TiffIO:Data at tag id '65000' is smaller than expected\n",
      "WARNING:fabio.TiffIO:Data at tag id '65000' is smaller than expected\n"
     ]
    },
    {
     "name": "stdout",
     "output_type": "stream",
     "text": [
      "LR_AcidPEDOTPSS_NaBr_pos2_2477.50eV_ai0.80_wa0_bpm12.763_id22413_000000_WAXS.tif\n"
     ]
    },
    {
     "name": "stderr",
     "output_type": "stream",
     "text": [
      "WARNING:fabio.TiffIO:Data at tag id '65000' is smaller than expected\n",
      "WARNING:fabio.TiffIO:Data at tag id '65000' is smaller than expected\n",
      "WARNING:fabio.TiffIO:Data at tag id '65000' is smaller than expected\n",
      "WARNING:fabio.TiffIO:Data at tag id '65000' is smaller than expected\n",
      "WARNING:fabio.TiffIO:Data at tag id '65000' is smaller than expected\n",
      "WARNING:fabio.TiffIO:Data at tag id '65000' is smaller than expected\n"
     ]
    },
    {
     "name": "stdout",
     "output_type": "stream",
     "text": [
      "LR_LiTFSI_PEDOTPSS_as_pos1_2478.50eV_ai0.80_wa0_bpm109.037_id23514_000000_WAXS.tif\n"
     ]
    },
    {
     "name": "stderr",
     "output_type": "stream",
     "text": [
      "WARNING:fabio.TiffIO:Data at tag id '65000' is smaller than expected\n",
      "WARNING:fabio.TiffIO:Data at tag id '65000' is smaller than expected\n",
      "WARNING:fabio.TiffIO:Data at tag id '65000' is smaller than expected\n",
      "WARNING:fabio.TiffIO:Data at tag id '65000' is smaller than expected\n",
      "WARNING:fabio.TiffIO:Data at tag id '65000' is smaller than expected\n",
      "WARNING:fabio.TiffIO:Data at tag id '65000' is smaller than expected\n"
     ]
    },
    {
     "name": "stdout",
     "output_type": "stream",
     "text": [
      "LR_LiTFSI_PEDOTPSS_dedoped_n0p6_pos1_2490.00eV_ai0.80_wa0_bpm109.610_id23861_000000_WAXS.tif\n"
     ]
    },
    {
     "name": "stderr",
     "output_type": "stream",
     "text": [
      "WARNING:fabio.TiffIO:Data at tag id '65000' is smaller than expected\n",
      "WARNING:fabio.TiffIO:Data at tag id '65000' is smaller than expected\n",
      "WARNING:fabio.TiffIO:Data at tag id '65000' is smaller than expected\n",
      "WARNING:fabio.TiffIO:Data at tag id '65000' is smaller than expected\n",
      "WARNING:fabio.TiffIO:Data at tag id '65000' is smaller than expected\n",
      "WARNING:fabio.TiffIO:Data at tag id '65000' is smaller than expected\n"
     ]
    },
    {
     "name": "stdout",
     "output_type": "stream",
     "text": [
      "LR_AcidPEDOTPSS_as_pos2_2480.50eV_ai0.80_wa0_bpm12.864_id21729_000000_WAXS.tif\n"
     ]
    },
    {
     "name": "stderr",
     "output_type": "stream",
     "text": [
      "WARNING:fabio.TiffIO:Data at tag id '65000' is smaller than expected\n",
      "WARNING:fabio.TiffIO:Data at tag id '65000' is smaller than expected\n",
      "WARNING:fabio.TiffIO:Data at tag id '65000' is smaller than expected\n",
      "WARNING:fabio.TiffIO:Data at tag id '65000' is smaller than expected\n",
      "WARNING:fabio.TiffIO:Data at tag id '65000' is smaller than expected\n",
      "WARNING:fabio.TiffIO:Data at tag id '65000' is smaller than expected\n"
     ]
    },
    {
     "name": "stdout",
     "output_type": "stream",
     "text": [
      "LR_AcidPEDOTPSS_dedope_n0p6_pos1_2500.00eV_ai0.80_wa0_bpm110.358_id22056_000000_WAXS.tif\n"
     ]
    },
    {
     "name": "stderr",
     "output_type": "stream",
     "text": [
      "WARNING:fabio.TiffIO:Data at tag id '65000' is smaller than expected\n",
      "WARNING:fabio.TiffIO:Data at tag id '65000' is smaller than expected\n",
      "WARNING:fabio.TiffIO:Data at tag id '65000' is smaller than expected\n",
      "WARNING:fabio.TiffIO:Data at tag id '65000' is smaller than expected\n",
      "WARNING:fabio.TiffIO:Data at tag id '65000' is smaller than expected\n",
      "WARNING:fabio.TiffIO:Data at tag id '65000' is smaller than expected\n"
     ]
    },
    {
     "name": "stdout",
     "output_type": "stream",
     "text": [
      "LR_AcidPEDOTPSS_RbCl_pos2_2500.00eV_ai0.80_wa0_bpm13.208_id22513_000000_WAXS.tif\n"
     ]
    },
    {
     "name": "stderr",
     "output_type": "stream",
     "text": [
      "WARNING:fabio.TiffIO:Data at tag id '65000' is smaller than expected\n",
      "WARNING:fabio.TiffIO:Data at tag id '65000' is smaller than expected\n",
      "WARNING:fabio.TiffIO:Data at tag id '65000' is smaller than expected\n",
      "WARNING:fabio.TiffIO:Data at tag id '65000' is smaller than expected\n",
      "WARNING:fabio.TiffIO:Data at tag id '65000' is smaller than expected\n",
      "WARNING:fabio.TiffIO:Data at tag id '65000' is smaller than expected\n"
     ]
    },
    {
     "name": "stdout",
     "output_type": "stream",
     "text": [
      "LR_AcidPEDOTPSS_RbBr_pos1_2475.00eV_ai0.80_wa0_bpm109.565_id22603_000000_WAXS.tif\n"
     ]
    },
    {
     "name": "stderr",
     "output_type": "stream",
     "text": [
      "WARNING:fabio.TiffIO:Data at tag id '65000' is smaller than expected\n",
      "WARNING:fabio.TiffIO:Data at tag id '65000' is smaller than expected\n",
      "WARNING:fabio.TiffIO:Data at tag id '65000' is smaller than expected\n",
      "WARNING:fabio.TiffIO:Data at tag id '65000' is smaller than expected\n",
      "WARNING:fabio.TiffIO:Data at tag id '65000' is smaller than expected\n",
      "WARNING:fabio.TiffIO:Data at tag id '65000' is smaller than expected\n"
     ]
    },
    {
     "name": "stdout",
     "output_type": "stream",
     "text": [
      "LR_StandardPEDOTPSS_NaBr_pos1_2476.50eV_ai0.80_wa0_bpm109.658_id22945_000000_WAXS.tif\n"
     ]
    },
    {
     "name": "stderr",
     "output_type": "stream",
     "text": [
      "WARNING:fabio.TiffIO:Data at tag id '65000' is smaller than expected\n",
      "WARNING:fabio.TiffIO:Data at tag id '65000' is smaller than expected\n",
      "WARNING:fabio.TiffIO:Data at tag id '65000' is smaller than expected\n",
      "WARNING:fabio.TiffIO:Data at tag id '65000' is smaller than expected\n",
      "WARNING:fabio.TiffIO:Data at tag id '65000' is smaller than expected\n",
      "WARNING:fabio.TiffIO:Data at tag id '65000' is smaller than expected\n"
     ]
    },
    {
     "name": "stdout",
     "output_type": "stream",
     "text": [
      "LR_AcidPEDOTPSS_as_pos1_2475.00eV_ai0.80_wa0_bpm110.348_id21699_000000_WAXS.tif\n"
     ]
    },
    {
     "name": "stderr",
     "output_type": "stream",
     "text": [
      "WARNING:fabio.TiffIO:Data at tag id '65000' is smaller than expected\n",
      "WARNING:fabio.TiffIO:Data at tag id '65000' is smaller than expected\n",
      "WARNING:fabio.TiffIO:Data at tag id '65000' is smaller than expected\n",
      "WARNING:fabio.TiffIO:Data at tag id '65000' is smaller than expected\n",
      "WARNING:fabio.TiffIO:Data at tag id '65000' is smaller than expected\n",
      "WARNING:fabio.TiffIO:Data at tag id '65000' is smaller than expected\n"
     ]
    },
    {
     "name": "stdout",
     "output_type": "stream",
     "text": [
      "LR_StandardPEDOTPSS_RbBr_pos1_2515.00eV_ai0.80_wa0_bpm110.106_id22849_000000_WAXS.tif\n"
     ]
    },
    {
     "name": "stderr",
     "output_type": "stream",
     "text": [
      "WARNING:fabio.TiffIO:Data at tag id '65000' is smaller than expected\n",
      "WARNING:fabio.TiffIO:Data at tag id '65000' is smaller than expected\n",
      "WARNING:fabio.TiffIO:Data at tag id '65000' is smaller than expected\n",
      "WARNING:fabio.TiffIO:Data at tag id '65000' is smaller than expected\n",
      "WARNING:fabio.TiffIO:Data at tag id '65000' is smaller than expected\n",
      "WARNING:fabio.TiffIO:Data at tag id '65000' is smaller than expected\n"
     ]
    },
    {
     "name": "stdout",
     "output_type": "stream",
     "text": [
      "LR_AcidPEDOTPSS_RbBr_pos1_2485.00eV_ai0.80_wa0_bpm109.904_id22616_000000_WAXS.tif\n"
     ]
    },
    {
     "name": "stderr",
     "output_type": "stream",
     "text": [
      "WARNING:fabio.TiffIO:Data at tag id '65000' is smaller than expected\n",
      "WARNING:fabio.TiffIO:Data at tag id '65000' is smaller than expected\n",
      "WARNING:fabio.TiffIO:Data at tag id '65000' is smaller than expected\n",
      "WARNING:fabio.TiffIO:Data at tag id '65000' is smaller than expected\n"
     ]
    },
    {
     "name": "stdout",
     "output_type": "stream",
     "text": [
      "LR_LiTFSI_PEDOTPSS_dedoped_n0p6_pos2_2473.00eV_ai0.80_wa0_bpm12.644_id23888_000000_WAXS.tif\n"
     ]
    },
    {
     "name": "stderr",
     "output_type": "stream",
     "text": [
      "WARNING:fabio.TiffIO:Data at tag id '65000' is smaller than expected\n",
      "WARNING:fabio.TiffIO:Data at tag id '65000' is smaller than expected\n",
      "WARNING:fabio.TiffIO:Data at tag id '65000' is smaller than expected\n",
      "WARNING:fabio.TiffIO:Data at tag id '65000' is smaller than expected\n",
      "WARNING:fabio.TiffIO:Data at tag id '65000' is smaller than expected\n",
      "WARNING:fabio.TiffIO:Data at tag id '65000' is smaller than expected\n",
      "WARNING:fabio.TiffIO:Data at tag id '65000' is smaller than expected\n",
      "WARNING:fabio.TiffIO:Data at tag id '65000' is smaller than expected\n"
     ]
    },
    {
     "name": "stdout",
     "output_type": "stream",
     "text": [
      "LR_LiTFSI_PEDOTPSS_overdoped_p0p6V_pos2_2480.50eV_ai0.80_wa0_bpm12.809_id24102_000000_WAXS.tif\n"
     ]
    },
    {
     "name": "stderr",
     "output_type": "stream",
     "text": [
      "WARNING:fabio.TiffIO:Data at tag id '65000' is smaller than expected\n",
      "WARNING:fabio.TiffIO:Data at tag id '65000' is smaller than expected\n",
      "WARNING:fabio.TiffIO:Data at tag id '65000' is smaller than expected\n",
      "WARNING:fabio.TiffIO:Data at tag id '65000' is smaller than expected\n",
      "WARNING:fabio.TiffIO:Data at tag id '65000' is smaller than expected\n",
      "WARNING:fabio.TiffIO:Data at tag id '65000' is smaller than expected\n"
     ]
    },
    {
     "name": "stdout",
     "output_type": "stream",
     "text": [
      "LR_LiTFSI_PEDOTPSS_as_pos2_2483.00eV_ai0.80_wa0_bpm12.793_id23536_000000_WAXS.tif\n"
     ]
    },
    {
     "name": "stderr",
     "output_type": "stream",
     "text": [
      "WARNING:fabio.TiffIO:Data at tag id '65000' is smaller than expected\n",
      "WARNING:fabio.TiffIO:Data at tag id '65000' is smaller than expected\n",
      "WARNING:fabio.TiffIO:Data at tag id '65000' is smaller than expected\n",
      "WARNING:fabio.TiffIO:Data at tag id '65000' is smaller than expected\n",
      "WARNING:fabio.TiffIO:Data at tag id '65000' is smaller than expected\n",
      "WARNING:fabio.TiffIO:Data at tag id '65000' is smaller than expected\n"
     ]
    },
    {
     "name": "stdout",
     "output_type": "stream",
     "text": [
      "LR_LiTFSI_PEDOTPSS_as_pos2_2479.00eV_ai0.80_wa0_bpm12.730_id23540_000000_WAXS.tif\n"
     ]
    },
    {
     "name": "stderr",
     "output_type": "stream",
     "text": [
      "WARNING:fabio.TiffIO:Data at tag id '65000' is smaller than expected\n",
      "WARNING:fabio.TiffIO:Data at tag id '65000' is smaller than expected\n",
      "WARNING:fabio.TiffIO:Data at tag id '65000' is smaller than expected\n",
      "WARNING:fabio.TiffIO:Data at tag id '65000' is smaller than expected\n",
      "WARNING:fabio.TiffIO:Data at tag id '65000' is smaller than expected\n",
      "WARNING:fabio.TiffIO:Data at tag id '65000' is smaller than expected\n"
     ]
    },
    {
     "name": "stdout",
     "output_type": "stream",
     "text": [
      "LR_AcidPEDOTPSS_RbBr_pos1_2465.00eV_ai0.80_wa0_bpm109.904_id22600_000000_WAXS.tif\n"
     ]
    },
    {
     "name": "stderr",
     "output_type": "stream",
     "text": [
      "WARNING:fabio.TiffIO:Data at tag id '65000' is smaller than expected\n",
      "WARNING:fabio.TiffIO:Data at tag id '65000' is smaller than expected\n",
      "WARNING:fabio.TiffIO:Data at tag id '65000' is smaller than expected\n",
      "WARNING:fabio.TiffIO:Data at tag id '65000' is smaller than expected\n",
      "WARNING:fabio.TiffIO:Data at tag id '65000' is smaller than expected\n",
      "WARNING:fabio.TiffIO:Data at tag id '65000' is smaller than expected\n"
     ]
    },
    {
     "name": "stdout",
     "output_type": "stream",
     "text": [
      "LR_StandardPEDOTPSS_as_pos2_2483.00eV_ai0.80_wa0_bpm12.797_id22745_000000_WAXS.tif\n"
     ]
    },
    {
     "name": "stderr",
     "output_type": "stream",
     "text": [
      "WARNING:fabio.TiffIO:Data at tag id '65000' is smaller than expected\n",
      "WARNING:fabio.TiffIO:Data at tag id '65000' is smaller than expected\n",
      "WARNING:fabio.TiffIO:Data at tag id '65000' is smaller than expected\n",
      "WARNING:fabio.TiffIO:Data at tag id '65000' is smaller than expected\n",
      "WARNING:fabio.TiffIO:Data at tag id '65000' is smaller than expected\n",
      "WARNING:fabio.TiffIO:Data at tag id '65000' is smaller than expected\n"
     ]
    },
    {
     "name": "stdout",
     "output_type": "stream",
     "text": [
      "LR_AcidPEDOTPSS_RbCl_pos2_2510.00eV_ai0.80_wa0_bpm13.437_id22512_000000_WAXS.tif\n"
     ]
    },
    {
     "name": "stderr",
     "output_type": "stream",
     "text": [
      "WARNING:fabio.TiffIO:Data at tag id '65000' is smaller than expected\n",
      "WARNING:fabio.TiffIO:Data at tag id '65000' is smaller than expected\n",
      "WARNING:fabio.TiffIO:Data at tag id '65000' is smaller than expected\n",
      "WARNING:fabio.TiffIO:Data at tag id '65000' is smaller than expected\n",
      "WARNING:fabio.TiffIO:Data at tag id '65000' is smaller than expected\n",
      "WARNING:fabio.TiffIO:Data at tag id '65000' is smaller than expected\n"
     ]
    },
    {
     "name": "stdout",
     "output_type": "stream",
     "text": [
      "LR_AcidPEDOTPSS_RbBr_pos1_2479.00eV_ai0.80_wa0_bpm109.885_id22611_000000_WAXS.tif\n"
     ]
    },
    {
     "name": "stderr",
     "output_type": "stream",
     "text": [
      "WARNING:fabio.TiffIO:Data at tag id '65000' is smaller than expected\n",
      "WARNING:fabio.TiffIO:Data at tag id '65000' is smaller than expected\n",
      "WARNING:fabio.TiffIO:Data at tag id '65000' is smaller than expected\n",
      "WARNING:fabio.TiffIO:Data at tag id '65000' is smaller than expected\n",
      "WARNING:fabio.TiffIO:Data at tag id '65000' is smaller than expected\n",
      "WARNING:fabio.TiffIO:Data at tag id '65000' is smaller than expected\n"
     ]
    },
    {
     "name": "stdout",
     "output_type": "stream",
     "text": [
      "LR_AcidPEDOTPSS_NaBr_pos2_2479.00eV_ai0.80_wa0_bpm12.814_id22410_000000_WAXS.tif\n"
     ]
    },
    {
     "name": "stderr",
     "output_type": "stream",
     "text": [
      "WARNING:fabio.TiffIO:Data at tag id '65000' is smaller than expected\n",
      "WARNING:fabio.TiffIO:Data at tag id '65000' is smaller than expected\n",
      "WARNING:fabio.TiffIO:Data at tag id '65000' is smaller than expected\n",
      "WARNING:fabio.TiffIO:Data at tag id '65000' is smaller than expected\n",
      "WARNING:fabio.TiffIO:Data at tag id '65000' is smaller than expected\n",
      "WARNING:fabio.TiffIO:Data at tag id '65000' is smaller than expected\n"
     ]
    },
    {
     "name": "stdout",
     "output_type": "stream",
     "text": [
      "LR_P3MEEMT23k115C_0p4_KTFSI_pos2_2476.50eV_ai0.80_wa0_bpm12.667_id23206_000000_WAXS.tif\n"
     ]
    },
    {
     "name": "stderr",
     "output_type": "stream",
     "text": [
      "WARNING:fabio.TiffIO:Data at tag id '65000' is smaller than expected\n",
      "WARNING:fabio.TiffIO:Data at tag id '65000' is smaller than expected\n",
      "WARNING:fabio.TiffIO:Data at tag id '65000' is smaller than expected\n",
      "WARNING:fabio.TiffIO:Data at tag id '65000' is smaller than expected\n",
      "WARNING:fabio.TiffIO:Data at tag id '65000' is smaller than expected\n",
      "WARNING:fabio.TiffIO:Data at tag id '65000' is smaller than expected\n"
     ]
    },
    {
     "name": "stdout",
     "output_type": "stream",
     "text": [
      "LR_P3MEEMT23k115C_0p7_KTFSI_pos2_2476.50eV_ai0.80_wa0_bpm12.689_id23093_000000_WAXS.tif\n"
     ]
    },
    {
     "name": "stderr",
     "output_type": "stream",
     "text": [
      "WARNING:fabio.TiffIO:Data at tag id '65000' is smaller than expected\n",
      "WARNING:fabio.TiffIO:Data at tag id '65000' is smaller than expected\n",
      "WARNING:fabio.TiffIO:Data at tag id '65000' is smaller than expected\n",
      "WARNING:fabio.TiffIO:Data at tag id '65000' is smaller than expected\n",
      "WARNING:fabio.TiffIO:Data at tag id '65000' is smaller than expected\n",
      "WARNING:fabio.TiffIO:Data at tag id '65000' is smaller than expected\n"
     ]
    },
    {
     "name": "stdout",
     "output_type": "stream",
     "text": [
      "LR_P3MEEMT23k115C_0p4_KTFSI_pos2_2478.00eV_ai0.80_wa0_bpm12.685_id23203_000000_WAXS.tif\n"
     ]
    },
    {
     "name": "stderr",
     "output_type": "stream",
     "text": [
      "WARNING:fabio.TiffIO:Data at tag id '65000' is smaller than expected\n",
      "WARNING:fabio.TiffIO:Data at tag id '65000' is smaller than expected\n",
      "WARNING:fabio.TiffIO:Data at tag id '65000' is smaller than expected\n",
      "WARNING:fabio.TiffIO:Data at tag id '65000' is smaller than expected\n",
      "WARNING:fabio.TiffIO:Data at tag id '65000' is smaller than expected\n",
      "WARNING:fabio.TiffIO:Data at tag id '65000' is smaller than expected\n"
     ]
    },
    {
     "name": "stdout",
     "output_type": "stream",
     "text": [
      "LR_AcidPEDOTPSS_0V_pos2_2479.00eV_ai0.80_wa0_bpm12.791_id21958_000000_WAXS.tif\n"
     ]
    },
    {
     "name": "stderr",
     "output_type": "stream",
     "text": [
      "WARNING:fabio.TiffIO:Data at tag id '65000' is smaller than expected\n",
      "WARNING:fabio.TiffIO:Data at tag id '65000' is smaller than expected\n",
      "WARNING:fabio.TiffIO:Data at tag id '65000' is smaller than expected\n",
      "WARNING:fabio.TiffIO:Data at tag id '65000' is smaller than expected\n",
      "WARNING:fabio.TiffIO:Data at tag id '65000' is smaller than expected\n",
      "WARNING:fabio.TiffIO:Data at tag id '65000' is smaller than expected\n"
     ]
    },
    {
     "name": "stdout",
     "output_type": "stream",
     "text": [
      "LR_LiTFSI_PEDOTPSS_exposed_pos1_2476.00eV_ai0.80_wa0_bpm109.509_id23622_000000_WAXS.tif\n"
     ]
    },
    {
     "name": "stderr",
     "output_type": "stream",
     "text": [
      "WARNING:fabio.TiffIO:Data at tag id '65000' is smaller than expected\n",
      "WARNING:fabio.TiffIO:Data at tag id '65000' is smaller than expected\n",
      "WARNING:fabio.TiffIO:Data at tag id '65000' is smaller than expected\n",
      "WARNING:fabio.TiffIO:Data at tag id '65000' is smaller than expected\n",
      "WARNING:fabio.TiffIO:Data at tag id '65000' is smaller than expected\n",
      "WARNING:fabio.TiffIO:Data at tag id '65000' is smaller than expected\n"
     ]
    },
    {
     "name": "stdout",
     "output_type": "stream",
     "text": [
      "LR_AcidPEDOTPSS_dedope_n0p6_pos2_2478.00eV_ai0.80_wa0_bpm12.736_id22073_000000_WAXS.tif\n"
     ]
    },
    {
     "name": "stderr",
     "output_type": "stream",
     "text": [
      "WARNING:fabio.TiffIO:Data at tag id '65000' is smaller than expected\n",
      "WARNING:fabio.TiffIO:Data at tag id '65000' is smaller than expected\n",
      "WARNING:fabio.TiffIO:Data at tag id '65000' is smaller than expected\n",
      "WARNING:fabio.TiffIO:Data at tag id '65000' is smaller than expected\n",
      "WARNING:fabio.TiffIO:Data at tag id '65000' is smaller than expected\n",
      "WARNING:fabio.TiffIO:Data at tag id '65000' is smaller than expected\n"
     ]
    },
    {
     "name": "stdout",
     "output_type": "stream",
     "text": [
      "LR_StandardPEDOTPSS_NaBr_pos1_2478.00eV_ai0.80_wa0_bpm109.554_id22948_000000_WAXS.tif\n"
     ]
    },
    {
     "name": "stderr",
     "output_type": "stream",
     "text": [
      "WARNING:fabio.TiffIO:Data at tag id '65000' is smaller than expected\n",
      "WARNING:fabio.TiffIO:Data at tag id '65000' is smaller than expected\n",
      "WARNING:fabio.TiffIO:Data at tag id '65000' is smaller than expected\n",
      "WARNING:fabio.TiffIO:Data at tag id '65000' is smaller than expected\n",
      "WARNING:fabio.TiffIO:Data at tag id '65000' is smaller than expected\n",
      "WARNING:fabio.TiffIO:Data at tag id '65000' is smaller than expected\n"
     ]
    },
    {
     "name": "stdout",
     "output_type": "stream",
     "text": [
      "LR_AcidPEDOTPSS_NaCl_pos1_2477.00eV_ai0.80_wa0_bpm109.777_id22268_000000_WAXS.tif\n"
     ]
    },
    {
     "name": "stderr",
     "output_type": "stream",
     "text": [
      "WARNING:fabio.TiffIO:Data at tag id '65000' is smaller than expected\n",
      "WARNING:fabio.TiffIO:Data at tag id '65000' is smaller than expected\n",
      "WARNING:fabio.TiffIO:Data at tag id '65000' is smaller than expected\n",
      "WARNING:fabio.TiffIO:Data at tag id '65000' is smaller than expected\n",
      "WARNING:fabio.TiffIO:Data at tag id '65000' is smaller than expected\n",
      "WARNING:fabio.TiffIO:Data at tag id '65000' is smaller than expected\n"
     ]
    },
    {
     "name": "stdout",
     "output_type": "stream",
     "text": [
      "LR_LiTFSI_PEDOTPSS_0V_pos1_2473.00eV_ai0.80_wa0_bpm109.908_id23732_000000_WAXS.tif\n"
     ]
    },
    {
     "name": "stderr",
     "output_type": "stream",
     "text": [
      "WARNING:fabio.TiffIO:Data at tag id '65000' is smaller than expected\n",
      "WARNING:fabio.TiffIO:Data at tag id '65000' is smaller than expected\n",
      "WARNING:fabio.TiffIO:Data at tag id '65000' is smaller than expected\n",
      "WARNING:fabio.TiffIO:Data at tag id '65000' is smaller than expected\n",
      "WARNING:fabio.TiffIO:Data at tag id '65000' is smaller than expected\n",
      "WARNING:fabio.TiffIO:Data at tag id '65000' is smaller than expected\n"
     ]
    },
    {
     "name": "stdout",
     "output_type": "stream",
     "text": [
      "LR_AcidPEDOTPSS_RbCl_pos2_2492.50eV_ai0.80_wa0_bpm13.054_id22515_000000_WAXS.tif\n"
     ]
    },
    {
     "name": "stderr",
     "output_type": "stream",
     "text": [
      "WARNING:fabio.TiffIO:Data at tag id '65000' is smaller than expected\n",
      "WARNING:fabio.TiffIO:Data at tag id '65000' is smaller than expected\n",
      "WARNING:fabio.TiffIO:Data at tag id '65000' is smaller than expected\n",
      "WARNING:fabio.TiffIO:Data at tag id '65000' is smaller than expected\n",
      "WARNING:fabio.TiffIO:Data at tag id '65000' is smaller than expected\n",
      "WARNING:fabio.TiffIO:Data at tag id '65000' is smaller than expected\n"
     ]
    },
    {
     "name": "stdout",
     "output_type": "stream",
     "text": [
      "LR_LiTFSI_PEDOTPSS_redoped_0V_pos2_2473.00eV_ai0.80_wa0_bpm12.662_id24001_000000_WAXS.tif\n"
     ]
    },
    {
     "name": "stderr",
     "output_type": "stream",
     "text": [
      "WARNING:fabio.TiffIO:Data at tag id '65000' is smaller than expected\n",
      "WARNING:fabio.TiffIO:Data at tag id '65000' is smaller than expected\n",
      "WARNING:fabio.TiffIO:Data at tag id '65000' is smaller than expected\n",
      "WARNING:fabio.TiffIO:Data at tag id '65000' is smaller than expected\n",
      "WARNING:fabio.TiffIO:Data at tag id '65000' is smaller than expected\n",
      "WARNING:fabio.TiffIO:Data at tag id '65000' is smaller than expected\n"
     ]
    },
    {
     "name": "stdout",
     "output_type": "stream",
     "text": [
      "LR_P3MEEMT23k115C_un_pos2_2479.00eV_ai0.80_wa0_bpm12.712_id23314_000000_WAXS.tif\n"
     ]
    },
    {
     "name": "stderr",
     "output_type": "stream",
     "text": [
      "WARNING:fabio.TiffIO:Data at tag id '65000' is smaller than expected\n",
      "WARNING:fabio.TiffIO:Data at tag id '65000' is smaller than expected\n",
      "WARNING:fabio.TiffIO:Data at tag id '65000' is smaller than expected\n",
      "WARNING:fabio.TiffIO:Data at tag id '65000' is smaller than expected\n",
      "WARNING:fabio.TiffIO:Data at tag id '65000' is smaller than expected\n",
      "WARNING:fabio.TiffIO:Data at tag id '65000' is smaller than expected\n"
     ]
    },
    {
     "name": "stdout",
     "output_type": "stream",
     "text": [
      "LR_LiTFSI_PEDOTPSS_0V_pos2_2480.50eV_ai0.80_wa0_bpm12.774_id23763_000000_WAXS.tif\n"
     ]
    },
    {
     "name": "stderr",
     "output_type": "stream",
     "text": [
      "WARNING:fabio.TiffIO:Data at tag id '65000' is smaller than expected\n",
      "WARNING:fabio.TiffIO:Data at tag id '65000' is smaller than expected\n",
      "WARNING:fabio.TiffIO:Data at tag id '65000' is smaller than expected\n",
      "WARNING:fabio.TiffIO:Data at tag id '65000' is smaller than expected\n",
      "WARNING:fabio.TiffIO:Data at tag id '65000' is smaller than expected\n",
      "WARNING:fabio.TiffIO:Data at tag id '65000' is smaller than expected\n"
     ]
    },
    {
     "name": "stdout",
     "output_type": "stream",
     "text": [
      "LR_AcidPEDOTPSS_NaCl_pos1_2485.00eV_ai0.80_wa0_bpm109.883_id22277_000000_WAXS.tif\n"
     ]
    },
    {
     "name": "stderr",
     "output_type": "stream",
     "text": [
      "WARNING:fabio.TiffIO:Data at tag id '65000' is smaller than expected\n",
      "WARNING:fabio.TiffIO:Data at tag id '65000' is smaller than expected\n",
      "WARNING:fabio.TiffIO:Data at tag id '65000' is smaller than expected\n",
      "WARNING:fabio.TiffIO:Data at tag id '65000' is smaller than expected\n",
      "WARNING:fabio.TiffIO:Data at tag id '65000' is smaller than expected\n",
      "WARNING:fabio.TiffIO:Data at tag id '65000' is smaller than expected\n"
     ]
    },
    {
     "name": "stdout",
     "output_type": "stream",
     "text": [
      "LR_LiTFSI_PEDOTPSS_dedoped_n0p6_pos2_2450.00eV_ai0.80_wa0_bpm12.542_id23893_000000_WAXS.tif\n"
     ]
    },
    {
     "name": "stderr",
     "output_type": "stream",
     "text": [
      "WARNING:fabio.TiffIO:Data at tag id '65000' is smaller than expected\n",
      "WARNING:fabio.TiffIO:Data at tag id '65000' is smaller than expected\n",
      "WARNING:fabio.TiffIO:Data at tag id '65000' is smaller than expected\n",
      "WARNING:fabio.TiffIO:Data at tag id '65000' is smaller than expected\n",
      "WARNING:fabio.TiffIO:Data at tag id '65000' is smaller than expected\n",
      "WARNING:fabio.TiffIO:Data at tag id '65000' is smaller than expected\n"
     ]
    },
    {
     "name": "stdout",
     "output_type": "stream",
     "text": [
      "LR_RivnayFrit_P3MEEET_drop_pos2_2450.00eV_ai0.80_wa0_bpm12.545_id23441_000000_WAXS.tif\n"
     ]
    },
    {
     "name": "stderr",
     "output_type": "stream",
     "text": [
      "WARNING:fabio.TiffIO:Data at tag id '65000' is smaller than expected\n",
      "WARNING:fabio.TiffIO:Data at tag id '65000' is smaller than expected\n",
      "WARNING:fabio.TiffIO:Data at tag id '65000' is smaller than expected\n",
      "WARNING:fabio.TiffIO:Data at tag id '65000' is smaller than expected\n",
      "WARNING:fabio.TiffIO:Data at tag id '65000' is smaller than expected\n",
      "WARNING:fabio.TiffIO:Data at tag id '65000' is smaller than expected\n"
     ]
    },
    {
     "name": "stdout",
     "output_type": "stream",
     "text": [
      "LR_AcidPEDOTPSS_exposed_pos2_2483.00eV_ai0.80_wa0_bpm12.898_id21841_000000_WAXS.tif\n"
     ]
    },
    {
     "name": "stderr",
     "output_type": "stream",
     "text": [
      "WARNING:fabio.TiffIO:Data at tag id '65000' is smaller than expected\n",
      "WARNING:fabio.TiffIO:Data at tag id '65000' is smaller than expected\n",
      "WARNING:fabio.TiffIO:Data at tag id '65000' is smaller than expected\n",
      "WARNING:fabio.TiffIO:Data at tag id '65000' is smaller than expected\n",
      "WARNING:fabio.TiffIO:Data at tag id '65000' is smaller than expected\n",
      "WARNING:fabio.TiffIO:Data at tag id '65000' is smaller than expected\n"
     ]
    },
    {
     "name": "stdout",
     "output_type": "stream",
     "text": [
      "LR_AcidPEDOTPSS_RbBr_pos1_2515.00eV_ai0.80_wa0_bpm110.328_id22623_000000_WAXS.tif\n"
     ]
    },
    {
     "name": "stderr",
     "output_type": "stream",
     "text": [
      "WARNING:fabio.TiffIO:Data at tag id '65000' is smaller than expected\n",
      "WARNING:fabio.TiffIO:Data at tag id '65000' is smaller than expected\n",
      "WARNING:fabio.TiffIO:Data at tag id '65000' is smaller than expected\n",
      "WARNING:fabio.TiffIO:Data at tag id '65000' is smaller than expected\n",
      "WARNING:fabio.TiffIO:Data at tag id '65000' is smaller than expected\n",
      "WARNING:fabio.TiffIO:Data at tag id '65000' is smaller than expected\n"
     ]
    },
    {
     "name": "stdout",
     "output_type": "stream",
     "text": [
      "LR_AcidPEDOTPSS_0V_pos1_2475.00eV_ai0.80_wa0_bpm110.157_id21925_000000_WAXS.tif\n"
     ]
    },
    {
     "name": "stderr",
     "output_type": "stream",
     "text": [
      "WARNING:fabio.TiffIO:Data at tag id '65000' is smaller than expected\n",
      "WARNING:fabio.TiffIO:Data at tag id '65000' is smaller than expected\n",
      "WARNING:fabio.TiffIO:Data at tag id '65000' is smaller than expected\n",
      "WARNING:fabio.TiffIO:Data at tag id '65000' is smaller than expected\n",
      "WARNING:fabio.TiffIO:Data at tag id '65000' is smaller than expected\n",
      "WARNING:fabio.TiffIO:Data at tag id '65000' is smaller than expected\n"
     ]
    },
    {
     "name": "stdout",
     "output_type": "stream",
     "text": [
      "LR_AcidPEDOTPSS_dedope_n0p6_pos2_2455.00eV_ai0.80_wa0_bpm12.659_id22084_000000_WAXS.tif\n"
     ]
    },
    {
     "name": "stderr",
     "output_type": "stream",
     "text": [
      "WARNING:fabio.TiffIO:Data at tag id '65000' is smaller than expected\n",
      "WARNING:fabio.TiffIO:Data at tag id '65000' is smaller than expected\n",
      "WARNING:fabio.TiffIO:Data at tag id '65000' is smaller than expected\n",
      "WARNING:fabio.TiffIO:Data at tag id '65000' is smaller than expected\n",
      "WARNING:fabio.TiffIO:Data at tag id '65000' is smaller than expected\n",
      "WARNING:fabio.TiffIO:Data at tag id '65000' is smaller than expected\n"
     ]
    },
    {
     "name": "stdout",
     "output_type": "stream",
     "text": [
      "LR_StandardPEDOTPSS_RbBr_pos1_2476.50eV_ai0.80_wa0_bpm109.274_id22832_000000_WAXS.tif\n"
     ]
    },
    {
     "name": "stderr",
     "output_type": "stream",
     "text": [
      "WARNING:fabio.TiffIO:Data at tag id '65000' is smaller than expected\n",
      "WARNING:fabio.TiffIO:Data at tag id '65000' is smaller than expected\n",
      "WARNING:fabio.TiffIO:Data at tag id '65000' is smaller than expected\n",
      "WARNING:fabio.TiffIO:Data at tag id '65000' is smaller than expected\n",
      "WARNING:fabio.TiffIO:Data at tag id '65000' is smaller than expected\n",
      "WARNING:fabio.TiffIO:Data at tag id '65000' is smaller than expected\n"
     ]
    },
    {
     "name": "stdout",
     "output_type": "stream",
     "text": [
      "LR_P3MEEMT23k115C_0p7_KTFSI_pos2_2480.00eV_ai0.80_wa0_bpm12.769_id23086_000000_WAXS.tif\n"
     ]
    },
    {
     "name": "stderr",
     "output_type": "stream",
     "text": [
      "WARNING:fabio.TiffIO:Data at tag id '65000' is smaller than expected\n",
      "WARNING:fabio.TiffIO:Data at tag id '65000' is smaller than expected\n",
      "WARNING:fabio.TiffIO:Data at tag id '65000' is smaller than expected\n",
      "WARNING:fabio.TiffIO:Data at tag id '65000' is smaller than expected\n",
      "WARNING:fabio.TiffIO:Data at tag id '65000' is smaller than expected\n",
      "WARNING:fabio.TiffIO:Data at tag id '65000' is smaller than expected\n"
     ]
    },
    {
     "name": "stdout",
     "output_type": "stream",
     "text": [
      "LR_LiTFSI_PEDOTPSS_RbBr_pos2_2478.50eV_ai0.80_wa0_bpm12.748_id24219_000000_WAXS.tif\n"
     ]
    },
    {
     "name": "stderr",
     "output_type": "stream",
     "text": [
      "WARNING:fabio.TiffIO:Data at tag id '65000' is smaller than expected\n",
      "WARNING:fabio.TiffIO:Data at tag id '65000' is smaller than expected\n",
      "WARNING:fabio.TiffIO:Data at tag id '65000' is smaller than expected\n",
      "WARNING:fabio.TiffIO:Data at tag id '65000' is smaller than expected\n",
      "WARNING:fabio.TiffIO:Data at tag id '65000' is smaller than expected\n",
      "WARNING:fabio.TiffIO:Data at tag id '65000' is smaller than expected\n"
     ]
    },
    {
     "name": "stdout",
     "output_type": "stream",
     "text": [
      "LR_P3MEEMT23k115C_0p4_KTFSI_pos2_2495.00eV_ai0.80_wa0_bpm13.087_id23192_000000_WAXS.tif\n"
     ]
    },
    {
     "name": "stderr",
     "output_type": "stream",
     "text": [
      "WARNING:fabio.TiffIO:Data at tag id '65000' is smaller than expected\n",
      "WARNING:fabio.TiffIO:Data at tag id '65000' is smaller than expected\n",
      "WARNING:fabio.TiffIO:Data at tag id '65000' is smaller than expected\n",
      "WARNING:fabio.TiffIO:Data at tag id '65000' is smaller than expected\n",
      "WARNING:fabio.TiffIO:Data at tag id '65000' is smaller than expected\n",
      "WARNING:fabio.TiffIO:Data at tag id '65000' is smaller than expected\n"
     ]
    },
    {
     "name": "stdout",
     "output_type": "stream",
     "text": [
      "LR_AcidPEDOTPSS_RbBr_pos2_2515.00eV_ai0.80_wa0_bpm13.491_id22624_000000_WAXS.tif\n"
     ]
    },
    {
     "name": "stderr",
     "output_type": "stream",
     "text": [
      "WARNING:fabio.TiffIO:Data at tag id '65000' is smaller than expected\n",
      "WARNING:fabio.TiffIO:Data at tag id '65000' is smaller than expected\n",
      "WARNING:fabio.TiffIO:Data at tag id '65000' is smaller than expected\n",
      "WARNING:fabio.TiffIO:Data at tag id '65000' is smaller than expected\n",
      "WARNING:fabio.TiffIO:Data at tag id '65000' is smaller than expected\n",
      "WARNING:fabio.TiffIO:Data at tag id '65000' is smaller than expected\n"
     ]
    },
    {
     "name": "stdout",
     "output_type": "stream",
     "text": [
      "LR_LiTFSI_PEDOTPSS_redoped_0V_pos1_2476.50eV_ai0.80_wa0_bpm109.186_id23962_000000_WAXS.tif\n"
     ]
    },
    {
     "name": "stderr",
     "output_type": "stream",
     "text": [
      "WARNING:fabio.TiffIO:Data at tag id '65000' is smaller than expected\n",
      "WARNING:fabio.TiffIO:Data at tag id '65000' is smaller than expected\n",
      "WARNING:fabio.TiffIO:Data at tag id '65000' is smaller than expected\n",
      "WARNING:fabio.TiffIO:Data at tag id '65000' is smaller than expected\n",
      "WARNING:fabio.TiffIO:Data at tag id '65000' is smaller than expected\n",
      "WARNING:fabio.TiffIO:Data at tag id '65000' is smaller than expected\n"
     ]
    },
    {
     "name": "stdout",
     "output_type": "stream",
     "text": [
      "LR_LiTFSI_PEDOTPSS_exposed_pos2_2500.00eV_ai0.80_wa0_bpm13.198_id23643_000000_WAXS.tif\n"
     ]
    },
    {
     "name": "stderr",
     "output_type": "stream",
     "text": [
      "WARNING:fabio.TiffIO:Data at tag id '65000' is smaller than expected\n",
      "WARNING:fabio.TiffIO:Data at tag id '65000' is smaller than expected\n",
      "WARNING:fabio.TiffIO:Data at tag id '65000' is smaller than expected\n",
      "WARNING:fabio.TiffIO:Data at tag id '65000' is smaller than expected\n",
      "WARNING:fabio.TiffIO:Data at tag id '65000' is smaller than expected\n",
      "WARNING:fabio.TiffIO:Data at tag id '65000' is smaller than expected\n"
     ]
    },
    {
     "name": "stdout",
     "output_type": "stream",
     "text": [
      "LR_LiTFSI_PEDOTPSS_overdoped_p0p6V_pos2_2476.00eV_ai0.80_wa0_bpm12.723_id24111_000000_WAXS.tif\n"
     ]
    },
    {
     "name": "stderr",
     "output_type": "stream",
     "text": [
      "WARNING:fabio.TiffIO:Data at tag id '65000' is smaller than expected\n",
      "WARNING:fabio.TiffIO:Data at tag id '65000' is smaller than expected\n",
      "WARNING:fabio.TiffIO:Data at tag id '65000' is smaller than expected\n",
      "WARNING:fabio.TiffIO:Data at tag id '65000' is smaller than expected\n",
      "WARNING:fabio.TiffIO:Data at tag id '65000' is smaller than expected\n",
      "WARNING:fabio.TiffIO:Data at tag id '65000' is smaller than expected\n"
     ]
    },
    {
     "name": "stdout",
     "output_type": "stream",
     "text": [
      "LR_LiTFSI_PEDOTPSS_0V_pos1_2478.50eV_ai0.80_wa0_bpm109.624_id23740_000000_WAXS.tif\n"
     ]
    },
    {
     "name": "stderr",
     "output_type": "stream",
     "text": [
      "WARNING:fabio.TiffIO:Data at tag id '65000' is smaller than expected\n",
      "WARNING:fabio.TiffIO:Data at tag id '65000' is smaller than expected\n",
      "WARNING:fabio.TiffIO:Data at tag id '65000' is smaller than expected\n",
      "WARNING:fabio.TiffIO:Data at tag id '65000' is smaller than expected\n",
      "WARNING:fabio.TiffIO:Data at tag id '65000' is smaller than expected\n",
      "WARNING:fabio.TiffIO:Data at tag id '65000' is smaller than expected\n"
     ]
    },
    {
     "name": "stdout",
     "output_type": "stream",
     "text": [
      "LR_AcidPEDOTPSS_NaCl_pos2_2479.00eV_ai0.80_wa0_bpm12.786_id22297_000000_WAXS.tif\n"
     ]
    },
    {
     "name": "stderr",
     "output_type": "stream",
     "text": [
      "WARNING:fabio.TiffIO:Data at tag id '65000' is smaller than expected\n",
      "WARNING:fabio.TiffIO:Data at tag id '65000' is smaller than expected\n",
      "WARNING:fabio.TiffIO:Data at tag id '65000' is smaller than expected\n",
      "WARNING:fabio.TiffIO:Data at tag id '65000' is smaller than expected\n",
      "WARNING:fabio.TiffIO:Data at tag id '65000' is smaller than expected\n",
      "WARNING:fabio.TiffIO:Data at tag id '65000' is smaller than expected\n"
     ]
    },
    {
     "name": "stdout",
     "output_type": "stream",
     "text": [
      "LR_StandardPEDOTPSS_RbBr_pos2_2479.00eV_ai0.80_wa0_bpm12.763_id22862_000000_WAXS.tif\n"
     ]
    },
    {
     "name": "stderr",
     "output_type": "stream",
     "text": [
      "WARNING:fabio.TiffIO:Data at tag id '65000' is smaller than expected\n",
      "WARNING:fabio.TiffIO:Data at tag id '65000' is smaller than expected\n",
      "WARNING:fabio.TiffIO:Data at tag id '65000' is smaller than expected\n",
      "WARNING:fabio.TiffIO:Data at tag id '65000' is smaller than expected\n",
      "WARNING:fabio.TiffIO:Data at tag id '65000' is smaller than expected\n",
      "WARNING:fabio.TiffIO:Data at tag id '65000' is smaller than expected\n"
     ]
    },
    {
     "name": "stdout",
     "output_type": "stream",
     "text": [
      "LR_P3MEEMT23k115C_0p7_KTFSI_pos1_2490.00eV_ai0.80_wa0_bpm109.591_id23070_000000_WAXS.tif\n"
     ]
    },
    {
     "name": "stderr",
     "output_type": "stream",
     "text": [
      "WARNING:fabio.TiffIO:Data at tag id '65000' is smaller than expected\n",
      "WARNING:fabio.TiffIO:Data at tag id '65000' is smaller than expected\n",
      "WARNING:fabio.TiffIO:Data at tag id '65000' is smaller than expected\n",
      "WARNING:fabio.TiffIO:Data at tag id '65000' is smaller than expected\n",
      "WARNING:fabio.TiffIO:Data at tag id '65000' is smaller than expected\n",
      "WARNING:fabio.TiffIO:Data at tag id '65000' is smaller than expected\n"
     ]
    },
    {
     "name": "stdout",
     "output_type": "stream",
     "text": [
      "LR_AcidPEDOTPSS_overdope_p0p6_pos1_2480.50eV_ai0.80_wa0_bpm110.119_id22162_000000_WAXS.tif\n"
     ]
    },
    {
     "name": "stderr",
     "output_type": "stream",
     "text": [
      "WARNING:fabio.TiffIO:Data at tag id '65000' is smaller than expected\n",
      "WARNING:fabio.TiffIO:Data at tag id '65000' is smaller than expected\n",
      "WARNING:fabio.TiffIO:Data at tag id '65000' is smaller than expected\n",
      "WARNING:fabio.TiffIO:Data at tag id '65000' is smaller than expected\n",
      "WARNING:fabio.TiffIO:Data at tag id '65000' is smaller than expected\n",
      "WARNING:fabio.TiffIO:Data at tag id '65000' is smaller than expected\n"
     ]
    },
    {
     "name": "stdout",
     "output_type": "stream",
     "text": [
      "LR_AcidPEDOTPSS_dedope_n0p6_pos2_2476.00eV_ai0.80_wa0_bpm12.760_id22077_000000_WAXS.tif\n"
     ]
    },
    {
     "name": "stderr",
     "output_type": "stream",
     "text": [
      "WARNING:fabio.TiffIO:Data at tag id '65000' is smaller than expected\n",
      "WARNING:fabio.TiffIO:Data at tag id '65000' is smaller than expected\n",
      "WARNING:fabio.TiffIO:Data at tag id '65000' is smaller than expected\n",
      "WARNING:fabio.TiffIO:Data at tag id '65000' is smaller than expected\n",
      "WARNING:fabio.TiffIO:Data at tag id '65000' is smaller than expected\n",
      "WARNING:fabio.TiffIO:Data at tag id '65000' is smaller than expected\n"
     ]
    },
    {
     "name": "stdout",
     "output_type": "stream",
     "text": [
      "LR_LiTFSI_PEDOTPSS_redoped_0V_pos2_2478.00eV_ai0.80_wa0_bpm12.703_id23994_000000_WAXS.tif\n"
     ]
    },
    {
     "name": "stderr",
     "output_type": "stream",
     "text": [
      "WARNING:fabio.TiffIO:Data at tag id '65000' is smaller than expected\n",
      "WARNING:fabio.TiffIO:Data at tag id '65000' is smaller than expected\n",
      "WARNING:fabio.TiffIO:Data at tag id '65000' is smaller than expected\n",
      "WARNING:fabio.TiffIO:Data at tag id '65000' is smaller than expected\n",
      "WARNING:fabio.TiffIO:Data at tag id '65000' is smaller than expected\n",
      "WARNING:fabio.TiffIO:Data at tag id '65000' is smaller than expected\n"
     ]
    },
    {
     "name": "stdout",
     "output_type": "stream",
     "text": [
      "LR_AcidPEDOTPSS_RbBr_pos1_2470.00eV_ai0.80_wa0_bpm109.774_id22601_000000_WAXS.tif\n"
     ]
    },
    {
     "name": "stderr",
     "output_type": "stream",
     "text": [
      "WARNING:fabio.TiffIO:Data at tag id '65000' is smaller than expected\n",
      "WARNING:fabio.TiffIO:Data at tag id '65000' is smaller than expected\n",
      "WARNING:fabio.TiffIO:Data at tag id '65000' is smaller than expected\n",
      "WARNING:fabio.TiffIO:Data at tag id '65000' is smaller than expected\n",
      "WARNING:fabio.TiffIO:Data at tag id '65000' is smaller than expected\n",
      "WARNING:fabio.TiffIO:Data at tag id '65000' is smaller than expected\n"
     ]
    },
    {
     "name": "stdout",
     "output_type": "stream",
     "text": [
      "LR_AcidPEDOTPSS_as_pos1_2477.00eV_ai0.80_wa0_bpm110.303_id21703_000000_WAXS.tif\n"
     ]
    },
    {
     "name": "stderr",
     "output_type": "stream",
     "text": [
      "WARNING:fabio.TiffIO:Data at tag id '65000' is smaller than expected\n",
      "WARNING:fabio.TiffIO:Data at tag id '65000' is smaller than expected\n",
      "WARNING:fabio.TiffIO:Data at tag id '65000' is smaller than expected\n",
      "WARNING:fabio.TiffIO:Data at tag id '65000' is smaller than expected\n",
      "WARNING:fabio.TiffIO:Data at tag id '65000' is smaller than expected\n",
      "WARNING:fabio.TiffIO:Data at tag id '65000' is smaller than expected\n"
     ]
    },
    {
     "name": "stdout",
     "output_type": "stream",
     "text": [
      "LR_AcidPEDOTPSS_RbCl_pos1_2495.00eV_ai0.80_wa0_bpm110.139_id22507_000000_WAXS.tif\n"
     ]
    },
    {
     "name": "stderr",
     "output_type": "stream",
     "text": [
      "WARNING:fabio.TiffIO:Data at tag id '65000' is smaller than expected\n",
      "WARNING:fabio.TiffIO:Data at tag id '65000' is smaller than expected\n",
      "WARNING:fabio.TiffIO:Data at tag id '65000' is smaller than expected\n",
      "WARNING:fabio.TiffIO:Data at tag id '65000' is smaller than expected\n",
      "WARNING:fabio.TiffIO:Data at tag id '65000' is smaller than expected\n",
      "WARNING:fabio.TiffIO:Data at tag id '65000' is smaller than expected\n"
     ]
    },
    {
     "name": "stdout",
     "output_type": "stream",
     "text": [
      "LR_RivnayFrit_P3MEEET_drop_pos1_2460.00eV_ai0.80_wa0_bpm109.803_id23390_000000_WAXS.tif\n"
     ]
    },
    {
     "name": "stderr",
     "output_type": "stream",
     "text": [
      "WARNING:fabio.TiffIO:Data at tag id '65000' is smaller than expected\n",
      "WARNING:fabio.TiffIO:Data at tag id '65000' is smaller than expected\n",
      "WARNING:fabio.TiffIO:Data at tag id '65000' is smaller than expected\n",
      "WARNING:fabio.TiffIO:Data at tag id '65000' is smaller than expected\n",
      "WARNING:fabio.TiffIO:Data at tag id '65000' is smaller than expected\n",
      "WARNING:fabio.TiffIO:Data at tag id '65000' is smaller than expected\n"
     ]
    },
    {
     "name": "stdout",
     "output_type": "stream",
     "text": [
      "LR_LiTFSI_PEDOTPSS_dedoped_n0p6_pos2_2477.00eV_ai0.80_wa0_bpm12.650_id23883_000000_WAXS.tif\n"
     ]
    },
    {
     "name": "stderr",
     "output_type": "stream",
     "text": [
      "WARNING:fabio.TiffIO:Data at tag id '65000' is smaller than expected\n",
      "WARNING:fabio.TiffIO:Data at tag id '65000' is smaller than expected\n",
      "WARNING:fabio.TiffIO:Data at tag id '65000' is smaller than expected\n",
      "WARNING:fabio.TiffIO:Data at tag id '65000' is smaller than expected\n",
      "WARNING:fabio.TiffIO:Data at tag id '65000' is smaller than expected\n",
      "WARNING:fabio.TiffIO:Data at tag id '65000' is smaller than expected\n"
     ]
    },
    {
     "name": "stdout",
     "output_type": "stream",
     "text": [
      "LR_LiTFSI_PEDOTPSS_redoped_0V_pos1_2490.00eV_ai0.80_wa0_bpm109.771_id23974_000000_WAXS.tif\n"
     ]
    },
    {
     "name": "stderr",
     "output_type": "stream",
     "text": [
      "WARNING:fabio.TiffIO:Data at tag id '65000' is smaller than expected\n",
      "WARNING:fabio.TiffIO:Data at tag id '65000' is smaller than expected\n",
      "WARNING:fabio.TiffIO:Data at tag id '65000' is smaller than expected\n",
      "WARNING:fabio.TiffIO:Data at tag id '65000' is smaller than expected\n",
      "WARNING:fabio.TiffIO:Data at tag id '65000' is smaller than expected\n",
      "WARNING:fabio.TiffIO:Data at tag id '65000' is smaller than expected\n"
     ]
    },
    {
     "name": "stdout",
     "output_type": "stream",
     "text": [
      "LR_StandardPEDOTPSS_as_pos2_2495.00eV_ai0.80_wa0_bpm13.099_id22740_000000_WAXS.tif\n"
     ]
    },
    {
     "name": "stderr",
     "output_type": "stream",
     "text": [
      "WARNING:fabio.TiffIO:Data at tag id '65000' is smaller than expected\n",
      "WARNING:fabio.TiffIO:Data at tag id '65000' is smaller than expected\n",
      "WARNING:fabio.TiffIO:Data at tag id '65000' is smaller than expected\n",
      "WARNING:fabio.TiffIO:Data at tag id '65000' is smaller than expected\n",
      "WARNING:fabio.TiffIO:Data at tag id '65000' is smaller than expected\n",
      "WARNING:fabio.TiffIO:Data at tag id '65000' is smaller than expected\n"
     ]
    },
    {
     "name": "stdout",
     "output_type": "stream",
     "text": [
      "LR_LiTFSI_PEDOTPSS_exposed_pos2_2495.00eV_ai0.80_wa0_bpm13.098_id23644_000000_WAXS.tif\n"
     ]
    },
    {
     "name": "stderr",
     "output_type": "stream",
     "text": [
      "WARNING:fabio.TiffIO:Data at tag id '65000' is smaller than expected\n",
      "WARNING:fabio.TiffIO:Data at tag id '65000' is smaller than expected\n",
      "WARNING:fabio.TiffIO:Data at tag id '65000' is smaller than expected\n",
      "WARNING:fabio.TiffIO:Data at tag id '65000' is smaller than expected\n",
      "WARNING:fabio.TiffIO:Data at tag id '65000' is smaller than expected\n",
      "WARNING:fabio.TiffIO:Data at tag id '65000' is smaller than expected\n"
     ]
    },
    {
     "name": "stdout",
     "output_type": "stream",
     "text": [
      "LR_LiTFSI_PEDOTPSS_RbBr_pos2_2479.00eV_ai0.80_wa0_bpm12.758_id24218_000000_WAXS.tif\n"
     ]
    },
    {
     "name": "stderr",
     "output_type": "stream",
     "text": [
      "WARNING:fabio.TiffIO:Data at tag id '65000' is smaller than expected\n",
      "WARNING:fabio.TiffIO:Data at tag id '65000' is smaller than expected\n",
      "WARNING:fabio.TiffIO:Data at tag id '65000' is smaller than expected\n",
      "WARNING:fabio.TiffIO:Data at tag id '65000' is smaller than expected\n",
      "WARNING:fabio.TiffIO:Data at tag id '65000' is smaller than expected\n",
      "WARNING:fabio.TiffIO:Data at tag id '65000' is smaller than expected\n"
     ]
    },
    {
     "name": "stdout",
     "output_type": "stream",
     "text": [
      "LR_AcidPEDOTPSS_overdope_p0p6_pos1_2476.00eV_ai0.80_wa0_bpm109.813_id22153_000000_WAXS.tif\n"
     ]
    },
    {
     "name": "stderr",
     "output_type": "stream",
     "text": [
      "WARNING:fabio.TiffIO:Data at tag id '65000' is smaller than expected\n",
      "WARNING:fabio.TiffIO:Data at tag id '65000' is smaller than expected\n",
      "WARNING:fabio.TiffIO:Data at tag id '65000' is smaller than expected\n",
      "WARNING:fabio.TiffIO:Data at tag id '65000' is smaller than expected\n",
      "WARNING:fabio.TiffIO:Data at tag id '65000' is smaller than expected\n",
      "WARNING:fabio.TiffIO:Data at tag id '65000' is smaller than expected\n"
     ]
    },
    {
     "name": "stdout",
     "output_type": "stream",
     "text": [
      "LR_AcidPEDOTPSS_RbBr_pos1_2476.50eV_ai0.80_wa0_bpm109.679_id22606_000000_WAXS.tif\n"
     ]
    },
    {
     "name": "stderr",
     "output_type": "stream",
     "text": [
      "WARNING:fabio.TiffIO:Data at tag id '65000' is smaller than expected\n",
      "WARNING:fabio.TiffIO:Data at tag id '65000' is smaller than expected\n",
      "WARNING:fabio.TiffIO:Data at tag id '65000' is smaller than expected\n",
      "WARNING:fabio.TiffIO:Data at tag id '65000' is smaller than expected\n",
      "WARNING:fabio.TiffIO:Data at tag id '65000' is smaller than expected\n",
      "WARNING:fabio.TiffIO:Data at tag id '65000' is smaller than expected\n"
     ]
    },
    {
     "name": "stdout",
     "output_type": "stream",
     "text": [
      "LR_LiTFSI_PEDOTPSS_RbBr_pos1_2500.00eV_ai0.80_wa0_bpm109.268_id24203_000000_WAXS.tif\n"
     ]
    },
    {
     "name": "stderr",
     "output_type": "stream",
     "text": [
      "WARNING:fabio.TiffIO:Data at tag id '65000' is smaller than expected\n",
      "WARNING:fabio.TiffIO:Data at tag id '65000' is smaller than expected\n",
      "WARNING:fabio.TiffIO:Data at tag id '65000' is smaller than expected\n",
      "WARNING:fabio.TiffIO:Data at tag id '65000' is smaller than expected\n",
      "WARNING:fabio.TiffIO:Data at tag id '65000' is smaller than expected\n",
      "WARNING:fabio.TiffIO:Data at tag id '65000' is smaller than expected\n"
     ]
    },
    {
     "name": "stdout",
     "output_type": "stream",
     "text": [
      "LR_AcidPEDOTPSS_RbCl_pos2_2460.00eV_ai0.80_wa0_bpm12.652_id22535_000000_WAXS.tif\n"
     ]
    },
    {
     "name": "stderr",
     "output_type": "stream",
     "text": [
      "WARNING:fabio.TiffIO:Data at tag id '65000' is smaller than expected\n",
      "WARNING:fabio.TiffIO:Data at tag id '65000' is smaller than expected\n",
      "WARNING:fabio.TiffIO:Data at tag id '65000' is smaller than expected\n",
      "WARNING:fabio.TiffIO:Data at tag id '65000' is smaller than expected\n",
      "WARNING:fabio.TiffIO:Data at tag id '65000' is smaller than expected\n",
      "WARNING:fabio.TiffIO:Data at tag id '65000' is smaller than expected\n"
     ]
    },
    {
     "name": "stdout",
     "output_type": "stream",
     "text": [
      "LR_StandardPEDOTPSS_as_pos2_2455.00eV_ai0.80_wa0_bpm12.613_id22762_000000_WAXS.tif\n"
     ]
    },
    {
     "name": "stderr",
     "output_type": "stream",
     "text": [
      "WARNING:fabio.TiffIO:Data at tag id '65000' is smaller than expected\n",
      "WARNING:fabio.TiffIO:Data at tag id '65000' is smaller than expected\n",
      "WARNING:fabio.TiffIO:Data at tag id '65000' is smaller than expected\n",
      "WARNING:fabio.TiffIO:Data at tag id '65000' is smaller than expected\n",
      "WARNING:fabio.TiffIO:Data at tag id '65000' is smaller than expected\n",
      "WARNING:fabio.TiffIO:Data at tag id '65000' is smaller than expected\n"
     ]
    },
    {
     "name": "stdout",
     "output_type": "stream",
     "text": [
      "LR_AcidPEDOTPSS_as_pos1_2479.50eV_ai0.80_wa0_bpm110.769_id21708_000000_WAXS.tif\n"
     ]
    },
    {
     "name": "stderr",
     "output_type": "stream",
     "text": [
      "WARNING:fabio.TiffIO:Data at tag id '65000' is smaller than expected\n",
      "WARNING:fabio.TiffIO:Data at tag id '65000' is smaller than expected\n",
      "WARNING:fabio.TiffIO:Data at tag id '65000' is smaller than expected\n",
      "WARNING:fabio.TiffIO:Data at tag id '65000' is smaller than expected\n",
      "WARNING:fabio.TiffIO:Data at tag id '65000' is smaller than expected\n",
      "WARNING:fabio.TiffIO:Data at tag id '65000' is smaller than expected\n"
     ]
    },
    {
     "name": "stdout",
     "output_type": "stream",
     "text": [
      "LR_AcidPEDOTPSS_RbBr_pos1_2455.00eV_ai0.80_wa0_bpm110.487_id22598_000000_WAXS.tif\n"
     ]
    },
    {
     "name": "stderr",
     "output_type": "stream",
     "text": [
      "WARNING:fabio.TiffIO:Data at tag id '65000' is smaller than expected\n",
      "WARNING:fabio.TiffIO:Data at tag id '65000' is smaller than expected\n",
      "WARNING:fabio.TiffIO:Data at tag id '65000' is smaller than expected\n",
      "WARNING:fabio.TiffIO:Data at tag id '65000' is smaller than expected\n",
      "WARNING:fabio.TiffIO:Data at tag id '65000' is smaller than expected\n",
      "WARNING:fabio.TiffIO:Data at tag id '65000' is smaller than expected\n"
     ]
    },
    {
     "name": "stdout",
     "output_type": "stream",
     "text": [
      "LR_LiTFSI_PEDOTPSS_overdoped_p0p6V_pos2_2515.00eV_ai0.80_wa0_bpm13.461_id24093_000000_WAXS.tif\n"
     ]
    },
    {
     "name": "stderr",
     "output_type": "stream",
     "text": [
      "WARNING:fabio.TiffIO:Data at tag id '65000' is smaller than expected\n",
      "WARNING:fabio.TiffIO:Data at tag id '65000' is smaller than expected\n",
      "WARNING:fabio.TiffIO:Data at tag id '65000' is smaller than expected\n",
      "WARNING:fabio.TiffIO:Data at tag id '65000' is smaller than expected\n",
      "WARNING:fabio.TiffIO:Data at tag id '65000' is smaller than expected\n",
      "WARNING:fabio.TiffIO:Data at tag id '65000' is smaller than expected\n"
     ]
    },
    {
     "name": "stdout",
     "output_type": "stream",
     "text": [
      "LR_P3MEEMT23k115C_0p7_KTFSI_pos2_2460.00eV_ai0.80_wa0_bpm12.612_id23100_000000_WAXS.tif\n"
     ]
    },
    {
     "name": "stderr",
     "output_type": "stream",
     "text": [
      "WARNING:fabio.TiffIO:Data at tag id '65000' is smaller than expected\n",
      "WARNING:fabio.TiffIO:Data at tag id '65000' is smaller than expected\n",
      "WARNING:fabio.TiffIO:Data at tag id '65000' is smaller than expected\n",
      "WARNING:fabio.TiffIO:Data at tag id '65000' is smaller than expected\n",
      "WARNING:fabio.TiffIO:Data at tag id '65000' is smaller than expected\n",
      "WARNING:fabio.TiffIO:Data at tag id '65000' is smaller than expected\n"
     ]
    },
    {
     "name": "stdout",
     "output_type": "stream",
     "text": [
      "LR_AcidPEDOTPSS_exposed_pos2_2450.00eV_ai0.80_wa0_bpm12.634_id21859_000000_WAXS.tif\n"
     ]
    },
    {
     "name": "stderr",
     "output_type": "stream",
     "text": [
      "WARNING:fabio.TiffIO:Data at tag id '65000' is smaller than expected\n",
      "WARNING:fabio.TiffIO:Data at tag id '65000' is smaller than expected\n",
      "WARNING:fabio.TiffIO:Data at tag id '65000' is smaller than expected\n",
      "WARNING:fabio.TiffIO:Data at tag id '65000' is smaller than expected\n",
      "WARNING:fabio.TiffIO:Data at tag id '65000' is smaller than expected\n",
      "WARNING:fabio.TiffIO:Data at tag id '65000' is smaller than expected\n"
     ]
    },
    {
     "name": "stdout",
     "output_type": "stream",
     "text": [
      "LR_AcidPEDOTPSS_0V_pos1_2478.50eV_ai0.80_wa0_bpm109.858_id21932_000000_WAXS.tif\n"
     ]
    },
    {
     "name": "stderr",
     "output_type": "stream",
     "text": [
      "WARNING:fabio.TiffIO:Data at tag id '65000' is smaller than expected\n",
      "WARNING:fabio.TiffIO:Data at tag id '65000' is smaller than expected\n",
      "WARNING:fabio.TiffIO:Data at tag id '65000' is smaller than expected\n",
      "WARNING:fabio.TiffIO:Data at tag id '65000' is smaller than expected\n",
      "WARNING:fabio.TiffIO:Data at tag id '65000' is smaller than expected\n",
      "WARNING:fabio.TiffIO:Data at tag id '65000' is smaller than expected\n"
     ]
    },
    {
     "name": "stdout",
     "output_type": "stream",
     "text": [
      "LR_AcidPEDOTPSS_RbCl_pos2_2477.50eV_ai0.80_wa0_bpm12.696_id22526_000000_WAXS.tif\n"
     ]
    },
    {
     "name": "stderr",
     "output_type": "stream",
     "text": [
      "WARNING:fabio.TiffIO:Data at tag id '65000' is smaller than expected\n",
      "WARNING:fabio.TiffIO:Data at tag id '65000' is smaller than expected\n",
      "WARNING:fabio.TiffIO:Data at tag id '65000' is smaller than expected\n",
      "WARNING:fabio.TiffIO:Data at tag id '65000' is smaller than expected\n",
      "WARNING:fabio.TiffIO:Data at tag id '65000' is smaller than expected\n",
      "WARNING:fabio.TiffIO:Data at tag id '65000' is smaller than expected\n"
     ]
    },
    {
     "name": "stdout",
     "output_type": "stream",
     "text": [
      "LR_AcidPEDOTPSS_0V_pos1_2470.00eV_ai0.80_wa0_bpm110.293_id21923_000000_WAXS.tif\n"
     ]
    },
    {
     "name": "stderr",
     "output_type": "stream",
     "text": [
      "WARNING:fabio.TiffIO:Data at tag id '65000' is smaller than expected\n",
      "WARNING:fabio.TiffIO:Data at tag id '65000' is smaller than expected\n",
      "WARNING:fabio.TiffIO:Data at tag id '65000' is smaller than expected\n",
      "WARNING:fabio.TiffIO:Data at tag id '65000' is smaller than expected\n",
      "WARNING:fabio.TiffIO:Data at tag id '65000' is smaller than expected\n",
      "WARNING:fabio.TiffIO:Data at tag id '65000' is smaller than expected\n"
     ]
    },
    {
     "name": "stdout",
     "output_type": "stream",
     "text": [
      "LR_LiTFSI_PEDOTPSS_0V_pos1_2460.00eV_ai0.80_wa0_bpm109.608_id23729_000000_WAXS.tif\n"
     ]
    },
    {
     "name": "stderr",
     "output_type": "stream",
     "text": [
      "WARNING:fabio.TiffIO:Data at tag id '65000' is smaller than expected\n",
      "WARNING:fabio.TiffIO:Data at tag id '65000' is smaller than expected\n",
      "WARNING:fabio.TiffIO:Data at tag id '65000' is smaller than expected\n",
      "WARNING:fabio.TiffIO:Data at tag id '65000' is smaller than expected\n",
      "WARNING:fabio.TiffIO:Data at tag id '65000' is smaller than expected\n",
      "WARNING:fabio.TiffIO:Data at tag id '65000' is smaller than expected\n"
     ]
    },
    {
     "name": "stdout",
     "output_type": "stream",
     "text": [
      "LR_AcidPEDOTPSS_dedope_n0p6_pos1_2476.50eV_ai0.80_wa0_bpm110.164_id22041_000000_WAXS.tif\n"
     ]
    },
    {
     "name": "stderr",
     "output_type": "stream",
     "text": [
      "WARNING:fabio.TiffIO:Data at tag id '65000' is smaller than expected\n",
      "WARNING:fabio.TiffIO:Data at tag id '65000' is smaller than expected\n",
      "WARNING:fabio.TiffIO:Data at tag id '65000' is smaller than expected\n",
      "WARNING:fabio.TiffIO:Data at tag id '65000' is smaller than expected\n",
      "WARNING:fabio.TiffIO:Data at tag id '65000' is smaller than expected\n",
      "WARNING:fabio.TiffIO:Data at tag id '65000' is smaller than expected\n"
     ]
    },
    {
     "name": "stdout",
     "output_type": "stream",
     "text": [
      "LR_AcidPEDOTPSS_NaCl_pos1_2450.00eV_ai0.80_wa0_bpm111.790_id22258_000000_WAXS.tif\n"
     ]
    },
    {
     "name": "stderr",
     "output_type": "stream",
     "text": [
      "WARNING:fabio.TiffIO:Data at tag id '65000' is smaller than expected\n",
      "WARNING:fabio.TiffIO:Data at tag id '65000' is smaller than expected\n",
      "WARNING:fabio.TiffIO:Data at tag id '65000' is smaller than expected\n",
      "WARNING:fabio.TiffIO:Data at tag id '65000' is smaller than expected\n",
      "WARNING:fabio.TiffIO:Data at tag id '65000' is smaller than expected\n",
      "WARNING:fabio.TiffIO:Data at tag id '65000' is smaller than expected\n"
     ]
    },
    {
     "name": "stdout",
     "output_type": "stream",
     "text": [
      "LR_StandardPEDOTPSS_RbBr_pos2_2480.50eV_ai0.80_wa0_bpm12.779_id22859_000000_WAXS.tif\n"
     ]
    },
    {
     "name": "stderr",
     "output_type": "stream",
     "text": [
      "WARNING:fabio.TiffIO:Data at tag id '65000' is smaller than expected\n",
      "WARNING:fabio.TiffIO:Data at tag id '65000' is smaller than expected\n",
      "WARNING:fabio.TiffIO:Data at tag id '65000' is smaller than expected\n",
      "WARNING:fabio.TiffIO:Data at tag id '65000' is smaller than expected\n",
      "WARNING:fabio.TiffIO:Data at tag id '65000' is smaller than expected\n",
      "WARNING:fabio.TiffIO:Data at tag id '65000' is smaller than expected\n"
     ]
    },
    {
     "name": "stdout",
     "output_type": "stream",
     "text": [
      "LR_LiTFSI_PEDOTPSS_overdoped_p0p6V_pos1_2476.50eV_ai0.80_wa0_bpm109.233_id24075_000000_WAXS.tif\n"
     ]
    },
    {
     "name": "stderr",
     "output_type": "stream",
     "text": [
      "WARNING:fabio.TiffIO:Data at tag id '65000' is smaller than expected\n",
      "WARNING:fabio.TiffIO:Data at tag id '65000' is smaller than expected\n",
      "WARNING:fabio.TiffIO:Data at tag id '65000' is smaller than expected\n",
      "WARNING:fabio.TiffIO:Data at tag id '65000' is smaller than expected\n",
      "WARNING:fabio.TiffIO:Data at tag id '65000' is smaller than expected\n",
      "WARNING:fabio.TiffIO:Data at tag id '65000' is smaller than expected\n"
     ]
    },
    {
     "name": "stdout",
     "output_type": "stream",
     "text": [
      "LR_LiTFSI_PEDOTPSS_exposed_pos2_2492.50eV_ai0.80_wa0_bpm13.012_id23645_000000_WAXS.tif\n"
     ]
    },
    {
     "name": "stderr",
     "output_type": "stream",
     "text": [
      "WARNING:fabio.TiffIO:Data at tag id '65000' is smaller than expected\n",
      "WARNING:fabio.TiffIO:Data at tag id '65000' is smaller than expected\n",
      "WARNING:fabio.TiffIO:Data at tag id '65000' is smaller than expected\n",
      "WARNING:fabio.TiffIO:Data at tag id '65000' is smaller than expected\n",
      "WARNING:fabio.TiffIO:Data at tag id '65000' is smaller than expected\n",
      "WARNING:fabio.TiffIO:Data at tag id '65000' is smaller than expected\n"
     ]
    },
    {
     "name": "stdout",
     "output_type": "stream",
     "text": [
      "LR_AcidPEDOTPSS_dedope_n0p6_pos2_2510.00eV_ai0.80_wa0_bpm13.438_id22060_000000_WAXS.tif\n"
     ]
    },
    {
     "name": "stderr",
     "output_type": "stream",
     "text": [
      "WARNING:fabio.TiffIO:Data at tag id '65000' is smaller than expected\n",
      "WARNING:fabio.TiffIO:Data at tag id '65000' is smaller than expected\n",
      "WARNING:fabio.TiffIO:Data at tag id '65000' is smaller than expected\n",
      "WARNING:fabio.TiffIO:Data at tag id '65000' is smaller than expected\n",
      "WARNING:fabio.TiffIO:Data at tag id '65000' is smaller than expected\n",
      "WARNING:fabio.TiffIO:Data at tag id '65000' is smaller than expected\n"
     ]
    },
    {
     "name": "stdout",
     "output_type": "stream",
     "text": [
      "LR_AcidPEDOTPSS_NaCl_pos2_2470.00eV_ai0.80_wa0_bpm12.699_id22307_000000_WAXS.tif\n"
     ]
    },
    {
     "name": "stderr",
     "output_type": "stream",
     "text": [
      "WARNING:fabio.TiffIO:Data at tag id '65000' is smaller than expected\n",
      "WARNING:fabio.TiffIO:Data at tag id '65000' is smaller than expected\n",
      "WARNING:fabio.TiffIO:Data at tag id '65000' is smaller than expected\n",
      "WARNING:fabio.TiffIO:Data at tag id '65000' is smaller than expected\n",
      "WARNING:fabio.TiffIO:Data at tag id '65000' is smaller than expected\n",
      "WARNING:fabio.TiffIO:Data at tag id '65000' is smaller than expected\n"
     ]
    },
    {
     "name": "stdout",
     "output_type": "stream",
     "text": [
      "LR_AcidPEDOTPSS_exposed_pos2_2476.00eV_ai0.80_wa0_bpm12.772_id21851_000000_WAXS.tif\n"
     ]
    },
    {
     "name": "stderr",
     "output_type": "stream",
     "text": [
      "WARNING:fabio.TiffIO:Data at tag id '65000' is smaller than expected\n",
      "WARNING:fabio.TiffIO:Data at tag id '65000' is smaller than expected\n",
      "WARNING:fabio.TiffIO:Data at tag id '65000' is smaller than expected\n",
      "WARNING:fabio.TiffIO:Data at tag id '65000' is smaller than expected\n",
      "WARNING:fabio.TiffIO:Data at tag id '65000' is smaller than expected\n",
      "WARNING:fabio.TiffIO:Data at tag id '65000' is smaller than expected\n"
     ]
    },
    {
     "name": "stdout",
     "output_type": "stream",
     "text": [
      "LR_AcidPEDOTPSS_0V_pos2_2490.00eV_ai0.80_wa0_bpm13.000_id21951_000000_WAXS.tif\n"
     ]
    },
    {
     "name": "stderr",
     "output_type": "stream",
     "text": [
      "WARNING:fabio.TiffIO:Data at tag id '65000' is smaller than expected\n",
      "WARNING:fabio.TiffIO:Data at tag id '65000' is smaller than expected\n",
      "WARNING:fabio.TiffIO:Data at tag id '65000' is smaller than expected\n",
      "WARNING:fabio.TiffIO:Data at tag id '65000' is smaller than expected\n",
      "WARNING:fabio.TiffIO:Data at tag id '65000' is smaller than expected\n",
      "WARNING:fabio.TiffIO:Data at tag id '65000' is smaller than expected\n"
     ]
    },
    {
     "name": "stdout",
     "output_type": "stream",
     "text": [
      "LR_P3MEEMT23k115C_0p7_KTFSI_pos1_2478.00eV_ai0.80_wa0_bpm109.217_id23061_000000_WAXS.tif\n"
     ]
    },
    {
     "name": "stderr",
     "output_type": "stream",
     "text": [
      "WARNING:fabio.TiffIO:Data at tag id '65000' is smaller than expected\n",
      "WARNING:fabio.TiffIO:Data at tag id '65000' is smaller than expected\n",
      "WARNING:fabio.TiffIO:Data at tag id '65000' is smaller than expected\n",
      "WARNING:fabio.TiffIO:Data at tag id '65000' is smaller than expected\n",
      "WARNING:fabio.TiffIO:Data at tag id '65000' is smaller than expected\n",
      "WARNING:fabio.TiffIO:Data at tag id '65000' is smaller than expected\n"
     ]
    },
    {
     "name": "stdout",
     "output_type": "stream",
     "text": [
      "LR_P3MEEMT23k115C_un_pos2_2478.50eV_ai0.80_wa0_bpm12.686_id23315_000000_WAXS.tif\n"
     ]
    },
    {
     "name": "stderr",
     "output_type": "stream",
     "text": [
      "WARNING:fabio.TiffIO:Data at tag id '65000' is smaller than expected\n",
      "WARNING:fabio.TiffIO:Data at tag id '65000' is smaller than expected\n",
      "WARNING:fabio.TiffIO:Data at tag id '65000' is smaller than expected\n",
      "WARNING:fabio.TiffIO:Data at tag id '65000' is smaller than expected\n",
      "WARNING:fabio.TiffIO:Data at tag id '65000' is smaller than expected\n",
      "WARNING:fabio.TiffIO:Data at tag id '65000' is smaller than expected\n"
     ]
    },
    {
     "name": "stdout",
     "output_type": "stream",
     "text": [
      "LR_StandardPEDOTPSS_RbBr_pos2_2479.50eV_ai0.80_wa0_bpm12.767_id22861_000000_WAXS.tif\n"
     ]
    },
    {
     "name": "stderr",
     "output_type": "stream",
     "text": [
      "WARNING:fabio.TiffIO:Data at tag id '65000' is smaller than expected\n",
      "WARNING:fabio.TiffIO:Data at tag id '65000' is smaller than expected\n",
      "WARNING:fabio.TiffIO:Data at tag id '65000' is smaller than expected\n",
      "WARNING:fabio.TiffIO:Data at tag id '65000' is smaller than expected\n"
     ]
    },
    {
     "name": "stdout",
     "output_type": "stream",
     "text": [
      "LR_LiTFSI_PEDOTPSS_dedoped_n0p6_pos2_2483.00eV_ai0.80_wa0_bpm12.788_id23875_000000_WAXS.tif\n"
     ]
    },
    {
     "name": "stderr",
     "output_type": "stream",
     "text": [
      "WARNING:fabio.TiffIO:Data at tag id '65000' is smaller than expected\n",
      "WARNING:fabio.TiffIO:Data at tag id '65000' is smaller than expected\n",
      "WARNING:fabio.TiffIO:Data at tag id '65000' is smaller than expected\n",
      "WARNING:fabio.TiffIO:Data at tag id '65000' is smaller than expected\n",
      "WARNING:fabio.TiffIO:Data at tag id '65000' is smaller than expected\n",
      "WARNING:fabio.TiffIO:Data at tag id '65000' is smaller than expected\n",
      "WARNING:fabio.TiffIO:Data at tag id '65000' is smaller than expected\n",
      "WARNING:fabio.TiffIO:Data at tag id '65000' is smaller than expected\n"
     ]
    },
    {
     "name": "stdout",
     "output_type": "stream",
     "text": [
      "LR_LiTFSI_PEDOTPSS_overdoped_p0p6V_pos1_2476.00eV_ai0.80_wa0_bpm109.501_id24074_000000_WAXS.tif\n"
     ]
    },
    {
     "name": "stderr",
     "output_type": "stream",
     "text": [
      "WARNING:fabio.TiffIO:Data at tag id '65000' is smaller than expected\n",
      "WARNING:fabio.TiffIO:Data at tag id '65000' is smaller than expected\n",
      "WARNING:fabio.TiffIO:Data at tag id '65000' is smaller than expected\n",
      "WARNING:fabio.TiffIO:Data at tag id '65000' is smaller than expected\n",
      "WARNING:fabio.TiffIO:Data at tag id '65000' is smaller than expected\n",
      "WARNING:fabio.TiffIO:Data at tag id '65000' is smaller than expected\n"
     ]
    },
    {
     "name": "stdout",
     "output_type": "stream",
     "text": [
      "LR_LiTFSI_PEDOTPSS_as_pos1_2473.00eV_ai0.80_wa0_bpm109.527_id23506_000000_WAXS.tif\n"
     ]
    },
    {
     "name": "stderr",
     "output_type": "stream",
     "text": [
      "WARNING:fabio.TiffIO:Data at tag id '65000' is smaller than expected\n",
      "WARNING:fabio.TiffIO:Data at tag id '65000' is smaller than expected\n",
      "WARNING:fabio.TiffIO:Data at tag id '65000' is smaller than expected\n",
      "WARNING:fabio.TiffIO:Data at tag id '65000' is smaller than expected\n",
      "WARNING:fabio.TiffIO:Data at tag id '65000' is smaller than expected\n",
      "WARNING:fabio.TiffIO:Data at tag id '65000' is smaller than expected\n"
     ]
    },
    {
     "name": "stdout",
     "output_type": "stream",
     "text": [
      "LR_AcidPEDOTPSS_as_pos1_2490.00eV_ai0.80_wa0_bpm110.765_id21714_000000_WAXS.tif\n"
     ]
    },
    {
     "name": "stderr",
     "output_type": "stream",
     "text": [
      "WARNING:fabio.TiffIO:Data at tag id '65000' is smaller than expected\n",
      "WARNING:fabio.TiffIO:Data at tag id '65000' is smaller than expected\n",
      "WARNING:fabio.TiffIO:Data at tag id '65000' is smaller than expected\n",
      "WARNING:fabio.TiffIO:Data at tag id '65000' is smaller than expected\n",
      "WARNING:fabio.TiffIO:Data at tag id '65000' is smaller than expected\n",
      "WARNING:fabio.TiffIO:Data at tag id '65000' is smaller than expected\n"
     ]
    },
    {
     "name": "stdout",
     "output_type": "stream",
     "text": [
      "LR_LiTFSI_PEDOTPSS_0V_pos2_2465.00eV_ai0.80_wa0_bpm12.660_id23777_000000_WAXS.tif\n"
     ]
    },
    {
     "name": "stderr",
     "output_type": "stream",
     "text": [
      "WARNING:fabio.TiffIO:Data at tag id '65000' is smaller than expected\n",
      "WARNING:fabio.TiffIO:Data at tag id '65000' is smaller than expected\n",
      "WARNING:fabio.TiffIO:Data at tag id '65000' is smaller than expected\n",
      "WARNING:fabio.TiffIO:Data at tag id '65000' is smaller than expected\n",
      "WARNING:fabio.TiffIO:Data at tag id '65000' is smaller than expected\n",
      "WARNING:fabio.TiffIO:Data at tag id '65000' is smaller than expected\n"
     ]
    },
    {
     "name": "stdout",
     "output_type": "stream",
     "text": [
      "LR_AcidPEDOTPSS_exposed_pos2_2470.00eV_ai0.80_wa0_bpm12.724_id21855_000000_WAXS.tif\n"
     ]
    },
    {
     "name": "stderr",
     "output_type": "stream",
     "text": [
      "WARNING:fabio.TiffIO:Data at tag id '65000' is smaller than expected\n",
      "WARNING:fabio.TiffIO:Data at tag id '65000' is smaller than expected\n",
      "WARNING:fabio.TiffIO:Data at tag id '65000' is smaller than expected\n",
      "WARNING:fabio.TiffIO:Data at tag id '65000' is smaller than expected\n",
      "WARNING:fabio.TiffIO:Data at tag id '65000' is smaller than expected\n",
      "WARNING:fabio.TiffIO:Data at tag id '65000' is smaller than expected\n"
     ]
    },
    {
     "name": "stdout",
     "output_type": "stream",
     "text": [
      "LR_AcidPEDOTPSS_0V_pos2_2470.00eV_ai0.80_wa0_bpm12.703_id21968_000000_WAXS.tif\n"
     ]
    },
    {
     "name": "stderr",
     "output_type": "stream",
     "text": [
      "WARNING:fabio.TiffIO:Data at tag id '65000' is smaller than expected\n",
      "WARNING:fabio.TiffIO:Data at tag id '65000' is smaller than expected\n",
      "WARNING:fabio.TiffIO:Data at tag id '65000' is smaller than expected\n",
      "WARNING:fabio.TiffIO:Data at tag id '65000' is smaller than expected\n",
      "WARNING:fabio.TiffIO:Data at tag id '65000' is smaller than expected\n",
      "WARNING:fabio.TiffIO:Data at tag id '65000' is smaller than expected\n"
     ]
    },
    {
     "name": "stdout",
     "output_type": "stream",
     "text": [
      "LR_P3MEEMT23k115C_0p4_KTFSI_pos1_2483.00eV_ai0.80_wa0_bpm109.832_id23180_000000_WAXS.tif\n"
     ]
    },
    {
     "name": "stderr",
     "output_type": "stream",
     "text": [
      "WARNING:fabio.TiffIO:Data at tag id '65000' is smaller than expected\n",
      "WARNING:fabio.TiffIO:Data at tag id '65000' is smaller than expected\n",
      "WARNING:fabio.TiffIO:Data at tag id '65000' is smaller than expected\n",
      "WARNING:fabio.TiffIO:Data at tag id '65000' is smaller than expected\n",
      "WARNING:fabio.TiffIO:Data at tag id '65000' is smaller than expected\n",
      "WARNING:fabio.TiffIO:Data at tag id '65000' is smaller than expected\n"
     ]
    },
    {
     "name": "stdout",
     "output_type": "stream",
     "text": [
      "LR_LiTFSI_PEDOTPSS_0V_pos2_2478.00eV_ai0.80_wa0_bpm12.713_id23768_000000_WAXS.tif\n"
     ]
    },
    {
     "name": "stderr",
     "output_type": "stream",
     "text": [
      "WARNING:fabio.TiffIO:Data at tag id '65000' is smaller than expected\n",
      "WARNING:fabio.TiffIO:Data at tag id '65000' is smaller than expected\n",
      "WARNING:fabio.TiffIO:Data at tag id '65000' is smaller than expected\n",
      "WARNING:fabio.TiffIO:Data at tag id '65000' is smaller than expected\n",
      "WARNING:fabio.TiffIO:Data at tag id '65000' is smaller than expected\n",
      "WARNING:fabio.TiffIO:Data at tag id '65000' is smaller than expected\n"
     ]
    },
    {
     "name": "stdout",
     "output_type": "stream",
     "text": [
      "LR_AcidPEDOTPSS_NaBr_pos1_2492.50eV_ai0.80_wa0_bpm110.183_id22393_000000_WAXS.tif\n"
     ]
    },
    {
     "name": "stderr",
     "output_type": "stream",
     "text": [
      "WARNING:fabio.TiffIO:Data at tag id '65000' is smaller than expected\n",
      "WARNING:fabio.TiffIO:Data at tag id '65000' is smaller than expected\n",
      "WARNING:fabio.TiffIO:Data at tag id '65000' is smaller than expected\n",
      "WARNING:fabio.TiffIO:Data at tag id '65000' is smaller than expected\n",
      "WARNING:fabio.TiffIO:Data at tag id '65000' is smaller than expected\n",
      "WARNING:fabio.TiffIO:Data at tag id '65000' is smaller than expected\n"
     ]
    },
    {
     "name": "stdout",
     "output_type": "stream",
     "text": [
      "LR_AcidPEDOTPSS_exposed_pos2_2477.00eV_ai0.80_wa0_bpm12.776_id21849_000000_WAXS.tif\n"
     ]
    },
    {
     "name": "stderr",
     "output_type": "stream",
     "text": [
      "WARNING:fabio.TiffIO:Data at tag id '65000' is smaller than expected\n",
      "WARNING:fabio.TiffIO:Data at tag id '65000' is smaller than expected\n",
      "WARNING:fabio.TiffIO:Data at tag id '65000' is smaller than expected\n",
      "WARNING:fabio.TiffIO:Data at tag id '65000' is smaller than expected\n",
      "WARNING:fabio.TiffIO:Data at tag id '65000' is smaller than expected\n",
      "WARNING:fabio.TiffIO:Data at tag id '65000' is smaller than expected\n"
     ]
    },
    {
     "name": "stdout",
     "output_type": "stream",
     "text": [
      "LR_P3MEEMT23k115C_0p7_KTFSI_pos2_2477.00eV_ai0.80_wa0_bpm12.676_id23092_000000_WAXS.tif\n"
     ]
    },
    {
     "name": "stderr",
     "output_type": "stream",
     "text": [
      "WARNING:fabio.TiffIO:Data at tag id '65000' is smaller than expected\n",
      "WARNING:fabio.TiffIO:Data at tag id '65000' is smaller than expected\n",
      "WARNING:fabio.TiffIO:Data at tag id '65000' is smaller than expected\n",
      "WARNING:fabio.TiffIO:Data at tag id '65000' is smaller than expected\n",
      "WARNING:fabio.TiffIO:Data at tag id '65000' is smaller than expected\n",
      "WARNING:fabio.TiffIO:Data at tag id '65000' is smaller than expected\n"
     ]
    },
    {
     "name": "stdout",
     "output_type": "stream",
     "text": [
      "LR_AcidPEDOTPSS_overdope_p0p6_pos1_2478.50eV_ai0.80_wa0_bpm110.240_id22158_000000_WAXS.tif\n"
     ]
    },
    {
     "name": "stderr",
     "output_type": "stream",
     "text": [
      "WARNING:fabio.TiffIO:Data at tag id '65000' is smaller than expected\n",
      "WARNING:fabio.TiffIO:Data at tag id '65000' is smaller than expected\n",
      "WARNING:fabio.TiffIO:Data at tag id '65000' is smaller than expected\n",
      "WARNING:fabio.TiffIO:Data at tag id '65000' is smaller than expected\n",
      "WARNING:fabio.TiffIO:Data at tag id '65000' is smaller than expected\n",
      "WARNING:fabio.TiffIO:Data at tag id '65000' is smaller than expected\n"
     ]
    },
    {
     "name": "stdout",
     "output_type": "stream",
     "text": [
      "LR_AcidPEDOTPSS_0V_pos2_2500.00eV_ai0.80_wa0_bpm13.203_id21948_000000_WAXS.tif\n"
     ]
    },
    {
     "name": "stderr",
     "output_type": "stream",
     "text": [
      "WARNING:fabio.TiffIO:Data at tag id '65000' is smaller than expected\n",
      "WARNING:fabio.TiffIO:Data at tag id '65000' is smaller than expected\n",
      "WARNING:fabio.TiffIO:Data at tag id '65000' is smaller than expected\n",
      "WARNING:fabio.TiffIO:Data at tag id '65000' is smaller than expected\n",
      "WARNING:fabio.TiffIO:Data at tag id '65000' is smaller than expected\n",
      "WARNING:fabio.TiffIO:Data at tag id '65000' is smaller than expected\n"
     ]
    },
    {
     "name": "stdout",
     "output_type": "stream",
     "text": [
      "LR_P3MEEMT23k115C_un_pos1_2477.00eV_ai0.80_wa0_bpm108.855_id23285_000000_WAXS.tif\n"
     ]
    },
    {
     "name": "stderr",
     "output_type": "stream",
     "text": [
      "WARNING:fabio.TiffIO:Data at tag id '65000' is smaller than expected\n",
      "WARNING:fabio.TiffIO:Data at tag id '65000' is smaller than expected\n",
      "WARNING:fabio.TiffIO:Data at tag id '65000' is smaller than expected\n",
      "WARNING:fabio.TiffIO:Data at tag id '65000' is smaller than expected\n",
      "WARNING:fabio.TiffIO:Data at tag id '65000' is smaller than expected\n",
      "WARNING:fabio.TiffIO:Data at tag id '65000' is smaller than expected\n"
     ]
    },
    {
     "name": "stdout",
     "output_type": "stream",
     "text": [
      "LR_StandardPEDOTPSS_as_pos2_2485.00eV_ai0.80_wa0_bpm12.849_id22744_000000_WAXS.tif\n"
     ]
    },
    {
     "name": "stderr",
     "output_type": "stream",
     "text": [
      "WARNING:fabio.TiffIO:Data at tag id '65000' is smaller than expected\n",
      "WARNING:fabio.TiffIO:Data at tag id '65000' is smaller than expected\n",
      "WARNING:fabio.TiffIO:Data at tag id '65000' is smaller than expected\n",
      "WARNING:fabio.TiffIO:Data at tag id '65000' is smaller than expected\n",
      "WARNING:fabio.TiffIO:Data at tag id '65000' is smaller than expected\n",
      "WARNING:fabio.TiffIO:Data at tag id '65000' is smaller than expected\n"
     ]
    },
    {
     "name": "stdout",
     "output_type": "stream",
     "text": [
      "LR_LiTFSI_PEDOTPSS_dedoped_n0p6_pos2_2480.50eV_ai0.80_wa0_bpm12.729_id23876_000000_WAXS.tif\n"
     ]
    },
    {
     "name": "stderr",
     "output_type": "stream",
     "text": [
      "WARNING:fabio.TiffIO:Data at tag id '65000' is smaller than expected\n",
      "WARNING:fabio.TiffIO:Data at tag id '65000' is smaller than expected\n",
      "WARNING:fabio.TiffIO:Data at tag id '65000' is smaller than expected\n",
      "WARNING:fabio.TiffIO:Data at tag id '65000' is smaller than expected\n",
      "WARNING:fabio.TiffIO:Data at tag id '65000' is smaller than expected\n",
      "WARNING:fabio.TiffIO:Data at tag id '65000' is smaller than expected\n"
     ]
    },
    {
     "name": "stdout",
     "output_type": "stream",
     "text": [
      "LR_AcidPEDOTPSS_dedope_n0p6_pos1_2475.50eV_ai0.80_wa0_bpm110.057_id22039_000000_WAXS.tif\n"
     ]
    },
    {
     "name": "stderr",
     "output_type": "stream",
     "text": [
      "WARNING:fabio.TiffIO:Data at tag id '65000' is smaller than expected\n",
      "WARNING:fabio.TiffIO:Data at tag id '65000' is smaller than expected\n",
      "WARNING:fabio.TiffIO:Data at tag id '65000' is smaller than expected\n",
      "WARNING:fabio.TiffIO:Data at tag id '65000' is smaller than expected\n",
      "WARNING:fabio.TiffIO:Data at tag id '65000' is smaller than expected\n",
      "WARNING:fabio.TiffIO:Data at tag id '65000' is smaller than expected\n"
     ]
    },
    {
     "name": "stdout",
     "output_type": "stream",
     "text": [
      "LR_LiTFSI_PEDOTPSS_redoped_0V_pos1_2485.00eV_ai0.80_wa0_bpm109.400_id23972_000000_WAXS.tif\n"
     ]
    },
    {
     "name": "stderr",
     "output_type": "stream",
     "text": [
      "WARNING:fabio.TiffIO:Data at tag id '65000' is smaller than expected\n",
      "WARNING:fabio.TiffIO:Data at tag id '65000' is smaller than expected\n",
      "WARNING:fabio.TiffIO:Data at tag id '65000' is smaller than expected\n",
      "WARNING:fabio.TiffIO:Data at tag id '65000' is smaller than expected\n",
      "WARNING:fabio.TiffIO:Data at tag id '65000' is smaller than expected\n",
      "WARNING:fabio.TiffIO:Data at tag id '65000' is smaller than expected\n"
     ]
    },
    {
     "name": "stdout",
     "output_type": "stream",
     "text": [
      "LR_P3MEEMT23k115C_un_pos2_2500.00eV_ai0.80_wa0_bpm13.154_id23304_000000_WAXS.tif\n"
     ]
    },
    {
     "name": "stderr",
     "output_type": "stream",
     "text": [
      "WARNING:fabio.TiffIO:Data at tag id '65000' is smaller than expected\n",
      "WARNING:fabio.TiffIO:Data at tag id '65000' is smaller than expected\n",
      "WARNING:fabio.TiffIO:Data at tag id '65000' is smaller than expected\n",
      "WARNING:fabio.TiffIO:Data at tag id '65000' is smaller than expected\n",
      "WARNING:fabio.TiffIO:Data at tag id '65000' is smaller than expected\n",
      "WARNING:fabio.TiffIO:Data at tag id '65000' is smaller than expected\n"
     ]
    },
    {
     "name": "stdout",
     "output_type": "stream",
     "text": [
      "LR_AcidPEDOTPSS_NaCl_pos2_2476.00eV_ai0.80_wa0_bpm12.747_id22303_000000_WAXS.tif\n"
     ]
    },
    {
     "name": "stderr",
     "output_type": "stream",
     "text": [
      "WARNING:fabio.TiffIO:Data at tag id '65000' is smaller than expected\n",
      "WARNING:fabio.TiffIO:Data at tag id '65000' is smaller than expected\n",
      "WARNING:fabio.TiffIO:Data at tag id '65000' is smaller than expected\n",
      "WARNING:fabio.TiffIO:Data at tag id '65000' is smaller than expected\n",
      "WARNING:fabio.TiffIO:Data at tag id '65000' is smaller than expected\n",
      "WARNING:fabio.TiffIO:Data at tag id '65000' is smaller than expected\n"
     ]
    },
    {
     "name": "stdout",
     "output_type": "stream",
     "text": [
      "LR_LiTFSI_PEDOTPSS_0V_pos1_2510.00eV_ai0.80_wa0_bpm109.960_id23752_000000_WAXS.tif\n"
     ]
    },
    {
     "name": "stderr",
     "output_type": "stream",
     "text": [
      "WARNING:fabio.TiffIO:Data at tag id '65000' is smaller than expected\n",
      "WARNING:fabio.TiffIO:Data at tag id '65000' is smaller than expected\n",
      "WARNING:fabio.TiffIO:Data at tag id '65000' is smaller than expected\n",
      "WARNING:fabio.TiffIO:Data at tag id '65000' is smaller than expected\n",
      "WARNING:fabio.TiffIO:Data at tag id '65000' is smaller than expected\n",
      "WARNING:fabio.TiffIO:Data at tag id '65000' is smaller than expected\n"
     ]
    },
    {
     "name": "stdout",
     "output_type": "stream",
     "text": [
      "LR_LiTFSI_PEDOTPSS_RbBr_pos1_2460.00eV_ai0.80_wa0_bpm110.019_id24181_000000_WAXS.tif\n"
     ]
    },
    {
     "name": "stderr",
     "output_type": "stream",
     "text": [
      "WARNING:fabio.TiffIO:Data at tag id '65000' is smaller than expected\n",
      "WARNING:fabio.TiffIO:Data at tag id '65000' is smaller than expected\n",
      "WARNING:fabio.TiffIO:Data at tag id '65000' is smaller than expected\n",
      "WARNING:fabio.TiffIO:Data at tag id '65000' is smaller than expected\n",
      "WARNING:fabio.TiffIO:Data at tag id '65000' is smaller than expected\n",
      "WARNING:fabio.TiffIO:Data at tag id '65000' is smaller than expected\n"
     ]
    },
    {
     "name": "stdout",
     "output_type": "stream",
     "text": [
      "LR_RivnayFrit_P3MEEET_drop_pos2_2470.00eV_ai0.80_wa0_bpm12.604_id23437_000000_WAXS.tif\n"
     ]
    },
    {
     "name": "stderr",
     "output_type": "stream",
     "text": [
      "WARNING:fabio.TiffIO:Data at tag id '65000' is smaller than expected\n",
      "WARNING:fabio.TiffIO:Data at tag id '65000' is smaller than expected\n",
      "WARNING:fabio.TiffIO:Data at tag id '65000' is smaller than expected\n",
      "WARNING:fabio.TiffIO:Data at tag id '65000' is smaller than expected\n",
      "WARNING:fabio.TiffIO:Data at tag id '65000' is smaller than expected\n",
      "WARNING:fabio.TiffIO:Data at tag id '65000' is smaller than expected\n"
     ]
    },
    {
     "name": "stdout",
     "output_type": "stream",
     "text": [
      "LR_StandardPEDOTPSS_NaBr_pos1_2478.50eV_ai0.80_wa0_bpm109.383_id22949_000000_WAXS.tif\n"
     ]
    },
    {
     "name": "stderr",
     "output_type": "stream",
     "text": [
      "WARNING:fabio.TiffIO:Data at tag id '65000' is smaller than expected\n",
      "WARNING:fabio.TiffIO:Data at tag id '65000' is smaller than expected\n",
      "WARNING:fabio.TiffIO:Data at tag id '65000' is smaller than expected\n",
      "WARNING:fabio.TiffIO:Data at tag id '65000' is smaller than expected\n",
      "WARNING:fabio.TiffIO:Data at tag id '65000' is smaller than expected\n",
      "WARNING:fabio.TiffIO:Data at tag id '65000' is smaller than expected\n"
     ]
    },
    {
     "name": "stdout",
     "output_type": "stream",
     "text": [
      "LR_LiTFSI_PEDOTPSS_RbBr_pos2_2510.00eV_ai0.80_wa0_bpm13.379_id24207_000000_WAXS.tif\n"
     ]
    },
    {
     "name": "stderr",
     "output_type": "stream",
     "text": [
      "WARNING:fabio.TiffIO:Data at tag id '65000' is smaller than expected\n",
      "WARNING:fabio.TiffIO:Data at tag id '65000' is smaller than expected\n",
      "WARNING:fabio.TiffIO:Data at tag id '65000' is smaller than expected\n",
      "WARNING:fabio.TiffIO:Data at tag id '65000' is smaller than expected\n",
      "WARNING:fabio.TiffIO:Data at tag id '65000' is smaller than expected\n",
      "WARNING:fabio.TiffIO:Data at tag id '65000' is smaller than expected\n"
     ]
    },
    {
     "name": "stdout",
     "output_type": "stream",
     "text": [
      "LR_P3MEEMT23k115C_un_pos2_2485.00eV_ai0.80_wa0_bpm12.821_id23309_000000_WAXS.tif\n"
     ]
    },
    {
     "name": "stderr",
     "output_type": "stream",
     "text": [
      "WARNING:fabio.TiffIO:Data at tag id '65000' is smaller than expected\n",
      "WARNING:fabio.TiffIO:Data at tag id '65000' is smaller than expected\n",
      "WARNING:fabio.TiffIO:Data at tag id '65000' is smaller than expected\n",
      "WARNING:fabio.TiffIO:Data at tag id '65000' is smaller than expected\n",
      "WARNING:fabio.TiffIO:Data at tag id '65000' is smaller than expected\n",
      "WARNING:fabio.TiffIO:Data at tag id '65000' is smaller than expected\n"
     ]
    },
    {
     "name": "stdout",
     "output_type": "stream",
     "text": [
      "LR_AcidPEDOTPSS_exposed_pos2_2478.00eV_ai0.80_wa0_bpm12.802_id21847_000000_WAXS.tif\n"
     ]
    },
    {
     "name": "stderr",
     "output_type": "stream",
     "text": [
      "WARNING:fabio.TiffIO:Data at tag id '65000' is smaller than expected\n",
      "WARNING:fabio.TiffIO:Data at tag id '65000' is smaller than expected\n",
      "WARNING:fabio.TiffIO:Data at tag id '65000' is smaller than expected\n",
      "WARNING:fabio.TiffIO:Data at tag id '65000' is smaller than expected\n",
      "WARNING:fabio.TiffIO:Data at tag id '65000' is smaller than expected\n",
      "WARNING:fabio.TiffIO:Data at tag id '65000' is smaller than expected\n"
     ]
    },
    {
     "name": "stdout",
     "output_type": "stream",
     "text": [
      "LR_LiTFSI_PEDOTPSS_as_pos1_2480.00eV_ai0.80_wa0_bpm109.274_id23517_000000_WAXS.tif\n"
     ]
    },
    {
     "name": "stderr",
     "output_type": "stream",
     "text": [
      "WARNING:fabio.TiffIO:Data at tag id '65000' is smaller than expected\n",
      "WARNING:fabio.TiffIO:Data at tag id '65000' is smaller than expected\n",
      "WARNING:fabio.TiffIO:Data at tag id '65000' is smaller than expected\n",
      "WARNING:fabio.TiffIO:Data at tag id '65000' is smaller than expected\n",
      "WARNING:fabio.TiffIO:Data at tag id '65000' is smaller than expected\n",
      "WARNING:fabio.TiffIO:Data at tag id '65000' is smaller than expected\n"
     ]
    },
    {
     "name": "stdout",
     "output_type": "stream",
     "text": [
      "LR_AcidPEDOTPSS_NaBr_pos1_2485.00eV_ai0.80_wa0_bpm110.045_id22390_000000_WAXS.tif\n"
     ]
    },
    {
     "name": "stderr",
     "output_type": "stream",
     "text": [
      "WARNING:fabio.TiffIO:Data at tag id '65000' is smaller than expected\n",
      "WARNING:fabio.TiffIO:Data at tag id '65000' is smaller than expected\n",
      "WARNING:fabio.TiffIO:Data at tag id '65000' is smaller than expected\n",
      "WARNING:fabio.TiffIO:Data at tag id '65000' is smaller than expected\n",
      "WARNING:fabio.TiffIO:Data at tag id '65000' is smaller than expected\n",
      "WARNING:fabio.TiffIO:Data at tag id '65000' is smaller than expected\n"
     ]
    },
    {
     "name": "stdout",
     "output_type": "stream",
     "text": [
      "LR_AcidPEDOTPSS_RbCl_pos1_2492.50eV_ai0.80_wa0_bpm109.963_id22506_000000_WAXS.tif\n"
     ]
    },
    {
     "name": "stderr",
     "output_type": "stream",
     "text": [
      "WARNING:fabio.TiffIO:Data at tag id '65000' is smaller than expected\n",
      "WARNING:fabio.TiffIO:Data at tag id '65000' is smaller than expected\n",
      "WARNING:fabio.TiffIO:Data at tag id '65000' is smaller than expected\n",
      "WARNING:fabio.TiffIO:Data at tag id '65000' is smaller than expected\n",
      "WARNING:fabio.TiffIO:Data at tag id '65000' is smaller than expected\n",
      "WARNING:fabio.TiffIO:Data at tag id '65000' is smaller than expected\n"
     ]
    },
    {
     "name": "stdout",
     "output_type": "stream",
     "text": [
      "LR_P3MEEMT23k115C_un_pos1_2510.00eV_ai0.80_wa0_bpm109.833_id23300_000000_WAXS.tif\n"
     ]
    },
    {
     "name": "stderr",
     "output_type": "stream",
     "text": [
      "WARNING:fabio.TiffIO:Data at tag id '65000' is smaller than expected\n",
      "WARNING:fabio.TiffIO:Data at tag id '65000' is smaller than expected\n",
      "WARNING:fabio.TiffIO:Data at tag id '65000' is smaller than expected\n",
      "WARNING:fabio.TiffIO:Data at tag id '65000' is smaller than expected\n",
      "WARNING:fabio.TiffIO:Data at tag id '65000' is smaller than expected\n",
      "WARNING:fabio.TiffIO:Data at tag id '65000' is smaller than expected\n"
     ]
    },
    {
     "name": "stdout",
     "output_type": "stream",
     "text": [
      "LR_LiTFSI_PEDOTPSS_redoped_0V_pos1_2480.50eV_ai0.80_wa0_bpm109.487_id23970_000000_WAXS.tif\n"
     ]
    },
    {
     "name": "stderr",
     "output_type": "stream",
     "text": [
      "WARNING:fabio.TiffIO:Data at tag id '65000' is smaller than expected\n",
      "WARNING:fabio.TiffIO:Data at tag id '65000' is smaller than expected\n",
      "WARNING:fabio.TiffIO:Data at tag id '65000' is smaller than expected\n",
      "WARNING:fabio.TiffIO:Data at tag id '65000' is smaller than expected\n",
      "WARNING:fabio.TiffIO:Data at tag id '65000' is smaller than expected\n",
      "WARNING:fabio.TiffIO:Data at tag id '65000' is smaller than expected\n"
     ]
    },
    {
     "name": "stdout",
     "output_type": "stream",
     "text": [
      "LR_AcidPEDOTPSS_RbCl_pos2_2477.00eV_ai0.80_wa0_bpm12.715_id22527_000000_WAXS.tif\n"
     ]
    },
    {
     "name": "stderr",
     "output_type": "stream",
     "text": [
      "WARNING:fabio.TiffIO:Data at tag id '65000' is smaller than expected\n",
      "WARNING:fabio.TiffIO:Data at tag id '65000' is smaller than expected\n",
      "WARNING:fabio.TiffIO:Data at tag id '65000' is smaller than expected\n",
      "WARNING:fabio.TiffIO:Data at tag id '65000' is smaller than expected\n",
      "WARNING:fabio.TiffIO:Data at tag id '65000' is smaller than expected\n",
      "WARNING:fabio.TiffIO:Data at tag id '65000' is smaller than expected\n"
     ]
    },
    {
     "name": "stdout",
     "output_type": "stream",
     "text": [
      "LR_StandardPEDOTPSS_RbBr_pos1_2479.50eV_ai0.80_wa0_bpm109.584_id22838_000000_WAXS.tif\n"
     ]
    },
    {
     "name": "stderr",
     "output_type": "stream",
     "text": [
      "WARNING:fabio.TiffIO:Data at tag id '65000' is smaller than expected\n",
      "WARNING:fabio.TiffIO:Data at tag id '65000' is smaller than expected\n",
      "WARNING:fabio.TiffIO:Data at tag id '65000' is smaller than expected\n",
      "WARNING:fabio.TiffIO:Data at tag id '65000' is smaller than expected\n",
      "WARNING:fabio.TiffIO:Data at tag id '65000' is smaller than expected\n",
      "WARNING:fabio.TiffIO:Data at tag id '65000' is smaller than expected\n"
     ]
    },
    {
     "name": "stdout",
     "output_type": "stream",
     "text": [
      "LR_RivnayFrit_P3MEEET_drop_pos1_2515.00eV_ai0.80_wa0_bpm110.089_id23414_000000_WAXS.tif\n"
     ]
    },
    {
     "name": "stderr",
     "output_type": "stream",
     "text": [
      "WARNING:fabio.TiffIO:Data at tag id '65000' is smaller than expected\n",
      "WARNING:fabio.TiffIO:Data at tag id '65000' is smaller than expected\n",
      "WARNING:fabio.TiffIO:Data at tag id '65000' is smaller than expected\n",
      "WARNING:fabio.TiffIO:Data at tag id '65000' is smaller than expected\n",
      "WARNING:fabio.TiffIO:Data at tag id '65000' is smaller than expected\n",
      "WARNING:fabio.TiffIO:Data at tag id '65000' is smaller than expected\n"
     ]
    },
    {
     "name": "stdout",
     "output_type": "stream",
     "text": [
      "LR_RivnayFrit_P3MEEET_drop_pos2_2477.00eV_ai0.80_wa0_bpm12.652_id23431_000000_WAXS.tif\n"
     ]
    },
    {
     "name": "stderr",
     "output_type": "stream",
     "text": [
      "WARNING:fabio.TiffIO:Data at tag id '65000' is smaller than expected\n",
      "WARNING:fabio.TiffIO:Data at tag id '65000' is smaller than expected\n",
      "WARNING:fabio.TiffIO:Data at tag id '65000' is smaller than expected\n",
      "WARNING:fabio.TiffIO:Data at tag id '65000' is smaller than expected\n",
      "WARNING:fabio.TiffIO:Data at tag id '65000' is smaller than expected\n",
      "WARNING:fabio.TiffIO:Data at tag id '65000' is smaller than expected\n"
     ]
    },
    {
     "name": "stdout",
     "output_type": "stream",
     "text": [
      "LR_StandardPEDOTPSS_NaBr_pos2_2476.00eV_ai0.80_wa0_bpm12.695_id22981_000000_WAXS.tif\n"
     ]
    },
    {
     "name": "stderr",
     "output_type": "stream",
     "text": [
      "WARNING:fabio.TiffIO:Data at tag id '65000' is smaller than expected\n",
      "WARNING:fabio.TiffIO:Data at tag id '65000' is smaller than expected\n",
      "WARNING:fabio.TiffIO:Data at tag id '65000' is smaller than expected\n",
      "WARNING:fabio.TiffIO:Data at tag id '65000' is smaller than expected\n",
      "WARNING:fabio.TiffIO:Data at tag id '65000' is smaller than expected\n",
      "WARNING:fabio.TiffIO:Data at tag id '65000' is smaller than expected\n"
     ]
    },
    {
     "name": "stdout",
     "output_type": "stream",
     "text": [
      "LR_AcidPEDOTPSS_overdope_p0p6_pos1_2510.00eV_ai0.80_wa0_bpm110.406_id22170_000000_WAXS.tif\n"
     ]
    },
    {
     "name": "stderr",
     "output_type": "stream",
     "text": [
      "WARNING:fabio.TiffIO:Data at tag id '65000' is smaller than expected\n",
      "WARNING:fabio.TiffIO:Data at tag id '65000' is smaller than expected\n",
      "WARNING:fabio.TiffIO:Data at tag id '65000' is smaller than expected\n",
      "WARNING:fabio.TiffIO:Data at tag id '65000' is smaller than expected\n",
      "WARNING:fabio.TiffIO:Data at tag id '65000' is smaller than expected\n",
      "WARNING:fabio.TiffIO:Data at tag id '65000' is smaller than expected\n"
     ]
    },
    {
     "name": "stdout",
     "output_type": "stream",
     "text": [
      "LR_AcidPEDOTPSS_0V_pos1_2487.50eV_ai0.80_wa0_bpm109.948_id21939_000000_WAXS.tif\n"
     ]
    },
    {
     "name": "stderr",
     "output_type": "stream",
     "text": [
      "WARNING:fabio.TiffIO:Data at tag id '65000' is smaller than expected\n",
      "WARNING:fabio.TiffIO:Data at tag id '65000' is smaller than expected\n",
      "WARNING:fabio.TiffIO:Data at tag id '65000' is smaller than expected\n",
      "WARNING:fabio.TiffIO:Data at tag id '65000' is smaller than expected\n",
      "WARNING:fabio.TiffIO:Data at tag id '65000' is smaller than expected\n",
      "WARNING:fabio.TiffIO:Data at tag id '65000' is smaller than expected\n"
     ]
    },
    {
     "name": "stdout",
     "output_type": "stream",
     "text": [
      "LR_AcidPEDOTPSS_NaCl_pos1_2490.00eV_ai0.80_wa0_bpm109.932_id22279_000000_WAXS.tif\n"
     ]
    },
    {
     "name": "stderr",
     "output_type": "stream",
     "text": [
      "WARNING:fabio.TiffIO:Data at tag id '65000' is smaller than expected\n",
      "WARNING:fabio.TiffIO:Data at tag id '65000' is smaller than expected\n",
      "WARNING:fabio.TiffIO:Data at tag id '65000' is smaller than expected\n",
      "WARNING:fabio.TiffIO:Data at tag id '65000' is smaller than expected\n",
      "WARNING:fabio.TiffIO:Data at tag id '65000' is smaller than expected\n",
      "WARNING:fabio.TiffIO:Data at tag id '65000' is smaller than expected\n"
     ]
    },
    {
     "name": "stdout",
     "output_type": "stream",
     "text": [
      "LR_StandardPEDOTPSS_NaBr_pos2_2475.00eV_ai0.80_wa0_bpm12.699_id22983_000000_WAXS.tif\n"
     ]
    },
    {
     "name": "stderr",
     "output_type": "stream",
     "text": [
      "WARNING:fabio.TiffIO:Data at tag id '65000' is smaller than expected\n",
      "WARNING:fabio.TiffIO:Data at tag id '65000' is smaller than expected\n",
      "WARNING:fabio.TiffIO:Data at tag id '65000' is smaller than expected\n",
      "WARNING:fabio.TiffIO:Data at tag id '65000' is smaller than expected\n",
      "WARNING:fabio.TiffIO:Data at tag id '65000' is smaller than expected\n",
      "WARNING:fabio.TiffIO:Data at tag id '65000' is smaller than expected\n"
     ]
    },
    {
     "name": "stdout",
     "output_type": "stream",
     "text": [
      "LR_AcidPEDOTPSS_overdope_p0p6_pos1_2470.00eV_ai0.80_wa0_bpm109.826_id22149_000000_WAXS.tif\n"
     ]
    },
    {
     "name": "stderr",
     "output_type": "stream",
     "text": [
      "WARNING:fabio.TiffIO:Data at tag id '65000' is smaller than expected\n",
      "WARNING:fabio.TiffIO:Data at tag id '65000' is smaller than expected\n",
      "WARNING:fabio.TiffIO:Data at tag id '65000' is smaller than expected\n",
      "WARNING:fabio.TiffIO:Data at tag id '65000' is smaller than expected\n",
      "WARNING:fabio.TiffIO:Data at tag id '65000' is smaller than expected\n",
      "WARNING:fabio.TiffIO:Data at tag id '65000' is smaller than expected\n"
     ]
    },
    {
     "name": "stdout",
     "output_type": "stream",
     "text": [
      "LR_AcidPEDOTPSS_exposed_pos2_2490.00eV_ai0.80_wa0_bpm13.074_id21838_000000_WAXS.tif\n"
     ]
    },
    {
     "name": "stderr",
     "output_type": "stream",
     "text": [
      "WARNING:fabio.TiffIO:Data at tag id '65000' is smaller than expected\n",
      "WARNING:fabio.TiffIO:Data at tag id '65000' is smaller than expected\n",
      "WARNING:fabio.TiffIO:Data at tag id '65000' is smaller than expected\n",
      "WARNING:fabio.TiffIO:Data at tag id '65000' is smaller than expected\n",
      "WARNING:fabio.TiffIO:Data at tag id '65000' is smaller than expected\n",
      "WARNING:fabio.TiffIO:Data at tag id '65000' is smaller than expected\n"
     ]
    },
    {
     "name": "stdout",
     "output_type": "stream",
     "text": [
      "LR_LiTFSI_PEDOTPSS_redoped_0V_pos1_2477.00eV_ai0.80_wa0_bpm109.176_id23963_000000_WAXS.tif\n"
     ]
    },
    {
     "name": "stderr",
     "output_type": "stream",
     "text": [
      "WARNING:fabio.TiffIO:Data at tag id '65000' is smaller than expected\n",
      "WARNING:fabio.TiffIO:Data at tag id '65000' is smaller than expected\n",
      "WARNING:fabio.TiffIO:Data at tag id '65000' is smaller than expected\n",
      "WARNING:fabio.TiffIO:Data at tag id '65000' is smaller than expected\n",
      "WARNING:fabio.TiffIO:Data at tag id '65000' is smaller than expected\n",
      "WARNING:fabio.TiffIO:Data at tag id '65000' is smaller than expected\n"
     ]
    },
    {
     "name": "stdout",
     "output_type": "stream",
     "text": [
      "LR_AcidPEDOTPSS_as_pos1_2500.00eV_ai0.80_wa0_bpm110.890_id21717_000000_WAXS.tif\n"
     ]
    },
    {
     "name": "stderr",
     "output_type": "stream",
     "text": [
      "WARNING:fabio.TiffIO:Data at tag id '65000' is smaller than expected\n",
      "WARNING:fabio.TiffIO:Data at tag id '65000' is smaller than expected\n",
      "WARNING:fabio.TiffIO:Data at tag id '65000' is smaller than expected\n",
      "WARNING:fabio.TiffIO:Data at tag id '65000' is smaller than expected\n"
     ]
    },
    {
     "name": "stdout",
     "output_type": "stream",
     "text": [
      "LR_P3MEEMT23k115C_0p7_KTFSI_pos1_2495.00eV_ai0.80_wa0_bpm109.624_id23072_000000_WAXS.tif\n"
     ]
    },
    {
     "name": "stderr",
     "output_type": "stream",
     "text": [
      "WARNING:fabio.TiffIO:Data at tag id '65000' is smaller than expected\n",
      "WARNING:fabio.TiffIO:Data at tag id '65000' is smaller than expected\n",
      "WARNING:fabio.TiffIO:Data at tag id '65000' is smaller than expected\n",
      "WARNING:fabio.TiffIO:Data at tag id '65000' is smaller than expected\n",
      "WARNING:fabio.TiffIO:Data at tag id '65000' is smaller than expected\n",
      "WARNING:fabio.TiffIO:Data at tag id '65000' is smaller than expected\n",
      "WARNING:fabio.TiffIO:Data at tag id '65000' is smaller than expected\n",
      "WARNING:fabio.TiffIO:Data at tag id '65000' is smaller than expected\n"
     ]
    },
    {
     "name": "stdout",
     "output_type": "stream",
     "text": [
      "LR_AcidPEDOTPSS_as_pos2_2495.00eV_ai0.80_wa0_bpm13.215_id21723_000000_WAXS.tif\n"
     ]
    },
    {
     "name": "stderr",
     "output_type": "stream",
     "text": [
      "WARNING:fabio.TiffIO:Data at tag id '65000' is smaller than expected\n",
      "WARNING:fabio.TiffIO:Data at tag id '65000' is smaller than expected\n",
      "WARNING:fabio.TiffIO:Data at tag id '65000' is smaller than expected\n",
      "WARNING:fabio.TiffIO:Data at tag id '65000' is smaller than expected\n",
      "WARNING:fabio.TiffIO:Data at tag id '65000' is smaller than expected\n",
      "WARNING:fabio.TiffIO:Data at tag id '65000' is smaller than expected\n"
     ]
    },
    {
     "name": "stdout",
     "output_type": "stream",
     "text": [
      "LR_AcidPEDOTPSS_NaBr_pos1_2473.00eV_ai0.80_wa0_bpm110.245_id22376_000000_WAXS.tif\n"
     ]
    },
    {
     "name": "stderr",
     "output_type": "stream",
     "text": [
      "WARNING:fabio.TiffIO:Data at tag id '65000' is smaller than expected\n",
      "WARNING:fabio.TiffIO:Data at tag id '65000' is smaller than expected\n",
      "WARNING:fabio.TiffIO:Data at tag id '65000' is smaller than expected\n",
      "WARNING:fabio.TiffIO:Data at tag id '65000' is smaller than expected\n",
      "WARNING:fabio.TiffIO:Data at tag id '65000' is smaller than expected\n",
      "WARNING:fabio.TiffIO:Data at tag id '65000' is smaller than expected\n"
     ]
    },
    {
     "name": "stdout",
     "output_type": "stream",
     "text": [
      "LR_AcidPEDOTPSS_RbCl_pos1_2480.00eV_ai0.80_wa0_bpm109.693_id22500_000000_WAXS.tif\n"
     ]
    },
    {
     "name": "stderr",
     "output_type": "stream",
     "text": [
      "WARNING:fabio.TiffIO:Data at tag id '65000' is smaller than expected\n",
      "WARNING:fabio.TiffIO:Data at tag id '65000' is smaller than expected\n",
      "WARNING:fabio.TiffIO:Data at tag id '65000' is smaller than expected\n",
      "WARNING:fabio.TiffIO:Data at tag id '65000' is smaller than expected\n",
      "WARNING:fabio.TiffIO:Data at tag id '65000' is smaller than expected\n",
      "WARNING:fabio.TiffIO:Data at tag id '65000' is smaller than expected\n"
     ]
    },
    {
     "name": "stdout",
     "output_type": "stream",
     "text": [
      "LR_AcidPEDOTPSS_0V_pos2_2476.00eV_ai0.80_wa0_bpm12.751_id21964_000000_WAXS.tif\n"
     ]
    },
    {
     "name": "stderr",
     "output_type": "stream",
     "text": [
      "WARNING:fabio.TiffIO:Data at tag id '65000' is smaller than expected\n",
      "WARNING:fabio.TiffIO:Data at tag id '65000' is smaller than expected\n",
      "WARNING:fabio.TiffIO:Data at tag id '65000' is smaller than expected\n",
      "WARNING:fabio.TiffIO:Data at tag id '65000' is smaller than expected\n",
      "WARNING:fabio.TiffIO:Data at tag id '65000' is smaller than expected\n",
      "WARNING:fabio.TiffIO:Data at tag id '65000' is smaller than expected\n"
     ]
    },
    {
     "name": "stdout",
     "output_type": "stream",
     "text": [
      "LR_AcidPEDOTPSS_dedope_n0p6_pos2_2478.50eV_ai0.80_wa0_bpm12.758_id22072_000000_WAXS.tif\n"
     ]
    },
    {
     "name": "stderr",
     "output_type": "stream",
     "text": [
      "WARNING:fabio.TiffIO:Data at tag id '65000' is smaller than expected\n",
      "WARNING:fabio.TiffIO:Data at tag id '65000' is smaller than expected\n",
      "WARNING:fabio.TiffIO:Data at tag id '65000' is smaller than expected\n",
      "WARNING:fabio.TiffIO:Data at tag id '65000' is smaller than expected\n",
      "WARNING:fabio.TiffIO:Data at tag id '65000' is smaller than expected\n",
      "WARNING:fabio.TiffIO:Data at tag id '65000' is smaller than expected\n"
     ]
    },
    {
     "name": "stdout",
     "output_type": "stream",
     "text": [
      "LR_StandardPEDOTPSS_RbBr_pos2_2495.00eV_ai0.80_wa0_bpm13.069_id22853_000000_WAXS.tif\n"
     ]
    },
    {
     "name": "stderr",
     "output_type": "stream",
     "text": [
      "WARNING:fabio.TiffIO:Data at tag id '65000' is smaller than expected\n",
      "WARNING:fabio.TiffIO:Data at tag id '65000' is smaller than expected\n",
      "WARNING:fabio.TiffIO:Data at tag id '65000' is smaller than expected\n",
      "WARNING:fabio.TiffIO:Data at tag id '65000' is smaller than expected\n",
      "WARNING:fabio.TiffIO:Data at tag id '65000' is smaller than expected\n",
      "WARNING:fabio.TiffIO:Data at tag id '65000' is smaller than expected\n"
     ]
    },
    {
     "name": "stdout",
     "output_type": "stream",
     "text": [
      "LR_LiTFSI_PEDOTPSS_as_pos1_2470.00eV_ai0.80_wa0_bpm109.580_id23505_000000_WAXS.tif\n"
     ]
    },
    {
     "name": "stderr",
     "output_type": "stream",
     "text": [
      "WARNING:fabio.TiffIO:Data at tag id '65000' is smaller than expected\n",
      "WARNING:fabio.TiffIO:Data at tag id '65000' is smaller than expected\n",
      "WARNING:fabio.TiffIO:Data at tag id '65000' is smaller than expected\n",
      "WARNING:fabio.TiffIO:Data at tag id '65000' is smaller than expected\n",
      "WARNING:fabio.TiffIO:Data at tag id '65000' is smaller than expected\n",
      "WARNING:fabio.TiffIO:Data at tag id '65000' is smaller than expected\n"
     ]
    },
    {
     "name": "stdout",
     "output_type": "stream",
     "text": [
      "LR_StandardPEDOTPSS_RbBr_pos2_2485.00eV_ai0.80_wa0_bpm12.804_id22857_000000_WAXS.tif\n"
     ]
    },
    {
     "name": "stderr",
     "output_type": "stream",
     "text": [
      "WARNING:fabio.TiffIO:Data at tag id '65000' is smaller than expected\n",
      "WARNING:fabio.TiffIO:Data at tag id '65000' is smaller than expected\n",
      "WARNING:fabio.TiffIO:Data at tag id '65000' is smaller than expected\n",
      "WARNING:fabio.TiffIO:Data at tag id '65000' is smaller than expected\n",
      "WARNING:fabio.TiffIO:Data at tag id '65000' is smaller than expected\n",
      "WARNING:fabio.TiffIO:Data at tag id '65000' is smaller than expected\n"
     ]
    },
    {
     "name": "stdout",
     "output_type": "stream",
     "text": [
      "LR_RivnayFrit_P3MEEET_drop_pos1_2487.50eV_ai0.80_wa0_bpm109.252_id23408_000000_WAXS.tif\n"
     ]
    },
    {
     "name": "stderr",
     "output_type": "stream",
     "text": [
      "WARNING:fabio.TiffIO:Data at tag id '65000' is smaller than expected\n",
      "WARNING:fabio.TiffIO:Data at tag id '65000' is smaller than expected\n",
      "WARNING:fabio.TiffIO:Data at tag id '65000' is smaller than expected\n",
      "WARNING:fabio.TiffIO:Data at tag id '65000' is smaller than expected\n",
      "WARNING:fabio.TiffIO:Data at tag id '65000' is smaller than expected\n",
      "WARNING:fabio.TiffIO:Data at tag id '65000' is smaller than expected\n"
     ]
    },
    {
     "name": "stdout",
     "output_type": "stream",
     "text": [
      "LR_AcidPEDOTPSS_exposed_pos1_2465.00eV_ai0.80_wa0_bpm110.423_id21809_000000_WAXS.tif\n"
     ]
    },
    {
     "name": "stderr",
     "output_type": "stream",
     "text": [
      "WARNING:fabio.TiffIO:Data at tag id '65000' is smaller than expected\n",
      "WARNING:fabio.TiffIO:Data at tag id '65000' is smaller than expected\n",
      "WARNING:fabio.TiffIO:Data at tag id '65000' is smaller than expected\n",
      "WARNING:fabio.TiffIO:Data at tag id '65000' is smaller than expected\n",
      "WARNING:fabio.TiffIO:Data at tag id '65000' is smaller than expected\n",
      "WARNING:fabio.TiffIO:Data at tag id '65000' is smaller than expected\n"
     ]
    },
    {
     "name": "stdout",
     "output_type": "stream",
     "text": [
      "LR_P3MEEMT23k115C_0p7_KTFSI_pos2_2510.00eV_ai0.80_wa0_bpm13.393_id23077_000000_WAXS.tif\n"
     ]
    },
    {
     "name": "stderr",
     "output_type": "stream",
     "text": [
      "WARNING:fabio.TiffIO:Data at tag id '65000' is smaller than expected\n",
      "WARNING:fabio.TiffIO:Data at tag id '65000' is smaller than expected\n",
      "WARNING:fabio.TiffIO:Data at tag id '65000' is smaller than expected\n",
      "WARNING:fabio.TiffIO:Data at tag id '65000' is smaller than expected\n",
      "WARNING:fabio.TiffIO:Data at tag id '65000' is smaller than expected\n",
      "WARNING:fabio.TiffIO:Data at tag id '65000' is smaller than expected\n"
     ]
    },
    {
     "name": "stdout",
     "output_type": "stream",
     "text": [
      "LR_LiTFSI_PEDOTPSS_dedoped_n0p6_pos2_2495.00eV_ai0.80_wa0_bpm13.097_id23870_000000_WAXS.tif\n"
     ]
    },
    {
     "name": "stderr",
     "output_type": "stream",
     "text": [
      "WARNING:fabio.TiffIO:Data at tag id '65000' is smaller than expected\n",
      "WARNING:fabio.TiffIO:Data at tag id '65000' is smaller than expected\n",
      "WARNING:fabio.TiffIO:Data at tag id '65000' is smaller than expected\n",
      "WARNING:fabio.TiffIO:Data at tag id '65000' is smaller than expected\n",
      "WARNING:fabio.TiffIO:Data at tag id '65000' is smaller than expected\n",
      "WARNING:fabio.TiffIO:Data at tag id '65000' is smaller than expected\n"
     ]
    },
    {
     "name": "stdout",
     "output_type": "stream",
     "text": [
      "LR_StandardPEDOTPSS_RbBr_pos1_2465.00eV_ai0.80_wa0_bpm109.666_id22826_000000_WAXS.tif\n"
     ]
    },
    {
     "name": "stderr",
     "output_type": "stream",
     "text": [
      "WARNING:fabio.TiffIO:Data at tag id '65000' is smaller than expected\n",
      "WARNING:fabio.TiffIO:Data at tag id '65000' is smaller than expected\n",
      "WARNING:fabio.TiffIO:Data at tag id '65000' is smaller than expected\n",
      "WARNING:fabio.TiffIO:Data at tag id '65000' is smaller than expected\n",
      "WARNING:fabio.TiffIO:Data at tag id '65000' is smaller than expected\n",
      "WARNING:fabio.TiffIO:Data at tag id '65000' is smaller than expected\n"
     ]
    },
    {
     "name": "stdout",
     "output_type": "stream",
     "text": [
      "LR_RivnayFrit_P3MEEET_drop_pos1_2475.50eV_ai0.80_wa0_bpm109.285_id23395_000000_WAXS.tif\n"
     ]
    },
    {
     "name": "stderr",
     "output_type": "stream",
     "text": [
      "WARNING:fabio.TiffIO:Data at tag id '65000' is smaller than expected\n",
      "WARNING:fabio.TiffIO:Data at tag id '65000' is smaller than expected\n",
      "WARNING:fabio.TiffIO:Data at tag id '65000' is smaller than expected\n",
      "WARNING:fabio.TiffIO:Data at tag id '65000' is smaller than expected\n",
      "WARNING:fabio.TiffIO:Data at tag id '65000' is smaller than expected\n",
      "WARNING:fabio.TiffIO:Data at tag id '65000' is smaller than expected\n"
     ]
    },
    {
     "name": "stdout",
     "output_type": "stream",
     "text": [
      "LR_StandardPEDOTPSS_as_pos2_2470.00eV_ai0.80_wa0_bpm12.670_id22759_000000_WAXS.tif\n"
     ]
    },
    {
     "name": "stderr",
     "output_type": "stream",
     "text": [
      "WARNING:fabio.TiffIO:Data at tag id '65000' is smaller than expected\n",
      "WARNING:fabio.TiffIO:Data at tag id '65000' is smaller than expected\n",
      "WARNING:fabio.TiffIO:Data at tag id '65000' is smaller than expected\n",
      "WARNING:fabio.TiffIO:Data at tag id '65000' is smaller than expected\n",
      "WARNING:fabio.TiffIO:Data at tag id '65000' is smaller than expected\n"
     ]
    },
    {
     "name": "stdout",
     "output_type": "stream",
     "text": [
      "LR_StandardPEDOTPSS_NaBr_pos1_2492.50eV_ai0.80_wa0_bpm109.769_id22958_000000_WAXS.tif\n"
     ]
    },
    {
     "name": "stderr",
     "output_type": "stream",
     "text": [
      "WARNING:fabio.TiffIO:Data at tag id '65000' is smaller than expected\n",
      "WARNING:fabio.TiffIO:Data at tag id '65000' is smaller than expected\n",
      "WARNING:fabio.TiffIO:Data at tag id '65000' is smaller than expected\n",
      "WARNING:fabio.TiffIO:Data at tag id '65000' is smaller than expected\n",
      "WARNING:fabio.TiffIO:Data at tag id '65000' is smaller than expected\n",
      "WARNING:fabio.TiffIO:Data at tag id '65000' is smaller than expected\n",
      "WARNING:fabio.TiffIO:Data at tag id '65000' is smaller than expected\n"
     ]
    },
    {
     "name": "stdout",
     "output_type": "stream",
     "text": [
      "LR_LiTFSI_PEDOTPSS_redoped_0V_pos1_2487.50eV_ai0.80_wa0_bpm109.351_id23973_000000_WAXS.tif\n"
     ]
    },
    {
     "name": "stderr",
     "output_type": "stream",
     "text": [
      "WARNING:fabio.TiffIO:Data at tag id '65000' is smaller than expected\n",
      "WARNING:fabio.TiffIO:Data at tag id '65000' is smaller than expected\n",
      "WARNING:fabio.TiffIO:Data at tag id '65000' is smaller than expected\n",
      "WARNING:fabio.TiffIO:Data at tag id '65000' is smaller than expected\n",
      "WARNING:fabio.TiffIO:Data at tag id '65000' is smaller than expected\n",
      "WARNING:fabio.TiffIO:Data at tag id '65000' is smaller than expected\n"
     ]
    },
    {
     "name": "stdout",
     "output_type": "stream",
     "text": [
      "LR_AcidPEDOTPSS_RbBr_pos2_2470.00eV_ai0.80_wa0_bpm12.667_id22646_000000_WAXS.tif\n"
     ]
    },
    {
     "name": "stderr",
     "output_type": "stream",
     "text": [
      "WARNING:fabio.TiffIO:Data at tag id '65000' is smaller than expected\n",
      "WARNING:fabio.TiffIO:Data at tag id '65000' is smaller than expected\n",
      "WARNING:fabio.TiffIO:Data at tag id '65000' is smaller than expected\n",
      "WARNING:fabio.TiffIO:Data at tag id '65000' is smaller than expected\n",
      "WARNING:fabio.TiffIO:Data at tag id '65000' is smaller than expected\n",
      "WARNING:fabio.TiffIO:Data at tag id '65000' is smaller than expected\n"
     ]
    },
    {
     "name": "stdout",
     "output_type": "stream",
     "text": [
      "LR_StandardPEDOTPSS_as_pos2_2490.00eV_ai0.80_wa0_bpm12.988_id22742_000000_WAXS.tif\n"
     ]
    },
    {
     "name": "stderr",
     "output_type": "stream",
     "text": [
      "WARNING:fabio.TiffIO:Data at tag id '65000' is smaller than expected\n",
      "WARNING:fabio.TiffIO:Data at tag id '65000' is smaller than expected\n",
      "WARNING:fabio.TiffIO:Data at tag id '65000' is smaller than expected\n",
      "WARNING:fabio.TiffIO:Data at tag id '65000' is smaller than expected\n",
      "WARNING:fabio.TiffIO:Data at tag id '65000' is smaller than expected\n",
      "WARNING:fabio.TiffIO:Data at tag id '65000' is smaller than expected\n"
     ]
    },
    {
     "name": "stdout",
     "output_type": "stream",
     "text": [
      "LR_AcidPEDOTPSS_dedope_n0p6_pos1_2483.00eV_ai0.80_wa0_bpm110.194_id22050_000000_WAXS.tif\n"
     ]
    },
    {
     "name": "stderr",
     "output_type": "stream",
     "text": [
      "WARNING:fabio.TiffIO:Data at tag id '65000' is smaller than expected\n",
      "WARNING:fabio.TiffIO:Data at tag id '65000' is smaller than expected\n",
      "WARNING:fabio.TiffIO:Data at tag id '65000' is smaller than expected\n",
      "WARNING:fabio.TiffIO:Data at tag id '65000' is smaller than expected\n",
      "WARNING:fabio.TiffIO:Data at tag id '65000' is smaller than expected\n",
      "WARNING:fabio.TiffIO:Data at tag id '65000' is smaller than expected\n"
     ]
    },
    {
     "name": "stdout",
     "output_type": "stream",
     "text": [
      "LR_AcidPEDOTPSS_0V_pos1_2485.00eV_ai0.80_wa0_bpm109.953_id21938_000000_WAXS.tif\n"
     ]
    },
    {
     "name": "stderr",
     "output_type": "stream",
     "text": [
      "WARNING:fabio.TiffIO:Data at tag id '65000' is smaller than expected\n",
      "WARNING:fabio.TiffIO:Data at tag id '65000' is smaller than expected\n",
      "WARNING:fabio.TiffIO:Data at tag id '65000' is smaller than expected\n",
      "WARNING:fabio.TiffIO:Data at tag id '65000' is smaller than expected\n",
      "WARNING:fabio.TiffIO:Data at tag id '65000' is smaller than expected\n",
      "WARNING:fabio.TiffIO:Data at tag id '65000' is smaller than expected\n"
     ]
    },
    {
     "name": "stdout",
     "output_type": "stream",
     "text": [
      "LR_StandardPEDOTPSS_as_pos2_2480.50eV_ai0.80_wa0_bpm12.775_id22746_000000_WAXS.tif\n"
     ]
    },
    {
     "name": "stderr",
     "output_type": "stream",
     "text": [
      "WARNING:fabio.TiffIO:Data at tag id '65000' is smaller than expected\n",
      "WARNING:fabio.TiffIO:Data at tag id '65000' is smaller than expected\n",
      "WARNING:fabio.TiffIO:Data at tag id '65000' is smaller than expected\n",
      "WARNING:fabio.TiffIO:Data at tag id '65000' is smaller than expected\n",
      "WARNING:fabio.TiffIO:Data at tag id '65000' is smaller than expected\n",
      "WARNING:fabio.TiffIO:Data at tag id '65000' is smaller than expected\n"
     ]
    },
    {
     "name": "stdout",
     "output_type": "stream",
     "text": [
      "LR_RivnayFrit_P3MEEET_drop_pos2_2475.50eV_ai0.80_wa0_bpm12.663_id23434_000000_WAXS.tif\n"
     ]
    },
    {
     "name": "stderr",
     "output_type": "stream",
     "text": [
      "WARNING:fabio.TiffIO:Data at tag id '65000' is smaller than expected\n",
      "WARNING:fabio.TiffIO:Data at tag id '65000' is smaller than expected\n",
      "WARNING:fabio.TiffIO:Data at tag id '65000' is smaller than expected\n",
      "WARNING:fabio.TiffIO:Data at tag id '65000' is smaller than expected\n",
      "WARNING:fabio.TiffIO:Data at tag id '65000' is smaller than expected\n",
      "WARNING:fabio.TiffIO:Data at tag id '65000' is smaller than expected\n"
     ]
    },
    {
     "name": "stdout",
     "output_type": "stream",
     "text": [
      "LR_AcidPEDOTPSS_RbBr_pos1_2476.00eV_ai0.80_wa0_bpm109.722_id22605_000000_WAXS.tif\n"
     ]
    },
    {
     "name": "stderr",
     "output_type": "stream",
     "text": [
      "WARNING:fabio.TiffIO:Data at tag id '65000' is smaller than expected\n",
      "WARNING:fabio.TiffIO:Data at tag id '65000' is smaller than expected\n",
      "WARNING:fabio.TiffIO:Data at tag id '65000' is smaller than expected\n",
      "WARNING:fabio.TiffIO:Data at tag id '65000' is smaller than expected\n",
      "WARNING:fabio.TiffIO:Data at tag id '65000' is smaller than expected\n",
      "WARNING:fabio.TiffIO:Data at tag id '65000' is smaller than expected\n"
     ]
    },
    {
     "name": "stdout",
     "output_type": "stream",
     "text": [
      "LR_LiTFSI_PEDOTPSS_exposed_pos1_2450.00eV_ai0.80_wa0_bpm111.566_id23614_000000_WAXS.tif\n"
     ]
    },
    {
     "name": "stderr",
     "output_type": "stream",
     "text": [
      "WARNING:fabio.TiffIO:Data at tag id '65000' is smaller than expected\n",
      "WARNING:fabio.TiffIO:Data at tag id '65000' is smaller than expected\n",
      "WARNING:fabio.TiffIO:Data at tag id '65000' is smaller than expected\n",
      "WARNING:fabio.TiffIO:Data at tag id '65000' is smaller than expected\n",
      "WARNING:fabio.TiffIO:Data at tag id '65000' is smaller than expected\n",
      "WARNING:fabio.TiffIO:Data at tag id '65000' is smaller than expected\n"
     ]
    },
    {
     "name": "stdout",
     "output_type": "stream",
     "text": [
      "LR_LiTFSI_PEDOTPSS_dedoped_n0p6_pos1_2495.00eV_ai0.80_wa0_bpm109.505_id23863_000000_WAXS.tif\n"
     ]
    },
    {
     "name": "stderr",
     "output_type": "stream",
     "text": [
      "WARNING:fabio.TiffIO:Data at tag id '65000' is smaller than expected\n",
      "WARNING:fabio.TiffIO:Data at tag id '65000' is smaller than expected\n",
      "WARNING:fabio.TiffIO:Data at tag id '65000' is smaller than expected\n",
      "WARNING:fabio.TiffIO:Data at tag id '65000' is smaller than expected\n",
      "WARNING:fabio.TiffIO:Data at tag id '65000' is smaller than expected\n",
      "WARNING:fabio.TiffIO:Data at tag id '65000' is smaller than expected\n"
     ]
    },
    {
     "name": "stdout",
     "output_type": "stream",
     "text": [
      "LR_LiTFSI_PEDOTPSS_overdoped_p0p6V_pos1_2495.00eV_ai0.80_wa0_bpm109.471_id24089_000000_WAXS.tif\n"
     ]
    },
    {
     "name": "stderr",
     "output_type": "stream",
     "text": [
      "WARNING:fabio.TiffIO:Data at tag id '65000' is smaller than expected\n",
      "WARNING:fabio.TiffIO:Data at tag id '65000' is smaller than expected\n",
      "WARNING:fabio.TiffIO:Data at tag id '65000' is smaller than expected\n",
      "WARNING:fabio.TiffIO:Data at tag id '65000' is smaller than expected\n",
      "WARNING:fabio.TiffIO:Data at tag id '65000' is smaller than expected\n",
      "WARNING:fabio.TiffIO:Data at tag id '65000' is smaller than expected\n"
     ]
    },
    {
     "name": "stdout",
     "output_type": "stream",
     "text": [
      "LR_StandardPEDOTPSS_as_pos2_2476.00eV_ai0.80_wa0_bpm12.692_id22755_000000_WAXS.tif\n"
     ]
    },
    {
     "name": "stderr",
     "output_type": "stream",
     "text": [
      "WARNING:fabio.TiffIO:Data at tag id '65000' is smaller than expected\n",
      "WARNING:fabio.TiffIO:Data at tag id '65000' is smaller than expected\n",
      "WARNING:fabio.TiffIO:Data at tag id '65000' is smaller than expected\n",
      "WARNING:fabio.TiffIO:Data at tag id '65000' is smaller than expected\n",
      "WARNING:fabio.TiffIO:Data at tag id '65000' is smaller than expected\n",
      "WARNING:fabio.TiffIO:Data at tag id '65000' is smaller than expected\n"
     ]
    },
    {
     "name": "stdout",
     "output_type": "stream",
     "text": [
      "LR_AcidPEDOTPSS_overdope_p0p6_pos2_2465.00eV_ai0.80_wa0_bpm12.604_id22195_000000_WAXS.tif\n"
     ]
    },
    {
     "name": "stderr",
     "output_type": "stream",
     "text": [
      "WARNING:fabio.TiffIO:Data at tag id '65000' is smaller than expected\n",
      "WARNING:fabio.TiffIO:Data at tag id '65000' is smaller than expected\n",
      "WARNING:fabio.TiffIO:Data at tag id '65000' is smaller than expected\n",
      "WARNING:fabio.TiffIO:Data at tag id '65000' is smaller than expected\n",
      "WARNING:fabio.TiffIO:Data at tag id '65000' is smaller than expected\n",
      "WARNING:fabio.TiffIO:Data at tag id '65000' is smaller than expected\n"
     ]
    },
    {
     "name": "stdout",
     "output_type": "stream",
     "text": [
      "LR_LiTFSI_PEDOTPSS_as_pos2_2470.00eV_ai0.80_wa0_bpm12.628_id23550_000000_WAXS.tif\n"
     ]
    },
    {
     "name": "stderr",
     "output_type": "stream",
     "text": [
      "WARNING:fabio.TiffIO:Data at tag id '65000' is smaller than expected\n",
      "WARNING:fabio.TiffIO:Data at tag id '65000' is smaller than expected\n",
      "WARNING:fabio.TiffIO:Data at tag id '65000' is smaller than expected\n",
      "WARNING:fabio.TiffIO:Data at tag id '65000' is smaller than expected\n",
      "WARNING:fabio.TiffIO:Data at tag id '65000' is smaller than expected\n",
      "WARNING:fabio.TiffIO:Data at tag id '65000' is smaller than expected\n"
     ]
    },
    {
     "name": "stdout",
     "output_type": "stream",
     "text": [
      "LR_StandardPEDOTPSS_NaBr_pos1_2465.00eV_ai0.80_wa0_bpm110.021_id22939_000000_WAXS.tif\n"
     ]
    },
    {
     "name": "stderr",
     "output_type": "stream",
     "text": [
      "WARNING:fabio.TiffIO:Data at tag id '65000' is smaller than expected\n",
      "WARNING:fabio.TiffIO:Data at tag id '65000' is smaller than expected\n",
      "WARNING:fabio.TiffIO:Data at tag id '65000' is smaller than expected\n",
      "WARNING:fabio.TiffIO:Data at tag id '65000' is smaller than expected\n",
      "WARNING:fabio.TiffIO:Data at tag id '65000' is smaller than expected\n",
      "WARNING:fabio.TiffIO:Data at tag id '65000' is smaller than expected\n"
     ]
    },
    {
     "name": "stdout",
     "output_type": "stream",
     "text": [
      "LR_LiTFSI_PEDOTPSS_overdoped_p0p6V_pos1_2465.00eV_ai0.80_wa0_bpm109.667_id24069_000000_WAXS.tif\n"
     ]
    },
    {
     "name": "stderr",
     "output_type": "stream",
     "text": [
      "WARNING:fabio.TiffIO:Data at tag id '65000' is smaller than expected\n",
      "WARNING:fabio.TiffIO:Data at tag id '65000' is smaller than expected\n",
      "WARNING:fabio.TiffIO:Data at tag id '65000' is smaller than expected\n",
      "WARNING:fabio.TiffIO:Data at tag id '65000' is smaller than expected\n",
      "WARNING:fabio.TiffIO:Data at tag id '65000' is smaller than expected\n",
      "WARNING:fabio.TiffIO:Data at tag id '65000' is smaller than expected\n"
     ]
    },
    {
     "name": "stdout",
     "output_type": "stream",
     "text": [
      "LR_AcidPEDOTPSS_dedope_n0p6_pos1_2475.00eV_ai0.80_wa0_bpm110.228_id22038_000000_WAXS.tif\n"
     ]
    },
    {
     "name": "stderr",
     "output_type": "stream",
     "text": [
      "WARNING:fabio.TiffIO:Data at tag id '65000' is smaller than expected\n",
      "WARNING:fabio.TiffIO:Data at tag id '65000' is smaller than expected\n",
      "WARNING:fabio.TiffIO:Data at tag id '65000' is smaller than expected\n",
      "WARNING:fabio.TiffIO:Data at tag id '65000' is smaller than expected\n",
      "WARNING:fabio.TiffIO:Data at tag id '65000' is smaller than expected\n",
      "WARNING:fabio.TiffIO:Data at tag id '65000' is smaller than expected\n"
     ]
    },
    {
     "name": "stdout",
     "output_type": "stream",
     "text": [
      "LR_RivnayFrit_P3MEEET_drop_pos2_2478.50eV_ai0.80_wa0_bpm12.695_id23428_000000_WAXS.tif\n"
     ]
    },
    {
     "name": "stderr",
     "output_type": "stream",
     "text": [
      "WARNING:fabio.TiffIO:Data at tag id '65000' is smaller than expected\n",
      "WARNING:fabio.TiffIO:Data at tag id '65000' is smaller than expected\n",
      "WARNING:fabio.TiffIO:Data at tag id '65000' is smaller than expected\n",
      "WARNING:fabio.TiffIO:Data at tag id '65000' is smaller than expected\n",
      "WARNING:fabio.TiffIO:Data at tag id '65000' is smaller than expected\n"
     ]
    },
    {
     "name": "stdout",
     "output_type": "stream",
     "text": [
      "LR_LiTFSI_PEDOTPSS_as_pos1_2485.00eV_ai0.80_wa0_bpm109.383_id23520_000000_WAXS.tif\n"
     ]
    },
    {
     "name": "stderr",
     "output_type": "stream",
     "text": [
      "WARNING:fabio.TiffIO:Data at tag id '65000' is smaller than expected\n",
      "WARNING:fabio.TiffIO:Data at tag id '65000' is smaller than expected\n",
      "WARNING:fabio.TiffIO:Data at tag id '65000' is smaller than expected\n",
      "WARNING:fabio.TiffIO:Data at tag id '65000' is smaller than expected\n",
      "WARNING:fabio.TiffIO:Data at tag id '65000' is smaller than expected\n",
      "WARNING:fabio.TiffIO:Data at tag id '65000' is smaller than expected\n"
     ]
    },
    {
     "name": "stdout",
     "output_type": "stream",
     "text": [
      "LR_AcidPEDOTPSS_NaCl_pos2_2500.00eV_ai0.80_wa0_bpm13.275_id22287_000000_WAXS.tif\n"
     ]
    },
    {
     "name": "stderr",
     "output_type": "stream",
     "text": [
      "WARNING:fabio.TiffIO:Data at tag id '65000' is smaller than expected\n",
      "WARNING:fabio.TiffIO:Data at tag id '65000' is smaller than expected\n",
      "WARNING:fabio.TiffIO:Data at tag id '65000' is smaller than expected\n",
      "WARNING:fabio.TiffIO:Data at tag id '65000' is smaller than expected\n",
      "WARNING:fabio.TiffIO:Data at tag id '65000' is smaller than expected\n",
      "WARNING:fabio.TiffIO:Data at tag id '65000' is smaller than expected\n",
      "WARNING:fabio.TiffIO:Data at tag id '65000' is smaller than expected\n"
     ]
    },
    {
     "name": "stdout",
     "output_type": "stream",
     "text": [
      "LR_AcidPEDOTPSS_as_pos2_2492.50eV_ai0.80_wa0_bpm13.144_id21724_000000_WAXS.tif\n"
     ]
    },
    {
     "name": "stderr",
     "output_type": "stream",
     "text": [
      "WARNING:fabio.TiffIO:Data at tag id '65000' is smaller than expected\n",
      "WARNING:fabio.TiffIO:Data at tag id '65000' is smaller than expected\n",
      "WARNING:fabio.TiffIO:Data at tag id '65000' is smaller than expected\n",
      "WARNING:fabio.TiffIO:Data at tag id '65000' is smaller than expected\n",
      "WARNING:fabio.TiffIO:Data at tag id '65000' is smaller than expected\n",
      "WARNING:fabio.TiffIO:Data at tag id '65000' is smaller than expected\n"
     ]
    },
    {
     "name": "stdout",
     "output_type": "stream",
     "text": [
      "LR_P3MEEMT23k115C_0p7_KTFSI_pos1_2450.00eV_ai0.80_wa0_bpm111.057_id23049_000000_WAXS.tif\n"
     ]
    },
    {
     "name": "stderr",
     "output_type": "stream",
     "text": [
      "WARNING:fabio.TiffIO:Data at tag id '65000' is smaller than expected\n",
      "WARNING:fabio.TiffIO:Data at tag id '65000' is smaller than expected\n",
      "WARNING:fabio.TiffIO:Data at tag id '65000' is smaller than expected\n",
      "WARNING:fabio.TiffIO:Data at tag id '65000' is smaller than expected\n",
      "WARNING:fabio.TiffIO:Data at tag id '65000' is smaller than expected\n",
      "WARNING:fabio.TiffIO:Data at tag id '65000' is smaller than expected\n"
     ]
    },
    {
     "name": "stdout",
     "output_type": "stream",
     "text": [
      "LR_AcidPEDOTPSS_NaCl_pos2_2515.00eV_ai0.80_wa0_bpm13.568_id22285_000000_WAXS.tif\n"
     ]
    },
    {
     "name": "stderr",
     "output_type": "stream",
     "text": [
      "WARNING:fabio.TiffIO:Data at tag id '65000' is smaller than expected\n",
      "WARNING:fabio.TiffIO:Data at tag id '65000' is smaller than expected\n",
      "WARNING:fabio.TiffIO:Data at tag id '65000' is smaller than expected\n",
      "WARNING:fabio.TiffIO:Data at tag id '65000' is smaller than expected\n",
      "WARNING:fabio.TiffIO:Data at tag id '65000' is smaller than expected\n",
      "WARNING:fabio.TiffIO:Data at tag id '65000' is smaller than expected\n"
     ]
    },
    {
     "name": "stdout",
     "output_type": "stream",
     "text": [
      "LR_StandardPEDOTPSS_as_pos2_2515.00eV_ai0.80_wa0_bpm13.502_id22737_000000_WAXS.tif\n"
     ]
    },
    {
     "name": "stderr",
     "output_type": "stream",
     "text": [
      "WARNING:fabio.TiffIO:Data at tag id '65000' is smaller than expected\n",
      "WARNING:fabio.TiffIO:Data at tag id '65000' is smaller than expected\n",
      "WARNING:fabio.TiffIO:Data at tag id '65000' is smaller than expected\n",
      "WARNING:fabio.TiffIO:Data at tag id '65000' is smaller than expected\n",
      "WARNING:fabio.TiffIO:Data at tag id '65000' is smaller than expected\n",
      "WARNING:fabio.TiffIO:Data at tag id '65000' is smaller than expected\n"
     ]
    },
    {
     "name": "stdout",
     "output_type": "stream",
     "text": [
      "LR_LiTFSI_PEDOTPSS_overdoped_p0p6V_pos1_2460.00eV_ai0.80_wa0_bpm109.589_id24068_000000_WAXS.tif\n"
     ]
    },
    {
     "name": "stderr",
     "output_type": "stream",
     "text": [
      "WARNING:fabio.TiffIO:Data at tag id '65000' is smaller than expected\n",
      "WARNING:fabio.TiffIO:Data at tag id '65000' is smaller than expected\n",
      "WARNING:fabio.TiffIO:Data at tag id '65000' is smaller than expected\n",
      "WARNING:fabio.TiffIO:Data at tag id '65000' is smaller than expected\n",
      "WARNING:fabio.TiffIO:Data at tag id '65000' is smaller than expected\n",
      "WARNING:fabio.TiffIO:Data at tag id '65000' is smaller than expected\n"
     ]
    },
    {
     "name": "stdout",
     "output_type": "stream",
     "text": [
      "LR_LiTFSI_PEDOTPSS_RbBr_pos1_2478.00eV_ai0.80_wa0_bpm109.150_id24191_000000_WAXS.tif\n"
     ]
    },
    {
     "name": "stderr",
     "output_type": "stream",
     "text": [
      "WARNING:fabio.TiffIO:Data at tag id '65000' is smaller than expected\n",
      "WARNING:fabio.TiffIO:Data at tag id '65000' is smaller than expected\n",
      "WARNING:fabio.TiffIO:Data at tag id '65000' is smaller than expected\n",
      "WARNING:fabio.TiffIO:Data at tag id '65000' is smaller than expected\n",
      "WARNING:fabio.TiffIO:Data at tag id '65000' is smaller than expected\n",
      "WARNING:fabio.TiffIO:Data at tag id '65000' is smaller than expected\n"
     ]
    },
    {
     "name": "stdout",
     "output_type": "stream",
     "text": [
      "LR_AcidPEDOTPSS_NaBr_pos1_2450.00eV_ai0.80_wa0_bpm111.878_id22371_000000_WAXS.tif\n"
     ]
    },
    {
     "name": "stderr",
     "output_type": "stream",
     "text": [
      "WARNING:fabio.TiffIO:Data at tag id '65000' is smaller than expected\n",
      "WARNING:fabio.TiffIO:Data at tag id '65000' is smaller than expected\n",
      "WARNING:fabio.TiffIO:Data at tag id '65000' is smaller than expected\n",
      "WARNING:fabio.TiffIO:Data at tag id '65000' is smaller than expected\n",
      "WARNING:fabio.TiffIO:Data at tag id '65000' is smaller than expected\n",
      "WARNING:fabio.TiffIO:Data at tag id '65000' is smaller than expected\n"
     ]
    },
    {
     "name": "stdout",
     "output_type": "stream",
     "text": [
      "LR_P3MEEMT23k115C_0p4_KTFSI_pos2_2487.50eV_ai0.80_wa0_bpm12.889_id23195_000000_WAXS.tif\n"
     ]
    },
    {
     "name": "stderr",
     "output_type": "stream",
     "text": [
      "WARNING:fabio.TiffIO:Data at tag id '65000' is smaller than expected\n",
      "WARNING:fabio.TiffIO:Data at tag id '65000' is smaller than expected\n",
      "WARNING:fabio.TiffIO:Data at tag id '65000' is smaller than expected\n",
      "WARNING:fabio.TiffIO:Data at tag id '65000' is smaller than expected\n",
      "WARNING:fabio.TiffIO:Data at tag id '65000' is smaller than expected\n",
      "WARNING:fabio.TiffIO:Data at tag id '65000' is smaller than expected\n"
     ]
    },
    {
     "name": "stdout",
     "output_type": "stream",
     "text": [
      "LR_StandardPEDOTPSS_NaBr_pos2_2477.00eV_ai0.80_wa0_bpm12.658_id22979_000000_WAXS.tif\n"
     ]
    },
    {
     "name": "stderr",
     "output_type": "stream",
     "text": [
      "WARNING:fabio.TiffIO:Data at tag id '65000' is smaller than expected\n",
      "WARNING:fabio.TiffIO:Data at tag id '65000' is smaller than expected\n",
      "WARNING:fabio.TiffIO:Data at tag id '65000' is smaller than expected\n",
      "WARNING:fabio.TiffIO:Data at tag id '65000' is smaller than expected\n",
      "WARNING:fabio.TiffIO:Data at tag id '65000' is smaller than expected\n",
      "WARNING:fabio.TiffIO:Data at tag id '65000' is smaller than expected\n"
     ]
    },
    {
     "name": "stdout",
     "output_type": "stream",
     "text": [
      "LR_LiTFSI_PEDOTPSS_0V_pos1_2450.00eV_ai0.80_wa0_bpm111.321_id23727_000000_WAXS.tif\n"
     ]
    },
    {
     "name": "stderr",
     "output_type": "stream",
     "text": [
      "WARNING:fabio.TiffIO:Data at tag id '65000' is smaller than expected\n",
      "WARNING:fabio.TiffIO:Data at tag id '65000' is smaller than expected\n",
      "WARNING:fabio.TiffIO:Data at tag id '65000' is smaller than expected\n",
      "WARNING:fabio.TiffIO:Data at tag id '65000' is smaller than expected\n",
      "WARNING:fabio.TiffIO:Data at tag id '65000' is smaller than expected\n",
      "WARNING:fabio.TiffIO:Data at tag id '65000' is smaller than expected\n"
     ]
    },
    {
     "name": "stdout",
     "output_type": "stream",
     "text": [
      "LR_AcidPEDOTPSS_RbCl_pos1_2515.00eV_ai0.80_wa0_bpm110.515_id22510_000000_WAXS.tif\n"
     ]
    },
    {
     "name": "stderr",
     "output_type": "stream",
     "text": [
      "WARNING:fabio.TiffIO:Data at tag id '65000' is smaller than expected\n",
      "WARNING:fabio.TiffIO:Data at tag id '65000' is smaller than expected\n",
      "WARNING:fabio.TiffIO:Data at tag id '65000' is smaller than expected\n",
      "WARNING:fabio.TiffIO:Data at tag id '65000' is smaller than expected\n",
      "WARNING:fabio.TiffIO:Data at tag id '65000' is smaller than expected\n",
      "WARNING:fabio.TiffIO:Data at tag id '65000' is smaller than expected\n"
     ]
    },
    {
     "name": "stdout",
     "output_type": "stream",
     "text": [
      "LR_LiTFSI_PEDOTPSS_exposed_pos1_2478.00eV_ai0.80_wa0_bpm109.356_id23626_000000_WAXS.tif\n"
     ]
    },
    {
     "name": "stderr",
     "output_type": "stream",
     "text": [
      "WARNING:fabio.TiffIO:Data at tag id '65000' is smaller than expected\n",
      "WARNING:fabio.TiffIO:Data at tag id '65000' is smaller than expected\n",
      "WARNING:fabio.TiffIO:Data at tag id '65000' is smaller than expected\n",
      "WARNING:fabio.TiffIO:Data at tag id '65000' is smaller than expected\n",
      "WARNING:fabio.TiffIO:Data at tag id '65000' is smaller than expected\n",
      "WARNING:fabio.TiffIO:Data at tag id '65000' is smaller than expected\n"
     ]
    },
    {
     "name": "stdout",
     "output_type": "stream",
     "text": [
      "LR_StandardPEDOTPSS_as_pos1_2515.00eV_ai0.80_wa0_bpm110.418_id22736_000000_WAXS.tif\n"
     ]
    },
    {
     "name": "stderr",
     "output_type": "stream",
     "text": [
      "WARNING:fabio.TiffIO:Data at tag id '65000' is smaller than expected\n",
      "WARNING:fabio.TiffIO:Data at tag id '65000' is smaller than expected\n",
      "WARNING:fabio.TiffIO:Data at tag id '65000' is smaller than expected\n",
      "WARNING:fabio.TiffIO:Data at tag id '65000' is smaller than expected\n",
      "WARNING:fabio.TiffIO:Data at tag id '65000' is smaller than expected\n",
      "WARNING:fabio.TiffIO:Data at tag id '65000' is smaller than expected\n"
     ]
    },
    {
     "name": "stdout",
     "output_type": "stream",
     "text": [
      "LR_LiTFSI_PEDOTPSS_RbBr_pos2_2476.00eV_ai0.80_wa0_bpm12.705_id24224_000000_WAXS.tif\n"
     ]
    },
    {
     "name": "stderr",
     "output_type": "stream",
     "text": [
      "WARNING:fabio.TiffIO:Data at tag id '65000' is smaller than expected\n",
      "WARNING:fabio.TiffIO:Data at tag id '65000' is smaller than expected\n",
      "WARNING:fabio.TiffIO:Data at tag id '65000' is smaller than expected\n",
      "WARNING:fabio.TiffIO:Data at tag id '65000' is smaller than expected\n",
      "WARNING:fabio.TiffIO:Data at tag id '65000' is smaller than expected\n",
      "WARNING:fabio.TiffIO:Data at tag id '65000' is smaller than expected\n"
     ]
    },
    {
     "name": "stdout",
     "output_type": "stream",
     "text": [
      "LR_StandardPEDOTPSS_RbBr_pos1_2473.00eV_ai0.80_wa0_bpm109.363_id22828_000000_WAXS.tif\n"
     ]
    },
    {
     "name": "stderr",
     "output_type": "stream",
     "text": [
      "WARNING:fabio.TiffIO:Data at tag id '65000' is smaller than expected\n",
      "WARNING:fabio.TiffIO:Data at tag id '65000' is smaller than expected\n",
      "WARNING:fabio.TiffIO:Data at tag id '65000' is smaller than expected\n"
     ]
    },
    {
     "name": "stdout",
     "output_type": "stream",
     "text": [
      "LR_AcidPEDOTPSS_exposed_pos2_2473.00eV_ai0.80_wa0_bpm12.750_id21854_000000_WAXS.tif\n"
     ]
    },
    {
     "name": "stderr",
     "output_type": "stream",
     "text": [
      "WARNING:fabio.TiffIO:Data at tag id '65000' is smaller than expected\n",
      "WARNING:fabio.TiffIO:Data at tag id '65000' is smaller than expected\n",
      "WARNING:fabio.TiffIO:Data at tag id '65000' is smaller than expected\n",
      "WARNING:fabio.TiffIO:Data at tag id '65000' is smaller than expected\n",
      "WARNING:fabio.TiffIO:Data at tag id '65000' is smaller than expected\n",
      "WARNING:fabio.TiffIO:Data at tag id '65000' is smaller than expected\n",
      "WARNING:fabio.TiffIO:Data at tag id '65000' is smaller than expected\n",
      "WARNING:fabio.TiffIO:Data at tag id '65000' is smaller than expected\n",
      "WARNING:fabio.TiffIO:Data at tag id '65000' is smaller than expected\n"
     ]
    },
    {
     "name": "stdout",
     "output_type": "stream",
     "text": [
      "LR_AcidPEDOTPSS_dedope_n0p6_pos1_2495.00eV_ai0.80_wa0_bpm110.264_id22055_000000_WAXS.tif\n"
     ]
    },
    {
     "name": "stderr",
     "output_type": "stream",
     "text": [
      "WARNING:fabio.TiffIO:Data at tag id '65000' is smaller than expected\n",
      "WARNING:fabio.TiffIO:Data at tag id '65000' is smaller than expected\n",
      "WARNING:fabio.TiffIO:Data at tag id '65000' is smaller than expected\n",
      "WARNING:fabio.TiffIO:Data at tag id '65000' is smaller than expected\n",
      "WARNING:fabio.TiffIO:Data at tag id '65000' is smaller than expected\n",
      "WARNING:fabio.TiffIO:Data at tag id '65000' is smaller than expected\n"
     ]
    },
    {
     "name": "stdout",
     "output_type": "stream",
     "text": [
      "LR_StandardPEDOTPSS_as_pos1_2487.50eV_ai0.80_wa0_bpm109.732_id22730_000000_WAXS.tif\n"
     ]
    },
    {
     "name": "stderr",
     "output_type": "stream",
     "text": [
      "WARNING:fabio.TiffIO:Data at tag id '65000' is smaller than expected\n",
      "WARNING:fabio.TiffIO:Data at tag id '65000' is smaller than expected\n",
      "WARNING:fabio.TiffIO:Data at tag id '65000' is smaller than expected\n",
      "WARNING:fabio.TiffIO:Data at tag id '65000' is smaller than expected\n",
      "WARNING:fabio.TiffIO:Data at tag id '65000' is smaller than expected\n",
      "WARNING:fabio.TiffIO:Data at tag id '65000' is smaller than expected\n"
     ]
    },
    {
     "name": "stdout",
     "output_type": "stream",
     "text": [
      "LR_LiTFSI_PEDOTPSS_0V_pos2_2473.00eV_ai0.80_wa0_bpm12.709_id23775_000000_WAXS.tif\n"
     ]
    },
    {
     "name": "stderr",
     "output_type": "stream",
     "text": [
      "WARNING:fabio.TiffIO:Data at tag id '65000' is smaller than expected\n",
      "WARNING:fabio.TiffIO:Data at tag id '65000' is smaller than expected\n",
      "WARNING:fabio.TiffIO:Data at tag id '65000' is smaller than expected\n",
      "WARNING:fabio.TiffIO:Data at tag id '65000' is smaller than expected\n",
      "WARNING:fabio.TiffIO:Data at tag id '65000' is smaller than expected\n",
      "WARNING:fabio.TiffIO:Data at tag id '65000' is smaller than expected\n"
     ]
    },
    {
     "name": "stdout",
     "output_type": "stream",
     "text": [
      "LR_LiTFSI_PEDOTPSS_dedoped_n0p6_pos1_2477.50eV_ai0.80_wa0_bpm109.046_id23851_000000_WAXS.tif\n"
     ]
    },
    {
     "name": "stderr",
     "output_type": "stream",
     "text": [
      "WARNING:fabio.TiffIO:Data at tag id '65000' is smaller than expected\n",
      "WARNING:fabio.TiffIO:Data at tag id '65000' is smaller than expected\n",
      "WARNING:fabio.TiffIO:Data at tag id '65000' is smaller than expected\n",
      "WARNING:fabio.TiffIO:Data at tag id '65000' is smaller than expected\n",
      "WARNING:fabio.TiffIO:Data at tag id '65000' is smaller than expected\n",
      "WARNING:fabio.TiffIO:Data at tag id '65000' is smaller than expected\n"
     ]
    },
    {
     "name": "stdout",
     "output_type": "stream",
     "text": [
      "LR_LiTFSI_PEDOTPSS_redoped_0V_pos2_2515.00eV_ai0.80_wa0_bpm13.487_id23980_000000_WAXS.tif\n"
     ]
    },
    {
     "name": "stderr",
     "output_type": "stream",
     "text": [
      "WARNING:fabio.TiffIO:Data at tag id '65000' is smaller than expected\n",
      "WARNING:fabio.TiffIO:Data at tag id '65000' is smaller than expected\n",
      "WARNING:fabio.TiffIO:Data at tag id '65000' is smaller than expected\n",
      "WARNING:fabio.TiffIO:Data at tag id '65000' is smaller than expected\n",
      "WARNING:fabio.TiffIO:Data at tag id '65000' is smaller than expected\n",
      "WARNING:fabio.TiffIO:Data at tag id '65000' is smaller than expected\n"
     ]
    },
    {
     "name": "stdout",
     "output_type": "stream",
     "text": [
      "LR_AcidPEDOTPSS_0V_pos1_2478.00eV_ai0.80_wa0_bpm109.881_id21931_000000_WAXS.tif\n"
     ]
    },
    {
     "name": "stderr",
     "output_type": "stream",
     "text": [
      "WARNING:fabio.TiffIO:Data at tag id '65000' is smaller than expected\n",
      "WARNING:fabio.TiffIO:Data at tag id '65000' is smaller than expected\n",
      "WARNING:fabio.TiffIO:Data at tag id '65000' is smaller than expected\n",
      "WARNING:fabio.TiffIO:Data at tag id '65000' is smaller than expected\n",
      "WARNING:fabio.TiffIO:Data at tag id '65000' is smaller than expected\n",
      "WARNING:fabio.TiffIO:Data at tag id '65000' is smaller than expected\n"
     ]
    },
    {
     "name": "stdout",
     "output_type": "stream",
     "text": [
      "LR_LiTFSI_PEDOTPSS_as_pos2_2490.00eV_ai0.80_wa0_bpm12.985_id23533_000000_WAXS.tif\n"
     ]
    },
    {
     "name": "stderr",
     "output_type": "stream",
     "text": [
      "WARNING:fabio.TiffIO:Data at tag id '65000' is smaller than expected\n",
      "WARNING:fabio.TiffIO:Data at tag id '65000' is smaller than expected\n",
      "WARNING:fabio.TiffIO:Data at tag id '65000' is smaller than expected\n",
      "WARNING:fabio.TiffIO:Data at tag id '65000' is smaller than expected\n",
      "WARNING:fabio.TiffIO:Data at tag id '65000' is smaller than expected\n",
      "WARNING:fabio.TiffIO:Data at tag id '65000' is smaller than expected\n"
     ]
    },
    {
     "name": "stdout",
     "output_type": "stream",
     "text": [
      "LR_P3MEEMT23k115C_0p7_KTFSI_pos2_2483.00eV_ai0.80_wa0_bpm12.781_id23084_000000_WAXS.tif\n"
     ]
    },
    {
     "name": "stderr",
     "output_type": "stream",
     "text": [
      "WARNING:fabio.TiffIO:Data at tag id '65000' is smaller than expected\n",
      "WARNING:fabio.TiffIO:Data at tag id '65000' is smaller than expected\n",
      "WARNING:fabio.TiffIO:Data at tag id '65000' is smaller than expected\n",
      "WARNING:fabio.TiffIO:Data at tag id '65000' is smaller than expected\n",
      "WARNING:fabio.TiffIO:Data at tag id '65000' is smaller than expected\n",
      "WARNING:fabio.TiffIO:Data at tag id '65000' is smaller than expected\n"
     ]
    },
    {
     "name": "stdout",
     "output_type": "stream",
     "text": [
      "LR_AcidPEDOTPSS_RbBr_pos1_2480.50eV_ai0.80_wa0_bpm110.080_id22614_000000_WAXS.tif\n"
     ]
    },
    {
     "name": "stderr",
     "output_type": "stream",
     "text": [
      "WARNING:fabio.TiffIO:Data at tag id '65000' is smaller than expected\n",
      "WARNING:fabio.TiffIO:Data at tag id '65000' is smaller than expected\n",
      "WARNING:fabio.TiffIO:Data at tag id '65000' is smaller than expected\n",
      "WARNING:fabio.TiffIO:Data at tag id '65000' is smaller than expected\n",
      "WARNING:fabio.TiffIO:Data at tag id '65000' is smaller than expected\n",
      "WARNING:fabio.TiffIO:Data at tag id '65000' is smaller than expected\n"
     ]
    },
    {
     "name": "stdout",
     "output_type": "stream",
     "text": [
      "LR_P3MEEMT23k115C_0p4_KTFSI_pos1_2465.00eV_ai0.80_wa0_bpm109.810_id23165_000000_WAXS.tif\n"
     ]
    },
    {
     "name": "stderr",
     "output_type": "stream",
     "text": [
      "WARNING:fabio.TiffIO:Data at tag id '65000' is smaller than expected\n",
      "WARNING:fabio.TiffIO:Data at tag id '65000' is smaller than expected\n",
      "WARNING:fabio.TiffIO:Data at tag id '65000' is smaller than expected\n",
      "WARNING:fabio.TiffIO:Data at tag id '65000' is smaller than expected\n",
      "WARNING:fabio.TiffIO:Data at tag id '65000' is smaller than expected\n",
      "WARNING:fabio.TiffIO:Data at tag id '65000' is smaller than expected\n"
     ]
    },
    {
     "name": "stdout",
     "output_type": "stream",
     "text": [
      "LR_StandardPEDOTPSS_NaBr_pos1_2495.00eV_ai0.80_wa0_bpm109.731_id22959_000000_WAXS.tif\n"
     ]
    },
    {
     "name": "stderr",
     "output_type": "stream",
     "text": [
      "WARNING:fabio.TiffIO:Data at tag id '65000' is smaller than expected\n",
      "WARNING:fabio.TiffIO:Data at tag id '65000' is smaller than expected\n",
      "WARNING:fabio.TiffIO:Data at tag id '65000' is smaller than expected\n",
      "WARNING:fabio.TiffIO:Data at tag id '65000' is smaller than expected\n",
      "WARNING:fabio.TiffIO:Data at tag id '65000' is smaller than expected\n",
      "WARNING:fabio.TiffIO:Data at tag id '65000' is smaller than expected\n"
     ]
    },
    {
     "name": "stdout",
     "output_type": "stream",
     "text": [
      "LR_AcidPEDOTPSS_NaBr_pos2_2480.00eV_ai0.80_wa0_bpm12.839_id22408_000000_WAXS.tif\n"
     ]
    },
    {
     "name": "stderr",
     "output_type": "stream",
     "text": [
      "WARNING:fabio.TiffIO:Data at tag id '65000' is smaller than expected\n",
      "WARNING:fabio.TiffIO:Data at tag id '65000' is smaller than expected\n",
      "WARNING:fabio.TiffIO:Data at tag id '65000' is smaller than expected\n",
      "WARNING:fabio.TiffIO:Data at tag id '65000' is smaller than expected\n",
      "WARNING:fabio.TiffIO:Data at tag id '65000' is smaller than expected\n",
      "WARNING:fabio.TiffIO:Data at tag id '65000' is smaller than expected\n"
     ]
    },
    {
     "name": "stdout",
     "output_type": "stream",
     "text": [
      "LR_AcidPEDOTPSS_RbBr_pos2_2476.00eV_ai0.80_wa0_bpm12.667_id22642_000000_WAXS.tif\n"
     ]
    },
    {
     "name": "stderr",
     "output_type": "stream",
     "text": [
      "WARNING:fabio.TiffIO:Data at tag id '65000' is smaller than expected\n",
      "WARNING:fabio.TiffIO:Data at tag id '65000' is smaller than expected\n",
      "WARNING:fabio.TiffIO:Data at tag id '65000' is smaller than expected\n",
      "WARNING:fabio.TiffIO:Data at tag id '65000' is smaller than expected\n",
      "WARNING:fabio.TiffIO:Data at tag id '65000' is smaller than expected\n",
      "WARNING:fabio.TiffIO:Data at tag id '65000' is smaller than expected\n"
     ]
    },
    {
     "name": "stdout",
     "output_type": "stream",
     "text": [
      "LR_LiTFSI_PEDOTPSS_redoped_0V_pos2_2485.00eV_ai0.80_wa0_bpm12.817_id23987_000000_WAXS.tif\n"
     ]
    },
    {
     "name": "stderr",
     "output_type": "stream",
     "text": [
      "WARNING:fabio.TiffIO:Data at tag id '65000' is smaller than expected\n",
      "WARNING:fabio.TiffIO:Data at tag id '65000' is smaller than expected\n",
      "WARNING:fabio.TiffIO:Data at tag id '65000' is smaller than expected\n",
      "WARNING:fabio.TiffIO:Data at tag id '65000' is smaller than expected\n",
      "WARNING:fabio.TiffIO:Data at tag id '65000' is smaller than expected\n",
      "WARNING:fabio.TiffIO:Data at tag id '65000' is smaller than expected\n"
     ]
    },
    {
     "name": "stdout",
     "output_type": "stream",
     "text": [
      "LR_RivnayFrit_P3MEEET_drop_pos1_2465.00eV_ai0.80_wa0_bpm109.668_id23391_000000_WAXS.tif\n"
     ]
    },
    {
     "name": "stderr",
     "output_type": "stream",
     "text": [
      "WARNING:fabio.TiffIO:Data at tag id '65000' is smaller than expected\n",
      "WARNING:fabio.TiffIO:Data at tag id '65000' is smaller than expected\n",
      "WARNING:fabio.TiffIO:Data at tag id '65000' is smaller than expected\n",
      "WARNING:fabio.TiffIO:Data at tag id '65000' is smaller than expected\n",
      "WARNING:fabio.TiffIO:Data at tag id '65000' is smaller than expected\n",
      "WARNING:fabio.TiffIO:Data at tag id '65000' is smaller than expected\n"
     ]
    },
    {
     "name": "stdout",
     "output_type": "stream",
     "text": [
      "LR_LiTFSI_PEDOTPSS_dedoped_n0p6_pos1_2478.50eV_ai0.80_wa0_bpm109.587_id23853_000000_WAXS.tif\n"
     ]
    },
    {
     "name": "stderr",
     "output_type": "stream",
     "text": [
      "WARNING:fabio.TiffIO:Data at tag id '65000' is smaller than expected\n",
      "WARNING:fabio.TiffIO:Data at tag id '65000' is smaller than expected\n",
      "WARNING:fabio.TiffIO:Data at tag id '65000' is smaller than expected\n",
      "WARNING:fabio.TiffIO:Data at tag id '65000' is smaller than expected\n",
      "WARNING:fabio.TiffIO:Data at tag id '65000' is smaller than expected\n",
      "WARNING:fabio.TiffIO:Data at tag id '65000' is smaller than expected\n"
     ]
    },
    {
     "name": "stdout",
     "output_type": "stream",
     "text": [
      "LR_LiTFSI_PEDOTPSS_as_pos2_2480.00eV_ai0.80_wa0_bpm12.758_id23538_000000_WAXS.tif\n"
     ]
    },
    {
     "name": "stderr",
     "output_type": "stream",
     "text": [
      "WARNING:fabio.TiffIO:Data at tag id '65000' is smaller than expected\n",
      "WARNING:fabio.TiffIO:Data at tag id '65000' is smaller than expected\n",
      "WARNING:fabio.TiffIO:Data at tag id '65000' is smaller than expected\n",
      "WARNING:fabio.TiffIO:Data at tag id '65000' is smaller than expected\n",
      "WARNING:fabio.TiffIO:Data at tag id '65000' is smaller than expected\n",
      "WARNING:fabio.TiffIO:Data at tag id '65000' is smaller than expected\n"
     ]
    },
    {
     "name": "stdout",
     "output_type": "stream",
     "text": [
      "LR_P3MEEMT23k115C_0p4_KTFSI_pos2_2479.50eV_ai0.80_wa0_bpm12.730_id23200_000000_WAXS.tif\n"
     ]
    },
    {
     "name": "stderr",
     "output_type": "stream",
     "text": [
      "WARNING:fabio.TiffIO:Data at tag id '65000' is smaller than expected\n",
      "WARNING:fabio.TiffIO:Data at tag id '65000' is smaller than expected\n",
      "WARNING:fabio.TiffIO:Data at tag id '65000' is smaller than expected\n",
      "WARNING:fabio.TiffIO:Data at tag id '65000' is smaller than expected\n",
      "WARNING:fabio.TiffIO:Data at tag id '65000' is smaller than expected\n",
      "WARNING:fabio.TiffIO:Data at tag id '65000' is smaller than expected\n"
     ]
    },
    {
     "name": "stdout",
     "output_type": "stream",
     "text": [
      "LR_AcidPEDOTPSS_RbCl_pos1_2485.00eV_ai0.80_wa0_bpm109.750_id22503_000000_WAXS.tif\n"
     ]
    },
    {
     "name": "stderr",
     "output_type": "stream",
     "text": [
      "WARNING:fabio.TiffIO:Data at tag id '65000' is smaller than expected\n",
      "WARNING:fabio.TiffIO:Data at tag id '65000' is smaller than expected\n",
      "WARNING:fabio.TiffIO:Data at tag id '65000' is smaller than expected\n",
      "WARNING:fabio.TiffIO:Data at tag id '65000' is smaller than expected\n",
      "WARNING:fabio.TiffIO:Data at tag id '65000' is smaller than expected\n",
      "WARNING:fabio.TiffIO:Data at tag id '65000' is smaller than expected\n"
     ]
    },
    {
     "name": "stdout",
     "output_type": "stream",
     "text": [
      "LR_AcidPEDOTPSS_RbBr_pos2_2487.50eV_ai0.80_wa0_bpm12.897_id22630_000000_WAXS.tif\n"
     ]
    },
    {
     "name": "stderr",
     "output_type": "stream",
     "text": [
      "WARNING:fabio.TiffIO:Data at tag id '65000' is smaller than expected\n",
      "WARNING:fabio.TiffIO:Data at tag id '65000' is smaller than expected\n",
      "WARNING:fabio.TiffIO:Data at tag id '65000' is smaller than expected\n",
      "WARNING:fabio.TiffIO:Data at tag id '65000' is smaller than expected\n",
      "WARNING:fabio.TiffIO:Data at tag id '65000' is smaller than expected\n",
      "WARNING:fabio.TiffIO:Data at tag id '65000' is smaller than expected\n"
     ]
    },
    {
     "name": "stdout",
     "output_type": "stream",
     "text": [
      "LR_P3MEEMT23k115C_un_pos2_2475.00eV_ai0.80_wa0_bpm12.640_id23322_000000_WAXS.tif\n"
     ]
    },
    {
     "name": "stderr",
     "output_type": "stream",
     "text": [
      "WARNING:fabio.TiffIO:Data at tag id '65000' is smaller than expected\n",
      "WARNING:fabio.TiffIO:Data at tag id '65000' is smaller than expected\n",
      "WARNING:fabio.TiffIO:Data at tag id '65000' is smaller than expected\n",
      "WARNING:fabio.TiffIO:Data at tag id '65000' is smaller than expected\n",
      "WARNING:fabio.TiffIO:Data at tag id '65000' is smaller than expected\n",
      "WARNING:fabio.TiffIO:Data at tag id '65000' is smaller than expected\n"
     ]
    },
    {
     "name": "stdout",
     "output_type": "stream",
     "text": [
      "LR_LiTFSI_PEDOTPSS_RbBr_pos2_2475.00eV_ai0.80_wa0_bpm12.711_id24226_000000_WAXS.tif\n"
     ]
    },
    {
     "name": "stderr",
     "output_type": "stream",
     "text": [
      "WARNING:fabio.TiffIO:Data at tag id '65000' is smaller than expected\n",
      "WARNING:fabio.TiffIO:Data at tag id '65000' is smaller than expected\n",
      "WARNING:fabio.TiffIO:Data at tag id '65000' is smaller than expected\n",
      "WARNING:fabio.TiffIO:Data at tag id '65000' is smaller than expected\n",
      "WARNING:fabio.TiffIO:Data at tag id '65000' is smaller than expected\n",
      "WARNING:fabio.TiffIO:Data at tag id '65000' is smaller than expected\n"
     ]
    },
    {
     "name": "stdout",
     "output_type": "stream",
     "text": [
      "LR_StandardPEDOTPSS_as_pos2_2475.50eV_ai0.80_wa0_bpm12.708_id22756_000000_WAXS.tif\n"
     ]
    },
    {
     "name": "stderr",
     "output_type": "stream",
     "text": [
      "WARNING:fabio.TiffIO:Data at tag id '65000' is smaller than expected\n",
      "WARNING:fabio.TiffIO:Data at tag id '65000' is smaller than expected\n",
      "WARNING:fabio.TiffIO:Data at tag id '65000' is smaller than expected\n",
      "WARNING:fabio.TiffIO:Data at tag id '65000' is smaller than expected\n",
      "WARNING:fabio.TiffIO:Data at tag id '65000' is smaller than expected\n",
      "WARNING:fabio.TiffIO:Data at tag id '65000' is smaller than expected\n"
     ]
    },
    {
     "name": "stdout",
     "output_type": "stream",
     "text": [
      "LR_P3MEEMT23k115C_0p7_KTFSI_pos2_2477.50eV_ai0.80_wa0_bpm12.702_id23091_000000_WAXS.tif\n"
     ]
    },
    {
     "name": "stderr",
     "output_type": "stream",
     "text": [
      "WARNING:fabio.TiffIO:Data at tag id '65000' is smaller than expected\n",
      "WARNING:fabio.TiffIO:Data at tag id '65000' is smaller than expected\n",
      "WARNING:fabio.TiffIO:Data at tag id '65000' is smaller than expected\n",
      "WARNING:fabio.TiffIO:Data at tag id '65000' is smaller than expected\n"
     ]
    },
    {
     "name": "stdout",
     "output_type": "stream",
     "text": [
      "LR_AcidPEDOTPSS_dedope_n0p6_pos2_2480.00eV_ai0.80_wa0_bpm12.802_id22069_000000_WAXS.tif\n"
     ]
    },
    {
     "name": "stderr",
     "output_type": "stream",
     "text": [
      "WARNING:fabio.TiffIO:Data at tag id '65000' is smaller than expected\n",
      "WARNING:fabio.TiffIO:Data at tag id '65000' is smaller than expected\n",
      "WARNING:fabio.TiffIO:Data at tag id '65000' is smaller than expected\n",
      "WARNING:fabio.TiffIO:Data at tag id '65000' is smaller than expected\n",
      "WARNING:fabio.TiffIO:Data at tag id '65000' is smaller than expected\n",
      "WARNING:fabio.TiffIO:Data at tag id '65000' is smaller than expected\n",
      "WARNING:fabio.TiffIO:Data at tag id '65000' is smaller than expected\n",
      "WARNING:fabio.TiffIO:Data at tag id '65000' is smaller than expected\n"
     ]
    },
    {
     "name": "stdout",
     "output_type": "stream",
     "text": [
      "LR_LiTFSI_PEDOTPSS_redoped_0V_pos2_2492.50eV_ai0.80_wa0_bpm13.034_id23984_000000_WAXS.tif\n"
     ]
    },
    {
     "name": "stderr",
     "output_type": "stream",
     "text": [
      "WARNING:fabio.TiffIO:Data at tag id '65000' is smaller than expected\n",
      "WARNING:fabio.TiffIO:Data at tag id '65000' is smaller than expected\n",
      "WARNING:fabio.TiffIO:Data at tag id '65000' is smaller than expected\n",
      "WARNING:fabio.TiffIO:Data at tag id '65000' is smaller than expected\n",
      "WARNING:fabio.TiffIO:Data at tag id '65000' is smaller than expected\n",
      "WARNING:fabio.TiffIO:Data at tag id '65000' is smaller than expected\n"
     ]
    },
    {
     "name": "stdout",
     "output_type": "stream",
     "text": [
      "LR_LiTFSI_PEDOTPSS_redoped_0V_pos2_2477.00eV_ai0.80_wa0_bpm12.672_id23996_000000_WAXS.tif\n"
     ]
    },
    {
     "name": "stderr",
     "output_type": "stream",
     "text": [
      "WARNING:fabio.TiffIO:Data at tag id '65000' is smaller than expected\n",
      "WARNING:fabio.TiffIO:Data at tag id '65000' is smaller than expected\n",
      "WARNING:fabio.TiffIO:Data at tag id '65000' is smaller than expected\n",
      "WARNING:fabio.TiffIO:Data at tag id '65000' is smaller than expected\n",
      "WARNING:fabio.TiffIO:Data at tag id '65000' is smaller than expected\n",
      "WARNING:fabio.TiffIO:Data at tag id '65000' is smaller than expected\n"
     ]
    },
    {
     "name": "stdout",
     "output_type": "stream",
     "text": [
      "LR_StandardPEDOTPSS_as_pos2_2450.00eV_ai0.80_wa0_bpm12.594_id22763_000000_WAXS.tif\n"
     ]
    },
    {
     "name": "stderr",
     "output_type": "stream",
     "text": [
      "WARNING:fabio.TiffIO:Data at tag id '65000' is smaller than expected\n",
      "WARNING:fabio.TiffIO:Data at tag id '65000' is smaller than expected\n",
      "WARNING:fabio.TiffIO:Data at tag id '65000' is smaller than expected\n",
      "WARNING:fabio.TiffIO:Data at tag id '65000' is smaller than expected\n",
      "WARNING:fabio.TiffIO:Data at tag id '65000' is smaller than expected\n",
      "WARNING:fabio.TiffIO:Data at tag id '65000' is smaller than expected\n"
     ]
    },
    {
     "name": "stdout",
     "output_type": "stream",
     "text": [
      "LR_LiTFSI_PEDOTPSS_exposed_pos2_2483.00eV_ai0.80_wa0_bpm12.787_id23649_000000_WAXS.tif\n"
     ]
    },
    {
     "name": "stderr",
     "output_type": "stream",
     "text": [
      "WARNING:fabio.TiffIO:Data at tag id '65000' is smaller than expected\n",
      "WARNING:fabio.TiffIO:Data at tag id '65000' is smaller than expected\n",
      "WARNING:fabio.TiffIO:Data at tag id '65000' is smaller than expected\n",
      "WARNING:fabio.TiffIO:Data at tag id '65000' is smaller than expected\n",
      "WARNING:fabio.TiffIO:Data at tag id '65000' is smaller than expected\n",
      "WARNING:fabio.TiffIO:Data at tag id '65000' is smaller than expected\n"
     ]
    },
    {
     "name": "stdout",
     "output_type": "stream",
     "text": [
      "LR_LiTFSI_PEDOTPSS_exposed_pos1_2510.00eV_ai0.80_wa0_bpm109.813_id23639_000000_WAXS.tif\n"
     ]
    },
    {
     "name": "stderr",
     "output_type": "stream",
     "text": [
      "WARNING:fabio.TiffIO:Data at tag id '65000' is smaller than expected\n",
      "WARNING:fabio.TiffIO:Data at tag id '65000' is smaller than expected\n",
      "WARNING:fabio.TiffIO:Data at tag id '65000' is smaller than expected\n",
      "WARNING:fabio.TiffIO:Data at tag id '65000' is smaller than expected\n",
      "WARNING:fabio.TiffIO:Data at tag id '65000' is smaller than expected\n",
      "WARNING:fabio.TiffIO:Data at tag id '65000' is smaller than expected\n"
     ]
    },
    {
     "name": "stdout",
     "output_type": "stream",
     "text": [
      "LR_AcidPEDOTPSS_exposed_pos1_2477.50eV_ai0.80_wa0_bpm110.186_id21817_000000_WAXS.tif\n"
     ]
    },
    {
     "name": "stderr",
     "output_type": "stream",
     "text": [
      "WARNING:fabio.TiffIO:Data at tag id '65000' is smaller than expected\n",
      "WARNING:fabio.TiffIO:Data at tag id '65000' is smaller than expected\n",
      "WARNING:fabio.TiffIO:Data at tag id '65000' is smaller than expected\n",
      "WARNING:fabio.TiffIO:Data at tag id '65000' is smaller than expected\n",
      "WARNING:fabio.TiffIO:Data at tag id '65000' is smaller than expected\n",
      "WARNING:fabio.TiffIO:Data at tag id '65000' is smaller than expected\n"
     ]
    },
    {
     "name": "stdout",
     "output_type": "stream",
     "text": [
      "LR_AcidPEDOTPSS_as_pos2_2515.00eV_ai0.80_wa0_bpm13.599_id21720_000000_WAXS.tif\n"
     ]
    },
    {
     "name": "stderr",
     "output_type": "stream",
     "text": [
      "WARNING:fabio.TiffIO:Data at tag id '65000' is smaller than expected\n",
      "WARNING:fabio.TiffIO:Data at tag id '65000' is smaller than expected\n",
      "WARNING:fabio.TiffIO:Data at tag id '65000' is smaller than expected\n",
      "WARNING:fabio.TiffIO:Data at tag id '65000' is smaller than expected\n",
      "WARNING:fabio.TiffIO:Data at tag id '65000' is smaller than expected\n",
      "WARNING:fabio.TiffIO:Data at tag id '65000' is smaller than expected\n"
     ]
    },
    {
     "name": "stdout",
     "output_type": "stream",
     "text": [
      "LR_AcidPEDOTPSS_overdope_p0p6_pos2_2479.00eV_ai0.80_wa0_bpm12.725_id22184_000000_WAXS.tif\n"
     ]
    },
    {
     "name": "stderr",
     "output_type": "stream",
     "text": [
      "WARNING:fabio.TiffIO:Data at tag id '65000' is smaller than expected\n",
      "WARNING:fabio.TiffIO:Data at tag id '65000' is smaller than expected\n",
      "WARNING:fabio.TiffIO:Data at tag id '65000' is smaller than expected\n",
      "WARNING:fabio.TiffIO:Data at tag id '65000' is smaller than expected\n"
     ]
    },
    {
     "name": "stdout",
     "output_type": "stream",
     "text": [
      "LR_AcidPEDOTPSS_0V_pos1_2483.00eV_ai0.80_wa0_bpm109.868_id21937_000000_WAXS.tif\n"
     ]
    },
    {
     "name": "stderr",
     "output_type": "stream",
     "text": [
      "WARNING:fabio.TiffIO:Data at tag id '65000' is smaller than expected\n",
      "WARNING:fabio.TiffIO:Data at tag id '65000' is smaller than expected\n",
      "WARNING:fabio.TiffIO:Data at tag id '65000' is smaller than expected\n",
      "WARNING:fabio.TiffIO:Data at tag id '65000' is smaller than expected\n",
      "WARNING:fabio.TiffIO:Data at tag id '65000' is smaller than expected\n",
      "WARNING:fabio.TiffIO:Data at tag id '65000' is smaller than expected\n",
      "WARNING:fabio.TiffIO:Data at tag id '65000' is smaller than expected\n",
      "WARNING:fabio.TiffIO:Data at tag id '65000' is smaller than expected\n"
     ]
    },
    {
     "name": "stdout",
     "output_type": "stream",
     "text": [
      "LR_P3MEEMT23k115C_0p7_KTFSI_pos1_2479.00eV_ai0.80_wa0_bpm109.217_id23063_000000_WAXS.tif\n"
     ]
    },
    {
     "name": "stderr",
     "output_type": "stream",
     "text": [
      "WARNING:fabio.TiffIO:Data at tag id '65000' is smaller than expected\n",
      "WARNING:fabio.TiffIO:Data at tag id '65000' is smaller than expected\n",
      "WARNING:fabio.TiffIO:Data at tag id '65000' is smaller than expected\n",
      "WARNING:fabio.TiffIO:Data at tag id '65000' is smaller than expected\n",
      "WARNING:fabio.TiffIO:Data at tag id '65000' is smaller than expected\n",
      "WARNING:fabio.TiffIO:Data at tag id '65000' is smaller than expected\n"
     ]
    },
    {
     "name": "stdout",
     "output_type": "stream",
     "text": [
      "LR_P3MEEMT23k115C_un_pos1_2465.00eV_ai0.80_wa0_bpm109.222_id23278_000000_WAXS.tif\n"
     ]
    },
    {
     "name": "stderr",
     "output_type": "stream",
     "text": [
      "WARNING:fabio.TiffIO:Data at tag id '65000' is smaller than expected\n",
      "WARNING:fabio.TiffIO:Data at tag id '65000' is smaller than expected\n",
      "WARNING:fabio.TiffIO:Data at tag id '65000' is smaller than expected\n",
      "WARNING:fabio.TiffIO:Data at tag id '65000' is smaller than expected\n",
      "WARNING:fabio.TiffIO:Data at tag id '65000' is smaller than expected\n",
      "WARNING:fabio.TiffIO:Data at tag id '65000' is smaller than expected\n"
     ]
    },
    {
     "name": "stdout",
     "output_type": "stream",
     "text": [
      "LR_RivnayFrit_P3MEEET_drop_pos2_2479.00eV_ai0.80_wa0_bpm12.700_id23427_000000_WAXS.tif\n"
     ]
    },
    {
     "name": "stderr",
     "output_type": "stream",
     "text": [
      "WARNING:fabio.TiffIO:Data at tag id '65000' is smaller than expected\n",
      "WARNING:fabio.TiffIO:Data at tag id '65000' is smaller than expected\n",
      "WARNING:fabio.TiffIO:Data at tag id '65000' is smaller than expected\n",
      "WARNING:fabio.TiffIO:Data at tag id '65000' is smaller than expected\n",
      "WARNING:fabio.TiffIO:Data at tag id '65000' is smaller than expected\n",
      "WARNING:fabio.TiffIO:Data at tag id '65000' is smaller than expected\n"
     ]
    },
    {
     "name": "stdout",
     "output_type": "stream",
     "text": [
      "LR_LiTFSI_PEDOTPSS_RbBr_pos1_2465.00eV_ai0.80_wa0_bpm109.700_id24182_000000_WAXS.tif\n"
     ]
    },
    {
     "name": "stderr",
     "output_type": "stream",
     "text": [
      "WARNING:fabio.TiffIO:Data at tag id '65000' is smaller than expected\n",
      "WARNING:fabio.TiffIO:Data at tag id '65000' is smaller than expected\n",
      "WARNING:fabio.TiffIO:Data at tag id '65000' is smaller than expected\n",
      "WARNING:fabio.TiffIO:Data at tag id '65000' is smaller than expected\n",
      "WARNING:fabio.TiffIO:Data at tag id '65000' is smaller than expected\n",
      "WARNING:fabio.TiffIO:Data at tag id '65000' is smaller than expected\n"
     ]
    },
    {
     "name": "stdout",
     "output_type": "stream",
     "text": [
      "LR_AcidPEDOTPSS_overdope_p0p6_pos1_2455.00eV_ai0.80_wa0_bpm110.338_id22146_000000_WAXS.tif\n"
     ]
    },
    {
     "name": "stderr",
     "output_type": "stream",
     "text": [
      "WARNING:fabio.TiffIO:Data at tag id '65000' is smaller than expected\n",
      "WARNING:fabio.TiffIO:Data at tag id '65000' is smaller than expected\n",
      "WARNING:fabio.TiffIO:Data at tag id '65000' is smaller than expected\n",
      "WARNING:fabio.TiffIO:Data at tag id '65000' is smaller than expected\n",
      "WARNING:fabio.TiffIO:Data at tag id '65000' is smaller than expected\n",
      "WARNING:fabio.TiffIO:Data at tag id '65000' is smaller than expected\n"
     ]
    },
    {
     "name": "stdout",
     "output_type": "stream",
     "text": [
      "LR_AcidPEDOTPSS_NaCl_pos2_2478.50eV_ai0.80_wa0_bpm12.767_id22298_000000_WAXS.tif\n"
     ]
    },
    {
     "name": "stderr",
     "output_type": "stream",
     "text": [
      "WARNING:fabio.TiffIO:Data at tag id '65000' is smaller than expected\n",
      "WARNING:fabio.TiffIO:Data at tag id '65000' is smaller than expected\n",
      "WARNING:fabio.TiffIO:Data at tag id '65000' is smaller than expected\n",
      "WARNING:fabio.TiffIO:Data at tag id '65000' is smaller than expected\n",
      "WARNING:fabio.TiffIO:Data at tag id '65000' is smaller than expected\n",
      "WARNING:fabio.TiffIO:Data at tag id '65000' is smaller than expected\n"
     ]
    },
    {
     "name": "stdout",
     "output_type": "stream",
     "text": [
      "LR_LiTFSI_PEDOTPSS_exposed_pos2_2515.00eV_ai0.80_wa0_bpm13.477_id23641_000000_WAXS.tif\n",
      "LR_P3MEEMT23k115C_0p7_KTFSI_pos1_2476.50eV_ai0.80_wa0_bpm108.985_id23058_000000_WAXS.tif\n"
     ]
    },
    {
     "name": "stderr",
     "output_type": "stream",
     "text": [
      "WARNING:fabio.TiffIO:Data at tag id '65000' is smaller than expected\n",
      "WARNING:fabio.TiffIO:Data at tag id '65000' is smaller than expected\n",
      "WARNING:fabio.TiffIO:Data at tag id '65000' is smaller than expected\n",
      "WARNING:fabio.TiffIO:Data at tag id '65000' is smaller than expected\n",
      "WARNING:fabio.TiffIO:Data at tag id '65000' is smaller than expected\n",
      "WARNING:fabio.TiffIO:Data at tag id '65000' is smaller than expected\n",
      "WARNING:fabio.TiffIO:Data at tag id '65000' is smaller than expected\n",
      "WARNING:fabio.TiffIO:Data at tag id '65000' is smaller than expected\n",
      "WARNING:fabio.TiffIO:Data at tag id '65000' is smaller than expected\n",
      "WARNING:fabio.TiffIO:Data at tag id '65000' is smaller than expected\n",
      "WARNING:fabio.TiffIO:Data at tag id '65000' is smaller than expected\n",
      "WARNING:fabio.TiffIO:Data at tag id '65000' is smaller than expected\n"
     ]
    },
    {
     "name": "stdout",
     "output_type": "stream",
     "text": [
      "LR_AcidPEDOTPSS_as_pos2_2487.50eV_ai0.80_wa0_bpm13.003_id21726_000000_WAXS.tif\n"
     ]
    },
    {
     "name": "stderr",
     "output_type": "stream",
     "text": [
      "WARNING:fabio.TiffIO:Data at tag id '65000' is smaller than expected\n",
      "WARNING:fabio.TiffIO:Data at tag id '65000' is smaller than expected\n",
      "WARNING:fabio.TiffIO:Data at tag id '65000' is smaller than expected\n",
      "WARNING:fabio.TiffIO:Data at tag id '65000' is smaller than expected\n",
      "WARNING:fabio.TiffIO:Data at tag id '65000' is smaller than expected\n",
      "WARNING:fabio.TiffIO:Data at tag id '65000' is smaller than expected\n"
     ]
    },
    {
     "name": "stdout",
     "output_type": "stream",
     "text": [
      "LR_AcidPEDOTPSS_NaBr_pos2_2478.00eV_ai0.80_wa0_bpm12.777_id22412_000000_WAXS.tif\n"
     ]
    },
    {
     "name": "stderr",
     "output_type": "stream",
     "text": [
      "WARNING:fabio.TiffIO:Data at tag id '65000' is smaller than expected\n",
      "WARNING:fabio.TiffIO:Data at tag id '65000' is smaller than expected\n",
      "WARNING:fabio.TiffIO:Data at tag id '65000' is smaller than expected\n",
      "WARNING:fabio.TiffIO:Data at tag id '65000' is smaller than expected\n",
      "WARNING:fabio.TiffIO:Data at tag id '65000' is smaller than expected\n",
      "WARNING:fabio.TiffIO:Data at tag id '65000' is smaller than expected\n"
     ]
    },
    {
     "name": "stdout",
     "output_type": "stream",
     "text": [
      "LR_P3MEEMT23k115C_un_pos2_2477.50eV_ai0.80_wa0_bpm12.651_id23317_000000_WAXS.tif\n"
     ]
    },
    {
     "name": "stderr",
     "output_type": "stream",
     "text": [
      "WARNING:fabio.TiffIO:Data at tag id '65000' is smaller than expected\n",
      "WARNING:fabio.TiffIO:Data at tag id '65000' is smaller than expected\n",
      "WARNING:fabio.TiffIO:Data at tag id '65000' is smaller than expected\n",
      "WARNING:fabio.TiffIO:Data at tag id '65000' is smaller than expected\n",
      "WARNING:fabio.TiffIO:Data at tag id '65000' is smaller than expected\n",
      "WARNING:fabio.TiffIO:Data at tag id '65000' is smaller than expected\n"
     ]
    },
    {
     "name": "stdout",
     "output_type": "stream",
     "text": [
      "LR_LiTFSI_PEDOTPSS_dedoped_n0p6_pos1_2479.50eV_ai0.80_wa0_bpm109.664_id23855_000000_WAXS.tif\n"
     ]
    },
    {
     "name": "stderr",
     "output_type": "stream",
     "text": [
      "WARNING:fabio.TiffIO:Data at tag id '65000' is smaller than expected\n",
      "WARNING:fabio.TiffIO:Data at tag id '65000' is smaller than expected\n",
      "WARNING:fabio.TiffIO:Data at tag id '65000' is smaller than expected\n",
      "WARNING:fabio.TiffIO:Data at tag id '65000' is smaller than expected\n"
     ]
    },
    {
     "name": "stdout",
     "output_type": "stream",
     "text": [
      "LR_LiTFSI_PEDOTPSS_RbBr_pos2_2465.00eV_ai0.80_wa0_bpm12.642_id24229_000000_WAXS.tif\n"
     ]
    },
    {
     "name": "stderr",
     "output_type": "stream",
     "text": [
      "WARNING:fabio.TiffIO:Data at tag id '65000' is smaller than expected\n",
      "WARNING:fabio.TiffIO:Data at tag id '65000' is smaller than expected\n",
      "WARNING:fabio.TiffIO:Data at tag id '65000' is smaller than expected\n",
      "WARNING:fabio.TiffIO:Data at tag id '65000' is smaller than expected\n",
      "WARNING:fabio.TiffIO:Data at tag id '65000' is smaller than expected\n",
      "WARNING:fabio.TiffIO:Data at tag id '65000' is smaller than expected\n",
      "WARNING:fabio.TiffIO:Data at tag id '65000' is smaller than expected\n",
      "WARNING:fabio.TiffIO:Data at tag id '65000' is smaller than expected\n"
     ]
    },
    {
     "name": "stdout",
     "output_type": "stream",
     "text": [
      "LR_AcidPEDOTPSS_exposed_pos2_2478.50eV_ai0.80_wa0_bpm12.797_id21846_000000_WAXS.tif\n"
     ]
    },
    {
     "name": "stderr",
     "output_type": "stream",
     "text": [
      "WARNING:fabio.TiffIO:Data at tag id '65000' is smaller than expected\n",
      "WARNING:fabio.TiffIO:Data at tag id '65000' is smaller than expected\n",
      "WARNING:fabio.TiffIO:Data at tag id '65000' is smaller than expected\n",
      "WARNING:fabio.TiffIO:Data at tag id '65000' is smaller than expected\n",
      "WARNING:fabio.TiffIO:Data at tag id '65000' is smaller than expected\n",
      "WARNING:fabio.TiffIO:Data at tag id '65000' is smaller than expected\n"
     ]
    },
    {
     "name": "stdout",
     "output_type": "stream",
     "text": [
      "LR_LiTFSI_PEDOTPSS_dedoped_n0p6_pos1_2483.00eV_ai0.80_wa0_bpm109.751_id23858_000000_WAXS.tif\n"
     ]
    },
    {
     "name": "stderr",
     "output_type": "stream",
     "text": [
      "WARNING:fabio.TiffIO:Data at tag id '65000' is smaller than expected\n",
      "WARNING:fabio.TiffIO:Data at tag id '65000' is smaller than expected\n",
      "WARNING:fabio.TiffIO:Data at tag id '65000' is smaller than expected\n",
      "WARNING:fabio.TiffIO:Data at tag id '65000' is smaller than expected\n",
      "WARNING:fabio.TiffIO:Data at tag id '65000' is smaller than expected\n",
      "WARNING:fabio.TiffIO:Data at tag id '65000' is smaller than expected\n"
     ]
    },
    {
     "name": "stdout",
     "output_type": "stream",
     "text": [
      "LR_AcidPEDOTPSS_overdope_p0p6_pos2_2490.00eV_ai0.80_wa0_bpm12.991_id22177_000000_WAXS.tif\n"
     ]
    },
    {
     "name": "stderr",
     "output_type": "stream",
     "text": [
      "WARNING:fabio.TiffIO:Data at tag id '65000' is smaller than expected\n",
      "WARNING:fabio.TiffIO:Data at tag id '65000' is smaller than expected\n",
      "WARNING:fabio.TiffIO:Data at tag id '65000' is smaller than expected\n",
      "WARNING:fabio.TiffIO:Data at tag id '65000' is smaller than expected\n",
      "WARNING:fabio.TiffIO:Data at tag id '65000' is smaller than expected\n",
      "WARNING:fabio.TiffIO:Data at tag id '65000' is smaller than expected\n"
     ]
    },
    {
     "name": "stdout",
     "output_type": "stream",
     "text": [
      "LR_LiTFSI_PEDOTPSS_exposed_pos2_2479.00eV_ai0.80_wa0_bpm12.756_id23653_000000_WAXS.tif\n"
     ]
    },
    {
     "name": "stderr",
     "output_type": "stream",
     "text": [
      "WARNING:fabio.TiffIO:Data at tag id '65000' is smaller than expected\n",
      "WARNING:fabio.TiffIO:Data at tag id '65000' is smaller than expected\n",
      "WARNING:fabio.TiffIO:Data at tag id '65000' is smaller than expected\n",
      "WARNING:fabio.TiffIO:Data at tag id '65000' is smaller than expected\n",
      "WARNING:fabio.TiffIO:Data at tag id '65000' is smaller than expected\n",
      "WARNING:fabio.TiffIO:Data at tag id '65000' is smaller than expected\n"
     ]
    },
    {
     "name": "stdout",
     "output_type": "stream",
     "text": [
      "LR_AcidPEDOTPSS_NaCl_pos1_2460.00eV_ai0.80_wa0_bpm110.252_id22260_000000_WAXS.tif\n"
     ]
    },
    {
     "name": "stderr",
     "output_type": "stream",
     "text": [
      "WARNING:fabio.TiffIO:Data at tag id '65000' is smaller than expected\n",
      "WARNING:fabio.TiffIO:Data at tag id '65000' is smaller than expected\n",
      "WARNING:fabio.TiffIO:Data at tag id '65000' is smaller than expected\n",
      "WARNING:fabio.TiffIO:Data at tag id '65000' is smaller than expected\n",
      "WARNING:fabio.TiffIO:Data at tag id '65000' is smaller than expected\n",
      "WARNING:fabio.TiffIO:Data at tag id '65000' is smaller than expected\n"
     ]
    },
    {
     "name": "stdout",
     "output_type": "stream",
     "text": [
      "LR_StandardPEDOTPSS_NaBr_pos1_2460.00eV_ai0.80_wa0_bpm110.096_id22938_000000_WAXS.tif\n"
     ]
    },
    {
     "name": "stderr",
     "output_type": "stream",
     "text": [
      "WARNING:fabio.TiffIO:Data at tag id '65000' is smaller than expected\n",
      "WARNING:fabio.TiffIO:Data at tag id '65000' is smaller than expected\n",
      "WARNING:fabio.TiffIO:Data at tag id '65000' is smaller than expected\n",
      "WARNING:fabio.TiffIO:Data at tag id '65000' is smaller than expected\n",
      "WARNING:fabio.TiffIO:Data at tag id '65000' is smaller than expected\n",
      "WARNING:fabio.TiffIO:Data at tag id '65000' is smaller than expected\n"
     ]
    },
    {
     "name": "stdout",
     "output_type": "stream",
     "text": [
      "LR_LiTFSI_PEDOTPSS_exposed_pos1_2476.50eV_ai0.80_wa0_bpm109.428_id23623_000000_WAXS.tif\n"
     ]
    },
    {
     "name": "stderr",
     "output_type": "stream",
     "text": [
      "WARNING:fabio.TiffIO:Data at tag id '65000' is smaller than expected\n",
      "WARNING:fabio.TiffIO:Data at tag id '65000' is smaller than expected\n",
      "WARNING:fabio.TiffIO:Data at tag id '65000' is smaller than expected\n",
      "WARNING:fabio.TiffIO:Data at tag id '65000' is smaller than expected\n",
      "WARNING:fabio.TiffIO:Data at tag id '65000' is smaller than expected\n",
      "WARNING:fabio.TiffIO:Data at tag id '65000' is smaller than expected\n"
     ]
    },
    {
     "name": "stdout",
     "output_type": "stream",
     "text": [
      "LR_StandardPEDOTPSS_as_pos1_2455.00eV_ai0.80_wa0_bpm110.374_id22711_000000_WAXS.tif\n"
     ]
    },
    {
     "name": "stderr",
     "output_type": "stream",
     "text": [
      "WARNING:fabio.TiffIO:Data at tag id '65000' is smaller than expected\n",
      "WARNING:fabio.TiffIO:Data at tag id '65000' is smaller than expected\n",
      "WARNING:fabio.TiffIO:Data at tag id '65000' is smaller than expected\n",
      "WARNING:fabio.TiffIO:Data at tag id '65000' is smaller than expected\n"
     ]
    },
    {
     "name": "stdout",
     "output_type": "stream",
     "text": [
      "LR_AcidPEDOTPSS_as_pos2_2478.00eV_ai0.80_wa0_bpm12.813_id21734_000000_WAXS.tif\n"
     ]
    },
    {
     "name": "stderr",
     "output_type": "stream",
     "text": [
      "WARNING:fabio.TiffIO:Data at tag id '65000' is smaller than expected\n",
      "WARNING:fabio.TiffIO:Data at tag id '65000' is smaller than expected\n",
      "WARNING:fabio.TiffIO:Data at tag id '65000' is smaller than expected\n",
      "WARNING:fabio.TiffIO:Data at tag id '65000' is smaller than expected\n",
      "WARNING:fabio.TiffIO:Data at tag id '65000' is smaller than expected\n",
      "WARNING:fabio.TiffIO:Data at tag id '65000' is smaller than expected\n",
      "WARNING:fabio.TiffIO:Data at tag id '65000' is smaller than expected\n",
      "WARNING:fabio.TiffIO:Data at tag id '65000' is smaller than expected\n"
     ]
    },
    {
     "name": "stdout",
     "output_type": "stream",
     "text": [
      "LR_LiTFSI_PEDOTPSS_RbBr_pos1_2478.50eV_ai0.80_wa0_bpm109.237_id24192_000000_WAXS.tif\n"
     ]
    },
    {
     "name": "stderr",
     "output_type": "stream",
     "text": [
      "WARNING:fabio.TiffIO:Data at tag id '65000' is smaller than expected\n",
      "WARNING:fabio.TiffIO:Data at tag id '65000' is smaller than expected\n",
      "WARNING:fabio.TiffIO:Data at tag id '65000' is smaller than expected\n",
      "WARNING:fabio.TiffIO:Data at tag id '65000' is smaller than expected\n",
      "WARNING:fabio.TiffIO:Data at tag id '65000' is smaller than expected\n",
      "WARNING:fabio.TiffIO:Data at tag id '65000' is smaller than expected\n"
     ]
    },
    {
     "name": "stdout",
     "output_type": "stream",
     "text": [
      "LR_P3MEEMT23k115C_un_pos1_2483.00eV_ai0.80_wa0_bpm109.408_id23293_000000_WAXS.tif\n"
     ]
    },
    {
     "name": "stderr",
     "output_type": "stream",
     "text": [
      "WARNING:fabio.TiffIO:Data at tag id '65000' is smaller than expected\n",
      "WARNING:fabio.TiffIO:Data at tag id '65000' is smaller than expected\n",
      "WARNING:fabio.TiffIO:Data at tag id '65000' is smaller than expected\n",
      "WARNING:fabio.TiffIO:Data at tag id '65000' is smaller than expected\n",
      "WARNING:fabio.TiffIO:Data at tag id '65000' is smaller than expected\n",
      "WARNING:fabio.TiffIO:Data at tag id '65000' is smaller than expected\n"
     ]
    },
    {
     "name": "stdout",
     "output_type": "stream",
     "text": [
      "LR_AcidPEDOTPSS_overdope_p0p6_pos1_2515.00eV_ai0.80_wa0_bpm110.525_id22171_000000_WAXS.tif\n"
     ]
    },
    {
     "name": "stderr",
     "output_type": "stream",
     "text": [
      "WARNING:fabio.TiffIO:Data at tag id '65000' is smaller than expected\n",
      "WARNING:fabio.TiffIO:Data at tag id '65000' is smaller than expected\n",
      "WARNING:fabio.TiffIO:Data at tag id '65000' is smaller than expected\n",
      "WARNING:fabio.TiffIO:Data at tag id '65000' is smaller than expected\n"
     ]
    },
    {
     "name": "stdout",
     "output_type": "stream",
     "text": [
      "LR_LiTFSI_PEDOTPSS_exposed_pos1_2495.00eV_ai0.80_wa0_bpm109.652_id23637_000000_WAXS.tif\n"
     ]
    },
    {
     "name": "stderr",
     "output_type": "stream",
     "text": [
      "WARNING:fabio.TiffIO:Data at tag id '65000' is smaller than expected\n",
      "WARNING:fabio.TiffIO:Data at tag id '65000' is smaller than expected\n",
      "WARNING:fabio.TiffIO:Data at tag id '65000' is smaller than expected\n",
      "WARNING:fabio.TiffIO:Data at tag id '65000' is smaller than expected\n",
      "WARNING:fabio.TiffIO:Data at tag id '65000' is smaller than expected\n",
      "WARNING:fabio.TiffIO:Data at tag id '65000' is smaller than expected\n",
      "WARNING:fabio.TiffIO:Data at tag id '65000' is smaller than expected\n",
      "WARNING:fabio.TiffIO:Data at tag id '65000' is smaller than expected\n"
     ]
    },
    {
     "name": "stdout",
     "output_type": "stream",
     "text": [
      "LR_StandardPEDOTPSS_as_pos1_2480.00eV_ai0.80_wa0_bpm109.695_id22726_000000_WAXS.tif\n"
     ]
    },
    {
     "name": "stderr",
     "output_type": "stream",
     "text": [
      "WARNING:fabio.TiffIO:Data at tag id '65000' is smaller than expected\n",
      "WARNING:fabio.TiffIO:Data at tag id '65000' is smaller than expected\n",
      "WARNING:fabio.TiffIO:Data at tag id '65000' is smaller than expected\n",
      "WARNING:fabio.TiffIO:Data at tag id '65000' is smaller than expected\n",
      "WARNING:fabio.TiffIO:Data at tag id '65000' is smaller than expected\n",
      "WARNING:fabio.TiffIO:Data at tag id '65000' is smaller than expected\n"
     ]
    },
    {
     "name": "stdout",
     "output_type": "stream",
     "text": [
      "LR_LiTFSI_PEDOTPSS_as_pos1_2477.00eV_ai0.80_wa0_bpm109.307_id23511_000000_WAXS.tif\n"
     ]
    },
    {
     "name": "stderr",
     "output_type": "stream",
     "text": [
      "WARNING:fabio.TiffIO:Data at tag id '65000' is smaller than expected\n",
      "WARNING:fabio.TiffIO:Data at tag id '65000' is smaller than expected\n",
      "WARNING:fabio.TiffIO:Data at tag id '65000' is smaller than expected\n",
      "WARNING:fabio.TiffIO:Data at tag id '65000' is smaller than expected\n",
      "WARNING:fabio.TiffIO:Data at tag id '65000' is smaller than expected\n",
      "WARNING:fabio.TiffIO:Data at tag id '65000' is smaller than expected\n"
     ]
    },
    {
     "name": "stdout",
     "output_type": "stream",
     "text": [
      "LR_LiTFSI_PEDOTPSS_as_pos1_2455.00eV_ai0.80_wa0_bpm110.147_id23502_000000_WAXS.tif\n"
     ]
    },
    {
     "name": "stderr",
     "output_type": "stream",
     "text": [
      "WARNING:fabio.TiffIO:Data at tag id '65000' is smaller than expected\n",
      "WARNING:fabio.TiffIO:Data at tag id '65000' is smaller than expected\n",
      "WARNING:fabio.TiffIO:Data at tag id '65000' is smaller than expected\n",
      "WARNING:fabio.TiffIO:Data at tag id '65000' is smaller than expected\n",
      "WARNING:fabio.TiffIO:Data at tag id '65000' is smaller than expected\n",
      "WARNING:fabio.TiffIO:Data at tag id '65000' is smaller than expected\n"
     ]
    },
    {
     "name": "stdout",
     "output_type": "stream",
     "text": [
      "LR_AcidPEDOTPSS_overdope_p0p6_pos2_2500.00eV_ai0.80_wa0_bpm13.222_id22174_000000_WAXS.tif\n"
     ]
    },
    {
     "name": "stderr",
     "output_type": "stream",
     "text": [
      "WARNING:fabio.TiffIO:Data at tag id '65000' is smaller than expected\n",
      "WARNING:fabio.TiffIO:Data at tag id '65000' is smaller than expected\n",
      "WARNING:fabio.TiffIO:Data at tag id '65000' is smaller than expected\n",
      "WARNING:fabio.TiffIO:Data at tag id '65000' is smaller than expected\n"
     ]
    },
    {
     "name": "stdout",
     "output_type": "stream",
     "text": [
      "LR_AcidPEDOTPSS_as_pos2_2473.00eV_ai0.80_wa0_bpm12.780_id21741_000000_WAXS.tif\n"
     ]
    },
    {
     "name": "stderr",
     "output_type": "stream",
     "text": [
      "WARNING:fabio.TiffIO:Data at tag id '65000' is smaller than expected\n",
      "WARNING:fabio.TiffIO:Data at tag id '65000' is smaller than expected\n",
      "WARNING:fabio.TiffIO:Data at tag id '65000' is smaller than expected\n",
      "WARNING:fabio.TiffIO:Data at tag id '65000' is smaller than expected\n",
      "WARNING:fabio.TiffIO:Data at tag id '65000' is smaller than expected\n",
      "WARNING:fabio.TiffIO:Data at tag id '65000' is smaller than expected\n",
      "WARNING:fabio.TiffIO:Data at tag id '65000' is smaller than expected\n",
      "WARNING:fabio.TiffIO:Data at tag id '65000' is smaller than expected\n"
     ]
    },
    {
     "name": "stdout",
     "output_type": "stream",
     "text": [
      "LR_LiTFSI_PEDOTPSS_as_pos2_2475.00eV_ai0.80_wa0_bpm12.694_id23548_000000_WAXS.tif\n"
     ]
    },
    {
     "name": "stderr",
     "output_type": "stream",
     "text": [
      "WARNING:fabio.TiffIO:Data at tag id '65000' is smaller than expected\n",
      "WARNING:fabio.TiffIO:Data at tag id '65000' is smaller than expected\n",
      "WARNING:fabio.TiffIO:Data at tag id '65000' is smaller than expected\n",
      "WARNING:fabio.TiffIO:Data at tag id '65000' is smaller than expected\n",
      "WARNING:fabio.TiffIO:Data at tag id '65000' is smaller than expected\n",
      "WARNING:fabio.TiffIO:Data at tag id '65000' is smaller than expected\n"
     ]
    },
    {
     "name": "stdout",
     "output_type": "stream",
     "text": [
      "LR_RivnayFrit_P3MEEET_drop_pos1_2475.00eV_ai0.80_wa0_bpm109.385_id23394_000000_WAXS.tif\n"
     ]
    },
    {
     "name": "stderr",
     "output_type": "stream",
     "text": [
      "WARNING:fabio.TiffIO:Data at tag id '65000' is smaller than expected\n",
      "WARNING:fabio.TiffIO:Data at tag id '65000' is smaller than expected\n",
      "WARNING:fabio.TiffIO:Data at tag id '65000' is smaller than expected\n",
      "WARNING:fabio.TiffIO:Data at tag id '65000' is smaller than expected\n",
      "WARNING:fabio.TiffIO:Data at tag id '65000' is smaller than expected\n",
      "WARNING:fabio.TiffIO:Data at tag id '65000' is smaller than expected\n"
     ]
    },
    {
     "name": "stdout",
     "output_type": "stream",
     "text": [
      "LR_AcidPEDOTPSS_RbBr_pos1_2450.00eV_ai0.80_wa0_bpm111.544_id22597_000000_WAXS.tif\n"
     ]
    },
    {
     "name": "stderr",
     "output_type": "stream",
     "text": [
      "WARNING:fabio.TiffIO:Data at tag id '65000' is smaller than expected\n",
      "WARNING:fabio.TiffIO:Data at tag id '65000' is smaller than expected\n",
      "WARNING:fabio.TiffIO:Data at tag id '65000' is smaller than expected\n",
      "WARNING:fabio.TiffIO:Data at tag id '65000' is smaller than expected\n",
      "WARNING:fabio.TiffIO:Data at tag id '65000' is smaller than expected\n",
      "WARNING:fabio.TiffIO:Data at tag id '65000' is smaller than expected\n"
     ]
    },
    {
     "name": "stdout",
     "output_type": "stream",
     "text": [
      "LR_StandardPEDOTPSS_as_pos1_2495.00eV_ai0.80_wa0_bpm110.163_id22733_000000_WAXS.tif\n"
     ]
    },
    {
     "name": "stderr",
     "output_type": "stream",
     "text": [
      "WARNING:fabio.TiffIO:Data at tag id '65000' is smaller than expected\n",
      "WARNING:fabio.TiffIO:Data at tag id '65000' is smaller than expected\n",
      "WARNING:fabio.TiffIO:Data at tag id '65000' is smaller than expected\n",
      "WARNING:fabio.TiffIO:Data at tag id '65000' is smaller than expected\n",
      "WARNING:fabio.TiffIO:Data at tag id '65000' is smaller than expected\n",
      "WARNING:fabio.TiffIO:Data at tag id '65000' is smaller than expected\n"
     ]
    },
    {
     "name": "stdout",
     "output_type": "stream",
     "text": [
      "LR_AcidPEDOTPSS_overdope_p0p6_pos1_2477.00eV_ai0.80_wa0_bpm109.774_id22155_000000_WAXS.tif\n"
     ]
    },
    {
     "name": "stderr",
     "output_type": "stream",
     "text": [
      "WARNING:fabio.TiffIO:Data at tag id '65000' is smaller than expected\n",
      "WARNING:fabio.TiffIO:Data at tag id '65000' is smaller than expected\n",
      "WARNING:fabio.TiffIO:Data at tag id '65000' is smaller than expected\n",
      "WARNING:fabio.TiffIO:Data at tag id '65000' is smaller than expected\n",
      "WARNING:fabio.TiffIO:Data at tag id '65000' is smaller than expected\n",
      "WARNING:fabio.TiffIO:Data at tag id '65000' is smaller than expected\n"
     ]
    },
    {
     "name": "stdout",
     "output_type": "stream",
     "text": [
      "LR_LiTFSI_PEDOTPSS_exposed_pos1_2479.00eV_ai0.80_wa0_bpm109.586_id23628_000000_WAXS.tif\n"
     ]
    },
    {
     "name": "stderr",
     "output_type": "stream",
     "text": [
      "WARNING:fabio.TiffIO:Data at tag id '65000' is smaller than expected\n",
      "WARNING:fabio.TiffIO:Data at tag id '65000' is smaller than expected\n",
      "WARNING:fabio.TiffIO:Data at tag id '65000' is smaller than expected\n",
      "WARNING:fabio.TiffIO:Data at tag id '65000' is smaller than expected\n",
      "WARNING:fabio.TiffIO:Data at tag id '65000' is smaller than expected\n",
      "WARNING:fabio.TiffIO:Data at tag id '65000' is smaller than expected\n"
     ]
    },
    {
     "name": "stdout",
     "output_type": "stream",
     "text": [
      "LR_P3MEEMT23k115C_un_pos2_2476.50eV_ai0.80_wa0_bpm12.658_id23319_000000_WAXS.tif\n"
     ]
    },
    {
     "name": "stderr",
     "output_type": "stream",
     "text": [
      "WARNING:fabio.TiffIO:Data at tag id '65000' is smaller than expected\n",
      "WARNING:fabio.TiffIO:Data at tag id '65000' is smaller than expected\n",
      "WARNING:fabio.TiffIO:Data at tag id '65000' is smaller than expected\n",
      "WARNING:fabio.TiffIO:Data at tag id '65000' is smaller than expected\n",
      "WARNING:fabio.TiffIO:Data at tag id '65000' is smaller than expected\n",
      "WARNING:fabio.TiffIO:Data at tag id '65000' is smaller than expected\n"
     ]
    },
    {
     "name": "stdout",
     "output_type": "stream",
     "text": [
      "LR_AcidPEDOTPSS_NaBr_pos1_2490.00eV_ai0.80_wa0_bpm109.936_id22392_000000_WAXS.tif\n"
     ]
    },
    {
     "name": "stderr",
     "output_type": "stream",
     "text": [
      "WARNING:fabio.TiffIO:Data at tag id '65000' is smaller than expected\n",
      "WARNING:fabio.TiffIO:Data at tag id '65000' is smaller than expected\n",
      "WARNING:fabio.TiffIO:Data at tag id '65000' is smaller than expected\n",
      "WARNING:fabio.TiffIO:Data at tag id '65000' is smaller than expected\n",
      "WARNING:fabio.TiffIO:Data at tag id '65000' is smaller than expected\n",
      "WARNING:fabio.TiffIO:Data at tag id '65000' is smaller than expected\n"
     ]
    },
    {
     "name": "stdout",
     "output_type": "stream",
     "text": [
      "LR_RivnayFrit_P3MEEET_drop_pos2_2510.00eV_ai0.80_wa0_bpm13.407_id23416_000000_WAXS.tif\n"
     ]
    },
    {
     "name": "stderr",
     "output_type": "stream",
     "text": [
      "WARNING:fabio.TiffIO:Data at tag id '65000' is smaller than expected\n",
      "WARNING:fabio.TiffIO:Data at tag id '65000' is smaller than expected\n",
      "WARNING:fabio.TiffIO:Data at tag id '65000' is smaller than expected\n",
      "WARNING:fabio.TiffIO:Data at tag id '65000' is smaller than expected\n",
      "WARNING:fabio.TiffIO:Data at tag id '65000' is smaller than expected\n",
      "WARNING:fabio.TiffIO:Data at tag id '65000' is smaller than expected\n"
     ]
    },
    {
     "name": "stdout",
     "output_type": "stream",
     "text": [
      "LR_LiTFSI_PEDOTPSS_exposed_pos2_2475.00eV_ai0.80_wa0_bpm12.713_id23661_000000_WAXS.tif\n"
     ]
    },
    {
     "name": "stderr",
     "output_type": "stream",
     "text": [
      "WARNING:fabio.TiffIO:Data at tag id '65000' is smaller than expected\n",
      "WARNING:fabio.TiffIO:Data at tag id '65000' is smaller than expected\n",
      "WARNING:fabio.TiffIO:Data at tag id '65000' is smaller than expected\n",
      "WARNING:fabio.TiffIO:Data at tag id '65000' is smaller than expected\n",
      "WARNING:fabio.TiffIO:Data at tag id '65000' is smaller than expected\n",
      "WARNING:fabio.TiffIO:Data at tag id '65000' is smaller than expected\n"
     ]
    },
    {
     "name": "stdout",
     "output_type": "stream",
     "text": [
      "LR_LiTFSI_PEDOTPSS_dedoped_n0p6_pos2_2510.00eV_ai0.80_wa0_bpm13.412_id23868_000000_WAXS.tif\n"
     ]
    },
    {
     "name": "stderr",
     "output_type": "stream",
     "text": [
      "WARNING:fabio.TiffIO:Data at tag id '65000' is smaller than expected\n",
      "WARNING:fabio.TiffIO:Data at tag id '65000' is smaller than expected\n",
      "WARNING:fabio.TiffIO:Data at tag id '65000' is smaller than expected\n",
      "WARNING:fabio.TiffIO:Data at tag id '65000' is smaller than expected\n",
      "WARNING:fabio.TiffIO:Data at tag id '65000' is smaller than expected\n",
      "WARNING:fabio.TiffIO:Data at tag id '65000' is smaller than expected\n"
     ]
    },
    {
     "name": "stdout",
     "output_type": "stream",
     "text": [
      "LR_AcidPEDOTPSS_NaBr_pos1_2479.00eV_ai0.80_wa0_bpm110.006_id22385_000000_WAXS.tif\n"
     ]
    },
    {
     "name": "stderr",
     "output_type": "stream",
     "text": [
      "WARNING:fabio.TiffIO:Data at tag id '65000' is smaller than expected\n",
      "WARNING:fabio.TiffIO:Data at tag id '65000' is smaller than expected\n",
      "WARNING:fabio.TiffIO:Data at tag id '65000' is smaller than expected\n"
     ]
    },
    {
     "name": "stdout",
     "output_type": "stream",
     "text": [
      "LR_AcidPEDOTPSS_RbBr_pos2_2480.50eV_ai0.80_wa0_bpm12.758_id22633_000000_WAXS.tif\n"
     ]
    },
    {
     "name": "stderr",
     "output_type": "stream",
     "text": [
      "WARNING:fabio.TiffIO:Data at tag id '65000' is smaller than expected\n",
      "WARNING:fabio.TiffIO:Data at tag id '65000' is smaller than expected\n",
      "WARNING:fabio.TiffIO:Data at tag id '65000' is smaller than expected\n",
      "WARNING:fabio.TiffIO:Data at tag id '65000' is smaller than expected\n",
      "WARNING:fabio.TiffIO:Data at tag id '65000' is smaller than expected\n",
      "WARNING:fabio.TiffIO:Data at tag id '65000' is smaller than expected\n",
      "WARNING:fabio.TiffIO:Data at tag id '65000' is smaller than expected\n",
      "WARNING:fabio.TiffIO:Data at tag id '65000' is smaller than expected\n",
      "WARNING:fabio.TiffIO:Data at tag id '65000' is smaller than expected\n"
     ]
    },
    {
     "name": "stdout",
     "output_type": "stream",
     "text": [
      "LR_AcidPEDOTPSS_as_pos2_2450.00eV_ai0.80_wa0_bpm12.726_id21746_000000_WAXS.tif\n"
     ]
    },
    {
     "name": "stderr",
     "output_type": "stream",
     "text": [
      "WARNING:fabio.TiffIO:Data at tag id '65000' is smaller than expected\n",
      "WARNING:fabio.TiffIO:Data at tag id '65000' is smaller than expected\n",
      "WARNING:fabio.TiffIO:Data at tag id '65000' is smaller than expected\n",
      "WARNING:fabio.TiffIO:Data at tag id '65000' is smaller than expected\n",
      "WARNING:fabio.TiffIO:Data at tag id '65000' is smaller than expected\n"
     ]
    },
    {
     "name": "stdout",
     "output_type": "stream",
     "text": [
      "LR_LiTFSI_PEDOTPSS_redoped_0V_pos2_2483.00eV_ai0.80_wa0_bpm12.800_id23988_000000_WAXS.tif\n"
     ]
    },
    {
     "name": "stderr",
     "output_type": "stream",
     "text": [
      "WARNING:fabio.TiffIO:Data at tag id '65000' is smaller than expected\n",
      "WARNING:fabio.TiffIO:Data at tag id '65000' is smaller than expected\n",
      "WARNING:fabio.TiffIO:Data at tag id '65000' is smaller than expected\n",
      "WARNING:fabio.TiffIO:Data at tag id '65000' is smaller than expected\n"
     ]
    },
    {
     "name": "stdout",
     "output_type": "stream",
     "text": [
      "LR_LiTFSI_PEDOTPSS_0V_pos1_2490.00eV_ai0.80_wa0_bpm109.910_id23748_000000_WAXS.tif\n"
     ]
    },
    {
     "name": "stderr",
     "output_type": "stream",
     "text": [
      "WARNING:fabio.TiffIO:Data at tag id '65000' is smaller than expected\n",
      "WARNING:fabio.TiffIO:Data at tag id '65000' is smaller than expected\n",
      "WARNING:fabio.TiffIO:Data at tag id '65000' is smaller than expected\n",
      "WARNING:fabio.TiffIO:Data at tag id '65000' is smaller than expected\n",
      "WARNING:fabio.TiffIO:Data at tag id '65000' is smaller than expected\n",
      "WARNING:fabio.TiffIO:Data at tag id '65000' is smaller than expected\n",
      "WARNING:fabio.TiffIO:Data at tag id '65000' is smaller than expected\n",
      "WARNING:fabio.TiffIO:Data at tag id '65000' is smaller than expected\n",
      "WARNING:fabio.TiffIO:Data at tag id '65000' is smaller than expected\n"
     ]
    },
    {
     "name": "stdout",
     "output_type": "stream",
     "text": [
      "LR_StandardPEDOTPSS_NaBr_pos1_2475.00eV_ai0.80_wa0_bpm109.713_id22942_000000_WAXS.tif\n"
     ]
    },
    {
     "name": "stderr",
     "output_type": "stream",
     "text": [
      "WARNING:fabio.TiffIO:Data at tag id '65000' is smaller than expected\n",
      "WARNING:fabio.TiffIO:Data at tag id '65000' is smaller than expected\n",
      "WARNING:fabio.TiffIO:Data at tag id '65000' is smaller than expected\n",
      "WARNING:fabio.TiffIO:Data at tag id '65000' is smaller than expected\n",
      "WARNING:fabio.TiffIO:Data at tag id '65000' is smaller than expected\n",
      "WARNING:fabio.TiffIO:Data at tag id '65000' is smaller than expected\n"
     ]
    },
    {
     "name": "stdout",
     "output_type": "stream",
     "text": [
      "LR_StandardPEDOTPSS_as_pos1_2478.00eV_ai0.80_wa0_bpm109.615_id22722_000000_WAXS.tif\n"
     ]
    },
    {
     "name": "stderr",
     "output_type": "stream",
     "text": [
      "WARNING:fabio.TiffIO:Data at tag id '65000' is smaller than expected\n",
      "WARNING:fabio.TiffIO:Data at tag id '65000' is smaller than expected\n",
      "WARNING:fabio.TiffIO:Data at tag id '65000' is smaller than expected\n",
      "WARNING:fabio.TiffIO:Data at tag id '65000' is smaller than expected\n",
      "WARNING:fabio.TiffIO:Data at tag id '65000' is smaller than expected\n",
      "WARNING:fabio.TiffIO:Data at tag id '65000' is smaller than expected\n"
     ]
    },
    {
     "name": "stdout",
     "output_type": "stream",
     "text": [
      "LR_AcidPEDOTPSS_NaCl_pos1_2477.50eV_ai0.80_wa0_bpm109.915_id22269_000000_WAXS.tif\n"
     ]
    },
    {
     "name": "stderr",
     "output_type": "stream",
     "text": [
      "WARNING:fabio.TiffIO:Data at tag id '65000' is smaller than expected\n",
      "WARNING:fabio.TiffIO:Data at tag id '65000' is smaller than expected\n",
      "WARNING:fabio.TiffIO:Data at tag id '65000' is smaller than expected\n",
      "WARNING:fabio.TiffIO:Data at tag id '65000' is smaller than expected\n",
      "WARNING:fabio.TiffIO:Data at tag id '65000' is smaller than expected\n",
      "WARNING:fabio.TiffIO:Data at tag id '65000' is smaller than expected\n"
     ]
    },
    {
     "name": "stdout",
     "output_type": "stream",
     "text": [
      "LR_AcidPEDOTPSS_0V_pos2_2485.00eV_ai0.80_wa0_bpm12.859_id21953_000000_WAXS.tif\n"
     ]
    },
    {
     "name": "stderr",
     "output_type": "stream",
     "text": [
      "WARNING:fabio.TiffIO:Data at tag id '65000' is smaller than expected\n",
      "WARNING:fabio.TiffIO:Data at tag id '65000' is smaller than expected\n",
      "WARNING:fabio.TiffIO:Data at tag id '65000' is smaller than expected\n",
      "WARNING:fabio.TiffIO:Data at tag id '65000' is smaller than expected\n",
      "WARNING:fabio.TiffIO:Data at tag id '65000' is smaller than expected\n",
      "WARNING:fabio.TiffIO:Data at tag id '65000' is smaller than expected\n"
     ]
    },
    {
     "name": "stdout",
     "output_type": "stream",
     "text": [
      "LR_AcidPEDOTPSS_as_pos2_2460.00eV_ai0.80_wa0_bpm12.729_id21744_000000_WAXS.tif\n"
     ]
    },
    {
     "name": "stderr",
     "output_type": "stream",
     "text": [
      "WARNING:fabio.TiffIO:Data at tag id '65000' is smaller than expected\n",
      "WARNING:fabio.TiffIO:Data at tag id '65000' is smaller than expected\n",
      "WARNING:fabio.TiffIO:Data at tag id '65000' is smaller than expected\n",
      "WARNING:fabio.TiffIO:Data at tag id '65000' is smaller than expected\n",
      "WARNING:fabio.TiffIO:Data at tag id '65000' is smaller than expected\n",
      "WARNING:fabio.TiffIO:Data at tag id '65000' is smaller than expected\n"
     ]
    },
    {
     "name": "stdout",
     "output_type": "stream",
     "text": [
      "LR_AcidPEDOTPSS_RbBr_pos2_2450.00eV_ai0.80_wa0_bpm12.578_id22650_000000_WAXS.tif\n"
     ]
    },
    {
     "name": "stderr",
     "output_type": "stream",
     "text": [
      "WARNING:fabio.TiffIO:Data at tag id '65000' is smaller than expected\n",
      "WARNING:fabio.TiffIO:Data at tag id '65000' is smaller than expected\n",
      "WARNING:fabio.TiffIO:Data at tag id '65000' is smaller than expected\n",
      "WARNING:fabio.TiffIO:Data at tag id '65000' is smaller than expected\n",
      "WARNING:fabio.TiffIO:Data at tag id '65000' is smaller than expected\n",
      "WARNING:fabio.TiffIO:Data at tag id '65000' is smaller than expected\n"
     ]
    },
    {
     "name": "stdout",
     "output_type": "stream",
     "text": [
      "LR_LiTFSI_PEDOTPSS_0V_pos2_2500.00eV_ai0.80_wa0_bpm13.200_id23756_000000_WAXS.tif\n"
     ]
    },
    {
     "name": "stderr",
     "output_type": "stream",
     "text": [
      "WARNING:fabio.TiffIO:Data at tag id '65000' is smaller than expected\n",
      "WARNING:fabio.TiffIO:Data at tag id '65000' is smaller than expected\n",
      "WARNING:fabio.TiffIO:Data at tag id '65000' is smaller than expected\n",
      "WARNING:fabio.TiffIO:Data at tag id '65000' is smaller than expected\n",
      "WARNING:fabio.TiffIO:Data at tag id '65000' is smaller than expected\n",
      "WARNING:fabio.TiffIO:Data at tag id '65000' is smaller than expected\n"
     ]
    },
    {
     "name": "stdout",
     "output_type": "stream",
     "text": [
      "LR_AcidPEDOTPSS_0V_pos1_2490.00eV_ai0.80_wa0_bpm110.049_id21940_000000_WAXS.tif\n"
     ]
    },
    {
     "name": "stderr",
     "output_type": "stream",
     "text": [
      "WARNING:fabio.TiffIO:Data at tag id '65000' is smaller than expected\n",
      "WARNING:fabio.TiffIO:Data at tag id '65000' is smaller than expected\n",
      "WARNING:fabio.TiffIO:Data at tag id '65000' is smaller than expected\n",
      "WARNING:fabio.TiffIO:Data at tag id '65000' is smaller than expected\n",
      "WARNING:fabio.TiffIO:Data at tag id '65000' is smaller than expected\n",
      "WARNING:fabio.TiffIO:Data at tag id '65000' is smaller than expected\n"
     ]
    },
    {
     "name": "stdout",
     "output_type": "stream",
     "text": [
      "LR_P3MEEMT23k115C_un_pos2_2483.00eV_ai0.80_wa0_bpm12.778_id23310_000000_WAXS.tif\n"
     ]
    },
    {
     "name": "stderr",
     "output_type": "stream",
     "text": [
      "WARNING:fabio.TiffIO:Data at tag id '65000' is smaller than expected\n",
      "WARNING:fabio.TiffIO:Data at tag id '65000' is smaller than expected\n",
      "WARNING:fabio.TiffIO:Data at tag id '65000' is smaller than expected\n",
      "WARNING:fabio.TiffIO:Data at tag id '65000' is smaller than expected\n",
      "WARNING:fabio.TiffIO:Data at tag id '65000' is smaller than expected\n",
      "WARNING:fabio.TiffIO:Data at tag id '65000' is smaller than expected\n"
     ]
    },
    {
     "name": "stdout",
     "output_type": "stream",
     "text": [
      "LR_P3MEEMT23k115C_0p7_KTFSI_pos1_2487.50eV_ai0.80_wa0_bpm109.439_id23069_000000_WAXS.tif\n"
     ]
    },
    {
     "name": "stderr",
     "output_type": "stream",
     "text": [
      "WARNING:fabio.TiffIO:Data at tag id '65000' is smaller than expected\n",
      "WARNING:fabio.TiffIO:Data at tag id '65000' is smaller than expected\n",
      "WARNING:fabio.TiffIO:Data at tag id '65000' is smaller than expected\n",
      "WARNING:fabio.TiffIO:Data at tag id '65000' is smaller than expected\n",
      "WARNING:fabio.TiffIO:Data at tag id '65000' is smaller than expected\n",
      "WARNING:fabio.TiffIO:Data at tag id '65000' is smaller than expected\n"
     ]
    },
    {
     "name": "stdout",
     "output_type": "stream",
     "text": [
      "LR_P3MEEMT23k115C_0p7_KTFSI_pos1_2477.00eV_ai0.80_wa0_bpm109.120_id23059_000000_WAXS.tif\n"
     ]
    },
    {
     "name": "stderr",
     "output_type": "stream",
     "text": [
      "WARNING:fabio.TiffIO:Data at tag id '65000' is smaller than expected\n",
      "WARNING:fabio.TiffIO:Data at tag id '65000' is smaller than expected\n",
      "WARNING:fabio.TiffIO:Data at tag id '65000' is smaller than expected\n",
      "WARNING:fabio.TiffIO:Data at tag id '65000' is smaller than expected\n",
      "WARNING:fabio.TiffIO:Data at tag id '65000' is smaller than expected\n",
      "WARNING:fabio.TiffIO:Data at tag id '65000' is smaller than expected\n"
     ]
    },
    {
     "name": "stdout",
     "output_type": "stream",
     "text": [
      "LR_LiTFSI_PEDOTPSS_RbBr_pos1_2479.50eV_ai0.80_wa0_bpm109.409_id24194_000000_WAXS.tif\n"
     ]
    },
    {
     "name": "stderr",
     "output_type": "stream",
     "text": [
      "WARNING:fabio.TiffIO:Data at tag id '65000' is smaller than expected\n",
      "WARNING:fabio.TiffIO:Data at tag id '65000' is smaller than expected\n",
      "WARNING:fabio.TiffIO:Data at tag id '65000' is smaller than expected\n"
     ]
    },
    {
     "name": "stdout",
     "output_type": "stream",
     "text": [
      "LR_AcidPEDOTPSS_as_pos1_2487.50eV_ai0.80_wa0_bpm110.883_id21713_000000_WAXS.tif\n"
     ]
    },
    {
     "name": "stderr",
     "output_type": "stream",
     "text": [
      "WARNING:fabio.TiffIO:Data at tag id '65000' is smaller than expected\n",
      "WARNING:fabio.TiffIO:Data at tag id '65000' is smaller than expected\n",
      "WARNING:fabio.TiffIO:Data at tag id '65000' is smaller than expected\n",
      "WARNING:fabio.TiffIO:Data at tag id '65000' is smaller than expected\n",
      "WARNING:fabio.TiffIO:Data at tag id '65000' is smaller than expected\n",
      "WARNING:fabio.TiffIO:Data at tag id '65000' is smaller than expected\n",
      "WARNING:fabio.TiffIO:Data at tag id '65000' is smaller than expected\n",
      "WARNING:fabio.TiffIO:Data at tag id '65000' is smaller than expected\n",
      "WARNING:fabio.TiffIO:Data at tag id '65000' is smaller than expected\n"
     ]
    },
    {
     "name": "stdout",
     "output_type": "stream",
     "text": [
      "LR_RivnayFrit_P3MEEET_drop_pos2_2476.50eV_ai0.80_wa0_bpm12.659_id23432_000000_WAXS.tif\n"
     ]
    },
    {
     "name": "stderr",
     "output_type": "stream",
     "text": [
      "WARNING:fabio.TiffIO:Data at tag id '65000' is smaller than expected\n",
      "WARNING:fabio.TiffIO:Data at tag id '65000' is smaller than expected\n",
      "WARNING:fabio.TiffIO:Data at tag id '65000' is smaller than expected\n",
      "WARNING:fabio.TiffIO:Data at tag id '65000' is smaller than expected\n",
      "WARNING:fabio.TiffIO:Data at tag id '65000' is smaller than expected\n",
      "WARNING:fabio.TiffIO:Data at tag id '65000' is smaller than expected\n"
     ]
    },
    {
     "name": "stdout",
     "output_type": "stream",
     "text": [
      "LR_StandardPEDOTPSS_RbBr_pos2_2487.50eV_ai0.80_wa0_bpm12.868_id22856_000000_WAXS.tif\n"
     ]
    },
    {
     "name": "stderr",
     "output_type": "stream",
     "text": [
      "WARNING:fabio.TiffIO:Data at tag id '65000' is smaller than expected\n",
      "WARNING:fabio.TiffIO:Data at tag id '65000' is smaller than expected\n",
      "WARNING:fabio.TiffIO:Data at tag id '65000' is smaller than expected\n",
      "WARNING:fabio.TiffIO:Data at tag id '65000' is smaller than expected\n",
      "WARNING:fabio.TiffIO:Data at tag id '65000' is smaller than expected\n",
      "WARNING:fabio.TiffIO:Data at tag id '65000' is smaller than expected\n"
     ]
    },
    {
     "name": "stdout",
     "output_type": "stream",
     "text": [
      "LR_AcidPEDOTPSS_dedope_n0p6_pos1_2470.00eV_ai0.80_wa0_bpm110.372_id22036_000000_WAXS.tif\n"
     ]
    },
    {
     "name": "stderr",
     "output_type": "stream",
     "text": [
      "WARNING:fabio.TiffIO:Data at tag id '65000' is smaller than expected\n",
      "WARNING:fabio.TiffIO:Data at tag id '65000' is smaller than expected\n",
      "WARNING:fabio.TiffIO:Data at tag id '65000' is smaller than expected\n",
      "WARNING:fabio.TiffIO:Data at tag id '65000' is smaller than expected\n",
      "WARNING:fabio.TiffIO:Data at tag id '65000' is smaller than expected\n",
      "WARNING:fabio.TiffIO:Data at tag id '65000' is smaller than expected\n"
     ]
    },
    {
     "name": "stdout",
     "output_type": "stream",
     "text": [
      "LR_AcidPEDOTPSS_overdope_p0p6_pos1_2487.50eV_ai0.80_wa0_bpm110.134_id22165_000000_WAXS.tif\n"
     ]
    },
    {
     "name": "stderr",
     "output_type": "stream",
     "text": [
      "WARNING:fabio.TiffIO:Data at tag id '65000' is smaller than expected\n",
      "WARNING:fabio.TiffIO:Data at tag id '65000' is smaller than expected\n",
      "WARNING:fabio.TiffIO:Data at tag id '65000' is smaller than expected\n",
      "WARNING:fabio.TiffIO:Data at tag id '65000' is smaller than expected\n"
     ]
    },
    {
     "name": "stdout",
     "output_type": "stream",
     "text": [
      "LR_LiTFSI_PEDOTPSS_RbBr_pos1_2480.50eV_ai0.80_wa0_bpm109.446_id24196_000000_WAXS.tif\n"
     ]
    },
    {
     "name": "stderr",
     "output_type": "stream",
     "text": [
      "WARNING:fabio.TiffIO:Data at tag id '65000' is smaller than expected\n",
      "WARNING:fabio.TiffIO:Data at tag id '65000' is smaller than expected\n",
      "WARNING:fabio.TiffIO:Data at tag id '65000' is smaller than expected\n",
      "WARNING:fabio.TiffIO:Data at tag id '65000' is smaller than expected\n",
      "WARNING:fabio.TiffIO:Data at tag id '65000' is smaller than expected\n",
      "WARNING:fabio.TiffIO:Data at tag id '65000' is smaller than expected\n",
      "WARNING:fabio.TiffIO:Data at tag id '65000' is smaller than expected\n",
      "WARNING:fabio.TiffIO:Data at tag id '65000' is smaller than expected\n"
     ]
    },
    {
     "name": "stdout",
     "output_type": "stream",
     "text": [
      "LR_StandardPEDOTPSS_NaBr_pos2_2477.50eV_ai0.80_wa0_bpm12.666_id22978_000000_WAXS.tif\n"
     ]
    },
    {
     "name": "stderr",
     "output_type": "stream",
     "text": [
      "WARNING:fabio.TiffIO:Data at tag id '65000' is smaller than expected\n",
      "WARNING:fabio.TiffIO:Data at tag id '65000' is smaller than expected\n",
      "WARNING:fabio.TiffIO:Data at tag id '65000' is smaller than expected\n",
      "WARNING:fabio.TiffIO:Data at tag id '65000' is smaller than expected\n"
     ]
    },
    {
     "name": "stdout",
     "output_type": "stream",
     "text": [
      "LR_AcidPEDOTPSS_dedope_n0p6_pos2_2479.00eV_ai0.80_wa0_bpm12.765_id22071_000000_WAXS.tif\n"
     ]
    },
    {
     "name": "stderr",
     "output_type": "stream",
     "text": [
      "WARNING:fabio.TiffIO:Data at tag id '65000' is smaller than expected\n",
      "WARNING:fabio.TiffIO:Data at tag id '65000' is smaller than expected\n",
      "WARNING:fabio.TiffIO:Data at tag id '65000' is smaller than expected\n",
      "WARNING:fabio.TiffIO:Data at tag id '65000' is smaller than expected\n",
      "WARNING:fabio.TiffIO:Data at tag id '65000' is smaller than expected\n",
      "WARNING:fabio.TiffIO:Data at tag id '65000' is smaller than expected\n",
      "WARNING:fabio.TiffIO:Data at tag id '65000' is smaller than expected\n",
      "WARNING:fabio.TiffIO:Data at tag id '65000' is smaller than expected\n"
     ]
    },
    {
     "name": "stdout",
     "output_type": "stream",
     "text": [
      "LR_AcidPEDOTPSS_overdope_p0p6_pos2_2473.00eV_ai0.80_wa0_bpm12.681_id22193_000000_WAXS.tif\n"
     ]
    },
    {
     "name": "stderr",
     "output_type": "stream",
     "text": [
      "WARNING:fabio.TiffIO:Data at tag id '65000' is smaller than expected\n",
      "WARNING:fabio.TiffIO:Data at tag id '65000' is smaller than expected\n",
      "WARNING:fabio.TiffIO:Data at tag id '65000' is smaller than expected\n",
      "WARNING:fabio.TiffIO:Data at tag id '65000' is smaller than expected\n",
      "WARNING:fabio.TiffIO:Data at tag id '65000' is smaller than expected\n",
      "WARNING:fabio.TiffIO:Data at tag id '65000' is smaller than expected\n"
     ]
    },
    {
     "name": "stdout",
     "output_type": "stream",
     "text": [
      "LR_LiTFSI_PEDOTPSS_RbBr_pos1_2485.00eV_ai0.80_wa0_bpm109.301_id24198_000000_WAXS.tif\n"
     ]
    },
    {
     "name": "stderr",
     "output_type": "stream",
     "text": [
      "WARNING:fabio.TiffIO:Data at tag id '65000' is smaller than expected\n",
      "WARNING:fabio.TiffIO:Data at tag id '65000' is smaller than expected\n",
      "WARNING:fabio.TiffIO:Data at tag id '65000' is smaller than expected\n",
      "WARNING:fabio.TiffIO:Data at tag id '65000' is smaller than expected\n",
      "WARNING:fabio.TiffIO:Data at tag id '65000' is smaller than expected\n",
      "WARNING:fabio.TiffIO:Data at tag id '65000' is smaller than expected\n"
     ]
    },
    {
     "name": "stdout",
     "output_type": "stream",
     "text": [
      "LR_StandardPEDOTPSS_as_pos1_2465.00eV_ai0.80_wa0_bpm109.974_id22713_000000_WAXS.tif\n"
     ]
    },
    {
     "name": "stderr",
     "output_type": "stream",
     "text": [
      "WARNING:fabio.TiffIO:Data at tag id '65000' is smaller than expected\n",
      "WARNING:fabio.TiffIO:Data at tag id '65000' is smaller than expected\n",
      "WARNING:fabio.TiffIO:Data at tag id '65000' is smaller than expected\n"
     ]
    },
    {
     "name": "stdout",
     "output_type": "stream",
     "text": [
      "LR_AcidPEDOTPSS_dedope_n0p6_pos1_2480.00eV_ai0.80_wa0_bpm110.243_id22048_000000_WAXS.tif\n"
     ]
    },
    {
     "name": "stderr",
     "output_type": "stream",
     "text": [
      "WARNING:fabio.TiffIO:Data at tag id '65000' is smaller than expected\n",
      "WARNING:fabio.TiffIO:Data at tag id '65000' is smaller than expected\n",
      "WARNING:fabio.TiffIO:Data at tag id '65000' is smaller than expected\n",
      "WARNING:fabio.TiffIO:Data at tag id '65000' is smaller than expected\n",
      "WARNING:fabio.TiffIO:Data at tag id '65000' is smaller than expected\n",
      "WARNING:fabio.TiffIO:Data at tag id '65000' is smaller than expected\n",
      "WARNING:fabio.TiffIO:Data at tag id '65000' is smaller than expected\n",
      "WARNING:fabio.TiffIO:Data at tag id '65000' is smaller than expected\n",
      "WARNING:fabio.TiffIO:Data at tag id '65000' is smaller than expected\n"
     ]
    },
    {
     "name": "stdout",
     "output_type": "stream",
     "text": [
      "LR_LiTFSI_PEDOTPSS_overdoped_p0p6V_pos2_2485.00eV_ai0.80_wa0_bpm12.859_id24100_000000_WAXS.tif\n"
     ]
    },
    {
     "name": "stderr",
     "output_type": "stream",
     "text": [
      "WARNING:fabio.TiffIO:Data at tag id '65000' is smaller than expected\n",
      "WARNING:fabio.TiffIO:Data at tag id '65000' is smaller than expected\n",
      "WARNING:fabio.TiffIO:Data at tag id '65000' is smaller than expected\n",
      "WARNING:fabio.TiffIO:Data at tag id '65000' is smaller than expected\n",
      "WARNING:fabio.TiffIO:Data at tag id '65000' is smaller than expected\n",
      "WARNING:fabio.TiffIO:Data at tag id '65000' is smaller than expected\n"
     ]
    },
    {
     "name": "stdout",
     "output_type": "stream",
     "text": [
      "LR_AcidPEDOTPSS_0V_pos2_2492.50eV_ai0.80_wa0_bpm13.062_id21950_000000_WAXS.tif\n"
     ]
    },
    {
     "name": "stderr",
     "output_type": "stream",
     "text": [
      "WARNING:fabio.TiffIO:Data at tag id '65000' is smaller than expected\n",
      "WARNING:fabio.TiffIO:Data at tag id '65000' is smaller than expected\n",
      "WARNING:fabio.TiffIO:Data at tag id '65000' is smaller than expected\n",
      "WARNING:fabio.TiffIO:Data at tag id '65000' is smaller than expected\n",
      "WARNING:fabio.TiffIO:Data at tag id '65000' is smaller than expected\n",
      "WARNING:fabio.TiffIO:Data at tag id '65000' is smaller than expected\n"
     ]
    },
    {
     "name": "stdout",
     "output_type": "stream",
     "text": [
      "LR_P3MEEMT23k115C_un_pos2_2478.00eV_ai0.80_wa0_bpm12.672_id23316_000000_WAXS.tif\n"
     ]
    },
    {
     "name": "stderr",
     "output_type": "stream",
     "text": [
      "WARNING:fabio.TiffIO:Data at tag id '65000' is smaller than expected\n",
      "WARNING:fabio.TiffIO:Data at tag id '65000' is smaller than expected\n",
      "WARNING:fabio.TiffIO:Data at tag id '65000' is smaller than expected\n",
      "WARNING:fabio.TiffIO:Data at tag id '65000' is smaller than expected\n",
      "WARNING:fabio.TiffIO:Data at tag id '65000' is smaller than expected\n",
      "WARNING:fabio.TiffIO:Data at tag id '65000' is smaller than expected\n"
     ]
    },
    {
     "name": "stdout",
     "output_type": "stream",
     "text": [
      "LR_LiTFSI_PEDOTPSS_overdoped_p0p6V_pos2_2478.50eV_ai0.80_wa0_bpm12.752_id24106_000000_WAXS.tif\n"
     ]
    },
    {
     "name": "stderr",
     "output_type": "stream",
     "text": [
      "WARNING:fabio.TiffIO:Data at tag id '65000' is smaller than expected\n",
      "WARNING:fabio.TiffIO:Data at tag id '65000' is smaller than expected\n",
      "WARNING:fabio.TiffIO:Data at tag id '65000' is smaller than expected\n",
      "WARNING:fabio.TiffIO:Data at tag id '65000' is smaller than expected\n",
      "WARNING:fabio.TiffIO:Data at tag id '65000' is smaller than expected\n",
      "WARNING:fabio.TiffIO:Data at tag id '65000' is smaller than expected\n"
     ]
    },
    {
     "name": "stdout",
     "output_type": "stream",
     "text": [
      "LR_AcidPEDOTPSS_overdope_p0p6_pos1_2485.00eV_ai0.80_wa0_bpm109.911_id22164_000000_WAXS.tif\n"
     ]
    },
    {
     "name": "stderr",
     "output_type": "stream",
     "text": [
      "WARNING:fabio.TiffIO:Data at tag id '65000' is smaller than expected\n",
      "WARNING:fabio.TiffIO:Data at tag id '65000' is smaller than expected\n",
      "WARNING:fabio.TiffIO:Data at tag id '65000' is smaller than expected\n",
      "WARNING:fabio.TiffIO:Data at tag id '65000' is smaller than expected\n",
      "WARNING:fabio.TiffIO:Data at tag id '65000' is smaller than expected\n",
      "WARNING:fabio.TiffIO:Data at tag id '65000' is smaller than expected\n"
     ]
    },
    {
     "name": "stdout",
     "output_type": "stream",
     "text": [
      "LR_LiTFSI_PEDOTPSS_0V_pos2_2470.00eV_ai0.80_wa0_bpm12.682_id23776_000000_WAXS.tif\n"
     ]
    },
    {
     "name": "stderr",
     "output_type": "stream",
     "text": [
      "WARNING:fabio.TiffIO:Data at tag id '65000' is smaller than expected\n",
      "WARNING:fabio.TiffIO:Data at tag id '65000' is smaller than expected\n",
      "WARNING:fabio.TiffIO:Data at tag id '65000' is smaller than expected\n",
      "WARNING:fabio.TiffIO:Data at tag id '65000' is smaller than expected\n",
      "WARNING:fabio.TiffIO:Data at tag id '65000' is smaller than expected\n",
      "WARNING:fabio.TiffIO:Data at tag id '65000' is smaller than expected\n"
     ]
    },
    {
     "name": "stdout",
     "output_type": "stream",
     "text": [
      "LR_StandardPEDOTPSS_as_pos1_2477.00eV_ai0.80_wa0_bpm109.662_id22720_000000_WAXS.tif\n"
     ]
    },
    {
     "name": "stderr",
     "output_type": "stream",
     "text": [
      "WARNING:fabio.TiffIO:Data at tag id '65000' is smaller than expected\n",
      "WARNING:fabio.TiffIO:Data at tag id '65000' is smaller than expected\n",
      "WARNING:fabio.TiffIO:Data at tag id '65000' is smaller than expected\n",
      "WARNING:fabio.TiffIO:Data at tag id '65000' is smaller than expected\n",
      "WARNING:fabio.TiffIO:Data at tag id '65000' is smaller than expected\n",
      "WARNING:fabio.TiffIO:Data at tag id '65000' is smaller than expected\n"
     ]
    },
    {
     "name": "stdout",
     "output_type": "stream",
     "text": [
      "LR_AcidPEDOTPSS_NaCl_pos2_2477.00eV_ai0.80_wa0_bpm12.744_id22301_000000_WAXS.tif\n"
     ]
    },
    {
     "name": "stderr",
     "output_type": "stream",
     "text": [
      "WARNING:fabio.TiffIO:Data at tag id '65000' is smaller than expected\n",
      "WARNING:fabio.TiffIO:Data at tag id '65000' is smaller than expected\n",
      "WARNING:fabio.TiffIO:Data at tag id '65000' is smaller than expected\n",
      "WARNING:fabio.TiffIO:Data at tag id '65000' is smaller than expected\n",
      "WARNING:fabio.TiffIO:Data at tag id '65000' is smaller than expected\n",
      "WARNING:fabio.TiffIO:Data at tag id '65000' is smaller than expected\n"
     ]
    },
    {
     "name": "stdout",
     "output_type": "stream",
     "text": [
      "LR_StandardPEDOTPSS_RbBr_pos1_2483.00eV_ai0.80_wa0_bpm109.557_id22841_000000_WAXS.tif\n"
     ]
    },
    {
     "name": "stderr",
     "output_type": "stream",
     "text": [
      "WARNING:fabio.TiffIO:Data at tag id '65000' is smaller than expected\n",
      "WARNING:fabio.TiffIO:Data at tag id '65000' is smaller than expected\n",
      "WARNING:fabio.TiffIO:Data at tag id '65000' is smaller than expected\n",
      "WARNING:fabio.TiffIO:Data at tag id '65000' is smaller than expected\n",
      "WARNING:fabio.TiffIO:Data at tag id '65000' is smaller than expected\n",
      "WARNING:fabio.TiffIO:Data at tag id '65000' is smaller than expected\n"
     ]
    },
    {
     "name": "stdout",
     "output_type": "stream",
     "text": [
      "LR_AcidPEDOTPSS_exposed_pos1_2450.00eV_ai0.80_wa0_bpm112.088_id21806_000000_WAXS.tif\n"
     ]
    },
    {
     "name": "stderr",
     "output_type": "stream",
     "text": [
      "WARNING:fabio.TiffIO:Data at tag id '65000' is smaller than expected\n",
      "WARNING:fabio.TiffIO:Data at tag id '65000' is smaller than expected\n",
      "WARNING:fabio.TiffIO:Data at tag id '65000' is smaller than expected\n",
      "WARNING:fabio.TiffIO:Data at tag id '65000' is smaller than expected\n",
      "WARNING:fabio.TiffIO:Data at tag id '65000' is smaller than expected\n",
      "WARNING:fabio.TiffIO:Data at tag id '65000' is smaller than expected\n"
     ]
    },
    {
     "name": "stdout",
     "output_type": "stream",
     "text": [
      "LR_LiTFSI_PEDOTPSS_exposed_pos1_2487.50eV_ai0.80_wa0_bpm109.630_id23634_000000_WAXS.tif\n"
     ]
    },
    {
     "name": "stderr",
     "output_type": "stream",
     "text": [
      "WARNING:fabio.TiffIO:Data at tag id '65000' is smaller than expected\n",
      "WARNING:fabio.TiffIO:Data at tag id '65000' is smaller than expected\n",
      "WARNING:fabio.TiffIO:Data at tag id '65000' is smaller than expected\n",
      "WARNING:fabio.TiffIO:Data at tag id '65000' is smaller than expected\n",
      "WARNING:fabio.TiffIO:Data at tag id '65000' is smaller than expected\n",
      "WARNING:fabio.TiffIO:Data at tag id '65000' is smaller than expected\n"
     ]
    },
    {
     "name": "stdout",
     "output_type": "stream",
     "text": [
      "LR_AcidPEDOTPSS_NaBr_pos1_2483.00eV_ai0.80_wa0_bpm110.119_id22389_000000_WAXS.tif\n"
     ]
    },
    {
     "name": "stderr",
     "output_type": "stream",
     "text": [
      "WARNING:fabio.TiffIO:Data at tag id '65000' is smaller than expected\n",
      "WARNING:fabio.TiffIO:Data at tag id '65000' is smaller than expected\n",
      "WARNING:fabio.TiffIO:Data at tag id '65000' is smaller than expected\n",
      "WARNING:fabio.TiffIO:Data at tag id '65000' is smaller than expected\n",
      "WARNING:fabio.TiffIO:Data at tag id '65000' is smaller than expected\n"
     ]
    },
    {
     "name": "stdout",
     "output_type": "stream",
     "text": [
      "LR_AcidPEDOTPSS_overdope_p0p6_pos1_2460.00eV_ai0.80_wa0_bpm110.106_id22147_000000_WAXS.tif\n"
     ]
    },
    {
     "name": "stderr",
     "output_type": "stream",
     "text": [
      "WARNING:fabio.TiffIO:Data at tag id '65000' is smaller than expected\n",
      "WARNING:fabio.TiffIO:Data at tag id '65000' is smaller than expected\n",
      "WARNING:fabio.TiffIO:Data at tag id '65000' is smaller than expected\n",
      "WARNING:fabio.TiffIO:Data at tag id '65000' is smaller than expected\n",
      "WARNING:fabio.TiffIO:Data at tag id '65000' is smaller than expected\n",
      "WARNING:fabio.TiffIO:Data at tag id '65000' is smaller than expected\n",
      "WARNING:fabio.TiffIO:Data at tag id '65000' is smaller than expected\n"
     ]
    },
    {
     "name": "stdout",
     "output_type": "stream",
     "text": [
      "LR_RivnayFrit_P3MEEET_drop_pos1_2473.00eV_ai0.80_wa0_bpm109.291_id23393_000000_WAXS.tif\n"
     ]
    },
    {
     "name": "stderr",
     "output_type": "stream",
     "text": [
      "WARNING:fabio.TiffIO:Data at tag id '65000' is smaller than expected\n",
      "WARNING:fabio.TiffIO:Data at tag id '65000' is smaller than expected\n",
      "WARNING:fabio.TiffIO:Data at tag id '65000' is smaller than expected\n",
      "WARNING:fabio.TiffIO:Data at tag id '65000' is smaller than expected\n",
      "WARNING:fabio.TiffIO:Data at tag id '65000' is smaller than expected\n",
      "WARNING:fabio.TiffIO:Data at tag id '65000' is smaller than expected\n"
     ]
    },
    {
     "name": "stdout",
     "output_type": "stream",
     "text": [
      "LR_LiTFSI_PEDOTPSS_exposed_pos1_2483.00eV_ai0.80_wa0_bpm109.679_id23632_000000_WAXS.tif\n"
     ]
    },
    {
     "name": "stderr",
     "output_type": "stream",
     "text": [
      "WARNING:fabio.TiffIO:Data at tag id '65000' is smaller than expected\n",
      "WARNING:fabio.TiffIO:Data at tag id '65000' is smaller than expected\n",
      "WARNING:fabio.TiffIO:Data at tag id '65000' is smaller than expected\n",
      "WARNING:fabio.TiffIO:Data at tag id '65000' is smaller than expected\n",
      "WARNING:fabio.TiffIO:Data at tag id '65000' is smaller than expected\n"
     ]
    },
    {
     "name": "stdout",
     "output_type": "stream",
     "text": [
      "LR_AcidPEDOTPSS_NaCl_pos1_2475.50eV_ai0.80_wa0_bpm110.076_id22265_000000_WAXS.tif\n"
     ]
    },
    {
     "name": "stderr",
     "output_type": "stream",
     "text": [
      "WARNING:fabio.TiffIO:Data at tag id '65000' is smaller than expected\n",
      "WARNING:fabio.TiffIO:Data at tag id '65000' is smaller than expected\n",
      "WARNING:fabio.TiffIO:Data at tag id '65000' is smaller than expected\n",
      "WARNING:fabio.TiffIO:Data at tag id '65000' is smaller than expected\n",
      "WARNING:fabio.TiffIO:Data at tag id '65000' is smaller than expected\n",
      "WARNING:fabio.TiffIO:Data at tag id '65000' is smaller than expected\n",
      "WARNING:fabio.TiffIO:Data at tag id '65000' is smaller than expected\n"
     ]
    },
    {
     "name": "stdout",
     "output_type": "stream",
     "text": [
      "LR_RivnayFrit_P3MEEET_drop_pos1_2500.00eV_ai0.80_wa0_bpm109.601_id23412_000000_WAXS.tif\n"
     ]
    },
    {
     "name": "stderr",
     "output_type": "stream",
     "text": [
      "WARNING:fabio.TiffIO:Data at tag id '65000' is smaller than expected\n",
      "WARNING:fabio.TiffIO:Data at tag id '65000' is smaller than expected\n",
      "WARNING:fabio.TiffIO:Data at tag id '65000' is smaller than expected\n",
      "WARNING:fabio.TiffIO:Data at tag id '65000' is smaller than expected\n",
      "WARNING:fabio.TiffIO:Data at tag id '65000' is smaller than expected\n",
      "WARNING:fabio.TiffIO:Data at tag id '65000' is smaller than expected\n"
     ]
    },
    {
     "name": "stdout",
     "output_type": "stream",
     "text": [
      "LR_AcidPEDOTPSS_RbCl_pos1_2455.00eV_ai0.80_wa0_bpm110.673_id22485_000000_WAXS.tif\n"
     ]
    },
    {
     "name": "stderr",
     "output_type": "stream",
     "text": [
      "WARNING:fabio.TiffIO:Data at tag id '65000' is smaller than expected\n",
      "WARNING:fabio.TiffIO:Data at tag id '65000' is smaller than expected\n",
      "WARNING:fabio.TiffIO:Data at tag id '65000' is smaller than expected\n",
      "WARNING:fabio.TiffIO:Data at tag id '65000' is smaller than expected\n",
      "WARNING:fabio.TiffIO:Data at tag id '65000' is smaller than expected\n",
      "WARNING:fabio.TiffIO:Data at tag id '65000' is smaller than expected\n"
     ]
    },
    {
     "name": "stdout",
     "output_type": "stream",
     "text": [
      "LR_LiTFSI_PEDOTPSS_dedoped_n0p6_pos1_2510.00eV_ai0.80_wa0_bpm109.877_id23865_000000_WAXS.tif\n"
     ]
    },
    {
     "name": "stderr",
     "output_type": "stream",
     "text": [
      "WARNING:fabio.TiffIO:Data at tag id '65000' is smaller than expected\n",
      "WARNING:fabio.TiffIO:Data at tag id '65000' is smaller than expected\n",
      "WARNING:fabio.TiffIO:Data at tag id '65000' is smaller than expected\n",
      "WARNING:fabio.TiffIO:Data at tag id '65000' is smaller than expected\n",
      "WARNING:fabio.TiffIO:Data at tag id '65000' is smaller than expected\n",
      "WARNING:fabio.TiffIO:Data at tag id '65000' is smaller than expected\n"
     ]
    },
    {
     "name": "stdout",
     "output_type": "stream",
     "text": [
      "LR_LiTFSI_PEDOTPSS_as_pos1_2479.50eV_ai0.80_wa0_bpm109.143_id23516_000000_WAXS.tif\n"
     ]
    },
    {
     "name": "stderr",
     "output_type": "stream",
     "text": [
      "WARNING:fabio.TiffIO:Data at tag id '65000' is smaller than expected\n",
      "WARNING:fabio.TiffIO:Data at tag id '65000' is smaller than expected\n",
      "WARNING:fabio.TiffIO:Data at tag id '65000' is smaller than expected\n",
      "WARNING:fabio.TiffIO:Data at tag id '65000' is smaller than expected\n",
      "WARNING:fabio.TiffIO:Data at tag id '65000' is smaller than expected\n",
      "WARNING:fabio.TiffIO:Data at tag id '65000' is smaller than expected\n"
     ]
    },
    {
     "name": "stdout",
     "output_type": "stream",
     "text": [
      "LR_AcidPEDOTPSS_exposed_pos2_2479.00eV_ai0.80_wa0_bpm12.816_id21845_000000_WAXS.tif\n"
     ]
    },
    {
     "name": "stderr",
     "output_type": "stream",
     "text": [
      "WARNING:fabio.TiffIO:Data at tag id '65000' is smaller than expected\n",
      "WARNING:fabio.TiffIO:Data at tag id '65000' is smaller than expected\n",
      "WARNING:fabio.TiffIO:Data at tag id '65000' is smaller than expected\n",
      "WARNING:fabio.TiffIO:Data at tag id '65000' is smaller than expected\n",
      "WARNING:fabio.TiffIO:Data at tag id '65000' is smaller than expected\n",
      "WARNING:fabio.TiffIO:Data at tag id '65000' is smaller than expected\n"
     ]
    },
    {
     "name": "stdout",
     "output_type": "stream",
     "text": [
      "LR_LiTFSI_PEDOTPSS_as_pos1_2487.50eV_ai0.80_wa0_bpm109.229_id23521_000000_WAXS.tif\n"
     ]
    },
    {
     "name": "stderr",
     "output_type": "stream",
     "text": [
      "WARNING:fabio.TiffIO:Data at tag id '65000' is smaller than expected\n",
      "WARNING:fabio.TiffIO:Data at tag id '65000' is smaller than expected\n",
      "WARNING:fabio.TiffIO:Data at tag id '65000' is smaller than expected\n",
      "WARNING:fabio.TiffIO:Data at tag id '65000' is smaller than expected\n",
      "WARNING:fabio.TiffIO:Data at tag id '65000' is smaller than expected\n",
      "WARNING:fabio.TiffIO:Data at tag id '65000' is smaller than expected\n"
     ]
    },
    {
     "name": "stdout",
     "output_type": "stream",
     "text": [
      "LR_LiTFSI_PEDOTPSS_0V_pos1_2492.50eV_ai0.80_wa0_bpm109.895_id23749_000000_WAXS.tif\n"
     ]
    },
    {
     "name": "stderr",
     "output_type": "stream",
     "text": [
      "WARNING:fabio.TiffIO:Data at tag id '65000' is smaller than expected\n",
      "WARNING:fabio.TiffIO:Data at tag id '65000' is smaller than expected\n",
      "WARNING:fabio.TiffIO:Data at tag id '65000' is smaller than expected\n",
      "WARNING:fabio.TiffIO:Data at tag id '65000' is smaller than expected\n"
     ]
    },
    {
     "name": "stdout",
     "output_type": "stream",
     "text": [
      "LR_AcidPEDOTPSS_exposed_pos1_2487.50eV_ai0.80_wa0_bpm110.357_id21826_000000_WAXS.tif\n"
     ]
    },
    {
     "name": "stderr",
     "output_type": "stream",
     "text": [
      "WARNING:fabio.TiffIO:Data at tag id '65000' is smaller than expected\n",
      "WARNING:fabio.TiffIO:Data at tag id '65000' is smaller than expected\n",
      "WARNING:fabio.TiffIO:Data at tag id '65000' is smaller than expected\n",
      "WARNING:fabio.TiffIO:Data at tag id '65000' is smaller than expected\n",
      "WARNING:fabio.TiffIO:Data at tag id '65000' is smaller than expected\n",
      "WARNING:fabio.TiffIO:Data at tag id '65000' is smaller than expected\n",
      "WARNING:fabio.TiffIO:Data at tag id '65000' is smaller than expected\n",
      "WARNING:fabio.TiffIO:Data at tag id '65000' is smaller than expected\n"
     ]
    },
    {
     "name": "stdout",
     "output_type": "stream",
     "text": [
      "LR_LiTFSI_PEDOTPSS_exposed_pos2_2455.00eV_ai0.80_wa0_bpm12.644_id23666_000000_WAXS.tif\n"
     ]
    },
    {
     "name": "stderr",
     "output_type": "stream",
     "text": [
      "WARNING:fabio.TiffIO:Data at tag id '65000' is smaller than expected\n",
      "WARNING:fabio.TiffIO:Data at tag id '65000' is smaller than expected\n",
      "WARNING:fabio.TiffIO:Data at tag id '65000' is smaller than expected\n",
      "WARNING:fabio.TiffIO:Data at tag id '65000' is smaller than expected\n",
      "WARNING:fabio.TiffIO:Data at tag id '65000' is smaller than expected\n",
      "WARNING:fabio.TiffIO:Data at tag id '65000' is smaller than expected\n"
     ]
    },
    {
     "name": "stdout",
     "output_type": "stream",
     "text": [
      "LR_StandardPEDOTPSS_NaBr_pos1_2477.50eV_ai0.80_wa0_bpm109.389_id22947_000000_WAXS.tif\n"
     ]
    },
    {
     "name": "stderr",
     "output_type": "stream",
     "text": [
      "WARNING:fabio.TiffIO:Data at tag id '65000' is smaller than expected\n",
      "WARNING:fabio.TiffIO:Data at tag id '65000' is smaller than expected\n",
      "WARNING:fabio.TiffIO:Data at tag id '65000' is smaller than expected\n",
      "WARNING:fabio.TiffIO:Data at tag id '65000' is smaller than expected\n",
      "WARNING:fabio.TiffIO:Data at tag id '65000' is smaller than expected\n",
      "WARNING:fabio.TiffIO:Data at tag id '65000' is smaller than expected\n"
     ]
    },
    {
     "name": "stdout",
     "output_type": "stream",
     "text": [
      "LR_AcidPEDOTPSS_RbBr_pos2_2492.50eV_ai0.80_wa0_bpm13.052_id22628_000000_WAXS.tif\n"
     ]
    },
    {
     "name": "stderr",
     "output_type": "stream",
     "text": [
      "WARNING:fabio.TiffIO:Data at tag id '65000' is smaller than expected\n",
      "WARNING:fabio.TiffIO:Data at tag id '65000' is smaller than expected\n",
      "WARNING:fabio.TiffIO:Data at tag id '65000' is smaller than expected\n",
      "WARNING:fabio.TiffIO:Data at tag id '65000' is smaller than expected\n",
      "WARNING:fabio.TiffIO:Data at tag id '65000' is smaller than expected\n",
      "WARNING:fabio.TiffIO:Data at tag id '65000' is smaller than expected\n"
     ]
    },
    {
     "name": "stdout",
     "output_type": "stream",
     "text": [
      "LR_StandardPEDOTPSS_NaBr_pos2_2465.00eV_ai0.80_wa0_bpm12.640_id22986_000000_WAXS.tif\n"
     ]
    },
    {
     "name": "stderr",
     "output_type": "stream",
     "text": [
      "WARNING:fabio.TiffIO:Data at tag id '65000' is smaller than expected\n",
      "WARNING:fabio.TiffIO:Data at tag id '65000' is smaller than expected\n",
      "WARNING:fabio.TiffIO:Data at tag id '65000' is smaller than expected\n",
      "WARNING:fabio.TiffIO:Data at tag id '65000' is smaller than expected\n",
      "WARNING:fabio.TiffIO:Data at tag id '65000' is smaller than expected\n",
      "WARNING:fabio.TiffIO:Data at tag id '65000' is smaller than expected\n"
     ]
    },
    {
     "name": "stdout",
     "output_type": "stream",
     "text": [
      "LR_AcidPEDOTPSS_NaBr_pos2_2455.00eV_ai0.80_wa0_bpm12.658_id22423_000000_WAXS.tif\n"
     ]
    },
    {
     "name": "stderr",
     "output_type": "stream",
     "text": [
      "WARNING:fabio.TiffIO:Data at tag id '65000' is smaller than expected\n",
      "WARNING:fabio.TiffIO:Data at tag id '65000' is smaller than expected\n",
      "WARNING:fabio.TiffIO:Data at tag id '65000' is smaller than expected\n",
      "WARNING:fabio.TiffIO:Data at tag id '65000' is smaller than expected\n",
      "WARNING:fabio.TiffIO:Data at tag id '65000' is smaller than expected\n",
      "WARNING:fabio.TiffIO:Data at tag id '65000' is smaller than expected\n"
     ]
    },
    {
     "name": "stdout",
     "output_type": "stream",
     "text": [
      "LR_LiTFSI_PEDOTPSS_overdoped_p0p6V_pos2_2470.00eV_ai0.80_wa0_bpm12.689_id24115_000000_WAXS.tif\n"
     ]
    },
    {
     "name": "stderr",
     "output_type": "stream",
     "text": [
      "WARNING:fabio.TiffIO:Data at tag id '65000' is smaller than expected\n",
      "WARNING:fabio.TiffIO:Data at tag id '65000' is smaller than expected\n",
      "WARNING:fabio.TiffIO:Data at tag id '65000' is smaller than expected\n",
      "WARNING:fabio.TiffIO:Data at tag id '65000' is smaller than expected\n",
      "WARNING:fabio.TiffIO:Data at tag id '65000' is smaller than expected\n",
      "WARNING:fabio.TiffIO:Data at tag id '65000' is smaller than expected\n"
     ]
    },
    {
     "name": "stdout",
     "output_type": "stream",
     "text": [
      "LR_AcidPEDOTPSS_as_pos1_2510.00eV_ai0.80_wa0_bpm111.010_id21718_000000_WAXS.tif\n"
     ]
    },
    {
     "name": "stderr",
     "output_type": "stream",
     "text": [
      "WARNING:fabio.TiffIO:Data at tag id '65000' is smaller than expected\n",
      "WARNING:fabio.TiffIO:Data at tag id '65000' is smaller than expected\n",
      "WARNING:fabio.TiffIO:Data at tag id '65000' is smaller than expected\n",
      "WARNING:fabio.TiffIO:Data at tag id '65000' is smaller than expected\n"
     ]
    },
    {
     "name": "stdout",
     "output_type": "stream",
     "text": [
      "LR_LiTFSI_PEDOTPSS_overdoped_p0p6V_pos2_2477.00eV_ai0.80_wa0_bpm12.732_id24109_000000_WAXS.tif\n"
     ]
    },
    {
     "name": "stderr",
     "output_type": "stream",
     "text": [
      "WARNING:fabio.TiffIO:Data at tag id '65000' is smaller than expected\n",
      "WARNING:fabio.TiffIO:Data at tag id '65000' is smaller than expected\n",
      "WARNING:fabio.TiffIO:Data at tag id '65000' is smaller than expected\n",
      "WARNING:fabio.TiffIO:Data at tag id '65000' is smaller than expected\n",
      "WARNING:fabio.TiffIO:Data at tag id '65000' is smaller than expected\n",
      "WARNING:fabio.TiffIO:Data at tag id '65000' is smaller than expected\n",
      "WARNING:fabio.TiffIO:Data at tag id '65000' is smaller than expected\n",
      "WARNING:fabio.TiffIO:Data at tag id '65000' is smaller than expected\n"
     ]
    },
    {
     "name": "stdout",
     "output_type": "stream",
     "text": [
      "LR_AcidPEDOTPSS_RbCl_pos1_2465.00eV_ai0.80_wa0_bpm110.299_id22487_000000_WAXS.tif\n"
     ]
    },
    {
     "name": "stderr",
     "output_type": "stream",
     "text": [
      "WARNING:fabio.TiffIO:Data at tag id '65000' is smaller than expected\n",
      "WARNING:fabio.TiffIO:Data at tag id '65000' is smaller than expected\n",
      "WARNING:fabio.TiffIO:Data at tag id '65000' is smaller than expected\n",
      "WARNING:fabio.TiffIO:Data at tag id '65000' is smaller than expected\n",
      "WARNING:fabio.TiffIO:Data at tag id '65000' is smaller than expected\n",
      "WARNING:fabio.TiffIO:Data at tag id '65000' is smaller than expected\n"
     ]
    },
    {
     "name": "stdout",
     "output_type": "stream",
     "text": [
      "LR_LiTFSI_PEDOTPSS_as_pos1_2480.50eV_ai0.80_wa0_bpm109.279_id23518_000000_WAXS.tif\n"
     ]
    },
    {
     "name": "stderr",
     "output_type": "stream",
     "text": [
      "WARNING:fabio.TiffIO:Data at tag id '65000' is smaller than expected\n",
      "WARNING:fabio.TiffIO:Data at tag id '65000' is smaller than expected\n",
      "WARNING:fabio.TiffIO:Data at tag id '65000' is smaller than expected\n",
      "WARNING:fabio.TiffIO:Data at tag id '65000' is smaller than expected\n",
      "WARNING:fabio.TiffIO:Data at tag id '65000' is smaller than expected\n",
      "WARNING:fabio.TiffIO:Data at tag id '65000' is smaller than expected\n"
     ]
    },
    {
     "name": "stdout",
     "output_type": "stream",
     "text": [
      "LR_AcidPEDOTPSS_NaCl_pos1_2478.50eV_ai0.80_wa0_bpm109.991_id22271_000000_WAXS.tif\n"
     ]
    },
    {
     "name": "stderr",
     "output_type": "stream",
     "text": [
      "WARNING:fabio.TiffIO:Data at tag id '65000' is smaller than expected\n",
      "WARNING:fabio.TiffIO:Data at tag id '65000' is smaller than expected\n",
      "WARNING:fabio.TiffIO:Data at tag id '65000' is smaller than expected\n",
      "WARNING:fabio.TiffIO:Data at tag id '65000' is smaller than expected\n",
      "WARNING:fabio.TiffIO:Data at tag id '65000' is smaller than expected\n",
      "WARNING:fabio.TiffIO:Data at tag id '65000' is smaller than expected\n"
     ]
    },
    {
     "name": "stdout",
     "output_type": "stream",
     "text": [
      "LR_LiTFSI_PEDOTPSS_redoped_0V_pos2_2450.00eV_ai0.80_wa0_bpm12.580_id24006_000000_WAXS.tif\n"
     ]
    },
    {
     "name": "stderr",
     "output_type": "stream",
     "text": [
      "WARNING:fabio.TiffIO:Data at tag id '65000' is smaller than expected\n",
      "WARNING:fabio.TiffIO:Data at tag id '65000' is smaller than expected\n",
      "WARNING:fabio.TiffIO:Data at tag id '65000' is smaller than expected\n",
      "WARNING:fabio.TiffIO:Data at tag id '65000' is smaller than expected\n",
      "WARNING:fabio.TiffIO:Data at tag id '65000' is smaller than expected\n",
      "WARNING:fabio.TiffIO:Data at tag id '65000' is smaller than expected\n"
     ]
    },
    {
     "name": "stdout",
     "output_type": "stream",
     "text": [
      "LR_AcidPEDOTPSS_NaBr_pos2_2476.00eV_ai0.80_wa0_bpm12.744_id22416_000000_WAXS.tif\n"
     ]
    },
    {
     "name": "stderr",
     "output_type": "stream",
     "text": [
      "WARNING:fabio.TiffIO:Data at tag id '65000' is smaller than expected\n",
      "WARNING:fabio.TiffIO:Data at tag id '65000' is smaller than expected\n",
      "WARNING:fabio.TiffIO:Data at tag id '65000' is smaller than expected\n",
      "WARNING:fabio.TiffIO:Data at tag id '65000' is smaller than expected\n",
      "WARNING:fabio.TiffIO:Data at tag id '65000' is smaller than expected\n",
      "WARNING:fabio.TiffIO:Data at tag id '65000' is smaller than expected\n"
     ]
    },
    {
     "name": "stdout",
     "output_type": "stream",
     "text": [
      "LR_AcidPEDOTPSS_NaCl_pos1_2495.00eV_ai0.80_wa0_bpm110.300_id22281_000000_WAXS.tif\n"
     ]
    },
    {
     "name": "stderr",
     "output_type": "stream",
     "text": [
      "WARNING:fabio.TiffIO:Data at tag id '65000' is smaller than expected\n",
      "WARNING:fabio.TiffIO:Data at tag id '65000' is smaller than expected\n",
      "WARNING:fabio.TiffIO:Data at tag id '65000' is smaller than expected\n",
      "WARNING:fabio.TiffIO:Data at tag id '65000' is smaller than expected\n",
      "WARNING:fabio.TiffIO:Data at tag id '65000' is smaller than expected\n",
      "WARNING:fabio.TiffIO:Data at tag id '65000' is smaller than expected\n"
     ]
    },
    {
     "name": "stdout",
     "output_type": "stream",
     "text": [
      "LR_P3MEEMT23k115C_0p4_KTFSI_pos1_2487.50eV_ai0.80_wa0_bpm109.699_id23182_000000_WAXS.tif\n"
     ]
    },
    {
     "name": "stderr",
     "output_type": "stream",
     "text": [
      "WARNING:fabio.TiffIO:Data at tag id '65000' is smaller than expected\n",
      "WARNING:fabio.TiffIO:Data at tag id '65000' is smaller than expected\n",
      "WARNING:fabio.TiffIO:Data at tag id '65000' is smaller than expected\n",
      "WARNING:fabio.TiffIO:Data at tag id '65000' is smaller than expected\n",
      "WARNING:fabio.TiffIO:Data at tag id '65000' is smaller than expected\n",
      "WARNING:fabio.TiffIO:Data at tag id '65000' is smaller than expected\n"
     ]
    },
    {
     "name": "stdout",
     "output_type": "stream",
     "text": [
      "LR_P3MEEMT23k115C_0p7_KTFSI_pos2_2492.50eV_ai0.80_wa0_bpm12.989_id23080_000000_WAXS.tif\n"
     ]
    },
    {
     "name": "stderr",
     "output_type": "stream",
     "text": [
      "WARNING:fabio.TiffIO:Data at tag id '65000' is smaller than expected\n",
      "WARNING:fabio.TiffIO:Data at tag id '65000' is smaller than expected\n",
      "WARNING:fabio.TiffIO:Data at tag id '65000' is smaller than expected\n",
      "WARNING:fabio.TiffIO:Data at tag id '65000' is smaller than expected\n",
      "WARNING:fabio.TiffIO:Data at tag id '65000' is smaller than expected\n",
      "WARNING:fabio.TiffIO:Data at tag id '65000' is smaller than expected\n"
     ]
    },
    {
     "name": "stdout",
     "output_type": "stream",
     "text": [
      "LR_LiTFSI_PEDOTPSS_exposed_pos1_2490.00eV_ai0.80_wa0_bpm109.601_id23635_000000_WAXS.tif\n"
     ]
    },
    {
     "name": "stderr",
     "output_type": "stream",
     "text": [
      "WARNING:fabio.TiffIO:Data at tag id '65000' is smaller than expected\n",
      "WARNING:fabio.TiffIO:Data at tag id '65000' is smaller than expected\n",
      "WARNING:fabio.TiffIO:Data at tag id '65000' is smaller than expected\n",
      "WARNING:fabio.TiffIO:Data at tag id '65000' is smaller than expected\n",
      "WARNING:fabio.TiffIO:Data at tag id '65000' is smaller than expected\n",
      "WARNING:fabio.TiffIO:Data at tag id '65000' is smaller than expected\n"
     ]
    },
    {
     "name": "stdout",
     "output_type": "stream",
     "text": [
      "LR_AcidPEDOTPSS_as_pos1_2479.00eV_ai0.80_wa0_bpm110.281_id21707_000000_WAXS.tif\n"
     ]
    },
    {
     "name": "stderr",
     "output_type": "stream",
     "text": [
      "WARNING:fabio.TiffIO:Data at tag id '65000' is smaller than expected\n",
      "WARNING:fabio.TiffIO:Data at tag id '65000' is smaller than expected\n",
      "WARNING:fabio.TiffIO:Data at tag id '65000' is smaller than expected\n",
      "WARNING:fabio.TiffIO:Data at tag id '65000' is smaller than expected\n",
      "WARNING:fabio.TiffIO:Data at tag id '65000' is smaller than expected\n",
      "WARNING:fabio.TiffIO:Data at tag id '65000' is smaller than expected\n"
     ]
    },
    {
     "name": "stdout",
     "output_type": "stream",
     "text": [
      "LR_LiTFSI_PEDOTPSS_dedoped_n0p6_pos2_2475.00eV_ai0.80_wa0_bpm12.647_id23887_000000_WAXS.tif\n"
     ]
    },
    {
     "name": "stderr",
     "output_type": "stream",
     "text": [
      "WARNING:fabio.TiffIO:Data at tag id '65000' is smaller than expected\n",
      "WARNING:fabio.TiffIO:Data at tag id '65000' is smaller than expected\n",
      "WARNING:fabio.TiffIO:Data at tag id '65000' is smaller than expected\n",
      "WARNING:fabio.TiffIO:Data at tag id '65000' is smaller than expected\n",
      "WARNING:fabio.TiffIO:Data at tag id '65000' is smaller than expected\n",
      "WARNING:fabio.TiffIO:Data at tag id '65000' is smaller than expected\n"
     ]
    },
    {
     "name": "stdout",
     "output_type": "stream",
     "text": [
      "LR_StandardPEDOTPSS_NaBr_pos2_2510.00eV_ai0.80_wa0_bpm13.405_id22964_000000_WAXS.tif\n"
     ]
    },
    {
     "name": "stderr",
     "output_type": "stream",
     "text": [
      "WARNING:fabio.TiffIO:Data at tag id '65000' is smaller than expected\n",
      "WARNING:fabio.TiffIO:Data at tag id '65000' is smaller than expected\n",
      "WARNING:fabio.TiffIO:Data at tag id '65000' is smaller than expected\n",
      "WARNING:fabio.TiffIO:Data at tag id '65000' is smaller than expected\n",
      "WARNING:fabio.TiffIO:Data at tag id '65000' is smaller than expected\n",
      "WARNING:fabio.TiffIO:Data at tag id '65000' is smaller than expected\n"
     ]
    },
    {
     "name": "stdout",
     "output_type": "stream",
     "text": [
      "LR_AcidPEDOTPSS_as_pos2_2490.00eV_ai0.80_wa0_bpm13.071_id21725_000000_WAXS.tif\n"
     ]
    },
    {
     "name": "stderr",
     "output_type": "stream",
     "text": [
      "WARNING:fabio.TiffIO:Data at tag id '65000' is smaller than expected\n",
      "WARNING:fabio.TiffIO:Data at tag id '65000' is smaller than expected\n",
      "WARNING:fabio.TiffIO:Data at tag id '65000' is smaller than expected\n",
      "WARNING:fabio.TiffIO:Data at tag id '65000' is smaller than expected\n",
      "WARNING:fabio.TiffIO:Data at tag id '65000' is smaller than expected\n",
      "WARNING:fabio.TiffIO:Data at tag id '65000' is smaller than expected\n"
     ]
    },
    {
     "name": "stdout",
     "output_type": "stream",
     "text": [
      "LR_AcidPEDOTPSS_RbCl_pos1_2473.00eV_ai0.80_wa0_bpm110.072_id22489_000000_WAXS.tif\n"
     ]
    },
    {
     "name": "stderr",
     "output_type": "stream",
     "text": [
      "WARNING:fabio.TiffIO:Data at tag id '65000' is smaller than expected\n",
      "WARNING:fabio.TiffIO:Data at tag id '65000' is smaller than expected\n",
      "WARNING:fabio.TiffIO:Data at tag id '65000' is smaller than expected\n",
      "WARNING:fabio.TiffIO:Data at tag id '65000' is smaller than expected\n",
      "WARNING:fabio.TiffIO:Data at tag id '65000' is smaller than expected\n",
      "WARNING:fabio.TiffIO:Data at tag id '65000' is smaller than expected\n"
     ]
    },
    {
     "name": "stdout",
     "output_type": "stream",
     "text": [
      "LR_AcidPEDOTPSS_exposed_pos1_2483.00eV_ai0.80_wa0_bpm110.349_id21824_000000_WAXS.tif\n"
     ]
    },
    {
     "name": "stderr",
     "output_type": "stream",
     "text": [
      "WARNING:fabio.TiffIO:Data at tag id '65000' is smaller than expected\n",
      "WARNING:fabio.TiffIO:Data at tag id '65000' is smaller than expected\n",
      "WARNING:fabio.TiffIO:Data at tag id '65000' is smaller than expected\n",
      "WARNING:fabio.TiffIO:Data at tag id '65000' is smaller than expected\n",
      "WARNING:fabio.TiffIO:Data at tag id '65000' is smaller than expected\n",
      "WARNING:fabio.TiffIO:Data at tag id '65000' is smaller than expected\n"
     ]
    },
    {
     "name": "stdout",
     "output_type": "stream",
     "text": [
      "LR_LiTFSI_PEDOTPSS_redoped_0V_pos2_2475.50eV_ai0.80_wa0_bpm12.688_id23999_000000_WAXS.tif\n"
     ]
    },
    {
     "name": "stderr",
     "output_type": "stream",
     "text": [
      "WARNING:fabio.TiffIO:Data at tag id '65000' is smaller than expected\n",
      "WARNING:fabio.TiffIO:Data at tag id '65000' is smaller than expected\n",
      "WARNING:fabio.TiffIO:Data at tag id '65000' is smaller than expected\n",
      "WARNING:fabio.TiffIO:Data at tag id '65000' is smaller than expected\n",
      "WARNING:fabio.TiffIO:Data at tag id '65000' is smaller than expected\n",
      "WARNING:fabio.TiffIO:Data at tag id '65000' is smaller than expected\n"
     ]
    },
    {
     "name": "stdout",
     "output_type": "stream",
     "text": [
      "LR_StandardPEDOTPSS_RbBr_pos1_2495.00eV_ai0.80_wa0_bpm109.457_id22846_000000_WAXS.tif\n"
     ]
    },
    {
     "name": "stderr",
     "output_type": "stream",
     "text": [
      "WARNING:fabio.TiffIO:Data at tag id '65000' is smaller than expected\n",
      "WARNING:fabio.TiffIO:Data at tag id '65000' is smaller than expected\n",
      "WARNING:fabio.TiffIO:Data at tag id '65000' is smaller than expected\n",
      "WARNING:fabio.TiffIO:Data at tag id '65000' is smaller than expected\n",
      "WARNING:fabio.TiffIO:Data at tag id '65000' is smaller than expected\n",
      "WARNING:fabio.TiffIO:Data at tag id '65000' is smaller than expected\n"
     ]
    },
    {
     "name": "stdout",
     "output_type": "stream",
     "text": [
      "LR_AcidPEDOTPSS_RbCl_pos2_2480.00eV_ai0.80_wa0_bpm12.759_id22521_000000_WAXS.tif\n"
     ]
    },
    {
     "name": "stderr",
     "output_type": "stream",
     "text": [
      "WARNING:fabio.TiffIO:Data at tag id '65000' is smaller than expected\n",
      "WARNING:fabio.TiffIO:Data at tag id '65000' is smaller than expected\n",
      "WARNING:fabio.TiffIO:Data at tag id '65000' is smaller than expected\n",
      "WARNING:fabio.TiffIO:Data at tag id '65000' is smaller than expected\n",
      "WARNING:fabio.TiffIO:Data at tag id '65000' is smaller than expected\n",
      "WARNING:fabio.TiffIO:Data at tag id '65000' is smaller than expected\n"
     ]
    },
    {
     "name": "stdout",
     "output_type": "stream",
     "text": [
      "LR_StandardPEDOTPSS_RbBr_pos1_2510.00eV_ai0.80_wa0_bpm109.655_id22848_000000_WAXS.tif\n"
     ]
    },
    {
     "name": "stderr",
     "output_type": "stream",
     "text": [
      "WARNING:fabio.TiffIO:Data at tag id '65000' is smaller than expected\n",
      "WARNING:fabio.TiffIO:Data at tag id '65000' is smaller than expected\n",
      "WARNING:fabio.TiffIO:Data at tag id '65000' is smaller than expected\n",
      "WARNING:fabio.TiffIO:Data at tag id '65000' is smaller than expected\n",
      "WARNING:fabio.TiffIO:Data at tag id '65000' is smaller than expected\n",
      "WARNING:fabio.TiffIO:Data at tag id '65000' is smaller than expected\n"
     ]
    },
    {
     "name": "stdout",
     "output_type": "stream",
     "text": [
      "LR_AcidPEDOTPSS_overdope_p0p6_pos1_2475.50eV_ai0.80_wa0_bpm109.824_id22152_000000_WAXS.tif\n"
     ]
    },
    {
     "name": "stderr",
     "output_type": "stream",
     "text": [
      "WARNING:fabio.TiffIO:Data at tag id '65000' is smaller than expected\n",
      "WARNING:fabio.TiffIO:Data at tag id '65000' is smaller than expected\n",
      "WARNING:fabio.TiffIO:Data at tag id '65000' is smaller than expected\n",
      "WARNING:fabio.TiffIO:Data at tag id '65000' is smaller than expected\n",
      "WARNING:fabio.TiffIO:Data at tag id '65000' is smaller than expected\n",
      "WARNING:fabio.TiffIO:Data at tag id '65000' is smaller than expected\n"
     ]
    },
    {
     "name": "stdout",
     "output_type": "stream",
     "text": [
      "LR_AcidPEDOTPSS_as_pos2_2470.00eV_ai0.80_wa0_bpm12.759_id21742_000000_WAXS.tif\n"
     ]
    },
    {
     "name": "stderr",
     "output_type": "stream",
     "text": [
      "WARNING:fabio.TiffIO:Data at tag id '65000' is smaller than expected\n",
      "WARNING:fabio.TiffIO:Data at tag id '65000' is smaller than expected\n",
      "WARNING:fabio.TiffIO:Data at tag id '65000' is smaller than expected\n",
      "WARNING:fabio.TiffIO:Data at tag id '65000' is smaller than expected\n",
      "WARNING:fabio.TiffIO:Data at tag id '65000' is smaller than expected\n",
      "WARNING:fabio.TiffIO:Data at tag id '65000' is smaller than expected\n"
     ]
    },
    {
     "name": "stdout",
     "output_type": "stream",
     "text": [
      "LR_LiTFSI_PEDOTPSS_as_pos2_2485.00eV_ai0.80_wa0_bpm12.839_id23535_000000_WAXS.tif\n"
     ]
    },
    {
     "name": "stderr",
     "output_type": "stream",
     "text": [
      "WARNING:fabio.TiffIO:Data at tag id '65000' is smaller than expected\n",
      "WARNING:fabio.TiffIO:Data at tag id '65000' is smaller than expected\n",
      "WARNING:fabio.TiffIO:Data at tag id '65000' is smaller than expected\n",
      "WARNING:fabio.TiffIO:Data at tag id '65000' is smaller than expected\n",
      "WARNING:fabio.TiffIO:Data at tag id '65000' is smaller than expected\n",
      "WARNING:fabio.TiffIO:Data at tag id '65000' is smaller than expected\n"
     ]
    },
    {
     "name": "stdout",
     "output_type": "stream",
     "text": [
      "LR_AcidPEDOTPSS_exposed_pos2_2495.00eV_ai0.80_wa0_bpm13.187_id21836_000000_WAXS.tif\n"
     ]
    },
    {
     "name": "stderr",
     "output_type": "stream",
     "text": [
      "WARNING:fabio.TiffIO:Data at tag id '65000' is smaller than expected\n",
      "WARNING:fabio.TiffIO:Data at tag id '65000' is smaller than expected\n",
      "WARNING:fabio.TiffIO:Data at tag id '65000' is smaller than expected\n",
      "WARNING:fabio.TiffIO:Data at tag id '65000' is smaller than expected\n",
      "WARNING:fabio.TiffIO:Data at tag id '65000' is smaller than expected\n",
      "WARNING:fabio.TiffIO:Data at tag id '65000' is smaller than expected\n"
     ]
    },
    {
     "name": "stdout",
     "output_type": "stream",
     "text": [
      "LR_P3MEEMT23k115C_0p7_KTFSI_pos1_2455.00eV_ai0.80_wa0_bpm109.949_id23050_000000_WAXS.tif\n"
     ]
    },
    {
     "name": "stderr",
     "output_type": "stream",
     "text": [
      "WARNING:fabio.TiffIO:Data at tag id '65000' is smaller than expected\n",
      "WARNING:fabio.TiffIO:Data at tag id '65000' is smaller than expected\n",
      "WARNING:fabio.TiffIO:Data at tag id '65000' is smaller than expected\n",
      "WARNING:fabio.TiffIO:Data at tag id '65000' is smaller than expected\n",
      "WARNING:fabio.TiffIO:Data at tag id '65000' is smaller than expected\n",
      "WARNING:fabio.TiffIO:Data at tag id '65000' is smaller than expected\n"
     ]
    },
    {
     "name": "stdout",
     "output_type": "stream",
     "text": [
      "LR_P3MEEMT23k115C_un_pos2_2475.50eV_ai0.80_wa0_bpm12.654_id23321_000000_WAXS.tif\n"
     ]
    },
    {
     "name": "stderr",
     "output_type": "stream",
     "text": [
      "WARNING:fabio.TiffIO:Data at tag id '65000' is smaller than expected\n",
      "WARNING:fabio.TiffIO:Data at tag id '65000' is smaller than expected\n",
      "WARNING:fabio.TiffIO:Data at tag id '65000' is smaller than expected\n",
      "WARNING:fabio.TiffIO:Data at tag id '65000' is smaller than expected\n",
      "WARNING:fabio.TiffIO:Data at tag id '65000' is smaller than expected\n",
      "WARNING:fabio.TiffIO:Data at tag id '65000' is smaller than expected\n"
     ]
    },
    {
     "name": "stdout",
     "output_type": "stream",
     "text": [
      "LR_P3MEEMT23k115C_0p4_KTFSI_pos2_2477.50eV_ai0.80_wa0_bpm12.668_id23204_000000_WAXS.tif\n"
     ]
    },
    {
     "name": "stderr",
     "output_type": "stream",
     "text": [
      "WARNING:fabio.TiffIO:Data at tag id '65000' is smaller than expected\n",
      "WARNING:fabio.TiffIO:Data at tag id '65000' is smaller than expected\n",
      "WARNING:fabio.TiffIO:Data at tag id '65000' is smaller than expected\n",
      "WARNING:fabio.TiffIO:Data at tag id '65000' is smaller than expected\n",
      "WARNING:fabio.TiffIO:Data at tag id '65000' is smaller than expected\n",
      "WARNING:fabio.TiffIO:Data at tag id '65000' is smaller than expected\n"
     ]
    },
    {
     "name": "stdout",
     "output_type": "stream",
     "text": [
      "LR_AcidPEDOTPSS_RbBr_pos1_2479.50eV_ai0.80_wa0_bpm109.945_id22612_000000_WAXS.tif\n"
     ]
    },
    {
     "name": "stderr",
     "output_type": "stream",
     "text": [
      "WARNING:fabio.TiffIO:Data at tag id '65000' is smaller than expected\n",
      "WARNING:fabio.TiffIO:Data at tag id '65000' is smaller than expected\n",
      "WARNING:fabio.TiffIO:Data at tag id '65000' is smaller than expected\n",
      "WARNING:fabio.TiffIO:Data at tag id '65000' is smaller than expected\n",
      "WARNING:fabio.TiffIO:Data at tag id '65000' is smaller than expected\n",
      "WARNING:fabio.TiffIO:Data at tag id '65000' is smaller than expected\n"
     ]
    },
    {
     "name": "stdout",
     "output_type": "stream",
     "text": [
      "LR_LiTFSI_PEDOTPSS_0V_pos1_2475.00eV_ai0.80_wa0_bpm109.772_id23733_000000_WAXS.tif\n"
     ]
    },
    {
     "name": "stderr",
     "output_type": "stream",
     "text": [
      "WARNING:fabio.TiffIO:Data at tag id '65000' is smaller than expected\n",
      "WARNING:fabio.TiffIO:Data at tag id '65000' is smaller than expected\n",
      "WARNING:fabio.TiffIO:Data at tag id '65000' is smaller than expected\n",
      "WARNING:fabio.TiffIO:Data at tag id '65000' is smaller than expected\n",
      "WARNING:fabio.TiffIO:Data at tag id '65000' is smaller than expected\n",
      "WARNING:fabio.TiffIO:Data at tag id '65000' is smaller than expected\n"
     ]
    },
    {
     "name": "stdout",
     "output_type": "stream",
     "text": [
      "LR_AcidPEDOTPSS_RbBr_pos2_2479.50eV_ai0.80_wa0_bpm12.724_id22635_000000_WAXS.tif\n"
     ]
    },
    {
     "name": "stderr",
     "output_type": "stream",
     "text": [
      "WARNING:fabio.TiffIO:Data at tag id '65000' is smaller than expected\n",
      "WARNING:fabio.TiffIO:Data at tag id '65000' is smaller than expected\n",
      "WARNING:fabio.TiffIO:Data at tag id '65000' is smaller than expected\n",
      "WARNING:fabio.TiffIO:Data at tag id '65000' is smaller than expected\n",
      "WARNING:fabio.TiffIO:Data at tag id '65000' is smaller than expected\n",
      "WARNING:fabio.TiffIO:Data at tag id '65000' is smaller than expected\n"
     ]
    },
    {
     "name": "stdout",
     "output_type": "stream",
     "text": [
      "LR_AcidPEDOTPSS_as_pos1_2480.00eV_ai0.80_wa0_bpm110.650_id21709_000000_WAXS.tif\n"
     ]
    },
    {
     "name": "stderr",
     "output_type": "stream",
     "text": [
      "WARNING:fabio.TiffIO:Data at tag id '65000' is smaller than expected\n",
      "WARNING:fabio.TiffIO:Data at tag id '65000' is smaller than expected\n",
      "WARNING:fabio.TiffIO:Data at tag id '65000' is smaller than expected\n",
      "WARNING:fabio.TiffIO:Data at tag id '65000' is smaller than expected\n",
      "WARNING:fabio.TiffIO:Data at tag id '65000' is smaller than expected\n",
      "WARNING:fabio.TiffIO:Data at tag id '65000' is smaller than expected\n"
     ]
    },
    {
     "name": "stdout",
     "output_type": "stream",
     "text": [
      "LR_RivnayFrit_P3MEEET_drop_pos1_2479.00eV_ai0.80_wa0_bpm109.154_id23402_000000_WAXS.tif\n"
     ]
    },
    {
     "name": "stderr",
     "output_type": "stream",
     "text": [
      "WARNING:fabio.TiffIO:Data at tag id '65000' is smaller than expected\n",
      "WARNING:fabio.TiffIO:Data at tag id '65000' is smaller than expected\n",
      "WARNING:fabio.TiffIO:Data at tag id '65000' is smaller than expected\n",
      "WARNING:fabio.TiffIO:Data at tag id '65000' is smaller than expected\n",
      "WARNING:fabio.TiffIO:Data at tag id '65000' is smaller than expected\n",
      "WARNING:fabio.TiffIO:Data at tag id '65000' is smaller than expected\n"
     ]
    },
    {
     "name": "stdout",
     "output_type": "stream",
     "text": [
      "LR_RivnayFrit_P3MEEET_drop_pos1_2483.00eV_ai0.80_wa0_bpm109.236_id23406_000000_WAXS.tif\n"
     ]
    },
    {
     "name": "stderr",
     "output_type": "stream",
     "text": [
      "WARNING:fabio.TiffIO:Data at tag id '65000' is smaller than expected\n",
      "WARNING:fabio.TiffIO:Data at tag id '65000' is smaller than expected\n",
      "WARNING:fabio.TiffIO:Data at tag id '65000' is smaller than expected\n",
      "WARNING:fabio.TiffIO:Data at tag id '65000' is smaller than expected\n",
      "WARNING:fabio.TiffIO:Data at tag id '65000' is smaller than expected\n",
      "WARNING:fabio.TiffIO:Data at tag id '65000' is smaller than expected\n"
     ]
    },
    {
     "name": "stdout",
     "output_type": "stream",
     "text": [
      "LR_LiTFSI_PEDOTPSS_exposed_pos2_2465.00eV_ai0.80_wa0_bpm12.627_id23664_000000_WAXS.tif\n"
     ]
    },
    {
     "name": "stderr",
     "output_type": "stream",
     "text": [
      "WARNING:fabio.TiffIO:Data at tag id '65000' is smaller than expected\n",
      "WARNING:fabio.TiffIO:Data at tag id '65000' is smaller than expected\n",
      "WARNING:fabio.TiffIO:Data at tag id '65000' is smaller than expected\n"
     ]
    },
    {
     "name": "stdout",
     "output_type": "stream",
     "text": [
      "LR_AcidPEDOTPSS_RbBr_pos2_2483.00eV_ai0.80_wa0_bpm12.809_id22632_000000_WAXS.tif\n"
     ]
    },
    {
     "name": "stderr",
     "output_type": "stream",
     "text": [
      "WARNING:fabio.TiffIO:Data at tag id '65000' is smaller than expected\n",
      "WARNING:fabio.TiffIO:Data at tag id '65000' is smaller than expected\n",
      "WARNING:fabio.TiffIO:Data at tag id '65000' is smaller than expected\n",
      "WARNING:fabio.TiffIO:Data at tag id '65000' is smaller than expected\n",
      "WARNING:fabio.TiffIO:Data at tag id '65000' is smaller than expected\n",
      "WARNING:fabio.TiffIO:Data at tag id '65000' is smaller than expected\n",
      "WARNING:fabio.TiffIO:Data at tag id '65000' is smaller than expected\n",
      "WARNING:fabio.TiffIO:Data at tag id '65000' is smaller than expected\n",
      "WARNING:fabio.TiffIO:Data at tag id '65000' is smaller than expected\n"
     ]
    },
    {
     "name": "stdout",
     "output_type": "stream",
     "text": [
      "LR_StandardPEDOTPSS_RbBr_pos2_2473.00eV_ai0.80_wa0_bpm12.714_id22871_000000_WAXS.tif\n"
     ]
    },
    {
     "name": "stderr",
     "output_type": "stream",
     "text": [
      "WARNING:fabio.TiffIO:Data at tag id '65000' is smaller than expected\n",
      "WARNING:fabio.TiffIO:Data at tag id '65000' is smaller than expected\n",
      "WARNING:fabio.TiffIO:Data at tag id '65000' is smaller than expected\n",
      "WARNING:fabio.TiffIO:Data at tag id '65000' is smaller than expected\n",
      "WARNING:fabio.TiffIO:Data at tag id '65000' is smaller than expected\n",
      "WARNING:fabio.TiffIO:Data at tag id '65000' is smaller than expected\n"
     ]
    },
    {
     "name": "stdout",
     "output_type": "stream",
     "text": [
      "LR_LiTFSI_PEDOTPSS_RbBr_pos2_2485.00eV_ai0.80_wa0_bpm12.821_id24213_000000_WAXS.tif\n"
     ]
    },
    {
     "name": "stderr",
     "output_type": "stream",
     "text": [
      "WARNING:fabio.TiffIO:Data at tag id '65000' is smaller than expected\n",
      "WARNING:fabio.TiffIO:Data at tag id '65000' is smaller than expected\n",
      "WARNING:fabio.TiffIO:Data at tag id '65000' is smaller than expected\n",
      "WARNING:fabio.TiffIO:Data at tag id '65000' is smaller than expected\n",
      "WARNING:fabio.TiffIO:Data at tag id '65000' is smaller than expected\n",
      "WARNING:fabio.TiffIO:Data at tag id '65000' is smaller than expected\n"
     ]
    },
    {
     "name": "stdout",
     "output_type": "stream",
     "text": [
      "LR_LiTFSI_PEDOTPSS_dedoped_n0p6_pos1_2476.50eV_ai0.80_wa0_bpm109.229_id23849_000000_WAXS.tif\n"
     ]
    },
    {
     "name": "stderr",
     "output_type": "stream",
     "text": [
      "WARNING:fabio.TiffIO:Data at tag id '65000' is smaller than expected\n",
      "WARNING:fabio.TiffIO:Data at tag id '65000' is smaller than expected\n",
      "WARNING:fabio.TiffIO:Data at tag id '65000' is smaller than expected\n",
      "WARNING:fabio.TiffIO:Data at tag id '65000' is smaller than expected\n",
      "WARNING:fabio.TiffIO:Data at tag id '65000' is smaller than expected\n",
      "WARNING:fabio.TiffIO:Data at tag id '65000' is smaller than expected\n"
     ]
    },
    {
     "name": "stdout",
     "output_type": "stream",
     "text": [
      "LR_LiTFSI_PEDOTPSS_exposed_pos1_2470.00eV_ai0.80_wa0_bpm109.501_id23618_000000_WAXS.tif\n"
     ]
    },
    {
     "name": "stderr",
     "output_type": "stream",
     "text": [
      "WARNING:fabio.TiffIO:Data at tag id '65000' is smaller than expected\n",
      "WARNING:fabio.TiffIO:Data at tag id '65000' is smaller than expected\n",
      "WARNING:fabio.TiffIO:Data at tag id '65000' is smaller than expected\n",
      "WARNING:fabio.TiffIO:Data at tag id '65000' is smaller than expected\n"
     ]
    },
    {
     "name": "stdout",
     "output_type": "stream",
     "text": [
      "LR_AcidPEDOTPSS_NaCl_pos2_2473.00eV_ai0.80_wa0_bpm12.733_id22306_000000_WAXS.tif\n"
     ]
    },
    {
     "name": "stderr",
     "output_type": "stream",
     "text": [
      "WARNING:fabio.TiffIO:Data at tag id '65000' is smaller than expected\n",
      "WARNING:fabio.TiffIO:Data at tag id '65000' is smaller than expected\n",
      "WARNING:fabio.TiffIO:Data at tag id '65000' is smaller than expected\n",
      "WARNING:fabio.TiffIO:Data at tag id '65000' is smaller than expected\n",
      "WARNING:fabio.TiffIO:Data at tag id '65000' is smaller than expected\n",
      "WARNING:fabio.TiffIO:Data at tag id '65000' is smaller than expected\n",
      "WARNING:fabio.TiffIO:Data at tag id '65000' is smaller than expected\n",
      "WARNING:fabio.TiffIO:Data at tag id '65000' is smaller than expected\n"
     ]
    },
    {
     "name": "stdout",
     "output_type": "stream",
     "text": [
      "LR_LiTFSI_PEDOTPSS_as_pos2_2476.50eV_ai0.80_wa0_bpm12.692_id23545_000000_WAXS.tif\n"
     ]
    },
    {
     "name": "stderr",
     "output_type": "stream",
     "text": [
      "WARNING:fabio.TiffIO:Data at tag id '65000' is smaller than expected\n",
      "WARNING:fabio.TiffIO:Data at tag id '65000' is smaller than expected\n",
      "WARNING:fabio.TiffIO:Data at tag id '65000' is smaller than expected\n",
      "WARNING:fabio.TiffIO:Data at tag id '65000' is smaller than expected\n",
      "WARNING:fabio.TiffIO:Data at tag id '65000' is smaller than expected\n",
      "WARNING:fabio.TiffIO:Data at tag id '65000' is smaller than expected\n"
     ]
    },
    {
     "name": "stdout",
     "output_type": "stream",
     "text": [
      "LR_LiTFSI_PEDOTPSS_as_pos2_2476.00eV_ai0.80_wa0_bpm12.686_id23546_000000_WAXS.tif\n"
     ]
    },
    {
     "name": "stderr",
     "output_type": "stream",
     "text": [
      "WARNING:fabio.TiffIO:Data at tag id '65000' is smaller than expected\n",
      "WARNING:fabio.TiffIO:Data at tag id '65000' is smaller than expected\n",
      "WARNING:fabio.TiffIO:Data at tag id '65000' is smaller than expected\n",
      "WARNING:fabio.TiffIO:Data at tag id '65000' is smaller than expected\n",
      "WARNING:fabio.TiffIO:Data at tag id '65000' is smaller than expected\n",
      "WARNING:fabio.TiffIO:Data at tag id '65000' is smaller than expected\n"
     ]
    },
    {
     "name": "stdout",
     "output_type": "stream",
     "text": [
      "LR_AcidPEDOTPSS_as_pos2_2455.00eV_ai0.80_wa0_bpm12.730_id21745_000000_WAXS.tif\n"
     ]
    },
    {
     "name": "stderr",
     "output_type": "stream",
     "text": [
      "WARNING:fabio.TiffIO:Data at tag id '65000' is smaller than expected\n",
      "WARNING:fabio.TiffIO:Data at tag id '65000' is smaller than expected\n",
      "WARNING:fabio.TiffIO:Data at tag id '65000' is smaller than expected\n",
      "WARNING:fabio.TiffIO:Data at tag id '65000' is smaller than expected\n",
      "WARNING:fabio.TiffIO:Data at tag id '65000' is smaller than expected\n",
      "WARNING:fabio.TiffIO:Data at tag id '65000' is smaller than expected\n"
     ]
    },
    {
     "name": "stdout",
     "output_type": "stream",
     "text": [
      "LR_AcidPEDOTPSS_RbCl_pos1_2476.50eV_ai0.80_wa0_bpm109.760_id22493_000000_WAXS.tif\n"
     ]
    },
    {
     "name": "stderr",
     "output_type": "stream",
     "text": [
      "WARNING:fabio.TiffIO:Data at tag id '65000' is smaller than expected\n",
      "WARNING:fabio.TiffIO:Data at tag id '65000' is smaller than expected\n",
      "WARNING:fabio.TiffIO:Data at tag id '65000' is smaller than expected\n",
      "WARNING:fabio.TiffIO:Data at tag id '65000' is smaller than expected\n",
      "WARNING:fabio.TiffIO:Data at tag id '65000' is smaller than expected\n",
      "WARNING:fabio.TiffIO:Data at tag id '65000' is smaller than expected\n"
     ]
    },
    {
     "name": "stdout",
     "output_type": "stream",
     "text": [
      "LR_LiTFSI_PEDOTPSS_redoped_0V_pos1_2479.50eV_ai0.80_wa0_bpm109.304_id23968_000000_WAXS.tif\n"
     ]
    },
    {
     "name": "stderr",
     "output_type": "stream",
     "text": [
      "WARNING:fabio.TiffIO:Data at tag id '65000' is smaller than expected\n",
      "WARNING:fabio.TiffIO:Data at tag id '65000' is smaller than expected\n",
      "WARNING:fabio.TiffIO:Data at tag id '65000' is smaller than expected\n",
      "WARNING:fabio.TiffIO:Data at tag id '65000' is smaller than expected\n",
      "WARNING:fabio.TiffIO:Data at tag id '65000' is smaller than expected\n",
      "WARNING:fabio.TiffIO:Data at tag id '65000' is smaller than expected\n"
     ]
    },
    {
     "name": "stdout",
     "output_type": "stream",
     "text": [
      "LR_AcidPEDOTPSS_exposed_pos1_2455.00eV_ai0.80_wa0_bpm110.914_id21807_000000_WAXS.tif\n"
     ]
    },
    {
     "name": "stderr",
     "output_type": "stream",
     "text": [
      "WARNING:fabio.TiffIO:Data at tag id '65000' is smaller than expected\n",
      "WARNING:fabio.TiffIO:Data at tag id '65000' is smaller than expected\n",
      "WARNING:fabio.TiffIO:Data at tag id '65000' is smaller than expected\n",
      "WARNING:fabio.TiffIO:Data at tag id '65000' is smaller than expected\n",
      "WARNING:fabio.TiffIO:Data at tag id '65000' is smaller than expected\n",
      "WARNING:fabio.TiffIO:Data at tag id '65000' is smaller than expected\n"
     ]
    },
    {
     "name": "stdout",
     "output_type": "stream",
     "text": [
      "LR_P3MEEMT23k115C_un_pos2_2490.00eV_ai0.80_wa0_bpm12.946_id23307_000000_WAXS.tif\n"
     ]
    },
    {
     "name": "stderr",
     "output_type": "stream",
     "text": [
      "WARNING:fabio.TiffIO:Data at tag id '65000' is smaller than expected\n",
      "WARNING:fabio.TiffIO:Data at tag id '65000' is smaller than expected\n",
      "WARNING:fabio.TiffIO:Data at tag id '65000' is smaller than expected\n",
      "WARNING:fabio.TiffIO:Data at tag id '65000' is smaller than expected\n",
      "WARNING:fabio.TiffIO:Data at tag id '65000' is smaller than expected\n",
      "WARNING:fabio.TiffIO:Data at tag id '65000' is smaller than expected\n"
     ]
    },
    {
     "name": "stdout",
     "output_type": "stream",
     "text": [
      "LR_StandardPEDOTPSS_NaBr_pos2_2479.50eV_ai0.80_wa0_bpm12.707_id22974_000000_WAXS.tif\n"
     ]
    },
    {
     "name": "stderr",
     "output_type": "stream",
     "text": [
      "WARNING:fabio.TiffIO:Data at tag id '65000' is smaller than expected\n",
      "WARNING:fabio.TiffIO:Data at tag id '65000' is smaller than expected\n",
      "WARNING:fabio.TiffIO:Data at tag id '65000' is smaller than expected\n",
      "WARNING:fabio.TiffIO:Data at tag id '65000' is smaller than expected\n",
      "WARNING:fabio.TiffIO:Data at tag id '65000' is smaller than expected\n",
      "WARNING:fabio.TiffIO:Data at tag id '65000' is smaller than expected\n"
     ]
    },
    {
     "name": "stdout",
     "output_type": "stream",
     "text": [
      "LR_LiTFSI_PEDOTPSS_redoped_0V_pos2_2455.00eV_ai0.80_wa0_bpm12.615_id24005_000000_WAXS.tif\n"
     ]
    },
    {
     "name": "stderr",
     "output_type": "stream",
     "text": [
      "WARNING:fabio.TiffIO:Data at tag id '65000' is smaller than expected\n",
      "WARNING:fabio.TiffIO:Data at tag id '65000' is smaller than expected\n",
      "WARNING:fabio.TiffIO:Data at tag id '65000' is smaller than expected\n",
      "WARNING:fabio.TiffIO:Data at tag id '65000' is smaller than expected\n",
      "WARNING:fabio.TiffIO:Data at tag id '65000' is smaller than expected\n",
      "WARNING:fabio.TiffIO:Data at tag id '65000' is smaller than expected\n"
     ]
    },
    {
     "name": "stdout",
     "output_type": "stream",
     "text": [
      "LR_StandardPEDOTPSS_NaBr_pos1_2479.50eV_ai0.80_wa0_bpm109.809_id22951_000000_WAXS.tif\n"
     ]
    },
    {
     "name": "stderr",
     "output_type": "stream",
     "text": [
      "WARNING:fabio.TiffIO:Data at tag id '65000' is smaller than expected\n",
      "WARNING:fabio.TiffIO:Data at tag id '65000' is smaller than expected\n",
      "WARNING:fabio.TiffIO:Data at tag id '65000' is smaller than expected\n",
      "WARNING:fabio.TiffIO:Data at tag id '65000' is smaller than expected\n",
      "WARNING:fabio.TiffIO:Data at tag id '65000' is smaller than expected\n",
      "WARNING:fabio.TiffIO:Data at tag id '65000' is smaller than expected\n"
     ]
    },
    {
     "name": "stdout",
     "output_type": "stream",
     "text": [
      "LR_StandardPEDOTPSS_NaBr_pos2_2473.00eV_ai0.80_wa0_bpm12.698_id22984_000000_WAXS.tif\n"
     ]
    },
    {
     "name": "stderr",
     "output_type": "stream",
     "text": [
      "WARNING:fabio.TiffIO:Data at tag id '65000' is smaller than expected\n",
      "WARNING:fabio.TiffIO:Data at tag id '65000' is smaller than expected\n",
      "WARNING:fabio.TiffIO:Data at tag id '65000' is smaller than expected\n",
      "WARNING:fabio.TiffIO:Data at tag id '65000' is smaller than expected\n",
      "WARNING:fabio.TiffIO:Data at tag id '65000' is smaller than expected\n",
      "WARNING:fabio.TiffIO:Data at tag id '65000' is smaller than expected\n"
     ]
    },
    {
     "name": "stdout",
     "output_type": "stream",
     "text": [
      "LR_LiTFSI_PEDOTPSS_0V_pos1_2465.00eV_ai0.80_wa0_bpm110.113_id23730_000000_WAXS.tif\n"
     ]
    },
    {
     "name": "stderr",
     "output_type": "stream",
     "text": [
      "WARNING:fabio.TiffIO:Data at tag id '65000' is smaller than expected\n",
      "WARNING:fabio.TiffIO:Data at tag id '65000' is smaller than expected\n",
      "WARNING:fabio.TiffIO:Data at tag id '65000' is smaller than expected\n",
      "WARNING:fabio.TiffIO:Data at tag id '65000' is smaller than expected\n",
      "WARNING:fabio.TiffIO:Data at tag id '65000' is smaller than expected\n",
      "WARNING:fabio.TiffIO:Data at tag id '65000' is smaller than expected\n"
     ]
    },
    {
     "name": "stdout",
     "output_type": "stream",
     "text": [
      "LR_AcidPEDOTPSS_RbCl_pos2_2473.00eV_ai0.80_wa0_bpm12.707_id22532_000000_WAXS.tif\n"
     ]
    },
    {
     "name": "stderr",
     "output_type": "stream",
     "text": [
      "WARNING:fabio.TiffIO:Data at tag id '65000' is smaller than expected\n",
      "WARNING:fabio.TiffIO:Data at tag id '65000' is smaller than expected\n",
      "WARNING:fabio.TiffIO:Data at tag id '65000' is smaller than expected\n",
      "WARNING:fabio.TiffIO:Data at tag id '65000' is smaller than expected\n",
      "WARNING:fabio.TiffIO:Data at tag id '65000' is smaller than expected\n",
      "WARNING:fabio.TiffIO:Data at tag id '65000' is smaller than expected\n"
     ]
    },
    {
     "name": "stdout",
     "output_type": "stream",
     "text": [
      "LR_StandardPEDOTPSS_as_pos1_2475.00eV_ai0.80_wa0_bpm109.783_id22716_000000_WAXS.tif\n"
     ]
    },
    {
     "name": "stderr",
     "output_type": "stream",
     "text": [
      "WARNING:fabio.TiffIO:Data at tag id '65000' is smaller than expected\n",
      "WARNING:fabio.TiffIO:Data at tag id '65000' is smaller than expected\n",
      "WARNING:fabio.TiffIO:Data at tag id '65000' is smaller than expected\n",
      "WARNING:fabio.TiffIO:Data at tag id '65000' is smaller than expected\n",
      "WARNING:fabio.TiffIO:Data at tag id '65000' is smaller than expected\n",
      "WARNING:fabio.TiffIO:Data at tag id '65000' is smaller than expected\n"
     ]
    },
    {
     "name": "stdout",
     "output_type": "stream",
     "text": [
      "LR_LiTFSI_PEDOTPSS_redoped_0V_pos2_2470.00eV_ai0.80_wa0_bpm12.644_id24002_000000_WAXS.tif\n"
     ]
    },
    {
     "name": "stderr",
     "output_type": "stream",
     "text": [
      "WARNING:fabio.TiffIO:Data at tag id '65000' is smaller than expected\n",
      "WARNING:fabio.TiffIO:Data at tag id '65000' is smaller than expected\n",
      "WARNING:fabio.TiffIO:Data at tag id '65000' is smaller than expected\n",
      "WARNING:fabio.TiffIO:Data at tag id '65000' is smaller than expected\n",
      "WARNING:fabio.TiffIO:Data at tag id '65000' is smaller than expected\n",
      "WARNING:fabio.TiffIO:Data at tag id '65000' is smaller than expected\n"
     ]
    },
    {
     "name": "stdout",
     "output_type": "stream",
     "text": [
      "LR_StandardPEDOTPSS_as_pos2_2478.00eV_ai0.80_wa0_bpm12.722_id22751_000000_WAXS.tif\n"
     ]
    },
    {
     "name": "stderr",
     "output_type": "stream",
     "text": [
      "WARNING:fabio.TiffIO:Data at tag id '65000' is smaller than expected\n",
      "WARNING:fabio.TiffIO:Data at tag id '65000' is smaller than expected\n",
      "WARNING:fabio.TiffIO:Data at tag id '65000' is smaller than expected\n",
      "WARNING:fabio.TiffIO:Data at tag id '65000' is smaller than expected\n",
      "WARNING:fabio.TiffIO:Data at tag id '65000' is smaller than expected\n",
      "WARNING:fabio.TiffIO:Data at tag id '65000' is smaller than expected\n"
     ]
    },
    {
     "name": "stdout",
     "output_type": "stream",
     "text": [
      "LR_AcidPEDOTPSS_as_pos2_2477.50eV_ai0.80_wa0_bpm12.792_id21735_000000_WAXS.tif\n"
     ]
    },
    {
     "name": "stderr",
     "output_type": "stream",
     "text": [
      "WARNING:fabio.TiffIO:Data at tag id '65000' is smaller than expected\n",
      "WARNING:fabio.TiffIO:Data at tag id '65000' is smaller than expected\n",
      "WARNING:fabio.TiffIO:Data at tag id '65000' is smaller than expected\n",
      "WARNING:fabio.TiffIO:Data at tag id '65000' is smaller than expected\n",
      "WARNING:fabio.TiffIO:Data at tag id '65000' is smaller than expected\n",
      "WARNING:fabio.TiffIO:Data at tag id '65000' is smaller than expected\n"
     ]
    },
    {
     "name": "stdout",
     "output_type": "stream",
     "text": [
      "LR_RivnayFrit_P3MEEET_drop_pos2_2465.00eV_ai0.80_wa0_bpm12.567_id23438_000000_WAXS.tif\n"
     ]
    },
    {
     "name": "stderr",
     "output_type": "stream",
     "text": [
      "WARNING:fabio.TiffIO:Data at tag id '65000' is smaller than expected\n",
      "WARNING:fabio.TiffIO:Data at tag id '65000' is smaller than expected\n",
      "WARNING:fabio.TiffIO:Data at tag id '65000' is smaller than expected\n",
      "WARNING:fabio.TiffIO:Data at tag id '65000' is smaller than expected\n",
      "WARNING:fabio.TiffIO:Data at tag id '65000' is smaller than expected\n",
      "WARNING:fabio.TiffIO:Data at tag id '65000' is smaller than expected\n"
     ]
    },
    {
     "name": "stdout",
     "output_type": "stream",
     "text": [
      "LR_AcidPEDOTPSS_NaCl_pos1_2473.00eV_ai0.80_wa0_bpm110.027_id22263_000000_WAXS.tif\n"
     ]
    },
    {
     "name": "stderr",
     "output_type": "stream",
     "text": [
      "WARNING:fabio.TiffIO:Data at tag id '65000' is smaller than expected\n",
      "WARNING:fabio.TiffIO:Data at tag id '65000' is smaller than expected\n",
      "WARNING:fabio.TiffIO:Data at tag id '65000' is smaller than expected\n",
      "WARNING:fabio.TiffIO:Data at tag id '65000' is smaller than expected\n",
      "WARNING:fabio.TiffIO:Data at tag id '65000' is smaller than expected\n",
      "WARNING:fabio.TiffIO:Data at tag id '65000' is smaller than expected\n"
     ]
    },
    {
     "name": "stdout",
     "output_type": "stream",
     "text": [
      "LR_AcidPEDOTPSS_NaBr_pos2_2490.00eV_ai0.80_wa0_bpm13.019_id22403_000000_WAXS.tif\n"
     ]
    },
    {
     "name": "stderr",
     "output_type": "stream",
     "text": [
      "WARNING:fabio.TiffIO:Data at tag id '65000' is smaller than expected\n",
      "WARNING:fabio.TiffIO:Data at tag id '65000' is smaller than expected\n",
      "WARNING:fabio.TiffIO:Data at tag id '65000' is smaller than expected\n",
      "WARNING:fabio.TiffIO:Data at tag id '65000' is smaller than expected\n",
      "WARNING:fabio.TiffIO:Data at tag id '65000' is smaller than expected\n",
      "WARNING:fabio.TiffIO:Data at tag id '65000' is smaller than expected\n"
     ]
    },
    {
     "name": "stdout",
     "output_type": "stream",
     "text": [
      "LR_AcidPEDOTPSS_0V_pos2_2465.00eV_ai0.80_wa0_bpm12.672_id21969_000000_WAXS.tif\n"
     ]
    },
    {
     "name": "stderr",
     "output_type": "stream",
     "text": [
      "WARNING:fabio.TiffIO:Data at tag id '65000' is smaller than expected\n",
      "WARNING:fabio.TiffIO:Data at tag id '65000' is smaller than expected\n",
      "WARNING:fabio.TiffIO:Data at tag id '65000' is smaller than expected\n",
      "WARNING:fabio.TiffIO:Data at tag id '65000' is smaller than expected\n",
      "WARNING:fabio.TiffIO:Data at tag id '65000' is smaller than expected\n",
      "WARNING:fabio.TiffIO:Data at tag id '65000' is smaller than expected\n"
     ]
    },
    {
     "name": "stdout",
     "output_type": "stream",
     "text": [
      "LR_AcidPEDOTPSS_RbBr_pos2_2460.00eV_ai0.80_wa0_bpm12.604_id22648_000000_WAXS.tif\n"
     ]
    },
    {
     "name": "stderr",
     "output_type": "stream",
     "text": [
      "WARNING:fabio.TiffIO:Data at tag id '65000' is smaller than expected\n",
      "WARNING:fabio.TiffIO:Data at tag id '65000' is smaller than expected\n",
      "WARNING:fabio.TiffIO:Data at tag id '65000' is smaller than expected\n",
      "WARNING:fabio.TiffIO:Data at tag id '65000' is smaller than expected\n",
      "WARNING:fabio.TiffIO:Data at tag id '65000' is smaller than expected\n",
      "WARNING:fabio.TiffIO:Data at tag id '65000' is smaller than expected\n"
     ]
    },
    {
     "name": "stdout",
     "output_type": "stream",
     "text": [
      "LR_P3MEEMT23k115C_0p7_KTFSI_pos2_2495.00eV_ai0.80_wa0_bpm13.059_id23079_000000_WAXS.tif\n"
     ]
    },
    {
     "name": "stderr",
     "output_type": "stream",
     "text": [
      "WARNING:fabio.TiffIO:Data at tag id '65000' is smaller than expected\n",
      "WARNING:fabio.TiffIO:Data at tag id '65000' is smaller than expected\n",
      "WARNING:fabio.TiffIO:Data at tag id '65000' is smaller than expected\n",
      "WARNING:fabio.TiffIO:Data at tag id '65000' is smaller than expected\n",
      "WARNING:fabio.TiffIO:Data at tag id '65000' is smaller than expected\n",
      "WARNING:fabio.TiffIO:Data at tag id '65000' is smaller than expected\n"
     ]
    },
    {
     "name": "stdout",
     "output_type": "stream",
     "text": [
      "LR_StandardPEDOTPSS_as_pos1_2476.50eV_ai0.80_wa0_bpm109.602_id22719_000000_WAXS.tif\n"
     ]
    },
    {
     "name": "stderr",
     "output_type": "stream",
     "text": [
      "WARNING:fabio.TiffIO:Data at tag id '65000' is smaller than expected\n",
      "WARNING:fabio.TiffIO:Data at tag id '65000' is smaller than expected\n",
      "WARNING:fabio.TiffIO:Data at tag id '65000' is smaller than expected\n",
      "WARNING:fabio.TiffIO:Data at tag id '65000' is smaller than expected\n",
      "WARNING:fabio.TiffIO:Data at tag id '65000' is smaller than expected\n",
      "WARNING:fabio.TiffIO:Data at tag id '65000' is smaller than expected\n"
     ]
    },
    {
     "name": "stdout",
     "output_type": "stream",
     "text": [
      "LR_AcidPEDOTPSS_RbBr_pos1_2483.00eV_ai0.80_wa0_bpm110.007_id22615_000000_WAXS.tif\n"
     ]
    },
    {
     "name": "stderr",
     "output_type": "stream",
     "text": [
      "WARNING:fabio.TiffIO:Data at tag id '65000' is smaller than expected\n",
      "WARNING:fabio.TiffIO:Data at tag id '65000' is smaller than expected\n",
      "WARNING:fabio.TiffIO:Data at tag id '65000' is smaller than expected\n",
      "WARNING:fabio.TiffIO:Data at tag id '65000' is smaller than expected\n",
      "WARNING:fabio.TiffIO:Data at tag id '65000' is smaller than expected\n",
      "WARNING:fabio.TiffIO:Data at tag id '65000' is smaller than expected\n"
     ]
    },
    {
     "name": "stdout",
     "output_type": "stream",
     "text": [
      "LR_LiTFSI_PEDOTPSS_redoped_0V_pos1_2455.00eV_ai0.80_wa0_bpm110.340_id23954_000000_WAXS.tif\n"
     ]
    },
    {
     "name": "stderr",
     "output_type": "stream",
     "text": [
      "WARNING:fabio.TiffIO:Data at tag id '65000' is smaller than expected\n",
      "WARNING:fabio.TiffIO:Data at tag id '65000' is smaller than expected\n",
      "WARNING:fabio.TiffIO:Data at tag id '65000' is smaller than expected\n",
      "WARNING:fabio.TiffIO:Data at tag id '65000' is smaller than expected\n",
      "WARNING:fabio.TiffIO:Data at tag id '65000' is smaller than expected\n",
      "WARNING:fabio.TiffIO:Data at tag id '65000' is smaller than expected\n"
     ]
    },
    {
     "name": "stdout",
     "output_type": "stream",
     "text": [
      "LR_LiTFSI_PEDOTPSS_as_pos1_2476.50eV_ai0.80_wa0_bpm109.214_id23510_000000_WAXS.tif\n"
     ]
    },
    {
     "name": "stderr",
     "output_type": "stream",
     "text": [
      "WARNING:fabio.TiffIO:Data at tag id '65000' is smaller than expected\n",
      "WARNING:fabio.TiffIO:Data at tag id '65000' is smaller than expected\n",
      "WARNING:fabio.TiffIO:Data at tag id '65000' is smaller than expected\n",
      "WARNING:fabio.TiffIO:Data at tag id '65000' is smaller than expected\n",
      "WARNING:fabio.TiffIO:Data at tag id '65000' is smaller than expected\n",
      "WARNING:fabio.TiffIO:Data at tag id '65000' is smaller than expected\n"
     ]
    },
    {
     "name": "stdout",
     "output_type": "stream",
     "text": [
      "LR_LiTFSI_PEDOTPSS_as_pos2_2460.00eV_ai0.80_wa0_bpm12.613_id23552_000000_WAXS.tif\n"
     ]
    },
    {
     "name": "stderr",
     "output_type": "stream",
     "text": [
      "WARNING:fabio.TiffIO:Data at tag id '65000' is smaller than expected\n",
      "WARNING:fabio.TiffIO:Data at tag id '65000' is smaller than expected\n",
      "WARNING:fabio.TiffIO:Data at tag id '65000' is smaller than expected\n",
      "WARNING:fabio.TiffIO:Data at tag id '65000' is smaller than expected\n",
      "WARNING:fabio.TiffIO:Data at tag id '65000' is smaller than expected\n",
      "WARNING:fabio.TiffIO:Data at tag id '65000' is smaller than expected\n"
     ]
    },
    {
     "name": "stdout",
     "output_type": "stream",
     "text": [
      "LR_LiTFSI_PEDOTPSS_exposed_pos1_2478.50eV_ai0.80_wa0_bpm109.437_id23627_000000_WAXS.tif\n"
     ]
    },
    {
     "name": "stderr",
     "output_type": "stream",
     "text": [
      "WARNING:fabio.TiffIO:Data at tag id '65000' is smaller than expected\n",
      "WARNING:fabio.TiffIO:Data at tag id '65000' is smaller than expected\n",
      "WARNING:fabio.TiffIO:Data at tag id '65000' is smaller than expected\n",
      "WARNING:fabio.TiffIO:Data at tag id '65000' is smaller than expected\n",
      "WARNING:fabio.TiffIO:Data at tag id '65000' is smaller than expected\n",
      "WARNING:fabio.TiffIO:Data at tag id '65000' is smaller than expected\n"
     ]
    },
    {
     "name": "stdout",
     "output_type": "stream",
     "text": [
      "LR_LiTFSI_PEDOTPSS_as_pos2_2487.50eV_ai0.80_wa0_bpm12.904_id23534_000000_WAXS.tif\n"
     ]
    },
    {
     "name": "stderr",
     "output_type": "stream",
     "text": [
      "WARNING:fabio.TiffIO:Data at tag id '65000' is smaller than expected\n"
     ]
    },
    {
     "name": "stdout",
     "output_type": "stream",
     "text": [
      "LR_AcidPEDOTPSS_RbCl_pos2_2487.50eV_ai0.80_wa0_bpm12.898_id22517_000000_WAXS.tif\n"
     ]
    },
    {
     "name": "stderr",
     "output_type": "stream",
     "text": [
      "WARNING:fabio.TiffIO:Data at tag id '65000' is smaller than expected\n",
      "WARNING:fabio.TiffIO:Data at tag id '65000' is smaller than expected\n",
      "WARNING:fabio.TiffIO:Data at tag id '65000' is smaller than expected\n",
      "WARNING:fabio.TiffIO:Data at tag id '65000' is smaller than expected\n",
      "WARNING:fabio.TiffIO:Data at tag id '65000' is smaller than expected\n",
      "WARNING:fabio.TiffIO:Data at tag id '65000' is smaller than expected\n",
      "WARNING:fabio.TiffIO:Data at tag id '65000' is smaller than expected\n",
      "WARNING:fabio.TiffIO:Data at tag id '65000' is smaller than expected\n",
      "WARNING:fabio.TiffIO:Data at tag id '65000' is smaller than expected\n",
      "WARNING:fabio.TiffIO:Data at tag id '65000' is smaller than expected\n",
      "WARNING:fabio.TiffIO:Data at tag id '65000' is smaller than expected\n"
     ]
    },
    {
     "name": "stdout",
     "output_type": "stream",
     "text": [
      "LR_P3MEEMT23k115C_0p4_KTFSI_pos1_2475.00eV_ai0.80_wa0_bpm109.618_id23168_000000_WAXS.tif\n"
     ]
    },
    {
     "name": "stderr",
     "output_type": "stream",
     "text": [
      "WARNING:fabio.TiffIO:Data at tag id '65000' is smaller than expected\n",
      "WARNING:fabio.TiffIO:Data at tag id '65000' is smaller than expected\n",
      "WARNING:fabio.TiffIO:Data at tag id '65000' is smaller than expected\n",
      "WARNING:fabio.TiffIO:Data at tag id '65000' is smaller than expected\n"
     ]
    },
    {
     "name": "stdout",
     "output_type": "stream",
     "text": [
      "LR_LiTFSI_PEDOTPSS_exposed_pos2_2480.00eV_ai0.80_wa0_bpm12.787_id23651_000000_WAXS.tif\n"
     ]
    },
    {
     "name": "stderr",
     "output_type": "stream",
     "text": [
      "WARNING:fabio.TiffIO:Data at tag id '65000' is smaller than expected\n",
      "WARNING:fabio.TiffIO:Data at tag id '65000' is smaller than expected\n",
      "WARNING:fabio.TiffIO:Data at tag id '65000' is smaller than expected\n",
      "WARNING:fabio.TiffIO:Data at tag id '65000' is smaller than expected\n",
      "WARNING:fabio.TiffIO:Data at tag id '65000' is smaller than expected\n",
      "WARNING:fabio.TiffIO:Data at tag id '65000' is smaller than expected\n",
      "WARNING:fabio.TiffIO:Data at tag id '65000' is smaller than expected\n",
      "WARNING:fabio.TiffIO:Data at tag id '65000' is smaller than expected\n"
     ]
    },
    {
     "name": "stdout",
     "output_type": "stream",
     "text": [
      "LR_StandardPEDOTPSS_RbBr_pos1_2480.00eV_ai0.80_wa0_bpm109.614_id22839_000000_WAXS.tif\n"
     ]
    },
    {
     "name": "stderr",
     "output_type": "stream",
     "text": [
      "WARNING:fabio.TiffIO:Data at tag id '65000' is smaller than expected\n",
      "WARNING:fabio.TiffIO:Data at tag id '65000' is smaller than expected\n",
      "WARNING:fabio.TiffIO:Data at tag id '65000' is smaller than expected\n"
     ]
    },
    {
     "name": "stdout",
     "output_type": "stream",
     "text": [
      "LR_AcidPEDOTPSS_dedope_n0p6_pos2_2485.00eV_ai0.80_wa0_bpm12.887_id22066_000000_WAXS.tif\n"
     ]
    },
    {
     "name": "stderr",
     "output_type": "stream",
     "text": [
      "WARNING:fabio.TiffIO:Data at tag id '65000' is smaller than expected\n",
      "WARNING:fabio.TiffIO:Data at tag id '65000' is smaller than expected\n",
      "WARNING:fabio.TiffIO:Data at tag id '65000' is smaller than expected\n",
      "WARNING:fabio.TiffIO:Data at tag id '65000' is smaller than expected\n",
      "WARNING:fabio.TiffIO:Data at tag id '65000' is smaller than expected\n",
      "WARNING:fabio.TiffIO:Data at tag id '65000' is smaller than expected\n",
      "WARNING:fabio.TiffIO:Data at tag id '65000' is smaller than expected\n",
      "WARNING:fabio.TiffIO:Data at tag id '65000' is smaller than expected\n",
      "WARNING:fabio.TiffIO:Data at tag id '65000' is smaller than expected\n"
     ]
    },
    {
     "name": "stdout",
     "output_type": "stream",
     "text": [
      "LR_StandardPEDOTPSS_as_pos1_2480.50eV_ai0.80_wa0_bpm109.626_id22727_000000_WAXS.tif\n"
     ]
    },
    {
     "name": "stderr",
     "output_type": "stream",
     "text": [
      "WARNING:fabio.TiffIO:Data at tag id '65000' is smaller than expected\n",
      "WARNING:fabio.TiffIO:Data at tag id '65000' is smaller than expected\n",
      "WARNING:fabio.TiffIO:Data at tag id '65000' is smaller than expected\n",
      "WARNING:fabio.TiffIO:Data at tag id '65000' is smaller than expected\n",
      "WARNING:fabio.TiffIO:Data at tag id '65000' is smaller than expected\n",
      "WARNING:fabio.TiffIO:Data at tag id '65000' is smaller than expected\n"
     ]
    },
    {
     "name": "stdout",
     "output_type": "stream",
     "text": [
      "LR_LiTFSI_PEDOTPSS_redoped_0V_pos2_2500.00eV_ai0.80_wa0_bpm13.194_id23982_000000_WAXS.tif\n"
     ]
    },
    {
     "name": "stderr",
     "output_type": "stream",
     "text": [
      "WARNING:fabio.TiffIO:Data at tag id '65000' is smaller than expected\n",
      "WARNING:fabio.TiffIO:Data at tag id '65000' is smaller than expected\n",
      "WARNING:fabio.TiffIO:Data at tag id '65000' is smaller than expected\n",
      "WARNING:fabio.TiffIO:Data at tag id '65000' is smaller than expected\n",
      "WARNING:fabio.TiffIO:Data at tag id '65000' is smaller than expected\n",
      "WARNING:fabio.TiffIO:Data at tag id '65000' is smaller than expected\n"
     ]
    },
    {
     "name": "stdout",
     "output_type": "stream",
     "text": [
      "LR_P3MEEMT23k115C_0p4_KTFSI_pos1_2476.50eV_ai0.80_wa0_bpm109.588_id23171_000000_WAXS.tif\n"
     ]
    },
    {
     "name": "stderr",
     "output_type": "stream",
     "text": [
      "WARNING:fabio.TiffIO:Data at tag id '65000' is smaller than expected\n",
      "WARNING:fabio.TiffIO:Data at tag id '65000' is smaller than expected\n",
      "WARNING:fabio.TiffIO:Data at tag id '65000' is smaller than expected\n",
      "WARNING:fabio.TiffIO:Data at tag id '65000' is smaller than expected\n",
      "WARNING:fabio.TiffIO:Data at tag id '65000' is smaller than expected\n",
      "WARNING:fabio.TiffIO:Data at tag id '65000' is smaller than expected\n"
     ]
    },
    {
     "name": "stdout",
     "output_type": "stream",
     "text": [
      "LR_AcidPEDOTPSS_exposed_pos2_2515.00eV_ai0.80_wa0_bpm13.590_id21833_000000_WAXS.tif\n"
     ]
    },
    {
     "name": "stderr",
     "output_type": "stream",
     "text": [
      "WARNING:fabio.TiffIO:Data at tag id '65000' is smaller than expected\n",
      "WARNING:fabio.TiffIO:Data at tag id '65000' is smaller than expected\n",
      "WARNING:fabio.TiffIO:Data at tag id '65000' is smaller than expected\n",
      "WARNING:fabio.TiffIO:Data at tag id '65000' is smaller than expected\n",
      "WARNING:fabio.TiffIO:Data at tag id '65000' is smaller than expected\n",
      "WARNING:fabio.TiffIO:Data at tag id '65000' is smaller than expected\n"
     ]
    },
    {
     "name": "stdout",
     "output_type": "stream",
     "text": [
      "LR_StandardPEDOTPSS_NaBr_pos2_2500.00eV_ai0.80_wa0_bpm13.175_id22965_000000_WAXS.tif\n"
     ]
    },
    {
     "name": "stderr",
     "output_type": "stream",
     "text": [
      "WARNING:fabio.TiffIO:Data at tag id '65000' is smaller than expected\n",
      "WARNING:fabio.TiffIO:Data at tag id '65000' is smaller than expected\n",
      "WARNING:fabio.TiffIO:Data at tag id '65000' is smaller than expected\n"
     ]
    },
    {
     "name": "stdout",
     "output_type": "stream",
     "text": [
      "LR_AcidPEDOTPSS_NaCl_pos2_2487.50eV_ai0.80_wa0_bpm12.953_id22291_000000_WAXS.tif\n"
     ]
    },
    {
     "name": "stderr",
     "output_type": "stream",
     "text": [
      "WARNING:fabio.TiffIO:Data at tag id '65000' is smaller than expected\n",
      "WARNING:fabio.TiffIO:Data at tag id '65000' is smaller than expected\n",
      "WARNING:fabio.TiffIO:Data at tag id '65000' is smaller than expected\n",
      "WARNING:fabio.TiffIO:Data at tag id '65000' is smaller than expected\n",
      "WARNING:fabio.TiffIO:Data at tag id '65000' is smaller than expected\n",
      "WARNING:fabio.TiffIO:Data at tag id '65000' is smaller than expected\n",
      "WARNING:fabio.TiffIO:Data at tag id '65000' is smaller than expected\n",
      "WARNING:fabio.TiffIO:Data at tag id '65000' is smaller than expected\n",
      "WARNING:fabio.TiffIO:Data at tag id '65000' is smaller than expected\n"
     ]
    },
    {
     "name": "stdout",
     "output_type": "stream",
     "text": [
      "LR_AcidPEDOTPSS_exposed_pos1_2478.50eV_ai0.80_wa0_bpm110.211_id21819_000000_WAXS.tif\n"
     ]
    },
    {
     "name": "stderr",
     "output_type": "stream",
     "text": [
      "WARNING:fabio.TiffIO:Data at tag id '65000' is smaller than expected\n",
      "WARNING:fabio.TiffIO:Data at tag id '65000' is smaller than expected\n",
      "WARNING:fabio.TiffIO:Data at tag id '65000' is smaller than expected\n",
      "WARNING:fabio.TiffIO:Data at tag id '65000' is smaller than expected\n",
      "WARNING:fabio.TiffIO:Data at tag id '65000' is smaller than expected\n",
      "WARNING:fabio.TiffIO:Data at tag id '65000' is smaller than expected\n"
     ]
    },
    {
     "name": "stdout",
     "output_type": "stream",
     "text": [
      "LR_AcidPEDOTPSS_RbCl_pos2_2485.00eV_ai0.80_wa0_bpm12.864_id22518_000000_WAXS.tif\n"
     ]
    },
    {
     "name": "stderr",
     "output_type": "stream",
     "text": [
      "WARNING:fabio.TiffIO:Data at tag id '65000' is smaller than expected\n",
      "WARNING:fabio.TiffIO:Data at tag id '65000' is smaller than expected\n",
      "WARNING:fabio.TiffIO:Data at tag id '65000' is smaller than expected\n",
      "WARNING:fabio.TiffIO:Data at tag id '65000' is smaller than expected\n",
      "WARNING:fabio.TiffIO:Data at tag id '65000' is smaller than expected\n",
      "WARNING:fabio.TiffIO:Data at tag id '65000' is smaller than expected\n"
     ]
    },
    {
     "name": "stdout",
     "output_type": "stream",
     "text": [
      "LR_AcidPEDOTPSS_RbBr_pos1_2500.00eV_ai0.80_wa0_bpm110.032_id22621_000000_WAXS.tif\n"
     ]
    },
    {
     "name": "stderr",
     "output_type": "stream",
     "text": [
      "WARNING:fabio.TiffIO:Data at tag id '65000' is smaller than expected\n",
      "WARNING:fabio.TiffIO:Data at tag id '65000' is smaller than expected\n",
      "WARNING:fabio.TiffIO:Data at tag id '65000' is smaller than expected\n",
      "WARNING:fabio.TiffIO:Data at tag id '65000' is smaller than expected\n",
      "WARNING:fabio.TiffIO:Data at tag id '65000' is smaller than expected\n",
      "WARNING:fabio.TiffIO:Data at tag id '65000' is smaller than expected\n"
     ]
    },
    {
     "name": "stdout",
     "output_type": "stream",
     "text": [
      "LR_AcidPEDOTPSS_as_pos1_2473.00eV_ai0.80_wa0_bpm110.435_id21698_000000_WAXS.tif\n"
     ]
    },
    {
     "name": "stderr",
     "output_type": "stream",
     "text": [
      "WARNING:fabio.TiffIO:Data at tag id '65000' is smaller than expected\n",
      "WARNING:fabio.TiffIO:Data at tag id '65000' is smaller than expected\n",
      "WARNING:fabio.TiffIO:Data at tag id '65000' is smaller than expected\n",
      "WARNING:fabio.TiffIO:Data at tag id '65000' is smaller than expected\n",
      "WARNING:fabio.TiffIO:Data at tag id '65000' is smaller than expected\n",
      "WARNING:fabio.TiffIO:Data at tag id '65000' is smaller than expected\n"
     ]
    },
    {
     "name": "stdout",
     "output_type": "stream",
     "text": [
      "LR_StandardPEDOTPSS_as_pos2_2510.00eV_ai0.80_wa0_bpm13.431_id22738_000000_WAXS.tif\n"
     ]
    },
    {
     "name": "stderr",
     "output_type": "stream",
     "text": [
      "WARNING:fabio.TiffIO:Data at tag id '65000' is smaller than expected\n",
      "WARNING:fabio.TiffIO:Data at tag id '65000' is smaller than expected\n",
      "WARNING:fabio.TiffIO:Data at tag id '65000' is smaller than expected\n",
      "WARNING:fabio.TiffIO:Data at tag id '65000' is smaller than expected\n",
      "WARNING:fabio.TiffIO:Data at tag id '65000' is smaller than expected\n",
      "WARNING:fabio.TiffIO:Data at tag id '65000' is smaller than expected\n"
     ]
    },
    {
     "name": "stdout",
     "output_type": "stream",
     "text": [
      "LR_AcidPEDOTPSS_RbBr_pos1_2487.50eV_ai0.80_wa0_bpm109.986_id22617_000000_WAXS.tif\n"
     ]
    },
    {
     "name": "stderr",
     "output_type": "stream",
     "text": [
      "WARNING:fabio.TiffIO:Data at tag id '65000' is smaller than expected\n",
      "WARNING:fabio.TiffIO:Data at tag id '65000' is smaller than expected\n",
      "WARNING:fabio.TiffIO:Data at tag id '65000' is smaller than expected\n",
      "WARNING:fabio.TiffIO:Data at tag id '65000' is smaller than expected\n",
      "WARNING:fabio.TiffIO:Data at tag id '65000' is smaller than expected\n",
      "WARNING:fabio.TiffIO:Data at tag id '65000' is smaller than expected\n"
     ]
    },
    {
     "name": "stdout",
     "output_type": "stream",
     "text": [
      "LR_StandardPEDOTPSS_NaBr_pos2_2483.00eV_ai0.80_wa0_bpm12.757_id22971_000000_WAXS.tif\n"
     ]
    },
    {
     "name": "stderr",
     "output_type": "stream",
     "text": [
      "WARNING:fabio.TiffIO:Data at tag id '65000' is smaller than expected\n",
      "WARNING:fabio.TiffIO:Data at tag id '65000' is smaller than expected\n",
      "WARNING:fabio.TiffIO:Data at tag id '65000' is smaller than expected\n",
      "WARNING:fabio.TiffIO:Data at tag id '65000' is smaller than expected\n",
      "WARNING:fabio.TiffIO:Data at tag id '65000' is smaller than expected\n",
      "WARNING:fabio.TiffIO:Data at tag id '65000' is smaller than expected\n"
     ]
    },
    {
     "name": "stdout",
     "output_type": "stream",
     "text": [
      "LR_StandardPEDOTPSS_as_pos2_2477.00eV_ai0.80_wa0_bpm12.680_id22753_000000_WAXS.tif\n"
     ]
    },
    {
     "name": "stderr",
     "output_type": "stream",
     "text": [
      "WARNING:fabio.TiffIO:Data at tag id '65000' is smaller than expected\n",
      "WARNING:fabio.TiffIO:Data at tag id '65000' is smaller than expected\n",
      "WARNING:fabio.TiffIO:Data at tag id '65000' is smaller than expected\n",
      "WARNING:fabio.TiffIO:Data at tag id '65000' is smaller than expected\n",
      "WARNING:fabio.TiffIO:Data at tag id '65000' is smaller than expected\n",
      "WARNING:fabio.TiffIO:Data at tag id '65000' is smaller than expected\n"
     ]
    },
    {
     "name": "stdout",
     "output_type": "stream",
     "text": [
      "LR_StandardPEDOTPSS_as_pos1_2490.00eV_ai0.80_wa0_bpm109.782_id22731_000000_WAXS.tif\n"
     ]
    },
    {
     "name": "stderr",
     "output_type": "stream",
     "text": [
      "WARNING:fabio.TiffIO:Data at tag id '65000' is smaller than expected\n",
      "WARNING:fabio.TiffIO:Data at tag id '65000' is smaller than expected\n",
      "WARNING:fabio.TiffIO:Data at tag id '65000' is smaller than expected\n",
      "WARNING:fabio.TiffIO:Data at tag id '65000' is smaller than expected\n",
      "WARNING:fabio.TiffIO:Data at tag id '65000' is smaller than expected\n",
      "WARNING:fabio.TiffIO:Data at tag id '65000' is smaller than expected\n"
     ]
    },
    {
     "name": "stdout",
     "output_type": "stream",
     "text": [
      "LR_StandardPEDOTPSS_RbBr_pos1_2476.00eV_ai0.80_wa0_bpm109.203_id22831_000000_WAXS.tif\n"
     ]
    },
    {
     "name": "stderr",
     "output_type": "stream",
     "text": [
      "WARNING:fabio.TiffIO:Data at tag id '65000' is smaller than expected\n",
      "WARNING:fabio.TiffIO:Data at tag id '65000' is smaller than expected\n",
      "WARNING:fabio.TiffIO:Data at tag id '65000' is smaller than expected\n",
      "WARNING:fabio.TiffIO:Data at tag id '65000' is smaller than expected\n",
      "WARNING:fabio.TiffIO:Data at tag id '65000' is smaller than expected\n",
      "WARNING:fabio.TiffIO:Data at tag id '65000' is smaller than expected\n"
     ]
    },
    {
     "name": "stdout",
     "output_type": "stream",
     "text": [
      "LR_AcidPEDOTPSS_as_pos2_2476.00eV_ai0.80_wa0_bpm12.776_id21738_000000_WAXS.tif\n"
     ]
    },
    {
     "name": "stderr",
     "output_type": "stream",
     "text": [
      "WARNING:fabio.TiffIO:Data at tag id '65000' is smaller than expected\n",
      "WARNING:fabio.TiffIO:Data at tag id '65000' is smaller than expected\n",
      "WARNING:fabio.TiffIO:Data at tag id '65000' is smaller than expected\n",
      "WARNING:fabio.TiffIO:Data at tag id '65000' is smaller than expected\n",
      "WARNING:fabio.TiffIO:Data at tag id '65000' is smaller than expected\n",
      "WARNING:fabio.TiffIO:Data at tag id '65000' is smaller than expected\n"
     ]
    },
    {
     "name": "stdout",
     "output_type": "stream",
     "text": [
      "LR_LiTFSI_PEDOTPSS_exposed_pos1_2479.50eV_ai0.80_wa0_bpm109.726_id23629_000000_WAXS.tif\n"
     ]
    },
    {
     "name": "stderr",
     "output_type": "stream",
     "text": [
      "WARNING:fabio.TiffIO:Data at tag id '65000' is smaller than expected\n",
      "WARNING:fabio.TiffIO:Data at tag id '65000' is smaller than expected\n",
      "WARNING:fabio.TiffIO:Data at tag id '65000' is smaller than expected\n",
      "WARNING:fabio.TiffIO:Data at tag id '65000' is smaller than expected\n",
      "WARNING:fabio.TiffIO:Data at tag id '65000' is smaller than expected\n",
      "WARNING:fabio.TiffIO:Data at tag id '65000' is smaller than expected\n"
     ]
    },
    {
     "name": "stdout",
     "output_type": "stream",
     "text": [
      "LR_LiTFSI_PEDOTPSS_redoped_0V_pos1_2480.00eV_ai0.80_wa0_bpm109.418_id23969_000000_WAXS.tif\n"
     ]
    },
    {
     "name": "stderr",
     "output_type": "stream",
     "text": [
      "WARNING:fabio.TiffIO:Data at tag id '65000' is smaller than expected\n",
      "WARNING:fabio.TiffIO:Data at tag id '65000' is smaller than expected\n",
      "WARNING:fabio.TiffIO:Data at tag id '65000' is smaller than expected\n",
      "WARNING:fabio.TiffIO:Data at tag id '65000' is smaller than expected\n",
      "WARNING:fabio.TiffIO:Data at tag id '65000' is smaller than expected\n",
      "WARNING:fabio.TiffIO:Data at tag id '65000' is smaller than expected\n"
     ]
    },
    {
     "name": "stdout",
     "output_type": "stream",
     "text": [
      "LR_AcidPEDOTPSS_0V_pos2_2475.50eV_ai0.80_wa0_bpm12.761_id21965_000000_WAXS.tif\n"
     ]
    },
    {
     "name": "stderr",
     "output_type": "stream",
     "text": [
      "WARNING:fabio.TiffIO:Data at tag id '65000' is smaller than expected\n",
      "WARNING:fabio.TiffIO:Data at tag id '65000' is smaller than expected\n",
      "WARNING:fabio.TiffIO:Data at tag id '65000' is smaller than expected\n",
      "WARNING:fabio.TiffIO:Data at tag id '65000' is smaller than expected\n",
      "WARNING:fabio.TiffIO:Data at tag id '65000' is smaller than expected\n",
      "WARNING:fabio.TiffIO:Data at tag id '65000' is smaller than expected\n"
     ]
    },
    {
     "name": "stdout",
     "output_type": "stream",
     "text": [
      "LR_P3MEEMT23k115C_0p7_KTFSI_pos2_2475.50eV_ai0.80_wa0_bpm12.670_id23095_000000_WAXS.tif\n"
     ]
    },
    {
     "name": "stderr",
     "output_type": "stream",
     "text": [
      "WARNING:fabio.TiffIO:Data at tag id '65000' is smaller than expected\n",
      "WARNING:fabio.TiffIO:Data at tag id '65000' is smaller than expected\n",
      "WARNING:fabio.TiffIO:Data at tag id '65000' is smaller than expected\n",
      "WARNING:fabio.TiffIO:Data at tag id '65000' is smaller than expected\n",
      "WARNING:fabio.TiffIO:Data at tag id '65000' is smaller than expected\n",
      "WARNING:fabio.TiffIO:Data at tag id '65000' is smaller than expected\n"
     ]
    },
    {
     "name": "stdout",
     "output_type": "stream",
     "text": [
      "LR_LiTFSI_PEDOTPSS_0V_pos1_2487.50eV_ai0.80_wa0_bpm109.841_id23747_000000_WAXS.tif\n"
     ]
    },
    {
     "name": "stderr",
     "output_type": "stream",
     "text": [
      "WARNING:fabio.TiffIO:Data at tag id '65000' is smaller than expected\n",
      "WARNING:fabio.TiffIO:Data at tag id '65000' is smaller than expected\n",
      "WARNING:fabio.TiffIO:Data at tag id '65000' is smaller than expected\n",
      "WARNING:fabio.TiffIO:Data at tag id '65000' is smaller than expected\n"
     ]
    },
    {
     "name": "stdout",
     "output_type": "stream",
     "text": [
      "LR_AcidPEDOTPSS_dedope_n0p6_pos2_2492.50eV_ai0.80_wa0_bpm13.088_id22063_000000_WAXS.tif\n"
     ]
    },
    {
     "name": "stderr",
     "output_type": "stream",
     "text": [
      "WARNING:fabio.TiffIO:Data at tag id '65000' is smaller than expected\n",
      "WARNING:fabio.TiffIO:Data at tag id '65000' is smaller than expected\n",
      "WARNING:fabio.TiffIO:Data at tag id '65000' is smaller than expected\n",
      "WARNING:fabio.TiffIO:Data at tag id '65000' is smaller than expected\n",
      "WARNING:fabio.TiffIO:Data at tag id '65000' is smaller than expected\n",
      "WARNING:fabio.TiffIO:Data at tag id '65000' is smaller than expected\n",
      "WARNING:fabio.TiffIO:Data at tag id '65000' is smaller than expected\n",
      "WARNING:fabio.TiffIO:Data at tag id '65000' is smaller than expected\n"
     ]
    },
    {
     "name": "stdout",
     "output_type": "stream",
     "text": [
      "LR_AcidPEDOTPSS_0V_pos1_2465.00eV_ai0.80_wa0_bpm110.341_id21922_000000_WAXS.tif\n"
     ]
    },
    {
     "name": "stderr",
     "output_type": "stream",
     "text": [
      "WARNING:fabio.TiffIO:Data at tag id '65000' is smaller than expected\n",
      "WARNING:fabio.TiffIO:Data at tag id '65000' is smaller than expected\n",
      "WARNING:fabio.TiffIO:Data at tag id '65000' is smaller than expected\n",
      "WARNING:fabio.TiffIO:Data at tag id '65000' is smaller than expected\n",
      "WARNING:fabio.TiffIO:Data at tag id '65000' is smaller than expected\n",
      "WARNING:fabio.TiffIO:Data at tag id '65000' is smaller than expected\n"
     ]
    },
    {
     "name": "stdout",
     "output_type": "stream",
     "text": [
      "LR_AcidPEDOTPSS_dedope_n0p6_pos1_2487.50eV_ai0.80_wa0_bpm110.001_id22052_000000_WAXS.tif\n"
     ]
    },
    {
     "name": "stderr",
     "output_type": "stream",
     "text": [
      "WARNING:fabio.TiffIO:Data at tag id '65000' is smaller than expected\n",
      "WARNING:fabio.TiffIO:Data at tag id '65000' is smaller than expected\n",
      "WARNING:fabio.TiffIO:Data at tag id '65000' is smaller than expected\n",
      "WARNING:fabio.TiffIO:Data at tag id '65000' is smaller than expected\n"
     ]
    },
    {
     "name": "stdout",
     "output_type": "stream",
     "text": [
      "LR_LiTFSI_PEDOTPSS_RbBr_pos1_2483.00eV_ai0.80_wa0_bpm109.431_id24197_000000_WAXS.tif\n"
     ]
    },
    {
     "name": "stderr",
     "output_type": "stream",
     "text": [
      "WARNING:fabio.TiffIO:Data at tag id '65000' is smaller than expected\n",
      "WARNING:fabio.TiffIO:Data at tag id '65000' is smaller than expected\n",
      "WARNING:fabio.TiffIO:Data at tag id '65000' is smaller than expected\n",
      "WARNING:fabio.TiffIO:Data at tag id '65000' is smaller than expected\n",
      "WARNING:fabio.TiffIO:Data at tag id '65000' is smaller than expected\n",
      "WARNING:fabio.TiffIO:Data at tag id '65000' is smaller than expected\n",
      "WARNING:fabio.TiffIO:Data at tag id '65000' is smaller than expected\n",
      "WARNING:fabio.TiffIO:Data at tag id '65000' is smaller than expected\n"
     ]
    },
    {
     "name": "stdout",
     "output_type": "stream",
     "text": [
      "LR_LiTFSI_PEDOTPSS_overdoped_p0p6V_pos2_2455.00eV_ai0.80_wa0_bpm12.656_id24118_000000_WAXS.tif\n"
     ]
    },
    {
     "name": "stderr",
     "output_type": "stream",
     "text": [
      "WARNING:fabio.TiffIO:Data at tag id '65000' is smaller than expected\n",
      "WARNING:fabio.TiffIO:Data at tag id '65000' is smaller than expected\n",
      "WARNING:fabio.TiffIO:Data at tag id '65000' is smaller than expected\n",
      "WARNING:fabio.TiffIO:Data at tag id '65000' is smaller than expected\n",
      "WARNING:fabio.TiffIO:Data at tag id '65000' is smaller than expected\n",
      "WARNING:fabio.TiffIO:Data at tag id '65000' is smaller than expected\n"
     ]
    },
    {
     "name": "stdout",
     "output_type": "stream",
     "text": [
      "LR_AcidPEDOTPSS_NaBr_pos1_2478.00eV_ai0.80_wa0_bpm109.906_id22383_000000_WAXS.tif\n"
     ]
    },
    {
     "name": "stderr",
     "output_type": "stream",
     "text": [
      "WARNING:fabio.TiffIO:Data at tag id '65000' is smaller than expected\n",
      "WARNING:fabio.TiffIO:Data at tag id '65000' is smaller than expected\n",
      "WARNING:fabio.TiffIO:Data at tag id '65000' is smaller than expected\n",
      "WARNING:fabio.TiffIO:Data at tag id '65000' is smaller than expected\n",
      "WARNING:fabio.TiffIO:Data at tag id '65000' is smaller than expected\n",
      "WARNING:fabio.TiffIO:Data at tag id '65000' is smaller than expected\n"
     ]
    },
    {
     "name": "stdout",
     "output_type": "stream",
     "text": [
      "LR_LiTFSI_PEDOTPSS_as_pos1_2479.00eV_ai0.80_wa0_bpm109.296_id23515_000000_WAXS.tif\n"
     ]
    },
    {
     "name": "stderr",
     "output_type": "stream",
     "text": [
      "WARNING:fabio.TiffIO:Data at tag id '65000' is smaller than expected\n",
      "WARNING:fabio.TiffIO:Data at tag id '65000' is smaller than expected\n",
      "WARNING:fabio.TiffIO:Data at tag id '65000' is smaller than expected\n",
      "WARNING:fabio.TiffIO:Data at tag id '65000' is smaller than expected\n",
      "WARNING:fabio.TiffIO:Data at tag id '65000' is smaller than expected\n",
      "WARNING:fabio.TiffIO:Data at tag id '65000' is smaller than expected\n"
     ]
    },
    {
     "name": "stdout",
     "output_type": "stream",
     "text": [
      "LR_StandardPEDOTPSS_RbBr_pos2_2475.50eV_ai0.80_wa0_bpm12.728_id22869_000000_WAXS.tif\n"
     ]
    },
    {
     "name": "stderr",
     "output_type": "stream",
     "text": [
      "WARNING:fabio.TiffIO:Data at tag id '65000' is smaller than expected\n",
      "WARNING:fabio.TiffIO:Data at tag id '65000' is smaller than expected\n",
      "WARNING:fabio.TiffIO:Data at tag id '65000' is smaller than expected\n",
      "WARNING:fabio.TiffIO:Data at tag id '65000' is smaller than expected\n",
      "WARNING:fabio.TiffIO:Data at tag id '65000' is smaller than expected\n",
      "WARNING:fabio.TiffIO:Data at tag id '65000' is smaller than expected\n"
     ]
    },
    {
     "name": "stdout",
     "output_type": "stream",
     "text": [
      "LR_LiTFSI_PEDOTPSS_0V_pos2_2483.00eV_ai0.80_wa0_bpm12.814_id23762_000000_WAXS.tif\n"
     ]
    },
    {
     "name": "stderr",
     "output_type": "stream",
     "text": [
      "WARNING:fabio.TiffIO:Data at tag id '65000' is smaller than expected\n",
      "WARNING:fabio.TiffIO:Data at tag id '65000' is smaller than expected\n",
      "WARNING:fabio.TiffIO:Data at tag id '65000' is smaller than expected\n",
      "WARNING:fabio.TiffIO:Data at tag id '65000' is smaller than expected\n",
      "WARNING:fabio.TiffIO:Data at tag id '65000' is smaller than expected\n",
      "WARNING:fabio.TiffIO:Data at tag id '65000' is smaller than expected\n"
     ]
    },
    {
     "name": "stdout",
     "output_type": "stream",
     "text": [
      "LR_StandardPEDOTPSS_as_pos1_2492.50eV_ai0.80_wa0_bpm109.735_id22732_000000_WAXS.tif\n"
     ]
    },
    {
     "name": "stderr",
     "output_type": "stream",
     "text": [
      "WARNING:fabio.TiffIO:Data at tag id '65000' is smaller than expected\n",
      "WARNING:fabio.TiffIO:Data at tag id '65000' is smaller than expected\n",
      "WARNING:fabio.TiffIO:Data at tag id '65000' is smaller than expected\n",
      "WARNING:fabio.TiffIO:Data at tag id '65000' is smaller than expected\n",
      "WARNING:fabio.TiffIO:Data at tag id '65000' is smaller than expected\n",
      "WARNING:fabio.TiffIO:Data at tag id '65000' is smaller than expected\n"
     ]
    },
    {
     "name": "stdout",
     "output_type": "stream",
     "text": [
      "LR_StandardPEDOTPSS_RbBr_pos2_2480.00eV_ai0.80_wa0_bpm12.778_id22860_000000_WAXS.tif\n"
     ]
    },
    {
     "name": "stderr",
     "output_type": "stream",
     "text": [
      "WARNING:fabio.TiffIO:Data at tag id '65000' is smaller than expected\n",
      "WARNING:fabio.TiffIO:Data at tag id '65000' is smaller than expected\n",
      "WARNING:fabio.TiffIO:Data at tag id '65000' is smaller than expected\n",
      "WARNING:fabio.TiffIO:Data at tag id '65000' is smaller than expected\n",
      "WARNING:fabio.TiffIO:Data at tag id '65000' is smaller than expected\n",
      "WARNING:fabio.TiffIO:Data at tag id '65000' is smaller than expected\n"
     ]
    },
    {
     "name": "stdout",
     "output_type": "stream",
     "text": [
      "LR_AcidPEDOTPSS_NaCl_pos2_2460.00eV_ai0.80_wa0_bpm12.642_id22309_000000_WAXS.tif\n"
     ]
    },
    {
     "name": "stderr",
     "output_type": "stream",
     "text": [
      "WARNING:fabio.TiffIO:Data at tag id '65000' is smaller than expected\n",
      "WARNING:fabio.TiffIO:Data at tag id '65000' is smaller than expected\n",
      "WARNING:fabio.TiffIO:Data at tag id '65000' is smaller than expected\n",
      "WARNING:fabio.TiffIO:Data at tag id '65000' is smaller than expected\n",
      "WARNING:fabio.TiffIO:Data at tag id '65000' is smaller than expected\n",
      "WARNING:fabio.TiffIO:Data at tag id '65000' is smaller than expected\n"
     ]
    },
    {
     "name": "stdout",
     "output_type": "stream",
     "text": [
      "LR_RivnayFrit_P3MEEET_drop_pos2_2490.00eV_ai0.80_wa0_bpm12.954_id23420_000000_WAXS.tif\n"
     ]
    },
    {
     "name": "stderr",
     "output_type": "stream",
     "text": [
      "WARNING:fabio.TiffIO:Data at tag id '65000' is smaller than expected\n",
      "WARNING:fabio.TiffIO:Data at tag id '65000' is smaller than expected\n",
      "WARNING:fabio.TiffIO:Data at tag id '65000' is smaller than expected\n",
      "WARNING:fabio.TiffIO:Data at tag id '65000' is smaller than expected\n",
      "WARNING:fabio.TiffIO:Data at tag id '65000' is smaller than expected\n",
      "WARNING:fabio.TiffIO:Data at tag id '65000' is smaller than expected\n"
     ]
    },
    {
     "name": "stdout",
     "output_type": "stream",
     "text": [
      "LR_LiTFSI_PEDOTPSS_RbBr_pos2_2470.00eV_ai0.80_wa0_bpm12.685_id24228_000000_WAXS.tif\n"
     ]
    },
    {
     "name": "stderr",
     "output_type": "stream",
     "text": [
      "WARNING:fabio.TiffIO:Data at tag id '65000' is smaller than expected\n",
      "WARNING:fabio.TiffIO:Data at tag id '65000' is smaller than expected\n",
      "WARNING:fabio.TiffIO:Data at tag id '65000' is smaller than expected\n",
      "WARNING:fabio.TiffIO:Data at tag id '65000' is smaller than expected\n",
      "WARNING:fabio.TiffIO:Data at tag id '65000' is smaller than expected\n",
      "WARNING:fabio.TiffIO:Data at tag id '65000' is smaller than expected\n"
     ]
    },
    {
     "name": "stdout",
     "output_type": "stream",
     "text": [
      "LR_LiTFSI_PEDOTPSS_redoped_0V_pos1_2477.50eV_ai0.80_wa0_bpm109.310_id23964_000000_WAXS.tif\n"
     ]
    },
    {
     "name": "stderr",
     "output_type": "stream",
     "text": [
      "WARNING:fabio.TiffIO:Data at tag id '65000' is smaller than expected\n",
      "WARNING:fabio.TiffIO:Data at tag id '65000' is smaller than expected\n",
      "WARNING:fabio.TiffIO:Data at tag id '65000' is smaller than expected\n",
      "WARNING:fabio.TiffIO:Data at tag id '65000' is smaller than expected\n",
      "WARNING:fabio.TiffIO:Data at tag id '65000' is smaller than expected\n",
      "WARNING:fabio.TiffIO:Data at tag id '65000' is smaller than expected\n"
     ]
    },
    {
     "name": "stdout",
     "output_type": "stream",
     "text": [
      "LR_AcidPEDOTPSS_overdope_p0p6_pos2_2483.00eV_ai0.80_wa0_bpm12.818_id22180_000000_WAXS.tif\n"
     ]
    },
    {
     "name": "stderr",
     "output_type": "stream",
     "text": [
      "WARNING:fabio.TiffIO:Data at tag id '65000' is smaller than expected\n",
      "WARNING:fabio.TiffIO:Data at tag id '65000' is smaller than expected\n",
      "WARNING:fabio.TiffIO:Data at tag id '65000' is smaller than expected\n",
      "WARNING:fabio.TiffIO:Data at tag id '65000' is smaller than expected\n",
      "WARNING:fabio.TiffIO:Data at tag id '65000' is smaller than expected\n",
      "WARNING:fabio.TiffIO:Data at tag id '65000' is smaller than expected\n"
     ]
    },
    {
     "name": "stdout",
     "output_type": "stream",
     "text": [
      "LR_StandardPEDOTPSS_RbBr_pos1_2470.00eV_ai0.80_wa0_bpm109.423_id22827_000000_WAXS.tif\n"
     ]
    },
    {
     "name": "stderr",
     "output_type": "stream",
     "text": [
      "WARNING:fabio.TiffIO:Data at tag id '65000' is smaller than expected\n",
      "WARNING:fabio.TiffIO:Data at tag id '65000' is smaller than expected\n",
      "WARNING:fabio.TiffIO:Data at tag id '65000' is smaller than expected\n",
      "WARNING:fabio.TiffIO:Data at tag id '65000' is smaller than expected\n",
      "WARNING:fabio.TiffIO:Data at tag id '65000' is smaller than expected\n",
      "WARNING:fabio.TiffIO:Data at tag id '65000' is smaller than expected\n"
     ]
    },
    {
     "name": "stdout",
     "output_type": "stream",
     "text": [
      "LR_LiTFSI_PEDOTPSS_redoped_0V_pos2_2495.00eV_ai0.80_wa0_bpm13.090_id23983_000000_WAXS.tif\n"
     ]
    },
    {
     "name": "stderr",
     "output_type": "stream",
     "text": [
      "WARNING:fabio.TiffIO:Data at tag id '65000' is smaller than expected\n",
      "WARNING:fabio.TiffIO:Data at tag id '65000' is smaller than expected\n",
      "WARNING:fabio.TiffIO:Data at tag id '65000' is smaller than expected\n",
      "WARNING:fabio.TiffIO:Data at tag id '65000' is smaller than expected\n",
      "WARNING:fabio.TiffIO:Data at tag id '65000' is smaller than expected\n",
      "WARNING:fabio.TiffIO:Data at tag id '65000' is smaller than expected\n"
     ]
    },
    {
     "name": "stdout",
     "output_type": "stream",
     "text": [
      "LR_AcidPEDOTPSS_overdope_p0p6_pos1_2473.00eV_ai0.80_wa0_bpm109.845_id22150_000000_WAXS.tif\n"
     ]
    },
    {
     "name": "stderr",
     "output_type": "stream",
     "text": [
      "WARNING:fabio.TiffIO:Data at tag id '65000' is smaller than expected\n",
      "WARNING:fabio.TiffIO:Data at tag id '65000' is smaller than expected\n",
      "WARNING:fabio.TiffIO:Data at tag id '65000' is smaller than expected\n"
     ]
    },
    {
     "name": "stdout",
     "output_type": "stream",
     "text": [
      "LR_LiTFSI_PEDOTPSS_dedoped_n0p6_pos1_2480.50eV_ai0.80_wa0_bpm109.612_id23857_000000_WAXS.tif\n"
     ]
    },
    {
     "name": "stderr",
     "output_type": "stream",
     "text": [
      "WARNING:fabio.TiffIO:Data at tag id '65000' is smaller than expected\n",
      "WARNING:fabio.TiffIO:Data at tag id '65000' is smaller than expected\n",
      "WARNING:fabio.TiffIO:Data at tag id '65000' is smaller than expected\n",
      "WARNING:fabio.TiffIO:Data at tag id '65000' is smaller than expected\n",
      "WARNING:fabio.TiffIO:Data at tag id '65000' is smaller than expected\n",
      "WARNING:fabio.TiffIO:Data at tag id '65000' is smaller than expected\n"
     ]
    },
    {
     "name": "stdout",
     "output_type": "stream",
     "text": [
      "LR_LiTFSI_PEDOTPSS_exposed_pos1_2480.00eV_ai0.80_wa0_bpm109.598_id23630_000000_WAXS.tif\n"
     ]
    },
    {
     "name": "stderr",
     "output_type": "stream",
     "text": [
      "WARNING:fabio.TiffIO:Data at tag id '65000' is smaller than expected\n",
      "WARNING:fabio.TiffIO:Data at tag id '65000' is smaller than expected\n",
      "WARNING:fabio.TiffIO:Data at tag id '65000' is smaller than expected\n",
      "WARNING:fabio.TiffIO:Data at tag id '65000' is smaller than expected\n",
      "WARNING:fabio.TiffIO:Data at tag id '65000' is smaller than expected\n",
      "WARNING:fabio.TiffIO:Data at tag id '65000' is smaller than expected\n",
      "WARNING:fabio.TiffIO:Data at tag id '65000' is smaller than expected\n"
     ]
    },
    {
     "name": "stdout",
     "output_type": "stream",
     "text": [
      "LR_AcidPEDOTPSS_overdope_p0p6_pos1_2478.00eV_ai0.80_wa0_bpm110.048_id22157_000000_WAXS.tif\n"
     ]
    },
    {
     "name": "stderr",
     "output_type": "stream",
     "text": [
      "WARNING:fabio.TiffIO:Data at tag id '65000' is smaller than expected\n",
      "WARNING:fabio.TiffIO:Data at tag id '65000' is smaller than expected\n",
      "WARNING:fabio.TiffIO:Data at tag id '65000' is smaller than expected\n",
      "WARNING:fabio.TiffIO:Data at tag id '65000' is smaller than expected\n",
      "WARNING:fabio.TiffIO:Data at tag id '65000' is smaller than expected\n",
      "WARNING:fabio.TiffIO:Data at tag id '65000' is smaller than expected\n",
      "WARNING:fabio.TiffIO:Data at tag id '65000' is smaller than expected\n",
      "WARNING:fabio.TiffIO:Data at tag id '65000' is smaller than expected\n"
     ]
    },
    {
     "name": "stdout",
     "output_type": "stream",
     "text": [
      "LR_LiTFSI_PEDOTPSS_dedoped_n0p6_pos2_2500.00eV_ai0.80_wa0_bpm13.183_id23869_000000_WAXS.tif\n"
     ]
    },
    {
     "name": "stderr",
     "output_type": "stream",
     "text": [
      "WARNING:fabio.TiffIO:Data at tag id '65000' is smaller than expected\n",
      "WARNING:fabio.TiffIO:Data at tag id '65000' is smaller than expected\n",
      "WARNING:fabio.TiffIO:Data at tag id '65000' is smaller than expected\n",
      "WARNING:fabio.TiffIO:Data at tag id '65000' is smaller than expected\n",
      "WARNING:fabio.TiffIO:Data at tag id '65000' is smaller than expected\n",
      "WARNING:fabio.TiffIO:Data at tag id '65000' is smaller than expected\n"
     ]
    },
    {
     "name": "stdout",
     "output_type": "stream",
     "text": [
      "LR_LiTFSI_PEDOTPSS_dedoped_n0p6_pos1_2465.00eV_ai0.80_wa0_bpm109.747_id23843_000000_WAXS.tif\n"
     ]
    },
    {
     "name": "stderr",
     "output_type": "stream",
     "text": [
      "WARNING:fabio.TiffIO:Data at tag id '65000' is smaller than expected\n",
      "WARNING:fabio.TiffIO:Data at tag id '65000' is smaller than expected\n",
      "WARNING:fabio.TiffIO:Data at tag id '65000' is smaller than expected\n",
      "WARNING:fabio.TiffIO:Data at tag id '65000' is smaller than expected\n",
      "WARNING:fabio.TiffIO:Data at tag id '65000' is smaller than expected\n",
      "WARNING:fabio.TiffIO:Data at tag id '65000' is smaller than expected\n"
     ]
    },
    {
     "name": "stdout",
     "output_type": "stream",
     "text": [
      "LR_AcidPEDOTPSS_exposed_pos1_2473.00eV_ai0.80_wa0_bpm110.169_id21811_000000_WAXS.tif\n"
     ]
    },
    {
     "name": "stderr",
     "output_type": "stream",
     "text": [
      "WARNING:fabio.TiffIO:Data at tag id '65000' is smaller than expected\n",
      "WARNING:fabio.TiffIO:Data at tag id '65000' is smaller than expected\n",
      "WARNING:fabio.TiffIO:Data at tag id '65000' is smaller than expected\n",
      "WARNING:fabio.TiffIO:Data at tag id '65000' is smaller than expected\n",
      "WARNING:fabio.TiffIO:Data at tag id '65000' is smaller than expected\n",
      "WARNING:fabio.TiffIO:Data at tag id '65000' is smaller than expected\n"
     ]
    },
    {
     "name": "stdout",
     "output_type": "stream",
     "text": [
      "LR_StandardPEDOTPSS_RbBr_pos2_2510.00eV_ai0.80_wa0_bpm13.397_id22851_000000_WAXS.tif\n"
     ]
    },
    {
     "name": "stderr",
     "output_type": "stream",
     "text": [
      "WARNING:fabio.TiffIO:Data at tag id '65000' is smaller than expected\n",
      "WARNING:fabio.TiffIO:Data at tag id '65000' is smaller than expected\n",
      "WARNING:fabio.TiffIO:Data at tag id '65000' is smaller than expected\n",
      "WARNING:fabio.TiffIO:Data at tag id '65000' is smaller than expected\n"
     ]
    },
    {
     "name": "stdout",
     "output_type": "stream",
     "text": [
      "LR_LiTFSI_PEDOTPSS_RbBr_pos2_2492.50eV_ai0.80_wa0_bpm13.015_id24210_000000_WAXS.tif\n"
     ]
    },
    {
     "name": "stderr",
     "output_type": "stream",
     "text": [
      "WARNING:fabio.TiffIO:Data at tag id '65000' is smaller than expected\n",
      "WARNING:fabio.TiffIO:Data at tag id '65000' is smaller than expected\n",
      "WARNING:fabio.TiffIO:Data at tag id '65000' is smaller than expected\n",
      "WARNING:fabio.TiffIO:Data at tag id '65000' is smaller than expected\n",
      "WARNING:fabio.TiffIO:Data at tag id '65000' is smaller than expected\n"
     ]
    },
    {
     "name": "stdout",
     "output_type": "stream",
     "text": [
      "LR_P3MEEMT23k115C_0p4_KTFSI_pos1_2450.00eV_ai0.80_wa0_bpm111.369_id23162_000000_WAXS.tif\n"
     ]
    },
    {
     "name": "stderr",
     "output_type": "stream",
     "text": [
      "WARNING:fabio.TiffIO:Data at tag id '65000' is smaller than expected\n",
      "WARNING:fabio.TiffIO:Data at tag id '65000' is smaller than expected\n",
      "WARNING:fabio.TiffIO:Data at tag id '65000' is smaller than expected\n",
      "WARNING:fabio.TiffIO:Data at tag id '65000' is smaller than expected\n",
      "WARNING:fabio.TiffIO:Data at tag id '65000' is smaller than expected\n",
      "WARNING:fabio.TiffIO:Data at tag id '65000' is smaller than expected\n",
      "WARNING:fabio.TiffIO:Data at tag id '65000' is smaller than expected\n",
      "WARNING:fabio.TiffIO:Data at tag id '65000' is smaller than expected\n",
      "WARNING:fabio.TiffIO:Data at tag id '65000' is smaller than expected\n"
     ]
    },
    {
     "name": "stdout",
     "output_type": "stream",
     "text": [
      "LR_AcidPEDOTPSS_0V_pos1_2492.50eV_ai0.80_wa0_bpm110.102_id21941_000000_WAXS.tif\n"
     ]
    },
    {
     "name": "stderr",
     "output_type": "stream",
     "text": [
      "WARNING:fabio.TiffIO:Data at tag id '65000' is smaller than expected\n",
      "WARNING:fabio.TiffIO:Data at tag id '65000' is smaller than expected\n",
      "WARNING:fabio.TiffIO:Data at tag id '65000' is smaller than expected\n",
      "WARNING:fabio.TiffIO:Data at tag id '65000' is smaller than expected\n",
      "WARNING:fabio.TiffIO:Data at tag id '65000' is smaller than expected\n",
      "WARNING:fabio.TiffIO:Data at tag id '65000' is smaller than expected\n"
     ]
    },
    {
     "name": "stdout",
     "output_type": "stream",
     "text": [
      "LR_AcidPEDOTPSS_RbCl_pos2_2475.50eV_ai0.80_wa0_bpm12.723_id22530_000000_WAXS.tif\n"
     ]
    },
    {
     "name": "stderr",
     "output_type": "stream",
     "text": [
      "WARNING:fabio.TiffIO:Data at tag id '65000' is smaller than expected\n",
      "WARNING:fabio.TiffIO:Data at tag id '65000' is smaller than expected\n",
      "WARNING:fabio.TiffIO:Data at tag id '65000' is smaller than expected\n",
      "WARNING:fabio.TiffIO:Data at tag id '65000' is smaller than expected\n"
     ]
    },
    {
     "name": "stdout",
     "output_type": "stream",
     "text": [
      "LR_StandardPEDOTPSS_NaBr_pos1_2473.00eV_ai0.80_wa0_bpm109.790_id22941_000000_WAXS.tif\n"
     ]
    },
    {
     "name": "stderr",
     "output_type": "stream",
     "text": [
      "WARNING:fabio.TiffIO:Data at tag id '65000' is smaller than expected\n",
      "WARNING:fabio.TiffIO:Data at tag id '65000' is smaller than expected\n",
      "WARNING:fabio.TiffIO:Data at tag id '65000' is smaller than expected\n",
      "WARNING:fabio.TiffIO:Data at tag id '65000' is smaller than expected\n",
      "WARNING:fabio.TiffIO:Data at tag id '65000' is smaller than expected\n",
      "WARNING:fabio.TiffIO:Data at tag id '65000' is smaller than expected\n",
      "WARNING:fabio.TiffIO:Data at tag id '65000' is smaller than expected\n",
      "WARNING:fabio.TiffIO:Data at tag id '65000' is smaller than expected\n"
     ]
    },
    {
     "name": "stdout",
     "output_type": "stream",
     "text": [
      "LR_AcidPEDOTPSS_dedope_n0p6_pos1_2515.00eV_ai0.80_wa0_bpm110.643_id22058_000000_WAXS.tif\n"
     ]
    },
    {
     "name": "stderr",
     "output_type": "stream",
     "text": [
      "WARNING:fabio.TiffIO:Data at tag id '65000' is smaller than expected\n",
      "WARNING:fabio.TiffIO:Data at tag id '65000' is smaller than expected\n",
      "WARNING:fabio.TiffIO:Data at tag id '65000' is smaller than expected\n",
      "WARNING:fabio.TiffIO:Data at tag id '65000' is smaller than expected\n",
      "WARNING:fabio.TiffIO:Data at tag id '65000' is smaller than expected\n",
      "WARNING:fabio.TiffIO:Data at tag id '65000' is smaller than expected\n"
     ]
    },
    {
     "name": "stdout",
     "output_type": "stream",
     "text": [
      "LR_LiTFSI_PEDOTPSS_redoped_0V_pos1_2515.00eV_ai0.80_wa0_bpm110.278_id23979_000000_WAXS.tif\n"
     ]
    },
    {
     "name": "stderr",
     "output_type": "stream",
     "text": [
      "WARNING:fabio.TiffIO:Data at tag id '65000' is smaller than expected\n",
      "WARNING:fabio.TiffIO:Data at tag id '65000' is smaller than expected\n",
      "WARNING:fabio.TiffIO:Data at tag id '65000' is smaller than expected\n",
      "WARNING:fabio.TiffIO:Data at tag id '65000' is smaller than expected\n"
     ]
    },
    {
     "name": "stdout",
     "output_type": "stream",
     "text": [
      "LR_AcidPEDOTPSS_0V_pos2_2477.00eV_ai0.80_wa0_bpm12.760_id21962_000000_WAXS.tif\n"
     ]
    },
    {
     "name": "stderr",
     "output_type": "stream",
     "text": [
      "WARNING:fabio.TiffIO:Data at tag id '65000' is smaller than expected\n",
      "WARNING:fabio.TiffIO:Data at tag id '65000' is smaller than expected\n",
      "WARNING:fabio.TiffIO:Data at tag id '65000' is smaller than expected\n",
      "WARNING:fabio.TiffIO:Data at tag id '65000' is smaller than expected\n",
      "WARNING:fabio.TiffIO:Data at tag id '65000' is smaller than expected\n",
      "WARNING:fabio.TiffIO:Data at tag id '65000' is smaller than expected\n",
      "WARNING:fabio.TiffIO:Data at tag id '65000' is smaller than expected\n",
      "WARNING:fabio.TiffIO:Data at tag id '65000' is smaller than expected\n"
     ]
    },
    {
     "name": "stdout",
     "output_type": "stream",
     "text": [
      "LR_LiTFSI_PEDOTPSS_overdoped_p0p6V_pos1_2515.00eV_ai0.80_wa0_bpm109.911_id24092_000000_WAXS.tif\n"
     ]
    },
    {
     "name": "stderr",
     "output_type": "stream",
     "text": [
      "WARNING:fabio.TiffIO:Data at tag id '65000' is smaller than expected\n",
      "WARNING:fabio.TiffIO:Data at tag id '65000' is smaller than expected\n",
      "WARNING:fabio.TiffIO:Data at tag id '65000' is smaller than expected\n",
      "WARNING:fabio.TiffIO:Data at tag id '65000' is smaller than expected\n",
      "WARNING:fabio.TiffIO:Data at tag id '65000' is smaller than expected\n",
      "WARNING:fabio.TiffIO:Data at tag id '65000' is smaller than expected\n"
     ]
    },
    {
     "name": "stdout",
     "output_type": "stream",
     "text": [
      "LR_LiTFSI_PEDOTPSS_as_pos1_2510.00eV_ai0.80_wa0_bpm109.578_id23526_000000_WAXS.tif\n"
     ]
    },
    {
     "name": "stderr",
     "output_type": "stream",
     "text": [
      "WARNING:fabio.TiffIO:Data at tag id '65000' is smaller than expected\n",
      "WARNING:fabio.TiffIO:Data at tag id '65000' is smaller than expected\n",
      "WARNING:fabio.TiffIO:Data at tag id '65000' is smaller than expected\n",
      "WARNING:fabio.TiffIO:Data at tag id '65000' is smaller than expected\n",
      "WARNING:fabio.TiffIO:Data at tag id '65000' is smaller than expected\n",
      "WARNING:fabio.TiffIO:Data at tag id '65000' is smaller than expected\n"
     ]
    },
    {
     "name": "stdout",
     "output_type": "stream",
     "text": [
      "LR_StandardPEDOTPSS_as_pos2_2480.00eV_ai0.80_wa0_bpm12.748_id22747_000000_WAXS.tif\n"
     ]
    },
    {
     "name": "stderr",
     "output_type": "stream",
     "text": [
      "WARNING:fabio.TiffIO:Data at tag id '65000' is smaller than expected\n",
      "WARNING:fabio.TiffIO:Data at tag id '65000' is smaller than expected\n",
      "WARNING:fabio.TiffIO:Data at tag id '65000' is smaller than expected\n",
      "WARNING:fabio.TiffIO:Data at tag id '65000' is smaller than expected\n",
      "WARNING:fabio.TiffIO:Data at tag id '65000' is smaller than expected\n",
      "WARNING:fabio.TiffIO:Data at tag id '65000' is smaller than expected\n"
     ]
    },
    {
     "name": "stdout",
     "output_type": "stream",
     "text": [
      "LR_StandardPEDOTPSS_RbBr_pos2_2478.00eV_ai0.80_wa0_bpm12.745_id22864_000000_WAXS.tif\n"
     ]
    },
    {
     "name": "stderr",
     "output_type": "stream",
     "text": [
      "WARNING:fabio.TiffIO:Data at tag id '65000' is smaller than expected\n",
      "WARNING:fabio.TiffIO:Data at tag id '65000' is smaller than expected\n",
      "WARNING:fabio.TiffIO:Data at tag id '65000' is smaller than expected\n",
      "WARNING:fabio.TiffIO:Data at tag id '65000' is smaller than expected\n",
      "WARNING:fabio.TiffIO:Data at tag id '65000' is smaller than expected\n",
      "WARNING:fabio.TiffIO:Data at tag id '65000' is smaller than expected\n"
     ]
    },
    {
     "name": "stdout",
     "output_type": "stream",
     "text": [
      "LR_AcidPEDOTPSS_NaBr_pos2_2510.00eV_ai0.80_wa0_bpm13.441_id22399_000000_WAXS.tif\n"
     ]
    },
    {
     "name": "stderr",
     "output_type": "stream",
     "text": [
      "WARNING:fabio.TiffIO:Data at tag id '65000' is smaller than expected\n",
      "WARNING:fabio.TiffIO:Data at tag id '65000' is smaller than expected\n",
      "WARNING:fabio.TiffIO:Data at tag id '65000' is smaller than expected\n",
      "WARNING:fabio.TiffIO:Data at tag id '65000' is smaller than expected\n",
      "WARNING:fabio.TiffIO:Data at tag id '65000' is smaller than expected\n",
      "WARNING:fabio.TiffIO:Data at tag id '65000' is smaller than expected\n"
     ]
    },
    {
     "name": "stdout",
     "output_type": "stream",
     "text": [
      "LR_LiTFSI_PEDOTPSS_as_pos1_2490.00eV_ai0.80_wa0_bpm109.378_id23522_000000_WAXS.tif\n"
     ]
    },
    {
     "name": "stderr",
     "output_type": "stream",
     "text": [
      "WARNING:fabio.TiffIO:Data at tag id '65000' is smaller than expected\n",
      "WARNING:fabio.TiffIO:Data at tag id '65000' is smaller than expected\n",
      "WARNING:fabio.TiffIO:Data at tag id '65000' is smaller than expected\n",
      "WARNING:fabio.TiffIO:Data at tag id '65000' is smaller than expected\n"
     ]
    },
    {
     "name": "stdout",
     "output_type": "stream",
     "text": [
      "LR_AcidPEDOTPSS_0V_pos1_2450.00eV_ai0.80_wa0_bpm111.968_id21919_000000_WAXS.tif\n"
     ]
    },
    {
     "name": "stderr",
     "output_type": "stream",
     "text": [
      "WARNING:fabio.TiffIO:Data at tag id '65000' is smaller than expected\n",
      "WARNING:fabio.TiffIO:Data at tag id '65000' is smaller than expected\n",
      "WARNING:fabio.TiffIO:Data at tag id '65000' is smaller than expected\n"
     ]
    },
    {
     "name": "stdout",
     "output_type": "stream",
     "text": [
      "LR_LiTFSI_PEDOTPSS_0V_pos1_2485.00eV_ai0.80_wa0_bpm109.892_id23746_000000_WAXS.tif\n"
     ]
    },
    {
     "name": "stderr",
     "output_type": "stream",
     "text": [
      "WARNING:fabio.TiffIO:Data at tag id '65000' is smaller than expected\n",
      "WARNING:fabio.TiffIO:Data at tag id '65000' is smaller than expected\n",
      "WARNING:fabio.TiffIO:Data at tag id '65000' is smaller than expected\n",
      "WARNING:fabio.TiffIO:Data at tag id '65000' is smaller than expected\n",
      "WARNING:fabio.TiffIO:Data at tag id '65000' is smaller than expected\n",
      "WARNING:fabio.TiffIO:Data at tag id '65000' is smaller than expected\n",
      "WARNING:fabio.TiffIO:Data at tag id '65000' is smaller than expected\n",
      "WARNING:fabio.TiffIO:Data at tag id '65000' is smaller than expected\n",
      "WARNING:fabio.TiffIO:Data at tag id '65000' is smaller than expected\n",
      "WARNING:fabio.TiffIO:Data at tag id '65000' is smaller than expected\n",
      "WARNING:fabio.TiffIO:Data at tag id '65000' is smaller than expected\n"
     ]
    },
    {
     "name": "stdout",
     "output_type": "stream",
     "text": [
      "LR_P3MEEMT23k115C_0p7_KTFSI_pos1_2485.00eV_ai0.80_wa0_bpm109.505_id23068_000000_WAXS.tif\n"
     ]
    },
    {
     "name": "stderr",
     "output_type": "stream",
     "text": [
      "WARNING:fabio.TiffIO:Data at tag id '65000' is smaller than expected\n",
      "WARNING:fabio.TiffIO:Data at tag id '65000' is smaller than expected\n",
      "WARNING:fabio.TiffIO:Data at tag id '65000' is smaller than expected\n",
      "WARNING:fabio.TiffIO:Data at tag id '65000' is smaller than expected\n",
      "WARNING:fabio.TiffIO:Data at tag id '65000' is smaller than expected\n",
      "WARNING:fabio.TiffIO:Data at tag id '65000' is smaller than expected\n"
     ]
    },
    {
     "name": "stdout",
     "output_type": "stream",
     "text": [
      "LR_AcidPEDOTPSS_RbCl_pos2_2479.50eV_ai0.80_wa0_bpm12.738_id22522_000000_WAXS.tif\n"
     ]
    },
    {
     "name": "stderr",
     "output_type": "stream",
     "text": [
      "WARNING:fabio.TiffIO:Data at tag id '65000' is smaller than expected\n",
      "WARNING:fabio.TiffIO:Data at tag id '65000' is smaller than expected\n",
      "WARNING:fabio.TiffIO:Data at tag id '65000' is smaller than expected\n",
      "WARNING:fabio.TiffIO:Data at tag id '65000' is smaller than expected\n",
      "WARNING:fabio.TiffIO:Data at tag id '65000' is smaller than expected\n",
      "WARNING:fabio.TiffIO:Data at tag id '65000' is smaller than expected\n"
     ]
    },
    {
     "name": "stdout",
     "output_type": "stream",
     "text": [
      "LR_AcidPEDOTPSS_RbBr_pos2_2473.00eV_ai0.80_wa0_bpm13.557_id22645_000000_WAXS.tif\n"
     ]
    },
    {
     "name": "stderr",
     "output_type": "stream",
     "text": [
      "WARNING:fabio.TiffIO:Data at tag id '65000' is smaller than expected\n",
      "WARNING:fabio.TiffIO:Data at tag id '65000' is smaller than expected\n",
      "WARNING:fabio.TiffIO:Data at tag id '65000' is smaller than expected\n",
      "WARNING:fabio.TiffIO:Data at tag id '65000' is smaller than expected\n",
      "WARNING:fabio.TiffIO:Data at tag id '65000' is smaller than expected\n",
      "WARNING:fabio.TiffIO:Data at tag id '65000' is smaller than expected\n"
     ]
    },
    {
     "name": "stdout",
     "output_type": "stream",
     "text": [
      "LR_P3MEEMT23k115C_0p4_KTFSI_pos1_2475.50eV_ai0.80_wa0_bpm109.751_id23169_000000_WAXS.tif\n"
     ]
    },
    {
     "name": "stderr",
     "output_type": "stream",
     "text": [
      "WARNING:fabio.TiffIO:Data at tag id '65000' is smaller than expected\n",
      "WARNING:fabio.TiffIO:Data at tag id '65000' is smaller than expected\n",
      "WARNING:fabio.TiffIO:Data at tag id '65000' is smaller than expected\n",
      "WARNING:fabio.TiffIO:Data at tag id '65000' is smaller than expected\n",
      "WARNING:fabio.TiffIO:Data at tag id '65000' is smaller than expected\n",
      "WARNING:fabio.TiffIO:Data at tag id '65000' is smaller than expected\n"
     ]
    },
    {
     "name": "stdout",
     "output_type": "stream",
     "text": [
      "LR_AcidPEDOTPSS_RbBr_pos1_2495.00eV_ai0.80_wa0_bpm109.918_id22620_000000_WAXS.tif\n"
     ]
    },
    {
     "name": "stderr",
     "output_type": "stream",
     "text": [
      "WARNING:fabio.TiffIO:Data at tag id '65000' is smaller than expected\n",
      "WARNING:fabio.TiffIO:Data at tag id '65000' is smaller than expected\n",
      "WARNING:fabio.TiffIO:Data at tag id '65000' is smaller than expected\n",
      "WARNING:fabio.TiffIO:Data at tag id '65000' is smaller than expected\n",
      "WARNING:fabio.TiffIO:Data at tag id '65000' is smaller than expected\n",
      "WARNING:fabio.TiffIO:Data at tag id '65000' is smaller than expected\n"
     ]
    },
    {
     "name": "stdout",
     "output_type": "stream",
     "text": [
      "LR_LiTFSI_PEDOTPSS_overdoped_p0p6V_pos1_2487.50eV_ai0.80_wa0_bpm109.512_id24086_000000_WAXS.tif\n"
     ]
    },
    {
     "name": "stderr",
     "output_type": "stream",
     "text": [
      "WARNING:fabio.TiffIO:Data at tag id '65000' is smaller than expected\n",
      "WARNING:fabio.TiffIO:Data at tag id '65000' is smaller than expected\n",
      "WARNING:fabio.TiffIO:Data at tag id '65000' is smaller than expected\n",
      "WARNING:fabio.TiffIO:Data at tag id '65000' is smaller than expected\n"
     ]
    },
    {
     "name": "stdout",
     "output_type": "stream",
     "text": [
      "LR_StandardPEDOTPSS_NaBr_pos2_2460.00eV_ai0.80_wa0_bpm12.625_id22987_000000_WAXS.tif\n"
     ]
    },
    {
     "name": "stderr",
     "output_type": "stream",
     "text": [
      "WARNING:fabio.TiffIO:Data at tag id '65000' is smaller than expected\n",
      "WARNING:fabio.TiffIO:Data at tag id '65000' is smaller than expected\n",
      "WARNING:fabio.TiffIO:Data at tag id '65000' is smaller than expected\n",
      "WARNING:fabio.TiffIO:Data at tag id '65000' is smaller than expected\n",
      "WARNING:fabio.TiffIO:Data at tag id '65000' is smaller than expected\n",
      "WARNING:fabio.TiffIO:Data at tag id '65000' is smaller than expected\n",
      "WARNING:fabio.TiffIO:Data at tag id '65000' is smaller than expected\n",
      "WARNING:fabio.TiffIO:Data at tag id '65000' is smaller than expected\n"
     ]
    },
    {
     "name": "stdout",
     "output_type": "stream",
     "text": [
      "LR_P3MEEMT23k115C_un_pos1_2487.50eV_ai0.80_wa0_bpm109.504_id23295_000000_WAXS.tif\n"
     ]
    },
    {
     "name": "stderr",
     "output_type": "stream",
     "text": [
      "WARNING:fabio.TiffIO:Data at tag id '65000' is smaller than expected\n",
      "WARNING:fabio.TiffIO:Data at tag id '65000' is smaller than expected\n",
      "WARNING:fabio.TiffIO:Data at tag id '65000' is smaller than expected\n",
      "WARNING:fabio.TiffIO:Data at tag id '65000' is smaller than expected\n",
      "WARNING:fabio.TiffIO:Data at tag id '65000' is smaller than expected\n",
      "WARNING:fabio.TiffIO:Data at tag id '65000' is smaller than expected\n"
     ]
    },
    {
     "name": "stdout",
     "output_type": "stream",
     "text": [
      "LR_LiTFSI_PEDOTPSS_RbBr_pos2_2483.00eV_ai0.80_wa0_bpm12.785_id24214_000000_WAXS.tif\n"
     ]
    },
    {
     "name": "stderr",
     "output_type": "stream",
     "text": [
      "WARNING:fabio.TiffIO:Data at tag id '65000' is smaller than expected\n",
      "WARNING:fabio.TiffIO:Data at tag id '65000' is smaller than expected\n",
      "WARNING:fabio.TiffIO:Data at tag id '65000' is smaller than expected\n",
      "WARNING:fabio.TiffIO:Data at tag id '65000' is smaller than expected\n",
      "WARNING:fabio.TiffIO:Data at tag id '65000' is smaller than expected\n",
      "WARNING:fabio.TiffIO:Data at tag id '65000' is smaller than expected\n"
     ]
    },
    {
     "name": "stdout",
     "output_type": "stream",
     "text": [
      "LR_AcidPEDOTPSS_NaCl_pos2_2478.00eV_ai0.80_wa0_bpm12.760_id22299_000000_WAXS.tif\n"
     ]
    },
    {
     "name": "stderr",
     "output_type": "stream",
     "text": [
      "WARNING:fabio.TiffIO:Data at tag id '65000' is smaller than expected\n",
      "WARNING:fabio.TiffIO:Data at tag id '65000' is smaller than expected\n",
      "WARNING:fabio.TiffIO:Data at tag id '65000' is smaller than expected\n",
      "WARNING:fabio.TiffIO:Data at tag id '65000' is smaller than expected\n",
      "WARNING:fabio.TiffIO:Data at tag id '65000' is smaller than expected\n",
      "WARNING:fabio.TiffIO:Data at tag id '65000' is smaller than expected\n"
     ]
    },
    {
     "name": "stdout",
     "output_type": "stream",
     "text": [
      "LR_RivnayFrit_P3MEEET_drop_pos1_2476.00eV_ai0.80_wa0_bpm109.356_id23396_000000_WAXS.tif\n"
     ]
    },
    {
     "name": "stderr",
     "output_type": "stream",
     "text": [
      "WARNING:fabio.TiffIO:Data at tag id '65000' is smaller than expected\n",
      "WARNING:fabio.TiffIO:Data at tag id '65000' is smaller than expected\n",
      "WARNING:fabio.TiffIO:Data at tag id '65000' is smaller than expected\n",
      "WARNING:fabio.TiffIO:Data at tag id '65000' is smaller than expected\n",
      "WARNING:fabio.TiffIO:Data at tag id '65000' is smaller than expected\n",
      "WARNING:fabio.TiffIO:Data at tag id '65000' is smaller than expected\n"
     ]
    },
    {
     "name": "stdout",
     "output_type": "stream",
     "text": [
      "LR_AcidPEDOTPSS_exposed_pos2_2487.50eV_ai0.80_wa0_bpm12.984_id21839_000000_WAXS.tif\n"
     ]
    },
    {
     "name": "stderr",
     "output_type": "stream",
     "text": [
      "WARNING:fabio.TiffIO:Data at tag id '65000' is smaller than expected\n",
      "WARNING:fabio.TiffIO:Data at tag id '65000' is smaller than expected\n",
      "WARNING:fabio.TiffIO:Data at tag id '65000' is smaller than expected\n",
      "WARNING:fabio.TiffIO:Data at tag id '65000' is smaller than expected\n",
      "WARNING:fabio.TiffIO:Data at tag id '65000' is smaller than expected\n",
      "WARNING:fabio.TiffIO:Data at tag id '65000' is smaller than expected\n"
     ]
    },
    {
     "name": "stdout",
     "output_type": "stream",
     "text": [
      "LR_LiTFSI_PEDOTPSS_redoped_0V_pos2_2480.00eV_ai0.80_wa0_bpm12.758_id23990_000000_WAXS.tif\n"
     ]
    },
    {
     "name": "stderr",
     "output_type": "stream",
     "text": [
      "WARNING:fabio.TiffIO:Data at tag id '65000' is smaller than expected\n",
      "WARNING:fabio.TiffIO:Data at tag id '65000' is smaller than expected\n",
      "WARNING:fabio.TiffIO:Data at tag id '65000' is smaller than expected\n",
      "WARNING:fabio.TiffIO:Data at tag id '65000' is smaller than expected\n",
      "WARNING:fabio.TiffIO:Data at tag id '65000' is smaller than expected\n",
      "WARNING:fabio.TiffIO:Data at tag id '65000' is smaller than expected\n"
     ]
    },
    {
     "name": "stdout",
     "output_type": "stream",
     "text": [
      "LR_LiTFSI_PEDOTPSS_exposed_pos2_2490.00eV_ai0.80_wa0_bpm12.952_id23646_000000_WAXS.tif\n"
     ]
    },
    {
     "name": "stderr",
     "output_type": "stream",
     "text": [
      "WARNING:fabio.TiffIO:Data at tag id '65000' is smaller than expected\n",
      "WARNING:fabio.TiffIO:Data at tag id '65000' is smaller than expected\n",
      "WARNING:fabio.TiffIO:Data at tag id '65000' is smaller than expected\n",
      "WARNING:fabio.TiffIO:Data at tag id '65000' is smaller than expected\n",
      "WARNING:fabio.TiffIO:Data at tag id '65000' is smaller than expected\n",
      "WARNING:fabio.TiffIO:Data at tag id '65000' is smaller than expected\n"
     ]
    },
    {
     "name": "stdout",
     "output_type": "stream",
     "text": [
      "LR_AcidPEDOTPSS_RbBr_pos1_2477.50eV_ai0.80_wa0_bpm109.387_id22608_000000_WAXS.tif\n"
     ]
    },
    {
     "name": "stderr",
     "output_type": "stream",
     "text": [
      "WARNING:fabio.TiffIO:Data at tag id '65000' is smaller than expected\n",
      "WARNING:fabio.TiffIO:Data at tag id '65000' is smaller than expected\n",
      "WARNING:fabio.TiffIO:Data at tag id '65000' is smaller than expected\n",
      "WARNING:fabio.TiffIO:Data at tag id '65000' is smaller than expected\n",
      "WARNING:fabio.TiffIO:Data at tag id '65000' is smaller than expected\n",
      "WARNING:fabio.TiffIO:Data at tag id '65000' is smaller than expected\n"
     ]
    },
    {
     "name": "stdout",
     "output_type": "stream",
     "text": [
      "LR_StandardPEDOTPSS_NaBr_pos2_2480.00eV_ai0.80_wa0_bpm12.732_id22973_000000_WAXS.tif\n"
     ]
    },
    {
     "name": "stderr",
     "output_type": "stream",
     "text": [
      "WARNING:fabio.TiffIO:Data at tag id '65000' is smaller than expected\n",
      "WARNING:fabio.TiffIO:Data at tag id '65000' is smaller than expected\n",
      "WARNING:fabio.TiffIO:Data at tag id '65000' is smaller than expected\n",
      "WARNING:fabio.TiffIO:Data at tag id '65000' is smaller than expected\n",
      "WARNING:fabio.TiffIO:Data at tag id '65000' is smaller than expected\n",
      "WARNING:fabio.TiffIO:Data at tag id '65000' is smaller than expected\n"
     ]
    },
    {
     "name": "stdout",
     "output_type": "stream",
     "text": [
      "LR_AcidPEDOTPSS_RbCl_pos1_2450.00eV_ai0.80_wa0_bpm111.555_id22484_000000_WAXS.tif\n"
     ]
    },
    {
     "name": "stderr",
     "output_type": "stream",
     "text": [
      "WARNING:fabio.TiffIO:Data at tag id '65000' is smaller than expected\n",
      "WARNING:fabio.TiffIO:Data at tag id '65000' is smaller than expected\n",
      "WARNING:fabio.TiffIO:Data at tag id '65000' is smaller than expected\n",
      "WARNING:fabio.TiffIO:Data at tag id '65000' is smaller than expected\n",
      "WARNING:fabio.TiffIO:Data at tag id '65000' is smaller than expected\n",
      "WARNING:fabio.TiffIO:Data at tag id '65000' is smaller than expected\n"
     ]
    },
    {
     "name": "stdout",
     "output_type": "stream",
     "text": [
      "LR_LiTFSI_PEDOTPSS_0V_pos2_2492.50eV_ai0.80_wa0_bpm13.055_id23758_000000_WAXS.tif\n"
     ]
    },
    {
     "name": "stderr",
     "output_type": "stream",
     "text": [
      "WARNING:fabio.TiffIO:Data at tag id '65000' is smaller than expected\n",
      "WARNING:fabio.TiffIO:Data at tag id '65000' is smaller than expected\n",
      "WARNING:fabio.TiffIO:Data at tag id '65000' is smaller than expected\n",
      "WARNING:fabio.TiffIO:Data at tag id '65000' is smaller than expected\n"
     ]
    },
    {
     "name": "stdout",
     "output_type": "stream",
     "text": [
      "LR_AcidPEDOTPSS_as_pos2_2478.50eV_ai0.80_wa0_bpm12.829_id21733_000000_WAXS.tif\n"
     ]
    },
    {
     "name": "stderr",
     "output_type": "stream",
     "text": [
      "WARNING:fabio.TiffIO:Data at tag id '65000' is smaller than expected\n",
      "WARNING:fabio.TiffIO:Data at tag id '65000' is smaller than expected\n",
      "WARNING:fabio.TiffIO:Data at tag id '65000' is smaller than expected\n",
      "WARNING:fabio.TiffIO:Data at tag id '65000' is smaller than expected\n",
      "WARNING:fabio.TiffIO:Data at tag id '65000' is smaller than expected\n",
      "WARNING:fabio.TiffIO:Data at tag id '65000' is smaller than expected\n",
      "WARNING:fabio.TiffIO:Data at tag id '65000' is smaller than expected\n",
      "WARNING:fabio.TiffIO:Data at tag id '65000' is smaller than expected\n"
     ]
    },
    {
     "name": "stdout",
     "output_type": "stream",
     "text": [
      "LR_LiTFSI_PEDOTPSS_0V_pos2_2495.00eV_ai0.80_wa0_bpm13.117_id23757_000000_WAXS.tif\n"
     ]
    },
    {
     "name": "stderr",
     "output_type": "stream",
     "text": [
      "WARNING:fabio.TiffIO:Data at tag id '65000' is smaller than expected\n",
      "WARNING:fabio.TiffIO:Data at tag id '65000' is smaller than expected\n",
      "WARNING:fabio.TiffIO:Data at tag id '65000' is smaller than expected\n",
      "WARNING:fabio.TiffIO:Data at tag id '65000' is smaller than expected\n",
      "WARNING:fabio.TiffIO:Data at tag id '65000' is smaller than expected\n",
      "WARNING:fabio.TiffIO:Data at tag id '65000' is smaller than expected\n"
     ]
    },
    {
     "name": "stdout",
     "output_type": "stream",
     "text": [
      "LR_AcidPEDOTPSS_exposed_pos2_2480.00eV_ai0.80_wa0_bpm12.842_id21843_000000_WAXS.tif\n"
     ]
    },
    {
     "name": "stderr",
     "output_type": "stream",
     "text": [
      "WARNING:fabio.TiffIO:Data at tag id '65000' is smaller than expected\n",
      "WARNING:fabio.TiffIO:Data at tag id '65000' is smaller than expected\n",
      "WARNING:fabio.TiffIO:Data at tag id '65000' is smaller than expected\n",
      "WARNING:fabio.TiffIO:Data at tag id '65000' is smaller than expected\n",
      "WARNING:fabio.TiffIO:Data at tag id '65000' is smaller than expected\n",
      "WARNING:fabio.TiffIO:Data at tag id '65000' is smaller than expected\n"
     ]
    },
    {
     "name": "stdout",
     "output_type": "stream",
     "text": [
      "LR_LiTFSI_PEDOTPSS_redoped_0V_pos2_2477.50eV_ai0.80_wa0_bpm12.678_id23995_000000_WAXS.tif\n"
     ]
    },
    {
     "name": "stderr",
     "output_type": "stream",
     "text": [
      "WARNING:fabio.TiffIO:Data at tag id '65000' is smaller than expected\n",
      "WARNING:fabio.TiffIO:Data at tag id '65000' is smaller than expected\n",
      "WARNING:fabio.TiffIO:Data at tag id '65000' is smaller than expected\n",
      "WARNING:fabio.TiffIO:Data at tag id '65000' is smaller than expected\n"
     ]
    },
    {
     "name": "stdout",
     "output_type": "stream",
     "text": [
      "LR_P3MEEMT23k115C_un_pos2_2479.50eV_ai0.80_wa0_bpm12.714_id23313_000000_WAXS.tif\n"
     ]
    },
    {
     "name": "stderr",
     "output_type": "stream",
     "text": [
      "WARNING:fabio.TiffIO:Data at tag id '65000' is smaller than expected\n",
      "WARNING:fabio.TiffIO:Data at tag id '65000' is smaller than expected\n",
      "WARNING:fabio.TiffIO:Data at tag id '65000' is smaller than expected\n",
      "WARNING:fabio.TiffIO:Data at tag id '65000' is smaller than expected\n",
      "WARNING:fabio.TiffIO:Data at tag id '65000' is smaller than expected\n",
      "WARNING:fabio.TiffIO:Data at tag id '65000' is smaller than expected\n"
     ]
    },
    {
     "name": "stdout",
     "output_type": "stream",
     "text": [
      "LR_AcidPEDOTPSS_0V_pos2_2478.00eV_ai0.80_wa0_bpm12.787_id21960_000000_WAXS.tif\n"
     ]
    },
    {
     "name": "stderr",
     "output_type": "stream",
     "text": [
      "WARNING:fabio.TiffIO:Data at tag id '65000' is smaller than expected\n",
      "WARNING:fabio.TiffIO:Data at tag id '65000' is smaller than expected\n",
      "WARNING:fabio.TiffIO:Data at tag id '65000' is smaller than expected\n",
      "WARNING:fabio.TiffIO:Data at tag id '65000' is smaller than expected\n",
      "WARNING:fabio.TiffIO:Data at tag id '65000' is smaller than expected\n",
      "WARNING:fabio.TiffIO:Data at tag id '65000' is smaller than expected\n",
      "WARNING:fabio.TiffIO:Data at tag id '65000' is smaller than expected\n",
      "WARNING:fabio.TiffIO:Data at tag id '65000' is smaller than expected\n"
     ]
    },
    {
     "name": "stdout",
     "output_type": "stream",
     "text": [
      "LR_AcidPEDOTPSS_0V_pos1_2480.50eV_ai0.80_wa0_bpm109.939_id21936_000000_WAXS.tif\n"
     ]
    },
    {
     "name": "stderr",
     "output_type": "stream",
     "text": [
      "WARNING:fabio.TiffIO:Data at tag id '65000' is smaller than expected\n",
      "WARNING:fabio.TiffIO:Data at tag id '65000' is smaller than expected\n",
      "WARNING:fabio.TiffIO:Data at tag id '65000' is smaller than expected\n",
      "WARNING:fabio.TiffIO:Data at tag id '65000' is smaller than expected\n",
      "WARNING:fabio.TiffIO:Data at tag id '65000' is smaller than expected\n",
      "WARNING:fabio.TiffIO:Data at tag id '65000' is smaller than expected\n"
     ]
    },
    {
     "name": "stdout",
     "output_type": "stream",
     "text": [
      "LR_P3MEEMT23k115C_0p4_KTFSI_pos2_2465.00eV_ai0.80_wa0_bpm12.639_id23212_000000_WAXS.tif\n"
     ]
    },
    {
     "name": "stderr",
     "output_type": "stream",
     "text": [
      "WARNING:fabio.TiffIO:Data at tag id '65000' is smaller than expected\n",
      "WARNING:fabio.TiffIO:Data at tag id '65000' is smaller than expected\n",
      "WARNING:fabio.TiffIO:Data at tag id '65000' is smaller than expected\n",
      "WARNING:fabio.TiffIO:Data at tag id '65000' is smaller than expected\n",
      "WARNING:fabio.TiffIO:Data at tag id '65000' is smaller than expected\n",
      "WARNING:fabio.TiffIO:Data at tag id '65000' is smaller than expected\n"
     ]
    },
    {
     "name": "stdout",
     "output_type": "stream",
     "text": [
      "LR_LiTFSI_PEDOTPSS_RbBr_pos1_2475.00eV_ai0.80_wa0_bpm109.240_id24185_000000_WAXS.tif\n"
     ]
    },
    {
     "name": "stderr",
     "output_type": "stream",
     "text": [
      "WARNING:fabio.TiffIO:Data at tag id '65000' is smaller than expected\n",
      "WARNING:fabio.TiffIO:Data at tag id '65000' is smaller than expected\n",
      "WARNING:fabio.TiffIO:Data at tag id '65000' is smaller than expected\n",
      "WARNING:fabio.TiffIO:Data at tag id '65000' is smaller than expected\n"
     ]
    },
    {
     "name": "stdout",
     "output_type": "stream",
     "text": [
      "LR_AcidPEDOTPSS_as_pos2_2477.00eV_ai0.80_wa0_bpm12.787_id21736_000000_WAXS.tif\n"
     ]
    },
    {
     "name": "stderr",
     "output_type": "stream",
     "text": [
      "WARNING:fabio.TiffIO:Data at tag id '65000' is smaller than expected\n",
      "WARNING:fabio.TiffIO:Data at tag id '65000' is smaller than expected\n",
      "WARNING:fabio.TiffIO:Data at tag id '65000' is smaller than expected\n",
      "WARNING:fabio.TiffIO:Data at tag id '65000' is smaller than expected\n",
      "WARNING:fabio.TiffIO:Data at tag id '65000' is smaller than expected\n",
      "WARNING:fabio.TiffIO:Data at tag id '65000' is smaller than expected\n",
      "WARNING:fabio.TiffIO:Data at tag id '65000' is smaller than expected\n",
      "WARNING:fabio.TiffIO:Data at tag id '65000' is smaller than expected\n"
     ]
    },
    {
     "name": "stdout",
     "output_type": "stream",
     "text": [
      "LR_AcidPEDOTPSS_NaBr_pos1_2510.00eV_ai0.80_wa0_bpm110.262_id22396_000000_WAXS.tif\n"
     ]
    },
    {
     "name": "stderr",
     "output_type": "stream",
     "text": [
      "WARNING:fabio.TiffIO:Data at tag id '65000' is smaller than expected\n",
      "WARNING:fabio.TiffIO:Data at tag id '65000' is smaller than expected\n",
      "WARNING:fabio.TiffIO:Data at tag id '65000' is smaller than expected\n",
      "WARNING:fabio.TiffIO:Data at tag id '65000' is smaller than expected\n",
      "WARNING:fabio.TiffIO:Data at tag id '65000' is smaller than expected\n",
      "WARNING:fabio.TiffIO:Data at tag id '65000' is smaller than expected\n"
     ]
    },
    {
     "name": "stdout",
     "output_type": "stream",
     "text": [
      "LR_P3MEEMT23k115C_0p4_KTFSI_pos2_2500.00eV_ai0.80_wa0_bpm13.178_id23191_000000_WAXS.tif\n"
     ]
    },
    {
     "name": "stderr",
     "output_type": "stream",
     "text": [
      "WARNING:fabio.TiffIO:Data at tag id '65000' is smaller than expected\n",
      "WARNING:fabio.TiffIO:Data at tag id '65000' is smaller than expected\n",
      "WARNING:fabio.TiffIO:Data at tag id '65000' is smaller than expected\n",
      "WARNING:fabio.TiffIO:Data at tag id '65000' is smaller than expected\n",
      "WARNING:fabio.TiffIO:Data at tag id '65000' is smaller than expected\n",
      "WARNING:fabio.TiffIO:Data at tag id '65000' is smaller than expected\n"
     ]
    },
    {
     "name": "stdout",
     "output_type": "stream",
     "text": [
      "LR_StandardPEDOTPSS_RbBr_pos2_2470.00eV_ai0.80_wa0_bpm12.689_id22872_000000_WAXS.tif\n"
     ]
    },
    {
     "name": "stderr",
     "output_type": "stream",
     "text": [
      "WARNING:fabio.TiffIO:Data at tag id '65000' is smaller than expected\n",
      "WARNING:fabio.TiffIO:Data at tag id '65000' is smaller than expected\n",
      "WARNING:fabio.TiffIO:Data at tag id '65000' is smaller than expected\n",
      "WARNING:fabio.TiffIO:Data at tag id '65000' is smaller than expected\n",
      "WARNING:fabio.TiffIO:Data at tag id '65000' is smaller than expected\n",
      "WARNING:fabio.TiffIO:Data at tag id '65000' is smaller than expected\n"
     ]
    },
    {
     "name": "stdout",
     "output_type": "stream",
     "text": [
      "LR_LiTFSI_PEDOTPSS_exposed_pos2_2478.00eV_ai0.80_wa0_bpm12.733_id23655_000000_WAXS.tif\n"
     ]
    },
    {
     "name": "stderr",
     "output_type": "stream",
     "text": [
      "WARNING:fabio.TiffIO:Data at tag id '65000' is smaller than expected\n",
      "WARNING:fabio.TiffIO:Data at tag id '65000' is smaller than expected\n",
      "WARNING:fabio.TiffIO:Data at tag id '65000' is smaller than expected\n",
      "WARNING:fabio.TiffIO:Data at tag id '65000' is smaller than expected\n",
      "WARNING:fabio.TiffIO:Data at tag id '65000' is smaller than expected\n",
      "WARNING:fabio.TiffIO:Data at tag id '65000' is smaller than expected\n"
     ]
    },
    {
     "name": "stdout",
     "output_type": "stream",
     "text": [
      "LR_RivnayFrit_P3MEEET_drop_pos1_2477.50eV_ai0.80_wa0_bpm109.096_id23399_000000_WAXS.tif\n"
     ]
    },
    {
     "name": "stderr",
     "output_type": "stream",
     "text": [
      "WARNING:fabio.TiffIO:Data at tag id '65000' is smaller than expected\n",
      "WARNING:fabio.TiffIO:Data at tag id '65000' is smaller than expected\n",
      "WARNING:fabio.TiffIO:Data at tag id '65000' is smaller than expected\n",
      "WARNING:fabio.TiffIO:Data at tag id '65000' is smaller than expected\n",
      "WARNING:fabio.TiffIO:Data at tag id '65000' is smaller than expected\n",
      "WARNING:fabio.TiffIO:Data at tag id '65000' is smaller than expected\n"
     ]
    },
    {
     "name": "stdout",
     "output_type": "stream",
     "text": [
      "LR_AcidPEDOTPSS_NaBr_pos1_2479.50eV_ai0.80_wa0_bpm110.124_id22386_000000_WAXS.tif\n"
     ]
    },
    {
     "name": "stderr",
     "output_type": "stream",
     "text": [
      "WARNING:fabio.TiffIO:Data at tag id '65000' is smaller than expected\n",
      "WARNING:fabio.TiffIO:Data at tag id '65000' is smaller than expected\n",
      "WARNING:fabio.TiffIO:Data at tag id '65000' is smaller than expected\n",
      "WARNING:fabio.TiffIO:Data at tag id '65000' is smaller than expected\n",
      "WARNING:fabio.TiffIO:Data at tag id '65000' is smaller than expected\n",
      "WARNING:fabio.TiffIO:Data at tag id '65000' is smaller than expected\n"
     ]
    },
    {
     "name": "stdout",
     "output_type": "stream",
     "text": [
      "LR_StandardPEDOTPSS_NaBr_pos1_2450.00eV_ai0.80_wa0_bpm111.040_id22936_000000_WAXS.tif\n"
     ]
    },
    {
     "name": "stderr",
     "output_type": "stream",
     "text": [
      "WARNING:fabio.TiffIO:Data at tag id '65000' is smaller than expected\n",
      "WARNING:fabio.TiffIO:Data at tag id '65000' is smaller than expected\n",
      "WARNING:fabio.TiffIO:Data at tag id '65000' is smaller than expected\n",
      "WARNING:fabio.TiffIO:Data at tag id '65000' is smaller than expected\n",
      "WARNING:fabio.TiffIO:Data at tag id '65000' is smaller than expected\n",
      "WARNING:fabio.TiffIO:Data at tag id '65000' is smaller than expected\n"
     ]
    },
    {
     "name": "stdout",
     "output_type": "stream",
     "text": [
      "LR_P3MEEMT23k115C_un_pos2_2476.00eV_ai0.80_wa0_bpm12.654_id23320_000000_WAXS.tif\n"
     ]
    },
    {
     "name": "stderr",
     "output_type": "stream",
     "text": [
      "WARNING:fabio.TiffIO:Data at tag id '65000' is smaller than expected\n",
      "WARNING:fabio.TiffIO:Data at tag id '65000' is smaller than expected\n",
      "WARNING:fabio.TiffIO:Data at tag id '65000' is smaller than expected\n",
      "WARNING:fabio.TiffIO:Data at tag id '65000' is smaller than expected\n",
      "WARNING:fabio.TiffIO:Data at tag id '65000' is smaller than expected\n",
      "WARNING:fabio.TiffIO:Data at tag id '65000' is smaller than expected\n"
     ]
    },
    {
     "name": "stdout",
     "output_type": "stream",
     "text": [
      "LR_AcidPEDOTPSS_NaCl_pos1_2479.00eV_ai0.80_wa0_bpm109.800_id22272_000000_WAXS.tif\n"
     ]
    },
    {
     "name": "stderr",
     "output_type": "stream",
     "text": [
      "WARNING:fabio.TiffIO:Data at tag id '65000' is smaller than expected\n",
      "WARNING:fabio.TiffIO:Data at tag id '65000' is smaller than expected\n",
      "WARNING:fabio.TiffIO:Data at tag id '65000' is smaller than expected\n",
      "WARNING:fabio.TiffIO:Data at tag id '65000' is smaller than expected\n",
      "WARNING:fabio.TiffIO:Data at tag id '65000' is smaller than expected\n",
      "WARNING:fabio.TiffIO:Data at tag id '65000' is smaller than expected\n"
     ]
    },
    {
     "name": "stdout",
     "output_type": "stream",
     "text": [
      "LR_LiTFSI_PEDOTPSS_0V_pos2_2479.50eV_ai0.80_wa0_bpm12.759_id23765_000000_WAXS.tif\n"
     ]
    },
    {
     "name": "stderr",
     "output_type": "stream",
     "text": [
      "WARNING:fabio.TiffIO:Data at tag id '65000' is smaller than expected\n",
      "WARNING:fabio.TiffIO:Data at tag id '65000' is smaller than expected\n",
      "WARNING:fabio.TiffIO:Data at tag id '65000' is smaller than expected\n",
      "WARNING:fabio.TiffIO:Data at tag id '65000' is smaller than expected\n",
      "WARNING:fabio.TiffIO:Data at tag id '65000' is smaller than expected\n",
      "WARNING:fabio.TiffIO:Data at tag id '65000' is smaller than expected\n"
     ]
    },
    {
     "name": "stdout",
     "output_type": "stream",
     "text": [
      "LR_AcidPEDOTPSS_0V_pos1_2455.00eV_ai0.80_wa0_bpm110.884_id21920_000000_WAXS.tif\n"
     ]
    },
    {
     "name": "stderr",
     "output_type": "stream",
     "text": [
      "WARNING:fabio.TiffIO:Data at tag id '65000' is smaller than expected\n",
      "WARNING:fabio.TiffIO:Data at tag id '65000' is smaller than expected\n",
      "WARNING:fabio.TiffIO:Data at tag id '65000' is smaller than expected\n",
      "WARNING:fabio.TiffIO:Data at tag id '65000' is smaller than expected\n",
      "WARNING:fabio.TiffIO:Data at tag id '65000' is smaller than expected\n",
      "WARNING:fabio.TiffIO:Data at tag id '65000' is smaller than expected\n"
     ]
    },
    {
     "name": "stdout",
     "output_type": "stream",
     "text": [
      "LR_LiTFSI_PEDOTPSS_overdoped_p0p6V_pos1_2480.00eV_ai0.80_wa0_bpm109.367_id24082_000000_WAXS.tif\n"
     ]
    },
    {
     "name": "stderr",
     "output_type": "stream",
     "text": [
      "WARNING:fabio.TiffIO:Data at tag id '65000' is smaller than expected\n",
      "WARNING:fabio.TiffIO:Data at tag id '65000' is smaller than expected\n",
      "WARNING:fabio.TiffIO:Data at tag id '65000' is smaller than expected\n",
      "WARNING:fabio.TiffIO:Data at tag id '65000' is smaller than expected\n",
      "WARNING:fabio.TiffIO:Data at tag id '65000' is smaller than expected\n",
      "WARNING:fabio.TiffIO:Data at tag id '65000' is smaller than expected\n"
     ]
    },
    {
     "name": "stdout",
     "output_type": "stream",
     "text": [
      "LR_AcidPEDOTPSS_dedope_n0p6_pos1_2450.00eV_ai0.80_wa0_bpm111.615_id22032_000000_WAXS.tif\n"
     ]
    },
    {
     "name": "stderr",
     "output_type": "stream",
     "text": [
      "WARNING:fabio.TiffIO:Data at tag id '65000' is smaller than expected\n",
      "WARNING:fabio.TiffIO:Data at tag id '65000' is smaller than expected\n",
      "WARNING:fabio.TiffIO:Data at tag id '65000' is smaller than expected\n",
      "WARNING:fabio.TiffIO:Data at tag id '65000' is smaller than expected\n",
      "WARNING:fabio.TiffIO:Data at tag id '65000' is smaller than expected\n",
      "WARNING:fabio.TiffIO:Data at tag id '65000' is smaller than expected\n"
     ]
    },
    {
     "name": "stdout",
     "output_type": "stream",
     "text": [
      "LR_LiTFSI_PEDOTPSS_dedoped_n0p6_pos2_2479.00eV_ai0.80_wa0_bpm12.696_id23879_000000_WAXS.tif\n"
     ]
    },
    {
     "name": "stderr",
     "output_type": "stream",
     "text": [
      "WARNING:fabio.TiffIO:Data at tag id '65000' is smaller than expected\n",
      "WARNING:fabio.TiffIO:Data at tag id '65000' is smaller than expected\n",
      "WARNING:fabio.TiffIO:Data at tag id '65000' is smaller than expected\n",
      "WARNING:fabio.TiffIO:Data at tag id '65000' is smaller than expected\n",
      "WARNING:fabio.TiffIO:Data at tag id '65000' is smaller than expected\n",
      "WARNING:fabio.TiffIO:Data at tag id '65000' is smaller than expected\n"
     ]
    },
    {
     "name": "stdout",
     "output_type": "stream",
     "text": [
      "LR_StandardPEDOTPSS_RbBr_pos1_2475.00eV_ai0.80_wa0_bpm109.251_id22829_000000_WAXS.tif\n"
     ]
    },
    {
     "name": "stderr",
     "output_type": "stream",
     "text": [
      "WARNING:fabio.TiffIO:Data at tag id '65000' is smaller than expected\n",
      "WARNING:fabio.TiffIO:Data at tag id '65000' is smaller than expected\n",
      "WARNING:fabio.TiffIO:Data at tag id '65000' is smaller than expected\n",
      "WARNING:fabio.TiffIO:Data at tag id '65000' is smaller than expected\n",
      "WARNING:fabio.TiffIO:Data at tag id '65000' is smaller than expected\n",
      "WARNING:fabio.TiffIO:Data at tag id '65000' is smaller than expected\n"
     ]
    },
    {
     "name": "stdout",
     "output_type": "stream",
     "text": [
      "LR_AcidPEDOTPSS_dedope_n0p6_pos2_2490.00eV_ai0.80_wa0_bpm13.024_id22064_000000_WAXS.tif\n"
     ]
    },
    {
     "name": "stderr",
     "output_type": "stream",
     "text": [
      "WARNING:fabio.TiffIO:Data at tag id '65000' is smaller than expected\n",
      "WARNING:fabio.TiffIO:Data at tag id '65000' is smaller than expected\n",
      "WARNING:fabio.TiffIO:Data at tag id '65000' is smaller than expected\n",
      "WARNING:fabio.TiffIO:Data at tag id '65000' is smaller than expected\n",
      "WARNING:fabio.TiffIO:Data at tag id '65000' is smaller than expected\n",
      "WARNING:fabio.TiffIO:Data at tag id '65000' is smaller than expected\n"
     ]
    },
    {
     "name": "stdout",
     "output_type": "stream",
     "text": [
      "LR_AcidPEDOTPSS_exposed_pos1_2480.50eV_ai0.80_wa0_bpm110.356_id21823_000000_WAXS.tif\n"
     ]
    },
    {
     "name": "stderr",
     "output_type": "stream",
     "text": [
      "WARNING:fabio.TiffIO:Data at tag id '65000' is smaller than expected\n",
      "WARNING:fabio.TiffIO:Data at tag id '65000' is smaller than expected\n",
      "WARNING:fabio.TiffIO:Data at tag id '65000' is smaller than expected\n",
      "WARNING:fabio.TiffIO:Data at tag id '65000' is smaller than expected\n",
      "WARNING:fabio.TiffIO:Data at tag id '65000' is smaller than expected\n",
      "WARNING:fabio.TiffIO:Data at tag id '65000' is smaller than expected\n"
     ]
    },
    {
     "name": "stdout",
     "output_type": "stream",
     "text": [
      "LR_AcidPEDOTPSS_RbCl_pos2_2450.00eV_ai0.80_wa0_bpm12.606_id22537_000000_WAXS.tif\n"
     ]
    },
    {
     "name": "stderr",
     "output_type": "stream",
     "text": [
      "WARNING:fabio.TiffIO:Data at tag id '65000' is smaller than expected\n",
      "WARNING:fabio.TiffIO:Data at tag id '65000' is smaller than expected\n",
      "WARNING:fabio.TiffIO:Data at tag id '65000' is smaller than expected\n"
     ]
    },
    {
     "name": "stdout",
     "output_type": "stream",
     "text": [
      "LR_LiTFSI_PEDOTPSS_exposed_pos1_2515.00eV_ai0.80_wa0_bpm110.141_id23640_000000_WAXS.tif\n"
     ]
    },
    {
     "name": "stderr",
     "output_type": "stream",
     "text": [
      "WARNING:fabio.TiffIO:Data at tag id '65000' is smaller than expected\n",
      "WARNING:fabio.TiffIO:Data at tag id '65000' is smaller than expected\n",
      "WARNING:fabio.TiffIO:Data at tag id '65000' is smaller than expected\n",
      "WARNING:fabio.TiffIO:Data at tag id '65000' is smaller than expected\n",
      "WARNING:fabio.TiffIO:Data at tag id '65000' is smaller than expected\n",
      "WARNING:fabio.TiffIO:Data at tag id '65000' is smaller than expected\n",
      "WARNING:fabio.TiffIO:Data at tag id '65000' is smaller than expected\n"
     ]
    },
    {
     "name": "stdout",
     "output_type": "stream",
     "text": [
      "LR_LiTFSI_PEDOTPSS_0V_pos1_2476.00eV_ai0.80_wa0_bpm109.734_id23735_000000_WAXS.tif\n"
     ]
    },
    {
     "name": "stderr",
     "output_type": "stream",
     "text": [
      "WARNING:fabio.TiffIO:Data at tag id '65000' is smaller than expected\n",
      "WARNING:fabio.TiffIO:Data at tag id '65000' is smaller than expected\n",
      "WARNING:fabio.TiffIO:Data at tag id '65000' is smaller than expected\n",
      "WARNING:fabio.TiffIO:Data at tag id '65000' is smaller than expected\n",
      "WARNING:fabio.TiffIO:Data at tag id '65000' is smaller than expected\n",
      "WARNING:fabio.TiffIO:Data at tag id '65000' is smaller than expected\n",
      "WARNING:fabio.TiffIO:Data at tag id '65000' is smaller than expected\n",
      "WARNING:fabio.TiffIO:Data at tag id '65000' is smaller than expected\n"
     ]
    },
    {
     "name": "stdout",
     "output_type": "stream",
     "text": [
      "LR_AcidPEDOTPSS_as_pos2_2500.00eV_ai0.80_wa0_bpm13.309_id21722_000000_WAXS.tif\n"
     ]
    },
    {
     "name": "stderr",
     "output_type": "stream",
     "text": [
      "WARNING:fabio.TiffIO:Data at tag id '65000' is smaller than expected\n",
      "WARNING:fabio.TiffIO:Data at tag id '65000' is smaller than expected\n",
      "WARNING:fabio.TiffIO:Data at tag id '65000' is smaller than expected\n",
      "WARNING:fabio.TiffIO:Data at tag id '65000' is smaller than expected\n",
      "WARNING:fabio.TiffIO:Data at tag id '65000' is smaller than expected\n",
      "WARNING:fabio.TiffIO:Data at tag id '65000' is smaller than expected\n"
     ]
    },
    {
     "name": "stdout",
     "output_type": "stream",
     "text": [
      "LR_AcidPEDOTPSS_dedope_n0p6_pos1_2510.00eV_ai0.80_wa0_bpm110.329_id22057_000000_WAXS.tif\n"
     ]
    },
    {
     "name": "stderr",
     "output_type": "stream",
     "text": [
      "WARNING:fabio.TiffIO:Data at tag id '65000' is smaller than expected\n",
      "WARNING:fabio.TiffIO:Data at tag id '65000' is smaller than expected\n",
      "WARNING:fabio.TiffIO:Data at tag id '65000' is smaller than expected\n",
      "WARNING:fabio.TiffIO:Data at tag id '65000' is smaller than expected\n",
      "WARNING:fabio.TiffIO:Data at tag id '65000' is smaller than expected\n",
      "WARNING:fabio.TiffIO:Data at tag id '65000' is smaller than expected\n"
     ]
    },
    {
     "name": "stdout",
     "output_type": "stream",
     "text": [
      "LR_RivnayFrit_P3MEEET_drop_pos1_2480.50eV_ai0.80_wa0_bpm109.303_id23405_000000_WAXS.tif\n"
     ]
    },
    {
     "name": "stderr",
     "output_type": "stream",
     "text": [
      "WARNING:fabio.TiffIO:Data at tag id '65000' is smaller than expected\n",
      "WARNING:fabio.TiffIO:Data at tag id '65000' is smaller than expected\n",
      "WARNING:fabio.TiffIO:Data at tag id '65000' is smaller than expected\n",
      "WARNING:fabio.TiffIO:Data at tag id '65000' is smaller than expected\n",
      "WARNING:fabio.TiffIO:Data at tag id '65000' is smaller than expected\n",
      "WARNING:fabio.TiffIO:Data at tag id '65000' is smaller than expected\n"
     ]
    },
    {
     "name": "stdout",
     "output_type": "stream",
     "text": [
      "LR_LiTFSI_PEDOTPSS_exposed_pos2_2476.50eV_ai0.80_wa0_bpm12.716_id23658_000000_WAXS.tif\n"
     ]
    },
    {
     "name": "stderr",
     "output_type": "stream",
     "text": [
      "WARNING:fabio.TiffIO:Data at tag id '65000' is smaller than expected\n",
      "WARNING:fabio.TiffIO:Data at tag id '65000' is smaller than expected\n",
      "WARNING:fabio.TiffIO:Data at tag id '65000' is smaller than expected\n",
      "WARNING:fabio.TiffIO:Data at tag id '65000' is smaller than expected\n"
     ]
    },
    {
     "name": "stdout",
     "output_type": "stream",
     "text": [
      "LR_StandardPEDOTPSS_as_pos2_2479.00eV_ai0.80_wa0_bpm12.752_id22749_000000_WAXS.tif\n"
     ]
    },
    {
     "name": "stderr",
     "output_type": "stream",
     "text": [
      "WARNING:fabio.TiffIO:Data at tag id '65000' is smaller than expected\n",
      "WARNING:fabio.TiffIO:Data at tag id '65000' is smaller than expected\n",
      "WARNING:fabio.TiffIO:Data at tag id '65000' is smaller than expected\n",
      "WARNING:fabio.TiffIO:Data at tag id '65000' is smaller than expected\n",
      "WARNING:fabio.TiffIO:Data at tag id '65000' is smaller than expected\n",
      "WARNING:fabio.TiffIO:Data at tag id '65000' is smaller than expected\n",
      "WARNING:fabio.TiffIO:Data at tag id '65000' is smaller than expected\n",
      "WARNING:fabio.TiffIO:Data at tag id '65000' is smaller than expected\n"
     ]
    },
    {
     "name": "stdout",
     "output_type": "stream",
     "text": [
      "LR_P3MEEMT23k115C_un_pos1_2500.00eV_ai0.80_wa0_bpm109.492_id23299_000000_WAXS.tif\n"
     ]
    },
    {
     "name": "stderr",
     "output_type": "stream",
     "text": [
      "WARNING:fabio.TiffIO:Data at tag id '65000' is smaller than expected\n",
      "WARNING:fabio.TiffIO:Data at tag id '65000' is smaller than expected\n",
      "WARNING:fabio.TiffIO:Data at tag id '65000' is smaller than expected\n",
      "WARNING:fabio.TiffIO:Data at tag id '65000' is smaller than expected\n",
      "WARNING:fabio.TiffIO:Data at tag id '65000' is smaller than expected\n",
      "WARNING:fabio.TiffIO:Data at tag id '65000' is smaller than expected\n"
     ]
    },
    {
     "name": "stdout",
     "output_type": "stream",
     "text": [
      "LR_AcidPEDOTPSS_as_pos2_2465.00eV_ai0.80_wa0_bpm12.743_id21743_000000_WAXS.tif\n"
     ]
    },
    {
     "name": "stderr",
     "output_type": "stream",
     "text": [
      "WARNING:fabio.TiffIO:Data at tag id '65000' is smaller than expected\n",
      "WARNING:fabio.TiffIO:Data at tag id '65000' is smaller than expected\n",
      "WARNING:fabio.TiffIO:Data at tag id '65000' is smaller than expected\n",
      "WARNING:fabio.TiffIO:Data at tag id '65000' is smaller than expected\n",
      "WARNING:fabio.TiffIO:Data at tag id '65000' is smaller than expected\n",
      "WARNING:fabio.TiffIO:Data at tag id '65000' is smaller than expected\n"
     ]
    },
    {
     "name": "stdout",
     "output_type": "stream",
     "text": [
      "LR_AcidPEDOTPSS_RbCl_pos1_2476.00eV_ai0.80_wa0_bpm109.990_id22492_000000_WAXS.tif\n"
     ]
    },
    {
     "name": "stderr",
     "output_type": "stream",
     "text": [
      "WARNING:fabio.TiffIO:Data at tag id '65000' is smaller than expected\n",
      "WARNING:fabio.TiffIO:Data at tag id '65000' is smaller than expected\n",
      "WARNING:fabio.TiffIO:Data at tag id '65000' is smaller than expected\n",
      "WARNING:fabio.TiffIO:Data at tag id '65000' is smaller than expected\n",
      "WARNING:fabio.TiffIO:Data at tag id '65000' is smaller than expected\n",
      "WARNING:fabio.TiffIO:Data at tag id '65000' is smaller than expected\n"
     ]
    },
    {
     "name": "stdout",
     "output_type": "stream",
     "text": [
      "LR_P3MEEMT23k115C_0p7_KTFSI_pos1_2475.50eV_ai0.80_wa0_bpm109.283_id23056_000000_WAXS.tif\n"
     ]
    },
    {
     "name": "stderr",
     "output_type": "stream",
     "text": [
      "WARNING:fabio.TiffIO:Data at tag id '65000' is smaller than expected\n",
      "WARNING:fabio.TiffIO:Data at tag id '65000' is smaller than expected\n",
      "WARNING:fabio.TiffIO:Data at tag id '65000' is smaller than expected\n",
      "WARNING:fabio.TiffIO:Data at tag id '65000' is smaller than expected\n",
      "WARNING:fabio.TiffIO:Data at tag id '65000' is smaller than expected\n",
      "WARNING:fabio.TiffIO:Data at tag id '65000' is smaller than expected\n"
     ]
    },
    {
     "name": "stdout",
     "output_type": "stream",
     "text": [
      "LR_AcidPEDOTPSS_exposed_pos1_2510.00eV_ai0.80_wa0_bpm110.605_id21831_000000_WAXS.tif\n"
     ]
    },
    {
     "name": "stderr",
     "output_type": "stream",
     "text": [
      "WARNING:fabio.TiffIO:Data at tag id '65000' is smaller than expected\n",
      "WARNING:fabio.TiffIO:Data at tag id '65000' is smaller than expected\n",
      "WARNING:fabio.TiffIO:Data at tag id '65000' is smaller than expected\n",
      "WARNING:fabio.TiffIO:Data at tag id '65000' is smaller than expected\n",
      "WARNING:fabio.TiffIO:Data at tag id '65000' is smaller than expected\n",
      "WARNING:fabio.TiffIO:Data at tag id '65000' is smaller than expected\n"
     ]
    },
    {
     "name": "stdout",
     "output_type": "stream",
     "text": [
      "LR_AcidPEDOTPSS_overdope_p0p6_pos2_2477.50eV_ai0.80_wa0_bpm12.725_id22187_000000_WAXS.tif\n"
     ]
    },
    {
     "name": "stderr",
     "output_type": "stream",
     "text": [
      "WARNING:fabio.TiffIO:Data at tag id '65000' is smaller than expected\n",
      "WARNING:fabio.TiffIO:Data at tag id '65000' is smaller than expected\n",
      "WARNING:fabio.TiffIO:Data at tag id '65000' is smaller than expected\n",
      "WARNING:fabio.TiffIO:Data at tag id '65000' is smaller than expected\n",
      "WARNING:fabio.TiffIO:Data at tag id '65000' is smaller than expected\n",
      "WARNING:fabio.TiffIO:Data at tag id '65000' is smaller than expected\n"
     ]
    },
    {
     "name": "stdout",
     "output_type": "stream",
     "text": [
      "LR_AcidPEDOTPSS_NaBr_pos1_2475.00eV_ai0.80_wa0_bpm109.912_id22377_000000_WAXS.tif\n"
     ]
    },
    {
     "name": "stderr",
     "output_type": "stream",
     "text": [
      "WARNING:fabio.TiffIO:Data at tag id '65000' is smaller than expected\n",
      "WARNING:fabio.TiffIO:Data at tag id '65000' is smaller than expected\n",
      "WARNING:fabio.TiffIO:Data at tag id '65000' is smaller than expected\n",
      "WARNING:fabio.TiffIO:Data at tag id '65000' is smaller than expected\n",
      "WARNING:fabio.TiffIO:Data at tag id '65000' is smaller than expected\n",
      "WARNING:fabio.TiffIO:Data at tag id '65000' is smaller than expected\n"
     ]
    },
    {
     "name": "stdout",
     "output_type": "stream",
     "text": [
      "LR_RivnayFrit_P3MEEET_drop_pos1_2450.00eV_ai0.80_wa0_bpm111.299_id23388_000000_WAXS.tif\n"
     ]
    },
    {
     "name": "stderr",
     "output_type": "stream",
     "text": [
      "WARNING:fabio.TiffIO:Data at tag id '65000' is smaller than expected\n",
      "WARNING:fabio.TiffIO:Data at tag id '65000' is smaller than expected\n",
      "WARNING:fabio.TiffIO:Data at tag id '65000' is smaller than expected\n",
      "WARNING:fabio.TiffIO:Data at tag id '65000' is smaller than expected\n",
      "WARNING:fabio.TiffIO:Data at tag id '65000' is smaller than expected\n",
      "WARNING:fabio.TiffIO:Data at tag id '65000' is smaller than expected\n"
     ]
    },
    {
     "name": "stdout",
     "output_type": "stream",
     "text": [
      "LR_LiTFSI_PEDOTPSS_overdoped_p0p6V_pos1_2473.00eV_ai0.80_wa0_bpm109.511_id24071_000000_WAXS.tif\n"
     ]
    },
    {
     "name": "stderr",
     "output_type": "stream",
     "text": [
      "WARNING:fabio.TiffIO:Data at tag id '65000' is smaller than expected\n",
      "WARNING:fabio.TiffIO:Data at tag id '65000' is smaller than expected\n",
      "WARNING:fabio.TiffIO:Data at tag id '65000' is smaller than expected\n"
     ]
    },
    {
     "name": "stdout",
     "output_type": "stream",
     "text": [
      "LR_LiTFSI_PEDOTPSS_as_pos2_2477.00eV_ai0.80_wa0_bpm12.680_id23544_000000_WAXS.tif\n"
     ]
    },
    {
     "name": "stderr",
     "output_type": "stream",
     "text": [
      "WARNING:fabio.TiffIO:Data at tag id '65000' is smaller than expected\n",
      "WARNING:fabio.TiffIO:Data at tag id '65000' is smaller than expected\n",
      "WARNING:fabio.TiffIO:Data at tag id '65000' is smaller than expected\n",
      "WARNING:fabio.TiffIO:Data at tag id '65000' is smaller than expected\n",
      "WARNING:fabio.TiffIO:Data at tag id '65000' is smaller than expected\n",
      "WARNING:fabio.TiffIO:Data at tag id '65000' is smaller than expected\n",
      "WARNING:fabio.TiffIO:Data at tag id '65000' is smaller than expected\n",
      "WARNING:fabio.TiffIO:Data at tag id '65000' is smaller than expected\n",
      "WARNING:fabio.TiffIO:Data at tag id '65000' is smaller than expected\n"
     ]
    },
    {
     "name": "stdout",
     "output_type": "stream",
     "text": [
      "LR_P3MEEMT23k115C_0p4_KTFSI_pos2_2480.50eV_ai0.80_wa0_bpm12.743_id23198_000000_WAXS.tif\n"
     ]
    },
    {
     "name": "stderr",
     "output_type": "stream",
     "text": [
      "WARNING:fabio.TiffIO:Data at tag id '65000' is smaller than expected\n",
      "WARNING:fabio.TiffIO:Data at tag id '65000' is smaller than expected\n",
      "WARNING:fabio.TiffIO:Data at tag id '65000' is smaller than expected\n",
      "WARNING:fabio.TiffIO:Data at tag id '65000' is smaller than expected\n",
      "WARNING:fabio.TiffIO:Data at tag id '65000' is smaller than expected\n",
      "WARNING:fabio.TiffIO:Data at tag id '65000' is smaller than expected\n"
     ]
    },
    {
     "name": "stdout",
     "output_type": "stream",
     "text": [
      "LR_AcidPEDOTPSS_overdope_p0p6_pos2_2455.00eV_ai0.80_wa0_bpm12.580_id22197_000000_WAXS.tif\n"
     ]
    },
    {
     "name": "stderr",
     "output_type": "stream",
     "text": [
      "WARNING:fabio.TiffIO:Data at tag id '65000' is smaller than expected\n",
      "WARNING:fabio.TiffIO:Data at tag id '65000' is smaller than expected\n",
      "WARNING:fabio.TiffIO:Data at tag id '65000' is smaller than expected\n",
      "WARNING:fabio.TiffIO:Data at tag id '65000' is smaller than expected\n",
      "WARNING:fabio.TiffIO:Data at tag id '65000' is smaller than expected\n",
      "WARNING:fabio.TiffIO:Data at tag id '65000' is smaller than expected\n"
     ]
    },
    {
     "name": "stdout",
     "output_type": "stream",
     "text": [
      "LR_LiTFSI_PEDOTPSS_overdoped_p0p6V_pos1_2480.50eV_ai0.80_wa0_bpm109.462_id24083_000000_WAXS.tif\n"
     ]
    },
    {
     "name": "stderr",
     "output_type": "stream",
     "text": [
      "WARNING:fabio.TiffIO:Data at tag id '65000' is smaller than expected\n",
      "WARNING:fabio.TiffIO:Data at tag id '65000' is smaller than expected\n",
      "WARNING:fabio.TiffIO:Data at tag id '65000' is smaller than expected\n",
      "WARNING:fabio.TiffIO:Data at tag id '65000' is smaller than expected\n",
      "WARNING:fabio.TiffIO:Data at tag id '65000' is smaller than expected\n",
      "WARNING:fabio.TiffIO:Data at tag id '65000' is smaller than expected\n"
     ]
    },
    {
     "name": "stdout",
     "output_type": "stream",
     "text": [
      "LR_AcidPEDOTPSS_RbCl_pos1_2479.00eV_ai0.80_wa0_bpm109.890_id22498_000000_WAXS.tif\n"
     ]
    },
    {
     "name": "stderr",
     "output_type": "stream",
     "text": [
      "WARNING:fabio.TiffIO:Data at tag id '65000' is smaller than expected\n",
      "WARNING:fabio.TiffIO:Data at tag id '65000' is smaller than expected\n",
      "WARNING:fabio.TiffIO:Data at tag id '65000' is smaller than expected\n",
      "WARNING:fabio.TiffIO:Data at tag id '65000' is smaller than expected\n",
      "WARNING:fabio.TiffIO:Data at tag id '65000' is smaller than expected\n",
      "WARNING:fabio.TiffIO:Data at tag id '65000' is smaller than expected\n"
     ]
    },
    {
     "name": "stdout",
     "output_type": "stream",
     "text": [
      "LR_LiTFSI_PEDOTPSS_exposed_pos1_2500.00eV_ai0.80_wa0_bpm109.592_id23638_000000_WAXS.tif\n"
     ]
    },
    {
     "name": "stderr",
     "output_type": "stream",
     "text": [
      "WARNING:fabio.TiffIO:Data at tag id '65000' is smaller than expected\n",
      "WARNING:fabio.TiffIO:Data at tag id '65000' is smaller than expected\n",
      "WARNING:fabio.TiffIO:Data at tag id '65000' is smaller than expected\n",
      "WARNING:fabio.TiffIO:Data at tag id '65000' is smaller than expected\n",
      "WARNING:fabio.TiffIO:Data at tag id '65000' is smaller than expected\n",
      "WARNING:fabio.TiffIO:Data at tag id '65000' is smaller than expected\n"
     ]
    },
    {
     "name": "stdout",
     "output_type": "stream",
     "text": [
      "LR_AcidPEDOTPSS_overdope_p0p6_pos1_2479.50eV_ai0.80_wa0_bpm110.281_id22160_000000_WAXS.tif\n"
     ]
    },
    {
     "name": "stderr",
     "output_type": "stream",
     "text": [
      "WARNING:fabio.TiffIO:Data at tag id '65000' is smaller than expected\n",
      "WARNING:fabio.TiffIO:Data at tag id '65000' is smaller than expected\n",
      "WARNING:fabio.TiffIO:Data at tag id '65000' is smaller than expected\n",
      "WARNING:fabio.TiffIO:Data at tag id '65000' is smaller than expected\n",
      "WARNING:fabio.TiffIO:Data at tag id '65000' is smaller than expected\n",
      "WARNING:fabio.TiffIO:Data at tag id '65000' is smaller than expected\n"
     ]
    },
    {
     "name": "stdout",
     "output_type": "stream",
     "text": [
      "LR_AcidPEDOTPSS_as_pos2_2485.00eV_ai0.80_wa0_bpm12.929_id21727_000000_WAXS.tif\n"
     ]
    },
    {
     "name": "stderr",
     "output_type": "stream",
     "text": [
      "WARNING:fabio.TiffIO:Data at tag id '65000' is smaller than expected\n",
      "WARNING:fabio.TiffIO:Data at tag id '65000' is smaller than expected\n",
      "WARNING:fabio.TiffIO:Data at tag id '65000' is smaller than expected\n",
      "WARNING:fabio.TiffIO:Data at tag id '65000' is smaller than expected\n",
      "WARNING:fabio.TiffIO:Data at tag id '65000' is smaller than expected\n",
      "WARNING:fabio.TiffIO:Data at tag id '65000' is smaller than expected\n"
     ]
    },
    {
     "name": "stdout",
     "output_type": "stream",
     "text": [
      "LR_AcidPEDOTPSS_overdope_p0p6_pos2_2510.00eV_ai0.80_wa0_bpm13.461_id22173_000000_WAXS.tif\n"
     ]
    },
    {
     "name": "stderr",
     "output_type": "stream",
     "text": [
      "WARNING:fabio.TiffIO:Data at tag id '65000' is smaller than expected\n",
      "WARNING:fabio.TiffIO:Data at tag id '65000' is smaller than expected\n",
      "WARNING:fabio.TiffIO:Data at tag id '65000' is smaller than expected\n",
      "WARNING:fabio.TiffIO:Data at tag id '65000' is smaller than expected\n",
      "WARNING:fabio.TiffIO:Data at tag id '65000' is smaller than expected\n",
      "WARNING:fabio.TiffIO:Data at tag id '65000' is smaller than expected\n"
     ]
    },
    {
     "name": "stdout",
     "output_type": "stream",
     "text": [
      "LR_AcidPEDOTPSS_dedope_n0p6_pos2_2487.50eV_ai0.80_wa0_bpm12.942_id22065_000000_WAXS.tif\n"
     ]
    },
    {
     "name": "stderr",
     "output_type": "stream",
     "text": [
      "WARNING:fabio.TiffIO:Data at tag id '65000' is smaller than expected\n",
      "WARNING:fabio.TiffIO:Data at tag id '65000' is smaller than expected\n",
      "WARNING:fabio.TiffIO:Data at tag id '65000' is smaller than expected\n",
      "WARNING:fabio.TiffIO:Data at tag id '65000' is smaller than expected\n",
      "WARNING:fabio.TiffIO:Data at tag id '65000' is smaller than expected\n",
      "WARNING:fabio.TiffIO:Data at tag id '65000' is smaller than expected\n"
     ]
    },
    {
     "name": "stdout",
     "output_type": "stream",
     "text": [
      "LR_AcidPEDOTPSS_0V_pos2_2495.00eV_ai0.80_wa0_bpm13.129_id21949_000000_WAXS.tif\n"
     ]
    },
    {
     "name": "stderr",
     "output_type": "stream",
     "text": [
      "WARNING:fabio.TiffIO:Data at tag id '65000' is smaller than expected\n",
      "WARNING:fabio.TiffIO:Data at tag id '65000' is smaller than expected\n",
      "WARNING:fabio.TiffIO:Data at tag id '65000' is smaller than expected\n",
      "WARNING:fabio.TiffIO:Data at tag id '65000' is smaller than expected\n",
      "WARNING:fabio.TiffIO:Data at tag id '65000' is smaller than expected\n",
      "WARNING:fabio.TiffIO:Data at tag id '65000' is smaller than expected\n"
     ]
    },
    {
     "name": "stdout",
     "output_type": "stream",
     "text": [
      "LR_AcidPEDOTPSS_0V_pos1_2477.00eV_ai0.80_wa0_bpm110.048_id21929_000000_WAXS.tif\n"
     ]
    },
    {
     "name": "stderr",
     "output_type": "stream",
     "text": [
      "WARNING:fabio.TiffIO:Data at tag id '65000' is smaller than expected\n",
      "WARNING:fabio.TiffIO:Data at tag id '65000' is smaller than expected\n",
      "WARNING:fabio.TiffIO:Data at tag id '65000' is smaller than expected\n",
      "WARNING:fabio.TiffIO:Data at tag id '65000' is smaller than expected\n",
      "WARNING:fabio.TiffIO:Data at tag id '65000' is smaller than expected\n",
      "WARNING:fabio.TiffIO:Data at tag id '65000' is smaller than expected\n"
     ]
    },
    {
     "name": "stdout",
     "output_type": "stream",
     "text": [
      "LR_LiTFSI_PEDOTPSS_dedoped_n0p6_pos1_2473.00eV_ai0.80_wa0_bpm109.325_id23845_000000_WAXS.tif\n"
     ]
    },
    {
     "name": "stderr",
     "output_type": "stream",
     "text": [
      "WARNING:fabio.TiffIO:Data at tag id '65000' is smaller than expected\n",
      "WARNING:fabio.TiffIO:Data at tag id '65000' is smaller than expected\n",
      "WARNING:fabio.TiffIO:Data at tag id '65000' is smaller than expected\n",
      "WARNING:fabio.TiffIO:Data at tag id '65000' is smaller than expected\n",
      "WARNING:fabio.TiffIO:Data at tag id '65000' is smaller than expected\n",
      "WARNING:fabio.TiffIO:Data at tag id '65000' is smaller than expected\n"
     ]
    },
    {
     "name": "stdout",
     "output_type": "stream",
     "text": [
      "LR_LiTFSI_PEDOTPSS_exposed_pos1_2475.00eV_ai0.80_wa0_bpm109.534_id23620_000000_WAXS.tif\n"
     ]
    },
    {
     "name": "stderr",
     "output_type": "stream",
     "text": [
      "WARNING:fabio.TiffIO:Data at tag id '65000' is smaller than expected\n",
      "WARNING:fabio.TiffIO:Data at tag id '65000' is smaller than expected\n",
      "WARNING:fabio.TiffIO:Data at tag id '65000' is smaller than expected\n",
      "WARNING:fabio.TiffIO:Data at tag id '65000' is smaller than expected\n",
      "WARNING:fabio.TiffIO:Data at tag id '65000' is smaller than expected\n",
      "WARNING:fabio.TiffIO:Data at tag id '65000' is smaller than expected\n"
     ]
    },
    {
     "name": "stdout",
     "output_type": "stream",
     "text": [
      "LR_StandardPEDOTPSS_RbBr_pos2_2460.00eV_ai0.80_wa0_bpm12.622_id22874_000000_WAXS.tif\n"
     ]
    },
    {
     "name": "stderr",
     "output_type": "stream",
     "text": [
      "WARNING:fabio.TiffIO:Data at tag id '65000' is smaller than expected\n",
      "WARNING:fabio.TiffIO:Data at tag id '65000' is smaller than expected\n",
      "WARNING:fabio.TiffIO:Data at tag id '65000' is smaller than expected\n",
      "WARNING:fabio.TiffIO:Data at tag id '65000' is smaller than expected\n",
      "WARNING:fabio.TiffIO:Data at tag id '65000' is smaller than expected\n",
      "WARNING:fabio.TiffIO:Data at tag id '65000' is smaller than expected\n"
     ]
    },
    {
     "name": "stdout",
     "output_type": "stream",
     "text": [
      "LR_LiTFSI_PEDOTPSS_RbBr_pos2_2473.00eV_ai0.80_wa0_bpm12.709_id24227_000000_WAXS.tif\n"
     ]
    },
    {
     "name": "stderr",
     "output_type": "stream",
     "text": [
      "WARNING:fabio.TiffIO:Data at tag id '65000' is smaller than expected\n",
      "WARNING:fabio.TiffIO:Data at tag id '65000' is smaller than expected\n",
      "WARNING:fabio.TiffIO:Data at tag id '65000' is smaller than expected\n",
      "WARNING:fabio.TiffIO:Data at tag id '65000' is smaller than expected\n",
      "WARNING:fabio.TiffIO:Data at tag id '65000' is smaller than expected\n",
      "WARNING:fabio.TiffIO:Data at tag id '65000' is smaller than expected\n"
     ]
    },
    {
     "name": "stdout",
     "output_type": "stream",
     "text": [
      "LR_AcidPEDOTPSS_RbBr_pos1_2492.50eV_ai0.80_wa0_bpm110.019_id22619_000000_WAXS.tif\n"
     ]
    },
    {
     "name": "stderr",
     "output_type": "stream",
     "text": [
      "WARNING:fabio.TiffIO:Data at tag id '65000' is smaller than expected\n",
      "WARNING:fabio.TiffIO:Data at tag id '65000' is smaller than expected\n",
      "WARNING:fabio.TiffIO:Data at tag id '65000' is smaller than expected\n",
      "WARNING:fabio.TiffIO:Data at tag id '65000' is smaller than expected\n",
      "WARNING:fabio.TiffIO:Data at tag id '65000' is smaller than expected\n",
      "WARNING:fabio.TiffIO:Data at tag id '65000' is smaller than expected\n"
     ]
    },
    {
     "name": "stdout",
     "output_type": "stream",
     "text": [
      "LR_LiTFSI_PEDOTPSS_0V_pos2_2476.00eV_ai0.80_wa0_bpm12.723_id23772_000000_WAXS.tif\n"
     ]
    },
    {
     "name": "stderr",
     "output_type": "stream",
     "text": [
      "WARNING:fabio.TiffIO:Data at tag id '65000' is smaller than expected\n",
      "WARNING:fabio.TiffIO:Data at tag id '65000' is smaller than expected\n",
      "WARNING:fabio.TiffIO:Data at tag id '65000' is smaller than expected\n",
      "WARNING:fabio.TiffIO:Data at tag id '65000' is smaller than expected\n",
      "WARNING:fabio.TiffIO:Data at tag id '65000' is smaller than expected\n",
      "WARNING:fabio.TiffIO:Data at tag id '65000' is smaller than expected\n"
     ]
    },
    {
     "name": "stdout",
     "output_type": "stream",
     "text": [
      "LR_LiTFSI_PEDOTPSS_exposed_pos2_2475.50eV_ai0.80_wa0_bpm12.729_id23660_000000_WAXS.tif\n"
     ]
    },
    {
     "name": "stderr",
     "output_type": "stream",
     "text": [
      "WARNING:fabio.TiffIO:Data at tag id '65000' is smaller than expected\n",
      "WARNING:fabio.TiffIO:Data at tag id '65000' is smaller than expected\n",
      "WARNING:fabio.TiffIO:Data at tag id '65000' is smaller than expected\n",
      "WARNING:fabio.TiffIO:Data at tag id '65000' is smaller than expected\n",
      "WARNING:fabio.TiffIO:Data at tag id '65000' is smaller than expected\n",
      "WARNING:fabio.TiffIO:Data at tag id '65000' is smaller than expected\n"
     ]
    },
    {
     "name": "stdout",
     "output_type": "stream",
     "text": [
      "LR_LiTFSI_PEDOTPSS_0V_pos1_2480.00eV_ai0.80_wa0_bpm109.783_id23743_000000_WAXS.tif\n"
     ]
    },
    {
     "name": "stderr",
     "output_type": "stream",
     "text": [
      "WARNING:fabio.TiffIO:Data at tag id '65000' is smaller than expected\n",
      "WARNING:fabio.TiffIO:Data at tag id '65000' is smaller than expected\n",
      "WARNING:fabio.TiffIO:Data at tag id '65000' is smaller than expected\n",
      "WARNING:fabio.TiffIO:Data at tag id '65000' is smaller than expected\n",
      "WARNING:fabio.TiffIO:Data at tag id '65000' is smaller than expected\n",
      "WARNING:fabio.TiffIO:Data at tag id '65000' is smaller than expected\n"
     ]
    },
    {
     "name": "stdout",
     "output_type": "stream",
     "text": [
      "LR_AcidPEDOTPSS_as_pos1_2455.00eV_ai0.80_wa0_bpm110.982_id21694_000000_WAXS.tif\n"
     ]
    },
    {
     "name": "stderr",
     "output_type": "stream",
     "text": [
      "WARNING:fabio.TiffIO:Data at tag id '65000' is smaller than expected\n",
      "WARNING:fabio.TiffIO:Data at tag id '65000' is smaller than expected\n",
      "WARNING:fabio.TiffIO:Data at tag id '65000' is smaller than expected\n",
      "WARNING:fabio.TiffIO:Data at tag id '65000' is smaller than expected\n",
      "WARNING:fabio.TiffIO:Data at tag id '65000' is smaller than expected\n",
      "WARNING:fabio.TiffIO:Data at tag id '65000' is smaller than expected\n"
     ]
    },
    {
     "name": "stdout",
     "output_type": "stream",
     "text": [
      "LR_AcidPEDOTPSS_overdope_p0p6_pos2_2492.50eV_ai0.80_wa0_bpm13.056_id22176_000000_WAXS.tif\n"
     ]
    },
    {
     "name": "stderr",
     "output_type": "stream",
     "text": [
      "WARNING:fabio.TiffIO:Data at tag id '65000' is smaller than expected\n",
      "WARNING:fabio.TiffIO:Data at tag id '65000' is smaller than expected\n",
      "WARNING:fabio.TiffIO:Data at tag id '65000' is smaller than expected\n",
      "WARNING:fabio.TiffIO:Data at tag id '65000' is smaller than expected\n",
      "WARNING:fabio.TiffIO:Data at tag id '65000' is smaller than expected\n",
      "WARNING:fabio.TiffIO:Data at tag id '65000' is smaller than expected\n"
     ]
    },
    {
     "name": "stdout",
     "output_type": "stream",
     "text": [
      "LR_P3MEEMT23k115C_0p7_KTFSI_pos1_2479.50eV_ai0.80_wa0_bpm109.627_id23064_000000_WAXS.tif\n"
     ]
    },
    {
     "name": "stderr",
     "output_type": "stream",
     "text": [
      "WARNING:fabio.TiffIO:Data at tag id '65000' is smaller than expected\n",
      "WARNING:fabio.TiffIO:Data at tag id '65000' is smaller than expected\n",
      "WARNING:fabio.TiffIO:Data at tag id '65000' is smaller than expected\n",
      "WARNING:fabio.TiffIO:Data at tag id '65000' is smaller than expected\n"
     ]
    },
    {
     "name": "stdout",
     "output_type": "stream",
     "text": [
      "LR_LiTFSI_PEDOTPSS_overdoped_p0p6V_pos2_2479.50eV_ai0.80_wa0_bpm12.793_id24104_000000_WAXS.tif\n"
     ]
    },
    {
     "name": "stderr",
     "output_type": "stream",
     "text": [
      "WARNING:fabio.TiffIO:Data at tag id '65000' is smaller than expected\n",
      "WARNING:fabio.TiffIO:Data at tag id '65000' is smaller than expected\n",
      "WARNING:fabio.TiffIO:Data at tag id '65000' is smaller than expected\n",
      "WARNING:fabio.TiffIO:Data at tag id '65000' is smaller than expected\n",
      "WARNING:fabio.TiffIO:Data at tag id '65000' is smaller than expected\n",
      "WARNING:fabio.TiffIO:Data at tag id '65000' is smaller than expected\n",
      "WARNING:fabio.TiffIO:Data at tag id '65000' is smaller than expected\n"
     ]
    },
    {
     "name": "stdout",
     "output_type": "stream",
     "text": [
      "LR_AcidPEDOTPSS_NaBr_pos1_2465.00eV_ai0.80_wa0_bpm110.398_id22374_000000_WAXS.tif\n"
     ]
    },
    {
     "name": "stderr",
     "output_type": "stream",
     "text": [
      "WARNING:fabio.TiffIO:Data at tag id '65000' is smaller than expected\n",
      "WARNING:fabio.TiffIO:Data at tag id '65000' is smaller than expected\n",
      "WARNING:fabio.TiffIO:Data at tag id '65000' is smaller than expected\n",
      "WARNING:fabio.TiffIO:Data at tag id '65000' is smaller than expected\n",
      "WARNING:fabio.TiffIO:Data at tag id '65000' is smaller than expected\n",
      "WARNING:fabio.TiffIO:Data at tag id '65000' is smaller than expected\n",
      "WARNING:fabio.TiffIO:Data at tag id '65000' is smaller than expected\n"
     ]
    },
    {
     "name": "stdout",
     "output_type": "stream",
     "text": [
      "LR_AcidPEDOTPSS_exposed_pos2_2500.00eV_ai0.80_wa0_bpm13.267_id21835_000000_WAXS.tif\n"
     ]
    },
    {
     "name": "stderr",
     "output_type": "stream",
     "text": [
      "WARNING:fabio.TiffIO:Data at tag id '65000' is smaller than expected\n",
      "WARNING:fabio.TiffIO:Data at tag id '65000' is smaller than expected\n",
      "WARNING:fabio.TiffIO:Data at tag id '65000' is smaller than expected\n",
      "WARNING:fabio.TiffIO:Data at tag id '65000' is smaller than expected\n",
      "WARNING:fabio.TiffIO:Data at tag id '65000' is smaller than expected\n",
      "WARNING:fabio.TiffIO:Data at tag id '65000' is smaller than expected\n"
     ]
    },
    {
     "name": "stdout",
     "output_type": "stream",
     "text": [
      "LR_LiTFSI_PEDOTPSS_dedoped_n0p6_pos1_2515.00eV_ai0.80_wa0_bpm110.090_id23866_000000_WAXS.tif\n"
     ]
    },
    {
     "name": "stderr",
     "output_type": "stream",
     "text": [
      "WARNING:fabio.TiffIO:Data at tag id '65000' is smaller than expected\n",
      "WARNING:fabio.TiffIO:Data at tag id '65000' is smaller than expected\n",
      "WARNING:fabio.TiffIO:Data at tag id '65000' is smaller than expected\n",
      "WARNING:fabio.TiffIO:Data at tag id '65000' is smaller than expected\n",
      "WARNING:fabio.TiffIO:Data at tag id '65000' is smaller than expected\n",
      "WARNING:fabio.TiffIO:Data at tag id '65000' is smaller than expected\n"
     ]
    },
    {
     "name": "stdout",
     "output_type": "stream",
     "text": [
      "LR_LiTFSI_PEDOTPSS_as_pos1_2478.00eV_ai0.80_wa0_bpm109.221_id23513_000000_WAXS.tif\n"
     ]
    },
    {
     "name": "stderr",
     "output_type": "stream",
     "text": [
      "WARNING:fabio.TiffIO:Data at tag id '65000' is smaller than expected\n",
      "WARNING:fabio.TiffIO:Data at tag id '65000' is smaller than expected\n",
      "WARNING:fabio.TiffIO:Data at tag id '65000' is smaller than expected\n",
      "WARNING:fabio.TiffIO:Data at tag id '65000' is smaller than expected\n"
     ]
    },
    {
     "name": "stdout",
     "output_type": "stream",
     "text": [
      "LR_AcidPEDOTPSS_exposed_pos1_2476.50eV_ai0.80_wa0_bpm110.074_id21815_000000_WAXS.tif\n"
     ]
    },
    {
     "name": "stderr",
     "output_type": "stream",
     "text": [
      "WARNING:fabio.TiffIO:Data at tag id '65000' is smaller than expected\n",
      "WARNING:fabio.TiffIO:Data at tag id '65000' is smaller than expected\n",
      "WARNING:fabio.TiffIO:Data at tag id '65000' is smaller than expected\n",
      "WARNING:fabio.TiffIO:Data at tag id '65000' is smaller than expected\n",
      "WARNING:fabio.TiffIO:Data at tag id '65000' is smaller than expected\n",
      "WARNING:fabio.TiffIO:Data at tag id '65000' is smaller than expected\n",
      "WARNING:fabio.TiffIO:Data at tag id '65000' is smaller than expected\n",
      "WARNING:fabio.TiffIO:Data at tag id '65000' is smaller than expected\n"
     ]
    },
    {
     "name": "stdout",
     "output_type": "stream",
     "text": [
      "LR_LiTFSI_PEDOTPSS_overdoped_p0p6V_pos1_2479.00eV_ai0.80_wa0_bpm109.255_id24080_000000_WAXS.tif\n"
     ]
    },
    {
     "name": "stderr",
     "output_type": "stream",
     "text": [
      "WARNING:fabio.TiffIO:Data at tag id '65000' is smaller than expected\n",
      "WARNING:fabio.TiffIO:Data at tag id '65000' is smaller than expected\n",
      "WARNING:fabio.TiffIO:Data at tag id '65000' is smaller than expected\n",
      "WARNING:fabio.TiffIO:Data at tag id '65000' is smaller than expected\n",
      "WARNING:fabio.TiffIO:Data at tag id '65000' is smaller than expected\n",
      "WARNING:fabio.TiffIO:Data at tag id '65000' is smaller than expected\n"
     ]
    },
    {
     "name": "stdout",
     "output_type": "stream",
     "text": [
      "LR_AcidPEDOTPSS_0V_pos1_2480.00eV_ai0.80_wa0_bpm109.718_id21935_000000_WAXS.tif\n"
     ]
    },
    {
     "name": "stderr",
     "output_type": "stream",
     "text": [
      "WARNING:fabio.TiffIO:Data at tag id '65000' is smaller than expected\n",
      "WARNING:fabio.TiffIO:Data at tag id '65000' is smaller than expected\n",
      "WARNING:fabio.TiffIO:Data at tag id '65000' is smaller than expected\n",
      "WARNING:fabio.TiffIO:Data at tag id '65000' is smaller than expected\n"
     ]
    },
    {
     "name": "stdout",
     "output_type": "stream",
     "text": [
      "LR_LiTFSI_PEDOTPSS_dedoped_n0p6_pos1_2450.00eV_ai0.80_wa0_bpm111.267_id23840_000000_WAXS.tif\n"
     ]
    },
    {
     "name": "stderr",
     "output_type": "stream",
     "text": [
      "WARNING:fabio.TiffIO:Data at tag id '65000' is smaller than expected\n",
      "WARNING:fabio.TiffIO:Data at tag id '65000' is smaller than expected\n",
      "WARNING:fabio.TiffIO:Data at tag id '65000' is smaller than expected\n",
      "WARNING:fabio.TiffIO:Data at tag id '65000' is smaller than expected\n",
      "WARNING:fabio.TiffIO:Data at tag id '65000' is smaller than expected\n",
      "WARNING:fabio.TiffIO:Data at tag id '65000' is smaller than expected\n",
      "WARNING:fabio.TiffIO:Data at tag id '65000' is smaller than expected\n",
      "WARNING:fabio.TiffIO:Data at tag id '65000' is smaller than expected\n"
     ]
    },
    {
     "name": "stdout",
     "output_type": "stream",
     "text": [
      "LR_P3MEEMT23k115C_0p4_KTFSI_pos1_2477.00eV_ai0.80_wa0_bpm109.299_id23172_000000_WAXS.tif\n"
     ]
    },
    {
     "name": "stderr",
     "output_type": "stream",
     "text": [
      "WARNING:fabio.TiffIO:Data at tag id '65000' is smaller than expected\n",
      "WARNING:fabio.TiffIO:Data at tag id '65000' is smaller than expected\n",
      "WARNING:fabio.TiffIO:Data at tag id '65000' is smaller than expected\n",
      "WARNING:fabio.TiffIO:Data at tag id '65000' is smaller than expected\n"
     ]
    },
    {
     "name": "stdout",
     "output_type": "stream",
     "text": [
      "LR_LiTFSI_PEDOTPSS_as_pos1_2477.50eV_ai0.80_wa0_bpm109.247_id23512_000000_WAXS.tif\n"
     ]
    },
    {
     "name": "stderr",
     "output_type": "stream",
     "text": [
      "WARNING:fabio.TiffIO:Data at tag id '65000' is smaller than expected\n",
      "WARNING:fabio.TiffIO:Data at tag id '65000' is smaller than expected\n",
      "WARNING:fabio.TiffIO:Data at tag id '65000' is smaller than expected\n",
      "WARNING:fabio.TiffIO:Data at tag id '65000' is smaller than expected\n",
      "WARNING:fabio.TiffIO:Data at tag id '65000' is smaller than expected\n",
      "WARNING:fabio.TiffIO:Data at tag id '65000' is smaller than expected\n",
      "WARNING:fabio.TiffIO:Data at tag id '65000' is smaller than expected\n",
      "WARNING:fabio.TiffIO:Data at tag id '65000' is smaller than expected\n"
     ]
    },
    {
     "name": "stdout",
     "output_type": "stream",
     "text": [
      "LR_LiTFSI_PEDOTPSS_overdoped_p0p6V_pos2_2490.00eV_ai0.80_wa0_bpm13.008_id24098_000000_WAXS.tif\n"
     ]
    },
    {
     "name": "stderr",
     "output_type": "stream",
     "text": [
      "WARNING:fabio.TiffIO:Data at tag id '65000' is smaller than expected\n",
      "WARNING:fabio.TiffIO:Data at tag id '65000' is smaller than expected\n",
      "WARNING:fabio.TiffIO:Data at tag id '65000' is smaller than expected\n",
      "WARNING:fabio.TiffIO:Data at tag id '65000' is smaller than expected\n",
      "WARNING:fabio.TiffIO:Data at tag id '65000' is smaller than expected\n",
      "WARNING:fabio.TiffIO:Data at tag id '65000' is smaller than expected\n"
     ]
    },
    {
     "name": "stdout",
     "output_type": "stream",
     "text": [
      "LR_RivnayFrit_P3MEEET_drop_pos2_2487.50eV_ai0.80_wa0_bpm12.867_id23421_000000_WAXS.tif\n"
     ]
    },
    {
     "name": "stderr",
     "output_type": "stream",
     "text": [
      "WARNING:fabio.TiffIO:Data at tag id '65000' is smaller than expected\n",
      "WARNING:fabio.TiffIO:Data at tag id '65000' is smaller than expected\n",
      "WARNING:fabio.TiffIO:Data at tag id '65000' is smaller than expected\n",
      "WARNING:fabio.TiffIO:Data at tag id '65000' is smaller than expected\n",
      "WARNING:fabio.TiffIO:Data at tag id '65000' is smaller than expected\n",
      "WARNING:fabio.TiffIO:Data at tag id '65000' is smaller than expected\n"
     ]
    },
    {
     "name": "stdout",
     "output_type": "stream",
     "text": [
      "LR_AcidPEDOTPSS_exposed_pos1_2515.00eV_ai0.80_wa0_bpm111.102_id21832_000000_WAXS.tif\n"
     ]
    },
    {
     "name": "stderr",
     "output_type": "stream",
     "text": [
      "WARNING:fabio.TiffIO:Data at tag id '65000' is smaller than expected\n",
      "WARNING:fabio.TiffIO:Data at tag id '65000' is smaller than expected\n",
      "WARNING:fabio.TiffIO:Data at tag id '65000' is smaller than expected\n",
      "WARNING:fabio.TiffIO:Data at tag id '65000' is smaller than expected\n",
      "WARNING:fabio.TiffIO:Data at tag id '65000' is smaller than expected\n",
      "WARNING:fabio.TiffIO:Data at tag id '65000' is smaller than expected\n"
     ]
    },
    {
     "name": "stdout",
     "output_type": "stream",
     "text": [
      "LR_AcidPEDOTPSS_RbBr_pos1_2460.00eV_ai0.80_wa0_bpm110.017_id22599_000000_WAXS.tif\n"
     ]
    },
    {
     "name": "stderr",
     "output_type": "stream",
     "text": [
      "WARNING:fabio.TiffIO:Data at tag id '65000' is smaller than expected\n",
      "WARNING:fabio.TiffIO:Data at tag id '65000' is smaller than expected\n",
      "WARNING:fabio.TiffIO:Data at tag id '65000' is smaller than expected\n",
      "WARNING:fabio.TiffIO:Data at tag id '65000' is smaller than expected\n",
      "WARNING:fabio.TiffIO:Data at tag id '65000' is smaller than expected\n",
      "WARNING:fabio.TiffIO:Data at tag id '65000' is smaller than expected\n"
     ]
    },
    {
     "name": "stdout",
     "output_type": "stream",
     "text": [
      "LR_StandardPEDOTPSS_as_pos1_2476.00eV_ai0.80_wa0_bpm109.762_id22718_000000_WAXS.tif\n"
     ]
    },
    {
     "name": "stderr",
     "output_type": "stream",
     "text": [
      "WARNING:fabio.TiffIO:Data at tag id '65000' is smaller than expected\n",
      "WARNING:fabio.TiffIO:Data at tag id '65000' is smaller than expected\n",
      "WARNING:fabio.TiffIO:Data at tag id '65000' is smaller than expected\n",
      "WARNING:fabio.TiffIO:Data at tag id '65000' is smaller than expected\n",
      "WARNING:fabio.TiffIO:Data at tag id '65000' is smaller than expected\n",
      "WARNING:fabio.TiffIO:Data at tag id '65000' is smaller than expected\n"
     ]
    },
    {
     "name": "stdout",
     "output_type": "stream",
     "text": [
      "LR_AcidPEDOTPSS_exposed_pos2_2492.50eV_ai0.80_wa0_bpm13.128_id21837_000000_WAXS.tif\n"
     ]
    },
    {
     "name": "stderr",
     "output_type": "stream",
     "text": [
      "WARNING:fabio.TiffIO:Data at tag id '65000' is smaller than expected\n",
      "WARNING:fabio.TiffIO:Data at tag id '65000' is smaller than expected\n",
      "WARNING:fabio.TiffIO:Data at tag id '65000' is smaller than expected\n",
      "WARNING:fabio.TiffIO:Data at tag id '65000' is smaller than expected\n",
      "WARNING:fabio.TiffIO:Data at tag id '65000' is smaller than expected\n",
      "WARNING:fabio.TiffIO:Data at tag id '65000' is smaller than expected\n"
     ]
    },
    {
     "name": "stdout",
     "output_type": "stream",
     "text": [
      "LR_LiTFSI_PEDOTPSS_redoped_0V_pos2_2510.00eV_ai0.80_wa0_bpm13.421_id23981_000000_WAXS.tif\n"
     ]
    },
    {
     "name": "stderr",
     "output_type": "stream",
     "text": [
      "WARNING:fabio.TiffIO:Data at tag id '65000' is smaller than expected\n",
      "WARNING:fabio.TiffIO:Data at tag id '65000' is smaller than expected\n",
      "WARNING:fabio.TiffIO:Data at tag id '65000' is smaller than expected\n",
      "WARNING:fabio.TiffIO:Data at tag id '65000' is smaller than expected\n",
      "WARNING:fabio.TiffIO:Data at tag id '65000' is smaller than expected\n",
      "WARNING:fabio.TiffIO:Data at tag id '65000' is smaller than expected\n"
     ]
    },
    {
     "name": "stdout",
     "output_type": "stream",
     "text": [
      "LR_AcidPEDOTPSS_RbCl_pos1_2460.00eV_ai0.80_wa0_bpm110.401_id22486_000000_WAXS.tif\n"
     ]
    },
    {
     "name": "stderr",
     "output_type": "stream",
     "text": [
      "WARNING:fabio.TiffIO:Data at tag id '65000' is smaller than expected\n",
      "WARNING:fabio.TiffIO:Data at tag id '65000' is smaller than expected\n",
      "WARNING:fabio.TiffIO:Data at tag id '65000' is smaller than expected\n",
      "WARNING:fabio.TiffIO:Data at tag id '65000' is smaller than expected\n",
      "WARNING:fabio.TiffIO:Data at tag id '65000' is smaller than expected\n"
     ]
    },
    {
     "name": "stdout",
     "output_type": "stream",
     "text": [
      "LR_LiTFSI_PEDOTPSS_RbBr_pos2_2478.00eV_ai0.80_wa0_bpm12.738_id24220_000000_WAXS.tif\n"
     ]
    },
    {
     "name": "stderr",
     "output_type": "stream",
     "text": [
      "WARNING:fabio.TiffIO:Data at tag id '65000' is smaller than expected\n",
      "WARNING:fabio.TiffIO:Data at tag id '65000' is smaller than expected\n",
      "WARNING:fabio.TiffIO:Data at tag id '65000' is smaller than expected\n",
      "WARNING:fabio.TiffIO:Data at tag id '65000' is smaller than expected\n",
      "WARNING:fabio.TiffIO:Data at tag id '65000' is smaller than expected\n",
      "WARNING:fabio.TiffIO:Data at tag id '65000' is smaller than expected\n",
      "WARNING:fabio.TiffIO:Data at tag id '65000' is smaller than expected\n"
     ]
    },
    {
     "name": "stdout",
     "output_type": "stream",
     "text": [
      "LR_RivnayFrit_P3MEEET_drop_pos2_2480.50eV_ai0.80_wa0_bpm12.726_id23424_000000_WAXS.tif\n"
     ]
    },
    {
     "name": "stderr",
     "output_type": "stream",
     "text": [
      "WARNING:fabio.TiffIO:Data at tag id '65000' is smaller than expected\n",
      "WARNING:fabio.TiffIO:Data at tag id '65000' is smaller than expected\n",
      "WARNING:fabio.TiffIO:Data at tag id '65000' is smaller than expected\n",
      "WARNING:fabio.TiffIO:Data at tag id '65000' is smaller than expected\n",
      "WARNING:fabio.TiffIO:Data at tag id '65000' is smaller than expected\n",
      "WARNING:fabio.TiffIO:Data at tag id '65000' is smaller than expected\n"
     ]
    },
    {
     "name": "stdout",
     "output_type": "stream",
     "text": [
      "LR_P3MEEMT23k115C_0p4_KTFSI_pos1_2455.00eV_ai0.80_wa0_bpm110.042_id23163_000000_WAXS.tif\n"
     ]
    },
    {
     "name": "stderr",
     "output_type": "stream",
     "text": [
      "WARNING:fabio.TiffIO:Data at tag id '65000' is smaller than expected\n",
      "WARNING:fabio.TiffIO:Data at tag id '65000' is smaller than expected\n",
      "WARNING:fabio.TiffIO:Data at tag id '65000' is smaller than expected\n",
      "WARNING:fabio.TiffIO:Data at tag id '65000' is smaller than expected\n",
      "WARNING:fabio.TiffIO:Data at tag id '65000' is smaller than expected\n",
      "WARNING:fabio.TiffIO:Data at tag id '65000' is smaller than expected\n"
     ]
    },
    {
     "name": "stdout",
     "output_type": "stream",
     "text": [
      "LR_P3MEEMT23k115C_0p7_KTFSI_pos2_2473.00eV_ai0.80_wa0_bpm12.670_id23097_000000_WAXS.tif\n"
     ]
    },
    {
     "name": "stderr",
     "output_type": "stream",
     "text": [
      "WARNING:fabio.TiffIO:Data at tag id '65000' is smaller than expected\n",
      "WARNING:fabio.TiffIO:Data at tag id '65000' is smaller than expected\n",
      "WARNING:fabio.TiffIO:Data at tag id '65000' is smaller than expected\n"
     ]
    },
    {
     "name": "stdout",
     "output_type": "stream",
     "text": [
      "LR_AcidPEDOTPSS_0V_pos2_2487.50eV_ai0.80_wa0_bpm12.905_id21952_000000_WAXS.tif\n"
     ]
    },
    {
     "name": "stderr",
     "output_type": "stream",
     "text": [
      "WARNING:fabio.TiffIO:Data at tag id '65000' is smaller than expected\n",
      "WARNING:fabio.TiffIO:Data at tag id '65000' is smaller than expected\n",
      "WARNING:fabio.TiffIO:Data at tag id '65000' is smaller than expected\n",
      "WARNING:fabio.TiffIO:Data at tag id '65000' is smaller than expected\n",
      "WARNING:fabio.TiffIO:Data at tag id '65000' is smaller than expected\n",
      "WARNING:fabio.TiffIO:Data at tag id '65000' is smaller than expected\n",
      "WARNING:fabio.TiffIO:Data at tag id '65000' is smaller than expected\n"
     ]
    },
    {
     "name": "stdout",
     "output_type": "stream",
     "text": [
      "LR_LiTFSI_PEDOTPSS_overdoped_p0p6V_pos1_2492.50eV_ai0.80_wa0_bpm109.473_id24088_000000_WAXS.tif\n"
     ]
    },
    {
     "name": "stderr",
     "output_type": "stream",
     "text": [
      "WARNING:fabio.TiffIO:Data at tag id '65000' is smaller than expected\n",
      "WARNING:fabio.TiffIO:Data at tag id '65000' is smaller than expected\n",
      "WARNING:fabio.TiffIO:Data at tag id '65000' is smaller than expected\n",
      "WARNING:fabio.TiffIO:Data at tag id '65000' is smaller than expected\n",
      "WARNING:fabio.TiffIO:Data at tag id '65000' is smaller than expected\n",
      "WARNING:fabio.TiffIO:Data at tag id '65000' is smaller than expected\n",
      "WARNING:fabio.TiffIO:Data at tag id '65000' is smaller than expected\n",
      "WARNING:fabio.TiffIO:Data at tag id '65000' is smaller than expected\n"
     ]
    },
    {
     "name": "stdout",
     "output_type": "stream",
     "text": [
      "LR_StandardPEDOTPSS_NaBr_pos1_2455.00eV_ai0.80_wa0_bpm110.479_id22937_000000_WAXS.tif\n"
     ]
    },
    {
     "name": "stderr",
     "output_type": "stream",
     "text": [
      "WARNING:fabio.TiffIO:Data at tag id '65000' is smaller than expected\n",
      "WARNING:fabio.TiffIO:Data at tag id '65000' is smaller than expected\n",
      "WARNING:fabio.TiffIO:Data at tag id '65000' is smaller than expected\n"
     ]
    },
    {
     "name": "stdout",
     "output_type": "stream",
     "text": [
      "LR_StandardPEDOTPSS_RbBr_pos1_2478.00eV_ai0.80_wa0_bpm109.247_id22835_000000_WAXS.tif\n"
     ]
    },
    {
     "name": "stderr",
     "output_type": "stream",
     "text": [
      "WARNING:fabio.TiffIO:Data at tag id '65000' is smaller than expected\n",
      "WARNING:fabio.TiffIO:Data at tag id '65000' is smaller than expected\n",
      "WARNING:fabio.TiffIO:Data at tag id '65000' is smaller than expected\n",
      "WARNING:fabio.TiffIO:Data at tag id '65000' is smaller than expected\n",
      "WARNING:fabio.TiffIO:Data at tag id '65000' is smaller than expected\n",
      "WARNING:fabio.TiffIO:Data at tag id '65000' is smaller than expected\n"
     ]
    },
    {
     "name": "stdout",
     "output_type": "stream",
     "text": [
      "LR_P3MEEMT23k115C_un_pos1_2478.50eV_ai0.80_wa0_bpm109.353_id23288_000000_WAXS.tif\n"
     ]
    },
    {
     "name": "stderr",
     "output_type": "stream",
     "text": [
      "WARNING:fabio.TiffIO:Data at tag id '65000' is smaller than expected\n",
      "WARNING:fabio.TiffIO:Data at tag id '65000' is smaller than expected\n",
      "WARNING:fabio.TiffIO:Data at tag id '65000' is smaller than expected\n",
      "WARNING:fabio.TiffIO:Data at tag id '65000' is smaller than expected\n",
      "WARNING:fabio.TiffIO:Data at tag id '65000' is smaller than expected\n",
      "WARNING:fabio.TiffIO:Data at tag id '65000' is smaller than expected\n",
      "WARNING:fabio.TiffIO:Data at tag id '65000' is smaller than expected\n",
      "WARNING:fabio.TiffIO:Data at tag id '65000' is smaller than expected\n",
      "WARNING:fabio.TiffIO:Data at tag id '65000' is smaller than expected\n"
     ]
    },
    {
     "name": "stdout",
     "output_type": "stream",
     "text": [
      "LR_P3MEEMT23k115C_0p4_KTFSI_pos1_2476.00eV_ai0.80_wa0_bpm109.656_id23170_000000_WAXS.tif\n"
     ]
    },
    {
     "name": "stderr",
     "output_type": "stream",
     "text": [
      "WARNING:fabio.TiffIO:Data at tag id '65000' is smaller than expected\n",
      "WARNING:fabio.TiffIO:Data at tag id '65000' is smaller than expected\n",
      "WARNING:fabio.TiffIO:Data at tag id '65000' is smaller than expected\n",
      "WARNING:fabio.TiffIO:Data at tag id '65000' is smaller than expected\n"
     ]
    },
    {
     "name": "stdout",
     "output_type": "stream",
     "text": [
      "LR_P3MEEMT23k115C_un_pos2_2510.00eV_ai0.80_wa0_bpm13.400_id23303_000000_WAXS.tif\n"
     ]
    },
    {
     "name": "stderr",
     "output_type": "stream",
     "text": [
      "WARNING:fabio.TiffIO:Data at tag id '65000' is smaller than expected\n",
      "WARNING:fabio.TiffIO:Data at tag id '65000' is smaller than expected\n",
      "WARNING:fabio.TiffIO:Data at tag id '65000' is smaller than expected\n",
      "WARNING:fabio.TiffIO:Data at tag id '65000' is smaller than expected\n",
      "WARNING:fabio.TiffIO:Data at tag id '65000' is smaller than expected\n",
      "WARNING:fabio.TiffIO:Data at tag id '65000' is smaller than expected\n",
      "WARNING:fabio.TiffIO:Data at tag id '65000' is smaller than expected\n",
      "WARNING:fabio.TiffIO:Data at tag id '65000' is smaller than expected\n"
     ]
    },
    {
     "name": "stdout",
     "output_type": "stream",
     "text": [
      "LR_AcidPEDOTPSS_dedope_n0p6_pos2_2476.50eV_ai0.80_wa0_bpm12.754_id22076_000000_WAXS.tif\n"
     ]
    },
    {
     "name": "stderr",
     "output_type": "stream",
     "text": [
      "WARNING:fabio.TiffIO:Data at tag id '65000' is smaller than expected\n",
      "WARNING:fabio.TiffIO:Data at tag id '65000' is smaller than expected\n",
      "WARNING:fabio.TiffIO:Data at tag id '65000' is smaller than expected\n",
      "WARNING:fabio.TiffIO:Data at tag id '65000' is smaller than expected\n",
      "WARNING:fabio.TiffIO:Data at tag id '65000' is smaller than expected\n",
      "WARNING:fabio.TiffIO:Data at tag id '65000' is smaller than expected\n"
     ]
    },
    {
     "name": "stdout",
     "output_type": "stream",
     "text": [
      "LR_LiTFSI_PEDOTPSS_redoped_0V_pos1_2470.00eV_ai0.80_wa0_bpm109.775_id23957_000000_WAXS.tif\n"
     ]
    },
    {
     "name": "stderr",
     "output_type": "stream",
     "text": [
      "WARNING:fabio.TiffIO:Data at tag id '65000' is smaller than expected\n",
      "WARNING:fabio.TiffIO:Data at tag id '65000' is smaller than expected\n",
      "WARNING:fabio.TiffIO:Data at tag id '65000' is smaller than expected\n",
      "WARNING:fabio.TiffIO:Data at tag id '65000' is smaller than expected\n",
      "WARNING:fabio.TiffIO:Data at tag id '65000' is smaller than expected\n",
      "WARNING:fabio.TiffIO:Data at tag id '65000' is smaller than expected\n"
     ]
    },
    {
     "name": "stdout",
     "output_type": "stream",
     "text": [
      "LR_AcidPEDOTPSS_as_pos1_2476.00eV_ai0.80_wa0_bpm109.956_id21701_000000_WAXS.tif\n"
     ]
    },
    {
     "name": "stderr",
     "output_type": "stream",
     "text": [
      "WARNING:fabio.TiffIO:Data at tag id '65000' is smaller than expected\n",
      "WARNING:fabio.TiffIO:Data at tag id '65000' is smaller than expected\n",
      "WARNING:fabio.TiffIO:Data at tag id '65000' is smaller than expected\n",
      "WARNING:fabio.TiffIO:Data at tag id '65000' is smaller than expected\n",
      "WARNING:fabio.TiffIO:Data at tag id '65000' is smaller than expected\n",
      "WARNING:fabio.TiffIO:Data at tag id '65000' is smaller than expected\n"
     ]
    },
    {
     "name": "stdout",
     "output_type": "stream",
     "text": [
      "LR_P3MEEMT23k115C_un_pos1_2473.00eV_ai0.80_wa0_bpm109.111_id23280_000000_WAXS.tif\n"
     ]
    },
    {
     "name": "stderr",
     "output_type": "stream",
     "text": [
      "WARNING:fabio.TiffIO:Data at tag id '65000' is smaller than expected\n",
      "WARNING:fabio.TiffIO:Data at tag id '65000' is smaller than expected\n",
      "WARNING:fabio.TiffIO:Data at tag id '65000' is smaller than expected\n",
      "WARNING:fabio.TiffIO:Data at tag id '65000' is smaller than expected\n",
      "WARNING:fabio.TiffIO:Data at tag id '65000' is smaller than expected\n",
      "WARNING:fabio.TiffIO:Data at tag id '65000' is smaller than expected\n"
     ]
    },
    {
     "name": "stdout",
     "output_type": "stream",
     "text": [
      "LR_StandardPEDOTPSS_RbBr_pos2_2476.50eV_ai0.80_wa0_bpm12.715_id22867_000000_WAXS.tif\n"
     ]
    },
    {
     "name": "stderr",
     "output_type": "stream",
     "text": [
      "WARNING:fabio.TiffIO:Data at tag id '65000' is smaller than expected\n"
     ]
    },
    {
     "name": "stdout",
     "output_type": "stream",
     "text": [
      "LR_AcidPEDOTPSS_0V_pos1_2515.00eV_ai0.80_wa0_bpm110.535_id21945_000000_WAXS.tif\n"
     ]
    },
    {
     "name": "stderr",
     "output_type": "stream",
     "text": [
      "WARNING:fabio.TiffIO:Data at tag id '65000' is smaller than expected\n",
      "WARNING:fabio.TiffIO:Data at tag id '65000' is smaller than expected\n",
      "WARNING:fabio.TiffIO:Data at tag id '65000' is smaller than expected\n",
      "WARNING:fabio.TiffIO:Data at tag id '65000' is smaller than expected\n",
      "WARNING:fabio.TiffIO:Data at tag id '65000' is smaller than expected\n",
      "WARNING:fabio.TiffIO:Data at tag id '65000' is smaller than expected\n",
      "WARNING:fabio.TiffIO:Data at tag id '65000' is smaller than expected\n",
      "WARNING:fabio.TiffIO:Data at tag id '65000' is smaller than expected\n",
      "WARNING:fabio.TiffIO:Data at tag id '65000' is smaller than expected\n",
      "WARNING:fabio.TiffIO:Data at tag id '65000' is smaller than expected\n",
      "WARNING:fabio.TiffIO:Data at tag id '65000' is smaller than expected\n"
     ]
    },
    {
     "name": "stdout",
     "output_type": "stream",
     "text": [
      "LR_P3MEEMT23k115C_0p7_KTFSI_pos1_2477.50eV_ai0.80_wa0_bpm109.222_id23060_000000_WAXS.tif\n"
     ]
    },
    {
     "name": "stderr",
     "output_type": "stream",
     "text": [
      "WARNING:fabio.TiffIO:Data at tag id '65000' is smaller than expected\n",
      "WARNING:fabio.TiffIO:Data at tag id '65000' is smaller than expected\n",
      "WARNING:fabio.TiffIO:Data at tag id '65000' is smaller than expected\n",
      "WARNING:fabio.TiffIO:Data at tag id '65000' is smaller than expected\n",
      "WARNING:fabio.TiffIO:Data at tag id '65000' is smaller than expected\n",
      "WARNING:fabio.TiffIO:Data at tag id '65000' is smaller than expected\n"
     ]
    },
    {
     "name": "stdout",
     "output_type": "stream",
     "text": [
      "LR_StandardPEDOTPSS_NaBr_pos1_2479.00eV_ai0.80_wa0_bpm109.515_id22950_000000_WAXS.tif\n"
     ]
    },
    {
     "name": "stderr",
     "output_type": "stream",
     "text": [
      "WARNING:fabio.TiffIO:Data at tag id '65000' is smaller than expected\n",
      "WARNING:fabio.TiffIO:Data at tag id '65000' is smaller than expected\n",
      "WARNING:fabio.TiffIO:Data at tag id '65000' is smaller than expected\n",
      "WARNING:fabio.TiffIO:Data at tag id '65000' is smaller than expected\n",
      "WARNING:fabio.TiffIO:Data at tag id '65000' is smaller than expected\n",
      "WARNING:fabio.TiffIO:Data at tag id '65000' is smaller than expected\n"
     ]
    },
    {
     "name": "stdout",
     "output_type": "stream",
     "text": [
      "LR_StandardPEDOTPSS_RbBr_pos1_2490.00eV_ai0.80_wa0_bpm109.461_id22844_000000_WAXS.tif\n"
     ]
    },
    {
     "name": "stderr",
     "output_type": "stream",
     "text": [
      "WARNING:fabio.TiffIO:Data at tag id '65000' is smaller than expected\n",
      "WARNING:fabio.TiffIO:Data at tag id '65000' is smaller than expected\n",
      "WARNING:fabio.TiffIO:Data at tag id '65000' is smaller than expected\n",
      "WARNING:fabio.TiffIO:Data at tag id '65000' is smaller than expected\n",
      "WARNING:fabio.TiffIO:Data at tag id '65000' is smaller than expected\n",
      "WARNING:fabio.TiffIO:Data at tag id '65000' is smaller than expected\n"
     ]
    },
    {
     "name": "stdout",
     "output_type": "stream",
     "text": [
      "LR_RivnayFrit_P3MEEET_drop_pos1_2480.00eV_ai0.80_wa0_bpm109.254_id23404_000000_WAXS.tif\n"
     ]
    },
    {
     "name": "stderr",
     "output_type": "stream",
     "text": [
      "WARNING:fabio.TiffIO:Data at tag id '65000' is smaller than expected\n",
      "WARNING:fabio.TiffIO:Data at tag id '65000' is smaller than expected\n",
      "WARNING:fabio.TiffIO:Data at tag id '65000' is smaller than expected\n",
      "WARNING:fabio.TiffIO:Data at tag id '65000' is smaller than expected\n",
      "WARNING:fabio.TiffIO:Data at tag id '65000' is smaller than expected\n",
      "WARNING:fabio.TiffIO:Data at tag id '65000' is smaller than expected\n"
     ]
    },
    {
     "name": "stdout",
     "output_type": "stream",
     "text": [
      "LR_P3MEEMT23k115C_0p4_KTFSI_pos1_2478.00eV_ai0.80_wa0_bpm109.658_id23174_000000_WAXS.tif\n"
     ]
    },
    {
     "name": "stderr",
     "output_type": "stream",
     "text": [
      "WARNING:fabio.TiffIO:Data at tag id '65000' is smaller than expected\n",
      "WARNING:fabio.TiffIO:Data at tag id '65000' is smaller than expected\n",
      "WARNING:fabio.TiffIO:Data at tag id '65000' is smaller than expected\n",
      "WARNING:fabio.TiffIO:Data at tag id '65000' is smaller than expected\n",
      "WARNING:fabio.TiffIO:Data at tag id '65000' is smaller than expected\n",
      "WARNING:fabio.TiffIO:Data at tag id '65000' is smaller than expected\n"
     ]
    },
    {
     "name": "stdout",
     "output_type": "stream",
     "text": [
      "LR_AcidPEDOTPSS_NaCl_pos1_2510.00eV_ai0.80_wa0_bpm110.506_id22283_000000_WAXS.tif\n"
     ]
    },
    {
     "name": "stderr",
     "output_type": "stream",
     "text": [
      "WARNING:fabio.TiffIO:Data at tag id '65000' is smaller than expected\n",
      "WARNING:fabio.TiffIO:Data at tag id '65000' is smaller than expected\n",
      "WARNING:fabio.TiffIO:Data at tag id '65000' is smaller than expected\n",
      "WARNING:fabio.TiffIO:Data at tag id '65000' is smaller than expected\n",
      "WARNING:fabio.TiffIO:Data at tag id '65000' is smaller than expected\n",
      "WARNING:fabio.TiffIO:Data at tag id '65000' is smaller than expected\n"
     ]
    },
    {
     "name": "stdout",
     "output_type": "stream",
     "text": [
      "LR_LiTFSI_PEDOTPSS_overdoped_p0p6V_pos1_2485.00eV_ai0.80_wa0_bpm109.540_id24085_000000_WAXS.tif\n"
     ]
    },
    {
     "name": "stderr",
     "output_type": "stream",
     "text": [
      "WARNING:fabio.TiffIO:Data at tag id '65000' is smaller than expected\n",
      "WARNING:fabio.TiffIO:Data at tag id '65000' is smaller than expected\n",
      "WARNING:fabio.TiffIO:Data at tag id '65000' is smaller than expected\n",
      "WARNING:fabio.TiffIO:Data at tag id '65000' is smaller than expected\n",
      "WARNING:fabio.TiffIO:Data at tag id '65000' is smaller than expected\n",
      "WARNING:fabio.TiffIO:Data at tag id '65000' is smaller than expected\n"
     ]
    },
    {
     "name": "stdout",
     "output_type": "stream",
     "text": [
      "LR_LiTFSI_PEDOTPSS_dedoped_n0p6_pos1_2480.00eV_ai0.80_wa0_bpm109.676_id23856_000000_WAXS.tif\n"
     ]
    },
    {
     "name": "stderr",
     "output_type": "stream",
     "text": [
      "WARNING:fabio.TiffIO:Data at tag id '65000' is smaller than expected\n",
      "WARNING:fabio.TiffIO:Data at tag id '65000' is smaller than expected\n",
      "WARNING:fabio.TiffIO:Data at tag id '65000' is smaller than expected\n",
      "WARNING:fabio.TiffIO:Data at tag id '65000' is smaller than expected\n"
     ]
    },
    {
     "name": "stdout",
     "output_type": "stream",
     "text": [
      "LR_AcidPEDOTPSS_NaBr_pos2_2492.50eV_ai0.80_wa0_bpm13.067_id22402_000000_WAXS.tif\n"
     ]
    },
    {
     "name": "stderr",
     "output_type": "stream",
     "text": [
      "WARNING:fabio.TiffIO:Data at tag id '65000' is smaller than expected\n",
      "WARNING:fabio.TiffIO:Data at tag id '65000' is smaller than expected\n",
      "WARNING:fabio.TiffIO:Data at tag id '65000' is smaller than expected\n",
      "WARNING:fabio.TiffIO:Data at tag id '65000' is smaller than expected\n",
      "WARNING:fabio.TiffIO:Data at tag id '65000' is smaller than expected\n",
      "WARNING:fabio.TiffIO:Data at tag id '65000' is smaller than expected\n",
      "WARNING:fabio.TiffIO:Data at tag id '65000' is smaller than expected\n",
      "WARNING:fabio.TiffIO:Data at tag id '65000' is smaller than expected\n"
     ]
    },
    {
     "name": "stdout",
     "output_type": "stream",
     "text": [
      "LR_P3MEEMT23k115C_un_pos2_2470.00eV_ai0.80_wa0_bpm12.591_id23324_000000_WAXS.tif\n"
     ]
    },
    {
     "name": "stderr",
     "output_type": "stream",
     "text": [
      "WARNING:fabio.TiffIO:Data at tag id '65000' is smaller than expected\n",
      "WARNING:fabio.TiffIO:Data at tag id '65000' is smaller than expected\n",
      "WARNING:fabio.TiffIO:Data at tag id '65000' is smaller than expected\n",
      "WARNING:fabio.TiffIO:Data at tag id '65000' is smaller than expected\n",
      "WARNING:fabio.TiffIO:Data at tag id '65000' is smaller than expected\n",
      "WARNING:fabio.TiffIO:Data at tag id '65000' is smaller than expected\n"
     ]
    },
    {
     "name": "stdout",
     "output_type": "stream",
     "text": [
      "LR_AcidPEDOTPSS_overdope_p0p6_pos2_2480.50eV_ai0.80_wa0_bpm12.780_id22181_000000_WAXS.tif\n"
     ]
    },
    {
     "name": "stderr",
     "output_type": "stream",
     "text": [
      "WARNING:fabio.TiffIO:Data at tag id '65000' is smaller than expected\n",
      "WARNING:fabio.TiffIO:Data at tag id '65000' is smaller than expected\n",
      "WARNING:fabio.TiffIO:Data at tag id '65000' is smaller than expected\n",
      "WARNING:fabio.TiffIO:Data at tag id '65000' is smaller than expected\n",
      "WARNING:fabio.TiffIO:Data at tag id '65000' is smaller than expected\n",
      "WARNING:fabio.TiffIO:Data at tag id '65000' is smaller than expected\n"
     ]
    },
    {
     "name": "stdout",
     "output_type": "stream",
     "text": [
      "LR_StandardPEDOTPSS_RbBr_pos2_2475.00eV_ai0.80_wa0_bpm12.726_id22870_000000_WAXS.tif\n"
     ]
    },
    {
     "name": "stderr",
     "output_type": "stream",
     "text": [
      "WARNING:fabio.TiffIO:Data at tag id '65000' is smaller than expected\n",
      "WARNING:fabio.TiffIO:Data at tag id '65000' is smaller than expected\n",
      "WARNING:fabio.TiffIO:Data at tag id '65000' is smaller than expected\n",
      "WARNING:fabio.TiffIO:Data at tag id '65000' is smaller than expected\n",
      "WARNING:fabio.TiffIO:Data at tag id '65000' is smaller than expected\n",
      "WARNING:fabio.TiffIO:Data at tag id '65000' is smaller than expected\n"
     ]
    },
    {
     "name": "stdout",
     "output_type": "stream",
     "text": [
      "LR_LiTFSI_PEDOTPSS_overdoped_p0p6V_pos2_2473.00eV_ai0.80_wa0_bpm12.722_id24114_000000_WAXS.tif\n"
     ]
    },
    {
     "name": "stderr",
     "output_type": "stream",
     "text": [
      "WARNING:fabio.TiffIO:Data at tag id '65000' is smaller than expected\n",
      "WARNING:fabio.TiffIO:Data at tag id '65000' is smaller than expected\n",
      "WARNING:fabio.TiffIO:Data at tag id '65000' is smaller than expected\n",
      "WARNING:fabio.TiffIO:Data at tag id '65000' is smaller than expected\n",
      "WARNING:fabio.TiffIO:Data at tag id '65000' is smaller than expected\n",
      "WARNING:fabio.TiffIO:Data at tag id '65000' is smaller than expected\n"
     ]
    },
    {
     "name": "stdout",
     "output_type": "stream",
     "text": [
      "LR_LiTFSI_PEDOTPSS_overdoped_p0p6V_pos2_2475.00eV_ai0.80_wa0_bpm12.727_id24113_000000_WAXS.tif\n"
     ]
    },
    {
     "name": "stderr",
     "output_type": "stream",
     "text": [
      "WARNING:fabio.TiffIO:Data at tag id '65000' is smaller than expected\n",
      "WARNING:fabio.TiffIO:Data at tag id '65000' is smaller than expected\n",
      "WARNING:fabio.TiffIO:Data at tag id '65000' is smaller than expected\n",
      "WARNING:fabio.TiffIO:Data at tag id '65000' is smaller than expected\n",
      "WARNING:fabio.TiffIO:Data at tag id '65000' is smaller than expected\n",
      "WARNING:fabio.TiffIO:Data at tag id '65000' is smaller than expected\n"
     ]
    },
    {
     "name": "stdout",
     "output_type": "stream",
     "text": [
      "LR_AcidPEDOTPSS_RbBr_pos2_2479.00eV_ai0.80_wa0_bpm12.722_id22636_000000_WAXS.tif\n"
     ]
    },
    {
     "name": "stderr",
     "output_type": "stream",
     "text": [
      "WARNING:fabio.TiffIO:Data at tag id '65000' is smaller than expected\n",
      "WARNING:fabio.TiffIO:Data at tag id '65000' is smaller than expected\n",
      "WARNING:fabio.TiffIO:Data at tag id '65000' is smaller than expected\n",
      "WARNING:fabio.TiffIO:Data at tag id '65000' is smaller than expected\n",
      "WARNING:fabio.TiffIO:Data at tag id '65000' is smaller than expected\n",
      "WARNING:fabio.TiffIO:Data at tag id '65000' is smaller than expected\n"
     ]
    },
    {
     "name": "stdout",
     "output_type": "stream",
     "text": [
      "LR_LiTFSI_PEDOTPSS_dedoped_n0p6_pos1_2455.00eV_ai0.80_wa0_bpm110.184_id23841_000000_WAXS.tif\n"
     ]
    },
    {
     "name": "stderr",
     "output_type": "stream",
     "text": [
      "WARNING:fabio.TiffIO:Data at tag id '65000' is smaller than expected\n",
      "WARNING:fabio.TiffIO:Data at tag id '65000' is smaller than expected\n",
      "WARNING:fabio.TiffIO:Data at tag id '65000' is smaller than expected\n",
      "WARNING:fabio.TiffIO:Data at tag id '65000' is smaller than expected\n",
      "WARNING:fabio.TiffIO:Data at tag id '65000' is smaller than expected\n",
      "WARNING:fabio.TiffIO:Data at tag id '65000' is smaller than expected\n"
     ]
    },
    {
     "name": "stdout",
     "output_type": "stream",
     "text": [
      "LR_LiTFSI_PEDOTPSS_overdoped_p0p6V_pos2_2478.00eV_ai0.80_wa0_bpm12.752_id24107_000000_WAXS.tif\n"
     ]
    },
    {
     "name": "stderr",
     "output_type": "stream",
     "text": [
      "WARNING:fabio.TiffIO:Data at tag id '65000' is smaller than expected\n"
     ]
    },
    {
     "name": "stdout",
     "output_type": "stream",
     "text": [
      "LR_AcidPEDOTPSS_exposed_pos2_2480.50eV_ai0.80_wa0_bpm12.850_id21842_000000_WAXS.tif\n"
     ]
    },
    {
     "name": "stderr",
     "output_type": "stream",
     "text": [
      "WARNING:fabio.TiffIO:Data at tag id '65000' is smaller than expected\n",
      "WARNING:fabio.TiffIO:Data at tag id '65000' is smaller than expected\n",
      "WARNING:fabio.TiffIO:Data at tag id '65000' is smaller than expected\n",
      "WARNING:fabio.TiffIO:Data at tag id '65000' is smaller than expected\n",
      "WARNING:fabio.TiffIO:Data at tag id '65000' is smaller than expected\n",
      "WARNING:fabio.TiffIO:Data at tag id '65000' is smaller than expected\n",
      "WARNING:fabio.TiffIO:Data at tag id '65000' is smaller than expected\n",
      "WARNING:fabio.TiffIO:Data at tag id '65000' is smaller than expected\n",
      "WARNING:fabio.TiffIO:Data at tag id '65000' is smaller than expected\n",
      "WARNING:fabio.TiffIO:Data at tag id '65000' is smaller than expected\n",
      "WARNING:fabio.TiffIO:Data at tag id '65000' is smaller than expected\n"
     ]
    },
    {
     "name": "stdout",
     "output_type": "stream",
     "text": [
      "LR_StandardPEDOTPSS_NaBr_pos2_2479.00eV_ai0.80_wa0_bpm12.719_id22975_000000_WAXS.tif\n"
     ]
    },
    {
     "name": "stderr",
     "output_type": "stream",
     "text": [
      "WARNING:fabio.TiffIO:Data at tag id '65000' is smaller than expected\n",
      "WARNING:fabio.TiffIO:Data at tag id '65000' is smaller than expected\n",
      "WARNING:fabio.TiffIO:Data at tag id '65000' is smaller than expected\n",
      "WARNING:fabio.TiffIO:Data at tag id '65000' is smaller than expected\n"
     ]
    },
    {
     "name": "stdout",
     "output_type": "stream",
     "text": [
      "LR_AcidPEDOTPSS_NaCl_pos1_2492.50eV_ai0.80_wa0_bpm110.397_id22280_000000_WAXS.tif\n"
     ]
    },
    {
     "name": "stderr",
     "output_type": "stream",
     "text": [
      "WARNING:fabio.TiffIO:Data at tag id '65000' is smaller than expected\n",
      "WARNING:fabio.TiffIO:Data at tag id '65000' is smaller than expected\n",
      "WARNING:fabio.TiffIO:Data at tag id '65000' is smaller than expected\n",
      "WARNING:fabio.TiffIO:Data at tag id '65000' is smaller than expected\n",
      "WARNING:fabio.TiffIO:Data at tag id '65000' is smaller than expected\n",
      "WARNING:fabio.TiffIO:Data at tag id '65000' is smaller than expected\n"
     ]
    },
    {
     "name": "stdout",
     "output_type": "stream",
     "text": [
      "LR_StandardPEDOTPSS_NaBr_pos2_2478.00eV_ai0.80_wa0_bpm12.674_id22977_000000_WAXS.tif\n"
     ]
    },
    {
     "name": "stderr",
     "output_type": "stream",
     "text": [
      "WARNING:fabio.TiffIO:Data at tag id '65000' is smaller than expected\n",
      "WARNING:fabio.TiffIO:Data at tag id '65000' is smaller than expected\n",
      "WARNING:fabio.TiffIO:Data at tag id '65000' is smaller than expected\n"
     ]
    },
    {
     "name": "stdout",
     "output_type": "stream",
     "text": [
      "LR_LiTFSI_PEDOTPSS_0V_pos1_2480.50eV_ai0.80_wa0_bpm109.889_id23744_000000_WAXS.tif\n"
     ]
    },
    {
     "name": "stderr",
     "output_type": "stream",
     "text": [
      "WARNING:fabio.TiffIO:Data at tag id '65000' is smaller than expected\n",
      "WARNING:fabio.TiffIO:Data at tag id '65000' is smaller than expected\n",
      "WARNING:fabio.TiffIO:Data at tag id '65000' is smaller than expected\n",
      "WARNING:fabio.TiffIO:Data at tag id '65000' is smaller than expected\n",
      "WARNING:fabio.TiffIO:Data at tag id '65000' is smaller than expected\n",
      "WARNING:fabio.TiffIO:Data at tag id '65000' is smaller than expected\n",
      "WARNING:fabio.TiffIO:Data at tag id '65000' is smaller than expected\n",
      "WARNING:fabio.TiffIO:Data at tag id '65000' is smaller than expected\n",
      "WARNING:fabio.TiffIO:Data at tag id '65000' is smaller than expected\n"
     ]
    },
    {
     "name": "stdout",
     "output_type": "stream",
     "text": [
      "LR_AcidPEDOTPSS_overdope_p0p6_pos2_2475.00eV_ai0.80_wa0_bpm12.719_id22192_000000_WAXS.tif\n"
     ]
    },
    {
     "name": "stderr",
     "output_type": "stream",
     "text": [
      "WARNING:fabio.TiffIO:Data at tag id '65000' is smaller than expected\n",
      "WARNING:fabio.TiffIO:Data at tag id '65000' is smaller than expected\n",
      "WARNING:fabio.TiffIO:Data at tag id '65000' is smaller than expected\n",
      "WARNING:fabio.TiffIO:Data at tag id '65000' is smaller than expected\n",
      "WARNING:fabio.TiffIO:Data at tag id '65000' is smaller than expected\n",
      "WARNING:fabio.TiffIO:Data at tag id '65000' is smaller than expected\n"
     ]
    },
    {
     "name": "stdout",
     "output_type": "stream",
     "text": [
      "LR_P3MEEMT23k115C_0p7_KTFSI_pos2_2479.00eV_ai0.80_wa0_bpm12.740_id23088_000000_WAXS.tif\n"
     ]
    },
    {
     "name": "stderr",
     "output_type": "stream",
     "text": [
      "WARNING:fabio.TiffIO:Data at tag id '65000' is smaller than expected\n",
      "WARNING:fabio.TiffIO:Data at tag id '65000' is smaller than expected\n",
      "WARNING:fabio.TiffIO:Data at tag id '65000' is smaller than expected\n",
      "WARNING:fabio.TiffIO:Data at tag id '65000' is smaller than expected\n",
      "WARNING:fabio.TiffIO:Data at tag id '65000' is smaller than expected\n",
      "WARNING:fabio.TiffIO:Data at tag id '65000' is smaller than expected\n",
      "WARNING:fabio.TiffIO:Data at tag id '65000' is smaller than expected\n",
      "WARNING:fabio.TiffIO:Data at tag id '65000' is smaller than expected\n"
     ]
    },
    {
     "name": "stdout",
     "output_type": "stream",
     "text": [
      "LR_LiTFSI_PEDOTPSS_0V_pos2_2485.00eV_ai0.80_wa0_bpm12.846_id23761_000000_WAXS.tif\n"
     ]
    },
    {
     "name": "stderr",
     "output_type": "stream",
     "text": [
      "WARNING:fabio.TiffIO:Data at tag id '65000' is smaller than expected\n",
      "WARNING:fabio.TiffIO:Data at tag id '65000' is smaller than expected\n",
      "WARNING:fabio.TiffIO:Data at tag id '65000' is smaller than expected\n",
      "WARNING:fabio.TiffIO:Data at tag id '65000' is smaller than expected\n",
      "WARNING:fabio.TiffIO:Data at tag id '65000' is smaller than expected\n",
      "WARNING:fabio.TiffIO:Data at tag id '65000' is smaller than expected\n"
     ]
    },
    {
     "name": "stdout",
     "output_type": "stream",
     "text": [
      "LR_AcidPEDOTPSS_NaBr_pos2_2475.50eV_ai0.80_wa0_bpm12.759_id22417_000000_WAXS.tif\n"
     ]
    },
    {
     "name": "stderr",
     "output_type": "stream",
     "text": [
      "WARNING:fabio.TiffIO:Data at tag id '65000' is smaller than expected\n",
      "WARNING:fabio.TiffIO:Data at tag id '65000' is smaller than expected\n",
      "WARNING:fabio.TiffIO:Data at tag id '65000' is smaller than expected\n",
      "WARNING:fabio.TiffIO:Data at tag id '65000' is smaller than expected\n",
      "WARNING:fabio.TiffIO:Data at tag id '65000' is smaller than expected\n",
      "WARNING:fabio.TiffIO:Data at tag id '65000' is smaller than expected\n"
     ]
    },
    {
     "name": "stdout",
     "output_type": "stream",
     "text": [
      "LR_AcidPEDOTPSS_exposed_pos2_2475.00eV_ai0.80_wa0_bpm12.755_id21853_000000_WAXS.tif\n"
     ]
    },
    {
     "name": "stderr",
     "output_type": "stream",
     "text": [
      "WARNING:fabio.TiffIO:Data at tag id '65000' is smaller than expected\n",
      "WARNING:fabio.TiffIO:Data at tag id '65000' is smaller than expected\n",
      "WARNING:fabio.TiffIO:Data at tag id '65000' is smaller than expected\n",
      "WARNING:fabio.TiffIO:Data at tag id '65000' is smaller than expected\n",
      "WARNING:fabio.TiffIO:Data at tag id '65000' is smaller than expected\n",
      "WARNING:fabio.TiffIO:Data at tag id '65000' is smaller than expected\n"
     ]
    },
    {
     "name": "stdout",
     "output_type": "stream",
     "text": [
      "LR_StandardPEDOTPSS_RbBr_pos2_2478.50eV_ai0.80_wa0_bpm12.746_id22863_000000_WAXS.tif\n"
     ]
    },
    {
     "name": "stderr",
     "output_type": "stream",
     "text": [
      "WARNING:fabio.TiffIO:Data at tag id '65000' is smaller than expected\n",
      "WARNING:fabio.TiffIO:Data at tag id '65000' is smaller than expected\n",
      "WARNING:fabio.TiffIO:Data at tag id '65000' is smaller than expected\n",
      "WARNING:fabio.TiffIO:Data at tag id '65000' is smaller than expected\n",
      "WARNING:fabio.TiffIO:Data at tag id '65000' is smaller than expected\n",
      "WARNING:fabio.TiffIO:Data at tag id '65000' is smaller than expected\n"
     ]
    },
    {
     "name": "stdout",
     "output_type": "stream",
     "text": [
      "LR_P3MEEMT23k115C_0p7_KTFSI_pos2_2487.50eV_ai0.80_wa0_bpm12.876_id23082_000000_WAXS.tif\n"
     ]
    },
    {
     "name": "stderr",
     "output_type": "stream",
     "text": [
      "WARNING:fabio.TiffIO:Data at tag id '65000' is smaller than expected\n",
      "WARNING:fabio.TiffIO:Data at tag id '65000' is smaller than expected\n",
      "WARNING:fabio.TiffIO:Data at tag id '65000' is smaller than expected\n",
      "WARNING:fabio.TiffIO:Data at tag id '65000' is smaller than expected\n",
      "WARNING:fabio.TiffIO:Data at tag id '65000' is smaller than expected\n",
      "WARNING:fabio.TiffIO:Data at tag id '65000' is smaller than expected\n"
     ]
    },
    {
     "name": "stdout",
     "output_type": "stream",
     "text": [
      "LR_LiTFSI_PEDOTPSS_dedoped_n0p6_pos2_2487.50eV_ai0.80_wa0_bpm12.883_id23873_000000_WAXS.tif\n"
     ]
    },
    {
     "name": "stderr",
     "output_type": "stream",
     "text": [
      "WARNING:fabio.TiffIO:Data at tag id '65000' is smaller than expected\n",
      "WARNING:fabio.TiffIO:Data at tag id '65000' is smaller than expected\n",
      "WARNING:fabio.TiffIO:Data at tag id '65000' is smaller than expected\n",
      "WARNING:fabio.TiffIO:Data at tag id '65000' is smaller than expected\n",
      "WARNING:fabio.TiffIO:Data at tag id '65000' is smaller than expected\n",
      "WARNING:fabio.TiffIO:Data at tag id '65000' is smaller than expected\n"
     ]
    },
    {
     "name": "stdout",
     "output_type": "stream",
     "text": [
      "LR_RivnayFrit_P3MEEET_drop_pos1_2478.50eV_ai0.80_wa0_bpm109.098_id23401_000000_WAXS.tif\n"
     ]
    },
    {
     "name": "stderr",
     "output_type": "stream",
     "text": [
      "WARNING:fabio.TiffIO:Data at tag id '65000' is smaller than expected\n",
      "WARNING:fabio.TiffIO:Data at tag id '65000' is smaller than expected\n",
      "WARNING:fabio.TiffIO:Data at tag id '65000' is smaller than expected\n",
      "WARNING:fabio.TiffIO:Data at tag id '65000' is smaller than expected\n",
      "WARNING:fabio.TiffIO:Data at tag id '65000' is smaller than expected\n",
      "WARNING:fabio.TiffIO:Data at tag id '65000' is smaller than expected\n"
     ]
    },
    {
     "name": "stdout",
     "output_type": "stream",
     "text": [
      "LR_AcidPEDOTPSS_NaBr_pos1_2475.50eV_ai0.80_wa0_bpm109.978_id22378_000000_WAXS.tif\n"
     ]
    },
    {
     "name": "stderr",
     "output_type": "stream",
     "text": [
      "WARNING:fabio.TiffIO:Data at tag id '65000' is smaller than expected\n",
      "WARNING:fabio.TiffIO:Data at tag id '65000' is smaller than expected\n",
      "WARNING:fabio.TiffIO:Data at tag id '65000' is smaller than expected\n",
      "WARNING:fabio.TiffIO:Data at tag id '65000' is smaller than expected\n",
      "WARNING:fabio.TiffIO:Data at tag id '65000' is smaller than expected\n",
      "WARNING:fabio.TiffIO:Data at tag id '65000' is smaller than expected\n"
     ]
    },
    {
     "name": "stdout",
     "output_type": "stream",
     "text": [
      "LR_AcidPEDOTPSS_NaCl_pos2_2455.00eV_ai0.80_wa0_bpm12.628_id22310_000000_WAXS.tif\n"
     ]
    },
    {
     "name": "stderr",
     "output_type": "stream",
     "text": [
      "WARNING:fabio.TiffIO:Data at tag id '65000' is smaller than expected\n",
      "WARNING:fabio.TiffIO:Data at tag id '65000' is smaller than expected\n",
      "WARNING:fabio.TiffIO:Data at tag id '65000' is smaller than expected\n",
      "WARNING:fabio.TiffIO:Data at tag id '65000' is smaller than expected\n",
      "WARNING:fabio.TiffIO:Data at tag id '65000' is smaller than expected\n",
      "WARNING:fabio.TiffIO:Data at tag id '65000' is smaller than expected\n"
     ]
    },
    {
     "name": "stdout",
     "output_type": "stream",
     "text": [
      "LR_AcidPEDOTPSS_overdope_p0p6_pos1_2492.50eV_ai0.80_wa0_bpm110.275_id22167_000000_WAXS.tif\n",
      "Done\n"
     ]
    }
   ],
   "source": [
    "#waxs\n",
    "flag_save = True\n",
    "\n",
    "for j, dat in enumerate(all_da):\n",
    "    print(dat[0])\n",
    "    if len(dat)==2 and 'Radint_ver_waxs_%s.txt'%(sam[j]) not in os.listdir(ResDir):\n",
    "        idx = dat[0].find('eV')\n",
    "        energy = 0.001 * float(dat[0][idx-7:idx])\n",
    "        wav = 1E-10 * (12.398/energy)\n",
    "           \n",
    "        waxs_angle = []\n",
    "        for da in dat:  \n",
    "            idx2 = da.find('wa')\n",
    "            idx3 = da.find('_bpm')\n",
    "            waxs_angle = waxs_angle + [np.deg2rad(float(da[idx2+2:idx3]))]\n",
    "            \n",
    "        alphai=np.deg2rad(0.8)\n",
    "            \n",
    "        SMI_waxs = SMI_beamline.SMI_geometry(geometry = geometry,\n",
    "                                             detector = 'Pilatus900kw',\n",
    "                                             sdd = sdd_waxs,\n",
    "                                             wav = wav,\n",
    "                                             alphai = alphai,\n",
    "                                             center = center_waxs,\n",
    "                                             bs_pos = bs_pos_waxs,\n",
    "                                             det_angles = waxs_angle,\n",
    "                                             bs_kind = None)\n",
    "\n",
    "        SMI_waxs.open_data(path, dat)\n",
    "\n",
    "        SMI_waxs.stitching_data(interp_factor=3)\n",
    "        \n",
    "\n",
    "#         plt.figure()\n",
    "#         plt.imshow(SMI_waxs.img_st,\n",
    "#                    extent=[SMI_waxs.qp[0], SMI_waxs.qp[-1], SMI_waxs.qz[0], SMI_waxs.qz[-1]], \n",
    "#                    vmin=0,\n",
    "#                    vmax=np.percentile(SMI_waxs.img_st, 97))    \n",
    "#         plt.title('waxs_%s'%sam[j])\n",
    "#         plt.xlabel('$q_{par}(A^{-1})$')\n",
    "#         plt.ylabel('$q_{ver}(A^{-1})$')\n",
    "#         plt.colorbar()\n",
    "#         plt.show()\n",
    "        \n",
    "        SMI_waxs.radial_averaging(radial_range = [0, 1.3], azimuth_range=[0, 90], npt = 2000)\n",
    "        q0, I0 = SMI_waxs.q_rad, SMI_waxs.I_rad\n",
    "\n",
    "        SMI_waxs.radial_averaging(radial_range = [0, 1.3], azimuth_range=[0, 30], npt = 2000)\n",
    "        q1, I1 = SMI_waxs.q_rad, SMI_waxs.I_rad\n",
    "\n",
    "        SMI_waxs.radial_averaging(radial_range = [0, 1.3], azimuth_range=[60, 90], npt=2000)\n",
    "        q2, I2 = SMI_waxs.q_rad, SMI_waxs.I_rad\n",
    "\n",
    "        if flag_save:\n",
    "#             #Save the plot as a png\n",
    "#             plt.savefig(os.path.join(ResDir, 'q_map_waxs_%s_pos%s.png'%(sam[j], sam1[j])))\n",
    "\n",
    "#             #Save the qx and qy as an 1D array\n",
    "#             np.savetxt(os.path.join(ResDir, 'qpar_waxs_%s_pos%s.txt'%(sam[j], sam1[j])), np.linspace(SMI_waxs.qp[0], SMI_waxs.qp[1], np.shape(SMI_waxs.img_st)[1]))\n",
    "#             np.savetxt(os.path.join(ResDir, 'qver_waxs_%s_pos%s.txt'%(sam[j], sam1[j])), np.linspace(SMI_waxs.qz[0], SMI_waxs.qz[1], np.shape(SMI_waxs.img_st)[0])) \n",
    "\n",
    "#             #Save the stitched image as a tiff\n",
    "#             fabio.tifimage.TifImage(np.nan_to_num(SMI_waxs.img_st).astype('int')).write(os.path.join(ResDir, 'q_map_waxs_%s_pos%s.tiff'%(sam[j], sam1[j]))) \n",
    "\n",
    "            #Save the sum image as a tiff\n",
    "            np.savetxt(os.path.join(ResDir, 'Radint_tot_waxs_%s.txt'%(sam[j])), np.vstack((q0, I0)).T)\n",
    "            np.savetxt(os.path.join(ResDir, 'Radint_ver_waxs_%s.txt'%(sam[j])), np.vstack((q1, I1)).T)\n",
    "            np.savetxt(os.path.join(ResDir, 'Radint_hor_waxs_%s.txt'%(sam[j])), np.vstack((q2, I2)).T)\n",
    "\n",
    "#         plt.close() \n",
    "print('Done')"
   ]
  },
  {
   "cell_type": "code",
   "execution_count": null,
   "metadata": {},
   "outputs": [],
   "source": [
    "float(dat[0][idx-7:idx])\n"
   ]
  },
  {
   "cell_type": "code",
   "execution_count": null,
   "metadata": {},
   "outputs": [],
   "source": [
    "dat[0]"
   ]
  },
  {
   "cell_type": "code",
   "execution_count": null,
   "metadata": {},
   "outputs": [],
   "source": []
  }
 ],
 "metadata": {
  "kernelspec": {
   "display_name": "Python 3",
   "language": "python",
   "name": "python3"
  },
  "language_info": {
   "codemirror_mode": {
    "name": "ipython",
    "version": 3
   },
   "file_extension": ".py",
   "mimetype": "text/x-python",
   "name": "python",
   "nbconvert_exporter": "python",
   "pygments_lexer": "ipython3",
   "version": "3.7.1"
  }
 },
 "nbformat": 4,
 "nbformat_minor": 2
}
