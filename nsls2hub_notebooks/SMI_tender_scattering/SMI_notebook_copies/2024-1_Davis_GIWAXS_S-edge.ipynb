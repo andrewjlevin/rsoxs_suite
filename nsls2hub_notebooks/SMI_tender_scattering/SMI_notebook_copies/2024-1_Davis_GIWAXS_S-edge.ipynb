{
 "cells": [
  {
   "cell_type": "markdown",
   "metadata": {},
   "source": [
    "# Template of a SMI jupyter notebook"
   ]
  },
  {
   "cell_type": "code",
   "execution_count": null,
   "metadata": {
    "tags": []
   },
   "outputs": [],
   "source": [
    "# These packages should all be installed if the procedure was followed\n",
    "%pylab nbagg\n",
    "\n",
    "import matplotlib.pyplot as plt\n",
    "\n",
    "from smi_analysis import SMI_beamline\n",
    "import numpy as np\n",
    "import fabio\n",
    "import os"
   ]
  },
  {
   "cell_type": "markdown",
   "metadata": {},
   "source": [
    "## Experimental configuration"
   ]
  },
  {
   "cell_type": "code",
   "execution_count": null,
   "metadata": {},
   "outputs": [],
   "source": [
    "geometry = 'Reflection'\n",
    "energy = 2.45\n",
    "wav = 1E-10 * (12.398/energy)\n",
    "bs_kind = None\n",
    "det_ini_angle = np.deg2rad(0)\n",
    "det_angle_step = np.deg2rad(6.5)\n",
    "incident_angle = np.deg2rad(0)\n",
    "\n",
    "#WAXS\n",
    "detector_waxs = 'Pilatus900kw'\n",
    "sdd_waxs = 277\n",
    "center_waxs = [95., 1256]\n",
    "bs_pos_waxs = [[97, 1070], [0, 0], [0, 0]]\n",
    "\n",
    "SMI_waxs = SMI_beamline.SMI_geometry(geometry = geometry,\n",
    "                                     detector = detector_waxs,\n",
    "                                     sdd = sdd_waxs,\n",
    "                                     wav = wav,\n",
    "                                     alphai = incident_angle,\n",
    "                                     center = center_waxs,\n",
    "                                     bs_pos = bs_pos_waxs,\n",
    "                                     det_ini_angle = det_ini_angle,\n",
    "                                     det_angle_step = det_angle_step,\n",
    "                                     bs_kind = bs_kind)"
   ]
  },
  {
   "cell_type": "markdown",
   "metadata": {},
   "source": [
    "## Locate the files on your computer"
   ]
  },
  {
   "cell_type": "code",
   "execution_count": null,
   "metadata": {
    "scrolled": true
   },
   "outputs": [],
   "source": [
    "CYCLE='2024_1'\n",
    "proposal_id =  '313064_Davis'\n",
    "\n",
    "path = '/nsls2/data/smi/legacy/results/data/%s/%s/900KW/'%(CYCLE, proposal_id)\n",
    "\n",
    "filelist=os.listdir(path)\n",
    "for file in filelist:\n",
    "    if 'test' not in file:\n",
    "        print(file)\n",
    "print(len(filelist))"
   ]
  },
  {
   "cell_type": "code",
   "execution_count": null,
   "metadata": {
    "scrolled": true
   },
   "outputs": [],
   "source": [
    "#waxs\n",
    "path = '/nsls2/data/smi/legacy/results/data/%s/%s/900KW/'%(CYCLE, proposal_id)\n",
    "ResDir = '/nsls2/data/smi/legacy/results/analysis/%s/%s/reduced_giwaxs/'%(CYCLE, proposal_id)\n",
    "\n",
    "\n",
    "sam = []\n",
    "for file in os.listdir(path):\n",
    "     if 'wa20' in file and 'test' not in file and 'num' not in file:\n",
    "        idx1 = file.find('wa20')\n",
    "        if file[:idx1] not in sam:\n",
    "            sam = sam + [file[:idx1]]\n",
    "\n",
    "print(sam)\n",
    "\n",
    "all_dat = [[]] * len(sam)\n",
    "all_da = [[]] * len(sam)\n",
    "    \n",
    "for j, sa in enumerate(sam): \n",
    "    for file in sorted(os.listdir(path)):\n",
    "        if sa in file and 'tif' in file and 'num' not in file:\n",
    "            all_dat[j] = all_dat[j] + [file]\n",
    "            \n",
    "print(all_dat[0])\n",
    "    \n",
    "for i, all_d in enumerate(all_dat):\n",
    "    for wa in ['wa0', 'wa20']:\n",
    "        for dat in all_d:\n",
    "            if wa in dat:\n",
    "                all_da[i] = all_da[i] + [dat]\n",
    "\n",
    "print(all_da[0])"
   ]
  },
  {
   "cell_type": "code",
   "execution_count": null,
   "metadata": {},
   "outputs": [],
   "source": [
    "len(all_da)/2"
   ]
  },
  {
   "cell_type": "code",
   "execution_count": null,
   "metadata": {},
   "outputs": [],
   "source": [
    "all_da"
   ]
  },
  {
   "cell_type": "markdown",
   "metadata": {},
   "source": [
    "## Data stitching and reduction (all this part is done using SMI_beamline package)"
   ]
  },
  {
   "cell_type": "code",
   "execution_count": null,
   "metadata": {},
   "outputs": [],
   "source": [
    "all_da[50]"
   ]
  },
  {
   "cell_type": "code",
   "execution_count": null,
   "metadata": {},
   "outputs": [],
   "source": [
    "#waxs\n",
    "flag_save = False\n",
    "\n",
    "for j, dat in enumerate([all_da[50]]):\n",
    "        idx = dat[0].find('eV')\n",
    "        energy = 0.001 * float(dat[0][idx-7:idx])\n",
    "        wav = 1E-10 * (12.398/energy)\n",
    "           \n",
    "        waxs_angle = []\n",
    "        for da in dat:  \n",
    "            idx2 = da.find('wa')\n",
    "            idx3 = da.find('_bpm')\n",
    "            waxs_angle = waxs_angle + [np.deg2rad(float(da[idx2+2:idx3]))]\n",
    "            \n",
    "        alphai=np.deg2rad(0.8)\n",
    "            \n",
    "        SMI_waxs = SMI_beamline.SMI_geometry(geometry = geometry,\n",
    "                                             detector = 'Pilatus900kw',\n",
    "                                             sdd = sdd_waxs,\n",
    "                                             wav = wav,\n",
    "                                             alphai = alphai,\n",
    "                                             center = center_waxs,\n",
    "                                             bs_pos = bs_pos_waxs,\n",
    "                                             det_angles = waxs_angle,\n",
    "                                             bs_kind = None)\n",
    "\n",
    "        SMI_waxs.open_data(path, dat)\n",
    "        \n",
    "#         plt.figure()\n",
    "#         for i, (img, mask) in enumerate(zip(SMI_waxs.imgs, SMI_waxs.masks)):\n",
    "#             SMI_waxs.imgs[i] = (SMI_waxs.imgs[i])\n",
    "#             plt.subplot(1, len(SMI_waxs.imgs), i+1)\n",
    "#             plt.imshow(SMI_waxs.imgs[i]*np.logical_not(mask), vmin = 0, vmax = np.percentile(SMI_waxs.imgs[0], 99))\n",
    "#         plt.show()\n",
    "\n",
    "        SMI_waxs.stitching_data(interp_factor=3)\n",
    "\n",
    "        plt.figure()\n",
    "        plt.imshow(SMI_waxs.img_st,\n",
    "                   extent=[SMI_waxs.qp[0], SMI_waxs.qp[-1], SMI_waxs.qz[0], SMI_waxs.qz[-1]], \n",
    "                   vmin=0,\n",
    "                   vmax=np.percentile(SMI_waxs.img_st, 99))    \n",
    "        plt.title('waxs_%s'%sam[j])\n",
    "        plt.xlabel('$q_{par}(A^{-1})$')\n",
    "        plt.ylabel('$q_{ver}(A^{-1})$')\n",
    "        plt.colorbar()\n",
    "        plt.show()\n",
    "\n",
    "        \n",
    "#         SMI_waxs.radial_averaging(radial_range = [0, 1.3], azimuth_range=[0, 90], npt = 2000)\n",
    "#         q0, I0 = SMI_waxs.q_rad, SMI_waxs.I_rad\n",
    "\n",
    "#         SMI_waxs.radial_averaging(radial_range = [0, 1.3], azimuth_range=[0, 30], npt = 2000)\n",
    "#         q1, I1 = SMI_waxs.q_rad, SMI_waxs.I_rad\n",
    "\n",
    "#         SMI_waxs.radial_averaging(radial_range = [0, 1.3], azimuth_range=[60, 90], npt=2000)\n",
    "#         q2, I2 = SMI_waxs.q_rad, SMI_waxs.I_rad\n",
    "\n",
    "#         plt.figure()\n",
    "#         plt.plot(q0, I0, linewidth = 3, color = 'k')\n",
    "#         plt.plot(q1, I1, linewidth = 3, color = 'g')\n",
    "#         plt.plot(q2, I2, linewidth = 3, color = 'r')\n",
    "# #         plt.xlim(0.004, 0.9)\n",
    "# #         plt.ylim(2E5, 2E9)\n",
    "\n",
    "#         plt.xscale('log')\n",
    "#         plt.yscale('log')\n",
    "#         plt.xlabel('q (A-1)', fontsize=12)\n",
    "#         plt.ylabel('Intensity (a. u)', fontsize=12)\n",
    "\n",
    "#         plt.show()\n",
    "\n",
    "print('Done')"
   ]
  },
  {
   "cell_type": "code",
   "execution_count": null,
   "metadata": {},
   "outputs": [],
   "source": [
    "#     if 'q_map_waxs_%s_pos%s.png'%(sam[j], sam1[j]) not in os.listdir(ResDir):"
   ]
  },
  {
   "cell_type": "code",
   "execution_count": null,
   "metadata": {
    "scrolled": true
   },
   "outputs": [],
   "source": [
    "#waxs\n",
    "flag_save = False\n",
    "\n",
    "for j, dat in enumerate(all_da):\n",
    "    print(dat[0])\n",
    "    if len(dat)==2 and 'Radint_ver_waxs_%s.txt'%(sam[j]) not in os.listdir(ResDir):\n",
    "        idx = dat[0].find('eV')\n",
    "        energy = 0.001 * float(dat[0][idx-7:idx])\n",
    "        wav = 1E-10 * (12.398/energy)\n",
    "           \n",
    "        waxs_angle = []\n",
    "        for da in dat:  \n",
    "            idx2 = da.find('wa')\n",
    "            idx3 = da.find('_bpm')\n",
    "            waxs_angle = waxs_angle + [np.deg2rad(float(da[idx2+2:idx3]))]\n",
    "            \n",
    "        alphai=np.deg2rad(0.8)\n",
    "            \n",
    "        SMI_waxs = SMI_beamline.SMI_geometry(geometry = geometry,\n",
    "                                             detector = 'Pilatus900kw',\n",
    "                                             sdd = sdd_waxs,\n",
    "                                             wav = wav,\n",
    "                                             alphai = alphai,\n",
    "                                             center = center_waxs,\n",
    "                                             bs_pos = bs_pos_waxs,\n",
    "                                             det_angles = waxs_angle,\n",
    "                                             bs_kind = None)\n",
    "\n",
    "        SMI_waxs.open_data(path, dat)\n",
    "\n",
    "        SMI_waxs.stitching_data(interp_factor=3)\n",
    "        \n",
    "\n",
    "#         plt.figure()\n",
    "#         plt.imshow(SMI_waxs.img_st,\n",
    "#                    extent=[SMI_waxs.qp[0], SMI_waxs.qp[-1], SMI_waxs.qz[0], SMI_waxs.qz[-1]], \n",
    "#                    vmin=0,\n",
    "#                    vmax=np.percentile(SMI_waxs.img_st, 97))    \n",
    "#         plt.title('waxs_%s'%sam[j])\n",
    "#         plt.xlabel('$q_{par}(A^{-1})$')\n",
    "#         plt.ylabel('$q_{ver}(A^{-1})$')\n",
    "#         plt.colorbar()\n",
    "#         plt.show()\n",
    "        \n",
    "        SMI_waxs.radial_averaging(radial_range = [0, 1.3], azimuth_range=[0, 90], npt = 2000)\n",
    "        q0, I0 = SMI_waxs.q_rad, SMI_waxs.I_rad\n",
    "\n",
    "        SMI_waxs.radial_averaging(radial_range = [0, 1.3], azimuth_range=[0, 30], npt = 2000)\n",
    "        q1, I1 = SMI_waxs.q_rad, SMI_waxs.I_rad\n",
    "\n",
    "        SMI_waxs.radial_averaging(radial_range = [0, 1.3], azimuth_range=[60, 90], npt=2000)\n",
    "        q2, I2 = SMI_waxs.q_rad, SMI_waxs.I_rad\n",
    "\n",
    "        if flag_save:\n",
    "#             #Save the plot as a png\n",
    "#             plt.savefig(os.path.join(ResDir, 'q_map_waxs_%s_pos%s.png'%(sam[j], sam1[j])))\n",
    "\n",
    "#             #Save the qx and qy as an 1D array\n",
    "#             np.savetxt(os.path.join(ResDir, 'qpar_waxs_%s_pos%s.txt'%(sam[j], sam1[j])), np.linspace(SMI_waxs.qp[0], SMI_waxs.qp[1], np.shape(SMI_waxs.img_st)[1]))\n",
    "#             np.savetxt(os.path.join(ResDir, 'qver_waxs_%s_pos%s.txt'%(sam[j], sam1[j])), np.linspace(SMI_waxs.qz[0], SMI_waxs.qz[1], np.shape(SMI_waxs.img_st)[0])) \n",
    "\n",
    "#             #Save the stitched image as a tiff\n",
    "#             fabio.tifimage.TifImage(np.nan_to_num(SMI_waxs.img_st).astype('int')).write(os.path.join(ResDir, 'q_map_waxs_%s_pos%s.tiff'%(sam[j], sam1[j]))) \n",
    "\n",
    "            #Save the sum image as a tiff\n",
    "            np.savetxt(os.path.join(ResDir, 'Radint_tot_waxs_%s.txt'%(sam[j])), np.vstack((q0, I0)).T)\n",
    "            np.savetxt(os.path.join(ResDir, 'Radint_ver_waxs_%s.txt'%(sam[j])), np.vstack((q1, I1)).T)\n",
    "            np.savetxt(os.path.join(ResDir, 'Radint_hor_waxs_%s.txt'%(sam[j])), np.vstack((q2, I2)).T)\n",
    "\n",
    "#         plt.close() \n",
    "print('Done')"
   ]
  },
  {
   "cell_type": "code",
   "execution_count": null,
   "metadata": {},
   "outputs": [],
   "source": [
    "float(dat[0][idx-7:idx])\n"
   ]
  },
  {
   "cell_type": "code",
   "execution_count": null,
   "metadata": {},
   "outputs": [],
   "source": [
    "dat[0]"
   ]
  },
  {
   "cell_type": "code",
   "execution_count": null,
   "metadata": {},
   "outputs": [],
   "source": []
  }
 ],
 "metadata": {
  "kernelspec": {
   "display_name": "Python 3 (ipykernel)",
   "language": "python",
   "name": "python3"
  },
  "language_info": {
   "codemirror_mode": {
    "name": "ipython",
    "version": 3
   },
   "file_extension": ".py",
   "mimetype": "text/x-python",
   "name": "python",
   "nbconvert_exporter": "python",
   "pygments_lexer": "ipython3",
   "version": "3.11.6"
  }
 },
 "nbformat": 4,
 "nbformat_minor": 4
}
