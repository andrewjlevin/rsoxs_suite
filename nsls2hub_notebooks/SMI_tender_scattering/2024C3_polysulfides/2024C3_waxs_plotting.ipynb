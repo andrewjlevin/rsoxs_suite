{
 "cells": [
  {
   "cell_type": "markdown",
   "id": "0",
   "metadata": {},
   "source": [
    "# 2024C3 SMI WAXS TReXS plotting notebook"
   ]
  },
  {
   "cell_type": "markdown",
   "id": "2",
   "metadata": {},
   "source": [
    "## Setup"
   ]
  },
  {
   "cell_type": "markdown",
   "id": "949adbdd-d0d5-4140-838d-b203334161ab",
   "metadata": {},
   "source": [
    "### Imports (ignore any warnings)"
   ]
  },
  {
   "cell_type": "code",
   "execution_count": null,
   "id": "3",
   "metadata": {
    "tags": []
   },
   "outputs": [],
   "source": [
    "import PyHyperScattering as phs\n",
    "import pathlib\n",
    "import numpy as np\n",
    "import matplotlib.pyplot as plt\n",
    "from matplotlib.ticker import (MultipleLocator, AutoMinorLocator)\n",
    "import xarray as xr\n",
    "from tqdm.auto import tqdm \n",
    "import subprocess\n",
    "import io\n",
    "import gc\n",
    "print(phs.__version__)"
   ]
  },
  {
   "cell_type": "markdown",
   "id": "5",
   "metadata": {
    "tags": []
   },
   "source": [
    "### Define paths & objects/functions"
   ]
  },
  {
   "cell_type": "code",
   "execution_count": null,
   "id": "6",
   "metadata": {
    "tags": []
   },
   "outputs": [],
   "source": [
    "# Define paths\n",
    "propPath = pathlib.Path('/nsls2/data/smi/proposals/2024-3/pass-316856')\n",
    "outPath = propPath.joinpath('processed_data')\n",
    "refsPath = outPath.joinpath('references')\n",
    "sampleZarrsPath1 = outPath.joinpath('zarrs/waxs_last_morning')\n",
    "sampleZarrsPath2 = outPath.joinpath('zarrs/waxs_polysulfide_solutions_zarrs_v1')\n",
    "sampleZarrsPath3 = outPath.joinpath('zarrs/waxs_Li2S8_static_solution_zarrs_v1')\n",
    "# print(sampleZarrsPath.exists())\n",
    "\n",
    "# Set a colormap for later\n",
    "cmap = plt.cm.turbo.copy()\n",
    "cmap.set_bad(cmap.get_under())"
   ]
  },
  {
   "cell_type": "markdown",
   "id": "9",
   "metadata": {},
   "source": [
    "### Rclone copy statement(s) for saving out data\n",
    "\n",
    "`rclone --dry-run copy -P /nsls2/data/smi/proposals/2024-3/pass-314903/processed_data/trexs_plots remote:research/data_analysis/rsoxs_suite/trexs_plots/2024C3 --exclude '*checkpoint*'`"
   ]
  },
  {
   "cell_type": "markdown",
   "id": "11",
   "metadata": {},
   "source": [
    "### Load whole dataset from zarr(s)"
   ]
  },
  {
   "cell_type": "code",
   "execution_count": null,
   "id": "17eb3a7d-14b7-4340-80b4-5893b93a66b2",
   "metadata": {
    "tags": []
   },
   "outputs": [],
   "source": [
    "sn = {\n",
    "    'Li2S_TEGDME_reredo': 'Li$_2$S TEGDME flow solution',\n",
    "    'TEGDME_neat': 'TEGDME flow solvent',\n",
    "    'Li2S8_static': 'Li$_2$S$_8$ TEGDME static solution',\n",
    "    'Li2S_powder_2': 'Li$_2$S powder'\n",
    "}"
   ]
  },
  {
   "cell_type": "code",
   "execution_count": null,
   "id": "dbe3f050-336c-479a-bb97-8a2197e5387f",
   "metadata": {},
   "outputs": [],
   "source": [
    "sample_zarrs = []\n",
    "for zarrPath in [sampleZarrsPath1, sampleZarrsPath2, sampleZarrsPath3]:\n",
    "    zarrs = sorted(zarrPath.glob('*'))\n",
    "    sample_zarrs += zarrs\n",
    "    \n",
    "[f.name for f in sample_zarrs]"
   ]
  },
  {
   "cell_type": "code",
   "execution_count": null,
   "id": "7668fe62-f4b0-4e2b-9732-214e4287403d",
   "metadata": {
    "tags": []
   },
   "outputs": [],
   "source": [
    "# Check zarr sample names\n",
    "unique_sample_names = sorted(set(['_'.join(f.name.split('_')[1:-1]) for f in sample_zarrs]))\n",
    "unique_sample_names"
   ]
  },
  {
   "cell_type": "code",
   "execution_count": null,
   "id": "ad5540a0-ef19-4d0b-8816-d9b1128c5e95",
   "metadata": {
    "tags": []
   },
   "outputs": [],
   "source": [
    "# Load each caked & recip zarr\n",
    "\n",
    "recip_DS_rows = []\n",
    "caked_DS_rows = []\n",
    "for sample_zarr in tqdm(sample_zarrs):\n",
    "    sample_name = '_'.join(sample_zarr.name.split('_')[1:-1])    \n",
    "    \n",
    "    if 'recip_' in sample_zarr.name:\n",
    "        recip_DS = xr.open_zarr(sample_zarr)\n",
    "        recip_DS_rows.append(recip_DS)\n",
    "    elif 'caked_' in sample_zarr.name:\n",
    "        caked_DS = xr.open_zarr(sample_zarr)\n",
    "        caked_DS_rows.append(caked_DS)\n",
    "    \n",
    "recip_DS = xr.concat(recip_DS_rows, 'sample_name')\n",
    "caked_DS = xr.concat(caked_DS_rows, 'sample_name')\n",
    "\n",
    "# Rechunk appropriately\n",
    "recip_DS = recip_DS.chunk({'sample_name':1, 'theta':1, 'pix_y': 1000, 'pix_x': 921, 'energy':63,})\n",
    "caked_DS = caked_DS.chunk({'sample_name':1, 'theta':1, 'index_y':500,'index_x':500,'energy':63})\n",
    "\n",
    "# Reassign caked dataset to use q and chi instead of indices\n",
    "caked_DS = caked_DS.swap_dims({'index_y':'chi'})\n",
    "\n",
    "q_r_coords = caked_DS.q_r.mean('energy')  # some weirdness around q for caked data, shouldn't change with energy but there are float changes\n",
    "caked_DS = caked_DS.assign_coords({'q':('index_x', q_r_coords.data)}).swap_dims({'index_x':'q'}).drop_vars('q_r')\n",
    "\n",
    "# Show loaded datasets:\n",
    "display(recip_DS)\n",
    "display(caked_DS)"
   ]
  },
  {
   "cell_type": "code",
   "execution_count": null,
   "id": "12",
   "metadata": {
    "tags": []
   },
   "outputs": [],
   "source": [
    "# # Check zarr sample names\n",
    "# unique_sample_names = sorted(set(['_'.join(f.name.split('_')[1:-1]) for f in sampleZarrsPath1.glob('*')]))\n",
    "# unique_sample_names"
   ]
  },
  {
   "cell_type": "code",
   "execution_count": null,
   "id": "14",
   "metadata": {
    "tags": []
   },
   "outputs": [],
   "source": [
    "# # Load each caked & recip zarr\n",
    "\n",
    "# recip_DS_rows = []\n",
    "# caked_DS_rows = []\n",
    "# for sample_name in tqdm(unique_sample_names):\n",
    "#     sample_zarrs = sorted(sampleZarrsPath1.glob(f'*{sample_name}*'))\n",
    "#     # display(sorted([f.name for f in sample_zarrs]))\n",
    "    \n",
    "#     samp_recip_DS_rows = []\n",
    "#     samp_caked_DS_rows = []\n",
    "#     for sample_zarr in sample_zarrs:\n",
    "#         if 'recip_' in sample_zarr.name:\n",
    "#             recip_DS = xr.open_zarr(sample_zarr)\n",
    "#             samp_recip_DS_rows.append(recip_DS)\n",
    "#         elif 'caked_' in sample_zarr.name:\n",
    "#             caked_DS = xr.open_zarr(sample_zarr)\n",
    "#             samp_caked_DS_rows.append(caked_DS)\n",
    "            \n",
    "#     recip_DS = xr.concat(samp_recip_DS_rows, 'theta')\n",
    "#     recip_DS_rows.append(recip_DS)\n",
    "    \n",
    "#     caked_DS = xr.concat(samp_caked_DS_rows, 'theta')\n",
    "#     caked_DS_rows.append(caked_DS)\n",
    "    \n",
    "# recip_DS = xr.concat(recip_DS_rows, 'sample_name')\n",
    "# caked_DS = xr.concat(caked_DS_rows, 'sample_name')\n",
    "\n",
    "# # Rechunk appropriately\n",
    "# recip_DS = recip_DS.chunk({'sample_name':1, 'theta':1, 'pix_y': 1000, 'pix_x': 921, 'energy':63,})\n",
    "# caked_DS = caked_DS.chunk({'sample_name':1, 'theta':1, 'index_y':500,'index_x':500,'energy':63})\n",
    "\n",
    "# # Reassign caked dataset to use q and chi instead of indices\n",
    "# caked_DS = caked_DS.swap_dims({'index_y':'chi'})\n",
    "\n",
    "# q_r_coords = caked_DS.q_r.mean('energy')  # some weirdness around q for caked data, shouldn't change with energy but there are float changes\n",
    "# caked_DS = caked_DS.assign_coords({'q':('index_x', q_r_coords.data)}).swap_dims({'index_x':'q'}).drop_vars('q_r')\n",
    "\n",
    "# # Show loaded datasets:\n",
    "# display(recip_DS)\n",
    "# display(caked_DS)"
   ]
  },
  {
   "cell_type": "markdown",
   "id": "fd690b3e-482a-4219-a430-508bcaf049a2",
   "metadata": {},
   "source": [
    "### Load pindiode data for intenisty normalization (flux changes with energy)"
   ]
  },
  {
   "cell_type": "code",
   "execution_count": null,
   "id": "942c0c60-bdc4-4ccd-84be-23a993bb8ce2",
   "metadata": {
    "tags": []
   },
   "outputs": [],
   "source": [
    "diode_data = np.loadtxt(refsPath.joinpath('energy_bpm3s_bpm2s_pds_diode_refs.txt'))\n",
    "print(diode_data.shape)\n",
    "\n",
    "# %matplotlib inline\n",
    "# plt.close('all')\n",
    "# plt.plot(diode_data[:,0], diode_data[:,1]/diode_data[:,1].max(), label='bpm3s')\n",
    "# plt.plot(diode_data[:,0], diode_data[:,2]/diode_data[:,2].max(), label='bpm2s')\n",
    "# plt.plot(diode_data[:,0], diode_data[:,3]/diode_data[:,3].max(), label='pds')\n",
    "# plt.legend()\n",
    "# plt.show()"
   ]
  },
  {
   "cell_type": "code",
   "execution_count": null,
   "id": "a63a27a9-7bed-4461-8b4a-8666155f36ff",
   "metadata": {
    "tags": []
   },
   "outputs": [],
   "source": [
    "# Put into an Xarray dataset for quick interpolation to match loaded data energies\n",
    "diode_DS = xr.Dataset()\n",
    "for i, diode_name in enumerate(['bpm3s', 'bpm2s', 'pds']):\n",
    "    diode_DS[diode_name] = xr.DataArray(data=diode_data[:,i+1],\n",
    "                                        coords={'energy':diode_data[:,0]*1000},\n",
    "                                        dims='energy')\n",
    "    \n",
    "# Interpolate energies to match loaded data energies\n",
    "diode_DS = diode_DS.interp({'energy':recip_DS.energy.values})\n",
    "\n",
    "diode_DS"
   ]
  },
  {
   "cell_type": "markdown",
   "id": "5d92a5e0-e1ca-481e-8592-5275620ae6f0",
   "metadata": {},
   "source": [
    "### Apply -3 eV (SMI) energy shift to diode and recip/caked datasets:"
   ]
  },
  {
   "cell_type": "code",
   "execution_count": null,
   "id": "18fc9b7e-89ed-48aa-a9bc-d9e10fb9b782",
   "metadata": {
    "tags": []
   },
   "outputs": [],
   "source": [
    "# Apply -3 eV (SMI) energy shift to diode and recip/caked datasets:\n",
    "\n",
    "diode_DS['energy'] = diode_DS.energy-3  # Shift 3 lower energy (SMI offset)\n",
    "recip_DS['energy'] = recip_DS.energy-3  # Shift 3 lower energy (SMI offset)\n",
    "caked_DS['energy'] = caked_DS.energy-3  # Shift 3 lower energy (SMI offset)"
   ]
  },
  {
   "cell_type": "markdown",
   "id": "bf9d93a3-02f6-461f-9975-ea68dad46361",
   "metadata": {},
   "source": [
    "## Cartesian plots"
   ]
  },
  {
   "cell_type": "markdown",
   "id": "21",
   "metadata": {
    "tags": []
   },
   "source": [
    "### 2D detector plots "
   ]
  },
  {
   "cell_type": "code",
   "execution_count": null,
   "id": "22",
   "metadata": {
    "tags": []
   },
   "outputs": [],
   "source": [
    "# Define, then check plotter function\n",
    "def plotter(DA, energy, cmin, cmax):\n",
    "    ax = DA.plot.imshow(figsize=(5.5,4.5), x='q_x', y='q_y', cmap=cmap, norm=plt.Normalize(cmin,cmax))\n",
    "    # ax = DA.plot.imshow(origin='upper', figsize=(5.5,4.5), cmap=cmap, norm=plt.Normalize(cmin,cmax))\n",
    "    # ax.figure.suptitle(f'Photon Energy = {np.round(energy, 1)} eV', fontsize=14, y=0.96)\n",
    "    ax.figure.set_tight_layout(True)\n",
    "    ax.axes.set(aspect='equal', title=f'{sn[sample_name]}: Energy = {np.round(energy, 1)-3} eV', xlabel='Q$_x$ [Å$^{-1}$]', ylabel='Q$_y$ [Å$^{-1}$]')\n",
    "    # ax.axes.set(aspect='equal', title=f'{sn[sample_name]}: Energy = {np.round(energy, 1)-3} eV')\n",
    "    ax.colorbar.set_label('Intensity [arb. units]', rotation=270, labelpad=12)\n",
    "    \n",
    "    return ax"
   ]
  },
  {
   "cell_type": "code",
   "execution_count": null,
   "id": "7f37de1f-7ac3-441a-b035-c6bf7a1f5d94",
   "metadata": {
    "tags": []
   },
   "outputs": [],
   "source": [
    "%matplotlib inline\n",
    "plt.close('all')\n",
    "\n",
    "# Select Dataset\n",
    "DS = recip_DS\n",
    "\n",
    "# Select Plotting Parameters\n",
    "energy = 2490\n",
    "\n",
    "# Select DataArray\n",
    "for sample_name in tqdm(unique_sample_names):\n",
    "    for theta in [90]:\n",
    "        DA = DS.sel(sample_name=sample_name, theta=theta)['flatfield_corr']\n",
    "        # Plot\n",
    "        sliced_DA = DA.sel(energy=energy,method='nearest')\n",
    "        cmin = float(sliced_DA.compute().quantile(0.18))\n",
    "        cmax = float(sliced_DA.compute().quantile(0.996))\n",
    "        im = plotter(sliced_DA, energy, cmin, cmax)\n",
    "        \n",
    "        # savePath = outPath.joinpath('polysulfides_plots/flow_cell/waxs/recip_plots_v1')\n",
    "        savePath = outPath.joinpath('polysulfides_plots/static_cell/waxs/recip_plots_v1')\n",
    "        savePath.mkdir(exist_ok=True)\n",
    "        im.figure.savefig(savePath.joinpath(f'{sample_name}_energy{energy-3}eV.png'), dpi=120)\n",
    "    \n",
    "        plt.show()\n",
    "        # plt.close('all')"
   ]
  },
  {
   "cell_type": "markdown",
   "id": "1c40ffd3-6034-4a90-8de8-38a7b6a2931b",
   "metadata": {},
   "source": [
    "#### Set NEXAFS ROIs based on interactive detector plot(s)"
   ]
  },
  {
   "cell_type": "code",
   "execution_count": null,
   "id": "ec4254fe-0e91-4a2b-a7c1-821484968484",
   "metadata": {
    "tags": []
   },
   "outputs": [],
   "source": [
    "# # (pix_x_min, pix_x_max, pix_y_min, pix_y_max)\n",
    "# nf_rois_dict = {\n",
    "#     'ROI_1': (491, 555, 674, 710),\n",
    "#     'ROI_2': (233, 296, 495, 530),\n",
    "#     'ROI_3': (800, 860, 674, 710),\n",
    "#     'ROI_4': (387, 472, 150, 175),\n",
    "# }"
   ]
  },
  {
   "cell_type": "markdown",
   "id": "d690d800-63c6-43cb-96c0-3b17d5ad3ef7",
   "metadata": {
    "jp-MarkdownHeadingCollapsed": true,
    "tags": []
   },
   "source": [
    "#### Save detector energy mp4 movies"
   ]
  },
  {
   "cell_type": "code",
   "execution_count": null,
   "id": "24",
   "metadata": {
    "tags": []
   },
   "outputs": [],
   "source": [
    "def da_to_mp4(DA, dim, output_path, plotter, frame_rate=9, quality=17, cmin_quantile=0.1, cmax_quantile=0.99, clim_style='fixed'):\n",
    "    \"\"\"\n",
    "    Generate mp4 video of images along a specified dimension (e.g. energy, time). \n",
    "    Requires subprocess import. \n",
    "    \n",
    "    Inputs:\n",
    "    DA (xr.DataArray): DataArray to generate mp4 from\n",
    "    dim (str): dimension to generate frames along\n",
    "    output_path (str or pathlib.Path): path to generated mp4 (includes mp4 filename)\n",
    "    plotter (function): wrap custom matplotlib plotting code for each frame into a function to be called for each frame\n",
    "    frame_rate (int, default=15): frame rate of mp4 generated\n",
    "    quality (int, default=17): 'crf' quality value; lower is better, 17 is often considered visually lossless\n",
    "    cmin_quantile (float, default=0.1): cmin quantile\n",
    "    cmax_quantile (float, default=0.99): cmax quantile\n",
    "    clim_style (str, default='fixed'): 'fixed' or 'by_frame', decide whether color limits should change with each frame or remain fixed based on whole dataset\n",
    "    \n",
    "    Outputs:\n",
    "    mp4 movie file where specified in output path\n",
    "    \"\"\"\n",
    "    if clim_style=='fixed':\n",
    "        cmin = float(DA.compute().quantile(cmin_quantile))\n",
    "        cmax = float(DA.compute().quantile(cmax_quantile))\n",
    "\n",
    "    # FFmpeg command. This is set up to accept data from the pipe and use it as input, with PNG format.\n",
    "    # It will then output an H.264 encoded MP4 video.\n",
    "    cmd = [\n",
    "        'ffmpeg',\n",
    "        '-y',  # Overwrite output file if it exists\n",
    "        '-f', 'image2pipe',\n",
    "        '-vcodec', 'png',\n",
    "        '-r', str(frame_rate),  # Frame rate\n",
    "        '-i', '-',  # The input comes from a pipe\n",
    "        '-vcodec', 'libx264',\n",
    "        '-pix_fmt', 'yuv420p',\n",
    "        '-crf', str(quality),  # Set the quality (lower is better, 17 is often considered visually lossless)\n",
    "        str(output_path)\n",
    "    ]\n",
    "\n",
    "    # Start the subprocess\n",
    "    proc = subprocess.Popen(cmd, stdin=subprocess.PIPE, stdout=subprocess.PIPE, stderr=subprocess.PIPE)\n",
    "\n",
    "    # Loop through the energy dimension and send frames to FFmpeg\n",
    "    for value in tqdm(DA[dim].values, desc=f'Building MP4'):\n",
    "        # Make & customize plot\n",
    "        sliced_DA = DA.sel({dim:value}, method='nearest')\n",
    "        if clim_style=='by_frame':\n",
    "            cmin = float(DA.compute().quantile(cmin_quantile))\n",
    "            cmax = float(DA.compute().quantile(cmax_quantile))\n",
    "        ax = plotter(sliced_DA, value, cmin, cmax)\n",
    "\n",
    "        buf = io.BytesIO()\n",
    "        ax.figure.savefig(buf, format='png')\n",
    "        buf.seek(0)\n",
    "\n",
    "        # Write the PNG buffer data to the process\n",
    "        proc.stdin.write(buf.getvalue())\n",
    "        plt.close('all')\n",
    "\n",
    "    # Finish the subprocess\n",
    "    out, err = proc.communicate()\n",
    "    if proc.returncode != 0:\n",
    "        print(f\"Error: {err}\")    \n",
    "    "
   ]
  },
  {
   "cell_type": "code",
   "execution_count": null,
   "id": "25",
   "metadata": {
    "tags": []
   },
   "outputs": [],
   "source": [
    "# Select Dataset\n",
    "DS = recip_DS\n",
    "\n",
    "# Select DataArray\n",
    "for sample_name in tqdm(unique_sample_names[:]):\n",
    "    for theta in [90]:\n",
    "        DA = DS.sel(sample_name=sample_name, theta=theta)['flatfield_corr']   \n",
    "        \n",
    "        savePath = outPath.joinpath('trexs_plots/waxs_core_films_trexs_plots')\n",
    "        output_path = savePath.joinpath(f'{sample_name}_recip.mp4')\n",
    "        \n",
    "        da_to_mp4(DA, 'energy', output_path, plotter)"
   ]
  },
  {
   "cell_type": "markdown",
   "id": "c8718312-ace8-4ce4-81a2-22807a71ae2b",
   "metadata": {},
   "source": [
    "### NEXAFS"
   ]
  },
  {
   "cell_type": "code",
   "execution_count": null,
   "id": "8f6512aa-4b8a-4cdd-a6bf-3ec8c2a45084",
   "metadata": {
    "tags": []
   },
   "outputs": [],
   "source": [
    "# (pix_x_min, pix_x_max, pix_y_min, pix_y_max)\n",
    "nf_rois_dict = {\n",
    "    'ROI_1': (491, 555, 674, 710),\n",
    "    'ROI_2': (233, 296, 495, 530),\n",
    "    'ROI_3': (800, 860, 674, 710),\n",
    "    # 'ROI_4': (387, 472, 150, 175),\n",
    "}"
   ]
  },
  {
   "cell_type": "code",
   "execution_count": null,
   "id": "b73c7c2e-3eda-4e42-93bf-a4c76a7ca9b6",
   "metadata": {
    "tags": []
   },
   "outputs": [],
   "source": [
    "%matplotlib inline\n",
    "plt.close('all')\n",
    "\n",
    "# for nexafs ROI plotting!\n",
    "DS = recip_DS.copy()\n",
    "\n",
    "# make selection(s)\n",
    "# e_slice = slice(None, None)\n",
    "e_slice = slice(2460, 2490)\n",
    "\n",
    "for sample_name in tqdm(unique_sample_names[:]):\n",
    "    for theta in [90]:\n",
    "        fig, ax = plt.subplots(figsize=(6.5, 3.5), tight_layout=True)\n",
    "        for roi, extents_tuple in nf_rois_dict.items():\n",
    "            pix_x_min, pix_x_max, pix_y_min, pix_y_max = extents_tuple\n",
    "            \n",
    "            DA = DS['flatfield_corr'].sel(sample_name=sample_name, theta=theta)\n",
    "\n",
    "            # Integrate ROI box:\n",
    "            areas_DA = DA.sel(pix_x=slice(pix_x_min, pix_x_max),pix_y=slice(pix_y_min, pix_y_max)).integrate('pix_x').integrate('pix_y')\n",
    "            \n",
    "            # Divide areas DA by diode data\n",
    "            areas_DA = areas_DA / diode_DS['pds']\n",
    "            \n",
    "            # Quick plot corrections: Subtract pre-edge mean, divide post-edge mean\n",
    "            areas_DA = areas_DA - areas_DA.sel(energy=slice(2448, 2462)).mean('energy')  # subtract pre-edge\n",
    "            # areas_DA = areas_DA / areas_DA.sel(energy=slice(2505, 2535)).mean('energy')  # divide post-edge\n",
    "            areas_DA = areas_DA / areas_DA.sel(energy=slice(2495, 2505)).mean('energy')  # divide post-edge\n",
    "\n",
    "            # Plot        \n",
    "            areas_DA.sel(energy=e_slice).plot.line(ax=ax, label=f'{roi}')\n",
    "\n",
    "        ax.set_title(f'FL NEXAFS: {sample_name}')\n",
    "        ax.set(ylabel=f'Integrated Intensity [arb. units]', xlabel='Energy [eV]')\n",
    "\n",
    "        ax.xaxis.set_minor_locator(MultipleLocator(1))\n",
    "        ax.xaxis.grid(True, which='both')\n",
    "        ax.legend(title='NEXAFS ROIs')\n",
    "\n",
    "        # savePath = outPath.joinpath('trexs_plots/waxs_core_films_trexs_plots/nexafs_rois_vtesting')\n",
    "        # savePath.mkdir(exist_ok=True)\n",
    "        # fig.savefig(savePath.joinpath(\n",
    "        #     f'{sample_name}_theta-{theta}deg_chiWidth-{chi_width}deg_q-{q_slice.start}-{q_slice.stop}_energy{e_slice.start}-{e_slice.stop}.png'), dpi=120)\n",
    "\n",
    "        plt.show()\n",
    "        # plt.close('all')"
   ]
  },
  {
   "cell_type": "code",
   "execution_count": null,
   "id": "b0171c7f-c904-459d-bd15-c446cfcfd2a5",
   "metadata": {},
   "outputs": [],
   "source": [
    "unique_sample_names"
   ]
  },
  {
   "cell_type": "code",
   "execution_count": null,
   "id": "c33d42c5-ca68-4b96-9ff7-13835f2a1852",
   "metadata": {},
   "outputs": [],
   "source": [
    "outPath"
   ]
  },
  {
   "cell_type": "code",
   "execution_count": null,
   "id": "469a7056-b899-4416-94d6-e0fe70fe905b",
   "metadata": {
    "tags": []
   },
   "outputs": [],
   "source": [
    "%matplotlib inline\n",
    "plt.close('all')\n",
    "\n",
    "# Average ROIs and make nicer NEXAFS plot to save out\n",
    "DS = recip_DS.copy()\n",
    "\n",
    "# make selection(s)\n",
    "# e_slice = slice(None, None)\n",
    "# e_slice = slice(2445, 2535)\n",
    "e_slice = slice(2455, 2495)\n",
    "# e_slice = slice(2465, 2480)\n",
    "\n",
    "fig, ax = plt.subplots(figsize=(7, 4), tight_layout=True, dpi=150)\n",
    "for sample_name in tqdm(unique_sample_names[:-1]):\n",
    "    # fig, ax = plt.subplots(figsize=(5, 3), tight_layout=True, dpi=150)\n",
    "    for theta in [90]:\n",
    "        areas_DS = xr.Dataset()\n",
    "        for roi, extents_tuple in nf_rois_dict.items():\n",
    "            pix_x_min, pix_x_max, pix_y_min, pix_y_max = extents_tuple\n",
    "\n",
    "            DA = DS['flatfield_corr'].sel(sample_name=sample_name, theta=theta)\n",
    "\n",
    "            # Integrate ROI box:\n",
    "            areas_DA = DA.sel(pix_x=slice(pix_x_min, pix_x_max),pix_y=slice(pix_y_min, pix_y_max)).integrate('pix_x').integrate('pix_y')\n",
    "\n",
    "            # Divide areas DA by diode data\n",
    "            areas_DA = areas_DA / diode_DS['pds']\n",
    "\n",
    "            # Quick plot corrections: Subtract pre-edge mean, divide post-edge mean\n",
    "            areas_DA = areas_DA - areas_DA.sel(energy=slice(2448, 2462)).mean('energy')  # subtract pre-edge\n",
    "            # areas_DA = areas_DA / areas_DA.sel(energy=slice(2505, 2535)).mean('energy')  # divide post-edge\n",
    "            areas_DA = areas_DA / areas_DA.sel(energy=slice(2495, 2505)).mean('energy')  # divide post-edge\n",
    "\n",
    "            areas_DS[roi] = areas_DA\n",
    "\n",
    "        avg_areas_DA = areas_DS.to_array(dim='ROI').mean('ROI')\n",
    "\n",
    "        # Plot    \n",
    "        avg_areas_DA.sel(energy=e_slice).plot.line(ax=ax, label=sn[sample_name])\n",
    "\n",
    "# ax.set_title(f'Fluorescence NEXAFS: {sn[sample_name]}')\n",
    "ax.set_title(f'Fluorescence NEXAFS')\n",
    "ax.set(ylabel=f'Intensity [arb. units]', xlabel='Energy [eV]')\n",
    "ax.legend()\n",
    "\n",
    "ax.xaxis.set_minor_locator(MultipleLocator(2))\n",
    "ax.xaxis.set_major_locator(MultipleLocator(4))\n",
    "# ax.xaxis.set_major_locator(MultipleLocator(2))\n",
    "ax.xaxis.grid(True, which='both')\n",
    "\n",
    "# savePath = outPath.joinpath('polysulfides_plots/Li2S_powder/fl_nexafs')\n",
    "# savePath = outPath.joinpath('polysulfides_plots/flow_cell/waxs/fl_nexafs')\n",
    "# savePath = outPath.joinpath('polysulfides_plots/static_cell/waxs/fl_nexafs')\n",
    "savePath = outPath.joinpath('polysulfides_plots/together/waxs/fl_nexafs')\n",
    "savePath.mkdir(exist_ok=True)\n",
    "fig.savefig(savePath.joinpath(\n",
    "    # f'{sample_name}_theta-{theta}-deg_4-rois-avg-nexafs_energy-{e_slice.start}-{e_slice.stop}.png'), dpi=150)\n",
    "    f'combined-samples_theta-{theta}-deg_4-rois-avg-nexafs_energy-{e_slice.start}-{e_slice.stop}.png'), dpi=150)\n",
    "\n",
    "plt.show()\n",
    "# plt.close('all')"
   ]
  },
  {
   "cell_type": "code",
   "execution_count": null,
   "id": "5c8cc25a-4527-4b2b-919d-add761d4c8d3",
   "metadata": {},
   "outputs": [],
   "source": [
    "outPath"
   ]
  },
  {
   "cell_type": "markdown",
   "id": "76eb92b9-dabd-4f71-92c2-1a2951ec172b",
   "metadata": {},
   "source": [
    "## Polar plots"
   ]
  },
  {
   "cell_type": "markdown",
   "id": "28",
   "metadata": {
    "tags": []
   },
   "source": [
    "### 2D polar plots"
   ]
  },
  {
   "cell_type": "code",
   "execution_count": null,
   "id": "29",
   "metadata": {
    "tags": []
   },
   "outputs": [],
   "source": [
    "# Select Dataset\n",
    "DS = caked_DS.copy()\n",
    "\n",
    "\n",
    "# Select Plotting Parameters\n",
    "energy = 2470\n",
    "chi_slice = slice(-125,25)\n",
    "# chi_slice = slice(-150,50)\n",
    "# chi_slice = slice(None,None)\n",
    "\n",
    "qr_slice = slice(None,0.7)\n",
    "# qr_slice = slice(None,None)\n",
    "\n",
    "# Select DataArray\n",
    "# sample_name = 'PM6-Y6_3000_dSiN'\n",
    "for sample_name in tqdm(unique_sample_names):\n",
    "    for theta in [90]:\n",
    "        DA = DS.sel(sample_name=sample_name, theta=theta)['flatfield_corr']\n",
    "\n",
    "\n",
    "        # Plot\n",
    "        sliced_DA = DA.sel(energy=energy,method='nearest').sel(chi=chi_slice, q_red=qr_slice)\n",
    "        cmin = float(sliced_DA.compute().quantile(0.1))\n",
    "        cmax = float(sliced_DA.compute().quantile(0.98))\n",
    "\n",
    "        ax = sliced_DA.plot.imshow(figsize=(5.5,4.5), x='q_r', y='chi', cmap=cmap, norm=plt.Normalize(cmin,cmax))\n",
    "        ax.figure.suptitle(f'Photon Energy = {np.round(energy, 1)} eV', fontsize=14, y=0.96)\n",
    "        ax.figure.set_tight_layout(True)\n",
    "        ax.axes.set(title=f'{sample_name}, $\\\\theta$ = {theta}°', xlabel='q$_r$ [$Å^{-1}$]', ylabel='$\\\\chi$ [°]')\n",
    "        ax.colorbar.set_label('Intensity [arb. units]', rotation=270, labelpad=12)\n",
    "        # ax.figure.savefig(outPath.joinpath('waxs_detector_movies_v1', f'{sample_name}_{theta}degth.png'), dpi=120)\n",
    "        plt.show()\n",
    "        plt.close('all')"
   ]
  },
  {
   "cell_type": "markdown",
   "id": "65fff703-b5e2-4275-bd2f-adea5e3b3389",
   "metadata": {
    "tags": []
   },
   "source": [
    "#### Save polar plot movies"
   ]
  },
  {
   "cell_type": "code",
   "execution_count": null,
   "id": "30",
   "metadata": {
    "tags": []
   },
   "outputs": [],
   "source": [
    "# Select Dataset\n",
    "DS = caked_DS.copy()\n",
    "\n",
    "# plotting parameters\n",
    "chi_slice = slice(-150,50)\n",
    "# chi_slice = slice(None,None)\n",
    "\n",
    "qr_slice = slice(None,0.7)\n",
    "# qr_slice = slice(None,None)\n",
    "\n",
    "# Select DataArray\n",
    "for sample_name in tqdm(unique_sample_names):\n",
    "# for sample_name in tqdm(['PM6_1CN-CB']):\n",
    "    for theta in [90, 55, 35]:\n",
    "        DA = DS.sel(sample_name=sample_name, theta=theta)['flatfield_corr']\n",
    "        cmin = float(DA.compute().quantile(0.15))\n",
    "        cmax = float(DA.compute().quantile(0.995))\n",
    "\n",
    "        output_path = outPath.joinpath('trexs_plots/caked_waxs_detector_movies_v1', f'{sample_name}_{theta}degth.mp4')\n",
    "\n",
    "        # FFmpeg command. This is set up to accept data from the pipe and use it as input, with PNG format.\n",
    "        # It will then output an H.264 encoded MP4 video.\n",
    "        cmd = [\n",
    "            'ffmpeg',\n",
    "            '-y',  # Overwrite output file if it exists\n",
    "            '-f', 'image2pipe',\n",
    "            '-vcodec', 'png',\n",
    "            '-r', '15',  # Frame rate\n",
    "            '-i', '-',  # The input comes from a pipe\n",
    "            '-vcodec', 'libx264',\n",
    "            '-pix_fmt', 'yuv420p',\n",
    "            '-crf', '17',  # Set the quality (lower is better, 17 is often considered visually lossless)\n",
    "            str(output_path)\n",
    "        ]\n",
    "\n",
    "        # Start the subprocess\n",
    "        proc = subprocess.Popen(cmd, stdin=subprocess.PIPE, stdout=subprocess.PIPE, stderr=subprocess.PIPE)\n",
    "\n",
    "        # Loop through the energy dimension and send frames to FFmpeg\n",
    "        for i, energy in enumerate(tqdm(DA.energy.values, desc=f'Making the {sample_name} {theta}° movie')):\n",
    "            # Make & customize plot\n",
    "            sliced_DA = DA.sel(energy=energy,method='nearest').swap_dims(\n",
    "                {'index_y':'chi','index_x':'q_r'}).sel(chi=chi_slice, q_r=qr_slice)\n",
    "            \n",
    "            ax = sliced_DA.plot.imshow(figsize=(5.5,4.5), cmap=cmap, norm=plt.Normalize(cmin,cmax))\n",
    "            ax.figure.suptitle(f'Photon Energy = {np.round(energy, 1)} eV', fontsize=14, y=0.96)\n",
    "            ax.figure.set_tight_layout(True)   \n",
    "            ax.axes.set(title=f'{sample_name}, $\\\\theta$ = {theta}°', xlabel='q$_r$ [$Å^{-1}$]', ylabel='$\\\\chi$ [°]')\n",
    "            ax.colorbar.set_label('Intensity [arb. units]', rotation=270, labelpad=12)\n",
    "\n",
    "            # Save figure if first frame:\n",
    "            if i==0:\n",
    "                ax.figure.savefig(outPath.joinpath('trexs_plots/caked_waxs_detector_movies_v1', f'{sample_name}_{theta}degth.png'), dpi=120)\n",
    "\n",
    "            buf = io.BytesIO()\n",
    "            ax.figure.savefig(buf, format='png')\n",
    "            buf.seek(0)\n",
    "\n",
    "            # Write the PNG buffer data to the process\n",
    "            proc.stdin.write(buf.getvalue())\n",
    "            plt.close('all')\n",
    "\n",
    "        # Finish the subprocess\n",
    "        out, err = proc.communicate()\n",
    "        if proc.returncode != 0:\n",
    "            print(f\"Error: {err}\")\n"
   ]
  },
  {
   "cell_type": "markdown",
   "id": "31",
   "metadata": {},
   "source": [
    "### I vs Q linecuts"
   ]
  },
  {
   "cell_type": "code",
   "execution_count": null,
   "id": "32",
   "metadata": {
    "tags": []
   },
   "outputs": [],
   "source": [
    "chi_width = 90\n",
    "q_slice = slice(0.11,0.65)\n",
    "energy = 2445\n",
    "# bad_qr_slices = [\n",
    "#     slice(0.34, 0.37), \n",
    "#     slice(0.49, 0.55)\n",
    "# ]\n",
    "\n",
    "bad_qr_slices = []\n",
    "\n",
    "def qr_linecut_plotter(DA, energy):\n",
    "    \"\"\"\n",
    "    Input DA: sliced DA just to plot\n",
    "    \"\"\"\n",
    "    # Remove bad q ranges:\n",
    "    for slice_to_nan in bad_qr_slices:\n",
    "        DA.loc[{'q_red': slice_to_nan}] = np.nan\n",
    "        # DA = DA.interpolate_na(dim='q_red')\n",
    "    \n",
    "    # Make para & perp DAs:\n",
    "    para_DA, perp_DA = make_para_perp_DAs(DA)\n",
    "    \n",
    "    avg_DA_mean = (para_DA.mean('chi') + perp_DA.mean('chi')) / 2\n",
    "    para_DA_mean = para_DA.mean('chi')\n",
    "    perp_DA_mean = perp_DA.mean('chi')\n",
    "    \n",
    "    # Plot\n",
    "    regions = ['para', 'perp', 'full']\n",
    "    # colors = plt.cm.Dark2(np.linspace(0, 1, 8))\n",
    "    colors = plt.cm.viridis(np.linspace(0, 0.85, 3))\n",
    "\n",
    "    fig, ax = plt.subplots(figsize=(6,3.5), tight_layout=True, dpi=120)\n",
    "    \n",
    "    # for j, energy in enumerate(energies):\n",
    "    p2, = (para_DA_mean.sel(q_red=q_slice).sel(energy=energy, method='nearest')\n",
    "     .plot.line(ax=ax, color=colors[0], yscale='linear', xscale='linear', label='Para'))\n",
    "    p3, = (perp_DA_mean.sel(q_red=q_slice).sel(energy=energy, method='nearest')\n",
    "     .plot.line(ax=ax, color=colors[2], yscale='linear', xscale='linear', label='Perp'))\n",
    "    p1, = (avg_DA_mean.sel(q_red=q_slice).sel(energy=energy, method='nearest')\n",
    "     .plot.line(ax=ax, color=colors[1], yscale='linear', xscale='linear', label='Avg'))\n",
    "\n",
    "    ax.set_title(f'I vs Q ({chi_width}° wedges): {sample_name}, Energy = {energy:.2f} eV')\n",
    "    ax.set(ylabel='Intensity [arb. units]', xlabel='Q [$Å^{-1}$]', yscale='log')\n",
    "    \n",
    "    lines= [p2,p1,p3]\n",
    "    ax.legend(loc='lower left', title='$\\chi$ regions', handles=lines, labels=[l.get_label() for l in lines])\n",
    "\n",
    "    return fig, ax"
   ]
  },
  {
   "cell_type": "code",
   "execution_count": null,
   "id": "c17f0caf-5db7-4ba7-a027-f8d7f3303337",
   "metadata": {
    "tags": []
   },
   "outputs": [],
   "source": [
    "%matplotlib inline\n",
    "plt.close('all')\n",
    "\n",
    "# Select necessary slices\n",
    "\n",
    "DS = caked_DS.copy()\n",
    "chi_width = 90\n",
    "q_slice = slice(0.15,0.65)\n",
    "energy = 2445\n",
    "theta = 90\n",
    "\n",
    "for sample_name in unique_sample_names:\n",
    "    DA = DS['flatfield_corr'].sel(sample_name=sample_name, theta=theta)\n",
    "    fig, ax = qr_linecut_plotter(DA, energy)\n",
    "\n",
    "    plt.show()\n",
    "    plt.close('all')"
   ]
  },
  {
   "cell_type": "code",
   "execution_count": null,
   "id": "35",
   "metadata": {
    "tags": []
   },
   "outputs": [],
   "source": [
    "def da_to_linecut_mp4(DA, dim, output_path, plotter, frame_rate=15, quality=17):\n",
    "    \"\"\"\n",
    "    Generate mp4 video of images along a specified dimension (e.g. energy, time). \n",
    "    Requires subprocess import. \n",
    "    \n",
    "    Inputs:\n",
    "    DA (xr.DataArray): DataArray to generate mp4 from\n",
    "    dim (str): dimension to generate frames along\n",
    "    output_path (str or pathlib.Path): path to generated mp4 (includes mp4 filename)\n",
    "    plotter (function): wrap custom matplotlib plotting code for each frame into a function to be called for each frame\n",
    "    frame_rate (int, default=15): frame rate of mp4 generated\n",
    "    quality (int, default=17): 'crf' quality value; lower is better, 17 is often considered visually lossless\n",
    "    \n",
    "    Outputs:\n",
    "    mp4 movie file where specified in output path\n",
    "    \"\"\"\n",
    "    # FFmpeg command. This is set up to accept data from the pipe and use it as input, with PNG format.\n",
    "    # It will then output an H.264 encoded MP4 video.\n",
    "    cmd = [\n",
    "        'ffmpeg',\n",
    "        '-y',  # Overwrite output file if it exists\n",
    "        '-f', 'image2pipe',\n",
    "        '-vcodec', 'png',\n",
    "        '-r', str(frame_rate),  # Frame rate\n",
    "        '-i', '-',  # The input comes from a pipe\n",
    "        '-vcodec', 'libx264',\n",
    "        '-pix_fmt', 'yuv420p',\n",
    "        '-crf', str(quality),  # Set the quality (lower is better, 17 is often considered visually lossless)\n",
    "        str(output_path)\n",
    "    ]\n",
    "\n",
    "    # Start the subprocess\n",
    "    proc = subprocess.Popen(cmd, stdin=subprocess.PIPE, stdout=subprocess.PIPE, stderr=subprocess.PIPE)\n",
    "\n",
    "    # Loop through the energy dimension and send frames to FFmpeg\n",
    "    for value in tqdm(DA[dim].values, desc=f'Building MP4'):\n",
    "        # Make & customize plot        \n",
    "        # Make & customize plot\n",
    "        # sliced_DA = DA.sel({dim:value}, method='nearest')\n",
    "        fig, ax = plotter(DA, value)\n",
    "\n",
    "        buf = io.BytesIO()\n",
    "        fig.savefig(buf, format='png')\n",
    "        buf.seek(0)\n",
    "\n",
    "        # Write the PNG buffer data to the process\n",
    "        proc.stdin.write(buf.getvalue())\n",
    "        \n",
    "        buf.close()\n",
    "        plt.close('all')\n",
    "        gc.collect()\n",
    "\n",
    "    # Finish the subprocess\n",
    "    out, err = proc.communicate()\n",
    "    if proc.returncode != 0:\n",
    "        print(f\"Error: {err}\")    "
   ]
  },
  {
   "cell_type": "code",
   "execution_count": null,
   "id": "37",
   "metadata": {
    "tags": []
   },
   "outputs": [],
   "source": [
    "# plt.close('all')\n",
    "\n",
    "# Select necessary slices\n",
    "DS = caked_DS.copy()\n",
    "chi_width = 90\n",
    "q_slice = slice(0.15,0.65)\n",
    "# energy = 2470\n",
    "\n",
    "for sample_name in tqdm(unique_sample_names[:]):\n",
    "    for theta in [35, 55]:\n",
    "        DA = DS.sel(sample_name=sample_name, theta=theta)['flatfield_corr']\n",
    "        \n",
    "        savePath = outPath.joinpath('trexs_plots/waxs_core_films_trexs_plots')\n",
    "        output_path = savePath.joinpath('qr_linecut_movies_v1', f'{sample_name}_{theta}degth.mp4')\n",
    "        \n",
    "        da_to_linecut_mp4(DA, 'energy', output_path, qr_linecut_plotter)"
   ]
  },
  {
   "cell_type": "markdown",
   "id": "39",
   "metadata": {
    "tags": []
   },
   "source": [
    "### I vs Chi linecuts"
   ]
  },
  {
   "cell_type": "code",
   "execution_count": null,
   "id": "40",
   "metadata": {
    "tags": []
   },
   "outputs": [],
   "source": [
    "# make selection, subtracted flat line to compare peak intensities overlayed\n",
    "DS = caked_DS.copy()\n",
    "\n",
    "# make selection\n",
    "chi_slice = slice(-125, 25)\n",
    "# bad_chi_slices = [slice(-110, -102), slice(-77, -68), slice(-59,-56), slice(-33,-29), slice(-25,-21), slice(-5,-2)]\n",
    "bad_chi_slices = []\n",
    "\n",
    "# # # y_fit around lamella peak:\n",
    "# peak_name = 'Lamella'\n",
    "# q_min = 0.22\n",
    "# q_max = 0.33\n",
    "\n",
    "# y_fit around mystery lump:\n",
    "peak_name = '0p4 mystery'\n",
    "q_min = 0.38\n",
    "q_max = 0.43\n",
    "\n",
    "# # y_fit around mystery lump:\n",
    "# q_min = 0.57\n",
    "# q_max = 0.63\n",
    "\n",
    "# # y_fit around mystery lump:\n",
    "# q_min = 0.18\n",
    "# q_max = 0.63\n",
    "\n",
    "# Select DataArray\n",
    "samp_sub_DAs = []\n",
    "for sample_name in tqdm(unique_sample_names[1:2]):\n",
    "    # for theta in [90]:\n",
    "    theta = 90\n",
    "    DA = DS.sel(sample_name=sample_name, theta=theta)['flatfield_corr']\n",
    "    DA = DA.where(DA>1).where(DA<(DA.max()*0.03))\n",
    "    for slice_to_nan in bad_chi_slices:\n",
    "        DA.loc[{'chi': slice_to_nan}] = np.nan\n",
    "    DA = DA.interpolate_na(dim='chi')\n",
    "\n",
    "    DA = DA.sel(chi=chi_slice).groupby_bins('chi', 12).mean('chi')\n",
    "\n",
    "    # # Subtract pre-peak flat line\n",
    "    # DA = DA - DA.sel(q_red=slice(0.2,0.23)).mean('q_red')\n",
    "\n",
    "    # Draw y_fits\n",
    "    points_x = [q_min, q_max]\n",
    "    points_y = [DA.sel(q_red=slice(points_x[0]-0.005, points_x[0]+0.005)).mean('q_red'), \n",
    "                DA.sel(q_red=slice(points_x[1]-0.005, points_x[1]+0.005)).mean('q_red')]\n",
    "    m_DA = (points_y[1]-points_y[0])/(points_x[1]-points_x[0])\n",
    "    b_DA = points_y[1] - (m_DA*points_x[1])\n",
    "\n",
    "    y_fits = np.empty((len(DA.energy), 0, len(DA.q_red)), float)\n",
    "    for chi_bin in tqdm(DA.chi_bins, desc='Fitting energies in each chi bins'):\n",
    "        bin_y_fits = np.empty((0, len(DA.q_red)), float)\n",
    "        for m, b in zip(m_DA.sel(chi_bins=chi_bin).compute().data, b_DA.sel(chi_bins=chi_bin).compute().data):\n",
    "            y_fit = np.polyval([m, b], DA.q_red).reshape(1, len(DA.q_red))\n",
    "            bin_y_fits = np.append(bin_y_fits, y_fit, axis=0)\n",
    "\n",
    "        bin_y_fits = bin_y_fits.reshape(len(DA.energy), 1, len(DA.q_red))\n",
    "        y_fits = np.append(y_fits, bin_y_fits, axis=1)\n",
    "\n",
    "    y_fits_DA = DA.copy()\n",
    "    y_fits_DA.data = y_fits\n",
    "\n",
    "    sub_DA = DA - y_fits_DA\n",
    "    samp_sub_DAs.append(sub_DA)\n",
    "        \n",
    "sub_DA = xr.concat(samp_sub_DAs, 'sample_name')"
   ]
  },
  {
   "cell_type": "code",
   "execution_count": null,
   "id": "41",
   "metadata": {
    "tags": []
   },
   "outputs": [],
   "source": [
    "# Define plotter function per energy slice\n",
    "def chi_linecut_plotter(sub_DA, energy):\n",
    "    \"\"\"\n",
    "    Input DA, already with subtraction around lamella peak.\n",
    "    \"\"\"\n",
    "    # Plot\n",
    "    sliced_DA = sub_DA.sel(q_red=slice(q_min,q_max), energy=energy)\n",
    "    sliced_DA = sliced_DA.integrate('q_red')\n",
    "\n",
    "    fig, ax = plt.subplots(figsize=(4.5,3.5), tight_layout=True)\n",
    "\n",
    "    for i, sample_name in enumerate(sub_DA.sample_name.values):\n",
    "        samp_sliced_DA = sliced_DA.sel(sample_name=sample_name)\n",
    "        # samp_sliced_DA = samp_sliced_DA - float(samp_sliced_DA.sel(chi_bins=slice(-60,-40)).mean('chi_bins'))\n",
    "        samp_sliced_DA.plot.line(ax=ax, color=colors[i], label=sample_name)\n",
    "\n",
    "    ax.set_title(f'{peak_name} pole figure, $\\\\theta$ = {theta}°, Energy = {energy:.2f} eV')\n",
    "    ax.set(ylabel='Chi-binned q-integrated intensity [arb. units]',\n",
    "           xlabel='Chi value [°]')\n",
    "\n",
    "    ax.xaxis.set_major_locator(MultipleLocator(90))\n",
    "    ax.xaxis.set_minor_locator(MultipleLocator(30))\n",
    "    ax.xaxis.grid(True, which='both')\n",
    "    ax.legend(loc='upper right')\n",
    "\n",
    "    return fig, ax\n",
    "\n",
    "# Plot\n",
    "colors = plt.cm.viridis(np.linspace(0,0.85,len(sub_DA.sample_name)))\n",
    "energies = sub_DA.energy.sel(energy=[2445, 2470.2, 2472, 2474, 2476, 2477, 2478, 2484, 2550], method='nearest').data\n",
    "\n",
    "for i, energy in enumerate(tqdm(energies)):\n",
    "    fig, ax = chi_linecut_plotter(sub_DA, energy)\n",
    "    plt.show()\n",
    "    plt.close('all')"
   ]
  },
  {
   "cell_type": "code",
   "execution_count": null,
   "id": "42",
   "metadata": {
    "tags": []
   },
   "outputs": [],
   "source": [
    "savePath = outPath.joinpath('trexs_plots/waxs_core_films_trexs_plots')\n",
    "# output_path = savePath.joinpath('chi_linecut_movies_vtesting', f'PM6_CNCB_series_90degth.mp4')\n",
    "# output_path = savePath.joinpath('chi_linecut_movies_vtesting', f'PM6_CNCF_series_90degth.mp4')\n",
    "output_path = savePath.joinpath('chi_linecut_movies_vtesting', f'PM6_0p4_peak_CNCB_series_90degth.mp4')\n",
    "\n",
    "da_to_linecut_mp4(sub_DA, 'energy', output_path, chi_linecut_plotter)"
   ]
  },
  {
   "cell_type": "code",
   "execution_count": null,
   "id": "43",
   "metadata": {
    "tags": []
   },
   "outputs": [],
   "source": [
    "# make selection, subtracted flat line to compare peak intensities overlayed\n",
    "DS = caked_DS\n",
    "\n",
    "# make selection\n",
    "q_slice = slice(0.25, 0.33)   # peak slice here\n",
    "chi_slice = slice(-125, 25)\n",
    "bad_chi_slices = [slice(-110, -102), slice(-77, -68), slice(-59,-56), slice(-33,-29), slice(-25,-21), slice(-5,-2)]\n",
    "\n",
    "# Select DataArray\n",
    "for sample_name in tqdm(unique_sample_names[2:5]):\n",
    "    for theta in [90]:\n",
    "        DA = DS.sel(sample_name=sample_name, theta=theta)['flatfield_corr']\n",
    "        DA = DA.where(DA>1).where(DA<(DA.max()*0.03))\n",
    "        for slice_to_nan in bad_chi_slices:\n",
    "            DA.loc[{'chi': slice_to_nan}] = np.nan\n",
    "        DA = DA.interpolate_na(dim='chi')\n",
    "        \n",
    "        DA = DA.sel(chi=chi_slice).groupby_bins('chi', 20).mean('chi')\n",
    "        \n",
    "        # Subtract pre-peak flat line\n",
    "        DA = DA - DA.sel(q_red=slice(0.2,0.23)).mean('q_red')\n",
    "\n",
    "        # Plot\n",
    "        energies = DA.energy.sel(energy=[2445, 2470.2, 2472, 2474, 2476, 2477, 2478, 2484, 2550], method='nearest').data\n",
    "\n",
    "        cmap = plt.cm.viridis.copy()\n",
    "        colors = cmap(np.linspace(0, 1, len(energies)))\n",
    "\n",
    "        fig, ax = plt.subplots(figsize=(4,3), tight_layout=True)\n",
    "        \n",
    "        for i, energy in enumerate(energies):\n",
    "            # sliced_DA = (DA.sel(q_red=q_slice, energy=energy) - \n",
    "            #              DA.sel(q_red=slice(0.2,0.23), energy=energy).mean('q_red'))\n",
    "            # sliced_DA_snap = sliced_DA.copy()\n",
    "            sliced_DA = DA.sel(q_red=q_slice, energy=energy)\n",
    "            sliced_DA = sliced_DA.integrate('q_red')\n",
    "            sliced_DA = sliced_DA / float(sliced_DA.sel(chi_bins=slice(-60,-40)).mean('chi_bins'))\n",
    "            \n",
    "            sliced_DA.plot.line(ax=ax, color=colors[i], label=energy)\n",
    "            \n",
    "        ax.set_title(f'{sample_name}, $\\\\theta$={theta}°')\n",
    "        ax.set(ylabel='Chi-binned integrated intensity [arb. units]')\n",
    "        \n",
    "        ax.xaxis.set_major_locator(MultipleLocator(90))\n",
    "        ax.xaxis.set_minor_locator(MultipleLocator(45))\n",
    "        ax.xaxis.grid(True, which='both')\n",
    "        \n",
    "        plt.show()\n",
    "        plt.close('all')"
   ]
  },
  {
   "cell_type": "code",
   "execution_count": null,
   "id": "44",
   "metadata": {},
   "outputs": [],
   "source": [
    "# make selection, subtracted flat line to compare peak intensities overlayed\n",
    "DS = caked_DS.copy()\n",
    "\n",
    "# make selection\n",
    "q_slice = slice(0.23, 0.32)   # peak slice here\n",
    "chi_width = 90\n",
    "e_slice = slice(2470, 2485)\n",
    "\n",
    "for sample_name in tqdm(unique_sample_names[:]):\n",
    "    for theta in [90, 55, 35]:\n",
    "        para_DA, perp_DA = make_para_perp_DAs(DS, sample_name, theta, chi_width) \n",
    "        \n",
    "        para_DA = para_DA.where(para_DA>0.4).where(para_DA<(para_DA.max()*0.03))\n",
    "        perp_DA = perp_DA.where(perp_DA>0.4).where(perp_DA<(perp_DA.max()*0.03))\n",
    "\n",
    "        # Subtract pre-peak flat line\n",
    "        para_DA = para_DA - para_DA.sel(q_red=slice(0.2,0.23)).mean('q_red')\n",
    "        perp_DA = perp_DA - perp_DA.sel(q_red=slice(0.2,0.23)).mean('q_red')\n",
    "        \n",
    "        # Mean/integrate chi/q:\n",
    "        para_areas_DA = para_DA.sel(q_red=q_slice).mean('chi').integrate('q_red')\n",
    "        perp_areas_DA = perp_DA.sel(q_red=q_slice).mean('chi').integrate('q_red')\n",
    "        \n",
    "        # Plot        \n",
    "        fig, ax = plt.subplots(figsize=(5,4), tight_layout=True)\n",
    "        para_areas_DA.sel(energy=e_slice).plot.line(ax=ax, label='Para')\n",
    "        perp_areas_DA.sel(energy=e_slice).plot.line(ax=ax, label='Perp')\n",
    "\n",
    "        fig.suptitle(f'Lamella peak area vs photon energy: {sample_name}', x=0.53, y=0.95)\n",
    "\n",
    "        ax.set_title(f'$\\\\theta$ = {theta}°, $\\chi$ width = 90°')\n",
    "        ax.set(ylabel=f'Integrated q ({q_slice.start}, {q_slice.stop}) [arb. units]', xlabel='Energy [eV]')\n",
    "        \n",
    "        ax.xaxis.set_minor_locator(MultipleLocator(1))\n",
    "        ax.xaxis.grid(True, which='both')\n",
    "        ax.legend()\n",
    "        \n",
    "\n",
    "        savePath = outPath.joinpath('trexs_plots/waxs_core_films_trexs_plots/peakarea-vs-energy_v2')\n",
    "        savePath.mkdir(exist_ok=True)\n",
    "        fig.savefig(savePath.joinpath(\n",
    "            f'{sample_name}_theta-{theta}deg_chiWidth-{chi_width}deg_q-{q_slice.start}-{q_slice.stop}_energy{e_slice.start}-{e_slice.stop}.png'), dpi=120)\n",
    "        \n",
    "        # plt.show()\n",
    "        plt.close('all')"
   ]
  },
  {
   "cell_type": "code",
   "execution_count": null,
   "id": "45",
   "metadata": {},
   "outputs": [],
   "source": [
    "# make selection\n",
    "DS = caked_DS.copy()\n",
    "\n",
    "# make selection\n",
    "q_slice = slice(0.1, 0.5)\n",
    "chi_width = 90\n",
    "# energy_slice = slice(2470, 2485)\n",
    "\n",
    "for sample_name in tqdm(unique_sample_names[:]):\n",
    "    for theta in [90]:\n",
    "        para_DA, perp_DA = make_para_perp_DAs(DS, sample_name, theta, chi_width) \n",
    "        \n",
    "        para_DA = para_DA.where(para_DA>0.4).where(para_DA<(para_DA.max()*0.03))  #.interpolate_na(dim='chi')\n",
    "        # para_DA.sel(energy=2477.2,method='nearest').sel(q_red=slice(0.05, 0.7)).plot.imshow()\n",
    "        # plt.title('para')\n",
    "        # plt.show()\n",
    "        \n",
    "        perp_DA = perp_DA.where(perp_DA>0.4).where(perp_DA<(perp_DA.max()*0.03))  #.interpolate_na(dim='chi')\n",
    "        # perp_DA.sel(energy=2477.2,method='nearest').sel(q_red=slice(0.05, 0.7)).plot.imshow()\n",
    "        # plt.title('perp')\n",
    "        # plt.show()\n",
    "        # plt.close('all')\n",
    "\n",
    "        \n",
    "        # Plot\n",
    "        energies = para_DA.energy.sel(energy=[2445, 2470.2, 2472, 2474, 2476, 2477, 2478, 2484, 2550], method='nearest').data\n",
    "\n",
    "        cmap = plt.cm.turbo.copy()\n",
    "        colors = cmap(np.linspace(0, 1, len(energies)))\n",
    "\n",
    "        fig, axs = plt.subplots(ncols=2,figsize=(8,4), tight_layout=True)\n",
    "\n",
    "        for j, energy in enumerate(energies):\n",
    "            (para_DA.sel(q_red=q_slice, energy=energy).mean('chi')\n",
    "             .plot.line(ax=axs[0], color=colors[j], yscale='linear', xscale='linear', label=energy))\n",
    "            (perp_DA.sel(q_red=q_slice, energy=energy).mean('chi')\n",
    "             .plot.line(ax=axs[1], color=colors[j], yscale='linear', xscale='linear', label=energy))\n",
    "\n",
    "        fig.suptitle(f'IvsQ, $\\\\theta$ = {theta}°, $\\chi$ width = 90°: {sample_name}', x=0.47)\n",
    "\n",
    "        axs[0].set(title=f'Parallel to E$_p$', ylabel='Intensity [arb. units]', xlabel='Q [$Å^{-1}$]')\n",
    "        axs[1].set(title=f'Perpendicular to E$_p$', ylabel='Intensity [arb. units]', xlabel='Q [$Å^{-1}$]')\n",
    "        axs[1].legend(title='Energy [eV]', loc=(1.05,0.1))\n",
    "\n",
    "        # fig.savefig(outPath.joinpath('trexs_plots/I_cuts_v1', \n",
    "        #     f'{sample_name}_theta-{theta}deg_chiWidth-{chi_width}deg_q-{q_slice.start}-{q_slice.stop}.png'), dpi=120)\n",
    "        \n",
    "        plt.show()\n",
    "        plt.close('all')"
   ]
  }
 ],
 "metadata": {
  "kernelspec": {
   "display_name": "smi",
   "language": "python",
   "name": "smi"
  },
  "language_info": {
   "codemirror_mode": {
    "name": "ipython",
    "version": 3
   },
   "file_extension": ".py",
   "mimetype": "text/x-python",
   "name": "python",
   "nbconvert_exporter": "python",
   "pygments_lexer": "ipython3",
   "version": "3.11.10"
  }
 },
 "nbformat": 4,
 "nbformat_minor": 5
}
