{
 "cells": [
  {
   "cell_type": "markdown",
   "id": "0",
   "metadata": {},
   "source": [
    "# 2024C3 SMI SAXS TReXS processing notebook \n",
    "This notebook is for processing tender resonant X-ray scattering data collected on the WAXS detector from SMI. \n",
    "Potentiall still need better flatfield/mask for bad SAXS detector pixels\n",
    "\n",
    "**Copy this notebook (along with all other notebooks in this folder) to your own user folder, don't change this one.**"
   ]
  },
  {
   "cell_type": "markdown",
   "id": "1",
   "metadata": {},
   "source": [
    "## Imports"
   ]
  },
  {
   "cell_type": "code",
   "execution_count": null,
   "id": "2",
   "metadata": {
    "tags": []
   },
   "outputs": [],
   "source": [
    "import pathlib\n",
    "import os\n",
    "import numpy as np\n",
    "import matplotlib.pyplot as plt\n",
    "import xarray as xr\n",
    "from PIL import Image\n",
    "from tqdm.auto import tqdm \n",
    "\n",
    "import fabio\n",
    "from smi_analysis import SMI_beamline"
   ]
  },
  {
   "cell_type": "markdown",
   "id": "3",
   "metadata": {
    "tags": []
   },
   "source": [
    "## Define paths & functions"
   ]
  },
  {
   "cell_type": "code",
   "execution_count": null,
   "id": "6",
   "metadata": {
    "tags": []
   },
   "outputs": [],
   "source": [
    "propPath = pathlib.Path('/nsls2/data/smi/proposals/2024-3/pass-316856')\n",
    "\n",
    "rawPaths = propPath.joinpath('raw_05')\n",
    "saxsPath = rawPaths.joinpath('1M')\n",
    "waxsPath = rawPaths.joinpath('900KW')"
   ]
  },
  {
   "cell_type": "markdown",
   "id": "8",
   "metadata": {
    "tags": []
   },
   "source": [
    "### SMI loading function & setup"
   ]
  },
  {
   "cell_type": "code",
   "execution_count": null,
   "id": "9",
   "metadata": {
    "tags": []
   },
   "outputs": [],
   "source": [
    "#waxs\n",
    "path = '/nsls2/data/smi/legacy/results/data/%s/%s/1M/'%('2024_2', '314483_Freychet_01')\n",
    "\n",
    "sam, sam1 = [], []\n",
    "for file in sorted(os.listdir(path)):\n",
    "     if 'wa0' in file and 'AHPP25-0p25_' in file:\n",
    "        idx = file.find('1.8m_')\n",
    "        if file[:idx] not in sam:\n",
    "            sam = sam + [file[:idx]]\n",
    "\n",
    "all_dat = [[]] * len(sam)\n",
    "all_da = [[]] * len(sam)\n",
    "    \n",
    "for j, sa in enumerate(sam): \n",
    "    for file in sorted(os.listdir(path)):\n",
    "        if sa in file and 'tif' in file and 'wa0' in file:\n",
    "            all_dat[j] = all_dat[j] + [file]\n",
    "            \n",
    "for i, all_d in enumerate(all_dat[0]):\n",
    "    img=fabio.open(os.path.join(path, all_d)).data\n",
    "    if i==0:\n",
    "        img_sum=np.zeros(np.shape(img))\n",
    "    img_sum += img\n",
    "\n",
    "idx_mask = np.where(img_sum>100)"
   ]
  },
  {
   "cell_type": "code",
   "execution_count": null,
   "id": "10",
   "metadata": {
    "tags": []
   },
   "outputs": [],
   "source": [
    "def saxs_SMI_numpy_loading(path, filename_list):\n",
    "    \"\"\"\n",
    "    Function adapted from Guillames SMI notebooks to process raw waxs tiffs:\n",
    "    \n",
    "    Returns filename_wa0_list, recip_list, recip_extents, caked_list, caked_extents\n",
    "    \"\"\"\n",
    "    \n",
    "    #Saxs\n",
    "    geometry = 'Transmission'\n",
    "    energy = 2.450\n",
    "    wav = 1E-10 * (12.398/energy)\n",
    "    bs_kind = 'pindiode'\n",
    "    alphai = np.deg2rad(0)\n",
    "\n",
    "    #SAXS\n",
    "    detector_waxs = 'Pilatus1m'\n",
    "    # sdd_waxs = 1800\n",
    "    sdd_waxs = 3000\n",
    "\n",
    "    center_waxs = [477, 564]\n",
    "    bs_pos_waxs = [[467, 546]]   \n",
    "    \n",
    "    filename_wa0_list = []\n",
    "    recip_list = []\n",
    "    recip_extents = []\n",
    "    caked_list = []\n",
    "    caked_extents = []\n",
    "    for dat in tqdm(filename_list, desc='Processing tiffs'):\n",
    "\n",
    "            idx = [dat][0].find('eV')\n",
    "            energy = 0.001*float([dat][0][idx-7:idx])\n",
    "            wav = 1E-10 * (12.398/energy)\n",
    "\n",
    "            #This part is to stitch the data\n",
    "            SMI_waxs = SMI_beamline.SMI_geometry(geometry = geometry,\n",
    "                                                 detector = detector_waxs,\n",
    "                                                 sdd = sdd_waxs,\n",
    "                                                 wav = wav,\n",
    "                                                 alphai = 0,\n",
    "                                                 center = center_waxs,\n",
    "                                                 bs_pos = bs_pos_waxs,\n",
    "                                                 det_angles = [0],\n",
    "                                                 bs_kind = bs_kind)\n",
    "\n",
    "\n",
    "            SMI_waxs.open_data(path, [dat], optional_mask='tender')\n",
    "               \n",
    "            for da in [dat][1:]:\n",
    "                img=fabio.open(os.path.join(path, da)).data\n",
    "                SMI_waxs.imgs[0]+=img\n",
    "            SMI_waxs.masks[0][idx_mask]=True\n",
    "\n",
    "            SMI_waxs.masks[0][835:, 488:616]=True\n",
    "            SMI_waxs.masks[0][350:414, 857:920]=True\n",
    "            SMI_waxs.masks[0][370:410, 550:620]=True\n",
    "            SMI_waxs.masks[0][570:, 452:460]=True\n",
    "\n",
    "            SMI_waxs.masks[0][600:630, 800:860]=True\n",
    "            SMI_waxs.masks[0][700:, 463:470]=True\n",
    "            SMI_waxs.masks[0][600:630, 600:630]=True\n",
    "\n",
    "            for i, (img, mask) in enumerate(zip(SMI_waxs.imgs, SMI_waxs.masks)):\n",
    "                SMI_waxs.imgs[i] *= 10\n",
    "                \n",
    "            SMI_waxs.stitching_data(interp_factor=3)\n",
    "            SMI_waxs.caking()\n",
    "            \n",
    "            filename_wa0_list.append(dat)\n",
    "            recip_list.append(SMI_waxs.img_st)\n",
    "            recip_extents.append([SMI_waxs.qp[0], SMI_waxs.qp[-1], SMI_waxs.qz[0], SMI_waxs.qz[-1]])\n",
    "            \n",
    "            caked_list.append(SMI_waxs.cake)\n",
    "            caked_extents.append([SMI_waxs.q_cake[0], SMI_waxs.q_cake[-1], SMI_waxs.chi_cake[0], SMI_waxs.chi_cake[-1]])\n",
    "            \n",
    "    return filename_wa0_list, recip_list, recip_extents, caked_list, caked_extents"
   ]
  },
  {
   "cell_type": "markdown",
   "id": "11",
   "metadata": {
    "tags": []
   },
   "source": [
    "## Load data & save zarrs"
   ]
  },
  {
   "cell_type": "code",
   "execution_count": null,
   "id": "cc3a9958-857a-45ed-a270-a98d237d7d95",
   "metadata": {
    "tags": []
   },
   "outputs": [],
   "source": [
    "all_saxs"
   ]
  },
  {
   "cell_type": "code",
   "execution_count": null,
   "id": "21",
   "metadata": {
    "tags": []
   },
   "outputs": [],
   "source": [
    "all_saxs = set(saxsPath.glob('*.tif'))\n",
    "test_saxs = set(saxsPath.glob('test*'))\n",
    "# sample_names = sorted(set([f.name[3:f.name.find('_sdd1.8')] for f in all_saxs.difference(test_saxs)]))\n",
    "sample_names = sorted(set([f.name[3:f.name.find('_sdd3.0')] for f in all_saxs.difference(test_saxs)]))\n",
    "sample_names"
   ]
  },
  {
   "cell_type": "code",
   "execution_count": null,
   "id": "f2de16ed-1e77-4750-9af6-71bcc8eb6ae0",
   "metadata": {
    "tags": []
   },
   "outputs": [],
   "source": [
    "# sample_names = ['TEGDME_neat', 'Li2S_TEGDME_reredo']\n",
    "sample_names = ['Li2S8_static']"
   ]
  },
  {
   "cell_type": "code",
   "execution_count": null,
   "id": "00cb9311-29b4-4335-9a6e-e8319b27cf78",
   "metadata": {
    "tags": []
   },
   "outputs": [],
   "source": [
    "filename_list"
   ]
  },
  {
   "cell_type": "code",
   "execution_count": null,
   "id": "24",
   "metadata": {
    "tags": []
   },
   "outputs": [],
   "source": [
    "# Make file sets & define unique sample names\n",
    "for i, sample_name in enumerate(tqdm(sample_names, desc='Samples')):\n",
    "    # Select files for a given sample and rotation\n",
    "    all_paths = set(saxsPath.glob(f'*_{sample_name}_*wa20*'))\n",
    "    \n",
    "    # Select first scans\n",
    "    filename_list = [f.name for f in sorted(all_paths)]\n",
    "\n",
    "    # Run SMI loading code (this produces some fabio and divide by zero errors)\n",
    "    names_list, recip_list, recip_extents, caked_list, caked_extents = saxs_SMI_numpy_loading(saxsPath, filename_list)\n",
    "\n",
    "\n",
    "\n",
    "    # Construct xarrays with full values along detector dimensions and the energy dimension\n",
    "    # They contain sample name and theta value as well, as single values to be concatenated in later steps\n",
    "    recip_DA_rows = []\n",
    "    caked_DA_rows = []\n",
    "    zipped_lists = zip(names_list, recip_list, recip_extents, caked_list, caked_extents)\n",
    "    for filename, recip_arr, recip_extent, caked_arr, caked_extent in zipped_lists:\n",
    "        attr_dict = {}\n",
    "        attr_dict['filename'] = filename\n",
    "        \n",
    "        sample_name = filename[3:filename.find('_sdd')]\n",
    "        energy = float(filename[:filename.find('eV')].split('_')[-1])\n",
    "\n",
    "        recip_DA = xr.DataArray(data = recip_arr, \n",
    "                                dims = ['pix_y', 'pix_x'],\n",
    "                                attrs = attr_dict)\n",
    "        recip_DA = recip_DA.assign_coords({\n",
    "            'pix_x': recip_DA.pix_x.data,\n",
    "            'pix_y': recip_DA.pix_y.data,\n",
    "            'q_x': ('pix_x', np.linspace(recip_extent[0], recip_extent[1], len(recip_DA.pix_x.data))),\n",
    "            'q_y': ('pix_y', np.linspace(recip_extent[3], recip_extent[2], len(recip_DA.pix_y.data)))\n",
    "        })\n",
    "        recip_DA = recip_DA.expand_dims({\n",
    "            'energy': [energy],\n",
    "            'sample_name': [sample_name]\n",
    "        })\n",
    "        recip_DA_rows.append(recip_DA)\n",
    "\n",
    "        caked_DA = xr.DataArray(data = caked_arr, \n",
    "                                dims = ['index_y', 'index_x'],\n",
    "                                attrs = attr_dict)\n",
    "        caked_DA = caked_DA.assign_coords({\n",
    "            'index_x': caked_DA.index_x.data,\n",
    "            'index_y': caked_DA.index_y.data,\n",
    "            'q_r': ('index_x', np.linspace(caked_extent[0], caked_extent[1], len(caked_DA.index_x.data))),\n",
    "            'chi': ('index_y', np.linspace(caked_extent[3], caked_extent[2], len(caked_DA.index_y.data)))\n",
    "        }) \n",
    "        caked_DA = caked_DA.expand_dims({\n",
    "            'energy': [energy],\n",
    "            'sample_name': [sample_name]\n",
    "        })\n",
    "        caked_DA_rows.append(caked_DA)\n",
    "\n",
    "    recip_DA = xr.concat(recip_DA_rows, 'energy')\n",
    "    caked_DA = xr.concat(caked_DA_rows, 'energy')\n",
    "\n",
    "    # Save sample zarr, load later to concatenate full zarr\n",
    "    # sampleZarrsPath = propPath.joinpath('processed_data/zarrs/saxs_polysulfide_solutions_zarrs_v1')\n",
    "    sampleZarrsPath = propPath.joinpath('processed_data/zarrs/saxs_Li2S8_static_solution_zarrs_v1')\n",
    "\n",
    "    recip_samp_zarr_name = 'recip_'+sample_name+'.zarr'\n",
    "    recip_DS = recip_DA.to_dataset(name='flatfield_corr')\n",
    "    recip_DS.to_zarr(sampleZarrsPath.joinpath(recip_samp_zarr_name), mode='w')\n",
    "\n",
    "    caked_samp_zarr_name = 'caked_'+sample_name+'.zarr'\n",
    "    caked_DS = caked_DA.to_dataset(name='flatfield_corr')\n",
    "    caked_DS.to_zarr(sampleZarrsPath.joinpath(caked_samp_zarr_name), mode='w')"
   ]
  },
  {
   "cell_type": "markdown",
   "id": "d49965ea-cb4c-4999-b8bc-8860bc8e7343",
   "metadata": {},
   "source": [
    "#### Now switch to to plotting notebook!"
   ]
  },
  {
   "cell_type": "code",
   "execution_count": null,
   "id": "a07e22e0-700f-4d7f-b6a0-deb755ba55cc",
   "metadata": {},
   "outputs": [],
   "source": []
  }
 ],
 "metadata": {
  "kernelspec": {
   "display_name": "smi",
   "language": "python",
   "name": "smi"
  },
  "language_info": {
   "codemirror_mode": {
    "name": "ipython",
    "version": 3
   },
   "file_extension": ".py",
   "mimetype": "text/x-python",
   "name": "python",
   "nbconvert_exporter": "python",
   "pygments_lexer": "ipython3",
   "version": "3.11.10"
  }
 },
 "nbformat": 4,
 "nbformat_minor": 5
}
