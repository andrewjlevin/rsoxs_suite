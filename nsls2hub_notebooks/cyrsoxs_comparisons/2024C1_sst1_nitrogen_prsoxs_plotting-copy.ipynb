{
 "cells": [
  {
   "cell_type": "markdown",
   "id": "0",
   "metadata": {},
   "source": [
    "# 2023C2: Plotting SST1 RSoXS Data"
   ]
  },
  {
   "cell_type": "markdown",
   "id": "1",
   "metadata": {},
   "source": [
    "## Imports"
   ]
  },
  {
   "cell_type": "code",
   "execution_count": null,
   "id": "2",
   "metadata": {
    "tags": []
   },
   "outputs": [],
   "source": [
    "!pip install -e /nsls2/users/alevin/repos/PyHyperScattering  # to use pip to install via directory"
   ]
  },
  {
   "cell_type": "code",
   "execution_count": null,
   "id": "3",
   "metadata": {
    "tags": []
   },
   "outputs": [],
   "source": [
    "## Imports\n",
    "import PyHyperScattering as phs\n",
    "import pathlib\n",
    "import sys\n",
    "import io\n",
    "import ast\n",
    "import json\n",
    "import datetime\n",
    "import dask.array as da\n",
    "import numpy as np\n",
    "import pandas as pd\n",
    "import xarray as xr\n",
    "import matplotlib.pyplot as plt\n",
    "from matplotlib.colors import LogNorm\n",
    "from tqdm.auto import tqdm\n",
    "import dask.array as da\n",
    "from tiled.client import from_profile, from_uri\n",
    "import subprocess\n",
    "\n",
    "\n",
    "print(f'Using PyHyperScattering Version: {phs.__version__}')"
   ]
  },
  {
   "cell_type": "code",
   "execution_count": null,
   "id": "4",
   "metadata": {
    "tags": []
   },
   "outputs": [],
   "source": [
    "sorted([f.name for f in zarrsPath.glob('TRMSN*nexafs*')])"
   ]
  },
  {
   "cell_type": "code",
   "execution_count": null,
   "id": "5",
   "metadata": {
    "tags": []
   },
   "outputs": [],
   "source": [
    "trmsn_4angle = xr.open_zarr(zarrsPath.joinpath('TRMSN_nexafs_nitrogen_day1.zarr'))\n",
    "trmsn_3angle = xr.open_zarr(zarrsPath.joinpath('TRMSN_nexafs_nitrogen_3angle.zarr'))\n",
    "\n",
    "trmsn_90_part1 = trmsn_4angle.sel(theta=90)\n",
    "trmsn_90_part2 = trmsn_3angle.sel(theta=90)\n",
    "\n",
    "trmsn90 = xr.concat([trmsn_90_part1, trmsn_90_part2], dim='sample_name')\n",
    "trmsn90"
   ]
  },
  {
   "cell_type": "code",
   "execution_count": null,
   "id": "6",
   "metadata": {},
   "outputs": [],
   "source": [
    "# polar_netcdf_paths = str(zarrsPath.joinpath('polar_rsoxs_carbon_ncs')) + '/*.nc'\n",
    "# polar_netcdf_paths"
   ]
  },
  {
   "cell_type": "code",
   "execution_count": null,
   "id": "7",
   "metadata": {
    "tags": []
   },
   "outputs": [],
   "source": [
    "# # rsoxs_datasets = {}\n",
    "# # rsoxs_datasets['polar_carbon'] = xr.open_mfdataset(polar_netcdf_paths, parallel=True)\n",
    "# rsoxs_datasets['polar_carbon'] = xr.open_mfdataset(polar_netcdf_paths)\n",
    "# rsoxs_datasets['polar_carbon']"
   ]
  },
  {
   "cell_type": "code",
   "execution_count": null,
   "id": "8",
   "metadata": {
    "tags": []
   },
   "outputs": [],
   "source": [
    "trmsn90_sample_names = []\n",
    "for sample_name in trmsn90.sample_name.values:\n",
    "    trmsn90_sample_names.append(sample_name.replace('_rot', ''))\n",
    "    \n",
    "display(trmsn90_sample_names)"
   ]
  },
  {
   "cell_type": "code",
   "execution_count": null,
   "id": "9",
   "metadata": {},
   "outputs": [],
   "source": [
    "bad_trmsn_samples = ['Y6_CBCN', 'Y6BO_CBCN', 'Y6BO_CFCN','Y7_CB_2000', 'Y7_CB_2000_1', 'Y7_CBCN', 'Y7_CFCN', \n",
    "                     'Y7BO_CFCN', 'BareSiN_1p5mm', 'BareSiN_1mm', 'BareSiN_1mm_1', 'BareSiN_1mm_2']"
   ]
  },
  {
   "cell_type": "code",
   "execution_count": null,
   "id": "10",
   "metadata": {
    "jupyter": {
     "outputs_hidden": true
    },
    "tags": []
   },
   "outputs": [],
   "source": [
    "selected_samples = [sample_name for sample_name in rsoxs_datasets['polar_nitrogen'].sample_name.values if sample_name not in bad_trmsn_samples]\n",
    "selected_samples"
   ]
  },
  {
   "cell_type": "code",
   "execution_count": null,
   "id": "11",
   "metadata": {
    "jupyter": {
     "outputs_hidden": true
    },
    "tags": []
   },
   "outputs": [],
   "source": [
    "for sample_name in selected_samples:\n",
    "    print(sample_name)\n",
    "    sample_name = sample_name.replace('_1', '')\n",
    "    print(sample_name in trmsn90_sample_names)\n",
    "    print('\\n')"
   ]
  },
  {
   "cell_type": "code",
   "execution_count": null,
   "id": "12",
   "metadata": {
    "jupyter": {
     "outputs_hidden": true
    },
    "tags": []
   },
   "outputs": [],
   "source": [
    "selected_samples"
   ]
  },
  {
   "cell_type": "code",
   "execution_count": null,
   "id": "13",
   "metadata": {
    "jupyter": {
     "outputs_hidden": true
    },
    "tags": []
   },
   "outputs": [],
   "source": [
    "filtered_selected_samples = selected_samples[:19] + selected_samples[22:26] + selected_samples[27:29]\n",
    "filtered_selected_samples"
   ]
  },
  {
   "cell_type": "code",
   "execution_count": null,
   "id": "14",
   "metadata": {},
   "outputs": [],
   "source": [
    "trmsn90"
   ]
  },
  {
   "cell_type": "code",
   "execution_count": null,
   "id": "15",
   "metadata": {},
   "outputs": [],
   "source": [
    "# trmsn90_DA = trmsn90['full_corr_trmsn']\n",
    "trmsn90_DA = trmsn90['pre_corr_trmsn'] / trmsn90['pre_corr_trmsn'].sel(energy=slice(430,440)).mean('energy')\n",
    "# pre_edge_mean = trmsn90_DA.sel(energy=slice(270,280)).mean('energy')\n",
    "# trmsn90_DA = (trmsn90_DA - pre_edge_mean) * -1\n",
    "\n",
    "trmsn90_DA"
   ]
  },
  {
   "cell_type": "code",
   "execution_count": null,
   "id": "16",
   "metadata": {
    "jupyter": {
     "outputs_hidden": true
    },
    "tags": []
   },
   "outputs": [],
   "source": [
    "for sample_name in trmsn90_DA.sample_name.values:\n",
    "    # trmsn90_DA = trmsn90['pre_corr_trmsn'] / trmsn90['pre_corr_trmsn'].sel(energy=slice(430,440)).mean('energy')\n",
    "    trmsn90_DA.sel(sample_name=sample_name).plot()\n",
    "    plt.title(sample_name)\n",
    "    plt.show()"
   ]
  },
  {
   "cell_type": "code",
   "execution_count": null,
   "id": "17",
   "metadata": {},
   "outputs": [],
   "source": [
    "polar_DS = rsoxs_datasets['polar_nitrogen']\n",
    "trmsn90_DA = trmsn90_DA.interp({'energy': polar_DS.energy.values})\n",
    "# polar_DS"
   ]
  },
  {
   "cell_type": "code",
   "execution_count": null,
   "id": "18",
   "metadata": {
    "jupyter": {
     "outputs_hidden": true
    },
    "tags": []
   },
   "outputs": [],
   "source": [
    "trmsn90_samp_DA.drop_vars(['sample_id', 'sample_name', 'theta', 'scan_id'])"
   ]
  },
  {
   "cell_type": "code",
   "execution_count": null,
   "id": "19",
   "metadata": {
    "tags": []
   },
   "outputs": [],
   "source": [
    "fl_bkgs = []\n",
    "trmsn90_bkgs = []\n",
    "\n",
    "for sample_name in tqdm(selected_samples):\n",
    "    polar_samp_DA = polar_DS['corr_intensity'].sel(sample_name=sample_name)\n",
    "    fl_bkg_DA = 1 * polar_samp_DA.sel(polarization=0,q=slice(0.02, 0.06)).mean('chi').integrate('q')\n",
    "    fl_bkgs.append(fl_bkg_DA)\n",
    "    # fl_bkg_DA.plot()\n",
    "    # plt.show()\n",
    "    \n",
    "    trmsn90_samp_DA = trmsn90_DA.sel(sample_name=(sample_name.replace('_1','')+'_rot')).drop_vars(['sample_id', 'sample_name', 'theta', 'scan_id'])\n",
    "    trmsn90_samp_DA = trmsn90_samp_DA.expand_dims({'sample_name':[sample_name]})\n",
    "    trmsn90_bkgs.append(trmsn90_samp_DA)\n",
    "#     trmsn90_samp_DA.plot()\n",
    "#     plt.show()\n",
    "    \n",
    "#     plt.close('all')\n",
    "        "
   ]
  },
  {
   "cell_type": "markdown",
   "id": "20",
   "metadata": {},
   "source": [
    "## Define Paths"
   ]
  },
  {
   "cell_type": "code",
   "execution_count": null,
   "id": "21",
   "metadata": {},
   "outputs": [],
   "source": [
    "def make_para_perp_DAs(datasets, sample_name, edge, intensity_type, pol, qlims, chi_width):\n",
    "    # select dataarray to plot\n",
    "    DS = datasets[f'polar_{edge}']\n",
    "    DA = DS.sel(sample_name=sample_name)[f'{intensity_type}_intensity']\n",
    "    sliced_DA = DA.sel(polarization=pol, q=slice(qlims[0],qlims[1]))\n",
    "\n",
    "    # calculate ISI dataarrays\n",
    "    if pol==0:\n",
    "        para_DA = sliced_DA.rsoxs.slice_chi(180, chi_width=(chi_width/2))\n",
    "        perp_DA = sliced_DA.rsoxs.slice_chi(90, chi_width=(chi_width/2))\n",
    "    elif pol==90:\n",
    "        perp_DA = sliced_DA.rsoxs.slice_chi(180, chi_width=(chi_width/2))\n",
    "        para_DA = sliced_DA.rsoxs.slice_chi(90, chi_width=(chi_width/2))   \n",
    "        \n",
    "    return para_DA, perp_DA"
   ]
  },
  {
   "cell_type": "code",
   "execution_count": null,
   "id": "22",
   "metadata": {},
   "outputs": [],
   "source": [
    "def make_para_perp_DAs(DS, sample_name, intensity_type, pol, qlims, chi_width):\n",
    "    # select dataarray to plot\n",
    "    # DS = datasets[f'polar_{edge}']\n",
    "    DA = DS.sel(sample_name=sample_name)[f'{intensity_type}_intensity']\n",
    "    sliced_DA = DA.sel(polarization=pol, q=slice(qlims[0],qlims[1]))\n",
    "\n",
    "    # calculate ISI dataarrays\n",
    "    if pol==0:\n",
    "        para_DA = sliced_DA.rsoxs.slice_chi(180, chi_width=(chi_width/2))\n",
    "        perp_DA = sliced_DA.rsoxs.slice_chi(90, chi_width=(chi_width/2))\n",
    "    elif pol==90:\n",
    "        perp_DA = sliced_DA.rsoxs.slice_chi(180, chi_width=(chi_width/2))\n",
    "        para_DA = sliced_DA.rsoxs.slice_chi(90, chi_width=(chi_width/2))   \n",
    "        \n",
    "    return para_DA, perp_DA"
   ]
  },
  {
   "cell_type": "code",
   "execution_count": null,
   "id": "23",
   "metadata": {},
   "outputs": [],
   "source": [
    "## Define directory paths\n",
    "userPath = pathlib.Path('/nsls2/users/alevin')\n",
    "propPath = pathlib.Path('/nsls2/data/sst/proposals/2023-3/pass-313412')\n",
    "\n",
    "outPath = propPath.joinpath('processed_data')\n",
    "plotsPath = outPath.joinpath('prsoxs_plots')\n",
    "# jsonPath = outPath.joinpath('local_config')\n",
    "maskPath = outPath.joinpath('masks')\n",
    "zarrsPath = outPath.joinpath('zarrs')\n",
    "\n",
    "\n",
    "# propPath = pathlib.Path('/nsls2/data/sst/proposals/2022-2/pass-309180')\n",
    "# zarrsPath = propPath.joinpath('zarr_datasets_jul2022')\n",
    "# outPath = propPath.joinpath('processed_data')\n",
    "# plotsPath = outPath.joinpath('prsoxs_plots')"
   ]
  },
  {
   "cell_type": "markdown",
   "id": "24",
   "metadata": {},
   "source": [
    "## Load DataArrays "
   ]
  },
  {
   "cell_type": "code",
   "execution_count": null,
   "id": "25",
   "metadata": {},
   "outputs": [],
   "source": [
    "# load dictionary of rsoxs datasets\n",
    "rsoxs_datasets = {}\n",
    "for key in ['cartesian_nitrogen', 'polar_nitrogen']:\n",
    "    key_start = key.split('_')[0]\n",
    "    key_end = key.split('_')[1]        \n",
    "    zarrPath = list(zarrsPath.glob(f'{key_start}*{key_end}_rechunked-v1.zarr'))[0]\n",
    "    rsoxs_datasets[key] = xr.open_zarr(zarrPath)\n",
    "    \n",
    "    # Compute any dask coordiantes\n",
    "    for coord_name, coord_data in rsoxs_datasets[key].coords.items():\n",
    "        if isinstance(coord_data.data, da.Array):\n",
    "            rsoxs_datasets[key].coords[coord_name] = coord_data.compute()\n",
    "    \n",
    "    # # Add bare SiN substrate subtracted data variables if necessary\n",
    "    # if key_start == 'cartesian':\n",
    "    #     DS = rsoxs_datasets[key]\n",
    "    #     DS['sin_sub_raw_intensity'] = DS['raw_intensity'] - DS['raw_intensity'].sel(sample_name='BareSiN')\n",
    "    #     DS['sin_sub_corr_intensity'] = DS['corr_intensity'] - DS['corr_intensity'].sel(sample_name='BareSiN')\n",
    "    #     rsoxs_datasets[key] = DS"
   ]
  },
  {
   "cell_type": "code",
   "execution_count": null,
   "id": "26",
   "metadata": {
    "tags": []
   },
   "outputs": [],
   "source": [
    "# sorted([f.name for f in zarrsPath.glob('TRMSN*nexafs*')])"
   ]
  },
  {
   "cell_type": "code",
   "execution_count": null,
   "id": "27",
   "metadata": {
    "tags": []
   },
   "outputs": [],
   "source": [
    "# trmsn_4angle = xr.open_zarr(zarrsPath.joinpath('TRMSN_nexafs_carbon_day1.zarr'))\n",
    "# trmsn_3angle = xr.open_zarr(zarrsPath.joinpath('TRMSN_nexafs_carbon_3angle.zarr'))\n",
    "\n",
    "# trmsn_90_part1 = trmsn_4angle.sel(theta=90)\n",
    "# trmsn_90_part2 = trmsn_3angle.sel(theta=90)\n",
    "\n",
    "# trmsn90 = xr.concat([trmsn_90_part1, trmsn_90_part2], dim='sample_name')\n",
    "# trmsn90"
   ]
  },
  {
   "cell_type": "code",
   "execution_count": null,
   "id": "28",
   "metadata": {},
   "outputs": [],
   "source": [
    "polar_netcdf_paths = str(zarrsPath.joinpath('polar_rsoxs_nitrogen_ncs_v1')) + '/*.nc'\n",
    "polar_netcdf_paths"
   ]
  },
  {
   "cell_type": "code",
   "execution_count": null,
   "id": "29",
   "metadata": {
    "tags": []
   },
   "outputs": [],
   "source": [
    "rsoxs_datasets = {}\n",
    "rsoxs_datasets['polar_nitrogen'] = xr.open_mfdataset(polar_netcdf_paths, parallel=True)\n",
    "# rsoxs_datasets['polar_nitrogen'] = xr.open_mfdataset(polar_netcdf_paths)\n",
    "rsoxs_datasets['polar_nitrogen']"
   ]
  },
  {
   "cell_type": "code",
   "execution_count": null,
   "id": "30",
   "metadata": {
    "tags": []
   },
   "outputs": [],
   "source": [
    "# trmsn90_sample_names = []\n",
    "# for sample_name in trmsn90.sample_name.values:\n",
    "#     trmsn90_sample_names.append(sample_name.replace('_rot', ''))\n",
    "    \n",
    "# display(trmsn90_sample_names)"
   ]
  },
  {
   "cell_type": "code",
   "execution_count": null,
   "id": "31",
   "metadata": {},
   "outputs": [],
   "source": [
    "# bad_trmsn_samples = ['Y6_CBCN', 'Y6BO_CBCN', 'Y6BO_CFCN','Y7_CB_2000', 'Y7_CBCN', 'Y7_CFCN', \n",
    "#                      'Y7BO_CFCN', 'PM6-Y6_CBCN', 'PM6-Y6BO_CBCN', 'BareSiN_1p5mm', \n",
    "#                      'BareSiN_1mm', 'BareSiN_1mm_1', 'BareSiN_1mm_2']"
   ]
  },
  {
   "cell_type": "code",
   "execution_count": null,
   "id": "32",
   "metadata": {
    "tags": []
   },
   "outputs": [],
   "source": [
    "# selected_samples = [sample_name for sample_name in rsoxs_datasets['polar_carbon'].sample_name.values if sample_name not in bad_trmsn_samples]\n",
    "# selected_samples"
   ]
  },
  {
   "cell_type": "code",
   "execution_count": null,
   "id": "33",
   "metadata": {
    "tags": []
   },
   "outputs": [],
   "source": [
    "# for sample_name in selected_samples:\n",
    "#     print(sample_name)\n",
    "#     sample_name = sample_name.replace('_1', '')\n",
    "#     print(sample_name in trmsn90_sample_names)\n",
    "#     print('\\n')"
   ]
  },
  {
   "cell_type": "code",
   "execution_count": null,
   "id": "34",
   "metadata": {
    "tags": []
   },
   "outputs": [],
   "source": [
    "# for DA in trmsn90['full_corr_trmsn']:\n",
    "#     sample_name = str(DA.sample_name.values).replace('_rot', '')\n",
    "#     if sample_name not in bad_trmsn_samples:\n",
    "#         DA.plot.line()\n",
    "#         plt.title(sample_name)\n",
    "#         plt.show()"
   ]
  },
  {
   "cell_type": "code",
   "execution_count": null,
   "id": "35",
   "metadata": {},
   "outputs": [],
   "source": [
    "# DS['alo_sub_raw_intensity'] = DS['raw_intensity'] - DS['raw_intensity'].sel(sample_name='BareAlO')\n",
    "# DS['alo_sub_corr_intensity'] = DS['corr_intensity'] - DS['corr_intensity'].sel(sample_name='BareAlO')\n",
    "\n",
    "cmap = plt.cm.turbo.copy()\n",
    "cmap.set_bad(cmap.get_under())"
   ]
  },
  {
   "cell_type": "markdown",
   "id": "36",
   "metadata": {},
   "source": [
    "## Intensity Plots"
   ]
  },
  {
   "cell_type": "markdown",
   "id": "37",
   "metadata": {
    "tags": []
   },
   "source": [
    "### 1. Detector movies"
   ]
  },
  {
   "cell_type": "code",
   "execution_count": null,
   "id": "38",
   "metadata": {},
   "outputs": [],
   "source": [
    "cartesian_netcdf_paths = str(zarrsPath.joinpath('cartesian_rsoxs_nitrogen_ncs_v1')) + '/*.nc'\n",
    "cartesian_netcdf_paths"
   ]
  },
  {
   "cell_type": "code",
   "execution_count": null,
   "id": "39",
   "metadata": {
    "tags": []
   },
   "outputs": [],
   "source": [
    "# rsoxs_datasets = {}\n",
    "rsoxs_datasets['cartesian_nitrogen'] = xr.open_mfdataset(cartesian_netcdf_paths, parallel=True)\n",
    "# rsoxs_datasets['cartesian_nitrogen'] = xr.open_mfdataset(cartesian_netcdf_paths)\n",
    "rsoxs_datasets['cartesian_nitrogen']"
   ]
  },
  {
   "cell_type": "code",
   "execution_count": null,
   "id": "40",
   "metadata": {},
   "outputs": [],
   "source": [
    "rsoxs_datasets['cartesian_nitrogen']['corr_intensity'] = ((rsoxs_datasets['cartesian_nitrogen']['raw_intensity'] / rsoxs_datasets['cartesian_nitrogen']['sample_au_mesh'])\n",
    "                                                        * (rsoxs_datasets['cartesian_nitrogen']['calib_au_mesh'] / rsoxs_datasets['cartesian_nitrogen']['calib_diode']))"
   ]
  },
  {
   "cell_type": "code",
   "execution_count": null,
   "id": "41",
   "metadata": {
    "tags": []
   },
   "outputs": [],
   "source": [
    "# Select Dataset\n",
    "edge = 'nitrogen'\n",
    "DS = rsoxs_datasets[f'cartesian_{edge}']\n",
    "bcx = DS['raw_intensity'].beamcenter_x\n",
    "bcy = DS['raw_intensity'].beamcenter_y\n",
    "\n",
    "\n",
    "# Select Plotting Parameters\n",
    "# pol = 90\n",
    "# energy = 285\n",
    "energy  = 399.8\n",
    "pix_size = 500\n",
    "pix_x_slice = slice(bcx-(pix_size/2), bcx+(pix_size/2))\n",
    "pix_y_slice = slice(bcy-(pix_size/2), bcy+(pix_size/2))\n",
    "cmin = 1e9\n",
    "cmax = 6e10\n",
    "# cmin = 4e1\n",
    "# cmax = 5e4\n",
    "\n",
    "# Select DataArray\n",
    "# sample_name = 'PM6-Y6_3000_dSiN'\n",
    "for pol in [0, 90]:\n",
    "    for sample_name in tqdm(DS.sample_name.values[:4], desc=f'Pol = {pol}°'):\n",
    "        intensity_type = 'corr'\n",
    "        DA = DS.sel(sample_name=sample_name)[f'{intensity_type}_intensity']\n",
    "        # cmin = float(DA.where(sliced_DA>0).compute().quantile(0.35))\n",
    "        # cmax = float(DA.where(sliced_DA>0).compute().quantile(0.9999))\n",
    "\n",
    "        # Plot\n",
    "        sliced_DA = DA.sel(polarization=pol, pix_x=pix_x_slice, pix_y=pix_y_slice).sel(energy=energy,method='nearest')\n",
    "        # print(f'cmin={cmin}, cmax={cmax}')\n",
    "        ax = sliced_DA.plot.imshow(figsize=(5.5,4.5), x='qx', y='qy', cmap=cmap, norm=LogNorm(cmin,cmax))\n",
    "        ax.figure.suptitle(f'Photon Energy = {np.round(energy, 1)} eV', fontsize=14, y=0.96)\n",
    "        ax.figure.set_tight_layout(True)\n",
    "        ax.axes.set(aspect='equal', title=f'{sample_name}, Polarization = {pol}°', xlabel='q$_x$ [$Å^{-1}$]', ylabel='q$_y$ [$Å^{-1}$]')\n",
    "        ax.colorbar.set_label('Double-Norm-Corrected Intensity [arb. units]', rotation=270, labelpad=12)\n",
    "        ax.figure.savefig(plotsPath.joinpath('detector_movies_nitrogen_v1', f'{sample_name}_{edge}_{intensity_type}_pol{pol}deg.jpeg'), dpi=120)\n",
    "        # plt.show()\n",
    "        plt.close('all')"
   ]
  },
  {
   "cell_type": "code",
   "execution_count": null,
   "id": "42",
   "metadata": {
    "jupyter": {
     "outputs_hidden": true
    },
    "tags": []
   },
   "outputs": [],
   "source": [
    "for i, sample_name in enumerate(rsoxs_datasets['cartesian_nitrogen'].sample_name.values[:]):\n",
    "    print(f'{i} - {sample_name}')"
   ]
  },
  {
   "cell_type": "raw",
   "id": "43",
   "metadata": {},
   "source": [
    "rclone copy -P detector_movies_oxygen_v1 remote:research/data_analysis/rsoxs_suite/prsoxs_plots/2023C2/detector_movies_oxygen_v1 --exclude \"*checkpoint*\"\n",
    "rclone --dry-run copy -P detector_movies_carbon_v2 remote:research/data_analysis/rsoxs_suite/prsoxs_plots/2023C2/detector_movies_carbon_v2 --exclude \"*checkpoint*\"\n",
    "\n",
    "rclone copy -P isi_oxygen_v1 remote:research/data_analysis/rsoxs_suite/prsoxs_plots/2023C2/isi_oxygen_v1 --exclude \"*checkpoint*\"\n",
    "rclone copy -P linecut_maps_oxygen_v1 remote:research/data_analysis/rsoxs_suite/prsoxs_plots/2023C2/linecut_maps_oxygen_v1 --exclude \"*checkpoint*\"\n",
    "rclone copy -P ar_maps_oxygen_v1 remote:research/data_analysis/rsoxs_suite/prsoxs_plots/2023C2/ar_maps_oxygen_v1 --exclude \"*checkpoint*\"\n",
    "\n",
    "rclone --dry-run sync -P . remote:research/data_analysis/rsoxs_suite/prsoxs_plots/2023C2/ --exclude \"*checkpoint*\"\n",
    "rclone copy -P . remote:research/data_analysis/rsoxs_suite/prsoxs_plots/2023C3/ --exclude \"*checkpoint*\""
   ]
  },
  {
   "cell_type": "code",
   "execution_count": null,
   "id": "44",
   "metadata": {},
   "outputs": [],
   "source": [
    "plotsPath"
   ]
  },
  {
   "cell_type": "code",
   "execution_count": null,
   "id": "45",
   "metadata": {
    "tags": []
   },
   "outputs": [],
   "source": [
    "# Select Dataset\n",
    "edge = 'nitrogen'\n",
    "DS = rsoxs_datasets[f'cartesian_{edge}']\n",
    "bcx = DS['raw_intensity'].beamcenter_x\n",
    "bcy = DS['raw_intensity'].beamcenter_y\n",
    "\n",
    "# Select Plotting Parameters\n",
    "# pol = 90\n",
    "pix_size = 500\n",
    "pix_x_slice = slice(bcx-(pix_size/2), bcx+(pix_size/2))\n",
    "pix_y_slice = slice(bcy-(pix_size/2), bcy+(pix_size/2))\n",
    "intensity_type = 'corr'\n",
    "\n",
    "# Select DataArray\n",
    "# sample_name = 'PM6-Y6_3000_dSiN'\n",
    "for pol in [90]:\n",
    "    for sample_name in tqdm(DS.sample_name.values[:12], desc=f'Polarization {pol}°'):\n",
    "        DA = DS.sel(sample_name=sample_name)[f'{intensity_type}_intensity']\n",
    "\n",
    "        output_path = plotsPath.joinpath('detector_movies_nitrogen_v1', f'{sample_name}_{edge}_{intensity_type}_pol{pol}deg.mp4')\n",
    "\n",
    "        # FFmpeg command. This is set up to accept data from the pipe and use it as input, with PNG format.\n",
    "        # It will then output an H.264 encoded MP4 video.\n",
    "        cmd = [\n",
    "            'ffmpeg',\n",
    "            '-y',  # Overwrite output file if it exists\n",
    "            '-f', 'image2pipe',\n",
    "            '-vcodec', 'png',\n",
    "            '-r', '23',  # Frame rate\n",
    "            '-i', '-',  # The input comes from a pipe\n",
    "            '-vcodec', 'libx264',\n",
    "            '-pix_fmt', 'yuv420p',\n",
    "            '-crf', '22',  # Set the quality (lower is better, 17 is often considered visually lossless)\n",
    "            str(output_path)\n",
    "        ]\n",
    "\n",
    "        # Start the subprocess\n",
    "        proc = subprocess.Popen(cmd, stdin=subprocess.PIPE, stdout=subprocess.PIPE, stderr=subprocess.PIPE)\n",
    "\n",
    "        # Loop through the energy dimension and send frames to FFmpeg\n",
    "        for energy in tqdm(DA.energy.values, desc=f'Making the {sample_name} movie'):\n",
    "            # Make & customize plot\n",
    "            sliced_DA = DA.sel(polarization=pol, pix_x=pix_x_slice, pix_y=pix_y_slice).sel(energy=energy, method='nearest')\n",
    "            ax = sliced_DA.plot.imshow(figsize=(5.5,4.5), x='qx', y='qy', cmap=cmap, norm=LogNorm(cmin,cmax))\n",
    "            ax.figure.suptitle(f'Photon Energy = {np.round(energy, 1)} eV', fontsize=14, y=0.96)\n",
    "            ax.figure.set_tight_layout(True)   \n",
    "            ax.axes.set(aspect='equal', title=f'{sample_name}, Polarization = {pol}°', xlabel='q$_x$ [$Å^{-1}$]', ylabel='q$_y$ [$Å^{-1}$]')\n",
    "            ax.colorbar.set_label('Double-Norm-Corrected Intensity [arb. units]', rotation=270, labelpad=12)\n",
    "\n",
    "            # Save figure to a PNG buffer\n",
    "            # ax.figure.savefig(plotsPath.joinpath('detector_movies/frames', f'energy-{round(energy)}_frame-{i:03d}.png'), dpi=120)\n",
    "\n",
    "            buf = io.BytesIO()\n",
    "            ax.figure.savefig(buf, format='png')\n",
    "            buf.seek(0)\n",
    "\n",
    "            # Write the PNG buffer data to the process\n",
    "            proc.stdin.write(buf.getvalue())\n",
    "            plt.close('all')\n",
    "\n",
    "        # Finish the subprocess\n",
    "        out, err = proc.communicate()\n",
    "        if proc.returncode != 0:\n",
    "            print(f\"Error: {err}\")\n"
   ]
  },
  {
   "cell_type": "markdown",
   "id": "46",
   "metadata": {
    "tags": []
   },
   "source": [
    "### 2. ISI Plots"
   ]
  },
  {
   "cell_type": "code",
   "execution_count": null,
   "id": "47",
   "metadata": {
    "jupyter": {
     "outputs_hidden": true
    },
    "tags": []
   },
   "outputs": [],
   "source": [
    "full_DS = rsoxs_datasets['polar_nitrogen'].copy()\n",
    "full_DS"
   ]
  },
  {
   "cell_type": "code",
   "execution_count": null,
   "id": "48",
   "metadata": {
    "tags": []
   },
   "outputs": [],
   "source": [
    "# make selection\n",
    "edge = 'nitrogen'\n",
    "intensity_type = 'corr'\n",
    "# pol = 0\n",
    "qlims = (9e-3, None)\n",
    "qslice = (1e-2, 1e-1)\n",
    "chi_width = 90\n",
    "\n",
    "energy_min = 395\n",
    "energy_max = 407\n",
    "\n",
    "\n",
    "for sample_name in tqdm(sorted(selected_samples)):\n",
    "# for sample_name in tqdm(['PM6-Y6_CB', 'PM6-Y6_CBCN', 'PM6-Y6_CF', 'PM6-Y6_CFCN']):\n",
    "# for sample_name in tqdm(sorted(rsoxs_datasets['polar_nitrogen'].sample_name.values[:])):\n",
    "# for sample_name in tqdm(['PM6-Y6_CB', 'PM6-Y6BO_CB', 'PM6-Y6BO_CF']):\n",
    "    # for pol in [0]:\n",
    "    #     para_DA, perp_DA = make_para_perp_DAs(rsoxs_datasets, sample_name, edge, intensity_type, pol, qlims, chi_width) \n",
    "   \n",
    "    pol_paras = []\n",
    "    pol_perps = []\n",
    "    for pol in [0, 90]:\n",
    "        para_DA, perp_DA = make_para_perp_DAs(rsoxs_datasets, sample_name, edge, intensity_type, pol, qlims, chi_width) \n",
    "        pol_paras.append(para_DA)\n",
    "        pol_perps.append(perp_DA)\n",
    "\n",
    "\n",
    "    pol_paras[0] = pol_paras[0].assign_coords({'chi': np.linspace(0, chi_width, len(pol_paras[0].chi.values))})  # .assign_coords({'chi': np.linspace(0, 90,len(pol_paras[1].chi.values))})\n",
    "    pol_paras[1] = pol_paras[1].assign_coords({'chi': np.linspace(0, chi_width, len(pol_paras[1].chi.values))})  # .assign_coords({'chi': np.linspace(0, 90,len(pol_paras[1].chi.values))})\n",
    "    pol_perps[0] = pol_perps[0].assign_coords({'chi': np.linspace(0, chi_width, len(pol_perps[0].chi.values))})  # .assign_coords({'chi': np.linspace(0, 90,len(pol_perps[1].chi.values))})\n",
    "    pol_perps[1] = pol_perps[1].assign_coords({'chi': np.linspace(0, chi_width, len(pol_perps[1].chi.values))})  # .assign_coords({'chi': np.linspace(0, 90,len(pol_perps[1].chi.values))})\n",
    "\n",
    "    pol_paras[0] = pol_paras[0].interp({'chi': pol_paras[1].chi.values})  # .assign_coords({'chi': np.linspace(0, 90,len(pol_paras[1].chi.values))})\n",
    "    pol_perps[0] = pol_perps[0].interp({'chi': pol_perps[1].chi.values})  # .assign_coords({'chi': np.linspace(0, 90,len(pol_perps[1].chi.values))})\n",
    "\n",
    "    para_DA = (pol_paras[0] + pol_paras[1])/2\n",
    "    perp_DA = (pol_perps[0] + pol_perps[1])/2\n",
    "\n",
    "    para_DA = para_DA.assign_coords({'polarization':'avg'})\n",
    "    perp_DA = perp_DA.assign_coords({'polarization':'avg'})\n",
    "\n",
    "    para_DA = para_DA.interpolate_na(dim='q')\n",
    "    perp_DA = perp_DA.interpolate_na(dim='q')\n",
    "\n",
    "    pol = str(para_DA.polarization.values) \n",
    "    \n",
    "    # Subtract bare SiN:\n",
    "    samp_para_factor = float(para_DA.sel(energy=slice(396,405), q=slice(3e-2,8e-2)).mean('chi').mean('energy').mean('q'))\n",
    "    samp_perp_factor = float(perp_DA.sel(energy=slice(396,405), q=slice(3e-2,8e-2)).mean('chi').mean('energy').mean('q'))\n",
    "    \n",
    "    sin_para_factor = float(sin_para_DA.sel(energy=slice(396,405), q=slice(3e-2,8e-2)).mean('chi').mean('energy').mean('q'))\n",
    "    sin_perp_factor = float(sin_perp_DA.sel(energy=slice(396,405), q=slice(3e-2,8e-2)).mean('chi').mean('energy').mean('q'))\n",
    "    \n",
    "    manual_scale_factor = manual_scale_factors_v2[sample_name]\n",
    "        \n",
    "    para_DA = para_DA - (manual_scale_factor * ((sin_para_DA/sin_para_factor) * samp_para_factor))\n",
    "    perp_DA = perp_DA - (manual_scale_factor * ((sin_perp_DA/sin_perp_factor) * samp_perp_factor))\n",
    "    \n",
    "    # slice ISI data\n",
    "    para_ISI = para_DA.interpolate_na(dim='q').sel(q=slice(qslice[0], qslice[1])).mean('chi').mean('q')\n",
    "    perp_ISI = perp_DA.interpolate_na(dim='q').sel(q=slice(qslice[0], qslice[1])).mean('chi').mean('q')\n",
    "    \n",
    "    # plot\n",
    "    fig, ax = plt.subplots(dpi=120, tight_layout=True)\n",
    "    # fig, ax = plt.subplots(figsize=(7,3.5), dpi=120, tight_layout=True)\n",
    "\n",
    "    para_ISI.sel(energy=slice(energy_min,energy_max)).plot.line(ax=ax, label='para', yscale='log')\n",
    "    perp_ISI.sel(energy=slice(energy_min,energy_max)).plot.line(ax=ax, label='perp', yscale='log')\n",
    "    fig.suptitle(f'Integrated scattering intensity (ISI), Bare SiN Subtracted: {sample_name}', fontsize=14, x=0.55)\n",
    "    ax.set(title=f'Polarization = {pol}°, Chi Width = {chi_width}°, Q range = ({qslice[0]}, {qslice[1]}) ' + 'Å$^{-1}$', \n",
    "           xlabel='X-ray energy [eV]', ylabel='Intensity [arb. units]')\n",
    "    ax.legend()\n",
    "    # plt.show()\n",
    "\n",
    "    fig.savefig(plotsPath.joinpath('nitrogen', 'isi_nitrogen_v2', \n",
    "        f'{sample_name}_{edge}_{intensity_type}_chiWidth-{chi_width}deg_qrange-{qslice[0]}-{qslice[1]}_pol{pol}deg.png'), dpi=120)\n",
    "\n",
    "    plt.close('all')"
   ]
  },
  {
   "cell_type": "code",
   "execution_count": null,
   "id": "49",
   "metadata": {},
   "outputs": [],
   "source": [
    "selected_samples = ['Y6_3000_dSiN', 'PM6_3000_dSiN', 'PM6-Y6_3000_dSiN', 'PM7-Y6_3000_dSiN', 'Y7_3000_dSiN', 'PM7_3000_dSiN', 'PM7-Y7_3000_dSiN']\n",
    "# selected_samples = ['Y6_3000_dSiN', 'PM6_3000_dSiN', 'PM6-Y6_3000_dSiN', 'PM7-Y6_3000_dSiN', 'Y7_3000_dSiN', 'PM7_3000_dSiN', 'PM7-Y7_3000_dSiN']"
   ]
  },
  {
   "cell_type": "code",
   "execution_count": null,
   "id": "50",
   "metadata": {},
   "outputs": [],
   "source": [
    "rsoxs_datasets['polar_carbon']"
   ]
  },
  {
   "cell_type": "markdown",
   "id": "51",
   "metadata": {
    "tags": []
   },
   "source": [
    "### 3. 2D Linecut Maps"
   ]
  },
  {
   "cell_type": "code",
   "execution_count": null,
   "id": "52",
   "metadata": {
    "tags": []
   },
   "outputs": [],
   "source": [
    "full_DS = rsoxs_datasets['polar_carbon'].copy()\n",
    "full_DS"
   ]
  },
  {
   "cell_type": "code",
   "execution_count": null,
   "id": "53",
   "metadata": {
    "tags": []
   },
   "outputs": [],
   "source": [
    "# make selection\n",
    "edge = 'nitrogen'\n",
    "intensity_type = 'corr'\n",
    "qlims = (9.5e-3, None)\n",
    "chi_width = 90\n",
    "\n",
    "# energy_min = 380\n",
    "# energy_max = 440\n",
    "\n",
    "energy_min = 395\n",
    "energy_max = 407\n",
    "\n",
    "# energy_min = 260\n",
    "# energy_max = 350\n",
    "\n",
    "# energy_min = 282\n",
    "# energy_max = 292\n",
    "\n",
    "# sin_DS = full_DS.sel(sample_name='BareSiN_1mm_1')\n",
    "\n",
    "for sample_name in tqdm(sorted(selected_samples)):\n",
    "# for sample_name in tqdm(['PM6-Y6_CB', 'PM6-Y6_CBCN', 'PM6-Y6_CF', 'PM6-Y6_CFCN']):\n",
    "# for sample_name in tqdm(sorted(rsoxs_datasets['polar_nitrogen'].sample_name.values[:])):\n",
    "# for sample_name in tqdm(['PM6-Y6_CB', 'PM6-Y6BO_CB', 'PM6-Y6BO_CF']):\n",
    "    # for pol in [0]:\n",
    "    #     para_DA, perp_DA = make_para_perp_DAs(rsoxs_datasets, sample_name, edge, intensity_type, pol, qlims, chi_width) \n",
    "   \n",
    "    pol_paras = []\n",
    "    pol_perps = []\n",
    "    for pol in [0, 90]:\n",
    "        para_DA, perp_DA = make_para_perp_DAs(rsoxs_datasets, sample_name, edge, intensity_type, pol, qlims, chi_width) \n",
    "        pol_paras.append(para_DA)\n",
    "        pol_perps.append(perp_DA)\n",
    "\n",
    "\n",
    "    pol_paras[0] = pol_paras[0].assign_coords({'chi': np.linspace(0, chi_width, len(pol_paras[0].chi.values))})  # .assign_coords({'chi': np.linspace(0, 90,len(pol_paras[1].chi.values))})\n",
    "    pol_paras[1] = pol_paras[1].assign_coords({'chi': np.linspace(0, chi_width, len(pol_paras[1].chi.values))})  # .assign_coords({'chi': np.linspace(0, 90,len(pol_paras[1].chi.values))})\n",
    "    pol_perps[0] = pol_perps[0].assign_coords({'chi': np.linspace(0, chi_width, len(pol_perps[0].chi.values))})  # .assign_coords({'chi': np.linspace(0, 90,len(pol_perps[1].chi.values))})\n",
    "    pol_perps[1] = pol_perps[1].assign_coords({'chi': np.linspace(0, chi_width, len(pol_perps[1].chi.values))})  # .assign_coords({'chi': np.linspace(0, 90,len(pol_perps[1].chi.values))})\n",
    "\n",
    "    pol_paras[0] = pol_paras[0].interp({'chi': pol_paras[1].chi.values})  # .assign_coords({'chi': np.linspace(0, 90,len(pol_paras[1].chi.values))})\n",
    "    pol_perps[0] = pol_perps[0].interp({'chi': pol_perps[1].chi.values})  # .assign_coords({'chi': np.linspace(0, 90,len(pol_perps[1].chi.values))})\n",
    "\n",
    "    para_DA = (pol_paras[0] + pol_paras[1])/2\n",
    "    perp_DA = (pol_perps[0] + pol_perps[1])/2\n",
    "\n",
    "    para_DA = para_DA.assign_coords({'polarization':'avg'})\n",
    "    perp_DA = perp_DA.assign_coords({'polarization':'avg'})\n",
    "\n",
    "    para_DA = para_DA.interpolate_na(dim='q')\n",
    "    perp_DA = perp_DA.interpolate_na(dim='q')\n",
    "\n",
    "    pol = str(para_DA.polarization.values) \n",
    "    \n",
    "    # Subtract bare SiN:\n",
    "    samp_para_factor = float(para_DA.sel(energy=slice(396,405), q=slice(3e-2,8e-2)).mean('chi').mean('energy').mean('q'))\n",
    "    samp_perp_factor = float(perp_DA.sel(energy=slice(396,405), q=slice(3e-2,8e-2)).mean('chi').mean('energy').mean('q'))\n",
    "    \n",
    "    sin_para_factor = float(sin_para_DA.sel(energy=slice(396,405), q=slice(3e-2,8e-2)).mean('chi').mean('energy').mean('q'))\n",
    "    sin_perp_factor = float(sin_perp_DA.sel(energy=slice(396,405), q=slice(3e-2,8e-2)).mean('chi').mean('energy').mean('q'))\n",
    "    \n",
    "    manual_scale_factor = manual_scale_factors_v2[sample_name]\n",
    "        \n",
    "    para_DA = para_DA - (manual_scale_factor * ((sin_para_DA/sin_para_factor) * samp_para_factor))\n",
    "    perp_DA = perp_DA - (manual_scale_factor * ((sin_perp_DA/sin_perp_factor) * samp_perp_factor))\n",
    "    \n",
    "    # Plot\n",
    "    fig, axs = plt.subplots(1, 2, figsize=(11,5))\n",
    "    cmin = 3e8\n",
    "    cmax = 5e10\n",
    "\n",
    "    para_slice = para_DA.mean('chi').sel(q=slice(None,None), energy=slice(energy_min,energy_max))  # .plot(ax=axs[0], cmap=cmap, norm=LogNorm(cmin, cmax), add_colorbar=False)\n",
    "    perp_slice = perp_DA.mean('chi').sel(q=slice(None,None), energy=slice(energy_min,energy_max))  # .plot(ax=axs[1], cmap=cmap, norm=LogNorm(cmin, cmax), add_colorbar=False)\n",
    "\n",
    "    # cmin = para_slice.compute().quantile(0.01)\n",
    "    # cmax = para_slice.compute().quantile(0.995)\n",
    "\n",
    "    para_slice.plot(ax=axs[0], cmap=cmap, norm=LogNorm(cmin, cmax), add_colorbar=False)\n",
    "    perp_slice.plot(ax=axs[1], cmap=cmap, norm=LogNorm(cmin, cmax), add_colorbar=False)\n",
    "\n",
    "    # Add colorbar\n",
    "    sm = plt.cm.ScalarMappable(cmap=cmap, norm=LogNorm(cmin, cmax)) # Create a ScalarMappable object with the colormap and normalization & add the colorbar to the figure\n",
    "    cax = axs[1].inset_axes([1.03, 0, 0.05, 1])\n",
    "    cbar = fig.colorbar(sm, cax=cax, orientation='vertical')\n",
    "    cbar.set_label(label='Double-Norm-Corrected Intensity [arb. units]', labelpad=12, rotation=270)\n",
    "\n",
    "    fig.suptitle(f'Linecut Maps: {sample_name}, Polarization = {pol}°, Chi Width = {chi_width}°', fontsize=14)\n",
    "    # fig.suptitle(f'Linecut Maps: {sample_name} Bare SiN Subtracted, Polarization = {pol}°, Chi Width = {chi_width}°', fontsize=14)\n",
    "\n",
    "    fig.set(tight_layout=True)\n",
    "\n",
    "    axs[0].set(xscale='log', title='Parallel to $E_p$', ylabel='Photon energy [eV]', xlabel='q [$Å^{-1}$]')\n",
    "    axs[1].set(xscale='log', title='Perpendicular to $E_p$ ', ylabel=None, xlabel='q [$Å^{-1}$]')\n",
    "\n",
    "    fig.savefig(plotsPath.joinpath('nitrogen', 'linecut_maps_nitrogen_v2', f'{sample_name}_{edge}_{energy_min}-{energy_max}_{intensity_type}_chiWidth-{chi_width}deg_pol{pol}deg.png'), dpi=120)\n",
    "    # fig.savefig(plotsPath.joinpath('linecut_maps_nitrogen_v1', f'sin-sub_{sample_name}_{edge}_{energy_min}-{energy_max}_{intensity_type}_chiWidth-{chi_width}deg_pol{pol}deg.png'), dpi=120)\n",
    "    # fig.savefig(plotsPath.joinpath('linecut_maps_nitrogen_v1', f'sin-fl-sub_{sample_name}_{edge}_{energy_min}-{energy_max}_{intensity_type}-sin-fl_chiWidth-{chi_width}deg_pol{pol}deg.png'), dpi=120)\n",
    "\n",
    "    # plt.show()\n",
    "    plt.close('all')"
   ]
  },
  {
   "cell_type": "code",
   "execution_count": null,
   "id": "54",
   "metadata": {},
   "outputs": [],
   "source": [
    "# a = para_EvsQ_avg.hvplot.line(groupby=\"energy\", loglog=True)\n",
    "# a * perp_EvsQ_avg.hvplot.line(groupby=\"energy\")"
   ]
  },
  {
   "cell_type": "markdown",
   "id": "55",
   "metadata": {
    "tags": []
   },
   "source": [
    "### 4. Meaned 1D intensity lineplots, selected energies"
   ]
  },
  {
   "cell_type": "code",
   "execution_count": null,
   "id": "56",
   "metadata": {},
   "outputs": [],
   "source": [
    "bad_trmsn_samples = ['Y6_CBCN', 'Y6BO_CBCN', 'Y6BO_CFCN','Y7_CB_2000', 'Y7_CB_2000_1', 'Y7_CBCN', 'Y7_CFCN', \n",
    "                     'Y7BO_CFCN', 'BareSiN_1p5mm', 'BareSiN_1mm', 'BareSiN_1mm_1', 'BareSiN_1mm_2']"
   ]
  },
  {
   "cell_type": "code",
   "execution_count": null,
   "id": "57",
   "metadata": {
    "jupyter": {
     "outputs_hidden": true
    },
    "tags": []
   },
   "outputs": [],
   "source": [
    "selected_samples = [sample_name for sample_name in rsoxs_datasets['polar_nitrogen'].sample_name.values if sample_name not in bad_trmsn_samples]\n",
    "selected_samples"
   ]
  },
  {
   "cell_type": "code",
   "execution_count": null,
   "id": "58",
   "metadata": {},
   "outputs": [],
   "source": [
    "rsoxs_datasets['polar_nitrogen']"
   ]
  },
  {
   "cell_type": "code",
   "execution_count": null,
   "id": "59",
   "metadata": {},
   "outputs": [],
   "source": [
    "polar_DS['corr_intensity'].sel(sample_name='PM6-Y6_CB', polarization=0).sel(energy=400,method='nearest').plot(cmap=cmap, norm=LogNorm(2e9,1e10))\n",
    "plt.show()"
   ]
  },
  {
   "cell_type": "code",
   "execution_count": null,
   "id": "60",
   "metadata": {
    "jupyter": {
     "outputs_hidden": true
    },
    "tags": []
   },
   "outputs": [],
   "source": [
    "sorted(selected_samples)"
   ]
  },
  {
   "cell_type": "code",
   "execution_count": null,
   "id": "61",
   "metadata": {
    "jupyter": {
     "outputs_hidden": true
    },
    "tags": []
   },
   "outputs": [],
   "source": [
    "trmsn90_bkgs = []\n",
    "\n",
    "for sample_name in tqdm(selected_samples):  \n",
    "    trmsn90_samp_DA = trmsn90_DA.sel(sample_name=(sample_name.replace('_1','')+'_rot')).drop_vars(['sample_id', 'sample_name', 'theta', 'scan_id'])\n",
    "    trmsn90_samp_DA = trmsn90_samp_DA.expand_dims({'sample_name':[sample_name]})\n",
    "    trmsn90_bkgs.append(trmsn90_samp_DA)\n",
    "\n",
    "trmsn90_bkgs_DA = xr.concat(trmsn90_bkgs, dim='sample_name')\n",
    "trmsn90_bkgs_DA"
   ]
  },
  {
   "cell_type": "code",
   "execution_count": null,
   "id": "62",
   "metadata": {
    "jupyter": {
     "outputs_hidden": true
    },
    "tags": []
   },
   "outputs": [],
   "source": [
    "sorted(rsoxs_datasets['polar_nitrogen'].sample_name.values[:])"
   ]
  },
  {
   "cell_type": "code",
   "execution_count": null,
   "id": "63",
   "metadata": {},
   "outputs": [],
   "source": [
    "sample_name = 'BareSiN_1mm'\n",
    "\n",
    "pol_paras = []\n",
    "pol_perps = []\n",
    "for pol in [0, 90]:\n",
    "    para_DA, perp_DA = make_para_perp_DAs(rsoxs_datasets, sample_name, edge, intensity_type, pol, qlims, chi_width) \n",
    "    pol_paras.append(para_DA)\n",
    "    pol_perps.append(perp_DA)\n",
    "\n",
    "\n",
    "pol_paras[0] = pol_paras[0].assign_coords({'chi': np.linspace(0, chi_width, len(pol_paras[0].chi.values))})  # .assign_coords({'chi': np.linspace(0, 90,len(pol_paras[1].chi.values))})\n",
    "pol_paras[1] = pol_paras[1].assign_coords({'chi': np.linspace(0, chi_width, len(pol_paras[1].chi.values))})  # .assign_coords({'chi': np.linspace(0, 90,len(pol_paras[1].chi.values))})\n",
    "pol_perps[0] = pol_perps[0].assign_coords({'chi': np.linspace(0, chi_width, len(pol_perps[0].chi.values))})  # .assign_coords({'chi': np.linspace(0, 90,len(pol_perps[1].chi.values))})\n",
    "pol_perps[1] = pol_perps[1].assign_coords({'chi': np.linspace(0, chi_width, len(pol_perps[1].chi.values))})  # .assign_coords({'chi': np.linspace(0, 90,len(pol_perps[1].chi.values))})\n",
    "\n",
    "pol_paras[0] = pol_paras[0].interp({'chi': pol_paras[1].chi.values})  # .assign_coords({'chi': np.linspace(0, 90,len(pol_paras[1].chi.values))})\n",
    "pol_perps[0] = pol_perps[0].interp({'chi': pol_perps[1].chi.values})  # .assign_coords({'chi': np.linspace(0, 90,len(pol_perps[1].chi.values))})\n",
    "\n",
    "sin_para_DA = (pol_paras[0] + pol_paras[1])/2\n",
    "sin_perp_DA = (pol_perps[0] + pol_perps[1])/2\n",
    "\n",
    "sin_para_DA = sin_para_DA.assign_coords({'polarization':'avg'})\n",
    "sin_perp_DA = sin_perp_DA.assign_coords({'polarization':'avg'})\n",
    "\n",
    "sin_para_DA = sin_para_DA.interpolate_na(dim='q')\n",
    "sin_perp_DA = sin_perp_DA.interpolate_na(dim='q')"
   ]
  },
  {
   "cell_type": "code",
   "execution_count": null,
   "id": "64",
   "metadata": {
    "jupyter": {
     "source_hidden": true
    },
    "tags": []
   },
   "outputs": [],
   "source": [
    "manual_scale_factors_v1 = {\n",
    "    'PM6-Y6_CB': 0.7,\n",
    "    'PM6-Y6_CBCN': 0.75,\n",
    "    'PM6-Y6_CF': 0.5,\n",
    "    'PM6-Y6_CFCN': 0.5,\n",
    "    'PM6-Y6BO_CB': 0.65,\n",
    "    'PM6-Y6BO_CF': 0.4,\n",
    "    'PM6-Y6BO_CFCN': 0.65,\n",
    "    'PM6-Y7_CB': 0.8,\n",
    "    'PM6-Y7_CBCN': 0.8,\n",
    "    'PM6-Y7_CF': 0.45,\n",
    "    'PM6-Y7_CFCN': 0.5,\n",
    "    'PM6-Y7BO_CB': 0.65,\n",
    "    'PM6-Y7BO_CBCN': 0.7,\n",
    "    'PM6-Y7BO_CF': 0.45,\n",
    "    'PM6-Y7BO_CFCN': 0.62,\n",
    "    'Y6BO_CB_2500': 0.63,\n",
    "    'Y6BO_CB_3000': 2,\n",
    "    'Y6BO_CF_2500': 2,\n",
    "    'Y6_CB_2000_1': 0.63,\n",
    "    'Y6_CB_2000': 0.72,\n",
    "    'Y6_CB_2500': 0.6,\n",
    "    'Y6_CB_3000': 0.7,\n",
    "    'Y6_CF_2000': 0.5,\n",
    "    'Y6_CF_2500': 0.45,\n",
    "    'Y6_CFCN': 0.65,\n",
    "    'Y6BO_CB_2500': 0.8,\n",
    "    'Y6BO_CB_3000': 0.45,\n",
    "    'Y6BO_CF_2500': 0.45,\n",
    "    'Y7BO_CBCN': 0.8,\n",
    "    'Y7BO_CB_2000': 0.5,\n",
    "    'Y7BO_CB_2500': 0.5,\n",
    "    'Y7BO_CB_3000': 0.5,\n",
    "    'Y7BO_CF_2000': 0.55,\n",
    "    'Y7BO_CF_2500': 0.55,\n",
    "    'Y7BO_CF_3000': 0.55,\n",
    "    'Y7_CF_2000': 0.8,\n",
    "    'Y7_CF_2500': 0.7,\n",
    "    'Y7_CF_3000': 0.8,\n",
    "}\n",
    "\n",
    "len(manual_scale_factors_v1)"
   ]
  },
  {
   "cell_type": "code",
   "execution_count": null,
   "id": "65",
   "metadata": {
    "tags": []
   },
   "outputs": [],
   "source": [
    "manual_scale_factors_v2 = {\n",
    "    'PM6-Y6_CB': 0.7,\n",
    "    'PM6-Y6_CBCN': 0.75,\n",
    "    'PM6-Y6_CF': 0.5,\n",
    "    'PM6-Y6_CFCN': 0.5,\n",
    "    'PM6-Y6BO_CB': 0.65,\n",
    "    'PM6-Y6BO_CF': 0.3,\n",
    "    'PM6-Y6BO_CFCN': 0.65,\n",
    "    'PM6-Y7_CB': 0.8,\n",
    "    'PM6-Y7_CBCN': 0.8,\n",
    "    'PM6-Y7_CF': 0.4,\n",
    "    'PM6-Y7_CFCN': 0.5,\n",
    "    'PM6-Y7BO_CB': 0.65,\n",
    "    'PM6-Y7BO_CBCN': 0.73,\n",
    "    'PM6-Y7BO_CF': 0.35,\n",
    "    'PM6-Y7BO_CFCN': 0.62,\n",
    "    'Y6BO_CB_2500': 0.63,\n",
    "    'Y6BO_CB_3000': 2,\n",
    "    'Y6BO_CF_2500': 2,\n",
    "    'Y6_CB_2000_1': 0.63,\n",
    "    'Y6_CB_2000': 0.76,\n",
    "    'Y6_CB_2500': 0.6,\n",
    "    'Y6_CB_3000': 0.73,\n",
    "    'Y6_CF_2000': 0.5,\n",
    "    'Y6_CF_2500': 0.45,\n",
    "    'Y6_CFCN': 0.65,\n",
    "    'Y6BO_CB_2500': 0.8,\n",
    "    'Y6BO_CB_3000': 0.45,\n",
    "    'Y6BO_CF_2500': 0.45,\n",
    "    'Y7BO_CBCN': 0.9,\n",
    "    'Y7BO_CB_2000': 0.5,\n",
    "    'Y7BO_CB_2500': 0.5,\n",
    "    'Y7BO_CB_3000': 0.5,\n",
    "    'Y7BO_CF_2000': 0.5,\n",
    "    'Y7BO_CF_2500': 0.55,\n",
    "    'Y7BO_CF_3000': 0.55,\n",
    "    'Y7_CF_2000': 0.9,\n",
    "    'Y7_CF_2500': 0.75,\n",
    "    'Y7_CF_3000': 0.87,\n",
    "}\n",
    "\n",
    "len(manual_scale_factors_v2)"
   ]
  },
  {
   "cell_type": "code",
   "execution_count": null,
   "id": "66",
   "metadata": {
    "tags": []
   },
   "outputs": [],
   "source": [
    "# make selection\n",
    "edge = 'nitrogen'\n",
    "intensity_type = 'corr'\n",
    "qlims = (8e-3, None)\n",
    "chi_width = 90\n",
    "\n",
    "for sample_name in tqdm(sorted(selected_samples)):\n",
    "# for sample_name in tqdm(['PM6-Y6_CB', 'PM6-Y6_CBCN', 'PM6-Y6_CF', 'PM6-Y6_CFCN']):\n",
    "# for sample_name in tqdm(sorted(rsoxs_datasets['polar_nitrogen'].sample_name.values[:])):\n",
    "# for sample_name in tqdm(['PM6-Y6_CB', 'PM6-Y6BO_CB', 'PM6-Y6BO_CF']):\n",
    "    # for pol in [0]:\n",
    "    #     para_DA, perp_DA = make_para_perp_DAs(rsoxs_datasets, sample_name, edge, intensity_type, pol, qlims, chi_width) \n",
    "   \n",
    "    pol_paras = []\n",
    "    pol_perps = []\n",
    "    for pol in [0, 90]:\n",
    "        para_DA, perp_DA = make_para_perp_DAs(rsoxs_datasets, sample_name, edge, intensity_type, pol, qlims, chi_width) \n",
    "        pol_paras.append(para_DA)\n",
    "        pol_perps.append(perp_DA)\n",
    "\n",
    "\n",
    "    pol_paras[0] = pol_paras[0].assign_coords({'chi': np.linspace(0, chi_width, len(pol_paras[0].chi.values))})  # .assign_coords({'chi': np.linspace(0, 90,len(pol_paras[1].chi.values))})\n",
    "    pol_paras[1] = pol_paras[1].assign_coords({'chi': np.linspace(0, chi_width, len(pol_paras[1].chi.values))})  # .assign_coords({'chi': np.linspace(0, 90,len(pol_paras[1].chi.values))})\n",
    "    pol_perps[0] = pol_perps[0].assign_coords({'chi': np.linspace(0, chi_width, len(pol_perps[0].chi.values))})  # .assign_coords({'chi': np.linspace(0, 90,len(pol_perps[1].chi.values))})\n",
    "    pol_perps[1] = pol_perps[1].assign_coords({'chi': np.linspace(0, chi_width, len(pol_perps[1].chi.values))})  # .assign_coords({'chi': np.linspace(0, 90,len(pol_perps[1].chi.values))})\n",
    "\n",
    "    pol_paras[0] = pol_paras[0].interp({'chi': pol_paras[1].chi.values})  # .assign_coords({'chi': np.linspace(0, 90,len(pol_paras[1].chi.values))})\n",
    "    pol_perps[0] = pol_perps[0].interp({'chi': pol_perps[1].chi.values})  # .assign_coords({'chi': np.linspace(0, 90,len(pol_perps[1].chi.values))})\n",
    "\n",
    "    para_DA = (pol_paras[0] + pol_paras[1])/2\n",
    "    perp_DA = (pol_perps[0] + pol_perps[1])/2\n",
    "\n",
    "    para_DA = para_DA.assign_coords({'polarization':'avg'})\n",
    "    perp_DA = perp_DA.assign_coords({'polarization':'avg'})\n",
    "\n",
    "    para_DA = para_DA.interpolate_na(dim='q')\n",
    "    perp_DA = perp_DA.interpolate_na(dim='q')\n",
    "\n",
    "    pol = str(para_DA.polarization.values) \n",
    "    \n",
    "    # Subtract bare SiN:\n",
    "    samp_para_factor = float(para_DA.sel(energy=slice(396,405), q=slice(3e-2,8e-2)).mean('chi').mean('energy').mean('q'))\n",
    "    samp_perp_factor = float(perp_DA.sel(energy=slice(396,405), q=slice(3e-2,8e-2)).mean('chi').mean('energy').mean('q'))\n",
    "    \n",
    "    sin_para_factor = float(sin_para_DA.sel(energy=slice(396,405), q=slice(3e-2,8e-2)).mean('chi').mean('energy').mean('q'))\n",
    "    sin_perp_factor = float(sin_perp_DA.sel(energy=slice(396,405), q=slice(3e-2,8e-2)).mean('chi').mean('energy').mean('q'))\n",
    "    \n",
    "    manual_scale_factor = manual_scale_factors_v2[sample_name]\n",
    "        \n",
    "    para_DA = para_DA - (manual_scale_factor * ((sin_para_DA/sin_para_factor) * samp_para_factor))\n",
    "    perp_DA = perp_DA - (manual_scale_factor * ((sin_perp_DA/sin_perp_factor) * samp_perp_factor))\n",
    "    \n",
    "    \n",
    "#     # Fl correction?\n",
    "#     # scale_factor = float(para_DA.sel(energy=slice(396,405), q=slice(3e-2,8e-2)).mean('chi').mean('energy').integrate('q'))\n",
    "#     scale_factor = 1e9\n",
    "#     manual_scale_factor = 2\n",
    "#     trmsn90_corr = (manual_scale_factor * scale_factor * trmsn90_bkgs_DA.sel(sample_name=sample_name.replace('_rot','')))\n",
    "    \n",
    "#     para_DA = para_DA - trmsn90_corr\n",
    "#     perp_DA = perp_DA - trmsn90_corr\n",
    "        \n",
    "    # Plot\n",
    "    # energies = para_DA.energy.sel(energy=[275, 283, 284, 284.4, 284.8, 285.2, 285.6, 286.2, 287, 288, 300, 305], method='nearest').data\n",
    "    energies = para_DA.energy.sel(energy=[385, 396, 397, 398, 399, 399.6, 400.4, 400.8, 401.4, 402, 410, 420], method='nearest').data\n",
    "\n",
    "    cmap = plt.cm.turbo.copy()\n",
    "    colors = cmap(np.linspace(0, 1, len(energies)))\n",
    "\n",
    "    fig, axs = plt.subplots(ncols=2,figsize=(8,5), tight_layout=True)\n",
    "\n",
    "    qmin = qlims[0]\n",
    "    qmax = qlims[1]\n",
    "\n",
    "    for j, energy in enumerate(energies):\n",
    "        (para_DA.sel(q=slice(qmin, qmax), energy=energy).mean('chi')\n",
    "     .plot.line(ax=axs[0], color=colors[j], yscale='log', xscale='log', label=energy))\n",
    "        (perp_DA.sel(q=slice(qmin, qmax), energy=energy).mean('chi')\n",
    "         .plot.line(ax=axs[1], color=colors[j], yscale='log', xscale='log', label=energy))\n",
    "\n",
    "    # fig.suptitle(f'IvsQ, {pol}° pol, 90° chi width: {sample_name}', x=0.47)\n",
    "    fig.suptitle(f'IvsQ (Bare SiN Subracted (C={manual_scale_factor})), {pol}° pol, 90° chi width: {sample_name}', x=0.47)\n",
    "\n",
    "    axs[0].set(title=f'Parallel to E$_p$', ylabel='Intensity [arb. units]', xlabel='Q [$Å^{-1}$]')\n",
    "    axs[0].set_ylim(bottom=1e8)\n",
    "    axs[1].set(title=f'Perpendicular to E$_p$', ylabel='Intensity [arb. units]', xlabel='Q [$Å^{-1}$]')\n",
    "    axs[1].set_ylim(bottom=1e8)\n",
    "    axs[1].legend(title='Energy [eV]', loc=(1.05,0.1))\n",
    "\n",
    "    savePath = plotsPath.joinpath('nitrogen','sin_sub_nitrogen_backgrounds', f'manual_scale_factor_dict-v2')\n",
    "    savePath.mkdir(parents=True, exist_ok=True)\n",
    "    \n",
    "    fig.savefig(savePath.joinpath(f'{sample_name}_chiWidth-{chi_width}deg_q{qmin}-{qmax}_pol{pol}deg.png'), dpi=120)\n",
    "\n",
    "    # plt.show()\n",
    "    plt.close('all')"
   ]
  },
  {
   "cell_type": "code",
   "execution_count": null,
   "id": "67",
   "metadata": {
    "tags": []
   },
   "outputs": [],
   "source": [
    "# make selection\n",
    "edge = 'nitrogen'\n",
    "intensity_type = 'corr'\n",
    "qlims = (None, None)\n",
    "chi_width = 90\n",
    "\n",
    "\n",
    "# sin_DS = full_DS.sel(sample_name='BareSiN_1mm_1')\n",
    "\n",
    "\n",
    "for sample_name in tqdm(full_DS.sample_name.values[:]):\n",
    "    samp_DS = full_DS.sel(sample_name=[sample_name])\n",
    "    constants = 0.85 * (samp_DS.sel(q=slice(0.06,0.1), energy=slice(420,430)).mean('q').mean('energy')) / (sin_DS.sel(q=slice(0.06,0.1), energy=slice(420,430)).mean('q').mean('energy'))\n",
    "\n",
    "    DS = samp_DS - (constants * sin_DS)    \n",
    "\n",
    "    # DS = full_DS.copy()\n",
    "    \n",
    "    for pol in [0, 90]:\n",
    "        para_DA, perp_DA = make_para_perp_DAs(DS, sample_name, intensity_type, pol, qlims, chi_width) \n",
    "        \n",
    "        # energies = para_DA.energy.sel(energy=slice(398.4, 401.5)).data\n",
    "        # energies = para_DA.energy.sel(energy=slice(390, 404)).data\n",
    "        energies = para_DA.energy.sel(energy=[390, 398.8, 399.8, 401.1, 410, 430], method='nearest').data\n",
    "\n",
    "        # # Create a ScalarMappable object with the colormap and normalization & add the colorbar to the figure\n",
    "        # sm = plt.cm.ScalarMappable(cmap=cmap, norm=plt.Normalize(vmin=energies[0], vmax=energies[-1]))\n",
    "        # cax = ax.inset_axes([1.03, 0, 0.03, 1])\n",
    "        # cbar = fig.colorbar(sm, cax=cax, orientation='vertical')\n",
    "        # cbar.set_label(label=f'Time [seconds]', labelpad=14)\n",
    "        # cbar.set_ticks(np.round(np.linspace(energies[0], energies[-1], len(energies)), 2))\n",
    "\n",
    "        fig, axs = plt.subplots(ncols=2,figsize=(8,5), tight_layout=True)\n",
    "        colors = cmap(np.linspace(0, 1, len(energies)))\n",
    "        \n",
    "        qmin = 9e-3\n",
    "        qmax = None\n",
    "\n",
    "        for j, energy in enumerate(energies):\n",
    "            (para_DA.sel(q=slice(qmin, qmax), energy=energy).mean('chi')\n",
    "             .plot.line(ax=axs[0], color=colors[j], yscale='log', xscale='log', label=energy))\n",
    "            (perp_DA.sel(q=slice(qmin, qmax), energy=energy).mean('chi')\n",
    "             .plot.line(ax=axs[1], color=colors[j], yscale='log', xscale='log', label=energy))\n",
    "\n",
    "        # fig.suptitle(f'Linecuts: {sample_name}')\n",
    "        fig.suptitle(f'Linecuts, Bare SiN Subtracted: {sample_name}')\n",
    "        # fig.suptitle(f'Linecuts, Bare SiN & Flourescence Subtracted: {sample_name}')\n",
    "\n",
    "        axs[0].set(ylim=(1e7, None), title=f'Para, Polarization = {pol}°, chi width = {chi_width}', ylabel='Intensity [arb. units]', xlabel='Q [$Å^{-1}$]')\n",
    "        axs[1].set(ylim=(1e7, None), title=f'Perp, Polarization = {pol}°, chi width = {chi_width}', ylabel='Intensity [arb. units]', xlabel='Q [$Å^{-1}$]')\n",
    "\n",
    "        axs[0].legend(title='Energy [eV]')\n",
    "        axs[1].legend(title='Energy [eV]')\n",
    "        \n",
    "        # fig.savefig(plotsPath.joinpath('selected_linecuts_nitrogen_v1', \n",
    "        #     f'{sample_name}_{edge}_{intensity_type}_chiWidth-{chi_width}deg_q{qmin}-{qmax}_pol{pol}deg.png'), dpi=120)\n",
    "        # fig.savefig(plotsPath.joinpath('selected_linecuts_nitrogen_v1', \n",
    "        #     f'sin-sub_{sample_name}_{edge}_{intensity_type}_chiWidth-{chi_width}deg_q{qmin}-{qmax}_pol{pol}deg.png'), dpi=120)        \n",
    "\n",
    "        # plt.show()\n",
    "        plt.close('all')"
   ]
  },
  {
   "cell_type": "markdown",
   "id": "68",
   "metadata": {},
   "source": [
    "## Anisotropy Ratio Plots"
   ]
  },
  {
   "cell_type": "markdown",
   "id": "69",
   "metadata": {
    "tags": []
   },
   "source": [
    "### 1. 2D AR Maps"
   ]
  },
  {
   "cell_type": "code",
   "execution_count": null,
   "id": "70",
   "metadata": {
    "tags": []
   },
   "outputs": [],
   "source": [
    "# make selection\n",
    "# sample_name = 'Y6_CB_2500'\n",
    "edge = 'nitrogen'\n",
    "intensity_type = 'corr'\n",
    "# pol = 90\n",
    "qlims = (9.5e-3, None)\n",
    "chi_width = 90\n",
    "energy_min = 395\n",
    "energy_max = 407\n",
    "\n",
    "# for sample_name in selected_samples:\n",
    "for sample_name in tqdm(sorted(selected_samples)):\n",
    "# for sample_name in tqdm(['PM6-Y6_CB', 'PM6-Y6_CBCN', 'PM6-Y6_CF', 'PM6-Y6_CFCN']):\n",
    "# for sample_name in tqdm(sorted(rsoxs_datasets['polar_nitrogen'].sample_name.values[:])):\n",
    "# for sample_name in tqdm(['PM6-Y6_CB', 'PM6-Y6BO_CB', 'PM6-Y6BO_CF']):\n",
    "    # for pol in [0]:\n",
    "    #     para_DA, perp_DA = make_para_perp_DAs(rsoxs_datasets, sample_name, edge, intensity_type, pol, qlims, chi_width) \n",
    "   \n",
    "    pol_paras = []\n",
    "    pol_perps = []\n",
    "    for pol in [0, 90]:\n",
    "        para_DA, perp_DA = make_para_perp_DAs(rsoxs_datasets, sample_name, edge, intensity_type, pol, qlims, chi_width) \n",
    "        pol_paras.append(para_DA)\n",
    "        pol_perps.append(perp_DA)\n",
    "\n",
    "\n",
    "    pol_paras[0] = pol_paras[0].assign_coords({'chi': np.linspace(0, chi_width, len(pol_paras[0].chi.values))})  # .assign_coords({'chi': np.linspace(0, 90,len(pol_paras[1].chi.values))})\n",
    "    pol_paras[1] = pol_paras[1].assign_coords({'chi': np.linspace(0, chi_width, len(pol_paras[1].chi.values))})  # .assign_coords({'chi': np.linspace(0, 90,len(pol_paras[1].chi.values))})\n",
    "    pol_perps[0] = pol_perps[0].assign_coords({'chi': np.linspace(0, chi_width, len(pol_perps[0].chi.values))})  # .assign_coords({'chi': np.linspace(0, 90,len(pol_perps[1].chi.values))})\n",
    "    pol_perps[1] = pol_perps[1].assign_coords({'chi': np.linspace(0, chi_width, len(pol_perps[1].chi.values))})  # .assign_coords({'chi': np.linspace(0, 90,len(pol_perps[1].chi.values))})\n",
    "\n",
    "    pol_paras[0] = pol_paras[0].interp({'chi': pol_paras[1].chi.values})  # .assign_coords({'chi': np.linspace(0, 90,len(pol_paras[1].chi.values))})\n",
    "    pol_perps[0] = pol_perps[0].interp({'chi': pol_perps[1].chi.values})  # .assign_coords({'chi': np.linspace(0, 90,len(pol_perps[1].chi.values))})\n",
    "\n",
    "    para_DA = (pol_paras[0] + pol_paras[1])/2\n",
    "    perp_DA = (pol_perps[0] + pol_perps[1])/2\n",
    "\n",
    "    para_DA = para_DA.assign_coords({'polarization':'avg'})\n",
    "    perp_DA = perp_DA.assign_coords({'polarization':'avg'})\n",
    "\n",
    "    para_DA = para_DA.interpolate_na(dim='q')\n",
    "    perp_DA = perp_DA.interpolate_na(dim='q')\n",
    "\n",
    "    pol = str(para_DA.polarization.values) \n",
    "    \n",
    "#     # Subtract bare SiN:\n",
    "#     samp_para_factor = float(para_DA.sel(energy=slice(396,405), q=slice(3e-2,8e-2)).mean('chi').mean('energy').mean('q'))\n",
    "#     samp_perp_factor = float(perp_DA.sel(energy=slice(396,405), q=slice(3e-2,8e-2)).mean('chi').mean('energy').mean('q'))\n",
    "    \n",
    "#     sin_para_factor = float(sin_para_DA.sel(energy=slice(396,405), q=slice(3e-2,8e-2)).mean('chi').mean('energy').mean('q'))\n",
    "#     sin_perp_factor = float(sin_perp_DA.sel(energy=slice(396,405), q=slice(3e-2,8e-2)).mean('chi').mean('energy').mean('q'))\n",
    "    \n",
    "#     manual_scale_factor = manual_scale_factors_v2[sample_name]\n",
    "        \n",
    "#     para_DA = para_DA - (manual_scale_factor * ((sin_para_DA/sin_para_factor) * samp_para_factor))\n",
    "#     perp_DA = perp_DA - (manual_scale_factor * ((sin_perp_DA/sin_perp_factor) * samp_perp_factor))\n",
    "\n",
    "    # Select AR data\n",
    "    ar_DA = (para_DA.mean('chi') - perp_DA.mean('chi')) / (para_DA.mean('chi') + perp_DA.mean('chi'))\n",
    "\n",
    "    # Plot\n",
    "    vlim = 0.2\n",
    "    ax = ar_DA.sel(energy=slice(energy_min,energy_max)).plot(figsize=(8,5), norm=plt.Normalize(-vlim, vlim))\n",
    "    # ax = ar_DA.sel(energy=slice(energy_min,energy_max)).plot(figsize=(8,5))\n",
    "\n",
    "    ax.figure.suptitle('Anisotropy Ratio (AR) Map', fontsize=14, x=0.43)\n",
    "    ax.axes.set(xscale='log', title=f'{sample_name}, Polarization = {pol}°, Chi Width = {chi_width}°', ylabel='Photon Energy [eV]', xlabel='q [$Å^{-1}$]')\n",
    "    ax.colorbar.set_label('AR [arb. units]', rotation=270, labelpad=12)\n",
    "\n",
    "\n",
    "    ax.figure.savefig(plotsPath.joinpath('nitrogen','ar_maps_nitrogen_v2', \n",
    "        f'vset_{sample_name}_{edge}_{intensity_type}_chiWidth-{chi_width}deg_q-{qlims[0]}-{qlims[1]}_energy{energy_min}-{energy_max}_pol{pol}deg.png'), \n",
    "                      dpi=120)\n",
    "\n",
    "    # plt.show()\n",
    "    plt.close('all')"
   ]
  },
  {
   "cell_type": "code",
   "execution_count": null,
   "id": "71",
   "metadata": {},
   "outputs": [],
   "source": [
    "ARvsQ_avg.hvplot.line(groupby=\"energy\")"
   ]
  },
  {
   "cell_type": "markdown",
   "id": "72",
   "metadata": {
    "jp-MarkdownHeadingCollapsed": true,
    "tags": []
   },
   "source": [
    "### 2. 1D AR Maps"
   ]
  },
  {
   "cell_type": "code",
   "execution_count": null,
   "id": "73",
   "metadata": {},
   "outputs": [],
   "source": [
    "sorted(energies, reverse=True)"
   ]
  },
  {
   "cell_type": "code",
   "execution_count": null,
   "id": "74",
   "metadata": {
    "tags": []
   },
   "outputs": [],
   "source": [
    "# make selection\n",
    "# sample_name = 'Y6_CB_2500'\n",
    "edge = 'nitrogen'\n",
    "intensity_type = 'corr'\n",
    "# pol = 90\n",
    "qlims = (7.5e-3, 0.105)\n",
    "chi_width = 90\n",
    "energy_min = 282\n",
    "energy_max = 292\n",
    "\n",
    "for sample_name in tqdm(sorted(selected_samples)):\n",
    "# for sample_name in tqdm(['PM6-Y6_CB', 'PM6-Y6_CBCN', 'PM6-Y6_CF', 'PM6-Y6_CFCN']):\n",
    "# for sample_name in tqdm(sorted(rsoxs_datasets['polar_nitrogen'].sample_name.values[:])):\n",
    "# for sample_name in tqdm(['PM6-Y6_CB', 'PM6-Y6BO_CB', 'PM6-Y6BO_CF']):\n",
    "    # for pol in [0]:\n",
    "    #     para_DA, perp_DA = make_para_perp_DAs(rsoxs_datasets, sample_name, edge, intensity_type, pol, qlims, chi_width) \n",
    "   \n",
    "    pol_paras = []\n",
    "    pol_perps = []\n",
    "    for pol in [0, 90]:\n",
    "        para_DA, perp_DA = make_para_perp_DAs(rsoxs_datasets, sample_name, edge, intensity_type, pol, qlims, chi_width) \n",
    "        pol_paras.append(para_DA)\n",
    "        pol_perps.append(perp_DA)\n",
    "\n",
    "\n",
    "    pol_paras[0] = pol_paras[0].assign_coords({'chi': np.linspace(0, chi_width, len(pol_paras[0].chi.values))})  # .assign_coords({'chi': np.linspace(0, 90,len(pol_paras[1].chi.values))})\n",
    "    pol_paras[1] = pol_paras[1].assign_coords({'chi': np.linspace(0, chi_width, len(pol_paras[1].chi.values))})  # .assign_coords({'chi': np.linspace(0, 90,len(pol_paras[1].chi.values))})\n",
    "    pol_perps[0] = pol_perps[0].assign_coords({'chi': np.linspace(0, chi_width, len(pol_perps[0].chi.values))})  # .assign_coords({'chi': np.linspace(0, 90,len(pol_perps[1].chi.values))})\n",
    "    pol_perps[1] = pol_perps[1].assign_coords({'chi': np.linspace(0, chi_width, len(pol_perps[1].chi.values))})  # .assign_coords({'chi': np.linspace(0, 90,len(pol_perps[1].chi.values))})\n",
    "\n",
    "    pol_paras[0] = pol_paras[0].interp({'chi': pol_paras[1].chi.values})  # .assign_coords({'chi': np.linspace(0, 90,len(pol_paras[1].chi.values))})\n",
    "    pol_perps[0] = pol_perps[0].interp({'chi': pol_perps[1].chi.values})  # .assign_coords({'chi': np.linspace(0, 90,len(pol_perps[1].chi.values))})\n",
    "\n",
    "    para_DA = (pol_paras[0] + pol_paras[1])/2\n",
    "    perp_DA = (pol_perps[0] + pol_perps[1])/2\n",
    "\n",
    "    para_DA = para_DA.assign_coords({'polarization':'avg'})\n",
    "    perp_DA = perp_DA.assign_coords({'polarization':'avg'})\n",
    "\n",
    "    para_DA = para_DA.interpolate_na(dim='q')\n",
    "    perp_DA = perp_DA.interpolate_na(dim='q')\n",
    "\n",
    "    pol = str(para_DA.polarization.values) \n",
    "    \n",
    "#     # Subtract bare SiN:\n",
    "#     samp_para_factor = float(para_DA.sel(energy=slice(396,405), q=slice(3e-2,8e-2)).mean('chi').mean('energy').mean('q'))\n",
    "#     samp_perp_factor = float(perp_DA.sel(energy=slice(396,405), q=slice(3e-2,8e-2)).mean('chi').mean('energy').mean('q'))\n",
    "    \n",
    "#     sin_para_factor = float(sin_para_DA.sel(energy=slice(396,405), q=slice(3e-2,8e-2)).mean('chi').mean('energy').mean('q'))\n",
    "#     sin_perp_factor = float(sin_perp_DA.sel(energy=slice(396,405), q=slice(3e-2,8e-2)).mean('chi').mean('energy').mean('q'))\n",
    "    \n",
    "#     manual_scale_factor = manual_scale_factors_v2[sample_name]\n",
    "        \n",
    "#     para_DA = para_DA - (manual_scale_factor * ((sin_para_DA/sin_para_factor) * samp_para_factor))\n",
    "#     perp_DA = perp_DA - (manual_scale_factor * ((sin_perp_DA/sin_perp_factor) * samp_perp_factor))\n",
    "    \n",
    "    \n",
    "    # Select AR data\n",
    "    ar_DA = (para_DA.mean('chi') - perp_DA.mean('chi')) / (para_DA.mean('chi') + perp_DA.mean('chi'))\n",
    "    energies = para_DA.energy.sel(energy=[385, 396, 397, 398, 399, 399.6, 400.4, 400.8, 401.4, 402, 410, 420], method='nearest').data\n",
    "    # energies = para_DA.energy.sel(energy=[385, 396, 397, 398, 399, 399.6, 400.4, 400.8, 401.4, 402], method='nearest').data\n",
    "\n",
    "    # Plot   \n",
    "    cmap = plt.cm.turbo.copy()\n",
    "    colors = cmap(np.linspace(0, 1, len(energies)))        \n",
    "\n",
    "    # # Create a ScalarMappable object with the colormap and normalization & add the colorbar to the figure\n",
    "    # sm = plt.cm.ScalarMappable(cmap=cmap, norm=plt.Normalize(vmin=energies[0], vmax=energies[-1]))\n",
    "    # cax = ax.inset_axes([1.03, 0, 0.03, 1])\n",
    "    # cbar = fig.colorbar(sm, cax=cax, orientation='vertical')\n",
    "    # cbar.set_label(label=f'Time [seconds]', labelpad=14)\n",
    "    # cbar.set_ticks(np.round(np.linspace(energies[0], energies[-1], len(energies)), 2))\n",
    "\n",
    "    fig, ax = plt.subplots(tight_layout=True, figsize=(6,4), dpi=120)\n",
    "\n",
    "    for j, energy in enumerate(energies):\n",
    "        (ar_DA.sel(energy=energy).plot.line(ax=ax, color=colors[j], label=energy, xscale='log'))\n",
    "\n",
    "    fig.suptitle(f'Anisotropy Ratio Linecuts: {sample_name}', x=0.46)\n",
    "\n",
    "    ax.set(title=f'Chi width = {chi_width}°, Pol = {pol}°', ylim=(-0.3, 0.3), ylabel='AR [arb. units]', xlabel='Q [$Å^{-1}$]')\n",
    "    ax.legend(title='Energy [eV]', loc=(1.03,0.02))\n",
    "\n",
    "\n",
    "    fig.savefig(plotsPath.joinpath('nitrogen', 'selected_ar_linecuts_nitrogen_v2', \n",
    "        f'{sample_name}_{edge}_{intensity_type}_chiWidth-{chi_width}deg_q-full_pol{pol}deg.png'), dpi=120)\n",
    "\n",
    "    # plt.show()\n",
    "    plt.close('all')"
   ]
  },
  {
   "cell_type": "markdown",
   "id": "75",
   "metadata": {},
   "source": [
    "## Loop for saving many plots"
   ]
  },
  {
   "cell_type": "code",
   "execution_count": null,
   "id": "76",
   "metadata": {},
   "outputs": [],
   "source": [
    "rsoxs_datasets['polar_oxygen']"
   ]
  },
  {
   "cell_type": "code",
   "execution_count": null,
   "id": "77",
   "metadata": {
    "tags": []
   },
   "outputs": [],
   "source": [
    "# make selection\n",
    "edge = 'oxygen'\n",
    "intensity_type = 'corr'\n",
    "qlims = (0.01, 0.08)\n",
    "chi_width = 30\n",
    "energy_min = 525\n",
    "energy_max = 545\n",
    "cmin = 5e8\n",
    "cmax = 5e10\n",
    "\n",
    "for sample_name in tqdm(rsoxs_datasets[f'polar_{edge}'].sample_name.data):\n",
    "    for pol in [0, 90]:\n",
    "        ### Select para & perp DataArrays\n",
    "        para_DA, perp_DA = make_para_perp_DAs(rsoxs_datasets, sample_name, edge, intensity_type, pol, qlims, chi_width)  \n",
    "        \n",
    "        ### ISI:\n",
    "        # Slice ISI data\n",
    "        para_ISI = para_DA.interpolate_na(dim='q').mean('chi').sum('q')\n",
    "        perp_ISI = perp_DA.interpolate_na(dim='q').mean('chi').sum('q')\n",
    "        \n",
    "        # Plot\n",
    "        fig, ax = plt.subplots()\n",
    "        para_ISI.sel(energy=slice(energy_min,energy_max)).plot.line(ax=ax, label='para', yscale='log')\n",
    "        perp_ISI.sel(energy=slice(energy_min,energy_max)).plot.line(ax=ax, label='perp', yscale='log')\n",
    "        # para_ISI.plot.line(ax=ax, label='para', yscale='log')\n",
    "        # perp_ISI.plot.line(ax=ax, label='perp', yscale='log')        \n",
    "        fig.suptitle('Integrated Scattering Intensity (ISI)', fontsize=14)\n",
    "        ax.set(title=f'{sample_name}, Polarization = {pol}°, Chi Width = {chi_width}°', xlabel='Photon Energy [eV]', ylabel='Double-Norm-Corrected Intensity [arb. units]')\n",
    "        ax.legend()\n",
    "        fig.savefig(plotsPath.joinpath('isi_oxygen_v1', f'{sample_name}_{edge}_{intensity_type}_chiWidth-{chi_width}deg_pol{pol}deg.png'), dpi=120)\n",
    "        # plt.show()\n",
    "        plt.close('all')\n",
    "        \n",
    "        ### Linecut Maps:\n",
    "        fig, axs = plt.subplots(1, 2, figsize=(11,5))\n",
    "\n",
    "        para_DA.mean('chi').sel(energy=slice(energy_min,energy_max)).plot(ax=axs[0], cmap=cmap, norm=LogNorm(cmin, cmax), add_colorbar=False)\n",
    "        perp_DA.mean('chi').sel(energy=slice(energy_min,energy_max)).plot(ax=axs[1], cmap=cmap, norm=LogNorm(cmin, cmax), add_colorbar=False)\n",
    "\n",
    "        sm = plt.cm.ScalarMappable(cmap=cmap, norm=LogNorm(cmin, cmax)) # Create a ScalarMappable object with the colormap and normalization & add the colorbar to the figure\n",
    "        cax = axs[1].inset_axes([1.03, 0, 0.05, 1])\n",
    "        cbar = fig.colorbar(sm, cax=cax, orientation='vertical')\n",
    "        cbar.set_label(label='Intensity [arb. units]', labelpad=12)\n",
    "        fig.suptitle(f'Linecut Maps: {sample_name}, Polarization = {pol}°, Chi Width = {chi_width}°', fontsize=14)\n",
    "        fig.set(tight_layout=True)\n",
    "        axs[0].set(title='Parallel to $E_p$', ylabel='Photon energy [eV]', xlabel='q [$Å^{-1}$]')\n",
    "        axs[1].set(title='Perpendicular to $E_p$ ', ylabel=None, xlabel='q [$Å^{-1}$]')\n",
    "        fig.savefig(plotsPath.joinpath('linecut_maps_oxygen_v1', f'{sample_name}_{edge}_{intensity_type}_chiWidth-{chi_width}deg_pol{pol}deg.png'), dpi=120)\n",
    "        # plt.show()\n",
    "        plt.close('all')\n",
    "\n",
    "        ### AR Maps:\n",
    "        # Select AR data\n",
    "        ar_DA = (para_DA.mean('chi') - perp_DA.mean('chi')) / (para_DA.mean('chi') + perp_DA.mean('chi'))\n",
    "\n",
    "        if para_DA.sample_name=='BareSiN':\n",
    "            bareSiN_ar_DA = ar_DA.copy()\n",
    "            \n",
    "        # # Subtract AR from SiN:\n",
    "        # ar_DA = ar_DA - bareSiN_ar_DA\n",
    "\n",
    "        # Plot\n",
    "        ax = ar_DA.sel(energy=slice(energy_min,energy_max)).plot(figsize=(8,5), norm=plt.Normalize(-0.6, 0.6))\n",
    "        ax.figure.suptitle('Anisotropy Ratio (AR) Map', fontsize=14, x=0.43)\n",
    "        ax.axes.set(title=f'{sample_name}, Polarization = {pol}°, Chi Width = {chi_width}°', ylabel='Photon Energy [eV]', xlabel='q [$Å^{-1}$]')\n",
    "        ax.colorbar.set_label('AR [arb. units]', rotation=270, labelpad=12)\n",
    "        ax.figure.savefig(plotsPath.joinpath('ar_maps_oxygen_v1', f'{sample_name}_{edge}_{intensity_type}_chiWidth-{chi_width}deg_pol{pol}deg.png'), dpi=120)\n",
    "        # plt.show()\n",
    "        plt.close('all')"
   ]
  },
  {
   "cell_type": "markdown",
   "id": "78",
   "metadata": {
    "jp-MarkdownHeadingCollapsed": true,
    "tags": []
   },
   "source": [
    "## Incorporating simulation output\n",
    "old and incomplete"
   ]
  },
  {
   "cell_type": "code",
   "execution_count": null,
   "id": "79",
   "metadata": {},
   "outputs": [],
   "source": [
    "import h5py"
   ]
  },
  {
   "cell_type": "code",
   "execution_count": null,
   "id": "80",
   "metadata": {},
   "outputs": [],
   "source": [
    "whos PosixPath"
   ]
  },
  {
   "cell_type": "code",
   "execution_count": null,
   "id": "81",
   "metadata": {},
   "outputs": [],
   "source": [
    "simsPath = rootPath.joinpath('imgs_analysis/sim_runs')"
   ]
  },
  {
   "cell_type": "code",
   "execution_count": null,
   "id": "82",
   "metadata": {},
   "outputs": [],
   "source": [
    "[f.name for f in simPath.iterdir()]"
   ]
  },
  {
   "cell_type": "code",
   "execution_count": null,
   "id": "83",
   "metadata": {},
   "outputs": [],
   "source": [
    "simPath = simsPath.joinpath('D1.0_a1.0_eps1.0_250pix_375size_0.5m_600steps_1')\n",
    "h5path = simPath.joinpath('HDF5')\n",
    "h5list = sorted(h5path.glob('E*h5'))"
   ]
  },
  {
   "cell_type": "code",
   "execution_count": null,
   "id": "84",
   "metadata": {},
   "outputs": [],
   "source": [
    "def print_key(f, key):\n",
    "    try:\n",
    "        keys2 = f[key].keys()\n",
    "        for key2 in keys2:\n",
    "            new_key = key + '/' + key2\n",
    "            print_key(f, new_key)\n",
    "    except AttributeError:\n",
    "        print(key)\n",
    "\n",
    "with h5py.File(h5list[0],'r') as f:\n",
    "    for key in f.keys():\n",
    "        print_key(f, key)"
   ]
  },
  {
   "cell_type": "markdown",
   "id": "85",
   "metadata": {},
   "source": [
    "#### The scattering pattern is contained within 'K0/projection.' If you simulated multiple incident angles there would be additional 'K#' keys. KIDList contains the vector values for each of the incident angles (propagation direction)."
   ]
  },
  {
   "cell_type": "markdown",
   "id": "86",
   "metadata": {},
   "source": [
    "#### Instantiate the PyHyperScattering loader and integrator"
   ]
  },
  {
   "cell_type": "code",
   "execution_count": null,
   "id": "87",
   "metadata": {},
   "outputs": [],
   "source": [
    "load = phs.load.cyrsoxsLoader(use_chunked_loading=True)\n",
    "integ = phs.integrate.WPIntegrator(force_np_backend=True) # avoiding gpu backend for this tutorial"
   ]
  },
  {
   "cell_type": "code",
   "execution_count": null,
   "id": "88",
   "metadata": {
    "tags": []
   },
   "outputs": [],
   "source": [
    "raw = load.loadDirectory(simPath)"
   ]
  },
  {
   "cell_type": "code",
   "execution_count": null,
   "id": "89",
   "metadata": {},
   "outputs": [],
   "source": [
    "raw"
   ]
  },
  {
   "cell_type": "code",
   "execution_count": null,
   "id": "90",
   "metadata": {},
   "outputs": [],
   "source": [
    "remeshed = integ.integrateImageStack(raw)"
   ]
  },
  {
   "cell_type": "code",
   "execution_count": null,
   "id": "91",
   "metadata": {},
   "outputs": [],
   "source": [
    "remeshed"
   ]
  },
  {
   "cell_type": "code",
   "execution_count": null,
   "id": "92",
   "metadata": {},
   "outputs": [],
   "source": [
    "remeshed.sel(energy=285.1).plot()"
   ]
  },
  {
   "cell_type": "code",
   "execution_count": null,
   "id": "93",
   "metadata": {},
   "outputs": [],
   "source": [
    "# c = cm.jet(np.linspace(0,1,len(remeshed)))"
   ]
  },
  {
   "cell_type": "code",
   "execution_count": null,
   "id": "94",
   "metadata": {},
   "outputs": [],
   "source": [
    "fig, ax = plt.subplots(1,3,figsize=(10,3),dpi=140,constrained_layout=True)\n",
    "raw.sel(energy=275).plot(norm=LogNorm(1e-7,1),cmap='terrain',ax=ax[0],add_colorbar=False)\n",
    "raw.sel(energy=285).plot(norm=LogNorm(1e-7,1),cmap='terrain',ax=ax[1],add_colorbar=False)\n",
    "raw.sel(energy=295).plot(norm=LogNorm(1e-7,1),cmap='terrain',ax=ax[2])\n",
    "\n",
    "[{axes.set_xlim(-0.1,0.1),axes.set_ylim(-0.1,0.1)} for axes in ax]\n",
    "plt.show()"
   ]
  },
  {
   "cell_type": "code",
   "execution_count": null,
   "id": "95",
   "metadata": {
    "tags": []
   },
   "outputs": [],
   "source": [
    "loaded_rsoxs.build_tiff_stack??"
   ]
  },
  {
   "cell_type": "code",
   "execution_count": null,
   "id": "96",
   "metadata": {},
   "outputs": [],
   "source": []
  }
 ],
 "metadata": {
  "kernelspec": {
   "display_name": "Python 3 (ipykernel)",
   "language": "python",
   "name": "python3"
  },
  "language_info": {
   "codemirror_mode": {
    "name": "ipython",
    "version": 3
   },
   "file_extension": ".py",
   "mimetype": "text/x-python",
   "name": "python",
   "nbconvert_exporter": "python",
   "pygments_lexer": "ipython3",
   "version": "3.9.15"
  }
 },
 "nbformat": 4,
 "nbformat_minor": 5
}
