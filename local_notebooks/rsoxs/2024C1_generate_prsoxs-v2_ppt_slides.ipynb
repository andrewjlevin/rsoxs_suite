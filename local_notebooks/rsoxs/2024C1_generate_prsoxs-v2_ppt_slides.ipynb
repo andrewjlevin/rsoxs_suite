{
 "cells": [
  {
   "cell_type": "markdown",
   "id": "75dba553-8354-46b0-84f9-98c05a9847e4",
   "metadata": {},
   "source": [
    "# Use python-pptx to generate powerpoint slides of data"
   ]
  },
  {
   "cell_type": "markdown",
   "id": "61bb7d64-be96-4441-b459-2716f0ac4b67",
   "metadata": {},
   "source": [
    "## Imports"
   ]
  },
  {
   "cell_type": "code",
   "execution_count": 7,
   "id": "afc9f64a-5264-40d0-bc60-7912e042a671",
   "metadata": {},
   "outputs": [
    {
     "name": "stderr",
     "output_type": "stream",
     "text": [
      "/Users/andrew/conda_install/envs/nrss/lib/python3.9/site-packages/tqdm/auto.py:21: TqdmWarning: IProgress not found. Please update jupyter and ipywidgets. See https://ipywidgets.readthedocs.io/en/stable/user_install.html\n",
      "  from .autonotebook import tqdm as notebook_tqdm\n"
     ]
    }
   ],
   "source": [
    "# Imports: \n",
    "import pathlib\n",
    "from pptx import Presentation\n",
    "from pptx.util import Inches, Pt\n",
    "from pptx.enum.text import PP_ALIGN\n",
    "from tqdm.auto import tqdm"
   ]
  },
  {
   "cell_type": "markdown",
   "id": "4aec6bb6-2c8b-453e-8000-afa5e11ccae1",
   "metadata": {},
   "source": [
    "## Define paths"
   ]
  },
  {
   "cell_type": "code",
   "execution_count": 11,
   "id": "5451c281-b958-4aa2-a92c-2f4e38b2953d",
   "metadata": {},
   "outputs": [],
   "source": [
    "# Define paths:\n",
    "imagePaths = pathlib.Path('/Users/andrew/Library/CloudStorage/OneDrive-UCB-O365/research/data_analysis/rsoxs_suite/prsoxs_plots/2024C1/rsoxs_carbon')\n",
    "\n",
    "moviePaths = imagePaths.joinpath('detector_movies_v1')\n",
    "\n",
    "IMapsPath = imagePaths.joinpath('I_maps_v1')\n",
    "ICutsPath = imagePaths.joinpath('I_cuts_v1')\n",
    "\n",
    "arMapsPath = imagePaths.joinpath('ar_maps_v1')\n",
    "arCutsPath = imagePaths.joinpath('ar_cuts_v1')\n",
    "\n",
    "ISIsPath = imagePaths.joinpath('ISIs_v1')\n",
    "\n",
    "\n",
    "outPath = pathlib.Path('/Users/andrew/Downloads')"
   ]
  },
  {
   "cell_type": "code",
   "execution_count": 12,
   "id": "9055385b-b746-4357-8e2e-cec35cacba9c",
   "metadata": {
    "tags": []
   },
   "outputs": [
    {
     "data": {
      "text/plain": [
       "True"
      ]
     },
     "execution_count": 12,
     "metadata": {},
     "output_type": "execute_result"
    }
   ],
   "source": [
    "IMapsPath.exists()"
   ]
  },
  {
   "cell_type": "code",
   "execution_count": 13,
   "id": "96407384-4e1d-422d-8c45-4ca3c04f5210",
   "metadata": {
    "tags": []
   },
   "outputs": [
    {
     "name": "stdout",
     "output_type": "stream",
     "text": [
      "148\n",
      "37\n",
      "37\n",
      "37\n",
      "37\n",
      "37\n"
     ]
    }
   ],
   "source": [
    "paths = [moviePaths, IMapsPath, ICutsPath, arMapsPath, arCutsPath, ISIsPath]\n",
    "for path in paths:\n",
    "    print(len(sorted(path.glob('*'))))"
   ]
  },
  {
   "cell_type": "code",
   "execution_count": 18,
   "id": "952adcbb-91f1-40da-b366-68384aa304c9",
   "metadata": {},
   "outputs": [
    {
     "name": "stdout",
     "output_type": "stream",
     "text": [
      "37\n",
      "37\n"
     ]
    }
   ],
   "source": [
    "detector_movies = [f for f in sorted(moviePaths.glob('*.mp4'))]\n",
    "detector_movies_zipped = sorted(zip(detector_movies[::2], detector_movies[1::2]))\n",
    "print(len(detector_movies_zipped))\n",
    "\n",
    "detector_frames = [f for f in sorted(moviePaths.glob('*.png'))]\n",
    "detector_frames_zipped = sorted(zip(detector_frames[::2], detector_frames[1::2]))\n",
    "print(len(detector_frames_zipped))"
   ]
  },
  {
   "cell_type": "code",
   "execution_count": 20,
   "id": "7b313e10-b8a1-4302-b2af-7755987c2f46",
   "metadata": {
    "tags": []
   },
   "outputs": [],
   "source": [
    "IvQ_maps = sorted(IMapsPath.glob('*'))\n",
    "IvQ_selects = sorted(ICutsPath.glob('*'))\n",
    "AvQ_maps = sorted(arMapsPath.glob('*'))\n",
    "AvQ_selects = sorted(arCutsPath.glob('*'))\n",
    "ISIs = sorted(ISIsPath.glob('*'))"
   ]
  },
  {
   "cell_type": "code",
   "execution_count": 5,
   "id": "cafac67d-796a-4155-a8cd-1fe3c6293d72",
   "metadata": {},
   "outputs": [],
   "source": [
    "# detector_frames = []\n",
    "# for sample_name in selected_samples:\n",
    "#     for f in sorted(moviePaths.glob('*jpeg')):\n",
    "#         if sample_name in f.name and f not in detector_frames:\n",
    "#             detector_frames.append(f)\n",
    "            \n",
    "# detector_frames = sorted(detector_frames)\n",
    "# detector_frames_zipped = sorted(zip(detector_frames[::2], detector_frames[1::2]))\n",
    "\n",
    "# len(detector_frames_zipped)"
   ]
  },
  {
   "cell_type": "code",
   "execution_count": 16,
   "id": "05214dd2-7bc4-4918-b98c-bd60bacd6261",
   "metadata": {},
   "outputs": [],
   "source": [
    "# for i, layout in enumerate(prs.slide_layouts):\n",
    "#     print(i, layout.name)"
   ]
  },
  {
   "cell_type": "code",
   "execution_count": 25,
   "id": "6ce57f40-c351-4259-a141-94d8b3001032",
   "metadata": {
    "tags": []
   },
   "outputs": [
    {
     "data": {
      "text/plain": [
       "[['BareSiN', '01', 'chiWidth-90deg'],\n",
       " ['BareSiN', '02', 'chiWidth-90deg'],\n",
       " ['BareSiN', '03', 'chiWidth-90deg'],\n",
       " ['BareSiN', '04', 'chiWidth-90deg'],\n",
       " ['PM6-Y6BO', 'CB', 'chiWidth-90deg'],\n",
       " ['PM6-Y6BO', 'CF', 'chiWidth-90deg'],\n",
       " ['PM6-Y6BO', 'p5CN-CB', 'chiWidth-90deg'],\n",
       " ['PM6-Y6BO', 'p5CN-CF', 'chiWidth-90deg'],\n",
       " ['PM6-Y6', '2CF-3CB', 'chiWidth-90deg'],\n",
       " ['PM6-Y6', '4CF-1CB', 'chiWidth-90deg'],\n",
       " ['PM6-Y6', 'CB', 'chiWidth-90deg'],\n",
       " ['PM6-Y6', 'CF', 'chiWidth-90deg'],\n",
       " ['PM6-Y6', 'p5CN-2CF-3CB', 'chiWidth-90deg'],\n",
       " ['PM6-Y6', 'p5CN-CB', 'chiWidth-90deg'],\n",
       " ['PM6-Y6', 'p5CN-CF', 'chiWidth-90deg'],\n",
       " ['PM6', '1CN-CB', 'chiWidth-90deg'],\n",
       " ['PM6', '1CN-CF', 'chiWidth-90deg'],\n",
       " ['PM6', '2CF-3CB', 'chiWidth-90deg'],\n",
       " ['PM6', '4CF-1CB', 'chiWidth-90deg'],\n",
       " ['PM6', '5CN-CB', 'chiWidth-90deg'],\n",
       " ['PM6', '5CN-CF', 'chiWidth-90deg'],\n",
       " ['PM6', 'CB', 'chiWidth-90deg'],\n",
       " ['PM6', 'CF', 'chiWidth-90deg'],\n",
       " ['PM6', 'p5CN-2CF-3CB', 'chiWidth-90deg'],\n",
       " ['PM6', 'p5CN-CB', 'chiWidth-90deg'],\n",
       " ['PM6', 'p5CN-CF', 'chiWidth-90deg'],\n",
       " ['Y6BO', 'CB', 'chiWidth-90deg'],\n",
       " ['Y6BO', 'CF', 'chiWidth-90deg'],\n",
       " ['Y6BO', 'p5CN-CB', 'chiWidth-90deg'],\n",
       " ['Y6BO', 'p5CN-CF', 'chiWidth-90deg'],\n",
       " ['Y6', '2CF-3CB', 'chiWidth-90deg'],\n",
       " ['Y6', '4CF-1CB', 'chiWidth-90deg'],\n",
       " ['Y6', 'CB', 'chiWidth-90deg'],\n",
       " ['Y6', 'CF', 'chiWidth-90deg'],\n",
       " ['Y6', 'p5CN-2CF-3CB', 'chiWidth-90deg'],\n",
       " ['Y6', 'p5CN-CB', 'chiWidth-90deg'],\n",
       " ['Y6', 'p5CN-CF', 'chiWidth-90deg']]"
      ]
     },
     "execution_count": 25,
     "metadata": {},
     "output_type": "execute_result"
    }
   ],
   "source": [
    "[f.name.split('_')[0:3] for f in IvQ_selects]"
   ]
  },
  {
   "cell_type": "code",
   "execution_count": 27,
   "id": "d6dd2330-1402-4ba8-a61b-3aa68c30d02e",
   "metadata": {},
   "outputs": [
    {
     "name": "stderr",
     "output_type": "stream",
     "text": [
      "100%|████████████████████████████████████████████████████████████████████| 37/37 [00:01<00:00, 34.26it/s]\n"
     ]
    },
    {
     "name": "stdout",
     "output_type": "stream",
     "text": [
      "done!\n"
     ]
    }
   ],
   "source": [
    "# Generate slides:\n",
    "\n",
    "prs = Presentation()\n",
    "\n",
    "# Set slide dimensions for widescreen 16:9 aspect ratio\n",
    "prs.slide_width = Inches(13.333)  # Width\n",
    "prs.slide_height = Inches(7.5)    # Height\n",
    "\n",
    "slide_layout = prs.slide_layouts[6]\n",
    "\n",
    "for i, movie_pair in enumerate(tqdm(detector_movies_zipped)):\n",
    "    # Select appropriate path for each file\n",
    "    movie1Path = movie_pair[0] \n",
    "    movie2Path = movie_pair[1]     \n",
    "\n",
    "    frame1Path = detector_frames_zipped[i][0] \n",
    "    frame2Path = detector_frames_zipped[i][1] \n",
    "    \n",
    "    IvQMapPath = IvQ_maps[i]\n",
    "    IvQSelectPath = IvQ_selects[i]   \n",
    "    \n",
    "    AvQMapPath = AvQ_maps[i]\n",
    "    AvQSelectPath = AvQ_selects[i]\n",
    "\n",
    "    ISIPath = ISIs[i]\n",
    "    \n",
    "    fname_list = movie1Path.name.split('_')    \n",
    "    sample_name_list = fname_list[0:2]\n",
    "    sample_name = '_'.join(sample_name_list)    \n",
    "    \n",
    "    \n",
    "    # Add slide \n",
    "    slide = prs.slides.add_slide(slide_layout)\n",
    "    \n",
    "    # Define image positions (these are just placeholders, adjust as necessary)\n",
    "    left_movie1 = Inches(-0.11)\n",
    "    top_movie1 = Inches(0.43)\n",
    "    height_movie1 = Inches(3.76)\n",
    "    width_movie1 = Inches(4.6)\n",
    "    \n",
    "    left_movie2 = Inches(-0.11)\n",
    "    top_movie2 = Inches(3.83)\n",
    "    height_movie2 = Inches(3.76)\n",
    "    width_movie2 = Inches(4.6)\n",
    "    \n",
    "    left_IvQMap = Inches(4.92)\n",
    "    top_IvQMap = Inches(3.81)\n",
    "    height_IvQMap = Inches(3.75)\n",
    "\n",
    "    left_AvQMap = Inches(8.67)\n",
    "    top_AvQMap = Inches(0.69)\n",
    "    height_AvQMap = Inches(3.14)    \n",
    "\n",
    "    left_ISI = Inches(4.49)\n",
    "    top_ISI = Inches(0.64)\n",
    "    height_ISI = Inches(3.19)\n",
    "    \n",
    "    # Add images to the slide\n",
    "    slide.shapes.add_movie(str(movie2Path), left_movie2, top_movie2, height=height_movie2, width=width_movie2, poster_frame_image=str(frame2Path), mime_type='video/mp4')\n",
    "    slide.shapes.add_movie(str(movie1Path), left_movie1, top_movie1, height=height_movie1, width=width_movie1, poster_frame_image=str(frame1Path), mime_type='video/mp4')\n",
    "    \n",
    "    slide.shapes.add_picture(str(IvQMapPath), left_IvQMap, top_IvQMap, height=height_IvQMap)\n",
    "    slide.shapes.add_picture(str(AvQMapPath), left_AvQMap, top_AvQMap, height=height_AvQMap)\n",
    "    slide.shapes.add_picture(str(ISIPath), left_ISI, top_ISI, height=height_ISI)\n",
    "        \n",
    "    # Add a new text box for the title instead of using the default title placeholder\n",
    "    left_title = Inches(0)\n",
    "    top_title = Inches(-0.01)\n",
    "    width_title = Inches(13.33)\n",
    "    height_title = Inches(0.65)\n",
    "    textbox = slide.shapes.add_textbox(left_title, top_title, width_title, height_title)\n",
    "    text_frame = textbox.text_frame\n",
    "    text_frame.text = f'Sample: {sample_name}'\n",
    "\n",
    "    for paragraph in text_frame.paragraphs:\n",
    "        paragraph.alignment = PP_ALIGN.CENTER\n",
    "        paragraph.font.size = Pt(36)\n",
    "\n",
    "\n",
    "    # Add slide \n",
    "    slide = prs.slides.add_slide(slide_layout)\n",
    "    \n",
    "    # Define image positions (these are just placeholders, adjust as necessary)\n",
    "    left_IvQSelect = Inches(-0.02)\n",
    "    top_IvQSelect = Inches(2.18)\n",
    "    height_IvQSelect = Inches(5.17)\n",
    "\n",
    "    left_AvQSelect = Inches(7.01)\n",
    "    top_AvQSelect = Inches(2.81)\n",
    "    height_AvQSelect = Inches(4.21)  \n",
    "    \n",
    "    slide.shapes.add_picture(str(IvQSelectPath), left_IvQSelect, top_IvQSelect, height=height_IvQSelect)\n",
    "    slide.shapes.add_picture(str(AvQSelectPath), left_AvQSelect, top_AvQSelect, height=height_AvQSelect)\n",
    "            \n",
    "    # Add a new text box for the title instead of using the default title placeholder\n",
    "    left_title = Inches(0)\n",
    "    top_title = Inches(-0.01)\n",
    "    width_title = Inches(13.33)\n",
    "    height_title = Inches(0.65)\n",
    "    textbox = slide.shapes.add_textbox(left_title, top_title, width_title, height_title)\n",
    "    text_frame = textbox.text_frame\n",
    "    text_frame.text = f'Sample: {sample_name}'\n",
    "\n",
    "    for paragraph in text_frame.paragraphs:\n",
    "        paragraph.alignment = PP_ALIGN.CENTER\n",
    "        paragraph.font.size = Pt(36)\n",
    "        \n",
    "        \n",
    "prs.save(outPath.joinpath('2024C1_carbon_prsoxs_auto-summary_v1.pptx'))\n",
    "print('done!')"
   ]
  },
  {
   "cell_type": "code",
   "execution_count": 26,
   "id": "8738e4f1-6ca8-47c6-ac72-ff204257bd57",
   "metadata": {
    "tags": []
   },
   "outputs": [
    {
     "data": {
      "text/plain": [
       "PosixPath('/Users/andrew/Downloads')"
      ]
     },
     "execution_count": 26,
     "metadata": {},
     "output_type": "execute_result"
    }
   ],
   "source": [
    "outPath"
   ]
  },
  {
   "cell_type": "code",
   "execution_count": null,
   "id": "0756c47e-3558-4bd6-bf4a-a6834cfee893",
   "metadata": {},
   "outputs": [],
   "source": []
  }
 ],
 "metadata": {
  "kernelspec": {
   "display_name": "Python 3 (ipykernel)",
   "language": "python",
   "name": "python3"
  },
  "language_info": {
   "codemirror_mode": {
    "name": "ipython",
    "version": 3
   },
   "file_extension": ".py",
   "mimetype": "text/x-python",
   "name": "python",
   "nbconvert_exporter": "python",
   "pygments_lexer": "ipython3",
   "version": "3.10.4"
  }
 },
 "nbformat": 4,
 "nbformat_minor": 5
}
