{
 "cells": [
  {
   "cell_type": "markdown",
   "id": "75dba553-8354-46b0-84f9-98c05a9847e4",
   "metadata": {},
   "source": [
    "# Use python-pptx to generate powerpoint slides of data"
   ]
  },
  {
   "cell_type": "code",
   "execution_count": null,
   "id": "afc9f64a-5264-40d0-bc60-7912e042a671",
   "metadata": {},
   "outputs": [],
   "source": [
    "# Imports: \n",
    "import pathlib\n",
    "from pptx import Presentation\n",
    "from pptx.util import Inches, Pt\n",
    "from pptx.enum.text import PP_ALIGN\n",
    "from tqdm.auto import tqdm"
   ]
  },
  {
   "cell_type": "code",
   "execution_count": null,
   "id": "5451c281-b958-4aa2-a92c-2f4e38b2953d",
   "metadata": {},
   "outputs": [],
   "source": [
    "# Define paths:\n",
    "imagePaths = pathlib.Path('/Users/andrew/Library/CloudStorage/OneDrive-UCB-O365/research/data_analysis/rsoxs_suite/prsoxs_plots/2022C3')\n",
    "linecutMapsPath = imagePaths.joinpath('linecut_maps_carbon_v1')\n",
    "arMapsPath = imagePaths.joinpath('ar_maps_carbon_v1')\n",
    "ISIsPath = imagePaths.joinpath('isi_carbon_square_v1')\n",
    "moviePaths = imagePaths.joinpath('detector_movies_carbon_v1')\n",
    "\n",
    "outPath = pathlib.Path('/Users/andrew/Library/CloudStorage/OneDrive-UCB-O365/research/presentations/OPV_meetings')"
   ]
  },
  {
   "cell_type": "code",
   "execution_count": null,
   "id": "c6545076-c534-4d3a-a2ea-ad80cff9e191",
   "metadata": {},
   "outputs": [],
   "source": [
    "fname_list"
   ]
  },
  {
   "cell_type": "code",
   "execution_count": null,
   "id": "3358f432-acfd-474f-ae3e-e76cc42e17c4",
   "metadata": {},
   "outputs": [],
   "source": [
    "sample_name"
   ]
  },
  {
   "cell_type": "code",
   "execution_count": null,
   "id": "6ef90330-ac81-4685-a963-84da39457264",
   "metadata": {
    "jupyter": {
     "outputs_hidden": true
    },
    "tags": []
   },
   "outputs": [],
   "source": [
    "list(arMapsPath.glob(f'vset*'))"
   ]
  },
  {
   "cell_type": "code",
   "execution_count": null,
   "id": "2d1b1e5a-d66f-4cfd-ab11-8bb390a58307",
   "metadata": {},
   "outputs": [],
   "source": [
    "fname_list"
   ]
  },
  {
   "cell_type": "code",
   "execution_count": null,
   "id": "5d025b24-6b95-4c24-b31b-7457a3521379",
   "metadata": {},
   "outputs": [],
   "source": [
    "list(linecutMapsPath.glob(f'{sample_name}_*pol0deg*q0.01-0.08*'))[0]"
   ]
  },
  {
   "cell_type": "code",
   "execution_count": null,
   "id": "25b0b9e8-ae1c-46af-9639-5c3078439ab9",
   "metadata": {
    "tags": []
   },
   "outputs": [],
   "source": [
    "for moviePath in tqdm(sorted(moviePaths.glob('*mp4'))):\n",
    "    # Select appropriate path for each file\n",
    "    poster_frame_path = moviePaths.joinpath(f'{moviePath.stem}.jpeg')\n",
    "    fname_list = moviePath.name.split('_')\n",
    "    pol_str = fname_list[-1][:-4]\n",
    "    \n",
    "    if pol_str == 'pol0deg':\n",
    "        pol_orientation = 'Horizontal'\n",
    "    elif pol_str == 'pol90deg':\n",
    "        pol_orientation = 'Vertical'\n",
    "        \n",
    "    try:\n",
    "        if len(fname_list)==4:\n",
    "            sample_name = fname_list[0]\n",
    "            # print(sample_name)\n",
    "            linecutMapPath = list(linecutMapsPath.glob(f'{sample_name}_*pol0deg*q0.01-0.08*'))[0]\n",
    "            arMapPath = list(arMapsPath.glob(f'vset*{sample_name}_*pol0deg*q-0.01-0.08*'))[0]\n",
    "            ISIPath = list(ISIsPath.glob(f'{sample_name}_*qrange-0.01-0.08*pol0deg*'))[0]\n",
    "        elif len(fname_list)==5:\n",
    "            sample_name_list = fname_list[0:2]\n",
    "            joined_sample_name = '_'.join(sample_name_list)     \n",
    "            # print(joined_sample_name)\n",
    "            linecutMapPath = list(linecutMapsPath.glob(f'{joined_sample_name}_*pol0deg*q0.01-0.08*'))[0]\n",
    "            arMapPath = list(arMapsPath.glob(f'vset*{joined_sample_name}_*pol0deg*q-0.01-0.08*'))[0]\n",
    "            ISIPath = list(ISIsPath.glob(f'{joined_sample_name}_*qrange-0.01-0.08*pol0deg*'))[0]\n",
    "            \n",
    "        print(linecutMapPath)\n",
    "        print(arMapPath)\n",
    "        print(ISIPath)\n",
    "    except IndexError:\n",
    "        pass\n",
    "        \n",
    "    # elif len(fname_list) == 7:\n",
    "    #     sample_name_list = fname_list[0:4]\n",
    "    #     joined_sample_name = '_'.join(sample_name_list)\n",
    "    #     linecutMapPath = list(linecutMapsPath.glob(f'{joined_sample_name}*{pol_str}*'))[0]\n",
    "    #     arMapPath = list(arMapsPath.glob(f'{joined_sample_name}*{pol_str}*'))[0]\n",
    "    #     ISIPath = list(ISIsPath.glob(f'{joined_sample_name}*{pol_str}*'))[0]\n",
    "    # elif len(fname_list) == 4:\n",
    "    #     joined_sample_name = fname_list[0]\n",
    "    #     linecutMapPath = list(linecutMapsPath.glob(f'{joined_sample_name}*{pol_str}*'))[0]\n",
    "    #     arMapPath = list(arMapsPath.glob(f'{joined_sample_name}*{pol_str}*'))[0]\n",
    "    #     ISIPath = list(ISIsPath.glob(f'{joined_sample_name}*{pol_str}*'))[0]"
   ]
  },
  {
   "cell_type": "code",
   "execution_count": null,
   "id": "c63df434-f83e-4c5f-a246-e367780530b8",
   "metadata": {},
   "outputs": [],
   "source": [
    "[f.name for f in ISIsPath.glob(f'{sample_name}*')]"
   ]
  },
  {
   "cell_type": "code",
   "execution_count": null,
   "id": "57bca54e-c43a-498a-838f-c40b910a4397",
   "metadata": {},
   "outputs": [],
   "source": [
    "sample_name"
   ]
  },
  {
   "cell_type": "code",
   "execution_count": null,
   "id": "1c38f6fe-0db6-4aeb-9787-b60ac168957c",
   "metadata": {},
   "outputs": [],
   "source": [
    "# Generate slides:\n",
    "\n",
    "prs = Presentation()\n",
    "\n",
    "# Set slide dimensions for widescreen 16:9 aspect ratio\n",
    "prs.slide_width = Inches(13.333)  # Width\n",
    "prs.slide_height = Inches(7.5)    # Height\n",
    "\n",
    "slide_layout = prs.slide_layouts[5]\n",
    "\n",
    "for moviePath in tqdm(sorted(moviePaths.glob('*mp4'))):\n",
    "    # Select appropriate path for each file\n",
    "    poster_frame_path = moviePaths.joinpath(f'{moviePath.stem}.jpeg')\n",
    "    fname_list = moviePath.name.split('_')\n",
    "    pol_str = fname_list[-1][:-4]\n",
    "    \n",
    "\n",
    "    if pol_str == 'pol90deg':\n",
    "        pol_orientation = 'Vertical'\n",
    "    else:\n",
    "        pol_orientation = 'Horizontal'\n",
    "        \n",
    "    try:\n",
    "        if len(fname_list)==4:\n",
    "            sample_name = fname_list[0]\n",
    "            print(sample_name)\n",
    "            linecutMapPath = list(linecutMapsPath.glob(f'{sample_name}_c*polavgdeg*q0.01-0.08*'))[0]\n",
    "            arMapPath = list(arMapsPath.glob(f'vset*{sample_name}_c*polavgdeg*q-0.01-0.08*'))[0]\n",
    "            ISIPath = list(ISIsPath.glob(f'{sample_name}_c*qrange-0.01-0.08*polavgdeg*'))[0]\n",
    "        elif len(fname_list)==5:\n",
    "            sample_name_list = fname_list[0:2]\n",
    "            sample_name = '_'.join(sample_name_list)     \n",
    "            print(sample_name)\n",
    "            linecutMapPath = list(linecutMapsPath.glob(f'{sample_name}_*polavgdeg*q0.01-0.08*'))[0]\n",
    "            arMapPath = list(arMapsPath.glob(f'vset*{sample_name}_*polavgdeg*q-0.01-0.08*'))[0]\n",
    "            ISIPath = list(ISIsPath.glob(f'{sample_name}_*qrange-0.01-0.08*polavgdeg*'))[0]\n",
    "            \n",
    "        print(linecutMapPath)\n",
    "        print(arMapPath)\n",
    "        print(ISIPath)\n",
    "        if pol_orientation == 'Horizontal':\n",
    "            # Add slide \n",
    "            slide = prs.slides.add_slide(slide_layout)\n",
    "\n",
    "            # Formate title\n",
    "            title = slide.shapes.title\n",
    "            title.left = Inches(0.22)\n",
    "            title.top = Inches(0.4)\n",
    "            title.width = Inches(4.8)\n",
    "            title.height = Inches(2.91)\n",
    "            title.text = f'Sample:\\n{sample_name}\\n\\n{pol_orientation} X-ray Polarization'\n",
    "            for paragraph in title.text_frame.paragraphs:\n",
    "                paragraph.alignment = PP_ALIGN.LEFT\n",
    "                paragraph.font.size = Pt(36)\n",
    "\n",
    "            # Define image positions (these are just placeholders, adjust as necessary)\n",
    "            left_movie = Inches(0)\n",
    "            top_movie = Inches(3.41)\n",
    "            height_movie = Inches(4.09)\n",
    "            width_movie = Inches(5)\n",
    "\n",
    "            left_linecutMap = Inches(5.08)\n",
    "            top_linecutMap = Inches(3.5)\n",
    "            height_linecutMap = Inches(3.75)\n",
    "\n",
    "            left_arMap = Inches(5)\n",
    "            top_arMap = Inches(0.25)\n",
    "            height_arMap = Inches(3)    \n",
    "\n",
    "            left_ISI = Inches(9.45)\n",
    "            top_ISI = Inches(0.25)\n",
    "            height_ISI = Inches(3)\n",
    "\n",
    "            # Add images to the slide\n",
    "            slide.shapes.add_movie(str(moviePath), left_movie, top_movie, height=height_movie, width=width_movie, poster_frame_image=str(poster_frame_path), mime_type='video/mp4')\n",
    "            slide.shapes.add_picture(str(linecutMapPath), left_linecutMap, top_linecutMap, height=height_linecutMap)\n",
    "            slide.shapes.add_picture(str(arMapPath), left_arMap, top_arMap, height=height_arMap)\n",
    "            slide.shapes.add_picture(str(ISIPath), left_ISI, top_ISI, height=height_ISI)\n",
    "            \n",
    "    except IndexError:\n",
    "        print('Only movie, skipping this slide')\n",
    "        \n",
    "        \n",
    "prs.save(outPath.joinpath('2022C2_carbon_saxs_prsoxs_auto-summary_horizontal_v2.pptx'))"
   ]
  },
  {
   "cell_type": "code",
   "execution_count": null,
   "id": "0756c47e-3558-4bd6-bf4a-a6834cfee893",
   "metadata": {},
   "outputs": [],
   "source": []
  }
 ],
 "metadata": {
  "kernelspec": {
   "display_name": "Python 3 (ipykernel)",
   "language": "python",
   "name": "python3"
  },
  "language_info": {
   "codemirror_mode": {
    "name": "ipython",
    "version": 3
   },
   "file_extension": ".py",
   "mimetype": "text/x-python",
   "name": "python",
   "nbconvert_exporter": "python",
   "pygments_lexer": "ipython3",
   "version": "3.10.4"
  }
 },
 "nbformat": 4,
 "nbformat_minor": 5
}
