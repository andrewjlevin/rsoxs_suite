{
 "cells": [
  {
   "cell_type": "markdown",
   "id": "75dba553-8354-46b0-84f9-98c05a9847e4",
   "metadata": {},
   "source": [
    "# Use python-pptx to generate powerpoint slides of data\n",
    "# 'RSoXS' 1180 eV slides"
   ]
  },
  {
   "cell_type": "markdown",
   "id": "281ba5ee-8fab-419f-8a61-54b355f3e352",
   "metadata": {},
   "source": [
    "## Imports"
   ]
  },
  {
   "cell_type": "code",
   "execution_count": null,
   "id": "afc9f64a-5264-40d0-bc60-7912e042a671",
   "metadata": {},
   "outputs": [],
   "source": [
    "# Imports: \n",
    "import pathlib\n",
    "from pptx import Presentation\n",
    "from pptx.util import Inches, Pt\n",
    "from pptx.enum.text import PP_ALIGN\n",
    "from tqdm.auto import tqdm"
   ]
  },
  {
   "cell_type": "markdown",
   "id": "885fecdd-7cde-450e-ae84-a884a3df414a",
   "metadata": {},
   "source": [
    "## Define paths"
   ]
  },
  {
   "cell_type": "code",
   "execution_count": null,
   "id": "5451c281-b958-4aa2-a92c-2f4e38b2953d",
   "metadata": {},
   "outputs": [],
   "source": [
    "# Define paths:\n",
    "# rootPath = pathlib.Path('/Users/andrew/Library/CloudStorage/OneDrive-UCB-O365/research/data_analysis/giwaxs_suite')\n",
    "notebookPath = pathlib.Path.cwd()\n",
    "rsoxsPath = notebookPath.parent.parent.joinpath('prsoxs_plots/2024C1/rsoxs_1180')\n",
    "\n",
    "cartPath = rsoxsPath.joinpath('cart_2D_v1')\n",
    "polarPath = rsoxsPath.joinpath('polar_2D_v1')\n",
    "qrCutPath = rsoxsPath.joinpath('qr_linecuts_v1')\n",
    "chiCutPath = rsoxsPath.joinpath('chi_linecuts_v1')\n",
    "\n",
    "\n",
    "outPath = pathlib.Path('/Users/andrew/Downloads')"
   ]
  },
  {
   "cell_type": "markdown",
   "id": "94f32024-e1cb-4d42-bd03-cbc6c5b53293",
   "metadata": {},
   "source": [
    "## Ensure consistent file structure in each data path"
   ]
  },
  {
   "cell_type": "code",
   "execution_count": null,
   "id": "89b2458f-1d43-4384-86a3-45902c994e96",
   "metadata": {
    "tags": []
   },
   "outputs": [],
   "source": [
    "paths = [cartPath, polarPath, qrCutPath, chiCutPath]\n",
    "for path in paths:\n",
    "    print(len(sorted(path.glob('*'))))"
   ]
  },
  {
   "cell_type": "code",
   "execution_count": null,
   "id": "ddc56c99-41e6-44ea-9905-94c272937df4",
   "metadata": {},
   "outputs": [],
   "source": [
    "# plot_names = [  'arCuts',   'arMaps',   'ICuts',   'IMaps',   'ISIs']\n",
    "# plot_paths = [arCutsPath, arMapsPath, ICutsPath, IMapsPath, ISIsPath]\n",
    "\n",
    "# group_size = 3\n",
    "# sublists_dict = {}\n",
    "# for plot_name, plot_path in zip(plot_names, plot_paths):\n",
    "#     paths = sorted(plot_path.glob('*'))\n",
    "#     sublists_dict[plot_name] = [paths[i:i + group_size] for i in range(0, len(paths), group_size)]\n",
    "    \n",
    "# for key, value in sublists_dict.items():\n",
    "#     print(key, len(value))"
   ]
  },
  {
   "cell_type": "code",
   "execution_count": null,
   "id": "a6099434-bb76-4d8b-9269-9e96e4235d0e",
   "metadata": {},
   "outputs": [],
   "source": [
    "cart_pol0_paths = sorted(cartPath.glob('*pol0deg*'))\n",
    "cart_pol90_paths = sorted(cartPath.glob('*pol90deg*'))\n",
    "polar_pol0_paths = sorted(polarPath.glob('*pol0deg*'))\n",
    "polar_pol90_paths = sorted(polarPath.glob('*pol90deg*'))\n",
    "\n",
    "qrCut_paths= sorted(qrCutPath.glob('*'))\n",
    "chiCut_paths= sorted(chiCutPath.glob('*'))"
   ]
  },
  {
   "cell_type": "code",
   "execution_count": null,
   "id": "1efb8a68-9cbe-43ad-b1e7-dd788e3bc024",
   "metadata": {},
   "outputs": [],
   "source": [
    "# group_size = 3\n",
    "# sublists_dict['recipMovies'] = [recip_movie_paths[i:i + group_size] for i in range(0, len(recip_movie_paths), group_size)]\n",
    "# sublists_dict['recipFrames'] = [recip_frame_paths[i:i + group_size] for i in range(0, len(recip_frame_paths), group_size)]\n",
    "# sublists_dict['cakedMovies'] = [caked_movie_paths[i:i + group_size] for i in range(0, len(caked_movie_paths), group_size)]\n",
    "# sublists_dict['cakedFrames'] = [caked_frame_paths[i:i + group_size] for i in range(0, len(caked_frame_paths), group_size)]"
   ]
  },
  {
   "cell_type": "code",
   "execution_count": null,
   "id": "4f849af7-0a4e-4ee9-9980-694b92f3f155",
   "metadata": {},
   "outputs": [],
   "source": [
    "# for key, value in sorted(sublists_dict.items()):\n",
    "#     print(key, len(value))"
   ]
  },
  {
   "cell_type": "markdown",
   "id": "0aaac36f-4d30-4abc-a969-1922f6d09e75",
   "metadata": {},
   "source": [
    "## Make powerpoint"
   ]
  },
  {
   "cell_type": "code",
   "execution_count": null,
   "id": "2745967d-d432-4ee5-9e69-c0db6b20a45e",
   "metadata": {},
   "outputs": [],
   "source": [
    "# # Create a presentation object\n",
    "# prs = Presentation()\n",
    "\n",
    "# # Iterate through all available slide layouts\n",
    "# for i, layout in enumerate(prs.slide_layouts):\n",
    "#     print(f\"Layout {i}: {layout.name}\")"
   ]
  },
  {
   "cell_type": "code",
   "execution_count": null,
   "id": "718bf786-8e4b-4bb5-b695-2ae6c79140ea",
   "metadata": {},
   "outputs": [],
   "source": [
    "# GIWAXS Slides\n",
    "\n",
    "prs = Presentation()\n",
    "\n",
    "# Set slide dimensions for widescreen 16:9 aspect ratio\n",
    "prs.slide_width = Inches(13.333)  # Width\n",
    "prs.slide_height = Inches(7.5)    # Height\n",
    "\n",
    "slide_layout = prs.slide_layouts[6]\n",
    "\n",
    "for i in tqdm(range(len(qrCut_paths))):\n",
    "    cart_pol0_path = cart_pol0_paths[i]\n",
    "    cart_pol90_path = cart_pol90_paths[i]\n",
    "    polar_pol0_path = polar_pol0_paths[i]\n",
    "    polar_pol90_path = polar_pol90_paths[i]\n",
    "    qrCut_path = qrCut_paths[i]\n",
    "    chiCut_path = chiCut_paths[i]\n",
    "\n",
    "    # Grab sample name\n",
    "    sample_name_list = qrCut_path.name.split('_')[:-1]\n",
    "\n",
    "    # Add slide \n",
    "    slide = prs.slides.add_slide(slide_layout)\n",
    "\n",
    "    # Define image positions (these are just placeholders, adjust as necessary)\n",
    "    height_first_row = Inches(4.5)\n",
    "    top_first_row = Inches(-0.4)\n",
    "    \n",
    "    height_second_row = Inches(3.5)\n",
    "    top_second_row = Inches(4)\n",
    "    \n",
    "    left_cart = Inches(2.33)\n",
    "    left_polar = Inches(7.83)\n",
    "    left_qrCut = Inches(-0.06)\n",
    "    left_chiCut = Inches(5.83)\n",
    "\n",
    "    # Add images to the slide\n",
    "    slide.shapes.add_picture(str(cart_pol0_path), left=left_cart, top=top_first_row, height=height_first_row)\n",
    "    slide.shapes.add_picture(str(polar_pol0_path), left=left_polar, top=top_first_row, height=height_first_row)\n",
    "    slide.shapes.add_picture(str(qrCut_path), left=left_qrCut, top=top_second_row, height=height_second_row)\n",
    "    slide.shapes.add_picture(str(chiCut_path), left=left_chiCut, top=top_second_row, height=height_second_row)\n",
    "    # Add a new text box for the title instead of using the default title placeholder\n",
    "    left_title = Inches(0)\n",
    "    top_title = Inches(0)\n",
    "    width_title = Inches(2.69)\n",
    "    height_title = Inches(4)\n",
    "    textbox = slide.shapes.add_textbox(left_title, top_title, width_title, height_title)\n",
    "    text_frame = textbox.text_frame\n",
    "    try:\n",
    "        text_frame.text = f'{sample_name_list[0]}\\n{sample_name_list[1]}\\n{sample_name_list[2]}\\n' \n",
    "    except:\n",
    "        text_frame.text = f'{sample_name_list[0]}\\n{sample_name_list[1]}' \n",
    "    for paragraph in text_frame.paragraphs:\n",
    "        paragraph.alignment = PP_ALIGN.LEFT\n",
    "        paragraph.font.size = Pt(30)\n",
    "        \n",
    "    # Add slide \n",
    "    slide = prs.slides.add_slide(slide_layout)\n",
    "    # Add images to the slide\n",
    "    slide.shapes.add_picture(str(cart_pol90_path), left=left_cart, top=top_first_row, height=height_first_row)\n",
    "    slide.shapes.add_picture(str(polar_pol90_path), left=left_polar, top=top_first_row, height=height_first_row)\n",
    "    slide.shapes.add_picture(str(qrCut_path), left=left_qrCut, top=top_second_row, height=height_second_row)\n",
    "    slide.shapes.add_picture(str(chiCut_path), left=left_chiCut, top=top_second_row, height=height_second_row)\n",
    "    # Add a new text box for the title instead of using the default title placeholder\n",
    "    left_title = Inches(0)\n",
    "    top_title = Inches(0)\n",
    "    width_title = Inches(2.69)\n",
    "    height_title = Inches(4)\n",
    "    textbox = slide.shapes.add_textbox(left_title, top_title, width_title, height_title)\n",
    "    text_frame = textbox.text_frame\n",
    "    try:\n",
    "        text_frame.text = f'{sample_name_list[0]}\\n{sample_name_list[1]}\\n{sample_name_list[2]}\\n' \n",
    "    except:\n",
    "        text_frame.text = f'{sample_name_list[0]}\\n{sample_name_list[1]}' \n",
    "    for paragraph in text_frame.paragraphs:\n",
    "        paragraph.alignment = PP_ALIGN.LEFT\n",
    "        paragraph.font.size = Pt(30)\n",
    "    \n",
    "prs.save(outPath.joinpath(f'rsoxs_1180_auto-summary_v1.pptx'))\n",
    "print('done!')"
   ]
  },
  {
   "cell_type": "code",
   "execution_count": null,
   "id": "5f6ed3e9-d6f3-463b-ae4e-5a54dd51d639",
   "metadata": {},
   "outputs": [],
   "source": []
  }
 ],
 "metadata": {
  "kernelspec": {
   "display_name": "Python 3 (ipykernel)",
   "language": "python",
   "name": "python3"
  },
  "language_info": {
   "codemirror_mode": {
    "name": "ipython",
    "version": 3
   },
   "file_extension": ".py",
   "mimetype": "text/x-python",
   "name": "python",
   "nbconvert_exporter": "python",
   "pygments_lexer": "ipython3",
   "version": "3.10.4"
  }
 },
 "nbformat": 4,
 "nbformat_minor": 5
}
