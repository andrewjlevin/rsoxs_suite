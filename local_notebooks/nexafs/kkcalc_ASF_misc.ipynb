{
 "cells": [
  {
   "cell_type": "code",
   "execution_count": null,
   "id": "e366d4ba-59c4-4ee5-bcfc-eb7091d8f2f4",
   "metadata": {},
   "outputs": [],
   "source": [
    "import numpy as np\n",
    "import matplotlib.pyplot as plt\n",
    "from kkcalc import data\n",
    "from kkcalc import kk"
   ]
  },
  {
   "cell_type": "code",
   "execution_count": null,
   "id": "96cb9e4c-f265-4050-a828-dbe6287df109",
   "metadata": {},
   "outputs": [],
   "source": [
    "len(ASF_Data[-1])"
   ]
  },
  {
   "cell_type": "code",
   "execution_count": null,
   "id": "b3056f8b-bc7e-470c-bb1d-3010cde2d219",
   "metadata": {},
   "outputs": [],
   "source": [
    "# Calculate henke atomic scattering factors for specified chemical formula\n",
    "chemical_formula = 'Sr1'\n",
    "Stoichiometry = kk.data.ParseChemicalFormula(chemical_formula)\n",
    "ASF_E, ASF_Data = kk.data.calculate_asf(Stoichiometry)\n",
    "# ASF_Data1 = kk.data.coeffs_to_ASF(ASF_E, np.vstack((ASF_Data, ASF_Data[-10])))\n",
    "# ASF_Data2 = kk.data.coeffs_to_ASF(ASF_E, np.vstack((ASF_Data, ASF_Data[-1])))\n",
    "ASF_Data2 = kk.data.coeffs_to_ASF(ASF_E[:-1], ASF_Data)"
   ]
  },
  {
   "cell_type": "code",
   "execution_count": null,
   "id": "42cd7b69-13de-45a3-b24a-c6ad6d1c2dc1",
   "metadata": {},
   "outputs": [],
   "source": [
    "emin = 1900\n",
    "emax = 2000\n",
    "\n",
    "# plt.plot(ASF_E, ASF_Data1, label='f1')\n",
    "plt.plot(ASF_E[:-1], ASF_Data2, label='f2')\n",
    "plt.gcf().set(size_inches=(5,2.5), dpi=120)\n",
    "plt.legend()\n",
    "plt.xlim(emin, emax)\n",
    "plt.ylim(0, None)\n",
    "plt.xlabel('Photon Energy [eV]')\n",
    "plt.show()"
   ]
  },
  {
   "cell_type": "code",
   "execution_count": null,
   "id": "b9c338c7-fa43-4dcc-a59b-da907cf15838",
   "metadata": {},
   "outputs": [],
   "source": []
  }
 ],
 "metadata": {
  "kernelspec": {
   "display_name": "Python 3 (ipykernel)",
   "language": "python",
   "name": "python3"
  },
  "language_info": {
   "codemirror_mode": {
    "name": "ipython",
    "version": 3
   },
   "file_extension": ".py",
   "mimetype": "text/x-python",
   "name": "python",
   "nbconvert_exporter": "python",
   "pygments_lexer": "ipython3",
   "version": "3.10.4"
  }
 },
 "nbformat": 4,
 "nbformat_minor": 5
}
