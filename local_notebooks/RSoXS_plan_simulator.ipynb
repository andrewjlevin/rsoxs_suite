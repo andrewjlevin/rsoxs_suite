{
 "cells": [
  {
   "cell_type": "markdown",
   "id": "aa1b8dd4-6166-4427-9ca2-352c73d9c8a6",
   "metadata": {},
   "source": [
    "Release VERSION 230109\n",
    "\n",
    "<h1>RSoXS plan simulator</h1>\n",
    "this is a full stack of the SST scan system, from the loader through to the low level acquisition code, all simulated here\n",
    "run all the hidden cells first!"
   ]
  },
  {
   "cell_type": "code",
   "execution_count": null,
   "id": "7e5d7d25-aec5-4855-850d-5615814e81d5",
   "metadata": {
    "tags": []
   },
   "outputs": [],
   "source": [
    "%load_ext autoreload\n",
    "\n",
    "from rsoxs_scans.spreadsheets import load_samplesxlsx, save_samplesxlsx\n",
    "from rsoxs_scans.acquisition import dryrun_bar, get_acq_details\n",
    "import pathlib"
   ]
  },
  {
   "cell_type": "code",
   "execution_count": null,
   "id": "56d3c4a2-a35b-417f-bb09-497d62f4562e",
   "metadata": {
    "tags": []
   },
   "outputs": [],
   "source": [
    "# userPath = pathlib.Path('/nsls2/users/alevin')\n",
    "projectPath = pathlib.Path('/Users/andrew/Library/CloudStorage/OneDrive-UCB-O365/research/beamline_stuff/BNL-NSLSII/SST1/')\n",
    "sheetsPath = projectPath.joinpath('2024-1')\n",
    "sheetsPath.exists()"
   ]
  },
  {
   "cell_type": "code",
   "execution_count": null,
   "id": "c97872e8-1cdc-4441-8853-50af45797746",
   "metadata": {
    "tags": []
   },
   "outputs": [],
   "source": [
    "# version = 'v5'\n",
    "# sheetPath = sheetsPath.joinpath(f'levin_sample_bar_2024C1_{version}.xlsx')\n",
    "sheetPath = sheetsPath.joinpath('in_2024-02-25_07-01-20_final2.xlsx')\n",
    "sheetPath.exists()"
   ]
  },
  {
   "cell_type": "code",
   "execution_count": null,
   "id": "000aa2d5-b952-409a-a81a-2a115a08f82c",
   "metadata": {
    "tags": []
   },
   "outputs": [],
   "source": [
    "# load the example bar\n",
    "bar = load_samplesxlsx(sheetPath)"
   ]
  },
  {
   "cell_type": "code",
   "execution_count": null,
   "id": "43d5d355-a1f1-4af5-b4e8-ca2a8f7513b0",
   "metadata": {},
   "outputs": [],
   "source": [
    "# save_samplesxlsx(bar, name=f'saved_bar_{version}', path=f'{str(sheetsPath)}/') # test writing to a temporary file"
   ]
  },
  {
   "cell_type": "code",
   "execution_count": null,
   "id": "b835759d-35e5-431d-b401-f2466d0aff6f",
   "metadata": {
    "tags": []
   },
   "outputs": [],
   "source": [
    "# bar2 = load_samplesxlsx(\"test2.xlsx\") # test loading from a temporary file"
   ]
  },
  {
   "cell_type": "code",
   "execution_count": null,
   "id": "28f74209-116e-4416-9f3c-0c655b0b6ac9",
   "metadata": {
    "tags": []
   },
   "outputs": [],
   "source": [
    "# dry run it\n",
    "outputs = dryrun_bar(bar,['apriority'],group='all')"
   ]
  },
  {
   "cell_type": "code",
   "execution_count": null,
   "id": "fccb2aef-8930-43c0-b0a4-8af33b98bf86",
   "metadata": {
    "tags": []
   },
   "outputs": [],
   "source": [
    "(10 * 3 * 24 * 2)/60"
   ]
  },
  {
   "cell_type": "code",
   "execution_count": null,
   "id": "38076d20-5963-4f19-80a0-22682674da83",
   "metadata": {
    "jupyter": {
     "outputs_hidden": true
    },
    "tags": []
   },
   "outputs": [],
   "source": [
    "# Get more details on a given acquisition\n",
    "get_acq_details(40,outputs)"
   ]
  },
  {
   "cell_type": "code",
   "execution_count": null,
   "id": "2b8e8d89-e1ed-41f7-a2f3-260f07c74632",
   "metadata": {},
   "outputs": [],
   "source": [
    "# get the set of all actions\n",
    "actions = set()\n",
    "for acq in outputs:\n",
    "    for step in acq['steps']:\n",
    "        actions.add(step['action'])\n",
    "print(actions)"
   ]
  },
  {
   "cell_type": "code",
   "execution_count": null,
   "id": "045fd5e0-dce3-4cd3-876a-18605e2fa829",
   "metadata": {},
   "outputs": [],
   "source": [
    "arguments = {}\n",
    "for action in actions:\n",
    "    keys = set()\n",
    "    for acq in outputs:\n",
    "        for step in acq['steps']:\n",
    "            if step['action'] == action:\n",
    "                if 'kwargs' in step:\n",
    "                    for kwarg in step['kwargs']:\n",
    "                        keys.add(kwarg)\n",
    "    arguments[action]=keys\n",
    "    print(\"{:<18} : {}\".format(action,keys))"
   ]
  },
  {
   "cell_type": "markdown",
   "id": "37783752-3496-473a-a060-a4498bf149b5",
   "metadata": {},
   "source": [
    "<h1>Examples of edges, ratios, frames"
   ]
  },
  {
   "cell_type": "code",
   "execution_count": null,
   "id": "5d44adc0-5366-4e94-944a-e26b36207010",
   "metadata": {},
   "outputs": [],
   "source": [
    "# totally manual simple scan\n",
    "from rsoxs_scans.constructor import get_energies\n",
    "energies = get_energies((1850,1930),100)"
   ]
  },
  {
   "cell_type": "code",
   "execution_count": null,
   "id": "30a30275-6494-4130-9f57-59d0ec712b7f",
   "metadata": {},
   "outputs": [],
   "source": [
    "# precise energy list\n",
    "# you can fool the algorithm if you put 1 as the number of frames it will only take one frame at each of the thresholds, including the last one, so you can sort of treat this as just an energy list\n",
    "# as a corollary, you can't have a total number of frames less than the thresholds that you give it in edges (it will at a minimum always take the threshold values)\n",
    "energies = get_energies((250,250,250,340,340,341,280,281.45,500,500),1)"
   ]
  },
  {
   "cell_type": "code",
   "execution_count": null,
   "id": "01f21db7-aefb-4ace-8200-56e3e03ee069",
   "metadata": {},
   "outputs": [],
   "source": [
    "# use a default\n",
    "energies = get_energies('Nitrogen')"
   ]
  },
  {
   "cell_type": "code",
   "execution_count": null,
   "id": "56a2c320-4ae5-45bf-b053-e01692b2d810",
   "metadata": {},
   "outputs": [],
   "source": [
    "# use a default with a different name\n",
    "energies = get_energies('c')"
   ]
  },
  {
   "cell_type": "code",
   "execution_count": null,
   "id": "e1e30377-dc74-424c-8283-c124ca1d345d",
   "metadata": {},
   "outputs": [],
   "source": [
    "# use a different built in interval set\n",
    "energies = get_energies('c','full','carbon nonaromatic')"
   ]
  },
  {
   "cell_type": "code",
   "execution_count": null,
   "id": "abbff89b-d872-41bc-9a58-2760307ad093",
   "metadata": {},
   "outputs": [],
   "source": [
    "# get a very short version of this scan\n",
    "energies = get_energies('c','very short','carbon nonaromatic')"
   ]
  },
  {
   "cell_type": "code",
   "execution_count": null,
   "id": "c1e455f8-680c-4a86-a706-326dc99b446c",
   "metadata": {},
   "outputs": [],
   "source": [
    "# I don't have time for this, I only want ~10 energies\n",
    "energies = get_energies('c',10,'carbon nonaromatic')"
   ]
  },
  {
   "cell_type": "code",
   "execution_count": null,
   "id": "771e227b-71cc-41c1-938a-cdead12cac27",
   "metadata": {},
   "outputs": [],
   "source": [
    "# also, I made single entry energies also work\n",
    "energies = get_energies([350, 305, 292, 287, 282, 270, 250],'short',[5, 1, 0.2, 0.1, 1, 5])"
   ]
  },
  {
   "cell_type": "code",
   "execution_count": null,
   "id": "eb099401-380a-4a9e-91e7-601c24516b1b",
   "metadata": {},
   "outputs": [],
   "source": [
    "# also option to have frames as a list of exact numbers needed in each region\n",
    "energies = get_energies('c',[2,5,10,40,5,2])"
   ]
  },
  {
   "cell_type": "code",
   "execution_count": null,
   "id": "02a587fb-0d40-4be1-8981-e3780554fe82",
   "metadata": {},
   "outputs": [],
   "source": [
    "# putting in zero effectively removes that region\n",
    "energies = get_energies('c',[2,5,10,0,5,2])"
   ]
  },
  {
   "cell_type": "code",
   "execution_count": null,
   "id": "7ac7e575-ba97-47db-942d-0142f94bc874",
   "metadata": {},
   "outputs": [],
   "source": [
    "from rsoxs_scans.constructor import construct_exposure_times\n",
    "times,_ = construct_exposure_times(get_energies([270,280,290,400],500,[2,1,10]),1)\n",
    "len(times)"
   ]
  },
  {
   "cell_type": "code",
   "execution_count": null,
   "id": "1bfaf2de-0b6d-44c6-bb01-94298933acdc",
   "metadata": {},
   "outputs": [],
   "source": [
    "from rsoxs_scans.constructor import get_nexafs_scan_params\n",
    "get_nexafs_scan_params('n','normal')"
   ]
  },
  {
   "cell_type": "markdown",
   "id": "c51dddb5-ce03-415c-b959-4c3b0ce2f4eb",
   "metadata": {},
   "source": [
    "<h1>Example of complex Exposure times"
   ]
  },
  {
   "cell_type": "code",
   "execution_count": null,
   "id": "2176f39a-e823-4272-9239-7ee2652073d3",
   "metadata": {},
   "outputs": [],
   "source": [
    "construct_exposure_times(get_energies((1850,1930),100),[2,(\"between\",1870,1900.0),4,(\"greater_than\",1920.0),1],80)"
   ]
  },
  {
   "cell_type": "code",
   "execution_count": null,
   "id": "063b78bd-8623-4635-9de5-c071b548d807",
   "metadata": {},
   "outputs": [],
   "source": [
    "isinstance('asdf',str)"
   ]
  },
  {
   "cell_type": "code",
   "execution_count": null,
   "id": "fce3a73c-cd98-4e50-ad61-850272a9b358",
   "metadata": {},
   "outputs": [],
   "source": []
  },
  {
   "cell_type": "code",
   "execution_count": null,
   "id": "3e8c16a1-55fe-4fa1-b990-ed76b04e9448",
   "metadata": {},
   "outputs": [],
   "source": []
  }
 ],
 "metadata": {
  "kernelspec": {
   "display_name": "Python 3 (ipykernel)",
   "language": "python",
   "name": "python3"
  },
  "language_info": {
   "codemirror_mode": {
    "name": "ipython",
    "version": 3
   },
   "file_extension": ".py",
   "mimetype": "text/x-python",
   "name": "python",
   "nbconvert_exporter": "python",
   "pygments_lexer": "ipython3",
   "version": "3.10.4"
  },
  "vscode": {
   "interpreter": {
    "hash": "054bedd935cc4fb30a8577dfc7551b971df042c2fe48c0ba637d4f4d7d65a122"
   }
  }
 },
 "nbformat": 4,
 "nbformat_minor": 5
}
