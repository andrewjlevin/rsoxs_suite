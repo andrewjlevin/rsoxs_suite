{
 "cells": [
  {
   "cell_type": "markdown",
   "id": "75dba553-8354-46b0-84f9-98c05a9847e4",
   "metadata": {},
   "source": [
    "# Use python-pptx to generate powerpoint slides of data"
   ]
  },
  {
   "cell_type": "code",
   "execution_count": null,
   "id": "afc9f64a-5264-40d0-bc60-7912e042a671",
   "metadata": {},
   "outputs": [],
   "source": [
    "# Imports: \n",
    "import pathlib\n",
    "from pptx import Presentation\n",
    "from pptx.util import Inches, Pt\n",
    "from pptx.enum.text import PP_ALIGN\n",
    "from tqdm.auto import tqdm"
   ]
  },
  {
   "cell_type": "code",
   "execution_count": null,
   "id": "5451c281-b958-4aa2-a92c-2f4e38b2953d",
   "metadata": {},
   "outputs": [],
   "source": [
    "# Define paths:\n",
    "# rootPath = pathlib.Path('/Users/andrew/Library/CloudStorage/OneDrive-UCB-O365/research/data_analysis/giwaxs_suite')\n",
    "notebookPath = pathlib.Path.cwd()\n",
    "trexsPath = notebookPath.parent.joinpath('trexs_plots')\n",
    "recipPath = trexsPath.joinpath('recip_waxs_detector_movies_v1')\n",
    "cakedPath = trexsPath.joinpath('caked_waxs_detector_movies_v1')\n",
    "\n",
    "\n",
    "outPath = pathlib.Path('/Users/andrew/Downloads')"
   ]
  },
  {
   "cell_type": "code",
   "execution_count": null,
   "id": "06e2f091-87af-4a4b-8628-ecd77434bbad",
   "metadata": {},
   "outputs": [],
   "source": [
    "len([f.name for f in sorted(recipPath.glob('*.mp4'))])"
   ]
  },
  {
   "cell_type": "code",
   "execution_count": null,
   "id": "fa3a1e09-f3f3-46cc-a5b5-38ef461f1440",
   "metadata": {
    "jupyter": {
     "outputs_hidden": true
    },
    "tags": []
   },
   "outputs": [],
   "source": [
    "[f.name for f in sorted(cakedPath.glob('*.mp4'))]"
   ]
  },
  {
   "cell_type": "code",
   "execution_count": null,
   "id": "a6099434-bb76-4d8b-9269-9e96e4235d0e",
   "metadata": {},
   "outputs": [],
   "source": [
    "recip_frame_paths = sorted(recipPath.glob('*.png'))\n",
    "recip_movie_paths = sorted(recipPath.glob('*.mp4'))\n",
    "caked_frame_paths = sorted(cakedPath.glob('*.png'))\n",
    "caked_movie_paths = sorted(cakedPath.glob('*.mp4'))"
   ]
  },
  {
   "cell_type": "code",
   "execution_count": null,
   "id": "1ce4cbaa-bb5e-4196-b128-5dc2c6b65ce0",
   "metadata": {},
   "outputs": [],
   "source": [
    "len(caked_paths)"
   ]
  },
  {
   "cell_type": "code",
   "execution_count": null,
   "id": "1efb8a68-9cbe-43ad-b1e7-dd788e3bc024",
   "metadata": {},
   "outputs": [],
   "source": [
    "group_size = 3\n",
    "recip_movie_sublists = [recip_movie_paths[i:i + group_size] for i in range(0, len(recip_movie_paths), group_size)]\n",
    "recip_frame_sublists = [recip_frame_paths[i:i + group_size] for i in range(0, len(recip_frame_paths), group_size)]\n",
    "caked_movie_sublists = [caked_movie_paths[i:i + group_size] for i in range(0, len(caked_movie_paths), group_size)]\n",
    "caked_frame_sublists = [caked_frame_paths[i:i + group_size] for i in range(0, len(caked_frame_paths), group_size)]"
   ]
  },
  {
   "cell_type": "code",
   "execution_count": null,
   "id": "4f849af7-0a4e-4ee9-9980-694b92f3f155",
   "metadata": {},
   "outputs": [],
   "source": [
    "# for sublist in sublists:\n",
    "#     print(len(sublist))"
   ]
  },
  {
   "cell_type": "code",
   "execution_count": null,
   "id": "2745967d-d432-4ee5-9e69-c0db6b20a45e",
   "metadata": {},
   "outputs": [],
   "source": [
    "# # Create a presentation object\n",
    "# prs = Presentation()\n",
    "\n",
    "# # Iterate through all available slide layouts\n",
    "# for i, layout in enumerate(prs.slide_layouts):\n",
    "#     print(f\"Layout {i}: {layout.name}\")"
   ]
  },
  {
   "cell_type": "code",
   "execution_count": null,
   "id": "780a1353-ad97-407e-a767-b8a09f5fe808",
   "metadata": {},
   "outputs": [],
   "source": [
    "(caked_sublists[0])"
   ]
  },
  {
   "cell_type": "code",
   "execution_count": null,
   "id": "718bf786-8e4b-4bb5-b695-2ae6c79140ea",
   "metadata": {},
   "outputs": [],
   "source": [
    "# GIWAXS Slides\n",
    "\n",
    "prs = Presentation()\n",
    "\n",
    "# Set slide dimensions for widescreen 16:9 aspect ratio\n",
    "prs.slide_width = Inches(13.333)  # Width\n",
    "prs.slide_height = Inches(7.5)    # Height\n",
    "\n",
    "slide_layout = prs.slide_layouts[6]\n",
    "\n",
    "for i, recip_movie_sublist in enumerate(tqdm(recip_movie_sublists)):\n",
    "    recip_frame_sublist = recip_frame_sublists[i]\n",
    "    caked_frame_sublist = caked_frame_sublists[i]\n",
    "    caked_movie_sublist = caked_movie_sublists[i]\n",
    "    \n",
    "    # Grab sample name\n",
    "    sample_name = '_'.join(recip_movie_sublist[0].name.split('_')[:2])\n",
    "\n",
    "    # Add slide \n",
    "    slide = prs.slides.add_slide(slide_layout)\n",
    "\n",
    "    # Add a new text box for the title instead of using the default title placeholder\n",
    "    left_title = Inches(0)\n",
    "    top_title = Inches(0)\n",
    "    width_title = Inches(13.33)\n",
    "    height_title = Inches(0.64)\n",
    "    textbox = slide.shapes.add_textbox(left_title, top_title, width_title, height_title)\n",
    "    text_frame = textbox.text_frame\n",
    "    text_frame.text = f'{sample_name}' \n",
    "    for paragraph in text_frame.paragraphs:\n",
    "        paragraph.alignment = PP_ALIGN.CENTER\n",
    "        paragraph.font.size = Pt(32)\n",
    "\n",
    "    # Define image positions (these are just placeholders, adjust as necessary)\n",
    "    height_recip = Inches(3.76)\n",
    "    height_caked = Inches(3.38)\n",
    "    \n",
    "    width_recip = Inches(4.6)\n",
    "    width_caked = Inches(4.14)\n",
    "    \n",
    "    top_recip = Inches(0.64)\n",
    "    top_caked = Inches(4.27)\n",
    "    \n",
    "    left_recip_th35 = Inches(0.31)\n",
    "    left_recip_th55 = Inches(4.37)\n",
    "    left_recip_th90 = Inches(8.41)\n",
    "\n",
    "    left_caked_th35 = Inches(0.77)\n",
    "    left_caked_th55 = Inches(4.83)\n",
    "    left_caked_th90 = Inches(8.89)\n",
    "\n",
    "    # Add images to the slide\n",
    "    slide.shapes.add_movie(str(recip_movie_sublist[2]), left=left_recip_th90, top=top_recip, width=width_recip, height=height_recip, poster_frame_image=str(recip_frame_sublist[2]))\n",
    "    slide.shapes.add_movie(str(recip_movie_sublist[1]), left=left_recip_th55, top=top_recip, width=width_recip, height=height_recip, poster_frame_image=str(recip_frame_sublist[1]))\n",
    "    slide.shapes.add_movie(str(recip_movie_sublist[0]), left=left_recip_th35, top=top_recip, width=width_recip, height=height_recip, poster_frame_image=str(recip_frame_sublist[0]))\n",
    "    slide.shapes.add_movie(str(caked_movie_sublist[2]), left=left_caked_th90, top=top_caked, width=width_caked, height=height_caked, poster_frame_image=str(caked_frame_sublist[2]))\n",
    "    slide.shapes.add_movie(str(caked_movie_sublist[1]), left=left_caked_th55, top=top_caked, width=width_caked, height=height_caked, poster_frame_image=str(caked_frame_sublist[1]))\n",
    "    slide.shapes.add_movie(str(caked_movie_sublist[0]), left=left_caked_th35, top=top_caked, width=width_caked, height=height_caked, poster_frame_image=str(caked_frame_sublist[0]))\n",
    "    \n",
    "\n",
    "prs.save(outPath.joinpath(f'test_auto-summary.pptx'))\n",
    "print('done!')"
   ]
  },
  {
   "cell_type": "code",
   "execution_count": null,
   "id": "5f6ed3e9-d6f3-463b-ae4e-5a54dd51d639",
   "metadata": {},
   "outputs": [],
   "source": []
  }
 ],
 "metadata": {
  "kernelspec": {
   "display_name": "Python 3 (ipykernel)",
   "language": "python",
   "name": "python3"
  },
  "language_info": {
   "codemirror_mode": {
    "name": "ipython",
    "version": 3
   },
   "file_extension": ".py",
   "mimetype": "text/x-python",
   "name": "python",
   "nbconvert_exporter": "python",
   "pygments_lexer": "ipython3",
   "version": "3.10.4"
  }
 },
 "nbformat": 4,
 "nbformat_minor": 5
}
