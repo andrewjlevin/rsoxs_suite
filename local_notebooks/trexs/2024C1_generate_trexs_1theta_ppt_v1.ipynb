{
 "cells": [
  {
   "cell_type": "markdown",
   "id": "75dba553-8354-46b0-84f9-98c05a9847e4",
   "metadata": {},
   "source": [
    "# Use python-pptx to generate powerpoint slides of data\n",
    "# Full TReXS slides"
   ]
  },
  {
   "cell_type": "markdown",
   "id": "281ba5ee-8fab-419f-8a61-54b355f3e352",
   "metadata": {},
   "source": [
    "## Imports"
   ]
  },
  {
   "cell_type": "code",
   "execution_count": 1,
   "id": "afc9f64a-5264-40d0-bc60-7912e042a671",
   "metadata": {},
   "outputs": [],
   "source": [
    "# Imports: \n",
    "import pathlib\n",
    "from pptx import Presentation\n",
    "from pptx.util import Inches, Pt\n",
    "from pptx.enum.text import PP_ALIGN\n",
    "from tqdm.auto import tqdm"
   ]
  },
  {
   "cell_type": "markdown",
   "id": "885fecdd-7cde-450e-ae84-a884a3df414a",
   "metadata": {},
   "source": [
    "## Define paths"
   ]
  },
  {
   "cell_type": "code",
   "execution_count": 8,
   "id": "5451c281-b958-4aa2-a92c-2f4e38b2953d",
   "metadata": {},
   "outputs": [],
   "source": [
    "# Define paths:\n",
    "# rootPath = pathlib.Path('/Users/andrew/Library/CloudStorage/OneDrive-UCB-O365/research/data_analysis/giwaxs_suite')\n",
    "notebookPath = pathlib.Path.cwd()\n",
    "# trexsPath = notebookPath.parent.parent.joinpath('trexs_plots/saxs_solution_trexs_plots_v2')\n",
    "# trexsPath = notebookPath.parent.parent.joinpath('trexs_plots/waxs_dmgtest_films_trexs_plots')\n",
    "# trexsPath = notebookPath.parent.parent.joinpath('trexs_plots/waxs_solution_trexs_plots')\n",
    "trexsPath = notebookPath.parent.parent.joinpath('trexs_plots/waxs_core_films_trexs_plots')\n",
    "\n",
    "\n",
    "recipPath = trexsPath.joinpath('recip_waxs_detector_movies_v1')\n",
    "cakedPath = trexsPath.joinpath('caked_waxs_detector_movies_v1')\n",
    "arCutsPath = trexsPath.joinpath('ar_cuts_v1')\n",
    "arMapsPath = trexsPath.joinpath('ar_maps_v1')\n",
    "# ICutsPath = trexsPath.joinpath('I_cuts_v1')\n",
    "ICutsPath = trexsPath.joinpath('I_cuts_flatsub_v1')\n",
    "IMapsPath = trexsPath.joinpath('I_maps_v1')\n",
    "ISIsPath = trexsPath.joinpath('ISIs_v1')\n",
    "\n",
    "\n",
    "outPath = pathlib.Path('/Users/andrew/Downloads')"
   ]
  },
  {
   "cell_type": "code",
   "execution_count": 9,
   "id": "961687b6-7ada-4e2a-ab62-c39e81acf709",
   "metadata": {},
   "outputs": [
    {
     "data": {
      "text/plain": [
       "['recip_waxs_detector_movies_v1',\n",
       " 'ISIs_v1',\n",
       " '.DS_Store',\n",
       " 'peakarea-vs-energy_v1',\n",
       " 'I_cuts_flatsub_v1',\n",
       " 'I_cuts_v1',\n",
       " 'ar_cuts_v1',\n",
       " 'I_cuts_normed_v1',\n",
       " 'ar_maps_v1',\n",
       " 'I_maps_v1',\n",
       " 'caked_waxs_detector_movies_v1']"
      ]
     },
     "execution_count": 9,
     "metadata": {},
     "output_type": "execute_result"
    }
   ],
   "source": [
    "[f.name for f in trexsPath.glob('*')]"
   ]
  },
  {
   "cell_type": "markdown",
   "id": "94f32024-e1cb-4d42-bd03-cbc6c5b53293",
   "metadata": {},
   "source": [
    "## Ensure consistent file structure in each data path"
   ]
  },
  {
   "cell_type": "code",
   "execution_count": 10,
   "id": "514a0532-d5ef-4330-a8cb-9d6817a40264",
   "metadata": {},
   "outputs": [
    {
     "name": "stdout",
     "output_type": "stream",
     "text": [
      "84\n",
      "84\n",
      "84\n",
      "42\n",
      "42\n",
      "42\n",
      "42\n"
     ]
    }
   ],
   "source": [
    "paths = [recipPath, cakedPath, arCutsPath, arMapsPath, ICutsPath, IMapsPath, ISIsPath]\n",
    "for path in paths:\n",
    "    print(len(sorted(path.glob('*'))))"
   ]
  },
  {
   "cell_type": "code",
   "execution_count": 11,
   "id": "a6099434-bb76-4d8b-9269-9e96e4235d0e",
   "metadata": {},
   "outputs": [
    {
     "name": "stdout",
     "output_type": "stream",
     "text": [
      "42\n",
      "42\n",
      "42\n",
      "42\n"
     ]
    }
   ],
   "source": [
    "# arCuts_paths = sorted(arCutsPath.glob('*q-0.05*'))\n",
    "recip_frame_paths = sorted(recipPath.glob('*.png'))\n",
    "recip_movie_paths = sorted(recipPath.glob('*.mp4'))\n",
    "caked_frame_paths = sorted(cakedPath.glob('*.png'))\n",
    "caked_movie_paths = sorted(cakedPath.glob('*.mp4'))\n",
    "\n",
    "path_lists = [recip_frame_paths, recip_movie_paths, caked_frame_paths, caked_movie_paths]\n",
    "for path_list in path_lists:\n",
    "    print(len(path_list))"
   ]
  },
  {
   "cell_type": "code",
   "execution_count": 28,
   "id": "ddc56c99-41e6-44ea-9905-94c272937df4",
   "metadata": {},
   "outputs": [],
   "source": [
    "# plot_names = [  'arCuts',   'arMaps',   'ISIs',   'ICuts',   'IMaps']\n",
    "# plot_paths = [arCutsPath, arMapsPath, ISIsPath, ICutsPath, IMapsPath]\n",
    "\n",
    "# group_size = 3\n",
    "# sublists_dict = {}\n",
    "# for plot_name, plot_path in zip(plot_names, plot_paths):\n",
    "#     paths = sorted(plot_path.glob('*'))\n",
    "#     sublists_dict[plot_name] = [paths[i:i + group_size] for i in range(0, len(paths), group_size)]\n",
    "    \n",
    "# for key, value in sublists_dict.items():\n",
    "#     print(key, len(value))"
   ]
  },
  {
   "cell_type": "code",
   "execution_count": 29,
   "id": "1efb8a68-9cbe-43ad-b1e7-dd788e3bc024",
   "metadata": {},
   "outputs": [],
   "source": [
    "# group_size = 3\n",
    "# sublists_dict['arCuts'] = [arCuts_paths[i:i + group_size] for i in range(0, len(arCuts_paths), group_size)]\n",
    "# sublists_dict['recipMovies'] = [recip_movie_paths[i:i + group_size] for i in range(0, len(recip_movie_paths), group_size)]\n",
    "# sublists_dict['recipFrames'] = [recip_frame_paths[i:i + group_size] for i in range(0, len(recip_frame_paths), group_size)]\n",
    "# sublists_dict['cakedMovies'] = [caked_movie_paths[i:i + group_size] for i in range(0, len(caked_movie_paths), group_size)]\n",
    "# sublists_dict['cakedFrames'] = [caked_frame_paths[i:i + group_size] for i in range(0, len(caked_frame_paths), group_size)]"
   ]
  },
  {
   "cell_type": "code",
   "execution_count": 30,
   "id": "4f849af7-0a4e-4ee9-9980-694b92f3f155",
   "metadata": {},
   "outputs": [],
   "source": [
    "# for key, value in sorted(sublists_dict.items()):\n",
    "#     print(key, len(value))"
   ]
  },
  {
   "cell_type": "markdown",
   "id": "0aaac36f-4d30-4abc-a969-1922f6d09e75",
   "metadata": {},
   "source": [
    "## Make powerpoint"
   ]
  },
  {
   "cell_type": "code",
   "execution_count": 31,
   "id": "2745967d-d432-4ee5-9e69-c0db6b20a45e",
   "metadata": {},
   "outputs": [],
   "source": [
    "# # Create a presentation object\n",
    "# prs = Presentation()\n",
    "\n",
    "# # Iterate through all available slide layouts\n",
    "# for i, layout in enumerate(prs.slide_layouts):\n",
    "#     print(f\"Layout {i}: {layout.name}\")"
   ]
  },
  {
   "cell_type": "code",
   "execution_count": 32,
   "id": "718bf786-8e4b-4bb5-b695-2ae6c79140ea",
   "metadata": {},
   "outputs": [
    {
     "name": "stderr",
     "output_type": "stream",
     "text": [
      "100%|████████████████████████████████████████████████████████████████████| 14/14 [00:00<00:00, 53.50it/s]\n"
     ]
    },
    {
     "name": "stdout",
     "output_type": "stream",
     "text": [
      "done!\n"
     ]
    }
   ],
   "source": [
    "# Generate slides\n",
    "\n",
    "prs = Presentation()\n",
    "\n",
    "# Set slide dimensions for widescreen 16:9 aspect ratio\n",
    "prs.slide_width = Inches(13.333)  # Width\n",
    "prs.slide_height = Inches(7.5)    # Height\n",
    "\n",
    "slide_layout = prs.slide_layouts[6]\n",
    "\n",
    "for i, recipMovie in enumerate(tqdm(recip_movie_paths)):\n",
    "    recipFrame = recip_frame_paths[i]\n",
    "    cakedMovie = caked_movie_paths[i]\n",
    "    cakedFrame = caked_frame_paths[i]\n",
    "    ICut = sorted(ICutsPath.glob('*'))[i]\n",
    "    IMap = sorted(IMapsPath.glob('*'))[i]\n",
    "    ISI = sorted(ISIsPath.glob('*'))[i]\n",
    "    arCut = sorted(arCutsPath.glob('*'))[i]\n",
    "    arMap = sorted(arMapsPath.glob('*'))[i]\n",
    "\n",
    "    # Grab sample name\n",
    "    sample_name = recipMovie.stem\n",
    "\n",
    "    # Add slide \n",
    "    slide = prs.slides.add_slide(slide_layout)\n",
    "\n",
    "    # Define image positions (these are just placeholders, adjust as necessary)\n",
    "    height_recip = Inches(3.59)\n",
    "    width_recip = Inches(4.38)\n",
    "    left_recip = Inches(-0.33)\n",
    "    top_recip = Inches(0.47)\n",
    "    \n",
    "    height_caked = Inches(3.39)\n",
    "    width_caked = Inches(4.14)\n",
    "    left_caked = Inches(0)\n",
    "    top_caked = Inches(4.06)\n",
    "\n",
    "    height_IMap = Inches(3.1)\n",
    "    left_IMap = Inches(3.89)\n",
    "    top_IMap = Inches(1.9)\n",
    "\n",
    "    height_ICut = Inches(2.55)\n",
    "    left_ICut = Inches(3.93)\n",
    "    top_ICut = Inches(4.95)\n",
    "    \n",
    "    height_ISI = Inches(2.56)\n",
    "    left_ISI = Inches(9.49)\n",
    "    top_ISI = Inches(0)\n",
    "    \n",
    "    height_arMap = Inches(2.38)\n",
    "    left_arMap = Inches(9.92)\n",
    "    top_arMap = Inches(2.5)\n",
    "    \n",
    "    height_arCut = Inches(2.53)\n",
    "    left_arCut = Inches(9.51)\n",
    "    top_arCut = Inches(4.96)\n",
    "    \n",
    "    # Add images to the slide\n",
    "    slide.shapes.add_picture(str(IMap), left=left_IMap, top=top_IMap, height=height_IMap)\n",
    "    slide.shapes.add_movie(str(recipMovie), left=left_recip, top=top_recip, height=height_recip, width=width_recip, poster_frame_image=str(recipFrame))\n",
    "    slide.shapes.add_picture(str(ICut), left=left_ICut, top=top_ICut, height=height_ICut)\n",
    "    slide.shapes.add_picture(str(arCut), left=left_arCut, top=top_arCut, height=height_arCut)\n",
    "    slide.shapes.add_movie(str(cakedMovie), left=left_caked, top=top_caked, height=height_caked, width=width_caked, poster_frame_image=str(cakedFrame))\n",
    "    slide.shapes.add_picture(str(arMap), left=left_arMap, top=top_arMap, height=height_arMap)\n",
    "    slide.shapes.add_picture(str(ISI), left=left_ISI, top=top_ISI, height=height_ISI)\n",
    "\n",
    "    \n",
    "    # Add a new text box for the title instead of using the default title placeholder\n",
    "    left_title = Inches(0)\n",
    "    top_title = Inches(0)\n",
    "    width_title = Inches(13.33)\n",
    "    height_title = Inches(0.64)\n",
    "    textbox = slide.shapes.add_textbox(left_title, top_title, width_title, height_title)\n",
    "    text_frame = textbox.text_frame\n",
    "    text_frame.text = f'{sample_name}' \n",
    "    for paragraph in text_frame.paragraphs:\n",
    "        paragraph.alignment = PP_ALIGN.CENTER\n",
    "        paragraph.font.size = Pt(32)\n",
    "\n",
    "        \n",
    "prs.save(outPath.joinpath(f'trexs_waxs_normal_films_auto-summary_v1.pptx'))\n",
    "print('done!')"
   ]
  },
  {
   "cell_type": "code",
   "execution_count": 37,
   "id": "5f6ed3e9-d6f3-463b-ae4e-5a54dd51d639",
   "metadata": {},
   "outputs": [
    {
     "data": {
      "text/plain": [
       "PosixPath('/Users/andrew/Downloads')"
      ]
     },
     "execution_count": 37,
     "metadata": {},
     "output_type": "execute_result"
    }
   ],
   "source": [
    "outPath"
   ]
  },
  {
   "cell_type": "code",
   "execution_count": null,
   "id": "0066f8eb-0959-4e07-98f2-69635281b4a8",
   "metadata": {},
   "outputs": [],
   "source": []
  }
 ],
 "metadata": {
  "kernelspec": {
   "display_name": "Python 3 (ipykernel)",
   "language": "python",
   "name": "python3"
  },
  "language_info": {
   "codemirror_mode": {
    "name": "ipython",
    "version": 3
   },
   "file_extension": ".py",
   "mimetype": "text/x-python",
   "name": "python",
   "nbconvert_exporter": "python",
   "pygments_lexer": "ipython3",
   "version": "3.9.0"
  }
 },
 "nbformat": 4,
 "nbformat_minor": 5
}
