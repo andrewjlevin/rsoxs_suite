{
 "cells": [
  {
   "cell_type": "markdown",
   "id": "75dba553-8354-46b0-84f9-98c05a9847e4",
   "metadata": {},
   "source": [
    "# Use python-pptx to generate powerpoint slides of data"
   ]
  },
  {
   "cell_type": "code",
   "execution_count": 1,
   "id": "afc9f64a-5264-40d0-bc60-7912e042a671",
   "metadata": {},
   "outputs": [],
   "source": [
    "# Imports: \n",
    "import pathlib\n",
    "from pptx import Presentation\n",
    "from pptx.util import Inches, Pt\n",
    "from pptx.enum.text import PP_ALIGN\n",
    "from tqdm.auto import tqdm"
   ]
  },
  {
   "cell_type": "code",
   "execution_count": 2,
   "id": "5451c281-b958-4aa2-a92c-2f4e38b2953d",
   "metadata": {},
   "outputs": [],
   "source": [
    "# Define paths:\n",
    "imagePaths = pathlib.Path('/Users/andrew/Library/CloudStorage/OneDrive-UCB-O365/research/data_analysis/rsoxs_suite/prsoxs_plots/2023C3')\n",
    "\n",
    "IvQMapsPath = imagePaths.joinpath('linecut_maps_nitrogen_v2')\n",
    "IvQSelectsPath = imagePaths.joinpath('selected_linecuts_nitrogen_v2')\n",
    "\n",
    "AvQMapsPath = imagePaths.joinpath('ar_maps_nitrogen_v2')\n",
    "AvQSelectsPath = imagePaths.joinpath('selected_ar_linecuts_nitrogen_v2')\n",
    "\n",
    "ISIsPath = imagePaths.joinpath('isi_nitrogen_v2')\n",
    "moviePaths = imagePaths.joinpath('detector_movies_nitrogen_v1')\n",
    "\n",
    "\n",
    "outPath = pathlib.Path('/Users/andrew/Library/CloudStorage/OneDrive-UCB-O365/research/presentations/update_slides')"
   ]
  },
  {
   "cell_type": "code",
   "execution_count": 3,
   "id": "79ed3be8-3902-437e-826a-86d1e33fba92",
   "metadata": {
    "tags": []
   },
   "outputs": [],
   "source": [
    "manual_scale_factors_v2 = {\n",
    "    'PM6-Y6_CB': 0.7,\n",
    "    'PM6-Y6_CBCN': 0.75,\n",
    "    'PM6-Y6_CF': 0.5,\n",
    "    'PM6-Y6_CFCN': 0.5,\n",
    "    'PM6-Y6BO_CB': 0.65,\n",
    "    'PM6-Y6BO_CF': 0.3,\n",
    "    'PM6-Y6BO_CFCN': 0.65,\n",
    "    'PM6-Y7_CB': 0.8,\n",
    "    'PM6-Y7_CBCN': 0.8,\n",
    "    'PM6-Y7_CF': 0.4,\n",
    "    'PM6-Y7_CFCN': 0.5,\n",
    "    'PM6-Y7BO_CB': 0.65,\n",
    "    'PM6-Y7BO_CBCN': 0.73,\n",
    "    'PM6-Y7BO_CF': 0.35,\n",
    "    'PM6-Y7BO_CFCN': 0.62,\n",
    "    'Y6BO_CB_2500': 0.63,\n",
    "    'Y6BO_CB_3000': 2,\n",
    "    'Y6BO_CF_2500': 2,\n",
    "    'Y6_CB_2000_1': 0.63,\n",
    "    'Y6_CB_2000': 0.76,\n",
    "    'Y6_CB_2500': 0.6,\n",
    "    'Y6_CB_3000': 0.73,\n",
    "    'Y6_CF_2000': 0.5,\n",
    "    'Y6_CF_2500': 0.45,\n",
    "    'Y6_CFCN': 0.65,\n",
    "    'Y6BO_CB_2500': 0.8,\n",
    "    'Y6BO_CB_3000': 0.45,\n",
    "    'Y6BO_CF_2500': 0.45,\n",
    "    'Y7BO_CBCN': 0.9,\n",
    "    'Y7BO_CB_2000': 0.5,\n",
    "    'Y7BO_CB_2500': 0.5,\n",
    "    'Y7BO_CB_3000': 0.5,\n",
    "    'Y7BO_CF_2000': 0.5,\n",
    "    'Y7BO_CF_2500': 0.55,\n",
    "    'Y7BO_CF_3000': 0.55,\n",
    "    'Y7_CF_2000': 0.9,\n",
    "    'Y7_CF_2500': 0.75,\n",
    "    'Y7_CF_3000': 0.87,\n",
    "}"
   ]
  },
  {
   "cell_type": "code",
   "execution_count": 5,
   "id": "f3593e69-affc-46fa-8b9b-2d794e79fea2",
   "metadata": {
    "collapsed": true,
    "jupyter": {
     "outputs_hidden": true
    },
    "tags": []
   },
   "outputs": [
    {
     "data": {
      "text/plain": [
       "['PM6-Y6BO_CB',\n",
       " 'PM6-Y6BO_CF',\n",
       " 'PM6-Y6BO_CFCN',\n",
       " 'PM6-Y6_CB',\n",
       " 'PM6-Y6_CBCN',\n",
       " 'PM6-Y6_CF',\n",
       " 'PM6-Y6_CFCN',\n",
       " 'PM6-Y7BO_CB',\n",
       " 'PM6-Y7BO_CBCN',\n",
       " 'PM6-Y7BO_CF',\n",
       " 'PM6-Y7BO_CFCN',\n",
       " 'PM6-Y7_CB',\n",
       " 'PM6-Y7_CBCN',\n",
       " 'PM6-Y7_CF',\n",
       " 'PM6-Y7_CFCN',\n",
       " 'Y6BO_CB_2500',\n",
       " 'Y6BO_CB_3000',\n",
       " 'Y6BO_CF_2500',\n",
       " 'Y6_CB_2000',\n",
       " 'Y6_CB_2000_1',\n",
       " 'Y6_CB_2500',\n",
       " 'Y6_CB_3000',\n",
       " 'Y6_CFCN',\n",
       " 'Y6_CF_2000',\n",
       " 'Y6_CF_2500',\n",
       " 'Y7BO_CBCN',\n",
       " 'Y7BO_CB_2000',\n",
       " 'Y7BO_CB_2500',\n",
       " 'Y7BO_CB_3000',\n",
       " 'Y7BO_CF_2000',\n",
       " 'Y7BO_CF_2500',\n",
       " 'Y7BO_CF_3000',\n",
       " 'Y7_CF_2000',\n",
       " 'Y7_CF_2500',\n",
       " 'Y7_CF_3000']"
      ]
     },
     "execution_count": 5,
     "metadata": {},
     "output_type": "execute_result"
    }
   ],
   "source": [
    "selected_samples = sorted(manual_scale_factors_v2.keys())\n",
    "selected_samples"
   ]
  },
  {
   "cell_type": "code",
   "execution_count": 8,
   "id": "9e20e1d2-3ef3-4847-a1fb-257893a7b803",
   "metadata": {
    "collapsed": true,
    "jupyter": {
     "outputs_hidden": true
    },
    "tags": []
   },
   "outputs": [
    {
     "name": "stdout",
     "output_type": "stream",
     "text": [
      "0\n",
      "PM6-Y6BO_CB_nitrogen_corr_pol0deg.mp4\n",
      "PM6-Y6BO_CB_nitrogen_corr_pol90deg.mp4 \n",
      "\n",
      "1\n",
      "PM6-Y6BO_CFCN_nitrogen_corr_pol0deg.mp4\n",
      "PM6-Y6BO_CFCN_nitrogen_corr_pol90deg.mp4 \n",
      "\n",
      "2\n",
      "PM6-Y6BO_CF_nitrogen_corr_pol0deg.mp4\n",
      "PM6-Y6BO_CF_nitrogen_corr_pol90deg.mp4 \n",
      "\n",
      "3\n",
      "PM6-Y6_CBCN_nitrogen_corr_pol0deg.mp4\n",
      "PM6-Y6_CBCN_nitrogen_corr_pol90deg.mp4 \n",
      "\n",
      "4\n",
      "PM6-Y6_CB_nitrogen_corr_pol0deg.mp4\n",
      "PM6-Y6_CB_nitrogen_corr_pol90deg.mp4 \n",
      "\n",
      "5\n",
      "PM6-Y6_CFCN_nitrogen_corr_pol0deg.mp4\n",
      "PM6-Y6_CFCN_nitrogen_corr_pol90deg.mp4 \n",
      "\n",
      "6\n",
      "PM6-Y6_CF_nitrogen_corr_pol0deg.mp4\n",
      "PM6-Y6_CF_nitrogen_corr_pol90deg.mp4 \n",
      "\n",
      "7\n",
      "PM6-Y7BO_CBCN_nitrogen_corr_pol0deg.mp4\n",
      "PM6-Y7BO_CBCN_nitrogen_corr_pol90deg.mp4 \n",
      "\n",
      "8\n",
      "PM6-Y7BO_CB_nitrogen_corr_pol0deg.mp4\n",
      "PM6-Y7BO_CB_nitrogen_corr_pol90deg.mp4 \n",
      "\n",
      "9\n",
      "PM6-Y7BO_CFCN_nitrogen_corr_pol0deg.mp4\n",
      "PM6-Y7BO_CFCN_nitrogen_corr_pol90deg.mp4 \n",
      "\n",
      "10\n",
      "PM6-Y7BO_CF_nitrogen_corr_pol0deg.mp4\n",
      "PM6-Y7BO_CF_nitrogen_corr_pol90deg.mp4 \n",
      "\n",
      "11\n",
      "PM6-Y7_CBCN_nitrogen_corr_pol0deg.mp4\n",
      "PM6-Y7_CBCN_nitrogen_corr_pol90deg.mp4 \n",
      "\n",
      "12\n",
      "PM6-Y7_CB_nitrogen_corr_pol0deg.mp4\n",
      "PM6-Y7_CB_nitrogen_corr_pol90deg.mp4 \n",
      "\n",
      "13\n",
      "PM6-Y7_CFCN_nitrogen_corr_pol0deg.mp4\n",
      "PM6-Y7_CFCN_nitrogen_corr_pol90deg.mp4 \n",
      "\n",
      "14\n",
      "PM6-Y7_CF_nitrogen_corr_pol0deg.mp4\n",
      "PM6-Y7_CF_nitrogen_corr_pol90deg.mp4 \n",
      "\n",
      "15\n",
      "Y6BO_CB_2500_nitrogen_corr_pol0deg.mp4\n",
      "Y6BO_CB_2500_nitrogen_corr_pol90deg.mp4 \n",
      "\n",
      "16\n",
      "Y6BO_CB_3000_nitrogen_corr_pol0deg.mp4\n",
      "Y6BO_CB_3000_nitrogen_corr_pol90deg.mp4 \n",
      "\n",
      "17\n",
      "Y6BO_CF_2500_nitrogen_corr_pol0deg.mp4\n",
      "Y6BO_CF_2500_nitrogen_corr_pol90deg.mp4 \n",
      "\n",
      "18\n",
      "Y6_CB_2000_1_nitrogen_corr_pol0deg.mp4\n",
      "Y6_CB_2000_1_nitrogen_corr_pol90deg.mp4 \n",
      "\n",
      "19\n",
      "Y6_CB_2000_nitrogen_corr_pol0deg.mp4\n",
      "Y6_CB_2000_nitrogen_corr_pol90deg.mp4 \n",
      "\n",
      "20\n",
      "Y6_CB_2500_nitrogen_corr_pol0deg.mp4\n",
      "Y6_CB_2500_nitrogen_corr_pol90deg.mp4 \n",
      "\n",
      "21\n",
      "Y6_CB_3000_nitrogen_corr_pol0deg.mp4\n",
      "Y6_CB_3000_nitrogen_corr_pol90deg.mp4 \n",
      "\n",
      "22\n",
      "Y6_CFCN_nitrogen_corr_pol0deg.mp4\n",
      "Y6_CFCN_nitrogen_corr_pol90deg.mp4 \n",
      "\n",
      "23\n",
      "Y6_CF_2000_nitrogen_corr_pol0deg.mp4\n",
      "Y6_CF_2000_nitrogen_corr_pol90deg.mp4 \n",
      "\n",
      "24\n",
      "Y6_CF_2500_nitrogen_corr_pol0deg.mp4\n",
      "Y6_CF_2500_nitrogen_corr_pol90deg.mp4 \n",
      "\n",
      "25\n",
      "Y7BO_CBCN_nitrogen_corr_pol0deg.mp4\n",
      "Y7BO_CBCN_nitrogen_corr_pol90deg.mp4 \n",
      "\n",
      "26\n",
      "Y7BO_CB_2000_nitrogen_corr_pol0deg.mp4\n",
      "Y7BO_CB_2000_nitrogen_corr_pol90deg.mp4 \n",
      "\n",
      "27\n",
      "Y7BO_CB_2500_nitrogen_corr_pol0deg.mp4\n",
      "Y7BO_CB_2500_nitrogen_corr_pol90deg.mp4 \n",
      "\n",
      "28\n",
      "Y7BO_CB_3000_nitrogen_corr_pol0deg.mp4\n",
      "Y7BO_CB_3000_nitrogen_corr_pol90deg.mp4 \n",
      "\n",
      "29\n",
      "Y7BO_CF_2000_nitrogen_corr_pol0deg.mp4\n",
      "Y7BO_CF_2000_nitrogen_corr_pol90deg.mp4 \n",
      "\n",
      "30\n",
      "Y7BO_CF_2500_nitrogen_corr_pol0deg.mp4\n",
      "Y7BO_CF_2500_nitrogen_corr_pol90deg.mp4 \n",
      "\n",
      "31\n",
      "Y7BO_CF_3000_nitrogen_corr_pol0deg.mp4\n",
      "Y7BO_CF_3000_nitrogen_corr_pol90deg.mp4 \n",
      "\n",
      "32\n",
      "Y7_CF_2000_nitrogen_corr_pol0deg.mp4\n",
      "Y7_CF_2000_nitrogen_corr_pol90deg.mp4 \n",
      "\n",
      "33\n",
      "Y7_CF_2500_nitrogen_corr_pol0deg.mp4\n",
      "Y7_CF_2500_nitrogen_corr_pol90deg.mp4 \n",
      "\n",
      "34\n",
      "Y7_CF_3000_nitrogen_corr_pol0deg.mp4\n",
      "Y7_CF_3000_nitrogen_corr_pol90deg.mp4 \n",
      "\n"
     ]
    }
   ],
   "source": [
    "for i, pair in enumerate(zip(detector_movies[::2], detector_movies[1::2])):\n",
    "    print(i)\n",
    "    print(pair[0].name)\n",
    "    print(pair[1].name, '\\n')\n",
    "    "
   ]
  },
  {
   "cell_type": "code",
   "execution_count": 7,
   "id": "952adcbb-91f1-40da-b366-68384aa304c9",
   "metadata": {},
   "outputs": [
    {
     "data": {
      "text/plain": [
       "35"
      ]
     },
     "execution_count": 7,
     "metadata": {},
     "output_type": "execute_result"
    }
   ],
   "source": [
    "detector_movies = []\n",
    "for sample_name in selected_samples:\n",
    "    for f in sorted(moviePaths.glob('*mp4')):\n",
    "        if sample_name in f.name and f not in detector_movies:\n",
    "            detector_movies.append(f)\n",
    "\n",
    "detector_movies = sorted(detector_movies)\n",
    "detector_movies_zipped = sorted(zip(detector_movies[::2], detector_movies[1::2]))\n",
    "len(detector_movies_zipped)"
   ]
  },
  {
   "cell_type": "code",
   "execution_count": 9,
   "id": "cafac67d-796a-4155-a8cd-1fe3c6293d72",
   "metadata": {},
   "outputs": [
    {
     "data": {
      "text/plain": [
       "35"
      ]
     },
     "execution_count": 9,
     "metadata": {},
     "output_type": "execute_result"
    }
   ],
   "source": [
    "detector_frames = []\n",
    "for sample_name in selected_samples:\n",
    "    for f in sorted(moviePaths.glob('*jpeg')):\n",
    "        if sample_name in f.name and f not in detector_frames:\n",
    "            detector_frames.append(f)\n",
    "            \n",
    "detector_frames = sorted(detector_frames)\n",
    "detector_frames_zipped = sorted(zip(detector_frames[::2], detector_frames[1::2]))\n",
    "\n",
    "len(detector_frames_zipped)"
   ]
  },
  {
   "cell_type": "code",
   "execution_count": 10,
   "id": "780e59a8-3ffe-4f16-bcf9-17908e6eebee",
   "metadata": {
    "tags": []
   },
   "outputs": [
    {
     "data": {
      "text/plain": [
       "35"
      ]
     },
     "execution_count": 10,
     "metadata": {},
     "output_type": "execute_result"
    }
   ],
   "source": [
    "# IQ_sin_fl_heatmaps = set(linecutMapsPath.glob('sin-fl-sub*282-292*'))\n",
    "# IQ_sin_heatmaps = set(linecutMapsPath.glob('sin-sub*395-407*'))\n",
    "# IQ_all_heatmaps = set(linecutMapsPath.glob('*395-407*'))\n",
    "\n",
    "IvQ_maps = sorted(IvQMapsPath.glob('*'))\n",
    "\n",
    "len([f.name for f in IvQ_maps])"
   ]
  },
  {
   "cell_type": "code",
   "execution_count": 11,
   "id": "82fd8d52-69d5-44ce-a5ef-0c74f6ddf38e",
   "metadata": {},
   "outputs": [
    {
     "data": {
      "text/plain": [
       "35"
      ]
     },
     "execution_count": 11,
     "metadata": {},
     "output_type": "execute_result"
    }
   ],
   "source": [
    "IvQ_selects = sorted(IvQSelectsPath.glob('*'))\n",
    "len(IvQ_selects)"
   ]
  },
  {
   "cell_type": "code",
   "execution_count": 12,
   "id": "7d43a79e-6475-418f-91e0-c629fe996933",
   "metadata": {
    "tags": []
   },
   "outputs": [
    {
     "data": {
      "text/plain": [
       "35"
      ]
     },
     "execution_count": 12,
     "metadata": {},
     "output_type": "execute_result"
    }
   ],
   "source": [
    "# ar_polavg_maps = set(arMapsPath.glob('vset*polavg*'))\n",
    "# ar_all_maps = set(arMapsPath.glob('*'))\n",
    "\n",
    "# ar_pol090_maps = ar_all_maps - ar_polavg_maps\n",
    "\n",
    "# ar_polavg_doubled_maps = sorted(sorted(ar_polavg_maps) + sorted(ar_polavg_maps))\n",
    "\n",
    "AvQ_maps = sorted(AvQMapsPath.glob('*'))\n",
    "\n",
    "len([f.name for f in AvQ_maps][:])"
   ]
  },
  {
   "cell_type": "code",
   "execution_count": 13,
   "id": "133f6260-80a9-4bc2-a8ab-f84eb4ece1c5",
   "metadata": {},
   "outputs": [
    {
     "data": {
      "text/plain": [
       "35"
      ]
     },
     "execution_count": 13,
     "metadata": {},
     "output_type": "execute_result"
    }
   ],
   "source": [
    "AvQ_selects = sorted(AvQSelectsPath.glob('*'))\n",
    "len(AvQ_selects)"
   ]
  },
  {
   "cell_type": "code",
   "execution_count": 15,
   "id": "717196a1-7bf0-446e-b094-b0b25db285a3",
   "metadata": {},
   "outputs": [
    {
     "data": {
      "text/plain": [
       "35"
      ]
     },
     "execution_count": 15,
     "metadata": {},
     "output_type": "execute_result"
    }
   ],
   "source": [
    "ISIs_all = set(ISIsPath.glob('*0.01-0.1*'))\n",
    "# ISIs_sin = set(ISIsPath.glob('sin-sub*'))\n",
    "\n",
    "ISIs = ISIs_all  # - ISIs_sin\n",
    "\n",
    "ISIs = sorted(ISIs)\n",
    "len([f.name for f in sorted(ISIs)])"
   ]
  },
  {
   "cell_type": "code",
   "execution_count": 16,
   "id": "05214dd2-7bc4-4918-b98c-bd60bacd6261",
   "metadata": {},
   "outputs": [
    {
     "ename": "NameError",
     "evalue": "name 'prs' is not defined",
     "output_type": "error",
     "traceback": [
      "\u001b[0;31m---------------------------------------------------------------------------\u001b[0m",
      "\u001b[0;31mNameError\u001b[0m                                 Traceback (most recent call last)",
      "Input \u001b[0;32mIn [16]\u001b[0m, in \u001b[0;36m<cell line: 1>\u001b[0;34m()\u001b[0m\n\u001b[0;32m----> 1\u001b[0m \u001b[38;5;28;01mfor\u001b[39;00m i, layout \u001b[38;5;129;01min\u001b[39;00m \u001b[38;5;28menumerate\u001b[39m(\u001b[43mprs\u001b[49m\u001b[38;5;241m.\u001b[39mslide_layouts):\n\u001b[1;32m      2\u001b[0m     \u001b[38;5;28mprint\u001b[39m(i, layout\u001b[38;5;241m.\u001b[39mname)\n",
      "\u001b[0;31mNameError\u001b[0m: name 'prs' is not defined"
     ]
    }
   ],
   "source": [
    "for i, layout in enumerate(prs.slide_layouts):\n",
    "    print(i, layout.name)"
   ]
  },
  {
   "cell_type": "code",
   "execution_count": 17,
   "id": "d6dd2330-1402-4ba8-a61b-3aa68c30d02e",
   "metadata": {},
   "outputs": [
    {
     "data": {
      "application/vnd.jupyter.widget-view+json": {
       "model_id": "222e092f10d14e75bda975def3521e3d",
       "version_major": 2,
       "version_minor": 0
      },
      "text/plain": [
       "  0%|          | 0/35 [00:00<?, ?it/s]"
      ]
     },
     "metadata": {},
     "output_type": "display_data"
    },
    {
     "name": "stdout",
     "output_type": "stream",
     "text": [
      "done!\n"
     ]
    }
   ],
   "source": [
    "# Generate slides:\n",
    "\n",
    "prs = Presentation()\n",
    "\n",
    "# Set slide dimensions for widescreen 16:9 aspect ratio\n",
    "prs.slide_width = Inches(13.333)  # Width\n",
    "prs.slide_height = Inches(7.5)    # Height\n",
    "\n",
    "slide_layout = prs.slide_layouts[6]\n",
    "\n",
    "for i, movie_pair in enumerate(tqdm(detector_movies_zipped)):\n",
    "    # Select appropriate path for each file\n",
    "    movie1Path = movie_pair[0] \n",
    "    movie2Path = movie_pair[1]     \n",
    "\n",
    "    frame1Path = detector_frames_zipped[i][0] \n",
    "    frame2Path = detector_frames_zipped[i][1] \n",
    "    \n",
    "    IvQMapPath = IvQ_maps[i]\n",
    "    IvQSelectPath = IvQ_selects[i]   \n",
    "    \n",
    "    AvQMapPath = AvQ_maps[i]\n",
    "    AvQSelectPath = AvQ_selects[i]\n",
    "\n",
    "    ISIPath = ISIs[i]\n",
    "    \n",
    "    fname_list = movie1Path.name.split('_')    \n",
    "    sample_name_list = fname_list[0:3]\n",
    "    sample_name = '_'.join(sample_name_list)    \n",
    "    \n",
    "    \n",
    "    # Add slide \n",
    "    slide = prs.slides.add_slide(slide_layout)\n",
    "    \n",
    "    # Define image positions (these are just placeholders, adjust as necessary)\n",
    "    left_movie1 = Inches(-0.11)\n",
    "    top_movie1 = Inches(0.43)\n",
    "    height_movie1 = Inches(3.76)\n",
    "    width_movie1 = Inches(4.6)\n",
    "    \n",
    "    left_movie2 = Inches(-0.11)\n",
    "    top_movie2 = Inches(3.83)\n",
    "    height_movie2 = Inches(3.76)\n",
    "    width_movie2 = Inches(4.6)\n",
    "    \n",
    "    left_IvQMap = Inches(4.92)\n",
    "    top_IvQMap = Inches(3.81)\n",
    "    height_IvQMap = Inches(3.75)\n",
    "\n",
    "    left_AvQMap = Inches(8.67)\n",
    "    top_AvQMap = Inches(0.69)\n",
    "    height_AvQMap = Inches(3.14)    \n",
    "\n",
    "    left_ISI = Inches(4.49)\n",
    "    top_ISI = Inches(0.64)\n",
    "    height_ISI = Inches(3.19)\n",
    "    \n",
    "    # Add images to the slide\n",
    "    slide.shapes.add_movie(str(movie2Path), left_movie2, top_movie2, height=height_movie2, width=width_movie2, poster_frame_image=str(frame2Path), mime_type='video/mp4')\n",
    "    slide.shapes.add_movie(str(movie1Path), left_movie1, top_movie1, height=height_movie1, width=width_movie1, poster_frame_image=str(frame1Path), mime_type='video/mp4')\n",
    "    \n",
    "    slide.shapes.add_picture(str(IvQMapPath), left_IvQMap, top_IvQMap, height=height_IvQMap)\n",
    "    slide.shapes.add_picture(str(AvQMapPath), left_AvQMap, top_AvQMap, height=height_AvQMap)\n",
    "    slide.shapes.add_picture(str(ISIPath), left_ISI, top_ISI, height=height_ISI)\n",
    "    \n",
    "    # # Format title\n",
    "    # title = slide.shapes.title\n",
    "    # title.left = Inches(0)\n",
    "    # title.top = Inches(-0.01)\n",
    "    # title.width = Inches(13.33)\n",
    "    # title.height = Inches(0.65)\n",
    "    # title.text = f'Sample: {sample_name}'\n",
    "    # for paragraph in title.text_frame.paragraphs:\n",
    "    #     paragraph.alignment = PP_ALIGN.CENTER\n",
    "    #     paragraph.font.size = Pt(36)\n",
    "        \n",
    "    # Add a new text box for the title instead of using the default title placeholder\n",
    "    left_title = Inches(0)\n",
    "    top_title = Inches(-0.01)\n",
    "    width_title = Inches(13.33)\n",
    "    height_title = Inches(0.65)\n",
    "    textbox = slide.shapes.add_textbox(left_title, top_title, width_title, height_title)\n",
    "    text_frame = textbox.text_frame\n",
    "    text_frame.text = f'Sample: {sample_name}'\n",
    "\n",
    "    for paragraph in text_frame.paragraphs:\n",
    "        paragraph.alignment = PP_ALIGN.CENTER\n",
    "        paragraph.font.size = Pt(36)\n",
    "\n",
    "\n",
    "    # Add slide \n",
    "    slide = prs.slides.add_slide(slide_layout)\n",
    "    \n",
    "    # Define image positions (these are just placeholders, adjust as necessary)\n",
    "    left_IvQSelect = Inches(-0.02)\n",
    "    top_IvQSelect = Inches(2.18)\n",
    "    height_IvQSelect = Inches(5.17)\n",
    "\n",
    "    left_AvQSelect = Inches(7.01)\n",
    "    top_AvQSelect = Inches(2.81)\n",
    "    height_AvQSelect = Inches(4.21)  \n",
    "    \n",
    "    slide.shapes.add_picture(str(IvQSelectPath), left_IvQSelect, top_IvQSelect, height=height_IvQSelect)\n",
    "    slide.shapes.add_picture(str(AvQSelectPath), left_AvQSelect, top_AvQSelect, height=height_AvQSelect)\n",
    "            \n",
    "    # Add a new text box for the title instead of using the default title placeholder\n",
    "    left_title = Inches(0)\n",
    "    top_title = Inches(-0.01)\n",
    "    width_title = Inches(13.33)\n",
    "    height_title = Inches(0.65)\n",
    "    textbox = slide.shapes.add_textbox(left_title, top_title, width_title, height_title)\n",
    "    text_frame = textbox.text_frame\n",
    "    text_frame.text = f'Sample: {sample_name}'\n",
    "\n",
    "    for paragraph in text_frame.paragraphs:\n",
    "        paragraph.alignment = PP_ALIGN.CENTER\n",
    "        paragraph.font.size = Pt(36)\n",
    "        \n",
    "        \n",
    "prs.save(outPath.joinpath('2023C3_nitrogen_prsoxs_auto-summary_udpated_v1.pptx'))\n",
    "print('done!')"
   ]
  },
  {
   "cell_type": "code",
   "execution_count": 7,
   "id": "25b0b9e8-ae1c-46af-9639-5c3078439ab9",
   "metadata": {
    "tags": []
   },
   "outputs": [
    {
     "data": {
      "application/vnd.jupyter.widget-view+json": {
       "model_id": "1a2f895fee1e417fbc05fd8bdaacee60",
       "version_major": 2,
       "version_minor": 0
      },
      "text/plain": [
       "  0%|          | 0/102 [00:00<?, ?it/s]"
      ]
     },
     "metadata": {},
     "output_type": "display_data"
    }
   ],
   "source": [
    "for moviePath in tqdm(sorted(moviePaths.glob('*mp4'))):\n",
    "    # Select appropriate path for each file\n",
    "    poster_frame_path = moviePaths.joinpath(f'{moviePath.stem}.jpeg')\n",
    "    fname_list = moviePath.name.split('_')\n",
    "    pol_str = fname_list[-1][:-4]\n",
    "\n",
    "    \n",
    "#     if pol_str == 'pol0deg':\n",
    "#         pol_orientation = 'Horizontal'\n",
    "#     elif pol_str == 'pol90deg':\n",
    "#         pol_orientation = 'Vertical'\n",
    "        \n",
    "    try:\n",
    "        if len(fname_list)==4:\n",
    "            sample_name = fname_list[0]\n",
    "            # print(sample_name)\n",
    "            linecutMapPath = list(linecutMapsPath.glob(f'{sample_name}_*pol0deg*q0.01-0.08*'))[0]\n",
    "            arMapPath = list(arMapsPath.glob(f'vset*{sample_name}_*pol0deg*q-0.01-0.08*'))[0]\n",
    "            ISIPath = list(ISIsPath.glob(f'{sample_name}_*qrange-0.01-0.08*pol0deg*'))[0]\n",
    "        elif len(fname_list)==5:\n",
    "            sample_name_list = fname_list[0:2]\n",
    "            joined_sample_name = '_'.join(sample_name_list)     \n",
    "            # print(joined_sample_name)\n",
    "            linecutMapPath = list(linecutMapsPath.glob(f'{joined_sample_name}_*pol0deg*q0.01-0.08*'))[0]\n",
    "            arMapPath = list(arMapsPath.glob(f'vset*{joined_sample_name}_*pol0deg*q-0.01-0.08*'))[0]\n",
    "            ISIPath = list(ISIsPath.glob(f'{joined_sample_name}_*qrange-0.01-0.08*pol0deg*'))[0]\n",
    "            \n",
    "        print(linecutMapPath)\n",
    "        print(arMapPath)\n",
    "        print(ISIPath)\n",
    "    except IndexError:\n",
    "        pass\n",
    "        \n",
    "    # elif len(fname_list) == 7:\n",
    "    #     sample_name_list = fname_list[0:4]\n",
    "    #     joined_sample_name = '_'.join(sample_name_list)\n",
    "    #     linecutMapPath = list(linecutMapsPath.glob(f'{joined_sample_name}*{pol_str}*'))[0]\n",
    "    #     arMapPath = list(arMapsPath.glob(f'{joined_sample_name}*{pol_str}*'))[0]\n",
    "    #     ISIPath = list(ISIsPath.glob(f'{joined_sample_name}*{pol_str}*'))[0]\n",
    "    # elif len(fname_list) == 4:\n",
    "    #     joined_sample_name = fname_list[0]\n",
    "    #     linecutMapPath = list(linecutMapsPath.glob(f'{joined_sample_name}*{pol_str}*'))[0]\n",
    "    #     arMapPath = list(arMapsPath.glob(f'{joined_sample_name}*{pol_str}*'))[0]\n",
    "    #     ISIPath = list(ISIsPath.glob(f'{joined_sample_name}*{pol_str}*'))[0]"
   ]
  },
  {
   "cell_type": "code",
   "execution_count": 19,
   "id": "c63df434-f83e-4c5f-a246-e367780530b8",
   "metadata": {},
   "outputs": [
    {
     "data": {
      "text/plain": [
       "['PM7D5-Y6-Tol_carbon_corr_chiWidth-30deg_qrange-0.01-0.03_polavgdeg.png',\n",
       " 'PM7D5-Y6-Tol_carbon_corr_chiWidth-30deg_qrange-0.0015-0.008_pol90deg.png',\n",
       " 'PM7D5-Y6-Tol_carbon_corr_chiWidth-30deg_qrange-0.01-0.08_polavgdeg.png',\n",
       " 'PM7D5-Y6-Tol_carbon_corr_chiWidth-30deg_qrange-0.0015-0.008_pol0deg.png']"
      ]
     },
     "execution_count": 19,
     "metadata": {},
     "output_type": "execute_result"
    }
   ],
   "source": [
    "[f.name for f in ISIsPath.glob(f'{sample_name}*')]"
   ]
  },
  {
   "cell_type": "code",
   "execution_count": 18,
   "id": "57bca54e-c43a-498a-838f-c40b910a4397",
   "metadata": {},
   "outputs": [
    {
     "data": {
      "text/plain": [
       "'PM7D5-Y6-Tol'"
      ]
     },
     "execution_count": 18,
     "metadata": {},
     "output_type": "execute_result"
    }
   ],
   "source": [
    "sample_name"
   ]
  },
  {
   "cell_type": "code",
   "execution_count": 24,
   "id": "1c38f6fe-0db6-4aeb-9787-b60ac168957c",
   "metadata": {},
   "outputs": [
    {
     "data": {
      "application/vnd.jupyter.widget-view+json": {
       "model_id": "d762697468aa417d84903ba139c3864f",
       "version_major": 2,
       "version_minor": 0
      },
      "text/plain": [
       "  0%|          | 0/38 [00:00<?, ?it/s]"
      ]
     },
     "metadata": {},
     "output_type": "display_data"
    },
    {
     "name": "stdout",
     "output_type": "stream",
     "text": [
      "PM6-Y12-CFCN\n",
      "/Users/andrew/Library/CloudStorage/OneDrive-UCB-O365/research/data_analysis/rsoxs_suite/prsoxs_plots/2022C2/linecut_maps_carbon/PM6-Y12-CFCN_carbon_corr_chiWidth-30deg_polavgdeg_q0.01-0.08_energy282-290.png\n",
      "/Users/andrew/Library/CloudStorage/OneDrive-UCB-O365/research/data_analysis/rsoxs_suite/prsoxs_plots/2022C2/ar_maps_carbon/vset_PM6-Y12-CFCN_carbon_corr_chiWidth-30deg_polavgdeg_q-0.01-0.08_energy282-290.png\n",
      "/Users/andrew/Library/CloudStorage/OneDrive-UCB-O365/research/data_analysis/rsoxs_suite/prsoxs_plots/2022C2/isi_carbon_square/PM6-Y12-CFCN_carbon_corr_chiWidth-30deg_qrange-0.01-0.08_polavgdeg.png\n",
      "PM6-Y12-CFCN\n",
      "/Users/andrew/Library/CloudStorage/OneDrive-UCB-O365/research/data_analysis/rsoxs_suite/prsoxs_plots/2022C2/linecut_maps_carbon/PM6-Y12-CFCN_carbon_corr_chiWidth-30deg_polavgdeg_q0.01-0.08_energy282-290.png\n",
      "/Users/andrew/Library/CloudStorage/OneDrive-UCB-O365/research/data_analysis/rsoxs_suite/prsoxs_plots/2022C2/ar_maps_carbon/vset_PM6-Y12-CFCN_carbon_corr_chiWidth-30deg_polavgdeg_q-0.01-0.08_energy282-290.png\n",
      "/Users/andrew/Library/CloudStorage/OneDrive-UCB-O365/research/data_analysis/rsoxs_suite/prsoxs_plots/2022C2/isi_carbon_square/PM6-Y12-CFCN_carbon_corr_chiWidth-30deg_qrange-0.01-0.08_polavgdeg.png\n",
      "PM6-Y12-CF\n",
      "/Users/andrew/Library/CloudStorage/OneDrive-UCB-O365/research/data_analysis/rsoxs_suite/prsoxs_plots/2022C2/linecut_maps_carbon/PM6-Y12-CF_carbon_corr_chiWidth-30deg_polavgdeg_q0.01-0.08_energy282-290.png\n",
      "/Users/andrew/Library/CloudStorage/OneDrive-UCB-O365/research/data_analysis/rsoxs_suite/prsoxs_plots/2022C2/ar_maps_carbon/vset_PM6-Y12-CF_carbon_corr_chiWidth-30deg_polavgdeg_q-0.01-0.08_energy282-290.png\n",
      "/Users/andrew/Library/CloudStorage/OneDrive-UCB-O365/research/data_analysis/rsoxs_suite/prsoxs_plots/2022C2/isi_carbon_square/PM6-Y12-CF_carbon_corr_chiWidth-30deg_qrange-0.01-0.08_polavgdeg.png\n",
      "PM6-Y12-CF\n",
      "/Users/andrew/Library/CloudStorage/OneDrive-UCB-O365/research/data_analysis/rsoxs_suite/prsoxs_plots/2022C2/linecut_maps_carbon/PM6-Y12-CF_carbon_corr_chiWidth-30deg_polavgdeg_q0.01-0.08_energy282-290.png\n",
      "/Users/andrew/Library/CloudStorage/OneDrive-UCB-O365/research/data_analysis/rsoxs_suite/prsoxs_plots/2022C2/ar_maps_carbon/vset_PM6-Y12-CF_carbon_corr_chiWidth-30deg_polavgdeg_q-0.01-0.08_energy282-290.png\n",
      "/Users/andrew/Library/CloudStorage/OneDrive-UCB-O365/research/data_analysis/rsoxs_suite/prsoxs_plots/2022C2/isi_carbon_square/PM6-Y12-CF_carbon_corr_chiWidth-30deg_qrange-0.01-0.08_polavgdeg.png\n",
      "PM6-Y12-Tol\n",
      "/Users/andrew/Library/CloudStorage/OneDrive-UCB-O365/research/data_analysis/rsoxs_suite/prsoxs_plots/2022C2/linecut_maps_carbon/PM6-Y12-Tol_carbon_corr_chiWidth-30deg_polavgdeg_q0.01-0.08_energy282-290.png\n",
      "/Users/andrew/Library/CloudStorage/OneDrive-UCB-O365/research/data_analysis/rsoxs_suite/prsoxs_plots/2022C2/ar_maps_carbon/vset_PM6-Y12-Tol_carbon_corr_chiWidth-30deg_polavgdeg_q-0.01-0.08_energy282-290.png\n",
      "/Users/andrew/Library/CloudStorage/OneDrive-UCB-O365/research/data_analysis/rsoxs_suite/prsoxs_plots/2022C2/isi_carbon_square/PM6-Y12-Tol_carbon_corr_chiWidth-30deg_qrange-0.01-0.08_polavgdeg.png\n",
      "PM6-Y12-Tol\n",
      "/Users/andrew/Library/CloudStorage/OneDrive-UCB-O365/research/data_analysis/rsoxs_suite/prsoxs_plots/2022C2/linecut_maps_carbon/PM6-Y12-Tol_carbon_corr_chiWidth-30deg_polavgdeg_q0.01-0.08_energy282-290.png\n",
      "/Users/andrew/Library/CloudStorage/OneDrive-UCB-O365/research/data_analysis/rsoxs_suite/prsoxs_plots/2022C2/ar_maps_carbon/vset_PM6-Y12-Tol_carbon_corr_chiWidth-30deg_polavgdeg_q-0.01-0.08_energy282-290.png\n",
      "/Users/andrew/Library/CloudStorage/OneDrive-UCB-O365/research/data_analysis/rsoxs_suite/prsoxs_plots/2022C2/isi_carbon_square/PM6-Y12-Tol_carbon_corr_chiWidth-30deg_qrange-0.01-0.08_polavgdeg.png\n",
      "PM6-Y6-CFCN\n",
      "/Users/andrew/Library/CloudStorage/OneDrive-UCB-O365/research/data_analysis/rsoxs_suite/prsoxs_plots/2022C2/linecut_maps_carbon/PM6-Y6-CFCN_carbon_corr_chiWidth-30deg_polavgdeg_q0.01-0.08_energy282-290.png\n",
      "/Users/andrew/Library/CloudStorage/OneDrive-UCB-O365/research/data_analysis/rsoxs_suite/prsoxs_plots/2022C2/ar_maps_carbon/vset_PM6-Y6-CFCN_carbon_corr_chiWidth-30deg_polavgdeg_q-0.01-0.08_energy282-290.png\n",
      "/Users/andrew/Library/CloudStorage/OneDrive-UCB-O365/research/data_analysis/rsoxs_suite/prsoxs_plots/2022C2/isi_carbon_square/PM6-Y6-CFCN_carbon_corr_chiWidth-30deg_qrange-0.01-0.08_polavgdeg.png\n",
      "PM6-Y6-CFCN\n",
      "/Users/andrew/Library/CloudStorage/OneDrive-UCB-O365/research/data_analysis/rsoxs_suite/prsoxs_plots/2022C2/linecut_maps_carbon/PM6-Y6-CFCN_carbon_corr_chiWidth-30deg_polavgdeg_q0.01-0.08_energy282-290.png\n",
      "/Users/andrew/Library/CloudStorage/OneDrive-UCB-O365/research/data_analysis/rsoxs_suite/prsoxs_plots/2022C2/ar_maps_carbon/vset_PM6-Y6-CFCN_carbon_corr_chiWidth-30deg_polavgdeg_q-0.01-0.08_energy282-290.png\n",
      "/Users/andrew/Library/CloudStorage/OneDrive-UCB-O365/research/data_analysis/rsoxs_suite/prsoxs_plots/2022C2/isi_carbon_square/PM6-Y6-CFCN_carbon_corr_chiWidth-30deg_qrange-0.01-0.08_polavgdeg.png\n",
      "PM6-Y6-CF\n",
      "/Users/andrew/Library/CloudStorage/OneDrive-UCB-O365/research/data_analysis/rsoxs_suite/prsoxs_plots/2022C2/linecut_maps_carbon/PM6-Y6-CF_carbon_corr_chiWidth-30deg_polavgdeg_q0.01-0.08_energy282-290.png\n",
      "/Users/andrew/Library/CloudStorage/OneDrive-UCB-O365/research/data_analysis/rsoxs_suite/prsoxs_plots/2022C2/ar_maps_carbon/vset_PM6-Y6-CF_carbon_corr_chiWidth-30deg_polavgdeg_q-0.01-0.08_energy282-290.png\n",
      "/Users/andrew/Library/CloudStorage/OneDrive-UCB-O365/research/data_analysis/rsoxs_suite/prsoxs_plots/2022C2/isi_carbon_square/PM6-Y6-CF_carbon_corr_chiWidth-30deg_qrange-0.01-0.08_polavgdeg.png\n",
      "PM6-Y6-CF\n",
      "/Users/andrew/Library/CloudStorage/OneDrive-UCB-O365/research/data_analysis/rsoxs_suite/prsoxs_plots/2022C2/linecut_maps_carbon/PM6-Y6-CF_carbon_corr_chiWidth-30deg_polavgdeg_q0.01-0.08_energy282-290.png\n",
      "/Users/andrew/Library/CloudStorage/OneDrive-UCB-O365/research/data_analysis/rsoxs_suite/prsoxs_plots/2022C2/ar_maps_carbon/vset_PM6-Y6-CF_carbon_corr_chiWidth-30deg_polavgdeg_q-0.01-0.08_energy282-290.png\n",
      "/Users/andrew/Library/CloudStorage/OneDrive-UCB-O365/research/data_analysis/rsoxs_suite/prsoxs_plots/2022C2/isi_carbon_square/PM6-Y6-CF_carbon_corr_chiWidth-30deg_qrange-0.01-0.08_polavgdeg.png\n",
      "PM6-Y6-Tol\n",
      "/Users/andrew/Library/CloudStorage/OneDrive-UCB-O365/research/data_analysis/rsoxs_suite/prsoxs_plots/2022C2/linecut_maps_carbon/PM6-Y6-Tol_carbon_corr_chiWidth-30deg_polavgdeg_q0.01-0.08_energy282-290.png\n",
      "/Users/andrew/Library/CloudStorage/OneDrive-UCB-O365/research/data_analysis/rsoxs_suite/prsoxs_plots/2022C2/ar_maps_carbon/vset_PM6-Y6-Tol_carbon_corr_chiWidth-30deg_polavgdeg_q-0.01-0.08_energy282-290.png\n",
      "/Users/andrew/Library/CloudStorage/OneDrive-UCB-O365/research/data_analysis/rsoxs_suite/prsoxs_plots/2022C2/isi_carbon_square/PM6-Y6-Tol_carbon_corr_chiWidth-30deg_qrange-0.01-0.08_polavgdeg.png\n",
      "PM6-Y6-Tol\n",
      "/Users/andrew/Library/CloudStorage/OneDrive-UCB-O365/research/data_analysis/rsoxs_suite/prsoxs_plots/2022C2/linecut_maps_carbon/PM6-Y6-Tol_carbon_corr_chiWidth-30deg_polavgdeg_q0.01-0.08_energy282-290.png\n",
      "/Users/andrew/Library/CloudStorage/OneDrive-UCB-O365/research/data_analysis/rsoxs_suite/prsoxs_plots/2022C2/ar_maps_carbon/vset_PM6-Y6-Tol_carbon_corr_chiWidth-30deg_polavgdeg_q-0.01-0.08_energy282-290.png\n",
      "/Users/andrew/Library/CloudStorage/OneDrive-UCB-O365/research/data_analysis/rsoxs_suite/prsoxs_plots/2022C2/isi_carbon_square/PM6-Y6-Tol_carbon_corr_chiWidth-30deg_qrange-0.01-0.08_polavgdeg.png\n",
      "PM6-Y7-CFCN\n",
      "/Users/andrew/Library/CloudStorage/OneDrive-UCB-O365/research/data_analysis/rsoxs_suite/prsoxs_plots/2022C2/linecut_maps_carbon/PM6-Y7-CFCN_carbon_corr_chiWidth-30deg_polavgdeg_q0.01-0.08_energy282-290.png\n",
      "/Users/andrew/Library/CloudStorage/OneDrive-UCB-O365/research/data_analysis/rsoxs_suite/prsoxs_plots/2022C2/ar_maps_carbon/vset_PM6-Y7-CFCN_carbon_corr_chiWidth-30deg_polavgdeg_q-0.01-0.08_energy282-290.png\n",
      "/Users/andrew/Library/CloudStorage/OneDrive-UCB-O365/research/data_analysis/rsoxs_suite/prsoxs_plots/2022C2/isi_carbon_square/PM6-Y7-CFCN_carbon_corr_chiWidth-30deg_qrange-0.01-0.08_polavgdeg.png\n",
      "PM6-Y7-CFCN\n",
      "/Users/andrew/Library/CloudStorage/OneDrive-UCB-O365/research/data_analysis/rsoxs_suite/prsoxs_plots/2022C2/linecut_maps_carbon/PM6-Y7-CFCN_carbon_corr_chiWidth-30deg_polavgdeg_q0.01-0.08_energy282-290.png\n",
      "/Users/andrew/Library/CloudStorage/OneDrive-UCB-O365/research/data_analysis/rsoxs_suite/prsoxs_plots/2022C2/ar_maps_carbon/vset_PM6-Y7-CFCN_carbon_corr_chiWidth-30deg_polavgdeg_q-0.01-0.08_energy282-290.png\n",
      "/Users/andrew/Library/CloudStorage/OneDrive-UCB-O365/research/data_analysis/rsoxs_suite/prsoxs_plots/2022C2/isi_carbon_square/PM6-Y7-CFCN_carbon_corr_chiWidth-30deg_qrange-0.01-0.08_polavgdeg.png\n",
      "PM6-Y7-CF\n",
      "/Users/andrew/Library/CloudStorage/OneDrive-UCB-O365/research/data_analysis/rsoxs_suite/prsoxs_plots/2022C2/linecut_maps_carbon/PM6-Y7-CF_carbon_corr_chiWidth-30deg_polavgdeg_q0.01-0.08_energy282-290.png\n",
      "/Users/andrew/Library/CloudStorage/OneDrive-UCB-O365/research/data_analysis/rsoxs_suite/prsoxs_plots/2022C2/ar_maps_carbon/vset_PM6-Y7-CF_carbon_corr_chiWidth-30deg_polavgdeg_q-0.01-0.08_energy282-290.png\n",
      "/Users/andrew/Library/CloudStorage/OneDrive-UCB-O365/research/data_analysis/rsoxs_suite/prsoxs_plots/2022C2/isi_carbon_square/PM6-Y7-CF_carbon_corr_chiWidth-30deg_qrange-0.01-0.08_polavgdeg.png\n",
      "PM6-Y7-CF\n",
      "/Users/andrew/Library/CloudStorage/OneDrive-UCB-O365/research/data_analysis/rsoxs_suite/prsoxs_plots/2022C2/linecut_maps_carbon/PM6-Y7-CF_carbon_corr_chiWidth-30deg_polavgdeg_q0.01-0.08_energy282-290.png\n",
      "/Users/andrew/Library/CloudStorage/OneDrive-UCB-O365/research/data_analysis/rsoxs_suite/prsoxs_plots/2022C2/ar_maps_carbon/vset_PM6-Y7-CF_carbon_corr_chiWidth-30deg_polavgdeg_q-0.01-0.08_energy282-290.png\n",
      "/Users/andrew/Library/CloudStorage/OneDrive-UCB-O365/research/data_analysis/rsoxs_suite/prsoxs_plots/2022C2/isi_carbon_square/PM6-Y7-CF_carbon_corr_chiWidth-30deg_qrange-0.01-0.08_polavgdeg.png\n",
      "PM6-Y7-Tol\n",
      "/Users/andrew/Library/CloudStorage/OneDrive-UCB-O365/research/data_analysis/rsoxs_suite/prsoxs_plots/2022C2/linecut_maps_carbon/PM6-Y7-Tol_carbon_corr_chiWidth-30deg_polavgdeg_q0.01-0.08_energy282-290.png\n",
      "/Users/andrew/Library/CloudStorage/OneDrive-UCB-O365/research/data_analysis/rsoxs_suite/prsoxs_plots/2022C2/ar_maps_carbon/vset_PM6-Y7-Tol_carbon_corr_chiWidth-30deg_polavgdeg_q-0.01-0.08_energy282-290.png\n",
      "/Users/andrew/Library/CloudStorage/OneDrive-UCB-O365/research/data_analysis/rsoxs_suite/prsoxs_plots/2022C2/isi_carbon_square/PM6-Y7-Tol_carbon_corr_chiWidth-30deg_qrange-0.01-0.08_polavgdeg.png\n",
      "PM6-Y7-Tol\n",
      "/Users/andrew/Library/CloudStorage/OneDrive-UCB-O365/research/data_analysis/rsoxs_suite/prsoxs_plots/2022C2/linecut_maps_carbon/PM6-Y7-Tol_carbon_corr_chiWidth-30deg_polavgdeg_q0.01-0.08_energy282-290.png\n",
      "/Users/andrew/Library/CloudStorage/OneDrive-UCB-O365/research/data_analysis/rsoxs_suite/prsoxs_plots/2022C2/ar_maps_carbon/vset_PM6-Y7-Tol_carbon_corr_chiWidth-30deg_polavgdeg_q-0.01-0.08_energy282-290.png\n",
      "/Users/andrew/Library/CloudStorage/OneDrive-UCB-O365/research/data_analysis/rsoxs_suite/prsoxs_plots/2022C2/isi_carbon_square/PM6-Y7-Tol_carbon_corr_chiWidth-30deg_qrange-0.01-0.08_polavgdeg.png\n",
      "PM6-Y7BO-CFCN\n",
      "/Users/andrew/Library/CloudStorage/OneDrive-UCB-O365/research/data_analysis/rsoxs_suite/prsoxs_plots/2022C2/linecut_maps_carbon/PM6-Y7BO-CFCN_carbon_corr_chiWidth-30deg_polavgdeg_q0.01-0.08_energy282-290.png\n",
      "/Users/andrew/Library/CloudStorage/OneDrive-UCB-O365/research/data_analysis/rsoxs_suite/prsoxs_plots/2022C2/ar_maps_carbon/vset_PM6-Y7BO-CFCN_carbon_corr_chiWidth-30deg_polavgdeg_q-0.01-0.08_energy282-290.png\n",
      "/Users/andrew/Library/CloudStorage/OneDrive-UCB-O365/research/data_analysis/rsoxs_suite/prsoxs_plots/2022C2/isi_carbon_square/PM6-Y7BO-CFCN_carbon_corr_chiWidth-30deg_qrange-0.01-0.08_polavgdeg.png\n",
      "PM6-Y7BO-CFCN\n",
      "/Users/andrew/Library/CloudStorage/OneDrive-UCB-O365/research/data_analysis/rsoxs_suite/prsoxs_plots/2022C2/linecut_maps_carbon/PM6-Y7BO-CFCN_carbon_corr_chiWidth-30deg_polavgdeg_q0.01-0.08_energy282-290.png\n",
      "/Users/andrew/Library/CloudStorage/OneDrive-UCB-O365/research/data_analysis/rsoxs_suite/prsoxs_plots/2022C2/ar_maps_carbon/vset_PM6-Y7BO-CFCN_carbon_corr_chiWidth-30deg_polavgdeg_q-0.01-0.08_energy282-290.png\n",
      "/Users/andrew/Library/CloudStorage/OneDrive-UCB-O365/research/data_analysis/rsoxs_suite/prsoxs_plots/2022C2/isi_carbon_square/PM6-Y7BO-CFCN_carbon_corr_chiWidth-30deg_qrange-0.01-0.08_polavgdeg.png\n",
      "PM6-Y7BO-CF\n",
      "/Users/andrew/Library/CloudStorage/OneDrive-UCB-O365/research/data_analysis/rsoxs_suite/prsoxs_plots/2022C2/linecut_maps_carbon/PM6-Y7BO-CF_carbon_corr_chiWidth-30deg_polavgdeg_q0.01-0.08_energy282-290.png\n",
      "/Users/andrew/Library/CloudStorage/OneDrive-UCB-O365/research/data_analysis/rsoxs_suite/prsoxs_plots/2022C2/ar_maps_carbon/vset_PM6-Y7BO-CF_carbon_corr_chiWidth-30deg_polavgdeg_q-0.01-0.08_energy282-290.png\n",
      "/Users/andrew/Library/CloudStorage/OneDrive-UCB-O365/research/data_analysis/rsoxs_suite/prsoxs_plots/2022C2/isi_carbon_square/PM6-Y7BO-CF_carbon_corr_chiWidth-30deg_qrange-0.01-0.08_polavgdeg.png\n",
      "PM6-Y7BO-CF\n",
      "/Users/andrew/Library/CloudStorage/OneDrive-UCB-O365/research/data_analysis/rsoxs_suite/prsoxs_plots/2022C2/linecut_maps_carbon/PM6-Y7BO-CF_carbon_corr_chiWidth-30deg_polavgdeg_q0.01-0.08_energy282-290.png\n",
      "/Users/andrew/Library/CloudStorage/OneDrive-UCB-O365/research/data_analysis/rsoxs_suite/prsoxs_plots/2022C2/ar_maps_carbon/vset_PM6-Y7BO-CF_carbon_corr_chiWidth-30deg_polavgdeg_q-0.01-0.08_energy282-290.png\n",
      "/Users/andrew/Library/CloudStorage/OneDrive-UCB-O365/research/data_analysis/rsoxs_suite/prsoxs_plots/2022C2/isi_carbon_square/PM6-Y7BO-CF_carbon_corr_chiWidth-30deg_qrange-0.01-0.08_polavgdeg.png\n",
      "PM6-Y7BO-Tol\n",
      "/Users/andrew/Library/CloudStorage/OneDrive-UCB-O365/research/data_analysis/rsoxs_suite/prsoxs_plots/2022C2/linecut_maps_carbon/PM6-Y7BO-Tol_carbon_corr_chiWidth-30deg_polavgdeg_q0.01-0.08_energy282-290.png\n",
      "/Users/andrew/Library/CloudStorage/OneDrive-UCB-O365/research/data_analysis/rsoxs_suite/prsoxs_plots/2022C2/ar_maps_carbon/vset_PM6-Y7BO-Tol_carbon_corr_chiWidth-30deg_polavgdeg_q-0.01-0.08_energy282-290.png\n",
      "/Users/andrew/Library/CloudStorage/OneDrive-UCB-O365/research/data_analysis/rsoxs_suite/prsoxs_plots/2022C2/isi_carbon_square/PM6-Y7BO-Tol_carbon_corr_chiWidth-30deg_qrange-0.01-0.08_polavgdeg.png\n",
      "PM6-Y7BO-Tol\n",
      "/Users/andrew/Library/CloudStorage/OneDrive-UCB-O365/research/data_analysis/rsoxs_suite/prsoxs_plots/2022C2/linecut_maps_carbon/PM6-Y7BO-Tol_carbon_corr_chiWidth-30deg_polavgdeg_q0.01-0.08_energy282-290.png\n",
      "/Users/andrew/Library/CloudStorage/OneDrive-UCB-O365/research/data_analysis/rsoxs_suite/prsoxs_plots/2022C2/ar_maps_carbon/vset_PM6-Y7BO-Tol_carbon_corr_chiWidth-30deg_polavgdeg_q-0.01-0.08_energy282-290.png\n",
      "/Users/andrew/Library/CloudStorage/OneDrive-UCB-O365/research/data_analysis/rsoxs_suite/prsoxs_plots/2022C2/isi_carbon_square/PM6-Y7BO-Tol_carbon_corr_chiWidth-30deg_qrange-0.01-0.08_polavgdeg.png\n",
      "PM7D5-Y12-CF_2\n",
      "/Users/andrew/Library/CloudStorage/OneDrive-UCB-O365/research/data_analysis/rsoxs_suite/prsoxs_plots/2022C2/linecut_maps_carbon/PM7D5-Y12-CF_2_carbon_corr_chiWidth-30deg_polavgdeg_q0.01-0.08_energy282-290.png\n",
      "/Users/andrew/Library/CloudStorage/OneDrive-UCB-O365/research/data_analysis/rsoxs_suite/prsoxs_plots/2022C2/ar_maps_carbon/vset_PM7D5-Y12-CF_2_carbon_corr_chiWidth-30deg_polavgdeg_q-0.01-0.08_energy282-290.png\n",
      "/Users/andrew/Library/CloudStorage/OneDrive-UCB-O365/research/data_analysis/rsoxs_suite/prsoxs_plots/2022C2/isi_carbon_square/PM7D5-Y12-CF_2_carbon_corr_chiWidth-30deg_qrange-0.01-0.08_polavgdeg.png\n",
      "PM7D5-Y12-CF_2\n",
      "/Users/andrew/Library/CloudStorage/OneDrive-UCB-O365/research/data_analysis/rsoxs_suite/prsoxs_plots/2022C2/linecut_maps_carbon/PM7D5-Y12-CF_2_carbon_corr_chiWidth-30deg_polavgdeg_q0.01-0.08_energy282-290.png\n",
      "/Users/andrew/Library/CloudStorage/OneDrive-UCB-O365/research/data_analysis/rsoxs_suite/prsoxs_plots/2022C2/ar_maps_carbon/vset_PM7D5-Y12-CF_2_carbon_corr_chiWidth-30deg_polavgdeg_q-0.01-0.08_energy282-290.png\n",
      "/Users/andrew/Library/CloudStorage/OneDrive-UCB-O365/research/data_analysis/rsoxs_suite/prsoxs_plots/2022C2/isi_carbon_square/PM7D5-Y12-CF_2_carbon_corr_chiWidth-30deg_qrange-0.01-0.08_polavgdeg.png\n",
      "PM7D5-Y12-CF\n",
      "/Users/andrew/Library/CloudStorage/OneDrive-UCB-O365/research/data_analysis/rsoxs_suite/prsoxs_plots/2022C2/linecut_maps_carbon/PM7D5-Y12-CF_carbon_corr_chiWidth-30deg_polavgdeg_q0.01-0.08_energy282-290.png\n",
      "/Users/andrew/Library/CloudStorage/OneDrive-UCB-O365/research/data_analysis/rsoxs_suite/prsoxs_plots/2022C2/ar_maps_carbon/vset_PM7D5-Y12-CF_carbon_corr_chiWidth-30deg_polavgdeg_q-0.01-0.08_energy282-290.png\n",
      "/Users/andrew/Library/CloudStorage/OneDrive-UCB-O365/research/data_analysis/rsoxs_suite/prsoxs_plots/2022C2/isi_carbon_square/PM7D5-Y12-CF_carbon_corr_chiWidth-30deg_qrange-0.01-0.08_polavgdeg.png\n",
      "PM7D5-Y12-CF\n",
      "/Users/andrew/Library/CloudStorage/OneDrive-UCB-O365/research/data_analysis/rsoxs_suite/prsoxs_plots/2022C2/linecut_maps_carbon/PM7D5-Y12-CF_carbon_corr_chiWidth-30deg_polavgdeg_q0.01-0.08_energy282-290.png\n",
      "/Users/andrew/Library/CloudStorage/OneDrive-UCB-O365/research/data_analysis/rsoxs_suite/prsoxs_plots/2022C2/ar_maps_carbon/vset_PM7D5-Y12-CF_carbon_corr_chiWidth-30deg_polavgdeg_q-0.01-0.08_energy282-290.png\n",
      "/Users/andrew/Library/CloudStorage/OneDrive-UCB-O365/research/data_analysis/rsoxs_suite/prsoxs_plots/2022C2/isi_carbon_square/PM7D5-Y12-CF_carbon_corr_chiWidth-30deg_qrange-0.01-0.08_polavgdeg.png\n",
      "PM7D5-Y12-Tol_2\n",
      "/Users/andrew/Library/CloudStorage/OneDrive-UCB-O365/research/data_analysis/rsoxs_suite/prsoxs_plots/2022C2/linecut_maps_carbon/PM7D5-Y12-Tol_2_carbon_corr_chiWidth-30deg_polavgdeg_q0.01-0.08_energy282-290.png\n",
      "/Users/andrew/Library/CloudStorage/OneDrive-UCB-O365/research/data_analysis/rsoxs_suite/prsoxs_plots/2022C2/ar_maps_carbon/vset_PM7D5-Y12-Tol_2_carbon_corr_chiWidth-30deg_polavgdeg_q-0.01-0.08_energy282-290.png\n",
      "/Users/andrew/Library/CloudStorage/OneDrive-UCB-O365/research/data_analysis/rsoxs_suite/prsoxs_plots/2022C2/isi_carbon_square/PM7D5-Y12-Tol_2_carbon_corr_chiWidth-30deg_qrange-0.01-0.08_polavgdeg.png\n",
      "PM7D5-Y12-Tol_2\n",
      "/Users/andrew/Library/CloudStorage/OneDrive-UCB-O365/research/data_analysis/rsoxs_suite/prsoxs_plots/2022C2/linecut_maps_carbon/PM7D5-Y12-Tol_2_carbon_corr_chiWidth-30deg_polavgdeg_q0.01-0.08_energy282-290.png\n",
      "/Users/andrew/Library/CloudStorage/OneDrive-UCB-O365/research/data_analysis/rsoxs_suite/prsoxs_plots/2022C2/ar_maps_carbon/vset_PM7D5-Y12-Tol_2_carbon_corr_chiWidth-30deg_polavgdeg_q-0.01-0.08_energy282-290.png\n",
      "/Users/andrew/Library/CloudStorage/OneDrive-UCB-O365/research/data_analysis/rsoxs_suite/prsoxs_plots/2022C2/isi_carbon_square/PM7D5-Y12-Tol_2_carbon_corr_chiWidth-30deg_qrange-0.01-0.08_polavgdeg.png\n",
      "PM7D5-Y247-CF\n",
      "/Users/andrew/Library/CloudStorage/OneDrive-UCB-O365/research/data_analysis/rsoxs_suite/prsoxs_plots/2022C2/linecut_maps_carbon/PM7D5-Y247-CF_carbon_corr_chiWidth-30deg_polavgdeg_q0.01-0.08_energy282-290.png\n",
      "/Users/andrew/Library/CloudStorage/OneDrive-UCB-O365/research/data_analysis/rsoxs_suite/prsoxs_plots/2022C2/ar_maps_carbon/vset_PM7D5-Y247-CF_carbon_corr_chiWidth-30deg_polavgdeg_q-0.01-0.08_energy282-290.png\n",
      "/Users/andrew/Library/CloudStorage/OneDrive-UCB-O365/research/data_analysis/rsoxs_suite/prsoxs_plots/2022C2/isi_carbon_square/PM7D5-Y247-CF_carbon_corr_chiWidth-30deg_qrange-0.01-0.08_polavgdeg.png\n",
      "PM7D5-Y247-CF\n",
      "/Users/andrew/Library/CloudStorage/OneDrive-UCB-O365/research/data_analysis/rsoxs_suite/prsoxs_plots/2022C2/linecut_maps_carbon/PM7D5-Y247-CF_carbon_corr_chiWidth-30deg_polavgdeg_q0.01-0.08_energy282-290.png\n",
      "/Users/andrew/Library/CloudStorage/OneDrive-UCB-O365/research/data_analysis/rsoxs_suite/prsoxs_plots/2022C2/ar_maps_carbon/vset_PM7D5-Y247-CF_carbon_corr_chiWidth-30deg_polavgdeg_q-0.01-0.08_energy282-290.png\n",
      "/Users/andrew/Library/CloudStorage/OneDrive-UCB-O365/research/data_analysis/rsoxs_suite/prsoxs_plots/2022C2/isi_carbon_square/PM7D5-Y247-CF_carbon_corr_chiWidth-30deg_qrange-0.01-0.08_polavgdeg.png\n",
      "PM7D5-Y247-Tol\n",
      "/Users/andrew/Library/CloudStorage/OneDrive-UCB-O365/research/data_analysis/rsoxs_suite/prsoxs_plots/2022C2/linecut_maps_carbon/PM7D5-Y247-Tol_carbon_corr_chiWidth-30deg_polavgdeg_q0.01-0.08_energy282-290.png\n",
      "/Users/andrew/Library/CloudStorage/OneDrive-UCB-O365/research/data_analysis/rsoxs_suite/prsoxs_plots/2022C2/ar_maps_carbon/vset_PM7D5-Y247-Tol_carbon_corr_chiWidth-30deg_polavgdeg_q-0.01-0.08_energy282-290.png\n",
      "/Users/andrew/Library/CloudStorage/OneDrive-UCB-O365/research/data_analysis/rsoxs_suite/prsoxs_plots/2022C2/isi_carbon_square/PM7D5-Y247-Tol_carbon_corr_chiWidth-30deg_qrange-0.01-0.08_polavgdeg.png\n",
      "PM7D5-Y247-Tol\n",
      "/Users/andrew/Library/CloudStorage/OneDrive-UCB-O365/research/data_analysis/rsoxs_suite/prsoxs_plots/2022C2/linecut_maps_carbon/PM7D5-Y247-Tol_carbon_corr_chiWidth-30deg_polavgdeg_q0.01-0.08_energy282-290.png\n",
      "/Users/andrew/Library/CloudStorage/OneDrive-UCB-O365/research/data_analysis/rsoxs_suite/prsoxs_plots/2022C2/ar_maps_carbon/vset_PM7D5-Y247-Tol_carbon_corr_chiWidth-30deg_polavgdeg_q-0.01-0.08_energy282-290.png\n",
      "/Users/andrew/Library/CloudStorage/OneDrive-UCB-O365/research/data_analysis/rsoxs_suite/prsoxs_plots/2022C2/isi_carbon_square/PM7D5-Y247-Tol_carbon_corr_chiWidth-30deg_qrange-0.01-0.08_polavgdeg.png\n",
      "PM7D5-Y6-CF\n",
      "/Users/andrew/Library/CloudStorage/OneDrive-UCB-O365/research/data_analysis/rsoxs_suite/prsoxs_plots/2022C2/linecut_maps_carbon/PM7D5-Y6-CF_carbon_corr_chiWidth-30deg_polavgdeg_q0.01-0.08_energy282-290.png\n",
      "/Users/andrew/Library/CloudStorage/OneDrive-UCB-O365/research/data_analysis/rsoxs_suite/prsoxs_plots/2022C2/ar_maps_carbon/vset_PM7D5-Y6-CF_carbon_corr_chiWidth-30deg_polavgdeg_q-0.01-0.08_energy282-290.png\n",
      "/Users/andrew/Library/CloudStorage/OneDrive-UCB-O365/research/data_analysis/rsoxs_suite/prsoxs_plots/2022C2/isi_carbon_square/PM7D5-Y6-CF_carbon_corr_chiWidth-30deg_qrange-0.01-0.08_polavgdeg.png\n",
      "PM7D5-Y6-CF\n",
      "/Users/andrew/Library/CloudStorage/OneDrive-UCB-O365/research/data_analysis/rsoxs_suite/prsoxs_plots/2022C2/linecut_maps_carbon/PM7D5-Y6-CF_carbon_corr_chiWidth-30deg_polavgdeg_q0.01-0.08_energy282-290.png\n",
      "/Users/andrew/Library/CloudStorage/OneDrive-UCB-O365/research/data_analysis/rsoxs_suite/prsoxs_plots/2022C2/ar_maps_carbon/vset_PM7D5-Y6-CF_carbon_corr_chiWidth-30deg_polavgdeg_q-0.01-0.08_energy282-290.png\n",
      "/Users/andrew/Library/CloudStorage/OneDrive-UCB-O365/research/data_analysis/rsoxs_suite/prsoxs_plots/2022C2/isi_carbon_square/PM7D5-Y6-CF_carbon_corr_chiWidth-30deg_qrange-0.01-0.08_polavgdeg.png\n",
      "PM7D5-Y6-Tol\n",
      "/Users/andrew/Library/CloudStorage/OneDrive-UCB-O365/research/data_analysis/rsoxs_suite/prsoxs_plots/2022C2/linecut_maps_carbon/PM7D5-Y6-Tol_carbon_corr_chiWidth-30deg_polavgdeg_q0.01-0.08_energy282-290.png\n",
      "/Users/andrew/Library/CloudStorage/OneDrive-UCB-O365/research/data_analysis/rsoxs_suite/prsoxs_plots/2022C2/ar_maps_carbon/vset_PM7D5-Y6-Tol_carbon_corr_chiWidth-30deg_polavgdeg_q-0.01-0.08_energy282-290.png\n",
      "/Users/andrew/Library/CloudStorage/OneDrive-UCB-O365/research/data_analysis/rsoxs_suite/prsoxs_plots/2022C2/isi_carbon_square/PM7D5-Y6-Tol_carbon_corr_chiWidth-30deg_qrange-0.01-0.08_polavgdeg.png\n",
      "PM7D5-Y6-Tol\n",
      "/Users/andrew/Library/CloudStorage/OneDrive-UCB-O365/research/data_analysis/rsoxs_suite/prsoxs_plots/2022C2/linecut_maps_carbon/PM7D5-Y6-Tol_carbon_corr_chiWidth-30deg_polavgdeg_q0.01-0.08_energy282-290.png\n",
      "/Users/andrew/Library/CloudStorage/OneDrive-UCB-O365/research/data_analysis/rsoxs_suite/prsoxs_plots/2022C2/ar_maps_carbon/vset_PM7D5-Y6-Tol_carbon_corr_chiWidth-30deg_polavgdeg_q-0.01-0.08_energy282-290.png\n",
      "/Users/andrew/Library/CloudStorage/OneDrive-UCB-O365/research/data_analysis/rsoxs_suite/prsoxs_plots/2022C2/isi_carbon_square/PM7D5-Y6-Tol_carbon_corr_chiWidth-30deg_qrange-0.01-0.08_polavgdeg.png\n"
     ]
    }
   ],
   "source": [
    "# Generate slides:\n",
    "\n",
    "prs = Presentation()\n",
    "\n",
    "# Set slide dimensions for widescreen 16:9 aspect ratio\n",
    "prs.slide_width = Inches(13.333)  # Width\n",
    "prs.slide_height = Inches(7.5)    # Height\n",
    "\n",
    "slide_layout = prs.slide_layouts[5]\n",
    "\n",
    "for moviePath in tqdm(sorted(moviePaths.glob('*mp4'))):\n",
    "    # Select appropriate path for each file\n",
    "    poster_frame_path = moviePaths.joinpath(f'{moviePath.stem}.jpeg')\n",
    "    fname_list = moviePath.name.split('_')\n",
    "    pol_str = fname_list[-1][:-4]\n",
    "    \n",
    "\n",
    "    if pol_str == 'pol90deg':\n",
    "        pol_orientation = 'Vertical'\n",
    "    else:\n",
    "        pol_orientation = 'Horizontal'\n",
    "        \n",
    "    try:\n",
    "        if len(fname_list)==4:\n",
    "            sample_name = fname_list[0]\n",
    "            print(sample_name)\n",
    "            linecutMapPath = list(linecutMapsPath.glob(f'{sample_name}_c*polavgdeg*q0.01-0.08*'))[0]\n",
    "            arMapPath = list(arMapsPath.glob(f'vset*{sample_name}_c*polavgdeg*q-0.01-0.08*'))[0]\n",
    "            ISIPath = list(ISIsPath.glob(f'{sample_name}_c*qrange-0.01-0.08*polavgdeg*'))[0]\n",
    "        elif len(fname_list)==5:\n",
    "            sample_name_list = fname_list[0:2]\n",
    "            sample_name = '_'.join(sample_name_list)     \n",
    "            print(sample_name)\n",
    "            linecutMapPath = list(linecutMapsPath.glob(f'{sample_name}_*polavgdeg*q0.01-0.08*'))[0]\n",
    "            arMapPath = list(arMapsPath.glob(f'vset*{sample_name}_*polavgdeg*q-0.01-0.08*'))[0]\n",
    "            ISIPath = list(ISIsPath.glob(f'{sample_name}_*qrange-0.01-0.08*polavgdeg*'))[0]\n",
    "            \n",
    "        print(linecutMapPath)\n",
    "        print(arMapPath)\n",
    "        print(ISIPath)\n",
    "        if pol_orientation == 'Horizontal':\n",
    "            # Add slide \n",
    "            slide = prs.slides.add_slide(slide_layout)\n",
    "\n",
    "            # Formate title\n",
    "            title = slide.shapes.title\n",
    "            title.left = Inches(0.22)\n",
    "            title.top = Inches(0.4)\n",
    "            title.width = Inches(4.8)\n",
    "            title.height = Inches(2.91)\n",
    "            title.text = f'Sample:\\n{sample_name}\\n\\n{pol_orientation} X-ray Polarization'\n",
    "            for paragraph in title.text_frame.paragraphs:\n",
    "                paragraph.alignment = PP_ALIGN.LEFT\n",
    "                paragraph.font.size = Pt(36)\n",
    "\n",
    "            # Define image positions (these are just placeholders, adjust as necessary)\n",
    "            left_movie = Inches(0)\n",
    "            top_movie = Inches(3.41)\n",
    "            height_movie = Inches(4.09)\n",
    "            width_movie = Inches(5)\n",
    "\n",
    "            left_linecutMap = Inches(5.08)\n",
    "            top_linecutMap = Inches(3.5)\n",
    "            height_linecutMap = Inches(3.75)\n",
    "\n",
    "            left_arMap = Inches(5)\n",
    "            top_arMap = Inches(0.25)\n",
    "            height_arMap = Inches(3)    \n",
    "\n",
    "            left_ISI = Inches(9.45)\n",
    "            top_ISI = Inches(0.25)\n",
    "            height_ISI = Inches(3)\n",
    "\n",
    "            # Add images to the slide\n",
    "            slide.shapes.add_movie(str(moviePath), left_movie, top_movie, height=height_movie, width=width_movie, poster_frame_image=str(poster_frame_path), mime_type='video/mp4')\n",
    "            slide.shapes.add_picture(str(linecutMapPath), left_linecutMap, top_linecutMap, height=height_linecutMap)\n",
    "            slide.shapes.add_picture(str(arMapPath), left_arMap, top_arMap, height=height_arMap)\n",
    "            slide.shapes.add_picture(str(ISIPath), left_ISI, top_ISI, height=height_ISI)\n",
    "            \n",
    "    except IndexError:\n",
    "        print('Only movie, skipping this slide')\n",
    "        \n",
    "        \n",
    "prs.save(outPath.joinpath('2022C2_carbon_saxs_prsoxs_auto-summary_horizontal_v2.pptx'))"
   ]
  },
  {
   "cell_type": "code",
   "execution_count": null,
   "id": "0756c47e-3558-4bd6-bf4a-a6834cfee893",
   "metadata": {},
   "outputs": [],
   "source": []
  }
 ],
 "metadata": {
  "kernelspec": {
   "display_name": "Python 3 (ipykernel)",
   "language": "python",
   "name": "python3"
  },
  "language_info": {
   "codemirror_mode": {
    "name": "ipython",
    "version": 3
   },
   "file_extension": ".py",
   "mimetype": "text/x-python",
   "name": "python",
   "nbconvert_exporter": "python",
   "pygments_lexer": "ipython3",
   "version": "3.10.4"
  }
 },
 "nbformat": 4,
 "nbformat_minor": 5
}
