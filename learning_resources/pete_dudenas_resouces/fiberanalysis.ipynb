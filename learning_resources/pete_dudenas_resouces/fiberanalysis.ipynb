{
 "cells": [
  {
   "cell_type": "code",
   "execution_count": 1,
   "id": "d9d04091-059b-43e1-ba83-d38a6a5f39f9",
   "metadata": {
    "tags": []
   },
   "outputs": [],
   "source": [
    "import matplotlib.pyplot as plt\n",
    "import numpy as np\n",
    "import sys\n",
    "from skimage.filters import sobel, sobel_v, sobel_h\n",
    "import xarray as xr\n",
    "from skimage.transform import warp_polar\n",
    "import h5py\n",
    "from matplotlib.colors import LogNorm\n",
    "import pathlib\n",
    "import datetime\n",
    "import os\n",
    "import shutil"
   ]
  },
  {
   "cell_type": "code",
   "execution_count": 2,
   "id": "35acc0d0-c4c3-439e-8fe1-ddfa05cebabc",
   "metadata": {},
   "outputs": [],
   "source": [
    "sys.path.append('/home/pdudenas/lib/pySPM')\n",
    "import pySPM"
   ]
  },
  {
   "cell_type": "code",
   "execution_count": 3,
   "id": "70ab8b3c-682e-4a4c-99af-1db8533f2d42",
   "metadata": {},
   "outputs": [],
   "source": [
    "sys.path.append('/home/pdudenas/lib/mcmorph/')\n",
    "from growth.crystal import crystalgrowth\n",
    "cg = crystalgrowth()"
   ]
  },
  {
   "cell_type": "code",
   "execution_count": 4,
   "id": "f584fbb8-4442-42d8-8129-ff95eab86506",
   "metadata": {},
   "outputs": [],
   "source": [
    "basepath = pathlib.Path('.').absolute()\n",
    "afmpath = pathlib.Path(basepath, 'AFM')"
   ]
  },
  {
   "cell_type": "code",
   "execution_count": 5,
   "id": "deaf1854-ab14-4f5c-96d9-76ffd1021176",
   "metadata": {},
   "outputs": [],
   "source": [
    "from fiberanalysis import *"
   ]
  },
  {
   "cell_type": "code",
   "execution_count": 6,
   "id": "ec67f425-86f7-4031-b2c7-ec69435b14f2",
   "metadata": {},
   "outputs": [],
   "source": [
    "def orient_plot(array,dpi=140):\n",
    "    plt.figure(dpi=dpi)\n",
    "    plt.imshow(array,cmap='hsv',origin='lower',interpolation='none')\n",
    "    plt.colorbar()\n",
    "    plt.show()"
   ]
  },
  {
   "cell_type": "code",
   "execution_count": 7,
   "id": "661695fd-b24b-4b5d-84b6-d8d645c87c14",
   "metadata": {},
   "outputs": [],
   "source": [
    "def readcorrect(file,channel='Phase'):\n",
    "    ''' Reads phase data from Bruker AFM scan file\n",
    "    and aligns rows by subtracting median from each row\n",
    "    '''\n",
    "    scan = pySPM.Bruker(file)\n",
    "    phase = np.array(scan.get_channel(channel).pixels)\n",
    "    for i,row in enumerate(phase):\n",
    "        phase[i] -= np.median(row)\n",
    "    return phase"
   ]
  },
  {
   "cell_type": "code",
   "execution_count": 488,
   "id": "fe15ed95-7c5d-4994-ab59-b56c0c5f71d4",
   "metadata": {},
   "outputs": [],
   "source": [
    "def full_reduce(img, threshold_val=None):\n",
    "    if not threshold_val:\n",
    "        threshold_val = threshold_otsu(img)\n",
    "    binary_img = img < threshold_val\n",
    "    binary_img = binary_closing(binary_img,footprint=square(2))\n",
    "    skeleton_img = skeletonize(binary_img)\n",
    "    skeleton_img = remove_branches(skeleton_img)\n",
    "    labeled_img = label(skeleton_img,connectivity=2)\n",
    "    smoothed_img = create_smooththeta(labeled_img)\n",
    "    smoothed_img += np.pi/2\n",
    "    smoothed_img[smoothed_img>np.pi/2] %= -np.pi/2\n",
    "    smoothed_filled = cg.grow_complete(smoothed_img,growth_anisotropy=2,pi_mutate=np.deg2rad(2),c_mutate=np.deg2rad(2),return_all=False)\n",
    "#     try:\n",
    "#     smoothed_filled[binary_img] = np.nan\n",
    "    smoothed_filled -= np.pi/2\n",
    "    smoothed_filled[smoothed_filled < -np.pi/2] %= np.pi/2\n",
    "\n",
    "    return smoothed_filled, binary_img\n",
    "#     except IndexError:\n",
    "#         return smoothed_filled\n",
    "\n",
    "def full_reduce2(img, threshold_val=None):\n",
    "    if not threshold_val:\n",
    "        threshold_val = threshold_otsu(img)\n",
    "    binary_img = img > threshold_val\n",
    "    binary_img = binary_closing(binary_img,footprint=square(2))\n",
    "    skeleton_img = skeletonize(binary_img)\n",
    "    skeleton_img = remove_branches(skeleton_img)\n",
    "    labeled_img = label(skeleton_img,connectivity=2)\n",
    "    smoothed_img = create_smooththeta(labeled_img)\n",
    "    smoothed_img += np.pi/2\n",
    "    smoothed_img[smoothed_img>np.pi/2] %= -np.pi/2\n",
    "    smoothed_filled = cg.grow_complete(smoothed_img,growth_anisotropy=2,pi_mutate=np.deg2rad(2),c_mutate=np.deg2rad(2),return_all=False)\n",
    "#     try:\n",
    "#     smoothed_filled[binary_img] = np.nan\n",
    "    smoothed_filled -= np.pi/2\n",
    "    smoothed_filled[smoothed_filled < -np.pi/2] %= np.pi/2\n",
    "\n",
    "    return smoothed_filled, binary_img"
   ]
  }
 ],
 "metadata": {
  "kernelspec": {
   "display_name": "Python 3 (ipykernel)",
   "language": "python",
   "name": "python3"
  },
  "language_info": {
   "codemirror_mode": {
    "name": "ipython",
    "version": 3
   },
   "file_extension": ".py",
   "mimetype": "text/x-python",
   "name": "python",
   "nbconvert_exporter": "python",
   "pygments_lexer": "ipython3",
   "version": "3.10.4"
  }
 },
 "nbformat": 4,
 "nbformat_minor": 5
}
