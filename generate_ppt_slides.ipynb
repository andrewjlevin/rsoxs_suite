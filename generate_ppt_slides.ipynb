{
 "cells": [
  {
   "cell_type": "markdown",
   "id": "75dba553-8354-46b0-84f9-98c05a9847e4",
   "metadata": {},
   "source": [
    "# Use python-pptx to generate powerpoint slides of data"
   ]
  },
  {
   "cell_type": "code",
   "execution_count": 1,
   "id": "afc9f64a-5264-40d0-bc60-7912e042a671",
   "metadata": {},
   "outputs": [],
   "source": [
    "# Imports: \n",
    "import pathlib\n",
    "from pptx import Presentation\n",
    "from pptx.util import Inches, Pt\n",
    "from pptx.enum.text import PP_ALIGN\n",
    "from tqdm.auto import tqdm"
   ]
  },
  {
   "cell_type": "code",
   "execution_count": 2,
   "id": "5451c281-b958-4aa2-a92c-2f4e38b2953d",
   "metadata": {},
   "outputs": [],
   "source": [
    "# Define paths:\n",
    "imagePaths = pathlib.Path('/Users/andrew/Library/CloudStorage/OneDrive-UCB-O365/research/data_analysis/rsoxs_suite/prsoxs_plots/2023C2')\n",
    "linecutMapsPath = imagePaths.joinpath('linecut_maps_v3')\n",
    "arMapsPath = imagePaths.joinpath('ar_maps_v3')\n",
    "ISIsPath = imagePaths.joinpath('isi_v3')\n",
    "moviePaths = imagePaths.joinpath('detector_movies')\n",
    "\n",
    "outPath = pathlib.Path('/Users/andrew/Library/CloudStorage/OneDrive-UCB-O365/research/presentations/OPV_meetings')"
   ]
  },
  {
   "cell_type": "code",
   "execution_count": 5,
   "id": "1c38f6fe-0db6-4aeb-9787-b60ac168957c",
   "metadata": {},
   "outputs": [
    {
     "data": {
      "application/vnd.jupyter.widget-view+json": {
       "model_id": "ddd252095f194184aef9a58a0239dbd8",
       "version_major": 2,
       "version_minor": 0
      },
      "text/plain": [
       "  0%|          | 0/62 [00:00<?, ?it/s]"
      ]
     },
     "metadata": {},
     "output_type": "display_data"
    }
   ],
   "source": [
    "# Generate slides:\n",
    "\n",
    "prs = Presentation()\n",
    "\n",
    "# Set slide dimensions for widescreen 16:9 aspect ratio\n",
    "prs.slide_width = Inches(13.333)  # Width\n",
    "prs.slide_height = Inches(7.5)    # Height\n",
    "\n",
    "slide_layout = prs.slide_layouts[5]\n",
    "\n",
    "for moviePath in tqdm(sorted(moviePaths.glob('*'))):\n",
    "    # Select appropriate path for each file\n",
    "    fname_list = moviePath.name.split('_')\n",
    "    pol_str = fname_list[-1][:-4]\n",
    "    if pol_str == 'pol0deg':\n",
    "        pol_orientation = 'Horizontal'\n",
    "    elif pol_str == 'pol90deg':\n",
    "        pol_orientation = 'Vertical'\n",
    "    if len(fname_list) == 6:\n",
    "        sample_name_list = fname_list[0:3]\n",
    "        joined_sample_name = '_'.join(sample_name_list)\n",
    "        linecutMapPath = list(linecutMapsPath.glob(f'{joined_sample_name}*{pol_str}*'))[0]\n",
    "        arMapPath = list(arMapsPath.glob(f'{joined_sample_name}*{pol_str}*'))[0]\n",
    "        ISIPath = list(ISIsPath.glob(f'{joined_sample_name}*{pol_str}*'))[0]\n",
    "    elif len(fname_list) == 7:\n",
    "        sample_name_list = fname_list[0:4]\n",
    "        joined_sample_name = '_'.join(sample_name_list)\n",
    "        linecutMapPath = list(linecutMapsPath.glob(f'{joined_sample_name}*{pol_str}*'))[0]\n",
    "        arMapPath = list(arMapsPath.glob(f'{joined_sample_name}*{pol_str}*'))[0]\n",
    "        ISIPath = list(ISIsPath.glob(f'{joined_sample_name}*{pol_str}*'))[0]\n",
    "    elif len(fname_list) == 4:\n",
    "        joined_sample_name = fname_list[0]\n",
    "        linecutMapPath = list(linecutMapsPath.glob(f'{joined_sample_name}*{pol_str}*'))[0]\n",
    "        arMapPath = list(arMapsPath.glob(f'{joined_sample_name}*{pol_str}*'))[0]\n",
    "        ISIPath = list(ISIsPath.glob(f'{joined_sample_name}*{pol_str}*'))[0]\n",
    "        \n",
    "    # Add slide \n",
    "    slide = prs.slides.add_slide(slide_layout)\n",
    "    \n",
    "    # Formate title\n",
    "    title = slide.shapes.title\n",
    "    title.left = Inches(0.22)\n",
    "    title.top = Inches(0.4)\n",
    "    title.width = Inches(4.8)\n",
    "    title.height = Inches(2.91)\n",
    "    title.text = f'Sample:\\n{joined_sample_name}\\n\\n{pol_orientation} X-ray Polarization'\n",
    "    for paragraph in title.text_frame.paragraphs:\n",
    "        paragraph.alignment = PP_ALIGN.LEFT\n",
    "        paragraph.font.size = Pt(36)\n",
    "        \n",
    "    # Define image positions (these are just placeholders, adjust as necessary)\n",
    "    left_movie = Inches(0)\n",
    "    top_movie = Inches(3.41)\n",
    "    height_movie = Inches(4.09)\n",
    "    width_movie = Inches(5)\n",
    "    \n",
    "    left_linecutMap = Inches(5.08)\n",
    "    top_linecutMap = Inches(3.5)\n",
    "    height_linecutMap = Inches(3.75)\n",
    "\n",
    "    left_arMap = Inches(5)\n",
    "    top_arMap = Inches(0.25)\n",
    "    height_arMap = Inches(3)    \n",
    "\n",
    "    left_ISI = Inches(9.45)\n",
    "    top_ISI = Inches(0.25)\n",
    "    height_ISI = Inches(3)\n",
    "    \n",
    "    # Add images to the slide\n",
    "    slide.shapes.add_movie(str(moviePath), left_movie, top_movie, height=height_movie, width=width_movie, mime_type='video/mp4')\n",
    "    slide.shapes.add_picture(str(linecutMapPath), left_linecutMap, top_linecutMap, height=height_linecutMap)\n",
    "    slide.shapes.add_picture(str(arMapPath), left_arMap, top_arMap, height=height_arMap)\n",
    "    slide.shapes.add_picture(str(ISIPath), left_ISI, top_ISI, height=height_ISI)\n",
    "        \n",
    "prs.save(outPath.joinpath('2023-09-05_2023C2_carbon_prsoxs_summary.pptx'))"
   ]
  },
  {
   "cell_type": "code",
   "execution_count": null,
   "id": "1466cbf4-6ac3-458b-9bdd-5ae69534a686",
   "metadata": {},
   "outputs": [],
   "source": []
  }
 ],
 "metadata": {
  "kernelspec": {
   "display_name": "Python 3 (ipykernel)",
   "language": "python",
   "name": "python3"
  },
  "language_info": {
   "codemirror_mode": {
    "name": "ipython",
    "version": 3
   },
   "file_extension": ".py",
   "mimetype": "text/x-python",
   "name": "python",
   "nbconvert_exporter": "python",
   "pygments_lexer": "ipython3",
   "version": "3.10.4"
  }
 },
 "nbformat": 4,
 "nbformat_minor": 5
}
