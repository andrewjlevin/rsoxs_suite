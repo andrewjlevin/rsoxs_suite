{
 "cells": [
  {
   "cell_type": "markdown",
   "id": "d0f6120e-f0d4-47ed-9359-500873b47a43",
   "metadata": {},
   "source": [
    "# Generate CyRSoXS files\n",
    "* Load morphology data as numpy arrays\n",
    "* Add relevant parameters for Euler Morphology structure\n",
    "* Save morphology hdf5\n",
    "* Load optical constants data for materials\n",
    "* Write optical constants to correctly formatted .txt files\n",
    "* Write configuration file for CyRSoXS simulation instructions "
   ]
  },
  {
   "cell_type": "code",
   "execution_count": null,
   "id": "42cdc777-945f-4f8c-8249-4ddc64852c0b",
   "metadata": {
    "tags": []
   },
   "outputs": [],
   "source": [
    "### Imports:\n",
    "import numpy as np\n",
    "import matplotlib.pyplot as plt\n",
    "import sys\n",
    "import pathlib\n",
    "from skimage.filters import sobel_v, sobel_h, sobel, gaussian\n",
    "\n",
    "# import PyHyperScattering as phs\n",
    "# from PyHyperScattering.load import cyrsoxsLoader as load\n",
    "# from PyHyperScattering.integrate import WPIntegrator as integ\n",
    "# print(f'Using PyHyperScattering version: {phs.__version__}')\n",
    "\n",
    "# sys.path.append('/Users/andrew/onedriveCU/research/data_analysis/repos/NRSS')\n",
    "from NRSS.writer import write_materials, write_hdf5, write_config, write_slurm\n",
    "from NRSS.visualizer import morphology_visualizer\n",
    "from NRSS.morphology import Morphology"
   ]
  },
  {
   "cell_type": "code",
   "execution_count": null,
   "id": "caf52468-00b7-439c-895d-b3f4356daf4b",
   "metadata": {
    "tags": []
   },
   "outputs": [],
   "source": [
    "np.sqrt(200*200*10)"
   ]
  },
  {
   "cell_type": "code",
   "execution_count": null,
   "id": "71a321e5-8fba-4907-b69b-e5cc1186dc3d",
   "metadata": {
    "tags": []
   },
   "outputs": [],
   "source": [
    "(500**2)/6250"
   ]
  },
  {
   "cell_type": "code",
   "execution_count": null,
   "id": "ba05ef1a-a3c0-412d-b231-b88dd2277aab",
   "metadata": {
    "tags": []
   },
   "outputs": [],
   "source": [
    "(632**2)/4000"
   ]
  },
  {
   "cell_type": "code",
   "execution_count": null,
   "id": "69699498-6d0b-4e02-adb9-205b676ce549",
   "metadata": {
    "tags": []
   },
   "outputs": [],
   "source": [
    "(200*200*10)/816"
   ]
  },
  {
   "cell_type": "code",
   "execution_count": null,
   "id": "cbb461ad-5ff7-44aa-b643-6cc0ce14749b",
   "metadata": {
    "tags": []
   },
   "outputs": [],
   "source": [
    "(5*34)"
   ]
  },
  {
   "cell_type": "markdown",
   "id": "e565c13f-55a9-4224-aabd-0188b9507902",
   "metadata": {},
   "source": [
    "3 nodes & 102 total cores good for 3d morphs 134x134x10 vox"
   ]
  },
  {
   "cell_type": "code",
   "execution_count": null,
   "id": "ef5c0e7a-a813-4dd2-841b-f14f1c5c0d32",
   "metadata": {
    "tags": []
   },
   "outputs": [],
   "source": [
    "vpc2eff = {}  # voxels per core to seff for running 3d models"
   ]
  },
  {
   "cell_type": "code",
   "execution_count": null,
   "id": "d6a628e4-c90a-4f52-ba06-eb94d5943101",
   "metadata": {
    "tags": []
   },
   "outputs": [],
   "source": [
    "vox = (134**2*10)\n",
    "cores = 100\n",
    "\n",
    "print(f'voxels = {vox}')\n",
    "print(f'cores = {cores}')\n",
    "print(f'voxels per core = {int(vox/cores)}')"
   ]
  },
  {
   "cell_type": "markdown",
   "id": "3e329727-fb3a-4ffc-ab47-4240abc113e9",
   "metadata": {},
   "source": [
    "### Run morph gen"
   ]
  },
  {
   "cell_type": "code",
   "execution_count": null,
   "id": "80996f39-b7ee-430a-888f-2c74bfc2c517",
   "metadata": {
    "tags": []
   },
   "outputs": [],
   "source": [
    "## This was only true for 40x40x10 vox, cant get to run at 200x200x10\n",
    "\n",
    "vpc2eff[int(vox/cores)] = (65.80, 'fast! 19 seconds')\n",
    "\n",
    "print('Voxels per Core | CPU Efficiency')\n",
    "for k, v in vpc2eff.items():\n",
    "    print(f'{k:>15} | {v}')"
   ]
  },
  {
   "cell_type": "markdown",
   "id": "35eb6975-08ac-405f-ab6b-b9e88039a98d",
   "metadata": {},
   "source": [
    "For 2D morphologies, 4 nodes * 25 cores/node was good for large 632x632 \n"
   ]
  },
  {
   "cell_type": "code",
   "execution_count": null,
   "id": "dccba525-ad03-44b5-8152-465f81884bd8",
   "metadata": {
    "tags": []
   },
   "outputs": [],
   "source": [
    "500/60"
   ]
  },
  {
   "cell_type": "code",
   "execution_count": null,
   "id": "4fba4b83-16a9-436d-beb2-bb80691c1263",
   "metadata": {
    "tags": []
   },
   "outputs": [],
   "source": [
    "### Define paths:\n",
    "notebookPath = pathlib.Path.cwd()\n",
    "rootPath = notebookPath.parent\n",
    "morphsPath = notebookPath.joinpath('fipy_morphs/2D')\n",
    "optsPath = rootPath.joinpath('nexafs_analysis/optical_constants')\n",
    "\n",
    "### Set colormap:\n",
    "cmap = plt.cm.YlGnBu_r.copy()"
   ]
  },
  {
   "cell_type": "code",
   "execution_count": null,
   "id": "d75054c7-beec-46ab-bce8-971a0f5ddca2",
   "metadata": {},
   "outputs": [],
   "source": [
    "optsPath"
   ]
  },
  {
   "cell_type": "code",
   "execution_count": null,
   "id": "489a0303-44bb-4a02-b74a-8078be088e91",
   "metadata": {
    "tags": []
   },
   "outputs": [],
   "source": [
    "sorted([f.name for f in optsPath.glob('*')])"
   ]
  },
  {
   "cell_type": "code",
   "execution_count": null,
   "id": "2b5d74e2-bad5-4b35-b088-0655eda61e2a",
   "metadata": {
    "tags": []
   },
   "outputs": [],
   "source": [
    "sorted([f.name for f in morphsPath.glob('*steps*.txt')])"
   ]
  },
  {
   "cell_type": "code",
   "execution_count": null,
   "id": "f4dd3004-50c4-406e-a472-70e43b307bbc",
   "metadata": {
    "tags": []
   },
   "outputs": [],
   "source": [
    "morph = np.loadtxt(list(morphsPath.glob('200*500steps*1.txt'))[0])\n",
    "morph_bin = np.loadtxt(list(morphsPath.glob('200*500steps*y.txt'))[0])"
   ]
  },
  {
   "cell_type": "code",
   "execution_count": null,
   "id": "60ad31c2-38c7-40ab-b7a0-9a6c8240769e",
   "metadata": {
    "tags": []
   },
   "outputs": [],
   "source": [
    "from matplotlib_inline.backend_inline import set_matplotlib_formats"
   ]
  },
  {
   "cell_type": "code",
   "execution_count": null,
   "id": "7b5aa878-9e1a-42da-afb9-abc4998d2f3e",
   "metadata": {
    "tags": []
   },
   "outputs": [],
   "source": [
    "set_matplotlib_formats('svg')"
   ]
  },
  {
   "cell_type": "code",
   "execution_count": null,
   "id": "13b92229-cf2a-447a-b374-458324a35152",
   "metadata": {
    "tags": []
   },
   "outputs": [],
   "source": [
    "plt.imshow(morph, origin='lower', cmap=cmap, extent=(0, 100, 0, 100))\n",
    "plt.xlabel('[nm]')\n",
    "plt.ylabel('[nm]')\n",
    "plt.colorbar(label='Material Volume Fraction')"
   ]
  },
  {
   "cell_type": "code",
   "execution_count": null,
   "id": "1a338cc0-c3c9-483a-b40e-2c26b8d498ee",
   "metadata": {},
   "outputs": [],
   "source": [
    "### Define volume fraction, S, theta, and psi arrays. Let mat1 be the donor and mat2 be the acceptor:\n",
    "mat1_vfrac = morph\n",
    "mat1_S = np.zeros(morph.shape)\n",
    "mat1_theta = np.zeros(morph.shape)\n",
    "mat1_psi = np.zeros(morph.shape)\n",
    "\n",
    "mat2_vfrac = 1-morph\n",
    "mat2_S = np.zeros(morph.shape)\n",
    "mat2_theta = np.zeros(morph.shape)\n",
    "mat2_psi = np.zeros(morph.shape)"
   ]
  },
  {
   "cell_type": "code",
   "execution_count": null,
   "id": "07ce5c46-3536-49f3-a318-eaca532b5300",
   "metadata": {
    "tags": []
   },
   "outputs": [],
   "source": [
    "### Reshape to (Z, Y, X):\n",
    "mat1_vfrac = np.reshape(mat1_vfrac, (1, morph.shape[1], morph.shape[0]))\n",
    "mat1_S = np.reshape(mat1_S, (1, morph.shape[1], morph.shape[0]))\n",
    "mat1_theta = np.reshape(mat1_theta, (1, morph.shape[1], morph.shape[0]))\n",
    "mat1_psi = np.reshape(mat1_psi, (1, morph.shape[1], morph.shape[0]))\n",
    "\n",
    "mat2_vfrac = np.reshape(mat2_vfrac, (1, morph.shape[1], morph.shape[0]))\n",
    "mat2_S = np.reshape(mat2_S, (1, morph.shape[1], morph.shape[0]))\n",
    "mat2_theta = np.reshape(mat2_theta, (1, morph.shape[1], morph.shape[0]))\n",
    "mat2_psi = np.reshape(mat2_psi, (1, morph.shape[1], morph.shape[0]))\n"
   ]
  },
  {
   "cell_type": "code",
   "execution_count": null,
   "id": "7466b7b5-001f-46d4-90c0-f34c155a4e5a",
   "metadata": {
    "tags": []
   },
   "outputs": [],
   "source": [
    "write_hdf5([[mat1_vfrac, mat1_S, mat1_theta, mat1_psi], [mat2_vfrac, mat2_S, mat2_theta, mat2_psi]],\n",
    "           PhysSize=1.0, fname=H5morphPath.joinpath('350x350pix_500x500size_500steps_D1_a1_epsilon1.hdf5'))"
   ]
  },
  {
   "cell_type": "code",
   "execution_count": null,
   "id": "8817a91c-7867-4eac-8b08-e748ecb88246",
   "metadata": {
    "tags": []
   },
   "outputs": [],
   "source": [
    "morph_obj = Morphology.load_morph_hdf5(H5morphPath.joinpath('350x350pix_500x500size_500steps_D1_a1_epsilon1.hdf5'))\n",
    "morph_obj.materials[1].name = 'PM6'\n",
    "morph_obj.materials[1].name = 'Y6'\n",
    "morphology_visualizer(morph_obj, vfrac_cmap=cmap)"
   ]
  },
  {
   "cell_type": "code",
   "execution_count": null,
   "id": "04b2a2f1-82ac-47a7-ab85-9cf351ebfea8",
   "metadata": {
    "tags": []
   },
   "outputs": [],
   "source": [
    "energies = np.round(np.arange(275,300,0.1),1)\n",
    "\n",
    "material_dict = {'Material1': optsPath.joinpath('PM6_molecular.txt'), \n",
    "                 'Material2': optsPath.joinpath('Y6_molecular.txt')}\n",
    "energy_dict = {\n",
    "    'Energy': 0,\n",
    "    'DeltaPara': 1,\n",
    "    'BetaPara': 2,\n",
    "    'DeltaPerp': 3,\n",
    "    'BetaPerp': 4\n",
    "}\n",
    "\n",
    "write_materials(energies, material_dict, energy_dict, 2)\n",
    "\n"
   ]
  },
  {
   "cell_type": "code",
   "execution_count": null,
   "id": "e053c2c9-1705-4285-910a-bdb6340814d7",
   "metadata": {},
   "outputs": [],
   "source": []
  }
 ],
 "metadata": {
  "kernelspec": {
   "display_name": "nrss",
   "language": "python",
   "name": "nrss"
  },
  "language_info": {
   "codemirror_mode": {
    "name": "ipython",
    "version": 3
   },
   "file_extension": ".py",
   "mimetype": "text/x-python",
   "name": "python",
   "nbconvert_exporter": "python",
   "pygments_lexer": "ipython3",
   "version": "3.9.0"
  }
 },
 "nbformat": 4,
 "nbformat_minor": 5
}
