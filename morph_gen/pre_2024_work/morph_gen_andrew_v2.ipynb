{
 "cells": [
  {
   "cell_type": "markdown",
   "metadata": {},
   "source": [
    "# Morphology Generation"
   ]
  },
  {
   "cell_type": "markdown",
   "metadata": {},
   "source": [
    "## Imports:"
   ]
  },
  {
   "cell_type": "code",
   "execution_count": null,
   "metadata": {
    "tags": []
   },
   "outputs": [],
   "source": [
    "%load_ext autoreload\n",
    "%autoreload 2"
   ]
  },
  {
   "cell_type": "code",
   "execution_count": null,
   "metadata": {
    "tags": []
   },
   "outputs": [],
   "source": [
    "import matplotlib.pyplot as plt\n",
    "import numpy as np\n",
    "import sys\n",
    "import pathlib"
   ]
  },
  {
   "cell_type": "code",
   "execution_count": null,
   "metadata": {
    "tags": []
   },
   "outputs": [],
   "source": [
    "notebookPath = pathlib.Path.cwd()\n",
    "nrssPath = notebookPath.parent.joinpath('repos', 'NRSS')"
   ]
  },
  {
   "cell_type": "code",
   "execution_count": null,
   "metadata": {
    "tags": []
   },
   "outputs": [],
   "source": [
    "sys.path.append(nrssPath)\n",
    "sys.path"
   ]
  },
  {
   "cell_type": "code",
   "execution_count": null,
   "metadata": {
    "tags": []
   },
   "outputs": [],
   "source": [
    "from NRSS.writer import write_materials, write_hdf5, write_config, write_slurm"
   ]
  },
  {
   "cell_type": "code",
   "execution_count": null,
   "metadata": {},
   "outputs": [],
   "source": [
    "# # Imports, following example from Peter's coreshell tutorial (plus EulerMGs and NSFopen)\n",
    "# import matplotlib.pyplot as plt\n",
    "# import numpy as np\n",
    "# import xarray as xr\n",
    "# import pandas as pd\n",
    "# import sys, pathlib, h5py\n",
    "# from skimage.filters import sobel_v, sobel_h, sobel, gaussian\n",
    "# import lib.checkh5 as chk\n",
    "# import lib.EulerMGs as EMG\n",
    "# from lib.util import write_euler_hdf5, write_config\n",
    "# from lib.reduce import read_img_h5, remesh  # Ignore WARNING: ... Unable to import pyOpenCL\n",
    "# from lib.generateConstants import write_materials\n",
    "# from NSFopen.read import read as afmreader\n",
    "\n",
    "# from matplotlib_inline.backend_inline import set_matplotlib_formats\n",
    "# set_matplotlib_formats('svg')"
   ]
  },
  {
   "cell_type": "markdown",
   "metadata": {},
   "source": [
    "# Import and binarize AFM images"
   ]
  },
  {
   "cell_type": "code",
   "execution_count": null,
   "metadata": {},
   "outputs": [],
   "source": [
    "# Specify working directory\n",
    "notebookPath = pathlib.Path.cwd()\n",
    "afmPath = notebookPath.joinpath('afm', '2022-2')\n",
    "\n",
    "# Import AFM file locations as list\n",
    "AFMs = sorted(list(afmPath.glob('*.nid')))\n",
    "display(pd.Series([f.name for f in AFMs]))"
   ]
  },
  {
   "cell_type": "code",
   "execution_count": null,
   "metadata": {},
   "outputs": [],
   "source": [
    "AFMs"
   ]
  },
  {
   "cell_type": "code",
   "execution_count": null,
   "metadata": {},
   "outputs": [],
   "source": [
    "AFMs[0]"
   ]
  },
  {
   "cell_type": "code",
   "execution_count": null,
   "metadata": {},
   "outputs": [],
   "source": [
    "# Read AFM images\n",
    "AFM_phase1 = afmreader(AFMs[0]).data['Image']['Forward']['Phase'].astype(float)\n",
    "AFM_phase2 = afmreader(AFMs[7]).data['Image']['Forward']['Phase'].astype(float)\n",
    "\n",
    "# Plotting and binarizing AFM images using EMG.process_image\n",
    "fig, ax = plt.subplots(2, 2)\n",
    "fig.set(size_inches=(10,10))\n",
    "ax[0][0].imshow(AFM_phase1, origin='lower')\n",
    "ax[0][1].imshow(AFM_phase2, origin='lower')\n",
    "ax[1][0].imshow(EMG.process_image(AFM_phase1, block_size=7, filter_size=5)[0], origin='lower', cmap='gray')\n",
    "ax[1][1].imshow(EMG.process_image(AFM_phase2, block_size=71, filter_size=7)[1], origin='lower', cmap='gray')\n",
    "\n",
    "for i in (0,1):\n",
    "    for j in (0,1):\n",
    "        ax[i][j].axes.get_yaxis().set_visible(False)\n",
    "        ax[i][j].axes.get_xaxis().set_visible(False)\n",
    "\n",
    "plt.show()"
   ]
  },
  {
   "cell_type": "code",
   "execution_count": null,
   "metadata": {},
   "outputs": [],
   "source": [
    "binarized = AFM_phase1.copy()\n",
    "binarized[binarized < binarized.mean()] = 0.\n",
    "binarized[binarized > binarized.mean()] = 1."
   ]
  },
  {
   "cell_type": "code",
   "execution_count": null,
   "metadata": {},
   "outputs": [],
   "source": [
    "plt.imshow(binarized)"
   ]
  },
  {
   "cell_type": "code",
   "execution_count": null,
   "metadata": {},
   "outputs": [],
   "source": [
    "# Save binarized array(s) if satisfied with how they appear:\n",
    "# Here I've chosen the AFM of my nexafs material, AFM1 (smaller domains)\n",
    "AFM_binary = EMG.process_image(AFM_phase1, block_size=7, filter_size=5)[0]"
   ]
  },
  {
   "cell_type": "code",
   "execution_count": null,
   "metadata": {},
   "outputs": [],
   "source": [
    "AFM_binary.shape"
   ]
  },
  {
   "cell_type": "markdown",
   "metadata": {},
   "source": [
    "## Add orientation and mixing(?) at boundaries"
   ]
  },
  {
   "cell_type": "code",
   "execution_count": null,
   "metadata": {},
   "outputs": [],
   "source": [
    "angles = np.arctan2(-sobel_h(AFM_binary),-sobel_v(AFM_binary))\n",
    "angles_smoothed = np.arctan2(-sobel_h(gaussian(AFM_binary,sigma=1)),-sobel_v(gaussian(AFM_binary,sigma=1)))\n",
    "\n",
    "# Plot/check it \n",
    "fig, ax = plt.subplots(2,3,dpi=140,figsize=(6,4),constrained_layout=True)\n",
    "fig.set(size_inches=(10,5))\n",
    "ax = ax.flatten()\n",
    "ax[0].imshow(AFM_binary,origin='lower',interpolation='none')\n",
    "ax[3].imshow(gaussian(AFM_binary, sigma=2),origin='lower',interpolation='none')\n",
    "ax[1].imshow(sobel(AFM_binary),origin='lower',interpolation='none')\n",
    "ax[4].imshow(sobel(gaussian(AFM_binary, sigma=2)),origin='lower',interpolation='none')\n",
    "ax[2].imshow(angles,origin='lower',cmap='hsv',interpolation='none')\n",
    "ax[5].imshow(angles_smoothed,origin='lower',cmap='hsv',interpolation='none')\n",
    "ax[0].set_ylabel('Unsmoothed')\n",
    "ax[3].set_ylabel(r'Gaussian Blur, $\\sigma$ = 1')\n",
    "\n",
    "ax[0].set_title('Raw binarized plots')\n",
    "ax[1].set_title('Sobel Filter')\n",
    "ax[2].set_title('Sobel Filter with Orientation')\n",
    "plt.show()"
   ]
  },
  {
   "cell_type": "code",
   "execution_count": null,
   "metadata": {},
   "outputs": [],
   "source": [
    "# Define boundary of domains:\n",
    "boundaries = sobel(gaussian(AFM_binary, sigma=0.3))>0\n",
    "\n",
    "# Create Euler arrays\n",
    "theta = np.zeros(AFM_binary.shape)\n",
    "psi = theta.copy()\n",
    "\n",
    "# Use Boolean indexing to only grab the orientation in the shell region\n",
    "theta[boundaries] = np.pi/2\n",
    "psi[boundaries] = angles_smoothed[boundaries]\n",
    "\n",
    "# Bound orientation angles from 0 to pi for visualization, Cy-RSoXS woiuld accept any angle\n",
    "psi = np.mod(psi,np.pi)"
   ]
  },
  {
   "cell_type": "code",
   "execution_count": null,
   "metadata": {},
   "outputs": [],
   "source": [
    "# Generate arrays for making .hdf5 cartoon file (needs Vfrac, order parameter (S), psi, and theta)\n",
    "# Important: shape needs to be (1,dim,dim) and the dtype must be floats!\n",
    "dim = AFM_binary.shape[0]  # Size of arrays\n",
    "\n",
    "mat1_Vfrac = AFM_binary.copy().astype(float)  # Volume fraction of one domain material\n",
    "mat1_Vfrac.shape = (1,dim,dim)\n",
    "mat1_S = boundaries.copy().astype(float)  # alignment magnitude for polyethylene. Only the shell is aligned.\n",
    "mat1_S.shape = (1,dim,dim)\n",
    "mat1_psi = np.reshape(psi, (1,dim,dim))\n",
    "mat1_theta = np.reshape(theta, (1,dim,dim))\n",
    "\n",
    "mat2_Vfrac = np.ones(mat1_Vfrac.shape)\n",
    "mat2_Vfrac -= mat1_Vfrac \n",
    "mat2_Vfrac.shape = (1,dim,dim)\n",
    "mat2_S = mat1_S  \n",
    "mat2_S.shape = (1,dim,dim)\n",
    "mat2_theta = mat1_theta.copy()\n",
    "mat2_psi = mat1_psi.copy()  # Assumes same in-plane alignment for both materials\n",
    "\n",
    "# PhysSize = Voxel size, these AFM images are 500x500nm with 256x256 pixels\n",
    "PhysSize = round((400/1024),2)"
   ]
  },
  {
   "cell_type": "code",
   "execution_count": null,
   "metadata": {},
   "outputs": [],
   "source": [
    "write_euler_hdf5([[mat1_Vfrac, mat1_S, mat1_theta, mat1_psi], [mat2_Vfrac, mat2_S, mat2_theta, mat2_psi]], PhysSize, 'BHJ.hdf5')"
   ]
  },
  {
   "cell_type": "code",
   "execution_count": null,
   "metadata": {},
   "outputs": [],
   "source": [
    "set_matplotlib_formats('png')\n",
    "chk.checkH5('BHJ.hdf5',z_slice=0,plotstyle='dark')"
   ]
  },
  {
   "cell_type": "markdown",
   "metadata": {},
   "source": [
    "# Good initial morphology guess? \n",
    "#### Now generate the Material.txt files from the para and perp dielectric functions and to make the config.txt file to tell CyRSoXS what to simulate."
   ]
  },
  {
   "cell_type": "code",
   "execution_count": null,
   "metadata": {},
   "outputs": [],
   "source": [
    "nexafsPath = notebookPath.joinpath('cyrsoxs_nexafs')\n",
    "\n",
    "# Input paths to dielectric function files and put into dictionary for generating CyRSoXS-readable files\n",
    "mat1_dielectric_file = list(nexafsPath.glob('nexafs2*'))[0]\n",
    "mat2_dielectric_file = list(nexafsPath.glob('nexafs3*'))[0]\n",
    "material_dict = {'Material1': mat1_dielectric_file,'Material2': mat2_dielectric_file} \n",
    "\n",
    "# Structure of material dielectric fxn files\n",
    "energy_dict = {'Energy':0, 'DeltaPara':1, 'DeltaPerp':2, 'BetaPara':3, 'BetaPerp':4}\n",
    "\n",
    "# List all energies you want to simulate:\n",
    "energies = np.round(np.arange(275,300,0.1),1)"
   ]
  },
  {
   "cell_type": "code",
   "execution_count": null,
   "metadata": {},
   "outputs": [],
   "source": [
    "write_materials(energies, material_dict, energy_dict, 2)"
   ]
  },
  {
   "cell_type": "markdown",
   "metadata": {},
   "source": [
    "#### The config.txt file contains information on which energies and angles to run, as well as the type of morphology (Euler or Vector)."
   ]
  },
  {
   "cell_type": "code",
   "execution_count": null,
   "metadata": {},
   "outputs": [],
   "source": [
    "np.arange(0,1e-2+1e-4,1e-4)"
   ]
  },
  {
   "cell_type": "code",
   "execution_count": null,
   "metadata": {},
   "outputs": [],
   "source": [
    "# anlges = [start, increment, end] \n",
    "write_config(list(energies), [0.0, 1e-4, 1e-2], CaseType=0, MorphologyType=0)"
   ]
  },
  {
   "cell_type": "markdown",
   "metadata": {
    "tags": []
   },
   "source": [
    "## Now run CyRSoXS (submit slurm job)\n",
    "1. Move materials, config, and .hdf5 files into CURC folder\n",
    "2. Submit CyRSoXS job "
   ]
  },
  {
   "cell_type": "markdown",
   "metadata": {
    "jp-MarkdownHeadingCollapsed": true,
    "tags": []
   },
   "source": [
    "### Check output .h5 files in the generated HDF5 folder"
   ]
  },
  {
   "cell_type": "code",
   "execution_count": null,
   "metadata": {},
   "outputs": [],
   "source": [
    "h5Path = pathlib.Path(workPath,'HDF5')\n",
    "h5list = sorted(list(h5Path.glob('*h5')))"
   ]
  },
  {
   "cell_type": "markdown",
   "metadata": {},
   "source": [
    "#### The scattering pattern at each energy is written to a separate HDF5 (.h5) file. We can look at the keys in the file"
   ]
  },
  {
   "cell_type": "code",
   "execution_count": null,
   "metadata": {},
   "outputs": [],
   "source": [
    "def print_key(f, key):\n",
    "    try:\n",
    "        keys2 = f[key].keys()\n",
    "        for key2 in keys2:\n",
    "            new_key = key + '/' + key2\n",
    "            print_key(f, new_key)\n",
    "    except AttributeError:\n",
    "        print(key)\n",
    "\n",
    "with h5py.File(h5list[0],'r') as f:\n",
    "    for key in f.keys():\n",
    "        print_key(f, key)"
   ]
  },
  {
   "cell_type": "markdown",
   "metadata": {},
   "source": [
    "The scattering pattern is contained within 'K0/projection.' If you simulated multiple incident angles there would be additional 'K#' keys. KIDList contains the vector values for each of the incident angles (propagation direction)."
   ]
  },
  {
   "cell_type": "code",
   "execution_count": null,
   "metadata": {},
   "outputs": [],
   "source": [
    "# create numpy arrays to hold the scattering data\n",
    "all_data = np.zeros((len(h5list),512,512))\n",
    "# horizontal and vertical linecuts\n",
    "horz = np.zeros((len(h5list),363))\n",
    "vert = horz.copy()\n",
    "\n",
    "# read in data, remesh, and take sector cuts\n",
    "for i, file in enumerate(h5list):\n",
    "    data = read_img_h5(file)\n",
    "    remeshed_data = remesh(data)\n",
    "    horz[i,:] = remeshed_data.sel(chi=slice(-10,10)).mean('chi')\n",
    "    vert[i,:] = remeshed_data.sel(chi=slice(80,100)).mean('chi')\n",
    "    all_data[i,:,:] = data.values"
   ]
  },
  {
   "cell_type": "code",
   "execution_count": null,
   "metadata": {},
   "outputs": [],
   "source": [
    "# convert the numpy arrays into xarray dataframes for easier plotting/manipulation\n",
    "horz_da = xr.DataArray(horz,dims=['energy','q'],coords={'energy':energies,'q':remeshed_data.q})\n",
    "vert_da = xr.DataArray(vert,dims=['energy','q'],coords={'energy':energies,'q':remeshed_data.q})\n",
    "all_data = xr.DataArray(all_data,dims=['energy','Qy','Qx'],coords={'energy':energies,'Qy':data.Qy, 'Qx':data.Qx})"
   ]
  },
  {
   "cell_type": "code",
   "execution_count": null,
   "metadata": {},
   "outputs": [],
   "source": [
    "fig, ax = plt.subplots(1,3,figsize=(10,3),dpi=140,constrained_layout=True)\n",
    "all_data.sel(energy=275).plot(norm=LogNorm(1e-7,1),cmap='terrain',ax=ax[0],add_colorbar=False)\n",
    "all_data.sel(energy=284).plot(norm=LogNorm(1e-7,1),cmap='terrain',ax=ax[1],add_colorbar=False)\n",
    "all_data.sel(energy=287).plot(norm=LogNorm(1e-7,1),cmap='terrain',ax=ax[2])\n",
    "\n",
    "[{axes.set_xlim(-0.4,0.4),axes.set_ylim(-0.4,0.4)} for axes in ax]\n",
    "plt.show()"
   ]
  },
  {
   "cell_type": "code",
   "execution_count": null,
   "metadata": {},
   "outputs": [],
   "source": [
    "# calculate the anisotropy metric\n",
    "A = (vert_da - horz_da)/(vert_da + horz_da)"
   ]
  },
  {
   "cell_type": "code",
   "execution_count": null,
   "metadata": {},
   "outputs": [],
   "source": [
    "A.plot(cmap='bwr',vmin=-1,vmax=1)\n",
    "plt.xlim(1e-3)\n",
    "plt.xscale('log')"
   ]
  },
  {
   "cell_type": "code",
   "execution_count": null,
   "metadata": {},
   "outputs": [],
   "source": [
    "A.sel(energy=299,method='nearest').plot()"
   ]
  },
  {
   "cell_type": "code",
   "execution_count": null,
   "metadata": {},
   "outputs": [],
   "source": [
    "vert_da.plot(cmap='terrain',norm=LogNorm(1e-6,1e2))\n",
    "plt.xlim(1e-3)\n",
    "plt.xscale('log')"
   ]
  },
  {
   "cell_type": "code",
   "execution_count": null,
   "metadata": {},
   "outputs": [],
   "source": [
    "horz_da.plot(cmap='terrain',norm=LogNorm(1e-6,1e2))\n",
    "plt.xlim(1e-3)\n",
    "plt.xscale('log')"
   ]
  },
  {
   "cell_type": "code",
   "execution_count": null,
   "metadata": {},
   "outputs": [],
   "source": [
    "horz_da.sel(energy=275).plot(yscale='log',xscale='log')"
   ]
  },
  {
   "cell_type": "code",
   "execution_count": null,
   "metadata": {},
   "outputs": [],
   "source": [
    "horz_da.sel(energy=275).plot(xscale='log',yscale='log',label='275 eV Horizontal',color='tab:blue')\n",
    "vert_da.sel(energy=275).plot(xscale='log',yscale='log',label='275 eV Vertical',linestyle='--',color='tab:blue')\n",
    "horz_da.sel(energy=284,method='nearest').plot(xscale='log',yscale='log',label='284 eV Horizontal',color='tab:orange')\n",
    "vert_da.sel(energy=284).plot(xscale='log',yscale='log',label='275 eV Vertical',linestyle='--',color='tab:orange')\n",
    "horz_da.sel(energy=287,method='nearest').plot(xscale='log',yscale='log',label='287 eV Horizontal',color='tab:green')\n",
    "vert_da.sel(energy=287).plot(xscale='log',yscale='log',label='275 eV Vertical',linestyle='--',color='tab:green')\n",
    "plt.legend()\n",
    "plt.xlabel(r'q [nm$^{-1}$]')\n",
    "plt.ylabel('I(q)')\n",
    "plt.show()"
   ]
  },
  {
   "cell_type": "markdown",
   "metadata": {},
   "source": [
    "#### If you want to look at the dielectric functions in the Material#.txt files"
   ]
  },
  {
   "cell_type": "code",
   "execution_count": null,
   "metadata": {},
   "outputs": [],
   "source": [
    "def read_material(filename):\n",
    "    with open(filename,'r') as f:\n",
    "        lines = f.readlines()\n",
    "    Energy = []\n",
    "    betapara = []\n",
    "    betaperp = []\n",
    "    deltapara = []\n",
    "    deltaperp = []\n",
    "    for line in lines:\n",
    "        if line.startswith('Energy '):\n",
    "            split_line = line.split(' = ')\n",
    "            Energy.append(float(split_line[1].strip(';\\n')))\n",
    "        elif line.startswith('BetaPara'):\n",
    "            split_line = line.split(' = ')\n",
    "            betapara.append(float(split_line[1].strip(';\\n')))\n",
    "        elif line.startswith('BetaPerp'):\n",
    "            split_line = line.split(' = ')\n",
    "            betaperp.append(float(split_line[1].strip(';\\n')))\n",
    "        elif line.startswith('DeltaPara'):\n",
    "            split_line = line.split(' = ')\n",
    "            deltapara.append(float(split_line[1].strip(';\\n')))\n",
    "        elif line.startswith('DeltaPerp'):\n",
    "            split_line = line.split(' = ')\n",
    "            deltaperp.append(float(split_line[1].strip(';\\n')))\n",
    "    para = [complex(delta, beta) for delta, beta in zip(deltapara, betapara)]\n",
    "    perp = [complex(delta, beta) for delta, beta in zip(deltaperp, betaperp)]\n",
    "    return np.array(Energy), np.array(para), np.array(perp)"
   ]
  },
  {
   "cell_type": "code",
   "execution_count": null,
   "metadata": {},
   "outputs": [],
   "source": [
    "energy, para, perp = read_material('Material1.txt')"
   ]
  },
  {
   "cell_type": "code",
   "execution_count": null,
   "metadata": {},
   "outputs": [],
   "source": [
    "plt.plot(energy,para.real,'.')\n",
    "plt.ylim(-0.0015,0.0025)"
   ]
  },
  {
   "cell_type": "markdown",
   "metadata": {},
   "source": [
    "#### Compare to the original file to make sure we've written each Material#.txt file correctly"
   ]
  },
  {
   "cell_type": "code",
   "execution_count": null,
   "metadata": {},
   "outputs": [],
   "source": [
    "Data = np.loadtxt('PEOlig2018.txt',skiprows=1);\n",
    "Data = Data[Data[:,energy_dict[\"Energy\"]].argsort()]"
   ]
  },
  {
   "cell_type": "code",
   "execution_count": null,
   "metadata": {},
   "outputs": [],
   "source": [
    "plt.figure(dpi=140)\n",
    "plt.plot(Data[:,6],Data[:,2])\n",
    "plt.plot(energy,para.real)\n",
    "plt.ylim(-0.0015,0.0025)\n",
    "plt.xlim(270,300)"
   ]
  }
 ],
 "metadata": {
  "kernelspec": {
   "display_name": "Python 3 (ipykernel)",
   "language": "python",
   "name": "python3"
  },
  "language_info": {
   "codemirror_mode": {
    "name": "ipython",
    "version": 3
   },
   "file_extension": ".py",
   "mimetype": "text/x-python",
   "name": "python",
   "nbconvert_exporter": "python",
   "pygments_lexer": "ipython3",
   "version": "3.11.6"
  }
 },
 "nbformat": 4,
 "nbformat_minor": 4
}
