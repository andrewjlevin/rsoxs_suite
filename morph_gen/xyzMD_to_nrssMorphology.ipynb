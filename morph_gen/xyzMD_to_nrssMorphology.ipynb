{
 "cells": [
  {
   "cell_type": "markdown",
   "id": "94702886-66fe-4c7a-b9be-c00338305fd6",
   "metadata": {},
   "source": [
    "# Notebook to go from MD output to NRSS morphology\n"
   ]
  },
  {
   "cell_type": "code",
   "execution_count": null,
   "id": "68349630-daf9-44f2-a9d8-b2a65304e870",
   "metadata": {},
   "outputs": [],
   "source": []
  }
 ],
 "metadata": {
  "kernelspec": {
   "display_name": "nrss",
   "language": "python",
   "name": "nrss"
  },
  "language_info": {
   "codemirror_mode": {
    "name": "ipython",
    "version": 3
   },
   "file_extension": ".py",
   "mimetype": "text/x-python",
   "name": "python",
   "nbconvert_exporter": "python",
   "pygments_lexer": "ipython3",
   "version": "3.9.0"
  }
 },
 "nbformat": 4,
 "nbformat_minor": 5
}
