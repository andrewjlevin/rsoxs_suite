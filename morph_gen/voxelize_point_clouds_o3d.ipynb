{
 "cells": [
  {
   "cell_type": "markdown",
   "id": "c674632f-6859-4283-87e2-c2ca82fbd5f3",
   "metadata": {},
   "source": [
    "# Voxelize fibril point clouds "
   ]
  },
  {
   "cell_type": "markdown",
   "id": "847dd7b3-bef3-4b86-aa6b-a977918941dc",
   "metadata": {},
   "source": [
    "## Imports & define paths & quick functions"
   ]
  },
  {
   "cell_type": "code",
   "execution_count": null,
   "id": "ce0e138f-8f7a-4316-be67-353207d1d6c6",
   "metadata": {
    "tags": []
   },
   "outputs": [],
   "source": [
    "# Imports\n",
    "import pathlib\n",
    "import numpy as np\n",
    "import matplotlib.pyplot as plt\n",
    "import open3d as o3d\n",
    "from scipy.spatial.transform import Rotation as R\n",
    "from tqdm import tqdm\n",
    "\n",
    "from custom_fibril_gen.custom_fibril_gen_parallel_v1 import *"
   ]
  },
  {
   "cell_type": "code",
   "execution_count": null,
   "id": "958c876d-11c6-4d67-b46c-a207ba26e91b",
   "metadata": {},
   "outputs": [],
   "source": [
    "# Define paths\n",
    "notebookPath = pathlib.Path.cwd()\n",
    "# RBDsPath = notebookPath.joinpath('blender_RBD_positions/RBD01_2.13umXY-0.1umZ-film_20nmXZ-100nmY-RBDs_300frames_0.1grav')\n",
    "# RBDsPath = notebookPath.joinpath('blender_RBD_positions/RBD02_40x200nmFibrils_2200x2200x275nmBox')\n",
    "RBDsPath = notebookPath.joinpath('blender_RBD_positions/RBD03_20x100nmFibrils_2200x2200x136nmBox')\n",
    "savePath = notebookPath.joinpath('open3d_outputs')"
   ]
  },
  {
   "cell_type": "code",
   "execution_count": null,
   "id": "22db86e7-a0a2-4503-9c22-a5e27bacbcf9",
   "metadata": {},
   "outputs": [],
   "source": [
    "# Define simple functions\n",
    "def to_s0to1(value, min=-180, max=180):\n",
    "    \"\"\"Adjust a linear scale from min to max to fit between 0 and 1\"\"\"\n",
    "    shift = 0 - min\n",
    "    max = max + shift\n",
    "    return (value + shift) / max\n",
    "\n",
    "def from_s0to1(value, min=-180, max=180):\n",
    "    \"\"\"Inverse of 'to_s0to1': Adjust a linear scale 0 to 1 to an arbitrary linear scale between min and max\"\"\"\n",
    "    shift = 0 + min\n",
    "    max = max - shift\n",
    "    return (value * max) + shift"
   ]
  },
  {
   "cell_type": "markdown",
   "id": "5eb97a92-74c7-4367-8beb-b2284f1a49e6",
   "metadata": {},
   "source": [
    "## Use open3D to build and visualize a point cloud"
   ]
  },
  {
   "cell_type": "markdown",
   "id": "23fd770e-2365-40c4-9e8e-69d2b50daf5a",
   "metadata": {
    "jp-MarkdownHeadingCollapsed": true
   },
   "source": [
    "### Load RBD coords & XYZ euler rotations"
   ]
  },
  {
   "cell_type": "code",
   "execution_count": null,
   "id": "33a310fa-5e20-46ce-a13c-cf16e14eb7f0",
   "metadata": {},
   "outputs": [],
   "source": [
    "RBDs = sorted(RBDsPath.glob('*.txt'))\n",
    "[f.name for f in RBDs]"
   ]
  },
  {
   "cell_type": "code",
   "execution_count": null,
   "id": "dbcfd8de-7ccd-478e-88b9-fd78cddcc247",
   "metadata": {},
   "outputs": [],
   "source": [
    "# RBD_coords = np.loadtxt(RBDs[-1]) * 10000 * 2  # convert um to Å, scale by factor of 2 in this case\n",
    "RBD_coords = np.loadtxt(RBDs[-1]) * 10000  # convert um to Å\n",
    "RBD_XYZrots = np.loadtxt(RBDs[0])"
   ]
  },
  {
   "cell_type": "markdown",
   "id": "c2d9a74f-6a0f-4681-9e5a-73d78b882e8c",
   "metadata": {
    "jp-MarkdownHeadingCollapsed": true
   },
   "source": [
    "### Generate & save a fibril folder for each RBD "
   ]
  },
  {
   "cell_type": "code",
   "execution_count": null,
   "id": "342b3c93-fe79-4f65-9f41-d19d54fbeb19",
   "metadata": {},
   "outputs": [],
   "source": [
    "# Diameter distribution\n",
    "targ_diam = 180  # diameter around which to pick a normal distribution in angstroms\n",
    "sigma = 5  # standard deviation about diameter above\n",
    "\n",
    "# Generate random distribution of diameters\n",
    "rng = np.random.default_rng()\n",
    "diams = rng.normal(loc=targ_diam, scale=sigma, size=RBD_coords.shape[0])\n",
    "diams = np.round(diams, 2)\n",
    "\n",
    "# Quick histogram check of distribution\n",
    "plt.hist(diams, bins=100)\n",
    "plt.show()"
   ]
  },
  {
   "cell_type": "code",
   "execution_count": null,
   "id": "69ca82f9-d567-4834-97f7-bb3eaa0735c9",
   "metadata": {},
   "outputs": [],
   "source": [
    "# Generate fibril folders:\n",
    "fibrilsPath = notebookPath.joinpath('custom_fibril_gen', f'RBD03_diam{targ_diam}sigma{sigma}_v1')\n",
    "expPath = notebookPath.joinpath('custom_fibril_gen', 'PM6_CF_sol636_buf635_emp614.txt')\n",
    "\n",
    "savepath = str(fibrilsPath)\n",
    "exp_path = str(expPath)\n",
    "\n",
    "num_fibrils = 1\n",
    "length = 1000\n",
    "flex = 0.01\n",
    "e_dense = 0.0001  # 1 electron per 21.5x21.5x21.5 Å box -> 0.0001006\n",
    "fuzz_length = 0\n",
    "fuzz_density = 0\n",
    "q_norm_idx = 9\n",
    "\n",
    "flexes_dict = {0.05:'0p05', 0.01:'0p01',0.005:'0p005', 0.001:'0p001', 0.0001:'0p0001'}\n",
    "dens_dict = {0.0001:'0p0001', 0.01:'0p01'}\n",
    "# for i, diam in enumerate(tqdm(diams)):\n",
    "#     for flex in flexes:\n",
    "#         flex_label = flexes_dict[flex]\n",
    "#         dens_label = dens_dict[e_dense]\n",
    "#         test_fibril_scattering_par(\n",
    "#             num_fibrils,length,diam,flex,e_dense,exp_path,\n",
    "#             savepath + f'/dtotal{diam}_length{length}_flex{flex_label}_edens{dens_label}_idx{i}/'\n",
    "#             )\n",
    "\n",
    "for i, diam in enumerate(tqdm(diams)):\n",
    "    flex_label = flexes_dict[flex]\n",
    "    test_fibril_scattering_par(\n",
    "        num_fibrils, length, diam, flex, e_dense, fuzz_density, fuzz_length, q_norm_idx, exp_path,\n",
    "        savepath + f'/dtotal{diam}_length{length}_flex{flex_label}_idx{i}/'\n",
    "        )"
   ]
  },
  {
   "cell_type": "code",
   "execution_count": null,
   "id": "dcf27bcc-6156-40fd-b83d-645acd76c313",
   "metadata": {},
   "outputs": [],
   "source": [
    "# def sq_vec(pos,qs):\n",
    "#     '''\n",
    "#     Calculates the scattering profile using the debye equation. \n",
    "\n",
    "#     Input\n",
    "#       pos = scatterer positions in 3D cartesian coordinates (nx3 array)\n",
    "#       qs = list of q values to evaluate scattering intensity at\n",
    "#     '''\n",
    "#     ### initialize sq array for same length of q-range\n",
    "#     nbins = len(qs)\n",
    "#     sq = np.zeros((nbins))\n",
    "#     ### number of atoms in fibril to be simulated\n",
    "#     natoms = len(pos)\n",
    "#     ### calculate contribution to scattering for each pair of atom\n",
    "#     for i in tqdm(range(natoms)):\n",
    "#         ### find displacements from current points to all subsequent points\n",
    "#         ### prevents double counting of displacements\n",
    "#         all_disp = pos[i,:]-pos[(i+1):,:]\n",
    "        \n",
    "#         ### calculate the distance from displacement vector ###\n",
    "#         rij = np.sqrt(np.sum(np.square(all_disp),axis=1))\n",
    "\n",
    "#         #create array of q vectors and radiuses\n",
    "#         qi = qs[np.newaxis,:]\n",
    "#         R = rij[:,np.newaxis]\n",
    "#         ### add scattering intensity contribution for given pair of atoms\n",
    "#         increment = np.sum(ne.evaluate(\"2*sin(R*qi)/(R*qi)\"),axis=0)\n",
    "#         print(increment.shape)\n",
    "#         sq = sq+increment\n",
    "\n",
    "#     return sq"
   ]
  },
  {
   "cell_type": "code",
   "execution_count": null,
   "id": "99d78a0a-68da-48c2-a2dc-5cc47353c4e2",
   "metadata": {},
   "outputs": [],
   "source": [
    "# pos = np.load(fibrilsPath.joinpath('dtotal188.63_length1000_flex0p01_idx1/flex_cylinder_num0.npy'))\n",
    "# qs = np.loadtxt(expPath)[:,0]\n",
    "# ints = sq_vec(pos, qs)\n",
    "# ints"
   ]
  },
  {
   "cell_type": "code",
   "execution_count": null,
   "id": "fc44da0d-a092-47ac-a09f-a9e2f3568c33",
   "metadata": {},
   "outputs": [],
   "source": [
    "# plt.loglog(qs, ints)\n",
    "# plt.show()"
   ]
  },
  {
   "cell_type": "markdown",
   "id": "fe57c91c-6a4b-47d3-b16c-f71b7451449d",
   "metadata": {},
   "source": [
    "### Build full point cloud with a single selected fibril"
   ]
  },
  {
   "cell_type": "code",
   "execution_count": null,
   "id": "0e406c9a-8092-4d04-98bc-0cd51689cf4c",
   "metadata": {},
   "outputs": [],
   "source": [
    "fibrilPath = notebookPath.joinpath('fibrils_for_andrew/nofuzz_fibril_oct23/dtotal400_length2000_flex0p0001_edens0p0001')\n",
    "fibril_npys = sorted(fibrilPath.glob('*.npy'))\n",
    "[f.name for f in fibril_npys]"
   ]
  },
  {
   "cell_type": "code",
   "execution_count": null,
   "id": "f4775e31-7221-4169-913d-c14e579e35fe",
   "metadata": {},
   "outputs": [],
   "source": [
    "# Add coordinates for each box, add to point cloud mesh immediately\n",
    "pc = o3d.geometry.PointCloud()\n",
    "\n",
    "# Load individual fibril (for now just placing this one everywhere... will be in loop when generating for each box)\n",
    "backbone_axs = np.load(fibril_npys[0])\n",
    "backbone_coords = np.load(fibril_npys[1])\n",
    "backbone_css = np.load(fibril_npys[2])\n",
    "fibril_points_arr = np.load(npys[3])[::5]\n",
    "\n",
    "# Shift along z so that its midpoint is at the origin\n",
    "zshift = np.zeros_like(fibril_points_arr)\n",
    "zshift[:,2] = backbone_coords[:,2].max() / 2\n",
    "fibril_points_arr = fibril_points_arr - zshift\n",
    "\n",
    "# Load RBD coords & XYZ euler rotations, specify how many boxes to fill\n",
    "RBD_coords = np.loadtxt(RBDs[-1]) * 10000 * 2 # convert um to Å\n",
    "RBD_XYZrots = np.loadtxt(RBDs[0])\n",
    "boxes_to_fill = -1  # -1 is all films\n",
    "for RBD_XYZrot, RBD_coord in tqdm(zip(RBD_XYZrots[:boxes_to_fill], RBD_coords[:boxes_to_fill]), total=len(RBD_XYZrots[:boxes_to_fill])):\n",
    "    # Apply euler rotation to each fibril and backbone axial pointers\n",
    "    # Apply pre rotation correction if necessary\n",
    "    r_pre_rotation = R.from_euler('y', 0, degrees=True)\n",
    "    pre_rotated_fibril = r_pre_rotation.apply(fibril_points_arr)\n",
    "    pre_rotated_bb_axs = r_pre_rotation.apply(backbone_axs)\n",
    "    pre_rotated_bb_coords = r_pre_rotation.apply(backbone_coords)\n",
    "    # Rotate corrected fibril orientation\n",
    "    r_RBD = R.from_euler(\"xyz\", RBD_XYZrot, degrees=True)\n",
    "    rotated_fibril = r_RBD.apply(pre_rotated_fibril)\n",
    "    rotated_backbone_axs = r_RBD.apply(pre_rotated_bb_axs)\n",
    "    rotated_backbone_coords = r_RBD.apply(pre_rotated_bb_coords)\n",
    "\n",
    "    # # Convert rotated backbone points to 2 Euler angles; PARALLEL to backbone (select backbone axial pointer)\n",
    "    # phi = np.rad2deg(np.arctan2(rotated_backbone_axs[:,0], rotated_backbone_axs[:,1]))\n",
    "    # theta = np.rad2deg(np.arccos(rotated_backbone_axs[:,2]))\n",
    "    # euler_ZY_rot = np.vstack((phi,theta)).T\n",
    "    # # Assign euler angle to each fibril point by its nearest backbone point:\n",
    "    # fibril_ZYrots = np.empty((0,2))\n",
    "    # for fibril_point in fibril_points_arr[:]:\n",
    "    #     backbone_displacements = backbone_coords - fibril_point\n",
    "    #     backbone_distances = np.sqrt(backbone_displacements[:,0]**2 + backbone_displacements[:,1]**2 + backbone_displacements[:,2]**2)\n",
    "    #     backbone_minimum_index = (backbone_distances == backbone_distances.min()).nonzero()[0][0]\n",
    "    \n",
    "    #     fibril_ZYrots = np.append(fibril_ZYrots, euler_ZY_rot[backbone_minimum_index].reshape(1,2), axis=0)\n",
    "\n",
    "    # Convert rotated backbone points to 2 Euler angles; PERPENDICULAR to backbone (extract euler angle for shortest pointer to backbone)\n",
    "    fibril_ZYrots = np.empty((0,2))\n",
    "    for fibril_point in rotated_fibril[:]:\n",
    "        backbone_displacements = rotated_backbone_coords - fibril_point\n",
    "        backbone_distances = np.sqrt(backbone_displacements[:,0]**2 + backbone_displacements[:,1]**2 + backbone_displacements[:,2]**2)\n",
    "        backbone_minimum_index = (backbone_distances == backbone_distances.min()).nonzero()[0][0]\n",
    "    \n",
    "        shortest_displacement = backbone_displacements[backbone_minimum_index]\n",
    "        shortest_displacement = shortest_displacement / shortest_displacement.max()  # make a unit vector\n",
    "        phi = np.rad2deg(np.arctan2(shortest_displacement[0], shortest_displacement[1]))\n",
    "        theta = np.rad2deg(np.arccos(shortest_displacement[2]))\n",
    "        euler_ZY_rot = np.vstack((phi,theta)).T\n",
    "    \n",
    "        fibril_ZYrots = np.append(fibril_ZYrots, euler_ZY_rot, axis=0)\n",
    "    \n",
    "    # Encode Euler angles into RGB values (set B=1, represent S)`\n",
    "    fibril_RGB_values = np.array([to_s0to1(fibril_ZYrots[:,0], min=-180, max=180),  # psi\n",
    "                                  to_s0to1(fibril_ZYrots[:,1], min=0, max=180),  # theta\n",
    "                                  np.ones((fibril_ZYrots[:,0].shape))]).T  # S (ones)\n",
    "    \n",
    "    # Move fibril coordinates to RBD location\n",
    "    moved_fibril = (rotated_fibril + RBD_coord) / 2  # divide by 2 just for now to undo scaling from before\n",
    "    # moved_fibril = (rotated_fibril + RBD_coord)  \n",
    "    # moved_fibril = (fibril_points_arr + RBD_coord)  \n",
    "    \n",
    "    # Add points and colors to point cloud\n",
    "    pc.points.extend(moved_fibril)\n",
    "    pc.colors.extend(fibril_RGB_values)"
   ]
  },
  {
   "cell_type": "code",
   "execution_count": null,
   "id": "865d1210-6df2-45ff-ab15-eb7c68aba8f9",
   "metadata": {},
   "outputs": [],
   "source": [
    "pc"
   ]
  },
  {
   "cell_type": "code",
   "execution_count": null,
   "id": "75c3dbbd-4b57-4fe2-a24c-c7ca8a01bf40",
   "metadata": {},
   "outputs": [],
   "source": [
    "o3d.visualization.EV.set(pc)"
   ]
  },
  {
   "cell_type": "code",
   "execution_count": null,
   "id": "46d4532e-5ce3-4a33-8a1b-0bff8fac3a36",
   "metadata": {},
   "outputs": [],
   "source": [
    "# o3d.io.write_point_cloud('testing.ply', pc)"
   ]
  },
  {
   "cell_type": "markdown",
   "id": "bd984eea-6b25-4cad-8bfc-51df10c82208",
   "metadata": {},
   "source": [
    "## Use open3D to voxelize point cloud"
   ]
  },
  {
   "cell_type": "code",
   "execution_count": null,
   "id": "4ea2ff0c-ea67-43ea-bf8d-ed207617b528",
   "metadata": {},
   "outputs": [],
   "source": [
    "# np.asarray(pc.points).max() / 1024"
   ]
  },
  {
   "cell_type": "code",
   "execution_count": null,
   "id": "548d5da3-5ae6-459a-8c1f-5fa59b0cda36",
   "metadata": {},
   "outputs": [],
   "source": [
    "1024*1024*128"
   ]
  },
  {
   "cell_type": "code",
   "execution_count": null,
   "id": "e7cde123-b5b0-4b01-997d-47454217e68f",
   "metadata": {},
   "outputs": [],
   "source": [
    "voxel_grid = o3d.geometry.VoxelGrid.create_from_point_cloud(pc, voxel_size=21.5)\n",
    "voxel_grid"
   ]
  },
  {
   "cell_type": "code",
   "execution_count": null,
   "id": "c199e081-af15-4af1-a103-441f920aafb1",
   "metadata": {},
   "outputs": [],
   "source": [
    "# visualize, will need to restart kernel after :O\n",
    "o3d.visualization.draw_geometries([voxel_grid])"
   ]
  },
  {
   "cell_type": "markdown",
   "id": "f7331253-118d-4002-a501-2dde19575064",
   "metadata": {},
   "source": [
    "### Save open3d voxel grid as binary .ply file"
   ]
  },
  {
   "cell_type": "code",
   "execution_count": null,
   "id": "2bd0e80f-ac12-4106-9b6f-c03ca9512f95",
   "metadata": {},
   "outputs": [],
   "source": [
    "savePath"
   ]
  },
  {
   "cell_type": "code",
   "execution_count": null,
   "id": "2bb4ad2a-9083-4f3c-a942-9e4dbd512e59",
   "metadata": {},
   "outputs": [],
   "source": [
    "# o3d.io.write_voxel_grid(str(savePath.joinpath('RBD01_perp2bb_voxel_grid_v2.ply')), voxel_grid)\n",
    "o3d.io.write_voxel_grid(str(savePath.joinpath('RBD03_perp2bb_voxel_grid_v1.ply')), voxel_grid)\n",
    "# o3d.io.write_voxel_grid(str(savePath.joinpath('RBD02_para2bb_voxel_grid_v1.ply')), voxel_grid)\n",
    "# o3d.io.write_voxel_grid(str(savePath.joinpath('RBD02_perp2bb_voxel_grid_v1.ply')), voxel_grid)"
   ]
  },
  {
   "cell_type": "code",
   "execution_count": null,
   "id": "6b0a4fed-0290-4186-9322-48ab0aed538f",
   "metadata": {},
   "outputs": [],
   "source": []
  },
  {
   "cell_type": "code",
   "execution_count": null,
   "id": "8c704b9f-bb71-46c9-a519-4e9c1288990a",
   "metadata": {},
   "outputs": [],
   "source": [
    "# Load saved file & check contents\n",
    "\n",
    "loaded_voxel_grid = o3d.io.read_voxel_grid(str(savePath.joinpath('RBD03_perp2bb_voxel_grid_v1.ply')))\n",
    "loaded_voxel_grid"
   ]
  },
  {
   "cell_type": "code",
   "execution_count": null,
   "id": "0d7e2cdd-e0d9-45bb-ac7c-bec885b1c7c3",
   "metadata": {},
   "outputs": [],
   "source": [
    "# Load saved file & check contents\n",
    "\n",
    "loaded_voxel_grid = o3d.io.read_voxel_grid(str(savePath.joinpath('RBD03_para2bb_voxel_grid_v1.ply')))\n",
    "loaded_voxel_grid"
   ]
  },
  {
   "cell_type": "code",
   "execution_count": null,
   "id": "2bb832cf-82a6-4d3a-85c9-6252ec740158",
   "metadata": {},
   "outputs": [],
   "source": [
    "# Convert voxel grid to list of voxels, with grid index & color\n",
    "\n",
    "voxels = voxel_grid.get_voxels()  # returns list of voxels\n",
    "# indices = np.stack(list(vx.grid_index for vx in voxels))\n",
    "# colors = np.stack(list(vx.color for vx in voxels))\n",
    "\n",
    "voxels"
   ]
  },
  {
   "cell_type": "code",
   "execution_count": null,
   "id": "df686e9d-2066-46ec-9f3c-5a159230e14a",
   "metadata": {},
   "outputs": [],
   "source": []
  }
 ],
 "metadata": {
  "kernelspec": {
   "display_name": "Python 3 (ipykernel)",
   "language": "python",
   "name": "python3"
  },
  "language_info": {
   "codemirror_mode": {
    "name": "ipython",
    "version": 3
   },
   "file_extension": ".py",
   "mimetype": "text/x-python",
   "name": "python",
   "nbconvert_exporter": "python",
   "pygments_lexer": "ipython3",
   "version": "3.11.9"
  }
 },
 "nbformat": 4,
 "nbformat_minor": 5
}
