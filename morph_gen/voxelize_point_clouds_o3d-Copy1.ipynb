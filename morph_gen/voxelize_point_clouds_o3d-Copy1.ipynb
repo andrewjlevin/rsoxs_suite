{
 "cells": [
  {
   "cell_type": "markdown",
   "id": "c674632f-6859-4283-87e2-c2ca82fbd5f3",
   "metadata": {},
   "source": [
    "# Voxelize fibril point clouds "
   ]
  },
  {
   "cell_type": "markdown",
   "id": "847dd7b3-bef3-4b86-aa6b-a977918941dc",
   "metadata": {},
   "source": [
    "## Imports & define paths & quick functions"
   ]
  },
  {
   "cell_type": "code",
   "execution_count": 1,
   "id": "ce0e138f-8f7a-4316-be67-353207d1d6c6",
   "metadata": {
    "tags": []
   },
   "outputs": [],
   "source": [
    "# Imports\n",
    "import pathlib\n",
    "import numpy as np\n",
    "import matplotlib.pyplot as plt\n",
    "import open3d as o3d\n",
    "from scipy.spatial.transform import Rotation as R\n",
    "from tqdm import tqdm\n",
    "\n",
    "# From script in same folder as notebook!\n",
    "from custom_fibril_gen.custom_fibril_gen_parallel_v1 import *"
   ]
  },
  {
   "cell_type": "code",
   "execution_count": 2,
   "id": "958c876d-11c6-4d67-b46c-a207ba26e91b",
   "metadata": {},
   "outputs": [],
   "source": [
    "# Define paths\n",
    "notebookPath = pathlib.Path.cwd()\n",
    "# RBDsPath = notebookPath.joinpath('blender_RBD_positions/RBD01_2.13umXY-0.1umZ-film_20nmXZ-100nmY-RBDs_300frames_0.1grav')\n",
    "# RBDsPath = notebookPath.joinpath('blender_RBD_positions/RBD02_40x200nmFibrils_2200x2200x275nmBox')\n",
    "# RBDsPath = notebookPath.joinpath('blender_RBD_positions/RBD03_20x100nmFibrils_2200x2200x136nmBox')\n",
    "RBDsPath = notebookPath.joinpath('blender_RBD_positions/RBD04_20-30-40nmD_200nmL_2200x2200x138nmBox')\n",
    "savePath = notebookPath.joinpath('open3d_outputs')\n",
    "\n",
    "fibrilsPath = notebookPath.joinpath('custom_fibril_gen', f'fixed_fibrils')"
   ]
  },
  {
   "cell_type": "code",
   "execution_count": 3,
   "id": "22db86e7-a0a2-4503-9c22-a5e27bacbcf9",
   "metadata": {},
   "outputs": [],
   "source": [
    "# Define simple functions\n",
    "def to_s0to1(value, min=-180, max=180):\n",
    "    \"\"\"Adjust a linear scale from min to max to fit between 0 and 1\"\"\"\n",
    "    shift = 0 - min\n",
    "    max = max + shift\n",
    "    return (value + shift) / max\n",
    "\n",
    "def from_s0to1(value, min=-180, max=180):\n",
    "    \"\"\"Inverse of 'to_s0to1': Adjust a linear scale 0 to 1 to an arbitrary linear scale between min and max\"\"\"\n",
    "    shift = 0 + min\n",
    "    max = max - shift\n",
    "    return (value * max) + shift"
   ]
  },
  {
   "cell_type": "markdown",
   "id": "5eb97a92-74c7-4367-8beb-b2284f1a49e6",
   "metadata": {},
   "source": [
    "## Use open3D to build and visualize a point cloud"
   ]
  },
  {
   "cell_type": "markdown",
   "id": "23fd770e-2365-40c4-9e8e-69d2b50daf5a",
   "metadata": {},
   "source": [
    "### Load RBD coords & XYZ euler rotations"
   ]
  },
  {
   "cell_type": "code",
   "execution_count": 4,
   "id": "33a310fa-5e20-46ce-a13c-cf16e14eb7f0",
   "metadata": {},
   "outputs": [
    {
     "data": {
      "text/plain": [
       "['XYZrot_arr_v1.txt', 'size_arr_v1.txt', 'xyz_arr_v1.txt']"
      ]
     },
     "execution_count": 4,
     "metadata": {},
     "output_type": "execute_result"
    }
   ],
   "source": [
    "RBDs = sorted(RBDsPath.glob('*.txt'))\n",
    "[f.name for f in RBDs]"
   ]
  },
  {
   "cell_type": "code",
   "execution_count": 5,
   "id": "dbcfd8de-7ccd-478e-88b9-fd78cddcc247",
   "metadata": {},
   "outputs": [],
   "source": [
    "# RBD_coords = np.loadtxt(RBDs[-1]) * 10000 * 2  # convert um to Å, scale by factor of 2 in this case\n",
    "RBD_XYZrots = np.loadtxt(RBDs[0])\n",
    "RBD_sizes = np.round(np.loadtxt(RBDs[1]), 2)\n",
    "RBD_coords = np.loadtxt(RBDs[2]) * 10000  # convert um to Å"
   ]
  },
  {
   "cell_type": "code",
   "execution_count": 6,
   "id": "0fdeef88-d2c3-4a9f-9556-85c1a41e26de",
   "metadata": {},
   "outputs": [
    {
     "data": {
      "text/plain": [
       "(1530, 3)"
      ]
     },
     "execution_count": 6,
     "metadata": {},
     "output_type": "execute_result"
    }
   ],
   "source": [
    "RBD_sizes[RBD_sizes[:,0]==0.02].shape"
   ]
  },
  {
   "cell_type": "code",
   "execution_count": 7,
   "id": "7846ab02-8f6b-48c8-a042-e1c3effcee0b",
   "metadata": {},
   "outputs": [
    {
     "data": {
      "text/plain": [
       "array([0.02, 0.03, 0.04, 0.2 ])"
      ]
     },
     "execution_count": 7,
     "metadata": {},
     "output_type": "execute_result"
    }
   ],
   "source": [
    "np.unique(RBD_sizes)"
   ]
  },
  {
   "cell_type": "code",
   "execution_count": 8,
   "id": "ea36a205-95f1-4439-88d0-8c2bbb67a068",
   "metadata": {},
   "outputs": [
    {
     "data": {
      "text/plain": [
       "(3629, 3)"
      ]
     },
     "execution_count": 8,
     "metadata": {},
     "output_type": "execute_result"
    }
   ],
   "source": [
    "RBD_XYZrots.shape"
   ]
  },
  {
   "cell_type": "markdown",
   "id": "c2d9a74f-6a0f-4681-9e5a-73d78b882e8c",
   "metadata": {},
   "source": [
    "### Generate & save a fibril folder for each RBD "
   ]
  },
  {
   "cell_type": "code",
   "execution_count": 12,
   "id": "342b3c93-fe79-4f65-9f41-d19d54fbeb19",
   "metadata": {
    "collapsed": true,
    "jupyter": {
     "outputs_hidden": true
    }
   },
   "outputs": [
    {
     "data": {
      "image/png": "[encoded data removed]",
      "text/plain": [
       "<Figure size 640x480 with 1 Axes>"
      ]
     },
     "metadata": {},
     "output_type": "display_data"
    }
   ],
   "source": [
    "# Diameter distribution\n",
    "targ_diam = 145  # diameter around which to pick a normal distribution in angstroms\n",
    "sigma = 1  # standard deviation about diameter above\n",
    "\n",
    "# Generate random distribution of diameters\n",
    "rng = np.random.default_rng()\n",
    "diams = rng.normal(loc=targ_diam, scale=sigma, size=100)\n",
    "diams = np.round(diams, 2)\n",
    "\n",
    "# Quick histogram check of distribution\n",
    "plt.hist(diams, bins=10)\n",
    "plt.show()"
   ]
  },
  {
   "cell_type": "code",
   "execution_count": null,
   "id": "fb921831-b36f-430d-9bc1-9a98f202cffe",
   "metadata": {},
   "outputs": [],
   "source": [
    "savepath"
   ]
  },
  {
   "cell_type": "code",
   "execution_count": 8,
   "id": "b5e6362e-4598-4249-a11b-76300c4e234e",
   "metadata": {},
   "outputs": [],
   "source": [
    "fibrilsPath = notebookPath.joinpath('custom_fibril_gen', f'fixed_fibrils')\n",
    "\n",
    "expPath = notebookPath.joinpath('custom_fibril_gen', 'PM6_CF_sol636_buf635_emp614.txt')"
   ]
  },
  {
   "cell_type": "code",
   "execution_count": 13,
   "id": "69ca82f9-d567-4834-97f7-bb3eaa0735c9",
   "metadata": {},
   "outputs": [
    {
     "name": "stderr",
     "output_type": "stream",
     "text": [
      "100%|████████████████████████████████████████████████████████████████████████████████████████████████████████████████████| 3/3 [38:49<00:00, 776.56s/it]\n"
     ]
    }
   ],
   "source": [
    "# Generate fibril folders:\n",
    "# fibrilsPath = notebookPath.joinpath('custom_fibril_gen', 'fibril_distributions', f'RBD04_diam{targ_diam}sigma{sigma}_v1')\n",
    "fibrilsPath = notebookPath.joinpath('custom_fibril_gen', f'fixed_fibrils')\n",
    "\n",
    "expPath = notebookPath.joinpath('custom_fibril_gen', 'PM6_CF_sol636_buf635_emp614.txt')\n",
    "\n",
    "savepath = str(fibrilsPath)\n",
    "exp_path = str(expPath)\n",
    "\n",
    "num_fibrils = 1\n",
    "length = 2000\n",
    "flex = 1e-4\n",
    "e_dense = 0.0001  # 1 electron per 21.5x21.5x21.5 Å box -> 0.0001006\n",
    "fuzz_length = 0\n",
    "fuzz_density = 0\n",
    "q_norm_idx = 9\n",
    "\n",
    "flexes_dict = {0.05:'0p05', 0.01:'0p01',0.005:'0p005', 0.001:'0p001', 0.0001:'0p0001'}\n",
    "dens_dict = {0.0001:'0p0001', 0.01:'0p01'}\n",
    "# for i, diam in enumerate(tqdm(diams)):\n",
    "#     for flex in flexes:\n",
    "#         flex_label = flexes_dict[flex]\n",
    "#         dens_label = dens_dict[e_dense]\n",
    "#         test_fibril_scattering_par(\n",
    "#             num_fibrils,length,diam,flex,e_dense,exp_path,\n",
    "#             savepath + f'/dtotal{diam}_length{length}_flex{flex_label}_edens{dens_label}_idx{i}/'\n",
    "#             )\n",
    "\n",
    "diams = [200, 300, 400]\n",
    "for i, diam in enumerate(tqdm(diams)):\n",
    "    flex_label = flexes_dict[flex]\n",
    "    test_fibril_scattering_par(\n",
    "        num_fibrils, length, diam, flex, e_dense, fuzz_density, fuzz_length, q_norm_idx, exp_path,\n",
    "        savepath + f'/dtotal{diam}_length{length}_flex{flex_label}_idx{i}/'\n",
    "        )"
   ]
  },
  {
   "cell_type": "code",
   "execution_count": null,
   "id": "dcf27bcc-6156-40fd-b83d-645acd76c313",
   "metadata": {},
   "outputs": [],
   "source": [
    "# def sq_vec(pos,qs):\n",
    "#     '''\n",
    "#     Calculates the scattering profile using the debye equation. \n",
    "\n",
    "#     Input\n",
    "#       pos = scatterer positions in 3D cartesian coordinates (nx3 array)\n",
    "#       qs = list of q values to evaluate scattering intensity at\n",
    "#     '''\n",
    "#     ### initialize sq array for same length of q-range\n",
    "#     nbins = len(qs)\n",
    "#     sq = np.zeros((nbins))\n",
    "#     ### number of atoms in fibril to be simulated\n",
    "#     natoms = len(pos)\n",
    "#     ### calculate contribution to scattering for each pair of atom\n",
    "#     for i in tqdm(range(natoms)):\n",
    "#         ### find displacements from current points to all subsequent points\n",
    "#         ### prevents double counting of displacements\n",
    "#         all_disp = pos[i,:]-pos[(i+1):,:]\n",
    "        \n",
    "#         ### calculate the distance from displacement vector ###\n",
    "#         rij = np.sqrt(np.sum(np.square(all_disp),axis=1))\n",
    "\n",
    "#         #create array of q vectors and radiuses\n",
    "#         qi = qs[np.newaxis,:]\n",
    "#         R = rij[:,np.newaxis]\n",
    "#         ### add scattering intensity contribution for given pair of atoms\n",
    "#         increment = np.sum(ne.evaluate(\"2*sin(R*qi)/(R*qi)\"),axis=0)\n",
    "#         print(increment.shape)\n",
    "#         sq = sq+increment\n",
    "\n",
    "#     return sq"
   ]
  },
  {
   "cell_type": "code",
   "execution_count": null,
   "id": "99d78a0a-68da-48c2-a2dc-5cc47353c4e2",
   "metadata": {},
   "outputs": [],
   "source": [
    "# pos = np.load(fibrilsPath.joinpath('dtotal188.63_length1000_flex0p01_idx1/flex_cylinder_num0.npy'))\n",
    "# qs = np.loadtxt(expPath)[:,0]\n",
    "# ints = sq_vec(pos, qs)\n",
    "# ints"
   ]
  },
  {
   "cell_type": "code",
   "execution_count": null,
   "id": "fc44da0d-a092-47ac-a09f-a9e2f3568c33",
   "metadata": {},
   "outputs": [],
   "source": [
    "# plt.loglog(qs, ints)\n",
    "# plt.show()"
   ]
  },
  {
   "cell_type": "markdown",
   "id": "fe57c91c-6a4b-47d3-b16c-f71b7451449d",
   "metadata": {},
   "source": [
    "### Build full point cloud with a single selected fibril"
   ]
  },
  {
   "cell_type": "code",
   "execution_count": 9,
   "id": "1886fccd-26d7-486f-acd3-e84818024747",
   "metadata": {},
   "outputs": [
    {
     "data": {
      "text/plain": [
       "PosixPath('/Users/andrew/Library/CloudStorage/OneDrive-UCB-O365/research/data_analysis/rsoxs_suite/morph_gen/custom_fibril_gen/fixed_fibrils')"
      ]
     },
     "execution_count": 9,
     "metadata": {},
     "output_type": "execute_result"
    }
   ],
   "source": [
    "fibrilsPath"
   ]
  },
  {
   "cell_type": "code",
   "execution_count": 10,
   "id": "50f65006-9b15-447f-b26c-6dd7f4a363f5",
   "metadata": {},
   "outputs": [
    {
     "name": "stdout",
     "output_type": "stream",
     "text": [
      "0 dtotal200_length2000_flex0p0001_idx0\n",
      "1 dtotal200_length500_flex0p0001_idx0\n",
      "2 dtotal300_length2000_flex0p0001_idx1\n",
      "3 dtotal400_length2000_flex0p0001_idx2\n"
     ]
    }
   ],
   "source": [
    "fibril_paths = sorted(fibrilsPath.glob('dtotal*'))\n",
    "for i, fibril_path in enumerate(fibril_paths):\n",
    "    print(i, fibril_path.name)"
   ]
  },
  {
   "cell_type": "code",
   "execution_count": 11,
   "id": "d9b1dc05-2868-4d58-b903-eced95810a00",
   "metadata": {},
   "outputs": [
    {
     "data": {
      "text/plain": [
       "True"
      ]
     },
     "execution_count": 11,
     "metadata": {},
     "output_type": "execute_result"
    }
   ],
   "source": [
    "RBD_sizes[:2][0][0] == 0.04"
   ]
  },
  {
   "cell_type": "code",
   "execution_count": null,
   "id": "0e406c9a-8092-4d04-98bc-0cd51689cf4c",
   "metadata": {},
   "outputs": [],
   "source": [
    "# fibrilPath = notebookPath.joinpath('fibrils_for_andrew/nofuzz_fibril_oct23/dtotal400_length2000_flex0p0001_edens0p0001')\n",
    "# fibril_npys = sorted(fibrilPath.glob('*.npy'))\n",
    "# [f.name for f in fibril_npys]"
   ]
  },
  {
   "cell_type": "code",
   "execution_count": 12,
   "id": "a9ec659b-88e0-4654-92ab-85116658545c",
   "metadata": {},
   "outputs": [],
   "source": [
    "def load_fibril(fibril_path, skip_step=1, shift=True):\n",
    "\n",
    "    fibril_npys = sorted(fibril_path.glob('*.npy'))\n",
    "    \n",
    "    # Load individual fibril (for now just placing this one everywhere... will be in loop when generating for each box)\n",
    "    backbone_axs = np.load(fibril_npys[0])\n",
    "    backbone_coords = np.load(fibril_npys[1])\n",
    "    backbone_css = np.load(fibril_npys[2])\n",
    "    fibril_points_arr = np.load(fibril_npys[3])[::skip_step]  \n",
    "\n",
    "    if shift==True:\n",
    "        # Shift along z so that its midpoint is at the origin\n",
    "        zshift = np.zeros_like(fibril_points_arr)\n",
    "        zshift[:,2] = backbone_coords[:,2].max() / 2\n",
    "        fibril_points_arr = fibril_points_arr - zshift\n",
    "\n",
    "    return backbone_axs, backbone_coords, backbone_css, fibril_points_arr"
   ]
  },
  {
   "cell_type": "code",
   "execution_count": 13,
   "id": "b53888e1-2d64-451d-9139-b8617f247754",
   "metadata": {},
   "outputs": [
    {
     "name": "stdout",
     "output_type": "stream",
     "text": [
      "0 dtotal200_length2000_flex0p0001_idx0\n",
      "1 dtotal300_length2000_flex0p0001_idx1\n",
      "2 dtotal400_length2000_flex0p0001_idx2\n"
     ]
    }
   ],
   "source": [
    "selected_fibrils = np.array(fibril_paths)[[0, 2, 3]]\n",
    "for i, fibril_path in enumerate(selected_fibrils):\n",
    "    print(i, fibril_path.name)"
   ]
  },
  {
   "cell_type": "code",
   "execution_count": 14,
   "id": "f4775e31-7221-4169-913d-c14e579e35fe",
   "metadata": {},
   "outputs": [
    {
     "name": "stderr",
     "output_type": "stream",
     "text": [
      "  0%|                                                                                                                          | 0/3628 [00:00<?, ?it/s]/var/folders/m1/v62q73kx1ylgb2vpydrxbyy40000gn/T/ipykernel_69845/3236461233.py:57: RuntimeWarning: invalid value encountered in arccos\n",
      "  theta = np.rad2deg(np.arccos(shortest_displacement[2]))\n",
      " 22%|████████████████████████                                                                                      | 792/3628 [18:23<1:05:52,  1.39s/it]\n"
     ]
    },
    {
     "ename": "KeyboardInterrupt",
     "evalue": "",
     "output_type": "error",
     "traceback": [
      "\u001b[0;31m---------------------------------------------------------------------------\u001b[0m",
      "\u001b[0;31mKeyboardInterrupt\u001b[0m                         Traceback (most recent call last)",
      "Cell \u001b[0;32mIn[14], line 17\u001b[0m\n\u001b[1;32m     15\u001b[0m     backbone_axs, backbone_coords, backbone_css, fibril_points_arr \u001b[38;5;241m=\u001b[39m load_fibril(selected_fibrils[\u001b[38;5;241m1\u001b[39m], skip_step\u001b[38;5;241m=\u001b[39m\u001b[38;5;241m1\u001b[39m)\n\u001b[1;32m     16\u001b[0m \u001b[38;5;28;01melif\u001b[39;00m RBD_size[\u001b[38;5;241m0\u001b[39m]\u001b[38;5;241m==\u001b[39m\u001b[38;5;241m0.04\u001b[39m:\n\u001b[0;32m---> 17\u001b[0m     backbone_axs, backbone_coords, backbone_css, fibril_points_arr \u001b[38;5;241m=\u001b[39m load_fibril(selected_fibrils[\u001b[38;5;241m2\u001b[39m], skip_step\u001b[38;5;241m=\u001b[39m\u001b[38;5;241m1\u001b[39m)\n\u001b[1;32m     18\u001b[0m \u001b[38;5;28;01melse\u001b[39;00m:\n\u001b[1;32m     19\u001b[0m     \u001b[38;5;28mprint\u001b[39m(\u001b[38;5;124m'\u001b[39m\u001b[38;5;124mno matchin fibrils to load\u001b[39m\u001b[38;5;124m'\u001b[39m)\n",
      "Cell \u001b[0;32mIn[12], line 3\u001b[0m, in \u001b[0;36mload_fibril\u001b[0;34m(fibril_path, skip_step, shift)\u001b[0m\n\u001b[1;32m      1\u001b[0m \u001b[38;5;28;01mdef\u001b[39;00m \u001b[38;5;21mload_fibril\u001b[39m(fibril_path, skip_step\u001b[38;5;241m=\u001b[39m\u001b[38;5;241m1\u001b[39m, shift\u001b[38;5;241m=\u001b[39m\u001b[38;5;28;01mTrue\u001b[39;00m):\n\u001b[0;32m----> 3\u001b[0m     fibril_npys \u001b[38;5;241m=\u001b[39m \u001b[38;5;28msorted\u001b[39m(fibril_path\u001b[38;5;241m.\u001b[39mglob(\u001b[38;5;124m'\u001b[39m\u001b[38;5;124m*.npy\u001b[39m\u001b[38;5;124m'\u001b[39m))\n\u001b[1;32m      5\u001b[0m     \u001b[38;5;66;03m# Load individual fibril (for now just placing this one everywhere... will be in loop when generating for each box)\u001b[39;00m\n\u001b[1;32m      6\u001b[0m     backbone_axs \u001b[38;5;241m=\u001b[39m np\u001b[38;5;241m.\u001b[39mload(fibril_npys[\u001b[38;5;241m0\u001b[39m])\n",
      "File \u001b[0;32m~/conda_install/envs/o3d/lib/python3.11/pathlib.py:953\u001b[0m, in \u001b[0;36mPath.glob\u001b[0;34m(self, pattern)\u001b[0m\n\u001b[1;32m    951\u001b[0m     pattern_parts\u001b[38;5;241m.\u001b[39mappend(\u001b[38;5;124m'\u001b[39m\u001b[38;5;124m'\u001b[39m)\n\u001b[1;32m    952\u001b[0m selector \u001b[38;5;241m=\u001b[39m _make_selector(\u001b[38;5;28mtuple\u001b[39m(pattern_parts), \u001b[38;5;28mself\u001b[39m\u001b[38;5;241m.\u001b[39m_flavour)\n\u001b[0;32m--> 953\u001b[0m \u001b[38;5;28;01mfor\u001b[39;00m p \u001b[38;5;129;01min\u001b[39;00m selector\u001b[38;5;241m.\u001b[39mselect_from(\u001b[38;5;28mself\u001b[39m):\n\u001b[1;32m    954\u001b[0m     \u001b[38;5;28;01myield\u001b[39;00m p\n",
      "File \u001b[0;32m~/conda_install/envs/o3d/lib/python3.11/pathlib.py:356\u001b[0m, in \u001b[0;36m_WildcardSelector._select_from\u001b[0;34m(self, parent_path, is_dir, exists, scandir)\u001b[0m\n\u001b[1;32m    354\u001b[0m \u001b[38;5;28;01mtry\u001b[39;00m:\n\u001b[1;32m    355\u001b[0m     \u001b[38;5;28;01mwith\u001b[39;00m scandir(parent_path) \u001b[38;5;28;01mas\u001b[39;00m scandir_it:\n\u001b[0;32m--> 356\u001b[0m         entries \u001b[38;5;241m=\u001b[39m \u001b[38;5;28mlist\u001b[39m(scandir_it)\n\u001b[1;32m    357\u001b[0m     \u001b[38;5;28;01mfor\u001b[39;00m entry \u001b[38;5;129;01min\u001b[39;00m entries:\n\u001b[1;32m    358\u001b[0m         \u001b[38;5;28;01mif\u001b[39;00m \u001b[38;5;28mself\u001b[39m\u001b[38;5;241m.\u001b[39mdironly:\n",
      "\u001b[0;31mKeyboardInterrupt\u001b[0m: "
     ]
    }
   ],
   "source": [
    "# Add coordinates for each box, add to point cloud mesh immediately\n",
    "pc = o3d.geometry.PointCloud()\n",
    "\n",
    "# Load RBD coords & XYZ euler rotations, specify how many boxes to fill\n",
    "RBD_XYZrots = np.loadtxt(RBDs[0])\n",
    "RBD_sizes = np.round(np.loadtxt(RBDs[1]), 2)\n",
    "RBD_coords = np.loadtxt(RBDs[2]) * 10000  # convert um to Å\n",
    "\n",
    "boxes_to_fill = -1  # -1 is all films\n",
    "for RBD_XYZrot, RBD_coord, RBD_size in tqdm(zip(RBD_XYZrots[:boxes_to_fill], RBD_coords[:boxes_to_fill], RBD_sizes[:boxes_to_fill]), total=len(RBD_XYZrots[:boxes_to_fill])):\n",
    "    # Load correct fibril:\n",
    "    if RBD_size[0]==0.02:\n",
    "        backbone_axs, backbone_coords, backbone_css, fibril_points_arr = load_fibril(selected_fibrils[0], skip_step=1)\n",
    "    elif RBD_size[0]==0.03:\n",
    "        backbone_axs, backbone_coords, backbone_css, fibril_points_arr = load_fibril(selected_fibrils[1], skip_step=1)\n",
    "    elif RBD_size[0]==0.04:\n",
    "        backbone_axs, backbone_coords, backbone_css, fibril_points_arr = load_fibril(selected_fibrils[2], skip_step=1)\n",
    "    else:\n",
    "        print('no matchin fibrils to load')\n",
    "        break\n",
    "    \n",
    "    # Apply euler rotation to each fibril and backbone axial pointers\n",
    "    # Apply pre rotation correction if necessary\n",
    "    r_pre_rotation = R.from_euler('y', 0, degrees=True)\n",
    "    pre_rotated_fibril = r_pre_rotation.apply(fibril_points_arr)\n",
    "    pre_rotated_bb_axs = r_pre_rotation.apply(backbone_axs)\n",
    "    pre_rotated_bb_coords = r_pre_rotation.apply(backbone_coords)\n",
    "    # Rotate corrected fibril orientation\n",
    "    r_RBD = R.from_euler(\"xyz\", RBD_XYZrot, degrees=True)\n",
    "    rotated_fibril = r_RBD.apply(pre_rotated_fibril)\n",
    "    rotated_backbone_axs = r_RBD.apply(pre_rotated_bb_axs)\n",
    "    rotated_backbone_coords = r_RBD.apply(pre_rotated_bb_coords)\n",
    "    \n",
    "    # # Convert rotated backbone points to 2 Euler angles; PARALLEL to backbone (select backbone axial pointer)\n",
    "    # phi = np.rad2deg(np.arctan2(rotated_backbone_axs[:,0], rotated_backbone_axs[:,1]))\n",
    "    # theta = np.rad2deg(np.arccos(rotated_backbone_axs[:,2]))\n",
    "    # euler_ZY_rot = np.vstack((phi,theta)).T\n",
    "    # # Assign euler angle to each fibril point by its nearest backbone point:\n",
    "    # fibril_ZYrots = np.empty((0,2))\n",
    "    # for fibril_point in fibril_points_arr[:]:\n",
    "    #     backbone_displacements = backbone_coords - fibril_point\n",
    "    #     backbone_distances = np.sqrt(backbone_displacements[:,0]**2 + backbone_displacements[:,1]**2 + backbone_displacements[:,2]**2)\n",
    "    #     backbone_minimum_index = (backbone_distances == backbone_distances.min()).nonzero()[0][0]\n",
    "    \n",
    "    #     fibril_ZYrots = np.append(fibril_ZYrots, euler_ZY_rot[backbone_minimum_index].reshape(1,2), axis=0)\n",
    "        \n",
    "    # Convert rotated backbone points to 2 Euler angles; PERPENDICULAR to backbone (extract euler angle for shortest pointer to backbone)\n",
    "    fibril_ZYrots = np.empty((0,2))\n",
    "    for fibril_point in rotated_fibril[:]:\n",
    "        backbone_displacements = rotated_backbone_coords - fibril_point\n",
    "        backbone_distances = np.sqrt(backbone_displacements[:,0]**2 + backbone_displacements[:,1]**2 + backbone_displacements[:,2]**2)\n",
    "        backbone_minimum_index = (backbone_distances == backbone_distances.min()).nonzero()[0][0]\n",
    "    \n",
    "        shortest_displacement = backbone_displacements[backbone_minimum_index]\n",
    "        shortest_displacement = shortest_displacement / shortest_displacement.max()  # make a unit vector\n",
    "        phi = np.rad2deg(np.arctan2(shortest_displacement[0], shortest_displacement[1]))\n",
    "        theta = np.rad2deg(np.arccos(shortest_displacement[2]))\n",
    "        euler_ZY_rot = np.vstack((phi,theta)).T\n",
    "    \n",
    "        fibril_ZYrots = np.append(fibril_ZYrots, euler_ZY_rot, axis=0)\n",
    "    \n",
    "    # Encode Euler angles into RGB values (set B=1, represent S)`\n",
    "    fibril_RGB_values = np.array([to_s0to1(fibril_ZYrots[:,0], min=-180, max=180),  # psi\n",
    "                                  to_s0to1(fibril_ZYrots[:,1], min=0, max=180),  # theta\n",
    "                                  np.ones((fibril_ZYrots[:,0].shape))]).T  # S (ones)\n",
    "    \n",
    "    # Move fibril coordinates to RBD location\n",
    "    # moved_fibril = (rotated_fibril + RBD_coord) / 2  # divide by 2 just for now to undo scaling from before\n",
    "    moved_fibril = (rotated_fibril + RBD_coord)  \n",
    "    # moved_fibril = (fibril_points_arr + RBD_coord)  \n",
    "    \n",
    "    # Add points and colors to point cloud\n",
    "    pc.points.extend(moved_fibril)\n",
    "    pc.colors.extend(fibril_RGB_values)"
   ]
  },
  {
   "cell_type": "code",
   "execution_count": 44,
   "id": "865d1210-6df2-45ff-ab15-eb7c68aba8f9",
   "metadata": {},
   "outputs": [
    {
     "data": {
      "text/plain": [
       "PointCloud with 985991 points."
      ]
     },
     "execution_count": 44,
     "metadata": {},
     "output_type": "execute_result"
    }
   ],
   "source": [
    "pc"
   ]
  },
  {
   "cell_type": "code",
   "execution_count": null,
   "id": "6ec0bc9a-773c-4853-9a89-483b80250852",
   "metadata": {},
   "outputs": [],
   "source": [
    "# o3d.visualization.draw_geometries([pc])"
   ]
  },
  {
   "cell_type": "code",
   "execution_count": 45,
   "id": "75c3dbbd-4b57-4fe2-a24c-c7ca8a01bf40",
   "metadata": {},
   "outputs": [
    {
     "data": {
      "text/plain": [
       "True"
      ]
     },
     "execution_count": 45,
     "metadata": {},
     "output_type": "execute_result"
    }
   ],
   "source": [
    "o3d.visualization.EV.set(pc)"
   ]
  },
  {
   "cell_type": "code",
   "execution_count": null,
   "id": "46d4532e-5ce3-4a33-8a1b-0bff8fac3a36",
   "metadata": {},
   "outputs": [],
   "source": [
    "# o3d.io.write_point_cloud('testing.ply', pc)"
   ]
  },
  {
   "cell_type": "markdown",
   "id": "bd984eea-6b25-4cad-8bfc-51df10c82208",
   "metadata": {},
   "source": [
    "## Use open3D to voxelize point cloud"
   ]
  },
  {
   "cell_type": "code",
   "execution_count": null,
   "id": "4ea2ff0c-ea67-43ea-bf8d-ed207617b528",
   "metadata": {},
   "outputs": [],
   "source": [
    "# np.asarray(pc.points).max() / 1024"
   ]
  },
  {
   "cell_type": "code",
   "execution_count": null,
   "id": "548d5da3-5ae6-459a-8c1f-5fa59b0cda36",
   "metadata": {},
   "outputs": [],
   "source": [
    "1024*1024*128"
   ]
  },
  {
   "cell_type": "code",
   "execution_count": null,
   "id": "e7cde123-b5b0-4b01-997d-47454217e68f",
   "metadata": {},
   "outputs": [],
   "source": [
    "voxel_grid = o3d.geometry.VoxelGrid.create_from_point_cloud(pc, voxel_size=21.5)\n",
    "voxel_grid"
   ]
  },
  {
   "cell_type": "code",
   "execution_count": null,
   "id": "c199e081-af15-4af1-a103-441f920aafb1",
   "metadata": {},
   "outputs": [],
   "source": [
    "# visualize, will need to restart kernel after :O\n",
    "o3d.visualization.draw_geometries([voxel_grid])"
   ]
  },
  {
   "cell_type": "markdown",
   "id": "f7331253-118d-4002-a501-2dde19575064",
   "metadata": {},
   "source": [
    "### Save open3d voxel grid as binary .ply file"
   ]
  },
  {
   "cell_type": "code",
   "execution_count": null,
   "id": "2bd0e80f-ac12-4106-9b6f-c03ca9512f95",
   "metadata": {},
   "outputs": [],
   "source": [
    "savePath"
   ]
  },
  {
   "cell_type": "code",
   "execution_count": null,
   "id": "2bb4ad2a-9083-4f3c-a942-9e4dbd512e59",
   "metadata": {},
   "outputs": [],
   "source": [
    "# o3d.io.write_voxel_grid(str(savePath.joinpath('RBD01_perp2bb_voxel_grid_v2.ply')), voxel_grid)\n",
    "# o3d.io.write_voxel_grid(str(savePath.joinpath('RBD03_perp2bb_voxel_grid_v1.ply')), voxel_grid)\n",
    "\n",
    "o3d.io.write_voxel_grid(str(savePath.joinpath('RBD04_voxelgrid_perp2bb_fixedfibrils_v1.ply')), voxel_grid)\n",
    "\n",
    "# o3d.io.write_voxel_grid(str(savePath.joinpath('RBD02_para2bb_voxel_grid_v1.ply')), voxel_grid)\n",
    "# o3d.io.write_voxel_grid(str(savePath.joinpath('RBD02_perp2bb_voxel_grid_v1.ply')), voxel_grid)"
   ]
  },
  {
   "cell_type": "code",
   "execution_count": null,
   "id": "6b0a4fed-0290-4186-9322-48ab0aed538f",
   "metadata": {},
   "outputs": [],
   "source": []
  },
  {
   "cell_type": "code",
   "execution_count": null,
   "id": "8c704b9f-bb71-46c9-a519-4e9c1288990a",
   "metadata": {},
   "outputs": [],
   "source": [
    "# Load saved file & check contents\n",
    "\n",
    "loaded_voxel_grid = o3d.io.read_voxel_grid(str(savePath.joinpath('RBD03_perp2bb_voxel_grid_v1.ply')))\n",
    "loaded_voxel_grid"
   ]
  },
  {
   "cell_type": "code",
   "execution_count": null,
   "id": "0d7e2cdd-e0d9-45bb-ac7c-bec885b1c7c3",
   "metadata": {},
   "outputs": [],
   "source": [
    "# Load saved file & check contents\n",
    "\n",
    "loaded_voxel_grid = o3d.io.read_voxel_grid(str(savePath.joinpath('RBD03_para2bb_voxel_grid_v1.ply')))\n",
    "loaded_voxel_grid"
   ]
  },
  {
   "cell_type": "code",
   "execution_count": null,
   "id": "2bb832cf-82a6-4d3a-85c9-6252ec740158",
   "metadata": {},
   "outputs": [],
   "source": [
    "# Convert voxel grid to list of voxels, with grid index & color\n",
    "\n",
    "voxels = voxel_grid.get_voxels()  # returns list of voxels\n",
    "# indices = np.stack(list(vx.grid_index for vx in voxels))\n",
    "# colors = np.stack(list(vx.color for vx in voxels))\n",
    "\n",
    "voxels"
   ]
  },
  {
   "cell_type": "code",
   "execution_count": null,
   "id": "df686e9d-2066-46ec-9f3c-5a159230e14a",
   "metadata": {},
   "outputs": [],
   "source": []
  }
 ],
 "metadata": {
  "kernelspec": {
   "display_name": "Python 3 (ipykernel)",
   "language": "python",
   "name": "python3"
  },
  "language_info": {
   "codemirror_mode": {
    "name": "ipython",
    "version": 3
   },
   "file_extension": ".py",
   "mimetype": "text/x-python",
   "name": "python",
   "nbconvert_exporter": "python",
   "pygments_lexer": "ipython3",
   "version": "3.11.9"
  }
 },
 "nbformat": 4,
 "nbformat_minor": 5
}
